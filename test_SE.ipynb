{
 "cells": [
  {
   "cell_type": "code",
   "execution_count": null,
   "id": "0",
   "metadata": {},
   "outputs": [],
   "source": [
    "import pandas as pd\n",
    "import json\n",
    "import numpy as np\n",
    "import matplotlib as mpl\n",
    "import matplotlib.animation as animation\n",
    "from IPython.display import HTML\n",
    "from IPython import display\n",
    "import importlib\n",
    "import os\n",
    "import matplotlib.pyplot as plt\n",
    "from PIL import Image\n",
    "from PARAMETER_INPUT import *\n",
    "from PARAMETER_INPUT import _lambda, _theta, _eta\n",
    "# import edward_tools.create_cfqr as create_cfqr\n",
    "U0_kBT_ratio = U0_1/k_BT\n",
    "rc_dict = {'font.size':16, 'axes.labelsize':'large', 'ytick.right':False,'legend.loc':'upper right', 'legend.fontsize':'xx-small', 'figure.autolayout':True, 'figure.figsize': (10,10), 'mathtext.fontset':'stix', 'font.family':'STIXGeneral'}\n",
    "\n",
    "\n",
    "mpl.rcParams.update(rc_dict)\n"
   ]
  },
  {
   "cell_type": "code",
   "execution_count": null,
   "id": "1",
   "metadata": {},
   "outputs": [],
   "source": [
    "# df['simulation_id'] = [x['simulation_id'] for x in df['simulation_data'].values]"
   ]
  },
  {
   "cell_type": "code",
   "execution_count": null,
   "id": "2",
   "metadata": {},
   "outputs": [],
   "source": [
    "# df.to_json(\"coupled_flux_qubit_protocol/coupled_flux_qubit_data_gallery/gallery.json\")"
   ]
  },
  {
   "cell_type": "code",
   "execution_count": null,
   "id": "3",
   "metadata": {},
   "outputs": [],
   "source": []
  },
  {
   "cell_type": "code",
   "execution_count": null,
   "id": "4",
   "metadata": {},
   "outputs": [],
   "source": [
    "def getSimulationID(df):\n",
    "    return [item[\"simulation_id\"] for item in df[\"simulation_data\"]] \n",
    "\n",
    "def getDataByComment(df, identifier):\n",
    "    target = df[df[\"comment\"].str.find(identifier) == 0]\n",
    "    return target\n",
    "\n",
    "def getDataByField(df, field):\n",
    "    return list(target[field])\n",
    "\n",
    "\n",
    "def showGraph(sim_id):\n",
    "    work_distribution_img = Image.open(f\"coupled_flux_qubit_protocol/coupled_flux_qubit_data_gallery/{sim_id}_work_distribution.png\")\n",
    "    work_distribution_data = np.load(f\"coupled_flux_qubit_protocol/coupled_flux_qubit_data_gallery/{sim_id}_work_distribution.npy\")\n",
    "    work_statistic_img = Image.open(f\"coupled_flux_qubit_protocol/coupled_flux_qubit_data_gallery/{sim_id}_work_statistic.png\")\n",
    "    work_statistic_data = np.load(f\"coupled_flux_qubit_protocol/coupled_flux_qubit_data_gallery/{sim_id}_work_statistic.npy\")\n",
    "    display(work_distribution_img)\n",
    "    display(work_statistic_img)\n",
    "    # work_distribution_img.show()\n",
    "    print(sim_id)\n",
    "    return work_distribution_data, work_statistic_data\n",
    "\n",
    "def getSimulationWorkStatistics(df, sim_id, folderPath = \"coupled_flux_qubit_protocol/coupled_flux_qubit_data_gallery\"):\n",
    "    \"\"\"\n",
    "    'params', 'initial_parameter_dict', 'protocol_list_item',\n",
    "       'simulation_data', 'circuit_parameters', 'sim_params', 'jarzynski_term',\n",
    "       'mean_work', 'fidelity', 'keyStep_work_statistic',\n",
    "       'fidleity_time_array', 'target_step_index_info', 'comment', 'script',\n",
    "       'simulation_id'\n",
    "    \"\"\"\n",
    "    \n",
    "    target = getDataByID(df, sim_id)\n",
    "    dt = list(target['params'])[0][\"dt\"]\n",
    "    N =  list(target['params'])[0][\"N\"]\n",
    "    \n",
    "    work_distribution_data = np.load(f\"{folderPath}/{sim_id}_work_distribution.npy\")\n",
    "    work_statistic_data = np.load(f\"{folderPath}/{sim_id}_work_statistic.npy\")\n",
    "    fidelity_time_array = np.load(f\"{folderPath}/{sim_id}_fidelity_time_array.npy\")\n",
    "    jarzyn_term = np.mean(np.exp(-work_distribution_data))\n",
    "    jarzyn_term_error = 3 * np.std(np.exp(-work_distribution_data)) / np.sqrt(N)\n",
    "    keyStep_work_statistic = target['keyStep_work_statistic'].values[0]\n",
    "    \n",
    "    target_step_index_info = list(target['target_step_index_info'])[0]\n",
    "    target_step_index = list(range(target_step_index_info['start'], target_step_index_info['end']+1, target_step_index_info['step']))\n",
    "\n",
    "    return {\n",
    "        \"work_distribution_data\": work_distribution_data,\n",
    "        \"work_statistic_data\": work_statistic_data,\n",
    "        \"fidelity_time_array\": fidelity_time_array,\n",
    "        \"target_time_index\": target_step_index,\n",
    "        \"keyStep_work_statistic\": keyStep_work_statistic, \n",
    "        \"N\": N, \"dt\": dt, \"mean_W\": np.mean(work_distribution_data), \"mean_W_error\": np.std(work_distribution_data) / np.sqrt(len(work_distribution_data)),\n",
    "        \"jarzyn_term\": jarzyn_term, \"jarzyn_term_error\": jarzyn_term_error\n",
    "    }\n",
    "\n",
    "def loadDataFrame(folderPath = \"coupled_flux_qubit_protocol/coupled_flux_qubit_data_gallery\"):\n",
    "    df = pd.read_json(f\"{folderPath}/gallery.json\")\n",
    "    df['simulation_id'] = [x['simulation_id'] for x in df['simulation_data'].values]\n",
    "    df['comment'] = [item['comment'] for item in df[\"params\"]]\n",
    "    return df\n",
    "\n",
    "\n",
    "def getDataByID(df, sim_id):\n",
    "    target = df[df[\"simulation_id\"] == sim_id]\n",
    "    return target\n",
    "\n",
    "\n",
    "def getFidelityTimeGraph(fidelity_time_array, target_step_index):\n",
    "    \"\"\"\n",
    "    trace the fidelity of the systems  at different time as 4 different plots\n",
    "    \"\"\"\n",
    "    metastable_state_array = [\"00\", \"01\", \"10\", \"11\"]\n",
    "    fidelity_time_array = np.array(fidelity_time_array, dtype = float)\n",
    "    \n",
    "    fig, ax = plt.subplots(2, 2, figsize = [10, 9])\n",
    "    ax_flatten = ax.flatten()\n",
    "\n",
    "    for i, _ax in enumerate(ax_flatten):\n",
    "        _ax.plot(target_step_index, fidelity_time_array[:, 0, i], label = \"00\")\n",
    "        _ax.plot(target_step_index, fidelity_time_array[:, 1, i], label = \"01\")\n",
    "        _ax.plot(target_step_index, fidelity_time_array[:, 2, i], label = \"10\")\n",
    "        _ax.plot(target_step_index, fidelity_time_array[:, 3, i], label = \"11\")\n",
    "        _ax.set_title(f\"time evolution of fidelity inside {metastable_state_array[i]}\")\n",
    "        _ax.legend()\n",
    "    plt.show()\n",
    "\n",
    "def showFidelity(target):\n",
    "\n",
    "    final_percentage_matrix = np.array([d[\"final_percentage\"] for d in list(target[\"fidelity\"])[0]]).T\n",
    "    text_box_array = [\"\\n\".join(row) for row in final_percentage_matrix]\n",
    "    params_list = list(target[\"params\"])[0]\n",
    "    fig, ax = plt.subplots(1, 2, figsize = [10, 4])\n",
    "    # plt.figure(figsize=[4, 4])\n",
    "    # plt.title(f\"N = {params_list['N']}, dt = {params_list['dt']}\")\n",
    "    _ax = ax[1]\n",
    "    _ax.set_xlim(-5, 5);plt.ylim(-5, 5);\n",
    "    _ax.text(-3.25, -3.5, text_box_array[0]); _ax.text(-3.25, 1.5, text_box_array[1])\n",
    "    _ax.text(1.75, -3.5, text_box_array[2]); _ax.text(1.75, 1.5, text_box_array[3])\n",
    "    _ax.vlines(0, ymin = -5, ymax = 5); _ax.hlines(0, xmin = -5, xmax = 5)\n",
    "\n",
    "# ideal_fidelity = np.array([['0.500', '0.000', '0.500', '0.000'], ['0.500', '0.000', '0.500', '0.000'],\n",
    "#                           ['0.000', '0.500', '0.000', '0.500'], ['0.000', '0.500', '0.000', '0.500']]).T\n",
    "# text_box_array = [\"\\n\".join(row) for row in ideal_fidelity]\n",
    "# plt.figure(figsize=[4, 4])\n",
    "# plt.title(f\"N = {item['N']}, dt = {item['dt']}, t1 = {item['protocol_list'][-1]['duration']} \")\n",
    "# _ax = ax[0]\n",
    "# _ax.set_xlim(-5, 5);plt.ylim(-5, 5);\n",
    "# _ax.text(-3.25, -3.5, text_box_array[0]); _ax.text(-3.25, 1.5, text_box_array[1])\n",
    "# _ax.text(1.75, -3.5, text_box_array[2]); _ax.text(1.75, 1.5, text_box_array[3])\n",
    "# _ax.vlines(0, ymin = -5, ymax = 5); _ax.hlines(0, xmin = -5, xmax = 5)"
   ]
  },
  {
   "cell_type": "code",
   "execution_count": null,
   "id": "5",
   "metadata": {},
   "outputs": [],
   "source": [
    "rc_dict = {'font.size':16, 'axes.labelsize':'large', 'ytick.right':False,'legend.loc':'upper right', 'legend.fontsize':'xx-small', 'figure.autolayout':True, 'figure.figsize': (10,10), 'mathtext.fontset':'stix', 'font.family':'STIXGeneral'}"
   ]
  },
  {
   "cell_type": "code",
   "execution_count": null,
   "id": "6",
   "metadata": {},
   "outputs": [],
   "source": [
    "import matplotlib as mpl"
   ]
  },
  {
   "cell_type": "code",
   "execution_count": null,
   "id": "7",
   "metadata": {},
   "outputs": [],
   "source": [
    "rc_dict = {'font.size':16, 'axes.labelsize':'large', 'ytick.right':False,'legend.loc':'upper right', 'legend.fontsize':'xx-small', 'figure.autolayout':True, 'figure.figsize': (10,10), 'mathtext.fontset':'stix', 'font.family':'STIXGeneral'}"
   ]
  },
  {
   "cell_type": "code",
   "execution_count": null,
   "id": "8",
   "metadata": {},
   "outputs": [],
   "source": [
    "plt.rc_context(rc_dict)\n"
   ]
  },
  {
   "cell_type": "markdown",
   "id": "9",
   "metadata": {
    "tags": []
   },
   "source": [
    "# show a result"
   ]
  },
  {
   "cell_type": "code",
   "execution_count": null,
   "id": "10",
   "metadata": {},
   "outputs": [],
   "source": [
    "df = loadDataFrame()\n",
    "target = getDataByComment(df,  \"Experiment 4a (2024/10/14)\")\n",
    "# target = getDataByID(df, \"e93085b7e966e001bddcb9c6e7a09f240fa8f9f679175d8dffbdc682d6ab43fb\")\n",
    "[50, 100, 500, 1000]\n",
    "sim_id = getSimulationID(target)[-1]\n",
    "\n",
    "result_info = getSimulationWorkStatistics(df, sim_id)\n",
    "print(sim_id)\n",
    "# print(result_info)"
   ]
  },
  {
   "cell_type": "code",
   "execution_count": null,
   "id": "11",
   "metadata": {},
   "outputs": [],
   "source": [
    "target"
   ]
  },
  {
   "cell_type": "code",
   "execution_count": null,
   "id": "12",
   "metadata": {},
   "outputs": [],
   "source": [
    "params = list(target['params'])[-1]\n",
    "circuit_parameter = list(target['circuit_parameters'])\n",
    "protocol_list = list(target['protocol_list_item'])[0]\n",
    "initial_parameter_dict = list(target['initial_parameter_dict'])[0]\n",
    "protocol_time_array = [item[\"duration\"] for item in protocol_list]\n",
    "\n",
    "protocol_time_array.insert(0, 0)\n",
    "print(protocol_time_array)\n",
    "protocol_time_array = np.cumsum(protocol_time_array)\n",
    "print(protocol_time_array)"
   ]
  },
  {
   "cell_type": "code",
   "execution_count": null,
   "id": "13",
   "metadata": {},
   "outputs": [],
   "source": []
  },
  {
   "cell_type": "code",
   "execution_count": null,
   "id": "14",
   "metadata": {},
   "outputs": [],
   "source": [
    "fig, ax = plt.subplots(1, 2, figsize=[7, 3])\n",
    "\n",
    "ax[0].hist(result_info['work_distribution_data'], bins = 100)\n",
    "ax[1].plot(np.array(range(len(result_info['work_statistic_data'])))[::100] * 0.1, result_info['work_statistic_data'][::100, 0])\n",
    "print(\"-\" * 30 + \" Information \" + \"-\" * 30 )\n",
    "\n",
    "work_distribution = result_info['work_distribution_data']\n",
    "N = len(work_distribution)\n",
    "work_mean = result_info['work_statistic_data'][:, 0]\n",
    "mean_work_std = np.std(work_distribution)\n",
    "\n",
    "jarzyn_term = np.mean(np.exp(-work_distribution))\n",
    "jarzyn_term_std = np.std(np.exp(-work_distribution))\n",
    "circuit_parameter = target['circuit_parameters'].values[0]\n",
    "initial_parameter = target['initial_parameter_dict'].values[0]\n",
    "protocol_list_item = target['protocol_list_item'].values[0]\n",
    "\n",
    "target_time_index = target['params'].values[0]['protocol_time_array']\n",
    "work_done_array = target['keyStep_work_statistic'].values[0]\n",
    "work_done_of_each_step = np.array(work_done_array)[1:] - np.array(work_done_array)[:-1]\n",
    "# W_M = work_done_array[4][0] - work_done_array[0][0]\n",
    "# W_M_err = np.sqrt(work_done_array[4][1]**2 + work_done_array[0][1]**2) \n",
    "# W_C = work_done_array[-1][0] - work_done_array[4][0]\n",
    "# W_C_err = np.sqrt(work_done_array[8][1]**2 + work_done_array[4][1]**2)\n",
    "\n",
    "\n",
    "Measure_Erasue_steps = [0, 1, 2, 3]\n",
    "Control_Steps = [4, 5, 6, 7]\n",
    "\n",
    "\n",
    "print(target[\"comment\"].values[0])\n",
    "print(\"(a) parameters\")\n",
    "print(sim_id)\n",
    "print()\n",
    "# print(f\"N = {params['N']}, dt = {params['dt']}\")\n",
    "print(f\"phi_1dcx_on: {circuit_parameter['phi_1_dcx_on']}, phi_2dcx_on: {circuit_parameter['phi_2_dcx_on']}, M_12_on: {circuit_parameter['M_12_on']:.3g}\")\n",
    "print(f\"L_factor = {circuit_parameter['L_factor']:.3g}, C_factor = {circuit_parameter['C_factor']}, I_m_factor = {circuit_parameter['I_m_factor']}, gamma = {initial_parameter_dict['gamma_1']}\")\n",
    "print([x[\"duration\"] for x in protocol_list])\n",
    "print()\n",
    "print(\"(b) thermodynamic cost\")\n",
    "print(f\"mean: {np.mean(result_info['work_distribution_data']):.3g} ± {mean_work_std * 3 / np.sqrt(N):.3g}\")\n",
    "print(f\"jarzyn: {jarzyn_term:.3g} ± {3 * jarzyn_term_std / np.sqrt(N):.3g}\")\n",
    "print()\n",
    "\n",
    "print(\"(c) work analysis\")\n",
    "print(f\"work_done = {work_done_of_each_step}\" )\n",
    "# print(f\"measurement + reset = {W_M:.3g} ± {W_M_err * 3 / np.sqrt(N):.3}, deviation = {W_M - 0.693:.3g}\")\n",
    "# print(f\"control = {W_C:.3g} ± {W_C_err * 3 / np.sqrt(N):.3g}, deviation = {0.693 + W_C:.3g}\")\n",
    "\n",
    "\n",
    "# print(\"measurement + reset = \", np.sum([work_done_of_each_step[i, 0] for i in Measure_Erasue_steps]))\n",
    "# print(\"control = \", np.sum([work_done_of_each_step[i, 0] for i in Control_Steps]))\n",
    "# print(np.sum(work_done_of_each_step[:, 0]))\n"
   ]
  },
  {
   "cell_type": "code",
   "execution_count": null,
   "id": "15",
   "metadata": {},
   "outputs": [],
   "source": [
    "print(list(target['circuit_parameters'])[-1])"
   ]
  },
  {
   "cell_type": "code",
   "execution_count": null,
   "id": "16",
   "metadata": {},
   "outputs": [],
   "source": [
    "print(list(target['protocol_list_item'])[-1])"
   ]
  },
  {
   "cell_type": "code",
   "execution_count": null,
   "id": "17",
   "metadata": {},
   "outputs": [],
   "source": [
    "fidelity_time_array = result_info['fidelity_time_array'].astype(\"float\")\n",
    "\n",
    "fig, ax = plt.subplots(2, 2, figsize=[7, 7])\n",
    "\n",
    "pColor = {\"00\": \"#061DF7\", \"01\": \"#FCEF51\", \"10\": \"#3FC7F2\", \"11\": \"#F7B6D2\"}\n",
    "\n",
    "# 00\n",
    "ax[1][0].bar([\"00\", \"01\", \"10\", \"11\"], fidelity_time_array[-1,:,0], color = pColor.values())\n",
    "ax[1][0].set_ylim(0, 1)\n",
    "ax[1][0].axhline(0.5, linestyle='--')\n",
    "\n",
    "# 01\n",
    "ax[0][0].bar([\"00\", \"01\", \"10\", \"11\"], fidelity_time_array[-1,:,1], color = pColor.values())\n",
    "ax[0][0].set_ylim(0, 1)\n",
    "ax[0][0].axhline(0.5, linestyle='--')\n",
    "\n",
    "# 10\n",
    "ax[1][1].bar([\"00\", \"01\", \"10\", \"11\"], fidelity_time_array[-1,:,2], color = pColor.values())\n",
    "ax[1][1].set_ylim(0, 1)\n",
    "ax[1][1].axhline(0.5, linestyle='--')\n",
    "\n",
    "# 11\n",
    "ax[0][1].bar([\"00\", \"01\", \"10\", \"11\"], fidelity_time_array[-1,:,3], color = pColor.values())\n",
    "ax[0][1].set_ylim(0, 1)\n",
    "ax[0][1].axhline(0.5, linestyle='--')"
   ]
  },
  {
   "cell_type": "code",
   "execution_count": null,
   "id": "18",
   "metadata": {},
   "outputs": [],
   "source": [
    "fidelity_time_array[-1]"
   ]
  },
  {
   "cell_type": "code",
   "execution_count": null,
   "id": "19",
   "metadata": {},
   "outputs": [],
   "source": []
  },
  {
   "cell_type": "code",
   "execution_count": null,
   "id": "20",
   "metadata": {},
   "outputs": [],
   "source": []
  },
  {
   "cell_type": "code",
   "execution_count": null,
   "id": "21",
   "metadata": {},
   "outputs": [],
   "source": [
    "work_done_array"
   ]
  },
  {
   "cell_type": "code",
   "execution_count": null,
   "id": "22",
   "metadata": {},
   "outputs": [],
   "source": []
  },
  {
   "cell_type": "code",
   "execution_count": null,
   "id": "23",
   "metadata": {},
   "outputs": [],
   "source": [
    "initial_parameter_dict = pd.DataFrame.from_records([target['initial_parameter_dict'].values[0]])\n",
    "# circuit_parameter = pd.DataFrame.from_records([target['params'].values[0]['circuit_parameters']])\n"
   ]
  },
  {
   "cell_type": "code",
   "execution_count": null,
   "id": "24",
   "metadata": {},
   "outputs": [],
   "source": [
    "initial_parameter_dict"
   ]
  },
  {
   "cell_type": "code",
   "execution_count": null,
   "id": "25",
   "metadata": {},
   "outputs": [],
   "source": [
    "circuit_parameter"
   ]
  },
  {
   "cell_type": "code",
   "execution_count": null,
   "id": "26",
   "metadata": {},
   "outputs": [],
   "source": []
  },
  {
   "cell_type": "code",
   "execution_count": null,
   "id": "27",
   "metadata": {},
   "outputs": [],
   "source": [
    "showGraph(list(target[\"simulation_data\"])[0]['simulation_id'])"
   ]
  },
  {
   "cell_type": "code",
   "execution_count": null,
   "id": "28",
   "metadata": {},
   "outputs": [],
   "source": []
  },
  {
   "cell_type": "code",
   "execution_count": null,
   "id": "29",
   "metadata": {},
   "outputs": [],
   "source": [
    "plt.hist(result_info['work_distribution_data'], 100)\n",
    "plt.show()"
   ]
  },
  {
   "cell_type": "code",
   "execution_count": null,
   "id": "30",
   "metadata": {},
   "outputs": [],
   "source": [
    "np.mean(np.exp(-result_info['work_distribution_data']))"
   ]
  },
  {
   "cell_type": "code",
   "execution_count": null,
   "id": "31",
   "metadata": {},
   "outputs": [],
   "source": [
    "def substep_work_extraction(target, offset = False):\n",
    "    sim_id = getSimulationID(target)[0]\n",
    "    result_info = getSimulationWorkStatistics(df, sim_id)\n",
    "    \n",
    "    _dt = result_info['dt']\n",
    "    \n",
    "    work_statistic_data = result_info['work_statistic_data']\n",
    "    protocol_list_item = list(target[\"protocol_list_item\"])[0]\n",
    "    print(protocol_list_item)\n",
    "    protocol_time_array = [item[\"duration\"] for item in protocol_list_item]\n",
    "    protocol_time_array = np.cumsum(protocol_time_array)/_dt\n",
    "    work_done_at_all_stages = [work_statistic_data[int(i)-1][0] for i in protocol_time_array]\n",
    "    work_done_at_all_stages.insert(0, 0)\n",
    "    work_done_at_all_stages = np.array(work_done_at_all_stages)\n",
    "    net_work_done = work_done_at_all_stages[1:] - work_done_at_all_stages[:-1]\n",
    "    offset_U = 0\n",
    "    \n",
    "    if offset:\n",
    "        offset_U = min_U_at_each_non_linear_pot[1:] - min_U_at_each_non_linear_pot[:-1]\n",
    "    return net_work_done - offset_U\n",
    "    \n",
    "    "
   ]
  },
  {
   "cell_type": "code",
   "execution_count": null,
   "id": "32",
   "metadata": {},
   "outputs": [],
   "source": [
    "work_done_each_step = substep_work_extraction(target, offset = True)"
   ]
  },
  {
   "cell_type": "code",
   "execution_count": null,
   "id": "33",
   "metadata": {},
   "outputs": [],
   "source": [
    "np.sum(work_done_each_step[3:])"
   ]
  },
  {
   "cell_type": "code",
   "execution_count": null,
   "id": "34",
   "metadata": {},
   "outputs": [],
   "source": [
    "np.sum(work_done_each_step)"
   ]
  },
  {
   "cell_type": "code",
   "execution_count": null,
   "id": "35",
   "metadata": {},
   "outputs": [],
   "source": [
    "work_done_each_step"
   ]
  },
  {
   "cell_type": "code",
   "execution_count": null,
   "id": "36",
   "metadata": {},
   "outputs": [],
   "source": []
  },
  {
   "cell_type": "code",
   "execution_count": null,
   "id": "37",
   "metadata": {},
   "outputs": [],
   "source": []
  },
  {
   "cell_type": "code",
   "execution_count": null,
   "id": "38",
   "metadata": {},
   "outputs": [],
   "source": [
    "folderPath=\"coupled_flux_qubit_protocol/coupled_flux_qubit_data_gallery_backup_2\"\n",
    "\n",
    "data = {\n",
    "    \"sym_no_4_well\": {\n",
    "        \"sim_id\": \"025f7a325acf562383d7181a0906450e01a9576d1494655024a0969ba6bde877\",\n",
    "        \"folder\": \"coupled_flux_qubit_protocol/coupled_flux_qubit_data_gallery\"\n",
    "    },\n",
    "    \"sym_with_4_well\":  {\n",
    "        \"sim_id\": \"5835c465dfb0c50caaef6205c561fb3dea34e7960ab781a7fd070f22f9ea9671\",\n",
    "        \"folder\": \"coupled_flux_qubit_protocol/coupled_flux_qubit_data_gallery\"\n",
    "    },\n",
    "    \n",
    "    \n",
    "    \"uncompensated_asym_with_4_well\": {\n",
    "        \"sim_id\": \"9816cf557ffeb4826ad33b3dd13fe11027d349ff45957aafac3644795fd6d774\",\n",
    "        \"folder\": \"coupled_flux_qubit_protocol/coupled_flux_qubit_data_gallery_backup_2\"\n",
    "    },\n",
    "    \n",
    "    \"uncompensated_highly_asym_with_4_well\": {\n",
    "        \"sim_id\": \"fab034580c0c7e2a00ecf5429ea6ff72d907810165c97f924a00bdb1790f385d\",\n",
    "        \"folder\": \"coupled_flux_qubit_protocol/coupled_flux_qubit_data_gallery\"\n",
    "    },\n",
    "    \"uncompensated_highly_asym_with_4_well\": {\n",
    "        \"percentage\": \"5%\",\n",
    "        \"sim_id\": \"56e42d9dabf1459c681a3389a1bfb48084fcf241c6da7751781be221b1664c1a\",\n",
    "        \"folder\": \"coupled_flux_qubit_protocol/coupled_flux_qubit_data_gallery\"\n",
    "    },\n",
    "    \"uncompensated_asym_without_4_well\": {\n",
    "        \"sim_id\": \"eb0aed01b2eda52e06b2cc57b3153e48e95e0c0fb97665693940b0cbf8a07650\",\n",
    "        \"folder\": \"coupled_flux_qubit_protocol/coupled_flux_qubit_data_gallery_backup_2\"\n",
    "    },\n",
    "\n",
    "    \"compensated_asym_without_4_well\": {\n",
    "        \"sim_id\": \"a9b8be02381e39bf083f2fcc14c1255e328b7446312d82725ecd84b257993ab7\",\n",
    "        \"folder\": \"coupled_flux_qubit_protocol/coupled_flux_qubit_data_gallery\"\n",
    "    },\n",
    "    \"compensated_asym_with_4_well\": {\n",
    "        \"sim_id\": \"59126f408f8986ab3e9ee64405661b0ba5abf44143b9634af72c8df14f008d78\",\n",
    "        \"folder\": \"coupled_flux_qubit_protocol/coupled_flux_qubit_data_gallery_backup_2\"\n",
    "    },\n",
    "}\n",
    "\n",
    "\n",
    "choosen_data = data[\"sym_no_4_well\"]\n",
    "sim_id = choosen_data['sim_id']\n",
    "folderPath = choosen_data['folder']\n",
    "\n",
    "\n",
    "df = loadDataFrame(folderPath=folderPath)\n",
    "sim_id = \"5df55d19d6e82cadbbd7d8842d18e6f1985e65de5054114e5574edd0b2a749f3\"\n",
    "# target = getDataByComment(df, \"Experiment 3 (2024/3/13)\")\n",
    "target = getDataByID(df, sim_id)\n",
    "# target = df\n",
    "# sim_id = getSimulationID(target.tail(1))[0]\n",
    "result_info = getSimulationWorkStatistics(df, sim_id, folderPath = folderPath)\n"
   ]
  },
  {
   "cell_type": "code",
   "execution_count": null,
   "id": "39",
   "metadata": {},
   "outputs": [],
   "source": []
  },
  {
   "cell_type": "code",
   "execution_count": null,
   "id": "40",
   "metadata": {},
   "outputs": [],
   "source": [
    "metastable_state_array = [\"00\", \"01\", \"10\", \"11\"]\n",
    "fig, ax = plt.subplots(2, 3, figsize = [12, 6])\n",
    "ax_flatten = ax.flatten()\n",
    "# work_distribution_graph\n",
    "work_distribution_data = result_info['work_distribution_data']\n",
    "work_mean = np.mean(work_distribution_data)\n",
    "ax_flatten[0].hist(work_distribution_data, bins = 50)\n",
    "ax_flatten[0].set_xlabel(r\"work ($k_BT$)\", fontsize = 12)\n",
    "ax_flatten[0].set_ylabel(r\"counts\", fontsize = 12)\n",
    "ax_flatten[0].vlines(x= work_mean, ymin= 0, ymax=3700, colors=\"r\", linestyles=\"--\")\n",
    "ax_flatten[0].text(work_mean + 0.2, 3200, f\"<W> = {work_mean:.3g}\", c=\"r\", fontsize = 12)\n",
    "print(work_mean)\n",
    "\n",
    "# work_statistic_graph\n",
    "target_time_index = result_info['target_time_index']\n",
    "target_time = np.array(result_info['target_time_index']) * 1/5000\n",
    "key_time = target['params'].values[0]['protocol_time_array']\n",
    "work_statistic_data = result_info['work_statistic_data']\n",
    "work_mean_time_series = work_statistic_data[:, 0]\n",
    "work_mean_error_time_series = work_statistic_data[:, 1]\n",
    "ax_flatten[3].set_xlabel(r\"time\", fontsize = 12)\n",
    "ax_flatten[3].set_ylabel(r\"work ($k_BT$)\", fontsize = 12)\n",
    "ax_flatten[3].plot(target_time, work_mean_time_series)\n",
    "for i, x in enumerate(key_time):\n",
    "    ax_flatten[3].vlines(x, ymin = -2.6, ymax = 1.5, linestyle = '--', color = 'r')\n",
    "    t_text = f\"$t_{i}$\"\n",
    "    ax_flatten[3].text(x-10, 1.8, t_text)\n",
    "\n",
    "fidelity_time_array = result_info['fidelity_time_array'].astype(\"float\")\n",
    "fidelity_ax = [ax_flatten[1], ax_flatten[2], ax_flatten[4], ax_flatten[5]]\n",
    "for i, _ax in enumerate(fidelity_ax):\n",
    "    _ax.plot(target_time, fidelity_time_array[:, 0, i], label = \"00\")\n",
    "    _ax.plot(target_time, fidelity_time_array[:, 1, i], label = \"01\")\n",
    "    _ax.plot(target_time, fidelity_time_array[:, 2, i], label = \"10\")\n",
    "    _ax.plot(target_time, fidelity_time_array[:, 3, i], label = \"11\")\n",
    "    _ax.set_xlabel(\"time\")\n",
    "    _ax.set_ylabel(\"proportion\")\n",
    "    _ax.set_title(f\"time evolution of fidelity inside {metastable_state_array[i]}\")\n",
    "    if i == 0:\n",
    "        _ax.legend()\n",
    "\n",
    "    for i, x in enumerate(key_time):\n",
    "        _ax.vlines(x, ymin = 0, ymax = 1.1, linestyle = '--', color = 'grey', alpha = 0.5)\n",
    "        t_text = f\"$t_{i}$\"\n",
    "        # _ax.text(x-10, 1.8, t_text)\n",
    "    \n",
    "plt.tight_layout()\n",
    "\n"
   ]
  },
  {
   "cell_type": "code",
   "execution_count": null,
   "id": "41",
   "metadata": {},
   "outputs": [],
   "source": [
    "fidelity_time_array[-1, :, :]"
   ]
  },
  {
   "cell_type": "code",
   "execution_count": null,
   "id": "42",
   "metadata": {},
   "outputs": [],
   "source": [
    "fig, ax = plt.subplots(2, 2, figsize=[7, 7])\n",
    "\n",
    "pColor = {\"00\": \"#061DF7\", \"01\": \"#FCEF51\", \"10\": \"#3FC7F2\", \"11\": \"#F7B6D2\"}\n",
    "\n",
    "# 00\n",
    "ax[1][0].bar([\"00\", \"01\", \"10\", \"11\"], fidelity_time_array[-1,:,0], color = pColor.values())\n",
    "ax[1][0].set_ylim(0, 1)\n",
    "ax[1][0].axhline(0.5, linestyle='--')\n",
    "\n",
    "# 01\n",
    "ax[0][0].bar([\"00\", \"01\", \"10\", \"11\"], fidelity_time_array[-1,:,1], color = pColor.values())\n",
    "ax[0][0].set_ylim(0, 1)\n",
    "ax[0][0].axhline(0.5, linestyle='--')\n",
    "\n",
    "# 10\n",
    "ax[1][1].bar([\"00\", \"01\", \"10\", \"11\"], fidelity_time_array[-1,:,2], color = pColor.values())\n",
    "ax[1][1].set_ylim(0, 1)\n",
    "ax[1][1].axhline(0.5, linestyle='--')\n",
    "\n",
    "# 11\n",
    "ax[0][1].bar([\"00\", \"01\", \"10\", \"11\"], fidelity_time_array[-1,:,3], color = pColor.values())\n",
    "ax[0][1].set_ylim(0, 1)\n",
    "ax[0][1].axhline(0.5, linestyle='--')"
   ]
  },
  {
   "cell_type": "code",
   "execution_count": null,
   "id": "43",
   "metadata": {},
   "outputs": [],
   "source": [
    "params = list(target['params'])[0]\n",
    "circuit_parameter = list(target['circuit_parameters'])[0]\n",
    "protocol_list = list(target['protocol_list_item'])[0]\n",
    "initial_parameter_dict = list(target['initial_parameter_dict'])[0]\n",
    "protocol_time_array = [item[\"duration\"] for item in protocol_list]"
   ]
  },
  {
   "cell_type": "code",
   "execution_count": null,
   "id": "44",
   "metadata": {},
   "outputs": [],
   "source": [
    "print(\"-\" * 30 + \" Information \" + \"-\" * 30 )\n",
    "work_done_array = target['keyStep_work_statistic'].values[0]\n",
    "work_done_of_each_step = np.array(work_done_array)[1:] - np.array(work_done_array)[:-1]\n",
    "\n",
    "Measure_Erasue_steps = [0, 1, 2, 3]\n",
    "Control_Steps = [4, 5, 6, 7]\n",
    "\n",
    "# Measure_Erasue_steps = [0, 1, 2]\n",
    "# Control_Steps = [3, 4, 5, 6]\n",
    "\n",
    "\n",
    "print(target[\"comment\"].values[0])\n",
    "print(\"(a) parameters\")\n",
    "print(sim_id)\n",
    "print()\n",
    "# print(f\"N = {params['N']}, dt = {params['dt']}\")\n",
    "print(f\"phi_1dcx_on: {circuit_parameter['phi_1_dcx_on']}, phi_2dcx_on: {circuit_parameter['phi_2_dcx_on']}, M_12_on: {circuit_parameter['M_12_on']:.3g}\")\n",
    "print(f\"L_factor = {circuit_parameter['L_factor']:.3g}, C_factor = {circuit_parameter['C_factor']}, I_m_factor = {circuit_parameter['I_m_factor']}, gamma = {initial_parameter_dict['gamma_1']}\")\n",
    "print([x[\"duration\"] for x in protocol_list])\n",
    "print()\n",
    "print(\"(b) thermodynamic cost\")\n",
    "print(f\"mean work = {target['mean_work'].values[0]:.3g} ± {3 * result_info['mean_W_error']:.3g}\")\n",
    "print(f\"jarzyn = {target['jarzynski_term'].values[0]:.3g} ± {3 * result_info['jarzyn_term_error']:.3g}\")\n",
    "print()\n",
    "\n",
    "print(\"(c) work analysis\")\n",
    "# print(f\"work_done = {work_done_of_each_step}\" )\n",
    "print(\"measurement + reset = \", np.sum([work_done_of_each_step[i, 0] for i in Measure_Erasue_steps]))\n",
    "print(\"control = \", np.sum([work_done_of_each_step[i, 0] for i in Control_Steps]))\n",
    "print(np.sum(work_done_of_each_step[:, 0]))"
   ]
  },
  {
   "cell_type": "code",
   "execution_count": null,
   "id": "45",
   "metadata": {},
   "outputs": [],
   "source": []
  },
  {
   "cell_type": "code",
   "execution_count": null,
   "id": "46",
   "metadata": {},
   "outputs": [],
   "source": []
  },
  {
   "cell_type": "markdown",
   "id": "47",
   "metadata": {},
   "source": [
    "# compare results"
   ]
  },
  {
   "cell_type": "code",
   "execution_count": null,
   "id": "48",
   "metadata": {},
   "outputs": [],
   "source": [
    "sim_id_to_compare = [\"c2e2d9a10eca0b331ca768e3dad02ab1283557d1d2b7e3fdb56dbf92a868bba9\", \n",
    "                     \"91b01116c21a74c8c79a0abb766c316789892c7d3bfad8d88b78df2005fb2009\",\n",
    "                     \"64df0cd6e5cbd1d310e9b893bc16f49b302188661080f648ba980b149dc6da03\"]\n"
   ]
  },
  {
   "cell_type": "code",
   "execution_count": null,
   "id": "49",
   "metadata": {},
   "outputs": [],
   "source": [
    "df = loadDataFrame()\n",
    "result_array = []\n",
    "circuit_parameter_array = []\n",
    "initial_parameter_dict_array = []\n",
    "for _sim_id in sim_id_to_compare:\n",
    "    target = getDataByID(df, _sim_id)\n",
    "    result_info = getSimulationWorkStatistics(df, _sim_id)\n",
    "    result_array.append(result_info)\n",
    "    initial_parameter_dict = target['initial_parameter_dict'].values[0]\n",
    "    initial_parameter_dict_array.append(initial_parameter_dict)\n",
    "    \n",
    "    circuit_parameter = target['params'].values[0]['circuit_parameter']\n",
    "    circuit_parameter_array.append(circuit_parameter)\n",
    "    "
   ]
  },
  {
   "cell_type": "code",
   "execution_count": null,
   "id": "50",
   "metadata": {},
   "outputs": [],
   "source": [
    "df_for_comparison = pd.DataFrame.from_records(result_array)\n",
    "df_for_circuit_parameter_array = pd.DataFrame.from_records(circuit_parameter_array)\n",
    "df_for_initial_parameter_dict_array= pd.DataFrame.from_records(initial_parameter_dict_array)"
   ]
  },
  {
   "cell_type": "code",
   "execution_count": null,
   "id": "51",
   "metadata": {},
   "outputs": [],
   "source": [
    "df_for_comparison[[\"N\", \"dt\", \"mean_W\", \"jarzyn_term\"]]"
   ]
  },
  {
   "cell_type": "code",
   "execution_count": null,
   "id": "52",
   "metadata": {},
   "outputs": [],
   "source": [
    "df_for_circuit_parameter_array[['C_factor', 'L_factor', 'I_m_factor', 'phi_1_dcx_on', 'phi_2_dcx_on', 'M_12_on']]"
   ]
  },
  {
   "cell_type": "code",
   "execution_count": null,
   "id": "53",
   "metadata": {},
   "outputs": [],
   "source": [
    "df_for_initial_parameter_dict_array"
   ]
  },
  {
   "cell_type": "code",
   "execution_count": null,
   "id": "54",
   "metadata": {},
   "outputs": [],
   "source": []
  },
  {
   "cell_type": "code",
   "execution_count": null,
   "id": "55",
   "metadata": {},
   "outputs": [],
   "source": [
    "fig, ax = plt.subplots(2, 2, figsize = [10, 9])\n",
    "ax_flatten = ax.flatten()\n",
    "df_for_comparison['work_distribution_data'].values\n",
    "ax_flatten[0].hist(df_for_comparison['work_distribution_data'].values[0], bins = 20)\n",
    "ax_flatten[1].hist(df_for_comparison['work_distribution_data'].values[1], bins = 20)"
   ]
  },
  {
   "cell_type": "code",
   "execution_count": null,
   "id": "56",
   "metadata": {},
   "outputs": [],
   "source": []
  },
  {
   "cell_type": "code",
   "execution_count": null,
   "id": "57",
   "metadata": {},
   "outputs": [],
   "source": []
  },
  {
   "cell_type": "code",
   "execution_count": null,
   "id": "58",
   "metadata": {},
   "outputs": [],
   "source": []
  },
  {
   "cell_type": "markdown",
   "id": "59",
   "metadata": {},
   "source": [
    "# show a result of a group of simulation"
   ]
  },
  {
   "cell_type": "code",
   "execution_count": null,
   "id": "60",
   "metadata": {},
   "outputs": [],
   "source": [
    "df = loadDataFrame()\n",
    "# target = getDataByComment(df,  \"Experiment 2 (2024/8/9)\") \n",
    "# target = getDataByComment(df,  \"Experiment 1 (2024/6/10)\") # case 1\n",
    "# target = getDataByComment(df,  \"Experiment 2 (2024/6/19)\") # case 2\n",
    "# target = getDataByComment(df, \"Experiment 1 (2024/7/8)\") \n",
    "target = getDataByComment(df, \"Experiment 5 (2024/7/3)\") # case 3, 20\n",
    "\n",
    "\n",
    "target = getDataByComment(df, \"Experiment 6 (2024/10/14\") # case 3, 20\n",
    "\n",
    "\n",
    "# target = getDataByID(df, \"025f7a325acf562383d7181a0906450e01a9576d1494655024a0969ba6bde877\") # case 4\n",
    "# index = 7\n",
    "sim_id_array = list(target['simulation_id'].values)\n",
    "\n",
    "# \n",
    "statistic_data_array = [getSimulationWorkStatistics(df, _sim_id) for _sim_id in sim_id_array]"
   ]
  },
  {
   "cell_type": "code",
   "execution_count": null,
   "id": "61",
   "metadata": {},
   "outputs": [],
   "source": [
    "[x[\"mean_W\"] for x in statistic_data_array]"
   ]
  },
  {
   "cell_type": "code",
   "execution_count": null,
   "id": "62",
   "metadata": {},
   "outputs": [],
   "source": [
    "# work_dist_array = np.concatenate([_data['work_distribution_data'] for _data in statistic_data_array])\n",
    "# work_dist_array  = np.repeat(work_dist_array, 20)\n",
    "# work_stat_array = np.array([_data['work_statistic_data'] for _data in statistic_data_array])\n",
    "# N = len(work_dist_array)\n",
    "# print(len(work_dist_array))"
   ]
  },
  {
   "cell_type": "code",
   "execution_count": null,
   "id": "63",
   "metadata": {},
   "outputs": [],
   "source": [
    "keyStep_work_statistic_array = [_data['keyStep_work_statistic'] for _data in statistic_data_array]"
   ]
  },
  {
   "cell_type": "code",
   "execution_count": null,
   "id": "64",
   "metadata": {},
   "outputs": [],
   "source": [
    "mean_keyStep_work_statistic = np.mean(keyStep_work_statistic_array, axis = 0)\n",
    "W_M = mean_keyStep_work_statistic[4][0] - mean_keyStep_work_statistic[0][0]\n",
    "W_M_error = np.sqrt(mean_keyStep_work_statistic[4][1]**2 + mean_keyStep_work_statistic[0][0]**2) / np.sqrt(N)\n",
    "W_C = mean_keyStep_work_statistic[-1][0] - mean_keyStep_work_statistic[4][0]\n",
    "W_C_error = np.sqrt(mean_keyStep_work_statistic[-1][1]**2 + mean_keyStep_work_statistic[4][0]**2) / np.sqrt(N)\n",
    "jarzyn_term = np.mean(np.exp(-work_dist_array))\n",
    "jarzyn_term_std = np.std(np.exp(-work_dist_array))\n",
    "\n",
    "\n",
    "\n",
    "print(f\"mean work = {np.mean(work_dist_array):.3g} ± {3 * np.std(work_dist_array)/np.sqrt(N-1):.3g}\")\n",
    "print(f\"jarzyn: {jarzyn_term:.3g} ± {3 * jarzyn_term_std / np.sqrt(N):.3g}\")\n",
    "print(f\"W_M = {W_M:.3g} ± {3 * W_M_error:.5g}\")\n",
    "print(f\"W_C = {W_C:.3g} ± {3 * W_C_error:.5g}\")\n"
   ]
  },
  {
   "cell_type": "code",
   "execution_count": null,
   "id": "65",
   "metadata": {},
   "outputs": [],
   "source": [
    "np.mean(keyStep_work_statistic_array)"
   ]
  },
  {
   "cell_type": "code",
   "execution_count": null,
   "id": "66",
   "metadata": {},
   "outputs": [],
   "source": [
    "fidelity_time_array = [np.array(_data['fidelity_time_array'][-1, ...], dtype = float) for _data in statistic_data_array]\n",
    "averaged_fidelity = np.mean(fidelity_time_array, axis = 0)"
   ]
  },
  {
   "cell_type": "code",
   "execution_count": null,
   "id": "67",
   "metadata": {},
   "outputs": [],
   "source": []
  },
  {
   "cell_type": "code",
   "execution_count": null,
   "id": "68",
   "metadata": {},
   "outputs": [],
   "source": []
  },
  {
   "cell_type": "code",
   "execution_count": null,
   "id": "69",
   "metadata": {},
   "outputs": [],
   "source": [
    "from matplotlib.ticker import ScalarFormatter\n",
    "\n",
    "class ScalarFormatterForceFormat(ScalarFormatter):\n",
    "    def _set_format(self):  # Override function that finds format to use.\n",
    "        self.format = \"%1.1g\"  # Give format here\n",
    "\n",
    "yfmt = ScalarFormatterForceFormat()\n",
    "yfmt.set_powerlimits((0,0))"
   ]
  },
  {
   "cell_type": "code",
   "execution_count": null,
   "id": "70",
   "metadata": {},
   "outputs": [],
   "source": [
    "metastable_state_array = [\"00\", \"01\", \"10\", \"11\"]\n",
    "# work_distribution_data = result_info['work_distribution_data']\n",
    "from matplotlib import ticker as mtick\n",
    "\n",
    "\n",
    "\n",
    "work_mean = np.mean(work_dist_array)\n",
    "fig3 = plt.figure(figsize=[3.5, 5], layout=\"constrained\")\n",
    "\n",
    "\n",
    "gs = fig3.add_gridspec(3, 2)\n",
    "f3_ax1 = fig3.add_subplot(gs[0, :]);\n",
    "f3_ax_00 = fig3.add_subplot(gs[2, 0]);\n",
    "f3_ax_01 = fig3.add_subplot(gs[1, 0]);\n",
    "f3_ax_10 = fig3.add_subplot(gs[2, 1])\n",
    "f3_ax_11 = fig3.add_subplot(gs[1, 1])\n",
    "\n",
    "\n",
    "pColor = {\"00\": \"#061DF7\", \"01\": \"#FCEF51\", \"10\": \"#3FC7F2\", \"11\": \"#F7B6D2\"}\n",
    "f3_ax1.hist(work_dist_array, bins = 95)\n",
    "f3_ax1.set_xlabel(r\"work ($k_BT$)\")\n",
    "\n",
    "f3_ax1.vlines(x= work_mean, ymin= 0, ymax=200000, colors=\"r\", linestyles=\"--\")\n",
    "# f3_ax1.text(work_mean + 0.30, 100000, f\"<W> = {work_mean:.3g}\", c=\"r\")\n",
    "f3_ax1.text(work_mean + 0.30, 100000, f\"<W> = {0.150:.3g}\", c=\"r\")\n",
    "f3_ax1.ticklabel_format(axis='y', style='sci', scilimits=(0, 0))\n",
    "\n",
    "\n",
    "# 00\n",
    "f3_ax_00.bar([\"00\", \"01\", \"10\", \"11\"], averaged_fidelity[:,0], color = pColor.values())\n",
    "f3_ax_00.set_ylim(0, 1)\n",
    "f3_ax_00.axhline(0.5, linestyle='--')\n",
    "f3_ax_00.set_yticks([0, 0.5, 1])\n",
    "\n",
    "\n",
    "\n",
    "# 01\n",
    "f3_ax_01.bar([\"00\", \"01\", \"10\", \"11\"], averaged_fidelity[:,1], color = pColor.values())\n",
    "f3_ax_01.set_ylim(0, 1)\n",
    "f3_ax_01.axhline(0.5, linestyle='--')\n",
    "f3_ax_01.set_yticks([0, 0.5, 1])\n",
    "\n",
    "# 10\n",
    "f3_ax_10.bar([\"00\", \"01\", \"10\", \"11\"], averaged_fidelity[:,2], color = pColor.values())\n",
    "f3_ax_10.set_ylim(0, 1)\n",
    "f3_ax_10.axhline(0.5, linestyle='--')\n",
    "f3_ax_10.set_yticks([])\n",
    "f3_ax_10.set_xlabel(r\"initial well\")\n",
    "\n",
    "\n",
    "# 11\n",
    "f3_ax_11.bar([\"00\", \"01\", \"10\", \"11\"], averaged_fidelity[:,3], color = pColor.values())\n",
    "f3_ax_11.set_ylim(0, 1)\n",
    "f3_ax_11.axhline(0.5, linestyle='--')\n",
    "f3_ax_11.set_yticks([])\n",
    "\n",
    "f3_ax1.set_ylabel(r\"counts\")\n",
    "f3_ax_00.set_ylabel(r\"final proportion\")\n",
    "f3_ax1.yaxis.set_label_coords(-0.2, 0.5)\n",
    "f3_ax_00.yaxis.set_label_coords(-0.5, 1.2)\n",
    "f3_ax_10.xaxis.set_label_coords(-0.3, -0.4)\n",
    "\n",
    "\n",
    "# f3_ax_00.text(x = 0.75, y = 0.8, s = \"well 00\")\n",
    "# f3_ax_01.text(x = 0.75, y = 0.8, s = \"well 01\")\n",
    "# f3_ax_10.text(x = 0.75, y = 0.8, s = \"well 10\")\n",
    "# f3_ax_11.text(x = 0.75, y = 0.8, s = \"well 11\")\n",
    "plt.show()\n",
    "\n",
    "print(f\"mean work = {work_mean} ± {np.std(work_dist_array) / np.sqrt(N) * 3}\")\n",
    "\n",
    "# plt.rc('xtick', labelsize=12) \n",
    "# plt.rc('ytick', labelsize=12) \n"
   ]
  },
  {
   "cell_type": "code",
   "execution_count": null,
   "id": "71",
   "metadata": {},
   "outputs": [],
   "source": [
    "\n",
    "plt.figure(figsize=(4, 2.5))\n",
    "plt.hist(work_dist_array, bins = 100)\n",
    "plt.xlabel(r\"work ($k_BT$)\", fontsize = 15)\n",
    "plt.ylabel(r\"counts\", fontsize = 15)\n",
    "plt.vlines(x= work_mean, ymin= 0, ymax=200000, colors=\"r\", linestyles=\"--\")\n",
    "plt.text(work_mean + 1, 180000, f\"<W> = {work_mean:.3g}\", c=\"r\", fontsize = 12)\n",
    "\n",
    "plt.show()"
   ]
  },
  {
   "cell_type": "code",
   "execution_count": null,
   "id": "72",
   "metadata": {},
   "outputs": [],
   "source": []
  },
  {
   "cell_type": "code",
   "execution_count": null,
   "id": "73",
   "metadata": {},
   "outputs": [],
   "source": []
  },
  {
   "cell_type": "code",
   "execution_count": null,
   "id": "74",
   "metadata": {},
   "outputs": [],
   "source": [
    "plt.his"
   ]
  },
  {
   "cell_type": "code",
   "execution_count": null,
   "id": "75",
   "metadata": {},
   "outputs": [],
   "source": [
    "fig, ax = plt.subplots(2, 2, figsize=[4, 4])\n",
    "\n",
    "pColor = {\"00\": \"#061DF7\", \"01\": \"#FCEF51\", \"10\": \"#3FC7F2\", \"11\": \"#F7B6D2\"}\n",
    "\n",
    "# 00\n",
    "ax[1][0].bar([\"00\", \"01\", \"10\", \"11\"], averaged_fidelity[:,0], color = pColor.values())\n",
    "ax[1][0].set_ylim(0, 1)\n",
    "ax[1][0].axhline(0.5, linestyle='--')\n",
    "ax[1][0].set_yticks([0, 0.5, 1])\n",
    "\n",
    "# 01\n",
    "ax[0][0].bar([\"00\", \"01\", \"10\", \"11\"], averaged_fidelity[:,1], color = pColor.values())\n",
    "ax[0][0].set_ylim(0, 1)\n",
    "ax[0][0].axhline(0.5, linestyle='--')\n",
    "ax[0][0].set_xticks([])\n",
    "ax[0][0].set_yticks([0, 0.5, 1])\n",
    "\n",
    "\n",
    "# 10\n",
    "ax[1][1].bar([\"00\", \"01\", \"10\", \"11\"], averaged_fidelity[:,2], color = pColor.values())\n",
    "ax[1][1].set_ylim(0, 1)\n",
    "ax[1][1].axhline(0.5, linestyle='--')\n",
    "ax[1][1].set_yticks([])\n",
    "\n",
    "\n",
    "# 11\n",
    "ax[0][1].bar([\"00\", \"01\", \"10\", \"11\"], averaged_fidelity[:,3], color = pColor.values())\n",
    "ax[0][1].set_ylim(0, 1)\n",
    "ax[0][1].axhline(0.5, linestyle='--')\n",
    "ax[0][1].set_yticks([])\n",
    "ax[0][1].set_xticks([])"
   ]
  },
  {
   "cell_type": "code",
   "execution_count": null,
   "id": "76",
   "metadata": {},
   "outputs": [],
   "source": []
  },
  {
   "cell_type": "code",
   "execution_count": null,
   "id": "77",
   "metadata": {},
   "outputs": [],
   "source": [
    "fidelity_time_array = [np.array(_data['fidelity_time_array'][-1, ...], dtype = float) for _data in statistic_data_array]\n",
    "# averaged_fidelity = np.mean(fidelity_time_array, axis = 0)"
   ]
  },
  {
   "cell_type": "code",
   "execution_count": null,
   "id": "78",
   "metadata": {},
   "outputs": [],
   "source": []
  },
  {
   "cell_type": "code",
   "execution_count": null,
   "id": "79",
   "metadata": {},
   "outputs": [],
   "source": [
    "for _f in fidelity_time_array:\n",
    "    fig, ax = plt.subplots(2, 2, figsize=[3, 3])\n",
    "\n",
    "    pColor = {\"00\": \"#061DF7\", \"01\": \"#FCEF51\", \"10\": \"#3FC7F2\", \"11\": \"#F7B6D2\"}\n",
    "\n",
    "    # 00\n",
    "    ax[1][0].bar([\"00\", \"01\", \"10\", \"11\"], _f[:,0], color = pColor.values())\n",
    "    ax[1][0].set_ylim(0, 1)\n",
    "    ax[1][0].axhline(0.5, linestyle='--')\n",
    "\n",
    "\n",
    "    # 01\n",
    "    ax[0][0].bar([\"00\", \"01\", \"10\", \"11\"], _f[:,1], color = pColor.values())\n",
    "    ax[0][0].set_ylim(0, 1)\n",
    "    ax[0][0].axhline(0.5, linestyle='--')\n",
    "    ax[0][0].set_xticks([])\n",
    "\n",
    "    # 10\n",
    "    ax[1][1].bar([\"00\", \"01\", \"10\", \"11\"], _f[:,2], color = pColor.values())\n",
    "    ax[1][1].set_ylim(0, 1)\n",
    "    ax[1][1].axhline(0.5, linestyle='--')\n",
    "    ax[1][1].set_yticks([])\n",
    "\n",
    "\n",
    "    # 11\n",
    "    ax[0][1].bar([\"00\", \"01\", \"10\", \"11\"], _f[:,3], color = pColor.values())\n",
    "    ax[0][1].set_ylim(0, 1)\n",
    "    ax[0][1].axhline(0.5, linestyle='--')\n",
    "    ax[0][1].set_yticks([])\n",
    "    ax[0][1].set_xticks([])\n",
    "    plt.show()"
   ]
  },
  {
   "cell_type": "code",
   "execution_count": null,
   "id": "80",
   "metadata": {},
   "outputs": [],
   "source": []
  },
  {
   "cell_type": "code",
   "execution_count": null,
   "id": "81",
   "metadata": {},
   "outputs": [],
   "source": []
  },
  {
   "cell_type": "code",
   "execution_count": null,
   "id": "82",
   "metadata": {},
   "outputs": [],
   "source": []
  },
  {
   "cell_type": "code",
   "execution_count": null,
   "id": "83",
   "metadata": {},
   "outputs": [],
   "source": [
    "Experiment 2 (2024/7/14)"
   ]
  },
  {
   "cell_type": "code",
   "execution_count": null,
   "id": "84",
   "metadata": {},
   "outputs": [],
   "source": []
  },
  {
   "cell_type": "markdown",
   "id": "85",
   "metadata": {
    "tags": []
   },
   "source": [
    "# time duration analysis"
   ]
  },
  {
   "cell_type": "code",
   "execution_count": null,
   "id": "86",
   "metadata": {},
   "outputs": [],
   "source": [
    "df = pd.read_json(\"coupled_flux_qubit_protocol/coupled_flux_qubit_data_gallery/gallery.json\")"
   ]
  },
  {
   "cell_type": "code",
   "execution_count": null,
   "id": "87",
   "metadata": {},
   "outputs": [],
   "source": [
    "step_analysis = [\"Experiment 8 (2024/2/15): time scan for step 6\"]"
   ]
  },
  {
   "cell_type": "code",
   "execution_count": null,
   "id": "88",
   "metadata": {},
   "outputs": [],
   "source": [
    "\n"
   ]
  },
  {
   "cell_type": "code",
   "execution_count": null,
   "id": "89",
   "metadata": {},
   "outputs": [],
   "source": [
    "def showTimeDurationAnalysis(identifier):\n",
    "    df = loadDataFrame()\n",
    "    # identifier = \"Experiment 2 (2024/1/30)\"\n",
    "    target = df[df[\"comment\"].str.find(identifier) == 0]\n",
    "    sim_id_array = [item[\"simulation_id\"] for item in target[\"simulation_data\"]] \n",
    "    time_array = [item[-1][\"duration\"] for item in target[\"protocol_list_item\"]]\n",
    "    mean_work = list(target[\"mean_work\"])\n",
    "    work_distribution_error_array = [3/np.sqrt(10000) * np.std(np.load(f\"/Users/tkwtang/source/coupled_flux_qubit_protocol/coupled_flux_qubit_data_gallery/{sim_id}_work_distribution.npy\")) for sim_id in sim_id_array]\n",
    "    plt.errorbar(time_array, mean_work,\n",
    "             yerr = work_distribution_error_array,\n",
    "             fmt ='o')"
   ]
  },
  {
   "cell_type": "code",
   "execution_count": null,
   "id": "90",
   "metadata": {},
   "outputs": [],
   "source": [
    "showTimeDurationAnalysis(\"Experiment 8 (2024/2/15): time scan for step 6\")"
   ]
  },
  {
   "cell_type": "code",
   "execution_count": null,
   "id": "91",
   "metadata": {},
   "outputs": [],
   "source": [
    "showTimeDurationAnalysis(\"Experiment 4 (2024/2/15): time scan for step 2\")"
   ]
  },
  {
   "cell_type": "code",
   "execution_count": null,
   "id": "92",
   "metadata": {},
   "outputs": [],
   "source": [
    "showTimeDurationAnalysis(\"Experiment 5 (2024/2/15): time scan for step 3\")\n"
   ]
  },
  {
   "cell_type": "code",
   "execution_count": null,
   "id": "93",
   "metadata": {},
   "outputs": [],
   "source": [
    "showTimeDurationAnalysis(\"Experiment 7 (2024/2/15): time scan for step 5\")"
   ]
  },
  {
   "cell_type": "code",
   "execution_count": null,
   "id": "94",
   "metadata": {},
   "outputs": [],
   "source": [
    "showTimeDurationAnalysis(\"Experiment 8 (2024/2/15): time scan for step 6\")\n"
   ]
  },
  {
   "cell_type": "code",
   "execution_count": null,
   "id": "95",
   "metadata": {},
   "outputs": [],
   "source": []
  },
  {
   "cell_type": "code",
   "execution_count": null,
   "id": "96",
   "metadata": {},
   "outputs": [],
   "source": [
    "for sim_id in sim_id_array:\n",
    "    _target = getDataByID(df, sim_id)\n",
    "    final_percentage_matrix = np.array([d[\"final_percentage\"] for d in list(_target[\"fidelity\"])[0]]).T\n",
    "    text_box_array = [\"\\n\".join(row) for row in final_percentage_matrix]\n",
    "    params_list = list(_target[\"params\"])[0]\n",
    "    fig, ax = plt.subplots(1, 2, figsize = [10, 4])\n",
    "    # plt.figure(figsize=[4, 4])\n",
    "    # plt.title(f\"N = {params_list['N']}, dt = {params_list['dt']}\")\n",
    "    _ax = ax[1]\n",
    "    _ax.set_xlim(-5, 5);plt.ylim(-5, 5);\n",
    "    _ax.text(-3.25, -3.5, text_box_array[0]); _ax.text(-3.25, 1.5, text_box_array[1])\n",
    "    _ax.text(1.75, -3.5, text_box_array[2]); _ax.text(1.75, 1.5, text_box_array[3])\n",
    "    _ax.vlines(0, ymin = -5, ymax = 5); _ax.hlines(0, xmin = -5, xmax = 5)\n",
    "\n",
    "# ideal_fidelity = np.array([['0.500', '0.000', '0.500', '0.000'], ['0.500', '0.000', '0.500', '0.000'],\n",
    "#                           ['0.000', '0.500', '0.000', '0.500'], ['0.000', '0.500', '0.000', '0.500']]).T\n",
    "# text_box_array = [\"\\n\".join(row) for row in ideal_fidelity]\n",
    "# plt.figure(figsize=[4, 4])\n",
    "# plt.title(f\"N = {item['N']}, dt = {item['dt']}, t1 = {item['protocol_list'][-1]['duration']} \")\n",
    "# _ax = ax[0]\n",
    "# _ax.set_xlim(-5, 5);plt.ylim(-5, 5);\n",
    "# _ax.text(-3.25, -3.5, text_box_array[0]); _ax.text(-3.25, 1.5, text_box_array[1])\n",
    "# _ax.text(1.75, -3.5, text_box_array[2]); _ax.text(1.75, 1.5, text_box_array[3])\n",
    "# _ax.vlines(0, ymin = -5, ymax = 5); _ax.hlines(0, xmin = -5, xmax = 5)"
   ]
  },
  {
   "cell_type": "code",
   "execution_count": null,
   "id": "97",
   "metadata": {},
   "outputs": [],
   "source": [
    "for x in range(0, 6):\n",
    "    target = df[df[\"comment\"] == step_analysis[x]]\n",
    "    sim_id_array = [item[\"simulation_id\"] for item in target[\"simulation_data\"]] \n",
    "    time_array = [item[0][\"duration\"] for item in target[\"protocol_list_item\"]]\n",
    "    mean_work = list(target[\"mean_work\"])\n",
    "    work_distribution_error_array = [3/np.sqrt(10000) * np.std(np.load(f\"/Users/tkwtang/source/coupled_flux_qubit_protocol/coupled_flux_qubit_data_gallery/{sim_id}_work_distribution.npy\")) for sim_id in sim_id_array]\n",
    "    plt.errorbar(time_array, mean_work,\n",
    "             yerr = work_distribution_error_array,\n",
    "             fmt ='o')\n",
    "    plt.show()"
   ]
  },
  {
   "cell_type": "code",
   "execution_count": null,
   "id": "98",
   "metadata": {},
   "outputs": [],
   "source": []
  },
  {
   "cell_type": "markdown",
   "id": "99",
   "metadata": {
    "tags": []
   },
   "source": [
    "# offset and no offset analysis"
   ]
  },
  {
   "cell_type": "code",
   "execution_count": null,
   "id": "100",
   "metadata": {},
   "outputs": [],
   "source": [
    "df = loadDataFrame()\n",
    "# target = getDataByID(df, \"5aec0e959e8dcfe0fa75be2316b8c18c49debf818321aa76c32966fe9460c40e\")\n",
    "target = getDataByComment(df, \"Experiment 2 (2024/1/30)\")\n",
    "sim_id_array = getSimulationID(target)\n"
   ]
  },
  {
   "cell_type": "code",
   "execution_count": null,
   "id": "101",
   "metadata": {},
   "outputs": [],
   "source": [
    "sim_id_array"
   ]
  },
  {
   "cell_type": "code",
   "execution_count": null,
   "id": "102",
   "metadata": {},
   "outputs": [],
   "source": [
    "target"
   ]
  },
  {
   "cell_type": "code",
   "execution_count": null,
   "id": "103",
   "metadata": {},
   "outputs": [],
   "source": [
    "target_data = getSimulationWorkStatistics(df, \"5aec0e959e8dcfe0fa75be2316b8c18c49debf818321aa76c32966fe9460c40e\")"
   ]
  },
  {
   "cell_type": "code",
   "execution_count": null,
   "id": "104",
   "metadata": {},
   "outputs": [],
   "source": [
    "list(target.protocol_list_item)"
   ]
  },
  {
   "cell_type": "code",
   "execution_count": null,
   "id": "105",
   "metadata": {},
   "outputs": [],
   "source": [
    "substage_index = np.cumsum(np.array([item[\"duration\"] for item in list(target.protocol_list_item)[0]]))/target_data['dt']"
   ]
  },
  {
   "cell_type": "code",
   "execution_count": null,
   "id": "106",
   "metadata": {},
   "outputs": [],
   "source": [
    "target.columns"
   ]
  },
  {
   "cell_type": "code",
   "execution_count": null,
   "id": "107",
   "metadata": {},
   "outputs": [],
   "source": [
    "target_data[\"work_statistic_data\"][39999]"
   ]
  },
  {
   "cell_type": "code",
   "execution_count": null,
   "id": "108",
   "metadata": {},
   "outputs": [],
   "source": [
    "target_data[\"work_statistic_data\"][80000-1]"
   ]
  },
  {
   "cell_type": "code",
   "execution_count": null,
   "id": "109",
   "metadata": {},
   "outputs": [],
   "source": []
  },
  {
   "cell_type": "code",
   "execution_count": null,
   "id": "110",
   "metadata": {},
   "outputs": [],
   "source": [
    "[target_data[\"work_statistic_data\"][int(i)-1] for i in substage_index]\n",
    "\n"
   ]
  },
  {
   "cell_type": "code",
   "execution_count": null,
   "id": "111",
   "metadata": {},
   "outputs": [],
   "source": []
  },
  {
   "cell_type": "code",
   "execution_count": null,
   "id": "112",
   "metadata": {},
   "outputs": [],
   "source": [
    "work_distribution_data, work_statistic_data = showGraph(getSimulationID(target)[0])\n",
    "\n"
   ]
  },
  {
   "cell_type": "code",
   "execution_count": null,
   "id": "113",
   "metadata": {},
   "outputs": [],
   "source": [
    "# plt.yscale(\"log\")\n",
    "plt.plot(range(0, len(work_statistic_data)), -work_statistic_data[:, 0])"
   ]
  },
  {
   "cell_type": "code",
   "execution_count": null,
   "id": "114",
   "metadata": {},
   "outputs": [],
   "source": []
  },
  {
   "cell_type": "code",
   "execution_count": null,
   "id": "115",
   "metadata": {},
   "outputs": [],
   "source": [
    "\n",
    "target = df[df[\"comment\"] == step_analysis[x]]\n",
    "    sim_id_array = [item[\"simulation_id\"] for item in target[\"simulation_data\"]] \n",
    "    time_array = [item[0][\"duration\"] for item in target[\"protocol_list_item\"]]\n",
    "    mean_work = list(target[\"mean_work\"])\n",
    "    work_distribution_error_array = [3/np.sqrt(10000) * np.std(np.load(f\"/Users/tkwtang/source/coupled_flux_qubit_protocol/coupled_flux_qubit_data_gallery/{sim_id}_work_distribution.npy\")) for sim_id in sim_id_array]\n",
    "    plt.errorbar(time_array, mean_work,\n",
    "             yerr = work_distribution_error_array,\n",
    "             fmt ='o')\n",
    "    plt.show()"
   ]
  },
  {
   "cell_type": "code",
   "execution_count": null,
   "id": "116",
   "metadata": {},
   "outputs": [],
   "source": []
  },
  {
   "cell_type": "code",
   "execution_count": null,
   "id": "117",
   "metadata": {},
   "outputs": [],
   "source": []
  },
  {
   "cell_type": "code",
   "execution_count": null,
   "id": "118",
   "metadata": {},
   "outputs": [],
   "source": [
    "df.tail(1)['params']"
   ]
  },
  {
   "cell_type": "code",
   "execution_count": null,
   "id": "119",
   "metadata": {},
   "outputs": [],
   "source": [
    "df.tail(1)[\"jarzynski_term\"]"
   ]
  },
  {
   "cell_type": "code",
   "execution_count": null,
   "id": "120",
   "metadata": {},
   "outputs": [],
   "source": [
    "sim_id = [x['simulation_id'] for x in df[-2:][\"simulation_data\"]]\n",
    "mean_work_array = []\n",
    "for _id in sim_id:\n",
    "    npy_file_path = f\"coupled_flux_qubit_protocol/coupled_flux_qubit_data_gallery/{_id}_work_distribution.npy\"\n",
    "    mean_work_array.append(np.mean(np.load(npy_file_path)))"
   ]
  },
  {
   "cell_type": "code",
   "execution_count": null,
   "id": "121",
   "metadata": {},
   "outputs": [],
   "source": [
    "mean_work_array"
   ]
  },
  {
   "cell_type": "code",
   "execution_count": null,
   "id": "122",
   "metadata": {},
   "outputs": [],
   "source": [
    "np.mean(mean_work_array)"
   ]
  },
  {
   "cell_type": "code",
   "execution_count": null,
   "id": "123",
   "metadata": {},
   "outputs": [],
   "source": [
    "np.std(mean_work_array)"
   ]
  },
  {
   "cell_type": "code",
   "execution_count": null,
   "id": "124",
   "metadata": {},
   "outputs": [],
   "source": []
  },
  {
   "cell_type": "code",
   "execution_count": null,
   "id": "125",
   "metadata": {},
   "outputs": [],
   "source": []
  },
  {
   "cell_type": "code",
   "execution_count": null,
   "id": "126",
   "metadata": {},
   "outputs": [],
   "source": [
    "work_distribution_np_array = np.load(\"coupled_flux_qubit_protocol/coupled_flux_qubit_data_gallery/6aadc3862c80d54c93d667d2fcdf33e7df4df3733c5f1e07e55062ec067d24e7_work_distribution.npy\")"
   ]
  },
  {
   "cell_type": "code",
   "execution_count": null,
   "id": "127",
   "metadata": {},
   "outputs": [],
   "source": [
    "mean_work = np.mean(work_distribution_np_array)"
   ]
  },
  {
   "cell_type": "code",
   "execution_count": null,
   "id": "128",
   "metadata": {},
   "outputs": [],
   "source": [
    "plt.hist(work_distribution_np_array, bins = 50)\n",
    "plt.xlabel(r\"work ($k_BT$)\", fontsize=15)\n",
    "plt.xticks(fontsize=14)\n",
    "plt.yticks(fontsize=14)\n",
    "plt.ylim(0, 12000)\n",
    "\n",
    "plt.ylabel(\"counts\", fontsize=15)\n",
    "plt.vlines(x=mean_work, ymin=0, ymax= 10500, colors=\"red\", linestyles=\"--\", linewidth = 3)\n",
    "plt.text(-0.5, 11000, r\"$\\langle W \\rangle $ = \" + f\"{mean_work:.3g}\", fontsize = 13, color = \"red\")\n",
    "# plt.text(x = 1.5, y = 9000, s=\")"
   ]
  },
  {
   "cell_type": "code",
   "execution_count": null,
   "id": "129",
   "metadata": {},
   "outputs": [],
   "source": []
  },
  {
   "cell_type": "markdown",
   "id": "130",
   "metadata": {
    "tags": []
   },
   "source": [
    "# stitch analysis"
   ]
  },
  {
   "cell_type": "code",
   "execution_count": null,
   "id": "131",
   "metadata": {},
   "outputs": [],
   "source": [
    "df = loadDataFrame()"
   ]
  },
  {
   "cell_type": "code",
   "execution_count": null,
   "id": "132",
   "metadata": {},
   "outputs": [],
   "source": [
    "identifier = \"Experiment 5\"\n",
    "target = df[df[\"comment\"].str.find(identifier) == 0]\n",
    "\n",
    "# target = getDataByID(df, \"958a28896d8b11b0b1283b05c5f5816d8816b4b743a8013c2d1e721c2de61d9b\")"
   ]
  },
  {
   "cell_type": "code",
   "execution_count": null,
   "id": "133",
   "metadata": {},
   "outputs": [],
   "source": [
    "list(target[\"simulation_id\"])[0]"
   ]
  },
  {
   "cell_type": "code",
   "execution_count": null,
   "id": "134",
   "metadata": {},
   "outputs": [],
   "source": [
    "getSimulationWorkStatistics(df, list(target[\"simulation_id\"])[0])"
   ]
  },
  {
   "cell_type": "code",
   "execution_count": null,
   "id": "135",
   "metadata": {},
   "outputs": [],
   "source": [
    "showGraph(getSimulationID(target)[0])"
   ]
  },
  {
   "cell_type": "code",
   "execution_count": null,
   "id": "136",
   "metadata": {},
   "outputs": [],
   "source": [
    "np.linspace(15, 40, 6)"
   ]
  },
  {
   "cell_type": "markdown",
   "id": "137",
   "metadata": {},
   "source": [
    "# N analysis"
   ]
  },
  {
   "cell_type": "code",
   "execution_count": null,
   "id": "138",
   "metadata": {},
   "outputs": [],
   "source": [
    "df = loadDataFrame()\n",
    "target = getDataByComment(df, \"Experiment 5 (2024/3/18): N = 1000, 5000 and 50000\")\n",
    "N_array = [1000, 5000, 50000]\n"
   ]
  },
  {
   "cell_type": "code",
   "execution_count": null,
   "id": "139",
   "metadata": {},
   "outputs": [],
   "source": []
  },
  {
   "cell_type": "markdown",
   "id": "140",
   "metadata": {},
   "source": [
    "# M_12 analysis"
   ]
  },
  {
   "cell_type": "code",
   "execution_count": null,
   "id": "141",
   "metadata": {},
   "outputs": [],
   "source": [
    "\n",
    "df = loadDataFrame()\n",
    "target = getDataByComment(df, \"Experiment 1 (2024/7/10)\")\n",
    "sim_id_array = getSimulationID(target)\n",
    "workStatisticArray = [getSimulationWorkStatistics(target, sim_id) for sim_id in sim_id_array]\n",
    "mean_W_array = np.array([(item['mean_W'], item['mean_W_error']) for item in workStatisticArray])\n",
    "jarzy_array = np.array([(item['jarzyn_term'], item['jarzyn_term_error']) for item in workStatisticArray])\n",
    "M_12_array = [d['M_12_on'] for d in target['circuit_parameters'].values]\n",
    "\n",
    "\n",
    "# gamma_array = [d['gamma_1'] for d in target['initial_parameter_dict']]\n",
    "mean_work = list(target[\"mean_work\"])\n",
    "work_distribution_error_array = [3/np.sqrt(10000) * np.std(np.load(f\"/Users/tkwtang/source/coupled_flux_qubit_protocol/coupled_flux_qubit_data_gallery/{sim_id}_work_distribution.npy\")) for sim_id in sim_id_array]"
   ]
  },
  {
   "cell_type": "code",
   "execution_count": null,
   "id": "142",
   "metadata": {},
   "outputs": [],
   "source": []
  },
  {
   "cell_type": "code",
   "execution_count": null,
   "id": "143",
   "metadata": {},
   "outputs": [],
   "source": [
    "plt.errorbar(M_12_array, mean_work,\n",
    "         yerr = work_distribution_error_array,\n",
    "         fmt ='o')\n",
    "# plt.xscale(\"log\")\n",
    "plt.ylabel(r\"$\\langle W \\rangle (k_BT)$\", fontsize = 15)\n",
    "plt.xlabel(\"M_12\", fontsize = 15)"
   ]
  },
  {
   "cell_type": "code",
   "execution_count": null,
   "id": "144",
   "metadata": {},
   "outputs": [],
   "source": []
  },
  {
   "cell_type": "markdown",
   "id": "145",
   "metadata": {
    "tags": []
   },
   "source": [
    "# gamma analysis"
   ]
  },
  {
   "cell_type": "code",
   "execution_count": null,
   "id": "146",
   "metadata": {},
   "outputs": [],
   "source": [
    "df = loadDataFrame()\n",
    "target = getDataByComment(df, \"Experiment 1 (2024/3/18)\")\n",
    "sim_id_array = getSimulationID(target)\n",
    "workStatisticArray = [getSimulationWorkStatistics(target, sim_id) for sim_id in sim_id_array]\n",
    "mean_W_array = np.array([(item['mean_W'], item['mean_W_error']) for item in workStatisticArray])\n",
    "jarzy_array = np.array([(item['jarzyn_term'], item['jarzyn_term_error']) for item in workStatisticArray])\n",
    "\n",
    "gamma_array = [d['gamma_1'] for d in target['initial_parameter_dict']]\n",
    "mean_work = list(target[\"mean_work\"])\n",
    "work_distribution_error_array = [3/np.sqrt(10000) * np.std(np.load(f\"/Users/tkwtang/source/coupled_flux_qubit_protocol/coupled_flux_qubit_data_gallery/{sim_id}_work_distribution.npy\")) for sim_id in sim_id_array]"
   ]
  },
  {
   "cell_type": "code",
   "execution_count": null,
   "id": "147",
   "metadata": {},
   "outputs": [],
   "source": [
    "plt.errorbar(gamma_array, mean_work,\n",
    "         yerr = work_distribution_error_array,\n",
    "         fmt ='o')\n",
    "# plt.xscale(\"log\")\n",
    "plt.ylabel(r\"$\\langle W \\rangle (k_BT)$\", fontsize = 15)\n",
    "plt.xlabel(\"gamma\", fontsize = 15)"
   ]
  },
  {
   "cell_type": "code",
   "execution_count": null,
   "id": "148",
   "metadata": {},
   "outputs": [],
   "source": [
    "work_dist_data = [d[\"work_distribution_data\"] for d in workStatisticArray]\n",
    "work_stat_data = [d[\"work_statistic_data\"] for d in workStatisticArray]"
   ]
  },
  {
   "cell_type": "code",
   "execution_count": null,
   "id": "149",
   "metadata": {},
   "outputs": [],
   "source": [
    "for i, d in enumerate(work_stat_data):\n",
    "    plt.plot(d[:, 0], label = gamma_array[i])\n",
    "plt.legend()"
   ]
  },
  {
   "cell_type": "code",
   "execution_count": null,
   "id": "150",
   "metadata": {},
   "outputs": [],
   "source": [
    "for d in work_dist_data:\n",
    "    plt.hist(d, bins = 50)"
   ]
  },
  {
   "cell_type": "code",
   "execution_count": null,
   "id": "151",
   "metadata": {},
   "outputs": [],
   "source": [
    "plt.errorbar(gamma_array, mean_work,\n",
    "         yerr = work_distribution_error_array,\n",
    "         fmt ='o')\n",
    "plt.ylabel(r\"$\\langle W \\rangle (k_BT)$\", fontsize = 15)\n",
    "plt.xlabel(r\"$\\gamma$\", fontsize = 15)"
   ]
  },
  {
   "cell_type": "markdown",
   "id": "152",
   "metadata": {},
   "source": [
    "# L analysis"
   ]
  },
  {
   "cell_type": "code",
   "execution_count": null,
   "id": "153",
   "metadata": {},
   "outputs": [],
   "source": [
    "df = loadDataFrame()\n",
    "target = getDataByComment(df, \"Experiment 3 (2024/3/25)\")\n",
    "sim_id_array = getSimulationID(target)\n"
   ]
  },
  {
   "cell_type": "code",
   "execution_count": null,
   "id": "154",
   "metadata": {},
   "outputs": [],
   "source": [
    "target.head(1).columns"
   ]
  },
  {
   "cell_type": "code",
   "execution_count": null,
   "id": "155",
   "metadata": {},
   "outputs": [],
   "source": [
    "workStatisticArray = [getSimulationWorkStatistics(target, sim_id) for sim_id in sim_id_array]\n",
    "mean_W_array = np.array([(item['mean_W'], item['mean_W_error']) for item in workStatisticArray])\n",
    "jarzy_array = np.array([(item['jarzyn_term'], item['jarzyn_term_error']) for item in workStatisticArray])"
   ]
  },
  {
   "cell_type": "code",
   "execution_count": null,
   "id": "156",
   "metadata": {},
   "outputs": [],
   "source": [
    "# L_array = np.array([item['circuit_params'][\"L_1\"] for item in target[\"params\"]]) * 1e9\n",
    "# L_array = np.array([0.01, 0.05, 0.1, 0.5, 1, 5, 10, 50, 100]) * 1\n",
    "L_array = [d[\"L_factor\"] for d in target['circuit_parameters'].values]\n",
    "mean_work = list(target[\"mean_work\"])\n",
    "work_distribution_error_array = [3/np.sqrt(10000) * np.std(np.load(f\"/Users/tkwtang/source/coupled_flux_qubit_protocol/coupled_flux_qubit_data_gallery/{sim_id}_work_distribution.npy\")) for sim_id in sim_id_array]\n",
    "\n",
    "\n"
   ]
  },
  {
   "cell_type": "code",
   "execution_count": null,
   "id": "157",
   "metadata": {},
   "outputs": [],
   "source": [
    "L_array"
   ]
  },
  {
   "cell_type": "code",
   "execution_count": null,
   "id": "158",
   "metadata": {},
   "outputs": [],
   "source": [
    "for x in zip(L_array, mean_work):\n",
    "    print(f\"({x[0]:.3g}, {x[1]:.3g})\")"
   ]
  },
  {
   "cell_type": "code",
   "execution_count": null,
   "id": "159",
   "metadata": {},
   "outputs": [],
   "source": [
    "plt.errorbar(L_array, mean_work,\n",
    "         yerr = work_distribution_error_array,\n",
    "         fmt ='o')\n",
    "plt.xscale(\"log\")\n",
    "plt.ylabel(r\"$\\langle W \\rangle (k_BT)$\", fontsize = 15)\n",
    "plt.xlabel(\"L (nH)\", fontsize = 15)"
   ]
  },
  {
   "cell_type": "code",
   "execution_count": null,
   "id": "160",
   "metadata": {},
   "outputs": [],
   "source": [
    "target[\"fidelity\"].values[2]"
   ]
  },
  {
   "cell_type": "markdown",
   "id": "161",
   "metadata": {},
   "source": [
    "# C analysis"
   ]
  },
  {
   "cell_type": "code",
   "execution_count": null,
   "id": "162",
   "metadata": {},
   "outputs": [],
   "source": [
    "df = loadDataFrame()\n",
    "target = getDataByComment(df, \"Experiment 7 (2024/3/17): C_factor Test\")\n",
    "sim_id_array = getSimulationID(target)\n",
    "# C_array = np.array([0.01, 0.05, 0.1, 0.5, 1, 5, 10, 50, 100]) * 4\n",
    "C_array = [d[\"C_factor\"] for d in target['circuit_parameters']]"
   ]
  },
  {
   "cell_type": "code",
   "execution_count": null,
   "id": "163",
   "metadata": {},
   "outputs": [],
   "source": [
    "C_array"
   ]
  },
  {
   "cell_type": "code",
   "execution_count": null,
   "id": "164",
   "metadata": {},
   "outputs": [],
   "source": [
    "workStatisticArray = [getSimulationWorkStatistics(target, sim_id) for sim_id in sim_id_array]\n",
    "mean_W_array = np.array([(item['mean_W'], item['mean_W_error']) for item in workStatisticArray])\n",
    "jarzy_array = np.array([(item['jarzyn_term'], item['jarzyn_term_error']) for item in workStatisticArray])"
   ]
  },
  {
   "cell_type": "code",
   "execution_count": null,
   "id": "165",
   "metadata": {},
   "outputs": [],
   "source": [
    "mean_W_array"
   ]
  },
  {
   "cell_type": "code",
   "execution_count": null,
   "id": "166",
   "metadata": {},
   "outputs": [],
   "source": [
    "plt.xscale(\"log\")\n",
    "plt.errorbar(C_array, mean_W_array[:,0], yerr=mean_W_array[:,1], fmt=\"o\")"
   ]
  },
  {
   "cell_type": "code",
   "execution_count": null,
   "id": "167",
   "metadata": {},
   "outputs": [],
   "source": [
    "mean_work = list(target[\"mean_work\"])\n",
    "work_distribution_error_array = [3/np.sqrt(10000) * np.std(np.load(f\"/Users/tkwtang/source/coupled_flux_qubit_protocol/coupled_flux_qubit_data_gallery/{sim_id}_work_distribution.npy\")) for sim_id in sim_id_array]\n"
   ]
  },
  {
   "cell_type": "code",
   "execution_count": null,
   "id": "168",
   "metadata": {},
   "outputs": [],
   "source": [
    "showGraph(target.simulation_id.values[0])"
   ]
  },
  {
   "cell_type": "code",
   "execution_count": null,
   "id": "169",
   "metadata": {},
   "outputs": [],
   "source": [
    "getSimulationWorkStatistics(target, target.simulation_id.values[0])"
   ]
  },
  {
   "cell_type": "code",
   "execution_count": null,
   "id": "170",
   "metadata": {},
   "outputs": [],
   "source": [
    "plt.errorbar(C_array, mean_work,\n",
    "         yerr = work_distribution_error_array,\n",
    "         fmt ='o')\n",
    "plt.xscale(\"log\")\n",
    "plt.ylabel(r\"$\\langle W \\rangle (k_BT)$\", fontsize = 15)\n",
    "plt.xlabel(\"C (nF)\", fontsize = 15)"
   ]
  },
  {
   "cell_type": "code",
   "execution_count": null,
   "id": "171",
   "metadata": {},
   "outputs": [],
   "source": [
    "target"
   ]
  },
  {
   "cell_type": "code",
   "execution_count": null,
   "id": "172",
   "metadata": {},
   "outputs": [],
   "source": []
  },
  {
   "cell_type": "code",
   "execution_count": null,
   "id": "173",
   "metadata": {},
   "outputs": [],
   "source": []
  },
  {
   "cell_type": "markdown",
   "id": "174",
   "metadata": {
    "tags": []
   },
   "source": [
    "# dt analysis"
   ]
  },
  {
   "cell_type": "code",
   "execution_count": null,
   "id": "175",
   "metadata": {},
   "outputs": [],
   "source": [
    "df = loadDataFrame()\n",
    "target = getDataByComment(df, \"Experiment 0 (2024/10/11): dt analysis of NAND with no KE_extraction\")\n",
    "sim_id_array = getSimulationID(target)"
   ]
  },
  {
   "cell_type": "code",
   "execution_count": null,
   "id": "176",
   "metadata": {},
   "outputs": [],
   "source": [
    "dt_array = [1/item[\"dt\"] for item in list(target[\"params\"])]\n",
    "N_array = [item[\"N\"] for item in list(target[\"params\"])]\n",
    "\n",
    "workStatisticArray = [getSimulationWorkStatistics(target, sim_id) for sim_id in sim_id_array]"
   ]
  },
  {
   "cell_type": "code",
   "execution_count": null,
   "id": "177",
   "metadata": {},
   "outputs": [],
   "source": [
    "np.mean(workStatisticArray[0]['work_distribution_data'])"
   ]
  },
  {
   "cell_type": "code",
   "execution_count": null,
   "id": "178",
   "metadata": {},
   "outputs": [],
   "source": [
    "mean_W_array = np.array([(item['mean_W'], item['mean_W_error']) for item in workStatisticArray])\n",
    "\n",
    "jarzy_array = np.array([(item['jarzyn_term'], item['jarzyn_term_error']) for item in workStatisticArray])"
   ]
  },
  {
   "cell_type": "code",
   "execution_count": null,
   "id": "179",
   "metadata": {},
   "outputs": [],
   "source": [
    "jarzy_array"
   ]
  },
  {
   "cell_type": "code",
   "execution_count": null,
   "id": "180",
   "metadata": {},
   "outputs": [],
   "source": [
    "plt.xscale('log')\n",
    "plt.ylabel('work_done')\n",
    "plt.xlabel('1/dt')\n",
    "plt.scatter(dt_array, mean_W_array[:, 0])"
   ]
  },
  {
   "cell_type": "code",
   "execution_count": null,
   "id": "181",
   "metadata": {},
   "outputs": [],
   "source": [
    "plt.xscale('log')\n",
    "plt.ylabel(r'<W> ($k_BT$)')\n",
    "plt.xlabel('N')\n",
    "plt.scatter(N_array, mean_W_array[:, 0])\n",
    "plt.title(\"Work vs N, compensated asymmetric potential with 4 wells\")\n",
    "plt.errorbar(N_array, mean_W_array[:, 0], yerr=mean_W_array[:, 1], fmt=\"o\")"
   ]
  },
  {
   "cell_type": "code",
   "execution_count": null,
   "id": "182",
   "metadata": {},
   "outputs": [],
   "source": [
    "mean_W_array"
   ]
  },
  {
   "cell_type": "code",
   "execution_count": null,
   "id": "183",
   "metadata": {},
   "outputs": [],
   "source": [
    "N = [1000, 5000, 50000]\n",
    "mean_W = [0.35034596, 0.35923384, 0.35848354]\n",
    "mean_W_error = [0.02392575, 0.01020013, 0.00320485]"
   ]
  },
  {
   "cell_type": "code",
   "execution_count": null,
   "id": "184",
   "metadata": {},
   "outputs": [],
   "source": [
    "sim_id_array"
   ]
  },
  {
   "cell_type": "code",
   "execution_count": null,
   "id": "185",
   "metadata": {},
   "outputs": [],
   "source": []
  },
  {
   "cell_type": "code",
   "execution_count": null,
   "id": "186",
   "metadata": {},
   "outputs": [],
   "source": []
  },
  {
   "cell_type": "code",
   "execution_count": null,
   "id": "187",
   "metadata": {},
   "outputs": [],
   "source": []
  },
  {
   "cell_type": "markdown",
   "id": "188",
   "metadata": {},
   "source": [
    "# I_m test and phi_x_test"
   ]
  },
  {
   "cell_type": "code",
   "execution_count": null,
   "id": "189",
   "metadata": {},
   "outputs": [],
   "source": [
    "df = loadDataFrame()\n",
    "target = getDataByComment(df, \"Experiment 1 (2024/9/22): Try to use Im_factor = 15 and C = 1, with np.linspace(-0.2, -0.19, 20)\")\n",
    "# target = getDataByID(df, \"7ae7b3f29b714216afd6ab99005d39ab50195970416dafffea3930e43ac5ccd8\")\n",
    "sim_id_array = getSimulationID(target)\n",
    "print(len(target))"
   ]
  },
  {
   "cell_type": "code",
   "execution_count": null,
   "id": "190",
   "metadata": {},
   "outputs": [],
   "source": [
    "target"
   ]
  },
  {
   "cell_type": "code",
   "execution_count": null,
   "id": "191",
   "metadata": {},
   "outputs": [],
   "source": []
  },
  {
   "cell_type": "code",
   "execution_count": null,
   "id": "192",
   "metadata": {},
   "outputs": [],
   "source": []
  },
  {
   "cell_type": "code",
   "execution_count": null,
   "id": "193",
   "metadata": {},
   "outputs": [],
   "source": [
    "phi_x_on_values = [t['phi_1_x_on'] for t in list(target['circuit_parameters'])]"
   ]
  },
  {
   "cell_type": "code",
   "execution_count": null,
   "id": "194",
   "metadata": {},
   "outputs": [],
   "source": [
    "fidelity_list = []\n",
    "for data in list(target['fidelity']):\n",
    "    fidelity_list.append(np.array([row['final_percentage'] for row in data]))"
   ]
  },
  {
   "cell_type": "code",
   "execution_count": null,
   "id": "195",
   "metadata": {},
   "outputs": [],
   "source": []
  },
  {
   "cell_type": "code",
   "execution_count": null,
   "id": "196",
   "metadata": {},
   "outputs": [],
   "source": [
    "fidelity_list = np.array(fidelity_list, dtype = float)"
   ]
  },
  {
   "cell_type": "code",
   "execution_count": null,
   "id": "197",
   "metadata": {},
   "outputs": [],
   "source": [
    "fidelity_list[:, 0:2, (1, 3)] = fidelity_list[:, 2:4, (1, 3)]"
   ]
  },
  {
   "cell_type": "code",
   "execution_count": null,
   "id": "198",
   "metadata": {},
   "outputs": [],
   "source": [
    "phi_x_on_value_array = np.linspace(-0.0080, -0.0040, 10)\n",
    "np.array(np.meshgrid(phi_x_on_value_array, phi_x_on_value_array)).T.reshape(-1,2)[24]"
   ]
  },
  {
   "cell_type": "code",
   "execution_count": null,
   "id": "199",
   "metadata": {},
   "outputs": [],
   "source": [
    "square_difference = np.square((fidelity_list[:, (0,1), :] - 0.5).reshape(fidelity_list.shape[0], -1))\n",
    "sum_of_sqrt_difference = np.sqrt(np.sum(square_difference, axis = 1))"
   ]
  },
  {
   "cell_type": "code",
   "execution_count": null,
   "id": "200",
   "metadata": {},
   "outputs": [],
   "source": [
    "plt.plot(phi_x_on_values, sum_of_sqrt_difference)\n",
    "plt.ylim(0, 0.5)"
   ]
  },
  {
   "cell_type": "code",
   "execution_count": null,
   "id": "201",
   "metadata": {},
   "outputs": [],
   "source": [
    "phi_x_on_values[minimum_index]"
   ]
  },
  {
   "cell_type": "code",
   "execution_count": null,
   "id": "202",
   "metadata": {},
   "outputs": [],
   "source": [
    "minimum_index"
   ]
  },
  {
   "cell_type": "code",
   "execution_count": null,
   "id": "203",
   "metadata": {},
   "outputs": [],
   "source": [
    "minimum_index = np.argmin(sum_of_sqrt_difference)"
   ]
  },
  {
   "cell_type": "code",
   "execution_count": null,
   "id": "204",
   "metadata": {},
   "outputs": [],
   "source": [
    "target.iloc[minimum_index]['fidelity']"
   ]
  },
  {
   "cell_type": "code",
   "execution_count": null,
   "id": "205",
   "metadata": {},
   "outputs": [],
   "source": [
    "target.iloc[minimum_index]['circuit_parameters']"
   ]
  },
  {
   "cell_type": "code",
   "execution_count": null,
   "id": "206",
   "metadata": {},
   "outputs": [],
   "source": [
    "target.iloc[minimum_index]['initial_parameter_dict']"
   ]
  },
  {
   "cell_type": "code",
   "execution_count": null,
   "id": "207",
   "metadata": {},
   "outputs": [],
   "source": [
    "target.iloc[minimum_index]['protocol_list_item']"
   ]
  },
  {
   "cell_type": "code",
   "execution_count": null,
   "id": "208",
   "metadata": {},
   "outputs": [],
   "source": [
    "target.iloc[minimum_index]['simulation_id']"
   ]
  },
  {
   "cell_type": "code",
   "execution_count": null,
   "id": "209",
   "metadata": {},
   "outputs": [],
   "source": [
    "print(np.mean(work_distribution_data_array[minimum_index]))\n",
    "plt.hist(work_distribution_data_array[minimum_index], bins = 50)\n",
    "plt.show()"
   ]
  },
  {
   "cell_type": "code",
   "execution_count": null,
   "id": "210",
   "metadata": {},
   "outputs": [],
   "source": [
    "work_distribution_data_array = [ \n",
    "    np.load(f\"coupled_flux_qubit_protocol/coupled_flux_qubit_data_gallery/{sim_id}_work_distribution.npy\")\n",
    "    for sim_id in list(target['simulation_id'])]"
   ]
  },
  {
   "cell_type": "code",
   "execution_count": null,
   "id": "211",
   "metadata": {},
   "outputs": [],
   "source": [
    "for dist in work_distribution_data_array:\n",
    "    plt.hist(dist, bins = 50)\n",
    "    plt.vlines(np.mean(dist), ymin =0, ymax = 300, colors= \"red\")\n",
    "    plt.show()"
   ]
  },
  {
   "cell_type": "code",
   "execution_count": null,
   "id": "212",
   "metadata": {},
   "outputs": [],
   "source": [
    "for item in list(target['fidelity']):\n",
    "    final_percentage_matrix = np.array([d[\"final_percentage\"] for d in item]).T\n",
    "    text_box_array = [\"\\n\".join(row) for row in final_percentage_matrix]\n",
    "\n",
    "    \n",
    "    # fig, ax = plt.subplots(1, 1, figsize = [10, 4])\n",
    "    plt.figure(figsize=[4, 4])\n",
    "    # plt.title(f\"N = {item['N']}, dt = {item['dt']}, t1 = {item['protocol_list'][-1]['duration']} \")\n",
    "    plt.xlim(-5, 5); plt.ylim(-5, 5);\n",
    "    plt.text(-3.25, -3.5, text_box_array[0]); plt.text(-3.25, 1.5, text_box_array[1])\n",
    "    plt.text(1.75, -3.5, text_box_array[2]); plt.text(1.75, 1.5, text_box_array[3])\n",
    "    plt.vlines(0, ymin = -5, ymax = 5); plt.hlines(0, xmin = -5, xmax = 5)\n",
    "    plt.show()\n"
   ]
  },
  {
   "cell_type": "code",
   "execution_count": null,
   "id": "213",
   "metadata": {},
   "outputs": [],
   "source": []
  },
  {
   "cell_type": "code",
   "execution_count": null,
   "id": "214",
   "metadata": {},
   "outputs": [],
   "source": []
  },
  {
   "cell_type": "code",
   "execution_count": null,
   "id": "215",
   "metadata": {},
   "outputs": [],
   "source": [
    "I_m_array = np.array([item['circuit_params']['I_m_1'] for item in list(target['params'])]) * 1e9"
   ]
  },
  {
   "cell_type": "code",
   "execution_count": null,
   "id": "216",
   "metadata": {},
   "outputs": [],
   "source": [
    "mean_W_array = [getSimulationWorkStatistics(df,sim_id )['mean_W'] for sim_id in sim_id_array]"
   ]
  },
  {
   "cell_type": "code",
   "execution_count": null,
   "id": "217",
   "metadata": {},
   "outputs": [],
   "source": [
    "plt.ylabel(r\"$\\langle W \\rangle$\")\n",
    "plt.xlabel(r\"$I_m (nA)$\")\n",
    "# plt.xscale(\"log\")\n",
    "plt.scatter(I_m_array, mean_W_array)"
   ]
  },
  {
   "cell_type": "code",
   "execution_count": null,
   "id": "218",
   "metadata": {},
   "outputs": [],
   "source": []
  },
  {
   "cell_type": "code",
   "execution_count": null,
   "id": "219",
   "metadata": {},
   "outputs": [],
   "source": [
    "\n",
    "df = loadDataFrame()\n",
    "target = getDataByComment(df, \"Experiment 5 (2024/2/24): see the effect of M_12\")\n",
    "sim_id_array = getSimulationID(target)"
   ]
  },
  {
   "cell_type": "code",
   "execution_count": null,
   "id": "220",
   "metadata": {},
   "outputs": [],
   "source": [
    "M_12_array = [d['circuit_parameter'][\"M_12_on\"] for d in target['params']]\n",
    "# I_m_array = np.array([item['circuit_param']['M_12_on'] for item in list(target['params'])])"
   ]
  },
  {
   "cell_type": "code",
   "execution_count": null,
   "id": "221",
   "metadata": {},
   "outputs": [],
   "source": [
    "workStatisticArray = [getSimulationWorkStatistics(target, sim_id) for sim_id in sim_id_array]\n",
    "mean_W_array = np.array([(item['mean_W'], item['mean_W_error']) for item in workStatisticArray])\n",
    "jarzy_array = np.array([(item['jarzyn_term'], item['jarzyn_term_error']) for item in workStatisticArray])\n",
    "mean_work = list(target[\"mean_work\"])\n",
    "work_distribution_error_array = [3/np.sqrt(10000) * np.std(np.load(f\"/Users/tkwtang/source/coupled_flux_qubit_protocol/coupled_flux_qubit_data_gallery/{sim_id}_work_distribution.npy\")) for sim_id in sim_id_array]\n",
    "\n",
    "plt.errorbar(M_12_array, mean_work,\n",
    "         yerr = work_distribution_error_array,\n",
    "         fmt ='o')\n",
    "# plt.xscale(\"log\")\n",
    "plt.ylabel(r\"$\\langle W \\rangle (k_BT)$\", fontsize = 15)\n",
    "plt.xlabel(\"L (nH)\", fontsize = 15)"
   ]
  },
  {
   "cell_type": "code",
   "execution_count": null,
   "id": "222",
   "metadata": {},
   "outputs": [],
   "source": []
  },
  {
   "cell_type": "markdown",
   "id": "223",
   "metadata": {},
   "source": [
    "# fidelity analysis"
   ]
  },
  {
   "cell_type": "code",
   "execution_count": null,
   "id": "224",
   "metadata": {},
   "outputs": [],
   "source": [
    "df = loadDataFrame()\n",
    "\n",
    "# target = getDataByID(df, \"5aec0e959e8dcfe0fa75be2316b8c18c49debf818321aa76c32966fe9460c40e\")\n",
    "target = getDataByComment(df, \"Experiment 2 (2024/1/30)\")"
   ]
  },
  {
   "cell_type": "code",
   "execution_count": null,
   "id": "225",
   "metadata": {},
   "outputs": [],
   "source": [
    "showFidelity(target)"
   ]
  },
  {
   "cell_type": "code",
   "execution_count": null,
   "id": "226",
   "metadata": {},
   "outputs": [],
   "source": []
  },
  {
   "cell_type": "code",
   "execution_count": null,
   "id": "227",
   "metadata": {},
   "outputs": [],
   "source": [
    "final_percentage_matrix"
   ]
  },
  {
   "cell_type": "code",
   "execution_count": null,
   "id": "228",
   "metadata": {
    "tags": []
   },
   "outputs": [],
   "source": [
    "import numpy as np\n",
    "from scipy.optimize import fsolve\n",
    "import matplotlib.pyplot as plt\n",
    "# 4 well potential\n",
    "def Fcn_4_well(x):\n",
    "    return [x[0] - beta_2 * np.sin(x[0]), \n",
    "                x[1] - beta_2 * np.sin(x[1])\n",
    "    ]\n",
    "sol_1 = fsolve(Fcn_4_well, [2, 2])\n",
    "sol_2 = fsolve(Fcn_4_well, [2, -2])\n",
    "sol_3 = fsolve(Fcn_4_well, [-2, 2])\n",
    "sol_4 = fsolve(Fcn_4_well, [-2, -2])\n",
    "\n",
    "print(sol_1, sol_2, sol_3, sol_4)"
   ]
  },
  {
   "attachments": {
    "60d895a3-cf2a-472e-95d5-98f71e77b109.png": {
     "image/png": "[encoded data removed]"
    }
   },
   "cell_type": "markdown",
   "id": "229",
   "metadata": {},
   "source": [
    "![image.png](attachment:60d895a3-cf2a-472e-95d5-98f71e77b109.png)"
   ]
  },
  {
   "cell_type": "code",
   "execution_count": null,
   "id": "230",
   "metadata": {},
   "outputs": [],
   "source": [
    "# mix in y\n",
    "def Fcn_Mix_in_y(x):\n",
    "    return [\n",
    "          x[0] - beta_2 * np.sin(x[0]), \n",
    "          x[1] - beta_2 * np.sin(x[1]) * np.cos(3/2) + d_beta_2 * np.cos(x[1]) * np.sin(3/2)\n",
    "    ]\n",
    "sol_1 = fsolve(Fcn_Mix_in_y, [2, 0])\n",
    "sol_2 = fsolve(Fcn_Mix_in_y, [-2, 0])\n",
    "print(sol_1, sol_2)"
   ]
  },
  {
   "attachments": {
    "4621a5c4-58e7-47d5-b8d5-641c41d2da76.png": {
     "image/png": "[encoded data removed]"
    }
   },
   "cell_type": "markdown",
   "id": "231",
   "metadata": {},
   "source": [
    "![image.png](attachment:4621a5c4-58e7-47d5-b8d5-641c41d2da76.png)"
   ]
  },
  {
   "cell_type": "code",
   "execution_count": null,
   "id": "232",
   "metadata": {},
   "outputs": [],
   "source": [
    "# Conditional_tilt\n",
    "def Fcn_conditional_tilt(x):\n",
    "    return [x[0] - beta_1 * np.sin(x[0]) + -0.6 * x[1],\n",
    "            x[1] - beta_2 * np.sin(x[1]) * np.cos(3/2) + d_beta_2 * np.cos(x[1]) * np.sin(3/2) + -0.6 * x[0]]\n",
    "\n",
    "sol_1 = fsolve(Fcn_conditional_tilt, [2.6, 2])\n",
    "sol_2 = fsolve(Fcn_conditional_tilt, [-2.6, -2])\n",
    "print(sol_1, sol_2)"
   ]
  },
  {
   "attachments": {
    "c04f4ac7-3a30-4009-b518-52fd4fb863e6.png": {
     "image/png": "[encoded data removed]"
    }
   },
   "cell_type": "markdown",
   "id": "233",
   "metadata": {},
   "source": [
    "![image.png](attachment:c04f4ac7-3a30-4009-b518-52fd4fb863e6.png)"
   ]
  },
  {
   "cell_type": "code",
   "execution_count": null,
   "id": "234",
   "metadata": {},
   "outputs": [],
   "source": [
    "def Fcn_raise_barrier(x):\n",
    "    return [x[0] - beta_1 * np.sin(x[0]) - 0.6 * x[1],\n",
    "            x[1] - beta_2 * np.sin(x[1]) - 0.6 * x[0]\n",
    "           ]\n",
    "\n",
    "sol_1 = fsolve(Fcn_raise_barrier, [2.6, 2])\n",
    "sol_2 = fsolve(Fcn_raise_barrier, [-2.6, -2])\n",
    "print(sol_1, sol_2)"
   ]
  },
  {
   "cell_type": "code",
   "execution_count": null,
   "id": "235",
   "metadata": {},
   "outputs": [],
   "source": [
    "def Fcn_conditional_tilt_in_x(x):\n",
    "    return [\n",
    "          x[0] - beta_2 * np.sin(x[0]) * np.cos(3/2) + d_beta_2 * np.cos(x[0]) * np.sin(3/2) + -0.6 * x[1],\n",
    "          x[1] - beta_1 * np.sin(x[1]) + -0.6 * x[0],\n",
    "    ]\n",
    "sol_1 = fsolve(Fcn_conditional_tilt_in_x, [2, 2])\n",
    "sol_2 = fsolve(Fcn_conditional_tilt_in_x, [-2, -2])\n",
    "print(sol_1, sol_2)"
   ]
  },
  {
   "cell_type": "code",
   "execution_count": null,
   "id": "236",
   "metadata": {},
   "outputs": [],
   "source": [
    "# mix in y\n",
    "\n",
    "def Fcn_Mix_in_x(x):\n",
    "    return [\n",
    "        x[0] - beta_2 * np.sin(x[0]) * np.cos(3/2) + d_beta_2 * np.cos(x[0]) * np.sin(3/2),\n",
    "        x[1] - beta_2 * np.sin(x[1])\n",
    "    ]\n",
    "sol_1 = fsolve(Fcn_Mix_in_x, [0, 2])\n",
    "sol_2 = fsolve(Fcn_Mix_in_x, [0, -2])\n",
    "print(sol_1, sol_2)"
   ]
  },
  {
   "cell_type": "code",
   "execution_count": null,
   "id": "237",
   "metadata": {},
   "outputs": [],
   "source": [
    "sol"
   ]
  },
  {
   "cell_type": "code",
   "execution_count": null,
   "id": "238",
   "metadata": {},
   "outputs": [],
   "source": [
    "score_string = \"\"\"12.5\n",
    "12.75\n",
    "15.25\n",
    "16\n",
    "16.75\n",
    "17.25\n",
    "17.5\n",
    "18.25\n",
    "20\n",
    "20\n",
    "20\n",
    "20\n",
    "20\n",
    "20\n",
    "9.25\n",
    "11.75\n",
    "12.25\n",
    "13.25\n",
    "13.25\n",
    "14\n",
    "15.25\n",
    "15.75\n",
    "15.75\n",
    "20\n",
    "20\n",
    "20\n",
    "20\n",
    "8.5\n",
    "12.25\n",
    "13\n",
    "13.25\n",
    "14.25\n",
    "14.5\n",
    "15\n",
    "16\n",
    "17.5\n",
    "19\n",
    "19.5\n",
    "20\n",
    "20\n",
    "20\n",
    "20\n",
    "20\n",
    "20\n",
    "9.25\n",
    "11\n",
    "11\n",
    "12.5\n",
    "13.25\n",
    "13.5\n",
    "15.75\n",
    "16.75\n",
    "17.25\n",
    "17.5\n",
    "19\n",
    "20\n",
    "20\n",
    "20\n",
    "20\n",
    "20\"\"\""
   ]
  },
  {
   "cell_type": "code",
   "execution_count": null,
   "id": "239",
   "metadata": {},
   "outputs": [],
   "source": [
    "quiz_1_data = [float(s) for s in score_string.split(\"\\n\")]"
   ]
  },
  {
   "cell_type": "code",
   "execution_count": null,
   "id": "240",
   "metadata": {},
   "outputs": [],
   "source": [
    "plt.hist(quiz_1_data)"
   ]
  },
  {
   "cell_type": "code",
   "execution_count": null,
   "id": "241",
   "metadata": {},
   "outputs": [],
   "source": [
    "sim_id = \"36e21ba0a419f66257fdedf5f312f85e4e404beb8a37796c5e9992c32095e690\""
   ]
  },
  {
   "cell_type": "code",
   "execution_count": null,
   "id": "242",
   "metadata": {},
   "outputs": [],
   "source": [
    "np.load(f\"coupled_flux_qubit_protocol/coupled_flux_qubit_data_gallery/{sim_id}_all_state.npy\")"
   ]
  },
  {
   "cell_type": "code",
   "execution_count": null,
   "id": "243",
   "metadata": {},
   "outputs": [],
   "source": [
    "# comparing two work distributions"
   ]
  },
  {
   "cell_type": "code",
   "execution_count": null,
   "id": "244",
   "metadata": {
    "tags": []
   },
   "outputs": [],
   "source": [
    "sim_id_1 = \"982112af728dc4b2496bee543c0cadeb9a73d86b59c5cc868ed4a941e9874955\"\n",
    "sim_id_2 = \"23818bed74c7e71a603fa84bd2fc8b9ffb768f5252fc76562cc57d5de868d76d\"\n",
    "\n",
    "work_distribution_time_array_1 = np.load(f\"coupled_flux_qubit_protocol/coupled_flux_qubit_data_gallery/{sim_id_1}_work_distribution_time_array.npy\")\n",
    "work_distribution_time_array_2 = np.load(f\"coupled_flux_qubit_protocol/coupled_flux_qubit_data_gallery/{sim_id_2}_work_distribution_time_array.npy\")\n",
    "\n"
   ]
  },
  {
   "cell_type": "code",
   "execution_count": null,
   "id": "245",
   "metadata": {},
   "outputs": [],
   "source": [
    "\n",
    "def plot_work_dist_with_time(work_distribution_time_array_1, work_distribution_time_array_2):\n",
    "    fig, ax = plt.subplots(1, 2)\n",
    "    \n",
    "    fig.set_size_inches(10,5)\n",
    "    \n",
    "    def animate(i):\n",
    "        ax[0].clear()\n",
    "        ax[1].clear()\n",
    "        # Get the point from the points list at index i\n",
    "        _dist_1 = work_distribution_time_array_1[i]\n",
    "        _dist_2 = work_distribution_time_array_2[i]\n",
    "        work_min = np.min(_dist_1) - 3\n",
    "        work_max = np.max(_dist_1) + 3\n",
    "        bins = np.linspace(work_min, work_max, 50)\n",
    "\n",
    "        # Plot that point using the x and y coordinates\n",
    "        ax[0].hist(_dist_1, bins = bins)\n",
    "        ax[1].hist(_dist_2, bins = bins)\n",
    "        # ax[0].set_title(f\"t = {_skipped_step_time_array[i]}\")\n",
    "        # Set the x and y axis to display a fixed range\n",
    "    ani = animation.FuncAnimation(fig, animate, frames=len(work_distribution_time_array_1),\n",
    "                        interval=100, repeat=False)\n",
    "    plt.close()\n",
    "    return ani\n",
    "\n",
    "\n"
   ]
  },
  {
   "cell_type": "code",
   "execution_count": null,
   "id": "246",
   "metadata": {},
   "outputs": [],
   "source": [
    "skip_frame = 25\n",
    "ani = plot_work_dist_with_time(work_distribution_time_array_1[::skip_frame], work_distribution_time_array_2[::skip_frame])\n",
    "html = HTML(ani.to_html5_video())\n",
    "\n"
   ]
  },
  {
   "cell_type": "code",
   "execution_count": null,
   "id": "247",
   "metadata": {},
   "outputs": [],
   "source": [
    "display(html)"
   ]
  },
  {
   "cell_type": "code",
   "execution_count": null,
   "id": "248",
   "metadata": {},
   "outputs": [],
   "source": []
  },
  {
   "cell_type": "markdown",
   "id": "249",
   "metadata": {},
   "source": [
    "# substage analysis"
   ]
  },
  {
   "cell_type": "code",
   "execution_count": null,
   "id": "250",
   "metadata": {},
   "outputs": [],
   "source": []
  },
  {
   "cell_type": "code",
   "execution_count": null,
   "id": "251",
   "metadata": {},
   "outputs": [],
   "source": [
    "t_array = [50, 100, 150, 200, 300, 500]\n",
    "id_array = [\"8aee356774764f477730154fab05226f7bf6571771352d339b28acd53a86cd9f\", \n",
    "            \"6dec0ac15997cf1ec4f572d663b59d7872c7e2439fe28b7358cd9f2da3cc280d\",\n",
    "            \"b5ccb03a99261536075d7705af4eb33856182059c242a57b50a0596cb63c617d\", \n",
    "            \"3af89054483684f98067a6fe48d44b7b4b443a0e62e7ed1cac534f8e6a4bc77d\", \n",
    "            \"f7479ff2c7d816ea0bb66a2a1e142a8d0e116161590e99ccca50ddf498c9dcdb\", \n",
    "            \"5c89ebf8e8326a36c84f121f83212af1bbeab847beeb2b15e9c6cdb4216d2d4e\"]\n"
   ]
  },
  {
   "cell_type": "code",
   "execution_count": null,
   "id": "252",
   "metadata": {},
   "outputs": [],
   "source": []
  },
  {
   "cell_type": "code",
   "execution_count": null,
   "id": "253",
   "metadata": {},
   "outputs": [],
   "source": []
  },
  {
   "cell_type": "code",
   "execution_count": null,
   "id": "254",
   "metadata": {},
   "outputs": [],
   "source": [
    "work_done_of_each_step_of_all_t = []\n",
    "df = loadDataFrame()\n",
    "for _id in id_array:\n",
    "    target = getDataByID(df, _id)\n",
    "    key_work_array = np.array(target.keyStep_work_statistic.values[0])\n",
    "    print(key_work_array)\n",
    "    work_done_of_each_step = np.array(key_work_array)[1:] - np.array(key_work_array)[:-1]\n",
    "    work_done_of_each_step[:, 1] = np.sqrt(np.array(key_work_array)[1:,1]**2 + np.array(key_work_array)[:-1,1]**2) \n",
    "    \n",
    "    \n",
    "    work_done_of_each_step_of_all_t.append(work_done_of_each_step)\n",
    "work_done_of_each_step_of_all_t = np.array(work_done_of_each_step_of_all_t)"
   ]
  },
  {
   "cell_type": "code",
   "execution_count": null,
   "id": "255",
   "metadata": {},
   "outputs": [],
   "source": [
    "N = 1e4\n",
    "\n",
    "work_done_for_step_1 = work_done_of_each_step_of_all_t[:, 0]\n",
    "work_done_for_step_2 = work_done_of_each_step_of_all_t[:, 1]\n",
    "work_done_for_step_3 = work_done_of_each_step_of_all_t[:, 2]\n",
    "work_done_for_step_4 = work_done_of_each_step_of_all_t[:, 3]\n",
    "work_done_for_step_5 = work_done_of_each_step_of_all_t[:, 4]\n",
    "work_done_for_step_6 = work_done_of_each_step_of_all_t[:, 5]\n",
    "work_done_for_step_7 = work_done_of_each_step_of_all_t[:, 6]\n",
    "work_done_for_step_8 = work_done_of_each_step_of_all_t[:, 7]"
   ]
  },
  {
   "cell_type": "code",
   "execution_count": null,
   "id": "256",
   "metadata": {},
   "outputs": [],
   "source": [
    "\n",
    "for x in work_done_of_each_step_of_all_t[0][:, 1]:\n",
    "    print(f\"{3 * x/np.sqrt(N):.3g}\")"
   ]
  },
  {
   "cell_type": "code",
   "execution_count": null,
   "id": "257",
   "metadata": {},
   "outputs": [],
   "source": [
    "N"
   ]
  },
  {
   "cell_type": "code",
   "execution_count": null,
   "id": "258",
   "metadata": {},
   "outputs": [],
   "source": [
    "work_done_for_step_4"
   ]
  },
  {
   "cell_type": "code",
   "execution_count": null,
   "id": "259",
   "metadata": {},
   "outputs": [],
   "source": [
    "fig, ax = plt.subplots(2, 4, figsize=[18, 6])\n",
    "\n",
    "ax[0][0].errorbar(x = t_array, y = work_done_for_step_1[:, 0], yerr = 3 * work_done_for_step_1[:, 1]/np.sqrt(N), label = \"step 1\")\n",
    "ax[0][1].errorbar(x = t_array, y = work_done_for_step_2[:, 0], yerr = 3 * work_done_for_step_2[:, 1]/np.sqrt(N), label = \"step 2\")\n",
    "# ax[0][2].plot(t_array, work_done_for_step_3[:, 0])\n",
    "ax[0][2].errorbar(x = t_array, y = work_done_for_step_3[:, 0], yerr = 3 * work_done_for_step_3[:, 1]/np.sqrt(N), label = \"step 3\")\n",
    "ax[0][3].errorbar(x = t_array, y = work_done_for_step_4[:, 0], yerr = 3 * work_done_for_step_4[:, 1]/np.sqrt(N), label = \"step 4\")\n",
    "ax[1][0].errorbar(x = t_array, y = work_done_for_step_5[:, 0], yerr = 3 * work_done_for_step_5[:, 1]/np.sqrt(N), label = \"step 5\")\n",
    "ax[1][1].errorbar(x = t_array, y = work_done_for_step_6[:, 0], yerr = 3 * work_done_for_step_6[:, 1]/np.sqrt(N), label = \"step 6\")\n",
    "ax[1][2].errorbar(x = t_array, y = work_done_for_step_7[:, 0], yerr = 3 * work_done_for_step_7[:, 1]/np.sqrt(N), label = \"step 7\")\n",
    "ax[1][3].errorbar(x = t_array, y = work_done_for_step_8[:, 0], yerr = 3 * work_done_for_step_8[:, 1]/np.sqrt(N), label = \"step 8\")\n",
    "[ax[0][i].legend() for i in range(0, 4)]\n",
    "[ax[1][i].legend() for i in range(0, 4)]\n",
    "fig.text(0.5, 0.02, 'time', ha='center', fontsize = 15)\n",
    "fig.text(0.07, 0.5, 'work', va='center', rotation='vertical', fontsize = 15)\n"
   ]
  },
  {
   "cell_type": "code",
   "execution_count": null,
   "id": "260",
   "metadata": {},
   "outputs": [],
   "source": [
    "work_done_for_step_1"
   ]
  },
  {
   "cell_type": "code",
   "execution_count": null,
   "id": "261",
   "metadata": {},
   "outputs": [],
   "source": [
    "work_done_for_step_2"
   ]
  },
  {
   "cell_type": "code",
   "execution_count": null,
   "id": "262",
   "metadata": {},
   "outputs": [],
   "source": [
    "work_done_for_step_3"
   ]
  },
  {
   "cell_type": "code",
   "execution_count": null,
   "id": "263",
   "metadata": {},
   "outputs": [],
   "source": [
    "work_done_for_step_4"
   ]
  },
  {
   "cell_type": "code",
   "execution_count": null,
   "id": "264",
   "metadata": {},
   "outputs": [],
   "source": [
    "work_done_for_step_5"
   ]
  },
  {
   "cell_type": "markdown",
   "id": "265",
   "metadata": {},
   "source": [
    "# 1/dt graph plotting"
   ]
  },
  {
   "cell_type": "code",
   "execution_count": null,
   "id": "266",
   "metadata": {},
   "outputs": [],
   "source": [
    "rc_dict['font.size']"
   ]
  },
  {
   "cell_type": "code",
   "execution_count": null,
   "id": "267",
   "metadata": {},
   "outputs": [],
   "source": [
    "import numpy as np\n",
    "import matplotlib.pyplot as plt\n",
    "\n",
    "\n",
    "from matplotlib import ticker as mtick\n",
    "\n",
    "\n",
    "\n",
    "N_array = np.array([1000, 5000, 10000, 50000, 100000, 1000000])\n",
    "work_array = np.array([0.147, 0.156, 0.143, 0.145, 0.148, 0.146])\n",
    "work_array_err = np.array([0.0175, 0.0173, 0.0124, 0.00552, 0.00387, 0.00122])\n",
    "jarzyn_array = np.array([0.924, 0.915, 0.927, 0.937, 0.937, 0.937])\n",
    "jarzyn_array_err = np.array([0.0146, 0.0147, 0.00993, 0.00473, 0.00335, 0.00106])\n",
    "work_for_ME_array = np.array([0.859, 0.874, 0.863, 0.86, 0.877, 0.863])\n",
    "work_for_ME_array_err = np.array([0.0412, 0.0408, 0.028741, 0.012802, 0.0090767, 0.0028642])\n",
    "work_for_C_array = np.array([-0.711, -0.719, -0.721, -0.715, -0.729, -0.716])\n",
    "work_for_C_array_err = np.array([0.0448, 0.0443, 0.028724, 0.01279, 0.0091771, 0.0028616])\n",
    "\n",
    "\n",
    "fig, ax = plt.subplots(2, 2, figsize=[9, 8])\n",
    "\n",
    "ax[0][0].errorbar(x= N_array, y=work_array,yerr= np.array(work_array_err) * 3, fmt=\"o\", label = \"<W>\")\n",
    "\n",
    "ax[0][0].errorbar(x = N_array, y = work_for_ME_array, yerr = work_for_ME_array_err, fmt=\"x\", label=r\"$<W_{M}>$\")\n",
    "ax[0][0].errorbar(x = N_array, y = np.array(work_for_C_array), yerr = work_for_C_array_err, fmt=\"x\", label=r\"$<W_{C}>$\")\n",
    "ax[0][1].errorbar(x = N_array, y = jarzyn_array, yerr = np.array(jarzyn_array_err) * 3, fmt=\"o\", label=\"<exp(-W)>\", color = \"black\")\n",
    "\n",
    "ax[0][0].set_xlabel(\"N\")\n",
    "ax[0][1].set_xlabel(\"N\")\n",
    "\n",
    "ax[0][0].set_ylabel(r\"work ($k_BT$)\")\n",
    "\n",
    "\n",
    "ax[0][0].set_xscale(\"log\")\n",
    "ax[0][1].set_xscale(\"log\")\n",
    "ax[0][0].hlines(y=np.log(2), xmin = 900, xmax = 2000000, linestyle = \"--\")\n",
    "ax[0][0].hlines(y=-np.log(2), xmin = 900, xmax = 2000000, linestyle = \"--\")\n",
    "\n",
    "ax[0][0].legend(fontsize = 10)\n",
    "\n",
    "\n",
    "# dt_graph\n",
    "\n",
    "# fig, ax = plt.subplots(1, 2, figsize=[8, 3])\n",
    "# dt_array = np.array([1/50, 1/100, 1/500, 1/1000, 1/5000])\n",
    "# work_array = [2.28, 1.18, 0.346, 0.222, 0.143]\n",
    "# work_array_err = [0.00381, 0.00383, 0.00422, 0.00414, 0.00414]\n",
    "# jarzyn_array = [0.109, 0.325, 0.758, 0.856, 0.927]\n",
    "# jarzyn_array_err = [0.000363, 0.00107, 0.00274, 0.00293, 0.00331]\n",
    "# work_for_ME_array = [1.97, 1.41, 0.977, 0.913, 0.863]\n",
    "# work_for_ME_array_err = [0.0281, 0.0284, 0.0288, 0.0288, 0.0287]\n",
    "# work_for_C_array = [0.308, -0.232, -0.631, -0.691, -0.721]\n",
    "# work_for_C_array_err = [0.0303, 0.0307, 0.0314, 0.0313, 0.0313]\n",
    "\n",
    "\n",
    "dt_array = np.array([1/50, 1/100, 1/500, 1/1000, 1/5000, 1/10000])\n",
    "work_array = [2.28, 1.18, 0.346, 0.222, 0.143, 0.128]\n",
    "work_array_err = [0.00381, 0.00383, 0.00422, 0.00414, 0.00414, 0.0118]\n",
    "jarzyn_array = [0.109, 0.325, 0.758, 0.856, 0.927, 0.935]\n",
    "jarzyn_array_err = [0.000363, 0.00107, 0.00274, 0.00293, 0.00331, 0.00927]\n",
    "work_for_ME_array = [1.97, 1.41, 0.977, 0.913, 0.863, 0.86]\n",
    "work_for_ME_array_err = [0.0281, 0.0284, 0.0288, 0.0288, 0.0287, 0.0289]\n",
    "work_for_C_array = [0.308, -0.232, -0.631, -0.691, -0.721, -0.732]\n",
    "work_for_C_array_err = [0.0303, 0.0307, 0.0314, 0.0313, 0.0313, 0.0312]\n",
    "\n",
    "# # (c) work analysis\n",
    "# # measurement + reset = 0.86 ± 0.0289, deviation = 0.167\n",
    "# # control = -0.732 ± 0.0312, deviation = -0.0393\n",
    "# # 0.1280853773516335\n",
    "\n",
    "\n",
    "ax[1][0].errorbar(x=1/dt_array, y=work_array,yerr= np.array(work_array_err) * 3, fmt=\"o\", label = \"<W>\")\n",
    "ax[1][0].errorbar(x = 1/dt_array, y = work_for_ME_array, yerr = work_for_ME_array_err, fmt=\"x\", label=r\"$<W_{M}>$\", color = \"orange\")\n",
    "ax[1][0].errorbar(x = 1/dt_array, y = np.array(work_for_C_array), yerr = work_for_C_array_err, fmt=\"x\", label=r\"$<W_{C}>$\", color = \"green\")\n",
    "ax[1][1].errorbar(x = 1/dt_array, y = jarzyn_array, yerr = np.array(jarzyn_array_err) * 3, fmt=\"o\", label=\"<exp(-W)>\", color = \"black\")\n",
    "\n",
    "\n",
    "ax[1][0].set_xlabel(\"1/dt\")\n",
    "ax[1][1].set_xlabel(\"1/dt\")\n",
    "\n",
    "ax[1][0].set_ylabel(r\"work ($k_BT$)\")\n",
    "\n",
    "ax[1][0].set_xscale(\"log\")\n",
    "ax[1][1].set_xscale(\"log\")\n",
    "# ax[1][1].hlines(y=np.log(2), xmin = 0, xmax = 10000, linestyle = \"--\")\n",
    "\n",
    "# handles, labels = plt.get_legend_handles_labels()\n",
    "# fig.legend(handles, labels, loc='upper center')\n",
    "ax[1][0].hlines(y=np.log(2), xmin = 20, xmax = 20000, linestyle = \"--\")\n",
    "ax[1][0].hlines(y=-np.log(2), xmin = 20, xmax = 20000, linestyle = \"--\")\n",
    "\n",
    "\n",
    "ax[0][0].legend(bbox_to_anchor=(1, 0.5), fontsize = 14)\n",
    "ax[0][1].legend(bbox_to_anchor=(1, 1), fontsize = 14)\n",
    "# plt.show()\n"
   ]
  },
  {
   "cell_type": "code",
   "execution_count": null,
   "id": "268",
   "metadata": {},
   "outputs": [],
   "source": [
    "# N graph plotting"
   ]
  },
  {
   "cell_type": "code",
   "execution_count": null,
   "id": "269",
   "metadata": {},
   "outputs": [],
   "source": [
    "import matplotlib.pyplot as plt\n",
    "import numpy as np\n",
    "t_3_4 = [50, 100, 150, 200, 300, 500]\n",
    "\n",
    "W_mean = [0.143, 0.153, 0.177, 0.205, 0.214, 0.267]\n",
    "W_mean_sem = [0.0041, 0.00446, 0.0048, 0.00484, 0.00474, 0.00472]\n",
    "\n",
    "W_measurement = [0.863, 0.851, 0.842, 0.862, 0.85, 0.847]\n",
    "W_measurement_sem = [0.0287, 0.028, 0.0289, 0.029, 0.0282, 0.0281]\n",
    "\n",
    "W_control = [-0.721, -0.702, -0.666, -0.656, -0.636, -0.58]\n",
    "W_control_sem = [0.0313, 0.0308, 0.0323, 0.032, 0.0315, 0.0314]"
   ]
  },
  {
   "cell_type": "code",
   "execution_count": null,
   "id": "270",
   "metadata": {},
   "outputs": [],
   "source": [
    "from matplotlib import ticker as mtick\n",
    "with mpl.rc_context(rc_dict):\n",
    "    fig, ax = plt.subplots(1, 2, figsize=[10, 4])\n",
    "    ax[0].errorbar(x=t_3_4, y=W_mean, yerr=W_mean_sem, fmt=\"o\", label=r\"$\\langle W \\rangle$\")\n",
    "    ax[0].legend(bbox_to_anchor=(1, 0.18), fontsize = 13)\n",
    "    ax[0].set_ylabel(r\"Work ($k_BT$)\")\n",
    "    ax[0].set_xlabel(r\"t ($\\tau_c$) \")\n",
    "    ax[1].errorbar(x=t_3_4, y=np.array(W_measurement) - 0.693, yerr=W_measurement_sem, fmt=\"o\", label=r\"$\\langle W_{M} \\rangle - k_BT\\ln2$\")\n",
    "    ax[1].axhline(y=0, linestyle=\"--\")\n",
    "    ax[1].errorbar(x=t_3_4, y=np.array(W_control) + 0.693, yerr=W_control_sem, fmt=\"o\", label=r\"$\\langle W_{C} \\rangle + k_BT\\ln2$\")\n",
    "    ax[1].set_xlabel(r\"t ($\\tau_c$) \")\n",
    "    ax[1].legend(bbox_to_anchor=(1, 0.27), fontsize = 13)"
   ]
  },
  {
   "cell_type": "code",
   "execution_count": null,
   "id": "271",
   "metadata": {},
   "outputs": [],
   "source": []
  },
  {
   "cell_type": "code",
   "execution_count": null,
   "id": "272",
   "metadata": {},
   "outputs": [],
   "source": [
    "### dt_analysis for [0, 200, 200, 200, 200, 200, 200, 200, 200]\n",
    "dt = [1000, 5000, 10000]\n",
    "\n",
    "W_mean = [0.225, 0.202, 0.193 ]\n",
    "W_mean_sem = [0.00465, 0.00468, 0.00462]\n",
    "\n",
    "W_measurement = [0.836, 0.821, 0.815]\n",
    "W_measurement_sem = [0.027,0.028, 0.0275]\n",
    "\n",
    "W_control = [-0.611, -0.619, -0.621]\n",
    "W_control_sem = [0.0821,0.0739, 0.0719\n"
   ]
  },
  {
   "cell_type": "code",
   "execution_count": null,
   "id": "273",
   "metadata": {},
   "outputs": [],
   "source": [
    "fig, ax = plt.subplots(1, 2, figsize=[8, 3])\n",
    "ax[0].errorbar(x=dt, y=W_mean, yerr=W_mean_sem, fmt=\"o\", label=\"total\")\n",
    "ax[0].legend()\n",
    "ax[1].errorbar(x=dt, y=W_measurement, yerr=W_measurement_sem, fmt=\"o\", label=\"M\")\n",
    "ax[1].axhline(y=0.693, linestyle=\"--\")\n",
    "ax[1].errorbar(x=dt, y=-np.array(W_control), yerr=W_control_sem, fmt=\"o\", label=\"C\")\n",
    "ax[1].legend()"
   ]
  },
  {
   "cell_type": "markdown",
   "id": "274",
   "metadata": {},
   "source": [
    "# line graph"
   ]
  },
  {
   "cell_type": "markdown",
   "id": "275",
   "metadata": {
    "tags": []
   },
   "source": [
    "### parameter functions"
   ]
  },
  {
   "cell_type": "code",
   "execution_count": null,
   "id": "276",
   "metadata": {},
   "outputs": [],
   "source": [
    "import glob\n",
    "sim_id = \"73b22918ca8d4ea2a5680d2ca7ff7879\"\n",
    "plotline_graph_array = glob.glob(f\"coupled_flux_qubit_protocol/coupled_flux_qubit_data_gallery/{sim_id}*.npy\")\n",
    "print(len(plotline_graph_array))"
   ]
  },
  {
   "cell_type": "code",
   "execution_count": null,
   "id": "277",
   "metadata": {},
   "outputs": [],
   "source": []
  },
  {
   "cell_type": "code",
   "execution_count": null,
   "id": "278",
   "metadata": {},
   "outputs": [],
   "source": [
    "dataOrder = [2, 1, 3, 0]\n",
    "orderedplotline_graph_array = [plotline_graph_array[_i] for _i in dataOrder]\n"
   ]
  },
  {
   "cell_type": "code",
   "execution_count": null,
   "id": "279",
   "metadata": {},
   "outputs": [],
   "source": [
    "all_data_array = [np.load(x, allow_pickle=True)[()] for x in orderedplotline_graph_array]\n",
    "# all_data_array = sorted(all_data_array, key = lambda x:x[\"dcx\"])"
   ]
  },
  {
   "cell_type": "code",
   "execution_count": null,
   "id": "280",
   "metadata": {},
   "outputs": [],
   "source": [
    "fig_tilte = [\"(a) all zero\", r\"(b) $\\varphi_{2xdc} = 3.0$\", r\"(c) $\\varphi_{2x} = -1.5$\", r\"(d) $m_{12} = -0.6$\"]\n",
    "fig, ax = plt.subplots(2, 4, figsize = [9, 5.5], constrained_layout=True)\n",
    "\n",
    "\n",
    "\n",
    "\n",
    "for _i, test_data in enumerate(all_data_array):\n",
    "    contour_plot_X, contour_plot_Y, contour_plot_U, contour_plot_contours = test_data[\"contour_plot\"][\"X\"], test_data[\"contour_plot\"][\"Y\"],  test_data[\"contour_plot\"][\"U\"], test_data[\"contour_plot\"][\"contours\"]\n",
    "    cutline_X, cutline_U, cutlineDirection = test_data[\"cutline_plot\"][\"plotAxis\"], test_data[\"cutline_plot\"][\"targetU\"], test_data[\"cutline_plot\"][\"cutlineDirection\"]\n",
    "    cutlineValue = test_data[\"cutline_plot\"][\"cutlineValue\"]\n",
    "    cutline_U = cutline_U - min(cutline_U)\n",
    "    ax[0][_i].contourf(contour_plot_X, contour_plot_Y, contour_plot_U, 40, vmin = 0, vmax = 400, cmap = \"afmhot\")\n",
    "    ax[0][_i].vlines(x = cutlineValue, ymin = np.min(cutline_X), ymax = np.max(cutline_X), colors= \"red\")\n",
    "    ax[0][_i].set_title(fig_tilte[_i], fontsize = 14)\n",
    "    ax[0][_i].set_xlabel(r'$\\varphi_1$', fontsize = 16)\n",
    "    ax[0][_i].set_ylabel(r'$\\varphi_2$', fontsize = 16)\n",
    "    ax[0][_i].set_yticks([])\n",
    "    ax[0][_i].set_xticks([-4, 0, 4])\n",
    "    ax[0][_i].xaxis.set_tick_params(labelsize=14)\n",
    "    ax[0][_i].yaxis.set_tick_params(labelsize=14)\n",
    "\n",
    "\n",
    "    ax[1][_i].plot(cutline_X, cutline_U, color = \"red\")\n",
    "    ax[1][_i].set_ylim(min(cutline_U), 500)\n",
    "    ax[1][_i].set_ylabel(r'U $(k_BT)$', fontsize = 16)\n",
    "    ax[1][_i].set_xlabel(r'$\\varphi_2$', fontsize = 16)\n",
    "    ax[1][_i].set_xticks([-4, 0, 4])\n",
    "    ax[1][_i].set_yticks([])\n",
    "    ax[1][_i].xaxis.set_tick_params(labelsize=14)\n",
    "    ax[1][_i].yaxis.set_tick_params(labelsize=14)\n",
    "\n",
    "\n",
    "\n",
    "contour_plot_X, contour_plot_Y, contour_plot_U, contour_plot_contours = test_data[\"contour_plot\"][\"X\"], test_data[\"contour_plot\"][\"Y\"],  test_data[\"contour_plot\"][\"U\"], test_data[\"contour_plot\"][\"contours\"]\n",
    "cutline_X, cutline_U, cutlineDirection = test_data[\"cutline_plot\"][\"plotAxis\"], test_data[\"cutline_plot\"][\"targetU\"], test_data[\"cutline_plot\"][\"cutlineDirection\"]\n",
    "cutlineValue = test_data[\"cutline_plot\"][\"cutlineValue\"]\n",
    "cutline_U = cutline_U - min(cutline_U)\n",
    "ax[0][_i].vlines(x = -cutlineValue, ymin = np.min(cutline_X), ymax = np.max(cutline_X), colors= \"orange\")\n",
    "ax[0][0].set_yticks([-4, 0, 4])\n",
    "ax[1][0].set_yticks([0, 250, 500])\n",
    "# ax[0][_i].set_title(\"(a) all zero\", fontsize = 14)\n",
    "# ax[0][_i].set_xlabel(r'$\\varphi_1$', fontsize = 14)\n",
    "# ax[0][_i].set_ylabel(r'$\\varphi_2$', fontsize = 14)\n",
    "\n",
    "\n",
    "ax[1][_i].plot(-cutline_X, cutline_U, color = \"orange\")\n",
    "ax[1][_i].set_ylim(min(cutline_U), 500)\n",
    "ax[1][_i].set_ylabel(r'U $(k_BT)$', fontsize = 14)\n",
    "ax[1][_i].set_xlabel(r'$\\varphi_2$', fontsize = 14)\n",
    "\n",
    "[ax[0][_i].set_ylabel('') for _i in [1, 2, 3]]\n",
    "[ax[1][_i].set_ylabel('') for _i in [1, 2, 3]]\n"
   ]
  },
  {
   "cell_type": "code",
   "execution_count": null,
   "id": "281",
   "metadata": {},
   "outputs": [],
   "source": [
    "plt.contourf(contour_plot_X, contour_plot_Y, contour_plot_U, 40, vmin = 0, vmax = 400, cmap = \"afmhot\", levels=np.linspace(0,500, 10))\n",
    "colorbar = plt.colorbar(fraction=0.05, pad=0.04,)\n",
    "colorbar.ax.tick_params(labelsize=24) \n",
    "\n",
    "colorbar.set_ticks([0, 100, 200, 300, 400, 500])\n"
   ]
  },
  {
   "cell_type": "code",
   "execution_count": null,
   "id": "282",
   "metadata": {},
   "outputs": [],
   "source": [
    "\n",
    "\n",
    "# ], fontsize = 14)\n",
    "# ax[0][1].set_title(, fontsize = 1\n",
    "# ax[0][2].set_title(, fontsize = 14)\n",
    "# ax[0][3].set_title(, fontsize = 14)"
   ]
  },
  {
   "cell_type": "code",
   "execution_count": null,
   "id": "283",
   "metadata": {},
   "outputs": [],
   "source": [
    "test_data = all_data_array[3]\n",
    "contour_plot_X, contour_plot_Y, contour_plot_U, contour_plot_contours = test_data[\"contour_plot\"][\"X\"], test_data[\"contour_plot\"][\"Y\"],  test_data[\"contour_plot\"][\"U\"], test_data[\"contour_plot\"][\"contours\"]\n",
    "cutline_X, cutline_U, cutlineDirection = test_data[\"cutline_plot\"][\"plotAxis\"], test_data[\"cutline_plot\"][\"targetU\"], test_data[\"cutline_plot\"][\"cutlineDirection\"]\n",
    "cutlineValue = test_data[\"cutline_plot\"][\"cutlineValue\"]"
   ]
  },
  {
   "cell_type": "code",
   "execution_count": null,
   "id": "284",
   "metadata": {},
   "outputs": [],
   "source": []
  },
  {
   "cell_type": "code",
   "execution_count": null,
   "id": "285",
   "metadata": {},
   "outputs": [],
   "source": []
  },
  {
   "cell_type": "markdown",
   "id": "286",
   "metadata": {},
   "source": [
    "### substage potential"
   ]
  },
  {
   "cell_type": "code",
   "execution_count": null,
   "id": "287",
   "metadata": {},
   "outputs": [],
   "source": [
    "import glob\n",
    "comment = \"2024_7_10_potential_at_each_substage\"\n",
    "exp_id = \"690e7d6417a44b44ac499a989445a1c6\"\n",
    "# plotline_graph_array = glob.glob(f\"coupled_flux_qubit_protocol/coupled_flux_qubit_data_gallery/*_{comment}_plotline_graph.npy\")\n",
    "plotline_graph_array = glob.glob(f\"coupled_flux_qubit_protocol/coupled_flux_qubit_data_gallery/{exp_id}_*_plotline_graph.npy\")\n",
    "orderedPlotline_graph = [(np.load(filePath, allow_pickle=True)[()], float(filePath.split(\"/\")[-1].split(\"_\")[2])) for filePath in plotline_graph_array]\n",
    "orderedPlotline_graph = np.array(sorted(orderedPlotline_graph, key = lambda x: x[1]))"
   ]
  },
  {
   "cell_type": "code",
   "execution_count": null,
   "id": "288",
   "metadata": {},
   "outputs": [],
   "source": [
    "# remove unwanted substages"
   ]
  },
  {
   "cell_type": "code",
   "execution_count": null,
   "id": "289",
   "metadata": {},
   "outputs": [],
   "source": [
    "skipped_substage = [1, 7]\n",
    "skipped_substage = []\n",
    "orderedPlotline_graph_removed_substage = np.delete(orderedPlotline_graph[:, 0], skipped_substage)\n",
    "print(len(orderedPlotline_graph_removed_substage))"
   ]
  },
  {
   "cell_type": "code",
   "execution_count": null,
   "id": "290",
   "metadata": {},
   "outputs": [],
   "source": [
    "fig, ax = plt.subplots(2, 4, figsize = [10.7, 5.5], constrained_layout=True)\n",
    "ax_flatten = ax.flatten()\n",
    "for _i, test_data in enumerate(orderedPlotline_graph_removed_substage):\n",
    "    contour_plot_X, contour_plot_Y, contour_plot_U, contour_plot_contours = test_data[\"contour_plot\"][\"X\"], test_data[\"contour_plot\"][\"Y\"],  test_data[\"contour_plot\"][\"U\"], test_data[\"contour_plot\"][\"contours\"]\n",
    "    cutline_X, cutline_U, cutlineDirection = test_data[\"cutline_plot\"][\"plotAxis\"], test_data[\"cutline_plot\"][\"targetU\"], test_data[\"cutline_plot\"][\"cutlineDirection\"]\n",
    "    cutlineValue = test_data[\"cutline_plot\"][\"cutlineValue\"]\n",
    "    cutline_U = cutline_U - min(cutline_U)\n",
    "\n",
    "    ax_flatten[_i].plot(cutline_X, cutline_U)\n",
    "    ax_flatten[_i].set_title(f\"t = {orderedPlotline_graph[_i, 1]}\")\n",
    "    ax_flatten[_i].set_xlim(-4, 4)\n",
    "    ax_flatten[_i].set_ylim(min(cutline_U), 500)\n",
    "    ax_flatten[_i].set_ylabel(r'U $(k_BT)$', fontsize = 14)\n",
    "    ax_flatten[_i].set_xlabel(r'$\\varphi_2$', fontsize = 14)\n",
    "\n",
    "for _i in range(4, 8):\n",
    "    ax_flatten[_i].set_xlabel(r'$\\varphi_1$', fontsize = 14)\n",
    "    \n",
    "for _i in [1, 2, 3, 5, 6, 7]:\n",
    "    ax_flatten[_i].set_ylabel(\"\")"
   ]
  },
  {
   "cell_type": "code",
   "execution_count": null,
   "id": "291",
   "metadata": {},
   "outputs": [],
   "source": [
    "for _path in plotline_graph_array:\n",
    "    os.system(f\"rm {_path}\")"
   ]
  },
  {
   "cell_type": "code",
   "execution_count": null,
   "id": "292",
   "metadata": {},
   "outputs": [],
   "source": []
  },
  {
   "cell_type": "code",
   "execution_count": null,
   "id": "293",
   "metadata": {},
   "outputs": [],
   "source": [
    "fig, ax = plt.subplots(2, 1, figsize=[4.5, 8])\n",
    "ax[0].set_xlim(-5, 5)\n",
    "ax[0].set_ylim(-5, 5)\n",
    "ax[0].set_xticks([-4, 0, 4])\n",
    "ax[0].set_yticks([-4, 0, 4])\n",
    "ax[0].set_xlabel(r\"$\\varphi_1$\")\n",
    "ax[0].set_ylabel(r\"$\\varphi_2$\")\n",
    "\n",
    "ax[1].set_xlim(-5, 5)\n",
    "ax[1].set_ylim(-5, 5)\n",
    "ax[1].set_xticks([-4, 0, 4])\n",
    "ax[1].set_yticks([-4, 0, 4])\n",
    "ax[1].set_xlabel(r\"$\\varphi_1$\")\n",
    "ax[1].set_ylabel(r\"$\\varphi_2$\")"
   ]
  },
  {
   "cell_type": "code",
   "execution_count": null,
   "id": "294",
   "metadata": {},
   "outputs": [],
   "source": []
  },
  {
   "cell_type": "markdown",
   "id": "295",
   "metadata": {},
   "source": [
    "# kill ssh screen"
   ]
  },
  {
   "cell_type": "code",
   "execution_count": null,
   "id": "296",
   "metadata": {},
   "outputs": [],
   "source": [
    "import os\n",
    "kill_id_list = [8104]\n",
    "[os.system(f\"screen -XS {_id} quit\") for _id in kill_id_list]\n"
   ]
  },
  {
   "cell_type": "code",
   "execution_count": null,
   "id": "297",
   "metadata": {},
   "outputs": [],
   "source": []
  },
  {
   "cell_type": "code",
   "execution_count": null,
   "id": "298",
   "metadata": {},
   "outputs": [],
   "source": [
    "import numpy as np"
   ]
  },
  {
   "cell_type": "code",
   "execution_count": null,
   "id": "299",
   "metadata": {},
   "outputs": [],
   "source": []
  },
  {
   "cell_type": "code",
   "execution_count": null,
   "id": "300",
   "metadata": {},
   "outputs": [],
   "source": [
    "t_W_fidelity_trade_off_data.astype(float)"
   ]
  },
  {
   "cell_type": "code",
   "execution_count": null,
   "id": "301",
   "metadata": {},
   "outputs": [],
   "source": []
  },
  {
   "cell_type": "code",
   "execution_count": null,
   "id": "302",
   "metadata": {},
   "outputs": [],
   "source": [
    "t_array"
   ]
  },
  {
   "cell_type": "code",
   "execution_count": null,
   "id": "303",
   "metadata": {},
   "outputs": [],
   "source": [
    "t_array"
   ]
  },
  {
   "cell_type": "code",
   "execution_count": null,
   "id": "304",
   "metadata": {},
   "outputs": [],
   "source": []
  }
 ],
 "metadata": {
  "interpreter": {
   "hash": "c48eea1d6fe0303de93a25029b75a26fa311fe2cfce1f013702fed1a8d75264d"
  },
  "kernelspec": {
   "display_name": "Python 3 (ipykernel)",
   "language": "python",
   "name": "python3"
  },
  "language_info": {
   "codemirror_mode": {
    "name": "ipython",
    "version": 3
   },
   "file_extension": ".py",
   "mimetype": "text/x-python",
   "name": "python",
   "nbconvert_exporter": "python",
   "pygments_lexer": "ipython3",
   "version": "3.10.9"
  },
  "toc-autonumbering": false,
  "toc-showcode": false,
  "toc-showmarkdowntxt": false
 },
 "nbformat": 4,
 "nbformat_minor": 5
}
