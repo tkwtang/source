{
 "cells": [
  {
   "cell_type": "code",
   "execution_count": null,
   "id": "0",
   "metadata": {},
   "outputs": [],
   "source": [
    "from scipy import optimize\n",
    "import numpy as np\n",
    "import matplotlib.pyplot as plt"
   ]
  },
  {
   "cell_type": "code",
   "execution_count": null,
   "id": "1",
   "metadata": {},
   "outputs": [],
   "source": []
  },
  {
   "cell_type": "code",
   "execution_count": null,
   "id": "2",
   "metadata": {},
   "outputs": [],
   "source": [
    "PHI_0 = 2.067833848 * 1e-15\n",
    "k_B = 1.38e-23\n",
    "T = 4.2\n",
    "k_BT = k_B * T\n",
    "\n",
    "\n",
    "L_factor = 1\n",
    "C_factor = 1\n",
    "L_1, L_2 = 5e-12 * L_factor, 5e-12 * L_factor\n",
    "C_1, C_2 = 500e-15 * C_factor, 500e-15 * C_factor                             # F\n",
    "m_c, m_1, m_2 = C_1, C_1, C_2\n",
    "x_c = PHI_0 / (2 * np.pi)\n",
    "time_scale_factor = 1\n",
    "t_c = np.sqrt(L_1 * C_1)\n",
    "v_c = x_c / t_c\n",
    "\n",
    "U0_1 = m_c * x_c**2 / t_c**2 / k_BT\n",
    "U0_2 = m_2 * x_c**2 / t_c**2 / k_BT"
   ]
  },
  {
   "cell_type": "code",
   "execution_count": null,
   "id": "3",
   "metadata": {},
   "outputs": [],
   "source": [
    "def detailed_pot_function(protocol, beta_1, d_beta, gamma_1, detail_info = False):\n",
    "    U_ratio = 1\n",
    "\n",
    "    beta_1 = beta_1\n",
    "    beta_2 = beta_1\n",
    "    d_beta_1 = d_beta\n",
    "    d_beta_2 = d_beta\n",
    "    _phi_1x = protocol[\"phi_1x\"]\n",
    "    _phi_2x = protocol[\"phi_2x\"]\n",
    "    _phi_1xdc = protocol[\"phi_1xdc\"]\n",
    "    _phi_2xdc = protocol[\"phi_2xdc\"]\n",
    "    _mu_12 = protocol[\"mu_12\"]\n",
    "    _xi = 1\n",
    "    _phi_1dc = _phi_1xdc\n",
    "    _phi_2dc = _phi_2xdc\n",
    "\n",
    "    def Fcn(coord):\n",
    "        _phi_1, _phi_2 = coord\n",
    "        u1_1 = 1/2 * _xi * (_phi_1 - _phi_1x)**2\n",
    "        u1_3 = beta_1 * np.cos(_phi_1) * np.cos(_phi_1dc/2)\n",
    "        u1_4 = -d_beta_1 * np.sin(_phi_1) * np.sin(_phi_1dc/2)\n",
    "\n",
    "        u2_1 = 1/2 * _xi * (_phi_2 - _phi_2x)**2\n",
    "        u2_3 = beta_2 * np.cos(_phi_2) * np.cos(_phi_2dc/2)\n",
    "        u2_4 = -d_beta_2 * np.sin(_phi_2) * np.sin(_phi_2dc/2)\n",
    "        u3 = _mu_12 * _xi * (_phi_1 - _phi_1x) * (_phi_2 - _phi_2x)\n",
    "\n",
    "        if detail_info:\n",
    "            return {\n",
    "                \"u1_1\": u1_1, \"u1_3\": u1_3, \"u1_4\": u1_4,\n",
    "                \"u2_1\": u2_1, \"u2_3\": u2_3, \"u1_4\": u2_4,\n",
    "                \"u3\": u3\n",
    "            }\n",
    "        else:\n",
    "            return U_ratio * (u1_1 + u1_3 + u1_4 + u2_1 + u2_3 + u2_4 + u3)\n",
    "\n",
    "    return Fcn\n"
   ]
  },
  {
   "cell_type": "code",
   "execution_count": null,
   "id": "4",
   "metadata": {},
   "outputs": [],
   "source": [
    "def detailed_first_derivative_of_pot_function(protocol_2, beta, d_beta, gamma):\n",
    "    beta_1 = beta\n",
    "    beta_2 = beta\n",
    "    d_beta_1 = d_beta\n",
    "    d_beta_2 = d_beta\n",
    "\n",
    "    _phi_1x = protocol_2[\"phi_1x\"]\n",
    "    _phi_2x = protocol_2[\"phi_2x\"]\n",
    "    _phi_1xdc = protocol_2[\"phi_1xdc\"]\n",
    "    _phi_2xdc = protocol_2[\"phi_2xdc\"]\n",
    "    _mu_12 = protocol_2[\"mu_12\"]\n",
    "    _xi = 1\n",
    "    \n",
    "    _phi_1dc = _phi_1xdc\n",
    "    _phi_2dc = _phi_2xdc\n",
    "\n",
    "    def Fcn(x):\n",
    "        return [\n",
    "            _xi * (x[0] - _phi_1x) - beta_1 * np.sin(x[0]) * np.cos(_phi_1xdc/2) + d_beta_1 * np.cos(x[0]) * np.sin(_phi_1xdc/2)\n",
    "                    + _mu_12 * _xi * (x[1] - _phi_2x),\n",
    "            _xi * (x[1] - _phi_2x) - beta_2 * np.sin(x[1]) * np.cos(_phi_2xdc/2) + d_beta_2 * np.cos(x[1]) * np.sin(_phi_2xdc/2)\n",
    "                    + _mu_12 * _xi * (x[0] - _phi_1x)\n",
    "        ]\n",
    "    return Fcn\n",
    "\n",
    "def detailed_find_all_critical_points_for_all_potential(protocol_2, beta, d_beta, gamma, guess = [(0, 0)]):\n",
    "    \"\"\"\"\n",
    "    To find all the critical points, including the saddle, minimum and maximum points, of the potential function\n",
    "    \"\"\"\n",
    "    critical_points = [optimize.fsolve(detailed_first_derivative_of_pot_function(protocol_2, beta, d_beta, gamma), _g) for _g in guess]\n",
    "    critical_potential = [detailed_pot_function(protocol_2, beta, d_beta, gamma)([x, y]) for x, y in critical_points]\n",
    "    # energy_set = [coupled_flux_qubit_non_linear_approx_pot(sol[0], sol[1], _phi_1dcx, _phi_2dcx, _params_at_t) for sol in solution_set]\n",
    "    return {\"coord\": critical_points, \"potential\": critical_potential}\n",
    "    \n",
    "\n",
    "    "
   ]
  },
  {
   "cell_type": "code",
   "execution_count": null,
   "id": "5",
   "metadata": {},
   "outputs": [],
   "source": [
    "\n",
    "def cal_second_derivative(_phi_1, _phi_1xdc, beta_1 = 2.3):\n",
    "    return 1 - beta_1 * np.cos(_phi_1) * np.cos(_phi_1xdc/2)\n",
    "\n",
    "def get_barrier_height(protocol_2, beta_1, d_beta, gamma, protocol_duration, N):\n",
    "    protocol_2[\"beta\"] = beta_1\n",
    "    protocol_2[\"d_beta\"] = d_beta\n",
    "    critical_dict = detailed_find_all_critical_points_for_all_potential(protocol_2, beta_1, d_beta, gamma, guess = [(-2, -2), (-2, 2), (2, -2), (2, 2), (-2,0), (0, -2), (2, 0), (0, 2)])\n",
    "    critical_points = list(critical_dict.values())[0]\n",
    "\n",
    "    critical_potential = [detailed_pot_function(protocol_2, beta_1, d_beta, gamma)([x, y]) for x, y in critical_points]\n",
    "    \n",
    "    delta_U17 = critical_potential[7] - critical_potential[1]\n",
    "    delta_U37 = critical_potential[7] - critical_potential[3]\n",
    "\n",
    "    second_derivative_array = np.array(cal_second_derivative(critical_points[1][0], protocol_2[\"phi_1xdc\"], beta_1 = beta_1))\n",
    "    plasma_freq = np.sqrt(second_derivative_array / (L_1 * C_1))\n",
    "    escape_rate = plasma_freq / (2 * np.pi) * np.exp(-delta_U17 * U0_1)\n",
    "    escape_event_per_operation = escape_rate * protocol_duration * np.sqrt(L_1 * C_1) * N\n",
    "\n",
    "    result = {\"coord\": critical_points, \"delta_U17\": delta_U17 * U0_1, \"delta_U37\": delta_U37 * U0_1, \"phi_1xdc\": protocol_2[\"phi_1xdc\"], \"escape_rate\": escape_rate, \"escape_event_per_operation\": escape_event_per_operation }\n",
    "    return result\n"
   ]
  },
  {
   "cell_type": "code",
   "execution_count": null,
   "id": "6",
   "metadata": {},
   "outputs": [],
   "source": [
    "mu_factor_h2 = 0.32\n",
    "mu_factor_h2 = 0.4\n",
    "beta_1 = 1.35\n",
    "\n",
    "if beta_1 == 2.3:\n",
    "    mu_12_factor_beta = 0.05\n",
    "if beta_1 == 1.35:\n",
    "    mu_12_factor_beta = 0.0765\n",
    "\n",
    "protocol_harmonic_h2 = {\n",
    "    \"phi_1x\": 0.1 * mu_factor_h2, \"phi_2x\": 0.0, \"mu_12\": mu_12_factor_beta * mu_factor_h2, \n",
    "    \"phi_1xdc\": 0.9,  \"phi_2xdc\": 0, \"name\": \"h2\", \"color\": \"g\", \"linestyle\": \"-\"\n",
    "} \n",
    "\n",
    "get_barrier_height(protocol_harmonic_h2, beta_1, d_beta=0, gamma = 16, protocol_duration= 4, N = 1e12/2)"
   ]
  },
  {
   "cell_type": "code",
   "execution_count": null,
   "id": "7",
   "metadata": {},
   "outputs": [],
   "source": [
    "\n",
    "protocol_harmonic_h2 = {\n",
    "    \"phi_1x\": 0, \"phi_2x\": 0.0, \"mu_12\": 0, \n",
    "    \"phi_1xdc\": 0.8,  \"phi_2xdc\": 0, \"name\": \"h2\", \"color\": \"g\", \"linestyle\": \"-\"\n",
    "} \n",
    "\n",
    "critical_points_and_escape_rate_info = get_barrier_height(protocol_harmonic_h2, 1.35, d_beta=0, gamma = 9, protocol_duration= 15, N = 1e12/2)"
   ]
  },
  {
   "cell_type": "code",
   "execution_count": null,
   "id": "8",
   "metadata": {},
   "outputs": [],
   "source": [
    "phi_1xdc_array_1_35 = np.linspace(0, 1.1, 12)\n",
    "phi_1xdc_array_2_3 = np.linspace(0, 2.1, 12)\n",
    "\n",
    "def get_relation_between_barrier_height_and_critical_point(phi_1xdc_array, beta, gamma, protocol_duration = 15, N = 1e12):\n",
    "    barrier_height_array = []\n",
    "    critical_point_array = []\n",
    "    escape_rate_array = []\n",
    "    escape_event_per_operation_array = []\n",
    "    for _phi_1xdc in phi_1xdc_array:\n",
    "        _protocol = {\n",
    "            \"phi_1x\": 0, \"phi_2x\": 0.0, \"mu_12\": 0, \n",
    "            \"phi_1xdc\": _phi_1xdc,  \"phi_2xdc\": 0, \"name\": \"h2\", \"color\": \"g\", \"linestyle\": \"-\"\n",
    "        } \n",
    "        critical_points_and_escape_rate_info = get_barrier_height(_protocol, beta, d_beta=0, gamma = gamma, protocol_duration= protocol_duration, N = N/2)\n",
    "        critical_point_array.append(critical_points_and_escape_rate_info['coord'][2])\n",
    "        barrier_height_array.append(critical_points_and_escape_rate_info['delta_U17'])\n",
    "        escape_rate_array.append(critical_points_and_escape_rate_info[\"escape_rate\"])\n",
    "        escape_event_per_operation_array.append(critical_points_and_escape_rate_info[\"escape_event_per_operation\"])\n",
    "    return critical_point_array, barrier_height_array, escape_rate_array, escape_event_per_operation_array"
   ]
  },
  {
   "cell_type": "code",
   "execution_count": null,
   "id": "9",
   "metadata": {},
   "outputs": [],
   "source": [
    "critical_point_array_beta_1_35, barrier_height_array_beta_1_35, escape_rate_array_beta_1_35, escape_event_per_operation_array_beta_1_35 = get_relation_between_barrier_height_and_critical_point(phi_1xdc_array_1_35, beta = 1.35, gamma = 9, protocol_duration=60, N = 1.1e6)\n",
    "critical_point_array_beta_2_3, barrier_height_array_beta_2_3, escape_rate_array_beta_2_3, escape_event_per_operation_array_beta_2_3 =  get_relation_between_barrier_height_and_critical_point(phi_1xdc_array_2_3, beta = 2.3, gamma = 9, protocol_duration=60, N = 1e6)"
   ]
  },
  {
   "cell_type": "code",
   "execution_count": null,
   "id": "10",
   "metadata": {},
   "outputs": [],
   "source": [
    "plt.scatter(barrier_height_array_beta_1_35, np.array(critical_point_array_beta_1_35)[:, 0], label = r\"$\\beta = 1.35$\")\n",
    "plt.scatter(barrier_height_array_beta_2_3, np.array(critical_point_array_beta_2_3)[:, 0], label = r\"$\\beta = 2.3$\")"
   ]
  },
  {
   "cell_type": "code",
   "execution_count": null,
   "id": "11",
   "metadata": {},
   "outputs": [],
   "source": []
  },
  {
   "cell_type": "code",
   "execution_count": null,
   "id": "12",
   "metadata": {},
   "outputs": [],
   "source": [
    "plt.plot(barrier_height_array_beta_1_35, escape_event_per_operation_array_beta_1_35)\n",
    "# plt.yscale(\"log\")\n",
    "plt.ylim(top = 1e2)"
   ]
  },
  {
   "cell_type": "code",
   "execution_count": null,
   "id": "13",
   "metadata": {},
   "outputs": [],
   "source": []
  },
  {
   "cell_type": "markdown",
   "id": "14",
   "metadata": {},
   "source": [
    "# calculate the time for a complete oscillation"
   ]
  },
  {
   "cell_type": "code",
   "execution_count": null,
   "id": "15",
   "metadata": {},
   "outputs": [],
   "source": []
  },
  {
   "cell_type": "code",
   "execution_count": null,
   "id": "16",
   "metadata": {},
   "outputs": [],
   "source": []
  },
  {
   "cell_type": "code",
   "execution_count": null,
   "id": "17",
   "metadata": {},
   "outputs": [],
   "source": []
  },
  {
   "cell_type": "code",
   "execution_count": null,
   "id": "18",
   "metadata": {},
   "outputs": [],
   "source": []
  },
  {
   "cell_type": "code",
   "execution_count": null,
   "id": "19",
   "metadata": {},
   "outputs": [],
   "source": []
  }
 ],
 "metadata": {
  "kernelspec": {
   "display_name": "base",
   "language": "python",
   "name": "python3"
  },
  "language_info": {
   "codemirror_mode": {
    "name": "ipython",
    "version": 3
   },
   "file_extension": ".py",
   "mimetype": "text/x-python",
   "name": "python",
   "nbconvert_exporter": "python",
   "pygments_lexer": "ipython3",
   "version": "3.12.2"
  }
 },
 "nbformat": 4,
 "nbformat_minor": 5
}
