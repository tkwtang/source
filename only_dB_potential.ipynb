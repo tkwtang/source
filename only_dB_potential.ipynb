{
 "cells": [
  {
   "cell_type": "code",
   "execution_count": null,
   "id": "0",
   "metadata": {},
   "outputs": [],
   "source": [
    "import numpy as np\n",
    "import importlib, os, datetime\n",
    "from sus.protocol_designer import System, Protocol, Potential, Compound_Protocol\n",
    "from sus.protocol_designer.protocol import sequential_protocol\n",
    "from IPython import display\n",
    "from IPython.display import HTML\n",
    "from quick_sim import setup_sim\n",
    "from edward_tools.coupled_fq_potential import coupled_flux_qubit_non_linear_approx_pot, coupled_flux_qubit_non_linear_approx_force, coupled_flux_qubit_non_linear_approx_pot_break_down, coupled_flux_qubit_non_linear_approx_force_break_down, coupled_flux_qubit_non_linear_approx_pot_only_d_beta, coupled_flux_qubit_non_linear_approx_force_only_d_beta\n",
    "import edward_tools.coupled_fq_potential as coupled_fq_potential_package\n",
    "\n",
    "import edward_tools.fq_runner as fq_runner\n",
    "from edward_tools.visualization import animate_sim_flux_qubit\n",
    "from edward_tools.initial_state_sampling import extra_constraint_00_and_11_only\n",
    "# from PARAMETER_INPUT import *\n",
    "# from PARAMETER_INPUT import _lambda, _theta, _eta\n",
    "from edward_tools.Analysis_tool.general_analysis_tools import show_phi_dc_with_time, getFidelityTimeGraph\n",
    "\n",
    "import kyle_tools as kt\n",
    "import matplotlib.pyplot as plt\n",
    "\n",
    "import importlib, os, datetime\n",
    "from edward_tools import coupled_fq_protocol_library, cfq_runner\n",
    "from edward_tools import coupled_fq_protocol_library\n",
    "import edward_tools.cfq_batch_sweep as cfq_batch_sweep\n",
    "\n",
    "\n",
    "\n",
    "coupled_fq_protocol_library = importlib.reload(coupled_fq_protocol_library)\n",
    "create_system = coupled_fq_protocol_library.create_system\n",
    "get_potential_shot_at_different_t = coupled_fq_protocol_library.get_potential_shot_at_different_t\n",
    "get_potential_shot_at_different_t_1D = coupled_fq_protocol_library.get_potential_shot_at_different_t_1D\n",
    "create_simple_protocol_parameter_dict = coupled_fq_protocol_library.create_simple_protocol_parameter_dict\n",
    "coupled_fq_runner = importlib.reload(cfq_runner)\n",
    "coupled_fq_protocol_library = importlib.reload(coupled_fq_protocol_library)\n",
    "create_system = coupled_fq_protocol_library.create_system\n",
    "get_potential_along_a_1D_cutline = coupled_fq_protocol_library.get_potential_along_a_1D_cutline\n",
    "plotCutlines = coupled_fq_protocol_library.plotCutlines"
   ]
  },
  {
   "cell_type": "code",
   "execution_count": null,
   "id": "1",
   "metadata": {},
   "outputs": [],
   "source": [
    "PHI_0 = 2.067833848 * 1e-15\n",
    "k_B = 1.38e-23\n",
    "T = 0.5\n",
    "k_BT = k_B * T"
   ]
  },
  {
   "cell_type": "code",
   "execution_count": null,
   "id": "2",
   "metadata": {},
   "outputs": [],
   "source": []
  },
  {
   "cell_type": "code",
   "execution_count": null,
   "id": "3",
   "metadata": {},
   "outputs": [],
   "source": [
    "\n",
    "C_factor = 100\n",
    "L_factor = 0.35\n",
    "thermal_factor = 50\n",
    "\n",
    "R_factor = 1\n",
    "I_m_factor = 1\n",
    "I_p_1, I_p_2 = 2e-6 , 2e-6  # Amp\n",
    "I_m_1, I_m_2 = 7e-9 * I_m_factor, 7e-9 * I_m_factor                                # Amp\n",
    "C_1, C_2 = 4e-9 * C_factor, 4e-9 * C_factor                              # F\n",
    "L_1, L_2 = 1e-9 * L_factor, 1e-9 * L_factor                             # H \n",
    "\n",
    "R_1, R_2 = 371 * R_factor, 371 * R_factor                                # ohm \n",
    "\n",
    "m_c = C_1\n",
    "m_1 = C_1\n",
    "m_2 = C_2\n",
    "x_c = PHI_0 / (2 * np.pi)\n",
    "# time_scale_factor = 1\n",
    "t_c = np.sqrt(L_1 * C_1)\n",
    "v_c = x_c / t_c\n",
    "\n",
    "\n",
    "U0_1 = m_c * x_c**2 / t_c**2\n",
    "U0_2 = m_2 * x_c**2 / t_c**2\n",
    "U0_1_k_BT_ratio = U0_1 / k_BT\n",
    "kappa_1, kappa_2, kappa_3, kappa_4 = k_BT/U0_1, k_BT/U0_1, k_BT/U0_1, k_BT/U0_1 # these are kappa' in the equation\n",
    "\n",
    "lambda_1 = 2 * np.sqrt(L_1 * C_1) / (C_1 * R_1)\n",
    "theta_1  = 1\n",
    "eta_1    = np.sqrt(np.sqrt(L_1 * C_1)/ (R_1 * C_1)) * np.sqrt(2 * kappa_1)\n",
    "\n",
    "lambda_2 = 2 * np.sqrt(L_1 * C_1) / (C_2 * R_2)\n",
    "theta_2  = 1 / (C_2/C_1)\n",
    "eta_2    = np.sqrt(np.sqrt(L_1 * C_1)/ (R_1 * C_1)) * np.sqrt(2 * kappa_2 * (R_1 * C_1**2) / (R_2 * C_2**2))\n",
    "\n",
    "lambda_3 = 2 * np.sqrt(L_1 * C_1) / (C_1 * R_1)\n",
    "theta_3  = 4\n",
    "eta_3    = np.sqrt(np.sqrt(L_1 * C_1)/ (R_1 * C_1)) * np.sqrt(8 * kappa_3)\n",
    "\n",
    "lambda_4 = 2 * np.sqrt(L_1 * C_1) / (C_2 * R_2)\n",
    "theta_4  = 4 / (C_2/C_1)\n",
    "eta_4    = np.sqrt(np.sqrt(L_1 * C_1)/ (R_1 * C_1)) * np.sqrt(8 * kappa_4 * (R_1 * C_1**2) / (R_2 * C_2**2))\n",
    "\n",
    "gamma = 10\n",
    "\n",
    "\n",
    "beta_1 = 2 * np.pi * L_1 * I_p_1 / PHI_0; \n",
    "beta_2 = 2 * np.pi * L_2 * I_p_2 / PHI_0;\n",
    "\n",
    "d_beta_1 = 2 * np.pi * L_1 * I_m_1 / PHI_0; \n",
    "d_beta_2 = 2 * np.pi * L_2 * I_m_2 / PHI_0;\n",
    "\n",
    "\n",
    "\n",
    "_lambda = np.array([lambda_1, lambda_2, lambda_3, lambda_4]) *thermal_factor\n",
    "_theta  = np.array([theta_1, theta_2, theta_3, theta_4])\n",
    "_eta  =   np.array([eta_1, eta_2, eta_3, eta_4]) *thermal_factor"
   ]
  },
  {
   "cell_type": "code",
   "execution_count": null,
   "id": "4",
   "metadata": {},
   "outputs": [],
   "source": [
    "d_beta_1 * U0_1_k_BT_ratio"
   ]
  },
  {
   "cell_type": "code",
   "execution_count": null,
   "id": "5",
   "metadata": {},
   "outputs": [],
   "source": [
    "\"\"\"\n",
    "# step 0: modify parameters\n",
    "- All the parameters are stored in a separate file PARAMETER_INPUT\n",
    "- You can override some of the parameters here.\n",
    "\"\"\"\n",
    "params = {}\n",
    "params['N'] = 10000\n",
    "params['dt'] = 1/100\n",
    "params['lambda'] = 1\n",
    "params['beta'] = 1\n",
    "params['sim_params'] = [_lambda, _theta, _eta]\n",
    "params['target_work'] = None\n",
    "params['comment'] = \"test the effect of I_m asymmetry\"\n",
    "params['capacitance'] = [C_1, C_2, C_1/4, C_2/4]\n",
    "params['mass_special'] = [1, 1, 1/4, 1/4]\n",
    "params['v_c'] = x_c/t_c\n",
    "params['k_BT'] = k_BT\n",
    "params['U0'] = U0_1\n"
   ]
  },
  {
   "cell_type": "code",
   "execution_count": null,
   "id": "6",
   "metadata": {},
   "outputs": [],
   "source": []
  },
  {
   "cell_type": "code",
   "execution_count": null,
   "id": "7",
   "metadata": {},
   "outputs": [],
   "source": [
    "m_2 = m_1 \n",
    "m_3 = 1/4 * m_1\n",
    "m_4 = 1/4 * m_2"
   ]
  },
  {
   "cell_type": "code",
   "execution_count": null,
   "id": "8",
   "metadata": {},
   "outputs": [],
   "source": [
    "\"\"\"\n",
    "# step 1: Define potential\n",
    "\"\"\"\n",
    "coupled_fq_default_param = [1, 1, 0, 0, 0, 0, 0, 0, 0, 0, 0, 0, 0, x_c]\n",
    "[phi_1_bound, phi_2_bound, phi_1dc_bound, phi_2dc_bound] = np.array([4, 4, 4, 4])\n",
    "\n",
    "coupled_fq_domain = [[-phi_1_bound, -phi_2_bound, -phi_1dc_bound, -phi_2dc_bound], \\\n",
    "                     [phi_1_bound, phi_2_bound, phi_1dc_bound, phi_2dc_bound]]\n",
    "\n",
    "# coupled_fq_pot = Potential(coupled_flux_qubit_pot_with_offset_at_00_xy, coupled_flux_qubit_force, 14, 4,\\\n",
    "#                            default_params = coupled_fq_default_param,  relevant_domain = coupled_fq_domain)\n",
    "\n",
    "coupled_fq_pot = Potential(coupled_flux_qubit_non_linear_approx_pot_only_d_beta, coupled_flux_qubit_non_linear_approx_force_only_d_beta, 14, 4,\\\n",
    "                           default_params = coupled_fq_default_param,  relevant_domain = coupled_fq_domain)\n",
    "\n"
   ]
  },
  {
   "cell_type": "code",
   "execution_count": null,
   "id": "9",
   "metadata": {},
   "outputs": [],
   "source": [
    "\"\"\"\n",
    "# step 2: Define initial condition and protocol\n",
    "\"\"\"\n",
    "manual_domain=[np.array([-5, -5]), np.array([5, 5])]\n",
    "# phi_1_dcx, phi_2_dcx = 3, 3\n",
    "phi_1_dcx, phi_2_dcx = 0, 0\n",
    "phi_1_dc, phi_2_dc = phi_1_dcx, phi_2_dcx\n",
    "\n",
    "phi_1_x_off = 0\n",
    "phi_2_x_off = 0\n",
    "phi_1_dcx_off = 0\n",
    "phi_2_dcx_off = 0\n",
    "M_12_off = 0\n",
    "\n",
    "# bookmark\n",
    "# phi_1_dcx_on = 2.8\n",
    "# phi_2_dcx_on = 2.8\n",
    "# M_12_on = -0.6\n",
    "\n",
    "# phi_1_x_on = -0.008\n",
    "# phi_2_x_on = -0.008\n",
    "phi_1_x_on = -0.00\n",
    "phi_2_x_on = -0.00\n",
    "phi_1_dcx_on = 3.0\n",
    "phi_2_dcx_on = 3.0\n",
    "M_12_on = -0.6\n",
    "\n",
    "initial_parameter_dict = {\n",
    "        \"U0_1\": U0_1,     \"U0_2\": U0_2,     \"gamma_1\": gamma,  \"gamma_2\": gamma,\n",
    "        \"beta_1\": beta_1,   \"beta_2\": beta_2,   \"d_beta_1\": d_beta_1 ,   \"d_beta_2\": d_beta_2,\n",
    "        \"phi_1_x\": 0,  \"phi_2_x\": 0,  \"phi_1_dcx\": phi_1_dcx_off,  \"phi_2_dcx\": phi_1_dcx_off,\n",
    "        \"M_12\": M_12_off, 'x_c': x_c\n",
    "}\n",
    "\n"
   ]
  },
  {
   "cell_type": "code",
   "execution_count": null,
   "id": "10",
   "metadata": {},
   "outputs": [],
   "source": [
    "zeroDissipation = False\n",
    "saveAllStates = True\n",
    "\n",
    "# params['circuit_parameter'] = {\n",
    "#     \"C_factor\":C_factor, \"L_factor\": L_factor, \"I_m_1_factor\": I_m_factor, \"T\": T, \n",
    "#     \"I_p_1\": I_p_1, \"I_p_2\": I_p_2, \"I_m_1\": I_m_1, \"I_m_2\": I_m_2,\n",
    "#     \"R_1\": R_1, \"R_2\": R_2, \"C_1\": C_1, \"C_2\": C_2, \"L_1\": L_1, \"L_2\": L_2, \n",
    "#     \"phi_1_dcx_on\": phi_1_dcx_on, \"phi_2_dcx_on\": phi_2_dcx_on, \"M_12_on\": M_12_on\n",
    "# }\n",
    "params['sim_params'] = [_lambda, _theta, _eta]\n",
    "if zeroDissipation:\n",
    "    params['sim_params'] = [_lambda * 0, _theta, _eta * 0]\n",
    "\n",
    "TR_initial_condition = [\n",
    "    (phi_1_dcx_off, phi_2_dcx_off, M_12_off), \n",
    "    (phi_1_dcx_off, phi_2_dcx_on,  M_12_off), \n",
    "    (phi_1_dcx_off, phi_2_dcx_on,  M_12_on), \n",
    "    (phi_1_dcx_off, phi_2_dcx_off, M_12_on), \n",
    "    (phi_1_dcx_off, phi_2_dcx_off, M_12_off), \n",
    "    (phi_1_dcx_on,  phi_2_dcx_off, M_12_off)]\n",
    "\n",
    "protocol_index = 1\n",
    "\n",
    "# bookmark\n",
    "# initial_parameter_dict[\"phi_1_dcx\"], initial_parameter_dict[\"phi_2_dcx\"], initial_parameter_dict[\"M_12\"] = TR_initial_condition[protocol_index-1]\n",
    "initial_parameter_dict[\"phi_1_dcx\"], initial_parameter_dict[\"phi_2_dcx\"], initial_parameter_dict[\"M_12\"] = \\\n",
    "TR_initial_condition[0]\n",
    "\n",
    "rest = lambda t: {\"duration\": t, \"name\":\"rest\"}\n",
    "duration_t = 200\n",
    "protocol_list = [\n",
    "    # forward\n",
    "    {\"duration\":200, \"name\": \"test\"},\n",
    "    # {\"duration\":50, \"phi_2_x\": phi_1_x_on * 0.5,  \"phi_1_dcx\": phi_1_dcx_off, \"phi_2_dcx\": phi_2_dcx_on * 0.5,  \"M_12\": M_12_off,  \"name\":\"(1) mix in y direction\"},\n",
    "    # {\"duration\":200,\"phi_2_x\": phi_1_x_on, \"phi_1_dcx\": phi_1_dcx_off, \"phi_2_dcx\": phi_2_dcx_on,  \"M_12\": M_12_off,  \"name\":\"(1) mix in y direction\"},\n",
    "    # {\"duration\":60, \"phi_1_dcx\": phi_1_dcx_off, \"phi_2_dcx\": phi_2_dcx_on,  \"M_12\": M_12_on,   \"name\":\"(2) conditional tilt\"},\n",
    "    # {\"duration\":60, \"phi_1_x\": phi_1_x_on, \"phi_2_x\": phi_1_x_off, \"phi_1_dcx\": phi_1_dcx_on,  \"phi_2_dcx\": phi_2_dcx_off, \"M_12\": M_12_on,  \"name\": \"(4) conditional tilt in x\"}, \n",
    "    # {\"duration\":60, \"phi_1_dcx\": phi_1_dcx_on,  \"phi_2_dcx\": phi_2_dcx_off, \"M_12\": M_12_off,  \"name\":\"(5) mix in x direction\"}, \n",
    "    # {\"duration\":200, \"phi_1_x\": phi_1_x_on * 0.5, \"phi_1_dcx\": phi_1_dcx_on * 0.5, \"phi_2_dcx\": phi_2_dcx_off, \"M_12\": M_12_off,  \"name\":\"(6) 4 well potential\"}, \n",
    "    # {\"duration\":50,  \"phi_1_x\": phi_1_x_off, \"phi_1_dcx\": phi_1_dcx_off, \"phi_2_dcx\": phi_2_dcx_off, \"M_12\": M_12_off,  \"name\":\"(6) 4 well potential\"}, \n",
    "]\n",
    "\n",
    "# protocol_list = [\n",
    "#     # forward\n",
    "#     {\"duration\":200, \"phi_2_x\": phi_1_x_on * 0.5,  \"phi_1_dcx\": phi_1_dcx_off, \"phi_2_dcx\": phi_2_dcx_on * 0.5,  \"M_12\": M_12_off,  \"name\":\"(1) mix in y direction\"},\n",
    "#     {\"duration\":200,\"phi_2_x\": phi_1_x_on, \"phi_1_dcx\": phi_1_dcx_off, \"phi_2_dcx\": phi_2_dcx_on,  \"M_12\": M_12_off,  \"name\":\"(1) mix in y direction\"},\n",
    "#     {\"duration\":200, \"phi_1_dcx\": phi_1_dcx_off, \"phi_2_dcx\": phi_2_dcx_on,  \"M_12\": M_12_on,   \"name\":\"(2) conditional tilt\"},\n",
    "    \n",
    "#     {\"duration\":200, \"phi_1_x\": phi_1_x_on, \"phi_2_x\": phi_1_x_off, \"phi_1_dcx\": phi_1_dcx_on,  \"phi_2_dcx\": phi_2_dcx_off, \"M_12\": M_12_on,  \"name\": \"(4) conditional tilt in x\"}, \n",
    "#     {\"duration\":200, \"phi_1_dcx\": phi_1_dcx_on,  \"phi_2_dcx\": phi_2_dcx_off, \"M_12\": M_12_off,  \"name\":\"(5) mix in x direction\"}, \n",
    "#     {\"duration\":200, \"phi_1_x\": phi_1_x_on * 0.5, \"phi_1_dcx\": phi_1_dcx_on * 0.5, \"phi_2_dcx\": phi_2_dcx_off, \"M_12\": M_12_off,  \"name\":\"(6) 4 well potential\"}, \n",
    "#     {\"duration\":200,  \"phi_1_x\": phi_1_x_off, \"phi_1_dcx\": phi_1_dcx_off, \"phi_2_dcx\": phi_2_dcx_off, \"M_12\": M_12_off,  \"name\":\"(6) 4 well potential\"}, \n",
    "# ]\n",
    "\n"
   ]
  },
  {
   "cell_type": "code",
   "execution_count": null,
   "id": "11",
   "metadata": {},
   "outputs": [],
   "source": []
  },
  {
   "cell_type": "code",
   "execution_count": null,
   "id": "12",
   "metadata": {},
   "outputs": [],
   "source": [
    "\n",
    "\"\"\"\n",
    "# step 3: create the relevant storage protocol and computation protocol\n",
    "\"\"\"\n",
    "computation_protocol_parameter_dict = coupled_fq_protocol_library.customizedProtocol(initial_parameter_dict, \\\n",
    "                                                                    protocol_list)\n",
    "storage_protocol, comp_protocol = create_system(computation_protocol_parameter_dict)"
   ]
  },
  {
   "cell_type": "code",
   "execution_count": null,
   "id": "13",
   "metadata": {},
   "outputs": [],
   "source": [
    "\"\"\"\n",
    "# step 4: create the coupled_fq_runner\n",
    "\"\"\"\n",
    "\n",
    "cfqr = cfq_runner.coupledFluxQubitRunner(potential = coupled_fq_pot, params = params, \\\n",
    "                                                storage_protocol= storage_protocol, \\\n",
    "                                                computation_protocol= comp_protocol, measure_all_states=True)\n",
    "cfqr.initialize_sim()\n",
    "# cfqr.set_sim_attributes(extra_constraint=extra_constraint_00_and_11_only)\n",
    "cfqr.set_sim_attributes()\n",
    "init_state_saved = cfqr.init_state\n",
    "protocol_time_array, protocol_time_index_array, protocol_all_time_array, protocol_time_all_index_array = cfqr.createProtocolTimeArray(protocol_list, params)"
   ]
  },
  {
   "cell_type": "code",
   "execution_count": null,
   "id": "14",
   "metadata": {},
   "outputs": [],
   "source": []
  },
  {
   "cell_type": "code",
   "execution_count": null,
   "id": "15",
   "metadata": {},
   "outputs": [],
   "source": []
  },
  {
   "cell_type": "code",
   "execution_count": null,
   "id": "16",
   "metadata": {},
   "outputs": [],
   "source": [
    "def graphForCriticalValueOfPhi_xdc(parameterArray):\n",
    "    XYU_array = []\n",
    "    \n",
    "    final_t = 40\n",
    "    for p_array in parameterArray:   \n",
    "        print(p_array)\n",
    "        protocol_list = [\n",
    "            {\"duration\":final_t, \"phi_1_dcx\": p_array[0], \"phi_2_dcx\": p_array[1],  \"M_12\": p_array[2],  \"name\":\"(1) mix in y direction\"},\n",
    "        ]\n",
    "        computation_protocol_parameter_dict = coupled_fq_protocol_library.customizedProtocol(initial_parameter_dict, protocol_list)\n",
    "        storage_protocol, comp_protocol = create_system(computation_protocol_parameter_dict)\n",
    "        cfqr = cfq_runner.coupledFluxQubitRunner(potential = coupled_fq_pot, params = params, storage_protocol= storage_protocol, computation_protocol= comp_protocol)\n",
    "        cfqr.initialize_sim(); \n",
    "        cfqr.set_sim_attributes()\n",
    "        init_state_saved = cfqr.init_state\n",
    "        \n",
    "        \n",
    "        fig, ax = plt.subplots(1, 2, figsize = [12, 6])\n",
    "        X, Y, U, cutlineDirection, _targetAxis, _plotAxis = get_potential_along_a_1D_cutline(cfqr, t = final_t, cutlineDirection = \"v\")\n",
    "        plt_line_data_at_t = plotCutlines(X, Y, U, cutlineDirection, cutlineValue = -1.96436202,\\\n",
    "                                    contour_plt=ax[0], cutline_plt=ax[1], contours = 20,\n",
    "                                    showGraph=True)\n",
    "\n",
    "        XYU_array.insert(0, plt_line_data_at_t)\n",
    "        \n",
    "    return XYU_array"
   ]
  },
  {
   "cell_type": "code",
   "execution_count": null,
   "id": "17",
   "metadata": {},
   "outputs": [],
   "source": [
    "# XYU_array = graphForCriticalValueOfPhi_xdc([(0, 2.6,0), (0, 2.8, 0), (0, 3.0, 0)])"
   ]
  },
  {
   "cell_type": "code",
   "execution_count": null,
   "id": "18",
   "metadata": {},
   "outputs": [],
   "source": [
    "fig, ax = plt.subplots(1, 2, figsize = [14, 6])\n",
    "\n",
    "X, Y, U, cutlineDirection, _targetAxis, _plotAxis = get_potential_along_a_1D_cutline(cfqr, t = 50, cutlineDirection = \"v\")\n",
    "plt_line_data_at_t = plotCutlines(X, Y, U, cutlineDirection, cutlineValue = -1.96436202,\\\n",
    "                            contour_plt=ax[0], cutline_plt=ax[1], contours = 20,\n",
    "                            showGraph=True)\n",
    "\n",
    "# contours, time = item[\"contour_plot\"][\"contours\"], item[\"contour_plot\"][\"time\"]\n",
    "# _plotAxis = item[\"cutline_plot\"][\"plotAxis\"]\n",
    "# _targetU = item[\"cutline_plot\"][\"targetU\"]\n",
    "# ax[0].set_box_aspect(1)\n",
    "# ax[1].set_box_aspect(1)"
   ]
  },
  {
   "cell_type": "code",
   "execution_count": null,
   "id": "19",
   "metadata": {},
   "outputs": [],
   "source": [
    "# fig, ax = plt.subplots(1, 2, figsize = [14, 6])\n",
    "# for index, item in enumerate(XYU_array):\n",
    "\n",
    "#     X, Y, U = item[\"contour_plot\"][\"X\"], item[\"contour_plot\"][\"Y\"], item[\"contour_plot\"][\"U\"]\n",
    "#     contours, time = item[\"contour_plot\"][\"contours\"], item[\"contour_plot\"][\"time\"]\n",
    "#     _plotAxis = item[\"cutline_plot\"][\"plotAxis\"]\n",
    "#     _targetU = item[\"cutline_plot\"][\"targetU\"]\n",
    "#     ax[0].set_box_aspect(1)\n",
    "#     ax[1].set_box_aspect(1)\n",
    "\n",
    "#     ax[0].set_xlabel(r\"$\\varphi_{1}$\", fontsize = 20)\n",
    "#     ax[0].set_ylabel(r\"$\\varphi_{2}$\", fontsize = 20)\n",
    "#     ax[0].xaxis.set_tick_params(labelsize=15)\n",
    "#     ax[0].yaxis.set_tick_params(labelsize=15)\n",
    "\n",
    "    \n",
    "#     ax[1].set_ylabel(\"potential energy\", fontsize = 18)\n",
    "#     ax[1].set_xlabel(r\"$\\varphi_{2}$\", fontsize = 20)\n",
    "#     ax[1].xaxis.set_tick_params(labelsize=15)\n",
    "#     ax[1].yaxis.set_tick_params(labelsize=15)\n",
    "\n",
    "    \n",
    "#     ax[0].contourf(X, Y, U, contours)\n",
    "#     ax[0].vlines(x = -2.6, ymin = -5, ymax = 5, colors= \"red\")\n",
    "#     ax[1].plot(_plotAxis, _targetU, label = r\"$\\varphi_{2dcx}$ = \" + f\"{phi_1_dcx_on_array[index]}\")\n",
    "#     # ax[1].legend(fontsize= 15)\n",
    "# #     ax[1].set_title(, fontsize = 15)\n",
    "# # \"contour_plot\": {\"X\": X, \"Y\": Y, \"U\": U, \"contours\": contours, \"time\": time},\n",
    "# #         \"cutline_plot\": {\"plotAxis\": plotAxis, \"targetU\": targetU, \"time\": time, \"cutlineDirection\": cutlineDirection, \"cutlineValue\": cutlineValue}"
   ]
  },
  {
   "cell_type": "code",
   "execution_count": null,
   "id": "20",
   "metadata": {},
   "outputs": [],
   "source": []
  },
  {
   "cell_type": "markdown",
   "id": "21",
   "metadata": {},
   "source": [
    "# actual simulations"
   ]
  },
  {
   "cell_type": "code",
   "execution_count": null,
   "id": "22",
   "metadata": {},
   "outputs": [],
   "source": [
    "manual_domain=[np.array([-5, -5]), np.array([5, 5])]\n",
    "mapping_state_1_to_state_2_dict = {\"00\": [\"00\", \"10\"], \"01\": [\"00\", \"10\"], \"10\": [\"01\", \"11\"], \"11\": [\"01\", \"11\"]}"
   ]
  },
  {
   "cell_type": "code",
   "execution_count": null,
   "id": "23",
   "metadata": {},
   "outputs": [],
   "source": [
    "# step 5: perform simulations\n",
    "\n",
    "simResult = cfq_batch_sweep.simulateSingleCoupledFluxQubit(params, initial_parameter_dict, protocol_list, \\\n",
    "                        potential = coupled_fq_pot, potential_default_param = coupled_fq_default_param,            \n",
    "                        initial_state = init_state_saved, manual_domain = manual_domain, \\\n",
    "                        phi_1_dcx = phi_1_dcx,  phi_2_dcx = phi_2_dcx, \\\n",
    "                        percentage = 1, as_step = np.s_[::], measure_all_states=saveAllStates)"
   ]
  },
  {
   "cell_type": "code",
   "execution_count": null,
   "id": "24",
   "metadata": {},
   "outputs": [],
   "source": []
  },
  {
   "cell_type": "markdown",
   "id": "25",
   "metadata": {},
   "source": [
    "# fidelity analysis"
   ]
  },
  {
   "cell_type": "code",
   "execution_count": null,
   "id": "26",
   "metadata": {},
   "outputs": [],
   "source": [
    "import edward_tools.couple_flux_qubit_metrics as couple_flux_qubit_metrics"
   ]
  },
  {
   "cell_type": "code",
   "execution_count": null,
   "id": "27",
   "metadata": {},
   "outputs": [],
   "source": [
    "print(f\"phi_1_x_on: {phi_1_x_on}, phi_2_x_on: {phi_2_x_on}\")"
   ]
  },
  {
   "cell_type": "code",
   "execution_count": null,
   "id": "28",
   "metadata": {},
   "outputs": [],
   "source": [
    "simResult[\"fidelity\"]\n"
   ]
  },
  {
   "cell_type": "code",
   "execution_count": null,
   "id": "29",
   "metadata": {},
   "outputs": [],
   "source": [
    "getFidelityTimeGraph(simResult['cfqr'], params, mapping_state_1_to_state_2_dict)"
   ]
  },
  {
   "cell_type": "code",
   "execution_count": null,
   "id": "30",
   "metadata": {},
   "outputs": [],
   "source": [
    "step_indices = np.array(simResult['cfqr'].sim.output.all_state[\"step_indices\"])\n",
    "time_step_array = step_indices * params['dt'] "
   ]
  },
  {
   "cell_type": "code",
   "execution_count": null,
   "id": "31",
   "metadata": {},
   "outputs": [],
   "source": [
    "step_indices_2 = step_indices[step_indices>0][::100]\n",
    "time_step_array_2 = step_indices_2 * params['dt'] \n",
    "# time_step_array_2 = time_step_array[time_step_array > 500][::100]\n",
    "metastable_state_array = [\"00\", \"01\", \"10\", \"11\"]\n",
    "fidelity_array = []\n",
    "\n",
    "for step in step_indices_2:\n",
    "    _fidelity_at_time_t = couple_flux_qubit_metrics.fidelityEvaluation(simResult['cfqr'].init_state[:, (0, 1), :], \n",
    "                   simResult['cfqr'].sim.output.all_state[\"states\"][:, step, (0, 1), :] , mapping_state_1_to_state_2_dict)\n",
    "    fidelity_array.append([d['final_percentage'] for d in _fidelity_at_time_t])\n",
    "fidelity_array = np.array(fidelity_array, dtype = float)\n",
    "\n",
    "fig, ax = plt.subplots(2, 2, figsize = [10, 8])\n",
    "ax_flatten = ax.flatten()\n",
    "\n",
    "for i, _ax in enumerate(ax_flatten):\n",
    "    _ax.plot(time_step_array_2, fidelity_array[:, i, 0], label = \"00\")\n",
    "    _ax.plot(time_step_array_2, fidelity_array[:, i, 1], label = \"01\")\n",
    "    _ax.plot(time_step_array_2, fidelity_array[:, i, 2], label = \"10\")\n",
    "    _ax.plot(time_step_array_2, fidelity_array[:, i, 3], label = \"11\")\n",
    "    _ax.set_title(f\"initial_at_{metastable_state_array[i]}\")\n",
    "    _ax.legend()\n",
    "plt.show()"
   ]
  },
  {
   "cell_type": "code",
   "execution_count": null,
   "id": "32",
   "metadata": {},
   "outputs": [],
   "source": [
    "def showFidelity(target):\n",
    "\n",
    "    final_percentage_matrix = np.array([d[\"final_percentage\"] for d in target]).T\n",
    "    text_box_array = [\"\\n\".join(row) for row in final_percentage_matrix]\n",
    "    # params_list = list(target[\"params\"])[0]\n",
    "    fig, ax = plt.subplots(1, 1, figsize = [4, 4])\n",
    "    # plt.figure(figsize=[4, 4])\n",
    "    # plt.title(f\"N = {params_list['N']}, dt = {params_list['dt']}\")\n",
    "    ax.set_xlim(-5, 5);plt.ylim(-5, 5);\n",
    "    ax.text(-1.25, -1, \"00\"); ax.text(-1.25, 4, \"01\")\n",
    "    ax.text(4, -1, \"10\"); ax.text(4, 4, \"11\")\n",
    "    ax.text(-3.25, -3.5, text_box_array[0]); ax.text(-3.25, 1.5, text_box_array[1])\n",
    "    ax.text(1.75, -3.5, text_box_array[2]); ax.text(1.75, 1.5, text_box_array[3])\n",
    "    ax.vlines(0, ymin = -5, ymax = 5); ax.hlines(0, xmin = -5, xmax = 5)\n",
    "\n",
    "import edward_tools.couple_flux_qubit_metrics as couple_flux_qubit_metrics\n",
    "couple_flux_qubit_metrics.fidelityEvaluation\n",
    "fidelity_at_t_array = []\n",
    "initial_state = simResult['cfqr'].init_state[:, (0, 1), :]\n",
    "for t_index in protocol_time_index_array[-1:]:\n",
    "    state_at_t = simResult['cfqr'].sim.output.all_state[\"states\"][:, t_index, (0, 1), :]\n",
    "    fidelity_at_t = couple_flux_qubit_metrics.fidelityEvaluation(initial_state, state_at_t, mapping_state_1_to_state_2_dict)\n",
    "    showFidelity(fidelity_at_t)\n",
    "    fidelity_at_t_array.append(fidelity_at_t)"
   ]
  },
  {
   "cell_type": "code",
   "execution_count": null,
   "id": "33",
   "metadata": {},
   "outputs": [],
   "source": []
  },
  {
   "cell_type": "code",
   "execution_count": null,
   "id": "34",
   "metadata": {},
   "outputs": [],
   "source": []
  },
  {
   "cell_type": "code",
   "execution_count": null,
   "id": "35",
   "metadata": {},
   "outputs": [],
   "source": []
  },
  {
   "cell_type": "markdown",
   "id": "36",
   "metadata": {
    "tags": []
   },
   "source": [
    "# Work don analysis"
   ]
  },
  {
   "cell_type": "code",
   "execution_count": null,
   "id": "37",
   "metadata": {},
   "outputs": [],
   "source": [
    "# %%notify\n",
    "step_time_array = np.cumsum(np.array([x[\"duration\"] for x in protocol_list]))/params['dt']\n",
    "name_array = [x[\"name\"] for x in protocol_list]\n",
    "\n",
    "\n",
    "plt.hist(simResult[\"work_distribution\"], bins = 45)\n",
    "plt.show()\n",
    "mean_work = np.mean(simResult[\"work_distribution\"])\n",
    "jarzyn_term = np.mean(np.exp(-simResult[\"work_distribution\"]))\n",
    "print(f\"N = {params['N']}, dt = {params['dt']}\")\n",
    "print(f\"phi_1dcx_on: {phi_1_dcx_on}, phi_2dcx_on: {phi_2_dcx_on}, M_12_on: {M_12_on}\")\n",
    "print(f\"L_factor = {L_factor}, C_factor = {C_factor}, I_m_factor = {I_m_factor}\")\n",
    "print([x[\"duration\"] for x in protocol_list])\n",
    "print(f'jarzyn = {jarzyn_term}, mean work = {mean_work}')"
   ]
  },
  {
   "cell_type": "code",
   "execution_count": null,
   "id": "38",
   "metadata": {},
   "outputs": [],
   "source": [
    "step_array = np.arange(simResult[\"work_statistic\"][:,0].shape[0])\n",
    "skip_step = int(len(step_array) * 0.01)\n",
    "work_mean = simResult[\"work_statistic\"][:,0]\n",
    "work_std = simResult[\"work_statistic\"][:,1]\n",
    "\n",
    "coarse_step_array = step_array[::skip_step]\n",
    "coarse_step_array = np.append(coarse_step_array, step_array[-1])\n",
    "coarse_work_mean_array = work_mean[::skip_step]\n",
    "coarse_work_mean_array = np.append(coarse_work_mean_array, work_mean[-1])\n",
    "coarse_work_std_array = np.append(work_std[::skip_step], work_std[-1])\n",
    "\n",
    "plt.errorbar(coarse_step_array, coarse_work_mean_array, yerr = coarse_work_std_array)\n",
    "# plt.yscale('log')\n",
    "\n",
    "for i, t in enumerate(step_time_array):\n",
    "    plt.axvline(x = t, color = 'b', label = 'axvline - full height')\n",
    "    # plt.text('2017-07-02 16:30:00',0.005,'BigNews1',rotation=90,va='top')\n",
    "    plt.annotate(f\"{i+1}\", \n",
    "            xy=(t, 4.5),  \n",
    "            # xytext=(quantile_75, 2.05*1e9),\n",
    "            color='red', \n",
    "            ha='center', \n",
    "            size=16)\n",
    "\n",
    "first_half = work_mean[0: len(work_mean)//2]\n",
    "second_half = work_mean[len(work_mean)//2:][::-1]\n",
    "abs_error = np.abs(first_half - second_half)\n",
    "# plt.plot(step_array[0:len(step_array)//2], abs_error)\n",
    "print(max(abs_error), min(abs_error))\n",
    "print(f'jarzyn = {jarzyn_term}')\n",
    "print([x[\"duration\"] for x in protocol_list])"
   ]
  },
  {
   "cell_type": "code",
   "execution_count": null,
   "id": "39",
   "metadata": {},
   "outputs": [],
   "source": []
  },
  {
   "cell_type": "code",
   "execution_count": null,
   "id": "40",
   "metadata": {},
   "outputs": [],
   "source": [
    "\n",
    "target_time_index = np.array(protocol_time_array)/params['dt']\n",
    "target_time_index = target_time_index.astype(\"int\") - 1\n",
    "\n",
    "work_done_array = [work_mean[i] for i in target_time_index[1:]]\n",
    "work_done_array.insert(0, 0)\n",
    "work_done_of_each_step = np.array(work_done_array)[1:] - np.array(work_done_array)[:-1]\n",
    "\n",
    "Measure_Erasue_steps = [0, 1, 2, 3]\n",
    "Control_Steps = [4, 5, 6]\n",
    "\n",
    "\n",
    "\n",
    "print(\"Third way to split the steps: (E, 0-1), (M. 2), (C: 3-6)\")\n",
    "print(f\"work_done = {work_done_of_each_step}\" )\n",
    "# print(\"measurement + reset = \", work_done_of_each_step[0] + work_done_of_each_step[1] + work_done_of_each_step[2] )\n",
    "# print(\"control = \", work_done_of_each_step[3] + work_done_of_each_step[4] + work_done_of_each_step[5] + work_done_of_each_step[6])\n",
    "# print(sum(work_done_of_each_step))\n",
    "\n",
    "\n",
    "print(\"measurement + reset = \", np.sum([work_done_of_each_step[i] for i in Measure_Erasue_steps]))\n",
    "print(\"control = \", np.sum([work_done_of_each_step[i] for i in Control_Steps]))\n",
    "print(sum(work_done_of_each_step))"
   ]
  },
  {
   "cell_type": "code",
   "execution_count": null,
   "id": "41",
   "metadata": {},
   "outputs": [],
   "source": []
  },
  {
   "cell_type": "code",
   "execution_count": null,
   "id": "42",
   "metadata": {},
   "outputs": [],
   "source": []
  },
  {
   "cell_type": "code",
   "execution_count": null,
   "id": "43",
   "metadata": {},
   "outputs": [],
   "source": [
    "protocol_time_array"
   ]
  },
  {
   "cell_type": "code",
   "execution_count": null,
   "id": "44",
   "metadata": {},
   "outputs": [],
   "source": [
    "def get_work_done_from_time_array(params, work_statistic_array, protocol_time_array):\n",
    "    target_time_index = np.array(protocol_time_array)/params['dt']\n",
    "    target_time_index = target_time_index.astype(\"int\") - 1\n",
    "    \n",
    "    work_done_array = [work_statistic_array[i] for i in target_time_index[1:]]\n",
    "    work_done_array.insert(0, 0)\n",
    "    work_done_array = np.array(work_done_array)[1:] - np.array(work_done_array)[:-1]\n",
    "    print(target_time_index, work_done_array)"
   ]
  },
  {
   "cell_type": "code",
   "execution_count": null,
   "id": "45",
   "metadata": {},
   "outputs": [],
   "source": []
  },
  {
   "cell_type": "code",
   "execution_count": null,
   "id": "46",
   "metadata": {},
   "outputs": [],
   "source": []
  },
  {
   "cell_type": "code",
   "execution_count": null,
   "id": "47",
   "metadata": {},
   "outputs": [],
   "source": []
  },
  {
   "cell_type": "code",
   "execution_count": null,
   "id": "48",
   "metadata": {},
   "outputs": [],
   "source": []
  },
  {
   "cell_type": "markdown",
   "id": "49",
   "metadata": {},
   "source": [
    "# animations"
   ]
  },
  {
   "cell_type": "code",
   "execution_count": null,
   "id": "50",
   "metadata": {},
   "outputs": [],
   "source": [
    "# animations\n",
    "vmin, vmax = 0, 100\n",
    "frame_skip = 2000\n",
    "# phi_1_dc, phi_2_dc = phi_1_dcx, phi_2_dcx\n",
    "particle_number = 0\n",
    "# all_state = simResult[\"cfqr\"].sim.output.all_state['states'][particle_number:particle_number+1, :, :, :]\n",
    "all_state = simResult[\"cfqr\"].sim.output.all_state['states']\n",
    "simResult[\"cfqr\"].system.protocol_list = protocol_list\n",
    "time_range = (computation_protocol_parameter_dict[\"t\"][0], computation_protocol_parameter_dict[\"t\"][-1])\n",
    "\n",
    "ani,_,_ = animate_sim_flux_qubit(all_state, system = simResult[\"cfqr\"].system ,\n",
    "                                   times = time_range, frame_skip=frame_skip, color_by_state=True,\n",
    "                                   vmin = vmin, vmax = vmax,\n",
    "                                   manual_domain = manual_domain)\n",
    "\n",
    "# from IPython.display import HTML\n",
    "from IPython import display\n",
    "video = ani.to_html5_video()\n",
    "html = display.HTML(video)\n",
    "display.display(html)"
   ]
  },
  {
   "cell_type": "code",
   "execution_count": null,
   "id": "51",
   "metadata": {},
   "outputs": [],
   "source": []
  },
  {
   "cell_type": "code",
   "execution_count": null,
   "id": "52",
   "metadata": {},
   "outputs": [],
   "source": []
  },
  {
   "cell_type": "code",
   "execution_count": null,
   "id": "53",
   "metadata": {},
   "outputs": [],
   "source": [
    "cfq_batch_sweep.saveSimulationResult(simResult, U0_1, timeOrStep = 'step', save = True, save_final_state = False, saveFolderPath = \"coupled_flux_qubit_protocol/coupled_flux_qubit_data_gallery\")"
   ]
  },
  {
   "cell_type": "code",
   "execution_count": null,
   "id": "54",
   "metadata": {},
   "outputs": [],
   "source": []
  },
  {
   "cell_type": "code",
   "execution_count": null,
   "id": "55",
   "metadata": {},
   "outputs": [],
   "source": []
  },
  {
   "cell_type": "code",
   "execution_count": null,
   "id": "56",
   "metadata": {},
   "outputs": [],
   "source": []
  },
  {
   "cell_type": "markdown",
   "id": "57",
   "metadata": {
    "tags": []
   },
   "source": [
    "# minimum value of potential energy"
   ]
  },
  {
   "cell_type": "code",
   "execution_count": null,
   "id": "58",
   "metadata": {},
   "outputs": [],
   "source": [
    "import edward_tools.Analysis_tool.minimum_value_of_potential as minimum_value_of_potential\n",
    "import importlib\n",
    "importlib.reload(minimum_value_of_potential)"
   ]
  },
  {
   "cell_type": "code",
   "execution_count": null,
   "id": "59",
   "metadata": {
    "tags": []
   },
   "outputs": [],
   "source": []
  },
  {
   "cell_type": "code",
   "execution_count": null,
   "id": "60",
   "metadata": {},
   "outputs": [],
   "source": [
    "fig, ax = plt.subplots(1, 2, figsize=[9, 4])\n",
    "ax_flatten = ax.flatten()\n",
    "X, Y, U, cutlineDirection, _targetAxis, _plotAxis = get_potential_along_a_1D_cutline(cfqr, t = protocol_time_array[0], cutlineDirection = \"v\")\n",
    "plt_line_data_at_t = plotCutlines(X, Y, U, cutlineDirection, cutlineValue = minimum_points_location[0][0],\\\n",
    "                            contour_plt=ax_flatten[0], cutline_plt=ax_flatten[1], contours = contour_value,\n",
    "                            showGraph=True)\n",
    "energy_profile_array.append([plt_line_data_at_t['cutline_plot']['plotAxis'], plt_line_data_at_t['cutline_plot']['targetU']])\n",
    "print(\"min U: \", np.min(U))"
   ]
  },
  {
   "cell_type": "markdown",
   "id": "61",
   "metadata": {},
   "source": [
    "## mix in Y"
   ]
  },
  {
   "cell_type": "code",
   "execution_count": null,
   "id": "62",
   "metadata": {},
   "outputs": [],
   "source": [
    "# fig, ax = plt.subplots(1, 2, figsize=[9, 4])\n",
    "# ax_flatten = ax.flatten()\n",
    "# X, Y, U, cutlineDirection, _targetAxis, _plotAxis = get_potential_along_a_1D_cutline(cfqr, t = protocol_time_array[1], cutlineDirection = \"v\")\n",
    "# plt_line_data_at_t = plotCutlines(X, Y, U, cutlineDirection, cutlineValue = minimum_points[1][0],\\\n",
    "#                             contour_plt=ax_flatten[0], cutline_plt=ax_flatten[1], contours = contour_value, \n",
    "#                             showGraph=True)\n",
    "# energy_profile_array.append([plt_line_data_at_t['cutline_plot']['plotAxis'], plt_line_data_at_t['cutline_plot']['targetU']])\n",
    "# print(\"min U: \", np.min(U))\n",
    "\n",
    "fig, ax = plt.subplots(1, 2, figsize=[9, 4])\n",
    "ax_flatten = ax.flatten()\n",
    "X, Y, U, cutlineDirection, _targetAxis, _plotAxis = get_potential_along_a_1D_cutline(cfqr, t = protocol_time_array[1], cutlineDirection = \"v\")\n",
    "plt_line_data_at_t = plotCutlines(X, Y, U, cutlineDirection, cutlineValue = minimum_points_location[1][0],\\\n",
    "                            contour_plt=ax_flatten[0], cutline_plt=ax_flatten[1], contours = contour_value, \n",
    "                            showGraph=True)\n",
    "energy_profile_array.append([plt_line_data_at_t['cutline_plot']['plotAxis'], plt_line_data_at_t['cutline_plot']['targetU']])\n",
    "print(\"min U: \", np.min(U))"
   ]
  },
  {
   "cell_type": "code",
   "execution_count": null,
   "id": "63",
   "metadata": {},
   "outputs": [],
   "source": []
  },
  {
   "cell_type": "code",
   "execution_count": null,
   "id": "64",
   "metadata": {},
   "outputs": [],
   "source": []
  },
  {
   "cell_type": "code",
   "execution_count": null,
   "id": "65",
   "metadata": {},
   "outputs": [],
   "source": []
  },
  {
   "cell_type": "code",
   "execution_count": null,
   "id": "66",
   "metadata": {},
   "outputs": [],
   "source": [
    "fig, ax = plt.subplots(1, 2, figsize=[9, 4])\n",
    "ax_flatten = ax.flatten()\n",
    "X, Y, U, cutlineDirection, _targetAxis, _plotAxis = get_potential_along_a_1D_cutline(cfqr, t = protocol_time_array[2], cutlineDirection = \"v\")\n",
    "plt_line_data_at_t = plotCutlines(X, Y, U, cutlineDirection, cutlineValue = minimum_points_location[2][0],\\\n",
    "                            contour_plt=ax_flatten[0], cutline_plt=ax_flatten[1], contours = contour_value, \n",
    "                            showGraph=True)\n",
    "energy_profile_array.append([plt_line_data_at_t['cutline_plot']['plotAxis'], plt_line_data_at_t['cutline_plot']['targetU']])\n",
    "print(\"min U: \", np.min(U))"
   ]
  },
  {
   "cell_type": "markdown",
   "id": "67",
   "metadata": {
    "tags": []
   },
   "source": [
    "## conditional_tilt_in_Y"
   ]
  },
  {
   "cell_type": "code",
   "execution_count": null,
   "id": "68",
   "metadata": {},
   "outputs": [],
   "source": []
  },
  {
   "cell_type": "code",
   "execution_count": null,
   "id": "69",
   "metadata": {},
   "outputs": [],
   "source": [
    "# fig, ax = plt.subplots(1, 2, figsize=[9, 4])\n",
    "# ax_flatten = ax.flatten()\n",
    "# X, Y, U, cutlineDirection, _targetAxis, _plotAxis = get_potential_along_a_1D_cutline(cfqr, t = protocol_time_array[2], cutlineDirection = \"v\")\n",
    "# plt_line_data_at_t = plotCutlines(X, Y, U, cutlineDirection, cutlineValue = minimum_points[2][0],\\\n",
    "#                             contour_plt=ax_flatten[0], cutline_plt=ax_flatten[1], contours = contour_value,  \n",
    "#                             showGraph=True)\n",
    "# energy_profile_array.append([plt_line_data_at_t['cutline_plot']['plotAxis'], plt_line_data_at_t['cutline_plot']['targetU']])\n",
    "# print(\"min U: \", np.min(U))\n",
    "\n",
    "fig, ax = plt.subplots(1, 2, figsize=[9, 4])\n",
    "ax_flatten = ax.flatten()\n",
    "X, Y, U, cutlineDirection, _targetAxis, _plotAxis = get_potential_along_a_1D_cutline(cfqr, t = protocol_time_array[3], cutlineDirection = \"v\")\n",
    "plt_line_data_at_t = plotCutlines(X, Y, U, cutlineDirection, cutlineValue = minimum_points_location[3][0],\\\n",
    "                            contour_plt=ax_flatten[0], cutline_plt=ax_flatten[1], contours = contour_value,  \n",
    "                            showGraph=True)\n",
    "energy_profile_array.append([plt_line_data_at_t['cutline_plot']['plotAxis'], plt_line_data_at_t['cutline_plot']['targetU']])\n",
    "print(\"min U: \", np.min(U))"
   ]
  },
  {
   "cell_type": "code",
   "execution_count": null,
   "id": "70",
   "metadata": {},
   "outputs": [],
   "source": []
  },
  {
   "cell_type": "markdown",
   "id": "71",
   "metadata": {},
   "source": [
    "# KE analysis"
   ]
  },
  {
   "cell_type": "code",
   "execution_count": null,
   "id": "72",
   "metadata": {},
   "outputs": [],
   "source": [
    "def get_all_state(self):\n",
    "    return self.sim.output.all_state['states']\n",
    "\n",
    "def get_time_step_indices(self):\n",
    "    time_indices_array = np.array(self.sim.output.all_state['step_indices'])\n",
    "    time_array = time_indices_array * cfqr.sim.dt\n",
    "    return time_indices_array, time_array"
   ]
  },
  {
   "cell_type": "code",
   "execution_count": null,
   "id": "73",
   "metadata": {},
   "outputs": [],
   "source": [
    "all_state = get_all_state(simResult['cfqr'])\n",
    "time_indice_array, time_array = get_time_step_indices(simResult['cfqr'])\n"
   ]
  },
  {
   "cell_type": "code",
   "execution_count": null,
   "id": "74",
   "metadata": {},
   "outputs": [],
   "source": [
    "cfqr.sim.nsteps"
   ]
  },
  {
   "cell_type": "code",
   "execution_count": null,
   "id": "75",
   "metadata": {},
   "outputs": [],
   "source": [
    "cfqr.sim.dt\n"
   ]
  },
  {
   "cell_type": "code",
   "execution_count": null,
   "id": "76",
   "metadata": {},
   "outputs": [],
   "source": [
    "KE_time_array"
   ]
  },
  {
   "cell_type": "code",
   "execution_count": null,
   "id": "77",
   "metadata": {},
   "outputs": [],
   "source": [
    "KE_time_array = np.empty([cfqr.sim.ntrials, cfqr.sim.nsteps + 1])\n",
    "\n",
    "for _i, _t in zip(time_step_indices, time_array):\n",
    "    KE_time_array[:, _i] = simResult['cfqr'].system.get_kinetic_energy(all_state[:,_i, ...])\n",
    "    "
   ]
  },
  {
   "cell_type": "code",
   "execution_count": null,
   "id": "78",
   "metadata": {},
   "outputs": [],
   "source": []
  },
  {
   "cell_type": "code",
   "execution_count": null,
   "id": "79",
   "metadata": {},
   "outputs": [],
   "source": [
    "all_state[:, :, 0, 1]**2 / 2 + all_state[:, :, 1, 1]**2 / 2  + all_state[:, :, 2, 1]**2 / 2 + all_state[:, :, 3, 1]**2 / 2 "
   ]
  },
  {
   "cell_type": "code",
   "execution_count": null,
   "id": "80",
   "metadata": {},
   "outputs": [],
   "source": []
  },
  {
   "cell_type": "code",
   "execution_count": null,
   "id": "81",
   "metadata": {},
   "outputs": [],
   "source": [
    "simResult['cfqr'].sim.output.all_state"
   ]
  },
  {
   "cell_type": "markdown",
   "id": "82",
   "metadata": {
    "tags": []
   },
   "source": [
    "# Trident_analysis"
   ]
  },
  {
   "cell_type": "code",
   "execution_count": null,
   "id": "83",
   "metadata": {},
   "outputs": [],
   "source": []
  },
  {
   "cell_type": "code",
   "execution_count": null,
   "id": "84",
   "metadata": {},
   "outputs": [],
   "source": [
    "def work_categories(work_dist, all_states, bins = [0.2, 1.5]):\n",
    "    \"\"\"\n",
    "    This function will separate the particles by categories and from that find out the thing that distinguish them from each other.\n",
    "    \n",
    "    work_dist_left = the distribution on the left of the trident distribution\n",
    "    \"\"\"\n",
    "    \n",
    "    work_dist_left = all_states[work_dist < bins[0]]\n",
    "    work_dist_middle = all_states[np.logical_and(work_dist >= bins[0], work_dist <= bins[1])]\n",
    "    work_dist_right = all_states[work_dist > bins[1]]\n",
    "    \n",
    "    return work_dist_left, work_dist_middle, work_dist_right\n",
    "                                  \n",
    "    "
   ]
  },
  {
   "cell_type": "code",
   "execution_count": null,
   "id": "85",
   "metadata": {},
   "outputs": [],
   "source": []
  },
  {
   "cell_type": "code",
   "execution_count": null,
   "id": "86",
   "metadata": {},
   "outputs": [],
   "source": [
    "work_dist_left, work_dist_middle, work_dist_right = work_categories(simResult[\"work_distribution\"], simResult['cfqr'].sim.output.all_state['states'])"
   ]
  },
  {
   "cell_type": "code",
   "execution_count": null,
   "id": "87",
   "metadata": {},
   "outputs": [],
   "source": []
  },
  {
   "cell_type": "code",
   "execution_count": null,
   "id": "88",
   "metadata": {},
   "outputs": [],
   "source": []
  },
  {
   "cell_type": "code",
   "execution_count": null,
   "id": "89",
   "metadata": {},
   "outputs": [],
   "source": [
    "# animations\n",
    "vmin, vmax = 0, 100\n",
    "frame_skip = 5000\n",
    "# phi_1_dc, phi_2_dc = phi_1_dcx, phi_2_dcx\n",
    "particle_number = 0\n",
    "# all_state = simResult[\"cfqr\"].sim.output.all_state['states'][particle_number:particle_number+1, :, :, :]\n",
    "all_state = work_dist_middle\n",
    "simResult[\"cfqr\"].system.protocol_list = protocol_list\n",
    "time_range = (computation_protocol_parameter_dict[\"t\"][0], computation_protocol_parameter_dict[\"t\"][-1])\n",
    "\n",
    "ani,_,_ = animate_sim_flux_qubit(all_state, system = simResult[\"cfqr\"].system ,\n",
    "                                   times = time_range, frame_skip=frame_skip, color_by_state=True,\n",
    "                                   vmin = vmin, vmax = vmax,\n",
    "                                   manual_domain = manual_domain)\n",
    "\n",
    "# from IPython.display import HTML\n",
    "from IPython import display\n",
    "video = ani.to_html5_video()\n",
    "html = display.HTML(video)\n",
    "display.display(html)"
   ]
  },
  {
   "cell_type": "code",
   "execution_count": null,
   "id": "90",
   "metadata": {},
   "outputs": [],
   "source": [
    "all_state = work_dist_left\n",
    "simResult[\"cfqr\"].system.protocol_list = protocol_list\n",
    "time_range = (computation_protocol_parameter_dict[\"t\"][0], computation_protocol_parameter_dict[\"t\"][-1])\n",
    "\n",
    "ani,_,_ = animate_sim_flux_qubit(all_state, system = simResult[\"cfqr\"].system ,\n",
    "                                   times = time_range, frame_skip=frame_skip, color_by_state=True,\n",
    "                                   vmin = vmin, vmax = vmax,\n",
    "                                   manual_domain = manual_domain)\n",
    "\n",
    "# from IPython.display import HTML\n",
    "from IPython import display\n",
    "video = ani.to_html5_video()\n",
    "html = display.HTML(video)\n",
    "display.display(html)"
   ]
  },
  {
   "cell_type": "code",
   "execution_count": null,
   "id": "91",
   "metadata": {},
   "outputs": [],
   "source": []
  },
  {
   "cell_type": "code",
   "execution_count": null,
   "id": "92",
   "metadata": {},
   "outputs": [],
   "source": [
    "all_state = work_dist_right\n",
    "simResult[\"cfqr\"].system.protocol_list = protocol_list\n",
    "time_range = (computation_protocol_parameter_dict[\"t\"][0], computation_protocol_parameter_dict[\"t\"][-1])\n",
    "\n",
    "ani,_,_ = animate_sim_flux_qubit(all_state, system = simResult[\"cfqr\"].system ,\n",
    "                                   times = time_range, frame_skip=frame_skip, color_by_state=True,\n",
    "                                   vmin = vmin, vmax = vmax,\n",
    "                                   manual_domain = manual_domain)\n",
    "\n",
    "# from IPython.display import HTML\n",
    "from IPython import display\n",
    "video = ani.to_html5_video()\n",
    "html = display.HTML(video)\n",
    "display.display(html)"
   ]
  },
  {
   "cell_type": "code",
   "execution_count": null,
   "id": "93",
   "metadata": {},
   "outputs": [],
   "source": []
  },
  {
   "cell_type": "code",
   "execution_count": null,
   "id": "94",
   "metadata": {},
   "outputs": [],
   "source": []
  },
  {
   "cell_type": "code",
   "execution_count": null,
   "id": "95",
   "metadata": {},
   "outputs": [],
   "source": [
    "fig, ax = plt.subplots(1, 2, figsize = [12, 4])\n",
    "\n",
    "for d in work_dist_left[::100]:\n",
    "    ax[0].plot(d[:, 2, 0], \"b\")\n",
    "    \n",
    "for d in work_dist_right[::100]:\n",
    "    ax[1].plot(d[:, 2, 0], \"g\")\n",
    "    \n",
    "for d in work_dist_middle[::100]:\n",
    "    ax[0].plot(d[:, 2, 0], \"r\", alpha=0.1)\n",
    "    ax[1].plot(d[:, 2, 0], \"r\", alpha=0.1)\n",
    "    \n",
    "    "
   ]
  },
  {
   "cell_type": "code",
   "execution_count": null,
   "id": "96",
   "metadata": {},
   "outputs": [],
   "source": [
    "fig, ax = plt.subplots(1, 2, figsize = [12, 4])\n",
    "\n",
    "for d in work_dist_left[::100]:\n",
    "    ax[0].plot(d[50000:, 3, 0], \"b\")\n",
    "    \n",
    "for d in work_dist_right[::100]:\n",
    "    ax[1].plot(d[50000:, 3, 0], \"g\")\n",
    "    \n",
    "for d in work_dist_middle[::100]:\n",
    "    ax[0].plot(d[50000:, 3, 0], \"r\", alpha=0.2)\n",
    "    ax[1].plot(d[50000:, 3, 0], \"r\", alpha=0.2)\n",
    "    \n",
    "    "
   ]
  },
  {
   "cell_type": "code",
   "execution_count": null,
   "id": "97",
   "metadata": {},
   "outputs": [],
   "source": [
    "plt.plot(np.mean(work_dist_left[:, :, 2, 0], axis = 0))\n",
    "plt.plot(np.mean(work_dist_middle[:, :, 2, 0], axis = 0))\n",
    "plt.plot(np.mean(work_dist_right[:, :, 2, 0], axis = 0))\n"
   ]
  },
  {
   "cell_type": "code",
   "execution_count": null,
   "id": "98",
   "metadata": {},
   "outputs": [],
   "source": [
    "protocol_time_array"
   ]
  },
  {
   "cell_type": "code",
   "execution_count": null,
   "id": "99",
   "metadata": {},
   "outputs": [],
   "source": []
  },
  {
   "cell_type": "code",
   "execution_count": null,
   "id": "100",
   "metadata": {},
   "outputs": [],
   "source": [
    "for d in work_dist_middle[::100]:\n",
    "    plt.plot(d[:, 3, 0])\n",
    "    \n",
    "    "
   ]
  },
  {
   "cell_type": "code",
   "execution_count": null,
   "id": "101",
   "metadata": {},
   "outputs": [],
   "source": []
  },
  {
   "cell_type": "code",
   "execution_count": null,
   "id": "102",
   "metadata": {},
   "outputs": [],
   "source": [
    "\n",
    "work_dist_right_btw_CTX_and_MX = work_dist_right[:, 100000-1:120000-1, ...]\n",
    "work_dist_middle_btw_CTX_and_MX = work_dist_middle[:, 100000-1:120000-1, ...]\n",
    "work_dist_left_btw_CTX_and_MX = work_dist_left[:, 100000-1:120000-1, ...]"
   ]
  },
  {
   "cell_type": "code",
   "execution_count": null,
   "id": "103",
   "metadata": {},
   "outputs": [],
   "source": [
    "fig, ax = plt.subplots(4, 3, figsize = [12, 12])\n",
    "ax_flatten = ax.flatten()\n",
    "\n",
    "for i in range(0, 4):\n",
    "    ax_flatten[3*i].hist(work_dist_left_btw_CTX_and_MX[:, 0, i, 0], bins = 20)\n",
    "    ax_flatten[3*i+1].hist(work_dist_middle_btw_CTX_and_MX[:, 0, i, 0], bins = 20)\n",
    "    ax_flatten[3*i + 2].hist(work_dist_right_btw_CTX_and_MX[:, 0, i, 0], bins = 20)\n",
    "\n",
    "\n",
    "# "
   ]
  },
  {
   "cell_type": "code",
   "execution_count": null,
   "id": "104",
   "metadata": {},
   "outputs": [],
   "source": []
  },
  {
   "cell_type": "code",
   "execution_count": null,
   "id": "105",
   "metadata": {},
   "outputs": [],
   "source": []
  },
  {
   "cell_type": "code",
   "execution_count": null,
   "id": "106",
   "metadata": {},
   "outputs": [],
   "source": [
    "protocol_time_all_index_array"
   ]
  },
  {
   "cell_type": "code",
   "execution_count": null,
   "id": "107",
   "metadata": {},
   "outputs": [],
   "source": []
  },
  {
   "cell_type": "code",
   "execution_count": null,
   "id": "108",
   "metadata": {},
   "outputs": [],
   "source": [
    "protocol_time_array, protocol_time_index_array, protocol_all_time_array, protocol_all_time_index_array = cfqr.createProtocolTimeArray(protocol_list, params)\n",
    "\n",
    "target_filter = np.logical_and(protocol_all_time_array >= 1000, protocol_all_time_array <= 1200)\n",
    "target_time_array = protocol_all_time_array[target_filter]\n",
    "target_time_index_array = protocol_all_time_index_array[target_filter]\n",
    "work_dist_left_in_t_range = work_dist_left[:, target_filter, ...]\n",
    "work_dist_middle_in_t_range = work_dist_middle[:, target_filter, ...]\n",
    "work_dist_right_in_t_range = work_dist_right[:, target_filter, ...]"
   ]
  },
  {
   "cell_type": "code",
   "execution_count": null,
   "id": "109",
   "metadata": {},
   "outputs": [],
   "source": [
    "from matplotlib.animation import FuncAnimation\n",
    "\n",
    "\n",
    "def plot_work_dist_with_time(cfqr, work_dist, pot_function, target_time_array, target_time_index_array, skipNumber = 250):\n",
    "    manual_domain=[np.array([-3, -3]), np.array([3, 3])]\n",
    "    modified_manual_domain = [(manual_domain[0][1], manual_domain[0][0]), (manual_domain[1][1], manual_domain[1][0])]\n",
    "\n",
    "    fig, ax = plt.subplots(1, 1)\n",
    "    fig.set_size_inches(5,5)\n",
    "    points = [(0.1, 0.5), (0.5, 0.5), (0.9, 0.5)]\n",
    "    resolution = 50\n",
    "    contours = 20\n",
    "    \n",
    "    fig, ax = plt.subplots(1, 1)\n",
    "    fig.set_size_inches(5,5)\n",
    "    points = [(0.1, 0.5), (0.5, 0.5), (0.9, 0.5)]\n",
    "    _skipped_target_time_array = target_time_array[::skipNumber]\n",
    "    _skipped_target_time_index_array = target_time_index_array[::skipNumber]\n",
    "    \n",
    "    x_coordinate_of_dist_array = work_dist[:, :, 0, 0]\n",
    "    U_of_dist_array = getEnergyTimeArrayOfDist(cfqr, work_dist, target_time_array, target_time_index_array, skipNumber)\n",
    "    \n",
    "    ax.scatter(x_coordinate_of_dist_array[0], U_of_dist_array[0])\n",
    "    \n",
    "    \n",
    "    def animate(i):\n",
    "        ax.clear()\n",
    "        # Get the point from the points list at index i\n",
    "        _t = _skipped_target_time_array[i]\n",
    "        _params_at_t = cfqr.protocol.get_params(_t)\n",
    "        beta_1 = _params_at_t[4]\n",
    "        beta_2 = _params_at_t[5]\n",
    "        d_beta_1 = _params_at_t[6]\n",
    "        d_beta_2 = _params_at_t[7]\n",
    "        _phi_1x = _params_at_t[8]\n",
    "        _phi_2x = _params_at_t[9]\n",
    "        _phi_1dcx = _params_at_t[10]\n",
    "        _phi_2dcx = _params_at_t[11]\n",
    "        _M_12 = _params_at_t[12]\n",
    "        _xi = 1 / (1 - _M_12**2)\n",
    "        slice_values = [0, 0, _phi_1dcx, _phi_2dcx]\n",
    "        \n",
    "        U, X_mesh = cfqr.system.lattice_with_self_defined_potential(_t, pot_function, resolution, axes=(0, 1),\\\n",
    "                                    manual_domain=modified_manual_domain, slice_values = slice_values)\n",
    "        x_array, y_array = X_mesh\n",
    "        \n",
    "        selected_U = U[np.all(np.logical_and(y_array > 0.5, y_array < 3), axis = 1)]\n",
    "        selected_x = x_array[np.all(np.logical_and(y_array > 0.5, y_array < 3), axis = 1)]\n",
    "\n",
    "        ax.set_title(f\"t = {_t}\")\n",
    "        for _x, _U in zip(selected_x, selected_U):\n",
    "            ax.plot(_x, _U)\n",
    "        ax.scatter(x_coordinate_of_dist_array[i], U_of_dist_array[i])\n",
    "    \n",
    "    ani = FuncAnimation(fig, animate, frames=len(_skipped_target_time_index_array),\n",
    "                        interval=100, repeat=False)\n",
    "    plt.close()\n",
    "    return ani\n",
    "\n"
   ]
  },
  {
   "cell_type": "code",
   "execution_count": null,
   "id": "110",
   "metadata": {},
   "outputs": [],
   "source": [
    "target_time_index_array"
   ]
  },
  {
   "cell_type": "code",
   "execution_count": null,
   "id": "111",
   "metadata": {},
   "outputs": [],
   "source": []
  },
  {
   "cell_type": "code",
   "execution_count": null,
   "id": "112",
   "metadata": {},
   "outputs": [],
   "source": []
  },
  {
   "cell_type": "code",
   "execution_count": null,
   "id": "113",
   "metadata": {},
   "outputs": [],
   "source": [
    "ani = plot_work_dist_with_time(cfqr, work_dist_left, coupled_flux_qubit_non_linear_approx_pot,\n",
    "                        target_time_array, target_time_index_array)\n",
    "\n",
    "from IPython import display\n",
    "video = ani.to_html5_video()\n",
    "html = display.HTML(video)\n",
    "display.display(html)\n",
    "\n"
   ]
  },
  {
   "cell_type": "code",
   "execution_count": null,
   "id": "114",
   "metadata": {},
   "outputs": [],
   "source": [
    "def getEnergyTimeArrayOfDist(cfqr, work_dist, target_time_array, target_time_index_array, skipNumber = 1):\n",
    "    U_of_dist_time_array = np.empty([work_dist.shape[0], len(target_time_index_array[::skipNumber])])\n",
    "    \n",
    "    for _j, _t_index in enumerate(target_time_index_array[::skipNumber]):\n",
    "        _t = target_time_array[_t_index]\n",
    "        U_of_dist_time_array[:, _j] =  cfqr.system.get_potential(work_dist[:, _t_index, ...], _t)\n",
    "    return U_of_dist_time_array"
   ]
  },
  {
   "cell_type": "code",
   "execution_count": null,
   "id": "115",
   "metadata": {},
   "outputs": [],
   "source": [
    "getEnergyTimeArrayOfDist(simResult['cfqr'], work_dist_left, protocol_all_time_array, protocol_all_time_index_array, skipNumber=10)"
   ]
  },
  {
   "cell_type": "code",
   "execution_count": null,
   "id": "116",
   "metadata": {},
   "outputs": [],
   "source": [
    "cfqr.system.get_potential(work_dist[0, :, ...], _t)"
   ]
  },
  {
   "cell_type": "code",
   "execution_count": null,
   "id": "117",
   "metadata": {},
   "outputs": [],
   "source": [
    "target_time_index_array[::10]"
   ]
  },
  {
   "cell_type": "code",
   "execution_count": null,
   "id": "118",
   "metadata": {},
   "outputs": [],
   "source": []
  },
  {
   "cell_type": "code",
   "execution_count": null,
   "id": "119",
   "metadata": {},
   "outputs": [],
   "source": [
    "cfqr.createProtocolTimeArray(protocol_list, params)"
   ]
  },
  {
   "cell_type": "code",
   "execution_count": null,
   "id": "120",
   "metadata": {},
   "outputs": [],
   "source": [
    "work_dist_right.shape"
   ]
  },
  {
   "cell_type": "code",
   "execution_count": null,
   "id": "121",
   "metadata": {},
   "outputs": [],
   "source": [
    "plt.plot(time_array[ 43000: 63000], work_dist_left[2, 43000: 63000, 0, 1])"
   ]
  },
  {
   "cell_type": "code",
   "execution_count": null,
   "id": "122",
   "metadata": {},
   "outputs": [],
   "source": [
    "plt.plot(time_array[ 43000: 63000], work_dist_left[2, 43000: 63000, 0, 1])"
   ]
  },
  {
   "cell_type": "code",
   "execution_count": null,
   "id": "123",
   "metadata": {},
   "outputs": [],
   "source": []
  },
  {
   "cell_type": "code",
   "execution_count": null,
   "id": "124",
   "metadata": {},
   "outputs": [],
   "source": [
    "KE_0 = cfqr.system.get_kinetic_energy(work_dist_right)\n"
   ]
  },
  {
   "cell_type": "code",
   "execution_count": null,
   "id": "125",
   "metadata": {},
   "outputs": [],
   "source": []
  },
  {
   "cell_type": "code",
   "execution_count": null,
   "id": "126",
   "metadata": {},
   "outputs": [],
   "source": [
    "for x in KE_0[2:3]:\n",
    "    plt.plot(x)"
   ]
  },
  {
   "cell_type": "code",
   "execution_count": null,
   "id": "127",
   "metadata": {},
   "outputs": [],
   "source": [
    "plt.plot(KE_0[0])"
   ]
  },
  {
   "cell_type": "code",
   "execution_count": null,
   "id": "128",
   "metadata": {},
   "outputs": [],
   "source": []
  },
  {
   "cell_type": "code",
   "execution_count": null,
   "id": "129",
   "metadata": {},
   "outputs": [],
   "source": []
  },
  {
   "cell_type": "code",
   "execution_count": null,
   "id": "130",
   "metadata": {},
   "outputs": [],
   "source": [
    "KE_p1 = 1/2 * work_dist_right[0,:, 0, 1]**2"
   ]
  },
  {
   "cell_type": "code",
   "execution_count": null,
   "id": "131",
   "metadata": {},
   "outputs": [],
   "source": [
    "plt.plot(KE_p1)"
   ]
  },
  {
   "cell_type": "code",
   "execution_count": null,
   "id": "132",
   "metadata": {},
   "outputs": [],
   "source": [
    "all_state = work_dist_right[0:1,...]\n",
    "simResult[\"cfqr\"].system.protocol_list = protocol_list\n",
    "time_range = (computation_protocol_parameter_dict[\"t\"][0], computation_protocol_parameter_dict[\"t\"][-1])\n",
    "\n",
    "ani,_,_ = animate_sim_flux_qubit(all_state, system = simResult[\"cfqr\"].system ,\n",
    "                                   times = time_range, frame_skip=1000, color_by_state=True,\n",
    "                                   vmin = vmin, vmax = vmax,\n",
    "                                   manual_domain = manual_domain)\n",
    "\n",
    "# from IPython.display import HTML\n",
    "from IPython import display\n",
    "video = ani.to_html5_video()\n",
    "html = display.HTML(video)\n",
    "display.display(html)"
   ]
  },
  {
   "cell_type": "code",
   "execution_count": null,
   "id": "133",
   "metadata": {},
   "outputs": [],
   "source": [
    "import numpy as np\n",
    "from scipy.stats import maxwell\n",
    "import matplotlib.pyplot as plt\n"
   ]
  },
  {
   "cell_type": "code",
   "execution_count": null,
   "id": "134",
   "metadata": {},
   "outputs": [],
   "source": [
    "r_1 = maxwell.rvs(size=1000)\n",
    "r_2 = -maxwell.rvs(size=1000)"
   ]
  },
  {
   "cell_type": "code",
   "execution_count": null,
   "id": "135",
   "metadata": {},
   "outputs": [],
   "source": [
    "plt.hist(np.array([r_1, r_2]).flatten(), bins = 60)"
   ]
  },
  {
   "cell_type": "code",
   "execution_count": null,
   "id": "136",
   "metadata": {},
   "outputs": [],
   "source": [
    "plt.hist(r) "
   ]
  },
  {
   "cell_type": "code",
   "execution_count": null,
   "id": "137",
   "metadata": {},
   "outputs": [],
   "source": []
  }
 ],
 "metadata": {
  "kernelspec": {
   "display_name": "Python 3 (ipykernel)",
   "language": "python",
   "name": "python3"
  },
  "language_info": {
   "codemirror_mode": {
    "name": "ipython",
    "version": 3
   },
   "file_extension": ".py",
   "mimetype": "text/x-python",
   "name": "python",
   "nbconvert_exporter": "python",
   "pygments_lexer": "ipython3",
   "version": "3.10.9"
  }
 },
 "nbformat": 4,
 "nbformat_minor": 5
}
