{
 "cells": [
  {
   "cell_type": "code",
   "execution_count": null,
   "id": "0",
   "metadata": {},
   "outputs": [],
   "source": [
    "import numpy as np\n",
    "import importlib, os, datetime\n",
    "from sus.protocol_designer import System, Protocol, Potential, Compound_Protocol\n",
    "from sus.protocol_designer.protocol import sequential_protocol\n",
    "from IPython import display\n",
    "from IPython.display import HTML, Image\n",
    "from quick_sim import setup_sim\n",
    "\n",
    "from edward_tools.coupled_fq_potential import coupled_flux_qubit_non_linear_approx_pot, coupled_flux_qubit_non_linear_approx_force, coupled_flux_qubit_non_linear_approx_pot_break_down\n",
    "\n",
    "import edward_tools.fq_runner as fq_runner\n",
    "from edward_tools.visualization import animate_sim_flux_qubit\n",
    "from edward_tools.initial_state_sampling import extra_constraint_00_and_11_only\n",
    "from PARAMETER_INPUT import *\n",
    "from PARAMETER_INPUT import _lambda, _theta, _eta\n",
    "import importlib\n",
    "\n",
    "import kyle_tools as kt\n",
    "import matplotlib.pyplot as plt\n",
    "\n",
    "\n",
    "from edward_tools import coupled_fq_protocol_library, cfq_runner\n",
    "from edward_tools import coupled_fq_protocol_library\n",
    "\n",
    "import edward_tools.cfq_batch_sweep as cfq_batch_sweep\n",
    "import edward_tools.Analysis_tool.general_analysis_tools as general_analysis_tool\n",
    "# from edward_tools.Analysis_tool.general_analysis_tools import show_phi_dc_with_time\n",
    "import edward_tools.Analysis_tool.minimum_value_of_potential as minimum_value_of_potential\n",
    "from edward_tools.couple_flux_qubit_metrics import fidelityEvaluation\n",
    "\n",
    "\n",
    "coupled_fq_protocol_library = importlib.reload(coupled_fq_protocol_library)\n",
    "create_system = coupled_fq_protocol_library.create_system\n",
    "get_potential_shot_at_different_t = coupled_fq_protocol_library.get_potential_shot_at_different_t\n",
    "get_potential_shot_at_different_t_1D = coupled_fq_protocol_library.get_potential_shot_at_different_t_1D\n",
    "create_simple_protocol_parameter_dict = coupled_fq_protocol_library.create_simple_protocol_parameter_dict\n",
    "coupled_fq_runner = importlib.reload(cfq_runner)\n",
    "coupled_fq_protocol_library = importlib.reload(coupled_fq_protocol_library)\n",
    "create_system = coupled_fq_protocol_library.create_system\n",
    "get_potential_along_a_1D_cutline = coupled_fq_protocol_library.get_potential_along_a_1D_cutline\n",
    "plotCutlines = coupled_fq_protocol_library.plotCutlines"
   ]
  },
  {
   "cell_type": "code",
   "execution_count": null,
   "id": "1",
   "metadata": {},
   "outputs": [],
   "source": [
    "# 4. Szilard engine test"
   ]
  },
  {
   "cell_type": "markdown",
   "id": "2",
   "metadata": {
    "tags": []
   },
   "source": [
    "# parameters"
   ]
  },
  {
   "cell_type": "code",
   "execution_count": null,
   "id": "3",
   "metadata": {},
   "outputs": [],
   "source": []
  },
  {
   "cell_type": "code",
   "execution_count": null,
   "id": "4",
   "metadata": {},
   "outputs": [],
   "source": [
    "has_velocity = True\n",
    "\n",
    "PHI_0 = 2.067833848 * 1e-15\n",
    "k_B = 1.38e-23\n",
    "T = 0.5\n",
    "k_BT = k_B * T\n",
    "\n",
    "C_factor = 0.1\n",
    "L_factor = 0.35\n",
    "# I_m_factor = 50\n",
    "# I_m_factor = 15\n",
    "I_m_factor = 0\n",
    "time_scale = 1.0\n",
    "\n",
    "\n",
    "I_p_1, I_p_2 = 2e-6 , 2e-6  # Amp\n",
    "I_m_1, I_m_2 = 7e-9 * I_m_factor, 7e-9 * I_m_factor                                # Amp\n",
    "# R_1, R_2 = 1, 1  \n",
    "R_1, R_2 = 371, 371  \n",
    "C_1, C_2 = 4e-9 * C_factor, 4e-9 * C_factor                              # F\n",
    "L_1, L_2 = 1e-9 * L_factor, 1e-9 * L_factor                             # H \n",
    "\n",
    "m_c = C_1\n",
    "m_1 = C_1\n",
    "m_2 = C_2\n",
    "x_c = PHI_0 / (2 * np.pi)\n",
    "time_scale_factor = 1\n",
    "t_c = np.sqrt(L_1 * C_1)\n",
    "v_c = x_c / t_c\n",
    "\n",
    "U0_1 = m_c * x_c**2 / t_c**2 / k_BT\n",
    "U0_2 = m_2 * x_c**2 / t_c**2 / k_BT\n",
    "kappa_1, kappa_2, kappa_3, kappa_4 = 1/U0_1, 1/U0_1, 1/U0_1, 1/U0_1\n",
    "\n",
    "lambda_1 = 2 * np.sqrt(L_1 * C_1) / (C_1 * R_1)\n",
    "theta_1  = 1\n",
    "eta_1    = np.sqrt(np.sqrt(L_1 * C_1)/ (R_1 * C_1)) * np.sqrt(2 * kappa_1 / 1**2)\n",
    "\n",
    "lambda_2 = 2 * np.sqrt(L_1 * C_1) / (C_2 * R_2)\n",
    "theta_2  = 1 / (C_2/C_1)\n",
    "eta_2    = np.sqrt(np.sqrt(L_1 * C_1)/ (R_1 * C_1)) * np.sqrt(2 * kappa_2 * (R_1 * C_1**2) / (R_2 * C_2**2))\n",
    "\n",
    "lambda_3 = 2 * np.sqrt(L_1 * C_1) / (C_1 * R_1)\n",
    "theta_3  = 4\n",
    "eta_3    = np.sqrt(np.sqrt(L_1 * C_1)/ (R_1 * C_1)) * np.sqrt(8 * kappa_3)\n",
    "\n",
    "lambda_4 = 2 * np.sqrt(L_1 * C_1) / (C_2 * R_2)\n",
    "theta_4  = 4 / (C_2/C_1)\n",
    "eta_4    = np.sqrt(np.sqrt(L_1 * C_1)/ (R_1 * C_1)) * np.sqrt(8 * kappa_4 * (R_1 * C_1**2) / (R_2 * C_2**2))\n",
    "\n",
    "gamma = 10\n",
    "\n",
    "\n",
    "beta_1 = 2 * np.pi * L_1 * I_p_1 / PHI_0; \n",
    "beta_2 = 2 * np.pi * L_2 * I_p_2 / PHI_0;\n",
    "\n",
    "d_beta_1 = 2 * np.pi * L_1 * I_m_1 / PHI_0; \n",
    "d_beta_2 = 2 * np.pi * L_2 * I_m_2 / PHI_0;\n",
    "\n",
    "\n",
    "_lambda = np.array([lambda_1, lambda_2, lambda_3, lambda_4]) \n",
    "_theta  = np.array([theta_1, theta_2, theta_3, theta_4])\n",
    "_eta  =   np.array([eta_1, eta_2, eta_3, eta_4])"
   ]
  },
  {
   "cell_type": "code",
   "execution_count": null,
   "id": "5",
   "metadata": {},
   "outputs": [],
   "source": [
    "v_1 = np.random.normal(0, np.sqrt(k_BT/m_1)) / v_c\n",
    "v_2 = np.random.normal(0, np.sqrt(k_BT/m_2)) / v_c\n",
    "v_3 = np.random.normal(0, np.sqrt(k_BT/(m_1/4))) / v_c\n",
    "v_4 = np.random.normal(0, np.sqrt(k_BT/(m_2/4))) / v_c"
   ]
  },
  {
   "cell_type": "code",
   "execution_count": null,
   "id": "6",
   "metadata": {},
   "outputs": [],
   "source": []
  },
  {
   "cell_type": "code",
   "execution_count": null,
   "id": "7",
   "metadata": {},
   "outputs": [],
   "source": [
    "\"\"\"\n",
    "# step 0: modify parameters\n",
    "- All the parameters are stored in a separate file PARAMETER_INPUT\n",
    "- You can override some of the parameters here.\n",
    "\"\"\"\n",
    "params = {}\n",
    "params['N'] = 100\n",
    "params['dt'] = 1/50\n",
    "params['lambda'] = 1\n",
    "params['beta'] = 1\n",
    "params['sim_params'] = [_lambda, _theta, _eta]\n",
    "params['target_work'] = None\n",
    "params['monitor_work_dist_in_whole_process'] = True # To monitor the work process\n",
    "params['applyOffset'] = False\n",
    "params['comment'] = \"Experiment 8 (2024/3/17): 4 well, with no compensation for asym, 1/5000\"\n",
    "params['capacitance'] = [C_1, C_2, C_1/4, C_2/4]\n",
    "params['mass_special'] = [1, 1, 1/4, 1/4]\n",
    "params['v_c'] = x_c/t_c\n",
    "params['k_BT'] = k_BT\n",
    "params['U0'] = U0_1\n"
   ]
  },
  {
   "cell_type": "code",
   "execution_count": null,
   "id": "8",
   "metadata": {},
   "outputs": [],
   "source": [
    "t_c"
   ]
  },
  {
   "cell_type": "markdown",
   "id": "9",
   "metadata": {
    "tags": []
   },
   "source": [
    "# define potential"
   ]
  },
  {
   "cell_type": "code",
   "execution_count": null,
   "id": "10",
   "metadata": {},
   "outputs": [],
   "source": [
    "\"\"\"\n",
    "# step 1: Define potential\n",
    "\"\"\"\n",
    "coupled_fq_default_param = [1, 1, 0, 0, 0, 0, 0, 0, 0, 0, 0, 0, 0, x_c]\n",
    "[phi_1_bound, phi_2_bound, phi_1dc_bound, phi_2dc_bound] = np.array([4, 4, 4, 4])/time_scale_factor\n",
    "\n",
    "coupled_fq_domain = [[-phi_1_bound, -phi_2_bound, -phi_1dc_bound, -phi_2dc_bound], \\\n",
    "                     [phi_1_bound, phi_2_bound, phi_1dc_bound, phi_2dc_bound]]\n",
    "\n",
    "# coupled_fq_pot = Potential(coupled_flux_qubit_pot_with_offset_at_00_xy, coupled_flux_qubit_force, 14, 4,\\\n",
    "#                            default_params = coupled_fq_default_param,  relevant_domain = coupled_fq_domain)\n",
    "\n",
    "coupled_fq_pot = Potential(coupled_flux_qubit_non_linear_approx_pot, coupled_flux_qubit_non_linear_approx_force, 14, 4,\\\n",
    "                           default_params = coupled_fq_default_param,  relevant_domain = coupled_fq_domain)"
   ]
  },
  {
   "cell_type": "code",
   "execution_count": null,
   "id": "11",
   "metadata": {},
   "outputs": [],
   "source": [
    "\"\"\"\n",
    "# step 2: Define initial condition and protocol\n",
    "\"\"\"\n",
    "manual_domain=[np.array([-5, -5]), np.array([5, 5])]\n",
    "phi_1_dcx , phi_2_dcx = 0, 0\n",
    "phi_1_dc, phi_2_dc = phi_1_dcx, phi_2_dcx\n",
    "\n",
    "phi_1_x_off, phi_2_x_off = 0, 0\n",
    "phi_1_dcx_off, phi_2_dcx_off, M_12_off = 0, 0, 0\n",
    "\n",
    "tilt_factor = 7\n",
    "\n",
    "if I_m_factor == 0:\n",
    "    phi_1_x_on = 0\n",
    "    phi_2_x_on = 0\n",
    "else:\n",
    "    phi_1_x_on = -0.046710526315789 * tilt_factor\n",
    "    phi_2_x_on = -0.046842105263157005 * tilt_factor\n",
    "\n",
    "phi_1_x_on = -0.1947\n",
    "phi_2_x_on = -0.1947\n",
    "phi_2_x_on = -1\n",
    "# phi_1_x_on = -0\n",
    "# phi_2_x_on = -0\n",
    "\n",
    "\n",
    "\n",
    "phi_1_dcx_on = 3.0\n",
    "phi_2_dcx_on = 3.0\n",
    "M_12_on = -0.6\n",
    "    \n",
    "initial_parameter_dict = {\n",
    "        \"U0_1\": U0_1,     \"U0_2\": U0_2,     \"gamma_1\": gamma,  \"gamma_2\": gamma,\n",
    "        \"beta_1\": beta_1,   \"beta_2\": beta_2,   \"d_beta_1\": d_beta_1 ,   \"d_beta_2\": d_beta_2,\n",
    "        \"phi_1_x\": phi_1_x_off,  \"phi_2_x\": phi_2_x_off,  \"phi_1_dcx\": phi_1_dcx_off,  \"phi_2_dcx\": phi_1_dcx_off,\n",
    "        \"M_12\": M_12_off, 'x_c': x_c\n",
    "}\n",
    "\n"
   ]
  },
  {
   "cell_type": "code",
   "execution_count": null,
   "id": "12",
   "metadata": {},
   "outputs": [],
   "source": []
  },
  {
   "cell_type": "code",
   "execution_count": null,
   "id": "13",
   "metadata": {},
   "outputs": [],
   "source": [
    "zeroDissipation = False\n",
    "saveAllStates = True\n",
    "params['sim_params'] = [_lambda, _theta, _eta]\n",
    "if zeroDissipation:\n",
    "    params['sim_params'] = [_lambda * 0, _theta, _eta * 0]\n",
    "\n",
    "params['circuit_parameters'] = {\n",
    "    \"C_factor\":C_factor, \"L_factor\": L_factor, \"I_m_factor\": I_m_factor, \"T\": T, \n",
    "    \"I_p_1\": I_p_1, \"I_p_2\": I_p_2, \"I_m_1\": I_m_1, \"I_m_2\": I_m_2,\n",
    "    \"R_1\": R_1, \"R_2\": R_2, \"C_1\": C_1, \"C_2\": C_2, \"L_1\": L_1, \"L_2\": L_2, \n",
    "    \"phi_1_x_on\": phi_1_x_on, \"phi_2_x_on\": phi_1_x_on,\n",
    "    \"phi_1_dcx_on\": phi_1_dcx_on, \"phi_2_dcx_on\": phi_2_dcx_on, \"M_12_on\": M_12_on,\n",
    "    \"gamma\": gamma\n",
    "}\n",
    "    \n",
    "TR_initial_condition = [\n",
    "    (phi_1_dcx_off, phi_2_dcx_off, M_12_off), # t_0\n",
    "    (phi_1_dcx_off, phi_2_dcx_on,  M_12_off), # t_1\n",
    "    (phi_1_dcx_off, phi_2_dcx_on,  M_12_on),  # t_2\n",
    "    (phi_1_dcx_off, phi_2_dcx_off, M_12_on),  # t_3\n",
    "    (phi_1_dcx_off, phi_2_dcx_off, M_12_off), \n",
    "    (phi_1_dcx_on,  phi_2_dcx_off, M_12_off)]\n",
    "\n",
    "protocol_index = 0\n",
    "\n",
    "def protocol_maker(time, _p):\n",
    "    return {\n",
    "        \"duration\": time, \"name\": _p[\"name\"], \"phi_1_x\": _p[\"phi_1_x\"], \"phi_2_x\": _p[\"phi_2_x\"],\n",
    "        \"M_12\": _p[\"M_12\"], \"phi_1_dcx\": _p[\"phi_1_dcx\"], \"phi_2_dcx\": _p[\"phi_2_dcx\"]\n",
    "    }\n",
    "\n",
    "\n",
    "_P = [\n",
    "    {\"duration\":50 * time_scale, \"name\":\"return to 4 well potential (a)\",\n",
    "        \"phi_1_x\": phi_1_x_off, \"phi_2_x\": phi_2_x_off , \"M_12\": M_12_off,  \n",
    "        \"phi_1_dcx\": phi_1_dcx_off, \"phi_2_dcx\": phi_2_dcx_off,  \n",
    "    },\n",
    "    \n",
    "    # forward\n",
    "    {\"duration\": 50 * time_scale, \"name\":\"(t_1) mix in y direction (a)\",\n",
    "        \"phi_1_x\": phi_1_x_off, \"phi_2_x\": phi_2_x_on * 0.1, \"M_12\": M_12_off,  \n",
    "        \"phi_1_dcx\": phi_1_dcx_off, \"phi_2_dcx\": phi_2_dcx_on * 0.5,  \n",
    "    }, # 1\n",
    "    {\"duration\":200 * time_scale, \"name\":\"(t_2) mix in y direction (b)\",\n",
    "        \"phi_1_x\": phi_1_x_off, \"phi_2_x\": phi_2_x_on, \"M_12\": M_12_off,  \n",
    "        \"phi_1_dcx\": phi_1_dcx_off, \"phi_2_dcx\": phi_2_dcx_on,  \n",
    "    }, # 2\n",
    "    {\"duration\":50 * time_scale, \"name\":\"(t_3) conditional tilt\",\n",
    "        \"phi_1_x\": phi_1_x_off, \"phi_2_x\": phi_2_x_on, \"M_12\": M_12_on,  \n",
    "        \"phi_1_dcx\": phi_1_dcx_off, \"phi_2_dcx\": phi_2_dcx_on,  \n",
    "    }, # 3\n",
    "    {\"duration\":50 * time_scale, \"name\":\"(t_4) return to 4 well\",\n",
    "        \"phi_1_x\": phi_1_x_off, \"phi_2_x\": phi_2_x_off, \"M_12\": M_12_off,  \n",
    "        \"phi_1_dcx\": phi_1_dcx_off, \"phi_2_dcx\": phi_2_dcx_off,  \n",
    "    }, # 4\n",
    "    \n",
    "    {\"duration\":50 * time_scale, \"name\":\"(t_5) conditional tilt\",\n",
    "        \"phi_1_x\": phi_1_x_on, \"phi_2_x\": phi_2_x_off, \"M_12\": M_12_on,  \n",
    "        \"phi_1_dcx\": phi_1_dcx_on, \"phi_2_dcx\": phi_2_dcx_off,  \n",
    "    }, # 5\n",
    "    {\"duration\":50 * time_scale, \"name\":\"(t_6) mix in x direction\",\n",
    "        \"phi_1_x\": phi_1_x_on, \"phi_2_x\": phi_2_x_off, \"M_12\": M_12_off,  \n",
    "        \"phi_1_dcx\": phi_1_dcx_on, \"phi_2_dcx\": phi_2_dcx_off,  \n",
    "    }, \n",
    "    {\"duration\":200 * time_scale, \"name\":\"return to 4 well potential (a)\",\n",
    "        \"phi_1_x\": phi_1_x_on * 0.1, \"phi_2_x\": phi_2_x_off , \"M_12\": M_12_off,  \n",
    "        \"phi_1_dcx\": phi_1_dcx_on * 0.5, \"phi_2_dcx\": phi_2_dcx_off,  \n",
    "    },\n",
    "    {\"duration\":50 * time_scale, \"name\":\"return to 4 well potential (a)\",\n",
    "        \"phi_1_x\": phi_1_x_off, \"phi_2_x\": phi_2_x_off , \"M_12\": M_12_off,  \n",
    "        \"phi_1_dcx\": phi_1_dcx_off, \"phi_2_dcx\": phi_2_dcx_off,  \n",
    "    }\n",
    "]\n",
    "\n",
    "# bookmark\n",
    "\n",
    "params['N'] = 50\n",
    "params['dt'] = 1/500\n",
    "\n",
    "initial_condition = _P[0]\n",
    "initial_parameter_dict[\"phi_1_dcx\"], initial_parameter_dict[\"phi_2_dcx\"], initial_parameter_dict[\"M_12\"] = \\\n",
    "initial_condition[\"phi_1_dcx\"], initial_condition[\"phi_2_dcx\"], initial_condition[\"M_12\"]\n",
    "\n",
    "protocol_list = [\n",
    "    # protocol_maker(50, _P[1]), protocol_maker(200, _P[2]), \n",
    "    # protocol_maker(50, _P[3]),\n",
    "    protocol_maker(50, _P[4]), \n",
    "    # protocol_maker(50, _P[3]), \n",
    "    # protocol_maker(50, _P[2]), \n",
    "    # protocol_maker(200, _P[1]), protocol_maker(50,  _P[0])\n",
    "]\n",
    "\n",
    "# protocol_list = [\n",
    "    \n",
    "#     # {\"duration\":50 * time_scale, \"phi_2_x\": 0, \"phi_2_dcx\": 0,  \"M_12\": -0.6,  \"name\":\"(1) mix in y direction (a)\"},    \n",
    "#     {\"duration\":50 * time_scale, \"phi_2_x\": phi_1_x_on * 0.1,  \"phi_1_dcx\": phi_1_dcx_off, \"phi_2_dcx\": phi_2_dcx_on * 0.5,  \"M_12\": M_12_off,  \"name\":\"(1) mix in y direction (a)\"},\n",
    "#     {\"duration\":200 * time_scale,\"phi_2_x\": phi_1_x_on, \"phi_1_dcx\": phi_1_dcx_off, \"phi_2_dcx\": phi_2_dcx_on,  \"M_12\": M_12_off,  \"name\":\"(1) mix in y direction (b)\"},\n",
    "#     {\"duration\":50 * time_scale, \"phi_1_dcx\": phi_1_dcx_off, \"phi_2_dcx\": phi_2_dcx_on,  \"M_12\": M_12_on,   \"name\":\"(2) conditional tilt\"},\n",
    "#     {\"duration\":50 * time_scale, \"phi_2_x\": phi_2_x_off, \"phi_1_dcx\": phi_1_dcx_off, \"phi_2_dcx\": phi_2_dcx_off, \"M_12\": M_12_off,  \"name\":\"(3) return to 4 well\"},\n",
    "#     {\"duration\":50 * time_scale, \"phi_1_x\": phi_1_x_on, \"phi_2_x\": phi_1_x_off, \"phi_1_dcx\": phi_1_dcx_on,  \"phi_2_dcx\": phi_2_dcx_off, \"M_12\": M_12_on,  \"name\": \"(4) conditional tilt in x\"}, \n",
    "#     {\"duration\":50 * time_scale, \"phi_1_dcx\": phi_1_dcx_on,  \"phi_2_dcx\": phi_2_dcx_off, \"M_12\": M_12_off,  \"name\":\"(5) mix in x direction\"}, \n",
    "#     {\"duration\":200 * time_scale, \"phi_1_x\": phi_1_x_on * 0.1, \"phi_1_dcx\": phi_1_dcx_on * 0.5, \"phi_2_dcx\": phi_2_dcx_off, \"M_12\": M_12_off,  \"name\":\"(6) return to 4 well potential (a)\"}, \n",
    "#     {\"duration\":50 * time_scale,  \"phi_1_x\": phi_1_x_off, \"phi_1_dcx\": phi_1_dcx_off, \"phi_2_dcx\": phi_2_dcx_off, \"M_12\": M_12_off,  \"name\":\"(6) 4 well potential (b)\"}, \n",
    "# ]\n",
    "\n",
    "\n",
    "\n",
    "potential_demonstration_list = [\n",
    "    # protocol_maker(50, _P[1]), protocol_maker(200, _P[2]), \n",
    "    # protocol_maker(50, _P[3]),\n",
    "    protocol_maker(50, {\"duration\": 50 * time_scale, \"name\":\"(t_1) mix in y direction (a)\",\n",
    "        \"phi_1_x\": phi_1_x_off, \"phi_2_x\": phi_2_x_on * 0.1, \"M_12\": M_12_off,  \n",
    "        \"phi_1_dcx\": phi_1_dcx_off, \"phi_2_dcx\": phi_2_dcx_on * 0.5,  \n",
    "    }), # 4 well,\n",
    "    protocol_maker(50, {\"duration\": 50 * time_scale, \"name\":\"(t_1) mix in y direction (a)\",\n",
    "        \"phi_1_x\": phi_1_x_off, \"phi_2_x\": phi_2_x_off, \"M_12\": M_12_off,  \n",
    "        \"phi_1_dcx\": phi_1_dcx_off, \"phi_2_dcx\": 3.0,  \n",
    "    }), # lower barrier,\n",
    "    protocol_maker(50, {\"duration\": 50 * time_scale, \"name\":\"(t_1) mix in y direction (a)\",\n",
    "        \"phi_1_x\": phi_1_x_off, \"phi_2_x\": -1.5, \"M_12\": M_12_off,  \n",
    "        \"phi_1_dcx\": phi_1_dcx_off, \"phi_2_dcx\": phi_1_dcx_off, \n",
    "    }), # lower barrier,\n",
    "    protocol_maker(50, {\"duration\": 50 * time_scale, \"name\":\"(t_1) mix in y direction (a)\",\n",
    "        \"phi_1_x\": phi_1_x_off, \"phi_2_x\": phi_2_x_off, \"M_12\": -0.6,  \n",
    "        \"phi_1_dcx\": phi_1_dcx_off, \"phi_2_dcx\": phi_1_dcx_off, \n",
    "    }) # lower barrier,\n",
    "    # protocol_maker(50, _P[3]), \n",
    "    # protocol_maker(50, _P[2]), \n",
    "    # protocol_maker(200, _P[1]), protocol_maker(50,  _P[0])\n",
    "]\n",
    "\n",
    "protocol_list = [\n",
    "    potential_demonstration_list[3]\n",
    "]"
   ]
  },
  {
   "cell_type": "code",
   "execution_count": null,
   "id": "14",
   "metadata": {},
   "outputs": [],
   "source": [
    "\n",
    "\"\"\"\n",
    "# step 3: create the relevant storage protocol and computation protocol\n",
    "\"\"\"\n",
    "def modifiedFunction(t, result):\n",
    "    return result\n",
    "\n",
    "\n",
    "computation_protocol_parameter_dict = coupled_fq_protocol_library.customizedProtocol(initial_parameter_dict, \\\n",
    "                                                                    protocol_list)\n",
    "storage_protocol, comp_protocol = create_system(computation_protocol_parameter_dict, modifiedFunction = None)"
   ]
  },
  {
   "cell_type": "code",
   "execution_count": null,
   "id": "15",
   "metadata": {},
   "outputs": [],
   "source": [
    "\"\"\"\n",
    "# step 4: create the coupled_fq_runner\n",
    "\"\"\"\n",
    "\n",
    "params['capacitance'] = [C_1, C_2, C_1/4, C_2/4]\n",
    "params['mass_special'] = [1, 1, 1/4, 1/4]\n",
    "params['v_c'] = x_c/t_c\n",
    "params['k_BT'] = k_BT\n",
    "\n",
    "cfqr = cfq_runner.coupledFluxQubitRunner(potential = coupled_fq_pot, params = params, \\\n",
    "                                                storage_protocol= storage_protocol, \\\n",
    "                                                computation_protocol= comp_protocol, \\\n",
    "                                         protocol_list = protocol_list, \\\n",
    "                                        has_velocity=has_velocity)\n",
    "\n",
    "protocol_time_array, protocol_time_index_array, protocol_all_time_array, protocol_time_all_index_array = cfqr.createProtocolTimeArray(protocol_list, params)\n",
    "cfqr.initialize_sim()\n",
    "cfqr.set_sim_attributes()\n",
    "init_state_saved = cfqr.init_state"
   ]
  },
  {
   "cell_type": "code",
   "execution_count": null,
   "id": "16",
   "metadata": {},
   "outputs": [],
   "source": [
    "initial_parameter_dict"
   ]
  },
  {
   "cell_type": "code",
   "execution_count": null,
   "id": "17",
   "metadata": {},
   "outputs": [],
   "source": [
    "cfqr.showPamameterTimeGraph(protocol_time_array, protocol_all_time_array)\n",
    "# showPamameterTimeGraph(cfqr, protocol_time_array, protocol_all_time_array)"
   ]
  },
  {
   "cell_type": "code",
   "execution_count": null,
   "id": "18",
   "metadata": {},
   "outputs": [],
   "source": []
  },
  {
   "cell_type": "code",
   "execution_count": null,
   "id": "19",
   "metadata": {},
   "outputs": [],
   "source": []
  },
  {
   "cell_type": "markdown",
   "id": "20",
   "metadata": {
    "tags": []
   },
   "source": [
    "# potential shape check"
   ]
  },
  {
   "cell_type": "code",
   "execution_count": null,
   "id": "21",
   "metadata": {},
   "outputs": [],
   "source": [
    "import pickle, uuid, glob\n",
    "# sim_id = uuid.uuid4().hex\n",
    "# sim_id = \"9ad154fe70674d088a00b5b7c1e0a7f5\"\n",
    "comment = \"potential_and_parameter_function\"\n",
    "print(sim_id)\n"
   ]
  },
  {
   "cell_type": "code",
   "execution_count": null,
   "id": "22",
   "metadata": {},
   "outputs": [],
   "source": [
    "plotLineData = cfqr.plotGraphWithContourGraph(t = 50, cutlineValue=-1.96, cutlineDirection = \"v\", showGraph=True)"
   ]
  },
  {
   "cell_type": "code",
   "execution_count": null,
   "id": "23",
   "metadata": {},
   "outputs": [],
   "source": [
    "order = len(glob.glob(f\"coupled_flux_qubit_protocol/coupled_flux_qubit_data_gallery/*{comment}*\")) + 1\n",
    "print(order)"
   ]
  },
  {
   "cell_type": "code",
   "execution_count": null,
   "id": "24",
   "metadata": {},
   "outputs": [],
   "source": [
    "file_name = f\"coupled_flux_qubit_protocol/coupled_flux_qubit_data_gallery/{sim_id}_{comment}_order_{order}_plotline_graph.npy\"\n",
    "save = False\n",
    "save = True\n",
    "if save:\n",
    "    np.save(file_name, plotLineData)"
   ]
  },
  {
   "cell_type": "code",
   "execution_count": null,
   "id": "25",
   "metadata": {},
   "outputs": [],
   "source": []
  },
  {
   "cell_type": "markdown",
   "id": "26",
   "metadata": {},
   "source": [
    "### substage"
   ]
  },
  {
   "cell_type": "code",
   "execution_count": null,
   "id": "27",
   "metadata": {},
   "outputs": [],
   "source": [
    "W_with_offset = [-0.258, -1.880, 2.510, 0.495, -0.386, -2.550, 1.980, 0.230]"
   ]
  },
  {
   "cell_type": "code",
   "execution_count": null,
   "id": "28",
   "metadata": {},
   "outputs": [],
   "source": [
    "min_potential_at_each_time = np.array([99.89691107926694, 103.91521174619228, 56.54651400870479, 50.856783860072646, 99.89691107926694, 50.856783860072646, 56.5465140089956, 103.91521174619228, 99.89691107926694])\n",
    "offset_value = min_potential_at_each_time[1:] - min_potential_at_each_time[0:-1]"
   ]
  },
  {
   "cell_type": "code",
   "execution_count": null,
   "id": "29",
   "metadata": {},
   "outputs": [],
   "source": [
    "W_without_offset = W_with_offset + offset_value"
   ]
  },
  {
   "cell_type": "code",
   "execution_count": null,
   "id": "30",
   "metadata": {},
   "outputs": [],
   "source": [
    "for x in range(len(W_with_offset)):\n",
    "    print(f\"{x} & {W_without_offset[x]:.3g} & {W_with_offset[x]}\\\\\\\\\")\n",
    "    print(\"\\hline\")"
   ]
  },
  {
   "cell_type": "code",
   "execution_count": null,
   "id": "31",
   "metadata": {},
   "outputs": [],
   "source": [
    "for _t in protocol_time_array:\n",
    "    minimum_data = cfqr.get_minimum_at_for_a_set_of_parameter(_t, initial_parameter_dict, guess = [(-2, -2), (-2, 2), (2, -2), (2, 2)], showPE = True)\n",
    "    for x in minimum_data:\n",
    "        print(x)\n",
    "    print(\"-\"*10)\n",
    "    # print(minimum_data)"
   ]
  },
  {
   "cell_type": "code",
   "execution_count": null,
   "id": "32",
   "metadata": {},
   "outputs": [],
   "source": [
    "cutline_direction_array = [\"v\", \"v\", \"v\", \"v\", \"v\", \"h\", \"h\", \"h\", \"h\"]\n",
    "cutline_value_array = [-1.96439198, -1.96436708, -1.96433431, -2.01268797, -1.96439198,\\\n",
    "                       -2.01268797, -1.96433431, -1.96436708]\n",
    "\n"
   ]
  },
  {
   "cell_type": "code",
   "execution_count": null,
   "id": "33",
   "metadata": {},
   "outputs": [],
   "source": [
    "comment = f\"2024_7_10_potential_at_each_substage\"\n",
    "sim_id = uuid.uuid4().hex\n",
    "save = False\n",
    "# save = True\n",
    "print(sim_id)\n",
    "for _i, (_t, _value, _direction) in enumerate(zip(protocol_time_array, cutline_value_array, cutline_direction_array)):\n",
    "    plotLineData = cfqr.plotGraph(t = _t, cutlineValue=_value, cutlineDirection = _direction, showGraph=True)\n",
    "    file_name = f\"coupled_flux_qubit_protocol/coupled_flux_qubit_data_gallery/{sim_id}_time_{_t}_{comment}_plotline_graph.npy\"\n",
    "    if save:\n",
    "        np.save(file_name, plotLineData)"
   ]
  },
  {
   "cell_type": "code",
   "execution_count": null,
   "id": "34",
   "metadata": {},
   "outputs": [],
   "source": []
  },
  {
   "cell_type": "code",
   "execution_count": null,
   "id": "35",
   "metadata": {},
   "outputs": [],
   "source": [
    "import glob\n",
    "\n",
    "plotline_graph_array = glob.glob(f\"coupled_flux_qubit_protocol/coupled_flux_qubit_data_gallery/{sim_id}_*_plotline_graph.npy\")\n",
    "print(len(plotline_graph_array))"
   ]
  },
  {
   "cell_type": "code",
   "execution_count": null,
   "id": "36",
   "metadata": {},
   "outputs": [],
   "source": [
    "orderedPlotline_graph = [(np.load(filePath, allow_pickle=True)[()], float(filePath.split(\"/\")[-1].split(\"_\")[2])) for filePath in plotline_graph_array]\n",
    "orderedPlotline_graph = sorted(orderedPlotline_graph, key = lambda x: x[1])"
   ]
  },
  {
   "cell_type": "code",
   "execution_count": null,
   "id": "37",
   "metadata": {},
   "outputs": [],
   "source": []
  },
  {
   "cell_type": "code",
   "execution_count": null,
   "id": "38",
   "metadata": {},
   "outputs": [],
   "source": []
  },
  {
   "cell_type": "code",
   "execution_count": null,
   "id": "39",
   "metadata": {},
   "outputs": [],
   "source": [
    "for x in plotline_graph_array:\n",
    "    os.system(f\"rm {x}\")"
   ]
  },
  {
   "cell_type": "code",
   "execution_count": null,
   "id": "40",
   "metadata": {},
   "outputs": [],
   "source": [
    "np.load(plotline_graph_array[0], allow_pickle=True)[()]"
   ]
  },
  {
   "cell_type": "code",
   "execution_count": null,
   "id": "41",
   "metadata": {},
   "outputs": [],
   "source": []
  },
  {
   "cell_type": "markdown",
   "id": "42",
   "metadata": {},
   "source": [
    "# actual simulations"
   ]
  },
  {
   "cell_type": "code",
   "execution_count": null,
   "id": "43",
   "metadata": {},
   "outputs": [],
   "source": [
    "# step 5: perform simulations\n",
    "manual_domain=[np.array([-5, -5]), np.array([5, 5])]\n",
    "\n",
    "simResult = cfq_batch_sweep.simulateSingleCoupledFluxQubit(params, initial_parameter_dict, protocol_list, \\\n",
    "                        potential = coupled_fq_pot, potential_default_param = coupled_fq_default_param,            \n",
    "                        initial_state = init_state_saved, manual_domain = manual_domain, \\\n",
    "                        phi_1_dcx = phi_1_dcx,  phi_2_dcx = phi_2_dcx, \\\n",
    "                        percentage = 1, as_step = np.s_[::100], measure_all_states=saveAllStates, \\\n",
    "                        has_velocity = has_velocity)"
   ]
  },
  {
   "cell_type": "code",
   "execution_count": null,
   "id": "44",
   "metadata": {},
   "outputs": [],
   "source": [
    "pColor = {\"00\": \"#061DF7\", \"01\": \"silver\", \"10\": \"#04B3BC\", \"11\": \"#FCEF51\"}\n",
    "simResult['cfqr'].showAnimation(protocol_list, computation_protocol_parameter_dict, pColor = pColor, frame_skip = 10)"
   ]
  },
  {
   "cell_type": "code",
   "execution_count": null,
   "id": "45",
   "metadata": {},
   "outputs": [],
   "source": []
  },
  {
   "cell_type": "markdown",
   "id": "46",
   "metadata": {},
   "source": [
    "### Work Analysis"
   ]
  },
  {
   "cell_type": "code",
   "execution_count": null,
   "id": "47",
   "metadata": {},
   "outputs": [],
   "source": [
    "# %%notify\n",
    "step_time_array = np.cumsum(np.array([x[\"duration\"] for x in protocol_list]))/params['dt']\n",
    "name_array = [x[\"name\"] for x in protocol_list]\n",
    "\n",
    "\n",
    "plt.hist(simResult[\"work_distribution\"], bins = 45)\n",
    "plt.show()\n",
    "mean_work = np.mean(simResult[\"work_distribution\"])\n",
    "jarzyn_term = np.mean(np.exp(-simResult[\"work_distribution\"]))\n",
    "print(\"sim_id = \", simResult['simulation_data'])\n",
    "print(f\"N = {params['N']}, dt = {params['dt']}\")\n",
    "print(f\"phi_1dcx_on: {phi_1_dcx_on}, phi_2dcx_on: {phi_2_dcx_on}, M_12_on: {M_12_on}\")\n",
    "print(f\"L_factor = {L_factor}, C_factor = {C_factor}, I_m_factor = {I_m_factor}, gamma = {gamma}\")\n",
    "print([x[\"duration\"] for x in protocol_list])\n",
    "print(f'jarzyn = {jarzyn_term}, mean work = {mean_work}')\n"
   ]
  },
  {
   "cell_type": "code",
   "execution_count": null,
   "id": "48",
   "metadata": {},
   "outputs": [],
   "source": []
  },
  {
   "cell_type": "code",
   "execution_count": null,
   "id": "49",
   "metadata": {},
   "outputs": [],
   "source": []
  },
  {
   "cell_type": "code",
   "execution_count": null,
   "id": "50",
   "metadata": {},
   "outputs": [],
   "source": [
    "import pickle \n",
    "save_all_states = True\n",
    "sim_id = simResult['simulation_data']['simulation_id']\n",
    "\n",
    "pickle_file_name = f'coupled_flux_qubit_protocol/coupled_flux_qubit_data_gallery/{sim_id}_all_states_step_and_trial_data.pkl'\n",
    "npy_file_name = f'coupled_flux_qubit_protocol/coupled_flux_qubit_data_gallery/{sim_id}_all_states.npy'\n",
    "if save_all_states:\n",
    "    \n",
    "    all_state_step_and_trial_data = {x: simResult['cfqr'].sim.output.all_state[x] for x in ['step_indices', 'trial_indices']}\n",
    "    with open(pickle_file_name, 'wb') as f:\n",
    "        pickle.dump(all_state_step_and_trial_data, f)\n",
    "    np.save(npy_file_name, simResult['cfqr'].sim.output.all_state['states'])"
   ]
  },
  {
   "cell_type": "code",
   "execution_count": null,
   "id": "51",
   "metadata": {},
   "outputs": [],
   "source": [
    "with open(f'coupled_flux_qubit_protocol/coupled_flux_qubit_data_gallery/{sim_id}_all_states_step_and_trial_data.pkl', 'rb') as f:\n",
    "    loaded_all_state_step_and_trial_data = pickle.load(f)\n"
   ]
  },
  {
   "cell_type": "code",
   "execution_count": null,
   "id": "52",
   "metadata": {},
   "outputs": [],
   "source": [
    "os.system(f\"ls -alh {npy_file_name}\")"
   ]
  },
  {
   "cell_type": "code",
   "execution_count": null,
   "id": "53",
   "metadata": {},
   "outputs": [],
   "source": [
    "os.system(f\"rm {npy_file_name}\")"
   ]
  },
  {
   "cell_type": "code",
   "execution_count": null,
   "id": "54",
   "metadata": {},
   "outputs": [],
   "source": []
  },
  {
   "cell_type": "code",
   "execution_count": null,
   "id": "55",
   "metadata": {},
   "outputs": [],
   "source": [
    "loaded_all_state_step_and_trial_data"
   ]
  },
  {
   "cell_type": "code",
   "execution_count": null,
   "id": "56",
   "metadata": {},
   "outputs": [],
   "source": [
    "simResult['cfqr'].get_all_state()"
   ]
  },
  {
   "cell_type": "code",
   "execution_count": null,
   "id": "57",
   "metadata": {},
   "outputs": [],
   "source": []
  },
  {
   "cell_type": "code",
   "execution_count": null,
   "id": "58",
   "metadata": {},
   "outputs": [],
   "source": [
    "# simResult['cfqr'].getFidelityBarChart()"
   ]
  },
  {
   "cell_type": "code",
   "execution_count": null,
   "id": "59",
   "metadata": {},
   "outputs": [],
   "source": [
    "# simResult['cfqr'].getFidelityTimeGraph()"
   ]
  },
  {
   "cell_type": "code",
   "execution_count": null,
   "id": "60",
   "metadata": {},
   "outputs": [],
   "source": [
    "# pColor = {\"00\": \"#061DF7\", \"01\": \"#FCEF51\", \"10\": \"#3FC7F2\", \"11\": \"#F187F4\"}\n",
    "# simResult['cfqr'].showAnimation(protocol_list, computation_protocol_parameter_dict, pColor = pColor, frame_skip= 10)"
   ]
  },
  {
   "cell_type": "code",
   "execution_count": null,
   "id": "61",
   "metadata": {},
   "outputs": [],
   "source": []
  },
  {
   "cell_type": "code",
   "execution_count": null,
   "id": "62",
   "metadata": {},
   "outputs": [],
   "source": [
    "# # cutline graph\n",
    "# # , (1.96, \"v\",\"orange\")\n",
    "# pColor = {\"00\": \"#061DF7\", \"01\": \"#FCEF51\", \"10\": \"#3FC7F2\", \"11\": \"#F187F4\"}\n",
    "# importlib.reload(coupled_fq_protocol_library)\n",
    "# ani,_,_ =  coupled_fq_protocol_library.animate_sim_flux_qubit_with_cutline(simResult['cfqr'], frame_skip = 5, time_array=simResult['cfqr'].sim.target_step_index, \n",
    "#                                                                            params = params, cutlineInformation = [(-1.96, \"v\",\"red\") , (1.96, \"v\",\"orange\")],\n",
    "#                                                                           pColor=pColor, opacity = 0, cutlineYLimit = [0, 250])\n",
    "# video = ani.to_html5_video()\n",
    "# html = display.HTML(video)\n",
    "# display.display(html)"
   ]
  },
  {
   "cell_type": "code",
   "execution_count": null,
   "id": "63",
   "metadata": {},
   "outputs": [],
   "source": []
  },
  {
   "cell_type": "code",
   "execution_count": null,
   "id": "64",
   "metadata": {},
   "outputs": [],
   "source": [
    "# from edward_tools.visualization import separate_by_state\n",
    "# # fig, ax = plt.subplots(1, 2, figsize =  [8, 4])\n",
    "# frame_skip = 10\n",
    "# plot_distribution_with_cutline(simResult['cfqr'], 0, time_array=protocol_all_time_array, pcolor=pColor, cutlineInformation = [-1.964, \"v\", \"red\"])"
   ]
  },
  {
   "cell_type": "code",
   "execution_count": null,
   "id": "65",
   "metadata": {},
   "outputs": [],
   "source": [
    "# def plot_distribution_with_cutline(self, t, time_array=None, params = None, legend=False, slice_values = None, fig_ax=None, \n",
    "#                                    vmin = None, vmax = None, \n",
    "#                                    cmap = \"afmhot\", \n",
    "#                                    pcolor = {\"00\": \"blue\", \"01\": \"orange\", \"10\": \"green\", \"11\": \"red\"}, \n",
    "#                                    cutlineInformation = [-3, \"v\",\"red\"], **pot_kwargs):\n",
    "#     names = [r\"$\\varphi_1$\", r\"$\\varphi_2$\"]\n",
    "#     fig, ax = plt.subplots(1, 2, figsize=[8, 3.5])\n",
    "#     ax_flatten = ax.flatten()\n",
    "#     manual_domain=[np.array([-5, -5]), np.array([5, 5])]\n",
    "\n",
    "#     all_state = self.sim.output.all_state['states']\n",
    "#     phi_1_dc = all_state[..., 2, 0]\n",
    "#     phi_2_dc = all_state[..., 3, 0]\n",
    "#     all_state = all_state[:, :, (0, 1), :]\n",
    "\n",
    "#     N, nsteps, N_dim = np.shape(all_state)[0], np.shape(all_state)[1], np.shape(all_state)[2]\n",
    "#     which_axes = [np.s_[..., i, 0] for i in range(N_dim)]\n",
    "#     x_array = [all_state[item] for item in which_axes]\n",
    "#     state_lookup = separate_by_state(all_state)\n",
    "#     opacity = min(1, 300/N)\n",
    "\n",
    "#     time_array = time_array[::frame_skip]\n",
    "#     x = x_array[0][:,::frame_skip]\n",
    "#     y = x_array[1][:,::frame_skip]\n",
    "#     x_lim = (np.min(x), np.max(x))\n",
    "#     y_lim = (np.min(y), np.max(y))\n",
    "#     scat_kwargs = {'alpha':opacity, 'zorder':10}\n",
    "#     scat = [ax_flatten[0].scatter(x[state_lookup[key], 0], y[state_lookup[key], 0], c = pColor[key], **scat_kwargs) for key in state_lookup]\n",
    "#     # scat_1 = [ax_flatten[1].scatter(x[state_lookup[key], 0], y[state_lookup[key], 0], **scat_kwargs) for key in state_lookup]\n",
    "\n",
    "#     modified_manual_domain = [(manual_domain[0][1], manual_domain[0][0]), \\\n",
    "#                               (manual_domain[1][1], manual_domain[1][0])]\n",
    "\n",
    "# #     resolution = 100\n",
    "# #     U, X_mesh = self.system.lattice(t, resolution, axes=(0, 1),\\\n",
    "# #                                 manual_domain=modified_manual_domain, slice_values = slice_values)\n",
    "# #     X, Y = X_mesh[0], X_mesh[1]\n",
    "\n",
    "# #     # 5. find vmin, vmax, x_min, x_max, y_min and y_max\n",
    "# #     vmin, vmax = np.min(U), np.max(U)\n",
    "# #     x_min, x_max = np.min(X), np.max(X)\n",
    "# #     y_min, y_max = np.min(Y), np.max(Y)\n",
    "# #     cont = ax_flatten[0].contourf(X, Y, U, 40, vmin = 0, vmax = 400, cmap = \"afmhot\")\n",
    "\n",
    "\n",
    "#     X, Y, U, cutlineDirection, _targetAxis, _plotAxis = coupled_fq_protocol_library.get_potential_along_a_1D_cutline(self, t = t, cutlineDirection =cutlineInformation[1], cutlineValue = cutlineInformation[0], resolution = 100, contours = 5, manual_domain = [[-5, -5], [5, 5]])\n",
    "            \n",
    "#     coupled_fq_protocol_library.plotCutlines(X, Y, U, cutlineDirection = cutlineDirection, cutlineValue = cutlineInformation[0], cutlineColor = cutlineInformation[2] , contour_plt = ax[0], cutline_plt = ax[1], contours = 5, time = None, graph_title = None, showGraph = True)\n",
    "\n",
    "    \n",
    "    "
   ]
  },
  {
   "cell_type": "code",
   "execution_count": null,
   "id": "66",
   "metadata": {},
   "outputs": [],
   "source": [
    "from edward_tools.visualization import separate_by_state\n",
    "minimum_point_data = [cfqr.system.get_minimum_point(_t, coupled_flux_qubit_non_linear_approx_pot, guess=[(-2, -2)]) for _t in protocol_time_array]\n",
    "all_state = simResult['cfqr'].sim.output.all_state['states']\n",
    "all_state = all_state[:, :, (0, 1), :]\n",
    "N, nsteps, N_dim = np.shape(all_state)[0], np.shape(all_state)[1], np.shape(all_state)[2]\n",
    "which_axes = [np.s_[..., i, 0] for i in range(N_dim)]\n",
    "x_array = [all_state[item] for item in which_axes]\n",
    "state_lookup = separate_by_state(all_state)\n",
    "opacity = min(1, 300/N)\n",
    "x, y = x_array[0], x_array[1]\n",
    "x_lim = (np.min(x), np.max(x))\n",
    "y_lim = (np.min(y), np.max(y))\n",
    "scat_kwargs = {'alpha':opacity, 'zorder':10}"
   ]
  },
  {
   "cell_type": "code",
   "execution_count": null,
   "id": "67",
   "metadata": {},
   "outputs": [],
   "source": [
    "\n",
    "min_U_along_cutline = []\n",
    "fig, ax = plt.subplots(5, 4, figsize=[15, 18])\n",
    "ax_flatten = ax.flatten()\n",
    "cutlineRange = [-3.5, 3.5]\n",
    "pColor = {\"00\": \"#061DF7\", \"01\": \"#FCEF51\", \"10\": \"#3FC7F2\", \"11\": \"#F187F4\"}\n",
    "X, Y, U, cutlineDirection, _targetAxis, _plotAxis = get_potential_along_a_1D_cutline(cfqr, t = protocol_time_array[0], cutlineDirection = \"v\")\n",
    "plt_line_data_at_t = plotCutlines(X, Y, U, cutlineDirection, cutlineValue = minimum_point_data[0][0][0],\\\n",
    "                        contour_plt=ax_flatten[0], cutline_plt=ax_flatten[1], contours = 20,\n",
    "                        showGraph=True, time=protocol_time_array[0], cutlineRange = cutlineRange)\n",
    "min_U = np.min(U)\n",
    "scat = [ax_flatten[2 * 0].scatter(x[state_lookup[key], protocol_time_index_array[0]], y[state_lookup[key], protocol_time_index_array[0]], c = pColor[key],**scat_kwargs) for key in state_lookup]\n",
    "\n",
    "\n",
    "for _i in range(1, 5):\n",
    "    X, Y, U, cutlineDirection, _targetAxis, _plotAxis = get_potential_along_a_1D_cutline(cfqr, t = protocol_time_array[_i], cutlineDirection = \"v\")\n",
    "    plt_line_data_at_t = plotCutlines(X, Y, U, cutlineDirection, cutlineValue = minimum_point_data[_i][0][0],\\\n",
    "                            contour_plt=ax_flatten[2*_i], cutline_plt=ax_flatten[2*_i + 1], contours = 20,\n",
    "                            showGraph=True, time=protocol_time_array[_i], cutlineRange = cutlineRange)\n",
    "    min_U = np.min(U)\n",
    "    _index = list(simResult['cfqr'].sim.target_step_index).index(protocol_time_index_array[_i]+1)\n",
    "    scat = [ax_flatten[2 * _i].scatter(x[state_lookup[key], _index], y[state_lookup[key], _index], c = pColor[key], **scat_kwargs) for key in state_lookup]\n",
    "    \n",
    "for _i in range(5, 9):\n",
    "    X, Y, U, cutlineDirection, _targetAxis, _plotAxis = get_potential_along_a_1D_cutline(cfqr, t = protocol_time_array[_i], cutlineDirection = \"h\")\n",
    "    plt_line_data_at_t = plotCutlines(X, Y, U, cutlineDirection, cutlineValue = minimum_point_data[_i][0][1],\\\n",
    "                            contour_plt=ax_flatten[2*_i], cutline_plt=ax_flatten[2*_i + 1], contours = 20,\n",
    "                            showGraph=True, time=protocol_time_array[_i], cutlineRange = cutlineRange)\n",
    "    min_U = np.min(U)\n",
    "    _index = list(simResult['cfqr'].sim.target_step_index).index(protocol_time_index_array[_i]+1)\n",
    "    scat = [ax_flatten[2 * _i].scatter(x[state_lookup[key], _index], y[state_lookup[key], _index], c = pColor[key], **scat_kwargs) for key in state_lookup]\n",
    "   "
   ]
  },
  {
   "cell_type": "code",
   "execution_count": null,
   "id": "68",
   "metadata": {},
   "outputs": [],
   "source": []
  },
  {
   "cell_type": "markdown",
   "id": "69",
   "metadata": {},
   "source": [
    "# Fidelity"
   ]
  },
  {
   "cell_type": "code",
   "execution_count": null,
   "id": "70",
   "metadata": {},
   "outputs": [],
   "source": [
    "simResult[\"fidelity\"]"
   ]
  },
  {
   "cell_type": "code",
   "execution_count": null,
   "id": "71",
   "metadata": {},
   "outputs": [],
   "source": [
    "def showFidelity(target):\n",
    "\n",
    "    final_percentage_matrix = np.array([d[\"final_percentage\"] for d in target]).T\n",
    "    text_box_array = [\"\\n\".join(row) for row in final_percentage_matrix]\n",
    "    # params_list = list(target[\"params\"])[0]\n",
    "    fig, ax = plt.subplots(1, 1, figsize = [4, 4])\n",
    "    # plt.figure(figsize=[4, 4])\n",
    "    # plt.title(f\"N = {params_list['N']}, dt = {params_list['dt']}\")\n",
    "    ax.set_xlim(-5, 5);plt.ylim(-5, 5);\n",
    "    ax.text(-1.25, -1, \"00\"); ax.text(-1.25, 4, \"01\")\n",
    "    ax.text(4, -1, \"10\"); ax.text(4, 4, \"11\")\n",
    "    ax.text(-3.25, -3.5, text_box_array[0]); ax.text(-3.25, 1.5, text_box_array[1])\n",
    "    ax.text(1.75, -3.5, text_box_array[2]); ax.text(1.75, 1.5, text_box_array[3])\n",
    "    ax.vlines(0, ymin = -5, ymax = 5); ax.hlines(0, xmin = -5, xmax = 5)"
   ]
  },
  {
   "cell_type": "code",
   "execution_count": null,
   "id": "72",
   "metadata": {},
   "outputs": [],
   "source": [
    "# import edward_tools.couple_flux_qubit_metrics as couple_flux_qubit_metrics\n",
    "# couple_flux_qubit_metrics.fidelityEvaluation\n",
    "# fidelity_at_t_array = []\n",
    "# initial_state = simResult['cfqr'].init_state[:, (0, 1), :]\n",
    "# for t_index in protocol_time_index_array[1:]:\n",
    "#     state_at_t = simResult['cfqr'].sim.output.all_state[\"states\"][:, t_index, (0, 1), :]\n",
    "#     fidelity_at_t = couple_flux_qubit_metrics.fidelityEvaluation(initial_state, state_at_t, mapping_state_1_to_state_2_dict)\n",
    "#     showFidelity(fidelity_at_t)\n",
    "#     fidelity_at_t_array.append(fidelity_at_t)"
   ]
  },
  {
   "cell_type": "code",
   "execution_count": null,
   "id": "73",
   "metadata": {},
   "outputs": [],
   "source": []
  },
  {
   "cell_type": "code",
   "execution_count": null,
   "id": "74",
   "metadata": {},
   "outputs": [],
   "source": []
  },
  {
   "cell_type": "markdown",
   "id": "75",
   "metadata": {},
   "source": [
    "# work analysis"
   ]
  },
  {
   "cell_type": "code",
   "execution_count": null,
   "id": "76",
   "metadata": {},
   "outputs": [],
   "source": [
    "# %%notify\n",
    "step_time_array = np.cumsum(np.array([x[\"duration\"] for x in protocol_list]))/params['dt']\n",
    "name_array = [x[\"name\"] for x in protocol_list]\n",
    "\n",
    "\n",
    "plt.hist(simResult[\"work_distribution\"], bins = 45)\n",
    "plt.show()\n",
    "mean_work = np.mean(simResult[\"work_distribution\"])\n",
    "jarzyn_term = np.mean(np.exp(-simResult[\"work_distribution\"]))\n",
    "print(\"sim_id = \", simResult['simulation_data'])\n",
    "print(f\"N = {params['N']}, dt = {params['dt']}\")\n",
    "print(f\"phi_1dcx_on: {phi_1_dcx_on}, phi_2dcx_on: {phi_2_dcx_on}, M_12_on: {M_12_on}\")\n",
    "print(f\"L_factor = {L_factor}, C_factor = {C_factor}, I_m_factor = {I_m_factor}, gamma = {gamma}\")\n",
    "print([x[\"duration\"] for x in protocol_list])\n",
    "print(f'jarzyn = {jarzyn_term}, mean work = {mean_work}')\n"
   ]
  },
  {
   "cell_type": "code",
   "execution_count": null,
   "id": "77",
   "metadata": {},
   "outputs": [],
   "source": [
    "# step_array = np.arange(simResult[\"work_statistic\"][:,0].shape[0])\n",
    "step_array = simResult['cfqr'].sim.target_step_index\n",
    "skip_step = int(len(step_array) * 0.05)\n",
    "work_mean = simResult[\"work_statistic\"][:,0]\n",
    "work_std = simResult[\"work_statistic\"][:,1]\n",
    "\n",
    "plt.errorbar(step_array[::skip_step], work_mean[::skip_step], yerr = work_std[::skip_step])\n",
    "# plt.yscale('log')\n",
    "\n",
    "for i, t in enumerate(step_time_array):\n",
    "    plt.axvline(x = t, color = 'b', linestyle ='--', label = 'axvline - full height')\n",
    "    # plt.annotate(f\"{i+1}\", xy=(t, 4.5),  color='red', ha='center', size=16)\n",
    "\n",
    "print(f'jarzyn = {jarzyn_term}')\n",
    "print([x[\"duration\"] for x in protocol_list])"
   ]
  },
  {
   "cell_type": "code",
   "execution_count": null,
   "id": "78",
   "metadata": {},
   "outputs": [],
   "source": []
  },
  {
   "cell_type": "code",
   "execution_count": null,
   "id": "79",
   "metadata": {},
   "outputs": [],
   "source": [
    "\n",
    "target_time_index = np.array(protocol_time_array)/params['dt']\n",
    "target_time_index = target_time_index.astype(\"int\") - 1\n",
    "\n",
    "# work_done_array = [work_mean[i] for i in target_time_index[1:]]\n",
    "work_done_array = simResult[\"cfqr\"].sim.keyStep_work_statistic[:,0]\n",
    "work_done_of_each_step = np.array(work_done_array)[1:] - np.array(work_done_array)[:-1]\n",
    "\n",
    "Measure_Erasue_steps = [0, 1, 2, 3]\n",
    "Control_Steps = [4, 5, 6, 7]\n",
    "\n",
    "W_M = work_done_array[4] - work_done_array[0]\n",
    "W_C = work_done_array[-1] - work_done_array[4]\n",
    "\n",
    "print(\"Third way to split the steps: (E, 0-1), (M. 2), (C: 3-6)\")\n",
    "print(f\"work_done = {work_done_of_each_step}\" )\n",
    "print(f\"measurement + reset = {W_M}, deviation: {W_M - 0.693}\")\n",
    "print(f\"control = {W_C}, deviation: {0.693 + W_C}\")\n",
    "print(sum(work_done_of_each_step))"
   ]
  },
  {
   "cell_type": "code",
   "execution_count": null,
   "id": "80",
   "metadata": {},
   "outputs": [],
   "source": [
    "work_done_array"
   ]
  },
  {
   "cell_type": "code",
   "execution_count": null,
   "id": "81",
   "metadata": {},
   "outputs": [],
   "source": []
  },
  {
   "cell_type": "markdown",
   "id": "82",
   "metadata": {},
   "source": [
    "# animations"
   ]
  },
  {
   "cell_type": "code",
   "execution_count": null,
   "id": "83",
   "metadata": {},
   "outputs": [],
   "source": [
    "simResult['cfqr'].showAnimation(protocol_list, computation_protocol_parameter_dict)"
   ]
  },
  {
   "cell_type": "code",
   "execution_count": null,
   "id": "84",
   "metadata": {},
   "outputs": [],
   "source": [
    "from edward_tools.visualization import separate_by_state"
   ]
  },
  {
   "cell_type": "code",
   "execution_count": null,
   "id": "85",
   "metadata": {},
   "outputs": [],
   "source": [
    "self = simResult['cfqr']\n",
    "t = 100\n",
    "resolution = 100\n",
    "\n",
    "fig, ax = plt.subplots(figsize=(6,6))\n",
    "protocol_key = ['U0_1', 'U0_2', 'gamma_1', 'gamma_2', 'beta_1', 'beta_2', 'd_beta_1', 'd_beta_2', 'phi_1_x', 'phi_2_x', 'phi_1_dcx', 'phi_2_dcx', 'M_12', 'x_c']\n",
    "contour_plt = plt\n",
    "\n",
    "\n",
    "phi_1_dcx_index = protocol_key.index('phi_1_dcx')\n",
    "phi_2_dcx_index = protocol_key.index('phi_2_dcx')\n",
    "phi_1_dc_i = self.protocol.get_params(t)[phi_1_dcx_index]\n",
    "phi_2_dc_i = self.protocol.get_params(t)[phi_2_dcx_index]\n",
    "slice_values = [0, 0, phi_1_dc_i, phi_2_dc_i]\n",
    "\n",
    "modified_manual_domain = [(manual_domain[0][1], manual_domain[0][0]), \\\n",
    "                              (manual_domain[1][1], manual_domain[1][0])]\n",
    "U, X_mesh = self.system.lattice(t, resolution, axes=(0, 1),\\\n",
    "                                    manual_domain=modified_manual_domain, slice_values = slice_values)\n",
    "\n",
    "# 5. find vmin, vmax, x_min, x_max, y_min and y_max\n",
    "vmin, vmax = np.min(U), np.max(U)\n",
    "x_min, x_max = np.min(X), np.max(X)\n",
    "y_min, y_max = np.min(Y), np.max(Y)\n",
    "\n",
    "all_state = self.sim.output.all_state['states']\n",
    "phi_1_dc = all_state[..., 2, 0]\n",
    "phi_2_dc = all_state[..., 3, 0]\n",
    "all_state = all_state[:, :, (0, 1), :]\n",
    "\n",
    "N, nsteps, N_dim = np.shape(all_state)[0], np.shape(all_state)[1], np.shape(all_state)[2]\n",
    "X, Y = X_mesh[0], X_mesh[1]\n",
    "which_axes = [np.s_[..., i, 0] for i in range(N_dim)]\n",
    "x_array = [all_state[item] for item in which_axes]\n",
    "x = x_array[0]\n",
    "y = x_array[1]\n",
    "state_lookup = separate_by_state(all_state, has_velocity = True)\n",
    "pColor = {\"00\": \"#3FC7F2\", \"01\": \"#FCEF51\", \"10\": \"#BEDC8C\", \"11\": \"#F7B6D2\"}\n",
    "pColor = {\"00\": \"#061DF7\", \"01\": \"#FCEF51\", \"10\": \"#3FC7F2\", \"11\": \"#F7B6D2\"}\n",
    "\n",
    "cont = ax.contourf(X, Y, U, 40, vmin = 0, vmax = 400, cmap = \"afmhot\")\n",
    "scat = [ax.scatter(x[state_lookup[key], 120], y[state_lookup[key], 120], c = pColor[key]) for key in state_lookup]"
   ]
  },
  {
   "cell_type": "code",
   "execution_count": null,
   "id": "86",
   "metadata": {},
   "outputs": [],
   "source": []
  },
  {
   "cell_type": "code",
   "execution_count": null,
   "id": "87",
   "metadata": {},
   "outputs": [],
   "source": []
  },
  {
   "cell_type": "code",
   "execution_count": null,
   "id": "88",
   "metadata": {},
   "outputs": [],
   "source": []
  },
  {
   "cell_type": "markdown",
   "id": "89",
   "metadata": {},
   "source": [
    "# phi_1dc, phi_2dc and gamma"
   ]
  },
  {
   "cell_type": "code",
   "execution_count": null,
   "id": "90",
   "metadata": {},
   "outputs": [],
   "source": [
    "general_analysis_tool = importlib.reload(general_analysis_tool)\n",
    "general_analysis_tool.show_phi_dc_with_time(simResult['cfqr'], params)"
   ]
  },
  {
   "cell_type": "code",
   "execution_count": null,
   "id": "91",
   "metadata": {},
   "outputs": [],
   "source": []
  },
  {
   "cell_type": "markdown",
   "id": "92",
   "metadata": {},
   "source": [
    "# save result"
   ]
  },
  {
   "cell_type": "code",
   "execution_count": null,
   "id": "93",
   "metadata": {},
   "outputs": [],
   "source": [
    "print(f\"current comment: {params['comment']}\")\n",
    "response = input(\"Are you happy with the current comment? If not, give me a new comment.\")\n",
    "if response == \"y\":\n",
    "    pass\n",
    "else:\n",
    "    params['comment'] = response"
   ]
  },
  {
   "cell_type": "code",
   "execution_count": null,
   "id": "94",
   "metadata": {},
   "outputs": [],
   "source": [
    "params['comment'] = \"test for save all_states\""
   ]
  },
  {
   "cell_type": "code",
   "execution_count": null,
   "id": "95",
   "metadata": {},
   "outputs": [],
   "source": [
    "cfq_batch_sweep.saveSimulationResult(simResult, U0_1, timeOrStep = 'step', save = True, save_final_state = False, saveFolderPath = \"coupled_flux_qubit_protocol/coupled_flux_qubit_data_gallery\", save_all_state = False)"
   ]
  },
  {
   "cell_type": "code",
   "execution_count": null,
   "id": "96",
   "metadata": {},
   "outputs": [],
   "source": []
  },
  {
   "cell_type": "markdown",
   "id": "97",
   "metadata": {},
   "source": [
    "# work_analysis"
   ]
  },
  {
   "cell_type": "code",
   "execution_count": null,
   "id": "98",
   "metadata": {},
   "outputs": [],
   "source": [
    "selected_work_distribution = simResult[\"work_distribution\"] < -0.2\n",
    "# selected_work_distribution = simResult[\"work_distribution\"] > 1.5\n",
    "# selected_work_distribution = np.logical_and(simResult[\"work_distribution\"] > -0.2, simResult[\"work_distribution\"] < 1.5)"
   ]
  },
  {
   "cell_type": "code",
   "execution_count": null,
   "id": "99",
   "metadata": {},
   "outputs": [],
   "source": []
  },
  {
   "cell_type": "code",
   "execution_count": null,
   "id": "100",
   "metadata": {},
   "outputs": [],
   "source": [
    "# animations\n",
    "vmin, vmax = 0, 100\n",
    "frame_skip = 1000\n",
    "# phi_1_dc, phi_2_dc = phi_1_dcx, phi_2_dcx\n",
    "particle_number = 0\n",
    "selected_particles = simResult[\"cfqr\"].sim.output.all_state[\"states\"][selected_work_distribution, ...]\n",
    "simResult[\"cfqr\"].system.protocol_list = protocol_list\n",
    "time_range = (computation_protocol_parameter_dict[\"t\"][0], computation_protocol_parameter_dict[\"t\"][-1])\n",
    "\n",
    "ani,_,_ = animate_sim_flux_qubit(selected_particles, system = simResult[\"cfqr\"].system ,\n",
    "                                   times = time_range, frame_skip=frame_skip, color_by_state=True,\n",
    "                                   vmin = vmin, vmax = vmax,\n",
    "                                   manual_domain = manual_domain)"
   ]
  },
  {
   "cell_type": "code",
   "execution_count": null,
   "id": "101",
   "metadata": {},
   "outputs": [],
   "source": [
    "# from IPython.display import HTML\n",
    "from IPython import display\n",
    "video = ani.to_html5_video()\n",
    "html = display.HTML(video)\n",
    "display.display(html)"
   ]
  },
  {
   "cell_type": "code",
   "execution_count": null,
   "id": "102",
   "metadata": {},
   "outputs": [],
   "source": []
  },
  {
   "cell_type": "code",
   "execution_count": null,
   "id": "103",
   "metadata": {},
   "outputs": [],
   "source": [
    "step_time_array = np.array(simResult[\"cfqr\"].sim.output.all_state[\"step_indices\"]) * params['dt']\n",
    "potential_array = []\n",
    "for _index, _t in enumerate(step_time_array):\n",
    "    _params_at_t = simResult['cfqr'].system.protocol.get_params(_t)\n",
    "    def cfq_potential(state):\n",
    "        # print(state)\n",
    "        phi_1, phi_2, phi_1dc, phi_2dc = state\n",
    "        return coupled_flux_qubit_non_linear_approx_pot(phi_1, phi_2, phi_1dc, phi_2dc, _params_at_t)\n",
    "    vectorized_cfq_potential = np.vectorize(cfq_potential, signature='(4)->()')\n",
    "    potential_array.append(vectorized_cfq_potential(selected_particles[:, _index, :, 0]))\n",
    "    \n",
    "    "
   ]
  },
  {
   "cell_type": "code",
   "execution_count": null,
   "id": "104",
   "metadata": {},
   "outputs": [],
   "source": [
    "plt.plot(potential_array)\n",
    "plt.show()"
   ]
  },
  {
   "cell_type": "code",
   "execution_count": null,
   "id": "105",
   "metadata": {},
   "outputs": [],
   "source": []
  },
  {
   "cell_type": "code",
   "execution_count": null,
   "id": "106",
   "metadata": {},
   "outputs": [],
   "source": []
  },
  {
   "cell_type": "code",
   "execution_count": null,
   "id": "107",
   "metadata": {},
   "outputs": [],
   "source": []
  },
  {
   "cell_type": "code",
   "execution_count": null,
   "id": "108",
   "metadata": {},
   "outputs": [],
   "source": []
  },
  {
   "cell_type": "code",
   "execution_count": null,
   "id": "109",
   "metadata": {},
   "outputs": [],
   "source": [
    "protocol_time_array, protocol_time_index_array = cfqr.createProtocolTimeArray(protocol_list, params)\n",
    "protocol_all_time_index_array = np.array(range(0, int(np.array(protocol_time_array[-1]) / params['dt']) + 1))\n",
    "protocol_all_time_array  = protocol_all_time_index_array * params['dt']"
   ]
  },
  {
   "cell_type": "code",
   "execution_count": null,
   "id": "110",
   "metadata": {},
   "outputs": [],
   "source": [
    "minimum_value_data_points = []\n",
    "importlib.reload(minimum_value_of_potential)\n",
    "for t in protocol_all_time_array[::1000]:\n",
    "    minimum_value_data = minimum_value_of_potential.find_minimum_for_all_potential_2(cfqr, t,  beta_1, beta_2, d_beta_1, d_beta_2, verbose = False)\n",
    "    minimum_value_data_points.append(minimum_value_data[1])"
   ]
  },
  {
   "cell_type": "code",
   "execution_count": null,
   "id": "111",
   "metadata": {},
   "outputs": [],
   "source": [
    "minimum_value_of_potential = importlib.reload(minimum_value_of_potential)"
   ]
  },
  {
   "cell_type": "code",
   "execution_count": null,
   "id": "112",
   "metadata": {
    "tags": []
   },
   "outputs": [],
   "source": [
    "minimum_value_data_points = np.array(minimum_value_data_points)"
   ]
  },
  {
   "cell_type": "code",
   "execution_count": null,
   "id": "113",
   "metadata": {},
   "outputs": [],
   "source": [
    "offset_value = minimum_value_data_points[1:] - minimum_value_data_points[:-1]"
   ]
  },
  {
   "cell_type": "code",
   "execution_count": null,
   "id": "114",
   "metadata": {},
   "outputs": [],
   "source": []
  },
  {
   "cell_type": "code",
   "execution_count": null,
   "id": "115",
   "metadata": {},
   "outputs": [],
   "source": [
    "all_minimum_value_at_t = []\n",
    "\n",
    "for t in protocol_time_array:\n",
    "    minimum_value_data = minimum_value_of_potential.find_all_minimum_points_for_all_potential(cfqr, t,  beta_1, beta_2, d_beta_1, d_beta_2, verbose = False, guess=[[-2, -2], [-2, 2], [2, -2], [2, 2]])\n",
    "    all_minimum_value_at_t.append([minimum_value_data, t])"
   ]
  },
  {
   "cell_type": "code",
   "execution_count": null,
   "id": "116",
   "metadata": {},
   "outputs": [],
   "source": [
    "all_minimum_value_at_t"
   ]
  },
  {
   "cell_type": "code",
   "execution_count": null,
   "id": "117",
   "metadata": {},
   "outputs": [],
   "source": []
  },
  {
   "cell_type": "code",
   "execution_count": null,
   "id": "118",
   "metadata": {},
   "outputs": [],
   "source": []
  },
  {
   "cell_type": "code",
   "execution_count": null,
   "id": "119",
   "metadata": {},
   "outputs": [],
   "source": [
    "plt.plot(minimum_value_data_points)"
   ]
  },
  {
   "cell_type": "code",
   "execution_count": null,
   "id": "120",
   "metadata": {},
   "outputs": [],
   "source": [
    "plt.plot(protocol_all_time_array[::10], minimum_value_data_points)"
   ]
  },
  {
   "cell_type": "code",
   "execution_count": null,
   "id": "121",
   "metadata": {},
   "outputs": [],
   "source": []
  },
  {
   "cell_type": "code",
   "execution_count": null,
   "id": "122",
   "metadata": {},
   "outputs": [],
   "source": [
    "protocol_time_array"
   ]
  },
  {
   "cell_type": "code",
   "execution_count": null,
   "id": "123",
   "metadata": {},
   "outputs": [],
   "source": []
  },
  {
   "cell_type": "code",
   "execution_count": null,
   "id": "124",
   "metadata": {},
   "outputs": [],
   "source": []
  },
  {
   "cell_type": "code",
   "execution_count": null,
   "id": "125",
   "metadata": {},
   "outputs": [],
   "source": []
  },
  {
   "cell_type": "markdown",
   "id": "126",
   "metadata": {},
   "source": [
    "# one particle work done"
   ]
  },
  {
   "cell_type": "code",
   "execution_count": null,
   "id": "127",
   "metadata": {},
   "outputs": [],
   "source": [
    "selected_particles  = simResult[\"cfqr\"].sim.output.all_state[\"states\"][0, :, :, 0]\n",
    "N_step_number, _ = selected_particles.shape\n",
    "step_time_array = np.array(simResult[\"cfqr\"].sim.output.all_state[\"step_indices\"]) * params['dt']"
   ]
  },
  {
   "cell_type": "code",
   "execution_count": null,
   "id": "128",
   "metadata": {
    "tags": []
   },
   "outputs": [],
   "source": [
    "simResult[\"work_distribution\"]"
   ]
  },
  {
   "cell_type": "code",
   "execution_count": null,
   "id": "129",
   "metadata": {},
   "outputs": [],
   "source": [
    "break_down_potential_categories = [\"u1_1\", \"u2_1\",  \"u3_1\", \"u4_1\", \"u1_2\", \"u2_2\", \"u3_2\", \"u4_2\", \"u5\"]\n",
    "U_a = np.zeros([N_step_number-1, len(break_down_potential_categories)]) \n",
    "U_b = np.zeros([N_step_number-1, len(break_down_potential_categories)] )"
   ]
  },
  {
   "cell_type": "code",
   "execution_count": null,
   "id": "130",
   "metadata": {},
   "outputs": [],
   "source": [
    "U_a.shape"
   ]
  },
  {
   "cell_type": "code",
   "execution_count": null,
   "id": "131",
   "metadata": {},
   "outputs": [],
   "source": [
    "def findPotential(cfqr, _t, state):\n",
    "    _params_at_t = cfqr.system.protocol.get_params(_t)\n",
    "    def cfq_potential(state):\n",
    "        phi_1, phi_2, phi_1dc, phi_2dc = state\n",
    "        return coupled_flux_qubit_non_linear_approx_pot_break_down(phi_1, phi_2, phi_1dc, phi_2dc, _params_at_t)\n",
    "    return np.array(list(cfq_potential(state).values()))"
   ]
  },
  {
   "cell_type": "code",
   "execution_count": null,
   "id": "132",
   "metadata": {},
   "outputs": [],
   "source": [
    "\n",
    "\n",
    "for i in range(1, len(step_time_array)):\n",
    "    # print(step_time_array[i], selected_particles[i, :])\n",
    "    U_a[i-1] = findPotential(simResult[\"cfqr\"], step_time_array[i], selected_particles[i-1, :])\n",
    "    # U_a[i-1] = findPotential(simResult[\"cfqr\"], step_time_array[i], selected_particles[i-1, :])\n",
    "    U_b[i-1] = findPotential(simResult[\"cfqr\"],  step_time_array[i-1], selected_particles[i-1, :])"
   ]
  },
  {
   "cell_type": "code",
   "execution_count": null,
   "id": "133",
   "metadata": {},
   "outputs": [],
   "source": []
  },
  {
   "cell_type": "code",
   "execution_count": null,
   "id": "134",
   "metadata": {},
   "outputs": [],
   "source": []
  },
  {
   "cell_type": "code",
   "execution_count": null,
   "id": "135",
   "metadata": {},
   "outputs": [],
   "source": [
    "u1_1, u2_1, u3_1, u4_1, u1_2, u2_2, u3_2, u4_2, u5 = [U_a[:, i] for i in range(0, 9)]\n"
   ]
  },
  {
   "cell_type": "code",
   "execution_count": null,
   "id": "136",
   "metadata": {},
   "outputs": [],
   "source": [
    "# plt.plot(u1_1)\n",
    "# plt.plot(u2_1)\n",
    "# plt.plot(u3_1)\n",
    "# plt.plot(u4_1)\n"
   ]
  },
  {
   "cell_type": "code",
   "execution_count": null,
   "id": "137",
   "metadata": {},
   "outputs": [],
   "source": [
    "np.sum(U_a - U_b)"
   ]
  },
  {
   "cell_type": "code",
   "execution_count": null,
   "id": "138",
   "metadata": {},
   "outputs": [],
   "source": [
    "step_time_array[1:].shape"
   ]
  },
  {
   "cell_type": "code",
   "execution_count": null,
   "id": "139",
   "metadata": {},
   "outputs": [],
   "source": [
    "selected_particles.shape"
   ]
  },
  {
   "cell_type": "code",
   "execution_count": null,
   "id": "140",
   "metadata": {},
   "outputs": [],
   "source": []
  },
  {
   "cell_type": "code",
   "execution_count": null,
   "id": "141",
   "metadata": {},
   "outputs": [],
   "source": [
    "np.zeros((max(100, int(2*NT)), self.potential.N_dim, 2))"
   ]
  },
  {
   "cell_type": "code",
   "execution_count": null,
   "id": "142",
   "metadata": {},
   "outputs": [],
   "source": []
  }
 ],
 "metadata": {
  "kernelspec": {
   "display_name": "Python 3 (ipykernel)",
   "language": "python",
   "name": "python3"
  },
  "language_info": {
   "codemirror_mode": {
    "name": "ipython",
    "version": 3
   },
   "file_extension": ".py",
   "mimetype": "text/x-python",
   "name": "python",
   "nbconvert_exporter": "python",
   "pygments_lexer": "ipython3",
   "version": "3.10.9"
  }
 },
 "nbformat": 4,
 "nbformat_minor": 5
}
