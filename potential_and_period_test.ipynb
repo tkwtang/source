{
 "cells": [
  {
   "cell_type": "code",
   "execution_count": null,
   "id": "0",
   "metadata": {},
   "outputs": [],
   "source": [
    "%load_ext autotime    "
   ]
  },
  {
   "cell_type": "code",
   "execution_count": null,
   "id": "1",
   "metadata": {
    "tags": []
   },
   "outputs": [],
   "source": [
    "import numpy as np\n",
    "import importlib, os, datetime, pickle\n",
    "from sus.protocol_designer import System, Protocol, Potential, Compound_Protocol\n",
    "from sus.protocol_designer.protocol import sequential_protocol\n",
    "from IPython import display\n",
    "from IPython.display import HTML, Image\n",
    "import matplotlib.animation as animation\n",
    "from matplotlib.animation import FuncAnimation, PillowWriter\n",
    "from quick_sim import setup_sim\n",
    "\n",
    "# import edward_tools.fq_runner as fq_runner\n",
    "from edward_tools.coupled_fq_potential import coupled_flux_qubit_non_linear_approx_pot, coupled_flux_qubit_non_linear_approx_force\n",
    "from edward_tools.visualization import animate_sim_flux_qubit, plotFidelityBarChart, separate_by_state_2\n",
    "from edward_tools.initial_state_sampling import extra_constraint_00_and_11_only\n",
    "from NAND_PARAMETERS import *\n",
    "import importlib\n",
    "\n",
    "import kyle_tools as kt\n",
    "import matplotlib.pyplot as plt\n",
    "\n",
    "\n",
    "from edward_tools import coupled_fq_protocol_library, cfq_runner\n",
    "from edward_tools import coupled_fq_protocol_library\n",
    "\n",
    "import edward_tools.cfq_batch_sweep as cfq_batch_sweep\n",
    "import edward_tools.Analysis_tool.general_analysis_tools as general_analysis_tool\n",
    "# from edward_tools.Analysis_tool.general_analysis_tools import show_phi_dc_with_time\n",
    "import edward_tools.Analysis_tool.minimum_value_of_potential as minimum_value_of_potential\n",
    "from edward_tools.couple_flux_qubit_metrics import fidelityEvaluation\n",
    "from edward_tools import visualization\n",
    "\n",
    "from edward_tools.pot_analysis_helper_functions import get_XYU, pot_function, find_all_critical_points_for_all_potential\n",
    "\n",
    "coupled_fq_protocol_library = importlib.reload(coupled_fq_protocol_library)\n",
    "create_system = coupled_fq_protocol_library.create_system\n",
    "get_potential_shot_at_different_t = coupled_fq_protocol_library.get_potential_shot_at_different_t\n",
    "get_potential_shot_at_different_t_1D = coupled_fq_protocol_library.get_potential_shot_at_different_t_1D\n",
    "create_simple_protocol_parameter_dict = coupled_fq_protocol_library.create_simple_protocol_parameter_dict\n",
    "coupled_fq_runner = importlib.reload(cfq_runner)\n",
    "coupled_fq_protocol_library = importlib.reload(coupled_fq_protocol_library)\n",
    "create_system = coupled_fq_protocol_library.create_system\n",
    "get_potential_along_a_1D_cutline = coupled_fq_protocol_library.get_potential_along_a_1D_cutline\n",
    "plotCutlines = coupled_fq_protocol_library.plotCutlines"
   ]
  },
  {
   "cell_type": "code",
   "execution_count": null,
   "id": "2",
   "metadata": {},
   "outputs": [],
   "source": [
    "    \n",
    "fig = plt.figure(figsize= [20, 10])\n",
    "ax_0, ax_1, ax_2, ax_3 = fig.add_subplot(2, 4, 1), fig.add_subplot(2, 4, 2), fig.add_subplot(2, 4, 3), fig.add_subplot(2, 4, 4)\n",
    "ax_4, ax_5, ax_6, ax_7 = fig.add_subplot(2, 4, 5), fig.add_subplot(2, 4, 6), fig.add_subplot(2, 4, 7), fig.add_subplot(2, 4, 8) \n",
    "plt.close()"
   ]
  },
  {
   "cell_type": "code",
   "execution_count": null,
   "id": "3",
   "metadata": {},
   "outputs": [],
   "source": [
    "def create_parameter_list(cfqr, _protocol):\n",
    "    params_list_used = cfqr.protocol.get_params(0)\n",
    "    params_list_used[8] = _protocol['phi_1x'] # phi_1x\n",
    "    params_list_used[9] = _protocol['phi_2x'] # phi_2x\"\n",
    "    params_list_used[10] = _protocol['phi_1xdc'] # phi_1xdc\n",
    "    params_list_used[11] = _protocol['phi_2xdc'] # phi_2xdc\n",
    "    params_list_used[12] = _protocol['mu_12'] # mu\n",
    "    return params_list_used"
   ]
  },
  {
   "cell_type": "code",
   "execution_count": null,
   "id": "4",
   "metadata": {},
   "outputs": [],
   "source": []
  },
  {
   "cell_type": "markdown",
   "id": "5",
   "metadata": {
    "tags": []
   },
   "source": [
    "# parameters"
   ]
  },
  {
   "cell_type": "markdown",
   "id": "6",
   "metadata": {},
   "source": [
    "### circuit parameters"
   ]
  },
  {
   "cell_type": "code",
   "execution_count": null,
   "id": "7",
   "metadata": {},
   "outputs": [],
   "source": [
    "circuit_params_from_Chris = {\n",
    "    \"L\": 5e-12 * 1, \"T\":4.2, \"L_factor\": 1, \n",
    "    \"beta\": 2.3, \"d_beta\": 0,\n",
    "    \"phi_1x\": 0.61,   \"phi_2x\": 0.10, \"phi_1xdc\": 0, \"phi_2xdc\": 1.79, \"mu_12\": 0.06\n",
    "}\n",
    "\n",
    "\n",
    "circuit_params_chosen = circuit_params_from_Chris\n",
    "experiment_comment = \"Experiment 3 (2024-10-22): Failed KE extraction protocol simulation for Kyle's animation\"\n",
    "\n",
    "phi_1x_on_12, phi_2x_on_12, phi_1xdc_on_12, phi_2xdc_on_12, phi_1x_on_21, phi_2x_on_21, phi_1xdc_on_21, phi_2xdc_on_21, mu_12_on, four_well, CE_1, CE_5, CE_8, lower_H_wells, flip_H, lower_V_wells, flip_V, KE_extraction_protocol_for_CE_1, KE_extraction_protocol_for_CE_8 = generate_protocols_from_circuit_params(circuit_params_chosen)"
   ]
  },
  {
   "cell_type": "code",
   "execution_count": null,
   "id": "8",
   "metadata": {
    "tags": []
   },
   "outputs": [],
   "source": [
    "has_velocity = True\n",
    "\n",
    "PHI_0 = 2.067833848 * 1e-15\n",
    "k_B = 1.38e-23\n",
    "T = circuit_params_chosen[\"T\"]\n",
    "k_BT = k_B * T\n",
    "\n",
    "C_factor = 1\n",
    "L_factor = circuit_params_chosen['L_factor']\n",
    "R_factor = 80\n",
    "# I_m_factor = 50\n",
    "# I_m_factor = 15\n",
    "I_m_factor = 0\n",
    "time_scale = 1.0\n",
    "\n",
    "I_p_1, I_p_2 = 5e-6 , 5e-6  # Amp\n",
    "I_m_1, I_m_2 = 7e-9 * I_m_factor, 7e-9 * I_m_factor                           # Amp\n",
    "R_1, R_2 = 1 * R_factor, 1 * R_factor                                         # ohm\n",
    "C_1, C_2 = 500e-15 * C_factor, 500e-15 * C_factor                             # F\n",
    "\n",
    "L_1, L_2 = 140e-12 * L_factor, 140e-12 * L_factor                             # H \n",
    "L_1, L_2 = 5e-12 * L_factor, 5e-12 * L_factor                             # H \n",
    "freq = 1/np.sqrt(C_1 * L_1)\n",
    "characteristic_time = np.sqrt(C_1 * C_factor * L_1 * L_factor)"
   ]
  },
  {
   "cell_type": "code",
   "execution_count": null,
   "id": "9",
   "metadata": {
    "tags": []
   },
   "outputs": [],
   "source": [
    "m_c, m_1, m_2 = C_1, C_1, C_2\n",
    "x_c = PHI_0 / (2 * np.pi)\n",
    "time_scale_factor = 1\n",
    "t_c = np.sqrt(L_1 * C_1)\n",
    "v_c = x_c / t_c\n",
    "\n",
    "U0_1 = m_c * x_c**2 / t_c**2 / k_BT\n",
    "U0_2 = m_2 * x_c**2 / t_c**2 / k_BT\n",
    "kappa_1, kappa_2, kappa_3, kappa_4 = 1/U0_1, 1/U0_1, 1/U0_1, 1/U0_1\n",
    "\n",
    "lambda_1 = 2 * np.sqrt(L_1 * C_1) / (C_1 * R_1)\n",
    "theta_1  = 1\n",
    "eta_1    = np.sqrt(np.sqrt(L_1 * C_1)/ (R_1 * C_1)) * np.sqrt(2 * kappa_1 / 1**2)\n",
    "\n",
    "lambda_2 = 2 * np.sqrt(L_1 * C_1) / (C_2 * R_2)\n",
    "theta_2  = 1 / (C_2/C_1)\n",
    "eta_2    = np.sqrt(np.sqrt(L_1 * C_1)/ (R_1 * C_1)) * np.sqrt(2 * kappa_2 * (R_1 * C_1**2) / (R_2 * C_2**2))\n",
    "\n",
    "lambda_3 = 2 * np.sqrt(L_1 * C_1) / (C_1 * R_1)\n",
    "theta_3  = 4\n",
    "eta_3    = np.sqrt(np.sqrt(L_1 * C_1)/ (R_1 * C_1)) * np.sqrt(8 * kappa_3)\n",
    "\n",
    "lambda_4 = 2 * np.sqrt(L_1 * C_1) / (C_2 * R_2)\n",
    "theta_4  = 4 / (C_2/C_1)\n",
    "eta_4    = np.sqrt(np.sqrt(L_1 * C_1)/ (R_1 * C_1)) * np.sqrt(8 * kappa_4 * (R_1 * C_1**2) / (R_2 * C_2**2))\n",
    "\n",
    "gamma = 10\n",
    "\n",
    "beta_1 = 2 * np.pi * L_1 * I_p_1 / PHI_0; \n",
    "beta_2 = 2 * np.pi * L_2 * I_p_2 / PHI_0;\n",
    "\n",
    "beta_1, beta_2 = [2.0]*2\n",
    "d_beta_1, d_beta_2 = 2 * np.pi * L_1 * I_m_1 / PHI_0, 2 * np.pi * L_2 * I_m_2 / PHI_0\n",
    "\n",
    "\n",
    "_damping_factor = 1\n",
    "_lambda = np.array([lambda_1, lambda_2, lambda_3, lambda_4])\n",
    "_theta  = np.array([theta_1, theta_2, theta_3, theta_4])\n",
    "_eta  =   np.array([eta_1, eta_2, eta_3, eta_4])\n",
    "\n",
    "v_1 = np.random.normal(0, np.sqrt(k_BT/m_1)) / v_c\n",
    "v_2 = np.random.normal(0, np.sqrt(k_BT/m_2)) / v_c\n",
    "v_3 = np.random.normal(0, np.sqrt(k_BT/(m_1/4))) / v_c\n",
    "v_4 = np.random.normal(0, np.sqrt(k_BT/(m_2/4))) / v_c"
   ]
  },
  {
   "cell_type": "code",
   "execution_count": null,
   "id": "10",
   "metadata": {
    "tags": []
   },
   "outputs": [],
   "source": [
    "print(f\"L_1 = {L_1 * 1e12:.3g}pH, T = {T}K, U0_1 = {U0_1}\")\n",
    "print(f\"freq = {freq / 1e9:.3g}GHz\")\n",
    "print(characteristic_time)\n",
    "print(U0_1)"
   ]
  },
  {
   "cell_type": "code",
   "execution_count": null,
   "id": "11",
   "metadata": {},
   "outputs": [],
   "source": []
  },
  {
   "cell_type": "code",
   "execution_count": null,
   "id": "12",
   "metadata": {},
   "outputs": [],
   "source": []
  },
  {
   "cell_type": "code",
   "execution_count": null,
   "id": "13",
   "metadata": {},
   "outputs": [],
   "source": [
    "\n",
    "def plot_3_well_potential(protocol_list, left_y_range, right_y_range, bottom_left_x_range = [-4, 4], bottom_right_x_range = [-4, 4], bottom_left_y_range = [-50, 500], bottom_right_y_range = [-50, 500], contour_x_range = [-4, 4], contour_y_range = [-4, 4], beta = beta_1, d_beta = 0, phi_2_left_fixed = -2.1, phi_2_right_fixed = 2.0, set_same_min = False):\n",
    "    phi_2_array = np.linspace(-4, 4, 1000)\n",
    "    params_list_used = cfqr.protocol.get_params(0)\n",
    "    fig = plt.figure(figsize= [15, 7.5])\n",
    "    ax_0, ax_1, ax_2, ax_3 = fig.add_subplot(2, 4, 1), fig.add_subplot(2, 4, 2), fig.add_subplot(2, 4, 3), fig.add_subplot(2, 4, 4)\n",
    "    ax_4, ax_5, ax_6, ax_7 = fig.add_subplot(2, 4, 5), fig.add_subplot(2, 4, 6), fig.add_subplot(2, 4, 7), fig.add_subplot(2, 4, 8) \n",
    "\n",
    "    critical_point_list = []\n",
    "    color_code = []\n",
    "\n",
    "    X, Y = np.meshgrid(phi_2_array, phi_2_array)\n",
    "    \n",
    "    for _protocol in protocol_list:\n",
    "        name     = _protocol['name']\n",
    "        _protocol['beta'], _protocol['d_beta'] = beta, d_beta\n",
    "\n",
    "        critical_points = find_all_critical_points_for_all_potential(_protocol, guess = [(-2, -2), (-2, 2), (3, -3), (2, 2)])\n",
    "        critical_point_list.append(critical_points)\n",
    "        params_list_used[4], params_list_used[5] = beta, beta # phi_1x\n",
    "        params_list_used[8] = _protocol['phi_1x'] # phi_1x\n",
    "        params_list_used[9] = _protocol['phi_2x'] # phi_2x\"\n",
    "        params_list_used[10] = _protocol['phi_1xdc'] # phi_1xdc\n",
    "        params_list_used[11] = _protocol['phi_2xdc'] # phi_2xdc\n",
    "        params_list_used[12] = _protocol['mu_12'] # mu\n",
    "\n",
    "        params_at_t_str = [f\"{key}: {value:.3g}\" for key, value in zip(cfqr.protocol_key[-6:-1], params_list_used[-6:-1])]\n",
    "        fig.suptitle(f\"phi_1xdc = {params_list_used[10]:.3g}, phi_2xdc = {params_list_used[11]:.3g}, phi_1x = {params_list_used[8]:.3g}, phi_2x = {params_list_used[9]:.3g}, mu = {params_list_used[12]:.3g}\") \n",
    "\n",
    "        potential_min = []\n",
    "        U = cfqr.potential.potential(X, Y, _protocol['phi_1xdc'], _protocol['phi_2xdc'], params_list_used)\n",
    "        potential = cfqr.potential.potential(phi_2_left_fixed, phi_2_array,  _protocol['phi_1xdc'], _protocol['phi_2xdc'], params_list_used)\n",
    "        # print(potential)\n",
    "        color_code.append(_protocol['color'])\n",
    "        ax_0.plot(phi_2_array, potential, label = f\"{name}\", c = _protocol['color'], linestyle = _protocol['linestyle'])\n",
    "        ax_4.plot(phi_2_array, potential - min(potential), label = f\"{name}\", c = _protocol['color'], linestyle = _protocol['linestyle'])\n",
    "\n",
    "        potential = cfqr.potential.potential(phi_2_right_fixed, phi_2_array, _protocol['phi_1xdc'], _protocol['phi_2xdc'], params_list_used)\n",
    "        ax_2.plot(phi_2_array, potential, label = f\"{name}\", c = _protocol['color'], linestyle = _protocol['linestyle'])\n",
    "        ax_6.plot(phi_2_array, potential - min(potential), label = f\"{name}\", c = _protocol['color'], linestyle = _protocol['linestyle'])\n",
    "\n",
    "        ax_0.set_xlim(-4, 4)\n",
    "        ax_0.set_ylim(left_y_range[0], left_y_range[1])\n",
    "        ax_4.set_xlim(bottom_left_x_range[0], bottom_left_x_range[1])\n",
    "        ax_4.set_ylim(bottom_left_y_range[0], bottom_left_y_range[1])\n",
    "\n",
    "\n",
    "        ax_2.set_xlim(-4, 4)\n",
    "        ax_2.set_ylim(right_y_range[0], right_y_range[1])\n",
    "        ax_6.set_xlim(bottom_right_x_range[0], bottom_right_x_range[1])\n",
    "        ax_6.set_ylim(bottom_right_y_range[0], bottom_right_y_range[1])\n",
    "        ax_0.legend()\n",
    "        \n",
    "\n",
    "    ax_1.contourf(X, Y, U, 30)\n",
    "    ax_3.contourf(X, Y, U, 30)\n",
    "    ax_1.vlines(x=phi_2_left_fixed, ymin = -4, ymax = 4, color = \"red\")\n",
    "    ax_3.vlines(x=phi_2_right_fixed, ymin = -4, ymax = 4, color = \"red\")\n",
    "\n",
    "    ax_5.contourf(X, Y, U, 30)\n",
    "    ax_7.contourf(X, Y, U, 30)\n",
    "\n",
    "    \n",
    "    for critical_point_info, _c in zip(critical_point_list, color_code):\n",
    "        for (_x, _y) in critical_point_info['coord']:\n",
    "            ax_1.scatter(_x, _y, color = _c)\n",
    "            ax_3.scatter(_x, _y, color = _c)\n",
    "            ax_5.scatter(_x, _y, color = _c)\n",
    "            ax_7.scatter(_x, _y, color = _c)\n",
    "    \n",
    "    ax_5.set_xlim(*contour_x_range)\n",
    "    ax_7.set_xlim(*contour_x_range)\n",
    "    ax_5.set_ylim(*contour_y_range)\n",
    "    ax_7.set_ylim(*contour_y_range)\n",
    "\n",
    "    plt.show() \n",
    "    return critical_point_list"
   ]
  },
  {
   "cell_type": "markdown",
   "id": "14",
   "metadata": {},
   "source": [
    "### parameter setting"
   ]
  },
  {
   "cell_type": "code",
   "execution_count": null,
   "id": "15",
   "metadata": {
    "tags": []
   },
   "outputs": [],
   "source": [
    "\"\"\"\n",
    "# step 0: modify parameters\n",
    "- All the parameters are stored in a separate file PARAMETER_INPUT\n",
    "- You can override some of the parameters here.\n",
    "\"\"\"\n",
    "params = {}\n",
    "params['N'] = 1000\n",
    "params['dt'] = 1/100\n",
    "params['lambda'] = 1\n",
    "params['beta'] = 1\n",
    "params['sim_params'] = [_lambda, _theta, _eta]\n",
    "params['target_work'] = None\n",
    "params['applyOffset'] = False\n",
    "params['measureWorkWithOffset'] = True\n",
    "params['monitor_work_dist_in_whole_process'] = True # To monitor the work process\n",
    "params['comment'] = experiment_comment\n",
    "params['capacitance'] = np.array([C_1, C_2, C_1/4, C_2/4])\n",
    "params['mass'] = np.array([1, 1, 1/4, 1/4])\n",
    "params['v_c'] = x_c/t_c\n",
    "params['k_BT'] = k_BT\n",
    "params['U0'] = U0_1\n",
    "params['as_step'] = np.s_[::10] # the time step to skep for the all_state\n",
    "params['percentage'] = 1 # For what percentage of the total sample do you want to keep in the output all_state\n"
   ]
  },
  {
   "cell_type": "code",
   "execution_count": null,
   "id": "16",
   "metadata": {
    "tags": []
   },
   "outputs": [],
   "source": [
    "\"\"\"\n",
    "# step 2: Define initial condition and protocol\n",
    "\"\"\"\n",
    "manual_domain=[np.array([-10, -10]), np.array([10, 10])]\n",
    "\n",
    "\n",
    "\n",
    "phi_1x_init = 0.0\n",
    "phi_2x_init = 0.032\n",
    "mu_12_init = 0.016\n",
    "phi_1xdc_init = 0.0\n",
    "phi_2xdc_init =  1.8\n",
    "\n",
    "initial_parameter_dict = {\n",
    "        \"U0_1\": U0_1,     \"U0_2\": U0_2,     \"gamma_1\": gamma,  \"gamma_2\": gamma,\n",
    "        \"beta_1\": beta_1,   \"beta_2\": beta_2,   \"d_beta_1\": d_beta_1 ,   \"d_beta_2\": d_beta_2,\n",
    "        \"phi_1x\": phi_1x_init,  \"phi_2x\": phi_2x_init,  \"phi_1xdc\": phi_1xdc_init,  \"phi_2xdc\": phi_2xdc_init,\n",
    "        \"mu_12\": mu_12_init, 'x_c': x_c\n",
    "}\n",
    "\n"
   ]
  },
  {
   "cell_type": "code",
   "execution_count": null,
   "id": "17",
   "metadata": {
    "tags": []
   },
   "outputs": [],
   "source": [
    "\"\"\"\n",
    "# step 1: Define potential\n",
    "\"\"\"\n",
    "coupled_fq_default_param = [1, 1, 0, 0, 0, 0, 0, 0, 0, 0, 0, 0, 0, x_c]\n",
    "[phi_1_bound, phi_2_bound, phi_1dc_bound, phi_2dc_bound] = np.array([4, 4, 4, 4])/time_scale_factor\n",
    "contour_range = [300, 2000]\n",
    "    \n",
    "coupled_fq_domain = [[-phi_1_bound, -phi_2_bound, -phi_1dc_bound, -phi_2dc_bound], \\\n",
    "                     [phi_1_bound, phi_2_bound, phi_1dc_bound, phi_2dc_bound]]\n",
    "\n",
    "coupled_fq_pot = Potential(coupled_flux_qubit_non_linear_approx_pot, coupled_flux_qubit_non_linear_approx_force, 14, 4,\\\n",
    "                           default_params = initial_parameter_dict,  relevant_domain = coupled_fq_domain)"
   ]
  },
  {
   "cell_type": "code",
   "execution_count": null,
   "id": "18",
   "metadata": {},
   "outputs": [],
   "source": []
  },
  {
   "cell_type": "markdown",
   "id": "19",
   "metadata": {},
   "source": [
    "### protocol setting"
   ]
  },
  {
   "cell_type": "code",
   "execution_count": null,
   "id": "20",
   "metadata": {
    "tags": []
   },
   "outputs": [],
   "source": [
    "zeroDissipation = False\n",
    "# zeroDissipation = True\n",
    "\n",
    "saveAllStates = True\n",
    "\n",
    "params['sim_params'] = [_lambda, _theta, _eta]\n",
    "\n",
    "if zeroDissipation:\n",
    "    params['sim_params'] = [_lambda * 0, _theta, _eta * 0]\n",
    "\n",
    "params['circuit_parameters'] = {\n",
    "    \"C_factor\":C_factor, \"L_factor\": L_factor, \"R_factor\": R_factor, \"I_m_factor\": I_m_factor, \"T\": T, \n",
    "    \"I_p_1\": I_p_1, \"I_p_2\": I_p_2, \"I_m_1\": I_m_1, \"I_m_2\": I_m_2,\n",
    "    \"R_1\": R_1, \"R_2\": R_2, \"C_1\": C_1, \"C_2\": C_2, \"L_1\": L_1, \"L_2\": L_2, \n",
    "    \"characteristic_time\": np.sqrt(C_1 * C_factor * L_1 * L_factor),\n",
    "    \"phi_1x_on\": phi_1x_on_12, \"phi_2x_on\": phi_2x_on_12,\n",
    "    \"phi_1xdc_on\": phi_1xdc_on_12, \"phi_2xdc_on\": phi_2xdc_on_12, \"mu_12_on\": mu_12_on,\n",
    "    \"gamma\": gamma\n",
    "}\n",
    "\n",
    "\n",
    "initial_state_used_choice = [\"four_well\", \"after_CE_8_completed\"]\n",
    "\n",
    "# bookmark\n",
    "# initial_parameter_dict[\"phi_1xdc\"] = 0\n",
    "# initial_parameter_dict[\"phi_2xdc\"] = 0\n",
    "# initial_parameter_dict[\"phi_1x\"]   = 0\n",
    "# initial_parameter_dict[\"phi_2x\"]   = 0\n",
    "# initial_parameter_dict[\"mu_12\"]      = 0"
   ]
  },
  {
   "cell_type": "code",
   "execution_count": null,
   "id": "21",
   "metadata": {},
   "outputs": [],
   "source": []
  },
  {
   "cell_type": "markdown",
   "id": "22",
   "metadata": {},
   "source": [
    "### modify the protocol"
   ]
  },
  {
   "cell_type": "code",
   "execution_count": null,
   "id": "23",
   "metadata": {
    "tags": []
   },
   "outputs": [],
   "source": [
    "mapping_state_1_to_state_2_dict_SWAP = {'00': ['01'], '01': ['00'], '10': ['10'], '11': ['11']}\n",
    "mapping_state_1_to_state_2_dict_CE = {'00': ['01'], '01': ['01'], '10': ['10'], '11': ['11']}\n",
    "mapping_state_1_to_state_2_dict_storage = {'00': ['00'], '01': ['01'], '10': ['10'], '11': ['11']}\n",
    "mapping_dict = mapping_state_1_to_state_2_dict_storage"
   ]
  },
  {
   "cell_type": "markdown",
   "id": "24",
   "metadata": {},
   "source": [
    "## acceleration protocol"
   ]
  },
  {
   "cell_type": "code",
   "execution_count": null,
   "id": "25",
   "metadata": {},
   "outputs": [],
   "source": [
    "def pot_function(circuit_params, _phi_1dc = 0, _phi_2dc = 0, U_ratio = U0_1):\n",
    "    _phi_1x = circuit_params[\"phi_1x\"]\n",
    "    _phi_2x = circuit_params[\"phi_2x\"]\n",
    "    _phi_1xdc = circuit_params[\"phi_1xdc\"]\n",
    "    _phi_2xdc = circuit_params[\"phi_2xdc\"]\n",
    "    _mu_12 = circuit_params[\"mu_12\"]\n",
    "    _xi = 1/(1-_mu_12**2)\n",
    "\n",
    "    def Fcn(coord):\n",
    "        _phi_1, _phi_2 = coord\n",
    "        u1_1 = 1/2 * _xi * (_phi_1 - _phi_1x)**2\n",
    "        u1_2 = 1/2 * gamma * (phi_1dc - _phi_1xdc)**2\n",
    "        u1_3 = beta_1 * np.cos(_phi_1) * np.cos(_phi_1dc/2)\n",
    "        u1_4 = -d_beta_1 * np.sin(_phi_1) * np.sin(_phi_1dc/2)\n",
    "\n",
    "        u2_1 = 1/2 * _xi * (_phi_2 - _phi_2x)**2\n",
    "        u2_2 = 1/2 * gamma * (phi_2dc - _phi_2xdc)**2\n",
    "        u2_3 = beta_2 * np.cos(_phi_2) * np.cos(_phi_2dc/2)\n",
    "        u2_4 = -d_beta_2 * np.sin(_phi_2) * np.sin(_phi_2dc/2)\n",
    "        u3 = _mu_12 * _xi * (_phi_1 - _phi_1x) * (_phi_2 - _phi_2x)\n",
    "\n",
    "        return U_ratio * (u1_1 + u1_2 +  u1_3 + u1_4 + u2_1 + u2_2 + u2_3 + u2_4 + u3)\n",
    "\n",
    "    return Fcn\n"
   ]
  },
  {
   "cell_type": "code",
   "execution_count": null,
   "id": "26",
   "metadata": {},
   "outputs": [],
   "source": [
    "# control swap protocol\n",
    "def createProtocol(duration, protocol, name):\n",
    "    protocol_new = {\n",
    "        \"phi_1xdc\": protocol[\"phi_1xdc\"], \"phi_2xdc\": protocol[\"phi_2xdc\"], \n",
    "        \"phi_1x\": protocol[\"phi_1x\"], \"phi_2x\": protocol[\"phi_2x\"], \n",
    "        \"mu_12\": protocol[\"mu_12\"], \"duration\": duration, \"name\": name\n",
    "    }\n",
    "    return protocol_new"
   ]
  },
  {
   "cell_type": "code",
   "execution_count": null,
   "id": "27",
   "metadata": {},
   "outputs": [],
   "source": [
    "# control swap protocol\n",
    "mu_factor_0 = 0.8\n",
    "mu_factor_1 = 0.32\n",
    "mu_factor_4 = 0.55\n",
    "mu_factor_5 = 0.0\n",
    "phi_2xdc_common = 1.80\n",
    "# protocol_3 = {\"phi_1x\": 0.0, \"phi_2x\": -0.08, \"mu_12\": -0.04, \"phi_1xdc\": 0, \"phi_2xdc\": 1.96, \"name\": \"deceleration_protocol_1\", \"color\": \"red\", \"linestyle\" \"-\"}\n",
    "# protocol_4 = {\"phi_1x\": 0.8, \"phi_2x\": -0.02, \"mu_12\": -0.01, \"phi_1xdc\": 0, \"phi_2xdc\": 1.96, \"name\": \"deceleration_protocol_2\", \"color\": \"pink\", \"linestyle\": \"--\"}\n",
    "protocol_0 = {\"phi_1x\": 0.0, \"phi_2x\": 0.0, \"mu_12\": 0.0, \"phi_1xdc\": 0, \"phi_2xdc\": 0, \"name\": \"four_well\", \"color\": \"cyan\", \"linestyle\": \"-\"} \n",
    "protocol_1 = {\"phi_1x\": -0.0, \"phi_2x\": 0.0 * mu_factor_0, \"mu_12\": 0.0 * mu_factor_0, \"phi_1xdc\": 0, \"phi_2xdc\": phi_2xdc_common, \"name\": \"pre_acceleration_protocol\", \"color\": \"orange\", \"linestyle\": \"-\"}\n",
    "protocol_2 = {\"phi_1x\": 0 * mu_factor_1, \"phi_2x\": 0.1 * mu_factor_1, \"mu_12\": 0.05 * mu_factor_1, \"phi_1xdc\": 0, \"phi_2xdc\": phi_2xdc_common, \"name\": \"acceleration_protocol_0\", \"color\": \"g\", \"linestyle\": \"-\"}\n",
    "\n",
    "protocol_2_adiabatic = {\"phi_1x\": 0 * mu_factor_1, \"phi_2x\": 0.1 * mu_factor_1, \"mu_12\": 0.05 * mu_factor_1, \"phi_1xdc\": 0, \"phi_2xdc\": 1.85, \"name\": \"acceleration_protocol_0\", \"color\": \"g\", \"linestyle\": \"-\"}\n",
    "# protocol_4 = {\"phi_1x\": 0, \"phi_2x\": 0.1 * mu_factor_4, \"mu_12\": 0.05 * mu_factor_4, \"phi_1xdc\": 0, \"phi_2xdc\": 0, \"name\": \"deceleration_protocol_0\", \"color\": \"cyan\", \"linestyle\": \"--\"}\n",
    "protocol_5 = {\"phi_1x\": 0, \"phi_2x\": -0.1 * mu_factor_5, \"mu_12\": -0.05 * mu_factor_5, \"phi_1xdc\": 0, \"phi_2xdc\": phi_2xdc_common, \"name\": \"deceleration_protocol_1\", \"color\": \"b\", \"linestyle\": \"--\"}\n"
   ]
  },
  {
   "cell_type": "code",
   "execution_count": null,
   "id": "28",
   "metadata": {},
   "outputs": [],
   "source": [
    "# control swap protocol\n",
    "mu_factor_0 = 0.4\n",
    "mu_factor_1 = 1.1\n",
    "mu_factor_4 = 0.55\n",
    "mu_factor_5 = 0.\n",
    "phi_2xdc_common = 1.82\n",
    "# protocol_3 = {\"phi_1x\": 0.0, \"phi_2x\": -0.08, \"mu_12\": -0.04, \"phi_1xdc\": 0, \"phi_2xdc\": 1.96, \"name\": \"deceleration_protocol_1\", \"color\": \"red\", \"linestyle\" \"-\"}\n",
    "# protocol_4 = {\"phi_1x\": 0.8, \"phi_2x\": -0.02, \"mu_12\": -0.01, \"phi_1xdc\": 0, \"phi_2xdc\": 1.96, \"name\": \"deceleration_protocol_2\", \"color\": \"pink\", \"linestyle\": \"--\"}\n",
    "protocol_0 = {\"phi_1x\": 0.0, \"phi_2x\": 0.0, \"mu_12\": 0.0, \"phi_1xdc\": 0, \"phi_2xdc\": 0, \"name\": \"four_well\", \"color\": \"cyan\", \"linestyle\": \"-\"} \n",
    "protocol_1a = {\"phi_1x\": -0.0, \"phi_2x\": 0.0 * mu_factor_0, \"mu_12\": 0.00 * mu_factor_0, \"phi_1xdc\": 0, \"phi_2xdc\": phi_2xdc_common, \"name\": \"pre_acceleration_protocol\", \"color\": \"orange\", \"linestyle\": \"-\"}\n",
    "protocol_1 = {\"phi_1x\": -0.0, \"phi_2x\": 0.1 * mu_factor_0, \"mu_12\": 0.05 * mu_factor_0, \"phi_1xdc\": 0, \"phi_2xdc\": phi_2xdc_common, \"name\": \"pre_acceleration_protocol\", \"color\": \"orange\", \"linestyle\": \"-\"}\n",
    "protocol_2 = {\"phi_1x\": 0 * mu_factor_1, \"phi_2x\": 0.1 * mu_factor_1, \"mu_12\": 0.05 * mu_factor_1, \"phi_1xdc\": 0, \"phi_2xdc\": 1.86, \"name\": \"acceleration_protocol_0\", \"color\": \"g\", \"linestyle\": \"-\"}\n",
    "# protocol_4 = {\"phi_1x\": 0, \"phi_2x\": 0.1 * mu_factor_4, \"mu_12\": 0.05 * mu_factor_4, \"phi_1xdc\": 0, \"phi_2xdc\": 0, \"name\": \"deceleration_protocol_0\", \"color\": \"cyan\", \"linestyle\": \"--\"}\n",
    "protocol_5 = {\"phi_1x\": 0, \"phi_2x\": -0.1 * mu_factor_5, \"mu_12\": -0.05 * mu_factor_5, \"phi_1xdc\": 0, \"phi_2xdc\": 1.68, \"name\": \"deceleration_protocol_1\", \"color\": \"red\", \"linestyle\": \"--\"}\n",
    "# protocol_6 = {\"phi_1x\": 0, \"phi_2x\": 0, \"mu_12\": 0 * mu_factor_5, \"phi_1xdc\": 0, \"phi_2xdc\": 1.90, \"name\": \"deceleration_protocol_1\", \"color\": \"red\", \"linestyle\": \"--\"}\n",
    "protocol_7 = {\"phi_1x\": phi_1x_init, \"phi_2x\": phi_2x_init, \"mu_12\": mu_12_init, \"phi_1xdc\": phi_1xdc_init, \"phi_2xdc\": phi_2xdc_init, \"name\": \"acceleration_protocol_1\", \"color\": \"red\", \"linestyle\": \"--\"}"
   ]
  },
  {
   "cell_type": "code",
   "execution_count": null,
   "id": "29",
   "metadata": {},
   "outputs": [],
   "source": [
    "protocol_array = [protocol_0, protocol_1, protocol_2, protocol_5]\n",
    "print(U0_1)\n",
    "\n",
    "critical_point_list = plot_3_well_potential(protocol_array, [500, 1200], [800,1200], bottom_left_y_range= [-10, 200], bottom_right_y_range= [-10, 50], contour_x_range = [-2.5, -1.5], contour_y_range = [1.2, 1.8], \n",
    "                                             beta = beta_1, phi_2_left_fixed=-2, phi_2_right_fixed= 2, set_same_min=True)"
   ]
  },
  {
   "cell_type": "markdown",
   "id": "30",
   "metadata": {},
   "source": [
    "## escape rate "
   ]
  },
  {
   "cell_type": "code",
   "execution_count": null,
   "id": "31",
   "metadata": {},
   "outputs": [],
   "source": [
    "t_c"
   ]
  },
  {
   "cell_type": "code",
   "execution_count": null,
   "id": "32",
   "metadata": {},
   "outputs": [],
   "source": [
    "index_longitudinal = 1\n",
    "index_transverse = 0\n",
    "for _list, _protocol in zip(critical_point_list, protocol_array):\n",
    "    params_list_used = cfqr.protocol.get_params(0)\n",
    "    params_list_used[4], params_list_used[5] = beta_1, beta_2 # phi_1x\n",
    "    params_list_used[8] = _protocol['phi_1x'] # phi_1x\n",
    "    params_list_used[9] = _protocol['phi_2x'] # phi_2x\"\n",
    "    params_list_used[10] = _protocol['phi_1xdc'] # phi_1xdc\n",
    "    params_list_used[11] = _protocol['phi_2xdc'] # phi_2xdc\n",
    "    params_list_used[12] = _protocol['mu_12'] # mu\n",
    "    print(\"-\" * 20)\n",
    "    print(_protocol['name'])\n",
    "    omega_list, delta_U_list, at_weak_list = [], [], []\n",
    "    _phi_1xdc, _phi_2xdc = _protocol['phi_1xdc'], _protocol['phi_2xdc']\n",
    "    saddle_point_x, saddle_point_y = _list['coord'][2][0], 0\n",
    "    saddle_point_potential = coupled_flux_qubit_non_linear_approx_pot(saddle_point_x, saddle_point_y, _phi_1xdc, _phi_2xdc, params_list_used)\n",
    "\n",
    "    for _pt in [_list['coord'][2], _list['coord'][3], (saddle_point_x, 0)]:\n",
    "        print(f\"coord and phi = : {_pt}, {_phi_1xdc}, {_phi_2xdc}\")\n",
    "        k_eff = np.array([1 - beta_1 * np.cos(_pt[0]) * np.cos(_phi_1xdc/2), 1 - beta_2 * np.cos(_pt[1]) * np.cos(_phi_2xdc/2)]) \n",
    "        omega = np.sqrt(k_eff/ t_c**2)\n",
    "        omega_list.append(omega)\n",
    "        print(f\"omega = {omega}, k_eff = {k_eff}\")\n",
    "\n",
    "        well_potential = coupled_flux_qubit_non_linear_approx_pot(_pt[0], _pt[1], _phi_1xdc, _phi_2xdc, params_list_used)\n",
    "        delta_U = saddle_point_potential - well_potential\n",
    "        delta_U_list.append(delta_U)\n",
    "        print(f\"delta_U = {delta_U}, well_potential = {well_potential}, saddle_point_potential = {saddle_point_potential}\")\n",
    "\n",
    "    omega_10 = omega_list[0][0] * omega_list[0][1] / omega_list[2][0]\n",
    "    omega_11 = omega_list[1][0] * omega_list[1][1] / omega_list[2][0]\n",
    "    G = 1 / (R_1 * C_1 * omega_list[2][0])\n",
    "    a_t = (1 + G**2 / 4) - G/2\n",
    "    a_t_weak = 2 * np.pi / (omega_10 * R_1 * C_1) * (delta_U_list[0])**2\n",
    "    # print(omega_10 * R_1 * C_1)\n",
    "\n",
    "    escape_rate_10 =  omega_10 / (2 * np.pi) * np.exp(-delta_U_list[0])\n",
    "    escape_rate_11 = omega_11 / (2 * np.pi) * np.exp(-delta_U_list[1]) \n",
    "    print(f\"dU_10 = {delta_U_list[0]}, dU_11 = {delta_U_list[1]}, a_t = {a_t}, a_t_weak = {a_t_weak}\")\n",
    "    print(f\"escape_rate_10: {escape_rate_10}, escape_rate_11: {escape_rate_11}\")\n",
    "    print(\"-\" * 50)\n"
   ]
  },
  {
   "cell_type": "code",
   "execution_count": null,
   "id": "33",
   "metadata": {},
   "outputs": [],
   "source": []
  },
  {
   "cell_type": "markdown",
   "id": "34",
   "metadata": {},
   "source": [
    "## time adjust"
   ]
  },
  {
   "cell_type": "code",
   "execution_count": null,
   "id": "35",
   "metadata": {
    "tags": []
   },
   "outputs": [],
   "source": [
    "pre_acceleration_potential =  createProtocol(60, protocol_1, name = \"pre_acceleration_potential\")\n",
    "acceleration_potential_jump =  createProtocol(0.01, protocol_2, name = \"acceleration_potential_jump\")\n",
    "acceleration_potential =  createProtocol(20, protocol_2, name = \"acceleration_potential\")\n",
    "# decceleration_potential_jump = createProtocol(0.01, protocol_5, name = \"decceleration_potential\")\n",
    "decceleration_potential_jump =  createProtocol(0.1, protocol_1a, name = \"pre_acceleration_potential\")\n",
    "decceleration_potential = createProtocol(1.0, protocol_5, name = \"decceleration_potential\")\n",
    "decceleration_potential =  createProtocol(20, protocol_1a, name = \"pre_acceleration_potential\")\n",
    "\n",
    "\n",
    "acceleration_potential_for_adiabatic =  createProtocol(20, protocol_2, name = \"acceleration_potential\")\n",
    "\n",
    "protocol_list_momentum = [ createProtocol(20, protocol_7, name = \"acceleration_potential\") ] \n",
    "\n",
    "protocol_list_adiabatic = [\n",
    "    createProtocol(60, protocol_2_adiabatic, name = \"acceleration_potential\"),\n",
    "    createProtocol(5, protocol_2_adiabatic, name = \"acceleration_potential_hold\"),\n",
    "    {'duration': 80.0, \"phi_1x\": 0.0, \"phi_2x\": 0.0, \"mu_12\": 0.00, \"phi_1xdc\": 0, \"phi_2xdc\": 0, \"name\": \"four_well\"}\n",
    "]  \n",
    "\n",
    "\n",
    "def tellMeImportantFactors(protocol):\n",
    "    print(f\"N = {params['N']}, dt = {1/params['dt']}\")\n",
    "    print(f\"T = {T} K, L = {L_1} H, beta = {beta_1}\")\n",
    "    print(f\"R = {R_1} Ω, C = {C_1} F\")\n",
    "    print(f\"phi_1x = {phi_1x_on_12}, phi_2x = {phi_2x_on_12}, phi_1xdc = {phi_1xdc_on_12}, phi_2xdc = {phi_2xdc_on_12}, mu_12 = {mu_12_on}\")\n",
    "    for x in protocol:\n",
    "        print(x)"
   ]
  },
  {
   "cell_type": "code",
   "execution_count": null,
   "id": "36",
   "metadata": {},
   "outputs": [],
   "source": [
    "protocol_list = protocol_list_momentum\n",
    "# protocol_list = protocol_list_adiabatic\n",
    "# protocol_list = protocol_list_check_suddenly_change_phi_xdc\n",
    "# protocol_list = protocol_list_check_the_limit_for_error \n"
   ]
  },
  {
   "cell_type": "code",
   "execution_count": null,
   "id": "37",
   "metadata": {},
   "outputs": [],
   "source": [
    "for x in protocol_list_momentum:\n",
    "    print(x)"
   ]
  },
  {
   "cell_type": "markdown",
   "id": "38",
   "metadata": {},
   "source": [
    "# setting protocol (click here!)"
   ]
  },
  {
   "cell_type": "markdown",
   "id": "39",
   "metadata": {
    "tags": []
   },
   "source": [
    "# first initialization"
   ]
  },
  {
   "cell_type": "markdown",
   "id": "40",
   "metadata": {},
   "source": [
    "### create initial state "
   ]
  },
  {
   "cell_type": "code",
   "execution_count": null,
   "id": "41",
   "metadata": {},
   "outputs": [],
   "source": [
    "initial_parameter_dict"
   ]
  },
  {
   "cell_type": "code",
   "execution_count": null,
   "id": "42",
   "metadata": {
    "tags": []
   },
   "outputs": [],
   "source": [
    "%%capture\n",
    "initial_state_array = [\"saved_init_state/four_well_default_init_state_N_1000.npy\", \"saved_init_state/after_CE_8_completed_N_1000z.npy\", \"saved_init_state/just_before_KEP_N_1000.npy\"]\n",
    "initial_state_array = [f\"saved_init_state/four_well_default_init_state_N_1000_T={T}, L={L_1}, beta = {beta_1}.npy\"]\n",
    "initial_state_array = [f\"saved_init_state/four_well_default_init_state_N_1000_T={T}, L={L_1}, beta = {beta_1}, phi_2xdc = {phi_2xdc}.npy\"]\n",
    "initial_state_chosen = initial_state_array[0]\n",
    "\n",
    "\n",
    "regenerate_init_state = False\n",
    "init_state_saved = None\n",
    "# regenerate_init_state = True\n",
    "if regenerate_init_state:\n",
    "    initial_potential_protocol_list = [create_CE_Protocol(200*100*params['dt'], four_well)]\n",
    "    init_params = params.copy()\n",
    "    init_params['dt'] = 1/500\n",
    "    init_state_saved = cfq_batch_sweep.create_initial_state(initial_parameter_dict, initial_potential_protocol_list, coupled_fq_pot, init_params)\n",
    "    np.save(f\"saved_init_state/four_well_default_init_state_N_1000_T={T}, L={L_1}, beta = {beta_1}, phi_2xdc = {phi_2xdc}.npy\", init_state_saved)\n",
    "else:\n",
    "    init_state_saved = np.load(initial_state_chosen)\n",
    "\n",
    "init_state_used = init_state_saved\n",
    "\n",
    "# particle_index = visualization.separate_by_state_2(init_state_saved[:, (0, 1), :])\n",
    "# init_state_used = init_state_saved[particle_index[\"00\"]]"
   ]
  },
  {
   "cell_type": "code",
   "execution_count": null,
   "id": "43",
   "metadata": {},
   "outputs": [],
   "source": [
    "# np.save(f\"saved_init_state/four_well_default_init_state_N_1000_T={T}, L={L_1}, beta = {beta_1}, phi_2xdc = {phi_2xdc}.npy\", final_state)\n",
    "# init_state_used = final_state\n"
   ]
  },
  {
   "cell_type": "code",
   "execution_count": null,
   "id": "44",
   "metadata": {},
   "outputs": [],
   "source": [
    "init_state_saved_new = init_state_saved[...]\n",
    "init_state_saved_new[:, 0, 0] = -2\n",
    "init_state_saved_new[:, 1, 0] = -2\n",
    "init_state_saved_new[:, 2, 0] = 0\n",
    "init_state_saved_new[:, 3, 0] = phi_2xdc_init\n",
    "init_state_used = init_state_saved_new"
   ]
  },
  {
   "cell_type": "code",
   "execution_count": null,
   "id": "45",
   "metadata": {},
   "outputs": [],
   "source": [
    "plt.scatter(init_state_used[..., 0, 0], init_state_used[..., 1, 0])\n",
    "plt.xlim(-4, 4)\n",
    "plt.ylim(-4, 4)"
   ]
  },
  {
   "cell_type": "code",
   "execution_count": null,
   "id": "46",
   "metadata": {},
   "outputs": [],
   "source": []
  },
  {
   "cell_type": "code",
   "execution_count": null,
   "id": "47",
   "metadata": {},
   "outputs": [],
   "source": [
    "import edward_tools\n",
    "importlib.reload(edward_tools)\n",
    "find_all_critical_points_for_all_potential = edward_tools.pot_analysis_helper_functions.find_all_critical_points_for_all_potential"
   ]
  },
  {
   "cell_type": "markdown",
   "id": "48",
   "metadata": {},
   "source": [
    "### create cfqr object"
   ]
  },
  {
   "cell_type": "code",
   "execution_count": null,
   "id": "49",
   "metadata": {},
   "outputs": [],
   "source": [
    "computation_protocol_parameter_dict"
   ]
  },
  {
   "cell_type": "code",
   "execution_count": null,
   "id": "50",
   "metadata": {
    "tags": []
   },
   "outputs": [],
   "source": [
    "\"\"\"\n",
    "# step 3: create the relevant storage protocol and computation protocol\n",
    "\"\"\"\n",
    "def modifiedFunction(t, result):\n",
    "    return result\n",
    "\n",
    "\n",
    "computation_protocol_parameter_dict = coupled_fq_protocol_library.customizedProtocol(initial_parameter_dict, \\\n",
    "                                                                    protocol_list)\n",
    "storage_protocol, comp_protocol = create_system(computation_protocol_parameter_dict, modifiedFunction = None)\n",
    "\n",
    "cfqr = cfq_runner.coupledFluxQubitRunner(potential = coupled_fq_pot, params = params, \\\n",
    "                                                storage_protocol= storage_protocol, \\\n",
    "                                                computation_protocol= comp_protocol, \\\n",
    "                                         protocol_list = protocol_list, \\\n",
    "                                        has_velocity=has_velocity)\n",
    "\n",
    "protocol_time_array, protocol_time_index_array, protocol_all_time_array, protocol_time_all_index_array = cfqr.createProtocolTimeArray(protocol_list, params)\n",
    "cfqr.initialize_sim()\n",
    "# cfqr.set_sim_attributes(init_state=init_state_saved)\n",
    "cfqr.set_sim_attributes(init_state=init_state_used)\n",
    "print(f\"mean KE = {np.mean(cfqr.system.get_kinetic_energy(init_state_used))}\")"
   ]
  },
  {
   "cell_type": "markdown",
   "id": "51",
   "metadata": {},
   "source": [
    "# initial_state_PE_and_KE"
   ]
  },
  {
   "cell_type": "code",
   "execution_count": null,
   "id": "52",
   "metadata": {},
   "outputs": [],
   "source": [
    "plt.hist(cfqr.system.get_potential(init_state_used, 0), bins=50)"
   ]
  },
  {
   "cell_type": "markdown",
   "id": "53",
   "metadata": {},
   "source": [
    "# actual simulations"
   ]
  },
  {
   "cell_type": "code",
   "execution_count": null,
   "id": "54",
   "metadata": {},
   "outputs": [],
   "source": []
  },
  {
   "cell_type": "code",
   "execution_count": null,
   "id": "55",
   "metadata": {
    "tags": []
   },
   "outputs": [],
   "source": [
    "manual_domain=[np.array([-5, -5]), np.array([5, 5])]\n",
    "\n",
    "print(f\"characteristic_time = {characteristic_time * 10e9:.3g}ns, total speed = {1/(characteristic_time * protocol_time_array[-1]) / 1e9:.3g}GHz\")\n",
    "\n",
    "simResult = cfq_batch_sweep.simulateSingleCoupledFluxQubit(params, initial_parameter_dict, protocol_list, \\\n",
    "                        potential = coupled_fq_pot, potential_default_param = coupled_fq_default_param, mapping_state_1_to_state_2_dict = mapping_dict,         \n",
    "                        initial_state = init_state_used, manual_domain = manual_domain, \\\n",
    "                        phi_1xdc = phi_1xdc,  phi_2xdc = phi_2xdc, measure_all_states=saveAllStates, \\\n",
    "                        has_velocity = has_velocity)\n"
   ]
  },
  {
   "cell_type": "code",
   "execution_count": null,
   "id": "56",
   "metadata": {},
   "outputs": [],
   "source": []
  },
  {
   "cell_type": "code",
   "execution_count": null,
   "id": "57",
   "metadata": {},
   "outputs": [],
   "source": [
    "f\"{simResult['cfqr'].protocol_time_array[-1]:.3g}\""
   ]
  },
  {
   "cell_type": "code",
   "execution_count": null,
   "id": "58",
   "metadata": {},
   "outputs": [],
   "source": [
    "critical_time_index = []\n",
    "for x in simResult['cfqr'].protocol_time_array:\n",
    "    critical_time_index.append(np.sum(simResult['cfqr'].getReducedTimeArray()<x))\n",
    "    "
   ]
  },
  {
   "cell_type": "code",
   "execution_count": null,
   "id": "59",
   "metadata": {},
   "outputs": [],
   "source": [
    "particle_index = simResult['cfqr'].getIndexOfParticles()\n",
    "pColor = {\"00\": \"#061DF7\", \"01\": \"#FCEF51\", \"10\": \"#3FC7F2\", \"11\": \"#F187F4\"}\n",
    "final_state = simResult['cfqr'].get_all_state()[:, -1,...]\n",
    "\n",
    "for key in pColor.keys():\n",
    "    plt.scatter(final_state[particle_index[key], 0, 0], final_state[particle_index[key], 1, 0], c = pColor[key])\n",
    "plt.xlim(-4, 4)\n",
    "plt.ylim(-4, 4)"
   ]
  },
  {
   "cell_type": "code",
   "execution_count": null,
   "id": "60",
   "metadata": {},
   "outputs": [],
   "source": [
    "plt.hist(cfqr.system.get_kinetic_energy(final_state), bins = 100)"
   ]
  },
  {
   "cell_type": "code",
   "execution_count": null,
   "id": "61",
   "metadata": {},
   "outputs": [],
   "source": [
    "simResult['fidelity']"
   ]
  },
  {
   "cell_type": "code",
   "execution_count": null,
   "id": "62",
   "metadata": {},
   "outputs": [],
   "source": [
    "# particle_index = simResult['cfqr'].getIndexOfParticles()\n",
    "# pColor = {\"00\": \"#061DF7\", \"01\": \"#FCEF51\", \"10\": \"#3FC7F2\", \"11\": \"#F187F4\"}\n",
    "\n",
    "# fig, ax = plt.subplots(1, 3, figsize = [15, 5])\n",
    "\n",
    "# for i, x in enumerate(critical_time_index):\n",
    "#     for key in pColor.keys():\n",
    "#         state = simResult['cfqr'].get_all_state()[particle_index[key],x,...]\n",
    "#         ax[i].scatter(state[:,0,0], state[:,1,0], c = pColor[key])\n",
    "#         ax[i].set_aspect(1)\n",
    "#         ax[i].set_xlim(-4, 4)\n",
    "#         ax[i].set_ylim(-4, 4)"
   ]
  },
  {
   "cell_type": "code",
   "execution_count": null,
   "id": "63",
   "metadata": {
    "tags": []
   },
   "outputs": [],
   "source": [
    "print(f\"characteristic_time = {characteristic_time * 10e9:.3g}ns, freq = {1/characteristic_time * 10e-9:.3g} GHz\")"
   ]
  },
  {
   "cell_type": "code",
   "execution_count": null,
   "id": "64",
   "metadata": {},
   "outputs": [],
   "source": [
    "for x in protocol_list:\n",
    "    print(x)"
   ]
  },
  {
   "cell_type": "code",
   "execution_count": null,
   "id": "65",
   "metadata": {},
   "outputs": [],
   "source": [
    "# particle_index = simResult['cfqr'].getIndexOfParticles()\n",
    "# pColor = {\"00\": \"#061DF7\", \"01\": \"#FCEF51\", \"10\": \"#3FC7F2\", \"11\": \"#F187F4\"}\n",
    "\n",
    "# for key in pColor.keys():\n",
    "#     plt.scatter(all_states_t_1[particle_index[key], 0, 0], all_states_t_1[particle_index[key], 1, 0], c = pColor[key])\n",
    "# plt.xlim(-4, 4)\n",
    "# plt.ylim(-4, 4)"
   ]
  },
  {
   "cell_type": "code",
   "execution_count": null,
   "id": "66",
   "metadata": {},
   "outputs": [],
   "source": [
    "def getParamsList(_protocol):\n",
    "    params_list_used = cfqr.protocol.get_params(0)\n",
    "    params_list_used[8] = _protocol['phi_1x'] # phi_1x\n",
    "    params_list_used[9] = _protocol['phi_2x'] # phi_2x\"\n",
    "    params_list_used[10] = _protocol['phi_1xdc'] # phi_1xdc\n",
    "    params_list_used[11] = _protocol['phi_2xdc'] # phi_2xdc\n",
    "    params_list_used[12] = _protocol['mu_12'] # mu\n",
    "    return params_list_used"
   ]
  },
  {
   "cell_type": "code",
   "execution_count": null,
   "id": "67",
   "metadata": {},
   "outputs": [],
   "source": [
    "def plot_state_and_potential(protocol_list, state_array, left_y_range = [-50, 500], right_y_range = [-50, 500], bottom_left_y_range = [-50, 500], bottom_right_y_range = [-50, 500], set_same_min = False):\n",
    "    pColor = {\"00\": \"#061DF7\", \"01\": \"#FCEF51\", \"10\": \"#3FC7F2\", \"11\": \"#F187F4\"}\n",
    "    \n",
    "    params_list_1 = getParamsList(protocol_list[0])\n",
    "    params_list_2 = getParamsList(protocol_list[1])\n",
    "    \n",
    "    particle_index = simResult['cfqr'].getIndexOfParticles()\n",
    "    particle_index_00_01 = np.logical_or(particle_index['00'], particle_index['01'])\n",
    "    particle_index_10_11 = np.logical_or(particle_index['10'], particle_index['11'])\n",
    "    \n",
    "    _state_before, _state_after = state_array[0], state_array[1]\n",
    "    position_before, position_after = np.transpose(_state_before[..., 0]), np.transpose(_state_after[..., 0])\n",
    "    _phi_2_before, _phi_2_after = position_before[1, :], position_after[1, :]\n",
    "    \n",
    "    \n",
    "    _potential_of_particle_before = coupled_flux_qubit_non_linear_approx_pot(*position_before, params = params_list_1)\n",
    "    _potential_of_particle_after  = coupled_flux_qubit_non_linear_approx_pot(*position_after, params = params_list_2)\n",
    "\n",
    "    _phi_1_before_mean_left = np.mean(position_before[0, particle_index_00_01])\n",
    "    _phi_1_before_right = np.mean(position_before[0, particle_index_10_11])\n",
    "\n",
    "    _phi_1_after_mean_left  = np.mean(position_after[0, particle_index_00_01])\n",
    "    _phi_1_after_mean_right = np.mean(position_after[0, particle_index_10_11])\n",
    "\n",
    "    phi_2_array = np.linspace(-4, 4, 1000)\n",
    "    \n",
    "    \n",
    "    fig = plt.figure(figsize= [15, 7.5])\n",
    "    ax_0, ax_1, ax_2, ax_3 = fig.add_subplot(2, 4, 1), fig.add_subplot(2, 4, 2), fig.add_subplot(2, 4, 3), fig.add_subplot(2, 4, 4)\n",
    "\n",
    "    # potential along the cutline\n",
    "    potential_1_left  = cfqr.potential.potential(_phi_1_before_mean_left, phi_2_array, params_list_1[10], params_list_1[11], params_list_1)\n",
    "    potential_1_right = cfqr.potential.potential(_phi_1_before_right, phi_2_array, params_list_1[10], params_list_1[11], params_list_1)\n",
    "\n",
    "    \n",
    "    potential_2_left = cfqr.potential.potential(_phi_1_after_mean_left, phi_2_array, params_list_2[10], params_list_2[11], params_list_2)\n",
    "    potential_2_right = cfqr.potential.potential(_phi_1_after_mean_right, phi_2_array, params_list_2[10], params_list_2[11], params_list_2)\n",
    "    \n",
    "    \n",
    "\n",
    "    # params_at_t_str = [f\"{key}: {value:.3g}\" for key, value in zip(cfqr.protocol_key[-6:-1], params_list_used[-6:-1])]\n",
    "    # fig.suptitle(f\"phi_1xdc = {params_list_used[10]:.3g}, phi_2xdc = {params_list_used[11]:.3g}, phi_1x = {params_list_used[8]:.3g}, phi_2x = {params_list_used[9]:.3g}, mu = {params_list_used[12]:.3g}\") \n",
    "\n",
    "    # color_code.append(_protocol['color'])\n",
    "    ax_0.plot(phi_2_array, potential_1_left, label = f\"{protocol_list[0]['name']}\", c = protocol_list[0]['color'], linestyle = protocol_list[0]['linestyle'])\n",
    "    ax_0.plot(phi_2_array, potential_2_left, label = f\"{protocol_list[1]['name']}\", c = protocol_list[1]['color'], linestyle = protocol_list[1]['linestyle'])\n",
    "    ax_0.set_ylim(left_y_range[0], left_y_range[1])\n",
    "    ax_0.set_title(f\"phi_1 = left\")\n",
    "    # ax_4.plot(phi_2_array, potential_1 - min(potential_1), label = f\"{name}\", c = _protocol['color'], linestyle = _protocol['linestyle'])\n",
    "\n",
    "    ax_2.plot(phi_2_array, potential_1_right, label = f\"{protocol_list[0]['name']}\", c = protocol_list[0]['color'], linestyle = protocol_list[0]['linestyle'])\n",
    "    ax_2.plot(phi_2_array, potential_2_right, label = f\"{protocol_list[1]['name']}\", c = protocol_list[1]['color'], linestyle = protocol_list[1]['linestyle'])\n",
    "    ax_2.set_ylim(right_y_range[0], right_y_range[1])\n",
    "    ax_2.set_title(f\"phi_1 = right\")\n",
    "\n",
    "    # ax_1.vlines(x=-2, ymin = -4, ymax = 4, color = \"red\")\n",
    "    # ax_3.vlines(x=2, ymin = -4, ymax = 4, color = \"red\")\n",
    "    \n",
    "\n",
    "    work_done = _potential_of_particle_after - _potential_of_particle_before\n",
    "\n",
    "    ax_0.scatter(_phi_2_before[particle_index['00']], _potential_of_particle_before[particle_index['00']], alpha = 0.002, c = pColor[\"00\"])\n",
    "    ax_0.scatter(_phi_2_before[particle_index['01']], _potential_of_particle_before[particle_index['01']], alpha = 0.002, c = pColor[\"01\"])\n",
    "    ax_0.scatter(_phi_2_after[particle_index['00']], _potential_of_particle_after[particle_index['00']], alpha = 1, c = pColor[\"00\"])\n",
    "    ax_0.scatter(_phi_2_after[particle_index['01']], _potential_of_particle_after[particle_index['01']], alpha = 1, c = pColor[\"01\"])\n",
    "    ax_1.hist(work_done[particle_index['00']], color = pColor[\"00\"])\n",
    "    ax_1.hist(work_done[particle_index['01']], color = pColor[\"01\"])\n",
    "\n",
    "\n",
    "    ax_2.scatter(_phi_2_before[particle_index['10']], _potential_of_particle_before[particle_index['10']], alpha = 0.002, c = pColor[\"10\"])\n",
    "    ax_2.scatter(_phi_2_before[particle_index['11']], _potential_of_particle_before[particle_index['11']], alpha = 0.002, c = pColor[\"11\"])\n",
    "    ax_2.scatter(_phi_2_after[particle_index['10']], _potential_of_particle_after[particle_index['10']], alpha = 1, c = pColor[\"10\"])\n",
    "    ax_2.scatter(_phi_2_after[particle_index['11']], _potential_of_particle_after[particle_index['11']], alpha = 1, c = pColor[\"11\"])\n",
    "    ax_3.hist(work_done[particle_index['10']], color = pColor[\"10\"])\n",
    "    ax_3.hist(work_done[particle_index['11']], color = pColor[\"11\"])\n",
    "\n",
    "    \n",
    "    # for critical_point_info, _c in zip(critical_point_list, color_code):\n",
    "    #     for (_x, _y) in critical_point_info['coord']:\n",
    "    #         ax_1.scatter(_x, _y, color = _c)\n",
    "    #         ax_3.scatter(_x, _y, color = _c)\n",
    "    \n",
    "    \n",
    "\n",
    "    plt.show() "
   ]
  },
  {
   "cell_type": "code",
   "execution_count": null,
   "id": "68",
   "metadata": {},
   "outputs": [],
   "source": [
    "t_1_index = 400\n",
    "t_1 = simResult['cfqr'].getReducedTimeArray()[t_1_index]\n",
    "all_states_t_1 = simResult['cfqr'].get_all_state()[:, t_1_index, ...]\n",
    "\n",
    "plot_state_and_potential([protocol_1, protocol_2], [all_states_t_1, all_states_t_1], left_y_range = [450, 1200], right_y_range = [700, 1500])\n"
   ]
  },
  {
   "cell_type": "code",
   "execution_count": null,
   "id": "69",
   "metadata": {},
   "outputs": [],
   "source": []
  },
  {
   "cell_type": "code",
   "execution_count": null,
   "id": "70",
   "metadata": {},
   "outputs": [],
   "source": [
    "pColor = {\"00\": \"#061DF7\", \"01\": \"#FCEF51\", \"10\": \"#3FC7F2\", \"11\": \"#F187F4\"}\n",
    "mu_ratio = 0.1\n",
    "protocol_5_test = {'phi_1x': 0, 'phi_2x': -0.1 * mu_ratio, 'mu': -0.05 * mu_ratio, 'phi_1xdc': 0, 'phi_2xdc': 1.90, 'name': 'deceleration_protocol_1', 'color': 'b', 'linestyle': '--'}\n",
    "t_before_decelerate_index = 300\n",
    "t_before_decelerate = simResult['cfqr'].getReducedTimeArray()[t_before_decelerate_index]\n",
    "all_states_t_before_decelerate = simResult['cfqr'].get_all_state()[:, t_before_decelerate_index, ...]\n",
    "\n",
    "plot_state_and_potential([protocol_2, protocol_5], [all_states_t_before_decelerate, all_states_t_before_decelerate], left_y_range = [700, 1000], right_y_range = [800, 1100])\n"
   ]
  },
  {
   "cell_type": "code",
   "execution_count": null,
   "id": "71",
   "metadata": {},
   "outputs": [],
   "source": [
    "particle_index = simResult['cfqr'].getIndexOfParticles()\n",
    "\n",
    "_phi_2_before_00 = all_states_t_before_decelerate[particle_index['00'], 1, 0]\n",
    "_phi_2_before_01 = all_states_t_before_decelerate[particle_index['01'], 1, 0]\n",
    "_KE_before_00 = simResult['cfqr'].system.get_kinetic_energy(all_states_t_before_decelerate)[particle_index['00']]\n",
    "_KE_before_01 = simResult['cfqr'].system.get_kinetic_energy(all_states_t_before_decelerate)[particle_index['01']]\n",
    "plt.scatter(_phi_2_before_00, _KE_before_00, c = pColor['00'])\n",
    "plt.scatter(_phi_2_before_01, _KE_before_01, c = pColor['01'])\n",
    "# plt.xlim(-4, 4)"
   ]
  },
  {
   "cell_type": "code",
   "execution_count": null,
   "id": "72",
   "metadata": {},
   "outputs": [],
   "source": []
  },
  {
   "cell_type": "markdown",
   "id": "73",
   "metadata": {},
   "source": [
    "# sim Results"
   ]
  },
  {
   "cell_type": "markdown",
   "id": "74",
   "metadata": {},
   "source": [
    "### fidelity"
   ]
  },
  {
   "cell_type": "code",
   "execution_count": null,
   "id": "75",
   "metadata": {},
   "outputs": [],
   "source": [
    "import sys, importlib\n",
    "# importlib.reload(sys.modules['edward_tools.jupyter_helper_function'])\n",
    "from edward_tools.jupyter_helper_function import work_analysis, KE_analysis, single_particle_analysis, fidelity_analysis, work_done_of_each_type\n",
    "fidelity_analysis(simResult, params, initial_parameter_dict, protocol_list)\n",
    "print(simResult['simulation_data']['pickle_save_path'])\n",
    "print(t_c)"
   ]
  },
  {
   "cell_type": "markdown",
   "id": "76",
   "metadata": {},
   "source": []
  },
  {
   "cell_type": "code",
   "execution_count": null,
   "id": "77",
   "metadata": {},
   "outputs": [],
   "source": [
    "simResult['fidelity']"
   ]
  },
  {
   "cell_type": "code",
   "execution_count": null,
   "id": "78",
   "metadata": {},
   "outputs": [],
   "source": []
  },
  {
   "cell_type": "code",
   "execution_count": null,
   "id": "79",
   "metadata": {},
   "outputs": [],
   "source": []
  },
  {
   "cell_type": "markdown",
   "id": "80",
   "metadata": {},
   "source": [
    "# work done of each type"
   ]
  },
  {
   "cell_type": "code",
   "execution_count": null,
   "id": "81",
   "metadata": {},
   "outputs": [],
   "source": [
    "work_done_of_each_type(simResult)"
   ]
  },
  {
   "cell_type": "code",
   "execution_count": null,
   "id": "82",
   "metadata": {},
   "outputs": [],
   "source": [
    "tellMeImportantFactors(protocol_list)"
   ]
  },
  {
   "cell_type": "code",
   "execution_count": null,
   "id": "83",
   "metadata": {},
   "outputs": [],
   "source": []
  },
  {
   "cell_type": "code",
   "execution_count": null,
   "id": "84",
   "metadata": {},
   "outputs": [],
   "source": []
  },
  {
   "cell_type": "code",
   "execution_count": null,
   "id": "85",
   "metadata": {},
   "outputs": [],
   "source": []
  },
  {
   "cell_type": "markdown",
   "id": "86",
   "metadata": {
    "tags": []
   },
   "source": [
    "###  single particle analysis"
   ]
  },
  {
   "cell_type": "code",
   "execution_count": null,
   "id": "87",
   "metadata": {},
   "outputs": [],
   "source": [
    "import sys, importlib\n",
    "importlib.reload(sys.modules['edward_tools.jupyter_helper_function'])\n",
    "from edward_tools.jupyter_helper_function import work_analysis, KE_analysis, single_particle_analysis, fidelity_analysis, work_done_of_each_type\n",
    "all_states = simResult['cfqr'].get_all_state()\n",
    "\n",
    "particle_category = [\"00\"]\n",
    "p_index = 6\n",
    "\n",
    "for _c in particle_category:\n",
    "    fig, ax1 = plt.subplots(figsize=(8, 5))\n",
    "    ax2 = ax1.twinx()\n",
    "    index_choice = simResult['cfqr'].getIndexOfParticles()[_c]\n",
    "    reduced_data = single_particle_analysis(simResult, params, protocol_list, plot_ax = ax1, \n",
    "                             particle_index=p_index, particle_category= _c, \n",
    "                             time_range=None, selected_quantity = ['KE'])\n",
    "    reduced_protocal_time_array = reduced_data[\"reduced_protocal_time_array\"]\n",
    "    index_slice = reduced_data[\"index_slice\"]\n",
    "\n",
    "    # print(simResult['cfqr'].protocol_time_array)\n",
    "    y_min, y_max = ax1.set_ylim()\n",
    "    x_min, x_max = ax1.set_xlim()\n",
    "    for _t in simResult['cfqr'].protocol_time_array:\n",
    "        plt.vlines(x=_t, ymin = y_min, ymax = y_max, linestyles=\"--\")\n",
    "\n",
    "\n",
    "    all_states_00_i1 = all_states[index_choice][p_index, ...]\n",
    "    mean_phi_2 = all_states_00_i1[:, 1, 0]\n",
    "    # mean_phi_1 = np.mean(all_states[index_choice][:, :, 0, 0], axis = 0)\n",
    "\n",
    "\n",
    "    ax2.plot(reduced_protocal_time_array, mean_phi_2, alpha =0.8, color = \"grey\", label = f\"avg phi_2 of {particle_category}\")\n",
    "    ax2.set_ylim(-4, 4)\n",
    "    ax2.set_xlim(50, 120)\n",
    "    ax2.set_ylabel(r\"$\\varphi_{2}$\")\n",
    "\n",
    "    ax2.hlines(1.5, x_min, x_max, color = \"red\", linestyle = \"--\")\n",
    "    ax2.hlines(0.5, x_min, x_max, color = \"red\", linestyle = \"--\")\n",
    "    ax1.set_title(f\"energy profile of {particle_category} particle (total time of protocol = {protocol_time_array[-1] * characteristic_time * 1e9:.3g} ns)\")\n",
    "    ax2.legend()\n",
    "    plt.show()"
   ]
  },
  {
   "cell_type": "code",
   "execution_count": null,
   "id": "88",
   "metadata": {},
   "outputs": [],
   "source": [
    "fig, ax = plt.subplots(figsize=(8, 5))\n",
    "all_states = simResult['cfqr'].get_all_state()\n",
    "index_choice = simResult['cfqr'].getIndexOfParticles()[\"00\"]\n",
    "targetTimeArray = simResult['cfqr'].getReducedTimeArray()\n",
    "ax.plot(targetTimeArray, np.mean(all_states[index_choice, :, 1, 0], axis = 0), label = \"mean\")\n",
    "# ax.plot(np.std(all_states[index_choice, :, 0, 0], axis = 0))\n",
    "ax.plot(targetTimeArray, np.max(all_states[index_choice, :, 1, 0], axis = 0), label = \"max\")\n",
    "ax.plot(targetTimeArray, np.min(all_states[index_choice, :, 1, 0], axis = 0),label = \"min\")\n",
    "\n",
    "max_phi_2_particle = np.argmax(all_states[index_choice, 600, 1, 0])\n",
    "min_phi_2_particle = np.argmax(all_states[index_choice, 600, 1, 0])\n",
    "\n",
    "max_KE = np.max(simResult['cfqr'].system.get_kinetic_energy(all_states[index_choice][max_phi_2_particle]))\n",
    "ax.plot(targetTimeArray, simResult['cfqr'].system.get_kinetic_energy(all_states[index_choice][max_phi_2_particle])/max_KE - 1.0)\n",
    "# plt.plot(targetTimeArray, simResult['cfqr'].system.get_kinetic_energy(all_states[index_choice][min_phi_2_particle]))\n",
    "ax.set_title(f\"max KE = {max_KE}\")\n",
    "ax.set_xlim(50, 70)\n",
    "ax.set_ylim(-2, 0)\n"
   ]
  },
  {
   "cell_type": "code",
   "execution_count": null,
   "id": "89",
   "metadata": {},
   "outputs": [],
   "source": [
    "np.max(simResult['cfqr'].system.get_kinetic_energy(all_states))"
   ]
  },
  {
   "cell_type": "code",
   "execution_count": null,
   "id": "90",
   "metadata": {},
   "outputs": [],
   "source": []
  },
  {
   "cell_type": "code",
   "execution_count": null,
   "id": "91",
   "metadata": {},
   "outputs": [],
   "source": []
  },
  {
   "cell_type": "code",
   "execution_count": null,
   "id": "92",
   "metadata": {},
   "outputs": [],
   "source": [
    "protocol_array = [protocol_1, protocol_2, protocol_5]\n",
    "\n",
    "\n",
    "critical_point_list = plot_3_well_potential(protocol_array, [0, 2000], [0, 2000], \n",
    "                                             bottom_left_x_range = [-1, 1], bottom_left_y_range= [100, 300], bottom_right_y_range= [-10, 320], contour_x_range = [-2.5, -1.5], contour_y_range = [1.2, 1.8], \n",
    "                                             beta = 2.0, phi_2_left_fixed=-2, phi_2_right_fixed= 2, set_same_min=True)"
   ]
  },
  {
   "cell_type": "code",
   "execution_count": null,
   "id": "93",
   "metadata": {},
   "outputs": [],
   "source": [
    "max_phi_2_particle = np.argmax(all_states[index_choice, 600, 1, 0])\n",
    "min_phi_2_particle = np.argmax(all_states[index_choice, 600, 1, 0])\n",
    "plt.plot(targetTimeArray, simResult['cfqr'].system.get_kinetic_energy(all_states[index_choice][max_phi_2_particle]))\n",
    "plt.plot(targetTimeArray, simResult['cfqr'].system.get_kinetic_energy(all_states[index_choice][min_phi_2_particle]))\n"
   ]
  },
  {
   "cell_type": "code",
   "execution_count": null,
   "id": "94",
   "metadata": {},
   "outputs": [],
   "source": []
  },
  {
   "cell_type": "code",
   "execution_count": null,
   "id": "95",
   "metadata": {},
   "outputs": [],
   "source": []
  },
  {
   "cell_type": "code",
   "execution_count": null,
   "id": "96",
   "metadata": {},
   "outputs": [],
   "source": [
    "import sys, importlib\n",
    "importlib.reload(sys.modules['edward_tools.jupyter_helper_function'])\n",
    "from edward_tools.jupyter_helper_function import work_analysis, KE_analysis, single_particle_analysis, fidelity_analysis, work_done_of_each_type\n",
    "all_states = simResult['cfqr'].get_all_state()\n",
    "reducedTimeArray = simResult['cfqr'].getReducedTimeArray()\n",
    "\n",
    "particle_category = [\"00\", \"01\"]\n",
    "\n",
    "fig, ax1 = plt.subplots(figsize=(8, 5))\n",
    "ax2 = ax1.twinx()\n",
    "\n",
    "for _c in particle_category:\n",
    "\n",
    "    index_choice = simResult['cfqr'].getIndexOfParticles()[_c]\n",
    "    \n",
    "    ax1.plot(reducedTimeArray, np.mean(all_states[index_choice, :, 1, 0], axis = 0))\n",
    "    ax1.set_ylim(1.8, 2.1)\n",
    "    ax1.set_xlim(5, 7.5)\n",
    "    print(simResult['cfqr'].protocol_time_array)\n",
    "    y_min, y_max = ax1.set_ylim()\n",
    "    x_min, x_max = ax1.set_xlim()\n",
    "    for _t in simResult['cfqr'].protocol_time_array:\n",
    "        plt.vlines(x=_t, ymin = y_min, ymax = y_max, linestyles=\"--\")\n",
    "\n",
    "\n",
    "    all_states_00_i1 = all_states[index_choice][p_index, ...]\n",
    "    mean_phi_2 = all_states_00_i1[:, 1, 0]\n",
    "    # mean_phi_1 = np.mean(all_states[index_choice][:, :, 0, 0], axis = 0)\n",
    "\n",
    "\n",
    "    ax2.plot(reduced_protocal_time_array, mean_phi_2, alpha =0.8, color = \"grey\", label = f\"avg phi_2 of {particle_category}\")\n",
    "    ax2.set_ylim(-4, 4)\n",
    "    ax2.set_ylabel(r\"$\\varphi_{2}$\")\n",
    "\n",
    "    ax2.hlines(1.5, x_min, x_max, color = \"red\", linestyle = \"--\")\n",
    "    ax2.hlines(0.5, x_min, x_max, color = \"red\", linestyle = \"--\")\n",
    "    ax1.set_title(f\"energy profile of {particle_category} particle (total time of protocol = {protocol_time_array[-1] * characteristic_time * 1e9:.3g} ns)\")\n",
    "    ax2.legend()\n",
    "    plt.show()"
   ]
  },
  {
   "cell_type": "code",
   "execution_count": null,
   "id": "97",
   "metadata": {},
   "outputs": [],
   "source": []
  },
  {
   "cell_type": "markdown",
   "id": "98",
   "metadata": {},
   "source": [
    "## KE histogram"
   ]
  },
  {
   "cell_type": "code",
   "execution_count": null,
   "id": "99",
   "metadata": {},
   "outputs": [],
   "source": [
    "time_index_start = 0\n",
    "time_index_end = -1\n",
    "frame_skip =10\n",
    "all_state = simResult['cfqr'].sim.output.all_state['states'][:, time_index_start:time_index_end, ...]\n",
    "targetTimeArray = protocol_all_time_array[simResult['cfqr'].sim.target_step_index][time_index_start:time_index_end]\n",
    "\n",
    "animation_time_array = targetTimeArray[::frame_skip]\n",
    "animation_states = all_state[:, ::frame_skip, ...]\n",
    "\n",
    "fig, ax = plt.subplots(2, 2, figsize=[10, 10])\n",
    "ax_flatten = ax.flatten()\n",
    "\n",
    "\n",
    "particle_index = simResult['cfqr'].getIndexOfParticles()\n",
    "\n",
    "KE_01_int = simResult['cfqr'].system.get_kinetic_energy(animation_states[particle_index['00'], 0])\n",
    "hist_plot = ax_flatten[0].hist(KE_01_int)[2]\n",
    "\n",
    "\n",
    "\n",
    "def animate(i):\n",
    "    params_at_t_str = [f\"{key}: {value:.3g}\" for key, value in zip(simResult['cfqr'].protocol_key[-6:-1], simResult['cfqr'].protocol.get_params(animation_time_array[i])[-6:-1])]\n",
    "    fig.suptitle(f\"t = {animation_time_array[i]} + {params_at_t_str}\")\n",
    "    ax_flatten[0].clear()\n",
    "    \n",
    "    ax_flatten[0].hist(simResult['cfqr'].system.get_kinetic_energy(animation_states[particle_index['00'], i]))\n",
    "            \n",
    "ani = FuncAnimation(fig, animate, interval=500, frames=len(animation_time_array))\n",
    "writer = animation.PillowWriter(fps=5, metadata=dict(artist='Me'), bitrate=1800)\n",
    "ani.save('scatter.gif', writer=writer)\n",
    "plt.close()\n",
    "\n",
    "\n"
   ]
  },
  {
   "cell_type": "code",
   "execution_count": null,
   "id": "100",
   "metadata": {},
   "outputs": [],
   "source": [
    "Image(filename=\"scatter.gif\")"
   ]
  },
  {
   "cell_type": "code",
   "execution_count": null,
   "id": "101",
   "metadata": {},
   "outputs": [],
   "source": [
    "all_state = simResult['cfqr'].sim.output.all_state['states']\n",
    "targetTimeArray = protocol_all_time_array[simResult['cfqr'].sim.target_step_index]\n",
    "\n",
    "fig, ax = plt.subplots(2, 2, figsize = [10, 10])\n",
    "ax_flatten = [ax[1][0], ax[0][0], ax[1][1], ax[0][1]]\n",
    "for i, key in enumerate(particle_index.keys()):\n",
    "    max_KE = np.max(simResult['cfqr'].system.get_kinetic_energy(all_state[particle_index[key]]), axis = 0)\n",
    "    min_KE = np.min(simResult['cfqr'].system.get_kinetic_energy(all_state[particle_index[key]]), axis = 0)\n",
    "    mean_KE = np.mean(simResult['cfqr'].system.get_kinetic_energy(all_state[particle_index[key]]), axis = 0)\n",
    "    ax_flatten[i].plot(targetTimeArray, min_KE)\n",
    "    ax_flatten[i].plot(targetTimeArray, max_KE)\n",
    "    ax_flatten[i].plot(targetTimeArray, mean_KE)\n",
    "    ax_flatten[i].set_title(f\"max and min KE of {key}\")"
   ]
  },
  {
   "cell_type": "markdown",
   "id": "102",
   "metadata": {},
   "source": [
    "## animation in different space"
   ]
  },
  {
   "cell_type": "code",
   "execution_count": null,
   "id": "103",
   "metadata": {},
   "outputs": [],
   "source": [
    "all_states = simResult['cfqr'].get_all_state()\n",
    "frame_skip = 20\n",
    "targetTimeArray = protocol_all_time_array[simResult['cfqr'].sim.target_step_index]\n",
    "animation_time_array = targetTimeArray[::frame_skip]\n",
    "animation_states = all_states[:, ::frame_skip, ...]\n",
    "\n",
    "fig, ax = plt.subplots(2, 5, figsize=[20, 7])\n",
    "plot_label_1 = [(\"phi_1\", \"phi_2\"), (\"phi_1dc\", \"phi_2dc\"), (\"phi_1\", \"phi_1dc\"), (\"phi_1\", \"phi_2dc\"), (\"phi_2\", \"phi_1dc\"), (\"phi_2\", \"phi_2dc\")]\n",
    "plot_label_2 = [\"phi_1\", \"phi_2\", \"phi_1dc\", \"phi_2dc\"]\n",
    "pColor = {\"00\": \"#061DF7\", \"01\": \"#FCEF51\", \"10\": \"#3FC7F2\", \"11\": \"#F187F4\"}\n",
    "\n",
    "ax_flatten = ax.flatten()\n",
    "ax_flatten_1 = [ax_flatten[i] for i in [0, 1, 2, 5, 6, 7]]\n",
    "ax_flatten_2 = [ax_flatten[i] for i in [3, 4, 8, 9]]\n",
    "phi_1_array = np.linspace(-4, 4, 1000)\n",
    "phi_2_array = np.linspace(-4, 4, 1000)\n",
    "phi_1dc_array = np.linspace(-4, 4, 1000)\n",
    "phi_2dc_array = np.linspace(-4, 4, 1000)\n",
    "\n",
    "for _ax, (xlabel, ylabel) in zip(ax_flatten_1, plot_label_1):\n",
    "    _ax.set_xlim(-4, 4)\n",
    "    _ax.set_ylim(-4, 4)\n",
    "    _ax.set_xlabel(xlabel)\n",
    "    _ax.set_ylabel(ylabel)    \n",
    "    _ax.set_aspect(1)\n",
    "\n",
    "for _ax, xlabel in zip(ax_flatten_2, plot_label_2):\n",
    "    _ax.set_xlim(-4, 4)\n",
    "    _ax.set_ylim(800, 1000)\n",
    "    _ax.set_xlabel(xlabel)\n",
    "    _ax.set_ylabel(\"PE\")    \n",
    "    # _ax.set_aspect(1)\n",
    "\n",
    "\n",
    "plot_axis_1 = [[0, 1], [2, 3], [0, 2], [0, 3], [1, 2], [1, 3]]\n",
    "plot_axis_2 = [0, 1, 2, 3]\n",
    "\n",
    "scatter_array_1 = []\n",
    "scatter_array_2 = []\n",
    "potential_min_plot_array = {}\n",
    "potential_max_plot_array = {}\n",
    "\n",
    "potential_min_2_plot_array = {}\n",
    "potential_max_2_plot_array = {}\n",
    "\n",
    "potential_min_1dc_plot_array = {}\n",
    "potential_max_1dc_plot_array = {}\n",
    "\n",
    "# for key, index in particle_index.items():\n",
    "for key, index in [(\"11\", particle_index[\"11\"])]:\n",
    "    for _i, (_x, _y) in enumerate(plot_axis_1):\n",
    "        _scatter = ax_flatten_1[_i].scatter(all_states[index, 0, _x, 0], all_states[index, 0, _y, 0], c = pColor[key])\n",
    "        scatter_array_1.append(_scatter)\n",
    "\n",
    "    for _i in plot_axis_2:\n",
    "        potential = simResult['cfqr'].system.get_potential(animation_states[index, 0, ...], 0)\n",
    "        _scatter = ax_flatten_2[_i].scatter(all_states[index, 0, _i, 0], potential, c = pColor[key])\n",
    "        scatter_array_2.append(_scatter)\n",
    "        \n",
    "        params_at_0 = simResult['cfqr'].protocol.get_params(0)\n",
    "        phi_1_min_array = np.min(animation_states[index, 0, 0, 0], axis = 0)\n",
    "        phi_1_max_array = np.max(animation_states[index, 0, 0, 0], axis = 0)\n",
    "        phi_1_mean = np.mean(animation_states[index, 0, 0, 0])\n",
    "\n",
    "        phi_2_min_array = np.min(animation_states[index, 0, 1, 0], axis = 0)\n",
    "        phi_2_max_array = np.max(animation_states[index, 0, 1, 0], axis = 0)\n",
    "        phi_2_mean = np.mean(animation_states[index, 0, 1, 0])\n",
    "\n",
    "        phi_1dc_min_array = np.min(animation_states[index, 0, 2, 0], axis = 0)\n",
    "        phi_1dc_max_array = np.max(animation_states[index, 0, 2, 0], axis = 0)\n",
    "        phi_1dc_mean = np.mean(animation_states[index, 0, 2, 0])\n",
    "\n",
    "        \n",
    "        phi_2dc_min_array = np.min(animation_states[index, 0, 3, 0], axis = 0)\n",
    "        phi_2dc_max_array = np.max(animation_states[index, 0, 3, 0], axis = 0)\n",
    "        phi_2dc_mean = np.mean(animation_states[index, 0, 3, 0], axis = 0)    \n",
    "        \n",
    "        if _i == 0:\n",
    "            potential_min_array = coupled_flux_qubit_non_linear_approx_pot(phi_1_array, phi_2_mean, phi_1dc_mean, phi_2dc_mean, params_at_0)\n",
    "            _potetnial_min_plot = ax_flatten_2[_i].plot(phi_1_array, potential_min_array, c = pColor[key], linestyle= \"--\")[0]\n",
    "            potential_min_plot_array[key] = _potetnial_min_plot\n",
    "        \n",
    "            potential_max_array = coupled_flux_qubit_non_linear_approx_pot(phi_1_array, phi_2_mean, phi_1dc_mean, phi_2dc_mean, params_at_0)\n",
    "            _potetnial_max_plot = ax_flatten_2[_i].plot(phi_1_array, potential_max_array, c = pColor[key])[0]\n",
    "            potential_max_plot_array[key] = _potetnial_max_plot\n",
    "            \n",
    "        \n",
    "        if _i == 1:\n",
    "            print(phi_1_mean, phi_2_min_array, 0, 1.88)\n",
    "            potential_min_array = coupled_flux_qubit_non_linear_approx_pot(phi_1_mean, phi_2_array, phi_1dc_mean, phi_2dc_mean, params_at_0)\n",
    "            _potetnial_min_plot = ax_flatten_2[_i].plot(phi_2_array, potential_min_array, c = pColor[key], linestyle= \"--\")[0]\n",
    "            potential_min_2_plot_array[key] = _potetnial_min_plot\n",
    "        \n",
    "            potential_max_array = coupled_flux_qubit_non_linear_approx_pot(phi_1_mean, phi_2_array, phi_1dc_mean, phi_2dc_mean, params_at_0)\n",
    "            _potetnial_max_plot = ax_flatten_2[_i].plot(phi_2_array, potential_max_array, c = pColor[key])[0]\n",
    "            potential_max_2_plot_array[key] = _potetnial_max_plot\n",
    "        \n",
    "\n",
    "        if _i == 2:\n",
    "            potential_min_array = coupled_flux_qubit_non_linear_approx_pot(phi_1_min_array, phi_2_array, phi_1dc_array, phi_2dc_array, params_at_0)\n",
    "            _potetnial_min_plot = ax_flatten_2[_i].plot(phi_1dc_array, potential_min_array, c = pColor[key], linestyle= \"--\")[0]\n",
    "            potential_min_1dc_plot_array[key] = _potetnial_min_plot\n",
    "        \n",
    "            potential_max_array = coupled_flux_qubit_non_linear_approx_pot(phi_1_max_array, phi_2_array, phi_1dc_array, phi_2dc_array, params_at_0)\n",
    "            _potetnial_max_plot = ax_flatten_2[_i].plot(phi_1dc_array, potential_max_array, c = pColor[key])[0]\n",
    "            potential_max_1dc_plot_array[key] = _potetnial_max_plot\n",
    "        \n",
    "def animate(i):\n",
    "    counter_1, counter_2 = 0, 0\n",
    "    _t = animation_time_array[i]\n",
    "    simResult['cfqr'].protocol.get_params(animation_time_array[i])\n",
    "    params_at_t_str = [f\"{key}: {value:.3g}\" for key, value in zip(simResult['cfqr'].protocol_key[-6:-1], simResult['cfqr'].protocol.get_params(animation_time_array[i])[-6:-1])]\n",
    "    fig.suptitle(f\"t = {animation_time_array[i]} + {params_at_t_str}\")\n",
    "    \n",
    "    # for key, index in particle_index.items():\n",
    "    for key, index in [(\"11\", particle_index[\"11\"])]:\n",
    "        for _i, (_x, _y) in enumerate(plot_axis_1):\n",
    "            scatter_array_1[counter_1].set_offsets(np.c_[animation_states[index, i, _x, 0], animation_states[index, i, _y, 0]])\n",
    "            counter_1 += 1\n",
    "\n",
    "        for _i in plot_axis_2:\n",
    "            potential_i = simResult['cfqr'].system.get_potential(animation_states[index, i, ...], animation_time_array[i])\n",
    "            scatter_array_2[counter_2].set_offsets(np.c_[animation_states[index, i, _i, 0], potential_i])\n",
    "\n",
    "            params_at_t = simResult['cfqr'].protocol.get_params(_t)\n",
    "            phi_1_min_array = np.min(animation_states[index, i, 0, 0], axis = 0)\n",
    "            phi_1_max_array = np.max(animation_states[index, i, 0, 0], axis = 0)\n",
    "            \n",
    "            phi_2_min_array = np.min(animation_states[index, i, 1, 0], axis = 0)\n",
    "            phi_2_max_array = np.max(animation_states[index, i, 1, 0], axis = 0)\n",
    "            \n",
    "\n",
    "            phi_1dc_min_array = np.min(animation_states[index, i, 2, 0], axis = 0)\n",
    "            phi_1dc_max_array = np.max(animation_states[index, i, 2, 0], axis = 0)\n",
    "            \n",
    "            phi_2dc_array = np.mean(animation_states[index, i, 3, 0], axis = 0)\n",
    "            \n",
    "            if _i == 0:    \n",
    "                potential_min_array = coupled_flux_qubit_non_linear_approx_pot(phi_1_array, phi_2_array, phi_1dc_min_array, phi_2dc_array, params_at_t)\n",
    "                potential_min_plot_array[key].set_xdata(phi_1_array)\n",
    "                potential_min_plot_array[key].set_ydata(potential_min_array)\n",
    "                \n",
    "                potential_max_array = coupled_flux_qubit_non_linear_approx_pot(phi_1_array, phi_2_array, phi_1dc_max_array, phi_2dc_array, params_at_t)\n",
    "                potential_max_plot_array[key].set_xdata(phi_1_array)\n",
    "                potential_max_plot_array[key].set_ydata(potential_max_array)\n",
    "\n",
    "\n",
    "            if _i == 1:    \n",
    "                potential_min_array = coupled_flux_qubit_non_linear_approx_pot(phi_1_array, phi_2_min_array, phi_1dc_array, phi_2dc_array, params_at_t)\n",
    "                potential_min_2_plot_array[key].set_xdata(phi_1_array)\n",
    "                potential_min_2_plot_array[key].set_ydata(potential_min_array)\n",
    "                \n",
    "                potential_max_array = coupled_flux_qubit_non_linear_approx_pot(phi_1_array, phi_2_max_array, phi_1dc_array, phi_2dc_array, params_at_t)\n",
    "                potential_max_2_plot_array[key].set_xdata(phi_1_array)\n",
    "                potential_max_2_plot_array[key].set_ydata(potential_max_array)\n",
    "\n",
    "            if _i == 2:\n",
    "                potential_min_array = coupled_flux_qubit_non_linear_approx_pot(phi_1_min_array, phi_2_array, phi_1dc_array, phi_2dc_array, params_at_t)\n",
    "                potential_min_1dc_plot_array[key].set_xdata(phi_1dc_array)\n",
    "                potential_min_1dc_plot_array[key].set_ydata(potential_min_array)\n",
    "                \n",
    "                potential_max_array = coupled_flux_qubit_non_linear_approx_pot(phi_1_max_array, phi_2_array, phi_1dc_array, phi_2dc_array, params_at_t)\n",
    "                potential_max_1dc_plot_array[key].set_xdata(phi_1dc_array)\n",
    "                potential_max_1dc_plot_array[key].set_ydata(potential_max_array)\n",
    "                \n",
    "            \n",
    "            counter_2 += 1\n",
    "\n",
    "# ani = FuncAnimation(fig, animate, interval=100, frames=len(animation_time_array))\n",
    "# writer = animation.PillowWriter(fps=30, metadata=dict(artist='Me'), bitrate=1800)\n",
    "# ani.save('scatter.gif', writer=writer)\n",
    "# # plt.close()"
   ]
  },
  {
   "cell_type": "code",
   "execution_count": null,
   "id": "104",
   "metadata": {},
   "outputs": [],
   "source": []
  },
  {
   "cell_type": "code",
   "execution_count": null,
   "id": "105",
   "metadata": {},
   "outputs": [],
   "source": []
  },
  {
   "cell_type": "code",
   "execution_count": null,
   "id": "106",
   "metadata": {},
   "outputs": [],
   "source": [
    "Image(filename=\"scatter.gif\")"
   ]
  },
  {
   "cell_type": "code",
   "execution_count": null,
   "id": "107",
   "metadata": {},
   "outputs": [],
   "source": [
    "all_state = simResult['cfqr'].get_all_state()\n",
    "reducedTimeArray = simResult['cfqr'].getReducedTimeArray()\n",
    "particle_01_jump_to_a_wrong_well = all_state[particle_index[\"11\"]][np.any(all_state[particle_index[\"11\"]][:, :, 1, 0] < 0, axis = 1)]\n",
    "\n",
    "\n",
    "plt.plot(particle_01_jump_to_a_wrong_well[0, :, 1, 0])\n",
    "# plt.plot(simResult['cfqr'].system.get_kinetic_energy(particle_01_jump_to_a_wrong_well))"
   ]
  },
  {
   "cell_type": "code",
   "execution_count": null,
   "id": "108",
   "metadata": {},
   "outputs": [],
   "source": [
    "PE_of_wrong_particle = [simResult[\"cfqr\"].system.get_potential(coord, t) for coord, t in zip(particle_01_jump_to_a_wrong_well[0, ...], reducedTimeArray)]\n",
    "max(PE_of_wrong_particle) - min(PE_of_wrong_particle)"
   ]
  },
  {
   "cell_type": "code",
   "execution_count": null,
   "id": "109",
   "metadata": {},
   "outputs": [],
   "source": [
    "simResult[\"cfqr\"].system.get_potential(init_state_used, 0)"
   ]
  },
  {
   "cell_type": "code",
   "execution_count": null,
   "id": "110",
   "metadata": {},
   "outputs": [],
   "source": []
  },
  {
   "cell_type": "code",
   "execution_count": null,
   "id": "111",
   "metadata": {},
   "outputs": [],
   "source": [
    "np.any(all_state[particle_index[\"10\"]][:, :, 1, 0] < 0, axis = 1)"
   ]
  },
  {
   "cell_type": "code",
   "execution_count": null,
   "id": "112",
   "metadata": {},
   "outputs": [],
   "source": [
    "all_state"
   ]
  },
  {
   "cell_type": "code",
   "execution_count": null,
   "id": "113",
   "metadata": {},
   "outputs": [],
   "source": [
    "all_state[particle_index[\"11\"], :, 1, 0]"
   ]
  },
  {
   "cell_type": "code",
   "execution_count": null,
   "id": "114",
   "metadata": {},
   "outputs": [],
   "source": [
    "particle_01_jump_to_a_wrong_well_copy = particle_01_jump_to_a_wrong_well[...]"
   ]
  },
  {
   "cell_type": "code",
   "execution_count": null,
   "id": "115",
   "metadata": {},
   "outputs": [],
   "source": [
    "particle_01_jump_to_a_wrong_well_copy[:, :, (0, 2, 3), 1] = 0"
   ]
  },
  {
   "cell_type": "code",
   "execution_count": null,
   "id": "116",
   "metadata": {},
   "outputs": [],
   "source": [
    "particle_01_jump_to_a_wrong_well_copy"
   ]
  },
  {
   "cell_type": "code",
   "execution_count": null,
   "id": "117",
   "metadata": {},
   "outputs": [],
   "source": [
    "plt.plot(simResult['cfqr'].system.get_kinetic_energy(particle_01_jump_to_a_wrong_well)[0])\n",
    "plt.plot(simResult['cfqr'].system.get_kinetic_energy(particle_01_jump_to_a_wrong_well_copy)[0])"
   ]
  },
  {
   "cell_type": "code",
   "execution_count": null,
   "id": "118",
   "metadata": {},
   "outputs": [],
   "source": [
    "particle_01_jump_to_a_wrong_well[0, :, 1, 0]"
   ]
  },
  {
   "cell_type": "markdown",
   "id": "119",
   "metadata": {},
   "source": [
    "# old stuff"
   ]
  },
  {
   "cell_type": "code",
   "execution_count": null,
   "id": "120",
   "metadata": {},
   "outputs": [],
   "source": [
    "particle_index = simResult['cfqr'].getIndexOfParticles()\n",
    "time_index_start = 0\n",
    "time_index_end = 500\n",
    "frame_skip = 5\n",
    "all_state = simResult['cfqr'].sim.output.all_state['states'][:, time_index_start:time_index_end, ...]\n",
    "targetTimeArray = protocol_all_time_array[simResult['cfqr'].sim.target_step_index][time_index_start:time_index_end]\n",
    "\n",
    "animation_time_array = targetTimeArray[::frame_skip]\n",
    "animation_states = all_state[:, ::frame_skip, ...]\n",
    "# print(\"geenerated at \", datetime.datetime.now())\n",
    "\n",
    "# print(targetTimeArray)\n",
    "# print(animation_time_array)\n",
    "\n",
    "fig, ax = plt.subplots(2, 2, figsize=[10, 10])\n",
    "ax_flatten = ax.flatten()\n",
    "\n",
    "hist_plot = ax_flatten[0].hist(animation_states[particle_index['00'], 0, 0, 1])[2]\n",
    "hist_plot = ax_flatten[1].hist(animation_states[particle_index['00'], 0, 1, 1])[2]\n",
    "# print()\n",
    "\n",
    "def animate(i):\n",
    "    params_at_t_str = [f\"{key}: {value:.3g}\" for key, value in zip(simResult['cfqr'].protocol_key[-6:-1], simResult['cfqr'].protocol.get_params(animation_time_array[i])[-6:-1])]\n",
    "    fig.suptitle(f\"t = {animation_time_array[i]} + {params_at_t_str}\")\n",
    "    ax_flatten[0].clear()\n",
    "    ax_flatten[1].clear()\n",
    "    \n",
    "    ax_flatten[0].hist(animation_states[particle_index['00'], i, 0, 1])\n",
    "    ax_flatten[1].hist(animation_states[particle_index['00'], i, 1, 1])\n",
    "            \n",
    "ani = FuncAnimation(fig, animate, interval=500, frames=len(animation_time_array))\n",
    "writer = animation.PillowWriter(fps=5, metadata=dict(artist='Me'), bitrate=1800)\n",
    "ani.save('scatter.gif', writer=writer)\n",
    "plt.close()\n"
   ]
  },
  {
   "cell_type": "code",
   "execution_count": null,
   "id": "121",
   "metadata": {},
   "outputs": [],
   "source": [
    "Image(filename=\"scatter.gif\")"
   ]
  },
  {
   "cell_type": "code",
   "execution_count": null,
   "id": "122",
   "metadata": {},
   "outputs": [],
   "source": [
    "particle_11_v_y = plt.plot(animation_states[particle_index['11'], :, 1, 1])"
   ]
  },
  {
   "cell_type": "code",
   "execution_count": null,
   "id": "123",
   "metadata": {},
   "outputs": [],
   "source": []
  },
  {
   "cell_type": "code",
   "execution_count": null,
   "id": "124",
   "metadata": {},
   "outputs": [],
   "source": [
    "particle_category"
   ]
  },
  {
   "cell_type": "code",
   "execution_count": null,
   "id": "125",
   "metadata": {},
   "outputs": [],
   "source": [
    "fig, ax1 = plt.subplots(figsize=(7.5, 5))\n",
    "ax2 = ax1.twinx()\n",
    "\n",
    "reduced_data = single_particle_analysis(simResult, params, protocol_list, plot_ax = ax1, particle_index = particle_index, particle_category= particle_category[0], time_range=[100, 123])\n",
    "\n",
    "reduced_protocal_time_array = reduced_data[\"reduced_protocal_time_array\"]\n",
    "index_slice = reduced_data[\"index_slice\"]\n",
    "\n",
    "ax2.plot(reduced_protocal_time_array[index_slice], mean_phi_2[index_slice], alpha =0.8, color = \"grey\", label = f\"avg phi_2 of {particle_category}\")\n",
    "ax2.set_ylim(-4, 4)\n",
    "ax2.set_ylabel(r\"$\\varphi_{2}$\")\n",
    "y_min, y_max = ax1.set_ylim()\n",
    "x_min, x_max = ax1.set_xlim()\n",
    "\n",
    "ax1.set_title(f\"energy profile of {particle_category} particle (total time of protocol = {protocol_time_array[-1] * characteristic_time * 1e9:.3g} ns)\")\n",
    "\n",
    "ax2.hlines(1.5, x_min, x_max, color = \"red\", linestyle = \"--\")\n",
    "ax2.hlines(0.5, x_min, x_max, color = \"red\", linestyle = \"--\")\n",
    "\n"
   ]
  },
  {
   "cell_type": "markdown",
   "id": "126",
   "metadata": {},
   "source": [
    "# show state at time t"
   ]
  },
  {
   "cell_type": "code",
   "execution_count": null,
   "id": "127",
   "metadata": {},
   "outputs": [],
   "source": [
    "def search_protocol_time_array_index(array, start):\n",
    "    x = np.sort(np.append(array, start))\n",
    "    \n",
    "    start_index = np.where(x == start)[0][0]\n",
    "    if start != round(array[start_index]):\n",
    "        start_index += 1\n",
    "    return start_index"
   ]
  },
  {
   "cell_type": "code",
   "execution_count": null,
   "id": "128",
   "metadata": {},
   "outputs": [],
   "source": [
    "import imageio"
   ]
  },
  {
   "cell_type": "code",
   "execution_count": null,
   "id": "129",
   "metadata": {
    "tags": []
   },
   "outputs": [],
   "source": [
    "all_states_of_00 = all_states[simResult['cfqr'].getIndexOfParticles()[\"00\"]]\n",
    "all_states_of_01 = all_states[simResult['cfqr'].getIndexOfParticles()[\"01\"]]\n",
    "all_states_of_10 = all_states[simResult['cfqr'].getIndexOfParticles()[\"10\"]]\n",
    "all_states_of_11 = all_states[simResult['cfqr'].getIndexOfParticles()[\"11\"]]\n",
    "np.save(\"state_for_no_KE_extraction/all_states_of_00.npy\", all_states_of_00)\n",
    "np.save(\"state_for_no_KE_extraction/all_states_of_01.npy\", all_states_of_01)\n",
    "np.save(\"state_for_no_KE_extraction/all_states_of_10.npy\", all_states_of_10)\n",
    "np.save(\"state_for_no_KE_extraction/all_states_of_11.npy\", all_states_of_11)\n",
    "np.save(\"state_for_no_KE_extraction/reduced_protocol_time_array.npy\", reduced_protocal_time_array)\n",
    "\n",
    "\n",
    "chosen_state = \"01\"\n",
    "prefix = \"KEP (no)\"\n",
    "if chosen_state == \"00\":\n",
    "    plot_states = all_states_of_00\n",
    "if chosen_state == \"01\":\n",
    "    plot_states = all_states_of_01\n",
    "if chosen_state == \"10\":\n",
    "    plot_states = all_states_of_10\n",
    "if chosen_state == \"11\":\n",
    "    plot_states = all_states_of_11\n",
    "target_index_array = []\n",
    "animation_picture = []\n",
    "for t in np.linspace(100, 123, 50):\n",
    "    target_index = search_protocol_time_array_index(reduced_protocal_time_array, t)\n",
    "    \n",
    "    \n",
    "    if target_index in target_index_array:\n",
    "        continue\n",
    "    else:\n",
    "        target_index_array.append(t)\n",
    "    \n",
    "    target_state = plot_states[:, target_index, ...]\n",
    "    mean_position = np.mean(target_state[:, 0, 0]), np.mean(target_state[:, 1, 0])\n",
    "    mean_speed = np.mean(target_state[:, 0, 1]), np.mean(target_state[:, 1, 1])\n",
    "    \n",
    "    \n",
    "    fig, ax = plt.subplots(1,1, figsize = [5, 5])\n",
    "    ax.set_aspect(1)\n",
    "    ax.scatter(target_state[:, 0, 0], target_state[:, 1, 0])\n",
    "    ax.scatter(mean_position[0], mean_position[1], color = \"red\")\n",
    "    ax.arrow(mean_position[0], mean_position[1], dx = mean_speed[0], dy = mean_speed[1], color = \"yellow\", width = 0.05)\n",
    "    ax.set_title(f\"particle: {chosen_state}, time = {t:.4g}\")\n",
    "    ax.set_xlim(-4, 4)\n",
    "    ax.set_ylim(-4, 4)\n",
    "    \n",
    "    pic_name = \"cfq_data/sudden_jump_KEP/\" + f\"{prefix}_{chosen_state}_{len(target_index_array)}.png\"\n",
    "    plt.savefig(pic_name)\n",
    "    plt.close(fig)\n",
    "\n",
    "    animation_picture.append(imageio.imread(pic_name))\n",
    "\n",
    "imageio.mimsave(f\"cfq_data/sudden_jump_KEP/{prefix}_{chosen_state}_particle.gif\", animation_picture, loop = 0, duration=0.1)\n"
   ]
  },
  {
   "cell_type": "code",
   "execution_count": null,
   "id": "130",
   "metadata": {},
   "outputs": [],
   "source": [
    "# np.save(\"saved_init_state/after_CE_completed_N_1000.npy\", target_state)"
   ]
  },
  {
   "cell_type": "code",
   "execution_count": null,
   "id": "131",
   "metadata": {},
   "outputs": [],
   "source": [
    "np.mean(cfqr.system.get_kinetic_energy(target_state))"
   ]
  },
  {
   "cell_type": "code",
   "execution_count": null,
   "id": "132",
   "metadata": {},
   "outputs": [],
   "source": [
    "reduced_protocal_time_array"
   ]
  },
  {
   "cell_type": "markdown",
   "id": "133",
   "metadata": {},
   "source": []
  },
  {
   "cell_type": "code",
   "execution_count": null,
   "id": "134",
   "metadata": {},
   "outputs": [],
   "source": []
  },
  {
   "cell_type": "markdown",
   "id": "135",
   "metadata": {},
   "source": [
    "# mean position of the particle"
   ]
  },
  {
   "cell_type": "code",
   "execution_count": null,
   "id": "136",
   "metadata": {},
   "outputs": [],
   "source": [
    "all_states_of_00 = all_states[simResult['cfqr'].getIndexOfParticles()[\"00\"]]"
   ]
  },
  {
   "cell_type": "code",
   "execution_count": null,
   "id": "137",
   "metadata": {},
   "outputs": [],
   "source": [
    "\n",
    "all_state = simResult['cfqr'].sim.output.all_state['states']\n",
    "reduced_time_array = simResult['cfqr'].getReducedTimeArray()\n",
    "index_of_00 = simResult['cfqr'].getIndexOfParticles()[\"00\"]\n",
    "index_of_01 = simResult['cfqr'].getIndexOfParticles()[\"01\"]\n",
    "index_of_10 = simResult['cfqr'].getIndexOfParticles()[\"10\"]\n",
    "index_of_11 = simResult['cfqr'].getIndexOfParticles()[\"11\"]\n",
    "index_of_not_00 = ~simResult['cfqr'].getIndexOfParticles()[\"00\"]\n",
    "\n",
    "fig, ax = plt.subplots(4, 4, figsize = [18, 12], sharex=True)\n",
    "\n",
    "for i, index_of_particle in enumerate([index_of_00, index_of_01, index_of_10, index_of_11]):\n",
    "    v_1 = np.mean(all_state[index_of_particle, :, 0, 0], axis = 0)\n",
    "    v_2 = np.mean(all_state[index_of_particle, :, 1, 0], axis = 0)\n",
    "    v_1dc = np.mean(all_state[index_of_particle, :, 2, 0], axis = 0)\n",
    "    v_2dc = np.mean(all_state[index_of_particle, :, 3, 0], axis = 0)\n",
    "    ax[i][0].plot(reduced_time_array, v_1)\n",
    "    ax[i][1].plot(reduced_time_array, v_2)\n",
    "    ax[i][2].plot(reduced_time_array, v_1dc)\n",
    "    ax[i][3].plot(reduced_time_array, v_2dc)\n",
    "ax[0][0].set_ylabel(r\"$\\varphi_1$\", size = 15)\n",
    "ax[1][0].set_ylabel(r\"$\\varphi_2$\", size = 15)\n",
    "ax[2][0].set_ylabel(r\"$\\varphi_1dc$\", size = 15)\n",
    "ax[3][0].set_ylabel(r\"$\\varphi_2dc$\", size = 15)\n",
    "fig.supxlabel('time', size = 20)\n",
    "\n"
   ]
  },
  {
   "cell_type": "code",
   "execution_count": null,
   "id": "138",
   "metadata": {},
   "outputs": [],
   "source": []
  },
  {
   "cell_type": "code",
   "execution_count": null,
   "id": "139",
   "metadata": {},
   "outputs": [],
   "source": []
  },
  {
   "cell_type": "code",
   "execution_count": null,
   "id": "140",
   "metadata": {},
   "outputs": [],
   "source": []
  },
  {
   "cell_type": "markdown",
   "id": "141",
   "metadata": {},
   "source": [
    "# KE Analysis"
   ]
  },
  {
   "cell_type": "code",
   "execution_count": null,
   "id": "142",
   "metadata": {},
   "outputs": [],
   "source": [
    "KE_analysis(simResult)"
   ]
  },
  {
   "cell_type": "markdown",
   "id": "143",
   "metadata": {},
   "source": [
    "# v analysis"
   ]
  },
  {
   "cell_type": "code",
   "execution_count": null,
   "id": "144",
   "metadata": {},
   "outputs": [],
   "source": [
    "\n",
    "all_state = simResult['cfqr'].sim.output.all_state['states']\n",
    "reduced_time_array = simResult['cfqr'].getReducedTimeArray()\n",
    "index_of_00 = simResult['cfqr'].getIndexOfParticles()[\"00\"]\n",
    "index_of_01 = simResult['cfqr'].getIndexOfParticles()[\"01\"]\n",
    "index_of_10 = simResult['cfqr'].getIndexOfParticles()[\"10\"]\n",
    "index_of_11 = simResult['cfqr'].getIndexOfParticles()[\"11\"]\n",
    "index_of_not_00 = ~simResult['cfqr'].getIndexOfParticles()[\"00\"]\n",
    "\n",
    "fig, ax = plt.subplots(4, 4, figsize = [16, 12])\n",
    "\n",
    "for i, index_of_particle in enumerate([index_of_00, index_of_01, index_of_10, index_of_11]):\n",
    "    v_1 = np.mean(all_state[index_of_particle, :, 0, 1], axis = 0)\n",
    "    v_2 = np.mean(all_state[index_of_particle, :, 1, 1], axis = 0)\n",
    "    v_1dc = np.mean(all_state[index_of_particle, :, 2, 1], axis = 0)\n",
    "    v_2dc = np.mean(all_state[index_of_particle, :, 3, 1], axis = 0)\n",
    "    ax[i][0].plot(reduced_time_array, v_1)\n",
    "    ax[i][1].plot(reduced_time_array, v_2)\n",
    "    ax[i][2].plot(reduced_time_array, v_1dc)\n",
    "    ax[i][3].plot(reduced_time_array, v_2dc)\n",
    "\n",
    "\n",
    "\n",
    "# KE_of_01 = np.mean(simResult['cfqr'].system.get_kinetic_energy(all_state[index_of_01]), axis = 0)\n",
    "# KE_of_10 = np.mean(simResult['cfqr'].system.get_kinetic_energy(all_state[index_of_10]), axis = 0)\n",
    "# KE_of_11 = np.mean(simResult['cfqr'].system.get_kinetic_energy(all_state[index_of_11]), axis = 0)\n",
    "# # KE_of_10 = np.mean(simResult['cfqr'].system.get_kinetic_energy(all_state[index_of_10]), axis = 0)\n",
    "# ax[0].plot(protocal_key_time_array, KE_of_00)\n",
    "# ax[0].set_title(\"average KE of 00\")\n",
    "# ax[0].set_xlabel(\"time\")\n",
    "# ax[0].set_ylabel(r\"KE $(k_BT)$\")\n",
    "# # ax[0].set_yscale(\"log\")\n",
    "\n",
    "# ax[1].set_title(\"average KE of 01\")\n",
    "# ax[1].plot(protocal_key_time_array, KE_of_01)\n",
    "# ax[1].set_xlabel(\"time\")\n",
    "# # ax[1].set_ylim(0, 6)\n",
    "\n",
    "# ax[2].set_title(\"average KE of 10\")\n",
    "# ax[2].plot(protocal_key_time_array, KE_of_10)\n",
    "# ax[2].set_xlabel(\"time\")\n",
    "\n",
    "# ax[3].set_title(\"average KE of 10\")\n",
    "# ax[3].plot(protocal_key_time_array, KE_of_11)\n",
    "# ax[3].set_xlabel(\"time\")"
   ]
  },
  {
   "cell_type": "code",
   "execution_count": null,
   "id": "145",
   "metadata": {},
   "outputs": [],
   "source": []
  },
  {
   "cell_type": "markdown",
   "id": "146",
   "metadata": {},
   "source": [
    "# work analysis"
   ]
  },
  {
   "cell_type": "code",
   "execution_count": null,
   "id": "147",
   "metadata": {},
   "outputs": [],
   "source": [
    "# work_analysis(simResult, params, protocol_list)"
   ]
  },
  {
   "cell_type": "code",
   "execution_count": null,
   "id": "148",
   "metadata": {},
   "outputs": [],
   "source": []
  },
  {
   "cell_type": "markdown",
   "id": "149",
   "metadata": {},
   "source": [
    "### animation"
   ]
  },
  {
   "cell_type": "code",
   "execution_count": null,
   "id": "150",
   "metadata": {},
   "outputs": [],
   "source": [
    "\n",
    "importlib.reload(coupled_fq_protocol_library)"
   ]
  },
  {
   "cell_type": "code",
   "execution_count": null,
   "id": "151",
   "metadata": {},
   "outputs": [],
   "source": [
    "def cutlineDataGeneratingFunction(initial_parameter_dict, direction = 'v', color = 'red', guess = [(-2, -2)]):\n",
    "    coord_index = 0 if direction == \"v\" else 1\n",
    "    def tracking_minimum_point(_t):\n",
    "        return  [cfqr.get_minimum_at_t_for_a_set_of_parameter(_t, initial_parameter_dict, guess = guess)[0][coord_index], direction, color]\n",
    "    return tracking_minimum_point"
   ]
  },
  {
   "cell_type": "code",
   "execution_count": null,
   "id": "152",
   "metadata": {
    "tags": []
   },
   "outputs": [],
   "source": [
    "pColor = {\"00\": \"#061DF7\", \"01\": \"red\", \"10\": \"#3FC7F2\", \"11\": \"#F187F4\"}\n",
    "\n",
    "if L_factor == 1:\n",
    "    graph_setting = {\n",
    "        0.1: {\"vmin\": 1000, \"vmax\": 2000, \"ymin\": 1000, \"ymax\": 3000},\n",
    "        0.5: {\"vmin\": 100, \"vmax\": 400, \"ymin\": 100, \"ymax\": 400},\n",
    "        1: {\"vmin\": 100, \"vmax\": 400, \"ymin\": 100, \"ymax\": 400},\n",
    "        2: {\"vmin\": 50, \"vmax\": 250, \"ymin\": 50, \"ymax\": 250},    \n",
    "        4.2: {\"vmin\": 600, \"vmax\": 2000, \"ymin\": 600, \"ymax\": 3000},\n",
    "        5: {\"vmin\": 0, \"vmax\": 100, \"ymin\": 0, \"ymax\": 150},\n",
    "        7: {\"vmin\": 0, \"vmax\": 100, \"ymin\": 0, \"ymax\": 150},\n",
    "        20: {\"vmin\": 0, \"vmax\": 20, \"ymin\": 0, \"ymax\": 20},\n",
    "        100: {\"vmin\": 0, \"vmax\": 20, \"ymin\": 0, \"ymax\": 20},\n",
    "        1000: {\"vmin\": 0, \"vmax\": 1, \"ymin\": 0, \"ymax\": 1},\n",
    "    }\n",
    "\n",
    "if L_factor == 1.5:\n",
    "    graph_setting = {\n",
    "        0.1: {\"vmin\": 300, \"vmax\": 2000, \"ymin\": 300, \"ymax\": 2000},\n",
    "    }\n",
    "\n",
    "    \n",
    "if L_factor == 5:\n",
    "    graph_setting = {\n",
    "        0.1: {\"vmin\": -1500, \"vmax\": 800, \"ymin\": -1500, \"ymax\": 800},\n",
    "    }\n",
    "\n",
    "if L_1 <=6e-11:\n",
    "     graph_setting = {\n",
    "        4.2: {\"vmin\": 500, \"vmax\": 3000, \"ymin\": 500, \"ymax\": 3000},\n",
    "    }"
   ]
  },
  {
   "cell_type": "code",
   "execution_count": null,
   "id": "153",
   "metadata": {},
   "outputs": [],
   "source": []
  },
  {
   "cell_type": "code",
   "execution_count": null,
   "id": "154",
   "metadata": {},
   "outputs": [],
   "source": [
    "import sys, importlib\n",
    "importlib.reload(sys.modules['edward_tools.coupled_fq_protocol_library'])\n",
    "# from edward_tools.coupled_fq_protocol_library import work_analysis, KE_analysis, single_particle_analysis"
   ]
  },
  {
   "cell_type": "markdown",
   "id": "155",
   "metadata": {},
   "source": [
    "### without cutlineGeneratingFunction"
   ]
  },
  {
   "cell_type": "code",
   "execution_count": null,
   "id": "156",
   "metadata": {},
   "outputs": [],
   "source": [
    "contourData = {\n",
    "    \"manual_domain\": [np.array([-4, -4]), np.array([4, 4])],\n",
    "    \"contour_range\": [700, 2000], \"domain_limit\": [-3, 3],\n",
    "    \"title\": None\n",
    "}\n",
    "\n",
    "cutlineInformation = {\n",
    "    \"cutlineList\": [(-1.8, \"v\",\"red\")],\n",
    "    \"cutlineGeneratingFunction\": None,\n",
    "    \"cutlineXLimit\": [-4,4],\n",
    "    \"cutlineYLimit\": [200, 1200]\n",
    "}\n",
    "\n",
    "particleInformation = {\n",
    "    \"showParticles\": True,\n",
    "    \"project_item\": [\"00\", \"01\"],\n",
    "    \"project_axis\": \"phi_2\",\n",
    "    \"particle_opacity\": 0.5,\n",
    "    \"pColor\": {\"00\": \"#061DF7\", \"01\": \"red\", \"10\": \"#3FC7F2\", \"11\": \"#F187F4\"}\n",
    "}\n",
    "\n"
   ]
  },
  {
   "cell_type": "code",
   "execution_count": null,
   "id": "157",
   "metadata": {},
   "outputs": [],
   "source": [
    "simResult[\"cfqr\"].getReducedTimeArray()"
   ]
  },
  {
   "cell_type": "code",
   "execution_count": null,
   "id": "158",
   "metadata": {},
   "outputs": [],
   "source": [
    "time_index_start = 600\n",
    "time_index_end = 800\n",
    "frame_skip = 5\n",
    "all_state = simResult['cfqr'].sim.output.all_state['states'][:, time_index_start:time_index_end, ...]\n",
    "targetTimeArray = protocol_all_time_array[simResult['cfqr'].sim.target_step_index][time_index_start:time_index_end]\n",
    "\n",
    "animation_play = True\n",
    "# animation_play = False\n",
    "if animation_play:    \n",
    "    animation_time_array = targetTimeArray[::frame_skip]\n",
    "    animation_states = all_state[:, ::frame_skip, ...]\n",
    "    print(\"geenerated at \", datetime.datetime.now())\n",
    "\n",
    "    ani, fig, ax = coupled_fq_protocol_library.animate_sim_flux_qubit_with_cutline_and_projection(simResult['cfqr'], time_array=animation_time_array, state_array = animation_states, plot_axis= [0,1], vmin=graph_setting[T]['vmin'], vmax=graph_setting[T]['vmax'], ax0_title = f\"T = {T}K, L = {L_1 * 1e12}pH\", params=params, \n",
    "cutlineGeneratingFunction = False, cutlineInformation = cutlineInformation, particleInformation = particleInformation, contourData = contourData, pColor=pColor, contour_range = [0, 500], cutlineXLimit=[-4, 4], cutlineYLimit=[0, 500])\n",
    "    fig.tight_layout()\n",
    "    writer = animation.PillowWriter(fps=10, metadata=dict(artist='Me'), bitrate=1800)\n",
    "    ani.save('scatter.gif', writer=writer)\n",
    "    plt.close()\n",
    "    \n"
   ]
  },
  {
   "cell_type": "code",
   "execution_count": null,
   "id": "159",
   "metadata": {},
   "outputs": [],
   "source": [
    "Image(filename=\"scatter.gif\")"
   ]
  },
  {
   "cell_type": "code",
   "execution_count": null,
   "id": "160",
   "metadata": {},
   "outputs": [],
   "source": []
  },
  {
   "cell_type": "code",
   "execution_count": null,
   "id": "161",
   "metadata": {},
   "outputs": [],
   "source": []
  },
  {
   "cell_type": "code",
   "execution_count": null,
   "id": "162",
   "metadata": {},
   "outputs": [],
   "source": [
    "import sys, importlib\n",
    "importlib.reload(sys.modules['edward_tools.coupled_fq_protocol_library'])\n",
    "# from edward_tools.coupled_fq_protocol_library import work_analysis, KE_analysis, single_particle_analysis\n",
    "animation_play = True\n",
    "# animation_play = False\n",
    "# contourData = {\n",
    "#     \"manual_domain\": [np.array([-4, -4]), np.array([4, 4])],\n",
    "#     \"contour_range\": [350, 1500], \"domain_limit\": [-3, 3],\n",
    "#     \"title\": None\n",
    "# }\n",
    "contourData = {\n",
    "    \"manual_domain\": [np.array([-4, -4]), np.array([4, 4])],\n",
    "    \"contour_range\": [700, 1800], \"domain_limit\": [-3, 3],\n",
    "    \"title\": None\n",
    "}\n",
    "\n",
    "cutlineInformation = {\n",
    "    \"cutlineList\": [(2.3, \"v\",\"red\")],\n",
    "    \"cutlineGeneratingFunction\": None,\n",
    "    \"cutlineXLimit\": [-4,4],\n",
    "    \"cutlineYLimit\": [200, 1700]\n",
    "}\n",
    "\n",
    "particleInformation = {\n",
    "    \"showParticles\": True,\n",
    "    \"project_item\": [\"10\", \"11\"],\n",
    "    \"project_axis\": \"phi_2\",\n",
    "    \"particle_opacity\": 0.5,\n",
    "    \"pColor\": {\"00\": \"#061DF7\", \"01\": \"red\", \"10\": \"#3FC7F2\", \"11\": \"#F187F4\"}\n",
    "}\n"
   ]
  },
  {
   "cell_type": "code",
   "execution_count": null,
   "id": "163",
   "metadata": {},
   "outputs": [],
   "source": [
    "\n",
    "animation_play = True\n",
    "# animation_play = False\n",
    "if animation_play:\n",
    "    frame_skip = 50\n",
    "    targetTimeArray = protocol_all_time_array[simResult['cfqr'].sim.target_step_index]\n",
    "    animation_time_array = targetTimeArray[::frame_skip]\n",
    "    animation_states = all_state[:, ::frame_skip, ...]\n",
    "    print(\"geenerated at \", datetime.datetime.now())\n",
    "\n",
    "    \n",
    "    ani, fig, ax = coupled_fq_protocol_library.animate_sim_flux_qubit_with_cutline_and_projection(simResult['cfqr'], time_array=animation_time_array, state_array = animation_states, plot_axis= [0,1],\n",
    "                                                                                   vmin=graph_setting[T]['vmin'], vmax=graph_setting[T]['vmax'], ax0_title = f\"T = {T}K, L = {L_1 * 1e12}pH\",\n",
    "                                                                                   params=params, cutlineGeneratingFunction = False, \n",
    "                                                                                   cutlineInformation = cutlineInformation, particleInformation = particleInformation, contourData = contourData,\n",
    "                                                                                   pColor=pColor, contour_range = [0, 500], cutlineXLimit=[-4, 4], cutlineYLimit=[0, 500])\n",
    "    fig.tight_layout()\n",
    "    writer = animation.PillowWriter(fps=10, metadata=dict(artist='Me'), bitrate=1800)\n",
    "    ani.save('scatter.gif', writer=writer)\n",
    "    plt.close()\n",
    "    \n"
   ]
  },
  {
   "cell_type": "code",
   "execution_count": null,
   "id": "164",
   "metadata": {},
   "outputs": [],
   "source": [
    "Image(filename=\"scatter.gif\")"
   ]
  },
  {
   "cell_type": "code",
   "execution_count": null,
   "id": "165",
   "metadata": {},
   "outputs": [],
   "source": []
  },
  {
   "cell_type": "markdown",
   "id": "166",
   "metadata": {},
   "source": [
    "### with cutlineGeneratingFunction"
   ]
  },
  {
   "cell_type": "code",
   "execution_count": null,
   "id": "167",
   "metadata": {},
   "outputs": [],
   "source": [
    "animation_play = True\n",
    "# animation_play = False\n",
    "if animation_play:\n",
    "\n",
    "    frame_skip = int(1/50 * 1/params['dt'])\n",
    "    print(\"geenerated at \", datetime.datetime.now())\n",
    "    targetTimeArray = protocol_all_time_array[simResult['cfqr'].sim.target_step_index]\n",
    "    ani, fig, ax = coupled_fq_protocol_library.animate_sim_flux_qubit_with_cutline_and_projection(simResult['cfqr'], time_array=targetTimeArray, frame_skip = frame_skip, plot_axis= [0,1],\n",
    "                                                                                   vmin=graph_setting[T]['vmin'], vmax=graph_setting[T]['vmax'], ax0_title = f\"T = {T}K, L = {L_1 * 1e12}pH\",\n",
    "                                                                                   params=params, cutlineGeneratingFunction = cutlineDataGeneratingFunction(initial_parameter_dict),\n",
    "                                                                                   pColor=pColor, contour_range = [0, 500], cutlineXLimit=[-4, 4], cutlineYLimit=[0, 500])\n",
    "    fig.tight_layout()\n",
    "    writer = animation.PillowWriter(fps=15, metadata=dict(artist='Me'), bitrate=1800)\n",
    "    ani.save('scatter.gif', writer=writer)\n",
    "    Image(filename=\"scatter.gif\")"
   ]
  },
  {
   "cell_type": "code",
   "execution_count": null,
   "id": "168",
   "metadata": {},
   "outputs": [],
   "source": []
  },
  {
   "cell_type": "markdown",
   "id": "169",
   "metadata": {},
   "source": [
    "### save data analysis"
   ]
  },
  {
   "cell_type": "code",
   "execution_count": null,
   "id": "170",
   "metadata": {},
   "outputs": [],
   "source": []
  },
  {
   "cell_type": "code",
   "execution_count": null,
   "id": "171",
   "metadata": {},
   "outputs": [],
   "source": [
    "print(f\"current comment: {params['comment']}\")\n",
    "response = input(\"Are you happy with the current comment? If not, give me a new comment.\")\n",
    "if response == \"y\":\n",
    "    pass\n",
    "else:\n",
    "    params['comment'] = response"
   ]
  },
  {
   "cell_type": "code",
   "execution_count": null,
   "id": "172",
   "metadata": {},
   "outputs": [],
   "source": [
    "simResult['error_rate_array']"
   ]
  },
  {
   "cell_type": "code",
   "execution_count": null,
   "id": "173",
   "metadata": {},
   "outputs": [],
   "source": [
    "importlib.reload(sys.modules['edward_tools.cfq_batch_sweep'])"
   ]
  },
  {
   "cell_type": "code",
   "execution_count": null,
   "id": "174",
   "metadata": {},
   "outputs": [],
   "source": [
    "cfq_batch_sweep.saveSimulationResult(simResult, U0_1, timeOrStep = 'step', save = True, save_final_state = False, saveFolderPath = \"coupled_flux_qubit_protocol/coupled_flux_qubit_data_gallery\", save_all_state = False)"
   ]
  },
  {
   "cell_type": "code",
   "execution_count": null,
   "id": "175",
   "metadata": {},
   "outputs": [],
   "source": []
  },
  {
   "cell_type": "markdown",
   "id": "176",
   "metadata": {},
   "source": [
    "# save state"
   ]
  },
  {
   "cell_type": "code",
   "execution_count": null,
   "id": "177",
   "metadata": {},
   "outputs": [],
   "source": [
    "target_state = all_states[:,106, ...]\n",
    "plt.scatter(target_state[..., 0, 0], target_state[..., 1, 0])"
   ]
  },
  {
   "cell_type": "code",
   "execution_count": null,
   "id": "178",
   "metadata": {},
   "outputs": [],
   "source": [
    "state_name = \"just_before_KEP_N_1000.npy\"\n",
    "np.save(\"saved_init_state/\" + state_name, target_state)"
   ]
  },
  {
   "cell_type": "code",
   "execution_count": null,
   "id": "179",
   "metadata": {},
   "outputs": [],
   "source": []
  },
  {
   "cell_type": "code",
   "execution_count": null,
   "id": "180",
   "metadata": {},
   "outputs": [],
   "source": []
  },
  {
   "cell_type": "markdown",
   "id": "181",
   "metadata": {},
   "source": [
    "# save pickle"
   ]
  },
  {
   "cell_type": "code",
   "execution_count": null,
   "id": "182",
   "metadata": {},
   "outputs": [],
   "source": []
  },
  {
   "cell_type": "code",
   "execution_count": null,
   "id": "183",
   "metadata": {},
   "outputs": [],
   "source": [
    "experiment_label = \"Experiment 8 (2025-5-2)\" "
   ]
  },
  {
   "cell_type": "code",
   "execution_count": null,
   "id": "184",
   "metadata": {},
   "outputs": [],
   "source": [
    "with open(f'coupled_flux_qubit_protocol/simulation_protocol_history/{experiment_label}.pickle', \"rb\") as f:\n",
    "    k = pickle.load(f)"
   ]
  },
  {
   "cell_type": "code",
   "execution_count": null,
   "id": "185",
   "metadata": {},
   "outputs": [],
   "source": [
    "protocol_list"
   ]
  },
  {
   "cell_type": "code",
   "execution_count": null,
   "id": "186",
   "metadata": {},
   "outputs": [],
   "source": []
  },
  {
   "cell_type": "code",
   "execution_count": null,
   "id": "187",
   "metadata": {},
   "outputs": [],
   "source": [
    "export_cfqr_params = params['circuit_parameters']\n",
    "\n",
    "export_params = params\n",
    "export_params['comment'] = f\"{experiment_label}: phi_2xdc = 1.8\"\n",
    "\n",
    "\n",
    "export_object = {\n",
    "    \"cfqr_params\": export_cfqr_params,\n",
    "    \"params\": export_params,\n",
    "    \"initial_external_parameter_dict\": initial_parameter_dict,\n",
    "    \"protocol_list\": protocol_list,\n",
    "    \"manual_domain\": [np.array([-5, -5]), np.array([5, 5])]\n",
    "}\n",
    "    \n",
    "\n",
    "print(export_params['comment'])\n",
    "print(simResult['simulation_data']['simulation_id'])"
   ]
  },
  {
   "cell_type": "code",
   "execution_count": null,
   "id": "188",
   "metadata": {},
   "outputs": [],
   "source": [
    "pickle_file_path = os.path.join(\"coupled_flux_qubit_protocol\", \"simulation_protocol_history\", f\"{experiment_label}.pickle\")\n",
    "\n",
    "with open(pickle_file_path, \"wb\") as f:\n",
    "    pickle.dump(export_object, f)"
   ]
  },
  {
   "cell_type": "code",
   "execution_count": null,
   "id": "189",
   "metadata": {},
   "outputs": [],
   "source": [
    "pickle_file_path"
   ]
  },
  {
   "cell_type": "code",
   "execution_count": null,
   "id": "190",
   "metadata": {},
   "outputs": [],
   "source": []
  },
  {
   "cell_type": "code",
   "execution_count": null,
   "id": "191",
   "metadata": {},
   "outputs": [],
   "source": []
  },
  {
   "cell_type": "code",
   "execution_count": null,
   "id": "192",
   "metadata": {},
   "outputs": [],
   "source": [
    "# modify pickle"
   ]
  },
  {
   "cell_type": "code",
   "execution_count": null,
   "id": "193",
   "metadata": {},
   "outputs": [],
   "source": [
    "modify_item = [(0, 200), (40, 160), (80, 120), (120, 80), (160, 40), (200, 0)]"
   ]
  },
  {
   "cell_type": "code",
   "execution_count": null,
   "id": "194",
   "metadata": {},
   "outputs": [],
   "source": [
    "import copy\n"
   ]
  },
  {
   "cell_type": "code",
   "execution_count": null,
   "id": "195",
   "metadata": {},
   "outputs": [],
   "source": [
    "k_array = []"
   ]
  },
  {
   "cell_type": "code",
   "execution_count": null,
   "id": "196",
   "metadata": {},
   "outputs": [],
   "source": [
    "for _i, (t_1, t_2) in enumerate(modify_item):\n",
    "    k_template = copy.deepcopy(k)\n",
    "\n",
    "        \n",
    "    k_template['protocol_list'][1]['duration'] = t_1\n",
    "    k_template['protocol_list'][2]['duration'] = t_2\n",
    "    \n",
    "    if t_1 == 0:\n",
    "        k_template['protocol_list'].pop(1)\n",
    "    if t_2 == 0:\n",
    "        k_template['protocol_list'].pop(2)\n",
    "    k_array.append(k_template)\n",
    "    \n",
    "    pickle_file_path = os.path.join(\"coupled_flux_qubit_protocol\", \"simulation_protocol_history\", f\"{experiment_label}_series_{_i}.pickle\")\n",
    "\n",
    "    with open(pickle_file_path, \"wb\") as f:\n",
    "        pickle.dump(k_template, f)\n",
    "    "
   ]
  },
  {
   "cell_type": "code",
   "execution_count": null,
   "id": "197",
   "metadata": {},
   "outputs": [],
   "source": [
    "for x in k_array:\n",
    "    print(x['protocol_list'])"
   ]
  },
  {
   "cell_type": "code",
   "execution_count": null,
   "id": "198",
   "metadata": {},
   "outputs": [],
   "source": [
    "pickle_prefix = \"Experiment 1 (2024-11-12)_series_\"\n",
    "# pickle_prefix = \"Experiment 1 (2024-10-27)\"\n",
    "print(pickle_prefix)\n",
    "comment = f\"Experiment 1 (2024-11-12) CE operation, with R = 300Ω and various ratio of the KE protocol\"\n",
    "param_dt = 1/100\n",
    "loopTime = 100\n",
    "protocol_type = \"CE\"\n",
    "\n",
    "\n",
    "\n",
    "\n",
    "\n",
    "\n",
    "####################\n",
    "# no need to change the following \n",
    "####################\n",
    "\n",
    "pickle_file_base_folder = \"coupled_flux_qubit_protocol/simulation_protocol_history\"\n",
    "\n",
    "all_pickle_file = os.listdir(pickle_file_base_folder)\n",
    "target_pickle_file_list = [os.path.join(pickle_file_base_folder, p) for p in all_pickle_file if pickle_prefix in p]\n"
   ]
  },
  {
   "cell_type": "code",
   "execution_count": null,
   "id": "199",
   "metadata": {},
   "outputs": [],
   "source": [
    "target_pickle_file_list"
   ]
  },
  {
   "cell_type": "code",
   "execution_count": null,
   "id": "200",
   "metadata": {},
   "outputs": [],
   "source": [
    "particle_index = 0\n",
    "particle_category = \"00\"\n",
    "time_range = None\n",
    "\n",
    "index_choice = simResult['cfqr'].getIndexOfParticles()[\"00\"]\n",
    "all_states = simResult['cfqr'].sim.output.all_state['states']\n",
    "all_states_00_i1 = all_states[index_choice][particle_index, ...]"
   ]
  },
  {
   "cell_type": "code",
   "execution_count": null,
   "id": "201",
   "metadata": {},
   "outputs": [],
   "source": [
    "_, _, protocol_time_array, protocol_time_index_array = simResult['cfqr'].createProtocolTimeArray(protocol_list, params)\n",
    "\n",
    "protocol_all_time_index_array = np.array(range(0, int(np.array(protocol_time_array[-1]) / params['dt']) + 1))\n",
    "protocol_all_time_array  = protocol_all_time_index_array * params['dt']\n",
    "\n"
   ]
  },
  {
   "cell_type": "code",
   "execution_count": null,
   "id": "202",
   "metadata": {},
   "outputs": [],
   "source": [
    "reduced_protocal_time_array = simResult['cfqr'].getKeyTime()\n",
    "KE_of_the_particle = simResult['cfqr'].system.get_kinetic_energy(all_states_00_i1)\n",
    "PE_of_the_particle = [simResult['cfqr'].system.get_potential(_s, _t ) for _t, _s in  zip(reduced_protocal_time_array, all_states_00_i1)]\n",
    "WD_of_the_particle = simResult['cfqr'].sim.work_dist_time_array_whole_process[index_choice][particle_index]"
   ]
  },
  {
   "cell_type": "code",
   "execution_count": null,
   "id": "203",
   "metadata": {},
   "outputs": [],
   "source": [
    "keyState_choosen_particle = [ s[index_choice][particle_index, ...] for s in simResult['cfqr'].sim.keyStep_all_states]\n",
    "total_energy = PE_of_the_particle - min(PE_of_the_particle) + KE_of_the_particle\n",
    "adjusted_PE = PE_of_the_particle - PE_of_the_particle[0]\n",
    "adjusted_total_energy = adjusted_PE + KE_of_the_particle\n",
    "characteristic_t = np.sqrt(params['circuit_parameters']['L_1'] * params['circuit_parameters']['L_factor'] * params['circuit_parameters']['C_1'] * params['circuit_parameters']['C_factor'])\n"
   ]
  },
  {
   "cell_type": "code",
   "execution_count": null,
   "id": "204",
   "metadata": {},
   "outputs": [],
   "source": [
    "reduced_protocal_time_array"
   ]
  },
  {
   "cell_type": "code",
   "execution_count": null,
   "id": "205",
   "metadata": {},
   "outputs": [],
   "source": [
    "def search_protocol_time_array_index(array, start, end):\n",
    "    x = np.sort(np.append(array, start))\n",
    "    y = np.sort(np.append(array, end))\n",
    "    \n",
    "    start_index = np.where(x == start)[0][0]\n",
    "    if start != round(array[start_index]):\n",
    "        start_index += 1\n",
    "    \n",
    "    \n",
    "    final_index = np.where(y == end)[0][0] \n",
    "    if end != round(array[final_index]):\n",
    "        final_index -= 1\n",
    "\n",
    "    return slice(start_index, final_index)"
   ]
  },
  {
   "cell_type": "code",
   "execution_count": null,
   "id": "206",
   "metadata": {},
   "outputs": [],
   "source": [
    "index_slice = search_protocol_time_array_index(reduced_protocal_time_array, 23, 60.)\n",
    "\n",
    "# reduced_protocal_time_array[index_slice]\n",
    "# search_protocol_time_array_range(adjusted_PE, 23, 60.)"
   ]
  },
  {
   "cell_type": "code",
   "execution_count": null,
   "id": "207",
   "metadata": {},
   "outputs": [],
   "source": [
    "reduced_protocal_time_array[index_slice]\n",
    "KE_of_the_particle[None]"
   ]
  },
  {
   "cell_type": "code",
   "execution_count": null,
   "id": "208",
   "metadata": {},
   "outputs": [],
   "source": [
    "export_object"
   ]
  },
  {
   "cell_type": "code",
   "execution_count": null,
   "id": "209",
   "metadata": {},
   "outputs": [],
   "source": [
    "def single_particle_analysis(simResult, params, protocol_list, plot_ax = None, particle_index = 0, particle_category = \"00\", time_range = None):\n",
    "    \n",
    "\n",
    "    \n",
    "    \n",
    "    # _ = [simResult['cfqr'].system.get_potential(_s, _t ) for _s, _t in zip(keyState_choosen_particle, simResult['cfqr'].protocol_time_array)]\n",
    "    \n",
    "    \n",
    "    \n",
    "\n",
    "    if plot_ax == None:\n",
    "        plt.figure(figsize=(8, 5))\n",
    "    plot_ax.plot(protocal_key_time_array, adjusted_PE , label = \"PE\", color = \"#CC79A7\")\n",
    "    plot_ax.plot(protocal_key_time_array, KE_of_the_particle, label = \"KE\")\n",
    "    plot_ax.plot(protocal_key_time_array, adjusted_total_energy, label = \"KE + PE\")\n",
    "    plot_ax.plot(protocal_key_time_array, WD_of_the_particle[::100], label = \"WD\", color = \"#000000\")\n",
    "    plot_ax.plot(protocal_key_time_array, WD_of_the_particle[::100] - adjusted_total_energy, label = \"energy loss\")\n",
    "    plot_ax.set_ylabel(r\"energy $(k_BT)$\")\n",
    "    plot_ax.set_xlabel(f\"time ({characteristic_t * 1e9:.3g} ns)\")\n",
    "    plot_ax.legend(bbox_to_anchor=(1.25, 1.05))"
   ]
  },
  {
   "cell_type": "code",
   "execution_count": null,
   "id": "210",
   "metadata": {
    "tags": []
   },
   "outputs": [],
   "source": [
    "os.path.join(\"~\", \"source\", \"coupled_flux_qubit_protocol\", \"simulation_protocol_history\", f\"{245}.pickle\")\n",
    "\n",
    "\n"
   ]
  },
  {
   "cell_type": "code",
   "execution_count": null,
   "id": "211",
   "metadata": {},
   "outputs": [],
   "source": [
    "\"/Users/tkwtang/source/coupled_flux_qubit_protocol/simulation_protocol_history/\""
   ]
  },
  {
   "cell_type": "markdown",
   "id": "212",
   "metadata": {},
   "source": [
    "# circuit parameter at different t and ∆U"
   ]
  },
  {
   "cell_type": "code",
   "execution_count": null,
   "id": "213",
   "metadata": {},
   "outputs": [],
   "source": [
    "reduced_time_array = cfqr.getReducedTimeArray()"
   ]
  },
  {
   "cell_type": "code",
   "execution_count": null,
   "id": "214",
   "metadata": {},
   "outputs": [],
   "source": [
    "params_at_t = [cfqr.convert_params_list_into_dict(cfqr.protocol.get_params(_t)) for _t in reduced_time_array]"
   ]
  },
  {
   "cell_type": "code",
   "execution_count": null,
   "id": "215",
   "metadata": {},
   "outputs": [],
   "source": [
    "circuit_parameters_at_different_t = []\n",
    "\n",
    "for x in params_at_t:\n",
    "    circuit_parameter_template = experiment_circuit_params.copy()\n",
    "    circuit_parameter_template['phi_1x'] = x['phi_1x']\n",
    "    circuit_parameter_template['phi_2x'] = x['phi_2x']\n",
    "    circuit_parameter_template['phi_1xdc'] = x['phi_1xdc']\n",
    "    circuit_parameter_template['phi_2xdc'] = x['phi_2xdc']\n",
    "    circuit_parameter_template['mu_12'] = x['mu_12']\n",
    "    circuit_parameters_at_different_t.append(circuit_parameter_template)"
   ]
  },
  {
   "cell_type": "code",
   "execution_count": null,
   "id": "216",
   "metadata": {},
   "outputs": [],
   "source": [
    "from edward_tools.pot_analysis_helper_functions import get_XYU, pot_function, find_all_critical_points_for_all_potential"
   ]
  },
  {
   "cell_type": "code",
   "execution_count": null,
   "id": "217",
   "metadata": {},
   "outputs": [],
   "source": [
    "contour_data_array = [get_XYU(circuit_params, domain=[-4, 4], resolution=500) for circuit_params in circuit_parameters_at_different_t]\n"
   ]
  },
  {
   "cell_type": "code",
   "execution_count": null,
   "id": "218",
   "metadata": {},
   "outputs": [],
   "source": [
    "initial_guess = [(-2, -2), (-2, 2), (2, -2), (2, 2), (-2,0), (0, -2), (2, 0), (0, 2)]\n",
    "critical_points_color = [\"green\", \"red\", \"yellow\", \"orange\", \"white\", \"white\", \"white\", \"white\"]"
   ]
  },
  {
   "cell_type": "code",
   "execution_count": null,
   "id": "219",
   "metadata": {},
   "outputs": [],
   "source": [
    "k_BT"
   ]
  },
  {
   "cell_type": "code",
   "execution_count": null,
   "id": "220",
   "metadata": {},
   "outputs": [],
   "source": [
    "result_array = []\n",
    "for _cp in circuit_parameters_at_different_t:\n",
    "    critical_dict = find_all_critical_points_for_all_potential(_cp,\n",
    "                    guess = [(-2, -2), (-2, 2), (2, -2), (2, 2), \\\n",
    "                             (-2,0), (0, -2), (2, 0), (0, 2)])\n",
    "    critical_points = list(critical_dict.values())[0]\n",
    "    critical_potential = [pot_function(_cp)([x, y]) for x, y in critical_points]\n",
    "    delta_U00 = critical_potential[4] - critical_potential[1]\n",
    "    delta_U01 = critical_potential[5] - critical_potential[0]\n",
    "    delta_U10 = critical_potential[6] - critical_potential[2]\n",
    "    delta_U11 = critical_potential[6] - critical_potential[3]\n",
    "\n",
    "    X, Y, U = get_XYU(_cp, [-4, 4], 50)\n",
    "\n",
    "    result_array.append({\n",
    "        \"coord\": critical_points, \"delta_U00\": delta_U00, \"delta_U01\": delta_U01,\n",
    "        \"delta_U10\": delta_U10, \"delta_U11\": delta_U11\n",
    "    })\n"
   ]
  },
  {
   "cell_type": "code",
   "execution_count": null,
   "id": "221",
   "metadata": {},
   "outputs": [],
   "source": [
    "delta_U_data = [(item['delta_U00'], item['delta_U01'], item['delta_U10'], item['delta_U11'])  for item in result_array]"
   ]
  },
  {
   "cell_type": "code",
   "execution_count": null,
   "id": "222",
   "metadata": {},
   "outputs": [],
   "source": [
    "total_duration = protocol_time_array[-1] * characteristic_time * 1e9\n",
    "\n",
    "plt.plot(reduced_time_array * characteristic_time * 1e9, U0_1 * np.array(delta_U_data)[:, 0], label = \"∆U00\")\n",
    "plt.plot(reduced_time_array * characteristic_time * 1e9, U0_1 * np.array(delta_U_data)[:, 1], label = \"∆U01\")\n",
    "plt.plot(reduced_time_array * characteristic_time * 1e9, U0_1 * np.array(delta_U_data)[:, 2], label = \"∆U10\")\n",
    "plt.plot(reduced_time_array * characteristic_time * 1e9, U0_1 * np.array(delta_U_data)[:, 3], label = \"∆U11\")\n",
    "xmin, xmax = plt.xlim()\n",
    "plt.hlines(y = 50, xmin = xmin, xmax = xmax, linestyle = \"--\")\n",
    "plt.legend()\n",
    "plt.xlabel(r'time $(ns)$')\n",
    "plt.ylabel(r'energy $(k_BT)$')\n",
    "plt.title(f\"∆U00 vs t (total duration = {total_duration:.3g}ns) \")\n"
   ]
  },
  {
   "cell_type": "code",
   "execution_count": null,
   "id": "223",
   "metadata": {},
   "outputs": [],
   "source": []
  },
  {
   "cell_type": "markdown",
   "id": "224",
   "metadata": {},
   "source": [
    "# save all states"
   ]
  },
  {
   "cell_type": "code",
   "execution_count": null,
   "id": "225",
   "metadata": {},
   "outputs": [],
   "source": [
    "base_folder = \"cfq_data/sudden_jump_KEP/\"\n",
    "prefix = \"KEP(jump)\"\n",
    "name_of_state_file = prefix + \"_all_state.npy\"\n",
    "name_of_reduced_time_array_file = prefix + \"_reduced_time_array.npy\"\n",
    "name_of_index_file = prefix + \"_index_of_particle.npy\"\n",
    "\n",
    "np.save(os.path.join(base_folder, name_of_reduced_time_array_file), reduced_protocal_time_array)\n",
    "np.save(os.path.join(base_folder, name_of_state_file), all_states)\n",
    "np.save(os.path.join(base_folder, name_of_index_file), simResult['cfqr'].getIndexOfParticles())"
   ]
  },
  {
   "cell_type": "code",
   "execution_count": null,
   "id": "226",
   "metadata": {},
   "outputs": [],
   "source": []
  },
  {
   "cell_type": "code",
   "execution_count": null,
   "id": "227",
   "metadata": {},
   "outputs": [],
   "source": []
  },
  {
   "cell_type": "code",
   "execution_count": null,
   "id": "228",
   "metadata": {},
   "outputs": [],
   "source": []
  },
  {
   "cell_type": "code",
   "execution_count": null,
   "id": "229",
   "metadata": {},
   "outputs": [],
   "source": []
  }
 ],
 "metadata": {
  "kernelspec": {
   "display_name": "myenv",
   "language": "python",
   "name": "python3"
  },
  "language_info": {
   "codemirror_mode": {
    "name": "ipython",
    "version": 3
   },
   "file_extension": ".py",
   "mimetype": "text/x-python",
   "name": "python",
   "nbconvert_exporter": "python",
   "pygments_lexer": "ipython3",
   "version": "3.13.2"
  }
 },
 "nbformat": 4,
 "nbformat_minor": 5
}
