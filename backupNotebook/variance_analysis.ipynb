{
 "cells": [
  {
   "cell_type": "code",
   "execution_count": null,
   "id": "0",
   "metadata": {},
   "outputs": [],
   "source": [
    "import numpy as np\n",
    "from sus.protocol_designer import System, Protocol, Potential, Compound_Protocol\n",
    "from sus.protocol_designer.protocol import sequential_protocol\n",
    "from IPython import display\n",
    "from IPython.display import HTML\n",
    "from quick_sim import setup_sim\n",
    "from edward_tools.coupled_fq_potential import coupled_flux_qubit_pot, coupled_flux_qubit_force, coupled_fq_pot\n",
    "import edward_tools.fq_runner as fq_runner\n",
    "from edward_tools.visualization import animate_sim_flux_qubit\n",
    "from edward_tools.initial_state_sampling import self_defined_initial_state\n",
    "from edward_tools.databaseInterface import saveToDataBase\n",
    "\n",
    "import kyle_tools as kt\n",
    "import matplotlib.pyplot as plt\n",
    "from quick_sim import setup_sim\n",
    "\n",
    "import importlib, os, hashlib, json, datetime\n",
    "from edward_tools import coupled_fq_protocol_library, cfq_runner\n",
    "from PARAMETER_INPUT import *\n",
    "from PARAMETER_INPUT import _lambda, _theta, _eta\n",
    "from ControlParameter import *\n",
    "\n",
    "import edward_tools.cfq_batch_sweep as cfq_batch_sweep\n",
    "%load_ext jupyternotify\n",
    "\n",
    "coupled_fq_protocol_library = importlib.reload(coupled_fq_protocol_library)\n",
    "create_system = coupled_fq_protocol_library.create_system\n",
    "get_potential_shot_at_different_t = coupled_fq_protocol_library.get_potential_shot_at_different_t\n",
    "get_potential_shot_at_different_t_1D = coupled_fq_protocol_library.get_potential_shot_at_different_t_1D\n",
    "create_simple_protocol_parameter_dict = coupled_fq_protocol_library.create_simple_protocol_parameter_dict\n",
    "create_system_from_storage_and_computation_protocol = coupled_fq_protocol_library.create_system_from_storage_and_computation_protocol\n",
    "coupled_fq_runner = importlib.reload(cfq_runner)\n",
    "coupled_fq_protocol_library = importlib.reload(coupled_fq_protocol_library)\n",
    "create_system = coupled_fq_protocol_library.create_system\n"
   ]
  },
  {
   "cell_type": "code",
   "execution_count": null,
   "id": "1",
   "metadata": {},
   "outputs": [],
   "source": [
    "def analysis_protocol_function(var_name, var_value, simResult):\n",
    "    average_work = simResult[\"work_statistic\"][:,0][-1]\n",
    "    jarzyn_term = np.mean(np.exp(-simResult[\"work_distribution\"]))\n",
    "    fidelity_data = simResult[\"fidelity\"]\n",
    "\n",
    "    saveData = {\n",
    "        var_name:       var_value,\n",
    "        \"fidelity\":     fidelity_data,\n",
    "        \"average_work\": average_work,\n",
    "        \"jarzyn_term\":  jarzyn_term\n",
    "    }\n",
    "\n",
    "    json_path = f\"coupled_flux_qubit_protocol/{var_name}_analysis.json\"\n",
    "    \n",
    "    print(os.path.isfile(json_path))\n",
    "    \n",
    "    \n",
    "    if not os.path.isfile(json_path):\n",
    "        with open(json_path, \"w\") as fw:\n",
    "            jsonData = []\n",
    "            json.dump(jsonData, fw)\n",
    "        \n",
    "    with open(json_path, \"r\") as fr:\n",
    "        jsonData = json.load(fr)\n",
    "        jsonData.append(saveData)\n",
    "        print(jsonData)\n",
    "        with open(json_path, \"w+\") as fw:\n",
    "            json.dump(jsonData, fw)"
   ]
  },
  {
   "cell_type": "code",
   "execution_count": null,
   "id": "2",
   "metadata": {},
   "outputs": [],
   "source": []
  },
  {
   "cell_type": "code",
   "execution_count": null,
   "id": "3",
   "metadata": {},
   "outputs": [],
   "source": [
    "\"\"\"\n",
    "# step 0: modify parameters\n",
    "- All the parameters are stored in a separate file PARAMETER_INPUT\n",
    "- You can override some of the parameters here.\n",
    "\"\"\"\n",
    "params['N'] = 10_000\n",
    "params['dt'] = 1/100\n",
    "print(N, params['dt'])\n",
    "print(phi_1_dcx_on, phi_2_dcx_on, M_12_on)"
   ]
  },
  {
   "cell_type": "code",
   "execution_count": null,
   "id": "4",
   "metadata": {},
   "outputs": [],
   "source": [
    "\"\"\"\n",
    "# step 1: Define potential\n",
    "\"\"\"\n",
    "coupled_fq_default_param = [1, 1, 0, 0, 0, 0, 0, 0, 0, 0, 0, 0, 0, x_c0]\n",
    "[phi_1_bound, phi_2_bound, phi_1dc_bound, phi_2dc_bound] = np.array([4, 4, 4, 4])/time_scale_factor\n",
    "\n",
    "coupled_fq_domain = [[-phi_1_bound, -phi_2_bound, -phi_1dc_bound, -phi_2dc_bound], \\\n",
    "                     [phi_1_bound, phi_2_bound, phi_1dc_bound, phi_2dc_bound]]\n",
    "\n",
    "coupled_fq_pot = Potential(coupled_flux_qubit_pot, coupled_flux_qubit_force, 14, 4,\\\n",
    "                           default_params = coupled_fq_default_param,  relevant_domain = coupled_fq_domain)"
   ]
  },
  {
   "cell_type": "code",
   "execution_count": null,
   "id": "5",
   "metadata": {},
   "outputs": [],
   "source": [
    "\"\"\"\n",
    "# step 2: Define initial condition and protocol\n",
    "\"\"\"\n",
    "manual_domain=[np.array([-5, -5]), np.array([5, 5])]\n",
    "phi_1_dcx, phi_2_dcx = 0, 0\n",
    "phi_1_dc, phi_2_dc = phi_1_dcx, phi_2_dcx\n",
    "\n",
    "# time length\n",
    "time_length_1 = 80\n",
    "time_length_2 = 40\n",
    "time_length_3 = 40\n",
    "time_length_4 = 40\n",
    "time_length_5 = 60\n",
    "time_length_6 = 60\n",
    "\n",
    "phi_1_dcx_on = 2.8\n",
    "phi_2_dcx_on = 2.8\n",
    "M_12_on = -0.5"
   ]
  },
  {
   "cell_type": "code",
   "execution_count": null,
   "id": "6",
   "metadata": {},
   "outputs": [],
   "source": [
    "initial_parameter_dict = {\n",
    "        \"U0_1\": U0_1,     \"U0_2\": U0_2,     \"gamma_1\": gamma,  \"gamma_2\": gamma,\n",
    "        \"beta_1\": beta_1,   \"beta_2\": beta_2,   \"d_beta_1\": d_beta_1 ,   \"d_beta_2\": d_beta_2,\n",
    "        \"phi_1_x\": 0,  \"phi_2_x\": 0,  \"phi_1_dcx\": phi_1_dcx_off,  \"phi_2_dcx\": phi_2_dcx_off,\n",
    "        \"M_12\": M_12_off, 'x_c': x_c\n",
    "}\n",
    "\n",
    "\n",
    "protocol_list_options = [\n",
    "    {\"placeholder\": \"\"},\n",
    "    # forward\n",
    "    {\"duration\":time_length_1, \"phi_1_dcx\": phi_1_dcx_off, \"phi_2_dcx\": phi_2_dcx_on,  \"M_12\": M_12_off,  \"name\":\"(1) mix in y direction\"},\n",
    "    {\"duration\":time_length_2, \"phi_1_dcx\": phi_1_dcx_off, \"phi_2_dcx\": phi_2_dcx_on,  \"M_12\": M_12_on,   \"name\":\"(2) conditional tilt\"},\n",
    "    {\"duration\":time_length_3, \"phi_1_dcx\": phi_1_dcx_off, \"phi_2_dcx\": phi_2_dcx_off, \"M_12\": M_12_on,   \"name\":\"(3) raise the barrier\"},\n",
    "    {\"duration\":time_length_4, \"phi_1_dcx\": phi_1_dcx_off,  \"phi_2_dcx\": phi_2_dcx_off, \"M_12\": M_12_off,  \"name\":\"(4) 4 well potential 1st time\"}, \n",
    "    {\"duration\":time_length_5, \"phi_1_dcx\": phi_1_dcx_on,  \"phi_2_dcx\": phi_2_dcx_off, \"M_12\": M_12_off,  \"name\":\"(5) mix in x direction\"}, \n",
    "    {\"duration\":time_length_6, \"phi_1_dcx\": phi_1_dcx_off, \"phi_2_dcx\": phi_2_dcx_off, \"M_12\": M_12_off,  \"name\":\"(6) 4 well potential\"}, \n",
    "    \n",
    "    # reverse\n",
    "    {\"duration\":time_length_6, \"phi_1_dcx\": phi_1_dcx_on,  \"phi_2_dcx\": phi_2_dcx_off, \"M_12\": M_12_off,  \"name\":\"(-6) 4 well potential 2nd time\"}, \n",
    "    {\"duration\":time_length_5, \"phi_1_dcx\": phi_1_dcx_off, \"phi_2_dcx\": phi_2_dcx_off, \"M_12\": M_12_off,  \"name\":\"(-5) anti-mix in x direction\"}, \n",
    "    {\"duration\":time_length_4, \"phi_1_dcx\": phi_1_dcx_off, \"phi_2_dcx\": phi_2_dcx_off, \"M_12\": M_12_on,   \"name\":\"(-4) anti-raise the barrier 1st time\"},\n",
    "    {\"duration\":time_length_3, \"phi_1_dcx\": phi_1_dcx_off, \"phi_2_dcx\": phi_2_dcx_on,  \"M_12\":  M_12_on,  \"name\":\"(-3) anti-raise the barrier\"},\n",
    "    {\"duration\":time_length_2, \"phi_1_dcx\":phi_1_dcx_off,  \"phi_2_dcx\": phi_2_dcx_on,  \"M_12\": M_12_off,  \"name\":\"(-2) anit-conditional tilt\"},\n",
    "    {\"duration\":time_length_1, \"phi_1_dcx\":phi_1_dcx_off,  \"phi_2_dcx\": phi_2_dcx_off, \"M_12\": M_12_off,  \"name\":\"(-1) anti- mix in y direction\"}\n",
    "]"
   ]
  },
  {
   "cell_type": "code",
   "execution_count": null,
   "id": "7",
   "metadata": {},
   "outputs": [],
   "source": [
    "zeroDissipation = False\n",
    "params['sim_params'] = [_lambda , _theta, _eta]\n",
    "# params['sim_params'] = [_lambda * 10  , _theta, _eta * 10]\n",
    "if zeroDissipation:\n",
    "    params['sim_params'] = [_lambda * 0, _theta, _eta * 0]\n",
    "\n",
    "\n",
    "\n",
    "\"\"\"\n",
    "1 <-> -1     (0, 0, 0), (0, 3, 0), (0, 0, 0)\n",
    "2 <-> -2     (0, 3, 0), (0, 3, -0.05), (0, 3, 0)\n",
    "3 <-> -3     (0, 3, -0.05), (0, 0, -0.05), (0, 3, -0.05)\n",
    "4 <-> -4     (0, 0, -0.05), (0, 0, 0), (0, 0, -0.05)\n",
    "5 <-> -5     (0, 0, 0), (3, 0, 0), (0, 0, 0)\n",
    "6 <-> -6     (3, 0, 0), (0, 0, 0), (3, 0, 0)\n",
    "(1) mix in y direction, (2) conditional tilt, (3) raise the barrier\n",
    "(4) 4 well potential 1st time,  (5) mix in x direction, (6) 4 well potential\n",
    "\"\"\"\n",
    "TR_initial_condition = [\n",
    "    (phi_1_dcx_off, phi_2_dcx_off, M_12_off), \n",
    "    (phi_1_dcx_off, phi_2_dcx_on,  M_12_off), \n",
    "    (phi_1_dcx_off, phi_2_dcx_on,  M_12_on), \n",
    "    (phi_1_dcx_off, phi_2_dcx_off, M_12_on), \n",
    "    (phi_1_dcx_off, phi_2_dcx_off, M_12_off), \n",
    "    (phi_1_dcx_on,  phi_2_dcx_off, M_12_off)]\n",
    "\n",
    "protocol_index = 4\n",
    "\n",
    "# initial_parameter_dict[\"phi_1_dcx\"], initial_parameter_dict[\"phi_2_dcx\"], initial_parameter_dict[\"M_12\"] = TR_initial_condition[protocol_index]\n",
    "\n",
    "\n",
    "\n",
    "# protocol_list = [\n",
    "#     # forward\n",
    "#     protocol_list_options[protocol_index-1],\n",
    "    \n",
    "#     # reverse\n",
    "#     protocol_list_options[-protocol_index]\n",
    "# ]\n",
    "\n",
    "# full process\n",
    "initial_parameter_dict[\"phi_1_dcx\"], initial_parameter_dict[\"phi_2_dcx\"], initial_parameter_dict[\"M_12\"] = TR_initial_condition[0]\n",
    "rest = lambda t: {\"duration\": t, \"name\":\"rest\"}\n",
    "\n",
    "protocol_list = [\n",
    "    # forward\n",
    "    # protocol_list_options[protocol_index + 1],\n",
    "    protocol_list_options[1],\n",
    "    rest(60), \n",
    "    protocol_list_options[2],\n",
    "    rest(40), \n",
    "    protocol_list_options[3],\n",
    "    rest(40), \n",
    "    protocol_list_options[4],\n",
    "    # protocol_list_options[5],\n",
    "    # rest,\n",
    "    # protocol_list_options[6],\n",
    "\n",
    "    \n",
    "    \n",
    "    # reverse\n",
    "    # protocol_list_options[-5],\n",
    "    # protocol_list_options[-4],\n",
    "    # protocol_list_options[-3],\n",
    "    # protocol_list_options[-2],\n",
    "    # protocol_list_options[-1]\n",
    "    # protocol_list_options[-(protocol_index + 1)]\n",
    "]\n",
    "\n",
    "\n",
    "print(\"sim_params\", params['sim_params'])\n",
    "print(f\"initial parameters: phi_1_dcx: {initial_parameter_dict['phi_1_dcx']}, phi_2_dcx: {initial_parameter_dict['phi_2_dcx']}, M_12: {initial_parameter_dict['M_12']}\")\n",
    "for x in protocol_list:\n",
    "    print(x)\n",
    "\n",
    "# print(protocol_list[0][\"phi_1_dcx\"], protocol_list[0][\"phi_2_dcx\"], protocol_list[0][\"M_12\"], )\n",
    "# print(protocol_list[1][\"phi_1_dcx\"], protocol_list[1][\"phi_2_dcx\"], protocol_list[1][\"M_12\"], )"
   ]
  },
  {
   "cell_type": "code",
   "execution_count": null,
   "id": "8",
   "metadata": {},
   "outputs": [],
   "source": [
    "\n",
    "\"\"\"\n",
    "# step 3: create the relevant storage protocol and computation protocol\n",
    "\"\"\"\n",
    "computation_protocol_parameter_dict = coupled_fq_protocol_library.customizedProtocol(initial_parameter_dict, \\\n",
    "                                                                    protocol_list)\n",
    "storage_protocol, comp_protocol = create_system(computation_protocol_parameter_dict)"
   ]
  },
  {
   "cell_type": "code",
   "execution_count": null,
   "id": "9",
   "metadata": {},
   "outputs": [],
   "source": [
    "\"\"\"\n",
    "# step 4: create the coupled_fq_runner\n",
    "\"\"\"\n",
    "\n",
    "\n",
    "cfqr = cfq_runner.coupledFluxQubitRunner(potential = coupled_fq_pot, params = params, \\\n",
    "                                                storage_protocol= storage_protocol, \\\n",
    "                                                computation_protocol= comp_protocol)\n",
    "cfqr.initialize_sim()\n",
    "cfqr.set_sim_attributes(extra_constraint = None)\n",
    "init_state_saved = cfqr.init_state\n",
    "manual_domain=[np.array([-5, -5])/time_scale_factor, np.array([5, 5])/time_scale_factor]\n"
   ]
  },
  {
   "cell_type": "code",
   "execution_count": null,
   "id": "10",
   "metadata": {},
   "outputs": [],
   "source": [
    "# step 5: perform simulations\n",
    "\n",
    "simResult = cfq_batch_sweep.simulateSingleCoupledFluxQubit(params, initial_parameter_dict, protocol_list, \\\n",
    "                                        initial_state = init_state_saved, manual_domain = manual_domain, \\\n",
    "                                        phi_1_dcx = phi_1_dcx,  phi_2_dcx = phi_2_dcx, \\\n",
    "                                        percentage = 1, \\\n",
    "                                        as_step = np.s_[::100])\n",
    "cfqr = simResult[\"cfqr\"]\n",
    "\n",
    "print(simResult[\"simulation_data\"][\"simulation_time\"])"
   ]
  },
  {
   "cell_type": "code",
   "execution_count": null,
   "id": "11",
   "metadata": {},
   "outputs": [],
   "source": []
  },
  {
   "cell_type": "markdown",
   "id": "12",
   "metadata": {
    "tags": []
   },
   "source": [
    "# show animations"
   ]
  },
  {
   "cell_type": "code",
   "execution_count": null,
   "id": "13",
   "metadata": {},
   "outputs": [],
   "source": [
    "# animations\n",
    "vmin, vmax = 0, 100\n",
    "frame_skip = 10\n",
    "# phi_1_dc, phi_2_dc = phi_1_dcx, phi_2_dcx\n",
    "particle_number = 0\n",
    "# all_state = simResult[\"cfqr\"].sim.output.all_state['states'][particle_number:particle_number+1, :, :, :]\n",
    "all_state = simResult[\"cfqr\"].sim.output.all_state['states']\n",
    "simResult[\"cfqr\"].system.protocol_list = protocol_list\n",
    "time_range = (computation_protocol_parameter_dict[\"t\"][0], computation_protocol_parameter_dict[\"t\"][-1])\n",
    "\n",
    "ani,_,_ = animate_sim_flux_qubit(all_state, system = simResult[\"cfqr\"].system ,\n",
    "                                   times = time_range, frame_skip=frame_skip, color_by_state=True,\n",
    "                                   vmin = vmin, vmax = vmax,\n",
    "                                   manual_domain = manual_domain)\n",
    "\n",
    "# from IPython.display import HTML\n",
    "from IPython import display\n",
    "video = ani.to_html5_video()\n",
    "html = display.HTML(video)\n",
    "display.display(html)"
   ]
  },
  {
   "cell_type": "code",
   "execution_count": null,
   "id": "14",
   "metadata": {},
   "outputs": [],
   "source": []
  },
  {
   "cell_type": "markdown",
   "id": "15",
   "metadata": {},
   "source": [
    "# work distribution analysis"
   ]
  },
  {
   "cell_type": "markdown",
   "id": "16",
   "metadata": {},
   "source": [
    "## Jarzynski Equality"
   ]
  },
  {
   "cell_type": "code",
   "execution_count": null,
   "id": "17",
   "metadata": {},
   "outputs": [],
   "source": [
    "\n",
    "step_time_array = np.cumsum(np.array([x[\"duration\"] for x in protocol_list]))/params['dt']\n",
    "name_array = [x[\"name\"] for x in protocol_list]\n",
    "\n",
    "plt.hist(simResult[\"work_distribution\"], bins = 45)\n",
    "plt.show()\n",
    "print(datetime.datetime.now())\n",
    "print(f\"mean work = {np.mean(simResult['work_distribution'])}\")\n",
    "jarzyn_term = np.mean(np.exp(-simResult[\"work_distribution\"]))\n",
    "print(f'jarzyn = {jarzyn_term}')\n",
    "print([x[\"duration\"] for x in protocol_list])"
   ]
  },
  {
   "cell_type": "code",
   "execution_count": null,
   "id": "18",
   "metadata": {},
   "outputs": [],
   "source": [
    "simResult[\"fidelity\"]"
   ]
  },
  {
   "cell_type": "markdown",
   "id": "19",
   "metadata": {},
   "source": [
    "# saveToDatabase"
   ]
  },
  {
   "cell_type": "code",
   "execution_count": null,
   "id": "20",
   "metadata": {},
   "outputs": [],
   "source": []
  },
  {
   "cell_type": "code",
   "execution_count": null,
   "id": "21",
   "metadata": {},
   "outputs": [],
   "source": [
    "saveToDataBase(simResult)"
   ]
  },
  {
   "cell_type": "code",
   "execution_count": null,
   "id": "22",
   "metadata": {},
   "outputs": [],
   "source": []
  },
  {
   "attachments": {
    "37287cc9-929d-46d9-9ad8-f97562b7a597.png": {
     "image/png": "[encoded data removed]"
    }
   },
   "cell_type": "markdown",
   "id": "23",
   "metadata": {
    "jp-MarkdownHeadingCollapsed": true,
    "tags": []
   },
   "source": [
    "## Crook's analysis\n",
    "By Crooks’ detailed fluctuation theorem, we have\n",
    "![image.png](attachment:37287cc9-929d-46d9-9ad8-f97562b7a597.png)"
   ]
  },
  {
   "cell_type": "code",
   "execution_count": null,
   "id": "24",
   "metadata": {},
   "outputs": [],
   "source": [
    "simResult[\"work_distribution\"]"
   ]
  },
  {
   "cell_type": "code",
   "execution_count": null,
   "id": "25",
   "metadata": {},
   "outputs": [],
   "source": [
    "counts, bin_edges = np.histogram(simResult[\"work_distribution\"], bins = np.linspace(-2, 2, 100),density=True)\n",
    "counts, bin_edges = np.histogram(simResult[\"work_distribution\"], bins = np.linspace(-0.09, 0.09, 10),density=True)"
   ]
  },
  {
   "cell_type": "code",
   "execution_count": null,
   "id": "26",
   "metadata": {},
   "outputs": [],
   "source": [
    "log_P_ratio = np.log(counts / counts[::-1])\n"
   ]
  },
  {
   "cell_type": "code",
   "execution_count": null,
   "id": "27",
   "metadata": {},
   "outputs": [],
   "source": [
    "plt.figure(figsize=(5, 5))\n",
    "plt.plot(bin_edges[1:], bin_edges[1:], \"--\")\n",
    "plt.scatter(bin_edges[:-1], log_P_ratio)\n",
    "plt.xlabel(\"W\")\n",
    "plt.ylabel(\"log ratio\")"
   ]
  },
  {
   "cell_type": "code",
   "execution_count": null,
   "id": "28",
   "metadata": {},
   "outputs": [],
   "source": []
  },
  {
   "cell_type": "code",
   "execution_count": null,
   "id": "29",
   "metadata": {},
   "outputs": [],
   "source": [
    "\n",
    "\n",
    "step_array = np.arange(simResult[\"work_statistic\"][:,0].shape[0])\n",
    "skip_step = int(len(step_array) * 0.05)\n",
    "work_mean = simResult[\"work_statistic\"][:,0]\n",
    "work_std = simResult[\"work_statistic\"][:,1]\n",
    "coarse_step_array = step_array[::skip_step]\n",
    "coarse_step_array = np.append(coarse_step_array, step_array[-1])\n",
    "coarse_work_mean_array = work_mean[::skip_step]\n",
    "coarse_work_mean_array = np.append(coarse_work_mean_array, work_mean[-1])\n",
    "coarse_work_std_array = np.append(work_std[::skip_step], work_std[-1])\n",
    "\n",
    "plt.errorbar(coarse_step_array, coarse_work_mean_array, yerr = coarse_work_std_array)\n",
    "\n",
    "for i, t in enumerate(step_time_array):\n",
    "    plt.axvline(x = t, color = 'b', label = 'axvline - full height')\n",
    "    # plt.text('2017-07-02 16:30:00',0.005,'BigNews1',rotation=90,va='top')\n",
    "    plt.annotate(f\"{i+1}\", \n",
    "            xy=(t, 4.5),  \n",
    "            # xytext=(quantile_75, 2.05*1e9),\n",
    "            color='red', \n",
    "            ha='center', \n",
    "            size=16)\n",
    "plt.xlabel(\"time step\")\n",
    "plt.ylabel(\"mean work\")\n",
    "\n",
    "print(f'jarzyn = {jarzyn_term}')\n",
    "print([x[\"duration\"] for x in protocol_list])\n",
    "\n",
    "first_half = work_mean[0: len(work_mean)//2]\n",
    "second_half = work_mean[len(work_mean)//2:][::-1]\n",
    "# plt.plot(step_array[0:len(step_array)//2], np.abs(first_half - second_half))"
   ]
  },
  {
   "cell_type": "code",
   "execution_count": null,
   "id": "30",
   "metadata": {},
   "outputs": [],
   "source": [
    "simResult[\"fidelity\"]"
   ]
  },
  {
   "cell_type": "code",
   "execution_count": null,
   "id": "31",
   "metadata": {},
   "outputs": [],
   "source": [
    "final_percentage_matrix = np.array([d[\"final_percentage\"] for d in simResult[\"fidelity\"]]).T\n",
    "text_box_array = [\"\\n\".join(row) for row in final_percentage_matrix]\n",
    "plt.figure(figsize=[4, 4])\n",
    "plt.title(f\"N = {params['N']}, dt = {params['dt']}\")\n",
    "plt.xlim(-5, 5);plt.ylim(-5, 5);\n",
    "plt.text(-3.25, -3.5, text_box_array[0]);plt.text(-3.25, 1.5, text_box_array[1])\n",
    "plt.text(1.75, -3.5, text_box_array[2]);plt.text(1.75, 1.5, text_box_array[3])\n",
    "plt.vlines(0, ymin = -5, ymax = 5);plt.hlines(0, xmin = -5, xmax = 5)"
   ]
  },
  {
   "cell_type": "markdown",
   "id": "32",
   "metadata": {},
   "source": [
    "# --------------------- separatiing line --------------------- #"
   ]
  },
  {
   "cell_type": "code",
   "execution_count": null,
   "id": "33",
   "metadata": {},
   "outputs": [],
   "source": [
    "# ideal case\n",
    "\n",
    "text_box_array = ['1.00\\n1.00\\n0.00\\n0.00', '0.00\\n0.00\\n0.00\\n0.00', '0.00\\n0.00\\n0.00\\n0.00', '0.00\\n0.00\\n1.00\\n1.00']\n",
    "\n",
    "print(text_box_array)\n",
    "plt.figure(figsize=[4, 4])\n",
    "plt.title(f\"ideal case for step 2, mix in y direction\")\n",
    "plt.xlim(-5, 5)\n",
    "plt.ylim(-5, 5)\n",
    "plt.text(-3.25, -3.5, text_box_array[0])\n",
    "plt.text(-3.25, 1.5, text_box_array[1])\n",
    "plt.text(1.75, -3.5, text_box_array[2])\n",
    "plt.text(1.75, 1.5, text_box_array[3])\n",
    "plt.vlines(0, ymin = -5, ymax = 5)\n",
    "plt.hlines(0, xmin = -5, xmax = 5)\n",
    "\n",
    "# # place a text box in upper left in axes coords\n",
    "# ax.text(0.05, 0.95, textstr, transform=ax.transAxes, fontsize=14,\n",
    "#         verticalalignment='top', bbox=props)"
   ]
  },
  {
   "cell_type": "code",
   "execution_count": null,
   "id": "34",
   "metadata": {},
   "outputs": [],
   "source": [
    "print(cfqr.sim.output.all_state[\"description_text\"])"
   ]
  },
  {
   "cell_type": "code",
   "execution_count": null,
   "id": "35",
   "metadata": {},
   "outputs": [],
   "source": []
  },
  {
   "cell_type": "code",
   "execution_count": null,
   "id": "36",
   "metadata": {},
   "outputs": [],
   "source": [
    "states = cfqr.sim.output.all_state[\"states\"]\n",
    "\n",
    "particle_number = 4\n",
    "initial_position = states[particle_number, 0, (0, 1), 0]\n",
    "final_position = states[particle_number, -1, (0, 1), 0]\n",
    "print(initial_position, final_position)\n",
    "\n",
    "plt.ylim(-5, 5)\n",
    "plt.xlim(-5, 5)\n",
    "plt.scatter([initial_position[0]], [initial_position[-1:]], color = \"b\" )\n",
    "plt.scatter(final_position[0:1], final_position[-1:], color = \"r\" )"
   ]
  },
  {
   "cell_type": "code",
   "execution_count": null,
   "id": "37",
   "metadata": {},
   "outputs": [],
   "source": [
    "import numpy as np\n",
    "import matplotlib.pyplot as plt"
   ]
  },
  {
   "cell_type": "code",
   "execution_count": null,
   "id": "38",
   "metadata": {},
   "outputs": [],
   "source": [
    "\n",
    "import json\n",
    "import numpy as np\n",
    "import matplotlib.pyplot as plt\n",
    "with open(\"cfq_data/fidelity_analysis.json\") as f:\n",
    "    data = json.load(f)\n",
    "    for item in data:\n",
    "        final_percentage_matrix = np.array([d[\"final_percentage\"] for d in item[\"fidelity\"]]).T\n",
    "        text_box_array = [\"\\n\".join(row) for row in final_percentage_matrix]\n",
    "        plt.figure(figsize=[4, 4])\n",
    "        plt.title(f\"N = {item['N']}, dt = {item['dt']}, t1 = {item['protocol_list'][-1]['duration']} \")\n",
    "        plt.xlim(-5, 5);plt.ylim(-5, 5);\n",
    "        plt.text(-3.25, -3.5, text_box_array[0]);plt.text(-3.25, 1.5, text_box_array[1])\n",
    "        plt.text(1.75, -3.5, text_box_array[2]);plt.text(1.75, 1.5, text_box_array[3])\n",
    "        plt.vlines(0, ymin = -5, ymax = 5);plt.hlines(0, xmin = -5, xmax = 5)\n",
    "    plt.show()"
   ]
  },
  {
   "cell_type": "code",
   "execution_count": null,
   "id": "39",
   "metadata": {},
   "outputs": [],
   "source": [
    "d = {\"3\": 10}"
   ]
  },
  {
   "cell_type": "code",
   "execution_count": null,
   "id": "40",
   "metadata": {},
   "outputs": [],
   "source": [
    "list(d.values())[0]"
   ]
  },
  {
   "cell_type": "code",
   "execution_count": null,
   "id": "41",
   "metadata": {},
   "outputs": [],
   "source": [
    "\n",
    "import json\n",
    "import numpy as np\n",
    "import matplotlib.pyplot as plt\n",
    "\n",
    "bit_array = [\"00\", \"01\", \"10\", \"11\"]\n",
    "expt_number = 23\n",
    "\n",
    "with open(\"cfq_data/fidelity_analysis.json\") as f:\n",
    "    data = json.load(f)\n",
    "    data = list(filter(lambda x: x[\"expt_number\"]==expt_number, data))\n",
    "    data = list(filter(lambda x: x[\"tested_paramter_value\"] < 0.545 and x[\"tested_paramter_value\"] > 0.54, data))\n",
    "    final_percentage_matrix_at_all_time = []\n",
    "    parameter_array = [item['tested_paramter_value'] for item in data]\n",
    "    mean_work =  [item['W_mean'] for item in data]\n",
    "    for item in data:\n",
    "        final_percentage_matrix = np.array([d[\"final_percentage\"] for d in item[\"fidelity\"]])\n",
    "        final_percentage_matrix_at_all_time.append(final_percentage_matrix)\n",
    "    final_percentage_matrix_at_all_time = np.array(final_percentage_matrix_at_all_time).astype(\"float\")"
   ]
  },
  {
   "cell_type": "code",
   "execution_count": null,
   "id": "42",
   "metadata": {},
   "outputs": [],
   "source": [
    "mean_work"
   ]
  },
  {
   "cell_type": "code",
   "execution_count": null,
   "id": "43",
   "metadata": {},
   "outputs": [],
   "source": [
    "plt.title(\"mean work and time length for step 5\")\n",
    "plt.xlabel(\"r\"); plt.ylabel(\"W_mean\")\n",
    "plt.plot(parameter_array, mean_work)\n",
    "print(\"min work = \", min(mean_work))\n"
   ]
  },
  {
   "cell_type": "code",
   "execution_count": null,
   "id": "44",
   "metadata": {},
   "outputs": [],
   "source": [
    "sorted(zip(parameter_array, final_percentage_matrix_at_all_time), key=lambda x: x[0])"
   ]
  },
  {
   "cell_type": "code",
   "execution_count": null,
   "id": "45",
   "metadata": {},
   "outputs": [],
   "source": [
    "fig, ax = plt.subplots(2, 2, figsize=(7,7))\n",
    "ax = ax.flatten()\n",
    "\n",
    "# i_index and f_index means initial and final indices\n",
    "for i_index in range(0, 4):\n",
    "    ax[i_index].title.set_text(f'initial at {bit_array[i_index]}')\n",
    "    for f_index in range(0, 4):\n",
    "        ax[i_index].plot(parameter_array, final_percentage_matrix_at_all_time[:, i_index, f_index], label=bit_array[f_index])\n",
    "    #     \n",
    "    \n",
    "    #     ax[index].plot(time_array, row, label = bit_array[index])\n",
    "    #     ax[index].title.set_text(f'initial at {bit_array[index]}')\n",
    "handles, labels = ax[0].get_legend_handles_labels()\n",
    "fig.legend(handles, labels, loc = 5, bbox_to_anchor=(1.1, 0.5))\n",
    "\n"
   ]
  },
  {
   "cell_type": "code",
   "execution_count": null,
   "id": "46",
   "metadata": {},
   "outputs": [],
   "source": [
    "\n",
    "\n",
    "\n",
    "\n",
    "for i_index in range(0, 4):\n",
    "    ax[i_index].title.set_text(f'initial at {bit_array[i_index]}')\n",
    "    for f_index in range(0, 4):\n",
    "        plt.plot(parameter_array, final_percentage_matrix_at_all_time[:, i_index, f_index], label=bit_array[f_index])\n",
    "plt.legend(handles, labels, loc = 5, bbox_to_anchor=(1.1, 0.5))\n",
    "\n"
   ]
  },
  {
   "cell_type": "code",
   "execution_count": null,
   "id": "47",
   "metadata": {},
   "outputs": [],
   "source": [
    "final_percentage_matrix_at_all_time"
   ]
  },
  {
   "cell_type": "code",
   "execution_count": null,
   "id": "48",
   "metadata": {},
   "outputs": [],
   "source": [
    "bit_array = [\"00\", \"01\", \"10\", \"11\"]"
   ]
  },
  {
   "cell_type": "code",
   "execution_count": null,
   "id": "49",
   "metadata": {},
   "outputs": [],
   "source": [
    "# dimension: [time, init_bit, final_bit]\n",
    "final_percentage_matrix_at_all_time[0:3, 0, 0]"
   ]
  },
  {
   "cell_type": "code",
   "execution_count": null,
   "id": "50",
   "metadata": {},
   "outputs": [],
   "source": [
    "final_percentage_matrix_at_all_time"
   ]
  },
  {
   "cell_type": "code",
   "execution_count": null,
   "id": "51",
   "metadata": {},
   "outputs": [],
   "source": [
    "fig, ax = plt.subplots(2, 2, figsize=(18, 18))\n",
    "ax = ax.flatten()\n",
    "\n",
    "# ax[1].legend()\n",
    "for index, row in enumerate(final_percentage_matrix_at_all_time[:, :, i].T.astype(\"float\")):\n",
    "    print(row)\n",
    "    # for i in range(0, 4):\n",
    "    #     ax[index].plot(time_array, row, label = bit_array[index])\n",
    "    #     ax[index].title.set_text(f'initial at {bit_array[index]}')\n",
    "    #     ax[index].legend(bbox_to_anchor=(1, 1))"
   ]
  },
  {
   "cell_type": "code",
   "execution_count": null,
   "id": "52",
   "metadata": {},
   "outputs": [],
   "source": [
    "fig, ax = plt.subplots(2, 2, figsize=(18,4))\n",
    "\n"
   ]
  },
  {
   "cell_type": "code",
   "execution_count": null,
   "id": "53",
   "metadata": {},
   "outputs": [],
   "source": [
    "ax.flatten()"
   ]
  },
  {
   "cell_type": "code",
   "execution_count": null,
   "id": "54",
   "metadata": {},
   "outputs": [],
   "source": [
    "def extra_constraint(state):\n",
    "    # to check if the particle is at the position of bit 11\n",
    "    tf_array_11 = np.logical_and(state[:,0, 0] > 0, state[:,1, 0] > 0)\n",
    "\n",
    "    # to check if the particle is at the position of bit 00\n",
    "    tf_array_00 = np.logical_and(state[:,0, 0] < 0, state[:,1, 0] < 0)\n",
    "\n",
    "    tf_array_00_or_11 = np.logical_or(tf_array_00, tf_array_11).astype(int)\n",
    "    return tf_array_00_or_11\n",
    "\n",
    "def self_defined_initial_state(cfqr, Nsample, t=None, resolution=500, beta=1, manual_domain=None, axes=None, slice_vals=None, verbose=True, extra_constraint = None):\n",
    "        if cfqr.potential.N_dim >= 4 and (axes is None or len(axes) > 4):\n",
    "            if resolution > 100:\n",
    "                if cfqr.potential.N_dim >= 4:\n",
    "                    resolution = 50\n",
    "                print('new resolution is {}'.format(resolution))\n",
    "\n",
    "        NT = Nsample\n",
    "        state = np.zeros((max(100, int(2*NT)), cfqr.potential.N_dim, 2))\n",
    "\n",
    "        def get_prob(cfqr, state):\n",
    "            if cfqr.has_velocity is False:\n",
    "                state = state[:, :, 0]\n",
    "            E_curr = cfqr.get_energy(state, t)\n",
    "            Delta_U = E_curr-U0\n",
    "            \n",
    "            if extra_constraint:\n",
    "                return np.exp(-beta * Delta_U) * extra_constraint(state)\n",
    "            else:\n",
    "                return np.exp(-beta * Delta_U)\n",
    "\n",
    "        if t is None:\n",
    "            t = cfqr.protocol.t_i\n",
    "\n",
    "        U, X = cfqr.lattice(t, resolution, axes=axes, slice_values=slice_vals, manual_domain=manual_domain)\n",
    "        mins = []; maxes = []\n",
    "        for item in X:\n",
    "            mins.append(np.min(item))\n",
    "            maxes.append(np.max(item))\n",
    "\n",
    "        U0 = np.min(U); i = 0\n",
    "\n",
    "        if axes is None:\n",
    "            axes = [_ for _ in range(1, cfqr.potential.N_dim + 1)]\n",
    "        axes = np.array(axes) - 1\n",
    "\n",
    "        while i < Nsample:\n",
    "            test_coords = np.zeros((NT, cfqr.potential.N_dim, 2))\n",
    "            if slice_vals is not None:\n",
    "                test_state[:, :, 0] = slice_vals\n",
    "\n",
    "            # this is the state generated to test\n",
    "            test_coords[:, axes, 0] = np.random.uniform(mins, maxes, (NT, len(axes)))\n",
    "\n",
    "            p = get_prob(cfqr, test_coords)\n",
    "\n",
    "            decide = np.random.uniform(0, 1, NT)\n",
    "            n_sucesses = np.sum(p > decide)\n",
    "            if i == 0:\n",
    "                ratio = max(n_sucesses/NT, .05)\n",
    "\n",
    "            state[i:i+n_sucesses, :, :] = test_coords[p > decide, :, :]\n",
    "            i = i + n_sucesses\n",
    "            if verbose:\n",
    "                print(f\"\\r found {i} samples out of {Nsample}\", end=\"\")\n",
    "\n",
    "            NT = max(int((Nsample-i)/ratio), 100)\n",
    "\n",
    "        print(\"\\nfrom system: finish the while loop in sampling.\")\n",
    "        state = state[0:Nsample, :, :]\n",
    "        # print(\"the state is\", state)\n",
    "\n",
    "        if cfqr.has_velocity:\n",
    "            state[:, :, 1] = np.random.normal(0, np.sqrt(1/(cfqr.mass*beta)), (Nsample, cfqr.potential.N_dim))\n",
    "        else:\n",
    "            return state[:, :, 0]\n",
    "\n",
    "        return state"
   ]
  },
  {
   "cell_type": "code",
   "execution_count": null,
   "id": "55",
   "metadata": {},
   "outputs": [],
   "source": [
    "i_state = self_defined_initial_state(cfqr.eq_system, N, extra_constraint=extra_constraint)"
   ]
  },
  {
   "cell_type": "code",
   "execution_count": null,
   "id": "56",
   "metadata": {},
   "outputs": [],
   "source": [
    "E_curr = cfqr.eq_system.get_energy(initial_state, 0)\n",
    "Delta_U = E_curr\n",
    "np.exp(-Delta_U)\n",
    "# extra_constraint"
   ]
  },
  {
   "cell_type": "code",
   "execution_count": null,
   "id": "57",
   "metadata": {},
   "outputs": [],
   "source": [
    "plt.scatter(i_state[:, 0, 0], i_state[:, 1, 0])"
   ]
  },
  {
   "cell_type": "code",
   "execution_count": null,
   "id": "58",
   "metadata": {},
   "outputs": [],
   "source": []
  },
  {
   "cell_type": "code",
   "execution_count": null,
   "id": "59",
   "metadata": {},
   "outputs": [],
   "source": []
  },
  {
   "cell_type": "code",
   "execution_count": null,
   "id": "60",
   "metadata": {},
   "outputs": [],
   "source": [
    "# to check if the particle is at the position of bit 11\n",
    "tf_array_11 = np.logical_and(initial_state[:,0, 0] > 0, initial_state[:,1, 0] > 0)\n",
    "\n",
    "# to check if the particle is at the position of bit 00\n",
    "tf_array_00 = np.logical_and(initial_state[:,0, 0] < 0, initial_state[:,1, 0] < 0)\n",
    "\n",
    "tf_array_00_or_11 = np.logical_or(tf_array_00, tf_array_11)"
   ]
  },
  {
   "cell_type": "code",
   "execution_count": null,
   "id": "61",
   "metadata": {},
   "outputs": [],
   "source": [
    "plt.scatter(initial_state[:, 0, 0][tf_array_00_or_11], initial_state[:, 1, 0][tf_array_00_or_11])"
   ]
  },
  {
   "cell_type": "code",
   "execution_count": null,
   "id": "62",
   "metadata": {},
   "outputs": [],
   "source": [
    "initial_state[:10,(0, 1), 0] > 0"
   ]
  },
  {
   "cell_type": "code",
   "execution_count": null,
   "id": "63",
   "metadata": {},
   "outputs": [],
   "source": [
    "np.sum(tf_array_00  tf_array_11)"
   ]
  },
  {
   "cell_type": "code",
   "execution_count": null,
   "id": "64",
   "metadata": {},
   "outputs": [],
   "source": []
  }
 ],
 "metadata": {
  "kernelspec": {
   "display_name": "Python 3 (ipykernel)",
   "language": "python",
   "name": "python3"
  },
  "language_info": {
   "codemirror_mode": {
    "name": "ipython",
    "version": 3
   },
   "file_extension": ".py",
   "mimetype": "text/x-python",
   "name": "python",
   "nbconvert_exporter": "python",
   "pygments_lexer": "ipython3",
   "version": "3.10.9"
  }
 },
 "nbformat": 4,
 "nbformat_minor": 5
}
