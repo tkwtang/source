{
 "cells": [
  {
   "cell_type": "code",
   "execution_count": null,
   "id": "0",
   "metadata": {},
   "outputs": [],
   "source": [
    "import numpy as np\n",
    "from sus.protocol_designer import System, Protocol, Potential, Compound_Protocol\n",
    "from sus.protocol_designer.protocol import sequential_protocol\n",
    "from IPython import display\n",
    "from IPython.display import HTML\n",
    "from quick_sim import setup_sim\n",
    "from edward_tools.coupled_fq_potential import coupled_flux_qubit_pot, coupled_flux_qubit_force, coupled_fq_pot\n",
    "import edward_tools.fq_runner as fq_runner\n",
    "from edward_tools.visualization import animate_sim_flux_qubit\n",
    "\n",
    "import kyle_tools as kt\n",
    "import matplotlib.pyplot as plt\n",
    "from quick_sim import setup_sim\n",
    "\n",
    "import importlib, os, hashlib, json, datetime\n",
    "from edward_tools import coupled_fq_protocol_library, cfq_runner\n",
    "from PARAMETER_INPUT import *\n",
    "from PARAMETER_INPUT import _lambda, _theta, _eta\n",
    "from ControlParameter import *\n",
    "\n",
    "import edward_tools.cfq_batch_sweep as cfq_batch_sweep\n",
    "%load_ext jupyternotify\n",
    "\n",
    "coupled_fq_protocol_library = importlib.reload(coupled_fq_protocol_library)\n",
    "create_system = coupled_fq_protocol_library.create_system\n",
    "get_potential_shot_at_different_t = coupled_fq_protocol_library.get_potential_shot_at_different_t\n",
    "get_potential_shot_at_different_t_1D = coupled_fq_protocol_library.get_potential_shot_at_different_t_1D\n",
    "create_simple_protocol_parameter_dict = coupled_fq_protocol_library.create_simple_protocol_parameter_dict\n",
    "create_system_from_storage_and_computation_protocol = coupled_fq_protocol_library.create_system_from_storage_and_computation_protocol\n",
    "coupled_fq_runner = importlib.reload(cfq_runner)\n",
    "coupled_fq_protocol_library = importlib.reload(coupled_fq_protocol_library)\n",
    "create_system = coupled_fq_protocol_library.create_system\n"
   ]
  },
  {
   "cell_type": "markdown",
   "id": "1",
   "metadata": {},
   "source": [
    "# --------------------- separatiing line --------------------- #"
   ]
  },
  {
   "cell_type": "code",
   "execution_count": null,
   "id": "2",
   "metadata": {},
   "outputs": [],
   "source": [
    "import numpy as np\n",
    "import matplotlib.pyplot as plt"
   ]
  },
  {
   "cell_type": "markdown",
   "id": "3",
   "metadata": {
    "tags": []
   },
   "source": [
    "# fidelity analysis"
   ]
  },
  {
   "cell_type": "markdown",
   "id": "4",
   "metadata": {
    "tags": []
   },
   "source": [
    "## to plot the 4 grid pictures"
   ]
  },
  {
   "cell_type": "code",
   "execution_count": null,
   "id": "5",
   "metadata": {},
   "outputs": [],
   "source": [
    "\n",
    "import json\n",
    "import numpy as np\n",
    "import matplotlib.pyplot as plt\n",
    "with open(\"cfq_data/fidelity_analysis.json\") as f:\n",
    "    data = json.load(f)\n",
    "    for item in data:\n",
    "        final_percentage_matrix = np.array([d[\"final_percentage\"] for d in item[\"fidelity\"]]).T\n",
    "        text_box_array = [\"\\n\".join(row) for row in final_percentage_matrix]\n",
    "        plt.figure(figsize=[4, 4])\n",
    "        plt.title(f\"N = {item['N']}, dt = {item['dt']}, t1 = {item['protocol_list'][-1]['duration']} \")\n",
    "        plt.xlim(-5, 5);plt.ylim(-5, 5);\n",
    "        plt.text(-3.25, -3.5, text_box_array[0]);plt.text(-3.25, 1.5, text_box_array[1])\n",
    "        plt.text(1.75, -3.5, text_box_array[2]);plt.text(1.75, 1.5, text_box_array[3])\n",
    "        plt.vlines(0, ymin = -5, ymax = 5);plt.hlines(0, xmin = -5, xmax = 5)\n",
    "    # plt.show()"
   ]
  },
  {
   "cell_type": "code",
   "execution_count": null,
   "id": "6",
   "metadata": {},
   "outputs": [],
   "source": [
    "d = {\"3\": 10}"
   ]
  },
  {
   "cell_type": "code",
   "execution_count": null,
   "id": "7",
   "metadata": {},
   "outputs": [],
   "source": [
    "list(d.values())[0]"
   ]
  },
  {
   "cell_type": "markdown",
   "id": "8",
   "metadata": {
    "tags": []
   },
   "source": [
    "## plot them in line graphs"
   ]
  },
  {
   "cell_type": "code",
   "execution_count": null,
   "id": "9",
   "metadata": {},
   "outputs": [],
   "source": [
    "\n",
    "import json\n",
    "import numpy as np\n",
    "import matplotlib.pyplot as plt\n",
    "\n",
    "bit_array = [\"00\", \"01\", \"10\", \"11\"]\n",
    "expt_number = 32\n",
    "\n",
    "with open(\"cfq_data/fidelity_r_analysis_step_1_to_6.json\") as f:\n",
    "    data = json.load(f)\n",
    "    data = list(filter(lambda x: x[\"expt_number\"]==expt_number, data))\n",
    "    # data = list(filter(lambda x: x[\"tested_parameter_value\"] < 0.84 and x[\"tested_parameter_value\"] > 0.82, data))\n",
    "    final_percentage_matrix_at_all_time = []\n",
    "    parameter_array = [item['tested_parameter_value'] for item in data]\n",
    "    mean_work =  [item['W_mean'] for item in data]\n",
    "    for item in data:\n",
    "        final_percentage_matrix = np.array([d[\"final_percentage\"] for d in item[\"fidelity\"]])\n",
    "        final_percentage_matrix_at_all_time.append(final_percentage_matrix)\n",
    "    final_percentage_matrix_at_all_time = np.array(final_percentage_matrix_at_all_time).astype(\"float\")"
   ]
  },
  {
   "cell_type": "code",
   "execution_count": null,
   "id": "10",
   "metadata": {},
   "outputs": [],
   "source": [
    "plt.title(\"mean work and time length for step 1\")\n",
    "plt.xlabel(\"r\"); plt.ylabel(\"W_mean\")\n",
    "plt.scatter(parameter_array, mean_work)\n",
    "print(\"min work = \", min(mean_work))\n"
   ]
  },
  {
   "cell_type": "code",
   "execution_count": null,
   "id": "11",
   "metadata": {},
   "outputs": [],
   "source": [
    "data[10]"
   ]
  },
  {
   "cell_type": "code",
   "execution_count": null,
   "id": "12",
   "metadata": {},
   "outputs": [],
   "source": [
    "sorted(zip(parameter_array, final_percentage_matrix_at_all_time), key=lambda x: x[0])\n",
    "\n",
    "fig, ax = plt.subplots(2, 2, figsize=(7,7))\n",
    "ax = ax.flatten()\n",
    "\n",
    "# i_index and f_index means initial and final indices\n",
    "for i_index in range(0, 4):\n",
    "    ax[i_index].title.set_text(f'initial at {bit_array[i_index]}')\n",
    "    for f_index in range(0, 4):\n",
    "        ax[i_index].plot(parameter_array, final_percentage_matrix_at_all_time[:, i_index, f_index], label=bit_array[f_index])\n",
    "    #     \n",
    "    \n",
    "    #     ax[index].plot(time_array, row, label = bit_array[index])\n",
    "    #     ax[index].title.set_text(f'initial at {bit_array[index]}')\n",
    "handles, labels = ax[0].get_legend_handles_labels()\n",
    "fig.legend(handles, labels, loc = 5, bbox_to_anchor=(1.1, 0.5))\n",
    "\n"
   ]
  },
  {
   "cell_type": "code",
   "execution_count": null,
   "id": "13",
   "metadata": {},
   "outputs": [],
   "source": [
    "\n",
    "\n",
    "\n",
    "\n",
    "for i_index in range(0, 4):\n",
    "    ax[i_index].title.set_text(f'initial at {bit_array[i_index]}')\n",
    "    for f_index in range(0, 4):\n",
    "        plt.plot(parameter_array, final_percentage_matrix_at_all_time[:, i_index, f_index], label=bit_array[f_index])\n",
    "plt.legend(handles, labels, loc = 5, bbox_to_anchor=(1.1, 0.5))\n",
    "\n"
   ]
  },
  {
   "cell_type": "code",
   "execution_count": null,
   "id": "14",
   "metadata": {},
   "outputs": [],
   "source": [
    "final_percentage_matrix_at_all_time"
   ]
  },
  {
   "cell_type": "code",
   "execution_count": null,
   "id": "15",
   "metadata": {},
   "outputs": [],
   "source": [
    "bit_array = [\"00\", \"01\", \"10\", \"11\"]"
   ]
  },
  {
   "cell_type": "code",
   "execution_count": null,
   "id": "16",
   "metadata": {},
   "outputs": [],
   "source": []
  },
  {
   "cell_type": "code",
   "execution_count": null,
   "id": "17",
   "metadata": {},
   "outputs": [],
   "source": []
  },
  {
   "cell_type": "code",
   "execution_count": null,
   "id": "18",
   "metadata": {},
   "outputs": [],
   "source": []
  },
  {
   "cell_type": "code",
   "execution_count": null,
   "id": "19",
   "metadata": {},
   "outputs": [],
   "source": []
  },
  {
   "cell_type": "markdown",
   "id": "20",
   "metadata": {},
   "source": [
    "## plot the work done"
   ]
  },
  {
   "cell_type": "code",
   "execution_count": null,
   "id": "21",
   "metadata": {},
   "outputs": [],
   "source": [
    "import json\n",
    "import numpy as np\n",
    "import matplotlib.pyplot as plt\n",
    "\n",
    "bit_array = [\"00\", \"01\", \"10\", \"11\"]\n",
    "expt_number = 5\n",
    "\n",
    "# with open(\"cfq_data/WD_analysis_step_1_to_6.json\") as f:\n",
    "#     data = json.load(f)\n",
    "#     data = list(filter(lambda x: x[\"expt_number\"]==expt_number, data))\n",
    "#     final_percentage_matrix_at_all_time = []\n",
    "#     parameter_array = [item['tested_parameter_value'] for item in data]\n",
    "#     mean_work =  [item['W_mean'] for item in data]\n",
    "#     for item in data:\n",
    "#         final_percentage_matrix = np.array([d[\"final_percentage\"] for d in item[\"fidelity\"]])\n",
    "#         final_percentage_matrix_at_all_time.append(final_percentage_matrix)\n",
    "#     final_percentage_matrix_at_all_time = np.array(final_percentage_matrix_at_all_time).astype(\"float\")"
   ]
  },
  {
   "cell_type": "code",
   "execution_count": null,
   "id": "22",
   "metadata": {},
   "outputs": [],
   "source": [
    "import pandas as pd"
   ]
  },
  {
   "cell_type": "code",
   "execution_count": null,
   "id": "23",
   "metadata": {},
   "outputs": [],
   "source": [
    "df1 = pd.read_json(\"cfq_data/WD_analysis_step_1_to_6.json\")"
   ]
  },
  {
   "cell_type": "code",
   "execution_count": null,
   "id": "24",
   "metadata": {},
   "outputs": [],
   "source": [
    "expt_df = df1[df1[\"expt_number\"] == expt_number]"
   ]
  },
  {
   "cell_type": "code",
   "execution_count": null,
   "id": "25",
   "metadata": {},
   "outputs": [],
   "source": [
    "np.std(expt_df[\"W_mean\"])"
   ]
  },
  {
   "cell_type": "code",
   "execution_count": null,
   "id": "26",
   "metadata": {},
   "outputs": [],
   "source": [
    "np.mean(expt_df[\"W_mean\"])"
   ]
  },
  {
   "cell_type": "code",
   "execution_count": null,
   "id": "27",
   "metadata": {},
   "outputs": [],
   "source": [
    "1.973 - 3.043 -4.479 + 6.471 + 1.882 -1.602\n",
    "\n"
   ]
  },
  {
   "cell_type": "code",
   "execution_count": null,
   "id": "28",
   "metadata": {},
   "outputs": [],
   "source": []
  }
 ],
 "metadata": {
  "kernelspec": {
   "display_name": "Python 3 (ipykernel)",
   "language": "python",
   "name": "python3"
  },
  "language_info": {
   "codemirror_mode": {
    "name": "ipython",
    "version": 3
   },
   "file_extension": ".py",
   "mimetype": "text/x-python",
   "name": "python",
   "nbconvert_exporter": "python",
   "pygments_lexer": "ipython3",
   "version": "3.10.9"
  }
 },
 "nbformat": 4,
 "nbformat_minor": 5
}
