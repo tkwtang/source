{
 "cells": [
  {
   "cell_type": "code",
   "execution_count": null,
   "id": "0",
   "metadata": {},
   "outputs": [],
   "source": [
    "import numpy as np\n",
    "from sus.protocol_designer import System, Protocol, Potential, Compound_Protocol\n",
    "from sus.protocol_designer.protocol import sequential_protocol\n",
    "from IPython import display\n",
    "from IPython.display import HTML\n",
    "from quick_sim import setup_sim\n",
    "from edward_tools.coupled_fq_potential import coupled_flux_qubit_pot, coupled_flux_qubit_force, coupled_fq_pot\n",
    "import edward_tools.fq_runner as fq_runner\n",
    "from edward_tools.visualization import animate_sim_flux_qubit\n",
    "\n",
    "import kyle_tools as kt\n",
    "import matplotlib.pyplot as plt\n",
    "\n",
    "import importlib, os, hashlib, json\n",
    "from edward_tools import coupled_fq_protocol_library, cfq_runner\n",
    "from PARAMETER_INPUT import *\n",
    "from PARAMETER_INPUT import _lambda, _theta, _eta\n",
    "from ControlParameter import *\n",
    "\n",
    "from edward_tools import coupled_fq_protocol_library\n",
    "import edward_tools.cfq_batch_sweep as cfq_batch_sweep\n",
    "%load_ext jupyternotify\n",
    "\n",
    "coupled_fq_protocol_library = importlib.reload(coupled_fq_protocol_library)\n",
    "create_system = coupled_fq_protocol_library.create_system\n",
    "get_potential_shot_at_different_t = coupled_fq_protocol_library.get_potential_shot_at_different_t\n",
    "get_potential_shot_at_different_t_1D = coupled_fq_protocol_library.get_potential_shot_at_different_t_1D\n",
    "create_simple_protocol_parameter_dict = coupled_fq_protocol_library.create_simple_protocol_parameter_dict\n",
    "create_system_from_storage_and_computation_protocol = coupled_fq_protocol_library.create_system_from_storage_and_computation_protocol\n",
    "coupled_fq_runner = importlib.reload(cfq_runner)\n",
    "coupled_fq_protocol_library = importlib.reload(coupled_fq_protocol_library)\n",
    "create_system = coupled_fq_protocol_library.create_system\n",
    "\n",
    "get_potential_along_a_1D_cutline = coupled_fq_protocol_library.get_potential_along_a_1D_cutline\n",
    "plotCutlines = coupled_fq_protocol_library.plotCutlines\n"
   ]
  },
  {
   "cell_type": "code",
   "execution_count": null,
   "id": "1",
   "metadata": {},
   "outputs": [],
   "source": []
  },
  {
   "cell_type": "code",
   "execution_count": null,
   "id": "2",
   "metadata": {},
   "outputs": [],
   "source": []
  },
  {
   "cell_type": "code",
   "execution_count": null,
   "id": "3",
   "metadata": {},
   "outputs": [],
   "source": [
    "\"\"\"\n",
    "# step 0: modify parameters\n",
    "- All the parameters are stored in a separate file PARAMETER_INPUT\n",
    "- You can override some of the parameters here.\n",
    "\"\"\"\n",
    "N = 50_00\n",
    "params['N'] = N\n",
    "params['dt'] = dt/10"
   ]
  },
  {
   "cell_type": "code",
   "execution_count": null,
   "id": "4",
   "metadata": {},
   "outputs": [],
   "source": [
    "\"\"\"\n",
    "# step 1: Define potential\n",
    "\"\"\"\n",
    "coupled_fq_default_param = [1, 1, 0, 0, 0, 0, 0, 0, 0, 0, 0, 0, 0, x_c0]\n",
    "[phi_1_bound, phi_2_bound, phi_1dc_bound, phi_2dc_bound] = np.array([4, 4, 4, 4])/time_scale_factor\n",
    "\n",
    "coupled_fq_domain = [[-phi_1_bound, -phi_2_bound, -phi_1dc_bound, -phi_2dc_bound], \\\n",
    "                     [phi_1_bound, phi_2_bound, phi_1dc_bound, phi_2dc_bound]]\n",
    "\n",
    "coupled_fq_pot = Potential(coupled_flux_qubit_pot, coupled_flux_qubit_force, 14, 4,\\\n",
    "                           default_params = coupled_fq_default_param,  relevant_domain = coupled_fq_domain)"
   ]
  },
  {
   "cell_type": "code",
   "execution_count": null,
   "id": "5",
   "metadata": {},
   "outputs": [],
   "source": [
    "params"
   ]
  },
  {
   "cell_type": "code",
   "execution_count": null,
   "id": "6",
   "metadata": {},
   "outputs": [],
   "source": [
    "\"\"\"\n",
    "# step 2: Define initial condition and protocol\n",
    "\"\"\"\n",
    "manual_domain=[np.array([-5, -5]), np.array([5, 5])]\n",
    "phi_1_dcx, phi_2_dcx = 0, 0\n",
    "phi_1_dc, phi_2_dc = phi_1_dcx, phi_2_dcx"
   ]
  },
  {
   "cell_type": "code",
   "execution_count": null,
   "id": "7",
   "metadata": {},
   "outputs": [],
   "source": [
    "# time length\n",
    "time_length_1 = 80\n",
    "time_length_2 = 40\n",
    "time_length_3 = 80\n",
    "time_length_4 = 80\n",
    "time_length_5 = 60\n",
    "time_length_6 = 60\n",
    "\n",
    "phi_1_dcx_on = 2.8\n",
    "phi_2_dcx_on = 2.8\n",
    "M_12_on = -0.5"
   ]
  },
  {
   "cell_type": "code",
   "execution_count": null,
   "id": "8",
   "metadata": {},
   "outputs": [],
   "source": []
  },
  {
   "cell_type": "code",
   "execution_count": null,
   "id": "9",
   "metadata": {},
   "outputs": [],
   "source": [
    "initial_parameter_dict = {\n",
    "        \"U0_1\": U0_1,     \"U0_2\": U0_2,     \"gamma_1\": gamma,  \"gamma_2\": gamma,\n",
    "        \"beta_1\": beta_1,   \"beta_2\": beta_2,   \"d_beta_1\": d_beta_1 ,   \"d_beta_2\": d_beta_2,\n",
    "        \"phi_1_x\": 0,  \"phi_2_x\": 0,  \"phi_1_dcx\": phi_1_dcx_off,  \"phi_2_dcx\": phi_2_dcx_off,\n",
    "        \"M_12\": M_12_off, 'x_c': x_c\n",
    "}\n",
    "\n",
    "\n",
    "protocol_list_options = [\n",
    "    {\"placeholder\": \"\"},\n",
    "    # forward\n",
    "    {\"duration\":time_length_1, \"phi_1_dcx\": phi_1_dcx_off, \"phi_2_dcx\": phi_2_dcx_on,  \"M_12\": M_12_off,  \"name\":\"(1) mix in y direction\"},\n",
    "    {\"duration\":time_length_2, \"phi_1_dcx\": phi_1_dcx_off, \"phi_2_dcx\": phi_2_dcx_on,  \"M_12\": M_12_on,   \"name\":\"(2) conditional tilt\"},\n",
    "    {\"duration\":time_length_3, \"phi_1_dcx\": phi_1_dcx_off, \"phi_2_dcx\": phi_2_dcx_off, \"M_12\": M_12_on,   \"name\":\"(3) raise the barrier\"},\n",
    "    {\"duration\":time_length_4, \"phi_1_dcx\": phi_1_dcx_off,  \"phi_2_dcx\": phi_2_dcx_off, \"M_12\": M_12_off,  \"name\":\"(4) 4 well potential 1st time\"}, \n",
    "    {\"duration\":time_length_5, \"phi_1_dcx\": phi_1_dcx_on,  \"phi_2_dcx\": phi_2_dcx_off, \"M_12\": M_12_off,  \"name\":\"(5) mix in x direction\"}, \n",
    "    {\"duration\":time_length_6, \"phi_1_dcx\": phi_1_dcx_off, \"phi_2_dcx\": phi_2_dcx_off, \"M_12\": M_12_off,  \"name\":\"(6) 4 well potential\"}, \n",
    "    \n",
    "    # reverse\n",
    "    {\"duration\":time_length_6, \"phi_1_dcx\": phi_1_dcx_on,  \"phi_2_dcx\": phi_2_dcx_off, \"M_12\": M_12_off,  \"name\":\"(-6) 4 well potential 2nd time\"}, \n",
    "    {\"duration\":time_length_5, \"phi_1_dcx\": phi_1_dcx_off, \"phi_2_dcx\": phi_2_dcx_off, \"M_12\": M_12_off,  \"name\":\"(-5) anti-mix in x direction\"}, \n",
    "    {\"duration\":time_length_4, \"phi_1_dcx\": phi_1_dcx_off, \"phi_2_dcx\": phi_2_dcx_off, \"M_12\": M_12_on,   \"name\":\"(-4) anti-raise the barrier 1st time\"},\n",
    "    {\"duration\":time_length_3, \"phi_1_dcx\": phi_1_dcx_off, \"phi_2_dcx\": phi_2_dcx_on,  \"M_12\":  M_12_on,  \"name\":\"(-3) anti-raise the barrier\"},\n",
    "    {\"duration\":time_length_2, \"phi_1_dcx\":phi_1_dcx_off,  \"phi_2_dcx\": phi_2_dcx_on,  \"M_12\": M_12_off,  \"name\":\"(-2) anit-conditional tilt\"},\n",
    "    {\"duration\":time_length_1, \"phi_1_dcx\":phi_1_dcx_off,  \"phi_2_dcx\": phi_2_dcx_off, \"M_12\": M_12_off,  \"name\":\"(-1) anti- mix in y direction\"}\n",
    "]"
   ]
  },
  {
   "cell_type": "code",
   "execution_count": null,
   "id": "10",
   "metadata": {},
   "outputs": [],
   "source": [
    "zeroDissipation = False\n",
    "params['sim_params'] = [_lambda, _theta, _eta]\n",
    "if zeroDissipation:\n",
    "    params['sim_params'] = [_lambda * 0, _theta, _eta * 0]\n",
    "\n",
    "\n",
    "\n",
    "\"\"\"\n",
    "0 -> 1 -> 0     (0, 0, 0), (0, 3, 0), (0, 0, 0)\n",
    "1 -> 2 -> 1  (0, 3, 0), (0, 3, -0.8), (0, 3, 0)\n",
    "2 -> 3 -> 2  (0, 3, -0.8), (0, 0, -0.8), (0, 3, -0.8)\n",
    "3 -> 4 -> 3  (0, 0, -0.8), (0, 0, 0), (0, 0, -0.8)\n",
    "4 -> 5 -> 4  (0, 0, 0), (3, 0, 0), (0, 0, 0)\n",
    "5 -> 6 -> 5  (3, 0, 0), (0, 0, 0), (3, 0, 0)\n",
    "\"\"\"\n",
    "TR_initial_condition = [\n",
    "    (phi_1_dcx_off, phi_2_dcx_off, M_12_off), \n",
    "    (phi_1_dcx_off, phi_2_dcx_on,  M_12_off), \n",
    "    (phi_1_dcx_off, phi_2_dcx_on,  M_12_on), \n",
    "    (phi_1_dcx_off, phi_2_dcx_off, M_12_on), \n",
    "    (phi_1_dcx_off, phi_2_dcx_off, M_12_off), \n",
    "    (phi_1_dcx_on,  phi_2_dcx_off, M_12_off)]\n",
    "\n",
    "protocol_index = 0\n",
    "\n",
    "# initial_parameter_dict[\"phi_1_dcx\"], initial_parameter_dict[\"phi_2_dcx\"], initial_parameter_dict[\"M_12\"] = TR_initial_condition[protocol_index-1]\n",
    "initial_parameter_dict[\"phi_1_dcx\"], initial_parameter_dict[\"phi_2_dcx\"], initial_parameter_dict[\"M_12\"] = TR_initial_condition[protocol_index]\n",
    "\n",
    "rest = {\"duration\": 30, \"name\":\"rest\"}\n",
    "# protocol_list = [\n",
    "#     # forward\n",
    "#     protocol_list_options[protocol_index + 1],\n",
    "#     # protocol_list_options[1],\n",
    "#     # protocol_list_options[2],\n",
    "#     # protocol_list_options[3],\n",
    "#     # protocol_list_options[4],\n",
    "#     # protocol_list_options[5],\n",
    "#     # protocol_list_options[6],    \n",
    "    \n",
    "#     # reverse\n",
    "#     # protocol_list_options[-5],\n",
    "#     # protocol_list_options[-4],\n",
    "#     # protocol_list_options[-3],\n",
    "#     # protocol_list_options[-2],\n",
    "#     # protocol_list_options[-1]\n",
    "#     protocol_list_options[-(protocol_index + 1)]\n",
    "# ]\n",
    "\n",
    "protocol_list= [\n",
    "    {\"duration\": 100, \"phi_1_dcx\": phi_1_dcx_off, \"phi_2_dcx\": phi_2_dcx_on,  \"M_12\": M_12_off,  \"name\":\"(1) mix in y direction\"},\n",
    "    {\"duration\": 100, \"name\":\"rest\"},\n",
    "    {\"duration\":40, \"phi_1_dcx\": phi_1_dcx_off, \"phi_2_dcx\": phi_2_dcx_on,  \"M_12\": M_12_on,   \"name\":\"(2) conditional tilt in y\"},\n",
    "    {\"duration\":40, \"phi_1_dcx\": phi_1_dcx_off, \"phi_2_dcx\": phi_2_dcx_off, \"M_12\": M_12_on,   \"name\":\"(3) raise the barrier\"},\n",
    "    # {\"duration\":100, \"phi_1_dcx\": phi_1_dcx_on, \"phi_2_dcx\": phi_2_dcx_off,  \"M_12\": M_12_on,   \"name\":\"(4) conditional tilt in x\"},\n",
    "    {\"duration\":100, \"phi_1_dcx\": phi_1_dcx_on,  \"phi_2_dcx\": phi_2_dcx_off, \"M_12\": M_12_off,  \"name\":\"(5) mix in x direction\"}, \n",
    "    # rest,\n",
    "    {\"duration\":100, \"phi_1_dcx\": phi_1_dcx_off, \"phi_2_dcx\": phi_2_dcx_off, \"M_12\": M_12_off,  \"name\":\"(6) 4 well potential\"}, \n",
    "    \n",
    "]   \n",
    "\n",
    "\n",
    "\n",
    "print(params['sim_params'])\n",
    "print(initial_parameter_dict[\"phi_1_dcx\"], initial_parameter_dict[\"phi_2_dcx\"], initial_parameter_dict[\"M_12\"])\n",
    "for x in protocol_list:\n",
    "    print(x)\n",
    "# print(protocol_list[0][\"phi_1_dcx\"], protocol_list[0][\"phi_2_dcx\"], protocol_list[0][\"M_12\"], )\n",
    "# print(protocol_list[1][\"phi_1_dcx\"], protocol_list[1][\"phi_2_dcx\"], protocol_list[1][\"M_12\"], )\n"
   ]
  },
  {
   "cell_type": "code",
   "execution_count": null,
   "id": "11",
   "metadata": {},
   "outputs": [],
   "source": [
    "\n",
    "\"\"\"\n",
    "# step 3: create the relevant storage protocol and computation protocol\n",
    "\"\"\"\n",
    "computation_protocol_parameter_dict = coupled_fq_protocol_library.customizedProtocol(initial_parameter_dict, \\\n",
    "                                                                    protocol_list)\n",
    "storage_protocol, comp_protocol = create_system(computation_protocol_parameter_dict)"
   ]
  },
  {
   "cell_type": "code",
   "execution_count": null,
   "id": "12",
   "metadata": {},
   "outputs": [],
   "source": [
    "\"\"\"\n",
    "# step 4: create the coupled_fq_runner\n",
    "\"\"\"\n",
    "cfqr = cfq_runner.coupledFluxQubitRunner(potential = coupled_fq_pot, params = params, \\\n",
    "                                                storage_protocol= storage_protocol, \\\n",
    "                                                computation_protocol= comp_protocol)\n",
    "cfqr.initialize_sim()\n",
    "cfqr.set_sim_attributes()\n",
    "init_state_saved = cfqr.init_state\n",
    "manual_domain=[np.array([-5, -5])/time_scale_factor, np.array([5, 5])/time_scale_factor]"
   ]
  },
  {
   "cell_type": "code",
   "execution_count": null,
   "id": "13",
   "metadata": {},
   "outputs": [],
   "source": []
  },
  {
   "cell_type": "code",
   "execution_count": null,
   "id": "14",
   "metadata": {},
   "outputs": [],
   "source": []
  },
  {
   "cell_type": "markdown",
   "id": "15",
   "metadata": {
    "tags": []
   },
   "source": [
    "# equilibrium state  analysis"
   ]
  },
  {
   "cell_type": "code",
   "execution_count": null,
   "id": "16",
   "metadata": {},
   "outputs": [],
   "source": [
    "# from IPython.display import clear_output\n",
    "\n",
    "\n",
    "# \"\"\"\n",
    "# 0 -> 1 -> 0     (0, 0, 0), (0, 3, 0), (0, 0, 0)\n",
    "# 1 -> 2 -> 1  (0, 3, 0), (0, 3, -0.8), (0, 3, 0)\n",
    "# 2 -> 3 -> 2  (0, 3, -0.8), (0, 0, -0.8), (0, 3, -0.8)\n",
    "# 3 -> 4 -> 3  (0, 0, -0.8), (0, 0, 0), (0, 0, -0.8)\n",
    "# 4 -> 5 -> 4  (0, 0, 0), (3, 0, 0), (0, 0, 0)\n",
    "# 5 -> 6 -> 5  (3, 0, 0), (0, 0, 0), (3, 0, 0)\n",
    "# \"\"\"\n",
    "\n",
    "# initial_parameter_dict[\"phi_1_dcx\"] = phi_1_dcx_off\n",
    "# initial_parameter_dict[\"phi_2_dcx\"] = 2.5\n",
    "# initial_parameter_dict[\"M_12\"] = -0.7\n",
    "\n",
    "# \"\"\"\n",
    "# # step 3: create the relevant storage protocol and computation protocol\n",
    "# \"\"\"\n",
    "# computation_protocol_parameter_dict = coupled_fq_protocol_library.customizedProtocol(initial_parameter_dict, \\\n",
    "#                                                                     protocol_list)\n",
    "# storage_protocol, comp_protocol = create_system(computation_protocol_parameter_dict)\n",
    "\n",
    "# cfqr = cfq_runner.coupledFluxQubitRunner(potential = coupled_fq_pot, params = params, \\\n",
    "#                                                 storage_protocol= storage_protocol, \\\n",
    "#                                                 computation_protocol= comp_protocol)\n",
    "# cfqr.initialize_sim()\n",
    "# cfqr.set_sim_attributes()\n",
    "# init_state_saved = cfqr.init_state\n",
    "# clear_output()\n",
    "# print(\"finish\")"
   ]
  },
  {
   "cell_type": "code",
   "execution_count": null,
   "id": "17",
   "metadata": {},
   "outputs": [],
   "source": [
    "# plt.scatter(init_state_saved[:, 0, 0], init_state_saved[:, 1, 0])\n",
    "# # fig, ax = plt.subplots(1, 2, figsize = [10, 4])\n",
    "# # ax[1].scatter(init_state_saved[:, 0, 0], init_state_saved[:, 1, 0])"
   ]
  },
  {
   "cell_type": "markdown",
   "id": "18",
   "metadata": {},
   "source": [
    "# real simulation"
   ]
  },
  {
   "cell_type": "code",
   "execution_count": null,
   "id": "19",
   "metadata": {},
   "outputs": [],
   "source": [
    "# step 5: perform simulations\n",
    "\n",
    "simResult = cfq_batch_sweep.simulateSingleCoupledFluxQubit(params, initial_parameter_dict, protocol_list, \\\n",
    "                                        initial_state = init_state_saved, manual_domain = manual_domain, \\\n",
    "                                        phi_1_dcx = phi_1_dcx,  phi_2_dcx = phi_2_dcx, \\\n",
    "                                        percentage = 1, \\\n",
    "                                        as_step = np.s_[::100])\n",
    "\n",
    "cfqr = simResult[\"cfqr\"]\n",
    "\n",
    "print(f\"simulation_date = {simResult['simulation_data']['simulation_date']}\")\n",
    "print(f\"simulation time = {simResult['simulation_data']['simulation_time']}s\")"
   ]
  },
  {
   "cell_type": "markdown",
   "id": "20",
   "metadata": {},
   "source": [
    "# animations"
   ]
  },
  {
   "cell_type": "code",
   "execution_count": null,
   "id": "21",
   "metadata": {},
   "outputs": [],
   "source": [
    "# animations\n",
    "vmin, vmax = 0, 100\n",
    "frame_skip = 5\n",
    "# phi_1_dc, phi_2_dc = phi_1_dcx, phi_2_dcx\n",
    "all_state = simResult[\"cfqr\"].sim.output.all_state['states']\n",
    "simResult[\"cfqr\"].system.protocol_list = protocol_list\n",
    "time_range = (computation_protocol_parameter_dict[\"t\"][0], computation_protocol_parameter_dict[\"t\"][-1])\n",
    "\n",
    "ani,_,_ = animate_sim_flux_qubit(all_state, system = simResult[\"cfqr\"].system ,\n",
    "                                   times = time_range, frame_skip=frame_skip, color_by_state=True,\n",
    "                                   vmin = vmin, vmax = vmax,\n",
    "                                   manual_domain = manual_domain)\n",
    "\n"
   ]
  },
  {
   "cell_type": "code",
   "execution_count": null,
   "id": "22",
   "metadata": {},
   "outputs": [],
   "source": [
    "from IPython.display import HTML\n",
    "from IPython import display\n",
    "print(f\"simulation_date = {simResult['simulation_data']['simulation_date']}\")\n",
    "video = ani.to_html5_video()\n",
    "html = display.HTML(video)\n",
    "display.display(html)"
   ]
  },
  {
   "cell_type": "code",
   "execution_count": null,
   "id": "23",
   "metadata": {},
   "outputs": [],
   "source": []
  },
  {
   "cell_type": "markdown",
   "id": "24",
   "metadata": {},
   "source": [
    "# work analysis"
   ]
  },
  {
   "cell_type": "markdown",
   "id": "25",
   "metadata": {},
   "source": [
    "## work distributions"
   ]
  },
  {
   "cell_type": "code",
   "execution_count": null,
   "id": "26",
   "metadata": {},
   "outputs": [],
   "source": [
    "step_time_array = np.cumsum(np.array([x[\"duration\"] for x in protocol_list]))/params['dt']\n",
    "name_array = [x[\"name\"] for x in protocol_list]\n",
    "\n",
    "from scipy.stats import sem \n",
    "\n",
    "plt.hist(simResult[\"work_distribution\"], bins = 95)\n",
    "plt.show()\n",
    "jarzyn_term = np.mean(np.exp(-simResult[\"work_distribution\"]))\n",
    "\n",
    "avg_W = np.mean(simResult[\"work_distribution\"])\n",
    "error_W = sem(simResult[\"work_distribution\"])\n",
    "jarzyn_term_error = np.exp(-avg_W) * error_W\n",
    "\n",
    "print(f\"simulation_date = {simResult['simulation_data']['simulation_date']}\")\n",
    "print(f\"mean work = {avg_W:.3f} ± {error_W:.5f}\")\n",
    "print(f'jarzyn = {jarzyn_term:.3f} ± {jarzyn_term_error:.5f}')\n",
    "print([x[\"duration\"] for x in protocol_list])\n",
    "print(time_length_1, time_length_2, time_length_3, time_length_4, time_length_5, time_length_6)"
   ]
  },
  {
   "cell_type": "markdown",
   "id": "27",
   "metadata": {
    "tags": []
   },
   "source": [
    "## work statistics"
   ]
  },
  {
   "cell_type": "code",
   "execution_count": null,
   "id": "28",
   "metadata": {},
   "outputs": [],
   "source": [
    "step_array = np.arange(simResult[\"work_statistic\"][:,0].shape[0])\n",
    "skip_step = int(len(step_array) * 0.05)\n",
    "work_mean = simResult[\"work_statistic\"][:,0]\n",
    "work_std = simResult[\"work_statistic\"][:,1]\n",
    "\n",
    "coarse_step_array = step_array[::skip_step]\n",
    "coarse_step_array = np.append(coarse_step_array, step_array[-1])\n",
    "coarse_work_mean_array = work_mean[::skip_step]\n",
    "coarse_work_mean_array = np.append(coarse_work_mean_array, work_mean[-1])\n",
    "coarse_work_std_array = np.append(work_std[::skip_step], work_std[-1])\n",
    "\n",
    "plt.errorbar(coarse_step_array, coarse_work_mean_array, yerr = coarse_work_std_array * 3)\n",
    "\n",
    "for i, t in enumerate(step_time_array):\n",
    "    plt.axvline(x = t, color = 'b', label = 'axvline - full height')\n",
    "    # plt.text('2017-07-02 16:30:00',0.005,'BigNews1',rotation=90,va='top')\n",
    "    plt.annotate(f\"{i+1}\", \n",
    "            xy=(t, 4.5),  \n",
    "            # xytext=(quantile_75, 2.05*1e9),\n",
    "            color='red', \n",
    "            ha='center', \n",
    "            size=16)"
   ]
  },
  {
   "cell_type": "code",
   "execution_count": null,
   "id": "29",
   "metadata": {},
   "outputs": [],
   "source": [
    "work_mean"
   ]
  },
  {
   "cell_type": "code",
   "execution_count": null,
   "id": "30",
   "metadata": {},
   "outputs": [],
   "source": [
    "WD_at_step_array = np.array([work_mean[i-1] for i in step_time_array.astype(int)])"
   ]
  },
  {
   "cell_type": "code",
   "execution_count": null,
   "id": "31",
   "metadata": {},
   "outputs": [],
   "source": [
    "net_WD = WD_at_step_array[1:] - WD_at_step_array[0:-1]"
   ]
  },
  {
   "cell_type": "code",
   "execution_count": null,
   "id": "32",
   "metadata": {},
   "outputs": [],
   "source": [
    "net_WD"
   ]
  },
  {
   "cell_type": "code",
   "execution_count": null,
   "id": "33",
   "metadata": {},
   "outputs": [],
   "source": [
    "step_time_array.astype(int)"
   ]
  },
  {
   "cell_type": "code",
   "execution_count": null,
   "id": "34",
   "metadata": {},
   "outputs": [],
   "source": [
    "t_array = np.cumsum([p[\"duration\"] for p in protocol_list])"
   ]
  },
  {
   "cell_type": "code",
   "execution_count": null,
   "id": "35",
   "metadata": {},
   "outputs": [],
   "source": []
  },
  {
   "cell_type": "markdown",
   "id": "36",
   "metadata": {
    "tags": []
   },
   "source": [
    "# crook analysis"
   ]
  },
  {
   "cell_type": "markdown",
   "id": "37",
   "metadata": {},
   "source": [
    "## type 1"
   ]
  },
  {
   "cell_type": "code",
   "execution_count": null,
   "id": "38",
   "metadata": {},
   "outputs": [],
   "source": []
  },
  {
   "cell_type": "code",
   "execution_count": null,
   "id": "39",
   "metadata": {},
   "outputs": [],
   "source": [
    "counts, bin_edges = np.histogram(simResult[\"work_distribution\"], bins = np.linspace(-2, 2, 50),density=True)\n",
    "counts, bin_edges = np.histogram(simResult[\"work_distribution\"], bins = np.linspace(-0.2, 0.2, 20),density=True)"
   ]
  },
  {
   "cell_type": "code",
   "execution_count": null,
   "id": "40",
   "metadata": {},
   "outputs": [],
   "source": [
    "log_P_ratio = np.log(counts / counts[::-1])"
   ]
  },
  {
   "cell_type": "code",
   "execution_count": null,
   "id": "41",
   "metadata": {},
   "outputs": [],
   "source": [
    "plt.figure(figsize=(5, 5))\n",
    "plt.plot(bin_edges[1:], bin_edges[1:], \"--\")\n",
    "plt.scatter(bin_edges[:-1], log_P_ratio)\n",
    "plt.xlabel(\"W\")\n",
    "plt.ylabel(\"log ratio\")"
   ]
  },
  {
   "cell_type": "markdown",
   "id": "42",
   "metadata": {
    "tags": []
   },
   "source": [
    "## type 2"
   ]
  },
  {
   "cell_type": "code",
   "execution_count": null,
   "id": "43",
   "metadata": {},
   "outputs": [],
   "source": [
    "# crook analysis\n",
    "# np.linspace(0.005, 0.2, 100)\n",
    "test_w = np.linspace(-1.0, 1.0, 100)\n",
    "dw = 0.001\n",
    "crook_analysis_result = []\n",
    "\n",
    "for _w in test_w:\n",
    "    array = simResult[\"work_distribution\"]\n",
    "\n",
    "    # The 0 index is to remove the single element array\n",
    "    number_of_plus_W = len(np.where(np.logical_and(array <= _w + dw, array >= _w - dw))[0])\n",
    "    number_of_minus_W = len(np.where(np.logical_and(array <= -_w + dw, array >= -_w - dw))[0])\n",
    "    crook_analysis_result.append(np.array([_w, number_of_plus_W, number_of_minus_W * np.exp(_w)]))\n",
    "\n",
    "crook_analysis_result = np.array(crook_analysis_result)    \n",
    "print(f\"dw = {dw}, dt = {params['dt']}, N = {params['N']}\")\n",
    "print(\"LHS: number of +W, RHS = number of -W * np.exp(+W)]\")\n",
    "all_w = crook_analysis_result[:, 0]\n",
    "all_lhs = crook_analysis_result[:, 1]\n",
    "all_rhs = crook_analysis_result[:, 2]\n",
    "plt.xlabel(\"W\")\n",
    "plt.plot(all_w, all_lhs, \"x\", label = \"LHS\")\n",
    "plt.plot(all_w, all_rhs, \"x\", label = \"RHS\")\n",
    "plt.legend()\n",
    "plt.show()\n",
    "# print(\"p(W) = p(-W) exp(W)\")\n",
    "# print(f\"LHS = {number_of_plus_W}, RHS = {number_of_minus_W * np.exp(test_w)}\")\n",
    "print(f\"mean work = {avg_W:.3f} and the std error of W = {error_W:.5f}\")\n",
    "print(f'jarzyn = {jarzyn_term:.3f}, std error= {jarzyn_term_error:.5f}')\n",
    "print([x[\"duration\"] for x in protocol_list])\n",
    "print(time_length_1, time_length_2, time_length_3, time_length_4, time_length_5, time_length_6)"
   ]
  },
  {
   "cell_type": "code",
   "execution_count": null,
   "id": "44",
   "metadata": {},
   "outputs": [],
   "source": [
    "result = {\"N\": params['N'], \"dt\": params['dt'], \"W_mean\": avg_W, \"W_std\": error_W, \n",
    "          \"jarzyn\": jarzyn_term, \"jarzyn_error\": jarzyn_term_error}"
   ]
  },
  {
   "cell_type": "code",
   "execution_count": null,
   "id": "45",
   "metadata": {},
   "outputs": [],
   "source": [
    "jarzyn_err_analytic = [ np.exp(-s[\"W_mean\"]) * s[\"W_std\"] for s in data]"
   ]
  },
  {
   "cell_type": "code",
   "execution_count": null,
   "id": "46",
   "metadata": {},
   "outputs": [],
   "source": [
    "plt.hist(jarzyn_err_analytic)"
   ]
  },
  {
   "cell_type": "code",
   "execution_count": null,
   "id": "47",
   "metadata": {},
   "outputs": [],
   "source": []
  },
  {
   "cell_type": "code",
   "execution_count": null,
   "id": "48",
   "metadata": {},
   "outputs": [],
   "source": []
  },
  {
   "cell_type": "code",
   "execution_count": null,
   "id": "49",
   "metadata": {},
   "outputs": [],
   "source": [
    "\n",
    "\n",
    "# step_array = np.arange(simResult[\"work_statistic\"][:,0].shape[0])\n",
    "# skip_step = int(len(step_array) * 0.02)\n",
    "# work_mean = simResult[\"work_statistic\"][:,0]\n",
    "# work_std = simResult[\"work_statistic\"][:,1]\n",
    "\n",
    "# coarse_step_array = step_array[::skip_step]\n",
    "# coarse_step_array = np.append(coarse_step_array, step_array[-1])\n",
    "# coarse_work_mean_array = work_mean[::skip_step]\n",
    "# coarse_work_mean_array = np.append(coarse_work_mean_array, work_mean[-1])\n",
    "# coarse_work_std_array = np.append(work_std[::skip_step], work_std[-1])\n",
    "\n",
    "# plt.errorbar(coarse_step_array, coarse_work_mean_array, yerr = coarse_work_std_array)\n",
    "\n",
    "# for i, t in enumerate(step_time_array):\n",
    "#     plt.axvline(x = t, color = 'b', label = 'axvline - full height')\n",
    "#     # plt.text('2017-07-02 16:30:00',0.005,'BigNews1',rotation=90,va='top')\n",
    "#     plt.annotate(f\"{i+1}\", \n",
    "#             xy=(t, 4.5),  \n",
    "#             # xytext=(quantile_75, 2.05*1e9),\n",
    "#             color='red', \n",
    "#             ha='center', \n",
    "#             size=16)\n",
    "\n",
    "# print(f'jarzyn = {jarzyn_term}')\n",
    "# print([x[\"duration\"] for x in protocol_list])\n",
    "\n",
    "# first_half = work_mean[0: len(work_mean)//2]\n",
    "# second_half = work_mean[len(work_mean)//2:][::-1]\n",
    "# plt.plot(step_array[0:len(step_array)//2], np.abs(first_half - second_half))"
   ]
  },
  {
   "cell_type": "code",
   "execution_count": null,
   "id": "50",
   "metadata": {},
   "outputs": [],
   "source": [
    "# print(initial_parameter_dict[\"phi_1_dcx\"], initial_parameter_dict[\"phi_2_dcx\"], initial_parameter_dict[\"M_12\"])\n",
    "# print(protocol_list)"
   ]
  },
  {
   "cell_type": "code",
   "execution_count": null,
   "id": "51",
   "metadata": {},
   "outputs": [],
   "source": []
  },
  {
   "cell_type": "code",
   "execution_count": null,
   "id": "52",
   "metadata": {},
   "outputs": [],
   "source": [
    "# animations\n",
    "vmin, vmax = 0, 100\n",
    "frame_skip = 10\n",
    "# phi_1_dc, phi_2_dc = phi_1_dcx, phi_2_dcx\n",
    "all_state = simResult[\"cfqr\"].sim.output.all_state['states']\n",
    "simResult[\"cfqr\"].system.protocol_list = protocol_list\n",
    "time_range = (computation_protocol_parameter_dict[\"t\"][0], computation_protocol_parameter_dict[\"t\"][-1])\n",
    "\n",
    "ani,_,_ = animate_sim_flux_qubit(all_state, system = simResult[\"cfqr\"].system ,\n",
    "                                   times = time_range, frame_skip=frame_skip, color_by_state=True,\n",
    "                                   vmin = vmin, vmax = vmax,\n",
    "                                   manual_domain = manual_domain)"
   ]
  },
  {
   "cell_type": "code",
   "execution_count": null,
   "id": "53",
   "metadata": {},
   "outputs": [],
   "source": [
    "# from IPython.display import HTML\n",
    "from IPython import display\n",
    "video = ani.to_html5_video()\n",
    "html = display.HTML(video)\n",
    "display.display(html)"
   ]
  },
  {
   "cell_type": "code",
   "execution_count": null,
   "id": "54",
   "metadata": {},
   "outputs": [],
   "source": []
  },
  {
   "cell_type": "code",
   "execution_count": null,
   "id": "55",
   "metadata": {},
   "outputs": [],
   "source": [
    "# import time\n",
    "# now = str(time.time())\n",
    "# sim_id = hashlib.sha256(bytes(now, encoding='utf8')).hexdigest()\n",
    "\n",
    "\n",
    "\n",
    "\n",
    "# # save image and distributions\n",
    "# np.save(f'cfq_data/tr_analysis/{sim_id}_work_distribution.npy', simResult[\"work_distribution\"])\n",
    "# plt.hist(simResult[\"work_distribution\"], bins = 45)\n",
    "# plt.savefig(f'cfq_data/tr_analysis/{sim_id}_work_distribution.png')\n",
    "# plt.close()\n",
    "\n",
    "# np.save(f'cfq_data/tr_analysis/{sim_id}_work_statistic.npy', simResult[\"work_statistic\"])\n",
    "# plt.errorbar(coarse_step_array, coarse_work_mean_array, yerr = coarse_work_std_array)\n",
    "# plt.plot(step_array[0:len(step_array)//2], np.abs(first_half - second_half))\n",
    "# plt.savefig(f'cfq_data/tr_analysis/{sim_id}_work_statistic.png')\n",
    "# plt.close()\n",
    "\n",
    "# np.save(f\"cfq_data/tr_analysis/{sim_id}_state.npy\", cfqr.sim.output.all_state[\"states\"])"
   ]
  },
  {
   "cell_type": "code",
   "execution_count": null,
   "id": "56",
   "metadata": {},
   "outputs": [],
   "source": []
  },
  {
   "cell_type": "code",
   "execution_count": null,
   "id": "57",
   "metadata": {},
   "outputs": [],
   "source": [
    "# get_potential_shot_at_different_t_1D(cfqr, computation_protocol_parameter_dict, manual_domain = manual_domain)"
   ]
  },
  {
   "cell_type": "code",
   "execution_count": null,
   "id": "58",
   "metadata": {},
   "outputs": [],
   "source": [
    "import json\n",
    "import numpy as np\n",
    "import matplotlib.pyplot as plt\n",
    "\n",
    "Z_score = 2\n",
    "N = 302\n",
    "with open(\"cfq_data/variance_analysis_for_TRS_3.json\") as f:\n",
    "    data = json.load(f)\n",
    "    W_mean_samples = np.array([d[\"W_mean\"] for d in data])\n",
    "    W_mean_err_samples = np.array([d[\"W_std\"] for d in data])\n",
    "    jarzyn_samples = np.array([d[\"jarzyn\"] for d in data])\n",
    "    jarzyn_err_samples = np.array([d[\"jarzyn_error\"] for d in data])\n",
    "    \n",
    "    jarzyn_err_expt = np.std(jarzyn_samples)\n",
    "    jarzyn_err_analytic = np.mean([ np.exp(-s[\"W_mean\"]) * s[\"W_std\"] for s in data])\n",
    "    print(\"expt error: \", jarzyn_err_expt)\n",
    "    print(\"analytic error: \", jarzyn_err_analytic)\n",
    "\n",
    "\n",
    "#     data.append(result)\n",
    "#     with open(\"cfq_data/variance_analysis_for_TRS_3.json\", \"w\") as f_w:\n",
    "#         json.dump(data, f_w)"
   ]
  },
  {
   "cell_type": "code",
   "execution_count": null,
   "id": "59",
   "metadata": {},
   "outputs": [],
   "source": [
    "import json\n",
    "import numpy as np\n",
    "import matplotlib.pyplot as plt\n",
    "\n",
    "Z_score = 2\n",
    "N = 302\n",
    "with open(\"cfq_data/variance_analysis_for_TRS_whole_forward.json\") as f:\n",
    "    data = json.load(f)\n",
    "    print(data)\n",
    "#     W_mean_samples = np.array([d[\"W_mean\"] for d in data])\n",
    "#     W_mean_err_samples = np.array([d[\"W_std\"] for d in data])\n",
    "#     jarzyn_samples = np.array([d[\"jarzyn\"] for d in data])\n",
    "#     jarzyn_err_samples = np.array([d[\"jarzyn_error\"] for d in data])\n",
    "    \n",
    "#     jarzyn_err_expt = np.std(jarzyn_samples)\n",
    "#     jarzyn_err_analytic = np.mean([ np.exp(-s[\"W_mean\"]) * s[\"W_std\"] for s in data])\n",
    "#     print(\"expt error: \", jarzyn_err_expt)\n",
    "#     print(\"analytic error: \", jarzyn_err_analytic)\n",
    "\n",
    "\n",
    "#     data.append(result)\n",
    "#     with open(\"cfq_data/variance_analysis_for_TRS_3.json\", \"w\") as f_w:\n",
    "#         json.dump(data, f_w)"
   ]
  },
  {
   "cell_type": "code",
   "execution_count": null,
   "id": "60",
   "metadata": {},
   "outputs": [],
   "source": [
    "f = data[0][\"fidelity\"]"
   ]
  },
  {
   "cell_type": "code",
   "execution_count": null,
   "id": "61",
   "metadata": {},
   "outputs": [],
   "source": []
  },
  {
   "cell_type": "code",
   "execution_count": null,
   "id": "62",
   "metadata": {},
   "outputs": [],
   "source": [
    "summaryText = \"\"\n",
    "for x in f:\n",
    "    initialLocation = x[\"initial\"][\"location\"]\n",
    "    initialCount = x[\"initial\"][\"count\"]\n",
    "    summaryText = f\"initial: {initialLocation} ({initialCount}), final: \"\n",
    "    rightLocationCount = sum([y[\"count\"] for y in x[\"final\"]])\n",
    "    goodRatio = rightLocationCount/initialCount * 100\n",
    "    for y in x[\"final\"]:\n",
    "        summaryText += f\"{y['location']} ({y['count']}/{rightLocationCount},{y['count']/rightLocationCount * 100: .3g}%),\"\n",
    "    summaryText += f\" goodRatio:{goodRatio: .3g}%\"\n",
    "    # print(summaryText)\n"
   ]
  },
  {
   "cell_type": "code",
   "execution_count": null,
   "id": "63",
   "metadata": {},
   "outputs": [],
   "source": [
    "summaryText"
   ]
  },
  {
   "cell_type": "code",
   "execution_count": null,
   "id": "64",
   "metadata": {},
   "outputs": [],
   "source": []
  }
 ],
 "metadata": {
  "kernelspec": {
   "display_name": "Python 3 (ipykernel)",
   "language": "python",
   "name": "python3"
  },
  "language_info": {
   "codemirror_mode": {
    "name": "ipython",
    "version": 3
   },
   "file_extension": ".py",
   "mimetype": "text/x-python",
   "name": "python",
   "nbconvert_exporter": "python",
   "pygments_lexer": "ipython3",
   "version": "3.10.9"
  }
 },
 "nbformat": 4,
 "nbformat_minor": 5
}
