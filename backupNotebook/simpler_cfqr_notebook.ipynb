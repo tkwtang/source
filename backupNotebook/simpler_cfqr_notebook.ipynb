{
 "cells": [
  {
   "cell_type": "code",
   "execution_count": null,
   "id": "0",
   "metadata": {},
   "outputs": [],
   "source": [
    "import sys, os\n",
    "sys.path.append(os.path.expanduser('~/source'))\n",
    "#\n",
    "import numpy as np\n",
    "import importlib, os, hashlib, json, copy, time\n",
    "from quick_sim import setup_sim\n",
    "from sus.protocol_designer import System, Protocol, Potential, Compound_Protocol\n",
    "from sus.protocol_designer.protocol import sequential_protocol\n",
    "from sus.library.potentials import coupled_flux_qubit_pot, coupled_flux_qubit_force\n",
    "import kyle_tools as kt\n",
    "import matplotlib.pyplot as plt\n",
    "# from PARAMETER_INPUT import *\n",
    "# from PARAMETER_INPUT import _lambda, _theta, _eta\n",
    "import edward_tools.visualization as visualization\n",
    "import matplotlib.animation as animation"
   ]
  },
  {
   "cell_type": "code",
   "execution_count": null,
   "id": "1",
   "metadata": {},
   "outputs": [],
   "source": [
    "PHI_0 = 2.067833848 * 1e-15\n",
    "k_B = 1.38e-23\n",
    "T = 0.5\n",
    "k_BT = k_B * T"
   ]
  },
  {
   "cell_type": "code",
   "execution_count": null,
   "id": "2",
   "metadata": {},
   "outputs": [],
   "source": [
    "I_p_1, I_p_2 = 2e-6 , 2e-6  # Amp\n",
    "I_m_1, I_m_2 = 7e-9, 1e-9                                # Amp\n",
    "R_1, R_2 = 371, 371                                # ohm\n",
    "C_1, C_2 = 4e-9, 4e-9                              # F\n",
    "L_1, L_2 = 1e-9, 1e-9                              # H\n",
    "\n",
    "quick_doubler = lambda x1, x2: np.hstack([np.array([x1] * 2), np.array([x2]*2)])\n",
    "I_p, I_m = quick_doubler(I_p_1, I_p_2), quick_doubler(I_m_1, I_m_2)\n",
    "\n",
    "m_c = C_1\n",
    "m_1 = C_1\n",
    "m_2 = C_2\n",
    "x_c = PHI_0 / (2 * np.pi)\n",
    "time_scale_factor = 1\n",
    "t_c = np.sqrt(L_1 * C_1)\n",
    "\n",
    "\n",
    "U0_1 = m_c * x_c**2 / t_c\n",
    "U0_2 = m_2 * x_c**2 / t_c\n",
    "kappa_1, kappa_2, kappa_3, kappa_4 = k_BT/U0_1, k_BT/U0_1, k_BT/U0_1, k_BT/U0_1\n",
    "\n",
    "\n",
    "lambda_1 = 2 * np.sqrt(L_1 * C_1) / (C_1 * R_1)\n",
    "theta_1  = 1\n",
    "eta_1    = (L_1 * C_1 / R_1**2)**0.25 * np.sqrt(2 * kappa_1)\n",
    "\n",
    "lambda_2 = 2 * np.sqrt(L_1 * C_1) / (C_2 * R_2)\n",
    "theta_2  = 1 / (C_2/C_1)\n",
    "eta_2    = (L_1 * C_1 / R_1**2)**0.25 * np.sqrt(2 * kappa_2 * (R_1 * C_1) / (R_2 * C_2))\n",
    "\n",
    "lambda_3 = 2 * np.sqrt(L_1 * C_1) / (C_1 * R_1)\n",
    "theta_3  = 4\n",
    "eta_3    = (L_1 * C_1 / R_1**2)**0.25 * np.sqrt(2 * kappa_3)\n",
    "\n",
    "lambda_4 = 2 * np.sqrt(L_1 * C_1) / (C_2 * R_2)\n",
    "theta_4  = 4 / (C_2/C_1)\n",
    "eta_4    = (L_1 * C_1 / R_1**2)**0.25 * np.sqrt(2 * kappa_4 * (R_1 * C_1) / (R_2 * C_2))\n",
    "\n",
    "gamma = 20\n",
    "\n",
    "\n",
    "beta_1 = 2 * np.pi * L_1 * I_p_1 / PHI_0; \n",
    "beta_2 = 2 * np.pi * L_2 * I_p_2 / PHI_0;\n",
    "\n",
    "d_beta_1 = 2 * np.pi * L_1 * I_m_1 / PHI_0; \n",
    "d_beta_2 = 2 * np.pi * L_2 * I_m_2 / PHI_0;"
   ]
  },
  {
   "cell_type": "code",
   "execution_count": null,
   "id": "3",
   "metadata": {},
   "outputs": [],
   "source": [
    "_lambda = np.array([lambda_1, lambda_2, lambda_3, lambda_4])\n",
    "_theta  = np.array([theta_1, theta_2, theta_3, theta_4])\n",
    "_eta  =   np.array([eta_1, eta_2, eta_3, eta_4])"
   ]
  },
  {
   "cell_type": "code",
   "execution_count": null,
   "id": "4",
   "metadata": {},
   "outputs": [],
   "source": [
    "phi_1x_off, phi_2x_off = 0, 0\n",
    "phi_1dcx_off, phi_2dcx_off, M_12_off = 0, 0, 0\n",
    "phi_1dcx_on, phi_2dcx_on, M_12_on = 3.0, 3.0, -0.7\n",
    "\n",
    "potential_params = {\n",
    "        \"U0_1\": U0_1, \"U0_2\": U0_2, \"g_1\": gamma, \"g_2\": gamma, \n",
    "        \"beta_1\": beta_1, \"beta_2\": beta_2, \"delta_beta_1\": d_beta_1, \"delta_beta_2\": d_beta_2,\n",
    "        \"phi_1x\": phi_1x_off, \"phi_2x\": phi_2x_off, \"phi_1dcx\": phi_1dcx_off, \"phi_2dcx\": phi_2dcx_off,\n",
    "        \"M_12\": M_12_off, \"x_c\": x_c\n",
    "    }\n",
    "\n",
    "potential_params = [U0_1, U0_2, gamma, gamma, beta_1, beta_2, d_beta_1, d_beta_2, phi_1x_off, phi_2x_off,\n",
    "                    phi_1dcx_off, phi_2dcx_off, M_12_off, x_c]"
   ]
  },
  {
   "cell_type": "code",
   "execution_count": null,
   "id": "5",
   "metadata": {},
   "outputs": [],
   "source": [
    "# the potential to input into the system\n",
    "cfq_pot = Potential(coupled_flux_qubit_pot, coupled_flux_qubit_force, 14, 4, default_params = potential_params, \n",
    "         relevant_domain = [[-5, -5, -5, -5], [5, 5, 5, 5]])"
   ]
  },
  {
   "cell_type": "code",
   "execution_count": null,
   "id": "6",
   "metadata": {},
   "outputs": [],
   "source": [
    "protocol_init_params = [U0_1, U0_2, gamma, gamma, beta_1, beta_2, d_beta_1, d_beta_2, phi_1x_off, phi_2x_off,\n",
    "                    phi_1dcx_off, phi_2dcx_off, M_12_off, x_c]\n",
    "\n",
    "# mix in y\n",
    "protocol_step_1_parmas = [U0_1, U0_2, gamma, gamma, beta_1, beta_2, d_beta_1, d_beta_2, phi_1x_off, phi_2x_off,\n",
    "                    phi_1dcx_off, phi_2dcx_on, M_12_off, x_c] \n",
    "\n",
    "# conditional tilt\n",
    "protocol_step_2_parmas = [U0_1, U0_2, gamma, gamma, beta_1, beta_2, d_beta_1, d_beta_2, phi_1x_off, phi_2x_off,\n",
    "                    phi_1dcx_off, phi_2dcx_on, M_12_on, x_c]\n",
    "\n",
    "# raise the barrier\n",
    "protocol_step_3_parmas = [U0_1, U0_2, gamma, gamma, beta_1, beta_2, d_beta_1, d_beta_2, phi_1x_off, phi_2x_off,\n",
    "                    phi_1dcx_off, phi_2dcx_off, M_12_on, x_c]\n",
    "\n",
    "# return to 4 Well potential\n",
    "protocol_step_4_parmas = [U0_1, U0_2, gamma, gamma, beta_1, beta_2, d_beta_1, d_beta_2, phi_1x_off, phi_2x_off,\n",
    "                    phi_1dcx_off, phi_2dcx_off, M_12_off, x_c]\n",
    "\n",
    "\n",
    "eq_protocol = Protocol((0, 1), np.array([protocol_init_params, protocol_init_params]).T, interpolation=\"linear\")\n",
    "\n",
    "\n",
    "\n",
    "t_1 = 50; t_2 = 100; t_3 = 100; t_4 = 50;\n",
    "t_2 = t_2 + t_1\n",
    "t_3 = t_3 + t_2\n",
    "t_4 = t_3 + t_4\n",
    "\n",
    "comp_protocol_1 = Protocol((0, t_1), np.array([protocol_init_params, protocol_step_1_parmas]).T, \n",
    "                           interpolation=\"linear\")\n",
    "comp_protocol_2 = Protocol((t_1, t_2), np.array([protocol_step_1_parmas, protocol_step_2_parmas]).T, \n",
    "                           interpolation=\"linear\")\n",
    "comp_protocol_3 = Protocol((t_2, t_3), np.array([protocol_step_2_parmas, protocol_step_3_parmas]).T, \n",
    "                           interpolation=\"linear\")\n",
    "comp_protocol_4 = Protocol((t_3, t_4), np.array([protocol_step_3_parmas, protocol_step_4_parmas]).T, \n",
    "                           interpolation=\"linear\")\n",
    "\n",
    "comp_protocol = Compound_Protocol([comp_protocol_1, comp_protocol_2, comp_protocol_3, comp_protocol_4])"
   ]
  },
  {
   "cell_type": "code",
   "execution_count": null,
   "id": "7",
   "metadata": {},
   "outputs": [],
   "source": [
    "import cfqRunner \n",
    "import importlib\n",
    "cfqRunner = importlib.reload(cfqRunner)"
   ]
  },
  {
   "cell_type": "code",
   "execution_count": null,
   "id": "8",
   "metadata": {},
   "outputs": [],
   "source": [
    "sim_params = {\n",
    "        \"U0_1\": U0_1, \"U0_2\": U0_2, \"g_1\": gamma, \"g_2\": gamma, \n",
    "        \"beta_1\": beta_1, \"beta_2\": beta_2, \"delta_beta_1\": d_beta_1, \"delta_beta_2\": d_beta_2,\n",
    "        \"phi_1x\": phi_1x_off, \"phi_2x\": phi_2x_off, \"phi_1dcx\": phi_1dcx_off, \"phi_2dcx\": phi_2dcx_off,\n",
    "        \"M_12\": M_12_off, \"x_c\": x_c,\n",
    "    \n",
    "        'beta': 1, 'scale': 1, 'dt': 1/1_000, 'lambda': 1, 'N': 10_000, 'target_work': None,\n",
    "        'sim_params': [_lambda, _theta, _eta]\n",
    "    \n",
    "    }"
   ]
  },
  {
   "cell_type": "code",
   "execution_count": null,
   "id": "9",
   "metadata": {},
   "outputs": [],
   "source": [
    "print(sim_params)"
   ]
  },
  {
   "cell_type": "code",
   "execution_count": null,
   "id": "10",
   "metadata": {},
   "outputs": [],
   "source": [
    "cfq_runner = cfqRunner.CFQRunner(potential=cfq_pot, params=sim_params, eq_protocol = eq_protocol, \n",
    "                                comp_protocol = comp_protocol)"
   ]
  },
  {
   "cell_type": "code",
   "execution_count": null,
   "id": "11",
   "metadata": {},
   "outputs": [],
   "source": []
  },
  {
   "cell_type": "code",
   "execution_count": null,
   "id": "12",
   "metadata": {},
   "outputs": [],
   "source": [
    "cfq_runner.initialize_sim()"
   ]
  },
  {
   "cell_type": "code",
   "execution_count": null,
   "id": "13",
   "metadata": {},
   "outputs": [],
   "source": [
    "cfq_runner.set_sim_attributes()"
   ]
  },
  {
   "cell_type": "code",
   "execution_count": null,
   "id": "14",
   "metadata": {},
   "outputs": [],
   "source": []
  },
  {
   "cell_type": "code",
   "execution_count": null,
   "id": "15",
   "metadata": {},
   "outputs": [],
   "source": []
  },
  {
   "cell_type": "code",
   "execution_count": null,
   "id": "16",
   "metadata": {},
   "outputs": [],
   "source": [
    "plt.scatter(cfq_runner.init_state[:, 0, 0], cfq_runner.init_state[:, 1, 0])"
   ]
  },
  {
   "cell_type": "code",
   "execution_count": null,
   "id": "17",
   "metadata": {},
   "outputs": [],
   "source": []
  },
  {
   "cell_type": "code",
   "execution_count": null,
   "id": "18",
   "metadata": {},
   "outputs": [],
   "source": [
    "t_array = np.linspace(0, 400, 1000)\n",
    "phi_1_dc_array = [cfq_runner.protocol.get_params(t)[10] for t in t_array]\n",
    "phi_2_dc_array = [cfq_runner.protocol.get_params(t)[11] for t in t_array]\n",
    "M_12_array = [cfq_runner.protocol.get_params(t)[12] for t in t_array]\n",
    "# protocol_params_at_t = cfq_runner.protocol.get_params(t)\n",
    "plt.plot(t_array, phi_1_dc_array)\n",
    "plt.plot(t_array, phi_2_dc_array)\n",
    "plt.plot(t_array, M_12_array)"
   ]
  },
  {
   "cell_type": "code",
   "execution_count": null,
   "id": "19",
   "metadata": {},
   "outputs": [],
   "source": [
    "cfq_runner.run_sim()"
   ]
  },
  {
   "cell_type": "code",
   "execution_count": null,
   "id": "20",
   "metadata": {},
   "outputs": [],
   "source": [
    "cfq_runner.sim.work_dist_array"
   ]
  },
  {
   "cell_type": "code",
   "execution_count": null,
   "id": "21",
   "metadata": {},
   "outputs": [],
   "source": [
    "work_distribution = cfq_runner.sim.work_dist_array\n",
    "plt.hist(cfq_runner.sim.work_dist_array, bins = 50)"
   ]
  },
  {
   "cell_type": "code",
   "execution_count": null,
   "id": "22",
   "metadata": {},
   "outputs": [],
   "source": [
    "mean_work = np.mean(work_distribution)\n",
    "jarzy_term = np.mean(np.exp(-work_distribution))\n",
    "print(f\"mean work is {mean_work}, jarzyn term is {jarzy_term}\")"
   ]
  },
  {
   "cell_type": "markdown",
   "id": "23",
   "metadata": {},
   "source": [
    "1/100, mean work is 0.8883943705312658, jarzyn term is 0.6002266100965795\n"
   ]
  },
  {
   "cell_type": "markdown",
   "id": "24",
   "metadata": {},
   "source": [
    "# animations"
   ]
  },
  {
   "cell_type": "code",
   "execution_count": null,
   "id": "25",
   "metadata": {},
   "outputs": [],
   "source": [
    "all_state = cfq_runner.sim.output.all_state['states']"
   ]
  },
  {
   "cell_type": "code",
   "execution_count": null,
   "id": "26",
   "metadata": {},
   "outputs": [],
   "source": [
    "from IPython.display import HTML\n",
    "from IPython import display\n",
    "ani,_,_ = kt.animate_sim(all_state[:,:,(0, 1),0],\n",
    "                         frame_skip=500, color_by_state=True)\n",
    "\n",
    "video = ani.to_html5_video()\n",
    "html = display.HTML(video)\n",
    "display.display(html)"
   ]
  },
  {
   "cell_type": "code",
   "execution_count": null,
   "id": "27",
   "metadata": {},
   "outputs": [],
   "source": []
  }
 ],
 "metadata": {
  "kernelspec": {
   "display_name": "Python 3 (ipykernel)",
   "language": "python",
   "name": "python3"
  },
  "language_info": {
   "codemirror_mode": {
    "name": "ipython",
    "version": 3
   },
   "file_extension": ".py",
   "mimetype": "text/x-python",
   "name": "python",
   "nbconvert_exporter": "python",
   "pygments_lexer": "ipython3",
   "version": "3.10.9"
  }
 },
 "nbformat": 4,
 "nbformat_minor": 5
}
