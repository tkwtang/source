{
 "cells": [
  {
   "cell_type": "code",
   "execution_count": null,
   "id": "0",
   "metadata": {},
   "outputs": [],
   "source": [
    "import numpy as np\n",
    "import importlib, os, datetime\n",
    "from sus.protocol_designer import System, Protocol, Potential, Compound_Protocol\n",
    "from sus.protocol_designer.protocol import sequential_protocol\n",
    "from IPython import display\n",
    "from IPython.display import HTML, Image\n",
    "import matplotlib.animation as animation\n",
    "from matplotlib.animation import FuncAnimation, PillowWriter\n",
    "\n",
    "\n",
    "from quick_sim import setup_sim\n",
    "\n",
    "\n",
    "# import edward_tools.fq_runner as fq_runner\n",
    "from edward_tools.simple_1D_potential import simple_1D_potential, simple_1D_force\n",
    "from edward_tools.visualization import animate_sim_flux_qubit, plotFidelityBarChart, separate_by_state_2\n",
    "from edward_tools.initial_state_sampling import extra_constraint_00_and_11_only\n",
    "from NAND_PARAMETERS import *\n",
    "import importlib\n",
    "\n",
    "import kyle_tools as kt\n",
    "import matplotlib.pyplot as plt\n",
    "\n",
    "\n",
    "from edward_tools import coupled_fq_protocol_library, cfq_runner\n",
    "from edward_tools import coupled_fq_protocol_library\n",
    "\n",
    "import edward_tools.cfq_batch_sweep as cfq_batch_sweep\n",
    "import edward_tools.Analysis_tool.general_analysis_tools as general_analysis_tool\n",
    "# from edward_tools.Analysis_tool.general_analysis_tools import show_phi_dc_with_time\n",
    "import edward_tools.Analysis_tool.minimum_value_of_potential as minimum_value_of_potential\n",
    "from edward_tools.couple_flux_qubit_metrics import fidelityEvaluation\n",
    "from edward_tools import visualization\n",
    "\n",
    "coupled_fq_protocol_library = importlib.reload(coupled_fq_protocol_library)\n",
    "create_system = coupled_fq_protocol_library.create_system\n",
    "get_potential_shot_at_different_t = coupled_fq_protocol_library.get_potential_shot_at_different_t\n",
    "get_potential_shot_at_different_t_1D = coupled_fq_protocol_library.get_potential_shot_at_different_t_1D\n",
    "create_simple_protocol_parameter_dict = coupled_fq_protocol_library.create_simple_protocol_parameter_dict\n",
    "coupled_fq_runner = importlib.reload(cfq_runner)\n",
    "coupled_fq_protocol_library = importlib.reload(coupled_fq_protocol_library)\n",
    "create_system = coupled_fq_protocol_library.create_system\n",
    "get_potential_along_a_1D_cutline = coupled_fq_protocol_library.get_potential_along_a_1D_cutline\n",
    "plotCutlines = coupled_fq_protocol_library.plotCutlines"
   ]
  },
  {
   "cell_type": "markdown",
   "id": "1",
   "metadata": {},
   "source": [
    "# circuit parameters"
   ]
  },
  {
   "cell_type": "code",
   "execution_count": null,
   "id": "2",
   "metadata": {},
   "outputs": [],
   "source": [
    "has_velocity = True\n",
    "\n",
    "PHI_0 = 2.067833848 * 1e-15\n",
    "k_B = 1.38e-23\n",
    "T = 4.2\n",
    "# T = 7\n",
    "k_BT = k_B * T\n",
    "\n",
    "C_factor = 1\n",
    "L_factor = 5\n",
    "R_factor = 5000\n",
    "# I_m_factor = 50\n",
    "# I_m_factor = 15\n",
    "I_m_factor = 0\n",
    "time_scale = 1.0\n",
    "\n",
    "\n",
    "I_p_1, I_p_2 = 5e-6 , 5e-6  # Amp\n",
    "I_m_1, I_m_2 = 7e-9 * I_m_factor, 7e-9 * I_m_factor                           # Amp\n",
    "R_1, R_2 = 1 * R_factor, 1 * R_factor                                         # ohm\n",
    "C_1, C_2 = 500e-15 * C_factor, 500e-15 * C_factor                             # F\n",
    "\n",
    "L_1, L_2 = 140e-12 * L_factor, 140e-12 * L_factor                             # H \n",
    "L_1, L_2 = 5e-12 * L_factor, 5e-12 * L_factor                             # H \n",
    "freq = 1/np.sqrt(C_1 * L_1)\n",
    "characteristic_time = np.sqrt(C_1 * C_factor * L_1 * L_factor)\n",
    "print(f\"freq = {freq / 1e9:.3f}GHz, characteristic_time  = {characteristic_time * 1e12:.3f}ps\")\n"
   ]
  },
  {
   "cell_type": "code",
   "execution_count": null,
   "id": "3",
   "metadata": {
    "tags": []
   },
   "outputs": [],
   "source": [
    "\n",
    "m_c = C_1\n",
    "m_1 = C_1\n",
    "m_2 = C_2\n",
    "x_c = PHI_0 / (2 * np.pi)\n",
    "time_scale_factor = 1\n",
    "t_c = np.sqrt(L_1 * C_1)\n",
    "v_c = x_c / t_c\n",
    "\n",
    "\n",
    "U0_1 = m_c * x_c**2 / t_c**2 / k_BT\n",
    "U0_2 = m_2 * x_c**2 / t_c**2 / k_BT\n",
    "kappa_1, kappa_2, kappa_3, kappa_4 = 1/U0_1, 1/U0_1, 1/U0_1, 1/U0_1\n",
    "\n",
    "lambda_1 = 2 * np.sqrt(L_1 * C_1) / (C_1 * R_1)\n",
    "theta_1  = 1\n",
    "eta_1    = np.sqrt(np.sqrt(L_1 * C_1)/ (R_1 * C_1)) * np.sqrt(2 * kappa_1 / 1**2)\n",
    "\n",
    "lambda_2 = 2 * np.sqrt(L_1 * C_1) / (C_2 * R_2)\n",
    "theta_2  = 1 / (C_2/C_1)\n",
    "eta_2    = np.sqrt(np.sqrt(L_1 * C_1)/ (R_1 * C_1)) * np.sqrt(2 * kappa_2 * (R_1 * C_1**2) / (R_2 * C_2**2))\n",
    "\n",
    "lambda_3 = 2 * np.sqrt(L_1 * C_1) / (C_1 * R_1)\n",
    "theta_3  = 4\n",
    "eta_3    = np.sqrt(np.sqrt(L_1 * C_1)/ (R_1 * C_1)) * np.sqrt(8 * kappa_3)\n",
    "\n",
    "lambda_4 = 2 * np.sqrt(L_1 * C_1) / (C_2 * R_2)\n",
    "theta_4  = 4 / (C_2/C_1)\n",
    "eta_4    = np.sqrt(np.sqrt(L_1 * C_1)/ (R_1 * C_1)) * np.sqrt(8 * kappa_4 * (R_1 * C_1**2) / (R_2 * C_2**2))\n",
    "\n",
    "gamma = 10\n",
    "\n",
    "\n",
    "beta_1 = 2 * np.pi * L_1 * I_p_1 / PHI_0; \n",
    "beta_2 = 2 * np.pi * L_2 * I_p_2 / PHI_0;\n",
    "\n",
    "beta_1 = 2.3\n",
    "beta_2 = 2.3\n",
    "\n",
    "d_beta_1 = 2 * np.pi * L_1 * I_m_1 / PHI_0; \n",
    "d_beta_2 = 2 * np.pi * L_2 * I_m_2 / PHI_0;\n",
    "\n",
    "_lambda = np.array([lambda_2])\n",
    "_theta  = np.array([theta_2])\n",
    "_eta  =   np.array([eta_2])"
   ]
  },
  {
   "cell_type": "code",
   "execution_count": null,
   "id": "4",
   "metadata": {},
   "outputs": [],
   "source": []
  },
  {
   "cell_type": "markdown",
   "id": "5",
   "metadata": {},
   "source": [
    "### parameter setting"
   ]
  },
  {
   "cell_type": "code",
   "execution_count": null,
   "id": "6",
   "metadata": {},
   "outputs": [],
   "source": [
    "\"\"\"\n",
    "# step 0: modify parameters\n",
    "- All the parameters are stored in a separate file PARAMETER_INPUT\n",
    "- You can override some of the parameters here.\n",
    "\"\"\"\n",
    "params = {}\n",
    "params['N'] = 1000\n",
    "params['dt'] = 1/500\n",
    "params['lambda'] = 1\n",
    "params['beta'] = 1\n",
    "params['sim_params'] = [_lambda, _theta, _eta]\n",
    "params['target_work'] = None\n",
    "params['applyOffset'] = False\n",
    "params['measureWorkWithOffset'] = False\n",
    "params['monitor_work_dist_in_whole_process'] = True # To monitor the work process\n",
    "params['comment'] = \"Experiment 8 (2024/3/17): 4 well, with no compensation for asym, 1/5000\"\n",
    "params['capacitance'] = [C_2]\n",
    "params['mass'] = np.array([1])\n",
    "params['v_c'] = x_c/t_c\n",
    "params['k_BT'] = k_BT\n",
    "params['U0'] = U0_1\n",
    "params['as_step'] = np.s_[::1000] # the time step to skep for the all_state\n",
    "params['percentage'] = 1 # For what percentage of the total sample do you want to keep in the output all_state\n"
   ]
  },
  {
   "cell_type": "code",
   "execution_count": null,
   "id": "7",
   "metadata": {},
   "outputs": [],
   "source": [
    "int(1/params['dt'])"
   ]
  },
  {
   "cell_type": "code",
   "execution_count": null,
   "id": "8",
   "metadata": {
    "tags": []
   },
   "outputs": [],
   "source": [
    "\"\"\"\n",
    "# step 2: Define initial condition and protocol\n",
    "\"\"\"\n",
    "manual_domain=[np.array([-5, -5]), np.array([5, 5])]\n",
    "    \n",
    "initial_parameter_dict = {\n",
    "        \"U0_1\": U0_1,     \"U0_2\": U0_2,     \"gamma_1\": gamma,  \"gamma_2\": gamma,\n",
    "        \"beta_1\": beta_1,   \"beta_2\": beta_2,   \"d_beta_1\": d_beta_1 ,   \"d_beta_2\": d_beta_2,\n",
    "        \"phi_1_x\": phi_1_x_off,  \"phi_2_x\": phi_2_x_off,  \"phi_1_dcx\": phi_1_dcx_off,  \"phi_2_dcx\": phi_1_dcx_off,\n",
    "        \"M_12\": 1, 'x_c': x_c\n",
    "}\n",
    "\n",
    "\n",
    "\"\"\"\n",
    "# step 1: Define potential\n",
    "\"\"\"\n",
    "coupled_fq_default_param = [1, 1, 0, 0, 0, 0, 0, 0, 0, 0, 0, 0, 0, x_c]\n",
    "[phi_1_bound, phi_2_bound, phi_1dc_bound, phi_2dc_bound] = np.array([4, 4, 4, 4])/time_scale_factor\n",
    "contour_range = [300, 2000]\n",
    "    \n",
    "coupled_fq_domain = [[-phi_2_bound], [phi_2_bound]]\n",
    "\n",
    "# coupled_fq_pot = Potential(coupled_flux_qubit_pot_with_offset_at_00_xy, coupled_flux_qubit_force, 14, 4,\\\n",
    "#                            default_params = coupled_fq_default_param,  relevant_domain = coupled_fq_domain)\n",
    "\n",
    "coupled_fq_pot = Potential(simple_1D_potential, simple_1D_potential, 14, 1, \\\n",
    "                           default_params = initial_parameter_dict,  relevant_domain = coupled_fq_domain)\n",
    "\n",
    "# coupled_fq_pot = Potential(coupled_flux_qubit_non_linear_approx_pot_special, coupled_flux_qubit_non_linear_approx_force_special, 14, 4,\\\n",
    "                           # default_params = initial_parameter_dict,  relevant_domain = coupled_fq_domain)"
   ]
  },
  {
   "cell_type": "code",
   "execution_count": null,
   "id": "9",
   "metadata": {},
   "outputs": [],
   "source": []
  },
  {
   "cell_type": "code",
   "execution_count": null,
   "id": "10",
   "metadata": {},
   "outputs": [],
   "source": [
    "zeroDissipation = False\n",
    "zeroDissipation = True\n",
    "saveAllStates = True\n",
    "\n",
    "params['sim_params'] = [_lambda, _theta, _eta]\n",
    "\n",
    "if zeroDissipation:\n",
    "    params['sim_params'] = [_lambda * 0, _theta, _eta * 0]\n",
    "\n",
    "params['circuit_parameters'] = {\n",
    "    \"C_factor\":C_factor, \"L_factor\": L_factor, \"I_m_factor\": I_m_factor, \"T\": T, \n",
    "    \"I_p_1\": I_p_1, \"I_p_2\": I_p_2, \"I_m_1\": I_m_1, \"I_m_2\": I_m_2,\n",
    "    \"R_1\": R_1, \"R_2\": R_2, \"C_1\": C_1, \"C_2\": C_2, \"L_1\": L_1, \"L_2\": L_2, \n",
    "    \"characteristic_time\": np.sqrt(C_1 * C_factor * L_1 * L_factor),\n",
    "    \"gamma\": gamma\n",
    "}\n",
    "\n",
    "\n",
    "# bookmark\n",
    "initial_parameter_dict[\"phi_1_dcx\"], initial_parameter_dict[\"phi_2_dcx\"], initial_parameter_dict[\"M_12\"] = \\\n",
    "phi_1_dcx_off, phi_2_dcx_off, M_12_off\n",
    "\n",
    "\n",
    "initial_parameter_dict[\"phi_1_dcx\"] = phi_1_dcx_off\n",
    "initial_parameter_dict[\"phi_2_dcx\"] = phi_2_dcx_off\n",
    "initial_parameter_dict[\"phi_1_x\"]   = phi_1_x_off\n",
    "initial_parameter_dict[\"phi_2_x\"]   = 0\n",
    "initial_parameter_dict[\"M_12\"]      = 1"
   ]
  },
  {
   "cell_type": "code",
   "execution_count": null,
   "id": "11",
   "metadata": {},
   "outputs": [],
   "source": [
    "\n",
    "# longer CE\n",
    "t_duration = 100\n",
    "\n",
    "ratio_array = [0.998] * 5\n",
    "# ratio_array = [0.9, 0.9, 0.9, 0.9, 0.9]\n",
    "protocol_list_variable_duration = [\n",
    "    # decrease KE\n",
    "    create_CE_Protocol(10, {\n",
    "    \"phi_1_x\": 0, \"phi_2_x\": 0, \"M_12\": 0.1, \\\n",
    "    \"phi_1_dcx\": 0, \"phi_2_dcx\": 0, \"name\":\"decrease k\"\n",
    "    }),\n",
    "]\n",
    "# params['as_step'] = np.s_[::] # the time step to skep for the all_state\n",
    "protocol_list = protocol_list_variable_duration"
   ]
  },
  {
   "cell_type": "code",
   "execution_count": null,
   "id": "12",
   "metadata": {},
   "outputs": [],
   "source": []
  },
  {
   "cell_type": "markdown",
   "id": "13",
   "metadata": {},
   "source": [
    "# setting initial states"
   ]
  },
  {
   "cell_type": "code",
   "execution_count": null,
   "id": "14",
   "metadata": {},
   "outputs": [],
   "source": [
    "%%capture\n",
    "\n",
    "\n",
    "regenerate_init_state = False\n",
    "regenerate_init_state = True\n",
    "if regenerate_init_state:\n",
    "    initial_potential_protocol_list = [create_CE_Protocol(10, {'phi_1_x': 0, 'phi_2_x': 0, 'M_12': 1, 'phi_1_dcx': 0, 'phi_2_dcx': 0, 'name': 'test'})]\n",
    "    init_state_saved = cfq_batch_sweep.create_initial_state(initial_parameter_dict, initial_potential_protocol_list, coupled_fq_pot, params)\n",
    "else:\n",
    "    init_state_saved = np.load(\"four_well_default_init_state_N_1000.npy\")\n",
    "    pass\n",
    "\n",
    "init_state_used = init_state_saved"
   ]
  },
  {
   "cell_type": "code",
   "execution_count": null,
   "id": "15",
   "metadata": {},
   "outputs": [],
   "source": [
    "init_state_used.shape"
   ]
  },
  {
   "cell_type": "code",
   "execution_count": null,
   "id": "16",
   "metadata": {},
   "outputs": [],
   "source": [
    "# customize the initial state\n",
    "init_state_saved[:, 0, 0] = np.random.normal(-3, 0.1, params['N'])\n",
    "init_state_saved[:, 0, 1] = np.random.normal(0, 0.01, params['N'])"
   ]
  },
  {
   "cell_type": "markdown",
   "id": "17",
   "metadata": {},
   "source": [
    "# create cfqr object"
   ]
  },
  {
   "cell_type": "code",
   "execution_count": null,
   "id": "18",
   "metadata": {},
   "outputs": [],
   "source": [
    "\n",
    "computation_protocol_parameter_dict = coupled_fq_protocol_library.customizedProtocol(initial_parameter_dict, protocol_list)\n",
    "storage_protocol, comp_protocol = create_system(computation_protocol_parameter_dict, modifiedFunction = None)\n",
    "\n",
    "cfqr = cfq_runner.coupledFluxQubitRunner(potential = coupled_fq_pot, params = params, \\\n",
    "                                                storage_protocol= storage_protocol, \\\n",
    "                                                computation_protocol= comp_protocol, \\\n",
    "                                         protocol_list = protocol_list, \\\n",
    "                                        has_velocity=has_velocity)\n",
    "\n",
    "protocol_time_array, protocol_time_index_array, protocol_all_time_array, protocol_time_all_index_array = cfqr.createProtocolTimeArray(protocol_list, params)\n",
    "cfqr.initialize_sim()\n",
    "# cfqr.set_sim_attributes(init_state=init_state_saved)\n",
    "cfqr.set_sim_attributes(init_state=init_state_used)\n"
   ]
  },
  {
   "cell_type": "code",
   "execution_count": null,
   "id": "19",
   "metadata": {},
   "outputs": [],
   "source": [
    "# customize the initial state\n",
    "init_state_saved[:, 0, 0] = np.random.normal(-4, 0.1, params['N'])\n",
    "init_state_saved[:, 0, 1] = np.random.normal(0, 0.01, params['N'])"
   ]
  },
  {
   "cell_type": "code",
   "execution_count": null,
   "id": "20",
   "metadata": {},
   "outputs": [],
   "source": [
    "mapping_dict = mapping_state_1_to_state_2_dict_CE"
   ]
  },
  {
   "cell_type": "code",
   "execution_count": null,
   "id": "21",
   "metadata": {},
   "outputs": [],
   "source": [
    "init_state_saved"
   ]
  },
  {
   "cell_type": "markdown",
   "id": "22",
   "metadata": {},
   "source": [
    "# Simulation"
   ]
  },
  {
   "cell_type": "code",
   "execution_count": null,
   "id": "23",
   "metadata": {},
   "outputs": [],
   "source": [
    "importlib.reload(cfq_batch_sweep)\n",
    "\n",
    "manual_domain=[np.array([-5, -5]), np.array([5, 5])]\n",
    "\n",
    "mapping_state_1_to_state_2_dict = {\"00\": [\"00\"], \"01\": [\"01\"], \"10\": [\"10\"], \"11\": [\"11\"]}\n",
    "\n",
    "simResult = cfq_batch_sweep.simulateSingleCoupledFluxQubit(params, initial_parameter_dict, protocol_list, potential = coupled_fq_pot, potential_default_param = coupled_fq_default_param, initial_state = init_state_used, manual_domain = manual_domain, mapping_state_1_to_state_2_dict = mapping_dict, phi_1_dcx = phi_1_dcx,  phi_2_dcx = phi_2_dcx, measure_all_states=True, has_velocity = has_velocity, fidelityTest = False)\n",
    "print(f\"characteristic_time = {characteristic_time * 10e9:.3g}ns\")"
   ]
  },
  {
   "cell_type": "code",
   "execution_count": null,
   "id": "24",
   "metadata": {},
   "outputs": [],
   "source": [
    "simResult['cfqr'].sim.output.all_state['states'].shape"
   ]
  },
  {
   "cell_type": "code",
   "execution_count": null,
   "id": "25",
   "metadata": {},
   "outputs": [],
   "source": [
    "all_states"
   ]
  },
  {
   "cell_type": "markdown",
   "id": "26",
   "metadata": {},
   "source": [
    "# analysis"
   ]
  },
  {
   "cell_type": "code",
   "execution_count": null,
   "id": "27",
   "metadata": {},
   "outputs": [],
   "source": [
    "for x in protocol_list:\n",
    "    print(x)"
   ]
  },
  {
   "cell_type": "code",
   "execution_count": null,
   "id": "28",
   "metadata": {},
   "outputs": [],
   "source": [
    "U, X = simResult['cfqr'].system.lattice(t=0, resolution = 50)"
   ]
  },
  {
   "cell_type": "code",
   "execution_count": null,
   "id": "29",
   "metadata": {},
   "outputs": [],
   "source": [
    "# get particle's potential and position\n",
    "all_states = simResult['cfqr'].get_all_state()\n",
    "U_init = simResult['cfqr'].system.get_potential( simResult['cfqr'].init_state, 0)\n",
    "KE_init = simResult['cfqr'].system.get_kinetic_energy( simResult['cfqr'].init_state)\n",
    "\n",
    "x_of_all_particles = all_states[:, :, 0, 0]\n",
    "simulation_time_array = simResult['cfqr'].protocol_all_time_array[params['as_step']]"
   ]
  },
  {
   "cell_type": "code",
   "execution_count": null,
   "id": "30",
   "metadata": {},
   "outputs": [],
   "source": [
    "i = 2\n",
    "\n",
    "U_of_all_particles_init = simResult['cfqr'].system.get_potential(all_states[:, 0, ...] , 0)\n",
    "x_of_all_particles_init = x_of_all_particles[:, 0, ...]\n",
    "\n",
    "U_of_all_particles_at_t_i = simResult['cfqr'].system.get_potential( all_states[:, i, ...], i)\n",
    "x_of_all_particles_at_t_i = x_of_all_particles[:, i, ...]\n",
    "\n",
    "\n",
    "time_step_array = simResult['cfqr'].protocol_all_time_array[params['as_step']]\n"
   ]
  },
  {
   "cell_type": "code",
   "execution_count": null,
   "id": "31",
   "metadata": {},
   "outputs": [],
   "source": [
    "particle_index = 0\n",
    "KE_of_particle = simResult['cfqr'].system.get_kinetic_energy(all_states[particle_index, ...])\n",
    "PE_of_particle = [simResult['cfqr'].system.get_potential(all_states[particle_index, _i, ...], _t)\\\n",
    "                  for _i, _t in enumerate(time_step_array)]\n",
    "\n",
    "WD_on_particle = np.array(simResult['cfqr'].sim.work_dist_time_array).T[particle_index][params[\"as_step\"]]\n",
    "WD_on_particle = np.concatenate([np.array([0]), WD_on_particle]) # add 0 to the WD array\n",
    "v_of_particle = all_states[particle_index, :, 0, 1]\n",
    "\n",
    "plt.plot(time_step_array, np.array(KE_of_particle), label = \"KE\")\n",
    "plt.plot(time_step_array, np.array(PE_of_particle), label = \"PE\")\n",
    "plt.plot(time_step_array, WD_on_particle, label = \"WD\")\n",
    "plt.legend()\n",
    "\n",
    "\n",
    "energy_description = f\" max WD: {WD_on_particle[-1]:.3g},\\n max KE = {np.max(KE_of_particle):.3g}\" +  \\\n",
    "                    f\",\\n max PE = {np.max(PE_of_particle):.3g}\"\n",
    "\n",
    "props = dict(boxstyle='round', facecolor='wheat', alpha=0.5)\n",
    "\n",
    "# place a text box in upper left in axes coords\n",
    "xmax, ymax = plt.xlim()[1], plt.ylim()[1]\n",
    "plt.text(int(xmax * 0.6), int(ymax * 0.55), energy_description, fontsize=11, verticalalignment='top', \n",
    "        bbox=props)\n",
    "\n",
    "\n",
    "plt.show()\n",
    "print(f\"mean work = {np.mean(simResult['cfqr'].sim.work_dist_array)}\" )"
   ]
  },
  {
   "cell_type": "code",
   "execution_count": null,
   "id": "32",
   "metadata": {},
   "outputs": [],
   "source": []
  },
  {
   "cell_type": "code",
   "execution_count": null,
   "id": "33",
   "metadata": {},
   "outputs": [],
   "source": [
    "a = np.arange(100)\n",
    "np.random.shuffle(a)\n",
    "particles_chosen = a[0:10]\n",
    "\n",
    "fig, ax = plt.subplots(2, 5, figsize = [15, 8])\n",
    "ax_flatten = ax.flatten()\n",
    "for ax_index, particle_index in enumerate(particles_chosen):\n",
    "    KE_of_particle = simResult['cfqr'].system.get_kinetic_energy(all_states[particle_index, ...])\n",
    "    PE_of_particle = [simResult['cfqr'].system.get_potential(all_states[particle_index, _i, ...], _t) for _i, _t in enumerate(time_step_array)]\n",
    "    WD_on_particle = np.array(simResult['cfqr'].sim.work_dist_time_array).T[particle_index][params[\"as_step\"]]\n",
    "    WD_on_particle = np.concatenate([np.array([0]), WD_on_particle]) # add 0 to the WD array\n",
    "\n",
    "    # ax_flatten[ax_index].plot(time_step_array, KE_of_particle + np.array(PE_of_particle), label = \"TE\")\n",
    "    ax_flatten[ax_index].plot(time_step_array, np.array(KE_of_particle), label = \"KE\")\n",
    "    ax_flatten[ax_index].plot(time_step_array, np.array(PE_of_particle), label = \"PE\")\n",
    "    # ax_flatten[ax_index].plot(time_step_array, WD_on_particle, label = \"WD\")\n",
    "    # ax_flatten[ax_index].set_ylim(-2, 5)\n",
    "    if ax_index == 0:\n",
    "        ax_flatten[ax_index].legend()"
   ]
  },
  {
   "cell_type": "code",
   "execution_count": null,
   "id": "34",
   "metadata": {},
   "outputs": [],
   "source": []
  },
  {
   "cell_type": "code",
   "execution_count": null,
   "id": "35",
   "metadata": {},
   "outputs": [],
   "source": [
    "def animate_sim_flux_qubit_with_cutline_and_projection(cfqr, time_array=None, params = None, legend=True, \n",
    "    plot_axis = [0, 1], fig_ax=None, PE_graph_setting = {\"xlim\": [-4, 4], \"ylim\": [-2, 300]}, **pot_kwargs):\n",
    "    \"\"\"\n",
    "    This is very similar to the function animate_sim_flux_qubit_with_cutline, but it can project particles onto the cutlines\n",
    "    \"\"\"\n",
    "    \n",
    "    names = [r\"$\\varphi_1$\", r\"$\\varphi_2$\", r\"$\\varphi_{1dc}$\", r\"$\\varphi_{2dc}$\"]\n",
    "    \n",
    "    if not fig_ax:\n",
    "        fig, ax = plt.subplots(1, 2, figsize=[10, 5])\n",
    "    else:\n",
    "        fig, ax = fig_ax\n",
    "    ax_flatten = ax.flatten()\n",
    "\n",
    "    index_skip_in_all_time_array = simResult['cfqr'].params['as_step'].step\n",
    "    time_array = cfqr.protocol_all_time_array[::index_skip_in_all_time_array]\n",
    "    parms_at_init = cfqr.protocol.get_params(0)\n",
    "    plot_axis = [0, 1]\n",
    "    \n",
    "\n",
    "    params_at_all_time = np.array([cfqr.protocol.get_params(_t) for _t in  cfqr.protocol_all_time_array]).T\n",
    "    params_at_all_time_dict = dict(zip(cfqr.protocol_key, params_at_all_time))\n",
    "    \n",
    "    \n",
    "    U, X = cfqr.system.lattice(t=0, resolution = 50) \n",
    "    U, X = U[0], X[0]\n",
    "    l = ax_flatten[0].plot(X, U)[0]\n",
    "    ax_flatten[0].set_xlim(PE_graph_setting['xlim'])\n",
    "    ax_flatten[0].set_ylim(PE_graph_setting['ylim'])\n",
    "    \n",
    "    all_states = simResult['cfqr'].get_all_state()\n",
    "    \n",
    "    x_of_particle = all_states[:, :, 0, 0]\n",
    "    \n",
    "    U_of_particle_init = simResult['cfqr'].system.get_potential(all_states[:, 0, ...] , 0)\n",
    "    x_of_particle_init = x_of_particle[:, 0, ...]\n",
    "    \n",
    "    scatter_plot = ax[0].scatter(x_of_particle_init, U_of_particle_init)\n",
    "    \n",
    "    \n",
    "    particle_index = 0\n",
    "    KE_of_particle = simResult['cfqr'].system.get_kinetic_energy(all_states[particle_index, ...])\n",
    "    PE_of_particle = [simResult['cfqr'].system.get_potential(all_states[particle_index, _i, ...], _t) for _i, _t in enumerate(time_step_array)]\n",
    "    TE_of_particle = KE_of_particle + PE_of_particle\n",
    "\n",
    "    WD_on_particle = np.array(simResult['cfqr'].sim.work_dist_time_array).T[particle_index][simResult['cfqr'].params[\"as_step\"]]\n",
    "    WD_on_particle = np.concatenate([np.array([0]), WD_on_particle]) # add 0 to the WD array\n",
    "    v_of_particle = all_states[particle_index, :, 0, 1]\n",
    "\n",
    "    ax_flatten[1].set_title(f\"energy profile of particle {particle_index}\")\n",
    "    ax_flatten[1].plot(time_step_array, np.array(KE_of_particle), label = \"KE\")\n",
    "    ax_flatten[1].plot(time_step_array, np.array(PE_of_particle), label = \"PE\")\n",
    "    ax_flatten[1].plot(time_step_array, WD_on_particle, label = \"WD\")\n",
    "    ax_flatten[1].plot(time_step_array, np.array(TE_of_particle), label = \"TE\")\n",
    "    ax_flatten[1].legend()\n",
    "    \n",
    "    props = dict(boxstyle='round', facecolor='wheat', alpha=0.5)\n",
    "    xmax, ymax = plt.xlim()[1], plt.ylim()[1]\n",
    "    ax_flatten[1].text(int(xmax * 0.6), int(ymax * 0.55), energy_description, fontsize=11, verticalalignment='top', \n",
    "        bbox=props)\n",
    "    \n",
    "    def animate(i):\n",
    "        parms_at_i = cfqr.protocol.get_params(time_array[i])\n",
    "        # ax_flatten[1].clear()\n",
    "        \n",
    "        U, X = cfqr.system.lattice(t=time_array[i], resolution = 50) \n",
    "        U, X = U[0], X[0]\n",
    "        l.set_data(X, U)\n",
    "        \n",
    "        U_of_particle_at_t_i = simResult['cfqr'].system.get_potential( all_states[:, i, ...], time_array[i])\n",
    "        x_of_particle_at_t_i = x_of_particle[:, i, ...]\n",
    "        scatter_plot.set_offsets(np.c_[x_of_particle_at_t_i, U_of_particle_at_t_i])\n",
    "        ax_flatten[0].set_title(f\"t = {time_array[i]}/{time_array[-1]}\")\n",
    "        # scat = [ax_flatten[0].set_offset(np.c_[x_of_particle_at_t_i , U_of_particle_at_t_i])]\n",
    "        # scat = [ax_flatten[0].scatter(x[state_lookup[key], _index], y[state_lookup[key], _index], c = pColor[key], **scat_kwargs) for key in state_lookup]\n",
    "        \n",
    "        \n",
    "\n",
    "    ani = FuncAnimation(fig, animate, interval=100, frames=len(time_array), blit=False)\n",
    "    return ani, fig, ax"
   ]
  },
  {
   "cell_type": "code",
   "execution_count": null,
   "id": "36",
   "metadata": {},
   "outputs": [],
   "source": [
    "ani, fig, ax = animate_sim_flux_qubit_with_cutline_and_projection(simResult['cfqr'])\n",
    "fig.tight_layout()\n",
    "writer = animation.PillowWriter(fps=100, metadata=dict(artist='Me'), bitrate=1800)\n",
    "ani.save('scatter.gif', writer=writer)\n",
    "# plt.close()"
   ]
  },
  {
   "cell_type": "code",
   "execution_count": null,
   "id": "37",
   "metadata": {},
   "outputs": [],
   "source": [
    "Image(filename=\"scatter.gif\")"
   ]
  },
  {
   "cell_type": "code",
   "execution_count": null,
   "id": "38",
   "metadata": {},
   "outputs": [],
   "source": []
  },
  {
   "cell_type": "code",
   "execution_count": null,
   "id": "39",
   "metadata": {},
   "outputs": [],
   "source": [
    "plt.hist(simResult['cfqr'].sim.work_dist_array, bins = 50)\n",
    "plt.show()"
   ]
  },
  {
   "cell_type": "code",
   "execution_count": null,
   "id": "40",
   "metadata": {},
   "outputs": [],
   "source": [
    "_R = [100, 500, 1000, 5000, 10000] \t\n",
    "_WD = [43.867198364159734, 53.727594202060956, 84.59186846712807, 148.50721839697968, 155.30489729163008]\n",
    "plt.scatter(_R, _WD)\n",
    "# plt.xscale('log')\n",
    "plt.xlabel(\"Resistance (Ω)\")\n",
    "plt.ylabel(\"extractable work (k_BT)\")"
   ]
  },
  {
   "cell_type": "code",
   "execution_count": null,
   "id": "41",
   "metadata": {},
   "outputs": [],
   "source": []
  },
  {
   "cell_type": "code",
   "execution_count": null,
   "id": "42",
   "metadata": {},
   "outputs": [],
   "source": []
  },
  {
   "cell_type": "code",
   "execution_count": null,
   "id": "43",
   "metadata": {},
   "outputs": [],
   "source": []
  },
  {
   "cell_type": "code",
   "execution_count": null,
   "id": "44",
   "metadata": {},
   "outputs": [],
   "source": [
    "U, X = simResult['cfqr'].system.lattice(t=0, resolution = 50)\n",
    "fig, ax = plt.subplots(1, 3, figsize = [12, 4])\n",
    "ax[0].plot(X[0], U[0], label = \"k = 1, t = 0\")\n",
    "ax[0].set_title(\"k = 1, t = 0\")\n",
    "ax[0].set_ylim(0, 600)\n",
    "\n",
    "U, X = simResult['cfqr'].system.lattice(t=100, resolution = 50)\n",
    "ax[1].plot(X[0], U[0], label = \"k = 0.1, t = 100\")\n",
    "ax[1].set_title(\"k = 0.1, t = 100 to 300\")\n",
    "ax[1].set_ylim(0, 600)\n",
    "\n",
    "U, X = simResult['cfqr'].system.lattice(t=1200, resolution = 50)\n",
    "ax[2].plot(X[0], U[0], label = \"k = 1, t = 350\")\n",
    "ax[2].set_title(\"k = 1, t = 350\")\n",
    "ax[2].set_ylim(0, 600)"
   ]
  },
  {
   "cell_type": "code",
   "execution_count": null,
   "id": "45",
   "metadata": {},
   "outputs": [],
   "source": []
  }
 ],
 "metadata": {
  "kernelspec": {
   "display_name": "Python 3 (ipykernel)",
   "language": "python",
   "name": "python3"
  },
  "language_info": {
   "codemirror_mode": {
    "name": "ipython",
    "version": 3
   },
   "file_extension": ".py",
   "mimetype": "text/x-python",
   "name": "python",
   "nbconvert_exporter": "python",
   "pygments_lexer": "ipython3",
   "version": "3.10.9"
  }
 },
 "nbformat": 4,
 "nbformat_minor": 5
}
