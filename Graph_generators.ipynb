{
 "cells": [
  {
   "cell_type": "code",
   "execution_count": null,
   "id": "0",
   "metadata": {},
   "outputs": [],
   "source": [
    "import matplotlib.pyplot as plt\n",
    "import numpy as np"
   ]
  },
  {
   "cell_type": "code",
   "execution_count": null,
   "id": "1",
   "metadata": {},
   "outputs": [],
   "source": [
    "# data for KEEP duration, work done and error rate"
   ]
  },
  {
   "cell_type": "code",
   "execution_count": null,
   "id": "2",
   "metadata": {},
   "outputs": [],
   "source": [
    "data_array = np.array([(40, 20.7, 0.317, 23.8), (80, 37.7, 0.587, 2), (120, 41.3, 0.644, 0.003), (160, 42.9, 0.67, 0), (200, 44.2, 0.686, 0)])"
   ]
  },
  {
   "cell_type": "code",
   "execution_count": null,
   "id": "3",
   "metadata": {},
   "outputs": [],
   "source": [
    "duration_of_KEEP_part_1 = data_array[::, 0]\n",
    "work_done_mean = data_array[::, 1]\n",
    "work_done_err = data_array[::, 2]\n",
    "observed_error_rate = data_array[::, 3]"
   ]
  },
  {
   "cell_type": "code",
   "execution_count": null,
   "id": "4",
   "metadata": {},
   "outputs": [],
   "source": [
    "fig, ax = plt.subplots(2, 1, figsize = [4, 8])\n",
    "ax[0].errorbar(duration_of_KEEP_part_1, work_done_mean, yerr= work_done_err, fmt=\"o\")\n",
    "ax[0].set_ylabel(r\"work ($k_BT$)\")\n",
    "\n",
    "\n",
    "ax[1].scatter(duration_of_KEEP_part_1, observed_error_rate)\n",
    "ax[1].set_xlabel(\"time\")\n",
    "ax[1].set_ylabel(r\"observed error rate (%)\")"
   ]
  },
  {
   "cell_type": "code",
   "execution_count": null,
   "id": "5",
   "metadata": {},
   "outputs": [],
   "source": []
  }
 ],
 "metadata": {
  "kernelspec": {
   "display_name": "Python 3 (ipykernel)",
   "language": "python",
   "name": "python3"
  },
  "language_info": {
   "codemirror_mode": {
    "name": "ipython",
    "version": 3
   },
   "file_extension": ".py",
   "mimetype": "text/x-python",
   "name": "python",
   "nbconvert_exporter": "python",
   "pygments_lexer": "ipython3",
   "version": "3.10.9"
  }
 },
 "nbformat": 4,
 "nbformat_minor": 5
}
