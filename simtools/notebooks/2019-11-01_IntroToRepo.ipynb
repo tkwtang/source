{
 "cells": [
  {
   "cell_type": "markdown",
   "metadata": {},
   "source": [
    "## Summary"
   ]
  },
  {
   "cell_type": "markdown",
   "metadata": {},
   "source": [
    "Starting a new repo for collaboration with Kyle.  First I'm just adding the core code for doing basic simulations, including the big 1D protocols, 1D duffing system, and ND Langevin Dynamics.  Also including basic 2D harmonic oscillator system and simple protocols, previously just in another notebook.\n",
    "\n",
    "Will add more to this repo as further functionality is updated and cleaned up."
   ]
  },
  {
   "cell_type": "markdown",
   "metadata": {},
   "source": [
    "---\n",
    "## Imports for whole notebook"
   ]
  },
  {
   "cell_type": "code",
   "execution_count": null,
   "metadata": {},
   "outputs": [],
   "source": []
  },
  {
   "cell_type": "code",
   "execution_count": null,
   "metadata": {},
   "outputs": [],
   "source": [
    "import sys\n",
    "infoenginessims_path = \"..\"\n",
    "# sys.path.append('~/Project/source/')\n",
    "sys.path.append('~/Project/source/simtools')\n",
    "sys.path.insert(0, infoenginessims_path)\n",
    "# print()\n",
    "from infoenginessims.api import *\n",
    "\n",
    "from infoenginessims.integrators import rkdeterm_eulerstoch\n",
    "from infoenginessims.dynamics import langevin_underdamped, langevin_overdamped\n",
    "from infoenginessims.state_distributions import sd_tools, state_distribution\n",
    "\n",
    "from infoenginessims import simulation\n",
    "from infoenginessims.simprocedures import basic_simprocedures as sp\n",
    "from infoenginessims.simprocedures import running_measurements as rp\n",
    "\n",
    "from infoenginessims import analysis\n",
    "import infoenginessims.analysis.state_dists_1D\n",
    "import infoenginessims.analysis.running_quantities\n",
    "import infoenginessims.analysis.hists_1D\n",
    "import infoenginessims.analysis.protocols\n",
    "import infoenginessims.analysis.animations\n",
    "\n",
    "\n",
    "# %matplotlib inline"
   ]
  },
  {
   "cell_type": "code",
   "execution_count": null,
   "metadata": {},
   "outputs": [],
   "source": [
    "#kyles tools and systems#\n",
    "# sys.path.append('~/Project/source/sus')\n",
    "protocol_designer_path = \"../../sus/library/\"\n",
    "sus_path = \"../../sus/\"\n",
    "sys.path.insert(0, protocol_designer_path)\n",
    "sys.path.insert(0, sus_path)\n",
    "\n",
    "import bit_flip_protocols as bfp\n",
    "quick_flip = bfp.bf_1D\n",
    "\n",
    "\n",
    "import protocol_designer as prd\n",
    "from protocol_designer import system as syst"
   ]
  },
  {
   "cell_type": "markdown",
   "metadata": {},
   "source": [
    "---\n",
    "## 1D Example"
   ]
  },
  {
   "cell_type": "code",
   "execution_count": null,
   "metadata": {},
   "outputs": [],
   "source": [
    "import infoenginessims.analysis.infospace_1D"
   ]
  },
  {
   "cell_type": "code",
   "execution_count": null,
   "metadata": {},
   "outputs": [],
   "source": [
    "system = quick_flip\n",
    "total_t = 100.\n",
    "\n",
    "# protocol = erasure_efficient.ErasureEfficient(total_t=total_t)"
   ]
  },
  {
   "cell_type": "code",
   "execution_count": null,
   "metadata": {},
   "outputs": [],
   "source": [
    "system.show_potential(0)"
   ]
  },
  {
   "cell_type": "code",
   "execution_count": null,
   "metadata": {},
   "outputs": [],
   "source": [
    "theta = 1.0\n",
    "gamma = 1.0\n",
    "eta = 1.0\n",
    "\n",
    "state_shape = (2,)\n",
    "\n",
    "mass = 1 / theta\n",
    "kappa = eta**2 / (gamma * theta)\n",
    "\n",
    "dynamic = langevin_underdamped.LangevinUnderdamped(\n",
    "                theta, gamma, eta, system.get_external_force)"
   ]
  },
  {
   "cell_type": "code",
   "execution_count": null,
   "metadata": {},
   "outputs": [],
   "source": [
    "integrator = rkdeterm_eulerstoch.RKDetermEulerStoch(dynamic)"
   ]
  },
  {
   "cell_type": "code",
   "execution_count": null,
   "metadata": {
    "lines_to_next_cell": 2
   },
   "outputs": [],
   "source": [
    "get_initial_potential = lambda x: system.potential.potential(x, system.protocol.get_params(0))"
   ]
  },
  {
   "cell_type": "code",
   "execution_count": null,
   "metadata": {},
   "outputs": [],
   "source": []
  },
  {
   "cell_type": "code",
   "execution_count": null,
   "metadata": {},
   "outputs": [],
   "source": [
    "%%time\n",
    "initial_dist = sd_tools.make_1DUD_metastable_dist(\n",
    "                    get_initial_potential, mass, kappa)"
   ]
  },
  {
   "cell_type": "code",
   "execution_count": null,
   "metadata": {},
   "outputs": [],
   "source": [
    "analysis.state_dists_1D.full_plot(initial_dist)"
   ]
  },
  {
   "cell_type": "code",
   "execution_count": null,
   "metadata": {},
   "outputs": [],
   "source": [
    "# alpha = 7.\n",
    "# zeta = 3.\n",
    "\n",
    "# system = duffing.Duffing(protocol, alpha, zeta, has_velocity=False)\n",
    "\n",
    "# get_initial_potential = lambda x: system.get_potential(x, 0)\n",
    "\n",
    "# omega = 1.0\n",
    "# xi = 1.0\n",
    "\n",
    "# state_shape = ()\n",
    "\n",
    "# kappa = omega / (xi**2)\n",
    "\n",
    "# dynamic = langevin_overdamped.LangevinOverdamped(omega, xi, system.get_external_force)\n",
    "\n",
    "# initial_dist = sd_tools.make_1DOD_metastable_dist(get_initial_potential, kappa)\n",
    "\n",
    "# plt.plot(initial_dist.bins[0][:-1], initial_dist.probs)"
   ]
  },
  {
   "cell_type": "code",
   "execution_count": null,
   "metadata": {},
   "outputs": [],
   "source": [
    "%%time\n",
    "ntrials = 50_000\n",
    "\n",
    "initial_state = initial_dist.get_sample(ntrials)"
   ]
  },
  {
   "cell_type": "code",
   "execution_count": null,
   "metadata": {},
   "outputs": [],
   "source": [
    "np.shape(initial_state)"
   ]
  },
  {
   "cell_type": "code",
   "execution_count": null,
   "metadata": {},
   "outputs": [],
   "source": [
    "plt.hist(initial_state[25000:,:], bins=100);"
   ]
  },
  {
   "cell_type": "code",
   "execution_count": null,
   "metadata": {},
   "outputs": [],
   "source": [
    "procedures = [\n",
    "              sp.ReturnFinalState(),\n",
    "              sp.MeasureAllState(trial_request=slice(0, None)),  \n",
    "              rp.MeasureAllValue(rp.get_dW, 'all_W'),\n",
    "              rp.MeasureFinalValue(rp.get_dW, 'final_W'),\n",
    "             ]"
   ]
  },
  {
   "cell_type": "code",
   "execution_count": null,
   "metadata": {},
   "outputs": [],
   "source": [
    "nsteps = 5_000\n",
    "\n",
    "total_t = system.protocol.total_t\n",
    "\n",
    "dt = total_t / nsteps\n",
    "\n",
    "sim = simulation.Simulation(integrator.update_state, procedures, nsteps, dt,\n",
    "                            initial_state, initial_dist, ntrials)\n",
    "\n",
    "sim.system = system"
   ]
  },
  {
   "cell_type": "code",
   "execution_count": null,
   "metadata": {},
   "outputs": [],
   "source": [
    "%%time\n",
    "\n",
    "sim.output = sim.run(verbose=True)"
   ]
  },
  {
   "cell_type": "code",
   "execution_count": null,
   "metadata": {},
   "outputs": [],
   "source": [
    "all_state = sim.output.all_state['states']\n",
    "all_W = sim.output.all_W\n",
    "final_W = sim.output.final_W"
   ]
  },
  {
   "cell_type": "code",
   "execution_count": null,
   "metadata": {},
   "outputs": [],
   "source": [
    "all_state.shape"
   ]
  },
  {
   "cell_type": "code",
   "execution_count": null,
   "metadata": {},
   "outputs": [],
   "source": [
    "analysis.running_quantities.plot_running_quantity(all_state[:100,:,0])"
   ]
  },
  {
   "cell_type": "code",
   "execution_count": null,
   "metadata": {},
   "outputs": [],
   "source": [
    "analysis.running_quantities.plot_running_quantity(all_W[:100])"
   ]
  },
  {
   "cell_type": "code",
   "execution_count": null,
   "metadata": {},
   "outputs": [],
   "source": [
    "np.mean(final_W)"
   ]
  },
  {
   "cell_type": "code",
   "execution_count": null,
   "metadata": {},
   "outputs": [],
   "source": [
    "final_W_hist = np.histogram(final_W, bins=50)\n",
    "analysis.hists_1D.plot_hist(final_W_hist, log=True)"
   ]
  },
  {
   "cell_type": "code",
   "execution_count": null,
   "metadata": {},
   "outputs": [],
   "source": [
    "infoenginessims_path = \"../..\"\n",
    "sys.path.insert(0, infoenginessims_path)\n",
    "\n",
    "from system_experiments import kyle_tools as kt"
   ]
  },
  {
   "cell_type": "code",
   "execution_count": null,
   "metadata": {},
   "outputs": [],
   "source": [
    "w, lr = kt.crooks_analysis_tsp(final_W, nbins=100)"
   ]
  },
  {
   "cell_type": "code",
   "execution_count": null,
   "metadata": {},
   "outputs": [],
   "source": [
    "np.mean(np.exp(-final_W))"
   ]
  },
  {
   "cell_type": "code",
   "execution_count": null,
   "metadata": {},
   "outputs": [],
   "source": [
    "lr"
   ]
  },
  {
   "cell_type": "markdown",
   "metadata": {},
   "source": [
    "---\n",
    "### Example 2D System"
   ]
  },
  {
   "cell_type": "code",
   "execution_count": null,
   "metadata": {},
   "outputs": [],
   "source": [
    "from infoenginessims.protocols.simple_linear_protocol import SimpleLinearProtocol\n",
    "from infoenginessims.systems.harmonic_2D import Harmonic2D"
   ]
  },
  {
   "cell_type": "code",
   "execution_count": null,
   "metadata": {},
   "outputs": [],
   "source": [
    "param_initial_vals = [1., 1., 0., 0., 0.]\n",
    "param_final_vals = [1., 1., 1., 1., 1.]\n",
    "\n",
    "total_t = 1000.\n",
    "\n",
    "protocol = SimpleLinearProtocol(param_initial_vals, param_final_vals, total_t)"
   ]
  },
  {
   "cell_type": "code",
   "execution_count": null,
   "metadata": {},
   "outputs": [],
   "source": [
    "spring_const0_scale = 1.\n",
    "spring_const1_scale = 1.\n",
    "center0_scale = 1.\n",
    "center1_scale = 1.\n",
    "min_height_scale = 1.\n",
    "\n",
    "has_velocity = True\n",
    "\n",
    "system = Harmonic2D(protocol,\n",
    "                    spring_const0_scale, spring_const1_scale,\n",
    "                    center0_scale, center1_scale, min_height_scale,\n",
    "                    has_velocity=has_velocity)"
   ]
  },
  {
   "cell_type": "code",
   "execution_count": null,
   "metadata": {},
   "outputs": [],
   "source": [
    "t = total_t * 1\n",
    "\n",
    "nxbins = 100\n",
    "X = np.linspace(-1.5, 1.5, nxbins)\n",
    "\n",
    "U = np.empty(shape=(nxbins, nxbins))\n",
    "F0 = np.empty(shape=(nxbins, nxbins))\n",
    "F1 = np.empty(shape=(nxbins, nxbins))\n",
    "for (i, x), (j, y) in product(enumerate(X), repeat=2):\n",
    "    \n",
    "    state = np.array([x, y])\n",
    "    potential = system.get_potential(state, t, False)\n",
    "    force = system.get_external_force(state, t, False)\n",
    "#     print(force)\n",
    "    \n",
    "    U[i, j] = potential\n",
    "    F0[i, j] = force[..., 0]\n",
    "    F1[i, j] = force[..., 1]\n",
    "    \n",
    "extent = (X[0], X[1], X[0], X[1])\n",
    "\n",
    "fig, ax = plt.subplots()\n",
    "im = ax.imshow(U.transpose()[::-1,:], extent=extent)\n",
    "colorbar = plt.colorbar(im)\n",
    "\n",
    "fig, ax = plt.subplots()\n",
    "im = ax.imshow(F0.transpose()[::-1,:], extent=extent)\n",
    "colorbar = plt.colorbar(im)\n",
    "\n",
    "fig, ax = plt.subplots()\n",
    "im = ax.imshow(F1.transpose()[::-1,:], extent=extent)\n",
    "colorbar = plt.colorbar(im)"
   ]
  },
  {
   "cell_type": "code",
   "execution_count": null,
   "metadata": {},
   "outputs": [],
   "source": [
    "if has_velocity:\n",
    "\n",
    "    theta = 1.\n",
    "    gamma = 1.\n",
    "    eta = 1.\n",
    "\n",
    "    dynamic = langevin_underdamped.LangevinUnderdamped(theta, gamma, eta,\n",
    "                                                       system.get_external_force)\n",
    "    \n",
    "else:\n",
    "    \n",
    "    omega = 1.\n",
    "    xi = 1.\n",
    "    \n",
    "    dynamic = langevin_overdamped.LangevinOverdamped(omega, xi,\n",
    "                                                     system.get_external_force)"
   ]
  },
  {
   "cell_type": "code",
   "execution_count": null,
   "metadata": {},
   "outputs": [],
   "source": [
    "integrator = rkdeterm_eulerstoch.RKDetermEulerStoch(dynamic)"
   ]
  },
  {
   "cell_type": "code",
   "execution_count": null,
   "metadata": {},
   "outputs": [],
   "source": [
    "ntrials = 100\n",
    "posvel_dim = 2 if has_velocity else 1\n",
    "\n",
    "initial_state = np.zeros((ntrials, 2, posvel_dim))"
   ]
  },
  {
   "cell_type": "code",
   "execution_count": null,
   "metadata": {},
   "outputs": [],
   "source": [
    "procedures = [\n",
    "              sp.ReturnFinalState(),\n",
    "              sp.MeasureAllState(trial_request=slice(0, 100)),  \n",
    "              rp.MeasureAllValue(rp.get_dW, 'all_W'),\n",
    "              rp.MeasureFinalValue(rp.get_dW, 'final_W'),\n",
    "             ]"
   ]
  },
  {
   "cell_type": "code",
   "execution_count": null,
   "metadata": {},
   "outputs": [],
   "source": [
    "nsteps = 10_000\n",
    "\n",
    "total_time = system.protocol.total_time\n",
    "\n",
    "dt = total_time / nsteps\n",
    "\n",
    "sim = simulation.Simulation(integrator.update_state, procedures, nsteps, dt,\n",
    "                            initial_state)\n",
    "\n",
    "sim.system = system"
   ]
  },
  {
   "cell_type": "code",
   "execution_count": null,
   "metadata": {},
   "outputs": [],
   "source": [
    "%%time\n",
    "\n",
    "sim.output = sim.run()"
   ]
  },
  {
   "cell_type": "code",
   "execution_count": null,
   "metadata": {},
   "outputs": [],
   "source": [
    "all_state = sim.output.all_state['states']\n",
    "all_W = sim.output.all_W\n",
    "final_W = sim.output.final_W"
   ]
  },
  {
   "cell_type": "code",
   "execution_count": null,
   "metadata": {},
   "outputs": [],
   "source": [
    "all_state.shape"
   ]
  },
  {
   "cell_type": "code",
   "execution_count": null,
   "metadata": {},
   "outputs": [],
   "source": [
    "end_plot_time = total_time #* 1 / 100\n",
    "trial_indices = np.s_[:100]\n",
    "\n",
    "analysis.running_quantities.plot_running_quantity(all_state[trial_indices, :, 0, 0],\n",
    "                                                  final_time=total_t,\n",
    "                                                  end_plot_time=end_plot_time)\n",
    "\n",
    "analysis.running_quantities.plot_running_quantity(all_state[trial_indices, :, 0, 1],\n",
    "                                                  final_time=total_t,\n",
    "                                                  end_plot_time=end_plot_time)\n",
    "\n",
    "analysis.running_quantities.plot_running_quantity(all_state[trial_indices, :, 1, 0],\n",
    "                                                  final_time=total_t,\n",
    "                                                  end_plot_time=end_plot_time)\n",
    "\n",
    "analysis.running_quantities.plot_running_quantity(all_state[trial_indices, :, 1, 1],\n",
    "                                                  final_time=total_t,\n",
    "                                                  end_plot_time=end_plot_time)"
   ]
  },
  {
   "cell_type": "code",
   "execution_count": null,
   "metadata": {},
   "outputs": [],
   "source": [
    "analysis.running_quantities.plot_running_quantity(all_W[trial_indices],\n",
    "                                                  final_time=total_t,\n",
    "                                                  end_plot_time=end_plot_time)"
   ]
  },
  {
   "cell_type": "code",
   "execution_count": null,
   "metadata": {},
   "outputs": [],
   "source": [
    "final_W_hist = np.histogram(final_W, bins=50)\n",
    "analysis.hists_1D.plot_hist(final_W_hist, log=True)"
   ]
  },
  {
   "cell_type": "code",
   "execution_count": null,
   "metadata": {},
   "outputs": [],
   "source": [
    "analysis.animations"
   ]
  },
  {
   "cell_type": "code",
   "execution_count": null,
   "metadata": {},
   "outputs": [],
   "source": []
  }
 ],
 "metadata": {
  "jupytext": {
   "formats": "ipynb,py:percent"
  },
  "kernelspec": {
   "display_name": "Python 3",
   "language": "python",
   "name": "python3"
  },
  "language_info": {
   "codemirror_mode": {
    "name": "ipython",
    "version": 3
   },
   "file_extension": ".py",
   "mimetype": "text/x-python",
   "name": "python",
   "nbconvert_exporter": "python",
   "pygments_lexer": "ipython3",
   "version": "3.8.5"
  }
 },
 "nbformat": 4,
 "nbformat_minor": 4
}
