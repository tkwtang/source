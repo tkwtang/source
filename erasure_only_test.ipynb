{
 "cells": [
  {
   "cell_type": "code",
   "execution_count": null,
   "id": "0",
   "metadata": {},
   "outputs": [],
   "source": [
    "import numpy as np\n",
    "from sus.protocol_designer import System, Protocol, Potential, Compound_Protocol\n",
    "from sus.protocol_designer.protocol import sequential_protocol\n",
    "from IPython import display\n",
    "from IPython.display import HTML\n",
    "from quick_sim import setup_sim\n",
    "from edward_tools.coupled_fq_potential import coupled_flux_qubit_non_linear_approx_pot, coupled_flux_qubit_non_linear_approx_force\n",
    "import edward_tools.fq_runner as fq_runner\n",
    "from edward_tools.visualization import animate_sim_flux_qubit\n",
    "from edward_tools.initial_state_sampling import extra_constraint_00_and_11_only\n",
    "from PARAMETER_INPUT import *\n",
    "from PARAMETER_INPUT import _lambda, _theta, _eta\n",
    "import importlib\n",
    "import matplotlib.animation as animation\n",
    "\n",
    "import kyle_tools as kt\n",
    "import matplotlib.pyplot as plt\n",
    "\n",
    "import importlib, os, datetime\n",
    "from edward_tools import coupled_fq_protocol_library, cfq_runner\n",
    "from edward_tools import coupled_fq_protocol_library\n",
    "\n",
    "import edward_tools.cfq_batch_sweep as cfq_batch_sweep\n",
    "import edward_tools.Analysis_tool.general_analysis_tools as general_analysis_tool\n",
    "# from edward_tools.Analysis_tool.general_analysis_tools import show_phi_dc_with_time\n",
    "import edward_tools.Analysis_tool.minimum_value_of_potential as minimum_value_of_potential\n",
    "\n",
    "\n",
    "\n",
    "coupled_fq_protocol_library = importlib.reload(coupled_fq_protocol_library)\n",
    "create_system = coupled_fq_protocol_library.create_system\n",
    "get_potential_shot_at_different_t = coupled_fq_protocol_library.get_potential_shot_at_different_t\n",
    "get_potential_shot_at_different_t_1D = coupled_fq_protocol_library.get_potential_shot_at_different_t_1D\n",
    "create_simple_protocol_parameter_dict = coupled_fq_protocol_library.create_simple_protocol_parameter_dict\n",
    "coupled_fq_runner = importlib.reload(cfq_runner)\n",
    "coupled_fq_protocol_library = importlib.reload(coupled_fq_protocol_library)\n",
    "create_system = coupled_fq_protocol_library.create_system\n",
    "get_potential_along_a_1D_cutline = coupled_fq_protocol_library.get_potential_along_a_1D_cutline\n",
    "plotCutlines = coupled_fq_protocol_library.plotCutlines"
   ]
  },
  {
   "cell_type": "code",
   "execution_count": null,
   "id": "1",
   "metadata": {},
   "outputs": [],
   "source": [
    "# 4. Szilard engine test"
   ]
  },
  {
   "cell_type": "code",
   "execution_count": null,
   "id": "2",
   "metadata": {},
   "outputs": [],
   "source": []
  },
  {
   "cell_type": "code",
   "execution_count": null,
   "id": "3",
   "metadata": {},
   "outputs": [],
   "source": []
  },
  {
   "cell_type": "markdown",
   "id": "4",
   "metadata": {
    "tags": []
   },
   "source": [
    "# parameters"
   ]
  },
  {
   "cell_type": "code",
   "execution_count": null,
   "id": "5",
   "metadata": {},
   "outputs": [],
   "source": [
    "\n",
    "PHI_0 = 2.067833848 * 1e-15\n",
    "k_B = 1.38e-23\n",
    "T = 0.5\n",
    "k_BT = k_B * T\n",
    "\n",
    "C_factor = 100\n",
    "L_factor = 0.6\n",
    "# L_factor = 1\n",
    "I_m_factor = 0\n",
    "I_p_1, I_p_2 = 2e-6 , 2e-6  # Amp\n",
    "I_m_1, I_m_2 = 7e-9 * I_m_factor, 7e-9 * I_m_factor                                # Amp\n",
    "R_1, R_2 = 371, 371                                # ohm\n",
    "C_1, C_2 = 4e-9 * C_factor, 4e-9 * C_factor                              # F\n",
    "L_1, L_2 = 1e-9 * L_factor, 1e-9 * L_factor                             # H \n",
    "\n",
    "quick_doubler = lambda x1, x2: np.hstack([np.array([x1] * 2), np.array([x2]*2)])\n",
    "I_p, I_m = quick_doubler(I_p_1, I_p_2), quick_doubler(I_m_1, I_m_2)\n",
    "\n",
    "m_c = C_1\n",
    "m_1 = C_1\n",
    "m_2 = C_2\n",
    "x_c = PHI_0 / (2 * np.pi)\n",
    "time_scale_factor = 1\n",
    "t_c = np.sqrt(L_1 * C_1)\n",
    "\n",
    "\n",
    "U0_1 = m_c * x_c**2 / t_c**2\n",
    "U0_2 = m_2 * x_c**2 / t_c**2\n",
    "kappa_1, kappa_2, kappa_3, kappa_4 = k_BT/U0_1, k_BT/U0_1, k_BT/U0_1, k_BT/U0_1\n",
    "\n",
    "lambda_1 = 2 * np.sqrt(L_1 * C_1) / (C_1 * R_1)\n",
    "theta_1  = 1\n",
    "eta_1    = np.sqrt(np.sqrt(L_1 * C_1)/ (R_1 * C_1)) * np.sqrt(2 * kappa_1 / 1**2)\n",
    "\n",
    "lambda_2 = 2 * np.sqrt(L_1 * C_1) / (C_2 * R_2)\n",
    "theta_2  = 1 / (C_2/C_1)\n",
    "eta_2    = np.sqrt(np.sqrt(L_1 * C_1)/ (R_1 * C_1)) * np.sqrt(2 * kappa_2 * (R_1 * C_1**2) / (R_2 * C_2**2))\n",
    "\n",
    "lambda_3 = 2 * np.sqrt(L_1 * C_1) / (C_1 * R_1)\n",
    "theta_3  = 4\n",
    "eta_3    = np.sqrt(np.sqrt(L_1 * C_1)/ (R_1 * C_1)) * np.sqrt(8 * kappa_3)\n",
    "\n",
    "lambda_4 = 2 * np.sqrt(L_1 * C_1) / (C_2 * R_2)\n",
    "theta_4  = 4 / (C_2/C_1)\n",
    "eta_4    = np.sqrt(np.sqrt(L_1 * C_1)/ (R_1 * C_1)) * np.sqrt(8 * kappa_4 * (R_1 * C_1**2) / (R_2 * C_2**2))\n",
    "\n",
    "gamma = 10\n",
    "\n",
    "\n",
    "beta_1 = 2 * np.pi * L_1 * I_p_1 / PHI_0; \n",
    "beta_2 = 2 * np.pi * L_2 * I_p_2 / PHI_0;\n",
    "\n",
    "d_beta_1 = 2 * np.pi * L_1 * I_m_1 / PHI_0; \n",
    "d_beta_2 = 2 * np.pi * L_2 * I_m_2 / PHI_0;\n",
    "\n",
    "\n",
    "_lambda = np.array([lambda_1, lambda_2, lambda_3, lambda_4])\n",
    "_theta  = np.array([theta_1, theta_2, theta_3, theta_4])\n",
    "_eta  =   np.array([eta_1, eta_2, eta_3, eta_4])"
   ]
  },
  {
   "cell_type": "code",
   "execution_count": null,
   "id": "6",
   "metadata": {},
   "outputs": [],
   "source": [
    "\"\"\"\n",
    "# step 0: modify parameters\n",
    "- All the parameters are stored in a separate file PARAMETER_INPUT\n",
    "- You can override some of the parameters here.\n",
    "\"\"\"\n",
    "params = {}\n",
    "params['N'] = 1000\n",
    "params['dt'] = 1/1000\n",
    "params['lambda'] = 1\n",
    "params['beta'] = 1\n",
    "params['sim_params'] = [_lambda, _theta, _eta]\n",
    "params['target_work'] = None\n",
    "params['comment'] = \"Experiment 4a (2024/2/22): Effect of L and the three peak, L_factor = 1\"\n",
    "\n"
   ]
  },
  {
   "cell_type": "markdown",
   "id": "7",
   "metadata": {
    "tags": []
   },
   "source": [
    "# define potential"
   ]
  },
  {
   "cell_type": "code",
   "execution_count": null,
   "id": "8",
   "metadata": {},
   "outputs": [],
   "source": [
    "\"\"\"\n",
    "# step 1: Define potential\n",
    "\"\"\"\n",
    "coupled_fq_default_param = [1, 1, 0, 0, 0, 0, 0, 0, 0, 0, 0, 0, 0, x_c]\n",
    "[phi_1_bound, phi_2_bound, phi_1dc_bound, phi_2dc_bound] = np.array([4, 4, 4, 4])/time_scale_factor\n",
    "\n",
    "coupled_fq_domain = [[-phi_1_bound, -phi_2_bound, -phi_1dc_bound, -phi_2dc_bound], \\\n",
    "                     [phi_1_bound, phi_2_bound, phi_1dc_bound, phi_2dc_bound]]\n",
    "\n",
    "# coupled_fq_pot = Potential(coupled_flux_qubit_pot_with_offset_at_00_xy, coupled_flux_qubit_force, 14, 4,\\\n",
    "#                            default_params = coupled_fq_default_param,  relevant_domain = coupled_fq_domain)\n",
    "\n",
    "coupled_fq_pot = Potential(coupled_flux_qubit_non_linear_approx_pot, coupled_flux_qubit_non_linear_approx_force, 14, 4,\\\n",
    "                           default_params = coupled_fq_default_param,  relevant_domain = coupled_fq_domain)"
   ]
  },
  {
   "cell_type": "code",
   "execution_count": null,
   "id": "9",
   "metadata": {},
   "outputs": [],
   "source": [
    "print(U0_1/k_BT, U0_2/k_BT)"
   ]
  },
  {
   "cell_type": "code",
   "execution_count": null,
   "id": "10",
   "metadata": {},
   "outputs": [],
   "source": [
    "np.linspace(0.1, 2.1, 11)"
   ]
  },
  {
   "cell_type": "code",
   "execution_count": null,
   "id": "11",
   "metadata": {},
   "outputs": [],
   "source": [
    "\"\"\"\n",
    "# step 2: Define initial condition and protocol\n",
    "\"\"\"\n",
    "manual_domain=[np.array([-5, -5]), np.array([5, 5])]\n",
    "# phi_1_dcx, phi_2_dcx = 3, 3\n",
    "phi_1_dcx, phi_2_dcx = 0, 0\n",
    "phi_1_dc, phi_2_dc = phi_1_dcx, phi_2_dcx\n",
    "\n",
    "phi_1_dcx_off = 0\n",
    "phi_2_dcx_off = 0\n",
    "M_12_off = 0\n",
    "\n",
    "\n",
    "# bookmark\n",
    "# phi_1_dcx_on = 2.8\n",
    "# phi_2_dcx_on = 2.8\n",
    "# M_12_on = -0.6\n",
    "phi_x_on = -0.0\n",
    "phi_1_x_on = 0\n",
    "phi_2_x_on = 0\n",
    "phi_1_dcx_on = 2.8\n",
    "phi_2_dcx_on = 2.8\n",
    "M_12_on = -0.3\n",
    "    \n",
    "initial_parameter_dict = {\n",
    "        \"U0_1\": U0_1,     \"U0_2\": U0_2,     \"gamma_1\": gamma,  \"gamma_2\": gamma,\n",
    "        \"beta_1\": beta_1,   \"beta_2\": beta_2,   \"d_beta_1\": d_beta_1 ,   \"d_beta_2\": d_beta_2,\n",
    "        \"phi_1_x\": phi_1_x_on,  \"phi_2_x\": phi_2_x_on,  \"phi_1_dcx\": phi_1_dcx_off,  \"phi_2_dcx\": phi_1_dcx_off,\n",
    "        \"M_12\": M_12_off, 'x_c': x_c\n",
    "}\n",
    "\n"
   ]
  },
  {
   "cell_type": "code",
   "execution_count": null,
   "id": "12",
   "metadata": {},
   "outputs": [],
   "source": [
    "zeroDissipation = False\n",
    "params['sim_params'] = [_lambda, _theta, _eta]\n",
    "if zeroDissipation:\n",
    "    params['sim_params'] = [_lambda * 0, _theta, _eta * 0]\n",
    "\n",
    "params['circuit_parameter'] = {\n",
    "    \"C_factor\":C_factor, \"L_factor\": L_factor, \"I_m_factor\": I_m_factor, \"T\": T, \n",
    "    \"I_p_1\": I_p_1, \"I_p_2\": I_p_2, \"I_m_1\": I_m_1, \"I_m_2\": I_m_2,\n",
    "    \"R_1\": R_1, \"R_2\": R_2, \"C_1\": C_1, \"C_2\": C_2, \"L_1\": L_1, \"L_2\": L_2, \n",
    "    \"phi_1_dcx_on\": phi_1_dcx_on, \"phi_2_dcx_on\": phi_2_dcx_on, \"M_12_on\": M_12_on\n",
    "}\n",
    "    \n",
    "TR_initial_condition = [\n",
    "    (phi_1_dcx_off, phi_2_dcx_off, M_12_off), \n",
    "    (phi_1_dcx_off, phi_2_dcx_on,  M_12_off), \n",
    "    (phi_1_dcx_off, phi_2_dcx_on,  M_12_on), \n",
    "    (phi_1_dcx_off, phi_2_dcx_off, M_12_on), \n",
    "    (phi_1_dcx_off, phi_2_dcx_off, M_12_off), \n",
    "    (phi_1_dcx_on,  phi_2_dcx_off, M_12_off)]\n",
    "\n",
    "protocol_index = 0\n",
    "\n",
    "# bookmark\n",
    "# initial_parameter_dict[\"phi_1_dcx\"], initial_parameter_dict[\"phi_2_dcx\"], initial_parameter_dict[\"M_12\"] = TR_initial_condition[protocol_index-1]\n",
    "initial_parameter_dict[\"phi_1_dcx\"], initial_parameter_dict[\"phi_2_dcx\"], initial_parameter_dict[\"M_12\"] = \\\n",
    "TR_initial_condition[0]\n",
    "\n",
    "rest = lambda t: {\"duration\": t, \"name\":\"rest\"}\n",
    "# protocol_list = [\n",
    "#     # forward\n",
    "#     {\"duration\":50, \"phi_1_dcx\": phi_1_dcx_off, \"phi_2_dcx\": phi_2_dcx_on * 0.5,  \"M_12\": M_12_off,  \"name\":\"(1.1) mix in y direction\"},\n",
    "#     {\"duration\":200, \"phi_1_dcx\": phi_1_dcx_off, \"phi_2_dcx\": phi_2_dcx_on,  \"M_12\": M_12_off,  \"name\":\"(1.2) mix in y direction\"},\n",
    "#     {\"duration\":60, \"phi_1_dcx\": phi_1_dcx_off, \"phi_2_dcx\": phi_2_dcx_on,  \"M_12\": M_12_on,   \"name\":\"(2) conditional tilt in y\"},\n",
    "#     {\"duration\":100, \"phi_1_dcx\": phi_1_dcx_on,  \"phi_2_dcx\": phi_2_dcx_off, \"M_12\": M_12_on,  \"name\": \"(4) conditional tilt in x\"}, \n",
    "#     {\"duration\":60, \"phi_1_dcx\": phi_1_dcx_on,  \"phi_2_dcx\": phi_2_dcx_off, \"M_12\": M_12_off,  \"name\":\"(5.1) mix in x direction\"}, \n",
    "#     {\"duration\":200, \"phi_1_dcx\": phi_1_dcx_on * 0.5, \"phi_2_dcx\": phi_2_dcx_off, \"M_12\": M_12_off,  \"name\":\"(5.2) mix in x direction\"}, \n",
    "#     {\"duration\":50, \"phi_1_dcx\": phi_1_dcx_off, \"phi_2_dcx\": phi_2_dcx_off, \"M_12\": M_12_off,  \"name\":\"(6) 4 well potential\"}, \n",
    "# ]\n",
    "\n",
    "protocol_list = [\n",
    "    # forward\n",
    "    # {\"duration\":50, \"phi_1_dcx\": phi_1_dcx_off, \"phi_2_dcx\": phi_2_dcx_on * 0.5,  \"M_12\": M_12_off,  \"name\":\"(1.1) mix in y direction\"},\n",
    "    {\"duration\":400, \"phi_1_dcx\": phi_1_dcx_off, \"phi_2_dcx\": phi_2_dcx_on,  \"M_12\": M_12_off,  \"name\":\"(1.2) mix in y direction\"},\n",
    "    {\"duration\":200, \"phi_1_dcx\": phi_1_dcx_off, \"phi_2_dcx\": phi_2_dcx_on,  \"M_12\": M_12_on,   \"name\":\"(2) conditional tilt in y\"},\n",
    "    # {\"duration\":100, \"phi_1_dcx\": phi_1_dcx_off, \"phi_2_dcx\": phi_2_dcx_off, \"M_12\": M_12_on,   \"name\":\"(3) raise the barrier\"},\n",
    "    # {\"duration\":50, \"phi_1_dcx\": phi_1_dcx_off, \"phi_2_dcx\": phi_2_dcx_on * 0.5, \"M_12\": M_12_on * 0.5,  \"name\":\"(6) 4 well potential\"},  \n",
    "    # {\"duration\":300, \"phi_1_dcx\": phi_1_dcx_off, \"phi_2_dcx\": phi_2_dcx_on * 0.5, \"M_12\": M_12_on * -.5,  \"name\":\"(6) 4 well potential\"}, \n",
    "    {\"duration\":200, \"phi_1_dcx\": phi_1_dcx_off, \"phi_2_dcx\": phi_2_dcx_off, \"M_12\": M_12_off,  \"name\":\"(6) 4 well potential\"}, \n",
    "]\n",
    "\n",
    "protocol_time_array = [item[\"duration\"] for item in protocol_list]\n",
    "protocol_time_array.insert(0, 0)\n",
    "protocol_time_array = np.cumsum(protocol_time_array)\n",
    "print(protocol_time_array)"
   ]
  },
  {
   "cell_type": "code",
   "execution_count": null,
   "id": "13",
   "metadata": {},
   "outputs": [],
   "source": [
    "\n",
    "\"\"\"\n",
    "# step 3: create the relevant storage protocol and computation protocol\n",
    "\"\"\"\n",
    "computation_protocol_parameter_dict = coupled_fq_protocol_library.customizedProtocol(initial_parameter_dict, \\\n",
    "                                                                    protocol_list)\n",
    "storage_protocol, comp_protocol = create_system(computation_protocol_parameter_dict)\n",
    "\n",
    "# comp_protocol.protocol_array[0].interpolation = \"inverted_quadratic\""
   ]
  },
  {
   "cell_type": "code",
   "execution_count": null,
   "id": "14",
   "metadata": {},
   "outputs": [],
   "source": []
  },
  {
   "cell_type": "code",
   "execution_count": null,
   "id": "15",
   "metadata": {},
   "outputs": [],
   "source": [
    "\"\"\"\n",
    "# step 4: create the coupled_fq_runner\n",
    "\"\"\"\n",
    "cfqr = cfq_runner.coupledFluxQubitRunner(potential = coupled_fq_pot, params = params, \\\n",
    "                                                storage_protocol= storage_protocol, \\\n",
    "                                                computation_protocol= comp_protocol, measure_all_states=True)\n",
    "cfqr.initialize_sim()\n",
    "# cfqr.set_sim_attributes(extra_constraint=extra_constraint_00_and_11_only)\n",
    "cfqr.set_sim_attributes()\n",
    "init_state_saved = cfqr.init_state\n"
   ]
  },
  {
   "cell_type": "code",
   "execution_count": null,
   "id": "16",
   "metadata": {},
   "outputs": [],
   "source": []
  },
  {
   "cell_type": "markdown",
   "id": "17",
   "metadata": {
    "tags": []
   },
   "source": [
    "# potential shape check"
   ]
  },
  {
   "cell_type": "code",
   "execution_count": null,
   "id": "18",
   "metadata": {},
   "outputs": [],
   "source": [
    "import edward_tools.Analysis_tool.minimum_value_of_potential as minimum_value_of_potential\n",
    "import importlib\n",
    "general_analysis_tool = importlib.reload(general_analysis_tool)\n",
    "# minimum_point_data = minimum_value_of_potential.obtain_minimum_points(cfqr, protocol_time_array, beta_1, beta_2, d_beta_1, d_beta_2)\n",
    "# minimum_points = [d['coordinate'] for d in minimum_point_data]\n",
    "# minimum_points_potential = np.array([d['min_E'] for d in minimum_point_data])\n",
    "# energy_profile_array = []\n",
    "# print(minimum_points, minimum_points_potential)"
   ]
  },
  {
   "cell_type": "code",
   "execution_count": null,
   "id": "19",
   "metadata": {},
   "outputs": [],
   "source": [
    "checkInitial = False\n",
    "if checkInitial:\n",
    "    cfqr.show_initial_state()\n",
    "    \n",
    "    \n",
    "    general_analysis_tool.showParametersVsTime(cfqr, protocol_time_array)"
   ]
  },
  {
   "cell_type": "code",
   "execution_count": null,
   "id": "20",
   "metadata": {},
   "outputs": [],
   "source": []
  },
  {
   "cell_type": "code",
   "execution_count": null,
   "id": "21",
   "metadata": {},
   "outputs": [],
   "source": []
  },
  {
   "cell_type": "markdown",
   "id": "22",
   "metadata": {},
   "source": [
    "# actual simulations"
   ]
  },
  {
   "cell_type": "code",
   "execution_count": null,
   "id": "23",
   "metadata": {},
   "outputs": [],
   "source": [
    "manual_domain=[np.array([-5, -5])/time_scale_factor, np.array([5, 5])/time_scale_factor]\n",
    "mapping_state_1_to_state_2_dict = {\"00\": [\"00\", \"10\"], \"01\": [\"00\", \"10\"], \"10\": [\"01\", \"11\"], \"11\": [\"01\", \"11\"]}"
   ]
  },
  {
   "cell_type": "code",
   "execution_count": null,
   "id": "24",
   "metadata": {},
   "outputs": [],
   "source": [
    "simResult = cfq_batch_sweep.simulateSingleCoupledFluxQubit(params, initial_parameter_dict, protocol_list, \\\n",
    "                        potential = coupled_fq_pot, potential_default_param = coupled_fq_default_param,            \n",
    "                        initial_state = init_state_saved, manual_domain = manual_domain, \\\n",
    "                        phi_1_dcx = phi_1_dcx,  phi_2_dcx = phi_2_dcx, \\\n",
    "                        percentage = 1, as_step = np.s_[::], measure_all_states=True)"
   ]
  },
  {
   "cell_type": "markdown",
   "id": "25",
   "metadata": {},
   "source": [
    "# Fidelity"
   ]
  },
  {
   "cell_type": "code",
   "execution_count": null,
   "id": "26",
   "metadata": {},
   "outputs": [],
   "source": [
    "simResult[\"fidelity\"]"
   ]
  },
  {
   "cell_type": "code",
   "execution_count": null,
   "id": "27",
   "metadata": {},
   "outputs": [],
   "source": []
  },
  {
   "cell_type": "markdown",
   "id": "28",
   "metadata": {},
   "source": [
    "# work analysis"
   ]
  },
  {
   "cell_type": "code",
   "execution_count": null,
   "id": "29",
   "metadata": {},
   "outputs": [],
   "source": [
    "# %%notify\n",
    "step_time_array = np.cumsum(np.array([x[\"duration\"] for x in protocol_list]))/params['dt']\n",
    "name_array = [x[\"name\"] for x in protocol_list]\n",
    "\n",
    "\n",
    "plt.hist(simResult[\"work_distribution\"], bins = 45)\n",
    "plt.show()\n",
    "mean_work = np.mean(simResult[\"work_distribution\"])\n",
    "jarzyn_term = np.mean(np.exp(-simResult[\"work_distribution\"]))\n",
    "\n",
    "print(params['comment'])\n",
    "print(\"sim_id = \", simResult['simulation_data'])\n",
    "print(f\"N = {params['N']}, dt = {params['dt']}\")\n",
    "print(f\"phi_1dcx_on: {phi_1_dcx_on}, phi_2dcx_on: {phi_2_dcx_on}, M_12_on: {M_12_on}\")\n",
    "print(f\"L_factor = {L_factor}, C_factor = {C_factor}, I_m_factor = {I_m_factor}, gamma = {gamma}\")\n",
    "print([x[\"duration\"] for x in protocol_list])\n",
    "print(f'jarzyn = {jarzyn_term}, mean work = {mean_work}')\n"
   ]
  },
  {
   "cell_type": "code",
   "execution_count": null,
   "id": "30",
   "metadata": {},
   "outputs": [],
   "source": [
    "\n",
    "step_array = np.arange(simResult[\"work_statistic\"][:,0].shape[0])\n",
    "skip_step = int(len(step_array) * 0.01)\n",
    "work_mean = simResult[\"work_statistic\"][:,0]\n",
    "work_std = simResult[\"work_statistic\"][:,1]\n",
    "\n",
    "coarse_step_array = step_array[::skip_step]\n",
    "coarse_step_array = np.append(coarse_step_array, step_array[-1])\n",
    "coarse_work_mean_array = work_mean[::skip_step]\n",
    "coarse_work_mean_array = np.append(coarse_work_mean_array, work_mean[-1])\n",
    "coarse_work_std_array = np.append(work_std[::skip_step], work_std[-1])\n",
    "\n",
    "plt.errorbar(coarse_step_array, coarse_work_mean_array, yerr = coarse_work_std_array)\n",
    "# plt.yscale('log')\n",
    "\n",
    "for i, t in enumerate(step_time_array):\n",
    "    plt.axvline(x = t, color = 'b', label = 'axvline - full height')\n",
    "    # plt.text('2017-07-02 16:30:00',0.005,'BigNews1',rotation=90,va='top')\n",
    "    plt.annotate(f\"{i+1}\", \n",
    "            xy=(t, 4.5),  \n",
    "            # xytext=(quantile_75, 2.05*1e9),\n",
    "            color='red', \n",
    "            ha='center', \n",
    "            size=16)\n",
    "\n",
    "first_half = work_mean[0: len(work_mean)//2]\n",
    "second_half = work_mean[len(work_mean)//2:][::-1]\n",
    "abs_error = np.abs(first_half - second_half)\n",
    "# plt.plot(step_array[0:len(step_array)//2], abs_error)\n",
    "print(max(abs_error), min(abs_error))\n",
    "print(f'jarzyn = {jarzyn_term}')\n",
    "print([x[\"duration\"] for x in protocol_list])"
   ]
  },
  {
   "cell_type": "code",
   "execution_count": null,
   "id": "31",
   "metadata": {},
   "outputs": [],
   "source": [
    "minimum_value_of_potential = importlib.reload(minimum_value_of_potential)"
   ]
  },
  {
   "cell_type": "code",
   "execution_count": null,
   "id": "32",
   "metadata": {},
   "outputs": [],
   "source": [
    "potential_type_and_time_array = list(zip(protocol_time_array, [\"four_well\", \"mix_in_y\", \"mix_in_y\", \"conditional_tilt_in_y\", \"conditional_tilt_in_x\", \"mix_in_x\", \"mix_in_x\", \"four_well\"]))\n",
    "minimum_point_data_array = minimum_value_of_potential.obtain_minimum_points(cfqr, potential_type_and_time_array, beta_1, beta_2, d_beta_1, d_beta_2, verbose = False)\n",
    "\n",
    "# offset_value = np.array([d['min_E'] for d in minimum_point_data_array])\n",
    "offset_value = np.array([ 99.89691102, 105.27414166,  56.69629202,  52.14918188, 52.14918188,  56.69629202, 105.27414166,  99.89691102])\n",
    "offset_value = offset_value[1:] - offset_value[:-1]"
   ]
  },
  {
   "cell_type": "code",
   "execution_count": null,
   "id": "33",
   "metadata": {},
   "outputs": [],
   "source": [
    "offset_value"
   ]
  },
  {
   "cell_type": "code",
   "execution_count": null,
   "id": "34",
   "metadata": {},
   "outputs": [],
   "source": [
    "# work_done_of_each_step = general_analysis_tool.get_work_done_from_time_array(params, work_mean, protocol_time_array, offset_value)"
   ]
  },
  {
   "cell_type": "code",
   "execution_count": null,
   "id": "35",
   "metadata": {},
   "outputs": [],
   "source": [
    "\n",
    "# target_time_index = np.array(protocol_time_array)/params['dt']\n",
    "# target_time_index = target_time_index.astype(\"int\") - 1\n",
    "\n",
    "# work_done_array = [work_mean[i] for i in target_time_index[1:]]\n",
    "# work_done_array.insert(0, 0)\n",
    "# work_done_of_each_step = np.array(work_done_array)[1:] - np.array(work_done_array)[:-1]\n",
    "\n",
    "# work_done_after_offset = work_done_of_each_step - offset_value\n"
   ]
  },
  {
   "cell_type": "code",
   "execution_count": null,
   "id": "36",
   "metadata": {},
   "outputs": [],
   "source": [
    "# offset_value"
   ]
  },
  {
   "cell_type": "code",
   "execution_count": null,
   "id": "37",
   "metadata": {},
   "outputs": [],
   "source": [
    "# print(\"Third way to split the steps: (E, 0-1), (M. 2), (C: 3-6)\")\n",
    "# print(f\"work_done = {work_done_of_each_step}\" )\n",
    "# print(f\"work_offset = {work_done_after_offset}\")\n",
    "# print(\"measurement + reset = \", work_done_after_offset[0] + work_done_after_offset[1] + work_done_after_offset[2] )\n",
    "# print(\"control = \", work_done_after_offset[3] + work_done_after_offset[4] + work_done_after_offset[5] + work_done_after_offset[6])\n",
    "# print(sum(work_done_after_offset))"
   ]
  },
  {
   "cell_type": "code",
   "execution_count": null,
   "id": "38",
   "metadata": {},
   "outputs": [],
   "source": [
    "\n",
    "# print(\"First way to split the steps: (E, 5-6), (M, 0-2), (C: 3-4)\")\n",
    "# print(f\"work_done = {work_done_of_each_step}\" )\n",
    "# print(f\"work_offset = {work_done_after_offset}\")\n",
    "# print(\"measurement + reset = \", work_done_after_offset[0] + work_done_after_offset[1] + work_done_after_offset[2] + work_done_after_offset[5] + work_done_after_offset[6] )\n",
    "# print(\"control = \", work_done_after_offset[3] + work_done_after_offset[4] )\n",
    "# print(sum(work_done_after_offset))"
   ]
  },
  {
   "cell_type": "code",
   "execution_count": null,
   "id": "39",
   "metadata": {},
   "outputs": [],
   "source": []
  },
  {
   "cell_type": "markdown",
   "id": "40",
   "metadata": {},
   "source": [
    "# animations"
   ]
  },
  {
   "cell_type": "code",
   "execution_count": null,
   "id": "41",
   "metadata": {},
   "outputs": [],
   "source": [
    "# animations\n",
    "vmin, vmax = 0, 100\n",
    "frame_skip = 20000\n",
    "# phi_1_dc, phi_2_dc = phi_1_dcx, phi_2_dcx\n",
    "particle_number = 0\n",
    "# all_state = simResult[\"cfqr\"].sim.output.all_state['states'][particle_number:particle_number+1, :, :, :]\n",
    "all_state = simResult[\"cfqr\"].sim.output.all_state['states']\n",
    "simResult[\"cfqr\"].system.protocol_list = protocol_list\n",
    "time_range = (computation_protocol_parameter_dict[\"t\"][0], computation_protocol_parameter_dict[\"t\"][-1])\n",
    "\n",
    "ani,_,_ = animate_sim_flux_qubit(all_state, system = simResult[\"cfqr\"].system ,\n",
    "                                   times = time_range, frame_skip=frame_skip, color_by_state=True,\n",
    "                                   vmin = vmin, vmax = vmax,\n",
    "                                   manual_domain = manual_domain)"
   ]
  },
  {
   "cell_type": "code",
   "execution_count": null,
   "id": "42",
   "metadata": {},
   "outputs": [],
   "source": [
    "# from IPython.display import HTML\n",
    "from IPython import display\n",
    "video = ani.to_html5_video()\n",
    "html = display.HTML(video)\n",
    "display.display(html)"
   ]
  },
  {
   "cell_type": "markdown",
   "id": "43",
   "metadata": {},
   "source": []
  },
  {
   "cell_type": "code",
   "execution_count": null,
   "id": "44",
   "metadata": {},
   "outputs": [],
   "source": [
    "def plot_work_dist_with_time(cfqr, skipNumber = 2000):\n",
    "    work_dist_time_array = cfqr.sim.work_dist_time_array\n",
    "    step_time_array = np.array(cfqr.sim.output.all_state[\"step_indices\"]) * params['dt']\n",
    "    \n",
    "    fig, ax = plt.subplots(1, 1)\n",
    "    fig.set_size_inches(5,5)\n",
    "    points = [(0.1, 0.5), (0.5, 0.5), (0.9, 0.5)]\n",
    "    _skipped_work_dist_time_array = work_dist_time_array[::skipNumber]\n",
    "    _skipped_step_time_array = step_time_array[::skipNumber]\n",
    "    \n",
    "    def animate(i):\n",
    "        ax.clear()\n",
    "        # Get the point from the points list at index i\n",
    "        _dist = _skipped_work_dist_time_array[i]\n",
    "        work_min = np.min(_dist) - 5\n",
    "        work_max = np.max(_dist) + 5\n",
    "        bins = np.linspace(work_min, work_max, 50)\n",
    "\n",
    "        # Plot that point using the x and y coordinates\n",
    "        ax.hist(_dist, bins = bins)\n",
    "        ax.set_title(f\"t = {_skipped_step_time_array[i]}\")\n",
    "        # Set the x and y axis to display a fixed range\n",
    "    ani = animation.FuncAnimation(fig, animate, frames=len(_skipped_work_dist_time_array),\n",
    "                        interval=100, repeat=False)\n",
    "    plt.close()\n",
    "    return ani"
   ]
  },
  {
   "cell_type": "code",
   "execution_count": null,
   "id": "45",
   "metadata": {},
   "outputs": [],
   "source": [
    "work_dist_time_array = simResult['cfqr'].sim.work_dist_time_array"
   ]
  },
  {
   "cell_type": "code",
   "execution_count": null,
   "id": "46",
   "metadata": {},
   "outputs": [],
   "source": [
    "html = display.HTML(plot_work_dist_with_time(simResult['cfqr']).to_html5_video())\n"
   ]
  },
  {
   "cell_type": "code",
   "execution_count": null,
   "id": "47",
   "metadata": {},
   "outputs": [],
   "source": [
    "display.display(html)\n"
   ]
  },
  {
   "cell_type": "code",
   "execution_count": null,
   "id": "48",
   "metadata": {},
   "outputs": [],
   "source": []
  },
  {
   "cell_type": "markdown",
   "id": "49",
   "metadata": {
    "jp-MarkdownHeadingCollapsed": true,
    "tags": []
   },
   "source": [
    "# phi_1dc, phi_2dc and gamma"
   ]
  },
  {
   "cell_type": "code",
   "execution_count": null,
   "id": "50",
   "metadata": {},
   "outputs": [],
   "source": [
    "general_analysis_tool = importlib.reload(general_analysis_tool)\n",
    "general_analysis_tool.show_phi_dc_with_time(simResult['cfqr'], params)"
   ]
  },
  {
   "cell_type": "code",
   "execution_count": null,
   "id": "51",
   "metadata": {},
   "outputs": [],
   "source": []
  },
  {
   "cell_type": "markdown",
   "id": "52",
   "metadata": {},
   "source": [
    "# save result"
   ]
  },
  {
   "cell_type": "code",
   "execution_count": null,
   "id": "53",
   "metadata": {},
   "outputs": [],
   "source": [
    "params['comment'] = \"Experiment 5c (2024/2/24): try to use M_12 = -0.3, for the erasure process\"\n"
   ]
  },
  {
   "cell_type": "code",
   "execution_count": null,
   "id": "54",
   "metadata": {},
   "outputs": [],
   "source": [
    "print(f\"current comment: {params['comment']}\")\n",
    "response = input(\"Are you happy with the current comment? If not, give me a new comment.\")\n",
    "if response == \"y\":\n",
    "    pass\n",
    "else:\n",
    "    params['comment'] = response"
   ]
  },
  {
   "cell_type": "code",
   "execution_count": null,
   "id": "55",
   "metadata": {},
   "outputs": [],
   "source": [
    "cfq_batch_sweep.saveSimulationResult(simResult, U0_1, timeOrStep = 'step', save = True, save_final_state = False, saveFolderPath = \"coupled_flux_qubit_protocol/coupled_flux_qubit_data_gallery\")"
   ]
  },
  {
   "cell_type": "code",
   "execution_count": null,
   "id": "56",
   "metadata": {},
   "outputs": [],
   "source": []
  },
  {
   "cell_type": "code",
   "execution_count": null,
   "id": "57",
   "metadata": {},
   "outputs": [],
   "source": []
  },
  {
   "cell_type": "markdown",
   "id": "58",
   "metadata": {},
   "source": [
    "# save results"
   ]
  },
  {
   "cell_type": "code",
   "execution_count": null,
   "id": "59",
   "metadata": {},
   "outputs": [],
   "source": []
  },
  {
   "cell_type": "code",
   "execution_count": null,
   "id": "60",
   "metadata": {},
   "outputs": [],
   "source": [
    "cfq_batch_sweep.saveSimulationResult(simResult, U0_1, timeOrStep = 'step', save = True, save_final_state = False)"
   ]
  },
  {
   "cell_type": "code",
   "execution_count": null,
   "id": "61",
   "metadata": {},
   "outputs": [],
   "source": [
    "simResult['simulation_data']"
   ]
  }
 ],
 "metadata": {
  "kernelspec": {
   "display_name": "Python 3 (ipykernel)",
   "language": "python",
   "name": "python3"
  },
  "language_info": {
   "codemirror_mode": {
    "name": "ipython",
    "version": 3
   },
   "file_extension": ".py",
   "mimetype": "text/x-python",
   "name": "python",
   "nbconvert_exporter": "python",
   "pygments_lexer": "ipython3",
   "version": "3.10.9"
  }
 },
 "nbformat": 4,
 "nbformat_minor": 5
}
