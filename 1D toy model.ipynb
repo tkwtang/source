{
 "cells": [
  {
   "cell_type": "code",
   "execution_count": null,
   "id": "0",
   "metadata": {},
   "outputs": [],
   "source": [
    "\n",
    "import numpy as np\n",
    "import importlib, os, datetime, sys\n",
    "sys.path.append(os.path.expanduser('~/source'))\n",
    "\n",
    "from sus.protocol_designer import System, Protocol, Potential, Compound_Protocol\n",
    "from sus.protocol_designer.protocol import sequential_protocol\n",
    "from IPython import display\n",
    "from IPython.display import HTML, Image\n",
    "import matplotlib.animation as animation\n",
    "from matplotlib.animation import FuncAnimation, PillowWriter\n",
    "import matplotlib.pyplot as plt\n",
    "\n",
    "from quick_sim import setup_sim"
   ]
  },
  {
   "cell_type": "markdown",
   "id": "1",
   "metadata": {},
   "source": [
    "# self define function"
   ]
  },
  {
   "cell_type": "code",
   "execution_count": null,
   "id": "2",
   "metadata": {},
   "outputs": [],
   "source": [
    "from numba import njit\n",
    "\n",
    "@njit\n",
    "def binary_partition(positions, boundary=0):\n",
    "    '''\n",
    "    takes a set of position coordinates and sets each value to either 0 or 1 depending on if it is below or above the boundary\n",
    "    '''\n",
    "    return (np.sign(positions-boundary)+1)/2\n",
    "\n",
    "\n",
    "def separate_by_state_in_full_form(state, **kwargs):\n",
    "    bool_array_0 = binary_partition(state[:, 0, 0]) == 0\n",
    "    bool_array_1 = binary_partition(state[:, 0, 0]) == 1.\n",
    "\n",
    "    return {\n",
    "        \"0\": bool_array_0, \"1\": bool_array_1,\n",
    "    }\n",
    "\n"
   ]
  },
  {
   "cell_type": "code",
   "execution_count": null,
   "id": "3",
   "metadata": {},
   "outputs": [],
   "source": [
    "\n",
    "def customizedProtocol(initial_values_dict, protocol_list, normalized = False):\n",
    "    protocol_key_array = initial_values_dict.keys()\n",
    "    protocol_parameter_dict = {key: [value] for key, value in initial_values_dict.items()}\n",
    "    protocol_parameter_dict[\"t\"] = [0.0]\n",
    "\n",
    "\n",
    "    for item in protocol_list:\n",
    "        # add the duration to the time entry of the protocol_parameter_dict\n",
    "        protocol_parameter_dict[\"t\"].append(protocol_parameter_dict[\"t\"][-1] + item[\"duration\"])\n",
    "\n",
    "        for key in protocol_key_array:\n",
    "            if key in item.keys(): # to check which key is present in the protocol_list_item.\n",
    "                protocol_parameter_dict[key].append(item[key])\n",
    "            else:\n",
    "                protocol_parameter_dict[key].append(protocol_parameter_dict[key][-1])\n",
    "\n",
    "    if normalized:\n",
    "        protocol_parameter_dict[\"t\"] = np.array(protocol_parameter_dict[\"t\"])/ np.max(protocol_parameter_dict[\"t\"])\n",
    "\n",
    "    return protocol_parameter_dict\n"
   ]
  },
  {
   "cell_type": "code",
   "execution_count": null,
   "id": "4",
   "metadata": {},
   "outputs": [],
   "source": [
    "def create_system(protocol_parameter_dict, domain = None, modifiedFunction = None):\n",
    "    \"\"\"\n",
    "    This function is used to produce the storage and computation protocol\n",
    "\n",
    "    input:\n",
    "    1. comp_protocol_parameter_dict:\n",
    "    - a dictionary contains the an array of time, which represents the time point at which the protocol is changed\n",
    "    - the key is the name of the parameter\n",
    "    - for parameters, they are arrays containing the value of the parameter at the particular time point\n",
    "\n",
    "    2. modifiedFunction:\n",
    "    - To modify the simple linear parametrization of the value\n",
    "    - You can use more complex method to get the values such as calculate the value of phi_1x based on the value of other parameters\n",
    "    \n",
    "    output:\n",
    "    1. comp_prototocl: the protocol for the computation system\n",
    "    2. storage_protocol: : the protocol for the equilibrium system\n",
    "    \"\"\"\n",
    "    protocol_key = [x for x in computation_protocol_parameter_dict.keys() if x != \"t\"]\n",
    "\n",
    "    # storage protocol, just take the first and last element of each term in the protocol key from the dict to form the storage protocol\n",
    "    storage_t = (protocol_parameter_dict[\"t\"][0], protocol_parameter_dict[\"t\"][-1])\n",
    "    storage_protocol_parameter_time_series = [np.array([protocol_parameter_dict[key][0], protocol_parameter_dict[key][-1]]) for key in protocol_key]\n",
    "    storage_protocol_parameter_time_series = np.array(storage_protocol_parameter_time_series)\n",
    "    storage_protocol = Protocol(storage_t, storage_protocol_parameter_time_series)\n",
    "    storage_protocol.modifiedFunction = None\n",
    "    # computation protocol, this part form the time series of the comp_protocol and join them to form Compound_Protocol\n",
    "    comp_protocol_array = []\n",
    "    comp_t = protocol_parameter_dict[\"t\"]\n",
    "    comp_protocol_parameter_time_series = [protocol_parameter_dict[key] for key in protocol_key]\n",
    "    comp_protocol_parameter_time_series = np.array(comp_protocol_parameter_time_series).T\n",
    "\n",
    "    if modifiedFunction == None:\n",
    "        modifiedFunction = [None for _ in range(len(comp_t)-1)]\n",
    "    \n",
    "    for i in range(len(comp_t)-1):\n",
    "        n_th_comp_time_array = (comp_t[i], comp_t[i+1])\n",
    "        n_th_comp_protocol_parameter_array = np.array([comp_protocol_parameter_time_series[i], comp_protocol_parameter_time_series[i+1]]).T # in the form of array of [(p_n_i, p_n_f)]\n",
    "        _p = Protocol(n_th_comp_time_array, n_th_comp_protocol_parameter_array)\n",
    "        \n",
    "        _p.modifiedFunction = modifiedFunction[i]\n",
    "        comp_protocol_array.append(_p)\n",
    "    comp_protocol = Compound_Protocol(comp_protocol_array)\n",
    "    comp_protocol.protocol_array  = comp_protocol_array\n",
    "\n",
    "    return storage_protocol, comp_protocol"
   ]
  },
  {
   "cell_type": "code",
   "execution_count": null,
   "id": "5",
   "metadata": {},
   "outputs": [],
   "source": [
    "def protocol_item(potential_params, duration, name):\n",
    "    _item = potential_params.copy()\n",
    "    _item['duration'] = duration\n",
    "    _item['name'] = name\n",
    "    return _item\n",
    "\n",
    "from scipy import optimize\n",
    "def first_derivative_of_pot_function(circuit_params):\n",
    "    a = circuit_params[\"a\"]\n",
    "    b = circuit_params[\"b\"]\n",
    "    c = circuit_params[\"c\"]\n",
    "    d = circuit_params[\"d\"]\n",
    "    def Fcn(x):\n",
    "        return 4 * a * x**3 + 3 * b * x**2 + 2 * c * x + d\n",
    "    return Fcn\n",
    "\n",
    "def first_derivative_of_pot_function(circuit_params):\n",
    "    beta_1 = circuit_params[\"beta_1\"]\n",
    "    phi_1xdc = circuit_params[\"phi_1xdc\"]\n",
    "    \n",
    "    def Fcn(x):\n",
    "        return 1/2 * x**2 + beta_1 * np.cos(x) * np.cos(phi_1xdc/2)\n",
    "    return Fcn\n",
    "\n",
    "\n",
    "def find_all_critical_points_for_all_potential(circuit_params, guess = [-2, 0, 2]):\n",
    "    \"\"\"\"\n",
    "    To find all the critical points, including the saddle, minimum and maximum points, of the potential function\n",
    "    \"\"\"\n",
    "    critical_points = [optimize.fsolve(first_derivative_of_pot_function(circuit_params), _g) for _g in guess]\n",
    "\n",
    "    # energy_set = [coupled_flux_qubit_non_linear_approx_pot(sol[0], sol[1], _phi_1dcx, _phi_2dcx, _params_at_t) for sol in solution_set]\n",
    "    print(\"This is the critical Potential\")\n",
    "    return critical_points\n",
    "    "
   ]
  },
  {
   "cell_type": "code",
   "execution_count": null,
   "id": "6",
   "metadata": {},
   "outputs": [],
   "source": [
    "def qfp_1D_dimensionless_potential(x, params):\n",
    "    beta_1, phi_1xdc = params\n",
    "    return 1/2 * x**2 + beta_1 * np.cos(x) * np.cos(phi_1xdc/2)\n",
    "\n",
    "def first_derivative_of_qfp_1D_dimensionless_potential_function(circuit_params):\n",
    "    beta_1 = circuit_params[\"beta_1\"]\n",
    "    phi_1xdc = circuit_params[\"phi_1xdc\"]\n",
    "    \n",
    "    def Fcn(x):\n",
    "        return 1/2 * x**2 + beta_1 * np.cos(x) * np.cos(phi_1xdc/2)\n",
    "    return Fcn\n",
    "\n",
    "\n",
    "fig, ax = plt.subplots(1, 1, figsize = [5, 5])\n",
    "initial_parameter_dict = {'beta_1': 2.0, 'phi_1xdc': 0}\n",
    "guess = [-2, 2]\n",
    "U_ratio = 0 \n",
    "max_barrier_height = 20\n",
    "\n",
    "\n",
    "for i, param_dict in enumerate([initial_parameter_dict]):\n",
    "    x_array = np.linspace(-4, 4, 100)\n",
    "    PE_array = qfp_1D_dimensionless_potential(x_array, params = param_dict.values())\n",
    "    critical_points = [optimize.fsolve(first_derivative_of_qfp_1D_dimensionless_potential_function(initial_parameter_dict), _g) for _g in guess] + [0]\n",
    "    critical_points_PE = [qfp_1D_dimensionless_potential(x, param_dict.values()) for x in critical_points]\n",
    "    barrier_height = critical_points_PE[2] - critical_points_PE[0]\n",
    "    print(critical_points)\n",
    "    print(f\"U_ratio = {max_barrier_height / barrier_height}\")\n",
    "    U_ratio = float(max_barrier_height / barrier_height)\n",
    "\n",
    "    ax.plot(x_array, PE_array)\n",
    "    # ax.scatter(critical_points, critical_points_PE)\n",
    "    ax.set_xlim(-4, 4)\n",
    "    # ax.set_ylim(1.17, 1.244)\n",
    "\n",
    "delta_U_unitless = 1.17, 1.244"
   ]
  },
  {
   "cell_type": "code",
   "execution_count": null,
   "id": "7",
   "metadata": {},
   "outputs": [],
   "source": []
  },
  {
   "cell_type": "markdown",
   "id": "8",
   "metadata": {},
   "source": [
    "# circuit parameters"
   ]
  },
  {
   "cell_type": "code",
   "execution_count": null,
   "id": "9",
   "metadata": {},
   "outputs": [],
   "source": [
    "has_velocity = True\n",
    "\n",
    "PHI_0 = 2.067833848 * 1e-15\n",
    "k_B = 1.38e-23\n",
    "T = 0.5\n",
    "# T = 7\n",
    "k_BT = k_B * T\n",
    "\n",
    "C_factor = 1\n",
    "L_factor = 1\n",
    "R_factor = 100\n",
    "# I_m_factor = 50\n",
    "# I_m_factor = 15\n",
    "I_m_factor = 0\n",
    "time_scale = 1.0\n",
    "\n",
    "\n",
    "I_p_1, I_p_2 = 5e-6 , 5e-6  # Amp\n",
    "I_m_1, I_m_2 = 7e-9 * I_m_factor, 7e-9 * I_m_factor                           # Amp\n",
    "R_1, R_2 = 1 * R_factor, 1 * R_factor                                         # ohm\n",
    "C_1, C_2 = 500e-15 * C_factor, 500e-15 * C_factor                             # F\n",
    "\n",
    "L_1, L_2 = 140e-12 * L_factor, 140e-12 * L_factor                             # H \n",
    "# L_1, L_2 = 5e-12 * L_factor, 5e-12 * L_factor                             # H \n",
    "freq = 1/np.sqrt(C_1 * L_1)\n",
    "characteristic_time = np.sqrt(C_1 * C_factor * L_1 * L_factor)\n",
    "print(f\"freq = {freq / 1e9:.3f}GHz, characteristic_time  = {characteristic_time * 1e12:.3f}ps\")\n"
   ]
  },
  {
   "cell_type": "code",
   "execution_count": null,
   "id": "10",
   "metadata": {
    "tags": []
   },
   "outputs": [],
   "source": [
    "\n",
    "m_c = C_1\n",
    "m_1 = C_1\n",
    "m_2 = C_2\n",
    "x_c = PHI_0 / (2 * np.pi)\n",
    "time_scale_factor = 1\n",
    "t_c = np.sqrt(L_1 * C_1)\n",
    "v_c = x_c / t_c\n",
    "\n",
    "\n",
    "U0_1 = m_c * x_c**2 / t_c**2 / k_BT\n",
    "U0_2 = m_2 * x_c**2 / t_c**2 / k_BT\n",
    "kappa_1, kappa_2, kappa_3, kappa_4 = 1/U0_1, 1/U0_1, 1/U0_1, 1/U0_1\n",
    "\n",
    "lambda_1 = 2 * np.sqrt(L_1 * C_1) / (C_1 * R_1)\n",
    "theta_1  = 1\n",
    "eta_1    = np.sqrt(np.sqrt(L_1 * C_1)/ (R_1 * C_1)) * np.sqrt(2 * kappa_1 / 1**2)\n",
    "\n",
    "lambda_2 = 2 * np.sqrt(L_1 * C_1) / (C_2 * R_2)\n",
    "theta_2  = 1 / (C_2/C_1)\n",
    "eta_2    = np.sqrt(np.sqrt(L_1 * C_1)/ (R_1 * C_1)) * np.sqrt(2 * kappa_2 * (R_1 * C_1**2) / (R_2 * C_2**2))\n",
    "\n",
    "lambda_3 = 2 * np.sqrt(L_1 * C_1) / (C_1 * R_1)\n",
    "theta_3  = 4\n",
    "eta_3    = np.sqrt(np.sqrt(L_1 * C_1)/ (R_1 * C_1)) * np.sqrt(8 * kappa_3)\n",
    "\n",
    "lambda_4 = 2 * np.sqrt(L_1 * C_1) / (C_2 * R_2)\n",
    "theta_4  = 4 / (C_2/C_1)\n",
    "eta_4    = np.sqrt(np.sqrt(L_1 * C_1)/ (R_1 * C_1)) * np.sqrt(8 * kappa_4 * (R_1 * C_1**2) / (R_2 * C_2**2))\n",
    "\n",
    "gamma = 10\n",
    "\n",
    "\n",
    "beta_1 = 2 * np.pi * L_1 * I_p_1 / PHI_0; \n",
    "beta_2 = 2 * np.pi * L_2 * I_p_2 / PHI_0;\n",
    "\n",
    "beta_1 = 2.3\n",
    "beta_2 = 2.3\n",
    "\n",
    "d_beta_1 = 2 * np.pi * L_1 * I_m_1 / PHI_0; \n",
    "d_beta_2 = 2 * np.pi * L_2 * I_m_2 / PHI_0;\n",
    "\n",
    "_lambda = np.array([lambda_1])\n",
    "_theta  = np.array([theta_1])\n",
    "_eta  =   np.array([eta_1])"
   ]
  },
  {
   "cell_type": "code",
   "execution_count": null,
   "id": "11",
   "metadata": {},
   "outputs": [],
   "source": [
    "_lambda"
   ]
  },
  {
   "cell_type": "code",
   "execution_count": null,
   "id": "12",
   "metadata": {},
   "outputs": [],
   "source": [
    "U0_1 = m_c * x_c**2 / t_c**2 / k_BT\n",
    "U0_1 = U0_1 * 0.06\n",
    "U0_1 = U_ratio\n",
    "print(U0_1)"
   ]
  },
  {
   "cell_type": "markdown",
   "id": "13",
   "metadata": {},
   "source": [
    "### parameter setting"
   ]
  },
  {
   "cell_type": "code",
   "execution_count": null,
   "id": "14",
   "metadata": {},
   "outputs": [],
   "source": [
    "\"\"\"\n",
    "# step 0: modify parameters\n",
    "- All the parameters are stored in a separate file PARAMETER_INPUT\n",
    "- You can override some of the parameters here.\n",
    "\"\"\"\n",
    "params = {}\n",
    "params['N'] = 1000\n",
    "params['dt'] = 1/500\n",
    "params['lambda'] = 1\n",
    "params['beta'] = 1\n",
    "params['sim_params'] = [_lambda, _theta, _eta]\n",
    "params['target_work'] = None\n",
    "params['applyOffset'] = False\n",
    "params['measureWorkWithOffset'] = False\n",
    "params['monitor_work_dist_in_whole_process'] = True # To monitor the work process\n",
    "params['comment'] = \"Experiment 8 (2024/3/17): 4 well, with no compensation for asym, 1/5000\"\n",
    "params['capacitance'] = [C_1]\n",
    "params['mass'] = np.array([1])\n",
    "params['v_c'] = x_c/t_c\n",
    "params['k_BT'] = k_BT\n",
    "params['U0'] = U0_1\n",
    "params['as_step'] = np.s_[::10] # the time step to skep for the all_state\n",
    "params['percentage'] = 1 # For what percentage of the total sample do you want to keep in the output all_state\n"
   ]
  },
  {
   "cell_type": "code",
   "execution_count": null,
   "id": "15",
   "metadata": {},
   "outputs": [],
   "source": []
  },
  {
   "cell_type": "markdown",
   "id": "16",
   "metadata": {},
   "source": [
    "## define potential"
   ]
  },
  {
   "cell_type": "code",
   "execution_count": null,
   "id": "17",
   "metadata": {},
   "outputs": [],
   "source": [
    "def simple_1D_potential(x, params):\n",
    "    a, b, c, d = params\n",
    "    return U0_1 * (a * x**4 + b * x**3 + c * x**2 + d * x)\n",
    "\n",
    "def simple_1D_force(x, params):\n",
    "    a, b, c, d = params\n",
    "    return -(4 * a * x**3 + 3 * b * x**2 + 2 * c * x + d)\n",
    "\n",
    "\n",
    "def quadratic_potential(x, params):\n",
    "    a, b = params\n",
    "    return U0_1 * 1/2 * a * (x - b)**2\n",
    "\n",
    "\n",
    "def quadratic_force(x, params):\n",
    "    a, b = params\n",
    "    return -a * (x - b)\n",
    "\n",
    "def qfp_1D_potential(x, params):\n",
    "    beta_1, phi_1xdc = params\n",
    "    return U_ratio * (1/2 * x**2 + beta_1 * np.cos(x) * np.cos(phi_1xdc/2))\n",
    "\n",
    "def qfp_1D_force(x, params):\n",
    "    beta_1, phi_1xdc = params\n",
    "    return -(x - beta_1 * np.sin(x) * np.cos(phi_1xdc/2))\n",
    "\n",
    "potential_used = quadratic_potential\n",
    "force_used = quadratic_force\n",
    "number_of_parameter = 2\n",
    "param_dict = [1, 0]"
   ]
  },
  {
   "cell_type": "code",
   "execution_count": null,
   "id": "18",
   "metadata": {},
   "outputs": [],
   "source": [
    "U0_1"
   ]
  },
  {
   "cell_type": "code",
   "execution_count": null,
   "id": "19",
   "metadata": {},
   "outputs": [],
   "source": [
    "x_array = np.linspace(-4, 6, 100)\n",
    "PE_array = potential_used(x_array, params = param_dict)\n",
    "PE_array = PE_array - min(PE_array)\n",
    "plt.plot(x_array, PE_array)\n"
   ]
  },
  {
   "cell_type": "code",
   "execution_count": null,
   "id": "20",
   "metadata": {},
   "outputs": [],
   "source": []
  },
  {
   "cell_type": "code",
   "execution_count": null,
   "id": "21",
   "metadata": {
    "tags": []
   },
   "outputs": [],
   "source": [
    "\n",
    "\"\"\"\n",
    "# step 1: Define initial condition and protocol\n",
    "\"\"\"\n",
    "manual_domain=[np.array([-5]), np.array([5])]\n",
    "# initial_parameter_dict = {'a': 10, 'b': 0, 'c': -20, 'd': 0}\n",
    "initial_parameter_dict = {'a': 1/4, 'b': 0, 'c': 1/2, 'd': 0}\n",
    "initial_parameter_dict = {'beta_1': 2.0, 'phi_1xdc': 0}\n",
    "initial_parameter_dict = {'a': 1.0, 'b': 0.0}\n",
    "\n",
    "# initial_parameter_dict = parameter_dict_2.copy()\n",
    "\"\"\"\n",
    "# step 2: Define potential\n",
    "\"\"\"\n",
    "# coupled_fq_pot = Potential(coupled_flux_qubit_pot_with_offset_at_00_xy, coupled_flux_qubit_force, 14, 4,\\\n",
    "#                            default_params = coupled_fq_default_param,  relevant_domain = coupled_fq_domain)\n",
    "\n",
    "coupled_fq_pot = Potential(potential_used, force_used, number_of_parameter, 1, \\\n",
    "                           default_params = initial_parameter_dict,  relevant_domain = manual_domain)"
   ]
  },
  {
   "cell_type": "markdown",
   "id": "22",
   "metadata": {},
   "source": [
    "## define protocol"
   ]
  },
  {
   "cell_type": "code",
   "execution_count": null,
   "id": "23",
   "metadata": {},
   "outputs": [],
   "source": [
    "# parameter_dict_1 = { \"a\": 10,     \"b\":0,     \"c\": -20,  \"d\": 0 }\n",
    "\n",
    "# b_1 = 4\n",
    "# parameter_dict_2 = { \"a\": 0,     \"b\":0,     \"c\": 10,  \"d\": -20 }\n",
    "\n",
    "# b_2 = 1\n",
    "# parameter_dict_3 = { \"a\": 2,     \"b\":-b_2,     \"c\": -4,  \"d\": 3.5 * b_2 }\n",
    "\n",
    "# parameter_dict_4 = { \"a\": 10,     \"b\":0,     \"c\": -20,  \"d\": 0 }\n",
    "\n",
    "# fig, ax = plt.subplots(1, 4, figsize = [20, 5])\n",
    "\n",
    "\n",
    "# for i, param_dict in enumerate([parameter_dict_1, parameter_dict_2, parameter_dict_3, parameter_dict_4]):\n",
    "#     x_array = np.linspace(-4, 4, 100)\n",
    "#     PE_array = simple_1D_potential(x_array, params = param_dict.values())\n",
    "#     critical_points = find_all_critical_points_for_all_potential(param_dict, guess = [-2, 0, 2])\n",
    "#     critical_points_PE = [simple_1D_potential(x, param_dict.values()) for x in critical_points]\n",
    "\n",
    "\n",
    "#     ax[i].plot(x_array, PE_array)\n",
    "#     ax[i].scatter(critical_points, critical_points_PE)\n",
    "#     ax[i].set_xlim(-4, 4)\n",
    "#     # ax[i].set_title(critical_points)\n",
    "#     ax[i].set_ylim(-500, 400)\n",
    "\n",
    "# # ax[1].scatter(final_state_x, final_state_PE)\n",
    "# # ax[1].plot(x_array, PE_final_array)\n",
    "# # ax[1].set_xlim(-4, 4)\n",
    "# # ax[1].set_ylim(-300, 200)"
   ]
  },
  {
   "cell_type": "code",
   "execution_count": null,
   "id": "24",
   "metadata": {},
   "outputs": [],
   "source": []
  },
  {
   "cell_type": "code",
   "execution_count": null,
   "id": "25",
   "metadata": {},
   "outputs": [],
   "source": [
    "zeroDissipation = False\n",
    "zeroDissipation = True\n",
    "saveAllStates = True\n",
    "\n",
    "params['sim_params'] = [_lambda, _theta, _eta]\n",
    "if zeroDissipation:\n",
    "    params['sim_params'] = [_lambda * 0, _theta, _eta * 0]\n",
    "\n",
    "# protocol_list = [\n",
    "#     # {\"duration\": 10, \"a\": 1, \"b\": 0, \"c\": -2, \"d\": 0, \"name\":\"decrease k\"}\n",
    "#     protocol_item(parameter_dict_2, 0.01, \"acceleration_protocol\"),\n",
    "#     protocol_item(parameter_dict_2, 0.03, \"acceleration_protocol\"),\n",
    "#     protocol_item(parameter_dict_3, 0.01, \"decceleration_protocol\"),\n",
    "#     protocol_item(parameter_dict_3, 0.03, \"decceleration_protocol\"),\n",
    "#     protocol_item(parameter_dict_4, 0.01, \"two well\"),\n",
    "#     protocol_item(parameter_dict_4, 10, \"two well\")\n",
    "# ]\n",
    "protocol_1 = {\"a\": 1000, \"b\": 0}\n",
    "\n",
    "protocol_list = [ protocol_item(protocol_1, 1000, \"initial_params\") ]\n",
    "\n",
    "# protocol_list = [ protocol_item(parameter_dict_2, 20, \"acceleration_protocol\") ]"
   ]
  },
  {
   "cell_type": "code",
   "execution_count": null,
   "id": "26",
   "metadata": {},
   "outputs": [],
   "source": [
    "\n",
    "# protocol_list = [{'a': 0,\n",
    "#   'b': 0,\n",
    "#   'c': 2,\n",
    "#   'd': -4,\n",
    "#   'duration': 0.01,\n",
    "#   'name': 'acceleration_protocol'},\n",
    "#  {'a': 0,\n",
    "#   'b': 0,\n",
    "#   'c': 2,\n",
    "#   'd': -4,\n",
    "#   'duration': 0.3,\n",
    "#   'name': 'acceleration_protocol'},\n",
    "#  {'a': 2,\n",
    "#   'b': -1,\n",
    "#   'c': -4,\n",
    "#   'd': 3.5,\n",
    "#   'duration': 0.01,\n",
    "#   'name': 'decceleration_protocol'},\n",
    "#  {'a': 2,\n",
    "#   'b': -1,\n",
    "#   'c': -4,\n",
    "#   'd': 3.5,\n",
    "#   'duration': 0.3,\n",
    "#   'name': 'decceleration_protocol'},\n",
    "#  {'a': 10, 'b': 0, 'c': -20, 'd': 0, 'duration': 0.01, 'name': 'two well'},\n",
    "#  {'a': 10, 'b': 0, 'c': -20, 'd': 0, 'duration': 10, 'name': 'two well'}]"
   ]
  },
  {
   "cell_type": "code",
   "execution_count": null,
   "id": "27",
   "metadata": {},
   "outputs": [],
   "source": [
    "C_1"
   ]
  },
  {
   "cell_type": "markdown",
   "id": "28",
   "metadata": {},
   "source": [
    "## set up cfqr runner"
   ]
  },
  {
   "cell_type": "code",
   "execution_count": null,
   "id": "29",
   "metadata": {},
   "outputs": [],
   "source": [
    "from edward_tools import potential_runner_1D\n",
    "from infoenginessims.simprocedures import basic_simprocedures as sp\n",
    "from infoenginessims.simprocedures import running_measurements as rp\n",
    "from infoenginessims.simprocedures import trajectory_measurements as tp\n",
    "from infoenginessims.simprocedures.basic_simprocedures import ReturnFinalState\n",
    "\n",
    "computation_protocol_parameter_dict = customizedProtocol(initial_parameter_dict, protocol_list)\n",
    "storage_protocol, comp_protocol = create_system(computation_protocol_parameter_dict, modifiedFunction = None)\n",
    "\n",
    "cfqrRunner = potential_runner_1D.simRunner(potential=coupled_fq_pot, params=params, potential_default_param=initial_parameter_dict, storage_protocol = storage_protocol, computation_protocol = comp_protocol , measure_all_states = True, protocol_list = protocol_list, has_velocity = True)\n",
    "cfqrRunner.initialize_sim()\n",
    "\n",
    "cfqrRunner.eq_system.k_BT = k_BT\n",
    "cfqrRunner.eq_system.U0 = U0_1\n",
    "cfqrRunner.eq_system.capacitance = [C_1]\n",
    "cfqrRunner.eq_system.v_c = v_c\n",
    "\n",
    "cfqrRunner.system.k_BT = k_BT\n",
    "cfqrRunner.system.U0 = U0_1\n",
    "cfqrRunner.system.capacitance = [C_1]\n",
    "cfqrRunner.system.v_c = v_c\n",
    "\n",
    "\n",
    "cfqrRunner.procs =  [ sp.ReturnFinalState(), sp.MeasureAllState(), sp.MeasureWorkDone(rp.get_dW), rp.MeasureAllValue(rp.get_dW, 'all_W')]\n"
   ]
  },
  {
   "cell_type": "markdown",
   "id": "30",
   "metadata": {},
   "source": [
    "## init state"
   ]
  },
  {
   "cell_type": "code",
   "execution_count": null,
   "id": "31",
   "metadata": {},
   "outputs": [],
   "source": [
    "init_state_generated = cfqrRunner.eq_system.eq_state(cfqrRunner.params['N'], t=0, beta=cfqrRunner.params['beta'], manual_domain = manual_domain)\n",
    "# print(f\"The mean KE of all particle = {np.mean(cfqrRunner.system.get_kinetic_energy(init_state)):.3g}\")"
   ]
  },
  {
   "cell_type": "code",
   "execution_count": null,
   "id": "32",
   "metadata": {},
   "outputs": [],
   "source": [
    "params[\"N\"]"
   ]
  },
  {
   "cell_type": "code",
   "execution_count": null,
   "id": "33",
   "metadata": {},
   "outputs": [],
   "source": []
  },
  {
   "cell_type": "code",
   "execution_count": null,
   "id": "34",
   "metadata": {},
   "outputs": [],
   "source": [
    "self_defined_init_state = np.array([[[-2, 0]]]*100)\n",
    "gaussian_init_state = np.zeros([1000, 1, 2])\n",
    "gaussian_init_state[:500, 0, 0] = np.random.normal(-2, 0.01, 500)\n",
    "gaussian_init_state[:500, 0, 1] = np.random.normal(0, 0.1, 500)\n",
    "gaussian_init_state[500:, 0, 0] = np.random.normal(2, 0.01, 500)\n",
    "gaussian_init_state[500:, 0, 1] = np.random.normal(0, 0.1, 500)\n",
    "\n",
    "loaded_init_state = np.load(\"saved_init_state/1D_toy_model_init_state.npy\")\n",
    "\n",
    "init_state_used = gaussian_init_state\n",
    "# init_state_used = self_defined_init_state\n",
    "# init_state_used = loaded_init_state\n",
    "# init_state_used = init_state_generated\n",
    "\n",
    "index_0 = separate_by_state_in_full_form(init_state_used)['0']\n",
    "index_1 = separate_by_state_in_full_form(init_state_used)['1']"
   ]
  },
  {
   "cell_type": "code",
   "execution_count": null,
   "id": "35",
   "metadata": {},
   "outputs": [],
   "source": []
  },
  {
   "cell_type": "code",
   "execution_count": null,
   "id": "36",
   "metadata": {},
   "outputs": [],
   "source": [
    "x_array = np.linspace(-4, 4, 100)\n",
    "PE_init_array = potential_used(x_array, params = initial_parameter_dict.values())\n",
    "PE_final_array = potential_used(x_array, params = initial_parameter_dict.values())\n"
   ]
  },
  {
   "cell_type": "code",
   "execution_count": null,
   "id": "37",
   "metadata": {},
   "outputs": [],
   "source": [
    "initial_state_x_0  = init_state_used[index_0, 0, 0]\n",
    "initial_state_PE_0 = cfqrRunner.system.get_potential(init_state_used[index_0], 0)\n",
    "\n",
    "initial_state_x_1  = init_state_used[index_1, 0, 0]\n",
    "initial_state_PE_1 = cfqrRunner.system.get_potential(init_state_used[index_1], 0)"
   ]
  },
  {
   "cell_type": "code",
   "execution_count": null,
   "id": "38",
   "metadata": {},
   "outputs": [],
   "source": [
    "initial_state_PE_0"
   ]
  },
  {
   "cell_type": "code",
   "execution_count": null,
   "id": "39",
   "metadata": {},
   "outputs": [],
   "source": [
    "plt.scatter(initial_state_x_0, initial_state_PE_0, color = \"b\")\n",
    "plt.scatter(initial_state_x_1, initial_state_PE_1, color = \"r\")\n",
    "plt.plot(x_array, PE_init_array - min(PE_init_array))\n",
    "plt.xlim(-4, 4)\n",
    "# plt.ylim(-5, 20)a"
   ]
  },
  {
   "cell_type": "code",
   "execution_count": null,
   "id": "40",
   "metadata": {},
   "outputs": [],
   "source": []
  },
  {
   "cell_type": "code",
   "execution_count": null,
   "id": "41",
   "metadata": {},
   "outputs": [],
   "source": [
    "cfqrRunner.set_sim_attributes(init_state = init_state_used, manual_domain = manual_domain, axes = None, percentage = 1, as_step = np.s_[::], verbose = True, extra_constraint = None)\n",
    "# cfqrRunner.ini_state = init_state\n"
   ]
  },
  {
   "cell_type": "code",
   "execution_count": null,
   "id": "42",
   "metadata": {},
   "outputs": [],
   "source": []
  },
  {
   "cell_type": "markdown",
   "id": "43",
   "metadata": {},
   "source": [
    "# run simulation"
   ]
  },
  {
   "cell_type": "code",
   "execution_count": null,
   "id": "44",
   "metadata": {},
   "outputs": [],
   "source": [
    "simResult = cfqrRunner.sim.run()"
   ]
  },
  {
   "cell_type": "code",
   "execution_count": null,
   "id": "45",
   "metadata": {},
   "outputs": [],
   "source": [
    "protocol_list[-1].values()"
   ]
  },
  {
   "cell_type": "code",
   "execution_count": null,
   "id": "46",
   "metadata": {},
   "outputs": [],
   "source": [
    "final_parmas = list(protocol_list[-1].values())[0:-2]\n",
    "\n",
    "x_array = np.linspace(-4, 4, 100)\n",
    "PE_init_array = potential_used(x_array, params = initial_parameter_dict.values())\n",
    "PE_final_array = potential_used(x_array, params = final_parmas)\n",
    "\n",
    "final_state = simResult.final_state\n",
    "\n",
    "\n",
    "\n",
    "initial_state_x_0  = init_state_used[index_0, 0, 0]\n",
    "initial_state_PE_0 = cfqrRunner.system.get_potential(init_state_used[index_0], 0)\n",
    "\n",
    "initial_state_x_1  = init_state_used[index_1, 0, 0]\n",
    "initial_state_PE_1 = cfqrRunner.system.get_potential(init_state_used[index_1], 0)\n",
    "\n",
    "final_state_x_0 = final_state[index_0, 0, 0]\n",
    "final_state_PE_0 = cfqrRunner.system.get_potential(final_state[index_0], 10)\n",
    "final_state_x_1 = final_state[index_1, 0, 0]\n",
    "final_state_PE_1 = cfqrRunner.system.get_potential(final_state[index_1], 10)\n",
    "\n",
    "\n",
    "fig, ax = plt.subplots(1, 2, figsize = [10, 5])\n",
    "ax[0].scatter(initial_state_x_0, initial_state_PE_0, color = \"b\")\n",
    "ax[0].scatter(initial_state_x_1, initial_state_PE_1, color = \"r\")\n",
    "ax[0].plot(x_array, PE_init_array)\n",
    "ax[0].set_xlim(-4, 4)\n",
    "ax[0].set_ylim(0, 400)\n",
    "\n",
    "ax[1].scatter(final_state_x_0, final_state_PE_0, color = \"b\")\n",
    "ax[1].scatter(final_state_x_1, final_state_PE_1, color = \"r\")\n",
    "ax[1].plot(x_array, PE_final_array)\n",
    "ax[1].set_xlim(-4, 4)\n",
    "ax[1].set_ylim(0, 400)\n",
    "\n",
    "\n",
    "ax[0].set_xlim(-4, 4)\n",
    "# ax[0].set_ylim(-1, 20)\n",
    "ax[1].set_xlim(-4, 4)\n",
    "# ax[1].set_ylim(-1, 20)\n"
   ]
  },
  {
   "cell_type": "code",
   "execution_count": null,
   "id": "47",
   "metadata": {},
   "outputs": [],
   "source": []
  },
  {
   "cell_type": "code",
   "execution_count": null,
   "id": "48",
   "metadata": {},
   "outputs": [],
   "source": [
    "frame_skip = 100\n",
    "end_frame = -1\n",
    "all_state = simResult.all_state['states'][:, :end_frame:frame_skip, ...]\n",
    "targetTimeArray = cfqrRunner.protocol_all_time_array[cfqrRunner.as_step][:end_frame:frame_skip]\n",
    "x_array = np.linspace(-4, 4, 100)\n",
    "\n",
    "fig, ax = plt.subplots(1, 1, figsize=[10, 10])\n",
    "initial_state_x  = init_state_used[:, 0, 0]\n",
    "initial_state_PE = cfqrRunner.system.get_potential(init_state_used, 0)\n",
    "PE_init_array = potential_used(x_array, params = initial_parameter_dict.values())\n",
    "scatter_plot = ax.scatter(initial_state_x, initial_state_PE)\n",
    "ax.set_xlim(-4, 4)\n",
    "ax.set_ylim(0, 300)\n",
    "PE_plot = ax.plot(x_array, PE_init_array)[0]\n",
    "# print()\n",
    "\n",
    "def animate(i):    \n",
    "    state_i = all_state[:, i, ...]\n",
    "    t_i = targetTimeArray[i]\n",
    "    params_i = cfqrRunner.protocol.get_params(t_i)\n",
    "    PE_array_i = potential_used(x_array, params = params_i)\n",
    "    PE_i = cfqrRunner.system.get_potential(state_i, t_i)\n",
    "    ax.set_title(f\"time = {t_i:.3g}\")\n",
    "    scatter_plot.set_offsets(np.c_[state_i[..., 0, 0], PE_i])\n",
    "    PE_plot.set_ydata(PE_array_i)\n",
    "    \n",
    "    #         \n",
    "ani = FuncAnimation(fig, animate, interval=200, frames=len(targetTimeArray))\n",
    "writer = animation.PillowWriter(fps=5, metadata=dict(artist='Me'), bitrate=1800)\n",
    "ani.save('scatter.gif', writer=writer)\n",
    "plt.close()\n"
   ]
  },
  {
   "cell_type": "code",
   "execution_count": null,
   "id": "49",
   "metadata": {},
   "outputs": [],
   "source": [
    "Image(filename=\"scatter.gif\")"
   ]
  },
  {
   "cell_type": "code",
   "execution_count": null,
   "id": "50",
   "metadata": {},
   "outputs": [],
   "source": [
    "targetTimeArray = cfqrRunner.protocol_all_time_array[cfqrRunner.as_step]\n",
    "all_state = simResult.all_state['states']\n",
    "mean_x_0 = np.mean(all_state[index_0, :, 0, 0], axis = 0)\n",
    "std_x_0 = np.std(all_state[index_0, :, 0, 0], axis = 0) * 3\n",
    "plt.errorbar(targetTimeArray, y = mean_x_0, yerr = std_x_0)"
   ]
  },
  {
   "cell_type": "code",
   "execution_count": null,
   "id": "51",
   "metadata": {},
   "outputs": [],
   "source": [
    "std_x_0"
   ]
  },
  {
   "cell_type": "code",
   "execution_count": null,
   "id": "52",
   "metadata": {},
   "outputs": [],
   "source": []
  },
  {
   "cell_type": "code",
   "execution_count": null,
   "id": "53",
   "metadata": {},
   "outputs": [],
   "source": [
    "plt.hist(cfqrRunner.sim.work_dist_array, bins = 30)\n",
    "mean_W = np.mean(cfqrRunner.sim.work_dist_array)\n",
    "plt.title(mean_W)"
   ]
  },
  {
   "cell_type": "code",
   "execution_count": null,
   "id": "54",
   "metadata": {},
   "outputs": [],
   "source": [
    "all_state = simResult.all_state['states']\n",
    "targetTimeArray = cfqrRunner.protocol_all_time_array[cfqrRunner.as_step]\n",
    "\n",
    "s = plt.plot(targetTimeArray, all_state[:, :, 0, 0].T)\n",
    "plt.xlim(0, 100)"
   ]
  },
  {
   "cell_type": "code",
   "execution_count": null,
   "id": "55",
   "metadata": {},
   "outputs": [],
   "source": []
  },
  {
   "cell_type": "code",
   "execution_count": null,
   "id": "56",
   "metadata": {},
   "outputs": [],
   "source": [
    "from scipy.integrate import quad\n",
    "\n",
    "def f(x):\n",
    "  return np.sqrt(2)/np.sqrt(1200 - 50 * x**4 - 100 * x**2)\n",
    "\n",
    "def f_2(x):\n",
    "  return np.sqrt(2)/np.sqrt(1200 - 50 * x**4 - 100 * x**2)\n",
    "\n",
    "\n",
    "I, err = quad(f, -2, 2)\n",
    "print(I)\n",
    "print(err)"
   ]
  },
  {
   "cell_type": "code",
   "execution_count": null,
   "id": "57",
   "metadata": {},
   "outputs": [],
   "source": [
    "I, err = quad(f_2, -2, 2)\n",
    "print(I)\n",
    "print(err)"
   ]
  },
  {
   "cell_type": "code",
   "execution_count": null,
   "id": "58",
   "metadata": {},
   "outputs": [],
   "source": []
  },
  {
   "cell_type": "code",
   "execution_count": null,
   "id": "59",
   "metadata": {},
   "outputs": [],
   "source": []
  },
  {
   "cell_type": "code",
   "execution_count": null,
   "id": "60",
   "metadata": {},
   "outputs": [],
   "source": [
    "protocol_list"
   ]
  },
  {
   "cell_type": "code",
   "execution_count": null,
   "id": "61",
   "metadata": {},
   "outputs": [],
   "source": [
    "cfqrRunner.protocol_time_array"
   ]
  },
  {
   "cell_type": "code",
   "execution_count": null,
   "id": "62",
   "metadata": {},
   "outputs": [],
   "source": []
  },
  {
   "cell_type": "code",
   "execution_count": null,
   "id": "63",
   "metadata": {},
   "outputs": [],
   "source": []
  },
  {
   "cell_type": "code",
   "execution_count": null,
   "id": "64",
   "metadata": {},
   "outputs": [],
   "source": []
  },
  {
   "cell_type": "code",
   "execution_count": null,
   "id": "65",
   "metadata": {},
   "outputs": [],
   "source": []
  },
  {
   "cell_type": "code",
   "execution_count": null,
   "id": "66",
   "metadata": {},
   "outputs": [],
   "source": []
  }
 ],
 "metadata": {
  "kernelspec": {
   "display_name": "myenv",
   "language": "python",
   "name": "python3"
  },
  "language_info": {
   "codemirror_mode": {
    "name": "ipython",
    "version": 3
   },
   "file_extension": ".py",
   "mimetype": "text/x-python",
   "name": "python",
   "nbconvert_exporter": "python",
   "pygments_lexer": "ipython3",
   "version": "3.13.2"
  }
 },
 "nbformat": 4,
 "nbformat_minor": 5
}
