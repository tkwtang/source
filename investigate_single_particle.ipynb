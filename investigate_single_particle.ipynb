{
 "cells": [
  {
   "cell_type": "code",
   "execution_count": null,
   "id": "0",
   "metadata": {
    "tags": []
   },
   "outputs": [],
   "source": [
    "import numpy as np\n",
    "import importlib, os, datetime, pickle\n",
    "from sus.protocol_designer import System, Protocol, Potential, Compound_Protocol\n",
    "from sus.protocol_designer.protocol import sequential_protocol\n",
    "from IPython import display\n",
    "from IPython.display import HTML, Image\n",
    "import matplotlib.animation as animation\n",
    "from matplotlib.animation import FuncAnimation, PillowWriter\n",
    "from quick_sim import setup_sim\n",
    "\n",
    "\n",
    "# import edward_tools.fq_runner as fq_runner\n",
    "from edward_tools.coupled_fq_potential import coupled_flux_qubit_non_linear_approx_pot, coupled_flux_qubit_non_linear_approx_force, \\\n",
    "coupled_flux_qubit_non_linear_approx_pot_special, coupled_flux_qubit_non_linear_approx_force_special, coupled_flux_qubit_non_linear_approx_pot_break_down\n",
    "from edward_tools.visualization import animate_sim_flux_qubit, plotFidelityBarChart, separate_by_state_2\n",
    "from edward_tools.initial_state_sampling import extra_constraint_00_and_11_only\n",
    "from NAND_PARAMETERS import *\n",
    "import importlib\n",
    "\n",
    "import kyle_tools as kt\n",
    "import matplotlib.pyplot as plt\n",
    "\n",
    "\n",
    "from edward_tools import coupled_fq_protocol_library, cfq_runner\n",
    "from edward_tools import coupled_fq_protocol_library\n",
    "\n",
    "import edward_tools.cfq_batch_sweep as cfq_batch_sweep\n",
    "import edward_tools.Analysis_tool.general_analysis_tools as general_analysis_tool\n",
    "# from edward_tools.Analysis_tool.general_analysis_tools import show_phi_dc_with_time\n",
    "import edward_tools.Analysis_tool.minimum_value_of_potential as minimum_value_of_potential\n",
    "from edward_tools.couple_flux_qubit_metrics import fidelityEvaluation\n",
    "from edward_tools import visualization\n",
    "\n",
    "coupled_fq_protocol_library = importlib.reload(coupled_fq_protocol_library)\n",
    "create_system = coupled_fq_protocol_library.create_system\n",
    "get_potential_shot_at_different_t = coupled_fq_protocol_library.get_potential_shot_at_different_t\n",
    "get_potential_shot_at_different_t_1D = coupled_fq_protocol_library.get_potential_shot_at_different_t_1D\n",
    "create_simple_protocol_parameter_dict = coupled_fq_protocol_library.create_simple_protocol_parameter_dict\n",
    "coupled_fq_runner = importlib.reload(cfq_runner)\n",
    "coupled_fq_protocol_library = importlib.reload(coupled_fq_protocol_library)\n",
    "create_system = coupled_fq_protocol_library.create_system\n",
    "get_potential_along_a_1D_cutline = coupled_fq_protocol_library.get_potential_along_a_1D_cutline\n",
    "plotCutlines = coupled_fq_protocol_library.plotCutlines"
   ]
  },
  {
   "cell_type": "markdown",
   "id": "1",
   "metadata": {
    "tags": []
   },
   "source": [
    "# parameters"
   ]
  },
  {
   "cell_type": "markdown",
   "id": "2",
   "metadata": {},
   "source": [
    "### circuit parameters"
   ]
  },
  {
   "cell_type": "code",
   "execution_count": null,
   "id": "3",
   "metadata": {},
   "outputs": [],
   "source": [
    "circuit_params_from_Chris = {\n",
    "    \"L\": 5e-12 * 1, \"T\":4.2, \"L_factor\": 1, \n",
    "    \"beta\": 2.3, \"d_beta\": 0,\n",
    "    \"phi_1x\": 0.61,   \"phi_2x\": 0.10, \"phi_1xdc\": 0, \"phi_2xdc\": 1.79, \"M_12\": 0.06\n",
    "}\n",
    "\n",
    "experiment_circuit_params = {\n",
    "    \"L\": 5e-12, \"T\": 4.2, \"L_factor\": 1,\n",
    "    \"beta\": 2.3, \"d_beta\": 0,\n",
    "    \"phi_1x\": 0.58,   \"phi_2x\": 0.095, \"phi_1xdc\": 0, \"phi_2xdc\": 1.96,\n",
    "    \"M_12\": 0.055\n",
    "}\n",
    "\n",
    "\n",
    "circuit_params_chosen = circuit_params_from_Chris\n",
    "experiment_comment = \"Experiment 3 (2024-10-22): Failed KE extraction protocol simulation for Kyle's animation\"\n",
    "\n",
    "phi_1_x_on_12, phi_2_x_on_12, phi_1_dcx_on_12, phi_2_dcx_on_12, phi_1_x_on_21, phi_2_x_on_21, phi_1_dcx_on_21, phi_2_dcx_on_21, M_12_on, four_well, CE_1, CE_8, lower_H_wells, flip_H, lower_V_wells, flip_V, KE_extraction_protocol_for_CE_1, KE_extraction_protocol_for_CE_8 = generate_protocols_from_circuit_params(circuit_params_chosen)"
   ]
  },
  {
   "cell_type": "code",
   "execution_count": null,
   "id": "4",
   "metadata": {
    "tags": []
   },
   "outputs": [],
   "source": [
    "has_velocity = True\n",
    "\n",
    "PHI_0 = 2.067833848 * 1e-15\n",
    "k_B = 1.38e-23\n",
    "T = circuit_params_chosen[\"T\"]\n",
    "k_BT = k_B * T\n",
    "\n",
    "C_factor = 1\n",
    "L_factor = circuit_params_chosen['L_factor']\n",
    "R_factor = 30\n",
    "I_m_factor = 0\n",
    "time_scale = 1.0\n",
    "\n",
    "I_p_1, I_p_2 = 5e-6 , 5e-6  # Amp\n",
    "I_m_1, I_m_2 = 7e-9 * I_m_factor, 7e-9 * I_m_factor                           # Amp\n",
    "R_1, R_2 = 1 * R_factor, 1 * R_factor                                         # ohm\n",
    "C_1, C_2 = 500e-15 * C_factor, 500e-15 * C_factor                             # F\n",
    "\n",
    "L_1, L_2 = 140e-12 * L_factor, 140e-12 * L_factor                             # H \n",
    "L_1, L_2 = 5e-12 * L_factor, 5e-12 * L_factor                             # H \n",
    "freq = 1/np.sqrt(C_1 * L_1)\n",
    "characteristic_time = np.sqrt(C_1 * C_factor * L_1 * L_factor)"
   ]
  },
  {
   "cell_type": "code",
   "execution_count": null,
   "id": "5",
   "metadata": {
    "tags": []
   },
   "outputs": [],
   "source": [
    "\n",
    "m_c = C_1\n",
    "m_1, m_2 = C_1, C_2\n",
    "x_c = PHI_0 / (2 * np.pi)\n",
    "time_scale_factor = 1\n",
    "t_c = np.sqrt(L_1 * C_1)\n",
    "v_c = x_c / t_c\n",
    "\n",
    "U0_1, U0_2 = m_c * x_c**2 / t_c**2 / k_BT, m_2 * x_c**2 / t_c**2 / k_BT\n",
    "kappa_1, kappa_2, kappa_3, kappa_4 = 1/U0_1, 1/U0_1, 1/U0_1, 1/U0_1\n",
    "\n",
    "lambda_1 = 2 * np.sqrt(L_1 * C_1) / (C_1 * R_1)\n",
    "theta_1  = 1\n",
    "eta_1    = np.sqrt(np.sqrt(L_1 * C_1)/ (R_1 * C_1)) * np.sqrt(2 * kappa_1 / 1**2)\n",
    "\n",
    "lambda_2 = 2 * np.sqrt(L_1 * C_1) / (C_2 * R_2)\n",
    "theta_2  = 1 / (C_2/C_1)\n",
    "eta_2    = np.sqrt(np.sqrt(L_1 * C_1)/ (R_1 * C_1)) * np.sqrt(2 * kappa_2 * (R_1 * C_1**2) / (R_2 * C_2**2))\n",
    "\n",
    "lambda_3 = 2 * np.sqrt(L_1 * C_1) / (C_1 * R_1)\n",
    "theta_3  = 4\n",
    "eta_3    = np.sqrt(np.sqrt(L_1 * C_1)/ (R_1 * C_1)) * np.sqrt(8 * kappa_3)\n",
    "\n",
    "lambda_4 = 2 * np.sqrt(L_1 * C_1) / (C_2 * R_2)\n",
    "theta_4  = 4 / (C_2/C_1)\n",
    "eta_4    = np.sqrt(np.sqrt(L_1 * C_1)/ (R_1 * C_1)) * np.sqrt(8 * kappa_4 * (R_1 * C_1**2) / (R_2 * C_2**2))\n",
    "\n",
    "gamma = 10\n",
    "\n",
    "beta_1 = 2.3\n",
    "beta_2 = 2.3\n",
    "\n",
    "d_beta_1 = 2 * np.pi * L_1 * I_m_1 / PHI_0; \n",
    "d_beta_2 = 2 * np.pi * L_2 * I_m_2 / PHI_0;\n",
    "\n",
    "_lambda = np.array([lambda_1, lambda_2, lambda_3, lambda_4])\n",
    "_theta  = np.array([theta_1, theta_2, theta_3, theta_4])\n",
    "_eta  =   np.array([eta_1, eta_2, eta_3, eta_4])\n",
    "\n",
    "v_1 = np.random.normal(0, np.sqrt(k_BT/m_1)) / v_c\n",
    "v_2 = np.random.normal(0, np.sqrt(k_BT/m_2)) / v_c\n",
    "v_3 = np.random.normal(0, np.sqrt(k_BT/(m_1/4))) / v_c\n",
    "v_4 = np.random.normal(0, np.sqrt(k_BT/(m_2/4))) / v_c"
   ]
  },
  {
   "cell_type": "code",
   "execution_count": null,
   "id": "6",
   "metadata": {
    "tags": []
   },
   "outputs": [],
   "source": [
    "print(f\"L_1 = {L_1 * 1e12:.3g}pH, T = {T}K\")\n",
    "print(f\"freq = {freq / 1e9:.3g}GHz\")\n",
    "print(characteristic_time)\n",
    "print(1/U0_1*50)"
   ]
  },
  {
   "cell_type": "code",
   "execution_count": null,
   "id": "7",
   "metadata": {},
   "outputs": [],
   "source": []
  },
  {
   "cell_type": "code",
   "execution_count": null,
   "id": "8",
   "metadata": {},
   "outputs": [],
   "source": [
    "k_BT / (x_c**2/L_1) * 50"
   ]
  },
  {
   "cell_type": "markdown",
   "id": "9",
   "metadata": {},
   "source": [
    "### parameter setting"
   ]
  },
  {
   "cell_type": "code",
   "execution_count": null,
   "id": "10",
   "metadata": {
    "tags": []
   },
   "outputs": [],
   "source": [
    "\"\"\"\n",
    "# step 0: modify parameters\n",
    "- All the parameters are stored in a separate file PARAMETER_INPUT\n",
    "- You can override some of the parameters here.\n",
    "\"\"\"\n",
    "params = {}\n",
    "params['N'] = 1000\n",
    "params['dt'] = 1/100\n",
    "params['lambda'] = 1\n",
    "params['beta'] = 1\n",
    "params['sim_params'] = [_lambda, _theta, _eta]\n",
    "params['target_work'] = None\n",
    "params['applyOffset'] = False\n",
    "params['measureWorkWithOffset'] = True\n",
    "params['monitor_work_dist_in_whole_process'] = True # To monitor the work process\n",
    "params['comment'] = experiment_comment\n",
    "params['capacitance'] = np.array([C_1, C_2, C_1/4, C_2/4])\n",
    "params['mass'] = np.array([1, 1, 1/4, 1/4])\n",
    "params['v_c'] = x_c/t_c\n",
    "params['k_BT'] = k_BT\n",
    "params['U0'] = U0_1\n",
    "params['as_step'] = np.s_[::] # the time step to skep for the all_state\n",
    "params['percentage'] = 1 # For what percentage of the total sample do you want to keep in the output all_state\n"
   ]
  },
  {
   "cell_type": "code",
   "execution_count": null,
   "id": "11",
   "metadata": {
    "jupyter": {
     "source_hidden": true
    },
    "tags": []
   },
   "outputs": [],
   "source": [
    "\"\"\"\n",
    "# step 2: Define initial condition and protocol\n",
    "\"\"\"\n",
    "manual_domain=[np.array([-5, -5]), np.array([5, 5])]\n",
    "\n",
    "\n",
    "\n",
    "# µ = 0.06, φ2xdc = 1.79, φ1x = 0.59, and φ2x = 0.10.\n",
    "    \n",
    "initial_parameter_dict = {\n",
    "        \"U0_1\": U0_1,     \"U0_2\": U0_2,     \"gamma_1\": gamma,  \"gamma_2\": gamma,\n",
    "        \"beta_1\": beta_1,   \"beta_2\": beta_2,   \"d_beta_1\": d_beta_1 ,   \"d_beta_2\": d_beta_2,\n",
    "        \"phi_1_x\": phi_1_x_off,  \"phi_2_x\": phi_2_x_off,  \"phi_1_dcx\": phi_1_dcx_off,  \"phi_2_dcx\": phi_1_dcx_off,\n",
    "        \"M_12\": M_12_off, 'x_c': x_c\n",
    "}\n"
   ]
  },
  {
   "cell_type": "code",
   "execution_count": null,
   "id": "12",
   "metadata": {
    "jupyter": {
     "source_hidden": true
    },
    "tags": []
   },
   "outputs": [],
   "source": [
    "\"\"\"\n",
    "# step 1: Define potential\n",
    "\"\"\"\n",
    "coupled_fq_default_param = [1, 1, 0, 0, 0, 0, 0, 0, 0, 0, 0, 0, 0, x_c]\n",
    "[phi_1_bound, phi_2_bound, phi_1dc_bound, phi_2dc_bound] = np.array([4, 4, 4, 4])/time_scale_factor\n",
    "contour_range = [300, 2000]\n",
    "    \n",
    "coupled_fq_domain = [[-phi_1_bound, -phi_2_bound, -phi_1dc_bound, -phi_2dc_bound], \\\n",
    "                     [phi_1_bound, phi_2_bound, phi_1dc_bound, phi_2dc_bound]]\n",
    "\n",
    "# coupled_fq_pot = Potential(coupled_flux_qubit_pot_with_offset_at_00_xy, coupled_flux_qubit_force, 14, 4,\\\n",
    "#                            default_params = coupled_fq_default_param,  relevant_domain = coupled_fq_domain)\n",
    "\n",
    "coupled_fq_pot = Potential(coupled_flux_qubit_non_linear_approx_pot, coupled_flux_qubit_non_linear_approx_force, 14, 4,\\\n",
    "                           default_params = initial_parameter_dict,  relevant_domain = coupled_fq_domain)\n",
    "\n",
    "# coupled_fq_pot = Potential(coupled_flux_qubit_non_linear_approx_pot_special, coupled_flux_qubit_non_linear_approx_force_special, 14, 4,\\\n",
    "                           # default_params = initial_parameter_dict,  relevant_domain = coupled_fq_domain)"
   ]
  },
  {
   "cell_type": "code",
   "execution_count": null,
   "id": "13",
   "metadata": {},
   "outputs": [],
   "source": []
  },
  {
   "cell_type": "markdown",
   "id": "14",
   "metadata": {},
   "source": [
    "### protocol setting"
   ]
  },
  {
   "cell_type": "code",
   "execution_count": null,
   "id": "15",
   "metadata": {
    "tags": []
   },
   "outputs": [],
   "source": [
    "zeroDissipation = False\n",
    "# zeroDissipation = True\n",
    "\n",
    "saveAllStates = True\n",
    "\n",
    "params['sim_params'] = [_lambda, _theta, _eta]\n",
    "\n",
    "if zeroDissipation:\n",
    "    params['sim_params'] = [_lambda * 0, _theta, _eta * 0]\n",
    "\n",
    "params['circuit_parameters'] = {\n",
    "    \"C_factor\":C_factor, \"L_factor\": L_factor, \"R_factor\": R_factor, \"I_m_factor\": I_m_factor, \"T\": T, \n",
    "    \"I_p_1\": I_p_1, \"I_p_2\": I_p_2, \"I_m_1\": I_m_1, \"I_m_2\": I_m_2,\n",
    "    \"R_1\": R_1, \"R_2\": R_2, \"C_1\": C_1, \"C_2\": C_2, \"L_1\": L_1, \"L_2\": L_2, \n",
    "    \"characteristic_time\": np.sqrt(C_1 * C_factor * L_1 * L_factor),\n",
    "    \"phi_1_x_on\": phi_1_x_on_12, \"phi_2_x_on\": phi_2_x_on_12,\n",
    "    \"phi_1_dcx_on\": phi_1_dcx_on_12, \"phi_2_dcx_on\": phi_2_dcx_on_12, \"M_12_on\": M_12_on,\n",
    "    \"gamma\": gamma\n",
    "}\n",
    "\n",
    "\n",
    "initial_state_used_choice = [\"four_well\", \"after_CE_8_completed\"]\n",
    "\n",
    "\n",
    "\n",
    "# bookmark\n",
    "initial_parameter_dict[\"phi_1_dcx\"] = circuit_params_chosen[\"phi_1xdc\"]\n",
    "initial_parameter_dict[\"phi_2_dcx\"] = circuit_params_chosen[\"phi_2xdc\"]\n",
    "initial_parameter_dict[\"phi_1_x\"]   = circuit_params_chosen[\"phi_1x\"]\n",
    "initial_parameter_dict[\"phi_2_x\"]   = circuit_params_chosen[\"phi_2x\"]\n",
    "initial_parameter_dict[\"M_12\"]      = circuit_params_chosen[\"M_12\"]\n",
    "\n",
    "initial_parameter_dict[\"phi_1_dcx\"] = 0\n",
    "initial_parameter_dict[\"phi_2_dcx\"] = 0\n",
    "initial_parameter_dict[\"phi_1_x\"]   = 0\n",
    "initial_parameter_dict[\"phi_2_x\"]   = 0\n",
    "initial_parameter_dict[\"M_12\"]      = 0"
   ]
  },
  {
   "cell_type": "markdown",
   "id": "16",
   "metadata": {},
   "source": [
    "### modify the protocol"
   ]
  },
  {
   "cell_type": "code",
   "execution_count": null,
   "id": "17",
   "metadata": {
    "tags": []
   },
   "outputs": [],
   "source": [
    "CE_1 = {\n",
    "        \"phi_1_x\": phi_1_x_on_12, \"phi_2_x\": phi_2_x_on_12, \"M_12\": M_12_on, \\\n",
    "        \"phi_1_dcx\": phi_1_dcx_off, \"phi_2_dcx\": phi_2_dcx_on_12, \"name\":\"CE_1\"\n",
    "}\n",
    "\n",
    "KE_extraction_protocol_for_CE_1 = {\n",
    "        \"phi_1_x\": phi_1_x_on_12, \"phi_2_x\": 0.00, \"M_12\": 0.00, \\\n",
    "        \"phi_1_dcx\": phi_1_dcx_on_12, \"phi_2_dcx\": phi_2_dcx_on_12,\\\n",
    "        \"name\":\"KE_extraction_protocol\"\n",
    "}\n"
   ]
  },
  {
   "cell_type": "code",
   "execution_count": null,
   "id": "18",
   "metadata": {
    "tags": []
   },
   "outputs": [],
   "source": [
    "protocol_type = \"CE\"\n",
    "\n",
    "if protocol_type == \"CE\":\n",
    "    mapping_dict = mapping_state_1_to_state_2_dict_CE\n",
    "if protocol_type == \"NAND\":\n",
    "    mapping_dict = mapping_state_1_to_state_2_dict_NAND\n",
    "\n",
    "\n",
    "customized_protocol = {\n",
    "    'phi_1_x': 0,\n",
    "     'phi_2_x': 0,\n",
    "     'M_12': 0,\n",
    "     'phi_1_dcx': 0,\n",
    "     'phi_2_dcx': 0.0,\n",
    "     'name': 'sudden_jump'\n",
    "}\n",
    "\n",
    "\n",
    "protocol_list_NAND_protocol = [\n",
    "    # forward\n",
    "    create_CE_Protocol(10, customized_protocol),\n",
    "]\n",
    "\n",
    "protocol_list = protocol_list_NAND_protocol"
   ]
  },
  {
   "cell_type": "markdown",
   "id": "19",
   "metadata": {
    "tags": []
   },
   "source": [
    "# first initialization"
   ]
  },
  {
   "cell_type": "markdown",
   "id": "20",
   "metadata": {},
   "source": [
    "### create initial state "
   ]
  },
  {
   "cell_type": "code",
   "execution_count": null,
   "id": "21",
   "metadata": {
    "tags": []
   },
   "outputs": [],
   "source": [
    "%%capture\n",
    "initial_state_array = [\"saved_init_state/four_well_default_init_state_N_1000.npy\", \"saved_init_state/after_CE_8_completed_N_1000z.npy\", \"saved_init_state/just_before_KEP_N_1000.npy\"]\n",
    "initial_state_chosen = initial_state_array[0]\n",
    "\n",
    "\n",
    "regenerate_init_state = False\n",
    "# regenerate_init_state = True\n",
    "if regenerate_init_state:\n",
    "    initial_potential_protocol_list = [create_CE_Protocol(200*params['dt'], four_well)]\n",
    "    init_params = params.copy()\n",
    "    # friction_factor = 1\n",
    "    # init_params['sim_params'] = [init_params['sim_params'][0] * friction_factor, init_params['sim_params'][1], init_params['sim_params'][2] * friction_factor]\n",
    "    init_params['dt'] = 1/500\n",
    "    init_state_saved = cfq_batch_sweep.create_initial_state(initial_parameter_dict, initial_potential_protocol_list, coupled_fq_pot, init_params)\n",
    "else:\n",
    "    init_state_saved = np.load(initial_state_chosen)\n",
    "\n",
    "init_state_used = init_state_saved\n",
    "\n",
    "# np.save(\"four_well_default_init_state_N_1000.npy\", init_state_saved)\n",
    "\n",
    "# particle_index = visualization.separate_by_state_2(init_state_saved[:, (0, 1), :])\n",
    "# init_state_used = init_state_saved[particle_index[\"00\"]]\n",
    "# [1.3, 0.3, 0.3, 0.3, 1]"
   ]
  },
  {
   "cell_type": "code",
   "execution_count": null,
   "id": "22",
   "metadata": {},
   "outputs": [],
   "source": [
    "plt.scatter(init_state_saved[..., 0, 0], init_state_saved[..., 1, 0])"
   ]
  },
  {
   "cell_type": "markdown",
   "id": "23",
   "metadata": {},
   "source": [
    "### create cfqr object"
   ]
  },
  {
   "cell_type": "code",
   "execution_count": null,
   "id": "24",
   "metadata": {
    "jupyter": {
     "source_hidden": true
    },
    "tags": []
   },
   "outputs": [],
   "source": [
    "\"\"\"\n",
    "# step 3: create the relevant storage protocol and computation protocol\n",
    "\"\"\"\n",
    "def modifiedFunction(t, result):\n",
    "    return result\n",
    "\n",
    "\n",
    "computation_protocol_parameter_dict = coupled_fq_protocol_library.customizedProtocol(initial_parameter_dict, \\\n",
    "                                                                    protocol_list)\n",
    "storage_protocol, comp_protocol = create_system(computation_protocol_parameter_dict, modifiedFunction = None)\n",
    "\n",
    "cfqr = cfq_runner.coupledFluxQubitRunner(potential = coupled_fq_pot, params = params, \\\n",
    "                                                storage_protocol= storage_protocol, \\\n",
    "                                                computation_protocol= comp_protocol, \\\n",
    "                                         protocol_list = protocol_list, \\\n",
    "                                        has_velocity=has_velocity)\n",
    "\n",
    "protocol_time_array, protocol_time_index_array, protocol_all_time_array, protocol_time_all_index_array = cfqr.createProtocolTimeArray(protocol_list, params)\n",
    "cfqr.initialize_sim()\n",
    "# cfqr.set_sim_attributes(init_state=init_state_saved)\n",
    "cfqr.set_sim_attributes(init_state=init_state_used)\n",
    "print(f\"mean KE = {np.mean(cfqr.system.get_kinetic_energy(init_state_used))}\")"
   ]
  },
  {
   "cell_type": "code",
   "execution_count": null,
   "id": "25",
   "metadata": {},
   "outputs": [],
   "source": []
  },
  {
   "cell_type": "markdown",
   "id": "26",
   "metadata": {},
   "source": [
    "# actual simulations"
   ]
  },
  {
   "cell_type": "code",
   "execution_count": null,
   "id": "27",
   "metadata": {
    "jupyter": {
     "source_hidden": true
    },
    "tags": []
   },
   "outputs": [],
   "source": [
    "importlib.reload(cfq_batch_sweep)\n",
    "\n",
    "# 0.5 * (x - 0.59)^2 + 0.5 * (y - 0.1)^2 + 2.3 * cos(x) + 2.3 * cos(y)\n",
    "# step 5: perform simulations\n",
    "\n",
    "\n",
    "manual_domain=[np.array([-5, -5]), np.array([5, 5])]\n",
    "\n",
    "simResult = cfq_batch_sweep.simulateSingleCoupledFluxQubit(params, initial_parameter_dict, protocol_list, \\\n",
    "                        potential = coupled_fq_pot, potential_default_param = coupled_fq_default_param, mapping_state_1_to_state_2_dict = mapping_dict,         \n",
    "                        initial_state = init_state_used, manual_domain = manual_domain, \\\n",
    "                        phi_1_dcx = phi_1_dcx,  phi_2_dcx = phi_2_dcx, measure_all_states=saveAllStates, \\\n",
    "                        has_velocity = has_velocity)\n",
    "print(f\"characteristic_time = {characteristic_time * 10e9:.3g}ns\")"
   ]
  },
  {
   "cell_type": "markdown",
   "id": "28",
   "metadata": {},
   "source": [
    "# sim Results"
   ]
  },
  {
   "cell_type": "markdown",
   "id": "29",
   "metadata": {},
   "source": [
    "### fidelity"
   ]
  },
  {
   "cell_type": "code",
   "execution_count": null,
   "id": "30",
   "metadata": {},
   "outputs": [],
   "source": [
    "import sys, importlib\n",
    "# importlib.reload(sys.modules['edward_tools.jupyter_helper_function'])\n",
    "from edward_tools.jupyter_helper_function import work_analysis, KE_analysis"
   ]
  },
  {
   "cell_type": "code",
   "execution_count": null,
   "id": "31",
   "metadata": {},
   "outputs": [],
   "source": []
  },
  {
   "cell_type": "markdown",
   "id": "32",
   "metadata": {},
   "source": [
    "# work done of each type"
   ]
  },
  {
   "cell_type": "code",
   "execution_count": null,
   "id": "33",
   "metadata": {},
   "outputs": [],
   "source": [
    "work_done_of_each_type(simResult)"
   ]
  },
  {
   "cell_type": "code",
   "execution_count": null,
   "id": "34",
   "metadata": {},
   "outputs": [],
   "source": [
    "tellMeImportantFactors(protocol_list)"
   ]
  },
  {
   "cell_type": "code",
   "execution_count": null,
   "id": "35",
   "metadata": {},
   "outputs": [],
   "source": []
  },
  {
   "cell_type": "markdown",
   "id": "36",
   "metadata": {
    "tags": []
   },
   "source": [
    "###  single particle analysis"
   ]
  },
  {
   "cell_type": "code",
   "execution_count": null,
   "id": "37",
   "metadata": {},
   "outputs": [],
   "source": [
    "import sys, importlib\n",
    "importlib.reload(sys.modules['edward_tools.jupyter_helper_function'])\n",
    "from edward_tools.jupyter_helper_function import work_analysis, KE_analysis, single_particle_analysis, fidelity_analysis, work_done_of_each_type\n",
    "all_states = simResult['cfqr'].get_all_state()\n",
    "\n",
    "particle_category = [\"00\"]\n",
    "particle_index = 0\n",
    "\n",
    "for _c in particle_category:\n",
    "    fig, ax1 = plt.subplots(figsize=(8, 5))\n",
    "    ax2 = ax1.twinx()\n",
    "    index_choice = simResult['cfqr'].getIndexOfParticles()[_c]\n",
    "    reduced_data = single_particle_analysis(simResult, params, protocol_list, plot_ax = ax1, \n",
    "                             particle_index=particle_index, particle_category= _c, \n",
    "                             time_range=None)\n",
    "    reduced_protocal_time_array = reduced_data[\"reduced_protocal_time_array\"]\n",
    "    index_slice = reduced_data[\"index_slice\"]\n",
    "\n",
    "    # print(simResult['cfqr'].protocol_time_array)\n",
    "    y_min, y_max = ax1.set_ylim()\n",
    "    x_min, x_max = ax1.set_xlim()\n",
    "    for _t in simResult['cfqr'].protocol_time_array:\n",
    "        plt.vlines(x=_t, ymin = y_min, ymax = y_max, linestyles=\"--\")\n",
    "\n",
    "\n",
    "    all_states_00_i1 = all_states[index_choice][particle_index, ...]\n",
    "    mean_phi_2 = all_states_00_i1[:, 1, 0]\n",
    "    # mean_phi_1 = np.mean(all_states[index_choice][:, :, 0, 0], axis = 0)\n",
    "\n",
    "\n",
    "    ax2.plot(reduced_protocal_time_array, mean_phi_2, alpha =0.8, color = \"grey\", label = f\"avg phi_2 of {particle_category}\")\n",
    "    ax2.set_ylim(-4, 4)\n",
    "    ax2.set_ylabel(r\"$\\varphi_{2}$\")\n",
    "\n",
    "    ax2.hlines(1.5, x_min, x_max, color = \"red\", linestyle = \"--\")\n",
    "    ax2.hlines(0.5, x_min, x_max, color = \"red\", linestyle = \"--\")\n",
    "    ax1.set_title(f\"energy profile of {particle_category} particle (total time of protocol = {protocol_time_array[-1] * characteristic_time * 1e9:.3g} ns)\")\n",
    "    ax2.legend()\n",
    "    plt.show()"
   ]
  },
  {
   "cell_type": "code",
   "execution_count": null,
   "id": "38",
   "metadata": {},
   "outputs": [],
   "source": []
  },
  {
   "cell_type": "code",
   "execution_count": null,
   "id": "39",
   "metadata": {},
   "outputs": [],
   "source": []
  }
 ],
 "metadata": {
  "kernelspec": {
   "display_name": "Python 3 (ipykernel)",
   "language": "python",
   "name": "python3"
  },
  "language_info": {
   "codemirror_mode": {
    "name": "ipython",
    "version": 3
   },
   "file_extension": ".py",
   "mimetype": "text/x-python",
   "name": "python",
   "nbconvert_exporter": "python",
   "pygments_lexer": "ipython3",
   "version": "3.10.9"
  }
 },
 "nbformat": 4,
 "nbformat_minor": 5
}
