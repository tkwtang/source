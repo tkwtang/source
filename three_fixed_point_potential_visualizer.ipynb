{
 "cells": [
  {
   "cell_type": "code",
   "execution_count": null,
   "id": "0",
   "metadata": {
    "tags": []
   },
   "outputs": [],
   "source": [
    "import numpy as np\n",
    "import importlib, os, datetime\n",
    "from sus.protocol_designer import System, Protocol, Potential, Compound_Protocol\n",
    "from sus.protocol_designer.protocol import sequential_protocol\n",
    "from IPython import display\n",
    "from IPython.display import HTML, Image\n",
    "import matplotlib.animation as animation\n",
    "from matplotlib.animation import FuncAnimation, PillowWriter\n",
    "\n",
    "\n",
    "from quick_sim import setup_sim\n",
    "\n",
    "\n",
    "# import edward_tools.fq_runner as fq_runner\n",
    "from edward_tools.coupled_fq_potential import coupled_flux_qubit_non_linear_approx_pot, coupled_flux_qubit_non_linear_approx_force, \\\n",
    "coupled_flux_qubit_non_linear_approx_pot_special, coupled_flux_qubit_non_linear_approx_force_special, coupled_flux_qubit_non_linear_approx_pot_break_down\n",
    "from edward_tools.visualization import animate_sim_flux_qubit, plotFidelityBarChart, separate_by_state_2\n",
    "from edward_tools.initial_state_sampling import extra_constraint_00_and_11_only\n",
    "from NAND_PARAMETERS import *\n",
    "import importlib\n",
    "\n",
    "import kyle_tools as kt\n",
    "import matplotlib.pyplot as plt\n",
    "\n",
    "\n",
    "from edward_tools import coupled_fq_protocol_library, cfq_runner\n",
    "from edward_tools import coupled_fq_protocol_library\n",
    "\n",
    "import edward_tools.cfq_batch_sweep as cfq_batch_sweep\n",
    "import edward_tools.Analysis_tool.general_analysis_tools as general_analysis_tool\n",
    "# from edward_tools.Analysis_tool.general_analysis_tools import show_phi_dc_with_time\n",
    "import edward_tools.Analysis_tool.minimum_value_of_potential as minimum_value_of_potential\n",
    "from edward_tools.couple_flux_qubit_metrics import fidelityEvaluation\n",
    "from edward_tools import visualization\n",
    "from edward_tools.CFQR_Manager import CFQR_MANAGER\n",
    "\n",
    "coupled_fq_protocol_library = importlib.reload(coupled_fq_protocol_library)\n",
    "create_system = coupled_fq_protocol_library.create_system\n",
    "get_potential_shot_at_different_t = coupled_fq_protocol_library.get_potential_shot_at_different_t\n",
    "get_potential_shot_at_different_t_1D = coupled_fq_protocol_library.get_potential_shot_at_different_t_1D\n",
    "create_simple_protocol_parameter_dict = coupled_fq_protocol_library.create_simple_protocol_parameter_dict\n",
    "coupled_fq_runner = importlib.reload(cfq_runner)\n",
    "coupled_fq_protocol_library = importlib.reload(coupled_fq_protocol_library)\n",
    "create_system = coupled_fq_protocol_library.create_system\n",
    "get_potential_along_a_1D_cutline = coupled_fq_protocol_library.get_potential_along_a_1D_cutline\n",
    "plotCutlines = coupled_fq_protocol_library.plotCutlines"
   ]
  },
  {
   "cell_type": "code",
   "execution_count": null,
   "id": "1",
   "metadata": {},
   "outputs": [],
   "source": [
    "# parameter settings"
   ]
  },
  {
   "cell_type": "code",
   "execution_count": null,
   "id": "2",
   "metadata": {
    "tags": []
   },
   "outputs": [],
   "source": [
    "\n",
    "params_template = {\n",
    "    \"N\": 1000, \"dt\": 1/100, \"lambda\": 1, \"beta\": 1, \n",
    "    'target_work': None, 'applyOffset': False, 'monitor_work_dist_in_whole_process': True, \"commment\": \"\",\n",
    "    \"measureWorkWithOffset\": False,\n",
    "    'as_step': np.s_[::100], 'percentage': 1, 'mass': np.array([1, 1, 1/4, 1/4])\n",
    "}\n",
    "\n",
    "contourData = {\n",
    "    \"vmax\": 0, \"vmin\": 500,\n",
    "    \"manual_domain\": [np.array([-5, -5]), np.array([5, 5])],\n",
    "    \"contour_range\": [0, 400],\n",
    "    \"title\": None\n",
    "}\n",
    "\n",
    "cutlineInformation = {\n",
    "    \"cutlineList\": [(-2, \"v\",\"red\")],\n",
    "    \"cutlineGeneratingFunction\": None,\n",
    "    \"cutlineXLimit\": [-4,4],\n",
    "    \"cutlineYLimit\": [50, 400]\n",
    "}\n",
    "\n",
    "particleInformation = {\n",
    "    \"showParticles\": False,\n",
    "    \"project_item\": [\"00\", \"01\"],\n",
    "    \"particle_opacity\": 0.5,\n",
    "    \"pColor\": {\"00\": \"#061DF7\", \"01\": \"red\", \"10\": \"#3FC7F2\", \"11\": \"#F187F4\"}\n",
    "}\n",
    "\n",
    "\n",
    "animation_setting = {\n",
    "    \"frame_skip\": 10,\n",
    "    \"save_path\": None, \n",
    "    \"save_dict\": None,\n",
    "    \"interval\": 100,\n",
    "    \"blit\": False   \n",
    "}\n",
    "\n",
    "protocol_graph_setting = {\n",
    "    \"key\": [\"phi_1_x\", \"phi_2_x\", \"phi_1_dcx\", \"phi_2_dcx\", \"M_12\"],\n",
    "    \"showGraph\": False\n",
    "}"
   ]
  },
  {
   "cell_type": "code",
   "execution_count": null,
   "id": "3",
   "metadata": {},
   "outputs": [],
   "source": []
  },
  {
   "cell_type": "code",
   "execution_count": null,
   "id": "4",
   "metadata": {},
   "outputs": [],
   "source": []
  },
  {
   "cell_type": "code",
   "execution_count": null,
   "id": "5",
   "metadata": {},
   "outputs": [],
   "source": []
  }
 ],
 "metadata": {
  "kernelspec": {
   "display_name": "Python 3 (ipykernel)",
   "language": "python",
   "name": "python3"
  },
  "language_info": {
   "codemirror_mode": {
    "name": "ipython",
    "version": 3
   },
   "file_extension": ".py",
   "mimetype": "text/x-python",
   "name": "python",
   "nbconvert_exporter": "python",
   "pygments_lexer": "ipython3",
   "version": "3.10.9"
  }
 },
 "nbformat": 4,
 "nbformat_minor": 5
}
