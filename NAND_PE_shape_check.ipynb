{
 "cells": [
  {
   "cell_type": "code",
   "execution_count": null,
   "id": "0",
   "metadata": {
    "tags": []
   },
   "outputs": [],
   "source": [
    "import numpy as np\n",
    "import importlib, os, datetime\n",
    "from sus.protocol_designer import System, Protocol, Potential, Compound_Protocol\n",
    "from sus.protocol_designer.protocol import sequential_protocol\n",
    "from IPython import display\n",
    "from IPython.display import HTML, Image\n",
    "import matplotlib.animation as animation\n",
    "\n",
    "\n",
    "from quick_sim import setup_sim\n",
    "\n",
    "\n",
    "\n",
    "\n",
    "# import edward_tools.fq_runner as fq_runner\n",
    "from edward_tools.coupled_fq_potential import coupled_flux_qubit_non_linear_approx_pot, coupled_flux_qubit_non_linear_approx_force, coupled_flux_qubit_non_linear_approx_pot_break_down\n",
    "from edward_tools.visualization import animate_sim_flux_qubit, plotFidelityBarChart, separate_by_state_2\n",
    "from edward_tools.initial_state_sampling import extra_constraint_00_and_11_only\n",
    "from NAND_PARAMETERS import *\n",
    "import importlib\n",
    "\n",
    "import kyle_tools as kt\n",
    "import matplotlib.pyplot as plt\n",
    "\n",
    "\n",
    "from edward_tools import coupled_fq_protocol_library, cfq_runner\n",
    "from edward_tools import coupled_fq_protocol_library\n",
    "\n",
    "import edward_tools.cfq_batch_sweep as cfq_batch_sweep\n",
    "import edward_tools.Analysis_tool.general_analysis_tools as general_analysis_tool\n",
    "# from edward_tools.Analysis_tool.general_analysis_tools import show_phi_dc_with_time\n",
    "import edward_tools.Analysis_tool.minimum_value_of_potential as minimum_value_of_potential\n",
    "from edward_tools.couple_flux_qubit_metrics import fidelityEvaluation\n",
    "\n",
    "\n",
    "coupled_fq_protocol_library = importlib.reload(coupled_fq_protocol_library)\n",
    "create_system = coupled_fq_protocol_library.create_system\n",
    "get_potential_shot_at_different_t = coupled_fq_protocol_library.get_potential_shot_at_different_t\n",
    "get_potential_shot_at_different_t_1D = coupled_fq_protocol_library.get_potential_shot_at_different_t_1D\n",
    "create_simple_protocol_parameter_dict = coupled_fq_protocol_library.create_simple_protocol_parameter_dict\n",
    "coupled_fq_runner = importlib.reload(cfq_runner)\n",
    "coupled_fq_protocol_library = importlib.reload(coupled_fq_protocol_library)\n",
    "create_system = coupled_fq_protocol_library.create_system\n",
    "get_potential_along_a_1D_cutline = coupled_fq_protocol_library.get_potential_along_a_1D_cutline\n",
    "plotCutlines = coupled_fq_protocol_library.plotCutlines"
   ]
  },
  {
   "cell_type": "markdown",
   "id": "1",
   "metadata": {
    "tags": []
   },
   "source": [
    "# parameters"
   ]
  },
  {
   "cell_type": "markdown",
   "id": "2",
   "metadata": {},
   "source": [
    "### circuit parameters"
   ]
  },
  {
   "cell_type": "code",
   "execution_count": null,
   "id": "3",
   "metadata": {},
   "outputs": [],
   "source": [
    "has_velocity = True\n",
    "PHI_0 = 2.067833848 * 1e-15\n",
    "k_B = 1.38e-23\n",
    "T = 7\n",
    "k_BT = k_B * T\n",
    "time_scale = 1.0\n",
    "C_factor, L_factor, I_m_factor = 1, 1, 0\n",
    "U0_1, U0_2 = 100, 100\n",
    "\n",
    "gamma = 10\n",
    "\n",
    "I_p_1, I_p_2 = 5e-6 , 5e-6  # Amp\n",
    "I_m_1, I_m_2 = 7e-9 * I_m_factor, 7e-9 * I_m_factor                           # Amp                                     # ohm\n",
    "L_1, L_2 = 140e-12 * L_factor, 140e-12 * L_factor                             # H \n",
    "R_1, R_2 = 1, 1 # ohm\n",
    "C_1, C_2 = 500e-15, 500e-15                             # F\n",
    "\n",
    "m_c, m_1, m_2 = C_1, C_1, C_2\n",
    "x_c = PHI_0 / (2 * np.pi)\n",
    "t_c = np.sqrt(L_1 * C_1)\n",
    "\n",
    "v_1, v_2, v_3, v_4 = np.zeros(4)\n",
    "beta_1, beta_2, d_beta_1, d_beta_2, = np.zeros(4)\n",
    "_lambda, _theta, _eta = np.zeros(4), np.zeros(4), np.zeros(4)\n"
   ]
  },
  {
   "cell_type": "code",
   "execution_count": null,
   "id": "4",
   "metadata": {},
   "outputs": [],
   "source": [
    "m_c"
   ]
  },
  {
   "cell_type": "code",
   "execution_count": null,
   "id": "5",
   "metadata": {},
   "outputs": [],
   "source": [
    "def parameterGenerator(_T, L = None, C = None, R = None, external_parameter = None):\n",
    "    global k_BT, U0_1, U0_2, gamma, T, C_1, C_2, L_1, L_2, m_c, m_1, m_2\n",
    "    global R_1, R_2, m_c, m_1, m_2, t_c, beta_1, beta_2, d_beta_1, d_beta_2, _lambda, _theta, _eta\n",
    "    global v_1, v_2, v_3, v_4\n",
    "    T = _T\n",
    "    k_BT = k_B * T\n",
    "    if R: R_1, R_2 = R, R # ohm\n",
    "    \n",
    "    if C: C_1, C_2 = C, C\n",
    "\n",
    "    if L: L_1, L_2 = L, L\n",
    "\n",
    "    m_c, m_1, m_2 = C_1, C_1, C_2\n",
    "    \n",
    "    t_c = np.sqrt(L_1 * C_1)\n",
    "    v_c = x_c / t_c\n",
    "    \n",
    "    U0_1 = m_c * x_c**2 / t_c**2 / k_BT\n",
    "    U0_2 = m_2 * x_c**2 / t_c**2 / k_BT\n",
    "    kappa_1, kappa_2, kappa_3, kappa_4 = 1/U0_1, 1/U0_1, 1/U0_1, 1/U0_1\n",
    "\n",
    "    lambda_1 = 2 * np.sqrt(L_1 * C_1) / (C_1 * R_1)\n",
    "    theta_1  = 1\n",
    "    eta_1    = np.sqrt(np.sqrt(L_1 * C_1)/ (R_1 * C_1)) * np.sqrt(2 * kappa_1 / 1**2)\n",
    "\n",
    "    lambda_2 = 2 * np.sqrt(L_1 * C_1) / (C_2 * R_2)\n",
    "    theta_2  = 1 / (C_2/C_1)\n",
    "    eta_2    = np.sqrt(np.sqrt(L_1 * C_1)/ (R_1 * C_1)) * np.sqrt(2 * kappa_2 * (R_1 * C_1**2) / (R_2 * C_2**2))\n",
    "\n",
    "    lambda_3 = 2 * np.sqrt(L_1 * C_1) / (C_1 * R_1)\n",
    "    theta_3  = 4\n",
    "    eta_3    = np.sqrt(np.sqrt(L_1 * C_1)/ (R_1 * C_1)) * np.sqrt(8 * kappa_3)\n",
    "\n",
    "    lambda_4 = 2 * np.sqrt(L_1 * C_1) / (C_2 * R_2)\n",
    "    theta_4  = 4 / (C_2/C_1)\n",
    "    eta_4    = np.sqrt(np.sqrt(L_1 * C_1)/ (R_1 * C_1)) * np.sqrt(8 * kappa_4 * (R_1 * C_1**2) / (R_2 * C_2**2))\n",
    "\n",
    "    gamma = 10\n",
    "\n",
    "    # beta_1 = 2 * np.pi * L_1 * I_p_1 / PHI_0; \n",
    "    # beta_2 = 2 * np.pi * L_2 * I_p_2 / PHI_0;\n",
    "    beta_1, beta_2 = 2.3, 2.3\n",
    "    \n",
    "\n",
    "    d_beta_1 = 2 * np.pi * L_1 * I_m_1 / PHI_0; \n",
    "    d_beta_2 = 2 * np.pi * L_2 * I_m_2 / PHI_0;\n",
    "\n",
    "    _lambda = np.array([lambda_1, lambda_2, lambda_3, lambda_4])\n",
    "    _theta  = np.array([theta_1, theta_2, theta_3, theta_4])\n",
    "    _eta  =   np.array([eta_1, eta_2, eta_3, eta_4])\n",
    "    \n",
    "    v_1 = np.random.normal(0, np.sqrt(k_BT/m_1)) / v_c\n",
    "    v_2 = np.random.normal(0, np.sqrt(k_BT/m_2)) / v_c\n",
    "    v_3 = np.random.normal(0, np.sqrt(k_BT/(m_1/4))) / v_c\n",
    "    v_4 = np.random.normal(0, np.sqrt(k_BT/(m_2/4))) / v_c\n",
    "    \n",
    "    return {\n",
    "        \"U0_1\": U0_1,     \"U0_2\": U0_2,     \"gamma_1\": gamma,  \"gamma_2\": gamma,\n",
    "        \"beta_1\": beta_1,   \"beta_2\": beta_2,   \"d_beta_1\": d_beta_1 ,   \"d_beta_2\": d_beta_2,\n",
    "        \"phi_1_x\": external_parameter['phi_1_x'],  \"phi_2_x\": external_parameter['phi_2_x'],  \n",
    "        \"phi_1_dcx\": external_parameter['phi_1_dcx'],  \"phi_2_dcx\": external_parameter['phi_2_dcx'],\n",
    "        \"M_12\": external_parameter['M_12'], 'x_c': x_c\n",
    "    }\n"
   ]
  },
  {
   "cell_type": "code",
   "execution_count": null,
   "id": "6",
   "metadata": {},
   "outputs": [],
   "source": [
    "U0_1, C_1, m_c"
   ]
  },
  {
   "cell_type": "code",
   "execution_count": null,
   "id": "7",
   "metadata": {},
   "outputs": [],
   "source": [
    "external_parameter = {\n",
    "    \"phi_1_x\": 0,  \"phi_2_x\": 0,  \"phi_1_dcx\": 0,  \"phi_2_dcx\": 0, \"M_12\": 0\n",
    "}\n",
    "initial_parameter_dict = parameterGenerator(10, L = 140e-12, C = 500e-15, R = 1, \n",
    "                                            external_parameter=external_parameter)"
   ]
  },
  {
   "cell_type": "code",
   "execution_count": null,
   "id": "8",
   "metadata": {
    "tags": []
   },
   "outputs": [],
   "source": [
    "\"\"\"\n",
    "# step 0: modify parameters\n",
    "- All the parameters are stored in a separate file PARAMETER_INPUT\n",
    "- You can override some of the parameters here.\n",
    "\"\"\"\n",
    "params = {}\n",
    "params['N'] = 1_00\n",
    "params['dt'] = 1/100\n",
    "params['lambda'] = 1\n",
    "params['beta'] = 1\n",
    "params['sim_params'] = [_lambda, _theta, _eta]\n",
    "params['target_work'] = None\n",
    "params['comment'] = \"Experiment 8 (2024/3/17): 4 well, with no compensation for asym, 1/5000\"\n",
    "params['capacitance'] = [C_1, C_2, C_1/4, C_2/4]\n",
    "params['mass_special'] = [1, 1, 1/4, 1/4]\n",
    "params['v_c'] = x_c/t_c\n",
    "params['k_BT'] = k_BT\n",
    "params['U0'] = U0_1\n",
    "\n"
   ]
  },
  {
   "cell_type": "code",
   "execution_count": null,
   "id": "9",
   "metadata": {},
   "outputs": [],
   "source": [
    "\"\"\"\n",
    "# step 1: Define potential\n",
    "\"\"\"\n",
    "manual_domain=[np.array([-5, -5]), np.array([5, 5])]\n",
    "\n",
    "coupled_fq_default_param = [1, 1, 0, 0, 0, 0, 0, 0, 0, 0, 0, 0, 0, x_c]\n",
    "[phi_1_bound, phi_2_bound, phi_1dc_bound, phi_2dc_bound] = np.array([4, 4, 4, 4])\n",
    "contour_range = [300, 2000]\n",
    "    \n",
    "coupled_fq_domain = [[-phi_1_bound, -phi_2_bound, -phi_1dc_bound, -phi_2dc_bound], \\\n",
    "                     [phi_1_bound, phi_2_bound, phi_1dc_bound, phi_2dc_bound]]\n",
    "\n",
    "# coupled_fq_pot = Potential(coupled_flux_qubit_pot_with_offset_at_00_xy, coupled_flux_qubit_force, 14, 4,\\\n",
    "#                            default_params = coupled_fq_default_param,  relevant_domain = coupled_fq_domain)\n",
    "\n",
    "coupled_fq_pot = Potential(coupled_flux_qubit_non_linear_approx_pot, coupled_flux_qubit_non_linear_approx_force, 14, 4,\\\n",
    "                           default_params = initial_parameter_dict,  relevant_domain = coupled_fq_domain)\n",
    "\n"
   ]
  },
  {
   "cell_type": "code",
   "execution_count": null,
   "id": "10",
   "metadata": {},
   "outputs": [],
   "source": []
  },
  {
   "cell_type": "markdown",
   "id": "11",
   "metadata": {},
   "source": [
    "### protocol setting"
   ]
  },
  {
   "cell_type": "code",
   "execution_count": null,
   "id": "12",
   "metadata": {
    "tags": []
   },
   "outputs": [],
   "source": [
    "zeroDissipation = False\n",
    "# zeroDissipation = True\n",
    "\n",
    "saveAllStates = True\n",
    "\n",
    "params['sim_params'] = [_lambda, _theta, _eta]\n",
    "params['capacitance'] = [C_1, C_2, C_1/4, C_2/4]\n",
    "params['mass_special'] = [1, 1, 1/4, 1/4]\n",
    "params['v_c'] = x_c/t_c\n",
    "params['k_BT'] = k_BT\n",
    "\n",
    "if zeroDissipation:\n",
    "    params['sim_params'] = [_lambda * 0, _theta, _eta * 0]\n",
    "\n",
    "params['circuit_parameters'] = {\n",
    "    \"C_factor\":C_factor, \"L_factor\": L_factor, \"I_m_factor\": I_m_factor, \"T\": T, \n",
    "    \"I_p_1\": I_p_1, \"I_p_2\": I_p_2, \"I_m_1\": I_m_1, \"I_m_2\": I_m_2,\n",
    "    \"R_1\": R_1, \"R_2\": R_2, \"C_1\": C_1, \"C_2\": C_2, \"L_1\": L_1, \"L_2\": L_2, \n",
    "    \"phi_1_x_on\": phi_1_x_on_12, \"phi_2_x_on\": phi_1_x_on_12,\n",
    "    \"phi_1_dcx_on\": phi_1_dcx_on_12, \"phi_2_dcx_on\": phi_2_dcx_on_12, \"M_12_on\": M_12_on,\n",
    "    \"gamma\": gamma\n",
    "}\n",
    "\n",
    "\n",
    "# bookmark\n",
    "initial_parameter_dict[\"phi_1_dcx\"], initial_parameter_dict[\"phi_2_dcx\"], initial_parameter_dict[\"M_12\"] = \\\n",
    "phi_1_dcx_off, phi_2_dcx_off, M_12_off\n",
    "\n",
    "m_12_factor = 1\n",
    "CE_1_a = {\n",
    "    \"phi_1_x\": phi_1_x_on_12 * 0.8, \"phi_2_x\": phi_2_x_on_12, \"M_12\": M_12_on, \\\n",
    "    \"phi_1_dcx\": phi_1_dcx_off, \"phi_2_dcx\": phi_2_dcx_on_12, \"name\":\"CE_1\"\n",
    "}\n",
    "CE_1_b = {\n",
    "    \"phi_1_x\": phi_1_x_on_12  , \"phi_2_x\": phi_2_x_on_12, \"M_12\": M_12_on * m_12_factor, \\\n",
    "    \"phi_1_dcx\": phi_1_dcx_off, \"phi_2_dcx\": phi_2_dcx_on_12, \"name\":\"CE_1\"\n",
    "}\n",
    "\n",
    "\n",
    "# longer CE\n",
    "t_duration = 100\n",
    "protocol_list_LCE = [\n",
    "    create_CE_Protocol(t_duration, CE_8),\n",
    "    create_CE_Protocol(t_duration, CE_1),\n",
    "    create_CE_Protocol(t_duration, CE_6),\n",
    "    create_CE_Protocol(t_duration, CE_3),\n",
    "    create_CE_Protocol(t_duration, CE_8),\n",
    "    create_CE_Protocol(t_duration, four_well)\n",
    "]\n",
    "# shorter CE\n",
    "protocol_list = [\n",
    "    # forward\n",
    "    create_CE_Protocol(50, CE_1_a),\n",
    "    create_CE_Protocol(150, CE_1_b),\n",
    "    create_CE_Protocol(150, CE_1_a),\n",
    "    create_CE_Protocol(50, four_well)\n",
    "    # create_CE_Protocol(100, CE_8),\n",
    "    # create_CE_Protocol(100, flip_V),\n",
    "    # create_CE_Protocol(100, flip_H),\n",
    "\n",
    "    # create_CE_Protocol(100, CE_3),\n",
    "    # create_CE_Protocol(100, CE_8)\n",
    "]\n",
    "\n",
    "\n",
    "protocol_list_variable_duration = [\n",
    "    # forward\n",
    "    create_CE_Protocol(30, CE_1_a),\n",
    "    create_CE_Protocol(60, CE_1_b),\n",
    "    create_CE_Protocol(30, CE_1_a),\n",
    "    create_CE_Protocol(100, four_well)\n",
    "\n",
    "]\n",
    "\n",
    "\n",
    "protocol_list_fixed_duration = [\n",
    "    # forward\n",
    "    create_CE_Protocol(100, CE_1_b),\n",
    "    # create_CE_Protocol(100, CE_1_b),\n",
    "    # create_CE_Protocol(100, CE_1_a),\n",
    "    create_CE_Protocol(100, four_well)\n",
    "\n",
    "]\n",
    "\n",
    "\n",
    "\n",
    "protocol_list_shape_check = [\n",
    "    create_CE_Protocol(10, {\n",
    "        \"phi_1_x\": phi_1_x_off  , \"phi_2_x\": phi_2_x_off, \"M_12\": M_12_on, \\\n",
    "        \"phi_1_dcx\": phi_1_dcx_off, \"phi_2_dcx\": phi_2_dcx_off, \"name\":\"M_12_only\"\n",
    "    }),\n",
    "    create_CE_Protocol(10, {\n",
    "        \"phi_1_x\": phi_1_x_off  , \"phi_2_x\": phi_2_x_off, \"M_12\": -M_12_on, \\\n",
    "        \"phi_1_dcx\": phi_1_dcx_off, \"phi_2_dcx\": phi_2_dcx_off, \"name\":\"M_12_only\"\n",
    "    }),\n",
    "    create_CE_Protocol(10, {\n",
    "        \"phi_1_x\": phi_1_x_on_12  , \"phi_2_x\": phi_2_x_off, \"M_12\": -M_12_off, \\\n",
    "        \"phi_1_dcx\": phi_1_dcx_off, \"phi_2_dcx\": phi_2_dcx_off, \"name\": \"phi_1x_on_only\"\n",
    "    }),\n",
    "    create_CE_Protocol(10, {\n",
    "        \"phi_1_x\": -phi_1_x_on_12  , \"phi_2_x\": phi_2_x_off, \"M_12\": -M_12_off, \\\n",
    "        \"phi_1_dcx\": phi_1_dcx_off, \"phi_2_dcx\": phi_2_dcx_off, \"name\": \"phi_1x_on_only\"\n",
    "    }),\n",
    "    create_CE_Protocol(10, {\n",
    "        \"phi_1_x\": phi_1_x_off  , \"phi_2_x\": phi_2_x_on_12, \"M_12\": -M_12_off, \\\n",
    "        \"phi_1_dcx\": phi_1_dcx_off, \"phi_2_dcx\": phi_2_dcx_off, \"name\": \"phi_1x_on_only\"\n",
    "    }),\n",
    "    create_CE_Protocol(10, {\n",
    "        \"phi_1_x\": phi_1_x_off  , \"phi_2_x\": -phi_2_x_on_12, \"M_12\": -M_12_off, \\\n",
    "        \"phi_1_dcx\": phi_1_dcx_off, \"phi_2_dcx\": phi_2_dcx_off, \"name\": \"phi_1x_on_only\"\n",
    "    })\n",
    "]\n",
    "\n",
    "protocol_list = protocol_list_shape_check"
   ]
  },
  {
   "cell_type": "code",
   "execution_count": null,
   "id": "13",
   "metadata": {},
   "outputs": [],
   "source": [
    "\n",
    "t_factor = 1\n",
    "protocol_list_variable_duration = [\n",
    "    # forward\n",
    "    # create_CE_Protocol(50  * t_factor, CE_1, ratio_array),\n",
    "    create_CE_Protocol(50 * t_factor, CE_1),\n",
    "    # create_CE_Protocol(20 * t_factor, CE_1_a),\n",
    "    create_CE_Protocol(50 * t_factor, four_well),\n",
    "    # create_CE_Protocol(95 * t_factor, CE_1_b),\n",
    "    # create_CE_Protocol(95 * t_factor, CE_1_a),\n",
    "    # create_CE_Protocol(5  * t_factor, four_well)\n",
    "\n",
    "]\n",
    "\n",
    "protocol_list = protocol_list_variable_duration"
   ]
  },
  {
   "cell_type": "code",
   "execution_count": null,
   "id": "14",
   "metadata": {},
   "outputs": [],
   "source": []
  },
  {
   "cell_type": "code",
   "execution_count": null,
   "id": "15",
   "metadata": {},
   "outputs": [],
   "source": [
    "def plot_3_well_potential(phi_1x, mu):\n",
    "    phi_1_array = np.linspace(-4, 4, 1000)\n",
    "    phi_2 = 2\n",
    "\n",
    "    params_list_used = cfqr.protocol.get_params(0)\n",
    "    mu_array = np.linspace(0, 0.15, 10)\n",
    "    phi_1x_array  = np.linspace(0., 0.3, 10)\n",
    "    for x in phi_1xdc_array:\n",
    "        fig = plt.figure(figsize= [20, 5])\n",
    "        ax_0 = fig.add_subplot(1, 4, 1)\n",
    "        ax_1 = fig.add_subplot(1, 4, 2)\n",
    "        ax_2 = fig.add_subplot(1, 4, 3)\n",
    "        ax_3 = fig.add_subplot(1, 4, 4)\n",
    "\n",
    "        params_list_used[8] = 0.61 # phi_1x\n",
    "        params_list_used[9] = 0.10 # phi_2x\"\n",
    "        params_list_used[10] = 0 # phi_1xdc\n",
    "        params_list_used[11] = 1.79 # phi_2xdc\n",
    "        params_list_used[12] = 0.06 # mu\n",
    "        \n",
    "        params_at_t_str = [f\"{key}: {value:.3g}\" for key, value in zip(cfqr.protocol_key[-6:-1], params_list_used[-6:-1])]\n",
    "        fig.suptitle(f\"phi_1xdc = {params_list_used[10]:.3g}, phi_1x = {params_list_used[8]:.3g}, phi_2x = {params_list_used[9]:.3g}, mu = {params_list_used[12]:.3g}\") \n",
    "\n",
    "        potential_min = []\n",
    "        for _phi_1dc in phi_1dc_array[0:]:\n",
    "            potential = cfqr.potential.potential(phi_1_array, phi_2, _phi_1dc, phi_2dc, params_list_used)\n",
    "            ax_0.plot(phi_1_array, np.full(len(phi_1_array), fill_value=_phi_1dc), potential, label = f\"{_phi_1dc:.3g}\")\n",
    "            ax_1.plot(phi_1_array, potential, label = f\"phi_1dc = {_phi_1dc:.3g}\")\n",
    "            \n",
    "            potential = cfqr.potential.potential(phi_1_array, -phi_2, _phi_1dc, phi_2dc, params_list_used)\n",
    "            ax_2.plot(phi_1_array, np.full(len(phi_1_array), fill_value=_phi_1dc), potential, label = f\"{_phi_1dc:.3g}\")\n",
    "            ax_3.plot(phi_1_array, potential, label = f\"phi_1dc = {_phi_1dc:.3g}\")\n",
    "            \n",
    "            \n",
    "        ax_0.set_xlim(-4, 4)\n",
    "        # ax_0.set_zlim(min(potential_min) - 100, min(potential_min)+1000)\n",
    "        ax_1.set_ylim( -1700, -1000)\n",
    "        ax_3.set_ylim( -1700, -1000)\n",
    "        # ax_1.legend()\n",
    "        plt.show()"
   ]
  },
  {
   "cell_type": "code",
   "execution_count": null,
   "id": "16",
   "metadata": {},
   "outputs": [],
   "source": []
  },
  {
   "cell_type": "code",
   "execution_count": null,
   "id": "17",
   "metadata": {},
   "outputs": [],
   "source": []
  },
  {
   "cell_type": "markdown",
   "id": "18",
   "metadata": {
    "jp-MarkdownHeadingCollapsed": true,
    "tags": []
   },
   "source": [
    "# first initialization"
   ]
  },
  {
   "cell_type": "markdown",
   "id": "19",
   "metadata": {},
   "source": [
    "### create initial state "
   ]
  },
  {
   "cell_type": "code",
   "execution_count": null,
   "id": "20",
   "metadata": {},
   "outputs": [],
   "source": [
    "%%capture\n",
    "initial_potential_protocol_list = [create_CE_Protocol(5, four_well)]\n",
    "init_state_saved = cfq_batch_sweep.create_initial_state(initial_parameter_dict, initial_potential_protocol_list, coupled_fq_pot, params)"
   ]
  },
  {
   "cell_type": "code",
   "execution_count": null,
   "id": "21",
   "metadata": {},
   "outputs": [],
   "source": []
  },
  {
   "cell_type": "code",
   "execution_count": null,
   "id": "22",
   "metadata": {},
   "outputs": [],
   "source": [
    " "
   ]
  },
  {
   "cell_type": "code",
   "execution_count": null,
   "id": "23",
   "metadata": {},
   "outputs": [],
   "source": [
    "\n",
    "t_factor = 1\n",
    "protocol_list_variable_duration = [\n",
    "    # forward\n",
    "    # create_CE_Protocol(50  * t_factor, CE_1, ratio_array),\n",
    "    create_CE_Protocol(50 * t_factor, {\n",
    "        \"phi_1_x\": phi_1_x_on_12, \"phi_2_x\": phi_2_x_on_12, \"M_12\": M_12_on, \\\n",
    "        \"phi_1_dcx\": phi_1_dcx_off, \"phi_2_dcx\": phi_2_dcx_on_12 * 1.01, \"name\":\"CE_1\"\n",
    "    }),\n",
    "    # create_CE_Protocol(20 * t_factor, CE_1_a),\n",
    "    create_CE_Protocol(50 * t_factor, four_well),\n",
    "    # create_CE_Protocol(95 * t_factor, CE_1_b),\n",
    "    # create_CE_Protocol(95 * t_factor, CE_1_a),\n",
    "    # create_CE_Protocol(5  * t_factor, four_well)\n",
    "\n",
    "]\n",
    "\n",
    "protocol_list = protocol_list_variable_duration"
   ]
  },
  {
   "cell_type": "code",
   "execution_count": null,
   "id": "24",
   "metadata": {},
   "outputs": [],
   "source": []
  },
  {
   "cell_type": "markdown",
   "id": "25",
   "metadata": {},
   "source": [
    "### create cfqr object"
   ]
  },
  {
   "cell_type": "code",
   "execution_count": null,
   "id": "26",
   "metadata": {},
   "outputs": [],
   "source": [
    "\"\"\"\n",
    "# step 3: create the relevant storage protocol and computation protocol\n",
    "\"\"\"\n",
    "def modifiedFunction(t, result):\n",
    "    return result\n",
    "\n",
    "\n",
    "computation_protocol_parameter_dict = coupled_fq_protocol_library.customizedProtocol(initial_parameter_dict, \\\n",
    "                                                                    protocol_list)\n",
    "storage_protocol, comp_protocol = create_system(computation_protocol_parameter_dict, modifiedFunction = None)\n",
    "\n",
    "cfqr = cfq_runner.coupledFluxQubitRunner(potential = coupled_fq_pot, params = params, \\\n",
    "                                                storage_protocol= storage_protocol, \\\n",
    "                                                computation_protocol= comp_protocol, \\\n",
    "                                         protocol_list = protocol_list, \\\n",
    "                                        has_velocity=has_velocity)\n",
    "\n",
    "protocol_time_array, protocol_time_index_array, protocol_all_time_array, protocol_time_all_index_array = cfqr.createProtocolTimeArray(protocol_list, params)\n",
    "cfqr.initialize_sim()\n",
    "cfqr.set_sim_attributes(init_state=init_state_saved)"
   ]
  },
  {
   "cell_type": "code",
   "execution_count": null,
   "id": "27",
   "metadata": {},
   "outputs": [],
   "source": []
  },
  {
   "cell_type": "code",
   "execution_count": null,
   "id": "28",
   "metadata": {},
   "outputs": [],
   "source": []
  },
  {
   "cell_type": "code",
   "execution_count": null,
   "id": "29",
   "metadata": {},
   "outputs": [],
   "source": [
    "# importlib.reload(coupled_fq_protocol_library)\n",
    "\n",
    "# L = 140e-12\n",
    "# C = 500e-15\n",
    "# T = 7\n",
    "# external_parameter_list = {\n",
    "#     \"bifurcation\": { \"phi_1_x\": 0.59,  \"phi_2_x\": 0.1,  \"phi_1_dcx\": 0.0,  \"phi_2_dcx\": 1.79, \"M_12\": 0.06 },\n",
    "#     \"four_well\":   { \"phi_1_x\": 0,  \"phi_2_x\": 0,  \"phi_1_dcx\": 0.0,  \"phi_2_dcx\": 0, \"M_12\": 0.00 }\n",
    "# }\n",
    "\n",
    "# parameter_choice = 'bifurcation'\n",
    "# # parameter_choice = \"four_well\"\n",
    "\n",
    "# external_parameter = external_parameter_list[parameter_choice]\n",
    "# initial_parameter_dict = parameterGenerator(_T = T, L = L, C = C, R = 1, \n",
    "#                                             external_parameter=external_parameter)\n",
    "# cutlineDirection = \"v\"\n",
    "# cutlineValue = 2\n",
    "# cutline_data = coupled_fq_protocol_library.get_potential_along_a_1D_cutline_by_overriding_parameters(cfqr, parameter_data=initial_parameter_dict, \n",
    "#                                                                                                      cutlineDirection=cutlineDirection, cutlineValue=cutlineValue)"
   ]
  },
  {
   "cell_type": "code",
   "execution_count": null,
   "id": "30",
   "metadata": {},
   "outputs": [],
   "source": [
    "# adjusted_targetU = cutline_data[\"targetU\"] - np.min(cutline_data[\"targetU\"] )\n",
    "# # L = [5e-12, 10e-12, 15e-12, 20e-12, 25e-12]\n",
    "# L = [140e-12]\n",
    "# for _L in L:\n",
    "#     initial_parameter_dict = parameterGenerator(_T = T, L = _L, C = C, R = 1, \n",
    "#                                             external_parameter=external_parameter)\n",
    "#     cutline_data = coupled_fq_protocol_library.get_potential_along_a_1D_cutline_by_overriding_parameters(cfqr, parameter_data=initial_parameter_dict, \n",
    "#                                                                                                      cutlineDirection=cutlineDirection, cutlineValue=cutlineValue)\n",
    "#     adjusted_targetU = cutline_data[\"targetU\"] - np.min(cutline_data[\"targetU\"] )\n",
    "#     x = plt.plot(cutline_data[\"plotAxis\"], adjusted_targetU, label = f\"L = {_L/1e-12:.3g}pH, bh = {max(adjusted_targetU[40:60]):.3g}$k_BT$\")\n",
    "\n",
    "    \n",
    "# _c_direction = {\"v\": r\"$\\varphi_1$\", \"h\": r\"$\\varphi_2$\"}\n",
    "# _perp_direction = \"h\" if cutlineDirection == \"v\" else cutlineDirection\n",
    "\n",
    "\n",
    "# plt.title(f\"U along {_c_direction[cutlineDirection]} = {cutlineValue} (T = {T}K, {parameter_choice})\")\n",
    "# plt.xlim(-4, 4)\n",
    "# plt.ylim(-1, 20)\n",
    "# plt.ylabel(r\"Potential ($k_BT$)\", fontsize = 12)\n",
    "# plt.xlabel(_c_direction[_perp_direction], fontsize = 12)\n",
    "# plt.legend()\n",
    "# plt.show()\n"
   ]
  },
  {
   "cell_type": "markdown",
   "id": "31",
   "metadata": {},
   "source": [
    "# check before simulation"
   ]
  },
  {
   "cell_type": "markdown",
   "id": "32",
   "metadata": {},
   "source": [
    "### critical points monitor"
   ]
  },
  {
   "cell_type": "code",
   "execution_count": null,
   "id": "33",
   "metadata": {},
   "outputs": [],
   "source": []
  },
  {
   "cell_type": "code",
   "execution_count": null,
   "id": "34",
   "metadata": {},
   "outputs": [],
   "source": [
    "critical_point_data = cfqr.criticalPointMonitor(np.s_[::100])"
   ]
  },
  {
   "cell_type": "code",
   "execution_count": null,
   "id": "35",
   "metadata": {},
   "outputs": [],
   "source": [
    "fig, ax = plt.subplots(1, 2, figsize = [10, 3])\n",
    "ax[0].plot(critical_point_data[\"t_array\"], critical_point_data[\"00_01\"][\"PE\"], label = \"00_01\")\n",
    "ax[0].plot(critical_point_data[\"t_array\"], critical_point_data[\"10_11\"][\"PE\"], label = \"10_11\")\n",
    "ax[0].plot(critical_point_data[\"t_array\"], critical_point_data[\"00_10\"][\"PE\"], label = \"00_10\")\n",
    "ax[0].plot(critical_point_data[\"t_array\"], critical_point_data[\"01_11\"][\"PE\"], label = \"01_11\")\n",
    "ax[0].legend()\n",
    "\n",
    "ax[1].plot(critical_point_data[\"t_array\"], critical_point_data[\"00\"][\"PE\"], label = \"00\")\n",
    "ax[1].plot(critical_point_data[\"t_array\"], critical_point_data[\"01\"][\"PE\"], label = \"01\")\n",
    "ax[1].plot(critical_point_data[\"t_array\"], critical_point_data[\"10\"][\"PE\"], label = \"10\")\n",
    "ax[1].plot(critical_point_data[\"t_array\"], critical_point_data[\"11\"][\"PE\"], label = \"11\")\n",
    "ax[1].legend()"
   ]
  },
  {
   "cell_type": "code",
   "execution_count": null,
   "id": "36",
   "metadata": {},
   "outputs": [],
   "source": [
    "plt.plot(critical_point_data[\"t_array\"], critical_point_data[\"00_01\"][\"PE\"] - critical_point_data[\"00\"][\"PE\"], label = \"bh_faced_by_00\")\n",
    "plt.plot(critical_point_data[\"t_array\"], critical_point_data[\"00_01\"][\"PE\"] - critical_point_data[\"01\"][\"PE\"], label = \"bh_faced_by_01\")\n",
    "plt.plot(critical_point_data[\"t_array\"], critical_point_data[\"10_11\"][\"PE\"] - critical_point_data[\"10\"][\"PE\"], label = \"bh_faced_by_10\")\n",
    "plt.plot(critical_point_data[\"t_array\"], critical_point_data[\"10_11\"][\"PE\"] - critical_point_data[\"11\"][\"PE\"], label = \"bh_faced_by_11\")\n",
    "plt.hlines(y= 0, xmin = 0, xmax=100, linestyles=\"--\")\n",
    "# plt.plot(critical_point_data[\"t_array\"], critical_point_data[\"10_11\"][\"PE\"], label = \"10_11\")\n",
    "# plt.plot(critical_point_data[\"t_array\"], critical_point_data[\"00_10\"][\"PE\"], label = \"00_10\")\n",
    "# plt.plot(critical_point_data[\"t_array\"], critical_point_data[\"01_11\"][\"PE\"], label = \"01_11\")\n",
    "plt.legend()"
   ]
  },
  {
   "cell_type": "code",
   "execution_count": null,
   "id": "37",
   "metadata": {},
   "outputs": [],
   "source": []
  },
  {
   "cell_type": "markdown",
   "id": "38",
   "metadata": {},
   "source": [
    "### parameter graph"
   ]
  },
  {
   "cell_type": "code",
   "execution_count": null,
   "id": "39",
   "metadata": {
    "tags": []
   },
   "outputs": [],
   "source": [
    "cfqr.showPamameterTimeGraph(protocol_time_array, protocol_all_time_array)"
   ]
  },
  {
   "cell_type": "markdown",
   "id": "40",
   "metadata": {
    "tags": []
   },
   "source": [
    "### potential shape check"
   ]
  },
  {
   "cell_type": "code",
   "execution_count": null,
   "id": "41",
   "metadata": {},
   "outputs": [],
   "source": [
    "protocol_list_shape_check = [\n",
    "    create_CE_Protocol(10, {\n",
    "        \"phi_1_x\": phi_1_x_off  , \"phi_2_x\": phi_2_x_off, \"M_12\": M_12_on, \\\n",
    "        \"phi_1_dcx\": phi_1_dcx_off, \"phi_2_dcx\": phi_2_dcx_off, \"name\":\"M_12_only\"\n",
    "    }),\n",
    "    create_CE_Protocol(10, {\n",
    "        \"phi_1_x\": phi_1_x_off  , \"phi_2_x\": phi_2_x_off, \"M_12\": -M_12_on, \\\n",
    "        \"phi_1_dcx\": phi_1_dcx_off, \"phi_2_dcx\": phi_2_dcx_off, \"name\":\"M_12_only\"\n",
    "    }),\n",
    "    create_CE_Protocol(10, {\n",
    "        \"phi_1_x\": phi_1_x_on_12  , \"phi_2_x\": phi_2_x_off, \"M_12\": -M_12_off, \\\n",
    "        \"phi_1_dcx\": phi_1_dcx_off, \"phi_2_dcx\": phi_2_dcx_off, \"name\": \"phi_1x_on_only\"\n",
    "    }),\n",
    "    create_CE_Protocol(10, {\n",
    "        \"phi_1_x\": -phi_1_x_on_12  , \"phi_2_x\": phi_2_x_off, \"M_12\": -M_12_off, \\\n",
    "        \"phi_1_dcx\": phi_1_dcx_off, \"phi_2_dcx\": phi_2_dcx_off, \"name\": \"phi_1x_on_only\"\n",
    "    }),\n",
    "    create_CE_Protocol(10, {\n",
    "        \"phi_1_x\": phi_1_x_off  , \"phi_2_x\": phi_2_x_on_12, \"M_12\": -M_12_off, \\\n",
    "        \"phi_1_dcx\": phi_1_dcx_off, \"phi_2_dcx\": phi_2_dcx_off, \"name\": \"phi_1x_on_only\"\n",
    "    }),\n",
    "    create_CE_Protocol(10, {\n",
    "        \"phi_1_x\": phi_1_x_off  , \"phi_2_x\": -phi_2_x_on_12, \"M_12\": -M_12_off, \\\n",
    "        \"phi_1_dcx\": phi_1_dcx_off, \"phi_2_dcx\": phi_2_dcx_off, \"name\": \"phi_1x_on_only\"\n",
    "    })\n",
    "]\n"
   ]
  },
  {
   "cell_type": "code",
   "execution_count": null,
   "id": "42",
   "metadata": {
    "tags": []
   },
   "outputs": [],
   "source": [
    "_t = 60\n",
    "\n",
    "critical_points = np.array(cfqr.get_critical_points_at_t_for_a_set_of_parameter(_t, showPotential=False, verbose = False, guess=[(0, 0), (-2, 0), (2, 0), (0,2), (0, -2), (-2, -2), (-2, 2), (2, -2), (2, 2)]))\n",
    "\n",
    "\n",
    "\n",
    "\n",
    "l = cfqr.plotGraph(t = _t, cutlineValue=critical_points[1][0], x_range=[-3, 3],y_range = [1000, 3000], contour_range = [1000, 2800], showGraph = True)\n",
    "\n",
    "\n",
    "contour_plt = l[\"ax0\"]\n",
    "cutline_plt = l[\"ax1\"]\n",
    "contour_plt.set_aspect('equal')\n",
    "contour_plt.set_title(f\"phi_2x_12 = {-phi_2_x_on_12}\")\n",
    "cutline_plt.set_xlim(-5, 5)\n",
    "cutline_plt.set_ylim(1000, 3000)\n",
    "\n",
    "# contour_plt.scatter(critical_points[:, 0], critical_points[:, 1])\n",
    "\n",
    "# cfqr.plotGraph(t = 50, cutlineValue=-1.96, showGraph=True)\n",
    "plt.show()"
   ]
  },
  {
   "cell_type": "code",
   "execution_count": null,
   "id": "43",
   "metadata": {},
   "outputs": [],
   "source": []
  },
  {
   "cell_type": "markdown",
   "id": "44",
   "metadata": {},
   "source": [
    "### bifurcation check"
   ]
  },
  {
   "cell_type": "code",
   "execution_count": null,
   "id": "45",
   "metadata": {},
   "outputs": [],
   "source": [
    "_stepped_time = protocol_all_time_array[::100]\n",
    "minimum_points_of_00 = [cfqr.get_minimum_at_t_for_a_set_of_parameter(_t, initial_parameter_dict, guess = [(-2, -2)])[0] for _t in _stepped_time]\n",
    "fig, ax = plt.subplots(1, 2, figsize = [8, 4])\n",
    "\n",
    "ax[0].scatter(_stepped_time, np.array(minimum_points_of_00)[:, 0])\n",
    "ax[0].set_xlabel(r't $(\\tau_c)$', fontsize = 12)\n",
    "ax[0].set_ylabel(r'$\\varphi_1$', fontsize = 12)\n",
    "\n",
    "ax[1].scatter(_stepped_time, np.array(minimum_points_of_00)[:, 1])\n",
    "ax[1].set_xlabel(r't $(\\tau_c)$', fontsize = 12)\n",
    "ax[1].set_ylabel(r'$\\varphi_2$', fontsize = 12)\n",
    "fig.tight_layout()"
   ]
  }
 ],
 "metadata": {
  "kernelspec": {
   "display_name": "Python 3 (ipykernel)",
   "language": "python",
   "name": "python3"
  },
  "language_info": {
   "codemirror_mode": {
    "name": "ipython",
    "version": 3
   },
   "file_extension": ".py",
   "mimetype": "text/x-python",
   "name": "python",
   "nbconvert_exporter": "python",
   "pygments_lexer": "ipython3",
   "version": "3.10.9"
  }
 },
 "nbformat": 4,
 "nbformat_minor": 5
}
