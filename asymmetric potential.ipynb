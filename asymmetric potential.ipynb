{
 "cells": [
  {
   "cell_type": "code",
   "execution_count": null,
   "id": "0",
   "metadata": {},
   "outputs": [],
   "source": [
    "import numpy as np\n",
    "from sus.protocol_designer import System, Protocol, Potential, Compound_Protocol\n",
    "from sus.protocol_designer.protocol import sequential_protocol\n",
    "from IPython import display\n",
    "from IPython.display import HTML\n",
    "from quick_sim import setup_sim\n",
    "from edward_tools.coupled_fq_potential import coupled_flux_qubit_non_linear_approx_pot, coupled_flux_qubit_non_linear_approx_force, coupled_flux_qubit_non_linear_approx_pot_break_down\n",
    "import edward_tools.fq_runner as fq_runner\n",
    "from edward_tools.visualization import animate_sim_flux_qubit\n",
    "from edward_tools.initial_state_sampling import extra_constraint_00_and_11_only\n",
    "from PARAMETER_INPUT import *\n",
    "from PARAMETER_INPUT import _lambda, _theta, _eta\n",
    "from edward_tools.Analysis_tool.general_analysis_tools import show_phi_dc_with_time\n",
    "\n",
    "import kyle_tools as kt\n",
    "import matplotlib.pyplot as plt\n",
    "\n",
    "import importlib, os, datetime\n",
    "from edward_tools import coupled_fq_protocol_library, cfq_runner\n",
    "from edward_tools import coupled_fq_protocol_library\n",
    "import edward_tools.cfq_batch_sweep as cfq_batch_sweep\n",
    "\n",
    "\n",
    "\n",
    "coupled_fq_protocol_library = importlib.reload(coupled_fq_protocol_library)\n",
    "create_system = coupled_fq_protocol_library.create_system\n",
    "get_potential_shot_at_different_t = coupled_fq_protocol_library.get_potential_shot_at_different_t\n",
    "get_potential_shot_at_different_t_1D = coupled_fq_protocol_library.get_potential_shot_at_different_t_1D\n",
    "create_simple_protocol_parameter_dict = coupled_fq_protocol_library.create_simple_protocol_parameter_dict\n",
    "coupled_fq_runner = importlib.reload(cfq_runner)\n",
    "coupled_fq_protocol_library = importlib.reload(coupled_fq_protocol_library)\n",
    "create_system = coupled_fq_protocol_library.create_system\n",
    "get_potential_along_a_1D_cutline = coupled_fq_protocol_library.get_potential_along_a_1D_cutline\n",
    "plotCutlines = coupled_fq_protocol_library.plotCutlines"
   ]
  },
  {
   "cell_type": "code",
   "execution_count": null,
   "id": "1",
   "metadata": {},
   "outputs": [],
   "source": [
    "PHI_0 = 2.067833848 * 1e-15\n",
    "k_B = 1.38e-23\n",
    "T = 0.5\n",
    "k_BT = k_B * T"
   ]
  },
  {
   "cell_type": "code",
   "execution_count": null,
   "id": "2",
   "metadata": {},
   "outputs": [],
   "source": [
    "\n",
    "C_factor = 100\n",
    "L_factor = 0.35\n",
    "I_m_factor = 15\n",
    "I_p_1, I_p_2 = 2e-6 , 2e-6  # Amp\n",
    "I_m_1, I_m_2 = 7e-9 * I_m_factor, 7e-9 * I_m_factor                                # Amp\n",
    "C_1, C_2 = 4e-9 * C_factor, 4e-9 * C_factor                              # F\n",
    "L_1, L_2 = 1e-9 * L_factor, 1e-9 * L_factor                             # H \n",
    "\n",
    "R_1, R_2 = 371, 371                                # ohm\n",
    "\n",
    "quick_doubler = lambda x1, x2: np.hstack([np.array([x1] * 2), np.array([x2]*2)])\n",
    "I_p, I_m = quick_doubler(I_p_1, I_p_2), quick_doubler(I_m_1, I_m_2)\n",
    "\n",
    "m_c = C_1\n",
    "m_1 = C_1\n",
    "m_2 = C_2\n",
    "x_c = PHI_0 / (2 * np.pi)\n",
    "time_scale_factor = 1\n",
    "t_c = np.sqrt(L_1 * C_1)\n",
    "\n",
    "\n",
    "U0_1 = m_c * x_c**2 / t_c**2\n",
    "U0_2 = m_2 * x_c**2 / t_c**2\n",
    "kappa_1, kappa_2, kappa_3, kappa_4 = k_BT/U0_1, k_BT/U0_1, k_BT/U0_1, k_BT/U0_1 # these are kappa' in the equation\n",
    "\n",
    "lambda_1 = 2 * np.sqrt(L_1 * C_1) / (C_1 * R_1)\n",
    "theta_1  = 1\n",
    "eta_1    = np.sqrt(np.sqrt(L_1 * C_1)/ (R_1 * C_1)) * np.sqrt(2 * kappa_1 / 1**2)\n",
    "\n",
    "lambda_2 = 2 * np.sqrt(L_1 * C_1) / (C_2 * R_2)\n",
    "theta_2  = 1 / (C_2/C_1)\n",
    "eta_2    = np.sqrt(np.sqrt(L_1 * C_1)/ (R_1 * C_1)) * np.sqrt(2 * kappa_2 * (R_1 * C_1**2) / (R_2 * C_2**2))\n",
    "\n",
    "lambda_3 = 2 * np.sqrt(L_1 * C_1) / (C_1 * R_1)\n",
    "theta_3  = 4\n",
    "eta_3    = np.sqrt(np.sqrt(L_1 * C_1)/ (R_1 * C_1)) * np.sqrt(8 * kappa_3)\n",
    "\n",
    "lambda_4 = 2 * np.sqrt(L_1 * C_1) / (C_2 * R_2)\n",
    "theta_4  = 4 / (C_2/C_1)\n",
    "eta_4    = np.sqrt(np.sqrt(L_1 * C_1)/ (R_1 * C_1)) * np.sqrt(8 * kappa_4 * (R_1 * C_1**2) / (R_2 * C_2**2))\n",
    "\n",
    "gamma = 20\n",
    "\n",
    "\n",
    "beta_1 = 2 * np.pi * L_1 * I_p_1 / PHI_0; \n",
    "beta_2 = 2 * np.pi * L_2 * I_p_2 / PHI_0;\n",
    "\n",
    "d_beta_1 = 2 * np.pi * L_1 * I_m_1 / PHI_0; \n",
    "d_beta_2 = 2 * np.pi * L_2 * I_m_2 / PHI_0;\n",
    "\n",
    "\n",
    "_lambda = np.array([lambda_1, lambda_2, lambda_3, lambda_4])\n",
    "_theta  = np.array([theta_1, theta_2, theta_3, theta_4])\n",
    "_eta  =   np.array([eta_1, eta_2, eta_3, eta_4])"
   ]
  },
  {
   "cell_type": "code",
   "execution_count": null,
   "id": "3",
   "metadata": {},
   "outputs": [],
   "source": []
  },
  {
   "cell_type": "code",
   "execution_count": null,
   "id": "4",
   "metadata": {},
   "outputs": [],
   "source": [
    "\"\"\"\n",
    "# step 0: modify parameters\n",
    "- All the parameters are stored in a separate file PARAMETER_INPUT\n",
    "- You can override some of the parameters here.\n",
    "\"\"\"\n",
    "params = {}\n",
    "params['N'] = 1000\n",
    "params['dt'] = 1/100\n",
    "params['lambda'] = 1\n",
    "params['beta'] = 1\n",
    "params['sim_params'] = [_lambda, _theta, _eta]\n",
    "params['target_work'] = None\n",
    "params['comment'] = \"test the effect of I_m asymmetry\"\n",
    "\n"
   ]
  },
  {
   "cell_type": "code",
   "execution_count": null,
   "id": "5",
   "metadata": {},
   "outputs": [],
   "source": []
  },
  {
   "cell_type": "code",
   "execution_count": null,
   "id": "6",
   "metadata": {},
   "outputs": [],
   "source": [
    "\"\"\"\n",
    "# step 1: Define potential\n",
    "\"\"\"\n",
    "coupled_fq_default_param = [1, 1, 0, 0, 0, 0, 0, 0, 0, 0, 0, 0, 0, x_c]\n",
    "[phi_1_bound, phi_2_bound, phi_1dc_bound, phi_2dc_bound] = np.array([4, 4, 4, 4])/time_scale_factor\n",
    "\n",
    "coupled_fq_domain = [[-phi_1_bound, -phi_2_bound, -phi_1dc_bound, -phi_2dc_bound], \\\n",
    "                     [phi_1_bound, phi_2_bound, phi_1dc_bound, phi_2dc_bound]]\n",
    "\n",
    "# coupled_fq_pot = Potential(coupled_flux_qubit_pot_with_offset_at_00_xy, coupled_flux_qubit_force, 14, 4,\\\n",
    "#                            default_params = coupled_fq_default_param,  relevant_domain = coupled_fq_domain)\n",
    "\n",
    "coupled_fq_pot = Potential(coupled_flux_qubit_non_linear_approx_pot, coupled_flux_qubit_non_linear_approx_force, 14, 4,\\\n",
    "                           default_params = coupled_fq_default_param,  relevant_domain = coupled_fq_domain)"
   ]
  },
  {
   "cell_type": "code",
   "execution_count": null,
   "id": "7",
   "metadata": {},
   "outputs": [],
   "source": [
    "\"\"\"\n",
    "# step 2: Define initial condition and protocol\n",
    "\"\"\"\n",
    "manual_domain=[np.array([-5, -5]), np.array([5, 5])]\n",
    "# phi_1_dcx, phi_2_dcx = 3, 3\n",
    "phi_1_dcx, phi_2_dcx = 0, 0\n",
    "phi_1_dc, phi_2_dc = phi_1_dcx, phi_2_dcx\n",
    "\n",
    "phi_1_dcx_off = 0\n",
    "phi_2_dcx_off = 0\n",
    "M_12_off = 0\n",
    "\n",
    "# bookmark\n",
    "# phi_1_dcx_on = 2.8\n",
    "# phi_2_dcx_on = 2.8\n",
    "# M_12_on = -0.6\n",
    "\n",
    "phi_1_dcx_on = 3.0\n",
    "phi_2_dcx_on = 3.0\n",
    "M_12_on = -0.6\n",
    "\n",
    "initial_parameter_dict = {\n",
    "        \"U0_1\": U0_1,     \"U0_2\": U0_2,     \"gamma_1\": gamma,  \"gamma_2\": gamma,\n",
    "        \"beta_1\": beta_1,   \"beta_2\": beta_2,   \"d_beta_1\": d_beta_1 ,   \"d_beta_2\": d_beta_2,\n",
    "        \"phi_1_x\": 0,  \"phi_2_x\": 0,  \"phi_1_dcx\": phi_1_dcx_off,  \"phi_2_dcx\": phi_1_dcx_off,\n",
    "        \"M_12\": M_12_off, 'x_c': x_c\n",
    "}"
   ]
  },
  {
   "cell_type": "code",
   "execution_count": null,
   "id": "8",
   "metadata": {},
   "outputs": [],
   "source": []
  },
  {
   "cell_type": "code",
   "execution_count": null,
   "id": "9",
   "metadata": {},
   "outputs": [],
   "source": [
    "zeroDissipation = False\n",
    "\n",
    "params['sim_params'] = [_lambda, _theta, _eta]\n",
    "if zeroDissipation:\n",
    "    params['sim_params'] = [_lambda * 0, _theta, _eta * 0]\n",
    "\n",
    "TR_initial_condition = [\n",
    "    (phi_1_dcx_off, phi_2_dcx_off, M_12_off), \n",
    "    (phi_1_dcx_off, phi_2_dcx_on,  M_12_off), \n",
    "    (phi_1_dcx_off, phi_2_dcx_on,  M_12_on), \n",
    "    (phi_1_dcx_off, phi_2_dcx_off, M_12_on), \n",
    "    (phi_1_dcx_on,  phi_2_dcx_off, M_12_off),\n",
    "    (phi_1_dcx_off, phi_2_dcx_off, M_12_off) \n",
    "]\n",
    "\n",
    "protocol_index = 4\n",
    "\n",
    "# bookmark\n",
    "# initial_parameter_dict[\"phi_1_dcx\"], initial_parameter_dict[\"phi_2_dcx\"], initial_parameter_dict[\"M_12\"] = TR_initial_condition[protocol_index-1]\n",
    "initial_parameter_dict[\"phi_1_dcx\"], initial_parameter_dict[\"phi_2_dcx\"], initial_parameter_dict[\"M_12\"] = \\\n",
    "TR_initial_condition[protocol_index]\n",
    "\n",
    "rest = lambda t: {\"duration\": t, \"name\":\"rest\"}\n",
    "duration_t = 200\n",
    "protocol_list = [\n",
    "    # forward\n",
    "    # {\"duration\":50, \"phi_1_dcx\": phi_1_dcx_off, \"phi_2_dcx\": phi_2_dcx_on * 0.5,  \"M_12\": M_12_off,  \"name\":\"(1) mix in y direction\"},\n",
    "    # {\"duration\":200, \"phi_1_dcx\": phi_1_dcx_off, \"phi_2_dcx\": phi_2_dcx_on,  \"M_12\": M_12_off,  \"name\":\"(1) mix in y direction\"},\n",
    "    # {\"duration\":60, \"phi_1_dcx\": phi_1_dcx_off, \"phi_2_dcx\": phi_2_dcx_on,  \"M_12\": M_12_on,   \"name\":\"(2) conditional tilt\"},\n",
    "    # # {\"duration\":100, \"phi_1_dcx\": phi_1_dcx_off, \"phi_2_dcx\": phi_2_dcx_off, \"M_12\": M_12_on,   \"name\":\"(3) raise the barrier\"},\n",
    "    # {\"duration\":100, \"phi_1_dcx\": phi_1_dcx_on,  \"phi_2_dcx\": phi_2_dcx_off, \"M_12\": M_12_on,  \"name\": \"(4) conditional tilt in x\"}, \n",
    "    # {\"duration\":60, \"phi_1_dcx\": phi_1_dcx_on,  \"phi_2_dcx\": phi_2_dcx_off, \"M_12\": M_12_off,  \"name\":\"(5) mix in x direction\"}, \n",
    "    {\"duration\":200, \"phi_1_dcx\": phi_1_dcx_on * 0.5, \"phi_2_dcx\": phi_2_dcx_off, \"M_12\": M_12_off,  \"name\":\"(6) 4 well potential\"}, \n",
    "    {\"duration\":50, \"phi_1_dcx\": phi_1_dcx_off, \"phi_2_dcx\": phi_2_dcx_off, \"M_12\": M_12_off,  \"name\":\"(6) 4 well potential\"}, \n",
    "]\n",
    "\n",
    "\n",
    "protocol_time_array = [item[\"duration\"] for item in protocol_list]\n",
    "protocol_time_array.insert(0, 0)\n",
    "protocol_time_array = np.cumsum(protocol_time_array)"
   ]
  },
  {
   "cell_type": "code",
   "execution_count": null,
   "id": "10",
   "metadata": {},
   "outputs": [],
   "source": []
  },
  {
   "cell_type": "code",
   "execution_count": null,
   "id": "11",
   "metadata": {},
   "outputs": [],
   "source": [
    "\n",
    "\"\"\"\n",
    "# step 3: create the relevant storage protocol and computation protocol\n",
    "\"\"\"\n",
    "computation_protocol_parameter_dict = coupled_fq_protocol_library.customizedProtocol(initial_parameter_dict, \\\n",
    "                                                                    protocol_list)\n",
    "storage_protocol, comp_protocol = create_system(computation_protocol_parameter_dict)"
   ]
  },
  {
   "cell_type": "code",
   "execution_count": null,
   "id": "12",
   "metadata": {},
   "outputs": [],
   "source": [
    "\"\"\"\n",
    "# step 4: create the coupled_fq_runner\n",
    "\"\"\"\n",
    "cfqr = cfq_runner.coupledFluxQubitRunner(potential = coupled_fq_pot, params = params, \\\n",
    "                                                storage_protocol= storage_protocol, \\\n",
    "                                                computation_protocol= comp_protocol, measure_all_states=True)\n",
    "cfqr.initialize_sim()\n",
    "# cfqr.set_sim_attributes(extra_constraint=extra_constraint_00_and_11_only)\n",
    "cfqr.set_sim_attributes()\n",
    "init_state_saved = cfqr.init_state"
   ]
  },
  {
   "cell_type": "code",
   "execution_count": null,
   "id": "13",
   "metadata": {},
   "outputs": [],
   "source": [
    "N_particle, d1, d2 = cfqr.init_state.shape"
   ]
  },
  {
   "cell_type": "code",
   "execution_count": null,
   "id": "14",
   "metadata": {},
   "outputs": [],
   "source": [
    "combined_init_state = np.empty([N_particle * 2, d1, d2])\n",
    "label_column = np.empty([N_particle * 2], dtype = object)"
   ]
  },
  {
   "cell_type": "code",
   "execution_count": null,
   "id": "15",
   "metadata": {},
   "outputs": [],
   "source": [
    "combined_init_state[:N_particle, ...] = cfqr.init_state\n",
    "label_column[:1000][init_state_saved[:1000, 1, 0]>0] = \"10\"\n",
    "label_column[:1000][init_state_saved[:1000, 1, 0]<0] = \"00\""
   ]
  },
  {
   "cell_type": "code",
   "execution_count": null,
   "id": "16",
   "metadata": {},
   "outputs": [],
   "source": [
    "combined_init_state[N_particle:, ...] = cfqr.init_state\n",
    "label_column[1000:][init_state_saved[:1000, 1, 0]>0] = \"11\"\n",
    "label_column[1000:][init_state_saved[:1000, 1, 0]<0] = \"01\""
   ]
  },
  {
   "cell_type": "code",
   "execution_count": null,
   "id": "17",
   "metadata": {},
   "outputs": [],
   "source": []
  },
  {
   "cell_type": "code",
   "execution_count": null,
   "id": "18",
   "metadata": {},
   "outputs": [],
   "source": [
    "x_coord_00 = combined_init_state[label_column==\"00\"][:, 0, 0]\n",
    "y_coord_00 = combined_init_state[label_column==\"00\"][:, 1, 0]\n",
    "x_coord_01 = combined_init_state[label_column==\"01\"][:, 0, 0]\n",
    "y_coord_01 = combined_init_state[label_column==\"01\"][:, 1, 0]\n",
    "x_coord_10 = combined_init_state[label_column==\"10\"][:, 0, 0]\n",
    "y_coord_10 = combined_init_state[label_column==\"10\"][:, 1, 0]\n",
    "x_coord_11 = combined_init_state[label_column==\"11\"][:, 0, 0]\n",
    "y_coord_11 = combined_init_state[label_column==\"11\"][:, 1, 0]"
   ]
  },
  {
   "cell_type": "code",
   "execution_count": null,
   "id": "19",
   "metadata": {},
   "outputs": [],
   "source": [
    "plt.xlim([-4, 4])\n",
    "plt.ylim([-4, 4])\n",
    "plt.scatter(x_coord_00, y_coord_00, c = \"blue\")\n",
    "plt.scatter(x_coord_10, y_coord_10, c = \"green\")\n",
    "plt.scatter(x_coord_01, y_coord_01, c = \"orange\")\n",
    "plt.scatter(x_coord_11, y_coord_11, c = \"red\")\n"
   ]
  },
  {
   "cell_type": "code",
   "execution_count": null,
   "id": "20",
   "metadata": {},
   "outputs": [],
   "source": []
  },
  {
   "cell_type": "code",
   "execution_count": null,
   "id": "21",
   "metadata": {},
   "outputs": [],
   "source": []
  },
  {
   "cell_type": "code",
   "execution_count": null,
   "id": "22",
   "metadata": {},
   "outputs": [],
   "source": [
    "def graphForCriticalValueOfPhi_xdc(parameterArray):\n",
    "    XYU_array = []\n",
    "    \n",
    "    final_t = 40\n",
    "    for p_array in parameterArray:   \n",
    "        print(p_array)\n",
    "        protocol_list = [\n",
    "            {\"duration\":final_t, \"phi_1_dcx\": p_array[0], \"phi_2_dcx\": p_array[1],  \"M_12\": p_array[2],  \"name\":\"(1) mix in y direction\"},\n",
    "        ]\n",
    "        computation_protocol_parameter_dict = coupled_fq_protocol_library.customizedProtocol(initial_parameter_dict, protocol_list)\n",
    "        storage_protocol, comp_protocol = create_system(computation_protocol_parameter_dict)\n",
    "        cfqr = cfq_runner.coupledFluxQubitRunner(potential = coupled_fq_pot, params = params, storage_protocol= storage_protocol, computation_protocol= comp_protocol)\n",
    "        cfqr.initialize_sim(); \n",
    "        cfqr.set_sim_attributes()\n",
    "        init_state_saved = cfqr.init_state\n",
    "        \n",
    "        \n",
    "        fig, ax = plt.subplots(1, 2, figsize = [12, 6])\n",
    "        X, Y, U, cutlineDirection, _targetAxis, _plotAxis = get_potential_along_a_1D_cutline(cfqr, t = final_t, cutlineDirection = \"v\")\n",
    "        plt_line_data_at_t = plotCutlines(X, Y, U, cutlineDirection, cutlineValue = -1.96436202,\\\n",
    "                                    contour_plt=ax[0], cutline_plt=ax[1], contours = 20,\n",
    "                                    showGraph=True)\n",
    "\n",
    "        XYU_array.insert(0, plt_line_data_at_t)\n",
    "        \n",
    "    return XYU_array"
   ]
  },
  {
   "cell_type": "code",
   "execution_count": null,
   "id": "23",
   "metadata": {},
   "outputs": [],
   "source": [
    "# XYU_array = graphForCriticalValueOfPhi_xdc([(0, 2.6,0), (0, 2.8, 0), (0, 3.0, 0)])"
   ]
  },
  {
   "cell_type": "code",
   "execution_count": null,
   "id": "24",
   "metadata": {},
   "outputs": [],
   "source": []
  },
  {
   "cell_type": "code",
   "execution_count": null,
   "id": "25",
   "metadata": {},
   "outputs": [],
   "source": [
    "# fig, ax = plt.subplots(1, 2, figsize = [14, 6])\n",
    "# for index, item in enumerate(XYU_array):\n",
    "\n",
    "#     X, Y, U = item[\"contour_plot\"][\"X\"], item[\"contour_plot\"][\"Y\"], item[\"contour_plot\"][\"U\"]\n",
    "#     contours, time = item[\"contour_plot\"][\"contours\"], item[\"contour_plot\"][\"time\"]\n",
    "#     _plotAxis = item[\"cutline_plot\"][\"plotAxis\"]\n",
    "#     _targetU = item[\"cutline_plot\"][\"targetU\"]\n",
    "#     ax[0].set_box_aspect(1)\n",
    "#     ax[1].set_box_aspect(1)\n",
    "\n",
    "#     ax[0].set_xlabel(r\"$\\varphi_{1}$\", fontsize = 20)\n",
    "#     ax[0].set_ylabel(r\"$\\varphi_{2}$\", fontsize = 20)\n",
    "#     ax[0].xaxis.set_tick_params(labelsize=15)\n",
    "#     ax[0].yaxis.set_tick_params(labelsize=15)\n",
    "\n",
    "    \n",
    "#     ax[1].set_ylabel(\"potential energy\", fontsize = 18)\n",
    "#     ax[1].set_xlabel(r\"$\\varphi_{2}$\", fontsize = 20)\n",
    "#     ax[1].xaxis.set_tick_params(labelsize=15)\n",
    "#     ax[1].yaxis.set_tick_params(labelsize=15)\n",
    "\n",
    "    \n",
    "#     ax[0].contourf(X, Y, U, contours)\n",
    "#     ax[0].vlines(x = -2.6, ymin = -5, ymax = 5, colors= \"red\")\n",
    "#     ax[1].plot(_plotAxis, _targetU, label = r\"$\\varphi_{2dcx}$ = \" + f\"{phi_1_dcx_on_array[index]}\")\n",
    "#     # ax[1].legend(fontsize= 15)\n",
    "# #     ax[1].set_title(, fontsize = 15)\n",
    "# # \"contour_plot\": {\"X\": X, \"Y\": Y, \"U\": U, \"contours\": contours, \"time\": time},\n",
    "# #         \"cutline_plot\": {\"plotAxis\": plotAxis, \"targetU\": targetU, \"time\": time, \"cutlineDirection\": cutlineDirection, \"cutlineValue\": cutlineValue}"
   ]
  },
  {
   "cell_type": "code",
   "execution_count": null,
   "id": "26",
   "metadata": {},
   "outputs": [],
   "source": []
  },
  {
   "cell_type": "markdown",
   "id": "27",
   "metadata": {},
   "source": [
    "# actual simulations"
   ]
  },
  {
   "cell_type": "code",
   "execution_count": null,
   "id": "28",
   "metadata": {},
   "outputs": [],
   "source": [
    "manual_domain=[np.array([-5, -5])/time_scale_factor, np.array([5, 5])/time_scale_factor]\n",
    "mapping_state_1_to_state_2_dict = {\"00\": [\"00\", \"10\"], \"01\": [\"00\", \"10\"], \"10\": [\"01\", \"11\"], \"11\": [\"01\", \"11\"]}"
   ]
  },
  {
   "cell_type": "code",
   "execution_count": null,
   "id": "29",
   "metadata": {},
   "outputs": [],
   "source": [
    "# step 5: perform simulations\n",
    "\n",
    "simResult = cfq_batch_sweep.simulateSingleCoupledFluxQubit(params, initial_parameter_dict, protocol_list, \\\n",
    "                        potential = coupled_fq_pot, potential_default_param = coupled_fq_default_param,            \n",
    "                        initial_state = combined_init_state, manual_domain = manual_domain, \\\n",
    "                        phi_1_dcx = phi_1_dcx,  phi_2_dcx = phi_2_dcx, \\\n",
    "                        percentage = 1, as_step = np.s_[::], measure_all_states=True)"
   ]
  },
  {
   "cell_type": "code",
   "execution_count": null,
   "id": "30",
   "metadata": {},
   "outputs": [],
   "source": [
    "# animations\n",
    "vmin, vmax = 0, 100\n",
    "frame_skip = 1000\n",
    "# phi_1_dc, phi_2_dc = phi_1_dcx, phi_2_dcx\n",
    "particle_number = 0\n",
    "# all_state = simResult[\"cfqr\"].sim.output.all_state['states'][particle_number:particle_number+1, :, :, :]\n",
    "all_state = simResult[\"cfqr\"].sim.output.all_state['states']\n",
    "simResult[\"cfqr\"].system.protocol_list = protocol_list\n",
    "time_range = (computation_protocol_parameter_dict[\"t\"][0], computation_protocol_parameter_dict[\"t\"][-1])\n",
    "\n",
    "ani,_,_ = animate_sim_flux_qubit(all_state, system = simResult[\"cfqr\"].system ,\n",
    "                                   times = time_range, frame_skip=frame_skip, color_by_state=True,\n",
    "                                   vmin = vmin, vmax = vmax,\n",
    "                                   manual_domain = manual_domain)"
   ]
  },
  {
   "cell_type": "code",
   "execution_count": null,
   "id": "31",
   "metadata": {},
   "outputs": [],
   "source": [
    "# from IPython.display import HTML\n",
    "from IPython import display\n",
    "video = ani.to_html5_video()\n",
    "html = display.HTML(video)\n",
    "display.display(html)"
   ]
  },
  {
   "cell_type": "code",
   "execution_count": null,
   "id": "32",
   "metadata": {},
   "outputs": [],
   "source": [
    "final_state = simResult['cfqr'].sim.output.final_state[:,(0, 1), 0]"
   ]
  },
  {
   "cell_type": "code",
   "execution_count": null,
   "id": "33",
   "metadata": {},
   "outputs": [],
   "source": [
    "final_state_in_00 = np.logical_and(final_state[:, 0] < 0, final_state[:, 1] < 0)\n",
    "final_state_in_01 = np.logical_and(final_state[:, 0] < 0, final_state[:, 1] > 0)\n",
    "final_state_in_10 = np.logical_and(final_state[:, 0] > 0, final_state[:, 1] < 0)\n",
    "final_state_in_11 = np.logical_and(final_state[:, 0] > 0, final_state[:, 1] > 0)"
   ]
  },
  {
   "cell_type": "code",
   "execution_count": null,
   "id": "34",
   "metadata": {},
   "outputs": [],
   "source": [
    "ratio_00_left = np.sum(np.logical_and(final_state_in_00, label_column == \"00\")) / np.sum(label_column == \"00\")\n",
    "ratio_00_right = np.sum(np.logical_and(final_state_in_10, label_column == \"00\")) / np.sum(label_column == \"00\")\n",
    "print(f\"ratio for 00 = {ratio_00_left:.3g}:{ratio_00_right:.3g}\")"
   ]
  },
  {
   "cell_type": "code",
   "execution_count": null,
   "id": "35",
   "metadata": {},
   "outputs": [],
   "source": [
    "ratio_01_left = np.sum(np.logical_and(final_state_in_00, label_column == \"01\")) / np.sum(label_column == \"00\")\n",
    "ratio_01_right = np.sum(np.logical_and(final_state_in_10, label_column == \"01\")) / np.sum(label_column == \"00\")\n",
    "print(f\"ratio for 01 = {ratio_01_left:.3g}:{ratio_01_right:.3g}\")"
   ]
  },
  {
   "cell_type": "code",
   "execution_count": null,
   "id": "36",
   "metadata": {},
   "outputs": [],
   "source": [
    "ratio_10_left = np.sum(np.logical_and(final_state_in_01, label_column == \"10\")) / np.sum(label_column == \"00\")\n",
    "ratio_10_right = np.sum(np.logical_and(final_state_in_11, label_column == \"10\")) / np.sum(label_column == \"00\")\n",
    "print(f\"ratio for 01 = {ratio_10_left:.3g}:{ratio_10_right:.3g}\")"
   ]
  },
  {
   "cell_type": "code",
   "execution_count": null,
   "id": "37",
   "metadata": {},
   "outputs": [],
   "source": [
    "ratio_11_left = np.sum(np.logical_and(final_state_in_01, label_column == \"11\")) / np.sum(label_column == \"00\")\n",
    "ratio_11_right = np.sum(np.logical_and(final_state_in_11, label_column == \"11\")) / np.sum(label_column == \"00\")\n",
    "print(f\"ratio for 01 = {ratio_11_left:.3g}:{ratio_11_right:.3g}\")"
   ]
  },
  {
   "cell_type": "code",
   "execution_count": null,
   "id": "38",
   "metadata": {},
   "outputs": [],
   "source": [
    "# %%notify\n",
    "step_time_array = np.cumsum(np.array([x[\"duration\"] for x in protocol_list]))/params['dt']\n",
    "name_array = [x[\"name\"] for x in protocol_list]\n",
    "\n",
    "\n",
    "plt.hist(simResult[\"work_distribution\"], bins = 45)\n",
    "plt.show()\n",
    "mean_work = np.mean(simResult[\"work_distribution\"])\n",
    "jarzyn_term = np.mean(np.exp(-simResult[\"work_distribution\"]))\n",
    "print(\"sim_id = \", simResult['simulation_data'])\n",
    "print(f\"N = {params['N']}, dt = {params['dt']}\")\n",
    "print(f\"phi_1dcx_on: {phi_1_dcx_on}, phi_2dcx_on: {phi_2_dcx_on}, M_12_on: {M_12_on}\")\n",
    "print(f\"L_factor = {L_factor}, C_factor = {C_factor}, I_m_factor = {I_m_factor}, gamma = {gamma}\")\n",
    "print([x[\"duration\"] for x in protocol_list])\n",
    "print(f'jarzyn = {jarzyn_term}, mean work = {mean_work}')\n"
   ]
  },
  {
   "cell_type": "code",
   "execution_count": null,
   "id": "39",
   "metadata": {},
   "outputs": [],
   "source": [
    "\n",
    "step_array = np.arange(simResult[\"work_statistic\"][:,0].shape[0])\n",
    "skip_step = int(len(step_array) * 0.01)\n",
    "work_mean = simResult[\"work_statistic\"][:,0]\n",
    "work_std = simResult[\"work_statistic\"][:,1]\n",
    "\n",
    "coarse_step_array = step_array[::skip_step]\n",
    "coarse_step_array = np.append(coarse_step_array, step_array[-1])\n",
    "coarse_work_mean_array = work_mean[::skip_step]\n",
    "coarse_work_mean_array = np.append(coarse_work_mean_array, work_mean[-1])\n",
    "coarse_work_std_array = np.append(work_std[::skip_step], work_std[-1])\n",
    "\n",
    "plt.errorbar(coarse_step_array, coarse_work_mean_array, yerr = coarse_work_std_array)\n",
    "# plt.yscale('log')\n",
    "\n",
    "for i, t in enumerate(step_time_array):\n",
    "    plt.axvline(x = t, color = 'b', label = 'axvline - full height')\n",
    "    # plt.text('2017-07-02 16:30:00',0.005,'BigNews1',rotation=90,va='top')\n",
    "    plt.annotate(f\"{i+1}\", \n",
    "            xy=(t, 4.5),  \n",
    "            # xytext=(quantile_75, 2.05*1e9),\n",
    "            color='red', \n",
    "            ha='center', \n",
    "            size=16)\n",
    "\n",
    "first_half = work_mean[0: len(work_mean)//2]\n",
    "second_half = work_mean[len(work_mean)//2:][::-1]\n",
    "abs_error = np.abs(first_half - second_half)\n",
    "# plt.plot(step_array[0:len(step_array)//2], abs_error)\n",
    "print(max(abs_error), min(abs_error))\n",
    "print(f'jarzyn = {jarzyn_term}')\n",
    "print([x[\"duration\"] for x in protocol_list])"
   ]
  },
  {
   "cell_type": "code",
   "execution_count": null,
   "id": "40",
   "metadata": {},
   "outputs": [],
   "source": []
  },
  {
   "cell_type": "code",
   "execution_count": null,
   "id": "41",
   "metadata": {},
   "outputs": [],
   "source": []
  },
  {
   "cell_type": "code",
   "execution_count": null,
   "id": "42",
   "metadata": {},
   "outputs": [],
   "source": [
    "final_state_in_00"
   ]
  },
  {
   "cell_type": "code",
   "execution_count": null,
   "id": "43",
   "metadata": {},
   "outputs": [],
   "source": []
  },
  {
   "cell_type": "code",
   "execution_count": null,
   "id": "44",
   "metadata": {},
   "outputs": [],
   "source": [
    "simResult[\"fidelity\"]"
   ]
  },
  {
   "cell_type": "code",
   "execution_count": null,
   "id": "45",
   "metadata": {},
   "outputs": [],
   "source": [
    "import importlib\n",
    "cfq_batch_sweep = importlib.reload(cfq_batch_sweep)"
   ]
  },
  {
   "cell_type": "code",
   "execution_count": null,
   "id": "46",
   "metadata": {},
   "outputs": [],
   "source": [
    "cfq_batch_sweep.saveSimulationResult(simResult, U0_1, timeOrStep = 'step', save = True, save_final_state = False, saveFolderPath = \"coupled_flux_qubit_protocol/coupled_flux_qubit_data_gallery\", save_all_state = False, save_work_distribution_time_array = True)"
   ]
  },
  {
   "cell_type": "code",
   "execution_count": null,
   "id": "47",
   "metadata": {},
   "outputs": [],
   "source": []
  },
  {
   "cell_type": "code",
   "execution_count": null,
   "id": "48",
   "metadata": {},
   "outputs": [],
   "source": []
  },
  {
   "cell_type": "markdown",
   "id": "49",
   "metadata": {
    "jp-MarkdownHeadingCollapsed": true,
    "tags": []
   },
   "source": [
    "# minimum value of potential energy"
   ]
  },
  {
   "cell_type": "code",
   "execution_count": null,
   "id": "50",
   "metadata": {},
   "outputs": [],
   "source": [
    "import edward_tools.Analysis_tool.minimum_value_of_potential as minimum_value_of_potential\n",
    "import importlib\n",
    "importlib.reload(minimum_value_of_potential)"
   ]
  },
  {
   "cell_type": "code",
   "execution_count": null,
   "id": "51",
   "metadata": {},
   "outputs": [],
   "source": [
    "potential_type_and_time_array = list(zip(protocol_time_array, [\"four_well\", \"mix_in_y\", \"mix_in_y\", \"conditional_tilt_in_y\", \"conditional_tilt_in_x\", \"mix_in_x\", \"mix_in_x\", \"four_well\"]))\n",
    "minimum_point_data_array = minimum_value_of_potential.obtain_minimum_points(cfqr, potential_type_and_time_array, beta_1, beta_2, d_beta_1, d_beta_2, verbose = False)\n",
    "offset_value = np.array([d['min_E'] for d in minimum_point_data_array])\n",
    "minimum_points_location = np.array([d['coordinate'] for d in minimum_point_data_array])\n",
    "minimum_points_potential = np.array([d['min_E'] for d in minimum_point_data_array])\n",
    "offset_energy = minimum_points_potential[1:] - minimum_points_potential[:-1]\n",
    "energy_profile_array = []\n",
    "contour_value = 40\n",
    "# print(minimum_points, minimum_points_potential)\n",
    "for x in minimum_point_data_array:\n",
    "    print(x)"
   ]
  },
  {
   "cell_type": "code",
   "execution_count": null,
   "id": "52",
   "metadata": {},
   "outputs": [],
   "source": [
    "from scipy.optimize import fmin"
   ]
  },
  {
   "cell_type": "code",
   "execution_count": null,
   "id": "53",
   "metadata": {},
   "outputs": [],
   "source": [
    "def find_minimum_for_all_potential_2(cfqr, _t, beta_1, beta_2, d_beta_1, d_beta_2, verbose = True, guess = [(0, 0)]):\n",
    "    _params_at_t = cfqr.system.protocol.get_params(_t)\n",
    "    _phi_1x = 0\n",
    "    _phi_2x = 0\n",
    "    _phi_1dcx = _params_at_t[10]\n",
    "    _phi_2dcx = _params_at_t[11]\n",
    "    _phi_1dc = _phi_1dcx\n",
    "    _phi_2dc = _phi_2dcx\n",
    "    _M_12 = _params_at_t[12]\n",
    "    _xi = 1 / (1 - _M_12**2)\n",
    "    \n",
    "    def Fcn(coord):\n",
    "        _phi_1, _phi_2 = coord\n",
    "        u1_1 = 1/2 * _xi * (_phi_1 - _phi_1x)**2\n",
    "        u3_1 = beta_1 * np.cos(_phi_1) * np.cos(_phi_1dc/2)\n",
    "        u4_1 = d_beta_1 * np.sin(_phi_1) * np.sin(_phi_1dc/2)\n",
    "        \n",
    "        u1_2 = 1/2 * _xi * (_phi_2 - _phi_2x)**2        \n",
    "        u3_2 = beta_2 * np.cos(_phi_2) * np.cos(_phi_2dc/2)\n",
    "        u4_2 = d_beta_2 * np.sin(_phi_2) * np.sin(_phi_2dc/2)\n",
    "        u5 = _M_12 * _xi * (_phi_1 - _phi_1x) * (_phi_2 - _phi_2x)\n",
    "        \n",
    "        return u1_1 + u1_2 + u3_1 + u3_2 + u4_1 + u4_2 + u5\n",
    "\n",
    "    solution_set = [fmin(Fcn, _g, disp=False) for _g in guess]\n",
    "    sol_1 = list(solution_set[0])\n",
    "    _potential_break_down = coupled_flux_qubit_non_linear_approx_pot_break_down(sol_1[0], sol_1[1], _phi_1dcx, _phi_2dcx, _params_at_t)\n",
    "    # _min_potential = cfqr.system.potential.potential(sol_1[0], sol_1[1], _phi_1dcx, _phi_2dcx, _params_at_t)\n",
    "    return sol_1, _potential_break_down"
   ]
  },
  {
   "cell_type": "code",
   "execution_count": null,
   "id": "54",
   "metadata": {},
   "outputs": [],
   "source": [
    "protocol_time_array"
   ]
  },
  {
   "cell_type": "markdown",
   "id": "55",
   "metadata": {},
   "source": [
    "## 4 well potential"
   ]
  },
  {
   "cell_type": "code",
   "execution_count": null,
   "id": "56",
   "metadata": {},
   "outputs": [],
   "source": [
    "_t_array = np.array(simResult['cfqr'].sim.output.all_state[\"step_indices\"]) * params['dt']"
   ]
  },
  {
   "cell_type": "code",
   "execution_count": null,
   "id": "57",
   "metadata": {
    "tags": []
   },
   "outputs": [],
   "source": [
    "min_point_sol_guess = [[-2, -1.2]]\n",
    "min_point_set = []\n",
    "skip_step = 100\n",
    "for _i, _t in enumerate(_t_array[::skip_step]):\n",
    "    _min_point_set = find_minimum_for_all_potential_2(cfqr, _t, beta_1, beta_2, d_beta_1, d_beta_2, verbose = False, \n",
    "                                 guess = [min_point_sol_guess[0]])\n",
    "    min_point_sol_guess.append(_min_point_set[0])\n",
    "    min_point_set.append(_min_point_set)\n",
    "    "
   ]
  },
  {
   "cell_type": "code",
   "execution_count": null,
   "id": "58",
   "metadata": {},
   "outputs": [],
   "source": [
    "min_point_coord = np.array([d[0] for d in min_point_set])\n",
    "min_point_energy_break_down = np.array([list(d[1].values()) for d in min_point_set])"
   ]
  },
  {
   "cell_type": "code",
   "execution_count": null,
   "id": "59",
   "metadata": {},
   "outputs": [],
   "source": [
    "protocol_time_array"
   ]
  },
  {
   "cell_type": "code",
   "execution_count": null,
   "id": "60",
   "metadata": {},
   "outputs": [],
   "source": [
    "plt.plot(_t_array[::skip_step], min_point_energy_break_down[:, 3], label = \"u4_1\") # u4_1 = delta_beta_1 * np.sin(phi_1) * np.sin(phi_1dc/2)\n",
    "plt.plot(_t_array[::skip_step], min_point_energy_break_down[:, 7], label = \"u4_2\") # u4_2 = delta_beta_2 * np.sin(phi_2) * np.sin(phi_2dc/2)\n",
    "[plt.vlines(x=_t, ymin=-1, ymax = 1, linestyles=\"dashed\") for _t in protocol_time_array]\n",
    "plt.legend()\n",
    "plt.show()\n"
   ]
  },
  {
   "cell_type": "code",
   "execution_count": null,
   "id": "61",
   "metadata": {},
   "outputs": [],
   "source": [
    "plt.plot(_t_array[::skip_step], min_point_energy_break_down[:, 0], label = \"u1_1\") # u1_1 = 1/2 * (phi_1 - phi_1x)**2 * g_1\n",
    "plt.plot(_t_array[::skip_step], min_point_energy_break_down[:, 1], label = \"u2_1\") # u2_1 = 1/2 * g_1 * (phi_1dc - phi_1dcx)**2\n",
    "plt.plot(_t_array[::skip_step], min_point_energy_break_down[:, 2], label = \"u3_1\") # u3_1 = beta_1 * np.cos(phi_1) * np.cos(phi_1dc/2)\n",
    "plt.plot(_t_array[::skip_step], min_point_energy_break_down[:, 3], label = \"u4_1\") # u4_1 = delta_beta_1 * np.sin(phi_1) * np.sin(phi_1dc/2)\n",
    "[plt.vlines(x=_t, ymin=-60, ymax = 200, linestyles=\"dashed\") for _t in protocol_time_array]\n",
    "plt.legend()\n",
    "plt.show()\n",
    "\n",
    "\n",
    "plt.plot(_t_array[::skip_step], min_point_energy_break_down[:, 4], label = \"u1_2\") # u1_2 = 1/2 * (phi_2 - phi_2x)**2\n",
    "plt.plot(_t_array[::skip_step], min_point_energy_break_down[:, 5], label = \"u2_2\") # u2_2 = 1/2 * g_2 * (phi_2dc - phi_2dcx)**2\n",
    "plt.plot(_t_array[::skip_step], min_point_energy_break_down[:, 6], label = \"u3_2\") # u3_2 = beta_2 * np.cos(phi_2) * np.cos(phi_2dc/2)\n",
    "plt.plot(_t_array[::skip_step], min_point_energy_break_down[:, 7], label = \"u4_2\") # u4_2 = delta_beta_2 * np.sin(phi_2) * np.sin(phi_2dc/2)\n",
    "[plt.vlines(x=_t, ymin=-60, ymax = 200, linestyles=\"dashed\") for _t in protocol_time_array]\n",
    "plt.legend()\n",
    "plt.show()\n",
    "\n",
    "plt.plot(_t_array[::skip_step], min_point_energy_break_down[:, 8], label = \"u5\")   # u5 = M_12 * (phi_1 - phi_1x) * (phi_2 - phi_2x)\n",
    "[plt.vlines(x=_t, ymin=-200, ymax = 200, linestyles=\"dashed\") for _t in protocol_time_array]\n",
    "plt.legend()"
   ]
  },
  {
   "cell_type": "code",
   "execution_count": null,
   "id": "62",
   "metadata": {},
   "outputs": [],
   "source": [
    "plt.scatter(min_point_coord[:, 0], min_point_coord[:, 1])"
   ]
  },
  {
   "cell_type": "code",
   "execution_count": null,
   "id": "63",
   "metadata": {},
   "outputs": [],
   "source": []
  },
  {
   "cell_type": "code",
   "execution_count": null,
   "id": "64",
   "metadata": {},
   "outputs": [],
   "source": []
  },
  {
   "cell_type": "code",
   "execution_count": null,
   "id": "65",
   "metadata": {},
   "outputs": [],
   "source": [
    "np.save(\"coupled_flux_qubit_protocol/fixed_points.npy\", min_point_set, )"
   ]
  },
  {
   "cell_type": "code",
   "execution_count": null,
   "id": "66",
   "metadata": {},
   "outputs": [],
   "source": [
    "def find_minimum_for_all_asym_potential_2(cfqr, _t, beta_1, beta_2, d_beta_1, d_beta_2, verbose = True, guess = [(0, 0)]):\n",
    "    _params_at_t = cfqr.system.protocol.get_params(_t)\n",
    "    _phi_1x = 0\n",
    "    _phi_2x = 0\n",
    "    _phi_1dcx = _params_at_t[10]\n",
    "    _phi_2dcx = _params_at_t[11]\n",
    "    _phi_1dc = _phi_1dcx\n",
    "    _phi_2dc = _phi_2dcx\n",
    "    _M_12 = _params_at_t[12]\n",
    "    _xi = 1 / (1 - _M_12**2)\n",
    "    x_1 = -1.964\n",
    "    x_2 = -1.556\n",
    "    def Fcn(coord):\n",
    "        a, b = coord\n",
    "        u1 = -_xi * x_1 * a + 1/2 * _xi * a**2 - d_beta_1 * np.sin(x_1) * np.sin(_phi_1dc/2)\n",
    "        u2 = -_xi * x_2 * b + 1/2 * _xi * b**2 - d_beta_2 * np.sin(x_2) * np.sin(_phi_2dc/2)\n",
    "        u3 = _M_12 * _xi * a * b - _M_12 * _xi * a * x_2 - _M_12 * _xi * b * x_1\n",
    "        \n",
    "        return u1 + u2 + u3\n",
    "\n",
    "    solution_set = [fmin(Fcn, _g, disp=False) for _g in guess]\n",
    "    sol_1 = list(solution_set[0])\n",
    "    # _min_potential = cfqr.system.potential.potential(sol_1[0], sol_1[1], _phi_1dcx, _phi_2dcx, _params_at_t)\n",
    "    _potential_break_down = coupled_flux_qubit_non_linear_approx_pot_break_down(sol_1[0], sol_1[1], _phi_1dcx, _phi_2dcx, _params_at_t)\n",
    "    return sol_1, _potential_break_down"
   ]
  },
  {
   "cell_type": "code",
   "execution_count": null,
   "id": "67",
   "metadata": {},
   "outputs": [],
   "source": [
    "min_point_sol_guess = [[-2, -1.2]]\n",
    "min_point_set = []\n",
    "for _i, _t in enumerate(_t_array[::100]):\n",
    "    _min_point_set = find_minimum_for_all_potential_2(cfqr, _t, beta_1, beta_2, d_beta_1, d_beta_2, verbose = False, \n",
    "                                 guess = [min_point_sol_guess[0]])\n",
    "    min_point_sol_guess.append(_min_point_set[0])\n",
    "    min_point_set.append(_min_point_set)\n",
    "    "
   ]
  },
  {
   "cell_type": "code",
   "execution_count": null,
   "id": "68",
   "metadata": {},
   "outputs": [],
   "source": [
    "min_point_set[0][1].keys()"
   ]
  },
  {
   "cell_type": "code",
   "execution_count": null,
   "id": "69",
   "metadata": {},
   "outputs": [],
   "source": [
    "energy_break_down = np.array([list(d.values()) for d in min_point_set[:,1]])"
   ]
  },
  {
   "cell_type": "code",
   "execution_count": null,
   "id": "70",
   "metadata": {},
   "outputs": [],
   "source": [
    "plt.plot(_t_array[::25], energy_break_down[:, 0], label = \"u1_1\") # u1_1 = 1/2 * (phi_1 - phi_1x)**2 * g_1\n",
    "plt.plot(_t_array[::25], energy_break_down[:, 2], label = \"u2_1\") # u2_1 = 1/2 * g_1 * (phi_1dc - phi_1dcx)**2\n",
    "plt.plot(_t_array[::25], energy_break_down[:, 4], label = \"u3_1\") # u3_1 = beta_1 * np.cos(phi_1) * np.cos(phi_1dc/2)\n",
    "plt.plot(_t_array[::25], energy_break_down[:, 6], label = \"u4_1\") # u4_1 = delta_beta_1 * np.sin(phi_1) * np.sin(phi_1dc/2)\n",
    "plt.legend()\n",
    "plt.show()\n",
    "\n",
    "plt.plot(_t_array[::25], energy_break_down[:, 1], label = \"u1_2\") # u1_2 = 1/2 * (phi_2 - phi_2x)**2\n",
    "plt.plot(_t_array[::25], energy_break_down[:, 3], label = \"u2_2\") # u2_2 = 1/2 * g_2 * (phi_2dc - phi_2dcx)**2\n",
    "plt.plot(_t_array[::25], energy_break_down[:, 5], label = \"u3_2\") # u3_2 = beta_2 * np.cos(phi_2) * np.cos(phi_2dc/2)\n",
    "plt.plot(_t_array[::25], energy_break_down[:, 7], label = \"u4_2\") # u4_2 = delta_beta_2 * np.sin(phi_2) * np.sin(phi_2dc/2)\n",
    "plt.legend()\n",
    "plt.show()\n",
    "\n",
    "plt.plot(_t_array[::25], energy_break_down[:, 8], label = \"u5\")   # u5 = M_12 * (phi_1 - phi_1x) * (phi_2 - phi_2x)\n",
    "plt.legend()"
   ]
  },
  {
   "cell_type": "code",
   "execution_count": null,
   "id": "71",
   "metadata": {},
   "outputs": [],
   "source": []
  },
  {
   "cell_type": "code",
   "execution_count": null,
   "id": "72",
   "metadata": {},
   "outputs": [],
   "source": [
    "x_coord = [d[0] for d in min_point_set[:, 0]]\n",
    "y_coord = [d[1] for d in min_point_set[:, 0]]\n",
    "plt.scatter(x_coord, y_coord)"
   ]
  },
  {
   "cell_type": "code",
   "execution_count": null,
   "id": "73",
   "metadata": {},
   "outputs": [],
   "source": []
  },
  {
   "cell_type": "code",
   "execution_count": null,
   "id": "74",
   "metadata": {},
   "outputs": [],
   "source": []
  },
  {
   "cell_type": "code",
   "execution_count": null,
   "id": "75",
   "metadata": {},
   "outputs": [],
   "source": []
  },
  {
   "cell_type": "code",
   "execution_count": null,
   "id": "76",
   "metadata": {},
   "outputs": [],
   "source": [
    "# selected_particles  = simResult[\"cfqr\"].sim.output.all_state[\"states\"][:, :, :, 0]\n",
    "# _, N_step_number, _ = selected_particles.shape\n",
    "# step_time_array = np.array(simResult[\"cfqr\"].sim.output.all_state[\"step_indices\"]) * params['dt']\n",
    "\n",
    "# def findPotential(cfqr, _t, state):\n",
    "#     _params_at_t = cfqr.system.protocol.get_params(_t)\n",
    "#     def cfq_potential(state):\n",
    "#         phi_1, phi_2, phi_1dc, phi_2dc = state\n",
    "#         return coupled_flux_qubit_non_linear_approx_pot_break_down(phi_1, phi_2, phi_1dc, phi_2dc, _params_at_t)\n",
    "#     return np.array(list(cfq_potential(state).values()))\n",
    "\n",
    "\n",
    "\n",
    "# for i in range(1, len(step_time_array))[::1000]:\n",
    "#     # print(step_time_array[i], selected_particles[i, :])\n",
    "#     print( selected_particles[:, i-1, :].shape)\n",
    "#     U_a[i-1] = findPotential(simResult[\"cfqr\"], step_time_array[i], selected_particles[:, i-1, :])\n",
    "#     # U_a[i-1] = findPotential(simResult[\"cfqr\"], step_time_array[i], selected_particles[i-1, :])\n",
    "#     U_b[i-1] = findPotential(simResult[\"cfqr\"],  step_time_array[i-1], selected_particles[i-1, :])"
   ]
  },
  {
   "cell_type": "code",
   "execution_count": null,
   "id": "77",
   "metadata": {},
   "outputs": [],
   "source": [
    "# find the work done of each particle"
   ]
  },
  {
   "cell_type": "code",
   "execution_count": null,
   "id": "78",
   "metadata": {},
   "outputs": [],
   "source": [
    "potential_array = []\n",
    "for _index, _t in enumerate(step_time_array):\n",
    "    _params_at_t = simResult['cfqr'].system.protocol.get_params(_t)\n",
    "    def cfq_potential(state):\n",
    "        # print(state)\n",
    "        phi_1, phi_2, phi_1dc, phi_2dc = state\n",
    "        return coupled_flux_qubit_non_linear_approx_pot(phi_1, phi_2, phi_1dc, phi_2dc, _params_at_t)\n",
    "    \n",
    "    \n",
    "    vectorized_cfq_potential = np.vectorize(cfq_potential, signature='(4)->()')\n",
    "    # print(selected_particles[:, _index, :, 0])\n",
    "    potential_array.append(vectorized_cfq_potential(selected_particles[:, _index, :]))\n",
    "    \n",
    "    "
   ]
  },
  {
   "cell_type": "code",
   "execution_count": null,
   "id": "79",
   "metadata": {},
   "outputs": [],
   "source": [
    "selected_particles  = simResult[\"cfqr\"].sim.output.all_state[\"states\"][0:10,...]\n",
    "N_particle_number, N_step_number, _, _ = selected_particles.shape\n",
    "step_time_array = np.array(simResult[\"cfqr\"].sim.output.all_state[\"step_indices\"]) * params['dt']"
   ]
  },
  {
   "cell_type": "code",
   "execution_count": null,
   "id": "80",
   "metadata": {},
   "outputs": [],
   "source": [
    "break_down_potential_categories = [\"u1_1\", \"u2_1\",  \"u3_1\", \"u4_1\", \"u1_2\", \"u2_2\", \"u3_2\", \"u4_2\", \"u5\"]\n",
    "U_a = np.zeros([N_particle_number, N_step_number-1]) \n",
    "U_b = np.zeros([N_particle_number, N_step_number-1])"
   ]
  },
  {
   "cell_type": "code",
   "execution_count": null,
   "id": "81",
   "metadata": {},
   "outputs": [],
   "source": [
    "for i in range(1, len(step_time_array)):\n",
    "    # print(step_time_array[i], selected_particles[i, :])\n",
    "    U_a[i-1] = findPotential(simResult[\"cfqr\"], step_time_array[i], selected_particles[:, i-1, :, 0])\n",
    "    # U_a[i-1] = findPotential(simResult[\"cfqr\"], step_time_array[i], selected_particles[i-1, :])\n",
    "    U_b[i-1] = findPotential(simResult[\"cfqr\"],  step_time_array[i-1], selected_particles[:, i-1, :, 0])"
   ]
  },
  {
   "cell_type": "code",
   "execution_count": null,
   "id": "82",
   "metadata": {},
   "outputs": [],
   "source": []
  },
  {
   "cell_type": "markdown",
   "id": "83",
   "metadata": {
    "jp-MarkdownHeadingCollapsed": true,
    "tags": []
   },
   "source": [
    "# For n particles"
   ]
  },
  {
   "cell_type": "markdown",
   "id": "84",
   "metadata": {},
   "source": [
    "## trial 1"
   ]
  },
  {
   "cell_type": "code",
   "execution_count": null,
   "id": "85",
   "metadata": {},
   "outputs": [],
   "source": []
  },
  {
   "cell_type": "code",
   "execution_count": null,
   "id": "86",
   "metadata": {},
   "outputs": [],
   "source": []
  },
  {
   "cell_type": "code",
   "execution_count": null,
   "id": "87",
   "metadata": {},
   "outputs": [],
   "source": []
  },
  {
   "cell_type": "code",
   "execution_count": null,
   "id": "88",
   "metadata": {},
   "outputs": [],
   "source": []
  },
  {
   "cell_type": "code",
   "execution_count": null,
   "id": "89",
   "metadata": {},
   "outputs": [],
   "source": []
  },
  {
   "cell_type": "code",
   "execution_count": null,
   "id": "90",
   "metadata": {},
   "outputs": [],
   "source": []
  },
  {
   "cell_type": "markdown",
   "id": "91",
   "metadata": {
    "tags": []
   },
   "source": [
    "# For one particle "
   ]
  },
  {
   "cell_type": "code",
   "execution_count": null,
   "id": "92",
   "metadata": {},
   "outputs": [],
   "source": [
    "selected_particles  = simResult[\"cfqr\"].sim.output.all_state[\"states\"][0, :, :, 0]\n",
    "N_step_number, _ = selected_particles.shape\n",
    "step_time_array = np.array(simResult[\"cfqr\"].sim.output.all_state[\"step_indices\"]) * params['dt']\n",
    "\n",
    "U_a = np.zeros( N_step_number-1) \n",
    "U_b = np.zeros(N_step_number-1)\n",
    "\n",
    "\n",
    "def findPotential(cfqr, _t, state):\n",
    "    # print(state)\n",
    "    _params_at_t = cfqr.system.protocol.get_params(_t)\n",
    "    def cfq_potential(state):\n",
    "        phi_1, phi_2, phi_1dc, phi_2dc = state\n",
    "        return coupled_flux_qubit_non_linear_approx_pot(phi_1, phi_2, phi_1dc, phi_2dc, _params_at_t)\n",
    "    return cfq_potential(state)\n",
    "\n",
    "\n",
    "\n",
    "for i in range(1, len(step_time_array)):\n",
    "    # print(selected_particles[i-1, :].shape)\n",
    "    # U_a[i-1] = findPotential(simResult[\"cfqr\"], step_time_array[i], selected_particles[:, i-1, :])\n",
    "    U_a[i-1] = findPotential(simResult[\"cfqr\"], step_time_array[i], selected_particles[i-1, :])\n",
    "    U_b[i-1] = findPotential(simResult[\"cfqr\"],  step_time_array[i-1], selected_particles[i-1, :])"
   ]
  },
  {
   "cell_type": "code",
   "execution_count": null,
   "id": "93",
   "metadata": {},
   "outputs": [],
   "source": [
    "selected_particles.shape"
   ]
  },
  {
   "cell_type": "code",
   "execution_count": null,
   "id": "94",
   "metadata": {},
   "outputs": [],
   "source": [
    "np.sum(U_a - U_b)"
   ]
  },
  {
   "cell_type": "code",
   "execution_count": null,
   "id": "95",
   "metadata": {},
   "outputs": [],
   "source": [
    "len(step_time_array)"
   ]
  },
  {
   "cell_type": "code",
   "execution_count": null,
   "id": "96",
   "metadata": {},
   "outputs": [],
   "source": [
    "selected_particles  = simResult[\"cfqr\"].sim.output.all_state[\"states\"][0, :, :, 0]\n",
    "N_step_number, _ = selected_particles.shape\n",
    "step_time_array = np.array(simResult[\"cfqr\"].sim.output.all_state[\"step_indices\"]) * params['dt']\n",
    "\n",
    "U_a = np.zeros( N_step_number-1) \n",
    "U_b = np.zeros(N_step_number-1)\n",
    "\n",
    "\n",
    "def findPotential(cfqr, _t, state):\n",
    "    print(state.shape)\n",
    "    _params_at_t = cfqr.system.protocol.get_params(_t)\n",
    "    def cfq_potential(state):\n",
    "        phi_1, phi_2, phi_1dc, phi_2dc = state\n",
    "        return coupled_flux_qubit_non_linear_approx_pot(phi_1, phi_2, phi_1dc, phi_2dc, _params_at_t)\n",
    "    vectorized_cfq_potential = np.vectorize(cfq_potential, signature='(4)->()')\n",
    "    return cfq_potential(state)\n",
    "\n",
    "\n",
    "\n",
    "\n",
    "U_a[i-1] = findPotential(simResult[\"cfqr\"], step_time_array[i], selected_particles)\n",
    "# U_b[i-1] = findPotential(simResult[\"cfqr\"],  step_time_array[i-1], selected_particles[i-1, :])"
   ]
  },
  {
   "cell_type": "code",
   "execution_count": null,
   "id": "97",
   "metadata": {},
   "outputs": [],
   "source": []
  },
  {
   "cell_type": "code",
   "execution_count": null,
   "id": "98",
   "metadata": {},
   "outputs": [],
   "source": [
    "\n",
    "\n",
    "def plot_work_dist_with_time(sim_id_1, sim_id_2):\n",
    "    work_dist_time_array_1 = np.load(f\"coupled_flux_qubit_protocol/coupled_flux_qubit_data_gallery/{sim_id_1}__work_distribution_time_array.npy\")\n",
    "    work_dist_time_array_2 = np.load(f\"coupled_flux_qubit_protocol/coupled_flux_qubit_data_gallery/{sim_id_2}__work_distribution_time_array.npy\")\n",
    "    step_time_array = np.array(cfqr.sim.output.all_state[\"step_indices\"]) * params['dt']\n",
    "    \n",
    "    fig, ax = plt.subplots(1, 1)\n",
    "    fig.set_size_inches(5,5)\n",
    "    points = [(0.1, 0.5), (0.5, 0.5), (0.9, 0.5)]\n",
    "    _skipped_work_dist_time_array = work_dist_time_array\n",
    "    _skipped_step_time_array = step_time_array[::skipNumber]\n",
    "    \n",
    "    def animate(i):\n",
    "        ax.clear()\n",
    "        # Get the point from the points list at index i\n",
    "        _dist = _skipped_work_dist_time_array[i]\n",
    "        work_min = np.min(_dist) - 5\n",
    "        work_max = np.max(_dist) + 5\n",
    "        bins = np.linspace(work_min, work_max, 50)\n",
    "\n",
    "        # Plot that point using the x and y coordinates\n",
    "        ax.hist(_dist, bins = bins)\n",
    "        ax.set_title(f\"t = {_skipped_step_time_array[i]}\")\n",
    "        # Set the x and y axis to display a fixed range\n",
    "    ani = FuncAnimation(fig, animate, frames=len(_skipped_work_dist_time_array),\n",
    "                        interval=100, repeat=False)\n",
    "    plt.close()\n",
    "    return ani"
   ]
  },
  {
   "cell_type": "code",
   "execution_count": null,
   "id": "99",
   "metadata": {},
   "outputs": [],
   "source": []
  },
  {
   "cell_type": "code",
   "execution_count": null,
   "id": "100",
   "metadata": {},
   "outputs": [],
   "source": []
  },
  {
   "cell_type": "code",
   "execution_count": null,
   "id": "101",
   "metadata": {},
   "outputs": [],
   "source": [
    "def plot_work_dist_with_time(cfqr, skipNumber = 100):\n",
    "    work_dist_time_array = cfqr.sim.work_dist_time_array\n",
    "    step_time_array = np.array(cfqr.sim.output.all_state[\"step_indices\"]) * params['dt']\n",
    "    \n",
    "    fig, ax = plt.subplots(1, 1)\n",
    "    fig.set_size_inches(5,5)\n",
    "    points = [(0.1, 0.5), (0.5, 0.5), (0.9, 0.5)]\n",
    "    _skipped_work_dist_time_array = work_dist_time_array[::skipNumber]\n",
    "    _skipped_step_time_array = step_time_array[::skipNumber]\n",
    "    \n",
    "    def animate(i):\n",
    "        ax.clear()\n",
    "        # Get the point from the points list at index i\n",
    "        _dist = _skipped_work_dist_time_array[i]\n",
    "        work_min = np.min(_dist) - 5\n",
    "        work_max = np.max(_dist) + 5\n",
    "        bins = np.linspace(work_min, work_max, 50)\n",
    "\n",
    "        # Plot that point using the x and y coordinates\n",
    "        ax.hist(_dist, bins = bins)\n",
    "        ax.set_title(f\"t = {_skipped_step_time_array[i]}\")\n",
    "        # Set the x and y axis to display a fixed range\n",
    "    ani = FuncAnimation(fig, animate, frames=len(_skipped_work_dist_time_array),\n",
    "                        interval=100, repeat=False)\n",
    "    plt.close()\n",
    "    return ani"
   ]
  },
  {
   "cell_type": "code",
   "execution_count": null,
   "id": "102",
   "metadata": {},
   "outputs": [],
   "source": [
    "work_dist_time_array = simResult['cfqr'].sim.work_dist_time_array"
   ]
  },
  {
   "cell_type": "code",
   "execution_count": null,
   "id": "103",
   "metadata": {},
   "outputs": [],
   "source": []
  },
  {
   "cell_type": "code",
   "execution_count": null,
   "id": "104",
   "metadata": {},
   "outputs": [],
   "source": [
    "html = display.HTML(plot_work_dist_with_time(simResult['cfqr']).to_html5_video())\n",
    "display.display(html)\n"
   ]
  },
  {
   "cell_type": "code",
   "execution_count": null,
   "id": "105",
   "metadata": {},
   "outputs": [],
   "source": [
    "import matplotlib.animation as animation\n",
    "\n",
    "writer = animation.PillowWriter(fps=15,\n",
    "                                metadata=dict(artist='Me'),\n",
    "                                bitrate=1800)\n",
    "ani.save('I_m_0nA.gif', writer=writer)\n"
   ]
  },
  {
   "cell_type": "code",
   "execution_count": null,
   "id": "106",
   "metadata": {},
   "outputs": [],
   "source": []
  },
  {
   "cell_type": "code",
   "execution_count": null,
   "id": "107",
   "metadata": {},
   "outputs": [],
   "source": []
  },
  {
   "cell_type": "code",
   "execution_count": null,
   "id": "108",
   "metadata": {},
   "outputs": [],
   "source": []
  },
  {
   "cell_type": "code",
   "execution_count": null,
   "id": "109",
   "metadata": {},
   "outputs": [],
   "source": []
  },
  {
   "cell_type": "code",
   "execution_count": null,
   "id": "110",
   "metadata": {},
   "outputs": [],
   "source": []
  },
  {
   "cell_type": "code",
   "execution_count": null,
   "id": "111",
   "metadata": {},
   "outputs": [],
   "source": [
    "from scipy import optimize\n",
    "import numpy as np"
   ]
  },
  {
   "cell_type": "code",
   "execution_count": null,
   "id": "112",
   "metadata": {},
   "outputs": [],
   "source": [
    "phi_1 = np.linspace(-3.5, 3.5, 1000)\n",
    "phi_1x = 0"
   ]
  },
  {
   "cell_type": "code",
   "execution_count": null,
   "id": "113",
   "metadata": {},
   "outputs": [],
   "source": [
    "def U_1(phi_1, phi_1x, phi_1dc):\n",
    "    _potential = 1/2 * (phi_1 - phi_1x)**2 + beta_1 * np.cos(phi_1) * np.cos(phi_1dc/2) \\\n",
    "     - d_beta_1 * np.sin(phi_1) * np.sin(phi_1dc/2)\n",
    "    return _potential"
   ]
  },
  {
   "cell_type": "code",
   "execution_count": null,
   "id": "114",
   "metadata": {},
   "outputs": [],
   "source": [
    "U_array = [U_1(phi_1, phi_1x, _phi_1dc) for _phi_1dc in np.linspace(1.8, 2, 4)]"
   ]
  },
  {
   "cell_type": "code",
   "execution_count": null,
   "id": "115",
   "metadata": {},
   "outputs": [],
   "source": [
    "for _U in U_array:\n",
    "    plt.plot(phi_1, _U)\n",
    "plt.vlines(0, ymin = 0, ymax = 2.5)\n",
    "plt.ylim(0, 2.5)"
   ]
  },
  {
   "cell_type": "code",
   "execution_count": null,
   "id": "116",
   "metadata": {},
   "outputs": [],
   "source": []
  },
  {
   "cell_type": "code",
   "execution_count": null,
   "id": "117",
   "metadata": {},
   "outputs": [],
   "source": [
    "# By tracking minimum points"
   ]
  },
  {
   "cell_type": "code",
   "execution_count": null,
   "id": "118",
   "metadata": {},
   "outputs": [],
   "source": [
    "phi_1x = 0\n",
    "all_minimum_point = []\n",
    "mirror_min = []\n",
    "_phi_1dc_array = np.linspace(0, 3, 4)\n",
    "for _phi_1dc in _phi_1dc_array:\n",
    "    # U_1(phi_1, phi_1x, _phi_1dc):\n",
    "    def Fcn(phi_1):\n",
    "        _potential = 1/2 * (phi_1 - phi_1x)**2 + beta_1 * np.cos(phi_1) * np.cos(_phi_1dc/2) \\\n",
    "         - d_beta_1 * np.sin(phi_1) * np.sin(_phi_1dc/2)\n",
    "        return _potential\n",
    "    \n",
    "\n",
    "    solution_set = [optimize.fmin(Fcn, _g, disp=None) for _g in [-2, 2]]\n",
    "    # solution_set = [optimize.fsolve(Fcn, _g) for _g in [-2, 2]]\n",
    "    solution_set = [sol[0] for sol in solution_set]\n",
    "    mirror_min.append([abs(min(solution_set)), -abs(min(solution_set))])\n",
    "    # all_minimum_point.append([(sol[0], Fcn(sol[0])) for sol in solution_set])\n",
    "\n",
    "    all_minimum_point.append(solution_set)"
   ]
  },
  {
   "cell_type": "code",
   "execution_count": null,
   "id": "119",
   "metadata": {},
   "outputs": [],
   "source": [
    "correct_phi_1x_array = []\n",
    "corrected_U = []\n",
    "difference_of_min = []\n",
    "for _phi_1dc, min_point in zip(_phi_1dc_array, all_minimum_point):\n",
    "    phi_1_a, phi_1_b = min_point[0], min_point[1]\n",
    "    correct_phi_1x = 1/2 * (phi_1_a + phi_1_b) - 1/(phi_1_a - phi_1_b) * \\\n",
    "                     (d_beta_1 * (np.sin(phi_1_a) - np.sin(phi_1_b)) * np.sin(_phi_1dc/2) -\\\n",
    "                     beta_1 * np.cos(_phi_1dc/2) * (np.cos(phi_1_a) - np.cos(phi_1_b)))\n",
    "    \n",
    "    \n",
    "    difference = U_1(phi_1_a, correct_phi_1x, _phi_1dc) - U_1(phi_1_b, correct_phi_1x, _phi_1dc) \n",
    "    correct_phi_1x_array.append(correct_phi_1x)\n",
    "    difference_of_min.append(difference)\n",
    "    corrected_U.append(U_1(phi_1, correct_phi_1x, _phi_1dc))"
   ]
  },
  {
   "cell_type": "code",
   "execution_count": null,
   "id": "120",
   "metadata": {},
   "outputs": [],
   "source": [
    "color = [\"blue\" ,\"orange\", \"green\", \"red\"]\n",
    "for _U, min_point, _c in zip(corrected_U, all_minimum_point, color):\n",
    "    plt.plot(phi_1, _U, color=_c)\n",
    "    plt.vlines(min_point[0], ymin = 0, ymax = 2.5, colors=_c)\n",
    "    plt.vlines(min_point[1], ymin = 0, ymax = 2.5, colors=_c)\n",
    "plt.ylim(0, 2.5)"
   ]
  },
  {
   "cell_type": "code",
   "execution_count": null,
   "id": "121",
   "metadata": {},
   "outputs": [],
   "source": []
  },
  {
   "cell_type": "code",
   "execution_count": null,
   "id": "122",
   "metadata": {},
   "outputs": [],
   "source": [
    "correct_phi_1x_array = []\n",
    "corrected_U = []\n",
    "difference_of_min = []\n",
    "for _phi_1dc, min_point in zip(_phi_1dc_array, mirror_min):\n",
    "    phi_1_a, phi_1_b = min_point[0], min_point[1]\n",
    "    correct_phi_1x = 1/2 * (phi_1_a + phi_1_b) - 1/(phi_1_a - phi_1_b) * \\\n",
    "                     (d_beta_1 * (np.sin(phi_1_a) - np.sin(phi_1_b)) * np.sin(_phi_1dc/2) -\\\n",
    "                     beta_1 * np.cos(_phi_1dc/2) * (np.cos(phi_1_a) - np.cos(phi_1_b)))\n",
    "    \n",
    "    \n",
    "    difference = U_1(phi_1_a, correct_phi_1x, _phi_1dc) - U_1(phi_1_b, correct_phi_1x, _phi_1dc) \n",
    "    correct_phi_1x_array.append(correct_phi_1x)\n",
    "    difference_of_min.append(difference)\n",
    "    corrected_U.append(U_1(phi_1, correct_phi_1x, _phi_1dc))"
   ]
  },
  {
   "cell_type": "code",
   "execution_count": null,
   "id": "123",
   "metadata": {},
   "outputs": [],
   "source": [
    "color = [\"blue\" ,\"orange\", \"green\", \"red\"]\n",
    "for _U, min_point, _c in zip(corrected_U, mirror_min, color):\n",
    "    plt.plot(phi_1, _U, color=_c)\n",
    "    plt.vlines(min_point[0], ymin = 0, ymax = 2.5, colors=_c)\n",
    "    plt.vlines(min_point[1], ymin = 0, ymax = 2.5, colors=_c)\n",
    "plt.ylim(0, 2.5)"
   ]
  },
  {
   "cell_type": "code",
   "execution_count": null,
   "id": "124",
   "metadata": {},
   "outputs": [],
   "source": []
  },
  {
   "cell_type": "code",
   "execution_count": null,
   "id": "125",
   "metadata": {},
   "outputs": [],
   "source": [
    "all_minimum_point"
   ]
  },
  {
   "cell_type": "code",
   "execution_count": null,
   "id": "126",
   "metadata": {},
   "outputs": [],
   "source": []
  }
 ],
 "metadata": {
  "kernelspec": {
   "display_name": "Python 3 (ipykernel)",
   "language": "python",
   "name": "python3"
  },
  "language_info": {
   "codemirror_mode": {
    "name": "ipython",
    "version": 3
   },
   "file_extension": ".py",
   "mimetype": "text/x-python",
   "name": "python",
   "nbconvert_exporter": "python",
   "pygments_lexer": "ipython3",
   "version": "3.10.9"
  }
 },
 "nbformat": 4,
 "nbformat_minor": 5
}
