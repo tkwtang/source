{
 "cells": [
  {
   "cell_type": "code",
   "execution_count": null,
   "id": "0",
   "metadata": {
    "jupyter": {
     "source_hidden": true
    },
    "tags": []
   },
   "outputs": [],
   "source": [
    "import numpy as np\n",
    "import matplotlib as mpl\n",
    "import importlib, os, datetime\n",
    "from sus.protocol_designer import System, Protocol, Potential, Compound_Protocol\n",
    "from sus.protocol_designer.protocol import sequential_protocol\n",
    "from IPython import display\n",
    "from IPython.display import HTML, Image\n",
    "from quick_sim import setup_sim\n",
    "\n",
    "from edward_tools.coupled_fq_potential import coupled_flux_qubit_non_linear_approx_pot, coupled_flux_qubit_non_linear_approx_force, coupled_flux_qubit_non_linear_approx_pot_break_down\n",
    "\n",
    "import edward_tools.fq_runner as fq_runner\n",
    "from edward_tools.visualization import animate_sim_flux_qubit\n",
    "from edward_tools.initial_state_sampling import extra_constraint_00_and_11_only\n",
    "from PARAMETER_INPUT import *\n",
    "from PARAMETER_INPUT import _lambda, _theta, _eta\n",
    "import importlib\n",
    "\n",
    "import kyle_tools as kt\n",
    "import matplotlib.pyplot as plt\n",
    "\n",
    "\n",
    "from edward_tools import coupled_fq_protocol_library, cfq_runner\n",
    "from edward_tools import coupled_fq_protocol_library\n",
    "\n",
    "import edward_tools.cfq_batch_sweep as cfq_batch_sweep\n",
    "import edward_tools.Analysis_tool.general_analysis_tools as general_analysis_tool\n",
    "# from edward_tools.Analysis_tool.general_analysis_tools import show_phi_dc_with_time\n",
    "import edward_tools.Analysis_tool.minimum_value_of_potential as minimum_value_of_potential\n",
    "from edward_tools.couple_flux_qubit_metrics import fidelityEvaluation\n",
    "\n",
    "\n",
    "coupled_fq_protocol_library = importlib.reload(coupled_fq_protocol_library)\n",
    "create_system = coupled_fq_protocol_library.create_system\n",
    "get_potential_shot_at_different_t = coupled_fq_protocol_library.get_potential_shot_at_different_t\n",
    "get_potential_shot_at_different_t_1D = coupled_fq_protocol_library.get_potential_shot_at_different_t_1D\n",
    "create_simple_protocol_parameter_dict = coupled_fq_protocol_library.create_simple_protocol_parameter_dict\n",
    "coupled_fq_runner = importlib.reload(cfq_runner)\n",
    "coupled_fq_protocol_library = importlib.reload(coupled_fq_protocol_library)\n",
    "create_system = coupled_fq_protocol_library.create_system\n",
    "get_potential_along_a_1D_cutline = coupled_fq_protocol_library.get_potential_along_a_1D_cutline\n",
    "plotCutlines = coupled_fq_protocol_library.plotCutlines\n",
    "\n",
    "rc_dict = {'font.size':16, 'axes.labelsize':'large', 'ytick.right':False,'legend.loc':'upper right', 'legend.fontsize':'xx-small', 'figure.autolayout':True, 'figure.figsize': (10,10), 'mathtext.fontset':'stix', 'font.family':'STIXGeneral'}\n",
    "mpl.rcParams.update(rc_dict)"
   ]
  },
  {
   "cell_type": "code",
   "execution_count": null,
   "id": "1",
   "metadata": {},
   "outputs": [],
   "source": [
    "# 4. Szilard engine test"
   ]
  },
  {
   "cell_type": "markdown",
   "id": "2",
   "metadata": {
    "tags": []
   },
   "source": [
    "# parameters"
   ]
  },
  {
   "cell_type": "code",
   "execution_count": null,
   "id": "3",
   "metadata": {},
   "outputs": [],
   "source": []
  },
  {
   "cell_type": "code",
   "execution_count": null,
   "id": "4",
   "metadata": {
    "tags": []
   },
   "outputs": [],
   "source": [
    "has_velocity = True\n",
    "\n",
    "PHI_0 = 2.067833848 * 1e-15\n",
    "k_B = 1.38e-23\n",
    "T = 0.5\n",
    "k_BT = k_B * T\n",
    "\n",
    "C_factor = 1\n",
    "L_factor = 0.35\n",
    "# I_m_factor = 50\n",
    "# I_m_factor = 15\n",
    "I_m_factor = 0\n",
    "time_scale = 1.0\n",
    "R_factor = 0.05\n",
    "\n",
    "I_p_1, I_p_2 = 2e-6 , 2e-6  # Amp\n",
    "I_m_1, I_m_2 = 7e-9 * I_m_factor, 7e-9 * I_m_factor                                # Amp\n",
    "# R_1, R_2 = 1, 1  \n",
    "R_1, R_2 = 371 * R_factor, 371 * R_factor\n",
    "C_1, C_2 = 4e-9 * C_factor, 4e-9 * C_factor                              # F\n",
    "L_1, L_2 = 1e-9 * L_factor, 1e-9 * L_factor                             # H \n",
    "gamma = 10"
   ]
  },
  {
   "cell_type": "code",
   "execution_count": null,
   "id": "5",
   "metadata": {
    "jupyter": {
     "source_hidden": true
    },
    "tags": []
   },
   "outputs": [],
   "source": [
    "m_c = C_1\n",
    "m_1 = C_1\n",
    "m_2 = C_2\n",
    "x_c = PHI_0 / (2 * np.pi)\n",
    "time_scale_factor = 1\n",
    "t_c = np.sqrt(L_1 * C_1)\n",
    "v_c = x_c / t_c\n",
    "\n",
    "\n",
    "U0_1 = m_c * x_c**2 / t_c**2 / k_BT\n",
    "U0_2 = m_2 * x_c**2 / t_c**2 / k_BT\n",
    "kappa_1, kappa_2, kappa_3, kappa_4 = 1/U0_1, 1/U0_1, 1/U0_1, 1/U0_1\n",
    "\n",
    "lambda_1 = 2 * np.sqrt(L_1 * C_1) / (C_1 * R_1)\n",
    "theta_1  = 1\n",
    "eta_1    = np.sqrt(np.sqrt(L_1 * C_1)/ (R_1 * C_1)) * np.sqrt(2 * kappa_1 / 1**2)\n",
    "\n",
    "lambda_2 = 2 * np.sqrt(L_1 * C_1) / (C_2 * R_2)\n",
    "theta_2  = 1 / (C_2/C_1)\n",
    "eta_2    = np.sqrt(np.sqrt(L_1 * C_1)/ (R_1 * C_1)) * np.sqrt(2 * kappa_2 * (R_1 * C_1**2) / (R_2 * C_2**2))\n",
    "\n",
    "lambda_3 = 2 * np.sqrt(L_1 * C_1) / (C_1 * R_1)\n",
    "theta_3  = 4\n",
    "eta_3    = np.sqrt(np.sqrt(L_1 * C_1)/ (R_1 * C_1)) * np.sqrt(8 * kappa_3)\n",
    "\n",
    "lambda_4 = 2 * np.sqrt(L_1 * C_1) / (C_2 * R_2)\n",
    "theta_4  = 4 / (C_2/C_1)\n",
    "eta_4    = np.sqrt(np.sqrt(L_1 * C_1)/ (R_1 * C_1)) * np.sqrt(8 * kappa_4 * (R_1 * C_1**2) / (R_2 * C_2**2))\n",
    "\n",
    "beta_1 = 2 * np.pi * L_1 * I_p_1 / PHI_0; \n",
    "beta_2 = 2 * np.pi * L_2 * I_p_2 / PHI_0;\n",
    "\n",
    "d_beta_1 = 2 * np.pi * L_1 * I_m_1 / PHI_0; \n",
    "d_beta_2 = 2 * np.pi * L_2 * I_m_2 / PHI_0;\n",
    "\n",
    "\n",
    "_lambda = np.array([lambda_1, lambda_2, lambda_3, lambda_4]) \n",
    "_theta  = np.array([theta_1, theta_2, theta_3, theta_4])\n",
    "_eta  =   np.array([eta_1, eta_2, eta_3, eta_4])\n",
    "\n",
    "v_1 = np.random.normal(0, np.sqrt(k_BT/m_1)) / v_c\n",
    "v_2 = np.random.normal(0, np.sqrt(k_BT/m_2)) / v_c\n",
    "v_3 = np.random.normal(0, np.sqrt(k_BT/(m_1/4))) / v_c\n",
    "v_4 = np.random.normal(0, np.sqrt(k_BT/(m_2/4))) / v_c"
   ]
  },
  {
   "cell_type": "code",
   "execution_count": null,
   "id": "6",
   "metadata": {
    "tags": []
   },
   "outputs": [],
   "source": [
    "\"\"\"\n",
    "# step 0: modify parameters\n",
    "- All the parameters are stored in a separate file PARAMETER_INPUT\n",
    "- You can override some of the parameters here.\n",
    "\"\"\"\n",
    "params = {}\n",
    "params['N'] = 100\n",
    "params['dt'] = 1/100\n",
    "params['lambda'] = 1\n",
    "params['beta'] = 1\n",
    "params['sim_params'] = [_lambda, _theta, _eta]\n",
    "params['target_work'] = None\n",
    "params['applyOffset'] = False\n",
    "params['monitor_work_dist_in_whole_process'] = True # To monitor the work process\n",
    "params['comment'] = \"Experiment 8 (2024/3/17): 4 well, with no compensation for asym, 1/5000\"\n",
    "params['capacitance'] = [C_1, C_2, C_1/4, C_2/4]\n",
    "params['mass_special'] = [1, 1, 1/4, 1/4]\n",
    "params['v_c'] = x_c/t_c\n",
    "params['k_BT'] = k_BT\n",
    "params['U0'] = U0_1\n",
    "params['as_step'] = np.s_[::100] # the time step to skep for the all_state\n",
    "params['percentage'] = 1 # For what percentage of the total sample do you want to keep in the output all_state\n",
    "params['params_key_dict'] = protocol_key_dict # the key of the params, for reference\n",
    "\n",
    "# params['as_step'] = np.s_[::100]\n"
   ]
  },
  {
   "cell_type": "code",
   "execution_count": null,
   "id": "7",
   "metadata": {},
   "outputs": [],
   "source": []
  },
  {
   "cell_type": "markdown",
   "id": "8",
   "metadata": {
    "tags": []
   },
   "source": [
    "# define potential"
   ]
  },
  {
   "cell_type": "code",
   "execution_count": null,
   "id": "9",
   "metadata": {
    "jupyter": {
     "source_hidden": true
    },
    "tags": []
   },
   "outputs": [],
   "source": [
    "\"\"\"\n",
    "# step 1: Define potential\n",
    "\"\"\"\n",
    "coupled_fq_default_param = [1, 1, 0, 0, 0, 0, 0, 0, 0, 0, 0, 0, 0, x_c]\n",
    "[phi_1_bound, phi_2_bound, phi_1dc_bound, phi_2dc_bound] = np.array([4, 4, 4, 4])/time_scale_factor\n",
    "\n",
    "coupled_fq_domain = [[-phi_1_bound, -phi_2_bound, -phi_1dc_bound, -phi_2dc_bound], \\\n",
    "                     [phi_1_bound, phi_2_bound, phi_1dc_bound, phi_2dc_bound]]\n",
    "\n",
    "# coupled_fq_pot = Potential(coupled_flux_qubit_pot_with_offset_at_00_xy, coupled_flux_qubit_force, 14, 4,\\\n",
    "#                            default_params = coupled_fq_default_param,  relevant_domain = coupled_fq_domain)\n",
    "\n",
    "coupled_fq_pot = Potential(coupled_flux_qubit_non_linear_approx_pot, coupled_flux_qubit_non_linear_approx_force, 14, 4,\\\n",
    "                           default_params = coupled_fq_default_param,  relevant_domain = coupled_fq_domain)\n",
    "\n",
    "\"\"\"\n",
    "# step 2: Define initial condition and protocol\n",
    "\"\"\"\n",
    "manual_domain=[np.array([-5, -5]), np.array([5, 5])]\n",
    "phi_1_dcx , phi_2_dcx = 0, 0\n",
    "phi_1_dc, phi_2_dc = phi_1_dcx, phi_2_dcx\n",
    "\n",
    "phi_1_x_off, phi_2_x_off = 0, 0\n",
    "phi_1_dcx_off, phi_2_dcx_off, M_12_off = 0, 0, 0\n",
    "\n",
    "tilt_factor = 7\n",
    "\n",
    "if I_m_factor == 0:\n",
    "    phi_1_x_on = 0\n",
    "    phi_2_x_on = 0\n",
    "else:\n",
    "    phi_1_x_on = -0.046710526315789 * tilt_factor\n",
    "    phi_2_x_on = -0.046842105263157005 * tilt_factor\n",
    "\n"
   ]
  },
  {
   "cell_type": "code",
   "execution_count": null,
   "id": "10",
   "metadata": {},
   "outputs": [],
   "source": [
    "phi_1_x_on = -0.1947\n",
    "phi_2_x_on = -0.1947\n",
    "# phi_2_x_on = -1\n",
    "phi_1_x_on = -0\n",
    "phi_2_x_on = -0\n",
    "\n",
    "\n",
    "\n",
    "phi_1_dcx_on = 3.0\n",
    "phi_2_dcx_on = 3.0\n",
    "M_12_on = -0.6\n",
    "    \n",
    "initial_parameter_dict = {\n",
    "        \"U0_1\": U0_1,     \"U0_2\": U0_2,     \"gamma_1\": gamma,  \"gamma_2\": gamma,\n",
    "        \"beta_1\": beta_1,   \"beta_2\": beta_2,   \"d_beta_1\": d_beta_1 ,   \"d_beta_2\": d_beta_2,\n",
    "        \"phi_1_x\": phi_1_x_off,  \"phi_2_x\": phi_2_x_off,  \"phi_1_dcx\": phi_1_dcx_off,  \"phi_2_dcx\": phi_1_dcx_off,\n",
    "        \"M_12\": M_12_off, 'x_c': x_c\n",
    "}\n",
    "\n"
   ]
  },
  {
   "cell_type": "code",
   "execution_count": null,
   "id": "11",
   "metadata": {
    "jupyter": {
     "source_hidden": true
    },
    "tags": []
   },
   "outputs": [],
   "source": [
    "zeroDissipation = False\n",
    "saveAllStates = True\n",
    "params['sim_params'] = [_lambda, _theta, _eta]\n",
    "if zeroDissipation:\n",
    "    params['sim_params'] = [_lambda * 0, _theta, _eta * 0]\n",
    "\n",
    "params['circuit_parameters'] = {\n",
    "    \"C_factor\":C_factor, \"L_factor\": L_factor, \"I_m_factor\": I_m_factor, \"T\": T, \n",
    "    \"I_p_1\": I_p_1, \"I_p_2\": I_p_2, \"I_m_1\": I_m_1, \"I_m_2\": I_m_2,\n",
    "    \"R_1\": R_1, \"R_2\": R_2, \"C_1\": C_1, \"C_2\": C_2, \"L_1\": L_1, \"L_2\": L_2, \n",
    "    \"phi_1_x_on\": phi_1_x_on, \"phi_2_x_on\": phi_1_x_on,\n",
    "    \"phi_1_dcx_on\": phi_1_dcx_on, \"phi_2_dcx_on\": phi_2_dcx_on, \"M_12_on\": M_12_on,\n",
    "    \"gamma\": gamma\n",
    "}\n",
    "    \n",
    "TR_initial_condition = [\n",
    "    (phi_1_dcx_off, phi_2_dcx_off, M_12_off), # t_0\n",
    "    (phi_1_dcx_off, phi_2_dcx_on,  M_12_off), # t_1\n",
    "    (phi_1_dcx_off, phi_2_dcx_on,  M_12_on),  # t_2\n",
    "    (phi_1_dcx_off, phi_2_dcx_off, M_12_on),  # t_3\n",
    "    (phi_1_dcx_off, phi_2_dcx_off, M_12_off), \n",
    "    (phi_1_dcx_on,  phi_2_dcx_off, M_12_off)]\n",
    "\n",
    "protocol_index = 0\n",
    "\n",
    "def protocol_maker(time, _p):\n",
    "    return {\n",
    "        \"duration\": time, \"name\": _p[\"name\"], \"phi_1_x\": _p[\"phi_1_x\"], \"phi_2_x\": _p[\"phi_2_x\"],\n",
    "        \"M_12\": _p[\"M_12\"], \"phi_1_dcx\": _p[\"phi_1_dcx\"], \"phi_2_dcx\": _p[\"phi_2_dcx\"]\n",
    "    }\n",
    "\n",
    "\n",
    "_P = [\n",
    "    {\"duration\":50 * time_scale, \"name\":\"return to 4 well potential (a)\",\n",
    "        \"phi_1_x\": phi_1_x_off, \"phi_2_x\": phi_2_x_off , \"M_12\": M_12_off,  \n",
    "        \"phi_1_dcx\": phi_1_dcx_off, \"phi_2_dcx\": phi_2_dcx_off,  \n",
    "    },\n",
    "    \n",
    "    # forward\n",
    "    {\"duration\": 50 * time_scale, \"name\":\"(t_1) mix in y direction (a)\",\n",
    "        \"phi_1_x\": phi_1_x_off, \"phi_2_x\": phi_2_x_on * 0.1, \"M_12\": M_12_off,  \n",
    "        \"phi_1_dcx\": phi_1_dcx_off, \"phi_2_dcx\": phi_2_dcx_on * 0.5,  \n",
    "    }, # 1\n",
    "    {\"duration\":200 * time_scale, \"name\":\"(t_2) mix in y direction (b)\",\n",
    "        \"phi_1_x\": phi_1_x_off, \"phi_2_x\": phi_2_x_on, \"M_12\": M_12_off,  \n",
    "        \"phi_1_dcx\": phi_1_dcx_off, \"phi_2_dcx\": phi_2_dcx_on,  \n",
    "    }, # 2\n",
    "    {\"duration\":50 * time_scale, \"name\":\"(t_3) conditional tilt\",\n",
    "        \"phi_1_x\": phi_1_x_off, \"phi_2_x\": phi_2_x_on, \"M_12\": M_12_on,  \n",
    "        \"phi_1_dcx\": phi_1_dcx_off, \"phi_2_dcx\": phi_2_dcx_on,  \n",
    "    }, # 3\n",
    "    {\"duration\":50 * time_scale, \"name\":\"(t_4) return to 4 well\",\n",
    "        \"phi_1_x\": phi_1_x_off, \"phi_2_x\": phi_2_x_off, \"M_12\": M_12_off,  \n",
    "        \"phi_1_dcx\": phi_1_dcx_off, \"phi_2_dcx\": phi_2_dcx_off,  \n",
    "    }, # 4\n",
    "    \n",
    "    {\"duration\":50 * time_scale, \"name\":\"(t_5) conditional tilt\",\n",
    "        \"phi_1_x\": phi_1_x_on, \"phi_2_x\": phi_2_x_off, \"M_12\": M_12_on,  \n",
    "        \"phi_1_dcx\": phi_1_dcx_on, \"phi_2_dcx\": phi_2_dcx_off,  \n",
    "    }, # 5\n",
    "    {\"duration\":50 * time_scale, \"name\":\"(t_6) mix in x direction\",\n",
    "        \"phi_1_x\": phi_1_x_on, \"phi_2_x\": phi_2_x_off, \"M_12\": M_12_off,  \n",
    "        \"phi_1_dcx\": phi_1_dcx_on, \"phi_2_dcx\": phi_2_dcx_off,  \n",
    "    }, \n",
    "    {\"duration\":200 * time_scale, \"name\":\"return to 4 well potential (a)\",\n",
    "        \"phi_1_x\": phi_1_x_on * 0.1, \"phi_2_x\": phi_2_x_off , \"M_12\": M_12_off,  \n",
    "        \"phi_1_dcx\": phi_1_dcx_on * 0.5, \"phi_2_dcx\": phi_2_dcx_off,  \n",
    "    },\n",
    "    {\"duration\":50 * time_scale, \"name\":\"return to 4 well potential (a)\",\n",
    "        \"phi_1_x\": phi_1_x_off, \"phi_2_x\": phi_2_x_off , \"M_12\": M_12_off,  \n",
    "        \"phi_1_dcx\": phi_1_dcx_off, \"phi_2_dcx\": phi_2_dcx_off,  \n",
    "    }\n",
    "]\n",
    "\n",
    "# bookmark\n",
    "\n",
    "\n",
    "initial_condition = _P[0]\n",
    "initial_parameter_dict[\"phi_1_dcx\"], initial_parameter_dict[\"phi_2_dcx\"], initial_parameter_dict[\"M_12\"] = \\\n",
    "initial_condition[\"phi_1_dcx\"], initial_condition[\"phi_2_dcx\"], initial_condition[\"M_12\"]\n",
    "\n",
    "protocol_list = [\n",
    "    # protocol_maker(50, _P[1]), protocol_maker(200, _P[2]), \n",
    "    # protocol_maker(50, _P[3]),\n",
    "    protocol_maker(50, _P[4]), \n",
    "    # protocol_maker(50, _P[3]), \n",
    "    # protocol_maker(50, _P[2]), \n",
    "    # protocol_maker(200, _P[1]), protocol_maker(50,  _P[0])\n",
    "]\n",
    "\n",
    "# protocol_list = [\n",
    "    \n",
    "#     # {\"duration\":50 * time_scale, \"phi_2_x\": 0, \"phi_2_dcx\": 0,  \"M_12\": -0.6,  \"name\":\"(1) mix in y direction (a)\"},    \n",
    "#     {\"duration\":50 * time_scale, \"phi_2_x\": phi_1_x_on * 0.1,  \"phi_1_dcx\": phi_1_dcx_off, \"phi_2_dcx\": phi_2_dcx_on * 0.5,  \"M_12\": M_12_off,  \"name\":\"(1) mix in y direction (a)\"},\n",
    "#     {\"duration\":200 * time_scale,\"phi_2_x\": phi_1_x_on, \"phi_1_dcx\": phi_1_dcx_off, \"phi_2_dcx\": phi_2_dcx_on,  \"M_12\": M_12_off,  \"name\":\"(1) mix in y direction (b)\"},\n",
    "#     {\"duration\":50 * time_scale, \"phi_1_dcx\": phi_1_dcx_off, \"phi_2_dcx\": phi_2_dcx_on,  \"M_12\": M_12_on,   \"name\":\"(2) conditional tilt\"},\n",
    "#     {\"duration\":50 * time_scale, \"phi_2_x\": phi_2_x_off, \"phi_1_dcx\": phi_1_dcx_off, \"phi_2_dcx\": phi_2_dcx_off, \"M_12\": M_12_off,  \"name\":\"(3) return to 4 well\"},\n",
    "#     {\"duration\":50 * time_scale, \"phi_1_x\": phi_1_x_on, \"phi_2_x\": phi_1_x_off, \"phi_1_dcx\": phi_1_dcx_on,  \"phi_2_dcx\": phi_2_dcx_off, \"M_12\": M_12_on,  \"name\": \"(4) conditional tilt in x\"}, \n",
    "#     {\"duration\":50 * time_scale, \"phi_1_dcx\": phi_1_dcx_on,  \"phi_2_dcx\": phi_2_dcx_off, \"M_12\": M_12_off,  \"name\":\"(5) mix in x direction\"}, \n",
    "#     {\"duration\":200 * time_scale, \"phi_1_x\": phi_1_x_on * 0.1, \"phi_1_dcx\": phi_1_dcx_on * 0.5, \"phi_2_dcx\": phi_2_dcx_off, \"M_12\": M_12_off,  \"name\":\"(6) return to 4 well potential (a)\"}, \n",
    "#     {\"duration\":50 * time_scale,  \"phi_1_x\": phi_1_x_off, \"phi_1_dcx\": phi_1_dcx_off, \"phi_2_dcx\": phi_2_dcx_off, \"M_12\": M_12_off,  \"name\":\"(6) 4 well potential (b)\"}, \n",
    "# ]\n",
    "\n",
    "\n"
   ]
  },
  {
   "cell_type": "code",
   "execution_count": null,
   "id": "12",
   "metadata": {},
   "outputs": [],
   "source": []
  },
  {
   "cell_type": "code",
   "execution_count": null,
   "id": "13",
   "metadata": {},
   "outputs": [],
   "source": [
    "params['N'] = 1000\n",
    "params['dt'] = 1/100\n",
    "protocol_list = [\n",
    "    \n",
    "    # {\"duration\":50 * time_scale, \"phi_2_x\": 0, \"phi_2_dcx\": 0,  \"M_12\": -0.6,  \"name\":\"(1) mix in y direction (a)\"},    \n",
    "    {\"duration\":50 * time_scale, \"phi_2_x\": phi_1_x_on * 0.1,  \"phi_1_dcx\": phi_1_dcx_off, \"phi_2_dcx\": phi_2_dcx_on * 0.5, \"M_12\": M_12_off,  \"name\":\"(1) mix in y direction (a)\"},\n",
    "    {\"duration\":200 * time_scale,\"phi_2_x\": phi_1_x_on, \"phi_1_dcx\": phi_1_dcx_off, \"phi_2_dcx\": phi_2_dcx_on,  \"M_12\": M_12_off,  \"name\":\"(1) mix in y direction (b)\"},\n",
    "    {\"duration\":200 * time_scale, \"phi_1_x\": phi_1_x_on * 0.1, \"phi_1_dcx\": phi_1_dcx_off, \"phi_2_dcx\": phi_2_dcx_on * 0.5, \"M_12\": M_12_off,  \"name\":\"(6) return to 4 well potential (a)\"}, \n",
    "    {\"duration\":50 * time_scale,  \"phi_1_x\": phi_1_x_off, \"phi_1_dcx\": phi_1_dcx_off, \"phi_2_dcx\": phi_2_dcx_off, \"M_12\": M_12_off,  \"name\":\"(6) 4 well potential (b)\"}, \n",
    "]"
   ]
  },
  {
   "cell_type": "code",
   "execution_count": null,
   "id": "14",
   "metadata": {},
   "outputs": [],
   "source": [
    "regenerate_init_state = False"
   ]
  },
  {
   "cell_type": "code",
   "execution_count": null,
   "id": "15",
   "metadata": {
    "jupyter": {
     "source_hidden": true
    },
    "tags": []
   },
   "outputs": [],
   "source": [
    "%%capture\n",
    "\n",
    "# regenerate_init_state = True\n",
    "if regenerate_init_state:\n",
    "    initial_potential_protocol_list = [create_CE_Protocol(10, four_well)]\n",
    "    init_state_saved = cfq_batch_sweep.create_initial_state(initial_parameter_dict, initial_potential_protocol_list, coupled_fq_pot, params)\n",
    "else:\n",
    "    init_state_saved = np.load(\"four_well_default_init_state_N_1000.npy\")\n",
    "    pass\n",
    "\n",
    "init_state_used = init_state_saved\n"
   ]
  },
  {
   "cell_type": "code",
   "execution_count": null,
   "id": "16",
   "metadata": {},
   "outputs": [],
   "source": [
    "protocol_list"
   ]
  },
  {
   "cell_type": "code",
   "execution_count": null,
   "id": "17",
   "metadata": {},
   "outputs": [],
   "source": [
    "\"\"\"\n",
    "# step 3: create the relevant storage protocol and computation protocol\n",
    "\"\"\"\n",
    "def modifiedFunction(t, result):\n",
    "    return result\n",
    "\n",
    "\n",
    "computation_protocol_parameter_dict = coupled_fq_protocol_library.customizedProtocol(initial_parameter_dict, \\\n",
    "                                                                    protocol_list)\n",
    "storage_protocol, comp_protocol = create_system(computation_protocol_parameter_dict, modifiedFunction = None)\n",
    "\n",
    "cfqr = cfq_runner.coupledFluxQubitRunner(potential = coupled_fq_pot, params = params, \\\n",
    "                                                storage_protocol= storage_protocol, \\\n",
    "                                                computation_protocol= comp_protocol, \\\n",
    "                                         protocol_list = protocol_list, \\\n",
    "                                        has_velocity=has_velocity)\n",
    "\n",
    "protocol_time_array, protocol_time_index_array, protocol_all_time_array, protocol_time_all_index_array = cfqr.createProtocolTimeArray(protocol_list, params)\n",
    "cfqr.initialize_sim()\n",
    "# cfqr.set_sim_attributes(init_state=init_state_saved)\n",
    "cfqr.set_sim_attributes(init_state=init_state_used)\n"
   ]
  },
  {
   "cell_type": "code",
   "execution_count": null,
   "id": "18",
   "metadata": {},
   "outputs": [],
   "source": []
  },
  {
   "cell_type": "code",
   "execution_count": null,
   "id": "19",
   "metadata": {},
   "outputs": [],
   "source": [
    "cfqr.showPamameterTimeGraph(protocol_time_array, protocol_all_time_array)\n",
    "# showPamameterTimeGraph(cfqr, protocol_time_array, protocol_all_time_array)"
   ]
  },
  {
   "cell_type": "code",
   "execution_count": null,
   "id": "20",
   "metadata": {},
   "outputs": [],
   "source": []
  },
  {
   "cell_type": "markdown",
   "id": "21",
   "metadata": {},
   "source": [
    "# actual simulations"
   ]
  },
  {
   "cell_type": "code",
   "execution_count": null,
   "id": "22",
   "metadata": {},
   "outputs": [],
   "source": [
    "# step 5: perform simulations\n",
    "manual_domain=[np.array([-5, -5]), np.array([5, 5])]\n",
    "\n",
    "simResult = cfq_batch_sweep.simulateSingleCoupledFluxQubit(params, initial_parameter_dict, protocol_list, \\\n",
    "                        potential = coupled_fq_pot, potential_default_param = coupled_fq_default_param,            \n",
    "                        initial_state = init_state_used, manual_domain = manual_domain, \\\n",
    "                        phi_1_dcx = phi_1_dcx,  phi_2_dcx = phi_2_dcx, measure_all_states=saveAllStates, \\\n",
    "                        has_velocity = has_velocity)"
   ]
  },
  {
   "cell_type": "code",
   "execution_count": null,
   "id": "23",
   "metadata": {},
   "outputs": [],
   "source": []
  },
  {
   "cell_type": "code",
   "execution_count": null,
   "id": "24",
   "metadata": {},
   "outputs": [],
   "source": []
  },
  {
   "cell_type": "markdown",
   "id": "25",
   "metadata": {
    "tags": []
   },
   "source": [
    "### Work Analysis"
   ]
  },
  {
   "cell_type": "code",
   "execution_count": null,
   "id": "26",
   "metadata": {},
   "outputs": [],
   "source": [
    "import sys, importlib\n",
    "# importlib.reload(sys.modules['edward_tools.jupyter_helper_function'])\n",
    "from edward_tools.jupyter_helper_function import work_analysis, fidelity_analysis"
   ]
  },
  {
   "cell_type": "code",
   "execution_count": null,
   "id": "27",
   "metadata": {},
   "outputs": [],
   "source": [
    "fidelity_analysis(simResult, params, initial_parameter_dict, protocol_list)"
   ]
  },
  {
   "cell_type": "code",
   "execution_count": null,
   "id": "28",
   "metadata": {},
   "outputs": [],
   "source": []
  },
  {
   "cell_type": "markdown",
   "id": "29",
   "metadata": {},
   "source": [
    "# KE Analysis"
   ]
  },
  {
   "cell_type": "code",
   "execution_count": null,
   "id": "30",
   "metadata": {},
   "outputs": [],
   "source": [
    "import sys, importlib\n",
    "importlib.reload(sys.modules['edward_tools.jupyter_helper_function'])\n",
    "from edward_tools.jupyter_helper_function import work_analysis, KE_analysis, single_particle_analysis"
   ]
  },
  {
   "cell_type": "code",
   "execution_count": null,
   "id": "31",
   "metadata": {},
   "outputs": [],
   "source": [
    "KE_analysis(simResult)"
   ]
  },
  {
   "cell_type": "code",
   "execution_count": null,
   "id": "32",
   "metadata": {},
   "outputs": [],
   "source": []
  },
  {
   "cell_type": "markdown",
   "id": "33",
   "metadata": {
    "tags": []
   },
   "source": [
    "# single particle analysis"
   ]
  },
  {
   "cell_type": "code",
   "execution_count": null,
   "id": "34",
   "metadata": {},
   "outputs": [],
   "source": [
    "single_particle_analysis(simResult, params, protocol_list)"
   ]
  },
  {
   "cell_type": "code",
   "execution_count": null,
   "id": "35",
   "metadata": {},
   "outputs": [],
   "source": []
  },
  {
   "cell_type": "code",
   "execution_count": null,
   "id": "36",
   "metadata": {},
   "outputs": [],
   "source": [
    "_ = simResult['cfqr'].plotGraphWithContourGraph(showGraph = True)"
   ]
  },
  {
   "cell_type": "code",
   "execution_count": null,
   "id": "37",
   "metadata": {},
   "outputs": [],
   "source": []
  },
  {
   "cell_type": "markdown",
   "id": "38",
   "metadata": {},
   "source": [
    "# state_plot_potential_KE_animation_anlaysis"
   ]
  },
  {
   "cell_type": "code",
   "execution_count": null,
   "id": "39",
   "metadata": {},
   "outputs": [],
   "source": [
    "import sys, importlib\n",
    "importlib.reload(sys.modules['edward_tools.jupyter_helper_function'])\n",
    "from edward_tools.jupyter_helper_function import work_analysis, KE_analysis, single_particle_analysis, state_plot_potential_KE_animation_anlaysis"
   ]
  },
  {
   "cell_type": "code",
   "execution_count": null,
   "id": "40",
   "metadata": {},
   "outputs": [],
   "source": [
    "_t = 200"
   ]
  },
  {
   "cell_type": "code",
   "execution_count": null,
   "id": "41",
   "metadata": {},
   "outputs": [],
   "source": [
    "\n",
    "params_at_t =  simResult['cfqr'].protocol.get_params(_t)\n",
    "_phi_1_dcx = params_at_t[10]\n",
    "_phi_2_dcx = params_at_t[11]\n",
    "slice_value = [0, 0, _phi_1_dcx, _phi_2_dcx]\n",
    "particle_k = simResult['cfqr'].get_all_state()[:, _t, ...]\n",
    "cutlineValue = -2\n",
    "state_plot_potential_KE_animation_anlaysis(simResult, params, _t, cutlineValue, index_label = ['00', '01', '10', '11'])"
   ]
  },
  {
   "cell_type": "code",
   "execution_count": null,
   "id": "42",
   "metadata": {},
   "outputs": [],
   "source": []
  },
  {
   "cell_type": "code",
   "execution_count": null,
   "id": "43",
   "metadata": {},
   "outputs": [],
   "source": []
  },
  {
   "cell_type": "code",
   "execution_count": null,
   "id": "44",
   "metadata": {},
   "outputs": [],
   "source": [
    "pColor = {\"00\": \"#061DF7\", \"01\": \"red\", \"10\": \"#3FC7F2\", \"11\": \"#F187F4\"}\n",
    "names = [r\"$\\varphi_1$\", r\"$\\varphi_2$\", r\"$\\varphi_{1dc}$\", r\"$\\varphi_{2dc}$\"]\n",
    "fig, ax = plt.subplots(1, 2, figsize=[10, 5])\n",
    "ax_flatten = ax.flatten()\n",
    "all_state = simResult['cfqr'].sim.output.all_state['states']\n",
    "project_item = [\"00\", \"01\"]\n",
    "\n",
    "# title = ax_flatten[0].set_title(ax0_title)\n",
    "# _line = ax_flatten[0].plot([], [], color = \"red\")[0]\n",
    "cutlineInformation = [(-2, \"v\",\"red\")]\n",
    "cutlineXLimit = [-4, 4], \n",
    "cutlineYLimit = [50, 400]\n",
    "offset_potential = False\n",
    "\n",
    "N, nsteps, N_dim = np.shape(all_state)[0], np.shape(all_state)[1], np.shape(all_state)[2]\n",
    "state_lookup = separate_by_state(all_state[:, :, (0, 1), :])\n",
    "opacity = 0.5\n",
    "\n",
    "frame_skip  = 10\n",
    "index_skip_in_all_time_array = int(frame_skip /params['dt'])\n",
    "time_array = protocol_all_time_array[::index_skip_in_all_time_array]\n",
    "\n",
    "plot_axis = [0, 1]\n",
    "\n",
    "phi_1 = all_state[:,::frame_skip, 0, 0]\n",
    "phi_2 = all_state[:,::frame_skip, 1, 0]\n",
    "phi_1dc = all_state[:,::frame_skip, 2, 0]\n",
    "phi_2dc = all_state[:,::frame_skip, 3, 0]\n",
    "parms_at_init = simResult['cfqr'].protocol.get_params(0)\n",
    "particle_potential = simResult['cfqr'].system.potential.potential(phi_1, phi_2, phi_1dc, phi_2dc, parms_at_init)\n",
    "\n",
    "\n",
    "\n",
    "phi_1_lim = (np.min(phi_1), np.max(phi_1))\n",
    "phi_2_lim = (np.min(phi_2), np.max(phi_2))\n",
    "scat_kwargs = {'alpha':opacity, 'zorder':10}\n",
    "\n",
    "scat = [ax_flatten[0].scatter(phi_1[state_lookup[key], 0], phi_2[state_lookup[key], 0], c = pColor[key], **scat_kwargs) for key in state_lookup]\n",
    "\n",
    "plt_line_data_at_t = plotCutlines(X, Y, U, cutlineDirection, cutlineValue = _value,\\\n",
    "                        contour_plt=ax_flatten[0], cutline_plt=ax_flatten[1], contours = 20,\n",
    "                        showGraph=False, cutlineColor = _color, x_range = [-4, 4], cutlineYLimit = cutlineYLimit, offset_potential = offset_potential)\n",
    "\n",
    "scat_2 = [ax_flatten[1].scatter(phi_1[state_lookup[key], 0], particle_potential[state_lookup[key], 0], c = pColor[key], **scat_kwargs) for key in state_lookup]\n",
    "\n",
    "_value, _direction, _color = cutlineInformation[0]\n",
    "X, Y, U, cutlineDirection, _targetAxis, _plotAxis = get_potential_along_a_1D_cutline(cfqr, t = time_array[0], cutlineDirection = _direction)\n",
    "\n",
    "\n",
    "\n",
    "ax_flatten[0].set(xlim=x_lim, ylim=y_lim, xlabel=names[plot_axis[0]], ylabel=names[plot_axis[1]])\n",
    "ax_flatten[0].set_aspect(1)\n",
    "\n",
    "\n",
    "def animate(i):\n",
    "    x_i = phi_1[:, i]\n",
    "    y_i = phi_2[:, i]\n",
    "    \n",
    "    parms_at_i = simResult['cfqr'].protocol.get_params(time_array[i])\n",
    "    particle_potential_i = simResult['cfqr'].system.potential.potential(phi_1[:, i], phi_2[:, i], phi_1dc[:, i], phi_2dc[:, i], parms_at_i)\n",
    "\n",
    "    ax_flatten[1].clear()\n",
    "    scat_2 = [ax_flatten[1].scatter(phi_1[state_lookup[key], 0], particle_potential[state_lookup[key], 0], c = pColor[key], **scat_kwargs) for key in state_lookup if key in project_item]\n",
    "    for item in cutlineInformation:\n",
    "        _value, _direction, _color = item\n",
    "        \n",
    "        X, Y, U, cutlineDirection, _targetAxis, _plotAxis = get_potential_along_a_1D_cutline(cfqr, t = time_array[i], cutlineDirection = _direction)\n",
    "\n",
    "        plt_line_data_at_t = plotCutlines(X, Y, U, cutlineDirection, cutlineValue = _value,\\\n",
    "                                contour_plt=ax_flatten[0], cutline_plt=ax_flatten[1], contours = 20,\n",
    "                                showGraph=True, cutlineColor = _color, x_range = [-4, 4], cutlineYLimit = cutlineYLimit, offset_potential = offset_potential)\n",
    "\n",
    "    params_at_t_i = simResult['cfqr'].protocol.get_params(time_array[i])\n",
    "    # potential_at_t_i = simResult['cfqr'].system.potential.potential(x_1, y_i)\n",
    "        \n",
    "    for _i, item in enumerate(state_lookup):\n",
    "        scat[_i].set_offsets(np.c_[x_i[state_lookup[item]], y_i[state_lookup[item]]])\n",
    "        \n",
    "        if item in project_item:\n",
    "            scat_2[_i].set_offsets(np.c_[y_i[state_lookup[item]], particle_potential_i[state_lookup[item]]])\n",
    "\n",
    "\n",
    "\n",
    "ani = FuncAnimation(fig, animate, interval=100, frames=len(time_array), blit=False)"
   ]
  },
  {
   "cell_type": "code",
   "execution_count": null,
   "id": "45",
   "metadata": {},
   "outputs": [],
   "source": [
    "particle_potential[state_lookup[\"01\"], 0].shape"
   ]
  },
  {
   "cell_type": "code",
   "execution_count": null,
   "id": "46",
   "metadata": {},
   "outputs": [],
   "source": [
    "particle_potential[state_lookup[\"01\"], 0].shape"
   ]
  },
  {
   "cell_type": "code",
   "execution_count": null,
   "id": "47",
   "metadata": {},
   "outputs": [],
   "source": [
    "phi_1[state_lookup[\"01\"], 0].shape"
   ]
  },
  {
   "cell_type": "code",
   "execution_count": null,
   "id": "48",
   "metadata": {},
   "outputs": [],
   "source": [
    "display.HTML(ani.to_html5_video())"
   ]
  },
  {
   "cell_type": "code",
   "execution_count": null,
   "id": "49",
   "metadata": {},
   "outputs": [],
   "source": []
  },
  {
   "cell_type": "code",
   "execution_count": null,
   "id": "50",
   "metadata": {},
   "outputs": [],
   "source": []
  },
  {
   "cell_type": "code",
   "execution_count": null,
   "id": "51",
   "metadata": {},
   "outputs": [],
   "source": [
    "def animate_sim_flux_qubit_with_cutline(cfqr, frame_skip=30, time_array=None, params = None, legend=True, plot_axis = [0, 1],\n",
    "                                        slice_values = None, fig_ax=None, save_path = None, save_dict = None, ax0_title = None,\n",
    "                                        vmin = None, vmax = None, manual_domain = [np.array([-5, -5]), np.array([5, 5])], cutlineInformation = [(-3, \"v\",\"red\")],\n",
    "                                        cutlineGeneratingFunction = None, cutlineXLimit = [-4, 4], cutlineYLimit = None, pColor = None, \n",
    "                                        opacity = None, offset_potential = False, **pot_kwargs):\n",
    "\n",
    "    # dynamicCutline: need to convert the minimum point format [(x_1, y_1), (x_2, y_2), ...] to [(x_1, v, red), ...]\n",
    "    \n",
    "    if not pColor:\n",
    "        pColor = {\"00\": \"#061DF7\", \"01\": \"red\", \"10\": \"#3FC7F2\", \"11\": \"#F187F4\"}\n",
    "    \n",
    "    names = [r\"$\\varphi_1$\", r\"$\\varphi_2$\", r\"$\\varphi_{1dc}$\", r\"$\\varphi_{2dc}$\"]\n",
    "    fig, ax = plt.subplots(1, 2, figsize=[10, 5])\n",
    "    ax_flatten = ax.flatten()\n",
    "    \n",
    "    all_state = cfqr.sim.output.all_state['states']\n",
    "    phi_1 = all_state[:,::frame_skip, 0, 0]\n",
    "    phi_2 = all_state[:,::frame_skip, 1, 0]\n",
    "    phi_1dc = all_state[:,::frame_skip, 2, 0]\n",
    "    phi_2dc = all_state[:,::frame_skip, 3, 0]\n",
    "    \n",
    "    N, nsteps, N_dim = np.shape(all_state)[0], np.shape(all_state)[1], np.shape(all_state)[2]\n",
    "    \n",
    "    state_lookup = separate_by_state(all_state[:, :, (0, 1), :])\n",
    "\n",
    "    if opacity == None:\n",
    "        opacity = min(1, 300/N)\n",
    "    \n",
    "    time_array = time_array[::frame_skip]\n",
    "    if cutlineGeneratingFunction:\n",
    "        dynamicCutlineData = [cutlineGeneratingFunction(_t) for _t in time_array]\n",
    "        \n",
    "   \n",
    "    phi_1_lim = (np.min(phi_1), np.max(phi_1))\n",
    "    phi_2_lim = (np.min(2), np.max(phi_2))\n",
    "    scat_kwargs = {'alpha':opacity, 'zorder':10}\n",
    "\n",
    "    scat = [ax_flatten[0].scatter(phi_1[state_lookup[key], 0], phi_2[state_lookup[key], 0], c = pColor[key], **scat_kwargs) for key in state_lookup]\n",
    "    \n",
    "    if manual_domain:\n",
    "        phi_1_lim = (manual_domain[0][0], manual_domain[1][0])\n",
    "        phi_2_lim = (manual_domain[0][1], manual_domain[1][1])\n",
    "        ax_flatten[0].set(xlim=phi_1_lim, ylim=phi_2_lim, xlabel=names[0], ylabel=names[1])\n",
    "\n",
    "    # ax_flatten[0].set(xlim=phi_1_lim, ylim=phi_2_lim, xlabel=names[plot_axis[0]], ylabel=names[plot_axis[1]])\n",
    "    ax_flatten[0].set_aspect(1)\n",
    "    title = ax_flatten[0].set_title(ax0_title)\n",
    "    _line = ax_flatten[0].plot([], [], color = \"red\")[0]\n",
    "\n",
    "\n",
    "    \n",
    "    def animate(i):\n",
    "        phi_1_i = phi_1[:, i]\n",
    "        phi_2_i = phi_2[:, i]\n",
    "        ax_flatten[1].clear()\n",
    "\n",
    "        \n",
    "        if cutlineGeneratingFunction:\n",
    "            \n",
    "            _value, _direction, _color = dynamicCutlineData[i]\n",
    "            \n",
    "            X, Y, U, cutlineDirection, _targetAxis, _plotAxis = get_potential_along_a_1D_cutline(cfqr, \n",
    "                                    t = time_array[i], cutlineDirection = _direction)\n",
    "            \n",
    "        \n",
    "            plt_line_data_at_t = plotCutlines(X, Y, U, cutlineDirection, cutlineValue = _value,\\\n",
    "                                    contour_plt=ax_flatten[0], cutline_plt=ax_flatten[1], contours = 20,\n",
    "                                    showGraph=True, cutlineColor = _color, contour_range = [vmin, vmax], x_range = cutlineXLimit, \n",
    "                                    cutlineYLimit = cutlineYLimit, dynamicCutline = True, \n",
    "                                    offset_potential = offset_potential)\n",
    "            plt_line_data_at_t['_line'][0].set_data([], [])\n",
    "            \n",
    "            if cutlineDirection == \"v\":\n",
    "                _line.set_data([_value, _value], [-5, 5])\n",
    "            if cutlineDirection == \"h\":\n",
    "                _line.set_data([-5, 5], [_value, _value])\n",
    "\n",
    "\n",
    "             # x_range = None, y_range = None\n",
    "                \n",
    "        else:\n",
    "\n",
    "            for item in cutlineInformation:\n",
    "                _value, _direction, _color = item\n",
    "                X, Y, U, cutlineDirection, _targetAxis, _plotAxis = get_potential_along_a_1D_cutline(cfqr, t = time_array[i], cutlineDirection = _direction)\n",
    "            # U = U - np.min(U)\n",
    "\n",
    "                plt_line_data_at_t = plotCutlines(X, Y, U, cutlineDirection, cutlineValue = _value,\\\n",
    "                                        contour_plt=ax_flatten[0], cutline_plt=ax_flatten[1], contours = 20,\n",
    "                                        showGraph=True, cutlineColor = _color, x_range = [-4, 4], cutlineYLimit = cutlineYLimit, offset_potential = offset_potential)\n",
    "\n",
    "        \n",
    "        \n",
    "        ax_flatten[1].set_title(f\"t = {time_array[i]}\")\n",
    "        ax_flatten[1].set_xlabel(r\"$\\varphi_2$\")\n",
    "        ax_flatten[1].set_ylabel(r\"potential ($k_BT$)\")\n",
    "        for i, item in enumerate(state_lookup):\n",
    "            scat[i].set_offsets(np.c_[phi_1_i[state_lookup[item]], phi_2_i[state_lookup[item]]])\n",
    "            # ax_flatten[0].scatter(x_i[state_lookup[item]], y_i[state_lookup[item]])\n",
    "            \n",
    "\n",
    "    ani = FuncAnimation(fig, animate, interval=100, frames=len(time_array), blit=False)\n",
    "\n",
    "    return ani, fig, ax\n"
   ]
  },
  {
   "cell_type": "code",
   "execution_count": null,
   "id": "52",
   "metadata": {},
   "outputs": [],
   "source": []
  },
  {
   "cell_type": "code",
   "execution_count": null,
   "id": "53",
   "metadata": {},
   "outputs": [],
   "source": []
  },
  {
   "cell_type": "code",
   "execution_count": null,
   "id": "54",
   "metadata": {},
   "outputs": [],
   "source": []
  },
  {
   "cell_type": "code",
   "execution_count": null,
   "id": "55",
   "metadata": {},
   "outputs": [],
   "source": [
    "state_potential = simResult['cfqr'].system.get_potential(all_states[:, _index_of_t, ...], _t)\n",
    "\n",
    "\n",
    "\n",
    "\n",
    "\n",
    "pColor = {\"00\": \"#061DF7\", \"01\": \"#FCEF51\", \"10\": \"#3FC7F2\", \"11\": \"#F187F4\"}\n",
    "for _label in index_label:\n",
    "    states_x_data = all_states[index_dict[_label], _index_of_t, 0,0]\n",
    "    states_y_data = all_states[index_dict[_label], _index_of_t, 1,0]\n",
    "    ax[0].scatter(states_x_data, states_y_data, color = pColor[_label])\n",
    "    ax[1].scatter(states_y_data, state_potential[index_dict[_label]], color = pColor[_label])"
   ]
  },
  {
   "cell_type": "code",
   "execution_count": null,
   "id": "56",
   "metadata": {},
   "outputs": [],
   "source": []
  },
  {
   "cell_type": "code",
   "execution_count": null,
   "id": "57",
   "metadata": {},
   "outputs": [],
   "source": []
  },
  {
   "cell_type": "code",
   "execution_count": null,
   "id": "58",
   "metadata": {},
   "outputs": [],
   "source": []
  },
  {
   "cell_type": "code",
   "execution_count": null,
   "id": "59",
   "metadata": {},
   "outputs": [],
   "source": [
    "np.min(np.where(protocol_all_time_array[params['as_step']]==300)) "
   ]
  },
  {
   "cell_type": "code",
   "execution_count": null,
   "id": "60",
   "metadata": {},
   "outputs": [],
   "source": [
    "simResult['cfqr'].protocol_all_time_array"
   ]
  },
  {
   "cell_type": "code",
   "execution_count": null,
   "id": "61",
   "metadata": {},
   "outputs": [],
   "source": [
    "def plotGraphWithContourGraph(self, t = 0, cutlineDirection = \"v\", cutlineValue = 0, contour_range = [0, 450], showGraph = None, saveGraph = None, graph_title = \" \", x_range = None, y_range = None, mark_critical_points = None):\n",
    "    fig, ax = plt.subplots(1, 2, figsize = [8, 3])\n",
    "\n",
    "\n",
    "    X, Y, U, cutlineDirection, _targetAxis, _plotAxis = coupled_fq_protocol_library.get_potential_along_a_1D_cutline(self, t = t, cutlineDirection =cutlineDirection, cutlineValue = cutlineValue, resolution = 100, contours = 5, manual_domain = [[-5, -5], [5, 5]])\n",
    "\n",
    "    plotLineData = coupled_fq_protocol_library.plotCutlines(X, Y, U, cutlineDirection = cutlineDirection, cutlineValue = cutlineValue, x_range = x_range, y_range = y_range, contour_range = contour_range, cutlineColor = 'red' , contour_plt = ax[0], cutline_plt = ax[1], contours = 5, time = None, graph_title = graph_title, showGraph = showGraph, saveGraph = saveGraph)\n",
    "\n",
    "\n",
    "    if mark_critical_points:\n",
    "        pass\n",
    "\n",
    "\n",
    "    return plotLineData"
   ]
  },
  {
   "cell_type": "code",
   "execution_count": null,
   "id": "62",
   "metadata": {},
   "outputs": [],
   "source": []
  },
  {
   "cell_type": "code",
   "execution_count": null,
   "id": "63",
   "metadata": {},
   "outputs": [],
   "source": []
  },
  {
   "cell_type": "code",
   "execution_count": null,
   "id": "64",
   "metadata": {},
   "outputs": [],
   "source": []
  },
  {
   "cell_type": "markdown",
   "id": "65",
   "metadata": {
    "jp-MarkdownHeadingCollapsed": true,
    "tags": []
   },
   "source": [
    "# animation"
   ]
  },
  {
   "cell_type": "code",
   "execution_count": null,
   "id": "66",
   "metadata": {},
   "outputs": [],
   "source": [
    "showAnimation = False\n",
    "showAnimation = True\n",
    "\n",
    "pColor = {\"00\": \"#061DF7\", \"01\": \"silver\", \"10\": \"#04B3BC\", \"11\": \"#FCEF51\"}\n",
    "if showAnimation:\n",
    "    simResult['cfqr'].showAnimation(protocol_list, computation_protocol_parameter_dict, pColor = pColor, frame_skip = 10)"
   ]
  },
  {
   "cell_type": "code",
   "execution_count": null,
   "id": "67",
   "metadata": {},
   "outputs": [],
   "source": []
  },
  {
   "cell_type": "code",
   "execution_count": null,
   "id": "68",
   "metadata": {},
   "outputs": [],
   "source": [
    "import pickle \n",
    "save_all_states = True\n",
    "sim_id = simResult['simulation_data']['simulation_id']\n",
    "\n",
    "pickle_file_name = f'coupled_flux_qubit_protocol/coupled_flux_qubit_data_gallery/{sim_id}_all_states_step_and_trial_data.pkl'\n",
    "npy_file_name = f'coupled_flux_qubit_protocol/coupled_flux_qubit_data_gallery/{sim_id}_all_states.npy'\n",
    "if save_all_states:\n",
    "    \n",
    "    all_state_step_and_trial_data = {x: simResult['cfqr'].sim.output.all_state[x] for x in ['step_indices', 'trial_indices']}\n",
    "    with open(pickle_file_name, 'wb') as f:\n",
    "        pickle.dump(all_state_step_and_trial_data, f)\n",
    "    np.save(npy_file_name, simResult['cfqr'].sim.output.all_state['states'])"
   ]
  },
  {
   "cell_type": "code",
   "execution_count": null,
   "id": "69",
   "metadata": {},
   "outputs": [],
   "source": [
    "with open(f'coupled_flux_qubit_protocol/coupled_flux_qubit_data_gallery/{sim_id}_all_states_step_and_trial_data.pkl', 'rb') as f:\n",
    "    loaded_all_state_step_and_trial_data = pickle.load(f)\n"
   ]
  },
  {
   "cell_type": "code",
   "execution_count": null,
   "id": "70",
   "metadata": {},
   "outputs": [],
   "source": [
    "os.system(f\"ls -alh {npy_file_name}\")"
   ]
  },
  {
   "cell_type": "code",
   "execution_count": null,
   "id": "71",
   "metadata": {},
   "outputs": [],
   "source": [
    "os.system(f\"rm {npy_file_name}\")"
   ]
  },
  {
   "cell_type": "code",
   "execution_count": null,
   "id": "72",
   "metadata": {},
   "outputs": [],
   "source": []
  },
  {
   "cell_type": "code",
   "execution_count": null,
   "id": "73",
   "metadata": {},
   "outputs": [],
   "source": [
    "loaded_all_state_step_and_trial_data"
   ]
  },
  {
   "cell_type": "code",
   "execution_count": null,
   "id": "74",
   "metadata": {},
   "outputs": [],
   "source": [
    "simResult['cfqr'].get_all_state().shape"
   ]
  },
  {
   "cell_type": "code",
   "execution_count": null,
   "id": "75",
   "metadata": {},
   "outputs": [],
   "source": []
  },
  {
   "cell_type": "code",
   "execution_count": null,
   "id": "76",
   "metadata": {},
   "outputs": [],
   "source": [
    "# simResult['cfqr'].getFidelityBarChart()"
   ]
  },
  {
   "cell_type": "code",
   "execution_count": null,
   "id": "77",
   "metadata": {},
   "outputs": [],
   "source": [
    "# simResult['cfqr'].getFidelityTimeGraph()"
   ]
  },
  {
   "cell_type": "code",
   "execution_count": null,
   "id": "78",
   "metadata": {},
   "outputs": [],
   "source": [
    "# pColor = {\"00\": \"#061DF7\", \"01\": \"#FCEF51\", \"10\": \"#3FC7F2\", \"11\": \"#F187F4\"}\n",
    "# simResult['cfqr'].showAnimation(protocol_list, computation_protocol_parameter_dict, pColor = pColor, frame_skip= 10)"
   ]
  },
  {
   "cell_type": "code",
   "execution_count": null,
   "id": "79",
   "metadata": {},
   "outputs": [],
   "source": []
  },
  {
   "cell_type": "code",
   "execution_count": null,
   "id": "80",
   "metadata": {},
   "outputs": [],
   "source": [
    "# # cutline graph\n",
    "# # , (1.96, \"v\",\"orange\")\n",
    "# pColor = {\"00\": \"#061DF7\", \"01\": \"#FCEF51\", \"10\": \"#3FC7F2\", \"11\": \"#F187F4\"}\n",
    "# importlib.reload(coupled_fq_protocol_library)\n",
    "# ani,_,_ =  coupled_fq_protocol_library.animate_sim_flux_qubit_with_cutline(simResult['cfqr'], frame_skip = 5, time_array=simResult['cfqr'].sim.target_step_index, \n",
    "#                                                                            params = params, cutlineInformation = [(-1.96, \"v\",\"red\") , (1.96, \"v\",\"orange\")],\n",
    "#                                                                           pColor=pColor, opacity = 0, cutlineYLimit = [0, 250])\n",
    "# video = ani.to_html5_video()\n",
    "# html = display.HTML(video)\n",
    "# display.display(html)"
   ]
  },
  {
   "cell_type": "code",
   "execution_count": null,
   "id": "81",
   "metadata": {},
   "outputs": [],
   "source": []
  },
  {
   "cell_type": "code",
   "execution_count": null,
   "id": "82",
   "metadata": {},
   "outputs": [],
   "source": [
    "# from edward_tools.visualization import separate_by_state\n",
    "# # fig, ax = plt.subplots(1, 2, figsize =  [8, 4])\n",
    "# frame_skip = 10\n",
    "# plot_distribution_with_cutline(simResult['cfqr'], 0, time_array=protocol_all_time_array, pcolor=pColor, cutlineInformation = [-1.964, \"v\", \"red\"])"
   ]
  },
  {
   "cell_type": "code",
   "execution_count": null,
   "id": "83",
   "metadata": {},
   "outputs": [],
   "source": [
    "# def plot_distribution_with_cutline(self, t, time_array=None, params = None, legend=False, slice_values = None, fig_ax=None, \n",
    "#                                    vmin = None, vmax = None, \n",
    "#                                    cmap = \"afmhot\", \n",
    "#                                    pcolor = {\"00\": \"blue\", \"01\": \"orange\", \"10\": \"green\", \"11\": \"red\"}, \n",
    "#                                    cutlineInformation = [-3, \"v\",\"red\"], **pot_kwargs):\n",
    "#     names = [r\"$\\varphi_1$\", r\"$\\varphi_2$\"]\n",
    "#     fig, ax = plt.subplots(1, 2, figsize=[8, 3.5])\n",
    "#     ax_flatten = ax.flatten()\n",
    "#     manual_domain=[np.array([-5, -5]), np.array([5, 5])]\n",
    "\n",
    "#     all_state = self.sim.output.all_state['states']\n",
    "#     phi_1_dc = all_state[..., 2, 0]\n",
    "#     phi_2_dc = all_state[..., 3, 0]\n",
    "#     all_state = all_state[:, :, (0, 1), :]\n",
    "\n",
    "#     N, nsteps, N_dim = np.shape(all_state)[0], np.shape(all_state)[1], np.shape(all_state)[2]\n",
    "#     which_axes = [np.s_[..., i, 0] for i in range(N_dim)]\n",
    "#     x_array = [all_state[item] for item in which_axes]\n",
    "#     state_lookup = separate_by_state(all_state)\n",
    "#     opacity = min(1, 300/N)\n",
    "\n",
    "#     time_array = time_array[::frame_skip]\n",
    "#     x = x_array[0][:,::frame_skip]\n",
    "#     y = x_array[1][:,::frame_skip]\n",
    "#     x_lim = (np.min(x), np.max(x))\n",
    "#     y_lim = (np.min(y), np.max(y))\n",
    "#     scat_kwargs = {'alpha':opacity, 'zorder':10}\n",
    "#     scat = [ax_flatten[0].scatter(x[state_lookup[key], 0], y[state_lookup[key], 0], c = pColor[key], **scat_kwargs) for key in state_lookup]\n",
    "#     # scat_1 = [ax_flatten[1].scatter(x[state_lookup[key], 0], y[state_lookup[key], 0], **scat_kwargs) for key in state_lookup]\n",
    "\n",
    "#     modified_manual_domain = [(manual_domain[0][1], manual_domain[0][0]), \\\n",
    "#                               (manual_domain[1][1], manual_domain[1][0])]\n",
    "\n",
    "# #     resolution = 100\n",
    "# #     U, X_mesh = self.system.lattice(t, resolution, axes=(0, 1),\\\n",
    "# #                                 manual_domain=modified_manual_domain, slice_values = slice_values)\n",
    "# #     X, Y = X_mesh[0], X_mesh[1]\n",
    "\n",
    "# #     # 5. find vmin, vmax, x_min, x_max, y_min and y_max\n",
    "# #     vmin, vmax = np.min(U), np.max(U)\n",
    "# #     x_min, x_max = np.min(X), np.max(X)\n",
    "# #     y_min, y_max = np.min(Y), np.max(Y)\n",
    "# #     cont = ax_flatten[0].contourf(X, Y, U, 40, vmin = 0, vmax = 400, cmap = \"afmhot\")\n",
    "\n",
    "\n",
    "#     X, Y, U, cutlineDirection, _targetAxis, _plotAxis = coupled_fq_protocol_library.get_potential_along_a_1D_cutline(self, t = t, cutlineDirection =cutlineInformation[1], cutlineValue = cutlineInformation[0], resolution = 100, contours = 5, manual_domain = [[-5, -5], [5, 5]])\n",
    "            \n",
    "#     coupled_fq_protocol_library.plotCutlines(X, Y, U, cutlineDirection = cutlineDirection, cutlineValue = cutlineInformation[0], cutlineColor = cutlineInformation[2] , contour_plt = ax[0], cutline_plt = ax[1], contours = 5, time = None, graph_title = None, showGraph = True)\n",
    "\n",
    "    \n",
    "    "
   ]
  },
  {
   "cell_type": "code",
   "execution_count": null,
   "id": "84",
   "metadata": {},
   "outputs": [],
   "source": []
  },
  {
   "cell_type": "code",
   "execution_count": null,
   "id": "85",
   "metadata": {},
   "outputs": [],
   "source": []
  },
  {
   "cell_type": "markdown",
   "id": "86",
   "metadata": {},
   "source": [
    "### generate state at different time"
   ]
  },
  {
   "cell_type": "code",
   "execution_count": null,
   "id": "87",
   "metadata": {},
   "outputs": [],
   "source": [
    "from edward_tools.visualization import separate_by_state\n",
    "minimum_point_data = [cfqr.system.get_minimum_point(_t, coupled_flux_qubit_non_linear_approx_pot, guess=[(-2, -2)]) for _t in protocol_time_array]\n",
    "all_state = simResult['cfqr'].sim.output.all_state['states'][10:50, ...]\n",
    "all_state = all_state[:, :, (0, 1), :]\n",
    "N, nsteps, N_dim = np.shape(all_state)[0], np.shape(all_state)[1], np.shape(all_state)[2]\n",
    "which_axes = [np.s_[..., i, 0] for i in range(N_dim)]\n",
    "x_array = [all_state[item] for item in which_axes]\n",
    "state_lookup = separate_by_state(all_state)\n",
    "opacity = min(1, 300/N)\n",
    "x, y = x_array[0], x_array[1]\n",
    "x_lim = (np.min(x), np.max(x))\n",
    "y_lim = (np.min(y), np.max(y))\n",
    "scat_kwargs = {'alpha':opacity, 'zorder':10}"
   ]
  },
  {
   "cell_type": "code",
   "execution_count": null,
   "id": "88",
   "metadata": {},
   "outputs": [],
   "source": [
    "\n",
    "min_U_along_cutline = []\n",
    "fig, ax = plt.subplots(5, 4, figsize=[14, 17])\n",
    "ax_flatten = ax.flatten()\n",
    "cutlineRange = [-3.5, 3.5]\n",
    "pColor = {\"00\": \"#061DF7\", \"01\": \"#FCEF51\", \"10\": \"#3FC7F2\", \"11\": \"#F187F4\"}\n",
    "cutline_xrange = [-3.5, 3.5]\n",
    "cutline_yrange = [0, 200]\n",
    "\n",
    "X, Y, U, cutlineDirection, _targetAxis, _plotAxis = get_potential_along_a_1D_cutline(cfqr, t = protocol_time_array[0], cutlineDirection = \"v\")\n",
    "plt_line_data_at_t = plotCutlines(X, Y, U, cutlineDirection, cutlineValue = minimum_point_data[0][0][0],\\\n",
    "                        contour_plt=ax_flatten[2*0], cutline_plt=ax_flatten[2*0 + 1], contours = 20,\n",
    "                        showGraph=True, time=protocol_time_array[0], offset_potential = True, x_range = cutline_xrange, y_range = cutline_yrange, graph_title = \" \")\n",
    "min_U = np.min(U)\n",
    "scat = [ax_flatten[2 * 0].scatter(x[state_lookup[key], protocol_time_index_array[0]], y[state_lookup[key], protocol_time_index_array[0]], c = pColor[key],**scat_kwargs) for key in state_lookup]\n",
    "ax_flatten[2 * 0].set_xticks([-4, 0, 4])\n",
    "ax_flatten[2 * 0].set_yticks([-4, 0, 4])\n",
    "ax_flatten[2 * 0 + 1].set_yticks([0, 100, 200])\n",
    "ax_flatten[2 * 0].xaxis.set_tick_params(labelsize=20)\n",
    "ax_flatten[2 * 0].yaxis.set_tick_params(labelsize=20)\n",
    "ax_flatten[2 * 0 + 1].set_xticks([-4, -2, 0, 2, 4])\n",
    "ax_flatten[2 * 0 + 1].set_yticks([0, 100, 200])\n",
    "ax_flatten[2 * 0 + 1].xaxis.set_tick_params(labelsize=20)\n",
    "ax_flatten[2 * 0 + 1].yaxis.set_tick_params(labelsize=20)\n",
    "\n",
    "for _i in range(1, 5):\n",
    "    X, Y, U, cutlineDirection, _targetAxis, _plotAxis = get_potential_along_a_1D_cutline(cfqr, t = protocol_time_array[_i], cutlineDirection = \"v\")\n",
    "    \n",
    "    plt_line_data_at_t = plotCutlines(X, Y, U, cutlineDirection, cutlineValue = minimum_point_data[_i][0][0],\\\n",
    "                            contour_plt=ax_flatten[2*_i], cutline_plt=ax_flatten[2*_i + 1], contours = 20,\n",
    "                            showGraph=True, time=protocol_time_array[_i], offset_potential = True, x_range = cutline_xrange, y_range = cutline_yrange, graph_title = \" \")\n",
    "    \n",
    "    _index = list(simResult['cfqr'].sim.target_step_index).index(protocol_time_index_array[_i]+1)\n",
    "    scat = [ax_flatten[2 * _i].scatter(x[state_lookup[key], _index], y[state_lookup[key], _index], c = pColor[key], **scat_kwargs) for key in state_lookup]\n",
    "    ax_flatten[2 * _i].set_xticks([-4, 0, 4])\n",
    "    ax_flatten[2 * _i].set_yticks([-4, 0, 4])\n",
    "    ax_flatten[2 * _i + 1].set_xticks([-4, -2, 0, 2, 4])\n",
    "    ax_flatten[2 * _i + 1].set_yticks([0, 100, 200])\n",
    "    ax_flatten[2 * _i].tick_params(labelbottom=False, labelleft = False)    \n",
    "    ax_flatten[2 * _i+1].tick_params(labelbottom=False, labelleft = False)    \n",
    "    # ax_flatten[2 * _i].xaxis.set_tick_params(labelsize=16)\n",
    "    # ax_flatten[2 * _i].yaxis.set_tick_params(labelsize=16)\n",
    "\n",
    "    # ax_flatten[2 * _i + 1].set_xticks([])\n",
    "    # ax_flatten[2 * _i + 1].xaxis.set_tick_params(labelsize=16)\n",
    "    # ax_flatten[2 * _i + 1].yaxis.set_tick_params(labelsize=16)\n",
    "    \n",
    "    \n",
    "for _i in range(5, 9):\n",
    "    X, Y, U, cutlineDirection, _targetAxis, _plotAxis = get_potential_along_a_1D_cutline(cfqr, t = protocol_time_array[_i], cutlineDirection = \"h\")\n",
    "    plt_line_data_at_t = plotCutlines(X, Y, U, cutlineDirection, cutlineValue = minimum_point_data[_i][0][1],\\\n",
    "                            contour_plt=ax_flatten[2*_i], cutline_plt=ax_flatten[2*_i + 1], contours = 20,\n",
    "                            showGraph=True, time=protocol_time_array[_i], offset_potential = True, x_range = cutline_xrange, y_range = cutline_yrange, graph_title = \" \")\n",
    "    min_U = np.min(U)\n",
    "    _index = list(simResult['cfqr'].sim.target_step_index).index(protocol_time_index_array[_i]+1)\n",
    "    scat = [ax_flatten[2 * _i].scatter(x[state_lookup[key], _index], y[state_lookup[key], _index], c = pColor[key], **scat_kwargs) for key in state_lookup]\n",
    "    ax_flatten[2 * _i].set_xticks([-4, 0, 4])\n",
    "    ax_flatten[2 * _i].set_yticks([-4, 0, 4])\n",
    "    ax_flatten[2 * _i + 1].set_xticks([-4, -2, 0, 2, 4])\n",
    "    ax_flatten[2 * _i + 1].set_yticks([0, 100, 200])\n",
    "    ax_flatten[2 * _i].tick_params(labelbottom=False, labelleft = False)    \n",
    "    ax_flatten[2 * _i+1].tick_params(labelbottom=False, labelleft = False)    \n",
    "\n",
    "    # ax_flatten[2 * _i + 2].plot(plt_line_data_at_t['cutline_plot']['plotAxis'], plt_line_data_at_t['cutline_plot']['targetU'])"
   ]
  },
  {
   "cell_type": "code",
   "execution_count": null,
   "id": "89",
   "metadata": {},
   "outputs": [],
   "source": []
  },
  {
   "cell_type": "code",
   "execution_count": null,
   "id": "90",
   "metadata": {},
   "outputs": [],
   "source": []
  },
  {
   "cell_type": "code",
   "execution_count": null,
   "id": "91",
   "metadata": {},
   "outputs": [],
   "source": [
    "\n",
    "min_U_along_cutline = []\n",
    "fig, ax = plt.subplots(1, 2, figsize=[5.7, 3])\n",
    "ax_flatten = ax.flatten()\n",
    "cutlineRange = [-3.5, 3.5]\n",
    "pColor = {\"00\": \"#061DF7\", \"01\": \"#FCEF51\", \"10\": \"#3FC7F2\", \"11\": \"#F187F4\"}\n",
    "cutline_xrange = [-3.5, 3.5]\n",
    "cutline_yrange = [0, 200]\n",
    "\n",
    "X, Y, U, cutlineDirection, _targetAxis, _plotAxis = get_potential_along_a_1D_cutline(cfqr, t = protocol_time_array[0], cutlineDirection = \"v\")\n",
    "plt_line_data_at_t = plotCutlines(X, Y, U, cutlineDirection, cutlineValue = minimum_point_data[0][0][0],\\\n",
    "                        contour_plt=ax_flatten[2*0], cutline_plt=ax_flatten[2*0 + 1], contours = 20,\n",
    "                        showGraph=True, time=protocol_time_array[0], offset_potential = True, x_range = cutline_xrange, y_range = cutline_yrange, graph_title = \" \")\n",
    "min_U = np.min(U)\n",
    "scat = [ax_flatten[0].scatter(x[state_lookup[key], protocol_time_index_array[0]], y[state_lookup[key], protocol_time_index_array[0]], c = pColor[key],**scat_kwargs) for key in state_lookup]\n",
    "ax_flatten[0].set_xticks([-4, 0, 4])\n",
    "ax_flatten[0].set_yticks([-4, 0, 4])\n",
    "ax_flatten[1].set_yticks([0, 100, 200])\n",
    "ax_flatten[0].xaxis.set_tick_params(labelsize=18)\n",
    "ax_flatten[0].yaxis.set_tick_params(labelsize=18)\n",
    "ax_flatten[1].set_xticks([-4, -2, 0, 2, 4])\n",
    "ax_flatten[1].set_yticks([0, 100, 200])\n",
    "ax_flatten[1].xaxis.set_tick_params(labelsize=18)\n",
    "ax_flatten[1].yaxis.set_tick_params(labelsize=18)\n",
    "\n",
    "plt.show()\n",
    "\n",
    "for _i in range(1, 5):\n",
    "    fig, ax = plt.subplots(1, 2, figsize=[5.7, 3])\n",
    "    ax_flatten = ax.flatten()\n",
    "    X, Y, U, cutlineDirection, _targetAxis, _plotAxis = get_potential_along_a_1D_cutline(cfqr, t = protocol_time_array[_i], cutlineDirection = \"v\")\n",
    "    \n",
    "    plt_line_data_at_t = plotCutlines(X, Y, U, cutlineDirection, cutlineValue = minimum_point_data[_i][0][0],\\\n",
    "                            contour_plt=ax_flatten[0], cutline_plt=ax_flatten[1], contours = 20,\n",
    "                            showGraph=True, time=protocol_time_array[_i], offset_potential = True, x_range = cutline_xrange, y_range = cutline_yrange, graph_title = \" \")\n",
    "    \n",
    "    _index = list(simResult['cfqr'].sim.target_step_index).index(protocol_time_index_array[_i]+1)\n",
    "    scat = [ax_flatten[0].scatter(x[state_lookup[key], _index], y[state_lookup[key], _index], c = pColor[key], **scat_kwargs) for key in state_lookup]\n",
    "    ax_flatten[0].set_xticks([-4, 0, 4])\n",
    "    ax_flatten[1].set_yticks([-4, 0, 4])\n",
    "    ax_flatten[1].set_xticks([-4, -2, 0, 2, 4])\n",
    "    ax_flatten[1].set_yticks([0, 100, 200])\n",
    "    ax_flatten[0].tick_params(labelbottom=False, labelleft = False)    \n",
    "    ax_flatten[1].tick_params(labelbottom=False, labelleft = False)    \n",
    "    plt.show()\n",
    "    # ax_flatten[2 * _i].xaxis.set_tick_params(labelsize=16)\n",
    "    # ax_flatten[2 * _i].yaxis.set_tick_params(labelsize=16)\n",
    "\n",
    "    # ax_flatten[2 * _i + 1].set_xticks([])\n",
    "    # ax_flatten[2 * _i + 1].xaxis.set_tick_params(labelsize=16)\n",
    "#     # ax_flatten[2 * _i + 1].yaxis.set_tick_params(labelsize=16)\n",
    "    \n",
    "    \n",
    "# for _i in range(5, 9):\n",
    "#     X, Y, U, cutlineDirection, _targetAxis, _plotAxis = get_potential_along_a_1D_cutline(cfqr, t = protocol_time_array[_i], cutlineDirection = \"h\")\n",
    "#     plt_line_data_at_t = plotCutlines(X, Y, U, cutlineDirection, cutlineValue = minimum_point_data[_i][0][1],\\\n",
    "#                             contour_plt=ax_flatten[2*_i], cutline_plt=ax_flatten[2*_i + 1], contours = 20,\n",
    "#                             showGraph=True, time=protocol_time_array[_i], offset_potential = True, x_range = cutline_xrange, y_range = cutline_yrange, graph_title = \" \")\n",
    "#     min_U = np.min(U)\n",
    "#     _index = list(simResult['cfqr'].sim.target_step_index).index(protocol_time_index_array[_i]+1)\n",
    "#     scat = [ax_flatten[2 * _i].scatter(x[state_lookup[key], _index], y[state_lookup[key], _index], c = pColor[key], **scat_kwargs) for key in state_lookup]\n",
    "#     ax_flatten[2 * _i].set_xticks([-4, 0, 4])\n",
    "#     ax_flatten[2 * _i].set_yticks([-4, 0, 4])\n",
    "#     ax_flatten[2 * _i + 1].set_xticks([-4, -2, 0, 2, 4])\n",
    "#     ax_flatten[2 * _i + 1].set_yticks([0, 100, 200])\n",
    "#     ax_flatten[2 * _i].tick_params(labelbottom=False, labelleft = False)    \n",
    "#     ax_flatten[2 * _i+1].tick_params(labelbottom=False, labelleft = False)    \n",
    "\n",
    "#     # ax_flatten[2 * _i + 2].plot(plt_line_data_at_t['cutline_plot']['plotAxis'], plt_line_data_at_t['cutline_plot']['targetU'])"
   ]
  },
  {
   "cell_type": "code",
   "execution_count": null,
   "id": "92",
   "metadata": {},
   "outputs": [],
   "source": [
    "v_1"
   ]
  },
  {
   "cell_type": "code",
   "execution_count": null,
   "id": "93",
   "metadata": {},
   "outputs": [],
   "source": [
    "np.mean(all_state[:, 0, 1, 1])"
   ]
  },
  {
   "cell_type": "code",
   "execution_count": null,
   "id": "94",
   "metadata": {},
   "outputs": [],
   "source": [
    "np.mean(simResult['cfqr'].sim.output.all_state[\"states\"][:, 0, 0, 1])"
   ]
  },
  {
   "cell_type": "markdown",
   "id": "95",
   "metadata": {},
   "source": [
    "# Fidelity"
   ]
  },
  {
   "cell_type": "code",
   "execution_count": null,
   "id": "96",
   "metadata": {},
   "outputs": [],
   "source": []
  },
  {
   "cell_type": "code",
   "execution_count": null,
   "id": "97",
   "metadata": {},
   "outputs": [],
   "source": []
  },
  {
   "cell_type": "markdown",
   "id": "98",
   "metadata": {},
   "source": [
    "# work analysis of subprocesses"
   ]
  },
  {
   "cell_type": "code",
   "execution_count": null,
   "id": "99",
   "metadata": {},
   "outputs": [],
   "source": [
    "# step_array = np.arange(simResult[\"work_statistic\"][:,0].shape[0])\n",
    "step_array = simResult['cfqr'].sim.target_step_index\n",
    "skip_step = int(len(step_array) * 0.05)\n",
    "work_mean = simResult[\"work_statistic\"][:,0]\n",
    "work_std = simResult[\"work_statistic\"][:,1]\n",
    "\n",
    "plt.errorbar(step_array[::skip_step], work_mean[::skip_step], yerr = work_std[::skip_step])\n",
    "# plt.yscale('log')\n",
    "\n",
    "for i, t in enumerate(step_time_array):\n",
    "    plt.axvline(x = t, color = 'b', linestyle ='--', label = 'axvline - full height')\n",
    "    # plt.annotate(f\"{i+1}\", xy=(t, 4.5),  color='red', ha='center', size=16)\n",
    "\n",
    "print(f'jarzyn = {jarzyn_term}')\n",
    "print([x[\"duration\"] for x in protocol_list])"
   ]
  },
  {
   "cell_type": "code",
   "execution_count": null,
   "id": "100",
   "metadata": {},
   "outputs": [],
   "source": []
  },
  {
   "cell_type": "code",
   "execution_count": null,
   "id": "101",
   "metadata": {},
   "outputs": [],
   "source": [
    "\n",
    "target_time_index = np.array(protocol_time_array)/params['dt']\n",
    "target_time_index = target_time_index.astype(\"int\") - 1\n",
    "\n",
    "# work_done_array = [work_mean[i] for i in target_time_index[1:]]\n",
    "work_done_array = simResult[\"cfqr\"].sim.keyStep_work_statistic[:,0]\n",
    "work_done_of_each_step = np.array(work_done_array)[1:] - np.array(work_done_array)[:-1]\n",
    "\n",
    "Measure_Erasue_steps = [0, 1, 2, 3]\n",
    "Control_Steps = [4, 5, 6, 7]\n",
    "\n",
    "W_M = work_done_array[4] - work_done_array[0]\n",
    "W_C = work_done_array[-1] - work_done_array[4]\n",
    "\n",
    "print(\"Third way to split the steps: (E, 0-1), (M. 2), (C: 3-6)\")\n",
    "print(f\"work_done = {work_done_of_each_step}\" )\n",
    "print(f\"measurement + reset = {W_M}, deviation: {W_M - 0.693}\")\n",
    "print(f\"control = {W_C}, deviation: {0.693 + W_C}\")\n",
    "print(sum(work_done_of_each_step))"
   ]
  },
  {
   "cell_type": "code",
   "execution_count": null,
   "id": "102",
   "metadata": {},
   "outputs": [],
   "source": []
  },
  {
   "cell_type": "markdown",
   "id": "103",
   "metadata": {},
   "source": [
    "# animations"
   ]
  },
  {
   "cell_type": "code",
   "execution_count": null,
   "id": "104",
   "metadata": {},
   "outputs": [],
   "source": [
    "simResult['cfqr'].showAnimation(protocol_list, computation_protocol_parameter_dict)"
   ]
  },
  {
   "cell_type": "code",
   "execution_count": null,
   "id": "105",
   "metadata": {},
   "outputs": [],
   "source": [
    "from edward_tools.visualization import separate_by_state"
   ]
  },
  {
   "cell_type": "code",
   "execution_count": null,
   "id": "106",
   "metadata": {},
   "outputs": [],
   "source": [
    "self = simResult['cfqr']\n",
    "t = 100\n",
    "resolution = 100\n",
    "\n",
    "fig, ax = plt.subplots(figsize=(6,6))\n",
    "protocol_key = ['U0_1', 'U0_2', 'gamma_1', 'gamma_2', 'beta_1', 'beta_2', 'd_beta_1', 'd_beta_2', 'phi_1_x', 'phi_2_x', 'phi_1_dcx', 'phi_2_dcx', 'M_12', 'x_c']\n",
    "contour_plt = plt\n",
    "\n",
    "\n",
    "phi_1_dcx_index = protocol_key.index('phi_1_dcx')\n",
    "phi_2_dcx_index = protocol_key.index('phi_2_dcx')\n",
    "phi_1_dc_i = self.protocol.get_params(t)[phi_1_dcx_index]\n",
    "phi_2_dc_i = self.protocol.get_params(t)[phi_2_dcx_index]\n",
    "slice_values = [0, 0, phi_1_dc_i, phi_2_dc_i]\n",
    "\n",
    "modified_manual_domain = [(manual_domain[0][1], manual_domain[0][0]), \\\n",
    "                              (manual_domain[1][1], manual_domain[1][0])]\n",
    "U, X_mesh = self.system.lattice(t, resolution, axes=(0, 1),\\\n",
    "                                    manual_domain=modified_manual_domain, slice_values = slice_values)\n",
    "\n",
    "# 5. find vmin, vmax, x_min, x_max, y_min and y_max\n",
    "vmin, vmax = np.min(U), np.max(U)\n",
    "x_min, x_max = np.min(X), np.max(X)\n",
    "y_min, y_max = np.min(Y), np.max(Y)\n",
    "\n",
    "all_state = self.sim.output.all_state['states']\n",
    "phi_1_dc = all_state[..., 2, 0]\n",
    "phi_2_dc = all_state[..., 3, 0]\n",
    "all_state = all_state[:, :, (0, 1), :]\n",
    "\n",
    "N, nsteps, N_dim = np.shape(all_state)[0], np.shape(all_state)[1], np.shape(all_state)[2]\n",
    "X, Y = X_mesh[0], X_mesh[1]\n",
    "which_axes = [np.s_[..., i, 0] for i in range(N_dim)]\n",
    "x_array = [all_state[item] for item in which_axes]\n",
    "x = x_array[0]\n",
    "y = x_array[1]\n",
    "state_lookup = separate_by_state(all_state, has_velocity = True)\n",
    "pColor = {\"00\": \"#3FC7F2\", \"01\": \"#FCEF51\", \"10\": \"#BEDC8C\", \"11\": \"#F7B6D2\"}\n",
    "pColor = {\"00\": \"#061DF7\", \"01\": \"#FCEF51\", \"10\": \"#3FC7F2\", \"11\": \"#F7B6D2\"}\n",
    "\n",
    "cont = ax.contourf(X, Y, U, 40, vmin = 0, vmax = 400, cmap = \"afmhot\")\n",
    "scat = [ax.scatter(x[state_lookup[key], 120], y[state_lookup[key], 120], c = pColor[key]) for key in state_lookup]"
   ]
  },
  {
   "cell_type": "code",
   "execution_count": null,
   "id": "107",
   "metadata": {},
   "outputs": [],
   "source": []
  },
  {
   "cell_type": "code",
   "execution_count": null,
   "id": "108",
   "metadata": {},
   "outputs": [],
   "source": []
  },
  {
   "cell_type": "code",
   "execution_count": null,
   "id": "109",
   "metadata": {},
   "outputs": [],
   "source": []
  },
  {
   "cell_type": "markdown",
   "id": "110",
   "metadata": {},
   "source": [
    "# phi_1dc, phi_2dc and gamma"
   ]
  },
  {
   "cell_type": "code",
   "execution_count": null,
   "id": "111",
   "metadata": {},
   "outputs": [],
   "source": [
    "general_analysis_tool = importlib.reload(general_analysis_tool)\n",
    "general_analysis_tool.show_phi_dc_with_time(simResult['cfqr'], params)"
   ]
  },
  {
   "cell_type": "code",
   "execution_count": null,
   "id": "112",
   "metadata": {},
   "outputs": [],
   "source": []
  },
  {
   "cell_type": "markdown",
   "id": "113",
   "metadata": {},
   "source": [
    "# save result"
   ]
  },
  {
   "cell_type": "code",
   "execution_count": null,
   "id": "114",
   "metadata": {},
   "outputs": [],
   "source": [
    "print(f\"current comment: {params['comment']}\")\n",
    "response = input(\"Are you happy with the current comment? If not, give me a new comment.\")\n",
    "if response == \"y\":\n",
    "    pass\n",
    "else:\n",
    "    params['comment'] = response"
   ]
  },
  {
   "cell_type": "code",
   "execution_count": null,
   "id": "115",
   "metadata": {},
   "outputs": [],
   "source": [
    "params['comment'] = \"test for save all_states\""
   ]
  },
  {
   "cell_type": "code",
   "execution_count": null,
   "id": "116",
   "metadata": {},
   "outputs": [],
   "source": [
    "cfq_batch_sweep.saveSimulationResult(simResult, U0_1, timeOrStep = 'step', save = True, save_final_state = False, saveFolderPath = \"coupled_flux_qubit_protocol/coupled_flux_qubit_data_gallery\", save_all_state = False)"
   ]
  },
  {
   "cell_type": "code",
   "execution_count": null,
   "id": "117",
   "metadata": {},
   "outputs": [],
   "source": []
  },
  {
   "cell_type": "markdown",
   "id": "118",
   "metadata": {},
   "source": [
    "# work_analysis"
   ]
  },
  {
   "cell_type": "code",
   "execution_count": null,
   "id": "119",
   "metadata": {},
   "outputs": [],
   "source": [
    "selected_work_distribution = simResult[\"work_distribution\"] < -0.2\n",
    "# selected_work_distribution = simResult[\"work_distribution\"] > 1.5\n",
    "# selected_work_distribution = np.logical_and(simResult[\"work_distribution\"] > -0.2, simResult[\"work_distribution\"] < 1.5)"
   ]
  },
  {
   "cell_type": "code",
   "execution_count": null,
   "id": "120",
   "metadata": {},
   "outputs": [],
   "source": [
    "keyStep_work_distribution = empty([simulation.ntrials, protocol_time_index_array])"
   ]
  },
  {
   "cell_type": "code",
   "execution_count": null,
   "id": "121",
   "metadata": {},
   "outputs": [],
   "source": [
    "keyStep_work_distribution = np.empty([10, 2])"
   ]
  },
  {
   "cell_type": "code",
   "execution_count": null,
   "id": "122",
   "metadata": {},
   "outputs": [],
   "source": [
    "keyStep_work_distribution"
   ]
  },
  {
   "cell_type": "code",
   "execution_count": null,
   "id": "123",
   "metadata": {},
   "outputs": [],
   "source": [
    "len(protocol_time_index_array - )"
   ]
  },
  {
   "cell_type": "code",
   "execution_count": null,
   "id": "124",
   "metadata": {},
   "outputs": [],
   "source": [
    "# animations\n",
    "vmin, vmax = 0, 100\n",
    "frame_skip = 1000\n",
    "# phi_1_dc, phi_2_dc = phi_1_dcx, phi_2_dcx\n",
    "particle_number = 0\n",
    "selected_particles = simResult[\"cfqr\"].sim.output.all_state[\"states\"][selected_work_distribution, ...]\n",
    "simResult[\"cfqr\"].system.protocol_list = protocol_list\n",
    "time_range = (computation_protocol_parameter_dict[\"t\"][0], computation_protocol_parameter_dict[\"t\"][-1])\n",
    "\n",
    "ani,_,_ = animate_sim_flux_qubit(selected_particles, system = simResult[\"cfqr\"].system ,\n",
    "                                   times = time_range, frame_skip=frame_skip, color_by_state=True,\n",
    "                                   vmin = vmin, vmax = vmax,\n",
    "                                   manual_domain = manual_domain)"
   ]
  },
  {
   "cell_type": "code",
   "execution_count": null,
   "id": "125",
   "metadata": {},
   "outputs": [],
   "source": [
    "# from IPython.display import HTML\n",
    "from IPython import display\n",
    "video = ani.to_html5_video()\n",
    "html = display.HTML(video)\n",
    "display.display(html)"
   ]
  },
  {
   "cell_type": "code",
   "execution_count": null,
   "id": "126",
   "metadata": {},
   "outputs": [],
   "source": []
  },
  {
   "cell_type": "code",
   "execution_count": null,
   "id": "127",
   "metadata": {},
   "outputs": [],
   "source": [
    "step_time_array = np.array(simResult[\"cfqr\"].sim.output.all_state[\"step_indices\"]) * params['dt']\n",
    "potential_array = []\n",
    "for _index, _t in enumerate(step_time_array):\n",
    "    _params_at_t = simResult['cfqr'].system.protocol.get_params(_t)\n",
    "    def cfq_potential(state):\n",
    "        # print(state)\n",
    "        phi_1, phi_2, phi_1dc, phi_2dc = state\n",
    "        return coupled_flux_qubit_non_linear_approx_pot(phi_1, phi_2, phi_1dc, phi_2dc, _params_at_t)\n",
    "    vectorized_cfq_potential = np.vectorize(cfq_potential, signature='(4)->()')\n",
    "    potential_array.append(vectorized_cfq_potential(selected_particles[:, _index, :, 0]))\n",
    "    \n",
    "    "
   ]
  },
  {
   "cell_type": "code",
   "execution_count": null,
   "id": "128",
   "metadata": {},
   "outputs": [],
   "source": [
    "plt.plot(potential_array)\n",
    "plt.show()"
   ]
  },
  {
   "cell_type": "code",
   "execution_count": null,
   "id": "129",
   "metadata": {},
   "outputs": [],
   "source": []
  },
  {
   "cell_type": "code",
   "execution_count": null,
   "id": "130",
   "metadata": {},
   "outputs": [],
   "source": []
  },
  {
   "cell_type": "code",
   "execution_count": null,
   "id": "131",
   "metadata": {},
   "outputs": [],
   "source": []
  },
  {
   "cell_type": "code",
   "execution_count": null,
   "id": "132",
   "metadata": {},
   "outputs": [],
   "source": []
  },
  {
   "cell_type": "code",
   "execution_count": null,
   "id": "133",
   "metadata": {},
   "outputs": [],
   "source": [
    "protocol_time_array, protocol_time_index_array = cfqr.createProtocolTimeArray(protocol_list, params)\n",
    "protocol_all_time_index_array = np.array(range(0, int(np.array(protocol_time_array[-1]) / params['dt']) + 1))\n",
    "protocol_all_time_array  = protocol_all_time_index_array * params['dt']"
   ]
  },
  {
   "cell_type": "code",
   "execution_count": null,
   "id": "134",
   "metadata": {},
   "outputs": [],
   "source": [
    "minimum_value_data_points = []\n",
    "importlib.reload(minimum_value_of_potential)\n",
    "for t in protocol_all_time_array[::1000]:\n",
    "    minimum_value_data = minimum_value_of_potential.find_minimum_for_all_potential_2(cfqr, t,  beta_1, beta_2, d_beta_1, d_beta_2, verbose = False)\n",
    "    minimum_value_data_points.append(minimum_value_data[1])"
   ]
  },
  {
   "cell_type": "code",
   "execution_count": null,
   "id": "135",
   "metadata": {},
   "outputs": [],
   "source": [
    "minimum_value_of_potential = importlib.reload(minimum_value_of_potential)"
   ]
  },
  {
   "cell_type": "code",
   "execution_count": null,
   "id": "136",
   "metadata": {
    "tags": []
   },
   "outputs": [],
   "source": [
    "minimum_value_data_points = np.array(minimum_value_data_points)"
   ]
  },
  {
   "cell_type": "code",
   "execution_count": null,
   "id": "137",
   "metadata": {},
   "outputs": [],
   "source": [
    "offset_value = minimum_value_data_points[1:] - minimum_value_data_points[:-1]"
   ]
  },
  {
   "cell_type": "code",
   "execution_count": null,
   "id": "138",
   "metadata": {},
   "outputs": [],
   "source": []
  },
  {
   "cell_type": "code",
   "execution_count": null,
   "id": "139",
   "metadata": {},
   "outputs": [],
   "source": [
    "all_minimum_value_at_t = []\n",
    "\n",
    "for t in protocol_time_array:\n",
    "    minimum_value_data = minimum_value_of_potential.find_all_minimum_points_for_all_potential(cfqr, t,  beta_1, beta_2, d_beta_1, d_beta_2, verbose = False, guess=[[-2, -2], [-2, 2], [2, -2], [2, 2]])\n",
    "    all_minimum_value_at_t.append([minimum_value_data, t])"
   ]
  },
  {
   "cell_type": "code",
   "execution_count": null,
   "id": "140",
   "metadata": {},
   "outputs": [],
   "source": [
    "all_minimum_value_at_t"
   ]
  },
  {
   "cell_type": "code",
   "execution_count": null,
   "id": "141",
   "metadata": {},
   "outputs": [],
   "source": []
  },
  {
   "cell_type": "code",
   "execution_count": null,
   "id": "142",
   "metadata": {},
   "outputs": [],
   "source": []
  },
  {
   "cell_type": "code",
   "execution_count": null,
   "id": "143",
   "metadata": {},
   "outputs": [],
   "source": [
    "plt.plot(minimum_value_data_points)"
   ]
  },
  {
   "cell_type": "code",
   "execution_count": null,
   "id": "144",
   "metadata": {},
   "outputs": [],
   "source": [
    "plt.plot(protocol_all_time_array[::10], minimum_value_data_points)"
   ]
  },
  {
   "cell_type": "code",
   "execution_count": null,
   "id": "145",
   "metadata": {},
   "outputs": [],
   "source": []
  },
  {
   "cell_type": "code",
   "execution_count": null,
   "id": "146",
   "metadata": {},
   "outputs": [],
   "source": [
    "protocol_time_array"
   ]
  },
  {
   "cell_type": "code",
   "execution_count": null,
   "id": "147",
   "metadata": {},
   "outputs": [],
   "source": []
  },
  {
   "cell_type": "code",
   "execution_count": null,
   "id": "148",
   "metadata": {},
   "outputs": [],
   "source": []
  },
  {
   "cell_type": "code",
   "execution_count": null,
   "id": "149",
   "metadata": {},
   "outputs": [],
   "source": []
  },
  {
   "cell_type": "markdown",
   "id": "150",
   "metadata": {},
   "source": [
    "# one particle work done"
   ]
  },
  {
   "cell_type": "code",
   "execution_count": null,
   "id": "151",
   "metadata": {},
   "outputs": [],
   "source": [
    "all_states = simResult['cfqr'].sim.output.all_state['states']"
   ]
  },
  {
   "cell_type": "code",
   "execution_count": null,
   "id": "152",
   "metadata": {},
   "outputs": [],
   "source": [
    "index_of_00 = simResult['cfqr'].getIndexOfParticles()[\"00\"]\n",
    "index_of_01 = simResult['cfqr'].getIndexOfParticles()[\"01\"]\n",
    "index_of_10 = simResult['cfqr'].getIndexOfParticles()[\"10\"]\n",
    "index_of_11 = simResult['cfqr'].getIndexOfParticles()[\"11\"]\n",
    "all_states_00_i1 = all_states[index_of_00][5, ...]"
   ]
  },
  {
   "cell_type": "code",
   "execution_count": null,
   "id": "153",
   "metadata": {
    "tags": []
   },
   "outputs": [],
   "source": [
    "_, _, protocol_time_array, protocol_time_index_array = simResult['cfqr'].createProtocolTimeArray(protocol_list, params)\n",
    "protocol_all_time_index_array = np.array(range(0, int(np.array(protocol_time_array[-1]) / params['dt']) + 1))\n",
    "protocol_all_time_array  = protocol_all_time_index_array * params['dt']\n",
    "protocol_all_time_array"
   ]
  },
  {
   "cell_type": "code",
   "execution_count": null,
   "id": "154",
   "metadata": {},
   "outputs": [],
   "source": [
    "protocal_key_time_array = simResult['cfqr'].protocol_all_time_array[simResult['cfqr'].sim.output.all_state['step_indices']]\n",
    "KE_of_the_particle = simResult['cfqr'].system.get_kinetic_energy(all_states_00_i1)\n",
    "PE_of_the_particle = [simResult['cfqr'].system.get_potential(_s, _t ) for _t, _s in  zip(protocol_all_time_array[::200], all_states_00_i1)]\n",
    "WD_of_the_particle = simResult['cfqr'].sim.work_dist_time_array_whole_process[index_of_00][5]"
   ]
  },
  {
   "cell_type": "code",
   "execution_count": null,
   "id": "155",
   "metadata": {},
   "outputs": [],
   "source": [
    "all_states_00_i1.shape"
   ]
  },
  {
   "cell_type": "code",
   "execution_count": null,
   "id": "156",
   "metadata": {},
   "outputs": [],
   "source": [
    "protocol_all_time_array.shape"
   ]
  },
  {
   "cell_type": "code",
   "execution_count": null,
   "id": "157",
   "metadata": {},
   "outputs": [],
   "source": [
    "len(protocal_key_time_array)"
   ]
  },
  {
   "cell_type": "code",
   "execution_count": null,
   "id": "158",
   "metadata": {},
   "outputs": [],
   "source": [
    "len(WD_of_the_particle)"
   ]
  },
  {
   "cell_type": "code",
   "execution_count": null,
   "id": "159",
   "metadata": {},
   "outputs": [],
   "source": [
    "plt.plot(protocol_all_time_array[::100], KE_of_the_particle, label = \"KE\")\n",
    "plt.plot(protocol_all_time_array[::200], PE_of_the_particle - min(PE_of_the_particle) , label = \"PE\")\n",
    "plt.plot(protocol_all_time_array[::200], WD_of_the_particle[::200], label = \"WD\")\n",
    "plt.legend()"
   ]
  },
  {
   "cell_type": "code",
   "execution_count": null,
   "id": "160",
   "metadata": {},
   "outputs": [],
   "source": [
    "plt.plot(protocal_key_time_array, KE_of_the_particle, label = \"KE\")\n",
    "plt.plot(protocal_key_time_array, PE_of_the_particle - min(PE_of_the_particle) , label = \"PE\")\n",
    "# plt.plot(protocal_key_time_array, WD_of_the_particle[::200], label = \"WD\")\n",
    "plt.ylabel(r\"energy $(k_BT)$\")\n",
    "plt.xlabel(r\"time\")\n",
    "plt.legend()"
   ]
  },
  {
   "cell_type": "code",
   "execution_count": null,
   "id": "161",
   "metadata": {},
   "outputs": [],
   "source": [
    "np.mean(simResult['cfqr'].system.get_kinetic_energy(all_states[:,-1,...]))"
   ]
  },
  {
   "cell_type": "code",
   "execution_count": null,
   "id": "162",
   "metadata": {},
   "outputs": [],
   "source": []
  },
  {
   "cell_type": "code",
   "execution_count": null,
   "id": "163",
   "metadata": {},
   "outputs": [],
   "source": [
    "def findPotential(cfqr, _t, state):\n",
    "    _params_at_t = cfqr.system.protocol.get_params(_t)\n",
    "    def cfq_potential(state):\n",
    "        phi_1, phi_2, phi_1dc, phi_2dc = state\n",
    "        return coupled_flux_qubit_non_linear_approx_pot_break_down(phi_1, phi_2, phi_1dc, phi_2dc, _params_at_t)\n",
    "    return np.array(list(cfq_potential(state).values()))"
   ]
  },
  {
   "cell_type": "code",
   "execution_count": null,
   "id": "164",
   "metadata": {},
   "outputs": [],
   "source": [
    "\n",
    "\n",
    "for i in range(1, len(step_time_array)):\n",
    "    # print(step_time_array[i], selected_particles[i, :])\n",
    "    U_a[i-1] = findPotential(simResult[\"cfqr\"], step_time_array[i], selected_particles[i-1, :])\n",
    "    # U_a[i-1] = findPotential(simResult[\"cfqr\"], step_time_array[i], selected_particles[i-1, :])\n",
    "    U_b[i-1] = findPotential(simResult[\"cfqr\"],  step_time_array[i-1], selected_particles[i-1, :])"
   ]
  },
  {
   "cell_type": "code",
   "execution_count": null,
   "id": "165",
   "metadata": {},
   "outputs": [],
   "source": []
  },
  {
   "cell_type": "code",
   "execution_count": null,
   "id": "166",
   "metadata": {},
   "outputs": [],
   "source": []
  },
  {
   "cell_type": "code",
   "execution_count": null,
   "id": "167",
   "metadata": {},
   "outputs": [],
   "source": [
    "u1_1, u2_1, u3_1, u4_1, u1_2, u2_2, u3_2, u4_2, u5 = [U_a[:, i] for i in range(0, 9)]\n"
   ]
  },
  {
   "cell_type": "code",
   "execution_count": null,
   "id": "168",
   "metadata": {},
   "outputs": [],
   "source": [
    "# plt.plot(u1_1)\n",
    "# plt.plot(u2_1)\n",
    "# plt.plot(u3_1)\n",
    "# plt.plot(u4_1)\n"
   ]
  },
  {
   "cell_type": "code",
   "execution_count": null,
   "id": "169",
   "metadata": {},
   "outputs": [],
   "source": [
    "np.sum(U_a - U_b)"
   ]
  },
  {
   "cell_type": "code",
   "execution_count": null,
   "id": "170",
   "metadata": {},
   "outputs": [],
   "source": [
    "step_time_array[1:].shape"
   ]
  },
  {
   "cell_type": "code",
   "execution_count": null,
   "id": "171",
   "metadata": {},
   "outputs": [],
   "source": [
    "selected_particles.shape"
   ]
  },
  {
   "cell_type": "code",
   "execution_count": null,
   "id": "172",
   "metadata": {},
   "outputs": [],
   "source": []
  },
  {
   "cell_type": "code",
   "execution_count": null,
   "id": "173",
   "metadata": {},
   "outputs": [],
   "source": [
    "np.zeros((max(100, int(2*NT)), self.potential.N_dim, 2))"
   ]
  },
  {
   "cell_type": "code",
   "execution_count": null,
   "id": "174",
   "metadata": {},
   "outputs": [],
   "source": [
    "import numpy as np\n",
    "import matplotlib.pyplot as plt\n",
    "\n",
    "phi_1x = 1.2\n",
    "phi_1xdc = np.pi/2 \n",
    "def f(phi_1, phi_1dc):\n",
    "    return (phi_1 - phi_1x)**2 / 7  + (phi_1dc - phi_1xdc)**2 - 2 * np.cos(phi_1) * np.cos(phi_1x)\n",
    "\n",
    "v_func = np.vectorize(f)    # major key!6\n",
    "\n",
    "x, y = np.meshgrid(np.linspace(-6, 6, 100),\n",
    "                   np.linspace(-6, 6, 100))\n",
    "\n",
    "fig, ax = plt.subplots(1)\n",
    "ax.contour(y, x, v_func(x, y), 20)\n",
    "plt.show()"
   ]
  },
  {
   "cell_type": "code",
   "execution_count": null,
   "id": "175",
   "metadata": {},
   "outputs": [],
   "source": []
  }
 ],
 "metadata": {
  "kernelspec": {
   "display_name": "Python 3 (ipykernel)",
   "language": "python",
   "name": "python3"
  },
  "language_info": {
   "codemirror_mode": {
    "name": "ipython",
    "version": 3
   },
   "file_extension": ".py",
   "mimetype": "text/x-python",
   "name": "python",
   "nbconvert_exporter": "python",
   "pygments_lexer": "ipython3",
   "version": "3.10.9"
  }
 },
 "nbformat": 4,
 "nbformat_minor": 5
}
