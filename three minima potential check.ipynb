{
 "cells": [
  {
   "cell_type": "code",
   "execution_count": null,
   "id": "0",
   "metadata": {
    "tags": []
   },
   "outputs": [],
   "source": [
    "import numpy as np\n",
    "import importlib, os, datetime, pickle\n",
    "from sus.protocol_designer import System, Protocol, Potential, Compound_Protocol\n",
    "from sus.protocol_designer.protocol import sequential_protocol\n",
    "from IPython import display\n",
    "from IPython.display import HTML, Image\n",
    "import matplotlib.animation as animation\n",
    "from matplotlib.animation import FuncAnimation, PillowWriter\n",
    "from quick_sim import setup_sim\n",
    "\n",
    "\n",
    "# import edward_tools.fq_runner as fq_runner\n",
    "from edward_tools.coupled_fq_potential import coupled_flux_qubit_non_linear_approx_pot, coupled_flux_qubit_non_linear_approx_force, \\\n",
    "coupled_flux_qubit_non_linear_approx_pot_special, coupled_flux_qubit_non_linear_approx_force_special, coupled_flux_qubit_non_linear_approx_pot_break_down\n",
    "from edward_tools.visualization import animate_sim_flux_qubit, plotFidelityBarChart, separate_by_state_2\n",
    "from edward_tools.initial_state_sampling import extra_constraint_00_and_11_only\n",
    "from NAND_PARAMETERS import *\n",
    "import importlib\n",
    "\n",
    "import kyle_tools as kt\n",
    "import matplotlib.pyplot as plt\n",
    "\n",
    "\n",
    "from edward_tools import coupled_fq_protocol_library, cfq_runner\n",
    "from edward_tools import coupled_fq_protocol_library\n",
    "\n",
    "import edward_tools.cfq_batch_sweep as cfq_batch_sweep\n",
    "import edward_tools.Analysis_tool.general_analysis_tools as general_analysis_tool\n",
    "# from edward_tools.Analysis_tool.general_analysis_tools import show_phi_dc_with_time\n",
    "import edward_tools.Analysis_tool.minimum_value_of_potential as minimum_value_of_potential\n",
    "from edward_tools.couple_flux_qubit_metrics import fidelityEvaluation\n",
    "from edward_tools import visualization\n",
    "\n",
    "coupled_fq_protocol_library = importlib.reload(coupled_fq_protocol_library)\n",
    "create_system = coupled_fq_protocol_library.create_system\n",
    "get_potential_shot_at_different_t = coupled_fq_protocol_library.get_potential_shot_at_different_t\n",
    "get_potential_shot_at_different_t_1D = coupled_fq_protocol_library.get_potential_shot_at_different_t_1D\n",
    "create_simple_protocol_parameter_dict = coupled_fq_protocol_library.create_simple_protocol_parameter_dict\n",
    "coupled_fq_runner = importlib.reload(cfq_runner)\n",
    "coupled_fq_protocol_library = importlib.reload(coupled_fq_protocol_library)\n",
    "create_system = coupled_fq_protocol_library.create_system\n",
    "get_potential_along_a_1D_cutline = coupled_fq_protocol_library.get_potential_along_a_1D_cutline\n",
    "plotCutlines = coupled_fq_protocol_library.plotCutlines"
   ]
  },
  {
   "cell_type": "markdown",
   "id": "1",
   "metadata": {
    "tags": []
   },
   "source": [
    "# parameters"
   ]
  },
  {
   "cell_type": "markdown",
   "id": "2",
   "metadata": {},
   "source": [
    "### circuit parameters"
   ]
  },
  {
   "cell_type": "code",
   "execution_count": null,
   "id": "3",
   "metadata": {},
   "outputs": [],
   "source": [
    "circuit_params_from_Chris = {\n",
    "    \"L\": 5e-12 * 1, \"T\":4.2, \"L_factor\": 1, \n",
    "    \"beta\": 2.3, \"d_beta\": 0,\n",
    "    \"phi_1x\": 0.61,   \"phi_2x\": 0.10, \"phi_1xdc\": 0, \"phi_2xdc\": 1.79, \"M_12\": 0.06\n",
    "}\n",
    "\n",
    "experiment_circuit_params = {\n",
    "    \"L\": 5e-12, \"T\": 4.2, \"L_factor\": 1,\n",
    "    \"beta\": 10, \"d_beta\": 0,\n",
    "    \"phi_1x\": 0.0,   \"phi_2x\": 0.0, \"phi_1xdc\": -2.73, \"phi_2xdc\": 0,\n",
    "    \"M_12\": 0.\n",
    "}\n",
    "\n",
    "\n",
    "circuit_params_best_work_done = {\n",
    "    \"L\": 5e-12 * 1, \"T\":4.2, \"L_factor\": 1, \n",
    "    \"beta\": 2.3, \"d_beta\": 0,\n",
    "    \"phi_1x\": 0.59,   \"phi_2x\": 0.09, \"phi_1xdc\": 0, \"phi_2xdc\": 1.90, \"M_12\": 0.052\n",
    "}\n",
    "\n",
    "\n",
    "\n",
    "\n",
    "circuit_params_chosen = experiment_circuit_params\n",
    "experiment_comment = \"Experiment 3 (2024-10-22): Failed KE extraction protocol simulation for Kyle's animation\"\n",
    "\n",
    "phi_1_x_on_12, phi_2_x_on_12, phi_1_dcx_on_12, phi_2_dcx_on_12, phi_1_x_on_21, phi_2_x_on_21, phi_1_dcx_on_21, phi_2_dcx_on_21, M_12_on, four_well, CE_1, CE_8, lower_H_wells, flip_H, lower_V_wells, flip_V, KE_extraction_protocol_for_CE_1, KE_extraction_protocol_for_CE_8 = generate_protocols_from_circuit_params(circuit_params_chosen)"
   ]
  },
  {
   "cell_type": "code",
   "execution_count": null,
   "id": "4",
   "metadata": {
    "tags": []
   },
   "outputs": [],
   "source": [
    "has_velocity = True\n",
    "\n",
    "PHI_0 = 2.067833848 * 1e-15\n",
    "k_B = 1.38e-23\n",
    "T = circuit_params_chosen[\"T\"]\n",
    "# T = 0.1\n",
    "# T = 7\n",
    "k_BT = k_B * T\n",
    "\n",
    "C_factor = 1\n",
    "L_factor = 1\n",
    "R_factor = 1\n",
    "# I_m_factor = 50\n",
    "# I_m_factor = 15\n",
    "I_m_factor = 0\n",
    "time_scale = 1.0\n",
    "\n",
    "\n",
    "\n",
    "I_p_1, I_p_2 = 5e-6 , 5e-6  # Amp\n",
    "I_m_1, I_m_2 = 7e-9 * I_m_factor, 7e-9 * I_m_factor                           # Amp\n",
    "R_1, R_2 = 1 * R_factor, 1 * R_factor                                         # ohm\n",
    "C_1, C_2 = 500e-15 * C_factor, 500e-15 * C_factor                             # F\n",
    "\n",
    "L_1, L_2 = 140e-12 * L_factor, 140e-12 * L_factor                             # H \n",
    "L_1, L_2 = 5e-12 * L_factor, 5e-12 * L_factor                             # H \n",
    "freq = 1/np.sqrt(C_1 * L_1)\n",
    "characteristic_time = np.sqrt(C_1 * C_factor * L_1 * L_factor)\n",
    "\n"
   ]
  },
  {
   "cell_type": "code",
   "execution_count": null,
   "id": "5",
   "metadata": {
    "tags": []
   },
   "outputs": [],
   "source": [
    "\n",
    "m_c = C_1\n",
    "m_1 = C_1\n",
    "m_2 = C_2\n",
    "x_c = PHI_0 / (2 * np.pi)\n",
    "time_scale_factor = 1\n",
    "t_c = np.sqrt(L_1 * C_1)\n",
    "v_c = x_c / t_c\n",
    "\n",
    "\n",
    "U0_1 = m_c * x_c**2 / t_c**2 / k_BT\n",
    "U0_2 = m_2 * x_c**2 / t_c**2 / k_BT\n",
    "kappa_1, kappa_2, kappa_3, kappa_4 = 1/U0_1, 1/U0_1, 1/U0_1, 1/U0_1\n",
    "\n",
    "lambda_1 = 2 * np.sqrt(L_1 * C_1) / (C_1 * R_1)\n",
    "theta_1  = 1\n",
    "eta_1    = np.sqrt(np.sqrt(L_1 * C_1)/ (R_1 * C_1)) * np.sqrt(2 * kappa_1 / 1**2)\n",
    "\n",
    "lambda_2 = 2 * np.sqrt(L_1 * C_1) / (C_2 * R_2)\n",
    "theta_2  = 1 / (C_2/C_1)\n",
    "eta_2    = np.sqrt(np.sqrt(L_1 * C_1)/ (R_1 * C_1)) * np.sqrt(2 * kappa_2 * (R_1 * C_1**2) / (R_2 * C_2**2))\n",
    "\n",
    "lambda_3 = 2 * np.sqrt(L_1 * C_1) / (C_1 * R_1)\n",
    "theta_3  = 4\n",
    "eta_3    = np.sqrt(np.sqrt(L_1 * C_1)/ (R_1 * C_1)) * np.sqrt(8 * kappa_3)\n",
    "\n",
    "lambda_4 = 2 * np.sqrt(L_1 * C_1) / (C_2 * R_2)\n",
    "theta_4  = 4 / (C_2/C_1)\n",
    "eta_4    = np.sqrt(np.sqrt(L_1 * C_1)/ (R_1 * C_1)) * np.sqrt(8 * kappa_4 * (R_1 * C_1**2) / (R_2 * C_2**2))\n",
    "\n",
    "gamma = 10\n",
    "\n",
    "\n",
    "beta_1 = 2 * np.pi * L_1 * I_p_1 / PHI_0; \n",
    "beta_2 = 2 * np.pi * L_2 * I_p_2 / PHI_0;\n",
    "\n",
    "beta_1 = 7\n",
    "beta_2 = 7\n",
    "\n",
    "# beta_1 = 2\n",
    "# beta_2 = 2\n",
    "\n",
    "\n",
    "\n",
    "d_beta_1 = 2 * np.pi * L_1 * I_m_1 / PHI_0; \n",
    "d_beta_2 = 2 * np.pi * L_2 * I_m_2 / PHI_0;\n",
    "\n",
    "\n",
    "_damping_factor = 1\n",
    "_lambda = np.array([lambda_1, lambda_2, lambda_3, lambda_4])\n",
    "_theta  = np.array([theta_1, theta_2, theta_3, theta_4])\n",
    "_eta  =   np.array([eta_1, eta_2, eta_3, eta_4])\n",
    "\n",
    "v_1 = np.random.normal(0, np.sqrt(k_BT/m_1)) / v_c\n",
    "v_2 = np.random.normal(0, np.sqrt(k_BT/m_2)) / v_c\n",
    "v_3 = np.random.normal(0, np.sqrt(k_BT/(m_1/4))) / v_c\n",
    "v_4 = np.random.normal(0, np.sqrt(k_BT/(m_2/4))) / v_c"
   ]
  },
  {
   "cell_type": "code",
   "execution_count": null,
   "id": "6",
   "metadata": {
    "tags": []
   },
   "outputs": [],
   "source": [
    "print(f\"L_1 = {L_1 * 1e12:.3g}pH, T = {T}K\")\n",
    "print(f\"freq = {freq / 1e9:.3g}GHz\")\n",
    "print(characteristic_time)\n",
    "print(1/U0_1*50)"
   ]
  },
  {
   "cell_type": "code",
   "execution_count": null,
   "id": "7",
   "metadata": {},
   "outputs": [],
   "source": [
    "U0_1"
   ]
  },
  {
   "cell_type": "code",
   "execution_count": null,
   "id": "8",
   "metadata": {},
   "outputs": [],
   "source": [
    "k_BT / (x_c**2/L_1) * 50"
   ]
  },
  {
   "cell_type": "markdown",
   "id": "9",
   "metadata": {},
   "source": [
    "### parameter setting"
   ]
  },
  {
   "cell_type": "code",
   "execution_count": null,
   "id": "10",
   "metadata": {
    "tags": []
   },
   "outputs": [],
   "source": [
    "\"\"\"\n",
    "# step 0: modify parameters\n",
    "- All the parameters are stored in a separate file PARAMETER_INPUT\n",
    "- You can override some of the parameters here.\n",
    "\"\"\"\n",
    "params = {}\n",
    "params['N'] = 1000\n",
    "params['dt'] = 1/100\n",
    "params['lambda'] = 1\n",
    "params['beta'] = 1\n",
    "params['sim_params'] = [_lambda, _theta, _eta]\n",
    "params['target_work'] = None\n",
    "params['applyOffset'] = False\n",
    "params['measureWorkWithOffset'] = True\n",
    "params['monitor_work_dist_in_whole_process'] = True # To monitor the work process\n",
    "params['comment'] = experiment_comment\n",
    "params['capacitance'] = np.array([C_1, C_2, C_1/4, C_2/4])\n",
    "params['mass'] = np.array([1, 1, 1/4, 1/4])\n",
    "params['v_c'] = x_c/t_c\n",
    "params['k_BT'] = k_BT\n",
    "params['U0'] = U0_1\n",
    "params['as_step'] = np.s_[::10] # the time step to skep for the all_state\n",
    "params['percentage'] = 1 # For what percentage of the total sample do you want to keep in the output all_state\n"
   ]
  },
  {
   "cell_type": "code",
   "execution_count": null,
   "id": "11",
   "metadata": {
    "tags": []
   },
   "outputs": [],
   "source": [
    "\"\"\"\n",
    "# step 2: Define initial condition and protocol\n",
    "\"\"\"\n",
    "manual_domain=[np.array([-10, -10]), np.array([10, 10])]\n",
    "\n",
    "\n",
    "\n",
    "# µ = 0.06, φ2xdc = 1.79, φ1x = 0.59, and φ2x = 0.10.\n",
    "    \n",
    "initial_parameter_dict = {\n",
    "        \"U0_1\": U0_1,     \"U0_2\": U0_2,     \"gamma_1\": gamma,  \"gamma_2\": gamma,\n",
    "        \"beta_1\": beta_1,   \"beta_2\": beta_2,   \"d_beta_1\": d_beta_1 ,   \"d_beta_2\": d_beta_2,\n",
    "        \"phi_1_x\": phi_1_x_off,  \"phi_2_x\": phi_2_x_off,  \"phi_1_dcx\": phi_1_dcx_off,  \"phi_2_dcx\": phi_1_dcx_off,\n",
    "        \"M_12\": M_12_off, 'x_c': x_c\n",
    "}\n"
   ]
  },
  {
   "cell_type": "code",
   "execution_count": null,
   "id": "12",
   "metadata": {
    "tags": []
   },
   "outputs": [],
   "source": [
    "\"\"\"\n",
    "# step 1: Define potential\n",
    "\"\"\"\n",
    "coupled_fq_default_param = [1, 1, 0, 0, 0, 0, 0, 0, 0, 0, 0, 0, 0, x_c]\n",
    "[phi_1_bound, phi_2_bound, phi_1dc_bound, phi_2dc_bound] = np.array([4, 4, 4, 4])/time_scale_factor\n",
    "contour_range = [300, 2000]\n",
    "    \n",
    "coupled_fq_domain = [[-phi_1_bound, -phi_2_bound, -phi_1dc_bound, -phi_2dc_bound], \\\n",
    "                     [phi_1_bound, phi_2_bound, phi_1dc_bound, phi_2dc_bound]]\n",
    "\n",
    "# coupled_fq_pot = Potential(coupled_flux_qubit_pot_with_offset_at_00_xy, coupled_flux_qubit_force, 14, 4,\\\n",
    "#                            default_params = coupled_fq_default_param,  relevant_domain = coupled_fq_domain)\n",
    "\n",
    "coupled_fq_pot = Potential(coupled_flux_qubit_non_linear_approx_pot, coupled_flux_qubit_non_linear_approx_force, 14, 4,\\\n",
    "                           default_params = initial_parameter_dict,  relevant_domain = coupled_fq_domain)\n",
    "\n",
    "# coupled_fq_pot = Potential(coupled_flux_qubit_non_linear_approx_pot_special, coupled_flux_qubit_non_linear_approx_force_special, 14, 4,\\\n",
    "                           # default_params = initial_parameter_dict,  relevant_domain = coupled_fq_domain)"
   ]
  },
  {
   "cell_type": "code",
   "execution_count": null,
   "id": "13",
   "metadata": {},
   "outputs": [],
   "source": []
  },
  {
   "cell_type": "markdown",
   "id": "14",
   "metadata": {},
   "source": [
    "### protocol setting"
   ]
  },
  {
   "cell_type": "code",
   "execution_count": null,
   "id": "15",
   "metadata": {
    "tags": []
   },
   "outputs": [],
   "source": [
    "zeroDissipation = False\n",
    "# zeroDissipation = True\n",
    "\n",
    "saveAllStates = True\n",
    "\n",
    "params['sim_params'] = [_lambda, _theta, _eta]\n",
    "\n",
    "if zeroDissipation:\n",
    "    params['sim_params'] = [_lambda * 0, _theta, _eta * 0]\n",
    "\n",
    "params['circuit_parameters'] = {\n",
    "    \"C_factor\":C_factor, \"L_factor\": L_factor, \"R_factor\": R_factor, \"I_m_factor\": I_m_factor, \"T\": T, \n",
    "    \"I_p_1\": I_p_1, \"I_p_2\": I_p_2, \"I_m_1\": I_m_1, \"I_m_2\": I_m_2,\n",
    "    \"R_1\": R_1, \"R_2\": R_2, \"C_1\": C_1, \"C_2\": C_2, \"L_1\": L_1, \"L_2\": L_2, \n",
    "    \"characteristic_time\": np.sqrt(C_1 * C_factor * L_1 * L_factor),\n",
    "    \"phi_1_x_on\": phi_1_x_on_12, \"phi_2_x_on\": phi_2_x_on_12,\n",
    "    \"phi_1_dcx_on\": phi_1_dcx_on_12, \"phi_2_dcx_on\": phi_2_dcx_on_12, \"M_12_on\": M_12_on,\n",
    "    \"gamma\": gamma\n",
    "}\n",
    "\n",
    "\n",
    "initial_state_used_choice = [\"four_well\", \"after_CE_8_completed\"]\n",
    "\n",
    "\n",
    "\n",
    "# bookmark\n",
    "initial_parameter_dict[\"phi_1_dcx\"] = circuit_params_chosen[\"phi_1xdc\"]\n",
    "initial_parameter_dict[\"phi_2_dcx\"] = circuit_params_chosen[\"phi_2xdc\"]\n",
    "initial_parameter_dict[\"phi_1_x\"]   = circuit_params_chosen[\"phi_1x\"]\n",
    "initial_parameter_dict[\"phi_2_x\"]   = circuit_params_chosen[\"phi_2x\"]\n",
    "initial_parameter_dict[\"M_12\"]      = circuit_params_chosen[\"M_12\"]\n",
    "\n",
    "initial_parameter_dict[\"phi_1_dcx\"] = 0\n",
    "initial_parameter_dict[\"phi_2_dcx\"] = 0\n",
    "initial_parameter_dict[\"phi_1_x\"]   = 0\n",
    "initial_parameter_dict[\"phi_2_x\"]   = 0\n",
    "initial_parameter_dict[\"M_12\"]      = 0"
   ]
  },
  {
   "cell_type": "code",
   "execution_count": null,
   "id": "16",
   "metadata": {},
   "outputs": [],
   "source": [
    "initial_parameter_dict"
   ]
  },
  {
   "cell_type": "markdown",
   "id": "17",
   "metadata": {},
   "source": [
    "### modify the protocol"
   ]
  },
  {
   "cell_type": "code",
   "execution_count": null,
   "id": "18",
   "metadata": {
    "tags": []
   },
   "outputs": [],
   "source": [
    "CE_1 = {\n",
    "        \"phi_1_x\": phi_1_x_on_12, \"phi_2_x\": phi_2_x_on_12, \"M_12\": M_12_on, \\\n",
    "        \"phi_1_dcx\": phi_1_dcx_off, \"phi_2_dcx\": phi_2_dcx_on_12, \"name\":\"CE_1\"\n",
    "}\n",
    "\n",
    "KE_extraction_protocol_for_CE_1 = {\n",
    "        \"phi_1_x\": phi_1_x_on_12, \"phi_2_x\": 0.00, \"M_12\": 0.00, \\\n",
    "        \"phi_1_dcx\": phi_1_dcx_on_12, \"phi_2_dcx\": phi_2_dcx_on_12,\\\n",
    "        \"name\":\"KE_extraction_protocol\"\n",
    "}\n",
    "\n",
    "crazy_protocol = {\n",
    "        \"phi_1_x\": 0.5, \"phi_2_x\": 0, \"M_12\": 0, \\\n",
    "        \"phi_1_dcx\": -2.65, \"phi_2_dcx\": 0, \"name\":\"crazy_CE_1\"\n",
    "}\n",
    "\n",
    "crazy_protocol_2 = {\n",
    "        \"phi_1_x\": 0.0, \"phi_2_x\": 0, \"M_12\": 0, \\\n",
    "        \"phi_1_dcx\": -2.72, \"phi_2_dcx\": 0, \"name\":\"crazy_CE_1\"\n",
    "}\n",
    "\n",
    "crazy_protocol_3 = {\n",
    "        \"phi_1_x\": 0, \"phi_2_x\": 0, \"M_12\": 0., \\\n",
    "        \"phi_1_dcx\": -2.75, \"phi_2_dcx\": -2.90, \"name\":\"crazy_CE_1\"\n",
    "}\n",
    "\n",
    "crazy_protocol_4 = {\n",
    "        \"phi_1_x\": 0, \"phi_2_x\": 0, \"M_12\": 0., \\\n",
    "        \"phi_1_dcx\": -2.75, \"phi_2_dcx\": -2.75, \"name\":\"crazy_CE_1\"\n",
    "}\n",
    "\n",
    "\n",
    "crazy_protocol_5 = {\n",
    "        \"phi_1_x\": 0, \"phi_2_x\": 0, \"M_12\": 0, \\\n",
    "        \"phi_1_dcx\": -np.pi, \"phi_2_dcx\": 0, \"name\":\"crazy_CE_1\"\n",
    "}"
   ]
  },
  {
   "cell_type": "code",
   "execution_count": null,
   "id": "19",
   "metadata": {
    "tags": []
   },
   "outputs": [],
   "source": [
    "protocol_type = \"CE\"\n",
    "\n",
    "if protocol_type == \"CE\":\n",
    "    mapping_dict = mapping_state_1_to_state_2_dict_CE\n",
    "if protocol_type == \"NAND\":\n",
    "    mapping_dict = mapping_state_1_to_state_2_dict_NAND\n",
    "\n",
    "\n",
    "\n",
    "protocol_list = [\n",
    "    # forward\n",
    "    create_CE_Protocol(100, crazy_protocol),\n",
    "    create_CE_Protocol(500, crazy_protocol_2),\n",
    "    # create_CE_Protocol(100, crazy_protocol_3),\n",
    "    # create_CE_Protocol(100, crazy_protocol_4),\n",
    "    # create_CE_Protocol(300, four_well)\n",
    "]\n",
    "\n",
    "# protocol_list = [\n",
    "#     # create_CE_Protocol(100, crazy_protocol_3),\n",
    "#     # create_CE_Protocol(100, crazy_protocol_4),\n",
    "#     create_CE_Protocol(100, crazy_protocol_5),\n",
    "#     create_CE_Protocol(100, crazy_protocol_5)\n",
    "#     # create_CE_Protocol(100, four_well),\n",
    "# ]"
   ]
  },
  {
   "cell_type": "code",
   "execution_count": null,
   "id": "20",
   "metadata": {},
   "outputs": [],
   "source": [
    "protocol_list"
   ]
  },
  {
   "cell_type": "markdown",
   "id": "21",
   "metadata": {},
   "source": [
    "# setting protocol (click here!)"
   ]
  },
  {
   "cell_type": "markdown",
   "id": "22",
   "metadata": {
    "tags": []
   },
   "source": [
    "# first initialization"
   ]
  },
  {
   "cell_type": "markdown",
   "id": "23",
   "metadata": {},
   "source": [
    "### create initial state "
   ]
  },
  {
   "cell_type": "code",
   "execution_count": null,
   "id": "24",
   "metadata": {
    "tags": []
   },
   "outputs": [],
   "source": [
    "%%capture\n",
    "initial_state_array = [\"saved_init_state/beta=10_T=4.2K_N=1000_initial_state.npy\"]\n",
    "initial_state_chosen = initial_state_array[0]\n",
    "\n",
    "\n",
    "regenerate_init_state = False\n",
    "# regenerate_init_state = True\n",
    "if regenerate_init_state:\n",
    "    initial_potential_protocol_list = [create_CE_Protocol(200*100*params['dt'], four_well)]\n",
    "    init_params = params.copy()\n",
    "    # friction_factor = 1\n",
    "    # init_params['sim_params'] = [init_params['sim_params'][0] * friction_factor, init_params['sim_params'][1], init_params['sim_params'][2] * friction_factor]\n",
    "    init_params['dt'] = 1/100\n",
    "    init_state_saved = cfq_batch_sweep.create_initial_state(initial_parameter_dict, initial_potential_protocol_list, coupled_fq_pot, init_params)\n",
    "else:\n",
    "    init_state_saved = np.load(initial_state_chosen)\n",
    "\n",
    "init_state_used = init_state_saved\n",
    "\n",
    "# np.save(\"four_well_default_init_state_N_1000.npy\", init_state_saved)\n",
    "\n",
    "# particle_index = visualization.separate_by_state_2(init_state_saved[:, (0, 1), :])\n",
    "# init_state_used = init_state_saved[particle_index[\"00\"]]\n",
    "# [1.3, 0.3, 0.3, 0.3, 1]"
   ]
  },
  {
   "cell_type": "code",
   "execution_count": null,
   "id": "25",
   "metadata": {},
   "outputs": [],
   "source": [
    "plt.scatter(init_state_saved[..., 0, 0], init_state_saved[..., 1, 0])"
   ]
  },
  {
   "cell_type": "markdown",
   "id": "26",
   "metadata": {},
   "source": [
    "### create cfqr object"
   ]
  },
  {
   "cell_type": "code",
   "execution_count": null,
   "id": "27",
   "metadata": {
    "tags": []
   },
   "outputs": [],
   "source": [
    "\"\"\"\n",
    "# step 3: create the relevant storage protocol and computation protocol\n",
    "\"\"\"\n",
    "def modifiedFunction(t, result):\n",
    "    return result\n",
    "\n",
    "\n",
    "computation_protocol_parameter_dict = coupled_fq_protocol_library.customizedProtocol(initial_parameter_dict, \\\n",
    "                                                                    protocol_list)\n",
    "storage_protocol, comp_protocol = create_system(computation_protocol_parameter_dict, modifiedFunction = None)\n",
    "\n",
    "cfqr = cfq_runner.coupledFluxQubitRunner(potential = coupled_fq_pot, params = params, \\\n",
    "                                                storage_protocol= storage_protocol, \\\n",
    "                                                computation_protocol= comp_protocol, \\\n",
    "                                         protocol_list = protocol_list, \\\n",
    "                                        has_velocity=has_velocity)\n",
    "\n",
    "protocol_time_array, protocol_time_index_array, protocol_all_time_array, protocol_time_all_index_array = cfqr.createProtocolTimeArray(protocol_list, params)\n",
    "cfqr.initialize_sim()\n",
    "# cfqr.set_sim_attributes(init_state=init_state_saved)\n",
    "cfqr.set_sim_attributes(init_state=init_state_used)\n",
    "print(f\"mean KE = {np.mean(cfqr.system.get_kinetic_energy(init_state_used))}\")\n",
    "print(f\"characteristic_time = {characteristic_time * 10e9:.3g}ns\")\n",
    "print(f\"total time = {protocol_time_array[-1] * characteristic_time * 10e9:.3g}ns\")"
   ]
  },
  {
   "cell_type": "code",
   "execution_count": null,
   "id": "28",
   "metadata": {},
   "outputs": [],
   "source": [
    "# before check opo"
   ]
  },
  {
   "cell_type": "code",
   "execution_count": null,
   "id": "29",
   "metadata": {},
   "outputs": [],
   "source": [
    "def plot_3_well_potential(phi_1x, mu):\n",
    "    phi_1dc_array = np.linspace(-3.0, -2.7, 10)\n",
    "    phi_1_array = np.linspace(-4, 4, 1000)\n",
    "    phi_2 = 3.0\n",
    "    phi_2dc = 0\n",
    "\n",
    "    params_list_used = cfqr.protocol.get_params(0)\n",
    "    phi_1xdc_array = list(np.linspace(-2.4, -2.72, 5))\n",
    "    mu_array = np.linspace(0.05, 0.10, 10)\n",
    "    phi_1x_array  = np.linspace(0., 0.1, 10)\n",
    "    phi_2x_array  = np.linspace(0, 10, 10)\n",
    "    for x in phi_1xdc_array:\n",
    "        fig = plt.figure(figsize= [20, 5])\n",
    "        ax_0 = fig.add_subplot(1, 4, 1, projection='3d')\n",
    "        ax_1 = fig.add_subplot(1, 4, 2)\n",
    "        ax_2 = fig.add_subplot(1, 4, 3, projection='3d')\n",
    "        ax_3 = fig.add_subplot(1, 4, 4)\n",
    "\n",
    "        params_list_used[8] = 0.0 # phi_1x\n",
    "        params_list_used[9] = 0 # phi_2x\"\n",
    "        params_list_used[10] = x # phi_1xdc\n",
    "        params_list_used[11] = 0 # phi_2xdc\n",
    "        params_list_used[12] = 0.1 # mu\n",
    "        params_at_t_str = [f\"{key}: {value:.3g}\" for key, value in zip(cfqr.protocol_key[-6:-1], params_list_used[-6:-1])]\n",
    "        fig.suptitle(f\"phi_1xdc = {params_list_used[10]:.3g}, phi_1x = {params_list_used[8]:.3g}, phi_2x = {params_list_used[9]:.3g}, mu = {params_list_used[12]:.3g}\") \n",
    "\n",
    "        potential_min = []\n",
    "        for _phi_1dc in phi_1dc_array:\n",
    "            for _phi_2 in [3.0]:\n",
    "                potential = cfqr.potential.potential(phi_1_array, _phi_2, _phi_1dc, phi_2dc, params_list_used)\n",
    "                ax_0.plot(phi_1_array, np.full(len(phi_1_array), fill_value=_phi_1dc), potential, label = f\"{_phi_1dc:.3g}\")\n",
    "                ax_1.plot(phi_1_array, potential, label = f\"phi_1dc = {_phi_1dc:.3g}\")\n",
    "\n",
    "                potential = cfqr.potential.potential(phi_1_array, -_phi_2, _phi_1dc, phi_2dc, params_list_used)\n",
    "                ax_2.plot(phi_1_array, np.full(len(phi_1_array), fill_value=_phi_1dc), potential, label = f\"{_phi_1dc:.3g}\")\n",
    "                ax_3.plot(phi_1_array, potential, label = f\"phi_1dc = {_phi_1dc:.3g}\")\n",
    "\n",
    "            \n",
    "                ax_0.set_xlim(-4, 4)\n",
    "    \n",
    "                min_y, max_y = -1000, 800\n",
    "                # ax_0.set_zlim(min_y, max_y)\n",
    "                ax_1.set_ylim(min_y, max_y)\n",
    "                ax_3.set_ylim(min_y, max_y)\n",
    "        plt.show()"
   ]
  },
  {
   "cell_type": "code",
   "execution_count": null,
   "id": "30",
   "metadata": {},
   "outputs": [],
   "source": [
    "plot_3_well_potential(phi_1x = 0.01, mu = -0.01)"
   ]
  },
  {
   "cell_type": "code",
   "execution_count": null,
   "id": "31",
   "metadata": {},
   "outputs": [],
   "source": []
  },
  {
   "cell_type": "markdown",
   "id": "32",
   "metadata": {},
   "source": [
    "# actual simulations"
   ]
  },
  {
   "cell_type": "code",
   "execution_count": null,
   "id": "33",
   "metadata": {
    "tags": []
   },
   "outputs": [],
   "source": [
    "## importlib.reload(cfq_batch_sweep)\n",
    "\n",
    "# 0.5 * (x - 0.59)^2 + 0.5 * (y - 0.1)^2 + 2.3 * cos(x) + 2.3 * cos(y)\n",
    "# step 5: perform simulations\n",
    "\n",
    "\n",
    "manual_domain=[np.array([-5, -5]), np.array([5, 5])]\n",
    "\n",
    "simResult = cfq_batch_sweep.simulateSingleCoupledFluxQubit(params, initial_parameter_dict, protocol_list, \\\n",
    "                        potential = coupled_fq_pot, potential_default_param = coupled_fq_default_param, mapping_state_1_to_state_2_dict = mapping_dict,         \n",
    "                        initial_state = init_state_used, manual_domain = manual_domain, \\\n",
    "                        phi_1_dcx = phi_1_dcx,  phi_2_dcx = phi_2_dcx, measure_all_states=saveAllStates, \\\n",
    "                        has_velocity = has_velocity)\n"
   ]
  },
  {
   "cell_type": "code",
   "execution_count": null,
   "id": "34",
   "metadata": {
    "tags": []
   },
   "outputs": [],
   "source": [
    "print(f\"characteristic_time = {characteristic_time * 10e9:.3g}ns, freq = {1/characteristic_time * 10e-9:.3g} GHz\")"
   ]
  },
  {
   "cell_type": "code",
   "execution_count": null,
   "id": "35",
   "metadata": {},
   "outputs": [],
   "source": [
    "particle_index = cfqr.getIndexOfParticles()"
   ]
  },
  {
   "cell_type": "code",
   "execution_count": null,
   "id": "36",
   "metadata": {},
   "outputs": [],
   "source": [
    "particleInformation = {\n",
    "    \"showParticles\": True,\n",
    "    \"project_item\": [\"00\", \"01\", \"10\", \"11\"],\n",
    "    \"particle_opacity\": 0.5,\n",
    "    \"pColor\": {\"00\": \"#061DF7\", \"01\": \"red\", \"10\": \"#3FC7F2\", \"11\": \"#F187F4\"}\n",
    "}"
   ]
  },
  {
   "cell_type": "code",
   "execution_count": null,
   "id": "37",
   "metadata": {
    "tags": []
   },
   "outputs": [],
   "source": [
    "# init_state = simResult['cfqr'].get_all_state()[:,0,...]\n",
    "# final_state = simResult['cfqr'].get_all_state()[:,-1,...]\n",
    "\n",
    "\n",
    "# fig, ax = plt.subplots(2, 6, figsize = [30, 10])\n",
    "# ax_flatten = ax.flatten()\n",
    "# for key, index in particle_index.items():\n",
    "#     ax_flatten[0].scatter(init_state[index,0,0], init_state[index,1,0], color = particleInformation[\"pColor\"][key])\n",
    "#     ax_flatten[1].scatter(final_state[index,0,0], final_state[index,1,0], color = particleInformation[\"pColor\"][key])\n",
    "# ax_flatten[0].set_title(\"initial_state: phi_1 vs phi_2\")\n",
    "# ax_flatten[1].set_title(\"final_state: phi_1 vs phi_2\")\n",
    "\n",
    "\n",
    "# for key, index in particle_index.items():\n",
    "#     ax_flatten[2].scatter(init_state[index,2,0], init_state[index,3,0], color = particleInformation[\"pColor\"][key])\n",
    "#     ax_flatten[3].scatter(final_state[index,2,0], final_state[index,3,0], color = particleInformation[\"pColor\"][key])\n",
    "# ax_flatten[2].set_title(\"initial_state: phi_1dc vs phi_2dc\")\n",
    "# ax_flatten[3].set_title(\"final_state: phi_1dc vs phi_2dc\")\n",
    "\n",
    "\n",
    "\n",
    "# for key, index in particle_index.items():\n",
    "#     ax_flatten[4].scatter(init_state[index,0,0], init_state[index,2,0], color = particleInformation[\"pColor\"][key])\n",
    "#     ax_flatten[5].scatter(final_state[index,0,0], final_state[index,2,0], color = particleInformation[\"pColor\"][key])\n",
    "# ax_flatten[4].set_title(\"initial_state: phi_1 vs phi_1dc\")\n",
    "# ax_flatten[5].set_title(\"final_state: phi_1 vs phi_1dc\")\n",
    "\n",
    "# for key, index in particle_index.items():\n",
    "#     ax_flatten[6].scatter(init_state[index,0,0], init_state[index,3,0], color = particleInformation[\"pColor\"][key])\n",
    "#     ax_flatten[7].scatter(final_state[index,0,0], final_state[index,3,0], color = particleInformation[\"pColor\"][key])\n",
    "# ax_flatten[6].set_title(\"initial_state: phi_1 vs phi_2dc\")\n",
    "# ax_flatten[7].set_title(\"final_state: phi_1 vs phi_2dc\")\n",
    "\n",
    "\n",
    "# for key, index in particle_index.items():\n",
    "#     ax_flatten[8].scatter(init_state[index,1,0], init_state[index,2,0], color = particleInformation[\"pColor\"][key])\n",
    "#     ax_flatten[9].scatter(final_state[index,1,0], final_state[index,2,0], color = particleInformation[\"pColor\"][key])\n",
    "# ax_flatten[8].set_title(\"initial_state: phi_2 vs phi_1dc\")\n",
    "# ax_flatten[9].set_title(\"final_state: phi_2 vs phi_1dc\")\n",
    "\n",
    "# for key, index in particle_index.items():\n",
    "#     ax_flatten[10].scatter(init_state[index,1,0], init_state[index,3,0], color = particleInformation[\"pColor\"][key])\n",
    "#     ax_flatten[11].scatter(final_state[index,1,0], final_state[index,3,0], color = particleInformation[\"pColor\"][key])\n",
    "# ax_flatten[10].set_title(\"initial_state: phi_2 vs phi_2dc\")\n",
    "# ax_flatten[11].set_title(\"final_state: phi_2 vs phi_2dc\")\n",
    "\n",
    "\n",
    "# for _ax in ax_flatten:\n",
    "#     _ax.set_xlim(-4, 4)\n",
    "#     _ax.set_ylim(-4, 4)\n",
    "# plt.show()"
   ]
  },
  {
   "cell_type": "code",
   "execution_count": null,
   "id": "38",
   "metadata": {},
   "outputs": [],
   "source": []
  },
  {
   "cell_type": "markdown",
   "id": "39",
   "metadata": {},
   "source": [
    "## to plot motion of particles in all the planes"
   ]
  },
  {
   "cell_type": "code",
   "execution_count": null,
   "id": "40",
   "metadata": {},
   "outputs": [],
   "source": [
    "all_states = simResult['cfqr'].get_all_state()\n",
    "phi_1 = all_states[..., 0, 0]\n",
    "phi_2 = all_states[..., 1, 0]\n",
    "phi_1dc = all_states[..., 2, 0]\n",
    "phi_2dc = all_states[..., 3, 0]\n"
   ]
  },
  {
   "cell_type": "code",
   "execution_count": null,
   "id": "41",
   "metadata": {},
   "outputs": [],
   "source": [
    "frame_skip = 20\n",
    "targetTimeArray = protocol_all_time_array[simResult['cfqr'].sim.target_step_index]\n",
    "animation_time_array = targetTimeArray[::frame_skip]\n",
    "animation_states = all_states[:, ::frame_skip, ...]\n",
    "\n",
    "fig, ax = plt.subplots(2, 5, figsize=[20, 7])\n",
    "plot_label_1 = [(\"phi_1\", \"phi_2\"), (\"phi_1dc\", \"phi_2dc\"), (\"phi_1\", \"phi_1dc\"), (\"phi_1\", \"phi_2dc\"), (\"phi_2\", \"phi_1dc\"), (\"phi_2\", \"phi_2dc\")]\n",
    "plot_label_2 = [\"phi_1\", \"phi_2\", \"phi_1dc\", \"phi_2dc\"]\n",
    "\n",
    "ax_flatten = ax.flatten()\n",
    "ax_flatten_1 = [ax_flatten[i] for i in [0, 1, 2, 5, 6, 7]]\n",
    "ax_flatten_2 = [ax_flatten[i] for i in [3, 4, 8, 9]]\n",
    "phi_1_array = np.linspace(-4, 4)\n",
    "phi_1dc_array = np.linspace(-4, 4)\n",
    "\n",
    "for _ax, (xlabel, ylabel) in zip(ax_flatten_1, plot_label_1):\n",
    "    _ax.set_xlim(-4, 4)\n",
    "    _ax.set_ylim(-4, 4)\n",
    "    _ax.set_xlabel(xlabel)\n",
    "    _ax.set_ylabel(ylabel)    \n",
    "    _ax.set_aspect(1)\n",
    "\n",
    "for _ax, xlabel in zip(ax_flatten_2, plot_label_2):\n",
    "    _ax.set_xlim(-3.5, 3.5)\n",
    "    _ax.set_ylim(-4500, 1000)\n",
    "    _ax.set_xlabel(xlabel)\n",
    "    _ax.set_ylabel(\"PE\")    \n",
    "    # _ax.set_aspect(1)\n",
    "\n",
    "\n",
    "plot_axis_1 = [[0, 1], [2, 3], [0, 2], [0, 3], [1, 2], [1, 3]]\n",
    "plot_axis_2 = [0, 1, 2, 3]\n",
    "\n",
    "scatter_array_1 = []\n",
    "scatter_array_2 = []\n",
    "potential_min_plot_array = {}\n",
    "potential_max_plot_array = {}\n",
    "\n",
    "potential_min_1dc_plot_array = {}\n",
    "potential_max_1dc_plot_array = {}\n",
    "\n",
    "for key, index in particle_index.items():\n",
    "    for _i, (_x, _y) in enumerate(plot_axis_1):\n",
    "        _scatter = ax_flatten_1[_i].scatter(all_states[index, 0, _x, 0], all_states[index, 0, _y, 0], c = particleInformation['pColor'][key])\n",
    "        scatter_array_1.append(_scatter)\n",
    "\n",
    "    for _i in plot_axis_2:\n",
    "        potential = simResult['cfqr'].system.get_potential(animation_states[index, 0, ...], 0)\n",
    "        _scatter = ax_flatten_2[_i].scatter(all_states[index, 0, _i, 0], potential, c = particleInformation['pColor'][key])\n",
    "        scatter_array_2.append(_scatter)\n",
    "        \n",
    "        params_at_0 = simResult['cfqr'].protocol.get_params(0)\n",
    "        phi_1_min_array = np.min(animation_states[index, 0, 0, 0], axis = 0)\n",
    "        phi_1_max_array = np.max(animation_states[index, 0, 0, 0], axis = 0)\n",
    "        phi_2_array = np.mean(animation_states[index, 0, 1, 0], axis = 0)\n",
    "        phi_1dc_min_array = np.min(animation_states[index, 0, 2, 0], axis = 0)\n",
    "        phi_1dc_max_array = np.max(animation_states[index, 0, 2, 0], axis = 0)\n",
    "        phi_2dc_array = np.mean(animation_states[index, 0, 3, 0], axis = 0)\n",
    "            \n",
    "        \n",
    "        if _i == 0:\n",
    "            \n",
    "            potential_min_array = coupled_flux_qubit_non_linear_approx_pot(phi_1_array, phi_2_array, phi_1dc_min_array, phi_2dc_array, params_at_0)\n",
    "            _potetnial_min_plot = ax_flatten_2[_i].plot(phi_1_array, potential_min_array, c = particleInformation['pColor'][key], linestyle= \"--\")[0]\n",
    "            potential_min_plot_array[key] = _potetnial_min_plot\n",
    "        \n",
    "            potential_max_array = coupled_flux_qubit_non_linear_approx_pot(phi_1_array, phi_2_array, phi_1dc_max_array, phi_2dc_array, params_at_0)\n",
    "            _potetnial_max_plot = ax_flatten_2[_i].plot(phi_1_array, potential_max_array, c = particleInformation['pColor'][key])[0]\n",
    "            potential_max_plot_array[key] = _potetnial_max_plot\n",
    "            \n",
    "        if _i == 2:\n",
    "            potential_min_array = coupled_flux_qubit_non_linear_approx_pot(phi_1_min_array, phi_2_array, phi_1dc_array, phi_2dc_array, params_at_0)\n",
    "            _potetnial_min_plot = ax_flatten_2[_i].plot(phi_1dc_array, potential_min_array, c = particleInformation['pColor'][key], linestyle= \"--\")[0]\n",
    "            potential_min_1dc_plot_array[key] = _potetnial_min_plot\n",
    "        \n",
    "            potential_max_array = coupled_flux_qubit_non_linear_approx_pot(phi_1_max_array, phi_2_array, phi_1dc_array, phi_2dc_array, params_at_0)\n",
    "            _potetnial_max_plot = ax_flatten_2[_i].plot(phi_1dc_array, potential_max_array, c = particleInformation['pColor'][key])[0]\n",
    "            potential_max_1dc_plot_array[key] = _potetnial_max_plot\n",
    "        \n",
    "        \n",
    "def animate(i):\n",
    "    counter_1, counter_2 = 0, 0\n",
    "    _t = animation_time_array[i]\n",
    "    simResult['cfqr'].protocol.get_params(animation_time_array[i])\n",
    "    params_at_t_str = [f\"{key}: {value:.3g}\" for key, value in zip(simResult['cfqr'].protocol_key[-6:-1], simResult['cfqr'].protocol.get_params(animation_time_array[i])[-6:-1])]\n",
    "    fig.suptitle(f\"t = {animation_time_array[i]} + {params_at_t_str}\")\n",
    "    \n",
    "    for key, index in particle_index.items():\n",
    "        \n",
    "        for _i, (_x, _y) in enumerate(plot_axis_1):\n",
    "            scatter_array_1[counter_1].set_offsets(np.c_[animation_states[index, i, _x, 0], animation_states[index, i, _y, 0]])\n",
    "            counter_1 += 1\n",
    "\n",
    "        for _i in plot_axis_2:\n",
    "            potential_i = simResult['cfqr'].system.get_potential(animation_states[index, i, ...], animation_time_array[i])\n",
    "            scatter_array_2[counter_2].set_offsets(np.c_[animation_states[index, i, _i, 0], potential_i])\n",
    "\n",
    "            params_at_t = simResult['cfqr'].protocol.get_params(_t)\n",
    "            phi_1_min_array = np.min(animation_states[index, i, 0, 0], axis = 0)\n",
    "            phi_1_max_array = np.max(animation_states[index, i, 0, 0], axis = 0)\n",
    "            \n",
    "            phi_2_array = np.mean(animation_states[index, i, 1, 0], axis = 0)\n",
    "\n",
    "            phi_1dc_min_array = np.min(animation_states[index, i, 2, 0], axis = 0)\n",
    "            phi_1dc_max_array = np.max(animation_states[index, i, 2, 0], axis = 0)\n",
    "            \n",
    "            phi_2dc_array = np.mean(animation_states[index, i, 3, 0], axis = 0)\n",
    "            \n",
    "            if _i == 0:    \n",
    "                potential_min_array = coupled_flux_qubit_non_linear_approx_pot(phi_1_array, phi_2_array, phi_1dc_min_array, phi_2dc_array, params_at_t)\n",
    "                potential_min_plot_array[key].set_xdata(phi_1_array)\n",
    "                potential_min_plot_array[key].set_ydata(potential_min_array)\n",
    "                \n",
    "                potential_max_array = coupled_flux_qubit_non_linear_approx_pot(phi_1_array, phi_2_array, phi_1dc_max_array, phi_2dc_array, params_at_t)\n",
    "                potential_max_plot_array[key].set_xdata(phi_1_array)\n",
    "                potential_max_plot_array[key].set_ydata(potential_max_array)\n",
    "            \n",
    "            if _i == 2:\n",
    "                potential_min_array = coupled_flux_qubit_non_linear_approx_pot(phi_1_min_array, phi_2_array, phi_1dc_array, phi_2dc_array, params_at_t)\n",
    "                potential_min_1dc_plot_array[key].set_xdata(phi_1dc_array)\n",
    "                potential_min_1dc_plot_array[key].set_ydata(potential_min_array)\n",
    "                \n",
    "                potential_max_array = coupled_flux_qubit_non_linear_approx_pot(phi_1_max_array, phi_2_array, phi_1dc_array, phi_2dc_array, params_at_t)\n",
    "                potential_max_1dc_plot_array[key].set_xdata(phi_1dc_array)\n",
    "                potential_max_1dc_plot_array[key].set_ydata(potential_max_array)\n",
    "            \n",
    "            counter_2 += 1\n",
    "\n",
    "ani = FuncAnimation(fig, animate, interval=100, frames=len(animation_time_array))\n",
    "writer = animation.PillowWriter(fps=30, metadata=dict(artist='Me'), bitrate=1800)\n",
    "ani.save('scatter.gif', writer=writer)\n",
    "plt.close()"
   ]
  },
  {
   "cell_type": "code",
   "execution_count": null,
   "id": "42",
   "metadata": {},
   "outputs": [],
   "source": [
    "Image(filename=\"scatter.gif\")"
   ]
  },
  {
   "cell_type": "code",
   "execution_count": null,
   "id": "43",
   "metadata": {},
   "outputs": [],
   "source": [
    "protocol_list"
   ]
  },
  {
   "cell_type": "code",
   "execution_count": null,
   "id": "44",
   "metadata": {},
   "outputs": [],
   "source": [
    "animation_time_array[::10]"
   ]
  },
  {
   "cell_type": "code",
   "execution_count": null,
   "id": "45",
   "metadata": {},
   "outputs": [],
   "source": [
    "# import numpy as np\n",
    "# from mpl_toolkits.mplot3d import axes3d\n",
    "# import matplotlib.pyplot as plt\n",
    "\n",
    "# fig = plt.figure()\n",
    "# ax = fig.add_subplot(111, projection=\"3d\")\n",
    "# phi_1_array = np.linspace(-5, 5, 100)\n",
    "# phi_1dc_array = np.linspace(-5, 0, 100)\n",
    "# phi_2 = 3\n",
    "# phi_2dc = 0\n",
    "# Y, X = np.meshgrid(phi_1_array, phi_1dc_array)\n",
    "# Z = simResult['cfqr'].potential.potential(Y, phi_2, X, phi_2dc, params_at_t)\n",
    "# ax.plot_surface(X, Y, Z, cmap=\"autumn_r\", lw=0.5, rstride=1, cstride=1, alpha=0.5)\n",
    "# ax.contour(X, Y, Z, 10,  cmap=\"autumn_r\", linestyles=\"solid\", offset=-1)\n",
    "# ax.contour(X, Y, Z, 10, colors=\"k\", linestyles=\"solid\")\n",
    "# plt.show()\n"
   ]
  },
  {
   "cell_type": "code",
   "execution_count": null,
   "id": "46",
   "metadata": {},
   "outputs": [],
   "source": []
  },
  {
   "cell_type": "code",
   "execution_count": null,
   "id": "47",
   "metadata": {},
   "outputs": [],
   "source": []
  },
  {
   "cell_type": "code",
   "execution_count": null,
   "id": "48",
   "metadata": {},
   "outputs": [],
   "source": [
    "frame_skip = 250\n",
    "targetTimeArray = protocol_all_time_array[simResult['cfqr'].sim.target_step_index]\n",
    "animation_time_array = targetTimeArray[::frame_skip]\n",
    "animation_states = all_states[:, ::frame_skip, ...]\n",
    "\n",
    "index = particle_index['01']\n",
    "phi_1dc_array = np.linspace(-3, -2.5, 20)\n",
    "phi_1_array = np.linspace(-4, 4, 1000)\n",
    "phi_2 = 3\n",
    "phi_2dc = 0\n",
    "# phi_1dc_array = np.linspace(-4, 4, 100)\n",
    "\n",
    "params_list_used = simResult['cfqr'].protocol.get_params(0)\n",
    "for x in [-2.0, -2.5, -2.6, -2.7]:\n",
    "    fig = plt.figure(figsize= [10, 5])\n",
    "    ax_0 = fig.add_subplot(1, 2, 1, projection='3d')\n",
    "    ax_1 = fig.add_subplot(1, 2, 2)\n",
    "\n",
    "    params_list_used[8] = -0.02 # phi_1x\n",
    "    params_list_used[9] = 0.0 # phi_2x\"\n",
    "    params_list_used[10] = x # phi_1xdc\n",
    "    params_list_used[11] = 0 # phi_2xdc\n",
    "    params_list_used[12] = 0.08 # mu\n",
    "    params_at_t_str = [f\"{key}: {value:.3g}\" for key, value in zip(simResult['cfqr'].protocol_key[-6:-1], params_list_used[-6:-1])]\n",
    "    fig.suptitle(f\"phi_1xdc = {x}\") \n",
    "    \n",
    "    potential_min = []\n",
    "    for _phi_1dc in phi_1dc_array:\n",
    "        potential = simResult['cfqr'].potential.potential(phi_1_array, phi_2, _phi_1dc, phi_2dc, params_list_used)\n",
    "        ax_0.plot(phi_1_array, np.full(len(phi_1_array), fill_value=_phi_1dc), potential, label = f\"{_phi_1dc:.3g}\")\n",
    "        ax_1.plot(phi_1_array, potential, label = f\"phi_1dc = {_phi_1dc:.3g}\")\n",
    "        potential_min.append(min(potential))\n",
    "    ax_0.set_xlim(-4, 4)\n",
    "    # ax_0.set_zlim(min(potential_min) - 100, min(potential_min)+1000)\n",
    "    # ax_1.set_ylim(-1400, -1000)\n",
    "    # ax_1.legend()\n",
    "    plt.show()"
   ]
  },
  {
   "cell_type": "code",
   "execution_count": null,
   "id": "49",
   "metadata": {},
   "outputs": [],
   "source": []
  },
  {
   "cell_type": "code",
   "execution_count": null,
   "id": "50",
   "metadata": {},
   "outputs": [],
   "source": []
  },
  {
   "cell_type": "code",
   "execution_count": null,
   "id": "51",
   "metadata": {},
   "outputs": [],
   "source": []
  },
  {
   "cell_type": "code",
   "execution_count": null,
   "id": "52",
   "metadata": {},
   "outputs": [],
   "source": [
    "simResult['cfqr'].protocol_key"
   ]
  },
  {
   "cell_type": "code",
   "execution_count": null,
   "id": "53",
   "metadata": {},
   "outputs": [],
   "source": [
    "potential.shape"
   ]
  },
  {
   "cell_type": "code",
   "execution_count": null,
   "id": "54",
   "metadata": {},
   "outputs": [],
   "source": [
    "import matplotlib.pylab as pl\n",
    "from mpl_toolkits.mplot3d import Axes3D\n",
    "import numpy as np\n",
    "\n",
    "x   = np.linspace(1,5,100)\n",
    "y1  = np.ones(x.size)\n",
    "y2  = np.ones(x.size)*2\n",
    "y3  = np.ones(x.size)*3\n",
    "z   = np.sin(x/2)\n",
    "\n",
    "pl.figure()\n",
    "ax = pl.subplot(projection='3d')\n",
    "ax.plot(x, y1, z, color='r')\n",
    "ax.plot(x, y2, z, color='g')\n",
    "ax.plot(x, y3, z, color='b')\n",
    "ax.set_xlabel('Day')\n",
    "ax.set_zlabel('Resistance (%)')"
   ]
  },
  {
   "cell_type": "code",
   "execution_count": null,
   "id": "55",
   "metadata": {},
   "outputs": [],
   "source": []
  },
  {
   "cell_type": "code",
   "execution_count": null,
   "id": "56",
   "metadata": {},
   "outputs": [],
   "source": [
    "frame_skip = 250\n",
    "targetTimeArray = protocol_all_time_array[simResult['cfqr'].sim.target_step_index]\n",
    "animation_time_array = targetTimeArray[::frame_skip]\n",
    "animation_states = all_states[:, ::frame_skip, ...]\n",
    "\n",
    "# fig, ax = plt.subplots(1, 2, figsize = [10, 5])\n",
    "\n",
    "# ax[0].set_xlim(-4, 4)\n",
    "# ax[0].set_xlabel(\"phi_1\")\n",
    "# ax[0].set_ylabel(\"PE\")    \n",
    "\n",
    "scatter_array_1 = []\n",
    "scatter_array_2 = []\n",
    "potential_plot_array = []\n",
    "\n",
    "index = particle_index['01']\n",
    "phi_1dc_array = np.linspace(-3, 0, 20)\n",
    "# phi_1_array = np.linspace(-4, 4, 100)\n",
    "# phi_1dc_array = np.linspace(-4, 4, 100)\n",
    "\n",
    "\n",
    "for _i, _t in enumerate(animation_time_array):\n",
    "    params_at_t = simResult['cfqr'].protocol.get_params(_t)\n",
    "    params_at_t_str = [f\"{key}: {value:.3g}\" for key, value in zip(simResult['cfqr'].protocol_key[-6:-1], simResult['cfqr'].protocol.get_params(_t)[-6:-1])]\n",
    "    plt.title(f\"t = {_t} + {params_at_t_str}\")    \n",
    "    \n",
    "    for _phi_1dc in phi_1dc_array[0:5]:\n",
    "        _phi_2 = np.mean(animation_states[index, _i, 1, 0], axis = 0)\n",
    "        _phi_2dc = np.mean(animation_states[index, _i, 3, 0], axis = 0)\n",
    "        potential = simResult['cfqr'].potential.potential(phi_1_array, _phi_2, _phi_1dc, _phi_2dc, params_at_t)\n",
    "        # potential_plot_array[key].plot(phi_1_array, potential_array, c = particleInformation['pColor'][key])\n",
    "        plt.plot(phi_1_array, potential, label = f\"{_phi_1dc:.3g}\")\n",
    "    plt.legend()\n",
    "    plt.show()\n",
    "# def animate(i):\n",
    "#     _t = animation_time_array[i]\n",
    "#     simResult['cfqr'].protocol.get_params(animation_time_array[i])\n",
    "#     params_at_t_str = [f\"{key}: {value:.3g}\" for key, value in zip(simResult['cfqr'].protocol_key[-6:-1], simResult['cfqr'].protocol.get_params(animation_time_array[i])[-6:-1])]\n",
    "#     plt.title(f\"t = {animation_time_array[i]} + {params_at_t_str}\")    \n",
    "    \n",
    "#     for _phi_1dc, _plot in zip(phi_1dc_array, potential_plot_array):\n",
    "#         params_at_t = simResult['cfqr'].protocol.get_params(_t)\n",
    "#         _phi_1dc = np.mean(animation_states[index, i, 1, 0], axis = 0)\n",
    "#         _phi_2dc = np.mean(animation_states[index, i, 3, 0], axis = 0)\n",
    "#         potential = simResult['cfqr'].potential.potential(phi_1_array, _phi_1dc, _phi_2, _phi_2dc, params_at_t)\n",
    "#         # potential_plot_array[key].plot(phi_1_array, potential_array, c = particleInformation['pColor'][key])\n",
    "#         _plot.set_xdata(phi_1_array)\n",
    "#         _plot.set_ydata(potential)\n",
    "\n",
    "        \n",
    "\n",
    "# ani = FuncAnimation(fig, animate, interval=100, frames=len(animation_time_array))\n",
    "# writer = animation.PillowWriter(fps=30, metadata=dict(artist='Me'), bitrate=1800)\n",
    "# ani.save('scatter.gif', writer=writer)\n",
    "# plt.close()"
   ]
  },
  {
   "cell_type": "code",
   "execution_count": null,
   "id": "57",
   "metadata": {},
   "outputs": [],
   "source": []
  },
  {
   "cell_type": "code",
   "execution_count": null,
   "id": "58",
   "metadata": {},
   "outputs": [],
   "source": []
  },
  {
   "cell_type": "code",
   "execution_count": null,
   "id": "59",
   "metadata": {},
   "outputs": [],
   "source": []
  },
  {
   "cell_type": "markdown",
   "id": "60",
   "metadata": {},
   "source": [
    "# sim Results"
   ]
  },
  {
   "cell_type": "markdown",
   "id": "61",
   "metadata": {},
   "source": [
    "### fidelity"
   ]
  },
  {
   "cell_type": "code",
   "execution_count": null,
   "id": "62",
   "metadata": {},
   "outputs": [],
   "source": [
    "import sys, importlib\n",
    "# importlib.reload(sys.modules['edward_tools.jupyter_helper_function'])\n",
    "from edward_tools.jupyter_helper_function import work_analysis, KE_analysis, single_particle_analysis, fidelity_analysis, work_done_of_each_type\n",
    "fidelity_analysis(simResult, params, initial_parameter_dict, protocol_list)\n",
    "print(simResult['simulation_data']['pickle_save_path'])"
   ]
  },
  {
   "cell_type": "code",
   "execution_count": null,
   "id": "63",
   "metadata": {},
   "outputs": [],
   "source": []
  },
  {
   "cell_type": "markdown",
   "id": "64",
   "metadata": {},
   "source": [
    "# work done of each type"
   ]
  },
  {
   "cell_type": "code",
   "execution_count": null,
   "id": "65",
   "metadata": {},
   "outputs": [],
   "source": [
    "work_done_of_each_type(simResult)"
   ]
  },
  {
   "cell_type": "code",
   "execution_count": null,
   "id": "66",
   "metadata": {},
   "outputs": [],
   "source": []
  },
  {
   "cell_type": "code",
   "execution_count": null,
   "id": "67",
   "metadata": {},
   "outputs": [],
   "source": []
  },
  {
   "cell_type": "code",
   "execution_count": null,
   "id": "68",
   "metadata": {},
   "outputs": [],
   "source": []
  },
  {
   "cell_type": "markdown",
   "id": "69",
   "metadata": {},
   "source": [
    "# work analysis"
   ]
  },
  {
   "cell_type": "code",
   "execution_count": null,
   "id": "70",
   "metadata": {},
   "outputs": [],
   "source": [
    "# work_analysis(simResult, params, protocol_list)"
   ]
  },
  {
   "cell_type": "code",
   "execution_count": null,
   "id": "71",
   "metadata": {},
   "outputs": [],
   "source": []
  },
  {
   "cell_type": "markdown",
   "id": "72",
   "metadata": {},
   "source": [
    "### animation"
   ]
  },
  {
   "cell_type": "code",
   "execution_count": null,
   "id": "73",
   "metadata": {},
   "outputs": [],
   "source": [
    "\n",
    "importlib.reload(coupled_fq_protocol_library)"
   ]
  },
  {
   "cell_type": "code",
   "execution_count": null,
   "id": "74",
   "metadata": {},
   "outputs": [],
   "source": [
    "def cutlineDataGeneratingFunction(initial_parameter_dict, direction = 'v', color = 'red', guess = [(-2, -2)]):\n",
    "    coord_index = 0 if direction == \"v\" else 1\n",
    "    def tracking_minimum_point(_t):\n",
    "        return  [cfqr.get_minimum_at_t_for_a_set_of_parameter(_t, initial_parameter_dict, guess = guess)[0][coord_index], direction, color]\n",
    "    return tracking_minimum_point"
   ]
  },
  {
   "cell_type": "code",
   "execution_count": null,
   "id": "75",
   "metadata": {
    "tags": []
   },
   "outputs": [],
   "source": [
    "pColor = {\"00\": \"#061DF7\", \"01\": \"red\", \"10\": \"#3FC7F2\", \"11\": \"#F187F4\"}\n",
    "\n",
    "if L_factor == 1:\n",
    "    graph_setting = {\n",
    "        0.1: {\"vmin\": 1000, \"vmax\": 2000, \"ymin\": 1000, \"ymax\": 3000},\n",
    "        0.5: {\"vmin\": 100, \"vmax\": 400, \"ymin\": 100, \"ymax\": 400},\n",
    "        1: {\"vmin\": 100, \"vmax\": 400, \"ymin\": 100, \"ymax\": 400},\n",
    "        2: {\"vmin\": 50, \"vmax\": 250, \"ymin\": 50, \"ymax\": 250},    \n",
    "        4.2: {\"vmin\": 600, \"vmax\": 2000, \"ymin\": 600, \"ymax\": 3000},\n",
    "        5: {\"vmin\": 0, \"vmax\": 100, \"ymin\": 0, \"ymax\": 150},\n",
    "        7: {\"vmin\": 0, \"vmax\": 100, \"ymin\": 0, \"ymax\": 150},\n",
    "        20: {\"vmin\": 0, \"vmax\": 20, \"ymin\": 0, \"ymax\": 20},\n",
    "        100: {\"vmin\": 0, \"vmax\": 20, \"ymin\": 0, \"ymax\": 20},\n",
    "        1000: {\"vmin\": 0, \"vmax\": 1, \"ymin\": 0, \"ymax\": 1},\n",
    "    }\n",
    "\n",
    "if L_factor == 1.5:\n",
    "    graph_setting = {\n",
    "        0.1: {\"vmin\": 300, \"vmax\": 2000, \"ymin\": 300, \"ymax\": 2000},\n",
    "    }\n",
    "\n",
    "    \n",
    "if L_factor == 5:\n",
    "    graph_setting = {\n",
    "        0.1: {\"vmin\": -1500, \"vmax\": 800, \"ymin\": -1500, \"ymax\": 800},\n",
    "    }\n",
    "\n",
    "if L_1 <=6e-11:\n",
    "     graph_setting = {\n",
    "        4.2: {\"vmin\": 500, \"vmax\": 3000, \"ymin\": 500, \"ymax\": 3000},\n",
    "    }"
   ]
  },
  {
   "cell_type": "code",
   "execution_count": null,
   "id": "76",
   "metadata": {},
   "outputs": [],
   "source": []
  },
  {
   "cell_type": "code",
   "execution_count": null,
   "id": "77",
   "metadata": {},
   "outputs": [],
   "source": [
    "import sys, importlib\n",
    "importlib.reload(sys.modules['edward_tools.coupled_fq_protocol_library'])\n",
    "# from edward_tools.coupled_fq_protocol_library import work_analysis, KE_analysis, single_particle_analysis"
   ]
  },
  {
   "cell_type": "markdown",
   "id": "78",
   "metadata": {},
   "source": [
    "### without cutlineGeneratingFunction"
   ]
  },
  {
   "cell_type": "code",
   "execution_count": null,
   "id": "79",
   "metadata": {},
   "outputs": [],
   "source": [
    "contourData = {\n",
    "    \"manual_domain\": [np.array([-5, -5]), np.array([5, 5])],\n",
    "    \"contour_range\": [-2000, 2000], \"domain_limit\": [-4, 4],\n",
    "    \"title\": None\n",
    "}\n",
    "\n",
    "cutlineInformation = {\n",
    "    \"cutlineList\": [(3, \"h\",\"red\")],\n",
    "    \"cutlineGeneratingFunction\": None,\n",
    "    \"cutlineXLimit\": [-4,4],\n",
    "    \"cutlineYLimit\": [-3000, 0]\n",
    "}\n",
    "\n",
    "particleInformation = {\n",
    "    \"showParticles\": True,\n",
    "    \"project_item\": [\"11\", \"01\"],\n",
    "    \"project_axis\": \"phi_1\",\n",
    "    \"particle_opacity\": 0.5,\n",
    "    \"pColor\": {\"00\": \"#061DF7\", \"01\": \"red\", \"10\": \"#3FC7F2\", \"11\": \"#F187F4\"}\n",
    "}\n",
    "\n"
   ]
  },
  {
   "cell_type": "code",
   "execution_count": null,
   "id": "80",
   "metadata": {},
   "outputs": [],
   "source": [
    "import importlib"
   ]
  },
  {
   "cell_type": "code",
   "execution_count": null,
   "id": "81",
   "metadata": {},
   "outputs": [],
   "source": [
    "importlib.reload(coupled_fq_protocol_library)"
   ]
  },
  {
   "cell_type": "code",
   "execution_count": null,
   "id": "82",
   "metadata": {},
   "outputs": [],
   "source": []
  },
  {
   "cell_type": "code",
   "execution_count": null,
   "id": "83",
   "metadata": {},
   "outputs": [],
   "source": [
    "simResult[\"cfqr\"].getReducedTimeArray()"
   ]
  },
  {
   "cell_type": "code",
   "execution_count": null,
   "id": "84",
   "metadata": {},
   "outputs": [],
   "source": [
    "all_state = simResult['cfqr'].sim.output.all_state['states']\n",
    "animation_play = True\n",
    "# animation_play = False\n",
    "if animation_play:\n",
    "    frame_skip = 50\n",
    "    targetTimeArray = protocol_all_time_array[simResult['cfqr'].sim.target_step_index]\n",
    "    animation_time_array = targetTimeArray[::frame_skip]\n",
    "    animation_states = all_state[:, ::frame_skip, ...]\n",
    "    print(\"geenerated at \", datetime.datetime.now())\n",
    "\n",
    "    \n",
    "    ani, fig, ax = coupled_fq_protocol_library.animate_sim_flux_qubit_with_cutline_and_projection(simResult['cfqr'], time_array=animation_time_array, \n",
    "                state_array = animation_states, plot_axis= [0,2], ax0_title = f\"T = {T}K, L = {L_1 * 1e12}pH\", params=params, cutlineGeneratingFunction = False, \n",
    "                cutlineInformation = cutlineInformation, particleInformation = particleInformation, contourData = contourData,\n",
    "                pColor=pColor, contour_range = [0, 500], cutlineXLimit=[-4, 4], cutlineYLimit=[0, 500])\n",
    "    fig.tight_layout()\n",
    "    writer = animation.PillowWriter(fps=10, metadata=dict(artist='Me'), bitrate=1800)\n",
    "    ani.save('scatter.gif', writer=writer)\n",
    "    plt.close()\n",
    "    \n"
   ]
  },
  {
   "cell_type": "code",
   "execution_count": null,
   "id": "85",
   "metadata": {},
   "outputs": [],
   "source": [
    "Image(filename=\"scatter.gif\")"
   ]
  },
  {
   "cell_type": "code",
   "execution_count": null,
   "id": "86",
   "metadata": {},
   "outputs": [],
   "source": []
  },
  {
   "cell_type": "code",
   "execution_count": null,
   "id": "87",
   "metadata": {},
   "outputs": [],
   "source": []
  },
  {
   "cell_type": "code",
   "execution_count": null,
   "id": "88",
   "metadata": {},
   "outputs": [],
   "source": []
  },
  {
   "cell_type": "code",
   "execution_count": null,
   "id": "89",
   "metadata": {},
   "outputs": [],
   "source": []
  },
  {
   "cell_type": "code",
   "execution_count": null,
   "id": "90",
   "metadata": {},
   "outputs": [],
   "source": []
  },
  {
   "cell_type": "code",
   "execution_count": null,
   "id": "91",
   "metadata": {},
   "outputs": [],
   "source": [
    "import sys, importlib\n",
    "importlib.reload(sys.modules['edward_tools.coupled_fq_protocol_library'])\n",
    "# from edward_tools.coupled_fq_protocol_library import work_analysis, KE_analysis, single_particle_analysis\n",
    "animation_play = True\n",
    "# animation_play = False\n",
    "# contourData = {\n",
    "#     \"manual_domain\": [np.array([-4, -4]), np.array([4, 4])],\n",
    "#     \"contour_range\": [350, 1500], \"domain_limit\": [-3, 3],\n",
    "#     \"title\": None\n",
    "# }\n",
    "contourData = {\n",
    "    \"manual_domain\": [np.array([-4, -4]), np.array([4, 4])],\n",
    "    \"contour_range\": [700, 1800], \"domain_limit\": [-3, 3],\n",
    "    \"title\": None\n",
    "}\n",
    "\n",
    "cutlineInformation = {\n",
    "    \"cutlineList\": [(2.3, \"v\",\"red\")],\n",
    "    \"cutlineGeneratingFunction\": None,\n",
    "    \"cutlineXLimit\": [-4,4],\n",
    "    \"cutlineYLimit\": [200, 1700]\n",
    "}\n",
    "\n",
    "particleInformation = {\n",
    "    \"showParticles\": True,\n",
    "    \"project_item\": [\"10\", \"11\"],\n",
    "    \"particle_opacity\": 0.5,\n",
    "    \"pColor\": {\"00\": \"#061DF7\", \"01\": \"red\", \"10\": \"#3FC7F2\", \"11\": \"#F187F4\"}\n",
    "}\n"
   ]
  },
  {
   "cell_type": "code",
   "execution_count": null,
   "id": "92",
   "metadata": {},
   "outputs": [],
   "source": [
    "\n",
    "animation_play = True\n",
    "# animation_play = False\n",
    "if animation_play:\n",
    "    frame_skip = 20\n",
    "    targetTimeArray = protocol_all_time_array[simResult['cfqr'].sim.target_step_index]\n",
    "    animation_time_array = targetTimeArray[::frame_skip]\n",
    "    animation_states = all_state[:, ::frame_skip, ...]\n",
    "    print(\"geenerated at \", datetime.datetime.now())\n",
    "\n",
    "    \n",
    "    ani, fig, ax = coupled_fq_protocol_library.animate_sim_flux_qubit_with_cutline_and_projection(simResult['cfqr'], time_array=animation_time_array, state_array = animation_states, plot_axis= [0,1],\n",
    "                                                                                   vmin=graph_setting[T]['vmin'], vmax=graph_setting[T]['vmax'], ax0_title = f\"T = {T}K, L = {L_1 * 1e12}pH\",\n",
    "                                                                                   params=params, cutlineGeneratingFunction = False, \n",
    "                                                                                   cutlineInformation = cutlineInformation, particleInformation = particleInformation, contourData = contourData,\n",
    "                                                                                   pColor=pColor, contour_range = [0, 500], cutlineXLimit=[-4, 4], cutlineYLimit=[0, 500])\n",
    "    fig.tight_layout()\n",
    "    writer = animation.PillowWriter(fps=10, metadata=dict(artist='Me'), bitrate=1800)\n",
    "    ani.save('scatter.gif', writer=writer)\n",
    "    plt.close()\n",
    "    \n"
   ]
  },
  {
   "cell_type": "code",
   "execution_count": null,
   "id": "93",
   "metadata": {},
   "outputs": [],
   "source": [
    "Image(filename=\"scatter.gif\")"
   ]
  },
  {
   "cell_type": "code",
   "execution_count": null,
   "id": "94",
   "metadata": {},
   "outputs": [],
   "source": []
  },
  {
   "cell_type": "markdown",
   "id": "95",
   "metadata": {},
   "source": [
    "### with cutlineGeneratingFunction"
   ]
  },
  {
   "cell_type": "code",
   "execution_count": null,
   "id": "96",
   "metadata": {},
   "outputs": [],
   "source": [
    "animation_play = True\n",
    "# animation_play = False\n",
    "if animation_play:\n",
    "\n",
    "    frame_skip = int(1/50 * 1/params['dt'])\n",
    "    print(\"geenerated at \", datetime.datetime.now())\n",
    "    targetTimeArray = protocol_all_time_array[simResult['cfqr'].sim.target_step_index]\n",
    "    ani, fig, ax = coupled_fq_protocol_library.animate_sim_flux_qubit_with_cutline_and_projection(simResult['cfqr'], time_array=targetTimeArray, frame_skip = frame_skip, plot_axis= [0,1],\n",
    "                                                                                   vmin=graph_setting[T]['vmin'], vmax=graph_setting[T]['vmax'], ax0_title = f\"T = {T}K, L = {L_1 * 1e12}pH\",\n",
    "                                                                                   params=params, cutlineGeneratingFunction = cutlineDataGeneratingFunction(initial_parameter_dict),\n",
    "                                                                                   pColor=pColor, contour_range = [0, 500], cutlineXLimit=[-4, 4], cutlineYLimit=[0, 500])\n",
    "    fig.tight_layout()\n",
    "    writer = animation.PillowWriter(fps=15, metadata=dict(artist='Me'), bitrate=1800)\n",
    "    ani.save('scatter.gif', writer=writer)\n",
    "    Image(filename=\"scatter.gif\")"
   ]
  },
  {
   "cell_type": "code",
   "execution_count": null,
   "id": "97",
   "metadata": {},
   "outputs": [],
   "source": []
  },
  {
   "cell_type": "markdown",
   "id": "98",
   "metadata": {},
   "source": [
    "### save data analysis"
   ]
  },
  {
   "cell_type": "code",
   "execution_count": null,
   "id": "99",
   "metadata": {},
   "outputs": [],
   "source": []
  },
  {
   "cell_type": "code",
   "execution_count": null,
   "id": "100",
   "metadata": {},
   "outputs": [],
   "source": [
    "print(f\"current comment: {params['comment']}\")\n",
    "response = input(\"Are you happy with the current comment? If not, give me a new comment.\")\n",
    "if response == \"y\":\n",
    "    pass\n",
    "else:\n",
    "    params['comment'] = response"
   ]
  },
  {
   "cell_type": "code",
   "execution_count": null,
   "id": "101",
   "metadata": {},
   "outputs": [],
   "source": [
    "simResult['error_rate_array']"
   ]
  },
  {
   "cell_type": "code",
   "execution_count": null,
   "id": "102",
   "metadata": {},
   "outputs": [],
   "source": [
    "importlib.reload(sys.modules['edward_tools.cfq_batch_sweep'])"
   ]
  },
  {
   "cell_type": "code",
   "execution_count": null,
   "id": "103",
   "metadata": {},
   "outputs": [],
   "source": [
    "cfq_batch_sweep.saveSimulationResult(simResult, U0_1, timeOrStep = 'step', save = True, save_final_state = False, saveFolderPath = \"coupled_flux_qubit_protocol/coupled_flux_qubit_data_gallery\", save_all_state = False)"
   ]
  },
  {
   "cell_type": "code",
   "execution_count": null,
   "id": "104",
   "metadata": {},
   "outputs": [],
   "source": []
  },
  {
   "cell_type": "markdown",
   "id": "105",
   "metadata": {},
   "source": [
    "# save state"
   ]
  },
  {
   "cell_type": "code",
   "execution_count": null,
   "id": "106",
   "metadata": {},
   "outputs": [],
   "source": [
    "target_state = all_states[:,106, ...]\n",
    "plt.scatter(target_state[..., 0, 0], target_state[..., 1, 0])"
   ]
  },
  {
   "cell_type": "code",
   "execution_count": null,
   "id": "107",
   "metadata": {},
   "outputs": [],
   "source": [
    "state_name = \"just_before_KEP_N_1000.npy\"\n",
    "np.save(\"saved_init_state/\" + state_name, target_state)"
   ]
  },
  {
   "cell_type": "code",
   "execution_count": null,
   "id": "108",
   "metadata": {},
   "outputs": [],
   "source": []
  },
  {
   "cell_type": "code",
   "execution_count": null,
   "id": "109",
   "metadata": {},
   "outputs": [],
   "source": []
  },
  {
   "cell_type": "markdown",
   "id": "110",
   "metadata": {},
   "source": [
    "# save pickle"
   ]
  },
  {
   "cell_type": "code",
   "execution_count": null,
   "id": "111",
   "metadata": {},
   "outputs": [],
   "source": []
  },
  {
   "cell_type": "code",
   "execution_count": null,
   "id": "112",
   "metadata": {},
   "outputs": [],
   "source": [
    "experiment_label = \"Experiment 8 (2025-1-27)\" "
   ]
  },
  {
   "cell_type": "code",
   "execution_count": null,
   "id": "113",
   "metadata": {},
   "outputs": [],
   "source": [
    "with open(f'coupled_flux_qubit_protocol/simulation_protocol_history/{experiment_label}.pickle', \"rb\") as f:\n",
    "    k = pickle.load(f)"
   ]
  },
  {
   "cell_type": "code",
   "execution_count": null,
   "id": "114",
   "metadata": {},
   "outputs": [],
   "source": [
    "k['params']['comment']"
   ]
  },
  {
   "cell_type": "code",
   "execution_count": null,
   "id": "115",
   "metadata": {},
   "outputs": [],
   "source": []
  },
  {
   "cell_type": "code",
   "execution_count": null,
   "id": "116",
   "metadata": {},
   "outputs": [],
   "source": [
    "export_cfqr_params = params['circuit_parameters']\n",
    "\n",
    "export_params = params\n",
    "export_params['comment'] = f\"{experiment_label}: To study the trade-off between speed and work done, and also speed and fidelity CE_t_factor = 10\"\n",
    "\n",
    "\n",
    "export_object = {\n",
    "    \"cfqr_params\": export_cfqr_params,\n",
    "    \"params\": export_params,\n",
    "    \"initial_external_parameter_dict\": initial_parameter_dict,\n",
    "    \"protocol_list\": protocol_list,\n",
    "    \"manual_domain\": [np.array([-5, -5]), np.array([5, 5])]\n",
    "}\n",
    "    \n",
    "\n",
    "print(export_params['comment'])\n",
    "print(simResult['simulation_data']['simulation_id'])"
   ]
  },
  {
   "cell_type": "code",
   "execution_count": null,
   "id": "117",
   "metadata": {},
   "outputs": [],
   "source": [
    "pickle_file_path = os.path.join(\"coupled_flux_qubit_protocol\", \"simulation_protocol_history\", f\"{experiment_label}.pickle\")\n",
    "\n",
    "with open(pickle_file_path, \"wb\") as f:\n",
    "    pickle.dump(export_object, f)"
   ]
  },
  {
   "cell_type": "code",
   "execution_count": null,
   "id": "118",
   "metadata": {},
   "outputs": [],
   "source": []
  },
  {
   "cell_type": "code",
   "execution_count": null,
   "id": "119",
   "metadata": {},
   "outputs": [],
   "source": []
  },
  {
   "cell_type": "code",
   "execution_count": null,
   "id": "120",
   "metadata": {},
   "outputs": [],
   "source": []
  },
  {
   "cell_type": "code",
   "execution_count": null,
   "id": "121",
   "metadata": {},
   "outputs": [],
   "source": [
    "# modify pickle"
   ]
  },
  {
   "cell_type": "code",
   "execution_count": null,
   "id": "122",
   "metadata": {},
   "outputs": [],
   "source": [
    "modify_item = [(0, 200), (40, 160), (80, 120), (120, 80), (160, 40), (200, 0)]"
   ]
  },
  {
   "cell_type": "code",
   "execution_count": null,
   "id": "123",
   "metadata": {},
   "outputs": [],
   "source": [
    "import copy\n"
   ]
  },
  {
   "cell_type": "code",
   "execution_count": null,
   "id": "124",
   "metadata": {},
   "outputs": [],
   "source": [
    "k_array = []"
   ]
  },
  {
   "cell_type": "code",
   "execution_count": null,
   "id": "125",
   "metadata": {},
   "outputs": [],
   "source": [
    "for _i, (t_1, t_2) in enumerate(modify_item):\n",
    "    k_template = copy.deepcopy(k)\n",
    "\n",
    "        \n",
    "    k_template['protocol_list'][1]['duration'] = t_1\n",
    "    k_template['protocol_list'][2]['duration'] = t_2\n",
    "    \n",
    "    if t_1 == 0:\n",
    "        k_template['protocol_list'].pop(1)\n",
    "    if t_2 == 0:\n",
    "        k_template['protocol_list'].pop(2)\n",
    "    k_array.append(k_template)\n",
    "    \n",
    "    pickle_file_path = os.path.join(\"coupled_flux_qubit_protocol\", \"simulation_protocol_history\", f\"{experiment_label}_series_{_i}.pickle\")\n",
    "\n",
    "    with open(pickle_file_path, \"wb\") as f:\n",
    "        pickle.dump(k_template, f)\n",
    "    "
   ]
  },
  {
   "cell_type": "code",
   "execution_count": null,
   "id": "126",
   "metadata": {},
   "outputs": [],
   "source": [
    "for x in k_array:\n",
    "    print(x['protocol_list'])"
   ]
  },
  {
   "cell_type": "code",
   "execution_count": null,
   "id": "127",
   "metadata": {},
   "outputs": [],
   "source": [
    "pickle_prefix = \"Experiment 1 (2024-11-12)_series_\"\n",
    "# pickle_prefix = \"Experiment 1 (2024-10-27)\"\n",
    "print(pickle_prefix)\n",
    "comment = f\"Experiment 1 (2024-11-12) CE operation, with R = 300Ω and various ratio of the KE protocol\"\n",
    "param_dt = 1/100\n",
    "loopTime = 100\n",
    "protocol_type = \"CE\"\n",
    "\n",
    "\n",
    "\n",
    "\n",
    "\n",
    "\n",
    "####################\n",
    "# no need to change the following \n",
    "####################\n",
    "\n",
    "pickle_file_base_folder = \"coupled_flux_qubit_protocol/simulation_protocol_history\"\n",
    "\n",
    "all_pickle_file = os.listdir(pickle_file_base_folder)\n",
    "target_pickle_file_list = [os.path.join(pickle_file_base_folder, p) for p in all_pickle_file if pickle_prefix in p]\n"
   ]
  },
  {
   "cell_type": "code",
   "execution_count": null,
   "id": "128",
   "metadata": {},
   "outputs": [],
   "source": [
    "target_pickle_file_list"
   ]
  },
  {
   "cell_type": "code",
   "execution_count": null,
   "id": "129",
   "metadata": {},
   "outputs": [],
   "source": [
    "particle_index = 0\n",
    "particle_category = \"00\"\n",
    "time_range = None\n",
    "\n",
    "index_choice = simResult['cfqr'].getIndexOfParticles()[\"00\"]\n",
    "all_states = simResult['cfqr'].sim.output.all_state['states']\n",
    "all_states_00_i1 = all_states[index_choice][particle_index, ...]"
   ]
  },
  {
   "cell_type": "code",
   "execution_count": null,
   "id": "130",
   "metadata": {},
   "outputs": [],
   "source": [
    "_, _, protocol_time_array, protocol_time_index_array = simResult['cfqr'].createProtocolTimeArray(protocol_list, params)\n",
    "\n",
    "protocol_all_time_index_array = np.array(range(0, int(np.array(protocol_time_array[-1]) / params['dt']) + 1))\n",
    "protocol_all_time_array  = protocol_all_time_index_array * params['dt']\n",
    "\n"
   ]
  },
  {
   "cell_type": "code",
   "execution_count": null,
   "id": "131",
   "metadata": {},
   "outputs": [],
   "source": [
    "reduced_protocal_time_array = simResult['cfqr'].getKeyTime()\n",
    "KE_of_the_particle = simResult['cfqr'].system.get_kinetic_energy(all_states_00_i1)\n",
    "PE_of_the_particle = [simResult['cfqr'].system.get_potential(_s, _t ) for _t, _s in  zip(reduced_protocal_time_array, all_states_00_i1)]\n",
    "WD_of_the_particle = simResult['cfqr'].sim.work_dist_time_array_whole_process[index_choice][particle_index]"
   ]
  },
  {
   "cell_type": "code",
   "execution_count": null,
   "id": "132",
   "metadata": {},
   "outputs": [],
   "source": [
    "keyState_choosen_particle = [ s[index_choice][particle_index, ...] for s in simResult['cfqr'].sim.keyStep_all_states]\n",
    "total_energy = PE_of_the_particle - min(PE_of_the_particle) + KE_of_the_particle\n",
    "adjusted_PE = PE_of_the_particle - PE_of_the_particle[0]\n",
    "adjusted_total_energy = adjusted_PE + KE_of_the_particle\n",
    "characteristic_t = np.sqrt(params['circuit_parameters']['L_1'] * params['circuit_parameters']['L_factor'] * params['circuit_parameters']['C_1'] * params['circuit_parameters']['C_factor'])\n"
   ]
  },
  {
   "cell_type": "code",
   "execution_count": null,
   "id": "133",
   "metadata": {},
   "outputs": [],
   "source": [
    "reduced_protocal_time_array"
   ]
  },
  {
   "cell_type": "code",
   "execution_count": null,
   "id": "134",
   "metadata": {},
   "outputs": [],
   "source": [
    "def search_protocol_time_array_index(array, start, end):\n",
    "    x = np.sort(np.append(array, start))\n",
    "    y = np.sort(np.append(array, end))\n",
    "    \n",
    "    start_index = np.where(x == start)[0][0]\n",
    "    if start != round(array[start_index]):\n",
    "        start_index += 1\n",
    "    \n",
    "    \n",
    "    final_index = np.where(y == end)[0][0] \n",
    "    if end != round(array[final_index]):\n",
    "        final_index -= 1\n",
    "\n",
    "    return slice(start_index, final_index)"
   ]
  },
  {
   "cell_type": "code",
   "execution_count": null,
   "id": "135",
   "metadata": {},
   "outputs": [],
   "source": [
    "index_slice = search_protocol_time_array_index(reduced_protocal_time_array, 23, 60.)\n",
    "\n",
    "# reduced_protocal_time_array[index_slice]\n",
    "# search_protocol_time_array_range(adjusted_PE, 23, 60.)"
   ]
  },
  {
   "cell_type": "code",
   "execution_count": null,
   "id": "136",
   "metadata": {},
   "outputs": [],
   "source": [
    "reduced_protocal_time_array[index_slice]\n",
    "KE_of_the_particle[None]"
   ]
  },
  {
   "cell_type": "code",
   "execution_count": null,
   "id": "137",
   "metadata": {},
   "outputs": [],
   "source": [
    "export_object"
   ]
  },
  {
   "cell_type": "code",
   "execution_count": null,
   "id": "138",
   "metadata": {},
   "outputs": [],
   "source": [
    "def single_particle_analysis(simResult, params, protocol_list, plot_ax = None, particle_index = 0, particle_category = \"00\", time_range = None):\n",
    "    \n",
    "\n",
    "    \n",
    "    \n",
    "    # _ = [simResult['cfqr'].system.get_potential(_s, _t ) for _s, _t in zip(keyState_choosen_particle, simResult['cfqr'].protocol_time_array)]\n",
    "    \n",
    "    \n",
    "    \n",
    "\n",
    "    if plot_ax == None:\n",
    "        plt.figure(figsize=(8, 5))\n",
    "    plot_ax.plot(protocal_key_time_array, adjusted_PE , label = \"PE\", color = \"#CC79A7\")\n",
    "    plot_ax.plot(protocal_key_time_array, KE_of_the_particle, label = \"KE\")\n",
    "    plot_ax.plot(protocal_key_time_array, adjusted_total_energy, label = \"KE + PE\")\n",
    "    plot_ax.plot(protocal_key_time_array, WD_of_the_particle[::100], label = \"WD\", color = \"#000000\")\n",
    "    plot_ax.plot(protocal_key_time_array, WD_of_the_particle[::100] - adjusted_total_energy, label = \"energy loss\")\n",
    "    plot_ax.set_ylabel(r\"energy $(k_BT)$\")\n",
    "    plot_ax.set_xlabel(f\"time ({characteristic_t * 1e9:.3g} ns)\")\n",
    "    plot_ax.legend(bbox_to_anchor=(1.25, 1.05))"
   ]
  },
  {
   "cell_type": "code",
   "execution_count": null,
   "id": "139",
   "metadata": {
    "tags": []
   },
   "outputs": [],
   "source": [
    "os.path.join(\"~\", \"source\", \"coupled_flux_qubit_protocol\", \"simulation_protocol_history\", f\"{245}.pickle\")\n",
    "\n",
    "\n"
   ]
  },
  {
   "cell_type": "code",
   "execution_count": null,
   "id": "140",
   "metadata": {},
   "outputs": [],
   "source": [
    "\"/Users/tkwtang/source/coupled_flux_qubit_protocol/simulation_protocol_history/\""
   ]
  },
  {
   "cell_type": "markdown",
   "id": "141",
   "metadata": {},
   "source": [
    "# circuit parameter at different t and ∆U"
   ]
  },
  {
   "cell_type": "code",
   "execution_count": null,
   "id": "142",
   "metadata": {},
   "outputs": [],
   "source": [
    "reduced_time_array = cfqr.getReducedTimeArray()"
   ]
  },
  {
   "cell_type": "code",
   "execution_count": null,
   "id": "143",
   "metadata": {},
   "outputs": [],
   "source": [
    "params_at_t = [cfqr.convert_params_list_into_dict(cfqr.protocol.get_params(_t)) for _t in reduced_time_array]"
   ]
  },
  {
   "cell_type": "code",
   "execution_count": null,
   "id": "144",
   "metadata": {},
   "outputs": [],
   "source": [
    "circuit_parameters_at_different_t = []\n",
    "\n",
    "for x in params_at_t:\n",
    "    circuit_parameter_template = experiment_circuit_params.copy()\n",
    "    circuit_parameter_template['phi_1x'] = x['phi_1_x']\n",
    "    circuit_parameter_template['phi_2x'] = x['phi_2_x']\n",
    "    circuit_parameter_template['phi_1xdc'] = x['phi_1_dcx']\n",
    "    circuit_parameter_template['phi_2xdc'] = x['phi_2_dcx']\n",
    "    circuit_parameter_template['M_12'] = x['M_12']\n",
    "    circuit_parameters_at_different_t.append(circuit_parameter_template)"
   ]
  },
  {
   "cell_type": "code",
   "execution_count": null,
   "id": "145",
   "metadata": {},
   "outputs": [],
   "source": [
    "from edward_tools.pot_analysis_helper_functions import get_XYU, pot_function, find_all_critical_points_for_all_potential"
   ]
  },
  {
   "cell_type": "code",
   "execution_count": null,
   "id": "146",
   "metadata": {},
   "outputs": [],
   "source": [
    "contour_data_array = [get_XYU(circuit_params, domain=[-4, 4], resolution=500) for circuit_params in circuit_parameters_at_different_t]\n"
   ]
  },
  {
   "cell_type": "code",
   "execution_count": null,
   "id": "147",
   "metadata": {},
   "outputs": [],
   "source": [
    "initial_guess = [(-2, -2), (-2, 2), (2, -2), (2, 2), (-2,0), (0, -2), (2, 0), (0, 2)]\n",
    "critical_points_color = [\"green\", \"red\", \"yellow\", \"orange\", \"white\", \"white\", \"white\", \"white\"]"
   ]
  },
  {
   "cell_type": "code",
   "execution_count": null,
   "id": "148",
   "metadata": {},
   "outputs": [],
   "source": [
    "k_BT"
   ]
  },
  {
   "cell_type": "code",
   "execution_count": null,
   "id": "149",
   "metadata": {},
   "outputs": [],
   "source": [
    "result_array = []\n",
    "for _cp in circuit_parameters_at_different_t:\n",
    "    critical_dict = find_all_critical_points_for_all_potential(_cp,\n",
    "                    guess = [(-2, -2), (-2, 2), (2, -2), (2, 2), \\\n",
    "                             (-2,0), (0, -2), (2, 0), (0, 2)])\n",
    "    critical_points = list(critical_dict.values())[0]\n",
    "    critical_potential = [pot_function(_cp)([x, y]) for x, y in critical_points]\n",
    "    delta_U00 = critical_potential[4] - critical_potential[1]\n",
    "    delta_U01 = critical_potential[5] - critical_potential[0]\n",
    "    delta_U10 = critical_potential[6] - critical_potential[2]\n",
    "    delta_U11 = critical_potential[6] - critical_potential[3]\n",
    "\n",
    "    X, Y, U = get_XYU(_cp, [-4, 4], 50)\n",
    "\n",
    "    result_array.append({\n",
    "        \"coord\": critical_points, \"delta_U00\": delta_U00, \"delta_U01\": delta_U01,\n",
    "        \"delta_U10\": delta_U10, \"delta_U11\": delta_U11\n",
    "    })\n"
   ]
  },
  {
   "cell_type": "code",
   "execution_count": null,
   "id": "150",
   "metadata": {},
   "outputs": [],
   "source": [
    "delta_U_data = [(item['delta_U00'], item['delta_U01'], item['delta_U10'], item['delta_U11'])  for item in result_array]"
   ]
  },
  {
   "cell_type": "code",
   "execution_count": null,
   "id": "151",
   "metadata": {},
   "outputs": [],
   "source": [
    "total_duration = protocol_time_array[-1] * characteristic_time * 1e9\n",
    "\n",
    "plt.plot(reduced_time_array * characteristic_time * 1e9, U0_1 * np.array(delta_U_data)[:, 0], label = \"∆U00\")\n",
    "plt.plot(reduced_time_array * characteristic_time * 1e9, U0_1 * np.array(delta_U_data)[:, 1], label = \"∆U01\")\n",
    "plt.plot(reduced_time_array * characteristic_time * 1e9, U0_1 * np.array(delta_U_data)[:, 2], label = \"∆U10\")\n",
    "plt.plot(reduced_time_array * characteristic_time * 1e9, U0_1 * np.array(delta_U_data)[:, 3], label = \"∆U11\")\n",
    "xmin, xmax = plt.xlim()\n",
    "plt.hlines(y = 50, xmin = xmin, xmax = xmax, linestyle = \"--\")\n",
    "plt.legend()\n",
    "plt.xlabel(r'time $(ns)$')\n",
    "plt.ylabel(r'energy $(k_BT)$')\n",
    "plt.title(f\"∆U00 vs t (total duration = {total_duration:.3g}ns) \")\n"
   ]
  },
  {
   "cell_type": "code",
   "execution_count": null,
   "id": "152",
   "metadata": {},
   "outputs": [],
   "source": []
  },
  {
   "cell_type": "markdown",
   "id": "153",
   "metadata": {},
   "source": [
    "# save all states"
   ]
  },
  {
   "cell_type": "code",
   "execution_count": null,
   "id": "154",
   "metadata": {},
   "outputs": [],
   "source": [
    "base_folder = \"cfq_data/sudden_jump_KEP/\"\n",
    "prefix = \"KEP(jump)\"\n",
    "name_of_state_file = prefix + \"_all_state.npy\"\n",
    "name_of_reduced_time_array_file = prefix + \"_reduced_time_array.npy\"\n",
    "name_of_index_file = prefix + \"_index_of_particle.npy\"\n",
    "\n",
    "np.save(os.path.join(base_folder, name_of_reduced_time_array_file), reduced_protocal_time_array)\n",
    "np.save(os.path.join(base_folder, name_of_state_file), all_states)\n",
    "np.save(os.path.join(base_folder, name_of_index_file), simResult['cfqr'].getIndexOfParticles())"
   ]
  },
  {
   "cell_type": "code",
   "execution_count": null,
   "id": "155",
   "metadata": {},
   "outputs": [],
   "source": []
  },
  {
   "cell_type": "code",
   "execution_count": null,
   "id": "156",
   "metadata": {},
   "outputs": [],
   "source": []
  },
  {
   "cell_type": "code",
   "execution_count": null,
   "id": "157",
   "metadata": {},
   "outputs": [],
   "source": []
  },
  {
   "cell_type": "code",
   "execution_count": null,
   "id": "158",
   "metadata": {},
   "outputs": [],
   "source": []
  }
 ],
 "metadata": {
  "kernelspec": {
   "display_name": "Python 3 (ipykernel)",
   "language": "python",
   "name": "python3"
  },
  "language_info": {
   "codemirror_mode": {
    "name": "ipython",
    "version": 3
   },
   "file_extension": ".py",
   "mimetype": "text/x-python",
   "name": "python",
   "nbconvert_exporter": "python",
   "pygments_lexer": "ipython3",
   "version": "3.13.2"
  }
 },
 "nbformat": 4,
 "nbformat_minor": 5
}
