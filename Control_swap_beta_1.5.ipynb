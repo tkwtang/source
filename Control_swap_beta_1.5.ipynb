{
 "cells": [
  {
   "cell_type": "code",
   "execution_count": null,
   "id": "0",
   "metadata": {},
   "outputs": [],
   "source": [
    "%load_ext autotime"
   ]
  },
  {
   "cell_type": "code",
   "execution_count": null,
   "id": "1",
   "metadata": {
    "tags": []
   },
   "outputs": [],
   "source": [
    "import numpy as np\n",
    "import importlib, os, datetime, pickle\n",
    "from sus.protocol_designer import System, Protocol, Potential, Compound_Protocol\n",
    "from sus.protocol_designer.protocol import sequential_protocol\n",
    "from IPython import display\n",
    "from IPython.display import HTML, Image\n",
    "import matplotlib.animation as animation\n",
    "from matplotlib.animation import FuncAnimation, PillowWriter\n",
    "from quick_sim import setup_sim\n",
    "\n",
    "# import edward_tools.fq_runner as fq_runner\n",
    "from edward_tools.coupled_fq_potential import coupled_flux_qubit_non_linear_approx_pot, coupled_flux_qubit_non_linear_approx_force\n",
    "from edward_tools.visualization import animate_sim_flux_qubit, plotFidelityBarChart, separate_by_state_2, plotTwoState\n",
    "from edward_tools.initial_state_sampling import extra_constraint_00_and_11_only\n",
    "from NAND_PARAMETERS import *\n",
    "import importlib\n",
    "\n",
    "import kyle_tools as kt\n",
    "import matplotlib.pyplot as plt\n",
    "\n",
    "\n",
    "from edward_tools import coupled_fq_protocol_library, cfq_runner\n",
    "from edward_tools import coupled_fq_protocol_library\n",
    "\n",
    "import edward_tools.cfq_batch_sweep as cfq_batch_sweep\n",
    "import edward_tools.Analysis_tool.general_analysis_tools as general_analysis_tool\n",
    "# from edward_tools.Analysis_tool.general_analysis_tools import show_phi_dc_with_time\n",
    "import edward_tools.Analysis_tool.minimum_value_of_potential as minimum_value_of_potential\n",
    "from edward_tools.couple_flux_qubit_metrics import fidelityEvaluation\n",
    "from edward_tools import visualization\n",
    "\n",
    "from edward_tools.pot_analysis_helper_functions import get_XYU, pot_function, find_all_critical_points_for_all_potential\n",
    "\n",
    "coupled_fq_protocol_library = importlib.reload(coupled_fq_protocol_library)\n",
    "create_system = coupled_fq_protocol_library.create_system\n",
    "get_potential_shot_at_different_t = coupled_fq_protocol_library.get_potential_shot_at_different_t\n",
    "get_potential_shot_at_different_t_1D = coupled_fq_protocol_library.get_potential_shot_at_different_t_1D\n",
    "create_simple_protocol_parameter_dict = coupled_fq_protocol_library.create_simple_protocol_parameter_dict\n",
    "coupled_fq_runner = importlib.reload(cfq_runner)\n",
    "coupled_fq_protocol_library = importlib.reload(coupled_fq_protocol_library)\n",
    "create_system = coupled_fq_protocol_library.create_system\n",
    "get_potential_along_a_1D_cutline = coupled_fq_protocol_library.get_potential_along_a_1D_cutline\n",
    "plotCutlines = coupled_fq_protocol_library.plotCutlines"
   ]
  },
  {
   "cell_type": "code",
   "execution_count": null,
   "id": "2",
   "metadata": {},
   "outputs": [],
   "source": [
    "    \n",
    "fig = plt.figure(figsize= [20, 10])\n",
    "ax_0, ax_1, ax_2, ax_3 = fig.add_subplot(2, 4, 1), fig.add_subplot(2, 4, 2), fig.add_subplot(2, 4, 3), fig.add_subplot(2, 4, 4)\n",
    "ax_4, ax_5, ax_6, ax_7 = fig.add_subplot(2, 4, 5), fig.add_subplot(2, 4, 6), fig.add_subplot(2, 4, 7), fig.add_subplot(2, 4, 8) \n",
    "plt.close()"
   ]
  },
  {
   "cell_type": "code",
   "execution_count": null,
   "id": "3",
   "metadata": {},
   "outputs": [],
   "source": [
    "def create_parameter_list(cfqr, _protocol):\n",
    "    params_list_used = cfqr.protocol.get_params(0)\n",
    "    params_list_used[8] = _protocol['phi_1x'] # phi_1x\n",
    "    params_list_used[9] = _protocol['phi_2x'] # phi_2x\"\n",
    "    params_list_used[10] = _protocol['phi_1xdc'] # phi_1xdc\n",
    "    params_list_used[11] = _protocol['phi_2xdc'] # phi_2xdc\n",
    "    params_list_used[12] = _protocol['mu_12'] # mu\n",
    "    return params_list_used\n",
    "\n",
    "def getParamsList(_protocol):\n",
    "    params_list_used = cfqr.protocol.get_params(0)\n",
    "    params_list_used[8] = _protocol['phi_1x'] # phi_1x\n",
    "    params_list_used[9] = _protocol['phi_2x'] # phi_2x\"\n",
    "    params_list_used[10] = _protocol['phi_1xdc'] # phi_1xdc\n",
    "    params_list_used[11] = _protocol['phi_2xdc'] # phi_2xdc\n",
    "    params_list_used[12] = _protocol['mu_12'] # mu\n",
    "    return params_list_used\n"
   ]
  },
  {
   "cell_type": "code",
   "execution_count": null,
   "id": "4",
   "metadata": {},
   "outputs": [],
   "source": []
  },
  {
   "cell_type": "markdown",
   "id": "5",
   "metadata": {
    "tags": []
   },
   "source": [
    "# parameters"
   ]
  },
  {
   "cell_type": "markdown",
   "id": "6",
   "metadata": {},
   "source": [
    "### circuit parameters"
   ]
  },
  {
   "cell_type": "code",
   "execution_count": null,
   "id": "7",
   "metadata": {},
   "outputs": [],
   "source": [
    "circuit_params_from_Chris = {\n",
    "    \"L\": 5e-12 * 1, \"T\":4.2, \"L_factor\": 1, \n",
    "    \"beta\": 2.3, \"d_beta\": 0,\n",
    "    \"phi_1x\": 0.61,   \"phi_2x\": 0.10, \"phi_1xdc\": 0, \"phi_2xdc\": 1.79, \"mu_12\": 0.06\n",
    "}\n",
    "\n",
    "\n",
    "circuit_params_chosen = circuit_params_from_Chris\n",
    "\n",
    "phi_1x_on_12, phi_2x_on_12, phi_1xdc_on_12, phi_2xdc_on_12, phi_1x_on_21, phi_2x_on_21, phi_1xdc_on_21, phi_2xdc_on_21, mu_12_on, four_well, CE_1, CE_5, CE_8, lower_H_wells, flip_H, lower_V_wells, flip_V, KE_extraction_protocol_for_CE_1, KE_extraction_protocol_for_CE_8 = generate_protocols_from_circuit_params(circuit_params_chosen)\n",
    "\n",
    "protocol_list = [{'duration': 30.0, \"phi_1x\": 0.0, \"phi_2x\": 0.0, \"mu_12\": 0.00, \"phi_1xdc\": 0, \"phi_2xdc\": 0, \"name\": \"four_well\"}]"
   ]
  },
  {
   "cell_type": "code",
   "execution_count": null,
   "id": "8",
   "metadata": {
    "tags": []
   },
   "outputs": [],
   "source": [
    "has_velocity = True\n",
    "\n",
    "PHI_0 = 2.067833848 * 1e-15\n",
    "k_B = 1.38e-23\n",
    "T = 4.2\n",
    "k_BT = k_B * T\n",
    "\n",
    "C_factor = 1\n",
    "L_factor = 1\n",
    "R_factor = 100\n",
    "# I_m_factor = 50\n",
    "# I_m_factor = 15\n",
    "I_m_factor = 0\n",
    "time_scale = 1.0\n",
    "\n",
    "I_p_1, I_p_2 = 5e-6 , 5e-6  # Amp\n",
    "I_m_1, I_m_2 = 7e-9 * I_m_factor, 7e-9 * I_m_factor                           # Amp\n",
    "R_1, R_2 = 1 * R_factor, 1 * R_factor                                         # ohm\n",
    "C_1, C_2 = 500e-15 * C_factor, 500e-15 * C_factor                             # F\n",
    "\n",
    "L_1, L_2 = 140e-12 * L_factor, 140e-12 * L_factor                             # H \n",
    "L_1, L_2 = 5e-12 * L_factor, 5e-12 * L_factor                             # H \n",
    "freq = 1/np.sqrt(C_1 * L_1)\n",
    "characteristic_time = np.sqrt(C_1 * C_factor * L_1 * L_factor)\n",
    "\n",
    "\n",
    "def tellMeImportantFactors(protocol, params):\n",
    "    print(f\"N = {params['N']}, dt = {1/params['dt']}\")\n",
    "    print(f\"T = {T} K, L = {L_1} H, beta = {beta_1}\")\n",
    "    print(f\"R = {R_1} Ω, C = {C_1} F\")\n",
    "    print(f\"phi_1x = {phi_1x_on_12}, phi_2x = {phi_2x_on_12}, phi_1xdc = {phi_1xdc_on_12}, phi_2xdc = {phi_2xdc_on_12}, mu_12 = {mu_12_on}\")\n",
    "    for x in protocol:\n",
    "        print(x)"
   ]
  },
  {
   "cell_type": "code",
   "execution_count": null,
   "id": "9",
   "metadata": {
    "tags": []
   },
   "outputs": [],
   "source": [
    "m_c, m_1, m_2 = C_1, C_1, C_2\n",
    "x_c = PHI_0 / (2 * np.pi)\n",
    "time_scale_factor = 1\n",
    "t_c = np.sqrt(L_1 * C_1)\n",
    "v_c = x_c / t_c\n",
    "\n",
    "U0_1 = m_c * x_c**2 / t_c**2 / k_BT\n",
    "U0_2 = m_2 * x_c**2 / t_c**2 / k_BT\n",
    "kappa_1, kappa_2, kappa_3, kappa_4 = 1/U0_1, 1/U0_1, 1/U0_1, 1/U0_1\n",
    "\n",
    "lambda_1 = 2 * np.sqrt(L_1 * C_1) / (C_1 * R_1)\n",
    "theta_1  = 1\n",
    "eta_1    = np.sqrt(np.sqrt(L_1 * C_1)/ (R_1 * C_1)) * np.sqrt(2 * kappa_1 / 1**2)\n",
    "\n",
    "lambda_2 = 2 * np.sqrt(L_1 * C_1) / (C_2 * R_2)\n",
    "theta_2  = 1 / (C_2/C_1)\n",
    "eta_2    = np.sqrt(np.sqrt(L_1 * C_1)/ (R_1 * C_1)) * np.sqrt(2 * kappa_2 * (R_1 * C_1**2) / (R_2 * C_2**2))\n",
    "\n",
    "lambda_3 = 2 * np.sqrt(L_1 * C_1) / (C_1 * R_1)\n",
    "theta_3  = 4\n",
    "eta_3    = np.sqrt(np.sqrt(L_1 * C_1)/ (R_1 * C_1)) * np.sqrt(8 * kappa_3)\n",
    "\n",
    "lambda_4 = 2 * np.sqrt(L_1 * C_1) / (C_2 * R_2)\n",
    "theta_4  = 4 / (C_2/C_1)\n",
    "eta_4    = np.sqrt(np.sqrt(L_1 * C_1)/ (R_1 * C_1)) * np.sqrt(8 * kappa_4 * (R_1 * C_1**2) / (R_2 * C_2**2))\n",
    "\n",
    "gamma = 9\n",
    "gamma = 5\n",
    "\n",
    "beta_1 = 2 * np.pi * L_1 * I_p_1 / PHI_0\n",
    "beta_2 = 2 * np.pi * L_2 * I_p_2 / PHI_0\n",
    "\n",
    "# beta_1, beta_2 = [1.35]*2 # barrier kBT = 50\n",
    "beta_1, beta_2 = [1.5]*2 # barrier kBT = 100\n",
    "# beta_1, beta_2 = [2.3]*2 # barrier KBT = 400\n",
    "d_beta_1, d_beta_2 = 2 * np.pi * L_1 * I_m_1 / PHI_0, 2 * np.pi * L_2 * I_m_2 / PHI_0\n",
    "\n",
    "# h_bar = 1.054571e-34\n",
    "# e_charge = 1.6e-19\n",
    "\n",
    "# stewart_mccumber_parameter = h_bar / (2 * e_charge) * C_1 * \n",
    "\n",
    "_damping_factor = 1\n",
    "_lambda = np.array([lambda_1, lambda_2, lambda_3, lambda_4])\n",
    "_theta  = np.array([theta_1, theta_2, theta_3, theta_4])\n",
    "_eta  =   np.array([eta_1, eta_2, eta_3, eta_4])\n",
    "\n",
    "v_1 = np.random.normal(0, np.sqrt(k_BT/m_1)) / v_c\n",
    "v_2 = np.random.normal(0, np.sqrt(k_BT/m_2)) / v_c\n",
    "v_3 = np.random.normal(0, np.sqrt(k_BT/(m_1/4))) / v_c\n",
    "v_4 = np.random.normal(0, np.sqrt(k_BT/(m_2/4))) / v_c"
   ]
  },
  {
   "cell_type": "code",
   "execution_count": null,
   "id": "10",
   "metadata": {
    "tags": []
   },
   "outputs": [],
   "source": [
    "print(f\"L_1 = {L_1 * 1e12:.3g}pH, T = {T}K, U0_1 = {U0_1}\")\n",
    "print(f\"freq = {freq / 1e9:.3g}GHz\")\n",
    "print(characteristic_time)\n",
    "print(U0_1)"
   ]
  },
  {
   "cell_type": "code",
   "execution_count": null,
   "id": "11",
   "metadata": {},
   "outputs": [],
   "source": [
    "four_well"
   ]
  },
  {
   "cell_type": "code",
   "execution_count": null,
   "id": "12",
   "metadata": {},
   "outputs": [],
   "source": [
    "\n",
    "\n",
    "\n",
    "\n",
    "def barrier_height_plot(beta = beta_1):\n",
    "    critical_point_list = []\n",
    "\n",
    "    protocol = {\"phi_1x\": 0.0, \"phi_2x\": 0.0, \"mu_12\": 0.0, \"phi_1xdc\": 0, \"phi_2xdc\": 0, \"name\": \"four_well\", \"color\": \"cyan\", \"linestyle\": \"-\"} \n",
    "    protocol['beta'] = beta\n",
    "    protocol['d_beta'] = 0\n",
    "\n",
    "    critical_points = find_all_critical_points_for_all_potential(protocol, guess = [(-2, -2), (0, 2), (2, -2)])\n",
    "    critical_point_list.append(critical_points)\n",
    "    return U0_1 * (critical_points['potential'][1] - critical_points['potential'][0])"
   ]
  },
  {
   "cell_type": "code",
   "execution_count": null,
   "id": "13",
   "metadata": {},
   "outputs": [],
   "source": [
    "beta_list = np.linspace(1, 2, 11)\n",
    "four_well_barrier_height_list = [barrier_height_plot(beta = _beta) for _beta in beta_list]"
   ]
  },
  {
   "cell_type": "code",
   "execution_count": null,
   "id": "14",
   "metadata": {},
   "outputs": [],
   "source": []
  },
  {
   "cell_type": "code",
   "execution_count": null,
   "id": "15",
   "metadata": {},
   "outputs": [],
   "source": [
    "plt.scatter(beta_list, four_well_barrier_height_list)\n",
    "plt.yticks(np.linspace(0, 300, 16))\n",
    "plt.xlabel(\"beta\")\n",
    "plt.ylabel(r\"barrier height ($k_BT$)\")"
   ]
  },
  {
   "cell_type": "code",
   "execution_count": null,
   "id": "16",
   "metadata": {},
   "outputs": [],
   "source": []
  },
  {
   "cell_type": "code",
   "execution_count": null,
   "id": "17",
   "metadata": {},
   "outputs": [],
   "source": [
    "\n",
    "def plot_3_well_potential(protocol_list, left_y_range, right_y_range, bottom_left_x_range = [-4, 4], bottom_right_x_range = [-4, 4], bottom_left_y_range = [-50, 500], bottom_right_y_range = [-50, 500], contour_x_range = [-4, 4], contour_y_range = [-4, 4], beta = beta_1, d_beta = 0, phi_2_bottom_fixed = -2.1, phi_2_top_fixed = 2.0, set_same_min = False, direction = \"h\"):\n",
    "    phi_1_array = np.linspace(-4, 4, 1000)\n",
    "    params_list_used = cfqr.protocol.get_params(0)\n",
    "    fig = plt.figure(figsize= [15, 7.5])\n",
    "    ax_0, ax_1, ax_2, ax_3 = fig.add_subplot(2, 4, 1), fig.add_subplot(2, 4, 2), fig.add_subplot(2, 4, 3), fig.add_subplot(2, 4, 4)\n",
    "    ax_4, ax_5, ax_6, ax_7 = fig.add_subplot(2, 4, 5), fig.add_subplot(2, 4, 6), fig.add_subplot(2, 4, 7), fig.add_subplot(2, 4, 8) \n",
    "\n",
    "    critical_point_list = []\n",
    "    color_code = []\n",
    "\n",
    "    X, Y = np.meshgrid(phi_1_array, phi_1_array)\n",
    "    \n",
    "    for _protocol in protocol_list:\n",
    "        name     = _protocol['name']\n",
    "        _protocol['beta'], _protocol['d_beta'] = beta, d_beta\n",
    "\n",
    "        critical_points = find_all_critical_points_for_all_potential(_protocol, guess = [(-2, -2), (-2, 2), (3, -3), (2, 2)])\n",
    "        critical_point_list.append(critical_points)\n",
    "        params_list_used[4], params_list_used[5] = beta, beta # phi_1x\n",
    "        params_list_used[8] = _protocol['phi_1x'] # phi_1x\n",
    "        params_list_used[9] = _protocol['phi_2x'] # phi_2x\"\n",
    "        params_list_used[10] = _protocol['phi_1xdc'] # phi_1xdc\n",
    "        params_list_used[11] = _protocol['phi_2xdc'] # phi_2xdc\n",
    "        params_list_used[12] = _protocol['mu_12'] # mu\n",
    "\n",
    "        params_at_t_str = [f\"{key}: {value:.3g}\" for key, value in zip(cfqr.protocol_key[-6:-1], params_list_used[-6:-1])]\n",
    "        fig.suptitle(f\"phi_1xdc = {params_list_used[10]:.3g}, phi_2xdc = {params_list_used[11]:.3g}, phi_1x = {params_list_used[8]:.3g}, phi_2x = {params_list_used[9]:.3g}, mu = {params_list_used[12]:.3g}\") \n",
    "\n",
    "        potential_min = []\n",
    "        U = cfqr.potential.potential(X, Y, _protocol['phi_1xdc'], _protocol['phi_2xdc'], params_list_used)\n",
    "\n",
    "        if direction == \"h\":\n",
    "            potential = cfqr.potential.potential(phi_1_array, phi_2_bottom_fixed,  _protocol['phi_1xdc'], _protocol['phi_2xdc'], params_list_used)\n",
    "        if direction == \"v\":\n",
    "            potential = cfqr.potential.potential(phi_2_bottom_fixed, phi_1_array,  _protocol['phi_1xdc'], _protocol['phi_2xdc'], params_list_used)\n",
    "        # print(potential)\n",
    "        color_code.append(_protocol['color'])\n",
    "        ax_0.plot(phi_1_array, potential, label = f\"{name}\", c = _protocol['color'], linestyle = _protocol['linestyle'])\n",
    "        ax_4.plot(phi_1_array, potential - min(potential), label = f\"{name}\", c = _protocol['color'], linestyle = _protocol['linestyle'])\n",
    "\n",
    "\n",
    "        if direction == \"h\":\n",
    "            potential = cfqr.potential.potential(phi_1_array, phi_2_top_fixed,  _protocol['phi_1xdc'], _protocol['phi_2xdc'], params_list_used)\n",
    "        if direction == \"v\":\n",
    "            potential = cfqr.potential.potential(phi_2_top_fixed, phi_1_array,  _protocol['phi_1xdc'], _protocol['phi_2xdc'], params_list_used)\n",
    "\n",
    "        ax_2.plot(phi_1_array, potential, label = f\"{name}\", c = _protocol['color'], linestyle = _protocol['linestyle'])\n",
    "        ax_6.plot(phi_1_array, potential - min(potential), label = f\"{name}\", c = _protocol['color'], linestyle = _protocol['linestyle'])\n",
    "\n",
    "        ax_0.set_xlim(-4, 4)\n",
    "        ax_0.set_ylim(left_y_range[0], left_y_range[1])\n",
    "        ax_4.set_xlim(bottom_left_x_range[0], bottom_left_x_range[1])\n",
    "        ax_4.set_ylim(bottom_left_y_range[0], bottom_left_y_range[1])\n",
    "\n",
    "\n",
    "        ax_2.set_xlim(-4, 4)\n",
    "        ax_2.set_ylim(right_y_range[0], right_y_range[1])\n",
    "        ax_6.set_xlim(bottom_right_x_range[0], bottom_right_x_range[1])\n",
    "        ax_6.set_ylim(bottom_right_y_range[0], bottom_right_y_range[1])\n",
    "        ax_0.legend()\n",
    "        \n",
    "\n",
    "    ax_1.contourf(X, Y, U, 30)\n",
    "    ax_3.contourf(X, Y, U, 30)\n",
    "\n",
    "    if direction == \"h\":\n",
    "        ax_1.hlines(y=phi_2_bottom_fixed, xmin = -4, xmax = 4, color = \"red\")\n",
    "        ax_3.hlines(y=phi_2_top_fixed, xmin = -4, xmax = 4, color = \"red\")\n",
    "        ax_5.hlines(y=phi_2_bottom_fixed, xmin = -4, xmax = 4, color = \"red\")\n",
    "        ax_7.hlines(y=phi_2_top_fixed, xmin = -4, xmax = 4, color = \"red\")\n",
    "    if direction == \"v\":\n",
    "        ax_1.vlines(x=phi_2_bottom_fixed, ymin = -4, ymax = 4, color = \"red\")\n",
    "        ax_3.vlines(x=phi_2_top_fixed, ymin = -4, ymax = 4, color = \"red\")\n",
    "        ax_5.vlines(x=phi_2_bottom_fixed, ymin = -4, ymax = 4, color = \"red\")\n",
    "        ax_7.vlines(x=phi_2_top_fixed, ymin = -4, ymax = 4, color = \"red\")\n",
    "\n",
    "    ax_5.contourf(X, Y, U, 30)\n",
    "    ax_7.contourf(X, Y, U, 30)\n",
    "\n",
    "    \n",
    "    for critical_point_info, _c in zip(critical_point_list, color_code):\n",
    "        for (_x, _y) in critical_point_info['coord']:\n",
    "            ax_1.scatter(_x, _y, color = _c)\n",
    "            ax_3.scatter(_x, _y, color = _c)\n",
    "            ax_5.scatter(_x, _y, color = _c)\n",
    "            ax_7.scatter(_x, _y, color = _c)\n",
    "    \n",
    "    # ax_5.set_xlim(*contour_x_range)\n",
    "    # ax_7.set_xlim(*contour_x_range)\n",
    "    # ax_5.set_ylim(*contour_y_range)\n",
    "    # ax_7.set_ylim(*contour_y_range)\n",
    "\n",
    "    plt.show() \n",
    "    return critical_point_list\n",
    "\n",
    "# control swap protocol\n",
    "def createProtocol(duration, protocol, name):\n",
    "    protocol_new = {\n",
    "        \"phi_1xdc\": protocol[\"phi_1xdc\"], \"phi_2xdc\": protocol[\"phi_2xdc\"], \n",
    "        \"phi_1x\": protocol[\"phi_1x\"], \"phi_2x\": protocol[\"phi_2x\"], \n",
    "        \"mu_12\": protocol[\"mu_12\"], \"duration\": duration, \"name\": name\n",
    "    }\n",
    "    return protocol_new"
   ]
  },
  {
   "cell_type": "markdown",
   "id": "18",
   "metadata": {},
   "source": [
    "### parameter setting"
   ]
  },
  {
   "cell_type": "code",
   "execution_count": null,
   "id": "19",
   "metadata": {
    "tags": []
   },
   "outputs": [],
   "source": [
    "\"\"\"\n",
    "# step 0: modify parameters\n",
    "- All the parameters are stored in a separate file PARAMETER_INPUT\n",
    "- You can override some of the parameters here.\n",
    "\"\"\"\n",
    "params = {}\n",
    "params['N'] = 1000\n",
    "params['dt'] = 1/100\n",
    "params['lambda'] = 1\n",
    "params['beta'] = 1\n",
    "params['sim_params'] = [_lambda, _theta, _eta]\n",
    "params['target_work'] = None\n",
    "params['applyOffset'] = False\n",
    "params['measureWorkWithOffset'] = True\n",
    "params['monitor_work_dist_in_whole_process'] = True # To monitor the work process\n",
    "params['comment'] = \"testing\"\n",
    "params['capacitance'] = np.array([C_1, C_2, C_1/4, C_2/4])\n",
    "params['mass'] = np.array([1, 1, 1/4, 1/4])\n",
    "params['v_c'] = x_c/t_c\n",
    "params['k_BT'] = k_BT\n",
    "params['U0'] = U0_1\n",
    "params['as_step'] = np.s_[::10] # the time step to skep for the all_state\n",
    "params['percentage'] = 1 # For what percentage of the total sample do you want to keep in the output all_state\n"
   ]
  },
  {
   "cell_type": "code",
   "execution_count": null,
   "id": "20",
   "metadata": {
    "tags": []
   },
   "outputs": [],
   "source": [
    "\"\"\"\n",
    "# step 2: Define initial condition and protocol\n",
    "\"\"\"\n",
    "manual_domain=[np.array([-10, -10]), np.array([10, 10])]\n",
    "\n",
    "initial_parameter_dict = {\n",
    "        \"U0_1\": U0_1,     \"U0_2\": U0_2,     \"gamma_1\": gamma,  \"gamma_2\": gamma,\n",
    "        \"beta_1\": beta_1,   \"beta_2\": beta_2,   \"d_beta_1\": d_beta_1 ,   \"d_beta_2\": d_beta_2,\n",
    "        \"phi_1x\": phi_1x_off,  \"phi_2x\": phi_2x_off,  \"phi_1xdc\": phi_1xdc_off,  \"phi_2xdc\": 1.8,\n",
    "        \"mu_12\": mu_12_off, 'x_c': x_c\n",
    "}\n"
   ]
  },
  {
   "cell_type": "code",
   "execution_count": null,
   "id": "21",
   "metadata": {
    "tags": []
   },
   "outputs": [],
   "source": [
    "\"\"\"\n",
    "# step 1: Define potential\n",
    "\"\"\"\n",
    "coupled_fq_default_param = [1, 1, 0, 0, 0, 0, 0, 0, 0, 0, 0, 0, 0, x_c]\n",
    "[phi_1_bound, phi_2_bound, phi_1dc_bound, phi_2dc_bound] = np.array([4, 4, 4, 4])/time_scale_factor\n",
    "contour_range = [300, 2000]\n",
    "    \n",
    "coupled_fq_domain = [[-phi_1_bound, -phi_2_bound, -phi_1dc_bound, -phi_2dc_bound], \\\n",
    "                     [phi_1_bound, phi_2_bound, phi_1dc_bound, phi_2dc_bound]]\n",
    "\n",
    "coupled_fq_pot = Potential(coupled_flux_qubit_non_linear_approx_pot, coupled_flux_qubit_non_linear_approx_force, 14, 4,\\\n",
    "                           default_params = initial_parameter_dict,  relevant_domain = coupled_fq_domain)"
   ]
  },
  {
   "cell_type": "code",
   "execution_count": null,
   "id": "22",
   "metadata": {},
   "outputs": [],
   "source": []
  },
  {
   "cell_type": "markdown",
   "id": "23",
   "metadata": {},
   "source": [
    "### protocol setting"
   ]
  },
  {
   "cell_type": "code",
   "execution_count": null,
   "id": "24",
   "metadata": {
    "tags": []
   },
   "outputs": [],
   "source": [
    "zeroDissipation = False\n",
    "# zeroDissipation = True\n",
    "\n",
    "saveAllStates = True\n",
    "\n",
    "params['sim_params'] = [_lambda, _theta, _eta]\n",
    "\n",
    "if zeroDissipation:\n",
    "    params['sim_params'] = [_lambda * 0, _theta, _eta * 0]\n",
    "\n",
    "params['circuit_parameters'] = {\n",
    "    \"C_factor\":C_factor, \"L_factor\": L_factor, \"R_factor\": R_factor, \"I_m_factor\": I_m_factor, \"T\": T, \n",
    "    \"I_p_1\": I_p_1, \"I_p_2\": I_p_2, \"I_m_1\": I_m_1, \"I_m_2\": I_m_2,\n",
    "    \"R_1\": R_1, \"R_2\": R_2, \"C_1\": C_1, \"C_2\": C_2, \"L_1\": L_1, \"L_2\": L_2, \n",
    "    \"characteristic_time\": np.sqrt(C_1 * C_factor * L_1 * L_factor),\n",
    "    \"phi_1x_on\": phi_1x_on_12, \"phi_2x_on\": phi_2x_on_12,\n",
    "    \"phi_1xdc_on\": phi_1xdc_on_12, \"phi_2xdc_on\": phi_2xdc_on_12, \"mu_12_on\": mu_12_on,\n",
    "    \"gamma\": gamma\n",
    "}\n",
    "\n",
    "\n",
    "initial_state_used_choice = [\"four_well\", \"after_CE_8_completed\"]\n",
    "\n",
    "initial_parameter_dict[\"phi_1xdc\"] = 0\n",
    "initial_parameter_dict[\"phi_2xdc\"] = 0\n",
    "initial_parameter_dict[\"phi_1x\"]   = 0\n",
    "initial_parameter_dict[\"phi_2x\"]   = 0\n",
    "initial_parameter_dict[\"mu_12\"]      = 0\n",
    "\n",
    "\n",
    "# harmonic potential\n",
    "initial_parameter_dict[\"phi_1xdc\"] = 0\n",
    "initial_parameter_dict[\"phi_2xdc\"] = 0\n",
    "initial_parameter_dict[\"phi_1x\"]   = 0\n",
    "initial_parameter_dict[\"phi_2x\"]   = 0\n",
    "initial_parameter_dict[\"mu_12\"]      = 0"
   ]
  },
  {
   "cell_type": "code",
   "execution_count": null,
   "id": "25",
   "metadata": {},
   "outputs": [],
   "source": []
  },
  {
   "cell_type": "markdown",
   "id": "26",
   "metadata": {},
   "source": [
    "### modify the protocol"
   ]
  },
  {
   "cell_type": "code",
   "execution_count": null,
   "id": "27",
   "metadata": {
    "tags": []
   },
   "outputs": [],
   "source": [
    "mapping_state_1_to_state_2_dict_SWAP = {'00': ['01'], '01': ['00'], '10': ['10'], '11': ['11']}\n",
    "mapping_state_1_to_state_2_dict_CE = {'00': ['00'], '01': ['01'], '10': ['00'], '11': ['11']}\n",
    "mapping_state_1_to_state_2_dict_storage = {'00': ['00'], '01': ['01'], '10': ['10'], '11': ['11']}\n",
    "mapping_state_1_to_state_2_erasure_flip = {'00': ['10'], '01': ['11'], '10': ['10'], '11': ['01']}\n",
    "mapping_dict = mapping_state_1_to_state_2_erasure_flip"
   ]
  },
  {
   "cell_type": "markdown",
   "id": "28",
   "metadata": {},
   "source": [
    "## acceleration protocol"
   ]
  },
  {
   "cell_type": "code",
   "execution_count": null,
   "id": "29",
   "metadata": {},
   "outputs": [],
   "source": [
    "def pot_function(circuit_params, _phi_1dc = 0, _phi_2dc = 0, U_ratio = U0_1):\n",
    "    _phi_1x = circuit_params[\"phi_1x\"]\n",
    "    _phi_2x = circuit_params[\"phi_2x\"]\n",
    "    _phi_1xdc = circuit_params[\"phi_1xdc\"]\n",
    "    _phi_2xdc = circuit_params[\"phi_2xdc\"]\n",
    "    _mu_12 = circuit_params[\"mu_12\"]\n",
    "    _xi = 1/(1-_mu_12**2)\n",
    "\n",
    "    def Fcn(coord):\n",
    "        _phi_1, _phi_2 = coord\n",
    "        u1_1 = 1/2 * _xi * (_phi_1 - _phi_1x)**2\n",
    "        u1_2 = 1/2 * gamma * (phi_1dc - _phi_1xdc)**2\n",
    "        u1_3 = beta_1 * np.cos(_phi_1) * np.cos(_phi_1dc/2)\n",
    "        u1_4 = -d_beta_1 * np.sin(_phi_1) * np.sin(_phi_1dc/2)\n",
    "\n",
    "        u2_1 = 1/2 * _xi * (_phi_2 - _phi_2x)**2\n",
    "        u2_2 = 1/2 * gamma * (phi_2dc - _phi_2xdc)**2\n",
    "        u2_3 = beta_2 * np.cos(_phi_2) * np.cos(_phi_2dc/2)\n",
    "        u2_4 = -d_beta_2 * np.sin(_phi_2) * np.sin(_phi_2dc/2)\n",
    "        u3 = _mu_12 * _xi * (_phi_1 - _phi_1x) * (_phi_2 - _phi_2x)\n",
    "\n",
    "        return U_ratio * (u1_1 + u1_2 +  u1_3 + u1_4 + u2_1 + u2_2 + u2_3 + u2_4 + u3)\n",
    "\n",
    "    return Fcn\n"
   ]
  },
  {
   "cell_type": "code",
   "execution_count": null,
   "id": "30",
   "metadata": {},
   "outputs": [],
   "source": []
  },
  {
   "cell_type": "code",
   "execution_count": null,
   "id": "31",
   "metadata": {},
   "outputs": [],
   "source": [
    "# control swap protocol\n",
    "mu_factor_0 = 0.8\n",
    "mu_factor_1 = 0.32\n",
    "mu_factor_4 = 0.55\n",
    "mu_factor_5 = 0.0\n",
    "phi_2xdc_common = 1.\n",
    "# protocol_3 = {\"phi_1x\": 0.0, \"phi_2x\": -0.08, \"mu_12\": -0.04, \"phi_1xdc\": 0, \"phi_2xdc\": 1.96, \"name\": \"deceleration_protocol_1\", \"color\": \"red\", \"linestyle\" \"-\"}\n",
    "# protocol_4 = {\"phi_1x\": 0.8, \"phi_2x\": -0.02, \"mu_12\": -0.01, \"phi_1xdc\": 0, \"phi_2xdc\": 1.96, \"name\": \"deceleration_protocol_2\", \"color\": \"pink\", \"linestyle\": \"--\"}\n",
    "protocol_0 = {\"phi_1x\": 0.0, \"phi_2x\": 0.0, \"mu_12\": 0.0, \"phi_1xdc\": 0, \"phi_2xdc\": 0, \"name\": \"four_well\", \"color\": \"cyan\", \"linestyle\": \"-\"} \n",
    "protocol_1 = {\"phi_1x\": -0.0, \"phi_2x\": 0.0 * mu_factor_0, \"mu_12\": 0.0 * mu_factor_0, \"phi_1xdc\": 0, \"phi_2xdc\": phi_2xdc_common, \"name\": \"pre_acceleration_protocol\", \"color\": \"orange\", \"linestyle\": \"-\"}\n",
    "protocol_1a = {\"phi_1x\": -0.0, \"phi_2x\": 0.0 * mu_factor_0, \"mu_12\": 0.0 * mu_factor_0, \"phi_1xdc\": 0, \"phi_2xdc\": phi_2xdc_common, \"name\": \"pre_acceleration_protocol\", \"color\": \"orange\", \"linestyle\": \"-\"}\n",
    "protocol_2 = {\"phi_1x\": 0 * mu_factor_1, \"phi_2x\": 0.1 * mu_factor_1, \"mu_12\": 0.05 * mu_factor_1, \"phi_1xdc\": 0, \"phi_2xdc\": phi_2xdc_common, \"name\": \"acceleration_protocol_0\", \"color\": \"g\", \"linestyle\": \"-\"}\n",
    "protocol_5 = {\"phi_1x\": 0, \"phi_2x\": -0.1 * mu_factor_5, \"mu_12\": -0.05 * mu_factor_5, \"phi_1xdc\": 0, \"phi_2xdc\": phi_2xdc_common, \"name\": \"deceleration_protocol_1\", \"color\": \"b\", \"linestyle\": \"--\"}\n"
   ]
  },
  {
   "cell_type": "code",
   "execution_count": null,
   "id": "32",
   "metadata": {},
   "outputs": [],
   "source": []
  },
  {
   "cell_type": "markdown",
   "id": "33",
   "metadata": {},
   "source": [
    "# momentum_protocol"
   ]
  },
  {
   "cell_type": "code",
   "execution_count": null,
   "id": "34",
   "metadata": {},
   "outputs": [],
   "source": [
    "# control swap protocol\n",
    "# mu_factor_0 = -0.35\n",
    "if beta_1 == 2.3:\n",
    "    cutline_value = 2\n",
    "\n",
    "    mu_factor_0 = -0.5\n",
    "    protocol_0 = {\"phi_1x\": 0.0, \"phi_2x\": 0.0, \"mu_12\": 0.0, \"phi_1xdc\": 0, \"phi_2xdc\": 0, \"name\": \"four_well\", \"color\": \"cyan\", \"linestyle\": \"-\"} \n",
    "    protocol_1a = {\"phi_1x\": 0.0 * mu_factor_0, \"phi_2x\": 0.0, \"mu_12\": 0.0 * mu_factor_0, \"phi_1xdc\": 1.96, \"phi_2xdc\": 0, \"name\": \"decceleration_protocol\", \"color\": \"blue\", \"linestyle\": \"-\"}\n",
    "\n",
    "    mu_factor_2 = -0.8\n",
    "    protocol_2 = {\"phi_1x\": 0.095 * mu_factor_2, \"phi_2x\": 0, \"mu_12\": 0.05 * mu_factor_2, \"phi_1xdc\": 1.96, \"phi_2xdc\": 0, \"name\": \"acceleration\", \"color\": \"g\", \"linestyle\": \"-\"}\n",
    "\n",
    "    mu_factor_5 = -0.8\n",
    "    protocol_close_door = {\"phi_1x\": 0.095 * mu_factor_5, \"phi_2x\": 0.0, \"mu_12\": 0.05 * mu_factor_5, \"phi_1xdc\": 1.60, \"phi_2xdc\": 0, \"name\": \"squeezing\", \"color\": \"pink\", \"linestyle\": \"-\"}\n",
    "\n",
    "    mu_factor_6 = 0.0\n",
    "    protocol_catch = {\"phi_1x\": 0.095 * mu_factor_6, \"phi_2x\": 0.0, \"mu_12\": 0.05 * mu_factor_6, \"phi_1xdc\": 1.60, \"phi_2xdc\": 0, \"name\": \"catch\", \"color\": \"grey\", \"linestyle\": \"-\"}\n",
    "\n",
    "if beta_1 == 1.5:\n",
    "    cutline_value = 1.5\n",
    "    common_mu = 0.066\n",
    "    mu_factor_0 = -0.5\n",
    "    protocol_0 = {\"phi_1x\": 0.0, \"phi_2x\": 0.0, \"mu_12\": 0.0, \"phi_1xdc\": 0, \"phi_2xdc\": 0, \"name\": \"four_well\", \"color\": \"cyan\", \"linestyle\": \"-\"} \n",
    "    protocol_1a = {\"phi_1x\": 0.0 * mu_factor_0, \"phi_2x\": 0.0, \"mu_12\": 0.0 * mu_factor_0, \"phi_1xdc\": 0.95, \"phi_2xdc\": 0, \"name\": \"decceleration_protocol\", \"color\": \"blue\", \"linestyle\": \"-\"}\n",
    "\n",
    "    mu_factor_2 = -1.0\n",
    "    protocol_2 = {\"phi_1x\": 0.1 * mu_factor_2, \"phi_2x\": 0, \"mu_12\": common_mu * mu_factor_2, \"phi_1xdc\": 0.95, \"phi_2xdc\": 0, \"name\": \"acceleration\", \"color\": \"g\", \"linestyle\": \"-\"}\n",
    "\n",
    "    mu_factor_5 = -2.0\n",
    "    protocol_close_door = {\"phi_1x\": 0.1 * mu_factor_5, \"phi_2x\": 0.0, \"mu_12\": common_mu * mu_factor_5, \"phi_1xdc\": 0.8, \"phi_2xdc\": 0, \"name\": \"squeezing\", \"color\": \"pink\", \"linestyle\": \"-\"}\n",
    "\n",
    "    mu_factor_6 = 0.0\n",
    "    protocol_catch = {\"phi_1x\": 0.1 * mu_factor_6, \"phi_2x\": 0.0, \"mu_12\": common_mu * mu_factor_6, \"phi_1xdc\": 0.8, \"phi_2xdc\": 0, \"name\": \"catch\", \"color\": \"grey\", \"linestyle\": \"-\"}\n",
    "print(beta_1)"
   ]
  },
  {
   "cell_type": "code",
   "execution_count": null,
   "id": "35",
   "metadata": {},
   "outputs": [],
   "source": [
    "# protocol_array = [protocol_0, protocol_1, protocol_2, protocol_5]\n",
    "protocol_array = [protocol_2, protocol_close_door, protocol_catch]\n",
    "\n",
    "critical_point_list = plot_3_well_potential(protocol_array, [500, 1200], [800,1200], bottom_left_y_range= [-10, 400], bottom_right_y_range= [-10, 100], contour_x_range = [1.0, 2], contour_y_range = [-2.5, -1.5], \n",
    "                                             beta = beta_1, phi_2_bottom_fixed=-cutline_value, phi_2_top_fixed= cutline_value, set_same_min=True, direction = \"h\")"
   ]
  },
  {
   "cell_type": "code",
   "execution_count": null,
   "id": "36",
   "metadata": {},
   "outputs": [],
   "source": [
    "pre_acceleration_potential =  createProtocol(30, protocol_1a, name = \"pre_acceleration_potential\")\n",
    "\n",
    "acceleration_potential_jump =  createProtocol(0.01, protocol_2, name = \"acceleration_potential_jump\")\n",
    "acceleration_potential =  createProtocol(6, protocol_2, name = \"acceleration_potential\")\n",
    "# acceleration_potential_hold =  createProtocol(3, protocol_2, name = \"acceleration_potential_hold\")\n",
    "\n",
    "close_door_potential = createProtocol(3, protocol_close_door, name = \"close_door\")\n",
    "close_door_potential_hold = createProtocol(1.3, protocol_close_door, name = \"close_door\")\n",
    "catch_potential_jump = createProtocol(0.01, protocol_catch, name = \"catch_potential\")\n",
    "# catch_potential_hold = createProtocol(20, protocol_catch, name = \"catch_potential\")\n",
    "# decceleration_potential_jump =  createProtocol(0.01, protocol_1s, name = \"decceleration_potential_jump\")\n",
    "# decceleration_potential = createProtocol(10, protocol_1s, name = \"decceleration_potential\")\n",
    "# decceleration_potential =  createProtocol(2, protocol_1a, name = \"pre_acceleration_potential\")\n",
    "\n",
    "protocol_list_momentum = [\n",
    "    # pre_acceleration_potential,\n",
    "    pre_acceleration_potential,\n",
    "    acceleration_potential_jump,\n",
    "    acceleration_potential,\n",
    "    # acceleration_potential_hold,\n",
    "    close_door_potential,\n",
    "    close_door_potential_hold,\n",
    "    catch_potential_jump,\n",
    "    # catch_potential_hold,\n",
    "    # decceleration_potential_jump,\n",
    "    # decceleration_potential,\n",
    "    {'duration': 30.0, \"phi_1x\": 0.0, \"phi_2x\": 0.0, \"mu_12\": 0.00, \"phi_1xdc\": 0, \"phi_2xdc\": 0, \"name\": \"four_well\"}\n",
    "] \n",
    "\n",
    "\n",
    "\n",
    "\n",
    "# protocol_list_check_the_limit_for_error = [\n",
    "#     createProtocol(100, protocol_6, name = \"barrier_potential\"),\n",
    "#     createProtocol(100, protocol_6, name = \"barrier_potential\"),\n",
    "# ]  "
   ]
  },
  {
   "cell_type": "code",
   "execution_count": null,
   "id": "37",
   "metadata": {},
   "outputs": [],
   "source": [
    "protocol_list_momentum"
   ]
  },
  {
   "cell_type": "code",
   "execution_count": null,
   "id": "38",
   "metadata": {
    "tags": []
   },
   "outputs": [],
   "source": []
  },
  {
   "cell_type": "markdown",
   "id": "39",
   "metadata": {},
   "source": [
    "# new Protocol"
   ]
  },
  {
   "cell_type": "code",
   "execution_count": null,
   "id": "40",
   "metadata": {},
   "outputs": [],
   "source": [
    "# control swap protocol\n",
    "# mu_factor_0 = -0.35\n",
    "mu_factor_0 = -1.2\n",
    "\n",
    "mu_factor_1 = 1.0\n",
    "phi_1xdc_common = 1.85\n",
    "\n",
    "protocol_new_0 = {\"phi_1x\": 0.0, \"phi_2x\": 0.0, \"mu_12\": 0.0, \"phi_1xdc\": 0, \"phi_2xdc\": 0, \"name\": \"four_well\", \"color\": \"cyan\", \"linestyle\": \"-\"} \n",
    "protocol_new_1 = {\"phi_1x\": 0.0 * mu_factor_0, \"phi_2x\": 0.0, \"mu_12\": 0.0 * mu_factor_0, \"phi_1xdc\": 1.8, \"phi_2xdc\": 0, \"name\": \"pre_acceleration_protocol\", \"color\": \"orange\", \"linestyle\": \"-\"}\n",
    "protocol_new_2 = {\"phi_1x\": 0.075 * mu_factor_0, \"phi_2x\": 0.0, \"mu_12\": 0.05 * mu_factor_0, \"phi_1xdc\": 2.3, \"phi_2xdc\": 0, \"name\": \"acceleration_protocol\", \"color\": \"g\", \"linestyle\": \"-\"}\n",
    "protocol_new_3 = {\"phi_1x\": 0.00 * mu_factor_0, \"phi_2x\": 0.0, \"mu_12\": 0.00 * mu_factor_0, \"phi_1xdc\":  2.3, \"phi_2xdc\": 0, \"name\": \"harmonic\", \"color\": \"blue\", \"linestyle\": \"-\"}\n",
    "protocol_new_4 = {\"phi_1x\": 0.0, \"phi_2x\": 0.0, \"mu_12\": 0.0 * mu_factor_0, \"phi_1xdc\":  2.2, \"phi_2xdc\": 0, \"name\": \"shift\", \"color\": \"r\", \"linestyle\": \"-\"}\n",
    "protocol_new_5 = {\"phi_1x\": 0.05, \"phi_2x\": 0.0, \"mu_12\": 0.0 , \"phi_1xdc\":  2.2, \"phi_2xdc\": 0, \"name\": \"catch_phase_1\", \"color\": \"pink\", \"linestyle\": \"-\"}\n",
    "protocol_new_6 = {\"phi_1x\": 0.0, \"phi_2x\": 0.0, \"mu_12\": -0.0 , \"phi_1xdc\":  1.95, \"phi_2xdc\": 0, \"name\": \"catch_phase_2\", \"color\": \"purple\", \"linestyle\": \"-\"}\n",
    "protocol_new_7 = {\"phi_1x\": -0.0, \"phi_2x\": 0.0, \"mu_12\": 0.0 , \"phi_1xdc\":  0, \"phi_2xdc\": 0, \"name\": \"four_well\", \"color\": \"pink\", \"linestyle\": \"-\"}\n",
    "# protocol_new_5 = {\"phi_1x\": 0.075  * mu_factor_1, \"phi_2x\": 0.0, \"mu_12\": 0.00 * mu_factor_1, \"phi_1xdc\": 1.9, \"phi_2xdc\": 0, \"name\": \"catch\", \"color\": \"pink\", \"linestyle\": \"-\"}\n",
    "# protocol_new_5 = {\"phi_1x\": -0.0, \"phi_2x\": 1.5, \"mu_12\": 0.0 * mu_factor_0, \"phi_1xdc\": 2.8, \"phi_2xdc\": 2.3, \"name\": \"tilt to one side\", \"color\": \"grey\", \"linestyle\": \"-\"}\n",
    "# protocol_new_6 = {\"phi_1x\": 0.075 * mu_factor_0, \"phi_2x\": 0.0, \"mu_12\": 0.0 * mu_factor_0, \"phi_1xdc\": 2.0, \"phi_2xdc\": 1.8, \"name\": \"decceleration_protocol\", \"color\": \"grey\", \"linestyle\": \"-\"}\n",
    "\n",
    "# mu_factor_1 = -0.8\n",
    "# protocol_2 = {\"phi_1x\": 0.095 * mu_factor_1, \"phi_2x\": 0, \"mu_12\": 0.05 * mu_factor_1, \"phi_1xdc\": 1.96, \"phi_2xdc\": 0, \"name\": \"acceleration\", \"color\": \"g\", \"linestyle\": \"-\"}\n",
    "\n",
    "# mu_factor_5 = -0.8\n",
    "# protocol_close_door = {\"phi_1x\": 0.095 * mu_factor_5, \"phi_2x\": 0.0, \"mu_12\": 0.05 * mu_factor_5, \"phi_1xdc\": 1.60, \"phi_2xdc\": 0, \"name\": \"squeezing\", \"color\": \"pink\", \"linestyle\": \"-\"}\n",
    "\n",
    "# mu_factor_6 = 0.0\n",
    "# protocol_catch = {\"phi_1x\": 0.095 * mu_factor_6, \"phi_2x\": 0.0, \"mu_12\": 0.05 * mu_factor_6, \"phi_1xdc\": 1.60, \"phi_2xdc\": 0, \"name\": \"catch\", \"color\": \"grey\", \"linestyle\": \"-\"}"
   ]
  },
  {
   "cell_type": "code",
   "execution_count": null,
   "id": "41",
   "metadata": {},
   "outputs": [],
   "source": [
    "\n",
    "protocol_array = [protocol_new_2, protocol_new_3, protocol_new_4, protocol_new_5, protocol_new_6]\n",
    "# protocol_array = [protocol_new_4, protocol_new_5, protocol_new_6]\n",
    "\n",
    "critical_point_list = plot_3_well_potential(protocol_array, [500, 1200], [800,1200], bottom_left_y_range= [-10, 100], bottom_right_y_range= [-10, 100], contour_x_range = [1.0, 2], contour_y_range = [-2.5, -1.5], \n",
    "                                             beta = beta_1, phi_2_bottom_fixed=-2, phi_2_top_fixed= 2, set_same_min=True)"
   ]
  },
  {
   "cell_type": "code",
   "execution_count": null,
   "id": "42",
   "metadata": {},
   "outputs": [],
   "source": [
    "protocol_list_new = [\n",
    "    createProtocol(40, protocol_new_1, name = \"pre-acceleration_protocol\"),\n",
    "    createProtocol(30, protocol_new_2, name = \"acceleration_protocol\"),\n",
    "    createProtocol(50, protocol_new_3, name = \"harmonic\"),\n",
    "    # createProtocol(80, protocol_new_4, name = \"transit\"),\n",
    "    # createProtocol(80, protocol_new_4, name = \"transit_hold\"),\n",
    "    createProtocol(40, protocol_new_5, name = \"catch\"),\n",
    "    # createProtocol(40, protocol_new_5, name = \"catch\"),\n",
    "    createProtocol(1.0, protocol_new_6, name = \"catch_phase_2\"),\n",
    "    createProtocol(20, protocol_new_6, name = \"catch_phase_2\"),\n",
    "    \n",
    "    # createProtocol(30, protocol_new_5, name = \"catch hold\"),\n",
    "    createProtocol(100, protocol_new_7, name = \"four well\"),\n",
    "] \n",
    "\n",
    "\n",
    "protocol_list_new = [\n",
    "    {'phi_1xdc': 1.8, 'phi_2xdc': 0, 'phi_1x': -0.0, 'phi_2x': 0.0, 'mu_12': -0.0, 'duration': 40, 'name': 'pre-acceleration_protocol'},\n",
    "    {'phi_1xdc': 2.8, 'phi_2xdc': 0, 'phi_1x': -0.09, 'phi_2x': 0.0, 'mu_12': -0.06, 'duration': 30, 'name': 'acceleration_protocol'},\n",
    "    {'phi_1xdc': 2.8, 'phi_2xdc': 0, 'phi_1x': -0.0, 'phi_2x': 0.0, 'mu_12': -0.0, 'duration': 50, 'name': 'harmonic'},\n",
    "    {'phi_1xdc': 2.1, 'phi_2xdc': 0, 'phi_1x': -0.7, 'phi_2x': 0.0, 'mu_12': -0.0, 'duration': 80, 'name': 'transit'},\n",
    "    {'phi_1xdc': 2.1, 'phi_2xdc': 0, 'phi_1x': -0.7, 'phi_2x': 0.0, 'mu_12': 0.33, 'duration': 40, 'name': 'catch'},\n",
    "    {'phi_1xdc': 1.9, 'phi_2xdc': 0, 'phi_1x': -0.7, 'phi_2x': 0.0, 'mu_12': 0.35, 'duration': 1.5, 'name': 'catch_phase_2'},\n",
    "    {'phi_1xdc': 1.9, 'phi_2xdc': 0, 'phi_1x': -0.7, 'phi_2x': 0.0, 'mu_12': 0.35, 'duration': 20, 'name': 'catch_phase_2'},\n",
    "    {'phi_1xdc': 0, 'phi_2xdc': 0, 'phi_1x': -0.0, 'phi_2x': 0.0, 'mu_12': 0.0, 'duration': 100, 'name': 'four well'}\n",
    "]"
   ]
  },
  {
   "cell_type": "code",
   "execution_count": null,
   "id": "43",
   "metadata": {},
   "outputs": [],
   "source": []
  },
  {
   "cell_type": "markdown",
   "id": "44",
   "metadata": {},
   "source": [
    "# Controlled Flip"
   ]
  },
  {
   "cell_type": "code",
   "execution_count": null,
   "id": "45",
   "metadata": {},
   "outputs": [],
   "source": [
    "# control swap protocol\n",
    "# mu_factor_0 = -0.35\n",
    "mu_factor_0 = -1.2\n",
    "\n",
    "mu_factor_1 = 1.0\n",
    "phi_1xdc_common = 1.85\n",
    "# beta = 2.3\n",
    "protocol_CF_0 = {\"phi_1x\": 0.0, \"phi_2x\": 0.0, \"mu_12\": 0.0, \"phi_1xdc\": 0, \"phi_2xdc\": 0, \"name\": \"four_well\", \"color\": \"cyan\", \"linestyle\": \"-\"} \n",
    "protocol_CF_2 = {\"phi_1x\": 0.0, \"phi_2x\": 0.0, \"mu_12\": 0.08, \"phi_1xdc\": 2.1, \"phi_2xdc\": 0, \"name\": \"acceleration_protocol\", \"color\": \"g\", \"linestyle\": \"-\"}\n",
    "protocol_CF_3 = {\"phi_1x\": 0.0, \"phi_2x\": 0.0, \"mu_12\": 0.00, \"phi_1xdc\": 2.7, \"phi_2xdc\": 0, \"name\": \"harmonic\", \"color\": \"blue\", \"linestyle\": \"-\"}\n",
    "protocol_CF_4 = {\"phi_1x\": -0.15, \"phi_2x\": 0, \"mu_12\": 0.00, \"phi_1xdc\": 2.7, \"phi_2xdc\": 0, \"name\": \"shift\", \"color\": \"r\", \"linestyle\": \"-\"}\n",
    "protocol_CF_5 = {\"phi_1x\": -0.15, \"phi_2x\": 0.0, \"mu_12\": 0.035 , \"phi_1xdc\": 1.7, \"phi_2xdc\": 0, \"name\": \"catch_phase_1\", \"color\": \"pink\", \"linestyle\": \"-\"}\n",
    "protocol_CF_6 = {\"phi_1x\": -0.05, \"phi_2x\": 0, \"mu_12\": 0.020 , \"phi_1xdc\":  1.8, \"phi_2xdc\": 0, \"name\": \"catch_phase_2\", \"color\": \"purple\", \"linestyle\": \"-\"}\n",
    "protocol_CF_7 = {\"phi_1x\": -0.0, \"phi_2x\": 0, \"mu_12\": 0.0 , \"phi_1xdc\":  1.7, \"phi_2xdc\": 0, \"name\": \"catch_phase_3\", \"color\": \"purple\", \"linestyle\": \"--\"}\n",
    "protocol_CF_8 = {\"phi_1x\": -0.0, \"phi_2x\": 0.0, \"mu_12\": 0.0 , \"phi_1xdc\":  0, \"phi_2xdc\": 0, \"name\": \"four_well\", \"color\": \"pink\", \"linestyle\": \"-\"}\n",
    "# protocol_new_5 = {\"phi_1x\": 0.075  * mu_factor_1, \"phi_2x\": 0.0, \"mu_12\": 0.00 * mu_factor_1, \"phi_1xdc\": 1.9, \"phi_2xdc\": 0, \"name\": \"catch\", \"color\": \"pink\", \"linestyle\": \"-\"}\n",
    "# protocol_new_5 = {\"phi_1x\": -0.0, \"phi_2x\": 1.5, \"mu_12\": 0.0 * mu_factor_0, \"phi_1xdc\": 2.8, \"phi_2xdc\": 2.3, \"name\": \"tilt to one side\", \"color\": \"grey\", \"linestyle\": \"-\"}\n",
    "# protocol_new_6 = {\"phi_1x\": 0.075 * mu_\n",
    "# factor_0, \"phi_2x\": 0.0, \"mu_12\": 0.0 * mu_factor_0, \"phi_1xdc\": 2.0, \"phi_2xdc\": 1.8, \"name\": \"decceleration_protocol\", \"color\": \"grey\", \"linestyle\": \"-\"}\n",
    "\n",
    "\n",
    "\n",
    "# beta = 1.5\n",
    "protocol_CF_0 = {\"phi_1x\": 0.0, \"phi_2x\": 0.0, \"mu_12\": 0.0, \"phi_1xdc\": 0, \"phi_2xdc\": 0, \"name\": \"four_well\", \"color\": \"cyan\", \"linestyle\": \"-\"} \n",
    "protocol_CF_2 = {\"phi_1x\": 0.0, \"phi_2x\": 0.0, \"mu_12\": 0.05, \"phi_1xdc\": 0.60, \"phi_2xdc\": 0, \"name\": \"acceleration_protocol\", \"color\": \"g\", \"linestyle\": \"-\"}\n",
    "protocol_CF_3 = {\"phi_1x\": 0.0, \"phi_2x\": 0.0, \"mu_12\": 0.05, \"phi_1xdc\": 2.0, \"phi_2xdc\": 0, \"name\": \"harmonic\", \"color\": \"blue\", \"linestyle\": \"-\"}\n",
    "protocol_CF_4 = {\"phi_1x\": -0.10, \"phi_2x\": 0, \"mu_12\": 0.00, \"phi_1xdc\": 2.0, \"phi_2xdc\": 0, \"name\": \"shift\", \"color\": \"r\", \"linestyle\": \"-\"}\n",
    "protocol_CF_5 = {\"phi_1x\": -0.10, \"phi_2x\": 0.0, \"mu_12\": 0.03 , \"phi_1xdc\": 0.95, \"phi_2xdc\": 0, \"name\": \"catch_phase_1\", \"color\": \"pink\", \"linestyle\": \"-\"}\n",
    "protocol_CF_6 = {\"phi_1x\": -0.03, \"phi_2x\": 0, \"mu_12\": 0.010 , \"phi_1xdc\":  0.95, \"phi_2xdc\": 0, \"name\": \"catch_phase_2\", \"color\": \"purple\", \"linestyle\": \"-\"}\n",
    "protocol_CF_7 = {\"phi_1x\": -0.0, \"phi_2x\": 0, \"mu_12\": 0.0 , \"phi_1xdc\":  0.95, \"phi_2xdc\": 0, \"name\": \"catch_phase_3\", \"color\": \"purple\", \"linestyle\": \"--\"}\n",
    "protocol_CF_8 = {\"phi_1x\": -0.0, \"phi_2x\": 0.0, \"mu_12\": 0.0 , \"phi_1xdc\":  0, \"phi_2xdc\": 0, \"name\": \"four_well\", \"color\": \"pink\", \"linestyle\": \"-\"}\n",
    "\n",
    "\n",
    "# mu_factor_1 = -0.8\n",
    "# protocol_2 = {\"phi_1x\": 0.095 * mu_factor_1, \"phi_2x\": 0, \"mu_12\": 0.05 * mu_factor_1, \"phi_1xdc\": 1.96, \"phi_2xdc\": 0, \"name\": \"acceleration\", \"color\": \"g\", \"linestyle\": \"-\"}\n",
    "\n",
    "# mu_factor_5 = -0.8\n",
    "# protocol_close_door = {\"phi_1x\": 0.095 * mu_factor_5, \"phi_2x\": 0.0, \"mu_12\": 0.05 * mu_factor_5, \"phi_1xdc\": 1.60, \"phi_2xdc\": 0, \"name\": \"squeezing\", \"color\": \"pink\", \"linestyle\": \"-\"}\n",
    "\n",
    "# mu_factor_6 = 0.0\n",
    "# protocol_catch = {\"phi_1x\": 0.095 * mu_factor_6, \"phi_2x\": 0.0, \"mu_12\": 0.05 * mu_factor_6, \"phi_1xdc\": 1.60, \"phi_2xdc\": 0, \"name\": \"catch\", \"color\": \"grey\", \"linestyle\": \"-\"}"
   ]
  },
  {
   "cell_type": "code",
   "execution_count": null,
   "id": "46",
   "metadata": {},
   "outputs": [],
   "source": [
    "\n",
    "protocol_array = [protocol_CF_2, protocol_CF_3]\n",
    "protocol_array = [protocol_CF_2, protocol_CF_3, protocol_CF_4]\n",
    "protocol_array = [protocol_CF_4, protocol_CF_5, protocol_CF_6, protocol_CF_7]\n",
    "# protocol_array = [protocol_CF_2, protocol_CF_3, protocol_CF_5, protocol_CF_6, protocol_CF_7]\n",
    "\n",
    "critical_point_list = plot_3_well_potential(protocol_array, [500, 1200], [800,1200], bottom_left_y_range= [-10, 300], bottom_right_y_range= [-10, 300], contour_x_range = [1.0, 2], contour_y_range = [-2.5, -1.5], \n",
    "                                             beta = beta_1, phi_2_bottom_fixed=-1.5, phi_2_top_fixed= 1.5, set_same_min=True, direction = \"h\")"
   ]
  },
  {
   "cell_type": "code",
   "execution_count": null,
   "id": "47",
   "metadata": {},
   "outputs": [],
   "source": []
  },
  {
   "cell_type": "code",
   "execution_count": null,
   "id": "48",
   "metadata": {},
   "outputs": [],
   "source": [
    "protocol_list_CF = [\n",
    "    createProtocol(20, protocol_CF_2, name = \"pre-acceleration_protocol\"),\n",
    "    createProtocol(30, protocol_CF_3, name = \"acceleration_protocol\"),\n",
    "    createProtocol(20, protocol_CF_4, name = \"shift\"),\n",
    "    createProtocol(20, protocol_CF_4, name = \"shift\"),\n",
    "\n",
    "    createProtocol(10, protocol_CF_5, name = \"catch_1\"),\n",
    "    createProtocol(40, protocol_CF_5, name = \"catch_1\"),\n",
    "    # createProtocol(10, protocol_CF_6, name = \"catch_2\"),\n",
    "    # createProtocol(25, protocol_CF_6, name = \"catch_2\"),\n",
    "    # createProtocol(20, protocol_CF_7, name = \"catch_3\"),\n",
    "    # createProtocol(100, protocol_CF_8, name = \"four well\"),\n",
    "] \n",
    "\n",
    "# protocol_list_CF = [\n",
    "#     {'phi_1xdc': 1.8, 'phi_2xdc': 0, 'phi_1x': 0.0, 'phi_2x': 0.0, 'mu_12': 0.0, 'duration': 40, 'name': 'pre-acceleration_protocol'},\n",
    "#     {'phi_1xdc': 2.1, 'phi_2xdc': 0, 'phi_1x': 0.0, 'phi_2x': 0.0, 'mu_12': 0.08, 'duration': 10, 'name': 'acceleration_protocol'},\n",
    "#     {'phi_1xdc': 2.7, 'phi_2xdc': 0, 'phi_1x': 0.0, 'phi_2x': 0.0, 'mu_12': 0.0, 'duration': 50, 'name': 'harmonic'},\n",
    "#     {'phi_1xdc': 1.7, 'phi_2xdc': 0, 'phi_1x': -0.15, 'phi_2x': 0.0, 'mu_12': 0.035, 'duration': 20, 'name': 'catch_1'},\n",
    "#     {'phi_1xdc': 1.8, 'phi_2xdc': 0, 'phi_1x': -0.05, 'phi_2x': 0, 'mu_12': 0.02, 'duration': 25, 'name': 'catch_2'},\n",
    "#     {'phi_1xdc': 1.7, 'phi_2xdc': 0, 'phi_1x': -0.0, 'phi_2x': 0, 'mu_12': 0.0, 'duration': 20, 'name': 'catch_3'},\n",
    "#     {'phi_1xdc': 0, 'phi_2xdc': 0, 'phi_1x': -0.0, 'phi_2x': 0.0, 'mu_12': 0.0, 'duration': 100, 'name': 'four well'}\n",
    "# ]"
   ]
  },
  {
   "cell_type": "code",
   "execution_count": null,
   "id": "49",
   "metadata": {},
   "outputs": [],
   "source": []
  },
  {
   "cell_type": "markdown",
   "id": "50",
   "metadata": {},
   "source": [
    "# adiabatic protocol"
   ]
  },
  {
   "cell_type": "code",
   "execution_count": null,
   "id": "51",
   "metadata": {},
   "outputs": [],
   "source": [
    "\n",
    "\n",
    "\n",
    "mu_factor_1 = -1.1\n",
    "protocol_0_q = {\"phi_1x\": 0. * mu_factor_1, \"phi_2x\": 0, \"mu_12\": 0. * mu_factor_1, \"phi_1xdc\": 0.0, \"phi_2xdc\": 0, \"name\": \"acceleration_protocol_0\", \"color\": \"g\", \"linestyle\": \"-\"}\n",
    "\n",
    "# beta = 2.3\n",
    "\n",
    "if beta_1 == 2.3:\n",
    "    protocol_2 = {\"phi_1x\": 0.095 * mu_factor_1, \"phi_2x\": 0, \"mu_12\": 0.0475 * mu_factor_1, \"phi_1xdc\": 1.90, \"phi_2xdc\": 0, \"name\": \"acceleration\", \"color\": \"g\", \"linestyle\": \"-\"}\n",
    "    cutline_value = 2\n",
    "# beta = 1.5\n",
    "if beta_1 == 1.5:\n",
    "    \n",
    "    protocol_1_q = {\"phi_1x\": 0. * mu_factor_1, \"phi_2x\": 0, \"mu_12\": 0. * mu_factor_1, \"phi_1xdc\": 0.95, \"phi_2xdc\": 0, \"name\": \"acceleration_protocol_0\", \"color\": \"g\", \"linestyle\": \"-\"}\n",
    "    protocol_2 = {\"phi_1x\": 0.09 * mu_factor_1, \"phi_2x\": 0, \"mu_12\": 0.06 * mu_factor_1, \"phi_1xdc\": 0.95, \"phi_2xdc\": 0, \"name\": \"acceleration\", \"color\": \"r\", \"linestyle\": \"-\"}\n",
    "    cutline_value = 1.5\n",
    "\n",
    "\n",
    "protocol_list_adiabatic = [\n",
    "    createProtocol(40, protocol_2, name = \"acceleration_potential\"),\n",
    "    createProtocol(40, protocol_2, name = \"acceleration_potential_hold\"),\n",
    "    # createProtocol(0.01, protocol_1s, name = \"decceleration_potential_jump\"),\n",
    "    # createProtocol(10, protocol_1s, name = \"decceleration_potential_hold\"),\n",
    "    {'duration': 40.0, \"phi_1x\": 0.0, \"phi_2x\": 0.0, \"mu_12\": 0.00, \"phi_1xdc\": 0, \"phi_2xdc\": 0, \"name\": \"four_well\"}\n",
    "]  \n",
    "protocol_array = [protocol_1_q, protocol_2 ]\n",
    "\n",
    "# print(U0_1)\n",
    "\n",
    "critical_point_list = plot_3_well_potential(protocol_array, [500, 2200], [800,1200], bottom_left_y_range= [0, 1000], bottom_right_y_range= [-10, 60], contour_x_range = [1.0, 2], contour_y_range = [-2.5, -1.5], \n",
    "                                             beta = beta_1, phi_2_bottom_fixed=-cutline_value, phi_2_top_fixed= cutline_value, set_same_min=True)"
   ]
  },
  {
   "cell_type": "code",
   "execution_count": null,
   "id": "52",
   "metadata": {},
   "outputs": [],
   "source": []
  },
  {
   "cell_type": "markdown",
   "id": "53",
   "metadata": {},
   "source": [
    "# Fast Erasure Protoocl"
   ]
  },
  {
   "cell_type": "code",
   "execution_count": null,
   "id": "54",
   "metadata": {},
   "outputs": [],
   "source": [
    "mu_factor_0 = -1.2\n",
    "\n",
    "mu_factor_1 = 2\n",
    "phi_1xdc_common = 1.85\n",
    "\n",
    "protocol_fast_erasure_0 = {\"phi_1x\": 0.0, \"phi_2x\": 0.0, \"mu_12\": 0.0, \"phi_1xdc\": 0, \"phi_2xdc\": 0, \"name\": \"four_well\", \"color\": \"cyan\", \"linestyle\": \"-\"} \n",
    "# protocol_new_2 = {\"phi_1x\": 0.075 * mu_factor_0, \"phi_2x\": 0.0, \"mu_12\": 0.05 * mu_factor_0, \"phi_1xdc\": 2.3, \"phi_2xdc\": 0, \"name\": \"acceleration_protocol\", \"color\": \"g\", \"linestyle\": \"-\"}\n",
    "protocol_fast_erasure_1 = {\"phi_1x\": 0.095 * mu_factor_1, \"phi_2x\": 0.0, \"mu_12\": 0.03 * mu_factor_1 , \"phi_1xdc\":  np.pi, \"phi_2xdc\": 0, \"name\": \"harmonic\", \"color\": \"blue\", \"linestyle\": \"-\"}\n",
    "protocol_fast_erasure_2 = {\"phi_1x\": 0.0 * mu_factor_1, \"phi_2x\": 0.0, \"mu_12\": 0.0 * mu_factor_1 , \"phi_1xdc\":  np.pi, \"phi_2xdc\": 0, \"name\": \"harmonic\", \"color\": \"blue\", \"linestyle\": \"-\"}\n",
    "# protocol_new_4 = {\"phi_1x\": -0.3, \"phi_2x\": 0.0, \"mu_12\": 0.0 * mu_factor_0, \"phi_1xdc\":  2.3, \"phi_2xdc\": 0, \"name\": \"shift\", \"color\": \"r\", \"linestyle\": \"-\"}\n",
    "# protocol_new_5 = {\"phi_1x\": -0.3, \"phi_2x\": 0.0, \"mu_12\": 0.10 , \"phi_1xdc\":  1.8, \"phi_2xdc\": 0, \"name\": \"catch\", \"color\": \"pink\", \"linestyle\": \"-\"}\n",
    "# protocol_new_6 = {\"phi_1x\": -0.0, \"phi_2x\": 0.0, \"mu_12\": 0.0 , \"phi_1xdc\":  0, \"phi_2xdc\": 0, \"name\": \"four well\", \"color\": \"pink\", \"linestyle\": \"-\"}"
   ]
  },
  {
   "cell_type": "code",
   "execution_count": null,
   "id": "55",
   "metadata": {},
   "outputs": [],
   "source": [
    "\n",
    "protocol_array = [protocol_fast_erasure_1, protocol_fast_erasure_2 ]\n",
    "\n",
    "# print(U0_1)\n",
    "\n",
    "critical_point_list = plot_3_well_potential(protocol_array, [500, 2200], [800,1200], bottom_left_y_range= [0, 1000], bottom_right_y_range= [-10, 60], contour_x_range = [1.0, 2], contour_y_range = [-2.5, -1.5], \n",
    "                                             beta = beta_1, phi_2_bottom_fixed=-1.9, phi_2_top_fixed= 1.9, set_same_min=True)"
   ]
  },
  {
   "cell_type": "code",
   "execution_count": null,
   "id": "56",
   "metadata": {},
   "outputs": [],
   "source": [
    "protocol_list_fast_erasure = [\n",
    "    # pre_acceleration_potential,\n",
    "    # createProtocol(20, protocol_new_1, name = \"pre_acceleration_protocol\"),\n",
    "    createProtocol(0.01, protocol_fast_erasure_1, name = \"acceleration_protocol\"),\n",
    "    createProtocol(1.57, protocol_fast_erasure_1, name = \"acceleration_protocol_hold\"),\n",
    "    createProtocol(0.01, protocol_fast_erasure_2, name = \"acceleration_protocol_2\"),\n",
    "    createProtocol(4.71, protocol_fast_erasure_2, name = \"acceleration_protocol_hold\"),\n",
    "    createProtocol(0.01, protocol_fast_erasure_0, name = \"four well\"),\n",
    "    createProtocol(10, protocol_fast_erasure_0, name = \"four well hold\"),\n",
    "    # createProtocol(6.5, protocol_fast_erasure_2, name = \"acceleration_protocol_hold\"),\n",
    "    # createProtocol(0.01, protocol_fast_erasure_0, name = \"acceleration_protocol_hold\"),\n",
    "    # createProtocol(10, protocol_fast_erasure_0, name = \"acceleration_protocol_hold\"),\n",
    "    \n",
    "    \n",
    "] \n"
   ]
  },
  {
   "cell_type": "code",
   "execution_count": null,
   "id": "57",
   "metadata": {},
   "outputs": [],
   "source": []
  },
  {
   "cell_type": "code",
   "execution_count": null,
   "id": "58",
   "metadata": {},
   "outputs": [],
   "source": []
  },
  {
   "cell_type": "markdown",
   "id": "59",
   "metadata": {},
   "source": [
    "# conditional tilt"
   ]
  },
  {
   "cell_type": "code",
   "execution_count": null,
   "id": "60",
   "metadata": {},
   "outputs": [],
   "source": [
    "mu_factor_h0 = 0.30\n",
    "mu_factor_h1 = 0.45\n",
    "\n",
    "# for beta = 1.5\n",
    "protocol_CT_0 = {\"phi_1x\": 0.0, \"phi_2x\": 0.0, \"mu_12\": 0.0, \"phi_1xdc\": 0, \"phi_2xdc\": 0, \"name\": \"four_well\", \"color\": \"r\", \"linestyle\": \"-\"} \n",
    "# protocol_CT_1 = {\"phi_1x\": 0.0, \"phi_2x\": 0.0, \"mu_12\": 0.1, \"phi_1xdc\": 0, \"phi_2xdc\": 0, \"name\": \"h1\", \"color\": \"r\", \"linestyle\": \"-\"}\n",
    "protocol_CT_1 = {\"phi_1x\": 0.0, \"phi_2x\": 0.0, \"mu_12\": 0.0, \"phi_1xdc\": 1.7, \"phi_2xdc\": 0, \"name\": \"h2\", \"color\": \"g\", \"linestyle\": \"-\"} \n",
    "protocol_CT_2 = {\"phi_1x\": 0.0, \"phi_2x\": 0.0, \"mu_12\": 0.05, \"phi_1xdc\": 1.7, \"phi_2xdc\": 0, \"name\": \"h2\", \"color\": \"g\", \"linestyle\": \"-\"} \n",
    "protocol_CT_3 = {\"phi_1x\": 0.0, \"phi_2x\": 0.0, \"mu_12\": 0.05, \"phi_1xdc\": 0, \"phi_2xdc\": 0, \"name\": \"h2\", \"color\": \"g\", \"linestyle\": \"-\"} \n",
    "# protocol_CT_3 = {\"phi_1x\": 0.0, \"phi_2x\": 0.0, \"mu_12\": 0.1, \"phi_1xdc\": 0, \"phi_2xdc\": 0, \"name\": \"h3\", \"color\": \"b\", \"linestyle\": \"-\"}\n",
    "# for beta = 1.5\n",
    "protocol_CT_0 = {\"phi_1x\": 0.0, \"phi_2x\": 0.0, \"mu_12\": 0.0, \"phi_1xdc\": 0, \"phi_2xdc\": 0, \"name\": \"four_well\", \"color\": \"r\", \"linestyle\": \"-\"} \n",
    "protocol_CT_1 = {\"phi_1x\": 0. * mu_factor_h0, \"phi_2x\": 0.0, \"mu_12\": 0.068 * mu_factor_h0, \"phi_1xdc\": 1.1, \"phi_2xdc\": 0, \"name\": \"h1\", \"color\": \"r\", \"linestyle\": \"-\"} \n",
    "protocol_CT_2 = {\"phi_1x\": 0. * mu_factor_h0, \"phi_2x\": 0.0, \"mu_12\": 0.068 * mu_factor_h0, \"phi_1xdc\": 1.8, \"phi_2xdc\": 0, \"name\": \"h2\", \"color\": \"g\", \"linestyle\": \"-\"} \n",
    "protocol_CT_3 = {\"phi_1x\": 0. * mu_factor_h1, \"phi_2x\": 0.0, \"mu_12\": 0.068 * mu_factor_h1, \"phi_1xdc\": 1.1, \"phi_2xdc\": 0, \"name\": \"h3\", \"color\": \"b\", \"linestyle\": \"-\"} \n",
    "# protocol_harmonic_h4 = {\"phi_1x\": 0. * mu_factor_h0, \"phi_2x\": 0.0, \"mu_12\": 0.00 * mu_factor_h0, \"phi_1xdc\": 1.0, \"phi_2xdc\": 0, \"name\": \"harmonic\", \"color\": \"r\", \"linestyle\": \"-\"} \n",
    "\n",
    "\n",
    "protocol_array = [protocol_CT_0, protocol_CT_1, protocol_CT_2 ]\n",
    "\n",
    "# print(U0_1)\n",
    "\n",
    "critical_point_list = plot_3_well_potential(protocol_array, [500, 1200], [500,1200], bottom_left_y_range= [-10, 500], bottom_right_y_range= [-10, 60], contour_x_range = [1.0, 2], contour_y_range = [-2.5, -1.5], \n",
    "                                             beta = beta_1, phi_2_bottom_fixed=-1.5, phi_2_top_fixed= 1.5, set_same_min=True)\n",
    "# protocol_harmonic_h4 = {\"phi_1x\": 0. * mu_factor_h0, \"phi_2x\": 0.0, \"mu_12\": 0.00 * mu_factor_h0, \"phi_1xdc\": 1.0, \"phi_2xdc\": 0, \"name\": \"harmonic\", \"color\": \"r\", \"linestyle\": \"-\"} \n",
    "\n",
    "\n",
    "protocol_list_CT = [\n",
    "    # createProtocol(20, protocol_harmonic_h2, name = \"flip erasure\"),\n",
    "    createProtocol(25, protocol_CT_2, name = \"flip erasure\"),\n",
    "    # createProtocol(20, protocol_harmonic_h2, name = \"flip erasure\"),\n",
    "    createProtocol(15, protocol_CT_3, name = \"raise barrier\"),\n",
    "    createProtocol(25, protocol_CT_0, name = \"4 well\"),\n",
    "\n",
    "    # NAND\n",
    "    # createProtocol(10, protocol_harmonic_v1, name = \"harmonic\"),\n",
    "    # createProtocol(12, protocol_harmonic_v2, name = \"harmonic\"),\n",
    "    # createProtocol(14, protocol_harmonic_v3, name = \"harmonic\"),\n",
    "    # createProtocol(10, protocol_harmonic_v0, name = \"barrier raise\"),\n",
    "] \n"
   ]
  },
  {
   "cell_type": "markdown",
   "id": "61",
   "metadata": {},
   "source": [
    "# harmonic potential"
   ]
  },
  {
   "cell_type": "code",
   "execution_count": null,
   "id": "62",
   "metadata": {},
   "outputs": [],
   "source": [
    "mu_factor_h1 = 0.0\n",
    "mu_factor_h2 = 0.7\n",
    "mu_factor_h3 = 1.0\n",
    "\n",
    "if beta_1 == 1.5:\n",
    "    # for beta = 1.5\n",
    "    protocol_harmonic_h0 = {\"phi_1x\": 0.0, \"phi_2x\": 0.0, \"mu_12\": 0.0, \"phi_1xdc\": 0, \"phi_2xdc\": 0, \"name\": \"four_well\", \"color\": \"r\", \"linestyle\": \"-\"} \n",
    "    protocol_harmonic_h1 = {\"phi_1x\": 0.1 * mu_factor_h1, \"phi_2x\": 0.0, \"mu_12\": 0.0665 * mu_factor_h1, \"phi_1xdc\": 1.1, \"phi_2xdc\": 0, \"name\": \"h1\", \"color\": \"r\", \"linestyle\": \"-\"} \n",
    "    protocol_harmonic_h2 = {\"phi_1x\": 0.1 * mu_factor_h2, \"phi_2x\": 0.0, \"mu_12\": 0.0665 * mu_factor_h2, \"phi_1xdc\": 1.8, \"phi_2xdc\": 0, \"name\": \"h2\", \"color\": \"g\", \"linestyle\": \"-\"} \n",
    "    protocol_harmonic_h3 = {\"phi_1x\": 0.1 * mu_factor_h3, \"phi_2x\": 0.0, \"mu_12\": 0.0665 * mu_factor_h3, \"phi_1xdc\": 0, \"phi_2xdc\": 0, \"name\": \"h3\", \"color\": \"b\", \"linestyle\": \"-\"} \n",
    "    # protocol_harmonic_h4 = {\"phi_1x\": 0. * mu_factor_h0, \"phi_2x\": 0.0, \"mu_12\": 0.00 * mu_factor_h0, \"phi_1xdc\": 1.0, \"phi_2xdc\": 0, \"name\": \"harmonic\", \"color\": \"r\", \"linestyle\": \"-\"} \n",
    "    cutline_value = 1.5\n",
    "\n",
    "    protocol_list_harmonic = [\n",
    "        createProtocol(14, protocol_harmonic_h2, name = \"flip erasure\"),\n",
    "        createProtocol(2, protocol_harmonic_h2, name = \"flip erasure\"),\n",
    "        createProtocol(20, protocol_harmonic_h3, name = \"raise barrier\"),\n",
    "        createProtocol(5, protocol_harmonic_h0, name = \"4 well\"),\n",
    "    ]\n"
   ]
  },
  {
   "cell_type": "markdown",
   "id": "63",
   "metadata": {},
   "source": [
    "# new harmonic protoocl"
   ]
  },
  {
   "cell_type": "code",
   "execution_count": null,
   "id": "64",
   "metadata": {},
   "outputs": [],
   "source": [
    "# params_array = [(0.5, -0.9), [(0.76, -0.65), (0.89, -0.55), (1.03, -0.4), (1.1, -0.3)], (1.18, -0.25)]\n",
    "\n",
    "if beta_1 == 1.5:\n",
    "    mu_factor_h1 = 0.0\n",
    "    mu_factor_h2 = 0.6\n",
    "    # mu_factor_h2_5 = 0.4\n",
    "    mu_factor_h3 = 0.3\n",
    "\n",
    "    # mu_factor_h2 = 0.42\n",
    "    # mu_factor_h2_5 = 0.4\n",
    "    # mu_factor_h3 = 0.80\n",
    "    protocol_harmonic_h0 = {\"phi_1x\": 0.0, \"phi_2x\": 0.0, \"mu_12\": 0.0, \"phi_1xdc\": 0, \"phi_2xdc\": 0, \"name\": \"four_well\", \"color\": \"pink\", \"linestyle\": \"-\"} \n",
    "    # protocol_harmonic_h1 = {\"phi_1x\": 0.1 * mu_factor_h1, \"phi_2x\": 0.0, \"mu_12\": 0.0765 * mu_factor_h1, \"phi_1xdc\": 0.8, \"phi_2xdc\": 0, \"name\": \"h1\", \"color\": \"r\", \"linestyle\": \"-\"} \n",
    "    protocol_harmonic_h1 = {\"phi_1x\": 0.1 * mu_factor_h1, \"phi_2x\": 0.0, \"mu_12\": 0.068 * mu_factor_h1, \"phi_1xdc\": 1.5, \"phi_2xdc\": 0, \"name\": \"h1\", \"color\": \"r\", \"linestyle\": \"-\"} \n",
    "    protocol_harmonic_h2 = {\"phi_1x\": 0.1 * mu_factor_h2, \"phi_2x\": 0.0, \"mu_12\": 0.068 * mu_factor_h2, \"phi_1xdc\": 1.8, \"phi_2xdc\": 0, \"name\": \"h2\", \"color\": \"g\", \"linestyle\": \"-\"} \n",
    "    protocol_harmonic_h3 = {\"phi_1x\": 0.1 * mu_factor_h3, \"phi_2x\": 0.0, \"mu_12\": 0.068 * mu_factor_h3, \"phi_1xdc\": 1.4, \"phi_2xdc\": 0, \"name\": \"h3\", \"color\": \"b\", \"linestyle\": \"-\"} \n",
    "    \n",
    "    # protocol_harmonic_h4 = {\"phi_1x\": 0. * mu_factor_h0, \"phi_2x\": 0.0, \"mu_12\": 0.00 * mu_factor_h0, \"phi_1xdc\": 1.0, \"phi_2xdc\": 0, \"name\": \"harmonic\", \"color\": \"r\", \"linestyle\": \"-\"} \n",
    "    cutline_value = 1.5\n",
    "\n",
    "\n",
    "    protocol_list_harmonic = [\n",
    "        createProtocol(13, protocol_harmonic_h1, name = \"lower barrier\"),\n",
    "        createProtocol(2, protocol_harmonic_h2, name = \"flip and erasure\"),\n",
    "        createProtocol(2, protocol_harmonic_h2, name = \"flip erasure\"),\n",
    "        createProtocol(3.5, protocol_harmonic_h3, name = \"raise barrier\"),\n",
    "        createProtocol(13, protocol_harmonic_h0, name = \"four well\"),\n",
    "        # createProtocol(10, protocol_harmonic_h0, name = \"four well\"),\n",
    "        # createProtocol(24, protocol_harmonic_h0, name = \"thermalize\"),\n",
    "        # createProtocol(30, protocol_harmonic_h0, name = \"four well\"),\n",
    "        # createProtocol(80, protocol_harmonic_h0, name = \"four well\"),\n",
    "    ] \n",
    "\n",
    "\n",
    "\n",
    "protocol_array = [protocol_harmonic_h1, protocol_harmonic_h2,  protocol_harmonic_h3]\n",
    "\n",
    "# print(U0_1)\n",
    "\n",
    "critical_point_list = plot_3_well_potential(protocol_array, [500, 1200], [500,1200], bottom_left_y_range= [-10, 100], bottom_right_y_range= [-10, 60], contour_x_range = [1.0, 2], contour_y_range = [-2.5, -1.5], \n",
    "                                             beta = beta_1, phi_2_bottom_fixed=-1.5, phi_2_top_fixed= 1.5, set_same_min=True)\n"
   ]
  },
  {
   "cell_type": "code",
   "execution_count": null,
   "id": "65",
   "metadata": {},
   "outputs": [],
   "source": [
    "protocol_type = \"harmonic\"\n",
    "\n",
    "if protocol_type == \"harmonic\":\n",
    "    mapping_dict = mapping_state_1_to_state_2_erasure_flip\n",
    "    protocol_list = protocol_list_harmonic\n",
    "\n",
    "if protocol_type == \"adiabatic\":\n",
    "    mapping_dict = mapping_state_1_to_state_2_dict_CE\n",
    "    protocol_list = protocol_list_adiabatic\n",
    "\n",
    "params['mapping_state_1_to_state_2_dict'] = mapping_dict\n",
    "\n"
   ]
  },
  {
   "cell_type": "markdown",
   "id": "66",
   "metadata": {},
   "source": [
    "# setting protocol (click here!)"
   ]
  },
  {
   "cell_type": "markdown",
   "id": "67",
   "metadata": {
    "tags": []
   },
   "source": [
    "# first initialization"
   ]
  },
  {
   "cell_type": "markdown",
   "id": "68",
   "metadata": {},
   "source": [
    "### create initial state "
   ]
  },
  {
   "cell_type": "code",
   "execution_count": null,
   "id": "69",
   "metadata": {
    "tags": []
   },
   "outputs": [],
   "source": [
    "%%capture\n",
    "initial_state_array = [\"saved_init_state/four_well_default_init_state_N_1000.npy\", \"saved_init_state/after_CE_8_completed_N_1000z.npy\", \"saved_init_state/just_before_KEP_N_1000.npy\"]\n",
    "initial_state_array = [f\"saved_init_state/four_well_default_init_state_N_1000_T={T}, L={L_1}, beta = {beta_1}.npy\"]\n",
    "initial_state_array = [f\"saved_init_state/four_well_default_init_state_N_1000_T={T}, L={L_1}, beta = {beta_1}, phi_2xdc = {phi_2xdc}.npy\"]\n",
    "initial_state_array = [f\"saved_init_state/four_well_default_init_state_N_1000_T={T}, L={L_1}, beta = {beta_1}, phi_1xdc = {phi_1xdc}.npy\"]\n",
    "# initial_state_array = [f\"saved_init_state//init_state_database/T=4.2K, N = 1000, beta = 2.3\"]\n",
    "initial_state_array = [f\"saved_init_state/init_state_database_2/T_4.2K_N_1000_beta_1.5\"]\n",
    "\n",
    "import random\n",
    "initial_state_folder = initial_state_array[0]\n",
    "\n",
    "regenerate_init_state = False\n",
    "# init_state_saved = None\n",
    "# regenerate_init_state = True\n",
    "if regenerate_init_state:\n",
    "    initial_potential_protocol_list = [create_CE_Protocol(100, four_well)]\n",
    "    init_params = params.copy()\n",
    "    init_params['sim_params'] = [_lambda, _theta, _eta]\n",
    "    init_params['dt'] = 1/500\n",
    "    init_state_saved = cfq_batch_sweep.create_initial_state(initial_parameter_dict, initial_potential_protocol_list, coupled_fq_pot, init_params)\n",
    "    # np.save(f\"saved_init_state/four_well_default_init_state_N_1000_T={T}, L={L_1}, beta = {beta_1}, phi_1xdc = {phi_1xdc}.npy\", init_state_saved)\n",
    "else:\n",
    "    initial_state_folder_path = os.listdir(initial_state_folder)\n",
    "    \n",
    "    initial_state_chosen = os.path.join(initial_state_folder, random.choice(initial_state_folder_path))\n",
    "    init_state_saved = np.load(initial_state_chosen)\n",
    "\n",
    "    # init_state_saved = np.load(f\"saved_init_state/four_well_default_init_state_N_1000_T={T}, L={L_1}, beta = {beta_1}, phi_1xdc = {phi_1xdc}.npy\")\n",
    "\n",
    "\n",
    "init_state_used = init_state_saved\n",
    "\n",
    "# for harmonic potential\n",
    "# init_state_used[:, 2, 0] = 0\n",
    "# init_state_used[:, 0, 0] = 0\n",
    "# particle_index = visualization.separate_by_state_2(init_state_saved[:, (0, 1), :])\n",
    "# init_state_used = init_state_saved[particle_index[\"00\"]]"
   ]
  },
  {
   "cell_type": "code",
   "execution_count": null,
   "id": "70",
   "metadata": {},
   "outputs": [],
   "source": [
    "print(f\"number of initial state = {len(initial_state_folder_path)}\")"
   ]
  },
  {
   "cell_type": "code",
   "execution_count": null,
   "id": "71",
   "metadata": {},
   "outputs": [],
   "source": []
  },
  {
   "cell_type": "code",
   "execution_count": null,
   "id": "72",
   "metadata": {},
   "outputs": [],
   "source": [
    "import edward_tools\n",
    "importlib.reload(edward_tools)\n",
    "find_all_critical_points_for_all_potential = edward_tools.pot_analysis_helper_functions.find_all_critical_points_for_all_potential"
   ]
  },
  {
   "cell_type": "markdown",
   "id": "73",
   "metadata": {},
   "source": [
    "### create cfqr object"
   ]
  },
  {
   "cell_type": "code",
   "execution_count": null,
   "id": "74",
   "metadata": {
    "tags": []
   },
   "outputs": [],
   "source": [
    "\"\"\"\n",
    "# step 3: create the relevant storage protocol and computation protocol\n",
    "\"\"\"\n",
    "def modifiedFunction(t, result):\n",
    "    return result\n",
    "\n",
    "\n",
    "computation_protocol_parameter_dict = coupled_fq_protocol_library.customizedProtocol(initial_parameter_dict, \\\n",
    "                                                                    protocol_list)\n",
    "storage_protocol, comp_protocol = create_system(computation_protocol_parameter_dict, modifiedFunction = None)\n",
    "\n",
    "cfqr = cfq_runner.coupledFluxQubitRunner(potential = coupled_fq_pot, params = params, \\\n",
    "                                                storage_protocol= storage_protocol, \\\n",
    "                                                computation_protocol= comp_protocol, \\\n",
    "                                         protocol_list = protocol_list, \\\n",
    "                                        has_velocity=has_velocity)\n",
    "\n",
    "protocol_time_array, protocol_time_index_array, protocol_all_time_array, protocol_time_all_index_array = cfqr.createProtocolTimeArray(protocol_list, params)\n",
    "cfqr.initialize_sim()\n",
    "# cfqr.set_sim_attributes(init_state=init_state_saved)\n",
    "cfqr.set_sim_attributes(init_state=init_state_used)\n",
    "print(f\"mean KE = {np.mean(cfqr.system.get_kinetic_energy(init_state_used))}\")"
   ]
  },
  {
   "cell_type": "markdown",
   "id": "75",
   "metadata": {},
   "source": [
    "# initial_state_PE_and_KE"
   ]
  },
  {
   "cell_type": "code",
   "execution_count": null,
   "id": "76",
   "metadata": {},
   "outputs": [],
   "source": [
    "particle_index = cfqr.getIndexOfParticles()\n",
    "pColor = {\"00\": \"#061DF7\", \"01\": \"#FCEF51\", \"10\": \"#3FC7F2\", \"11\": \"#F187F4\"}\n",
    "\n",
    "\n",
    "for key in pColor.keys():\n",
    "    plt.scatter(init_state_used[particle_index[key], 0, 0], init_state_used[particle_index[key], 1, 0], c = pColor[key])\n",
    "    \n",
    "plt.xlim(-4, 4)\n",
    "plt.ylim(-4, 4)"
   ]
  },
  {
   "cell_type": "code",
   "execution_count": null,
   "id": "77",
   "metadata": {},
   "outputs": [],
   "source": [
    "fig, ax = plt.subplots(1, 2, figsize = [10, 5])\n",
    "ax[0].hist(cfqr.system.get_potential(init_state_used, 0), bins=50)\n",
    "ax[0].set_xlabel(\"PE\")\n",
    "\n",
    "KE_init_dist = cfqr.system.get_kinetic_energy(init_state_used)\n",
    "ax[1].hist(KE_init_dist, bins=50)\n",
    "ax[1].set_xlabel(\"KE\")\n",
    "ax[1].set_title(f\"{np.mean(KE_init_dist):.3g}\")"
   ]
  },
  {
   "cell_type": "markdown",
   "id": "78",
   "metadata": {},
   "source": [
    "# actual simulations"
   ]
  },
  {
   "cell_type": "code",
   "execution_count": null,
   "id": "79",
   "metadata": {},
   "outputs": [],
   "source": []
  },
  {
   "cell_type": "code",
   "execution_count": null,
   "id": "80",
   "metadata": {
    "tags": []
   },
   "outputs": [],
   "source": [
    "manual_domain=[np.array([-5, -5]), np.array([5, 5])]\n",
    "\n",
    "print(f\"characteristic_time = {characteristic_time * 10e9:.3g}ns, total speed = {1/(characteristic_time * protocol_time_array[-1]) / 1e9:.3g}GHz\")\n",
    "\n",
    "simResult = cfq_batch_sweep.simulateSingleCoupledFluxQubit(params, initial_parameter_dict, protocol_list, \\\n",
    "                        potential = coupled_fq_pot, potential_default_param = coupled_fq_default_param, mapping_state_1_to_state_2_dict = mapping_dict,         \n",
    "                        initial_state = init_state_used, manual_domain = manual_domain, \\\n",
    "                        phi_1xdc = phi_1xdc,  phi_2xdc = phi_2xdc, measure_all_states=saveAllStates, \\\n",
    "                        has_velocity = has_velocity)\n",
    "\n",
    "\n"
   ]
  },
  {
   "cell_type": "code",
   "execution_count": null,
   "id": "81",
   "metadata": {},
   "outputs": [],
   "source": [
    "if regenerate_init_state:\n",
    "    np.save(f\"saved_init_state/init_state_database/T=4.2K, N = 1000, beta = {beta_1}/four_well_default_init_state_{simResult[\"simulation_data\"][\"simulation_id\"]}.npy\", init_state_saved)"
   ]
  },
  {
   "cell_type": "markdown",
   "id": "82",
   "metadata": {},
   "source": [
    "## final state"
   ]
  },
  {
   "cell_type": "code",
   "execution_count": null,
   "id": "83",
   "metadata": {},
   "outputs": [],
   "source": [
    "final_state = simResult['cfqr'].get_all_state()[:, -1,...]\n",
    "plotTwoState(simResult['cfqr'], init_state_used, final_state)\n",
    "\n",
    "try:\n",
    "    failure_particles = simResult['cfqr'].get_failure_particles(mapping_dict)\n",
    "\n",
    "\n",
    "    if len(failure_particles) > 0:\n",
    "        failure_particle_initial_state = simResult['cfqr'].get_failure_particles(mapping_dict)[:, 0, ...]\n",
    "        failure_particle_final_state = simResult['cfqr'].get_failure_particles(mapping_dict)[:, -1, ...]\n",
    "        plotTwoState(simResult['cfqr'], failure_particle_initial_state, failure_particle_final_state)\n",
    "\n",
    "except:\n",
    "    print(\"no error\")"
   ]
  },
  {
   "cell_type": "code",
   "execution_count": null,
   "id": "84",
   "metadata": {},
   "outputs": [],
   "source": [
    "failure_particles = simResult['cfqr'].get_failure_particles(mapping_dict)\n"
   ]
  },
  {
   "cell_type": "code",
   "execution_count": null,
   "id": "85",
   "metadata": {},
   "outputs": [],
   "source": [
    "final_KE_dist = cfqr.system.get_kinetic_energy(final_state)\n",
    "fig, ax = plt.subplots(1, 2, figsize = [10, 5])\n",
    "ax[0].hist(final_KE_dist, bins = np.linspace(0, 30, 20))\n",
    "ax[0].set_title(f\"mean final KE = {np.mean(final_KE_dist):.3g}\")\n",
    "\n",
    "\n",
    "\n",
    "\n",
    "ax[1].hist(cfqr.system.get_kinetic_energy(final_state[particle_index[\"01\"]]), bins = np.linspace(0, 30, 20), color=pColor['01'])\n",
    "ax[1].hist(cfqr.system.get_kinetic_energy(final_state[particle_index[\"10\"]]), bins = np.linspace(0, 30, 20), color=pColor['10'])\n",
    "ax[1].hist(cfqr.system.get_kinetic_energy(final_state[particle_index[\"11\"]]), bins = np.linspace(0, 30, 20), color=pColor['11'])\n",
    "ax[1].hist(cfqr.system.get_kinetic_energy(final_state[particle_index[\"00\"]]), bins = np.linspace(0, 30, 20), color=pColor['00'])\n",
    "# plt.show()"
   ]
  },
  {
   "cell_type": "code",
   "execution_count": null,
   "id": "86",
   "metadata": {},
   "outputs": [],
   "source": []
  },
  {
   "cell_type": "markdown",
   "id": "87",
   "metadata": {},
   "source": [
    "# sim Results"
   ]
  },
  {
   "cell_type": "markdown",
   "id": "88",
   "metadata": {},
   "source": [
    "### fidelity"
   ]
  },
  {
   "cell_type": "code",
   "execution_count": null,
   "id": "89",
   "metadata": {},
   "outputs": [],
   "source": [
    "import sys, importlib\n",
    "# importlib.reload(sys.modules['edward_tools.jupyter_helper_function'])\n",
    "from edward_tools.jupyter_helper_function import work_analysis, KE_analysis, single_particle_analysis, fidelity_analysis, work_done_of_each_type\n",
    "fidelity_analysis(simResult, params, initial_parameter_dict, protocol_list)\n",
    "print(simResult['simulation_data']['pickle_save_path'])\n",
    "print(t_c)"
   ]
  },
  {
   "cell_type": "markdown",
   "id": "90",
   "metadata": {},
   "source": []
  },
  {
   "cell_type": "code",
   "execution_count": null,
   "id": "91",
   "metadata": {},
   "outputs": [],
   "source": [
    "initial_state_index = simResult['cfqr'].getIndexOfParticles()\n",
    "final_state_index = simResult['cfqr'].getIndexOfParticles(state = simResult['cfqr'].sim.output.final_state)"
   ]
  },
  {
   "cell_type": "code",
   "execution_count": null,
   "id": "92",
   "metadata": {},
   "outputs": [],
   "source": [
    "all_state = simResult['cfqr'].get_all_state()\n",
    "reduceTimeArray = simResult['cfqr'].getReducedTimeArray()\n",
    "t_index = 100\n",
    "mean_phi_1 = np.mean(all_state[particle_index[\"10\"], t_index, 0, 0])\n",
    "min_phi_1 = np.min(all_state[particle_index[\"10\"], t_index, 0, 0])\n",
    "max_phi_1 = np.max(all_state[particle_index[\"10\"], t_index, 0, 0])\n",
    "print(f\"mean = {mean_phi_1}, min = {min_phi_1}, max = {max_phi_1}\")"
   ]
  },
  {
   "cell_type": "markdown",
   "id": "93",
   "metadata": {},
   "source": [
    "# work done of each type"
   ]
  },
  {
   "cell_type": "code",
   "execution_count": null,
   "id": "94",
   "metadata": {},
   "outputs": [],
   "source": [
    "work_done_of_each_type(simResult)\n"
   ]
  },
  {
   "cell_type": "code",
   "execution_count": null,
   "id": "95",
   "metadata": {},
   "outputs": [],
   "source": [
    "tellMeImportantFactors(protocol_list, params)"
   ]
  },
  {
   "cell_type": "code",
   "execution_count": null,
   "id": "96",
   "metadata": {},
   "outputs": [],
   "source": []
  },
  {
   "cell_type": "markdown",
   "id": "97",
   "metadata": {},
   "source": [
    "# Spreadnes analysis"
   ]
  },
  {
   "cell_type": "code",
   "execution_count": null,
   "id": "98",
   "metadata": {},
   "outputs": [],
   "source": []
  },
  {
   "cell_type": "code",
   "execution_count": null,
   "id": "99",
   "metadata": {},
   "outputs": [],
   "source": [
    "def spreadness_analysis(simResult, particle_array = [\"00\", \"10\", \"01\", \"11\"], time_range = None):\n",
    "    all_state = simResult['cfqr'].get_all_state()\n",
    "    particle_index = simResult['cfqr'].getIndexOfParticles()\n",
    "    reduceTimeArray = simResult['cfqr'].getReducedTimeArray()\n",
    "    for key in particle_array:\n",
    "        fig, ax = plt.subplots(2, 2, figsize = [12, 10])\n",
    "        ax_flatten = ax.flatten()\n",
    "\n",
    "        mean_phi_1_10 = np.mean(all_state[particle_index[key], :, 0, 0].T, axis = 1)\n",
    "        std_phi_1_10 = np.std(all_state[particle_index[key], :, 0, 0].T, axis = 1)\n",
    "        ax_flatten[0].plot(reduceTimeArray, mean_phi_1_10)\n",
    "        ax_flatten[0].set_title(f\"mean and std of phi_1 of particle {key}\")\n",
    "        ax_flatten[0].errorbar(reduceTimeArray, y = mean_phi_1_10, yerr = std_phi_1_10 * 3)\n",
    "        ax_flatten[0].hlines(y = 0, xmin = 0, xmax = 70)\n",
    "        \n",
    "        ax_flatten[0].set_ylim(-5, 5)\n",
    "        ax_flatten[0].set_ylabel(r\"$\\phi_2$\")\n",
    "        ax_flatten[0].set_xlabel(\"t\")\n",
    "\n",
    "\n",
    "        ax_flatten[1].plot(reduceTimeArray, mean_phi_1_10)\n",
    "        ax_flatten[1].set_title(f\"mean and std of phi_1 of particle {key}\")\n",
    "        ax_flatten[1].errorbar(reduceTimeArray, y = mean_phi_1_10, yerr = std_phi_1_10 * 3)\n",
    "        ax_flatten[1].hlines(y = 0, xmin = 0, xmax = 70)\n",
    "        # ax_flatten[1].set_xlim(50, 60)\n",
    "        ax_flatten[1].set_ylim(-5, 5)\n",
    "        ax_flatten[1].set_ylabel(r\"$\\phi_2$\")\n",
    "        ax_flatten[1].set_xlabel(\"t\")\n",
    "\n",
    "        \n",
    "\n",
    "\n",
    "\n",
    "        max_KE = np.max(simResult['cfqr'].system.get_kinetic_energy(all_state[particle_index[key]]), axis = 0)\n",
    "        min_KE = np.min(simResult['cfqr'].system.get_kinetic_energy(all_state[particle_index[key]]), axis = 0)\n",
    "        mean_KE = np.mean(simResult['cfqr'].system.get_kinetic_energy(all_state[particle_index[key]]), axis = 0)\n",
    "        std_KE =  np.std(simResult['cfqr'].system.get_kinetic_energy(all_state[particle_index[key]]), axis = 0)\n",
    "\n",
    "\n",
    "        # ax_flatten[2].plot(reduceTimeArray, min_KE)\n",
    "        # ax_flatten[2].plot(reduceTimeArray, max_KE)\n",
    "        # ax_flatten[2].plot(reduceTimeArray, mean_KE)\n",
    "        _skip_step = 2\n",
    "        ax_flatten[2].errorbar(reduceTimeArray[::_skip_step], y = mean_KE[::_skip_step], yerr = std_KE[::_skip_step] * 3)\n",
    "        ax_flatten[2].set_title(f\"mean and dstd KE of {key}\")\n",
    "        # ax_flatten[2].set_xlim(50, 60)\n",
    "        ax_flatten[2].set_ylabel(r\"KE (k_BT)\")\n",
    "        ax_flatten[2].set_xlabel(\"t\")\n",
    "\n",
    "        ax_flatten[3].errorbar(reduceTimeArray[::_skip_step], y = mean_KE[::_skip_step], yerr = std_KE[::_skip_step] * 3)\n",
    "        ax_flatten[3].set_title(f\"max and min KE of {key}\")\n",
    "\n",
    "        ax_flatten[3].set_ylabel(r\"KE (k_BT)\")\n",
    "        ax_flatten[3].set_xlabel(\"t\")\n",
    "        # ax_flatten[3].set_yticks(np.linspace(0, 100, 11))\n",
    "        # ax_flatten[3].set_ylim(0, 50)\n",
    "        for _t in simResult['cfqr'].protocol_time_array:\n",
    "            ax_flatten[0].vlines(x = _t, ymin = -2.5, ymax = 2.5, linestyle = \"--\")\n",
    "            ax_flatten[3].vlines(x = _t, ymin = 0, ymax = 40, linestyle = \"--\")\n",
    "        # ax_flatten[i].set_ylim(1800, 2100.0)\n",
    "        # print(simResult['cfqr'].protocol_time_array)\n",
    "        ax_flatten[0].vlines(x = 33.5, ymin = -2.5, ymax = 2.5, color = \"r\", linestyle = \"--\")\n",
    "\n",
    "        if time_range:\n",
    "            ax_flatten[1].set_xlim(time_range[0], time_range[1])\n",
    "            ax_flatten[3].set_xlim(time_range[0], time_range[1])"
   ]
  },
  {
   "cell_type": "code",
   "execution_count": null,
   "id": "100",
   "metadata": {},
   "outputs": [],
   "source": [
    "# spreadness_analysis(simResult, particle_array = [\"00\", \"01\", \"10\", \"11\"], time_range=[250, 300])"
   ]
  },
  {
   "cell_type": "code",
   "execution_count": null,
   "id": "101",
   "metadata": {},
   "outputs": [],
   "source": []
  },
  {
   "cell_type": "code",
   "execution_count": null,
   "id": "102",
   "metadata": {},
   "outputs": [],
   "source": []
  },
  {
   "cell_type": "code",
   "execution_count": null,
   "id": "103",
   "metadata": {},
   "outputs": [],
   "source": []
  },
  {
   "cell_type": "markdown",
   "id": "104",
   "metadata": {},
   "source": [
    "## KE diagram"
   ]
  },
  {
   "cell_type": "code",
   "execution_count": null,
   "id": "105",
   "metadata": {},
   "outputs": [],
   "source": [
    "def isolating_KE_in_each_dimension(cfqr, state, name = \"\", ax_array = []):\n",
    "    pColor = cfqr.pColor\n",
    "    _state_phi_1 = state.copy()\n",
    "    _state_phi_1[..., (1, 2, 3), 1] = 0\n",
    "\n",
    "    _state_phi_2 = state.copy()\n",
    "    _state_phi_2[..., (0, 2, 3), 1] = 0\n",
    "\n",
    "    _state_phi_1dc = state.copy()\n",
    "    _state_phi_1dc[..., (0, 1, 3), 1] = 0\n",
    "\n",
    "    _state_phi_2dc = state.copy()\n",
    "    _state_phi_2dc[..., (0, 1, 2), 1] = 0\n",
    "\n",
    "    protocol_list_time_array = np.cumsum([item['duration'] for item in cfqr.protocol_list])\n",
    "\n",
    "\n",
    "    KE_phi_1, KE_phi_2, KE_phi_1dc, KE_phi_2dc = np.mean(cfqr.system.get_kinetic_energy(_state_phi_1), axis = 0), np.mean(cfqr.system.get_kinetic_energy(_state_phi_2), axis = 0), np.mean(cfqr.system.get_kinetic_energy(_state_phi_1dc), axis = 0), np.mean(cfqr.system.get_kinetic_energy(_state_phi_2dc), axis = 0)\n",
    "    KE_phi_1_std, KE_phi_2_std, KE_phi_1dc_std, KE_phi_2dc_std = np.std(cfqr.system.get_kinetic_energy(_state_phi_1), axis = 0) * 3, np.std(cfqr.system.get_kinetic_energy(_state_phi_2), axis = 0) * 3, \\\n",
    "                                                                 np.std(cfqr.system.get_kinetic_energy(_state_phi_1dc), axis = 0)  * 3, np.std(cfqr.system.get_kinetic_energy(_state_phi_2dc), axis = 0) * 3\n",
    "    KE_mean_array = [KE_phi_1, KE_phi_1dc, KE_phi_2, KE_phi_2dc]\n",
    "    KE_std_array = [KE_phi_1_std, KE_phi_1dc_std, KE_phi_2_std, KE_phi_2dc_std ]\n",
    "\n",
    "    protocal_key_time_array = cfqr.getReducedTimeArray()\n",
    "    dimension_array = [\"phi_1\", \"phi_1dc\", \"phi_2\", \"phi_2dc\"]\n",
    "\n",
    "    for i, KE_data in enumerate(KE_mean_array):\n",
    "        # print(len(protocal_key_time_array), len(KE_data))\n",
    "        ax_array[i].errorbar(protocal_key_time_array, y = KE_data, yerr = KE_std_array[i], color = pColor[name])\n",
    "        # ax_array[i].plot(protocal_key_time_array, y = KE_data, color = pColor[name])\n",
    "        # ax_array[i].plot(protocal_key_time_array, KE_data[:-1])\n",
    "        # ax_array[i].plot(protocal_key_time_array, KE_data, color = pColor[name])\n",
    "        # ax_array[i].plot(protocal_key_time_arrayp[:-1], KE_data)\n",
    "        \n",
    "        for _t in protocol_list_time_array:\n",
    "            ymin, ymax = ax_array[i].get_ylim()\n",
    "            ax_array[i].vlines(x = _t, ymin = ymin, ymax = ymax, linestyle = \"--\")\n",
    "        \n",
    "        ax_array[i].set_title(f\"average KE of {name}, {dimension_array[i]}\")\n",
    "        ax_array[i].set_ylabel(r\"KE $(k_BT)$\")\n",
    "    \n",
    "    # ax_array[2].vlines(33.5, ymax = 100, ymin = -10)\n",
    "\n",
    "\n",
    "def KE_analysis(simResult):\n",
    "    \"\"\"To investigate the average KE of each type of particles\"\"\"\n",
    "    all_state = simResult['cfqr'].sim.output.all_state['states']\n",
    "    \n",
    "    index_of_00 = simResult['cfqr'].getIndexOfParticles()[\"00\"]\n",
    "    index_of_01 = simResult['cfqr'].getIndexOfParticles()[\"01\"]\n",
    "    index_of_10 = simResult['cfqr'].getIndexOfParticles()[\"10\"]\n",
    "    index_of_11 = simResult['cfqr'].getIndexOfParticles()[\"11\"]\n",
    "\n",
    "    fig, ax = plt.subplots(4, 4, figsize = [20, 16])\n",
    "    ax_flatten = ax.flatten()\n",
    "\n",
    "    isolating_KE_in_each_dimension(simResult['cfqr'], all_state[index_of_00], \"00\", ax_flatten[0:4])\n",
    "    isolating_KE_in_each_dimension(simResult['cfqr'], all_state[index_of_01], \"01\", ax_flatten[4:8])\n",
    "    isolating_KE_in_each_dimension(simResult['cfqr'], all_state[index_of_10], \"10\", ax_flatten[8:12])\n",
    "    isolating_KE_in_each_dimension(simResult['cfqr'], all_state[index_of_11], \"11\", ax_flatten[12:])\n",
    "\n",
    "    # print(ax_flatten[2::4])\n",
    "    # [_ax.set_xlim(48, 52) for _ax in ax_flatten[0::4]]\n",
    "    # [_ax.set_ylim(0, 800) for _ax in ax_flatten[0::4]]\n",
    "    # [_ax.set_xlim(48, 52) for _ax in ax_flatten[1::4]]\n"
   ]
  },
  {
   "cell_type": "code",
   "execution_count": null,
   "id": "106",
   "metadata": {},
   "outputs": [],
   "source": [
    "U0_1"
   ]
  },
  {
   "cell_type": "code",
   "execution_count": null,
   "id": "107",
   "metadata": {},
   "outputs": [],
   "source": [
    "KE_analysis(simResult)"
   ]
  },
  {
   "cell_type": "code",
   "execution_count": null,
   "id": "108",
   "metadata": {},
   "outputs": [],
   "source": []
  },
  {
   "cell_type": "markdown",
   "id": "109",
   "metadata": {},
   "source": [
    "## Phi analysis"
   ]
  },
  {
   "cell_type": "markdown",
   "id": "110",
   "metadata": {},
   "source": [
    "<!-- ## phi diagrams -->"
   ]
  },
  {
   "cell_type": "code",
   "execution_count": null,
   "id": "111",
   "metadata": {},
   "outputs": [],
   "source": [
    "def phi_plots(cfqr, state, name = \"\", ax_array = []):\n",
    "    pColor = cfqr.pColor\n",
    "    KE_phi_1, KE_phi_2, KE_phi_1dc, KE_phi_2dc = np.mean(state[:, :, 0, 0], axis = 0), np.mean(state[:, :, 1, 0], axis = 0),  np.mean(state[:, :, 2, 0], axis = 0),  np.mean(state[:, :, 3, 0], axis = 0)\n",
    "    KE_phi_1_std, KE_phi_2_std, KE_phi_1dc_std, KE_phi_2dc_std = np.std(state[:, :, 0, 0], axis = 0) * 3, np.std(state[:, :, 1, 0], axis = 0) * 3,  np.std(state[:, :, 2, 0], axis = 0) * 3,  np.std(state[:, :, 3, 0], axis = 0) * 3\n",
    "\n",
    "    protocal_key_time_array = cfqr.getReducedTimeArray()\n",
    "    protocol_list_time_array = np.cumsum([item['duration'] for item in cfqr.protocol_list])\n",
    "    dimension_array = [\"phi_1\", \"phi_1dc\", \"phi_2\", \"phi_2dc\"]\n",
    "\n",
    "    mean_phi_array = [KE_phi_1, KE_phi_1dc, KE_phi_2, KE_phi_2dc]\n",
    "    std_phi_array = [KE_phi_1_std, KE_phi_1dc_std, KE_phi_2_std, KE_phi_2dc_std]\n",
    "    print(KE_phi_1dc_std)\n",
    "    for i, KE_data in enumerate([KE_phi_1, KE_phi_1dc, KE_phi_2, KE_phi_2dc]):\n",
    "        ax_array[i].errorbar(protocal_key_time_array[::2], y = mean_phi_array[i][::2], yerr = std_phi_array[i][::2], color = pColor[name])\n",
    "        ax_array[i].set_title(f\"average phi of {name}, {dimension_array[i]}\")\n",
    "        ax_array[i].set_ylabel(\"phi\")\n",
    "        for _t in protocol_list_time_array:\n",
    "            ymin, ymax = ax_array[i].get_ylim()\n",
    "            ax_array[i].vlines(x = _t, ymin = ymin, ymax = ymax, linestyle = \"--\")\n",
    "    \n",
    "    \n",
    "    # ax_array[0].hlines(-1.4, xmin = 0, xmax = 30, linestyle = \"--\")\n",
    "    # ax_array[2].hlines(1.64, xmin = 0, xmax = 30, linestyle = \"--\")\n",
    "    \n",
    "    \n",
    "    # _x = 36.5\n",
    "\n",
    "    # ax_array[0].vlines(_x, ymin = -2, ymax = 2, linestyle = \"--\")\n",
    "    # ax_array[2].vlines(_x, ymin = 1.30, ymax = 2.2, linestyle = \"--\")\n",
    "\n",
    "\n",
    "def phi_analysis(simResult):\n",
    "    \"\"\"To investigate the average KE of each type of particles\"\"\"\n",
    "    all_state = simResult['cfqr'].sim.output.all_state['states']\n",
    "    \n",
    "    index_of_00 = simResult['cfqr'].getIndexOfParticles()[\"00\"]\n",
    "    index_of_01 = simResult['cfqr'].getIndexOfParticles()[\"01\"]\n",
    "    index_of_10 = simResult['cfqr'].getIndexOfParticles()[\"10\"]\n",
    "    index_of_11 = simResult['cfqr'].getIndexOfParticles()[\"11\"]\n",
    "\n",
    "    fig, ax = plt.subplots(4, 4, figsize = [20, 16])\n",
    "    ax_flatten = ax.flatten()\n",
    "\n",
    "    phi_plots(simResult['cfqr'], all_state[index_of_00], \"00\", ax_flatten[0:4])\n",
    "    phi_plots(simResult['cfqr'], all_state[index_of_01], \"01\", ax_flatten[4:8])\n",
    "    phi_plots(simResult['cfqr'], all_state[index_of_10], \"10\", ax_flatten[8:12])\n",
    "    phi_plots(simResult['cfqr'], all_state[index_of_11], \"11\", ax_flatten[12:])\n",
    "\n",
    "    # print(ax_flatten[2::4])\n",
    "\n",
    "    # [_ax.set_xlim(23, 25) for _ax in ax_flatten[0::4]]\n",
    "    # [_ax.set_xlim(10, 15) for _ax in ax_flatten[1::4]]\n",
    "    \n",
    "    # [_ax.set_ylim(1.4, 1.6) for _ax in ax_flatten[1::4]]\n",
    "\n",
    "\n",
    "\n",
    "phi_analysis(simResult)"
   ]
  },
  {
   "cell_type": "code",
   "execution_count": null,
   "id": "112",
   "metadata": {},
   "outputs": [],
   "source": []
  },
  {
   "cell_type": "code",
   "execution_count": null,
   "id": "113",
   "metadata": {},
   "outputs": [],
   "source": [
    "import scipy.stats as st\n",
    "\n",
    "def get_state_at_t(t):\n",
    "    targetTimeArray = simResult[\"cfqr\"].getReducedTimeArray()\n",
    "    target_index = len(targetTimeArray[targetTimeArray <= t])\n",
    "    all_states = simResult['cfqr'].get_all_state() \n",
    "    return all_states[:, target_index, ...]\n",
    "\n",
    "target_time = simResult[\"cfqr\"].protocol_time_array[-2]\n",
    "print(target_time)\n",
    "for key, p_index in simResult['cfqr'].getIndexOfParticles().items():\n",
    "    target_state = get_state_at_t(target_time)\n",
    "    index_dict = simResult['cfqr'].getIndexOfParticles()\n",
    "    phi_1_mean = np.mean(target_state[p_index, 0, 0])\n",
    "    phi_1_std  = np.std(target_state[p_index, 0, 0])\n",
    "    z_score = np.abs((0 - phi_1_mean)/phi_1_std)\n",
    "    print(1-st.norm.cdf(z_score))\n"
   ]
  },
  {
   "cell_type": "code",
   "execution_count": null,
   "id": "114",
   "metadata": {},
   "outputs": [],
   "source": []
  },
  {
   "cell_type": "code",
   "execution_count": null,
   "id": "115",
   "metadata": {},
   "outputs": [],
   "source": [
    "def overlap_plots(cfqr, state, name = \"\", ax_array = []):\n",
    "\n",
    "    KE_phi_1, KE_phi_2, KE_phi_1dc, KE_phi_2dc = np.mean(state[:, :, 0, 0], axis = 0), np.mean(state[:, :, 1, 0], axis = 0),  np.mean(state[:, :, 2, 0], axis = 0),  np.mean(state[:, :, 3, 0], axis = 0)\n",
    "    KE_phi_1_std, KE_phi_2_std, KE_phi_1dc_std, KE_phi_2dc_std = np.std(state[:, :, 0, 0], axis = 0), np.std(state[:, :, 1, 0], axis = 0),  np.std(state[:, :, 2, 0], axis = 0),  np.std(state[:, :, 3, 0], axis = 0)\n",
    "\n",
    "    protocal_key_time_array = simResult[\"cfqr\"].getReducedTimeArray()\n",
    "    dimension_array = [\"phi_1\", \"phi_1dc\", \"phi_2\", \"phi_2dc\"]\n",
    "\n",
    "    mean_phi_array = [KE_phi_1, KE_phi_1dc, KE_phi_2, KE_phi_2dc]\n",
    "    std_phi_array = [KE_phi_1_std, KE_phi_1dc_std, KE_phi_2_std, KE_phi_2dc_std]\n",
    "    print(KE_phi_1dc_std)\n",
    "    for i, KE_data in enumerate([KE_phi_1, KE_phi_1dc, KE_phi_2, KE_phi_2dc]):\n",
    "        ax_array[i].errorbar(protocal_key_time_array[::2], y = mean_phi_array[i][::2], yerr = std_phi_array[i][::2])\n",
    "        \n",
    "        ax_array[i].set_title(f\"average phi of {name}, {dimension_array[i]}\")\n",
    "        ax_array[i].set_ylabel(\"phi\")\n",
    "    \n",
    "    \n",
    "    # ax_array[0].hlines(-1.4, xmin = 0, xmax = 30, linestyle = \"--\")\n",
    "    # ax_array[2].hlines(1.64, xmin = 0, xmax = 30, linestyle = \"--\")\n",
    "    \n",
    "    \n",
    "    # _x = 36.5\n",
    "\n",
    "    # ax_array[0].vlines(_x, ymin = -2, ymax = 2, linestyle = \"--\")\n",
    "    # ax_array[2].vlines(_x, ymin = 1.30, ymax = 2.2, linestyle = \"--\")\n",
    "\n",
    "\n",
    "def phi_analysis(simResult):\n",
    "    \"\"\"To investigate the average KE of each type of particles\"\"\"\n",
    "    all_state = simResult['cfqr'].sim.output.all_state['states']\n",
    "    \n",
    "    index_of_00 = simResult['cfqr'].getIndexOfParticles()[\"00\"]\n",
    "    index_of_01 = simResult['cfqr'].getIndexOfParticles()[\"01\"]\n",
    "    index_of_10 = simResult['cfqr'].getIndexOfParticles()[\"10\"]\n",
    "    index_of_11 = simResult['cfqr'].getIndexOfParticles()[\"11\"]\n",
    "\n",
    "    fig, ax = plt.subplots(1, 4, figsize = [20, 4])\n",
    "    ax_flatten = ax.flatten()\n",
    "\n",
    "    phi_plots(simResult['cfqr'], all_state[index_of_00], \"00\", ax_flatten)\n",
    "    phi_plots(simResult['cfqr'], all_state[index_of_01], \"01\", ax_flatten)\n",
    "    phi_plots(simResult['cfqr'], all_state[index_of_10], \"10\", ax_flatten)\n",
    "    phi_plots(simResult['cfqr'], all_state[index_of_11], \"11\", ax_flatten)\n",
    "\n",
    "    # print(ax_flatten[2::4])\n",
    "\n",
    "    # [_ax.set_xlim(0, 15) for _ax in ax_flatten[0::4]]\n",
    "    # [_ax.set_xlim(0, 10) for _ax in ax_flatten[1::4]]\n",
    "    # [_ax.set_ylim(0, 0.25) for _ax in ax_flatten[2::4]]\n",
    "\n",
    "\n",
    "\n",
    "phi_analysis(simResult)"
   ]
  },
  {
   "cell_type": "markdown",
   "id": "116",
   "metadata": {},
   "source": [
    "# export json"
   ]
  },
  {
   "cell_type": "code",
   "execution_count": null,
   "id": "117",
   "metadata": {},
   "outputs": [],
   "source": [
    "importlib.reload(cfq_batch_sweep)\n",
    "save_to_json = False\n",
    "# save_to_json = True\n",
    "json_name = \"fast_protocol_beta_1.5_v3.json\"\n",
    "\n",
    "if save_to_json:\n",
    "    simResult['params']['comment'] = \"Experiment 3 (2025-08-30)\"\n",
    "    cfq_batch_sweep.saveToJSON(json_name, simResult=simResult)\n",
    "\n"
   ]
  },
  {
   "cell_type": "code",
   "execution_count": null,
   "id": "118",
   "metadata": {},
   "outputs": [],
   "source": [
    "simResult['cfqr'].protocol_time_array"
   ]
  },
  {
   "cell_type": "code",
   "execution_count": null,
   "id": "119",
   "metadata": {},
   "outputs": [],
   "source": [
    "def isolating_KE_in_each_dimension(cfqr, state, name = \"\", ax_array = []):\n",
    "    phi_1_data,  phi_1dc_data = np.mean(state[:, :, 0, 0], axis = 0), np.mean(state[:, :, 2, 0], axis = 0)\n",
    "    phi_1_std, phi_1dc_std = np.std(state[:, :, 0, 0], axis = 0) * 3,  np.std(state[:, :, 2, 0], axis = 0) * 3\n",
    "\n",
    "    _state_phi_1 = state.copy()\n",
    "    _state_phi_1[..., (1, 2, 3), 1] = 0\n",
    "\n",
    "    _state_phi_1dc = state.copy()\n",
    "    _state_phi_1dc[..., (0, 1, 3), 1] = 0\n",
    "\n",
    "    KE_phi_1, KE_phi_1dc = np.mean(cfqr.system.get_kinetic_energy(_state_phi_1), axis = 0), np.mean(cfqr.system.get_kinetic_energy(_state_phi_1dc), axis = 0)\n",
    "    KE_phi_1_std, KE_phi_1dc_std = np.std(cfqr.system.get_kinetic_energy(_state_phi_1), axis = 0) * 3, np.std(cfqr.system.get_kinetic_energy(_state_phi_1dc), axis = 0) * 3\n",
    "\n",
    "    protocal_key_time_array = simResult[\"cfqr\"].getReducedTimeArray()\n",
    "    dimension_array = [\"phi_1\", \"phi_2\", \"phi_1dc\", \"phi_2dc\"]\n",
    "\n",
    "    ax_array[0].errorbar(protocal_key_time_array[::5], y = phi_1_data[::5], yerr = phi_1_std[::5], label = \"phi_1\", color = \"green\")\n",
    "    # ax_array[2].errorbar(protocal_key_time_array[::5], y = KE_phi_1[::5], yerr = KE_phi_1_std[::5], label = \"KE_phi_1\", color = \"red\")\n",
    "\n",
    "    # ax_array[1].plot(protocal_key_time_array, phi_1dc_data, label = \"phi_1dc\", color = \"green\")\n",
    "    # ax_array[3].plot(protocal_key_time_array, KE_phi_1dc, label = \"KE_phi_1dc\", color = \"red\")\n",
    "\n",
    "\n",
    "def phi_1_phi_1dc_and_KE_analysis(simResult):\n",
    "    \"\"\"To investigate the average KE of each type of particles\"\"\"\n",
    "    all_state = simResult['cfqr'].sim.output.all_state['states']\n",
    "    \n",
    "    index_of_10 = simResult['cfqr'].getIndexOfParticles()[\"10\"]\n",
    "\n",
    "    \n",
    "    fig, ax = plt.subplots(1, 2, figsize = [14, 5])\n",
    "    fig.tight_layout()\n",
    "\n",
    "    ax2 = ax[0].twinx()\n",
    "    ax3 = ax[1].twinx()\n",
    "\n",
    "    ax[0].set_ylabel(\"phi_1\")\n",
    "    ax[0].set_xlabel(\"t\")\n",
    "    # ax[0].set_yticks(np.linspace(-3, 3, 11))\n",
    "    \n",
    "    ax[1].set_ylabel(\"phi_1dc\")\n",
    "    ax[1].set_xlabel(\"t\")\n",
    "    \n",
    "    ax2.set_ylabel(\"KE (k_BT)\")\n",
    "    ax3.set_ylabel(\"KE (k_BT)\")\n",
    "    ax_flatten = [ax[0], ax[1], ax2, ax3]\n",
    "    \n",
    "    \n",
    "    \n",
    "    # ax[0].set_xlim(100, 150)\n",
    "    ax[0].vlines(36.3, ymin = -3, ymax = 2, linestyle = \"--\")\n",
    "    ax[0].set_title(\"phi_1 and KE_phi_1 vs t\")\n",
    "    ax[1].set_title(\"phi_1dc and KE_phi_1dc vs t\")\n",
    "    plt.subplots_adjust(wspace=0.25)\n",
    "    \n",
    "    isolating_KE_in_each_dimension(simResult['cfqr'], all_state[index_of_10], \"01\", ax_flatten)\n"
   ]
  },
  {
   "cell_type": "code",
   "execution_count": null,
   "id": "120",
   "metadata": {},
   "outputs": [],
   "source": [
    "phi_1_phi_1dc_and_KE_analysis(simResult)"
   ]
  },
  {
   "cell_type": "code",
   "execution_count": null,
   "id": "121",
   "metadata": {},
   "outputs": [],
   "source": []
  },
  {
   "cell_type": "code",
   "execution_count": null,
   "id": "122",
   "metadata": {},
   "outputs": [],
   "source": [
    "time_index = 40\n",
    "_t = simResult['cfqr'].getReducedTimeArray()[time_index]\n",
    "index_of_10 = simResult['cfqr'].getIndexOfParticles()[\"10\"]\n",
    "\n",
    "state_10_at_t = simResult['cfqr'].sim.output.all_state['states'][index_of_10, time_index, ...]\n",
    "phi_1_10_at_t = state_10_at_t[:, 0, 0]\n",
    "KE_10_at_t = simResult['cfqr'].system.get_kinetic_energy(state_10_at_t)\n",
    "fig, ax = plt.subplots(1, 3, figsize = [18, 5])\n",
    "\n",
    "\n",
    "ax[0].hist(phi_1_10_at_t, bins = 100)\n",
    "ax[0].set_ylabel(\"count\")\n",
    "ax[0].set_xlabel(\"phi_1\")\n",
    "ax[0].set_title(f\"phi_1 distribution of particle 10 at t = {_t}\")\n",
    "\n",
    "ax[1].hist(KE_10_at_t, bins = 100)\n",
    "ax[1].set_ylabel(\"count\")\n",
    "ax[1].set_xlabel(\"KE\")\n",
    "ax[1].set_title(f\"KE distribution of particle 10 at t = {_t}\")\n",
    "\n",
    "ax[2].scatter(phi_1_10_at_t, KE_10_at_t )\n",
    "ax[2].set_xlabel(\"phi_1\")\n",
    "ax[2].set_ylabel(\"KE\")\n",
    "ax[1].set_title(f\"KE vs phi_1 at t = {_t}\")\n",
    "plt.show()"
   ]
  },
  {
   "cell_type": "code",
   "execution_count": null,
   "id": "123",
   "metadata": {},
   "outputs": [],
   "source": []
  },
  {
   "cell_type": "code",
   "execution_count": null,
   "id": "124",
   "metadata": {},
   "outputs": [],
   "source": [
    "# time_index_start = 0\n",
    "# time_index_end = -1\n",
    "# frame_skip =10\n",
    "# all_state = simResult['cfqr'].sim.output.all_state['states'][:, time_index_start:time_index_end, ...]\n",
    "# targetTimeArray = protocol_all_time_array[simResult['cfqr'].sim.target_step_index][time_index_start:time_index_end]\n",
    "\n",
    "# animation_time_array = targetTimeArray[::frame_skip]\n",
    "# animation_states = all_state[:, ::frame_skip, ...]\n",
    "\n",
    "# fig, ax = plt.subplots(2, 2, figsize=[10, 10])\n",
    "# ax_flatten = ax.flatten()\n",
    "\n",
    "\n",
    "# particle_index = simResult['cfqr'].getIndexOfParticles()\n",
    "\n",
    "# KE_01_int = simResult['cfqr'].system.get_kinetic_energy(animation_states[particle_index['00'], 0])\n",
    "# hist_plot = ax_flatten[0].hist(KE_01_int)[2]"
   ]
  },
  {
   "cell_type": "code",
   "execution_count": null,
   "id": "125",
   "metadata": {},
   "outputs": [],
   "source": [
    "# time_index_start = 0\n",
    "# time_index_end = -1\n",
    "# frame_skip =10\n",
    "# all_state = simResult['cfqr'].sim.output.all_state['states'][:, time_index_start:time_index_end, ...]\n",
    "# targetTimeArray = protocol_all_time_array[simResult['cfqr'].sim.target_step_index][time_index_start:time_index_end]\n",
    "\n",
    "# animation_time_array = targetTimeArray[::frame_skip]\n",
    "# animation_states = all_state[:, ::frame_skip, ...]\n",
    "\n",
    "# fig, ax = plt.subplots(2, 2, figsize=[10, 10])\n",
    "# ax_flatten = ax.flatten()\n",
    "\n",
    "\n",
    "# particle_index = simResult['cfqr'].getIndexOfParticles()\n",
    "\n",
    "# KE_01_int = simResult['cfqr'].system.get_kinetic_energy(animation_states[particle_index['00'], 0])\n",
    "# hist_plot = ax_flatten[0].hist(KE_01_int)[2]\n",
    "\n",
    "\n",
    "\n",
    "# def animate(i):\n",
    "#     params_at_t_str = [f\"{key}: {value:.3g}\" for key, value in zip(simResult['cfqr'].protocol_key[-6:-1], simResult['cfqr'].protocol.get_params(animation_time_array[i])[-6:-1])]\n",
    "#     fig.suptitle(f\"t = {animation_time_array[i]} + {params_at_t_str}\")\n",
    "#     ax_flatten[0].clear()\n",
    "    \n",
    "#     ax_flatten[0].hist(simResult['cfqr'].system.get_kinetic_energy(animation_states[particle_index['00'], i]))\n",
    "            \n",
    "# ani = FuncAnimation(fig, animate, interval=500, frames=len(animation_time_array))\n",
    "# writer = animation.PillowWriter(fps=5, metadata=dict(artist='Me'), bitrate=1800)\n",
    "# ani.save('scatter.gif', writer=writer)\n",
    "# plt.close()\n",
    "\n",
    "# Image(filename=\"scatter.gif\")\n"
   ]
  },
  {
   "cell_type": "code",
   "execution_count": null,
   "id": "126",
   "metadata": {},
   "outputs": [],
   "source": []
  },
  {
   "cell_type": "code",
   "execution_count": null,
   "id": "127",
   "metadata": {},
   "outputs": [],
   "source": [
    "all_state = simResult['cfqr'].sim.output.all_state['states']\n",
    "targetTimeArray = protocol_all_time_array[simResult['cfqr'].sim.target_step_index]\n",
    "\n",
    "fig, ax = plt.subplots(2, 2, figsize = [10, 10])\n",
    "ax_flatten = [ax[1][0], ax[0][0], ax[1][1], ax[0][1]]\n",
    "for i, key in enumerate(particle_index.keys()):\n",
    "    max_KE = np.max(simResult['cfqr'].system.get_kinetic_energy(all_state[particle_index[key]]), axis = 0)\n",
    "    min_KE = np.min(simResult['cfqr'].system.get_kinetic_energy(all_state[particle_index[key]]), axis = 0)\n",
    "    mean_KE = np.mean(simResult['cfqr'].system.get_kinetic_energy(all_state[particle_index[key]]), axis = 0)\n",
    "    ax_flatten[i].plot(targetTimeArray, min_KE)\n",
    "    ax_flatten[i].plot(targetTimeArray, max_KE)\n",
    "    ax_flatten[i].plot(targetTimeArray, mean_KE)\n",
    "    ax_flatten[i].set_title(f\"max and min KE of {key}\")\n",
    "    # ax_flatten[i].set_xlim(25, 80)\n",
    "\n",
    "    # for _t in simResult['cfqr'].protocol_time_array:\n",
    "    #     ax_flatten[i].vlines(x = _t, ymin = 0, ymax = 40, linestyle = \"--\")\n",
    "    # ax_flatten[i].set_ylim(1800, 2100.0)"
   ]
  },
  {
   "cell_type": "code",
   "execution_count": null,
   "id": "128",
   "metadata": {},
   "outputs": [],
   "source": []
  },
  {
   "cell_type": "markdown",
   "id": "129",
   "metadata": {},
   "source": [
    "## Single particle"
   ]
  },
  {
   "cell_type": "code",
   "execution_count": null,
   "id": "130",
   "metadata": {},
   "outputs": [],
   "source": [
    "import sys, importlib\n",
    "importlib.reload(sys.modules['edward_tools.jupyter_helper_function'])\n",
    "from edward_tools.jupyter_helper_function import work_analysis, KE_analysis, single_particle_analysis, fidelity_analysis, work_done_of_each_type\n",
    "all_states = simResult['cfqr'].get_all_state()\n",
    "\n",
    "particle_category = [\"00\"]\n",
    "p_index = 200\n",
    "\n",
    "for _c in particle_category:\n",
    "    fig, ax1 = plt.subplots(figsize=(8, 5))\n",
    "    ax2 = ax1.twinx()\n",
    "    index_choice = simResult['cfqr'].getIndexOfParticles()[_c]\n",
    "    reduced_data = single_particle_analysis(simResult, params, protocol_list, plot_ax = ax1, \n",
    "                             particle_index=p_index, particle_category= _c, \n",
    "                             time_range=None)\n",
    "    reduced_protocal_time_array = reduced_data[\"reduced_protocal_time_array\"]\n",
    "    index_slice = reduced_data[\"index_slice\"]\n",
    "\n",
    "    # print(simResult['cfqr'].protocol_time_array)\n",
    "    y_min, y_max = ax1.set_ylim()\n",
    "    x_min, x_max = ax1.set_xlim()\n",
    "    for _t in simResult['cfqr'].protocol_time_array:\n",
    "        plt.vlines(x=_t, ymin = y_min, ymax = y_max, linestyles=\"--\")\n",
    "\n",
    "\n",
    "    all_states_00_i1 = all_states[index_choice][p_index, ...]\n",
    "    mean_phi_1 = all_states_00_i1[:, 0, 0]\n",
    "    # mean_phi_1 = np.mean(all_states[index_choice][:, :, 0, 0], axis = 0)\n",
    "\n",
    "\n",
    "    ax2.plot(reduced_protocal_time_array, mean_phi_1, alpha =0.8, color = \"grey\", label = f\"avg phi_2 of {particle_category}\")\n",
    "    ax2.set_ylim(-4, 4)\n",
    "    ax2.set_xlim(0, 50)\n",
    "    ax2.set_ylabel(r\"$\\varphi_{2}$\")\n",
    "\n",
    "    ax2.hlines(1.5, x_min, x_max, color = \"red\", linestyle = \"--\")\n",
    "    ax2.hlines(0.5, x_min, x_max, color = \"red\", linestyle = \"--\")\n",
    "    ax1.set_title(f\"energy profile of {particle_category} particle (total time of protocol = {protocol_time_array[-1] * characteristic_time * 1e9:.3g} ns)\")\n",
    "    ax2.legend()\n",
    "    plt.show()"
   ]
  },
  {
   "cell_type": "code",
   "execution_count": null,
   "id": "131",
   "metadata": {},
   "outputs": [],
   "source": [
    "\n"
   ]
  },
  {
   "cell_type": "code",
   "execution_count": null,
   "id": "132",
   "metadata": {},
   "outputs": [],
   "source": []
  },
  {
   "cell_type": "code",
   "execution_count": null,
   "id": "133",
   "metadata": {},
   "outputs": [],
   "source": []
  },
  {
   "cell_type": "markdown",
   "id": "134",
   "metadata": {},
   "source": [
    "## animation in different space"
   ]
  },
  {
   "cell_type": "code",
   "execution_count": null,
   "id": "135",
   "metadata": {},
   "outputs": [],
   "source": [
    "all_states = simResult['cfqr'].get_all_state()\n",
    "# failure_particles = simResult['cfqr'].get_failure_particles(mapping_dict)\n",
    "plot_states = all_states \n",
    "# plot_states = failure_particles \n",
    "\n",
    "\n",
    "particle_index = simResult['cfqr'].getIndexOfParticles(plot_states[:, 0, ...])\n",
    "\n",
    "frame_skip = 10\n",
    "targetTimeArray = simResult[\"cfqr\"].getReducedTimeArray()\n",
    "animation_time_array = targetTimeArray[::frame_skip]\n",
    "animation_states = plot_states[:, ::frame_skip, ...]\n",
    "\n",
    "fig, ax = plt.subplots(2, 5, figsize=[20, 7])\n",
    "plot_label_1 = [(\"phi_1\", \"phi_2\"), (\"phi_1dc\", \"phi_2dc\"), (\"phi_1\", \"phi_1dc\"), (\"phi_1\", \"phi_2dc\"), (\"phi_2\", \"phi_1dc\"), (\"phi_2\", \"phi_2dc\")]\n",
    "plot_label_2 = [\"phi_1\", \"phi_2\", \"phi_1dc\", \"phi_2dc\"]\n",
    "pColor = {\"00\": \"#061DF7\", \"01\": \"#FCEF51\", \"10\": \"#3FC7F2\", \"11\": \"#F187F4\"}\n",
    "\n",
    "ax_flatten = ax.flatten()\n",
    "ax_flatten_1 = [ax_flatten[i] for i in [0, 1, 2, 5, 6, 7]]\n",
    "ax_flatten_2 = [ax_flatten[i] for i in [3, 4, 8, 9]]\n",
    "phi_1_array = np.linspace(-4, 4, 1000)\n",
    "phi_2_array = np.linspace(-4, 4, 1000)\n",
    "phi_1dc_array = np.linspace(-4, 4, 1000)\n",
    "phi_2dc_array = np.linspace(-4, 4, 1000)\n",
    "\n",
    "for _ax, (xlabel, ylabel) in zip(ax_flatten_1, plot_label_1):\n",
    "    _ax.set_xlim(-4, 4)\n",
    "    _ax.set_ylim(-4, 4)\n",
    "    _ax.set_xlabel(xlabel)\n",
    "    _ax.set_ylabel(ylabel)    \n",
    "    _ax.set_aspect(1)\n",
    "\n",
    "for _ax, xlabel in zip(ax_flatten_2, plot_label_2):\n",
    "    _ax.set_xlim(-4, 4)\n",
    "    _ax.set_ylim(500, 1200)\n",
    "    _ax.set_xlabel(xlabel)\n",
    "    _ax.set_ylabel(\"PE\")    \n",
    "    # _ax.set_aspect(1)\n",
    "\n",
    "\n",
    "plot_axis_1 = [[0, 1], [2, 3], [0, 2], [0, 3], [1, 2], [1, 3]]\n",
    "plot_axis_2 = [0, 1, 2, 3]\n",
    "\n",
    "scatter_array_1 = []\n",
    "scatter_array_2 = []\n",
    "potential_min_plot_array = {}\n",
    "potential_max_plot_array = {}\n",
    "\n",
    "potential_min_2_plot_array = {}\n",
    "potential_max_2_plot_array = {}\n",
    "\n",
    "potential_min_1dc_plot_array = {}\n",
    "potential_max_1dc_plot_array = {}\n",
    "\n",
    "for key, index in particle_index.items():\n",
    "# for key, index in [(\"01\", particle_index[\"11\"])]:\n",
    "    if np.sum(index) == 0:\n",
    "        continue\n",
    "\n",
    "    for _i, (_x, _y) in enumerate(plot_axis_1):\n",
    "        _scatter = ax_flatten_1[_i].scatter(plot_states[index, 0, _x, 0], plot_states[index, 0, _y, 0], c = pColor[key])\n",
    "        scatter_array_1.append(_scatter)\n",
    "\n",
    "    for _i in plot_axis_2:\n",
    "        potential = simResult['cfqr'].system.get_potential(animation_states[index, 0, ...], 0)\n",
    "        _scatter = ax_flatten_2[_i].scatter(plot_states[index, 0, _i, 0], potential, c = pColor[key])\n",
    "        scatter_array_2.append(_scatter)\n",
    "        \n",
    "        params_at_0 = simResult['cfqr'].protocol.get_params(0)\n",
    "        phi_1_min_array = np.min(animation_states[index, 0, 0, 0], axis = 0)\n",
    "        phi_1_max_array = np.max(animation_states[index, 0, 0, 0], axis = 0)\n",
    "        phi_1_mean = np.mean(animation_states[index, 0, 0, 0])\n",
    "\n",
    "        phi_2_min_array = np.min(animation_states[index, 0, 1, 0], axis = 0)\n",
    "        phi_2_max_array = np.max(animation_states[index, 0, 1, 0], axis = 0)\n",
    "        phi_2_mean = np.mean(animation_states[index, 0, 1, 0])\n",
    "\n",
    "        phi_1dc_min_array = np.min(animation_states[index, 0, 2, 0], axis = 0)\n",
    "        phi_1dc_max_array = np.max(animation_states[index, 0, 2, 0], axis = 0)\n",
    "        phi_1dc_mean = np.mean(animation_states[index, 0, 2, 0])\n",
    "\n",
    "        \n",
    "        phi_2dc_min_array = np.min(animation_states[index, 0, 3, 0], axis = 0)\n",
    "        phi_2dc_max_array = np.max(animation_states[index, 0, 3, 0], axis = 0)\n",
    "        phi_2dc_mean = np.mean(animation_states[index, 0, 3, 0], axis = 0)    \n",
    "        \n",
    "        if _i == 0:\n",
    "            potential_min_array = coupled_flux_qubit_non_linear_approx_pot(phi_1_array, phi_2_mean, phi_1dc_mean, phi_2dc_mean, params_at_0)\n",
    "            _potetnial_min_plot = ax_flatten_2[_i].plot(phi_1_array, potential_min_array, c = pColor[key], linestyle= \"--\")[0]\n",
    "            potential_min_plot_array[key] = _potetnial_min_plot\n",
    "        \n",
    "            potential_max_array = coupled_flux_qubit_non_linear_approx_pot(phi_1_array, phi_2_mean, phi_1dc_mean, phi_2dc_mean, params_at_0)\n",
    "            _potetnial_max_plot = ax_flatten_2[_i].plot(phi_1_array, potential_max_array, c = pColor[key])[0]\n",
    "            potential_max_plot_array[key] = _potetnial_max_plot\n",
    "            \n",
    "        \n",
    "        if _i == 1:\n",
    "            print(phi_1_mean, phi_2_min_array, 0, 1.88)\n",
    "            potential_min_array = coupled_flux_qubit_non_linear_approx_pot(phi_1_mean, phi_2_array, phi_1dc_mean, phi_2dc_mean, params_at_0)\n",
    "            _potetnial_min_plot = ax_flatten_2[_i].plot(phi_2_array, potential_min_array, c = pColor[key], linestyle= \"--\")[0]\n",
    "            potential_min_2_plot_array[key] = _potetnial_min_plot\n",
    "        \n",
    "            potential_max_array = coupled_flux_qubit_non_linear_approx_pot(phi_1_mean, phi_2_array, phi_1dc_mean, phi_2dc_mean, params_at_0)\n",
    "            _potetnial_max_plot = ax_flatten_2[_i].plot(phi_2_array, potential_max_array, c = pColor[key])[0]\n",
    "            potential_max_2_plot_array[key] = _potetnial_max_plot\n",
    "        \n",
    "\n",
    "        if _i == 2:\n",
    "            potential_min_array = coupled_flux_qubit_non_linear_approx_pot(phi_1_min_array, phi_2_array, phi_1dc_array, phi_2dc_array, params_at_0)\n",
    "            _potetnial_min_plot = ax_flatten_2[_i].plot(phi_1dc_array, potential_min_array, c = pColor[key], linestyle= \"--\")[0]\n",
    "            potential_min_1dc_plot_array[key] = _potetnial_min_plot\n",
    "        \n",
    "            potential_max_array = coupled_flux_qubit_non_linear_approx_pot(phi_1_max_array, phi_2_array, phi_1dc_array, phi_2dc_array, params_at_0)\n",
    "            _potetnial_max_plot = ax_flatten_2[_i].plot(phi_1dc_array, potential_max_array, c = pColor[key])[0]\n",
    "            potential_max_1dc_plot_array[key] = _potetnial_max_plot\n",
    "        \n",
    "def animate(i):\n",
    "    counter_1, counter_2 = 0, 0\n",
    "    _t = animation_time_array[i]\n",
    "    simResult['cfqr'].protocol.get_params(animation_time_array[i])\n",
    "    params_at_t_str = [f\"{key}: {value:.3g}\" for key, value in zip(simResult['cfqr'].protocol_key[-6:-1], simResult['cfqr'].protocol.get_params(animation_time_array[i])[-6:-1])]\n",
    "    fig.suptitle(f\"t = {animation_time_array[i]} + {params_at_t_str}\")\n",
    "    \n",
    "    for key, index in particle_index.items():\n",
    "    # for key, index in [(\"11\", particle_index[\"11\"])]:\n",
    "        if np.sum(index) == 0:\n",
    "            continue\n",
    "    \n",
    "        for _i, (_x, _y) in enumerate(plot_axis_1):\n",
    "            scatter_array_1[counter_1].set_offsets(np.c_[animation_states[index, i, _x, 0], animation_states[index, i, _y, 0]])\n",
    "            counter_1 += 1\n",
    "\n",
    "        for _i in plot_axis_2:\n",
    "            potential_i = simResult['cfqr'].system.get_potential(animation_states[index, i, ...], animation_time_array[i])\n",
    "            scatter_array_2[counter_2].set_offsets(np.c_[animation_states[index, i, _i, 0], potential_i])\n",
    "\n",
    "            params_at_t = simResult['cfqr'].protocol.get_params(_t)\n",
    "            phi_1_min_array = np.min(animation_states[index, i, 0, 0], axis = 0)\n",
    "            phi_1_max_array = np.max(animation_states[index, i, 0, 0], axis = 0)\n",
    "            \n",
    "            phi_2_min_array = np.min(animation_states[index, i, 1, 0], axis = 0)\n",
    "            phi_2_max_array = np.max(animation_states[index, i, 1, 0], axis = 0)\n",
    "            \n",
    "\n",
    "            phi_1dc_min_array = np.min(animation_states[index, i, 2, 0], axis = 0)\n",
    "            phi_1dc_max_array = np.max(animation_states[index, i, 2, 0], axis = 0)\n",
    "            \n",
    "            phi_2dc_array = np.mean(animation_states[index, i, 3, 0], axis = 0)\n",
    "\n",
    "            if _i == 0:    \n",
    "                potential_min_array = coupled_flux_qubit_non_linear_approx_pot(phi_1_array, phi_2_array, phi_1dc_min_array, phi_2dc_array, params_at_t)\n",
    "                potential_min_plot_array[key].set_xdata(phi_1_array)\n",
    "                potential_min_plot_array[key].set_ydata(potential_min_array)\n",
    "                \n",
    "                potential_max_array = coupled_flux_qubit_non_linear_approx_pot(phi_1_array, phi_2_array, phi_1dc_max_array, phi_2dc_array, params_at_t)\n",
    "                potential_max_plot_array[key].set_xdata(phi_1_array)\n",
    "                potential_max_plot_array[key].set_ydata(potential_max_array)\n",
    "\n",
    "\n",
    "            if _i == 1:    \n",
    "                potential_min_array = coupled_flux_qubit_non_linear_approx_pot(phi_1_array, phi_2_min_array, phi_1dc_array, phi_2dc_array, params_at_t)\n",
    "                potential_min_2_plot_array[key].set_xdata(phi_1_array)\n",
    "                potential_min_2_plot_array[key].set_ydata(potential_min_array)\n",
    "                \n",
    "                potential_max_array = coupled_flux_qubit_non_linear_approx_pot(phi_1_array, phi_2_max_array, phi_1dc_array, phi_2dc_array, params_at_t)\n",
    "                potential_max_2_plot_array[key].set_xdata(phi_1_array)\n",
    "                potential_max_2_plot_array[key].set_ydata(potential_max_array)\n",
    "\n",
    "            if _i == 2:\n",
    "                potential_min_array = coupled_flux_qubit_non_linear_approx_pot(phi_1_min_array, phi_2_array, phi_1dc_array, phi_2dc_array, params_at_t)\n",
    "                potential_min_1dc_plot_array[key].set_xdata(phi_1dc_array)\n",
    "                potential_min_1dc_plot_array[key].set_ydata(potential_min_array)\n",
    "                \n",
    "                potential_max_array = coupled_flux_qubit_non_linear_approx_pot(phi_1_max_array, phi_2_array, phi_1dc_array, phi_2dc_array, params_at_t)\n",
    "                potential_max_1dc_plot_array[key].set_xdata(phi_1dc_array)\n",
    "                potential_max_1dc_plot_array[key].set_ydata(potential_max_array)\n",
    "                \n",
    "            \n",
    "            counter_2 += 1\n",
    "\n",
    "ani = FuncAnimation(fig, animate, interval=100, frames=len(animation_time_array))\n",
    "writer = animation.PillowWriter(fps=30, metadata=dict(artist='Me'), bitrate=1800)\n",
    "ani.save('scatter.gif', writer=writer)\n",
    "plt.close()"
   ]
  },
  {
   "cell_type": "code",
   "execution_count": null,
   "id": "136",
   "metadata": {},
   "outputs": [],
   "source": [
    "Image(filename=\"scatter.gif\")"
   ]
  },
  {
   "cell_type": "code",
   "execution_count": null,
   "id": "137",
   "metadata": {},
   "outputs": [],
   "source": []
  },
  {
   "cell_type": "markdown",
   "id": "138",
   "metadata": {},
   "source": [
    "# animation in the v space"
   ]
  },
  {
   "cell_type": "code",
   "execution_count": null,
   "id": "139",
   "metadata": {},
   "outputs": [],
   "source": [
    "all_states = simResult['cfqr'].get_all_state()\n",
    "frame_skip = 10\n",
    "targetTimeArray = simResult[\"cfqr\"].getReducedTimeArray()\n",
    "animation_time_array = targetTimeArray[::frame_skip]\n",
    "animation_states = all_states[:, ::frame_skip, ...]\n",
    "\n",
    "fig, ax = plt.subplots(2, 5, figsize=[20, 7])\n",
    "plot_label_1 = [(\"phi_1\", \"phi_2\"), (\"phi_1dc\", \"phi_2dc\"), (\"phi_1\", \"phi_1dc\"), (\"phi_1\", \"phi_2dc\"), (\"phi_2\", \"phi_1dc\"), (\"phi_2\", \"phi_2dc\")]\n",
    "plot_label_2 = [\"phi_1\", \"phi_2\", \"phi_1dc\", \"phi_2dc\"]\n",
    "pColor = {\"00\": \"#061DF7\", \"01\": \"#FCEF51\", \"10\": \"#3FC7F2\", \"11\": \"#F187F4\"}\n",
    "\n",
    "ax_flatten = ax.flatten()\n",
    "ax_flatten_1 = [ax_flatten[i] for i in [0, 1, 2, 5, 6, 7]]\n",
    "ax_flatten_2 = [ax_flatten[i] for i in [3, 4, 8, 9]]\n",
    "phi_1_array = np.linspace(-4, 4, 1000)\n",
    "phi_2_array = np.linspace(-4, 4, 1000)\n",
    "phi_1dc_array = np.linspace(-4, 4, 1000)\n",
    "phi_2dc_array = np.linspace(-4, 4, 1000)\n",
    "\n",
    "for _ax, (xlabel, ylabel) in zip(ax_flatten_1, plot_label_1):\n",
    "    _ax.set_xlim(-4, 4)\n",
    "    _ax.set_ylim(-4, 4)\n",
    "    _ax.set_xlabel(xlabel)\n",
    "    _ax.set_ylabel(ylabel)    \n",
    "    _ax.set_aspect(1)\n",
    "\n",
    "for _ax, xlabel in zip(ax_flatten_2, plot_label_2):\n",
    "    _ax.set_xlim(-4, 4)\n",
    "    _ax.set_ylim(500, 1200)\n",
    "    _ax.set_xlabel(xlabel)\n",
    "    _ax.set_ylabel(\"PE\")    \n",
    "    # _ax.set_aspect(1)\n",
    "\n",
    "\n",
    "plot_axis_1 = [[0, 1], [2, 3], [0, 2], [0, 3], [1, 2], [1, 3]]\n",
    "plot_axis_2 = [0, 1, 2, 3]\n",
    "\n",
    "scatter_array_1 = []\n",
    "scatter_array_2 = []\n",
    "potential_min_plot_array = {}\n",
    "potential_max_plot_array = {}\n",
    "\n",
    "potential_min_2_plot_array = {}\n",
    "potential_max_2_plot_array = {}\n",
    "\n",
    "potential_min_1dc_plot_array = {}\n",
    "potential_max_1dc_plot_array = {}\n",
    "\n",
    "for key, index in particle_index.items():\n",
    "# for key, index in [(\"01\", particle_index[\"11\"])]:\n",
    "    for _i, (_x, _y) in enumerate(plot_axis_1):\n",
    "        _scatter = ax_flatten_1[_i].scatter(all_states[index, 0, _x, 0], all_states[index, 0, _y, 0], c = pColor[key])\n",
    "        scatter_array_1.append(_scatter)\n",
    "\n",
    "    for _i in plot_axis_2:\n",
    "        potential = simResult['cfqr'].system.get_potential(animation_states[index, 0, ...], 0)\n",
    "        _scatter = ax_flatten_2[_i].scatter(all_states[index, 0, _i, 0], potential, c = pColor[key])\n",
    "        scatter_array_2.append(_scatter)\n",
    "        \n",
    "        params_at_0 = simResult['cfqr'].protocol.get_params(0)\n",
    "        phi_1_min_array = np.min(animation_states[index, 0, 0, 0], axis = 0)\n",
    "        phi_1_max_array = np.max(animation_states[index, 0, 0, 0], axis = 0)\n",
    "        phi_1_mean = np.mean(animation_states[index, 0, 0, 0])\n",
    "\n",
    "        phi_2_min_array = np.min(animation_states[index, 0, 1, 0], axis = 0)\n",
    "        phi_2_max_array = np.max(animation_states[index, 0, 1, 0], axis = 0)\n",
    "        phi_2_mean = np.mean(animation_states[index, 0, 1, 0])\n",
    "\n",
    "        phi_1dc_min_array = np.min(animation_states[index, 0, 2, 0], axis = 0)\n",
    "        phi_1dc_max_array = np.max(animation_states[index, 0, 2, 0], axis = 0)\n",
    "        phi_1dc_mean = np.mean(animation_states[index, 0, 2, 0])\n",
    "\n",
    "        \n",
    "        phi_2dc_min_array = np.min(animation_states[index, 0, 3, 0], axis = 0)\n",
    "        phi_2dc_max_array = np.max(animation_states[index, 0, 3, 0], axis = 0)\n",
    "        phi_2dc_mean = np.mean(animation_states[index, 0, 3, 0], axis = 0)    \n",
    "        \n",
    "        if _i == 0:\n",
    "            potential_min_array = coupled_flux_qubit_non_linear_approx_pot(phi_1_array, phi_2_mean, phi_1dc_mean, phi_2dc_mean, params_at_0)\n",
    "            _potetnial_min_plot = ax_flatten_2[_i].plot(phi_1_array, potential_min_array, c = pColor[key], linestyle= \"--\")[0]\n",
    "            potential_min_plot_array[key] = _potetnial_min_plot\n",
    "        \n",
    "            potential_max_array = coupled_flux_qubit_non_linear_approx_pot(phi_1_array, phi_2_mean, phi_1dc_mean, phi_2dc_mean, params_at_0)\n",
    "            _potetnial_max_plot = ax_flatten_2[_i].plot(phi_1_array, potential_max_array, c = pColor[key])[0]\n",
    "            potential_max_plot_array[key] = _potetnial_max_plot\n",
    "            \n",
    "        \n",
    "        if _i == 1:\n",
    "            print(phi_1_mean, phi_2_min_array, 0, 1.88)\n",
    "            potential_min_array = coupled_flux_qubit_non_linear_approx_pot(phi_1_mean, phi_2_array, phi_1dc_mean, phi_2dc_mean, params_at_0)\n",
    "            _potetnial_min_plot = ax_flatten_2[_i].plot(phi_2_array, potential_min_array, c = pColor[key], linestyle= \"--\")[0]\n",
    "            potential_min_2_plot_array[key] = _potetnial_min_plot\n",
    "        \n",
    "            potential_max_array = coupled_flux_qubit_non_linear_approx_pot(phi_1_mean, phi_2_array, phi_1dc_mean, phi_2dc_mean, params_at_0)\n",
    "            _potetnial_max_plot = ax_flatten_2[_i].plot(phi_2_array, potential_max_array, c = pColor[key])[0]\n",
    "            potential_max_2_plot_array[key] = _potetnial_max_plot\n",
    "        \n",
    "\n",
    "        if _i == 2:\n",
    "            potential_min_array = coupled_flux_qubit_non_linear_approx_pot(phi_1_min_array, phi_2_array, phi_1dc_array, phi_2dc_array, params_at_0)\n",
    "            _potetnial_min_plot = ax_flatten_2[_i].plot(phi_1dc_array, potential_min_array, c = pColor[key], linestyle= \"--\")[0]\n",
    "            potential_min_1dc_plot_array[key] = _potetnial_min_plot\n",
    "        \n",
    "            potential_max_array = coupled_flux_qubit_non_linear_approx_pot(phi_1_max_array, phi_2_array, phi_1dc_array, phi_2dc_array, params_at_0)\n",
    "            _potetnial_max_plot = ax_flatten_2[_i].plot(phi_1dc_array, potential_max_array, c = pColor[key])[0]\n",
    "            potential_max_1dc_plot_array[key] = _potetnial_max_plot\n",
    "        \n",
    "def animate(i):\n",
    "    counter_1, counter_2 = 0, 0\n",
    "    _t = animation_time_array[i]\n",
    "    simResult['cfqr'].protocol.get_params(animation_time_array[i])\n",
    "    params_at_t_str = [f\"{key}: {value:.3g}\" for key, value in zip(simResult['cfqr'].protocol_key[-6:-1], simResult['cfqr'].protocol.get_params(animation_time_array[i])[-6:-1])]\n",
    "    fig.suptitle(f\"t = {animation_time_array[i]} + {params_at_t_str}\")\n",
    "    \n",
    "    for key, index in particle_index.items():\n",
    "    # for key, index in [(\"11\", particle_index[\"11\"])]:\n",
    "        for _i, (_x, _y) in enumerate(plot_axis_1):\n",
    "            scatter_array_1[counter_1].set_offsets(np.c_[animation_states[index, i, _x, 0], animation_states[index, i, _y, 0]])\n",
    "            counter_1 += 1\n",
    "\n",
    "        for _i in plot_axis_2:\n",
    "            potential_i = simResult['cfqr'].system.get_potential(animation_states[index, i, ...], animation_time_array[i])\n",
    "            scatter_array_2[counter_2].set_offsets(np.c_[animation_states[index, i, _i, 0], potential_i])\n",
    "\n",
    "            params_at_t = simResult['cfqr'].protocol.get_params(_t)\n",
    "            phi_1_min_array = np.min(animation_states[index, i, 0, 0], axis = 0)\n",
    "            phi_1_max_array = np.max(animation_states[index, i, 0, 0], axis = 0)\n",
    "            \n",
    "            phi_2_min_array = np.min(animation_states[index, i, 1, 0], axis = 0)\n",
    "            phi_2_max_array = np.max(animation_states[index, i, 1, 0], axis = 0)\n",
    "            \n",
    "\n",
    "            phi_1dc_min_array = np.min(animation_states[index, i, 2, 0], axis = 0)\n",
    "            phi_1dc_max_array = np.max(animation_states[index, i, 2, 0], axis = 0)\n",
    "            \n",
    "            phi_2dc_array = np.mean(animation_states[index, i, 3, 0], axis = 0)\n",
    "\n",
    "            if _i == 0:    \n",
    "                potential_min_array = coupled_flux_qubit_non_linear_approx_pot(phi_1_array, phi_2_array, phi_1dc_min_array, phi_2dc_array, params_at_t)\n",
    "                potential_min_plot_array[key].set_xdata(phi_1_array)\n",
    "                potential_min_plot_array[key].set_ydata(potential_min_array)\n",
    "                \n",
    "                potential_max_array = coupled_flux_qubit_non_linear_approx_pot(phi_1_array, phi_2_array, phi_1dc_max_array, phi_2dc_array, params_at_t)\n",
    "                potential_max_plot_array[key].set_xdata(phi_1_array)\n",
    "                potential_max_plot_array[key].set_ydata(potential_max_array)\n",
    "\n",
    "\n",
    "            if _i == 1:    \n",
    "                potential_min_array = coupled_flux_qubit_non_linear_approx_pot(phi_1_array, phi_2_min_array, phi_1dc_array, phi_2dc_array, params_at_t)\n",
    "                potential_min_2_plot_array[key].set_xdata(phi_1_array)\n",
    "                potential_min_2_plot_array[key].set_ydata(potential_min_array)\n",
    "                \n",
    "                potential_max_array = coupled_flux_qubit_non_linear_approx_pot(phi_1_array, phi_2_max_array, phi_1dc_array, phi_2dc_array, params_at_t)\n",
    "                potential_max_2_plot_array[key].set_xdata(phi_1_array)\n",
    "                potential_max_2_plot_array[key].set_ydata(potential_max_array)\n",
    "\n",
    "            if _i == 2:\n",
    "                potential_min_array = coupled_flux_qubit_non_linear_approx_pot(phi_1_min_array, phi_2_array, phi_1dc_array, phi_2dc_array, params_at_t)\n",
    "                potential_min_1dc_plot_array[key].set_xdata(phi_1dc_array)\n",
    "                potential_min_1dc_plot_array[key].set_ydata(potential_min_array)\n",
    "                \n",
    "                potential_max_array = coupled_flux_qubit_non_linear_approx_pot(phi_1_max_array, phi_2_array, phi_1dc_array, phi_2dc_array, params_at_t)\n",
    "                potential_max_1dc_plot_array[key].set_xdata(phi_1dc_array)\n",
    "                potential_max_1dc_plot_array[key].set_ydata(potential_max_array)\n",
    "                \n",
    "            \n",
    "            counter_2 += 1\n",
    "\n",
    "ani = FuncAnimation(fig, animate, interval=100, frames=len(animation_time_array))\n",
    "writer = animation.PillowWriter(fps=30, metadata=dict(artist='Me'), bitrate=1800)\n",
    "ani.save('scatter.gif', writer=writer)\n",
    "plt.close()"
   ]
  },
  {
   "cell_type": "code",
   "execution_count": null,
   "id": "140",
   "metadata": {},
   "outputs": [],
   "source": []
  },
  {
   "cell_type": "code",
   "execution_count": null,
   "id": "141",
   "metadata": {},
   "outputs": [],
   "source": [
    "mapping_dict"
   ]
  },
  {
   "cell_type": "code",
   "execution_count": null,
   "id": "142",
   "metadata": {},
   "outputs": [],
   "source": [
    "all_state = simResult['cfqr'].get_all_state()\n",
    "reducedTimeArray = simResult['cfqr'].getReducedTimeArray()\n",
    "particle_01_jump_to_a_wrong_well = all_state[particle_index[\"11\"]][np.any(all_state[particle_index[\"11\"]][:, :, 1, 0] < 0, axis = 1)]\n",
    "\n",
    "\n",
    "plt.plot(particle_01_jump_to_a_wrong_well[0, :, 1, 0])\n",
    "# plt.plot(simResult['cfqr'].system.get_kinetic_energy(particle_01_jump_to_a_wrong_well))"
   ]
  },
  {
   "cell_type": "code",
   "execution_count": null,
   "id": "143",
   "metadata": {},
   "outputs": [],
   "source": [
    "PE_of_wrong_particle = [simResult[\"cfqr\"].system.get_potential(coord, t) for coord, t in zip(particle_01_jump_to_a_wrong_well[0, ...], reducedTimeArray)]\n",
    "max(PE_of_wrong_particle) - min(PE_of_wrong_particle)"
   ]
  },
  {
   "cell_type": "code",
   "execution_count": null,
   "id": "144",
   "metadata": {},
   "outputs": [],
   "source": [
    "simResult[\"cfqr\"].system.get_potential(init_state_used, 0)"
   ]
  },
  {
   "cell_type": "code",
   "execution_count": null,
   "id": "145",
   "metadata": {},
   "outputs": [],
   "source": []
  },
  {
   "cell_type": "code",
   "execution_count": null,
   "id": "146",
   "metadata": {},
   "outputs": [],
   "source": [
    "particle_01_jump_to_a_wrong_well_copy = particle_01_jump_to_a_wrong_well[...]"
   ]
  },
  {
   "cell_type": "code",
   "execution_count": null,
   "id": "147",
   "metadata": {},
   "outputs": [],
   "source": [
    "particle_01_jump_to_a_wrong_well_copy[:, :, (0, 2, 3), 1] = 0"
   ]
  },
  {
   "cell_type": "code",
   "execution_count": null,
   "id": "148",
   "metadata": {},
   "outputs": [],
   "source": [
    "particle_01_jump_to_a_wrong_well_copy"
   ]
  },
  {
   "cell_type": "code",
   "execution_count": null,
   "id": "149",
   "metadata": {},
   "outputs": [],
   "source": [
    "plt.plot(simResult['cfqr'].system.get_kinetic_energy(particle_01_jump_to_a_wrong_well)[0])\n",
    "plt.plot(simResult['cfqr'].system.get_kinetic_energy(particle_01_jump_to_a_wrong_well_copy)[0])"
   ]
  },
  {
   "cell_type": "code",
   "execution_count": null,
   "id": "150",
   "metadata": {},
   "outputs": [],
   "source": [
    "particle_01_jump_to_a_wrong_well[0, :, 1, 0]"
   ]
  },
  {
   "cell_type": "code",
   "execution_count": null,
   "id": "151",
   "metadata": {},
   "outputs": [],
   "source": []
  },
  {
   "cell_type": "markdown",
   "id": "152",
   "metadata": {},
   "source": [
    "# KE distribution"
   ]
  },
  {
   "cell_type": "code",
   "execution_count": null,
   "id": "153",
   "metadata": {},
   "outputs": [],
   "source": []
  },
  {
   "cell_type": "code",
   "execution_count": null,
   "id": "154",
   "metadata": {},
   "outputs": [],
   "source": [
    "particle_index = simResult['cfqr'].getIndexOfParticles()\n",
    "# time_index_start = 0\n",
    "# time_index_end = 500\n",
    "# frame_skip = 5\n",
    "target_t = 20.6\n",
    "target_t_index = int(target_t * 1/params['dt'] / 10)\n",
    "print(simResult['cfqr'])\n",
    "pColor = simResult['cfqr'].get_pColor()\n",
    "all_state_t = simResult['cfqr'].sim.output.all_state['states'][:, target_t_index, ...]\n",
    "\n",
    "fig, ax = plt.subplots(1, 2, figsize=[12, 4])\n",
    "ax_flatten = ax.flatten()\n",
    "fig.suptitle(r\"$\\varphi_1$ and $\\dot{\\varphi_1}$\" +  f\" at t = {simResult['cfqr'].getReducedTimeArray()[target_t_index]}\")\n",
    "\n",
    "ax_flatten[0].hist(all_state_t[particle_index['01'], 0, 0], color = pColor[\"01\"])\n",
    "ax_flatten[0].hist(all_state_t[particle_index['11'], 0, 0], color = pColor[\"11\"])\n",
    "ax_flatten[1].hist(all_state_t[particle_index['01'], 0, 1], color = pColor[\"01\"])\n",
    "ax_flatten[1].hist(all_state_t[particle_index['11'], 0, 1], color = pColor[\"11\"])\n",
    "\n",
    "ax_flatten[0].set_title(\"particle 01\")\n",
    "ax_flatten[0].set_xlabel(r\"$\\varphi_1$\")\n",
    "ax_flatten[1].set_title(\"particle 11\")\n",
    "ax_flatten[1].set_xlabel(r\"$\\dot{\\varphi}_1$\")"
   ]
  },
  {
   "cell_type": "code",
   "execution_count": null,
   "id": "155",
   "metadata": {},
   "outputs": [],
   "source": [
    "plt.scatter(all_state_t[particle_index['01'], 0, 0], all_state_t[particle_index['01'], 0, 1])"
   ]
  },
  {
   "cell_type": "markdown",
   "id": "156",
   "metadata": {},
   "source": [
    "# old stuff"
   ]
  },
  {
   "cell_type": "code",
   "execution_count": null,
   "id": "157",
   "metadata": {},
   "outputs": [],
   "source": [
    "particle_index = simResult['cfqr'].getIndexOfParticles()\n",
    "time_index_start = 0\n",
    "time_index_end = 500\n",
    "frame_skip = 5\n",
    "all_state = simResult['cfqr'].sim.output.all_state['states'][:, time_index_start:time_index_end, ...]\n",
    "targetTimeArray = protocol_all_time_array[simResult['cfqr'].sim.target_step_index][time_index_start:time_index_end]\n",
    "\n",
    "animation_time_array = targetTimeArray[::frame_skip]\n",
    "animation_states = all_state[:, ::frame_skip, ...]\n",
    "# print(\"geenerated at \", datetime.datetime.now())\n",
    "\n",
    "# print(targetTimeArray)\n",
    "# print(animation_time_array)\n",
    "\n",
    "fig, ax = plt.subplots(2, 2, figsize=[10, 10])\n",
    "ax_flatten = ax.flatten()\n",
    "\n",
    "hist_plot = ax_flatten[0].hist(animation_states[particle_index['00'], 0, 0, 1])[2]\n",
    "hist_plot = ax_flatten[1].hist(animation_states[particle_index['00'], 0, 1, 1])[2]\n",
    "# print()\n",
    "\n",
    "def animate(i):\n",
    "    params_at_t_str = [f\"{key}: {value:.3g}\" for key, value in zip(simResult['cfqr'].protocol_key[-6:-1], simResult['cfqr'].protocol.get_params(animation_time_array[i])[-6:-1])]\n",
    "    fig.suptitle(f\"t = {animation_time_array[i]} + {params_at_t_str}\")\n",
    "    ax_flatten[0].clear()\n",
    "    ax_flatten[1].clear()\n",
    "    \n",
    "    ax_flatten[0].hist(animation_states[particle_index['00'], i, 0, 1])\n",
    "    ax_flatten[1].hist(animation_states[particle_index['00'], i, 1, 1])\n",
    "            \n",
    "ani = FuncAnimation(fig, animate, interval=500, frames=len(animation_time_array))\n",
    "writer = animation.PillowWriter(fps=5, metadata=dict(artist='Me'), bitrate=1800)\n",
    "ani.save('scatter.gif', writer=writer)\n",
    "plt.close()\n"
   ]
  },
  {
   "cell_type": "code",
   "execution_count": null,
   "id": "158",
   "metadata": {},
   "outputs": [],
   "source": [
    "Image(filename=\"scatter.gif\")"
   ]
  },
  {
   "cell_type": "code",
   "execution_count": null,
   "id": "159",
   "metadata": {},
   "outputs": [],
   "source": [
    "particle_11_v_y = plt.plot(animation_states[particle_index['11'], :, 1, 1])"
   ]
  },
  {
   "cell_type": "code",
   "execution_count": null,
   "id": "160",
   "metadata": {},
   "outputs": [],
   "source": []
  },
  {
   "cell_type": "code",
   "execution_count": null,
   "id": "161",
   "metadata": {},
   "outputs": [],
   "source": [
    "particle_category"
   ]
  },
  {
   "cell_type": "code",
   "execution_count": null,
   "id": "162",
   "metadata": {},
   "outputs": [],
   "source": [
    "fig, ax1 = plt.subplots(figsize=(7.5, 5))\n",
    "ax2 = ax1.twinx()\n",
    "\n",
    "reduced_data = single_particle_analysis(simResult, params, protocol_list, plot_ax = ax1, particle_index = particle_index, particle_category= particle_category[0], time_range=[100, 123])\n",
    "\n",
    "reduced_protocal_time_array = reduced_data[\"reduced_protocal_time_array\"]\n",
    "index_slice = reduced_data[\"index_slice\"]\n",
    "\n",
    "ax2.plot(reduced_protocal_time_array[index_slice], mean_phi_2[index_slice], alpha =0.8, color = \"grey\", label = f\"avg phi_2 of {particle_category}\")\n",
    "ax2.set_ylim(-4, 4)\n",
    "ax2.set_ylabel(r\"$\\varphi_{2}$\")\n",
    "y_min, y_max = ax1.set_ylim()\n",
    "x_min, x_max = ax1.set_xlim()\n",
    "\n",
    "ax1.set_title(f\"energy profile of {particle_category} particle (total time of protocol = {protocol_time_array[-1] * characteristic_time * 1e9:.3g} ns)\")\n",
    "\n",
    "ax2.hlines(1.5, x_min, x_max, color = \"red\", linestyle = \"--\")\n",
    "ax2.hlines(0.5, x_min, x_max, color = \"red\", linestyle = \"--\")\n",
    "\n"
   ]
  },
  {
   "cell_type": "markdown",
   "id": "163",
   "metadata": {},
   "source": [
    "# show state at time t"
   ]
  },
  {
   "cell_type": "code",
   "execution_count": null,
   "id": "164",
   "metadata": {},
   "outputs": [],
   "source": [
    "def search_protocol_time_array_index(array, start):\n",
    "    x = np.sort(np.append(array, start))\n",
    "    \n",
    "    start_index = np.where(x == start)[0][0]\n",
    "    if start != round(array[start_index]):\n",
    "        start_index += 1\n",
    "    return start_index"
   ]
  },
  {
   "cell_type": "code",
   "execution_count": null,
   "id": "165",
   "metadata": {},
   "outputs": [],
   "source": [
    "import imageio"
   ]
  },
  {
   "cell_type": "code",
   "execution_count": null,
   "id": "166",
   "metadata": {
    "tags": []
   },
   "outputs": [],
   "source": [
    "all_states_of_00 = all_states[simResult['cfqr'].getIndexOfParticles()[\"00\"]]\n",
    "all_states_of_01 = all_states[simResult['cfqr'].getIndexOfParticles()[\"01\"]]\n",
    "all_states_of_10 = all_states[simResult['cfqr'].getIndexOfParticles()[\"10\"]]\n",
    "all_states_of_11 = all_states[simResult['cfqr'].getIndexOfParticles()[\"11\"]]\n",
    "np.save(\"state_for_no_KE_extraction/all_states_of_00.npy\", all_states_of_00)\n",
    "np.save(\"state_for_no_KE_extraction/all_states_of_01.npy\", all_states_of_01)\n",
    "np.save(\"state_for_no_KE_extraction/all_states_of_10.npy\", all_states_of_10)\n",
    "np.save(\"state_for_no_KE_extraction/all_states_of_11.npy\", all_states_of_11)\n",
    "np.save(\"state_for_no_KE_extraction/reduced_protocol_time_array.npy\", reduced_protocal_time_array)\n",
    "\n",
    "\n",
    "chosen_state = \"01\"\n",
    "prefix = \"KEP (no)\"\n",
    "if chosen_state == \"00\":\n",
    "    plot_states = all_states_of_00\n",
    "if chosen_state == \"01\":\n",
    "    plot_states = all_states_of_01\n",
    "if chosen_state == \"10\":\n",
    "    plot_states = all_states_of_10\n",
    "if chosen_state == \"11\":\n",
    "    plot_states = all_states_of_11\n",
    "target_index_array = []\n",
    "animation_picture = []\n",
    "for t in np.linspace(100, 123, 50):\n",
    "    target_index = search_protocol_time_array_index(reduced_protocal_time_array, t)\n",
    "    \n",
    "    \n",
    "    if target_index in target_index_array:\n",
    "        continue\n",
    "    else:\n",
    "        target_index_array.append(t)\n",
    "    \n",
    "    target_state = plot_states[:, target_index, ...]\n",
    "    mean_position = np.mean(target_state[:, 0, 0]), np.mean(target_state[:, 1, 0])\n",
    "    mean_speed = np.mean(target_state[:, 0, 1]), np.mean(target_state[:, 1, 1])\n",
    "    \n",
    "    \n",
    "    fig, ax = plt.subplots(1,1, figsize = [5, 5])\n",
    "    ax.set_aspect(1)\n",
    "    ax.scatter(target_state[:, 0, 0], target_state[:, 1, 0])\n",
    "    ax.scatter(mean_position[0], mean_position[1], color = \"red\")\n",
    "    ax.arrow(mean_position[0], mean_position[1], dx = mean_speed[0], dy = mean_speed[1], color = \"yellow\", width = 0.05)\n",
    "    ax.set_title(f\"particle: {chosen_state}, time = {t:.4g}\")\n",
    "    ax.set_xlim(-4, 4)\n",
    "    ax.set_ylim(-4, 4)\n",
    "    \n",
    "    pic_name = \"cfq_data/sudden_jump_KEP/\" + f\"{prefix}_{chosen_state}_{len(target_index_array)}.png\"\n",
    "    plt.savefig(pic_name)\n",
    "    plt.close(fig)\n",
    "\n",
    "    animation_picture.append(imageio.imread(pic_name))\n",
    "\n",
    "imageio.mimsave(f\"cfq_data/sudden_jump_KEP/{prefix}_{chosen_state}_particle.gif\", animation_picture, loop = 0, duration=0.1)\n"
   ]
  },
  {
   "cell_type": "code",
   "execution_count": null,
   "id": "167",
   "metadata": {},
   "outputs": [],
   "source": [
    "# np.save(\"saved_init_state/after_CE_completed_N_1000.npy\", target_state)"
   ]
  },
  {
   "cell_type": "code",
   "execution_count": null,
   "id": "168",
   "metadata": {},
   "outputs": [],
   "source": [
    "np.mean(cfqr.system.get_kinetic_energy(target_state))"
   ]
  },
  {
   "cell_type": "code",
   "execution_count": null,
   "id": "169",
   "metadata": {},
   "outputs": [],
   "source": [
    "reduced_protocal_time_array"
   ]
  },
  {
   "cell_type": "markdown",
   "id": "170",
   "metadata": {},
   "source": []
  },
  {
   "cell_type": "code",
   "execution_count": null,
   "id": "171",
   "metadata": {},
   "outputs": [],
   "source": []
  },
  {
   "cell_type": "markdown",
   "id": "172",
   "metadata": {},
   "source": [
    "# mean position of the particle"
   ]
  },
  {
   "cell_type": "code",
   "execution_count": null,
   "id": "173",
   "metadata": {},
   "outputs": [],
   "source": [
    "all_states_of_00 = all_states[simResult['cfqr'].getIndexOfParticles()[\"00\"]]"
   ]
  },
  {
   "cell_type": "code",
   "execution_count": null,
   "id": "174",
   "metadata": {},
   "outputs": [],
   "source": [
    "\n",
    "all_state = simResult['cfqr'].sim.output.all_state['states']\n",
    "reduced_time_array = simResult['cfqr'].getReducedTimeArray()\n",
    "index_of_00 = simResult['cfqr'].getIndexOfParticles()[\"00\"]\n",
    "index_of_01 = simResult['cfqr'].getIndexOfParticles()[\"01\"]\n",
    "index_of_10 = simResult['cfqr'].getIndexOfParticles()[\"10\"]\n",
    "index_of_11 = simResult['cfqr'].getIndexOfParticles()[\"11\"]\n",
    "index_of_not_00 = ~simResult['cfqr'].getIndexOfParticles()[\"00\"]\n",
    "\n",
    "fig, ax = plt.subplots(4, 4, figsize = [18, 12], sharex=True)\n",
    "\n",
    "for i, index_of_particle in enumerate([index_of_00, index_of_01, index_of_10, index_of_11]):\n",
    "    v_1 = np.mean(all_state[index_of_particle, :, 0, 0], axis = 0)\n",
    "    v_2 = np.mean(all_state[index_of_particle, :, 1, 0], axis = 0)\n",
    "    v_1dc = np.mean(all_state[index_of_particle, :, 2, 0], axis = 0)\n",
    "    v_2dc = np.mean(all_state[index_of_particle, :, 3, 0], axis = 0)\n",
    "    ax[i][0].plot(reduced_time_array, v_1)\n",
    "    ax[i][1].plot(reduced_time_array, v_2)\n",
    "    ax[i][2].plot(reduced_time_array, v_1dc)\n",
    "    ax[i][3].plot(reduced_time_array, v_2dc)\n",
    "ax[0][0].set_ylabel(r\"$\\varphi_1$\", size = 15)\n",
    "ax[1][0].set_ylabel(r\"$\\varphi_2$\", size = 15)\n",
    "ax[2][0].set_ylabel(r\"$\\varphi_1dc$\", size = 15)\n",
    "ax[3][0].set_ylabel(r\"$\\varphi_2dc$\", size = 15)\n",
    "fig.supxlabel('time', size = 20)\n",
    "\n"
   ]
  },
  {
   "cell_type": "code",
   "execution_count": null,
   "id": "175",
   "metadata": {},
   "outputs": [],
   "source": []
  },
  {
   "cell_type": "code",
   "execution_count": null,
   "id": "176",
   "metadata": {},
   "outputs": [],
   "source": []
  },
  {
   "cell_type": "code",
   "execution_count": null,
   "id": "177",
   "metadata": {},
   "outputs": [],
   "source": []
  },
  {
   "cell_type": "markdown",
   "id": "178",
   "metadata": {},
   "source": [
    "# v analysis"
   ]
  },
  {
   "cell_type": "code",
   "execution_count": null,
   "id": "179",
   "metadata": {},
   "outputs": [],
   "source": []
  },
  {
   "cell_type": "code",
   "execution_count": null,
   "id": "180",
   "metadata": {},
   "outputs": [],
   "source": [
    "\n",
    "all_state = simResult['cfqr'].sim.output.all_state['states']\n",
    "reduced_time_array = simResult['cfqr'].getReducedTimeArray()\n",
    "index_of_00 = simResult['cfqr'].getIndexOfParticles()[\"00\"]\n",
    "index_of_01 = simResult['cfqr'].getIndexOfParticles()[\"01\"]\n",
    "index_of_10 = simResult['cfqr'].getIndexOfParticles()[\"10\"]\n",
    "index_of_11 = simResult['cfqr'].getIndexOfParticles()[\"11\"]\n",
    "index_of_not_00 = ~simResult['cfqr'].getIndexOfParticles()[\"00\"]\n",
    "\n",
    "fig, ax = plt.subplots(4, 4, figsize = [16, 12])\n",
    "\n",
    "for i, index_of_particle in enumerate([index_of_00, index_of_01, index_of_10, index_of_11]):\n",
    "    v_1 = np.mean(all_state[index_of_particle, :, 0, 1], axis = 0)\n",
    "    v_2 = np.mean(all_state[index_of_particle, :, 1, 1], axis = 0)\n",
    "    v_1dc = np.mean(all_state[index_of_particle, :, 2, 1], axis = 0)\n",
    "    v_2dc = np.mean(all_state[index_of_particle, :, 3, 1], axis = 0)\n",
    "    ax[i][0].plot(reduced_time_array, v_1)\n",
    "    ax[i][1].plot(reduced_time_array, v_2)\n",
    "    ax[i][2].plot(reduced_time_array, v_1dc)\n",
    "    ax[i][3].plot(reduced_time_array, v_2dc)\n",
    "\n",
    "\n",
    "\n",
    "KE_of_01 = np.mean(simResult['cfqr'].system.get_kinetic_energy(all_state[index_of_01]), axis = 0)\n",
    "KE_of_10 = np.mean(simResult['cfqr'].system.get_kinetic_energy(all_state[index_of_10]), axis = 0)\n",
    "KE_of_11 = np.mean(simResult['cfqr'].system.get_kinetic_energy(all_state[index_of_11]), axis = 0)\n",
    "# KE_of_10 = np.mean(simResult['cfqr'].system.get_kinetic_energy(all_state[index_of_10]), axis = 0)\n",
    "ax[0].plot(protocal_key_time_array, KE_of_00)\n",
    "ax[0].set_title(\"average KE of 00\")\n",
    "ax[0].set_xlabel(\"time\")\n",
    "ax[0].set_ylabel(r\"KE $(k_BT)$\")\n",
    "# ax[0].set_yscale(\"log\")\n",
    "\n",
    "ax[1].set_title(\"average KE of 01\")\n",
    "ax[1].plot(protocal_key_time_array, KE_of_01)\n",
    "ax[1].set_xlabel(\"time\")\n",
    "# ax[1].set_ylim(0, 6)\n",
    "\n",
    "ax[2].set_title(\"average KE of 10\")\n",
    "ax[2].plot(protocal_key_time_array, KE_of_10)\n",
    "ax[2].set_xlabel(\"time\")\n",
    "\n",
    "ax[3].set_title(\"average KE of 10\")\n",
    "ax[3].plot(protocal_key_time_array, KE_of_11)\n",
    "ax[3].set_xlabel(\"time\")"
   ]
  },
  {
   "cell_type": "code",
   "execution_count": null,
   "id": "181",
   "metadata": {},
   "outputs": [],
   "source": []
  },
  {
   "cell_type": "markdown",
   "id": "182",
   "metadata": {},
   "source": [
    "# escape rate analysis"
   ]
  },
  {
   "cell_type": "code",
   "execution_count": null,
   "id": "183",
   "metadata": {},
   "outputs": [],
   "source": [
    "index_longitudinal = 1\n",
    "index_transverse = 0\n",
    "for _list, _protocol in zip(critical_point_list, protocol_array):\n",
    "    params_list_used = cfqr.protocol.get_params(0)\n",
    "    params_list_used[4], params_list_used[5] = beta_1, beta_2 # phi_1x\n",
    "    params_list_used[8] = _protocol['phi_1x'] # phi_1x\n",
    "    params_list_used[9] = _protocol['phi_2x'] # phi_2x\"\n",
    "    params_list_used[10] = _protocol['phi_1xdc'] # phi_1xdc\n",
    "    params_list_used[11] = _protocol['phi_2xdc'] # phi_2xdc\n",
    "    params_list_used[12] = _protocol['mu_12'] # mu\n",
    "    print(\"-\" * 20)\n",
    "    print(_protocol['name'])\n",
    "    omega_list, delta_U_list, at_weak_list = [], [], []\n",
    "    _phi_1xdc, _phi_2xdc = _protocol['phi_1xdc'], _protocol['phi_2xdc']\n",
    "    saddle_point_x, saddle_point_y = _list['coord'][2][0], 0\n",
    "    saddle_point_potential = coupled_flux_qubit_non_linear_approx_pot(saddle_point_x, saddle_point_y, _phi_1xdc, _phi_2xdc, params_list_used)\n",
    "\n",
    "    for _pt in [_list['coord'][2], _list['coord'][3], (saddle_point_x, 0)]:\n",
    "        print(f\"coord and phi = : {_pt}, {_phi_1xdc}, {_phi_2xdc}\")\n",
    "        k_eff = np.array([1 - beta_1 * np.cos(_pt[0]) * np.cos(_phi_1xdc/2), 1 - beta_2 * np.cos(_pt[1]) * np.cos(_phi_2xdc/2)]) \n",
    "        omega = np.sqrt(k_eff/ t_c**2)\n",
    "        omega_list.append(omega)\n",
    "        print(f\"omega = {omega}, k_eff = {k_eff}\")\n",
    "\n",
    "        well_potential = coupled_flux_qubit_non_linear_approx_pot(_pt[0], _pt[1], _phi_1xdc, _phi_2xdc, params_list_used)\n",
    "        delta_U = saddle_point_potential - well_potential\n",
    "        delta_U_list.append(delta_U)\n",
    "        print(f\"delta_U = {delta_U}, well_potential = {well_potential}, saddle_point_potential = {saddle_point_potential}\")\n",
    "\n",
    "    omega_10 = omega_list[0][0] * omega_list[0][1] / omega_list[2][0]\n",
    "    omega_11 = omega_list[1][0] * omega_list[1][1] / omega_list[2][0]\n",
    "    G = 1 / (R_1 * C_1 * omega_list[2][0])\n",
    "    a_t = (1 + G**2 / 4) - G/2\n",
    "    a_t_weak = 2 * np.pi / (omega_10 * R_1 * C_1) * (delta_U_list[0])**2\n",
    "    # print(omega_10 * R_1 * C_1)\n",
    "\n",
    "    escape_rate_10 =  omega_10 / (2 * np.pi) * np.exp(-delta_U_list[0])\n",
    "    escape_rate_11 = omega_11 / (2 * np.pi) * np.exp(-delta_U_list[1]) \n",
    "    print(f\"dU_10 = {delta_U_list[0]}, dU_11 = {delta_U_list[1]}, a_t = {a_t}, a_t_weak = {a_t_weak}\")\n",
    "    print(f\"escape_rate_10: {escape_rate_10}, escape_rate_11: {escape_rate_11}\")\n",
    "    print(\"-\" * 50)\n"
   ]
  },
  {
   "cell_type": "markdown",
   "id": "184",
   "metadata": {},
   "source": [
    "# work analysis"
   ]
  },
  {
   "cell_type": "code",
   "execution_count": null,
   "id": "185",
   "metadata": {},
   "outputs": [],
   "source": [
    "# work_analysis(simResult, params, protocol_list)"
   ]
  },
  {
   "cell_type": "code",
   "execution_count": null,
   "id": "186",
   "metadata": {},
   "outputs": [],
   "source": []
  },
  {
   "cell_type": "markdown",
   "id": "187",
   "metadata": {},
   "source": [
    "### animation"
   ]
  },
  {
   "cell_type": "code",
   "execution_count": null,
   "id": "188",
   "metadata": {},
   "outputs": [],
   "source": [
    "\n",
    "importlib.reload(coupled_fq_protocol_library)"
   ]
  },
  {
   "cell_type": "code",
   "execution_count": null,
   "id": "189",
   "metadata": {},
   "outputs": [],
   "source": [
    "def cutlineDataGeneratingFunction(initial_parameter_dict, direction = 'v', color = 'red', guess = [(-2, -2)]):\n",
    "    coord_index = 0 if direction == \"v\" else 1\n",
    "    def tracking_minimum_point(_t):\n",
    "        return  [cfqr.get_minimum_at_t_for_a_set_of_parameter(_t, initial_parameter_dict, guess = guess)[0][coord_index], direction, color]\n",
    "    return tracking_minimum_point"
   ]
  },
  {
   "cell_type": "code",
   "execution_count": null,
   "id": "190",
   "metadata": {
    "tags": []
   },
   "outputs": [],
   "source": [
    "pColor = {\"00\": \"#061DF7\", \"01\": \"red\", \"10\": \"#3FC7F2\", \"11\": \"#F187F4\"}\n",
    "\n",
    "if L_factor == 1:\n",
    "    graph_setting = {\n",
    "        0.1: {\"vmin\": 1000, \"vmax\": 2000, \"ymin\": 1000, \"ymax\": 3000},\n",
    "        0.5: {\"vmin\": 100, \"vmax\": 400, \"ymin\": 100, \"ymax\": 400},\n",
    "        1: {\"vmin\": 100, \"vmax\": 400, \"ymin\": 100, \"ymax\": 400},\n",
    "        2: {\"vmin\": 50, \"vmax\": 250, \"ymin\": 50, \"ymax\": 250},    \n",
    "        4.2: {\"vmin\": 600, \"vmax\": 2000, \"ymin\": 600, \"ymax\": 3000},\n",
    "        5: {\"vmin\": 0, \"vmax\": 100, \"ymin\": 0, \"ymax\": 150},\n",
    "        7: {\"vmin\": 0, \"vmax\": 100, \"ymin\": 0, \"ymax\": 150},\n",
    "        20: {\"vmin\": 0, \"vmax\": 20, \"ymin\": 0, \"ymax\": 20},\n",
    "        100: {\"vmin\": 0, \"vmax\": 20, \"ymin\": 0, \"ymax\": 20},\n",
    "        1000: {\"vmin\": 0, \"vmax\": 1, \"ymin\": 0, \"ymax\": 1},\n",
    "    }\n",
    "\n",
    "if L_factor == 1.5:\n",
    "    graph_setting = {\n",
    "        0.1: {\"vmin\": 300, \"vmax\": 2000, \"ymin\": 300, \"ymax\": 2000},\n",
    "    }\n",
    "\n",
    "    \n",
    "if L_factor == 5:\n",
    "    graph_setting = {\n",
    "        0.1: {\"vmin\": -1500, \"vmax\": 800, \"ymin\": -1500, \"ymax\": 800},\n",
    "    }\n",
    "\n",
    "if L_1 <=6e-11:\n",
    "     graph_setting = {\n",
    "        4.2: {\"vmin\": 500, \"vmax\": 3000, \"ymin\": 500, \"ymax\": 3000},\n",
    "    }"
   ]
  },
  {
   "cell_type": "code",
   "execution_count": null,
   "id": "191",
   "metadata": {},
   "outputs": [],
   "source": []
  },
  {
   "cell_type": "code",
   "execution_count": null,
   "id": "192",
   "metadata": {},
   "outputs": [],
   "source": [
    "import sys, importlib\n",
    "importlib.reload(sys.modules['edward_tools.coupled_fq_protocol_library'])\n",
    "# from edward_tools.coupled_fq_protocol_library import work_analysis, KE_analysis, single_particle_analysis"
   ]
  },
  {
   "cell_type": "markdown",
   "id": "193",
   "metadata": {},
   "source": [
    "### without cutlineGeneratingFunction"
   ]
  },
  {
   "cell_type": "code",
   "execution_count": null,
   "id": "194",
   "metadata": {},
   "outputs": [],
   "source": [
    "contourData = {\n",
    "    \"manual_domain\": [np.array([-4, -4]), np.array([4, 4])],\n",
    "    \"contour_range\": [700, 2000], \"domain_limit\": [-3, 3],\n",
    "    \"title\": None\n",
    "}\n",
    "\n",
    "cutlineInformation = {\n",
    "    \"cutlineList\": [(-2, \"h\",\"red\"), (2, \"h\",\"blue\")],\n",
    "    \"cutlineGeneratingFunction\": None,\n",
    "    \"cutlineXLimit\": [-4,4],\n",
    "    \"cutlineYLimit\": [[600, 1200], [600, 1200]]\n",
    "}\n",
    "\n",
    "particleInformation = {\n",
    "    \"showParticles\": True,\n",
    "    \"project_axis\": \"phi_1\",\n",
    "    \"particle_opacity\": 0.5,\n",
    "    \"pColor\": {\"00\": \"#061DF7\", \"01\": \"red\", \"10\": \"#3FC7F2\", \"11\": \"#F187F4\"}\n",
    "}\n",
    "\n"
   ]
  },
  {
   "cell_type": "code",
   "execution_count": null,
   "id": "195",
   "metadata": {},
   "outputs": [],
   "source": [
    "simResult[\"cfqr\"].getReducedTimeArray()"
   ]
  },
  {
   "cell_type": "code",
   "execution_count": null,
   "id": "196",
   "metadata": {},
   "outputs": [],
   "source": [
    "time_index_start = 0\n",
    "time_index_end = -1\n",
    "frame_skip = 50\n",
    "all_state = simResult['cfqr'].sim.output.all_state['states'][:, time_index_start:time_index_end, ...]\n",
    "targetTimeArray = protocol_all_time_array[simResult['cfqr'].sim.target_step_index][time_index_start:time_index_end]\n",
    "\n",
    "animation_play = True\n",
    "# animation_play = False\n",
    "if animation_play:    \n",
    "    animation_time_array = targetTimeArray[::frame_skip]\n",
    "    animation_states = all_state[:, ::frame_skip, ...]\n",
    "    print(\"geenerated at \", datetime.datetime.now())\n",
    "\n",
    "    ani, fig, ax = coupled_fq_protocol_library.animate_sim_flux_qubit_with_cutline_and_projection(simResult['cfqr'], time_array=animation_time_array, state_array = animation_states, plot_axis= [0,1], vmin=graph_setting[T]['vmin'], vmax=graph_setting[T]['vmax'], ax0_title = f\"T = {T}K, L = {L_1 * 1e12}pH\", params=params, \n",
    "cutlineGeneratingFunction = False, cutlineInformation = cutlineInformation, particleInformation = particleInformation, contourData = contourData, pColor=pColor, contour_range = [0, 500], cutlineXLimit=[-4, 4], cutlineYLimit=[0, 500])\n",
    "    fig.tight_layout()\n",
    "    writer = animation.PillowWriter(fps=10, metadata=dict(artist='Me'), bitrate=1800)\n",
    "    ani.save('scatter.gif', writer=writer)\n",
    "    plt.close()\n",
    "    \n"
   ]
  },
  {
   "cell_type": "code",
   "execution_count": null,
   "id": "197",
   "metadata": {},
   "outputs": [],
   "source": [
    "Image(filename=\"scatter.gif\")"
   ]
  },
  {
   "cell_type": "code",
   "execution_count": null,
   "id": "198",
   "metadata": {},
   "outputs": [],
   "source": []
  },
  {
   "cell_type": "code",
   "execution_count": null,
   "id": "199",
   "metadata": {},
   "outputs": [],
   "source": []
  },
  {
   "cell_type": "code",
   "execution_count": null,
   "id": "200",
   "metadata": {},
   "outputs": [],
   "source": [
    "import sys, importlib\n",
    "importlib.reload(sys.modules['edward_tools.coupled_fq_protocol_library'])\n",
    "# from edward_tools.coupled_fq_protocol_library import work_analysis, KE_analysis, single_particle_analysis\n",
    "animation_play = True\n",
    "# animation_play = False\n",
    "# contourData = {\n",
    "#     \"manual_domain\": [np.array([-4, -4]), np.array([4, 4])],\n",
    "#     \"contour_range\": [350, 1500], \"domain_limit\": [-3, 3],\n",
    "#     \"title\": None\n",
    "# }\n",
    "contourData = {\n",
    "    \"manual_domain\": [np.array([-4, -4]), np.array([4, 4])],\n",
    "    \"contour_range\": [700, 1800], \"domain_limit\": [-3, 3],\n",
    "    \"title\": None\n",
    "}\n",
    "\n",
    "cutlineInformation = {\n",
    "    \"cutlineList\": [(2.3, \"v\",\"red\")],\n",
    "    \"cutlineGeneratingFunction\": None,\n",
    "    \"cutlineXLimit\": [-4,4],\n",
    "    \"cutlineYLimit\": [200, 1700]\n",
    "}\n",
    "\n",
    "particleInformation = {\n",
    "    \"showParticles\": True,\n",
    "    \"project_item\": [\"10\", \"11\"],\n",
    "    \"project_axis\": \"phi_2\",\n",
    "    \"particle_opacity\": 0.5,\n",
    "    \"pColor\": {\"00\": \"#061DF7\", \"01\": \"red\", \"10\": \"#3FC7F2\", \"11\": \"#F187F4\"}\n",
    "}\n"
   ]
  },
  {
   "cell_type": "code",
   "execution_count": null,
   "id": "201",
   "metadata": {},
   "outputs": [],
   "source": [
    "\n",
    "animation_play = True\n",
    "# animation_play = False\n",
    "if animation_play:\n",
    "    frame_skip = 50\n",
    "    targetTimeArray = protocol_all_time_array[simResult['cfqr'].sim.target_step_index]\n",
    "    animation_time_array = targetTimeArray[::frame_skip]\n",
    "    animation_states = all_state[:, ::frame_skip, ...]\n",
    "    print(\"geenerated at \", datetime.datetime.now())\n",
    "\n",
    "    \n",
    "    ani, fig, ax = coupled_fq_protocol_library.animate_sim_flux_qubit_with_cutline_and_projection(simResult['cfqr'], time_array=animation_time_array, state_array = animation_states, plot_axis= [0,1],\n",
    "                                                                                   vmin=graph_setting[T]['vmin'], vmax=graph_setting[T]['vmax'], ax0_title = f\"T = {T}K, L = {L_1 * 1e12}pH\",\n",
    "                                                                                   params=params, cutlineGeneratingFunction = False, \n",
    "                                                                                   cutlineInformation = cutlineInformation, particleInformation = particleInformation, contourData = contourData,\n",
    "                                                                                   pColor=pColor, contour_range = [0, 500], cutlineXLimit=[-4, 4], cutlineYLimit=[0, 500])\n",
    "    fig.tight_layout()\n",
    "    writer = animation.PillowWriter(fps=10, metadata=dict(artist='Me'), bitrate=1800)\n",
    "    ani.save('scatter.gif', writer=writer)\n",
    "    plt.close()\n",
    "    \n"
   ]
  },
  {
   "cell_type": "code",
   "execution_count": null,
   "id": "202",
   "metadata": {},
   "outputs": [],
   "source": [
    "Image(filename=\"scatter.gif\")"
   ]
  },
  {
   "cell_type": "code",
   "execution_count": null,
   "id": "203",
   "metadata": {},
   "outputs": [],
   "source": []
  },
  {
   "cell_type": "markdown",
   "id": "204",
   "metadata": {},
   "source": [
    "### with cutlineGeneratingFunction"
   ]
  },
  {
   "cell_type": "code",
   "execution_count": null,
   "id": "205",
   "metadata": {},
   "outputs": [],
   "source": [
    "animation_play = True\n",
    "# animation_play = False\n",
    "if animation_play:\n",
    "\n",
    "    frame_skip = int(1/50 * 1/params['dt'])\n",
    "    print(\"geenerated at \", datetime.datetime.now())\n",
    "    targetTimeArray = protocol_all_time_array[simResult['cfqr'].sim.target_step_index]\n",
    "    ani, fig, ax = coupled_fq_protocol_library.animate_sim_flux_qubit_with_cutline_and_projection(simResult['cfqr'], time_array=targetTimeArray, frame_skip = frame_skip, plot_axis= [0,1],\n",
    "                                                                                   vmin=graph_setting[T]['vmin'], vmax=graph_setting[T]['vmax'], ax0_title = f\"T = {T}K, L = {L_1 * 1e12}pH\",\n",
    "                                                                                   params=params, cutlineGeneratingFunction = cutlineDataGeneratingFunction(initial_parameter_dict),\n",
    "                                                                                   pColor=pColor, contour_range = [0, 500], cutlineXLimit=[-4, 4], cutlineYLimit=[0, 500])\n",
    "    fig.tight_layout()\n",
    "    writer = animation.PillowWriter(fps=15, metadata=dict(artist='Me'), bitrate=1800)\n",
    "    ani.save('scatter.gif', writer=writer)\n",
    "    Image(filename=\"scatter.gif\")"
   ]
  },
  {
   "cell_type": "code",
   "execution_count": null,
   "id": "206",
   "metadata": {},
   "outputs": [],
   "source": []
  },
  {
   "cell_type": "markdown",
   "id": "207",
   "metadata": {},
   "source": [
    "### save data analysis"
   ]
  },
  {
   "cell_type": "code",
   "execution_count": null,
   "id": "208",
   "metadata": {},
   "outputs": [],
   "source": []
  },
  {
   "cell_type": "code",
   "execution_count": null,
   "id": "209",
   "metadata": {},
   "outputs": [],
   "source": [
    "print(f\"current comment: {params['comment']}\")\n",
    "response = input(\"Are you happy with the current comment? If not, give me a new comment.\")\n",
    "if response == \"y\":\n",
    "    pass\n",
    "else:\n",
    "    params['comment'] = response"
   ]
  },
  {
   "cell_type": "code",
   "execution_count": null,
   "id": "210",
   "metadata": {},
   "outputs": [],
   "source": [
    "simResult['error_rate_array']"
   ]
  },
  {
   "cell_type": "code",
   "execution_count": null,
   "id": "211",
   "metadata": {},
   "outputs": [],
   "source": [
    "importlib.reload(sys.modules['edward_tools.cfq_batch_sweep'])"
   ]
  },
  {
   "cell_type": "code",
   "execution_count": null,
   "id": "212",
   "metadata": {},
   "outputs": [],
   "source": [
    "cfq_batch_sweep.saveSimulationResult(simResult, U0_1, timeOrStep = 'step', save = True, save_final_state = False, saveFolderPath = \"coupled_flux_qubit_protocol/coupled_flux_qubit_data_gallery\", save_all_state = False)"
   ]
  },
  {
   "cell_type": "code",
   "execution_count": null,
   "id": "213",
   "metadata": {},
   "outputs": [],
   "source": []
  },
  {
   "cell_type": "markdown",
   "id": "214",
   "metadata": {},
   "source": [
    "# save state"
   ]
  },
  {
   "cell_type": "code",
   "execution_count": null,
   "id": "215",
   "metadata": {},
   "outputs": [],
   "source": [
    "target_state = all_states[:,106, ...]\n",
    "plt.scatter(target_state[..., 0, 0], target_state[..., 1, 0])"
   ]
  },
  {
   "cell_type": "code",
   "execution_count": null,
   "id": "216",
   "metadata": {},
   "outputs": [],
   "source": [
    "state_name = \"just_before_KEP_N_1000.npy\"\n",
    "np.save(\"saved_init_state/\" + state_name, target_state)"
   ]
  },
  {
   "cell_type": "code",
   "execution_count": null,
   "id": "217",
   "metadata": {},
   "outputs": [],
   "source": []
  },
  {
   "cell_type": "code",
   "execution_count": null,
   "id": "218",
   "metadata": {},
   "outputs": [],
   "source": []
  },
  {
   "cell_type": "markdown",
   "id": "219",
   "metadata": {},
   "source": [
    "# save pickle"
   ]
  },
  {
   "cell_type": "code",
   "execution_count": null,
   "id": "220",
   "metadata": {},
   "outputs": [],
   "source": []
  },
  {
   "cell_type": "code",
   "execution_count": null,
   "id": "221",
   "metadata": {},
   "outputs": [],
   "source": [
    "experiment_label = \"Experiment 5 (2025-5-14)\" "
   ]
  },
  {
   "cell_type": "code",
   "execution_count": null,
   "id": "222",
   "metadata": {},
   "outputs": [],
   "source": [
    "with open(f'coupled_flux_qubit_protocol/simulation_protocol_history/{experiment_label}.pickle', \"rb\") as f:\n",
    "    k = pickle.load(f)"
   ]
  },
  {
   "cell_type": "code",
   "execution_count": null,
   "id": "223",
   "metadata": {},
   "outputs": [],
   "source": [
    "protocol_list"
   ]
  },
  {
   "cell_type": "code",
   "execution_count": null,
   "id": "224",
   "metadata": {},
   "outputs": [],
   "source": []
  },
  {
   "cell_type": "code",
   "execution_count": null,
   "id": "225",
   "metadata": {},
   "outputs": [],
   "source": [
    "export_cfqr_params = params['circuit_parameters']\n",
    "\n",
    "export_params = params\n",
    "export_params['comment'] = f\"{experiment_label}\"\n",
    "\n",
    "\n",
    "export_object = {\n",
    "    \"cfqr_params\": export_cfqr_params,\n",
    "    \"params\": export_params,\n",
    "    \"initial_external_parameter_dict\": initial_parameter_dict,\n",
    "    \"protocol_list\": protocol_list,\n",
    "    \"manual_domain\": [np.array([-5, -5]), np.array([5, 5])]\n",
    "}\n",
    "    \n",
    "\n",
    "print(export_params['comment'])\n",
    "print(simResult['simulation_data']['simulation_id'])"
   ]
  },
  {
   "cell_type": "code",
   "execution_count": null,
   "id": "226",
   "metadata": {},
   "outputs": [],
   "source": [
    "pickle_file_path = os.path.join(\"coupled_flux_qubit_protocol\", \"simulation_protocol_history\", f\"{experiment_label}.pickle\")\n",
    "\n",
    "with open(pickle_file_path, \"wb\") as f:\n",
    "    pickle.dump(export_object, f)"
   ]
  },
  {
   "cell_type": "code",
   "execution_count": null,
   "id": "227",
   "metadata": {},
   "outputs": [],
   "source": [
    "pickle_file_path"
   ]
  },
  {
   "cell_type": "code",
   "execution_count": null,
   "id": "228",
   "metadata": {},
   "outputs": [],
   "source": []
  },
  {
   "cell_type": "code",
   "execution_count": null,
   "id": "229",
   "metadata": {},
   "outputs": [],
   "source": []
  },
  {
   "cell_type": "code",
   "execution_count": null,
   "id": "230",
   "metadata": {},
   "outputs": [],
   "source": [
    "# modify pickle"
   ]
  },
  {
   "cell_type": "code",
   "execution_count": null,
   "id": "231",
   "metadata": {},
   "outputs": [],
   "source": [
    "modify_item = [(0, 200), (40, 160), (80, 120), (120, 80), (160, 40), (200, 0)]"
   ]
  },
  {
   "cell_type": "code",
   "execution_count": null,
   "id": "232",
   "metadata": {},
   "outputs": [],
   "source": [
    "import copy\n"
   ]
  },
  {
   "cell_type": "code",
   "execution_count": null,
   "id": "233",
   "metadata": {},
   "outputs": [],
   "source": [
    "k_array = []"
   ]
  },
  {
   "cell_type": "code",
   "execution_count": null,
   "id": "234",
   "metadata": {},
   "outputs": [],
   "source": [
    "for _i, (t_1, t_2) in enumerate(modify_item):\n",
    "    k_template = copy.deepcopy(k)\n",
    "\n",
    "        \n",
    "    k_template['protocol_list'][1]['duration'] = t_1\n",
    "    k_template['protocol_list'][2]['duration'] = t_2\n",
    "    \n",
    "    if t_1 == 0:\n",
    "        k_template['protocol_list'].pop(1)\n",
    "    if t_2 == 0:\n",
    "        k_template['protocol_list'].pop(2)\n",
    "    k_array.append(k_template)\n",
    "    \n",
    "    pickle_file_path = os.path.join(\"coupled_flux_qubit_protocol\", \"simulation_protocol_history\", f\"{experiment_label}_series_{_i}.pickle\")\n",
    "\n",
    "    with open(pickle_file_path, \"wb\") as f:\n",
    "        pickle.dump(k_template, f)\n",
    "    "
   ]
  },
  {
   "cell_type": "code",
   "execution_count": null,
   "id": "235",
   "metadata": {},
   "outputs": [],
   "source": [
    "for x in k_array:\n",
    "    print(x['protocol_list'])"
   ]
  },
  {
   "cell_type": "code",
   "execution_count": null,
   "id": "236",
   "metadata": {},
   "outputs": [],
   "source": [
    "pickle_prefix = \"Experiment 1 (2024-11-12)_series_\"\n",
    "# pickle_prefix = \"Experiment 1 (2024-10-27)\"\n",
    "print(pickle_prefix)\n",
    "comment = f\"Experiment 1 (2024-11-12) CE operation, with R = 300Ω and various ratio of the KE protocol\"\n",
    "param_dt = 1/100\n",
    "loopTime = 100\n",
    "protocol_type = \"CE\"\n",
    "\n",
    "\n",
    "\n",
    "\n",
    "\n",
    "\n",
    "####################\n",
    "# no need to change the following \n",
    "####################\n",
    "\n",
    "pickle_file_base_folder = \"coupled_flux_qubit_protocol/simulation_protocol_history\"\n",
    "\n",
    "all_pickle_file = os.listdir(pickle_file_base_folder)\n",
    "target_pickle_file_list = [os.path.join(pickle_file_base_folder, p) for p in all_pickle_file if pickle_prefix in p]\n"
   ]
  },
  {
   "cell_type": "code",
   "execution_count": null,
   "id": "237",
   "metadata": {},
   "outputs": [],
   "source": [
    "target_pickle_file_list"
   ]
  },
  {
   "cell_type": "code",
   "execution_count": null,
   "id": "238",
   "metadata": {},
   "outputs": [],
   "source": [
    "particle_index = 0\n",
    "particle_category = \"00\"\n",
    "time_range = None\n",
    "\n",
    "index_choice = simResult['cfqr'].getIndexOfParticles()[\"00\"]\n",
    "all_states = simResult['cfqr'].sim.output.all_state['states']\n",
    "all_states_00_i1 = all_states[index_choice][particle_index, ...]"
   ]
  },
  {
   "cell_type": "code",
   "execution_count": null,
   "id": "239",
   "metadata": {},
   "outputs": [],
   "source": [
    "_, _, protocol_time_array, protocol_time_index_array = simResult['cfqr'].createProtocolTimeArray(protocol_list, params)\n",
    "\n",
    "protocol_all_time_index_array = np.array(range(0, int(np.array(protocol_time_array[-1]) / params['dt']) + 1))\n",
    "protocol_all_time_array  = protocol_all_time_index_array * params['dt']\n",
    "\n"
   ]
  },
  {
   "cell_type": "code",
   "execution_count": null,
   "id": "240",
   "metadata": {},
   "outputs": [],
   "source": [
    "reduced_protocal_time_array = simResult['cfqr'].getKeyTime()\n",
    "KE_of_the_particle = simResult['cfqr'].system.get_kinetic_energy(all_states_00_i1)\n",
    "PE_of_the_particle = [simResult['cfqr'].system.get_potential(_s, _t ) for _t, _s in  zip(reduced_protocal_time_array, all_states_00_i1)]\n",
    "WD_of_the_particle = simResult['cfqr'].sim.work_dist_time_array_whole_process[index_choice][particle_index]"
   ]
  },
  {
   "cell_type": "code",
   "execution_count": null,
   "id": "241",
   "metadata": {},
   "outputs": [],
   "source": [
    "keyState_choosen_particle = [ s[index_choice][particle_index, ...] for s in simResult['cfqr'].sim.keyStep_all_states]\n",
    "total_energy = PE_of_the_particle - min(PE_of_the_particle) + KE_of_the_particle\n",
    "adjusted_PE = PE_of_the_particle - PE_of_the_particle[0]\n",
    "adjusted_total_energy = adjusted_PE + KE_of_the_particle\n",
    "characteristic_t = np.sqrt(params['circuit_parameters']['L_1'] * params['circuit_parameters']['L_factor'] * params['circuit_parameters']['C_1'] * params['circuit_parameters']['C_factor'])\n"
   ]
  },
  {
   "cell_type": "code",
   "execution_count": null,
   "id": "242",
   "metadata": {},
   "outputs": [],
   "source": [
    "reduced_protocal_time_array"
   ]
  },
  {
   "cell_type": "code",
   "execution_count": null,
   "id": "243",
   "metadata": {},
   "outputs": [],
   "source": [
    "def search_protocol_time_array_index(array, start, end):\n",
    "    x = np.sort(np.append(array, start))\n",
    "    y = np.sort(np.append(array, end))\n",
    "    \n",
    "    start_index = np.where(x == start)[0][0]\n",
    "    if start != round(array[start_index]):\n",
    "        start_index += 1\n",
    "    \n",
    "    \n",
    "    final_index = np.where(y == end)[0][0] \n",
    "    if end != round(array[final_index]):\n",
    "        final_index -= 1\n",
    "\n",
    "    return slice(start_index, final_index)"
   ]
  },
  {
   "cell_type": "code",
   "execution_count": null,
   "id": "244",
   "metadata": {},
   "outputs": [],
   "source": [
    "index_slice = search_protocol_time_array_index(reduced_protocal_time_array, 23, 60.)\n",
    "\n",
    "# reduced_protocal_time_array[index_slice]\n",
    "# search_protocol_time_array_range(adjusted_PE, 23, 60.)"
   ]
  },
  {
   "cell_type": "code",
   "execution_count": null,
   "id": "245",
   "metadata": {},
   "outputs": [],
   "source": [
    "reduced_protocal_time_array[index_slice]\n",
    "KE_of_the_particle[None]"
   ]
  },
  {
   "cell_type": "code",
   "execution_count": null,
   "id": "246",
   "metadata": {},
   "outputs": [],
   "source": [
    "export_object"
   ]
  },
  {
   "cell_type": "code",
   "execution_count": null,
   "id": "247",
   "metadata": {},
   "outputs": [],
   "source": [
    "def single_particle_analysis(simResult, params, protocol_list, plot_ax = None, particle_index = 0, particle_category = \"00\", time_range = None):\n",
    "    \n",
    "\n",
    "    \n",
    "    \n",
    "    # _ = [simResult['cfqr'].system.get_potential(_s, _t ) for _s, _t in zip(keyState_choosen_particle, simResult['cfqr'].protocol_time_array)]\n",
    "    \n",
    "    \n",
    "    \n",
    "\n",
    "    if plot_ax == None:\n",
    "        plt.figure(figsize=(8, 5))\n",
    "    plot_ax.plot(protocal_key_time_array, adjusted_PE , label = \"PE\", color = \"#CC79A7\")\n",
    "    plot_ax.plot(protocal_key_time_array, KE_of_the_particle, label = \"KE\")\n",
    "    plot_ax.plot(protocal_key_time_array, adjusted_total_energy, label = \"KE + PE\")\n",
    "    plot_ax.plot(protocal_key_time_array, WD_of_the_particle[::100], label = \"WD\", color = \"#000000\")\n",
    "    plot_ax.plot(protocal_key_time_array, WD_of_the_particle[::100] - adjusted_total_energy, label = \"energy loss\")\n",
    "    plot_ax.set_ylabel(r\"energy $(k_BT)$\")\n",
    "    plot_ax.set_xlabel(f\"time ({characteristic_t * 1e9:.3g} ns)\")\n",
    "    plot_ax.legend(bbox_to_anchor=(1.25, 1.05))"
   ]
  },
  {
   "cell_type": "code",
   "execution_count": null,
   "id": "248",
   "metadata": {
    "tags": []
   },
   "outputs": [],
   "source": [
    "os.path.join(\"~\", \"source\", \"coupled_flux_qubit_protocol\", \"simulation_protocol_history\", f\"{245}.pickle\")\n",
    "\n",
    "\n"
   ]
  },
  {
   "cell_type": "code",
   "execution_count": null,
   "id": "249",
   "metadata": {},
   "outputs": [],
   "source": [
    "\"/Users/tkwtang/source/coupled_flux_qubit_protocol/simulation_protocol_history/\""
   ]
  },
  {
   "cell_type": "markdown",
   "id": "250",
   "metadata": {},
   "source": [
    "# circuit parameter at different t and ∆U"
   ]
  },
  {
   "cell_type": "code",
   "execution_count": null,
   "id": "251",
   "metadata": {},
   "outputs": [],
   "source": [
    "reduced_time_array = cfqr.getReducedTimeArray()"
   ]
  },
  {
   "cell_type": "code",
   "execution_count": null,
   "id": "252",
   "metadata": {},
   "outputs": [],
   "source": [
    "params_at_t = [cfqr.convert_params_list_into_dict(cfqr.protocol.get_params(_t)) for _t in reduced_time_array]"
   ]
  },
  {
   "cell_type": "code",
   "execution_count": null,
   "id": "253",
   "metadata": {},
   "outputs": [],
   "source": [
    "circuit_parameters_at_different_t = []\n",
    "\n",
    "for x in params_at_t:\n",
    "    circuit_parameter_template = experiment_circuit_params.copy()\n",
    "    circuit_parameter_template['phi_1x'] = x['phi_1x']\n",
    "    circuit_parameter_template['phi_2x'] = x['phi_2x']\n",
    "    circuit_parameter_template['phi_1xdc'] = x['phi_1xdc']\n",
    "    circuit_parameter_template['phi_2xdc'] = x['phi_2xdc']\n",
    "    circuit_parameter_template['mu_12'] = x['mu_12']\n",
    "    circuit_parameters_at_different_t.append(circuit_parameter_template)"
   ]
  },
  {
   "cell_type": "code",
   "execution_count": null,
   "id": "254",
   "metadata": {},
   "outputs": [],
   "source": [
    "from edward_tools.pot_analysis_helper_functions import get_XYU, pot_function, find_all_critical_points_for_all_potential"
   ]
  },
  {
   "cell_type": "code",
   "execution_count": null,
   "id": "255",
   "metadata": {},
   "outputs": [],
   "source": [
    "contour_data_array = [get_XYU(circuit_params, domain=[-4, 4], resolution=500) for circuit_params in circuit_parameters_at_different_t]\n"
   ]
  },
  {
   "cell_type": "code",
   "execution_count": null,
   "id": "256",
   "metadata": {},
   "outputs": [],
   "source": [
    "initial_guess = [(-2, -2), (-2, 2), (2, -2), (2, 2), (-2,0), (0, -2), (2, 0), (0, 2)]\n",
    "critical_points_color = [\"green\", \"red\", \"yellow\", \"orange\", \"white\", \"white\", \"white\", \"white\"]"
   ]
  },
  {
   "cell_type": "code",
   "execution_count": null,
   "id": "257",
   "metadata": {},
   "outputs": [],
   "source": [
    "k_BT"
   ]
  },
  {
   "cell_type": "code",
   "execution_count": null,
   "id": "258",
   "metadata": {},
   "outputs": [],
   "source": [
    "result_array = []\n",
    "for _cp in circuit_parameters_at_different_t:\n",
    "    critical_dict = find_all_critical_points_for_all_potential(_cp,\n",
    "                    guess = [(-2, -2), (-2, 2), (2, -2), (2, 2), \\\n",
    "                             (-2,0), (0, -2), (2, 0), (0, 2)])\n",
    "    critical_points = list(critical_dict.values())[0]\n",
    "    critical_potential = [pot_function(_cp)([x, y]) for x, y in critical_points]\n",
    "    delta_U00 = critical_potential[4] - critical_potential[1]\n",
    "    delta_U01 = critical_potential[5] - critical_potential[0]\n",
    "    delta_U10 = critical_potential[6] - critical_potential[2]\n",
    "    delta_U11 = critical_potential[6] - critical_potential[3]\n",
    "\n",
    "    X, Y, U = get_XYU(_cp, [-4, 4], 50)\n",
    "\n",
    "    result_array.append({\n",
    "        \"coord\": critical_points, \"delta_U00\": delta_U00, \"delta_U01\": delta_U01,\n",
    "        \"delta_U10\": delta_U10, \"delta_U11\": delta_U11\n",
    "    })\n"
   ]
  },
  {
   "cell_type": "code",
   "execution_count": null,
   "id": "259",
   "metadata": {},
   "outputs": [],
   "source": [
    "delta_U_data = [(item['delta_U00'], item['delta_U01'], item['delta_U10'], item['delta_U11'])  for item in result_array]"
   ]
  },
  {
   "cell_type": "code",
   "execution_count": null,
   "id": "260",
   "metadata": {},
   "outputs": [],
   "source": [
    "total_duration = protocol_time_array[-1] * characteristic_time * 1e9\n",
    "\n",
    "plt.plot(reduced_time_array * characteristic_time * 1e9, U0_1 * np.array(delta_U_data)[:, 0], label = \"∆U00\")\n",
    "plt.plot(reduced_time_array * characteristic_time * 1e9, U0_1 * np.array(delta_U_data)[:, 1], label = \"∆U01\")\n",
    "plt.plot(reduced_time_array * characteristic_time * 1e9, U0_1 * np.array(delta_U_data)[:, 2], label = \"∆U10\")\n",
    "plt.plot(reduced_time_array * characteristic_time * 1e9, U0_1 * np.array(delta_U_data)[:, 3], label = \"∆U11\")\n",
    "xmin, xmax = plt.xlim()\n",
    "plt.hlines(y = 50, xmin = xmin, xmax = xmax, linestyle = \"--\")\n",
    "plt.legend()\n",
    "plt.xlabel(r'time $(ns)$')\n",
    "plt.ylabel(r'energy $(k_BT)$')\n",
    "plt.title(f\"∆U00 vs t (total duration = {total_duration:.3g}ns) \")\n"
   ]
  },
  {
   "cell_type": "code",
   "execution_count": null,
   "id": "261",
   "metadata": {},
   "outputs": [],
   "source": []
  },
  {
   "cell_type": "markdown",
   "id": "262",
   "metadata": {},
   "source": [
    "# save all states"
   ]
  },
  {
   "cell_type": "code",
   "execution_count": null,
   "id": "263",
   "metadata": {},
   "outputs": [],
   "source": [
    "base_folder = \"cfq_data/sudden_jump_KEP/\"\n",
    "prefix = \"KEP(jump)\"\n",
    "name_of_state_file = prefix + \"_all_state.npy\"\n",
    "name_of_reduced_time_array_file = prefix + \"_reduced_time_array.npy\"\n",
    "name_of_index_file = prefix + \"_index_of_particle.npy\"\n",
    "\n",
    "np.save(os.path.join(base_folder, name_of_reduced_time_array_file), reduced_protocal_time_array)\n",
    "np.save(os.path.join(base_folder, name_of_state_file), all_states)\n",
    "np.save(os.path.join(base_folder, name_of_index_file), simResult['cfqr'].getIndexOfParticles())"
   ]
  },
  {
   "cell_type": "code",
   "execution_count": null,
   "id": "264",
   "metadata": {},
   "outputs": [],
   "source": []
  },
  {
   "cell_type": "code",
   "execution_count": null,
   "id": "265",
   "metadata": {},
   "outputs": [],
   "source": []
  },
  {
   "cell_type": "code",
   "execution_count": null,
   "id": "266",
   "metadata": {},
   "outputs": [],
   "source": []
  },
  {
   "cell_type": "code",
   "execution_count": null,
   "id": "267",
   "metadata": {},
   "outputs": [],
   "source": []
  }
 ],
 "metadata": {
  "kernelspec": {
   "display_name": "base",
   "language": "python",
   "name": "python3"
  },
  "language_info": {
   "codemirror_mode": {
    "name": "ipython",
    "version": 3
   },
   "file_extension": ".py",
   "mimetype": "text/x-python",
   "name": "python",
   "nbconvert_exporter": "python",
   "pygments_lexer": "ipython3",
   "version": "3.12.2"
  }
 },
 "nbformat": 4,
 "nbformat_minor": 5
}
