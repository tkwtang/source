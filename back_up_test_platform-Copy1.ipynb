{
 "cells": [
  {
   "cell_type": "code",
   "execution_count": null,
   "id": "0",
   "metadata": {},
   "outputs": [],
   "source": [
    "import pandas as pd\n",
    "import json\n",
    "import numpy as np\n",
    "import matplotlib.animation as animation\n",
    "from IPython.display import HTML\n",
    "from IPython import display\n",
    "import importlib\n",
    "import os\n",
    "import matplotlib.pyplot as plt\n",
    "from PIL import Image\n",
    "from PARAMETER_INPUT import *\n",
    "from PARAMETER_INPUT import _lambda, _theta, _eta\n",
    "import edward_tools.create_cfqr as create_cfqr\n",
    "U0_kBT_ratio = U0_1/k_BT"
   ]
  },
  {
   "cell_type": "code",
   "execution_count": null,
   "id": "1",
   "metadata": {},
   "outputs": [],
   "source": [
    "guess = np.array([[-1.96439198, -1.96434052, 99.89691108],\n",
    "        [-1.96439198,  1.96434052, 99.89691108],\n",
    "        [ 1.96439198, -1.96434052, 99.89691108],\n",
    "        [ 1.96439198,  1.96434052, 99.89691108]])"
   ]
  },
  {
   "cell_type": "code",
   "execution_count": null,
   "id": "2",
   "metadata": {},
   "outputs": [],
   "source": [
    "guess[:, (0, 1)]"
   ]
  },
  {
   "cell_type": "code",
   "execution_count": null,
   "id": "3",
   "metadata": {},
   "outputs": [],
   "source": []
  },
  {
   "cell_type": "markdown",
   "id": "4",
   "metadata": {},
   "source": [
    "# functions"
   ]
  },
  {
   "cell_type": "code",
   "execution_count": null,
   "id": "5",
   "metadata": {},
   "outputs": [],
   "source": [
    "def getSimulationID(df):\n",
    "    return [item[\"simulation_id\"] for item in df[\"simulation_data\"]] \n",
    "\n",
    "def getDataByComment(df, identifier):\n",
    "    target = df[df[\"comment\"].str.find(identifier) == 0]\n",
    "    return target\n",
    "\n",
    "def getDataByField(df, field):\n",
    "    return list(target[field])\n",
    "\n",
    "\n",
    "def showGraph(sim_id):\n",
    "    work_distribution_img = Image.open(f\"coupled_flux_qubit_protocol/coupled_flux_qubit_data_gallery/{sim_id}_work_distribution.png\")\n",
    "    work_distribution_data = np.load(f\"coupled_flux_qubit_protocol/coupled_flux_qubit_data_gallery/{sim_id}_work_distribution.npy\")\n",
    "    work_statistic_img = Image.open(f\"coupled_flux_qubit_protocol/coupled_flux_qubit_data_gallery/{sim_id}_work_statistic.png\")\n",
    "    work_statistic_data = np.load(f\"coupled_flux_qubit_protocol/coupled_flux_qubit_data_gallery/{sim_id}_work_statistic.npy\")\n",
    "    display(work_distribution_img)\n",
    "    display(work_statistic_img)\n",
    "    # work_distribution_img.show()\n",
    "    print(sim_id)\n",
    "    return work_distribution_data, work_statistic_data\n",
    "\n",
    "\n",
    "\n",
    "def getSimulationWorkStatistics(df, sim_id):\n",
    "    target = getDataByID(df, sim_id)\n",
    "    dt = list(target['params'])[0][\"dt\"]\n",
    "    N =  list(target['params'])[0][\"N\"]\n",
    "    \n",
    "    work_distribution_data = np.load(f\"coupled_flux_qubit_protocol/coupled_flux_qubit_data_gallery/{sim_id}_work_distribution.npy\")\n",
    "    work_statistic_data = np.load(f\"coupled_flux_qubit_protocol/coupled_flux_qubit_data_gallery/{sim_id}_work_statistic.npy\")\n",
    "    jarzyn_term = np.mean(np.exp(-work_distribution_data))\n",
    "    jarzyn_term_error = 3 * np.std(np.exp(-work_distribution_data)) / np.sqrt(N)\n",
    "    \n",
    "\n",
    "    return {\n",
    "        \"work_distribution_data\": work_distribution_data,\n",
    "        \"work_statistic_data\": work_statistic_data,\n",
    "        \"N\": N, \"dt\": dt, \"mean_W\": np.mean(work_distribution_data), \"mean_W_error\": np.std(work_distribution_data) / np.sqrt(len(work_distribution_data)),\n",
    "        \"jarzyn_term\": jarzyn_term, \"jarzyn_term_error\": jarzyn_term_error\n",
    "    }\n",
    "    \n",
    "\n",
    "def loadDataFrame():\n",
    "    df = pd.read_json(\"coupled_flux_qubit_protocol/coupled_flux_qubit_data_gallery/gallery.json\")\n",
    "    df['comment'] = [item['comment'] for item in df[\"params\"]]\n",
    "    df[\"simulation_id\"] = [item[\"simulation_id\"] for item in df[\"simulation_data\"]]\n",
    "    return df\n",
    "\n",
    "\n",
    "def getDataByID(df, sim_id):\n",
    "    identifier = \"Experiment 5\"\n",
    "    target = df[df[\"simulation_id\"] == sim_id]\n",
    "    return target\n",
    "\n",
    "def showFidelity(target):\n",
    "\n",
    "    final_percentage_matrix = np.array([d[\"final_percentage\"] for d in list(target[\"fidelity\"])[0]]).T\n",
    "    text_box_array = [\"\\n\".join(row) for row in final_percentage_matrix]\n",
    "    params_list = list(target[\"params\"])[0]\n",
    "    fig, ax = plt.subplots(1, 2, figsize = [10, 4])\n",
    "    # plt.figure(figsize=[4, 4])\n",
    "    # plt.title(f\"N = {params_list['N']}, dt = {params_list['dt']}\")\n",
    "    _ax = ax[1]\n",
    "    _ax.set_xlim(-5, 5);plt.ylim(-5, 5);\n",
    "    _ax.text(-3.25, -3.5, text_box_array[0]); _ax.text(-3.25, 1.5, text_box_array[1])\n",
    "    _ax.text(1.75, -3.5, text_box_array[2]); _ax.text(1.75, 1.5, text_box_array[3])\n",
    "    _ax.vlines(0, ymin = -5, ymax = 5); _ax.hlines(0, xmin = -5, xmax = 5)\n",
    "\n",
    "# ideal_fidelity = np.array([['0.500', '0.000', '0.500', '0.000'], ['0.500', '0.000', '0.500', '0.000'],\n",
    "#                           ['0.000', '0.500', '0.000', '0.500'], ['0.000', '0.500', '0.000', '0.500']]).T\n",
    "# text_box_array = [\"\\n\".join(row) for row in ideal_fidelity]\n",
    "# plt.figure(figsize=[4, 4])\n",
    "# plt.title(f\"N = {item['N']}, dt = {item['dt']}, t1 = {item['protocol_list'][-1]['duration']} \")\n",
    "# _ax = ax[0]\n",
    "# _ax.set_xlim(-5, 5);plt.ylim(-5, 5);\n",
    "# _ax.text(-3.25, -3.5, text_box_array[0]); _ax.text(-3.25, 1.5, text_box_array[1])\n",
    "# _ax.text(1.75, -3.5, text_box_array[2]); _ax.text(1.75, 1.5, text_box_array[3])\n",
    "# _ax.vlines(0, ymin = -5, ymax = 5); _ax.hlines(0, xmin = -5, xmax = 5)"
   ]
  },
  {
   "cell_type": "markdown",
   "id": "6",
   "metadata": {},
   "source": [
    "# show a result"
   ]
  },
  {
   "cell_type": "code",
   "execution_count": null,
   "id": "7",
   "metadata": {},
   "outputs": [],
   "source": [
    "df = loadDataFrame()\n",
    "target = getDataByComment(df, \"Experiment 1 (2024/3/13)\")\n",
    "target = getDataByID(df, \"7c1ef86a0287a1cc17d4057e6219bdf222352eeb430273ee538075d35a4fbfb1\")\n",
    "# target = df\n",
    "sim_id = getSimulationID(target.tail(1))[0]\n",
    "result_info = getSimulationWorkStatistics(df, sim_id)\n",
    "# print(result_info)"
   ]
  },
  {
   "cell_type": "code",
   "execution_count": null,
   "id": "8",
   "metadata": {},
   "outputs": [],
   "source": [
    "target['comment']"
   ]
  },
  {
   "cell_type": "code",
   "execution_count": null,
   "id": "9",
   "metadata": {},
   "outputs": [],
   "source": [
    "list(target['params'])[0]['circuit_parameter']"
   ]
  },
  {
   "cell_type": "code",
   "execution_count": null,
   "id": "10",
   "metadata": {},
   "outputs": [],
   "source": [
    "params = list(target['params'])[0]\n",
    "circuit_parameter = params['circuit_parameter']\n",
    "protocol_list = list(target['protocol_list_item'])[0]\n",
    "initial_parameter_dict = list(target['initial_parameter_dict'])[0]\n",
    "protocol_time_array = [item[\"duration\"] for item in protocol_list]\n",
    "protocol_time_array.insert(0, 0)\n",
    "protocol_time_array = np.cumsum(protocol_time_array)"
   ]
  },
  {
   "cell_type": "code",
   "execution_count": null,
   "id": "11",
   "metadata": {},
   "outputs": [],
   "source": [
    "protocol_time_array"
   ]
  },
  {
   "cell_type": "code",
   "execution_count": null,
   "id": "12",
   "metadata": {},
   "outputs": [],
   "source": [
    "plt.hist(result_info['work_distribution_data'], bins = 100)\n",
    "print(np.mean(result_info['work_distribution_data']))"
   ]
  },
  {
   "cell_type": "code",
   "execution_count": null,
   "id": "13",
   "metadata": {},
   "outputs": [],
   "source": [
    "plt.plot(result_info['work_statistic_data'][::1000, 0])"
   ]
  },
  {
   "cell_type": "code",
   "execution_count": null,
   "id": "14",
   "metadata": {},
   "outputs": [],
   "source": [
    "list(target['fidelity'])"
   ]
  },
  {
   "cell_type": "code",
   "execution_count": null,
   "id": "15",
   "metadata": {},
   "outputs": [],
   "source": [
    "print(\"-\" * 30 + \" Information \" + \"-\" * 30 )\n",
    "work_distribution = result_info['work_distribution_data']\n",
    "work_mean = result_info['work_statistic_data'][:, 0]\n",
    "target_time_index = np.array(protocol_time_array)/params['dt']\n",
    "target_time_index = target_time_index.astype(\"int\") - 1\n",
    "\n",
    "\n",
    "jarzyn_term = np.mean(np.exp(-work_distribution))\n",
    "\n",
    "circuit_parameter = target['params'].values[0]['circuit_parameter']\n",
    "initial_parameter = target['initial_parameter_dict'].values[0]\n",
    "protocol_list_item = target['protocol_list_item'].values[0]\n",
    "\n",
    "\n",
    "\n",
    "work_done_array = [work_mean[i] for i in target_time_index]\n",
    "work_done_array.insert(0, 0)\n",
    "work_done_of_each_step = np.array(work_done_array)[1:] - np.array(work_done_array)[:-1]\n",
    "\n",
    "print(target[\"comment\"].values[0])\n",
    "print(\"(a) parameters\")\n",
    "print(sim_id)\n",
    "print()\n",
    "print(f\"N = {params['N']}, dt = {params['dt']}\")\n",
    "print(f\"phi_1dcx_on: {circuit_parameter['phi_1_dcx_on']}, phi_2dcx_on: {circuit_parameter['phi_2_dcx_on']}, M_12_on: {circuit_parameter['M_12_on']:.3g}\")\n",
    "print(f\"L_factor = {circuit_parameter['L_factor']:.3g}, C_factor = {circuit_parameter['C_factor']}, I_m_factor = {circuit_parameter['I_m_factor']}, gamma = {initial_parameter['gamma_1']}\")\n",
    "print([x[\"duration\"] for x in protocol_list_item])\n",
    "print()\n",
    "print(\"(b) thermodynamic cost\")\n",
    "print(f\"mean work = {target['mean_work'].values[0]:.3g} ± {3 * result_info['mean_W_error']:.3g}\")\n",
    "print(f\"jarzyn = {target['jarzynski_term'].values[0]:.3g} ± {3 * result_info['jarzyn_term_error']:.3g}\")\n",
    "print()\n",
    "\n",
    "\n",
    "\n",
    "try:\n",
    "    work_done_after_offset = work_done_of_each_step - offset_value\n",
    "    print(\"(c) informational cost\")\n",
    "    print(\"measurement + reset = \", work_done_after_offset[0] + work_done_after_offset[1] + work_done_after_offset[2] )\n",
    "    print(\"control = \", work_done_after_offset[3] + work_done_after_offset[4] + work_done_after_offset[5] + work_done_after_offset[6])\n",
    "    print(f\"net work done = {sum(work_done_after_offset):.3g}\")\n",
    "except:\n",
    "    pass\n",
    "\n",
    "print(\"First way to split the steps: (E, 5-6), (M, 0-2), (C: 3-4)\")\n",
    "print(f\"work_done = {work_done_of_each_step}\" )\n",
    "print(f\"work_offset = {work_done_after_offset}\")\n",
    "# print(\"measurement + reset = \", work_done_of_each_step[0] + work_done_of_each_step[1] + work_done_of_each_step[2])\n",
    "# print(\"control = \", work_done_of_each_step[3] + work_done_of_each_step[4]  + work_done_of_each_step[5] + work_done_of_each_step[6] )\n",
    "\n",
    "print(\"measurement + reset = \", work_done_after_offset[0] + work_done_after_offset[1] + work_done_after_offset[2] )\n",
    "print(\"control = \", work_done_after_offset[3] + work_done_after_offset[4] + work_done_after_offset[5] + work_done_after_offset[6])\n",
    "print(\"net work done =\", sum(work_done_after_offset))\n",
    "print(sum(work_done_of_each_step))"
   ]
  },
  {
   "cell_type": "code",
   "execution_count": null,
   "id": "16",
   "metadata": {},
   "outputs": [],
   "source": []
  },
  {
   "cell_type": "code",
   "execution_count": null,
   "id": "17",
   "metadata": {},
   "outputs": [],
   "source": []
  },
  {
   "cell_type": "code",
   "execution_count": null,
   "id": "18",
   "metadata": {},
   "outputs": [],
   "source": []
  },
  {
   "cell_type": "code",
   "execution_count": null,
   "id": "19",
   "metadata": {},
   "outputs": [],
   "source": [
    "\n",
    "print(\"-\" * 60)\n",
    "print(\"First way to split the steps: (E, 5-6), (M, 0-2), (C: 3-4)\")\n",
    "print(f\"work_done = {work_done_of_each_step}\" )\n",
    "print(f\"work_offset = {work_done_after_offset}\")\n",
    "print(\"measurement + reset = \", work_done_after_offset[0] + work_done_after_offset[1] + work_done_after_offset[2] + work_done_after_offset[5] + work_done_after_offset[6] )\n",
    "print(\"control = \", work_done_after_offset[3] + work_done_after_offset[4] )\n",
    "print(sum(work_done_after_offset))\n",
    "\n",
    "print(\"-\" * 60)\n",
    "print(\"First way to split the steps: (Erasure & Reset, 0 - 3), Control: 3-7)\")\n",
    "print(f\"work_done = {work_done_of_each_step}\" )\n",
    "print(f\"work_offset = {work_done_after_offset}\")\n",
    "print(\"measurement + reset = \", work_done_after_offset[0] + work_done_after_offset[1] + work_done_after_offset[2] )\n",
    "print(\"control = \", work_done_after_offset[3] + work_done_after_offset[4] + work_done_after_offset[5] + work_done_after_offset[6])\n",
    "print(\"net work done =\", sum(work_done_after_offset))"
   ]
  },
  {
   "cell_type": "code",
   "execution_count": null,
   "id": "20",
   "metadata": {},
   "outputs": [],
   "source": [
    "result_info['work_distribution_data'].nbytes"
   ]
  },
  {
   "cell_type": "code",
   "execution_count": null,
   "id": "21",
   "metadata": {},
   "outputs": [],
   "source": [
    "result_info['work_statistic_data'][:,0].nbytes"
   ]
  },
  {
   "cell_type": "code",
   "execution_count": null,
   "id": "22",
   "metadata": {},
   "outputs": [],
   "source": [
    "result_info['work_statistic_data'].nbytes"
   ]
  },
  {
   "cell_type": "code",
   "execution_count": null,
   "id": "23",
   "metadata": {},
   "outputs": [],
   "source": [
    "initial_parameter_dict = pd.DataFrame.from_records([target['initial_parameter_dict'].values[0]])\n",
    "circuit_parameter = pd.DataFrame.from_records([target['params'].values[0]['circuit_parameter']])"
   ]
  },
  {
   "cell_type": "code",
   "execution_count": null,
   "id": "24",
   "metadata": {},
   "outputs": [],
   "source": [
    "initial_parameter_dict"
   ]
  },
  {
   "cell_type": "code",
   "execution_count": null,
   "id": "25",
   "metadata": {},
   "outputs": [],
   "source": [
    "circuit_parameter"
   ]
  },
  {
   "cell_type": "code",
   "execution_count": null,
   "id": "26",
   "metadata": {},
   "outputs": [],
   "source": []
  },
  {
   "cell_type": "code",
   "execution_count": null,
   "id": "27",
   "metadata": {},
   "outputs": [],
   "source": [
    "showGraph(list(target[\"simulation_data\"])[0]['simulation_id'])"
   ]
  },
  {
   "cell_type": "code",
   "execution_count": null,
   "id": "28",
   "metadata": {},
   "outputs": [],
   "source": [
    "showFidelity(target)"
   ]
  },
  {
   "cell_type": "code",
   "execution_count": null,
   "id": "29",
   "metadata": {},
   "outputs": [],
   "source": []
  },
  {
   "cell_type": "code",
   "execution_count": null,
   "id": "30",
   "metadata": {},
   "outputs": [],
   "source": [
    "plt.hist(result_info['work_distribution_data'], 100)"
   ]
  },
  {
   "cell_type": "code",
   "execution_count": null,
   "id": "31",
   "metadata": {},
   "outputs": [],
   "source": [
    "0.816/0.184"
   ]
  },
  {
   "cell_type": "code",
   "execution_count": null,
   "id": "32",
   "metadata": {},
   "outputs": [],
   "source": [
    "np.mean(np.exp(-result_info['work_distribution_data']))"
   ]
  },
  {
   "cell_type": "code",
   "execution_count": null,
   "id": "33",
   "metadata": {},
   "outputs": [],
   "source": [
    "def substep_work_extraction(target, offset = False):\n",
    "    sim_id = getSimulationID(target)[0]\n",
    "    result_info = getSimulationWorkStatistics(df, sim_id)\n",
    "    \n",
    "    _dt = result_info['dt']\n",
    "    \n",
    "    work_statistic_data = result_info['work_statistic_data']\n",
    "    protocol_list_item = list(target[\"protocol_list_item\"])[0]\n",
    "    print(protocol_list_item)\n",
    "    protocol_time_array = [item[\"duration\"] for item in protocol_list_item]\n",
    "    protocol_time_array = np.cumsum(protocol_time_array)/_dt\n",
    "    work_done_at_all_stages = [work_statistic_data[int(i)-1][0] for i in protocol_time_array]\n",
    "    work_done_at_all_stages.insert(0, 0)\n",
    "    work_done_at_all_stages = np.array(work_done_at_all_stages)\n",
    "    net_work_done = work_done_at_all_stages[1:] - work_done_at_all_stages[:-1]\n",
    "    offset_U = 0\n",
    "    \n",
    "    if offset:\n",
    "        offset_U = min_U_at_each_non_linear_pot[1:] - min_U_at_each_non_linear_pot[:-1]\n",
    "    return net_work_done - offset_U\n",
    "    \n",
    "    "
   ]
  },
  {
   "cell_type": "code",
   "execution_count": null,
   "id": "34",
   "metadata": {},
   "outputs": [],
   "source": [
    "work_done_each_step = substep_work_extraction(target, offset = True)"
   ]
  },
  {
   "cell_type": "code",
   "execution_count": null,
   "id": "35",
   "metadata": {},
   "outputs": [],
   "source": [
    "np.sum(work_done_each_step[3:])"
   ]
  },
  {
   "cell_type": "code",
   "execution_count": null,
   "id": "36",
   "metadata": {},
   "outputs": [],
   "source": [
    "np.sum(work_done_each_step)"
   ]
  },
  {
   "cell_type": "code",
   "execution_count": null,
   "id": "37",
   "metadata": {},
   "outputs": [],
   "source": [
    "work_done_each_step"
   ]
  },
  {
   "cell_type": "code",
   "execution_count": null,
   "id": "38",
   "metadata": {},
   "outputs": [],
   "source": []
  },
  {
   "cell_type": "code",
   "execution_count": null,
   "id": "39",
   "metadata": {},
   "outputs": [],
   "source": [
    "final_percentage_matrix = np.array([d[\"final_percentage\"] for d in list(target[\"fidelity\"])[0]]).T\n",
    "text_box_array = [\"\\n\".join(row) for row in final_percentage_matrix]\n",
    "params_list = list(target[\"params\"])[0]\n",
    "fig, ax = plt.subplots(1, 2, figsize = [10, 4])\n",
    "# plt.figure(figsize=[4, 4])\n",
    "# plt.title(f\"N = {params_list['N']}, dt = {params_list['dt']}\")\n",
    "_ax = ax[1]\n",
    "_ax.set_xlim(-5, 5);plt.ylim(-5, 5);\n",
    "_ax.text(-3.25, -3.5, text_box_array[0]); _ax.text(-3.25, 1.5, text_box_array[1])\n",
    "_ax.text(1.75, -3.5, text_box_array[2]); _ax.text(1.75, 1.5, text_box_array[3])\n",
    "_ax.vlines(0, ymin = -5, ymax = 5); _ax.hlines(0, xmin = -5, xmax = 5)\n",
    "\n",
    "# ideal_fidelity = np.array([['0.500', '0.000', '0.500', '0.000'], ['0.500', '0.000', '0.500', '0.000'],\n",
    "#                           ['0.000', '0.500', '0.000', '0.500'], ['0.000', '0.500', '0.000', '0.500']]).T\n",
    "# text_box_array = [\"\\n\".join(row) for row in ideal_fidelity]\n",
    "# plt.figure(figsize=[4, 4])\n",
    "# plt.title(f\"N = {item['N']}, dt = {item['dt']}, t1 = {item['protocol_list'][-1]['duration']} \")\n",
    "# _ax = ax[0]\n",
    "# _ax.set_xlim(-5, 5);plt.ylim(-5, 5);\n",
    "# _ax.text(-3.25, -3.5, text_box_array[0]); _ax.text(-3.25, 1.5, text_box_array[1])\n",
    "# _ax.text(1.75, -3.5, text_box_array[2]); _ax.text(1.75, 1.5, text_box_array[3])\n",
    "# _ax.vlines(0, ymin = -5, ymax = 5); _ax.hlines(0, xmin = -5, xmax = 5)"
   ]
  },
  {
   "cell_type": "code",
   "execution_count": null,
   "id": "40",
   "metadata": {},
   "outputs": [],
   "source": []
  },
  {
   "cell_type": "markdown",
   "id": "41",
   "metadata": {},
   "source": [
    "# compare results"
   ]
  },
  {
   "cell_type": "code",
   "execution_count": null,
   "id": "42",
   "metadata": {},
   "outputs": [],
   "source": [
    "sim_id_to_compare = [\"c2e2d9a10eca0b331ca768e3dad02ab1283557d1d2b7e3fdb56dbf92a868bba9\", \n",
    "                     \"91b01116c21a74c8c79a0abb766c316789892c7d3bfad8d88b78df2005fb2009\",\n",
    "                     \"64df0cd6e5cbd1d310e9b893bc16f49b302188661080f648ba980b149dc6da03\"]\n"
   ]
  },
  {
   "cell_type": "code",
   "execution_count": null,
   "id": "43",
   "metadata": {},
   "outputs": [],
   "source": [
    "df = loadDataFrame()\n",
    "result_array = []\n",
    "circuit_parameter_array = []\n",
    "initial_parameter_dict_array = []\n",
    "for _sim_id in sim_id_to_compare:\n",
    "    target = getDataByID(df, _sim_id)\n",
    "    result_info = getSimulationWorkStatistics(df, _sim_id)\n",
    "    result_array.append(result_info)\n",
    "    initial_parameter_dict = target['initial_parameter_dict'].values[0]\n",
    "    initial_parameter_dict_array.append(initial_parameter_dict)\n",
    "    \n",
    "    circuit_parameter = target['params'].values[0]['circuit_parameter']\n",
    "    circuit_parameter_array.append(circuit_parameter)\n",
    "    "
   ]
  },
  {
   "cell_type": "code",
   "execution_count": null,
   "id": "44",
   "metadata": {},
   "outputs": [],
   "source": [
    "df_for_comparison = pd.DataFrame.from_records(result_array)\n",
    "df_for_circuit_parameter_array = pd.DataFrame.from_records(circuit_parameter_array)\n",
    "df_for_initial_parameter_dict_array= pd.DataFrame.from_records(initial_parameter_dict_array)"
   ]
  },
  {
   "cell_type": "code",
   "execution_count": null,
   "id": "45",
   "metadata": {},
   "outputs": [],
   "source": [
    "df_for_comparison[[\"N\", \"dt\", \"mean_W\", \"jarzyn_term\"]]"
   ]
  },
  {
   "cell_type": "code",
   "execution_count": null,
   "id": "46",
   "metadata": {},
   "outputs": [],
   "source": [
    "df_for_circuit_parameter_array[['C_factor', 'L_factor', 'I_m_factor', 'phi_1_dcx_on', 'phi_2_dcx_on', 'M_12_on']]"
   ]
  },
  {
   "cell_type": "code",
   "execution_count": null,
   "id": "47",
   "metadata": {},
   "outputs": [],
   "source": [
    "df_for_initial_parameter_dict_array"
   ]
  },
  {
   "cell_type": "code",
   "execution_count": null,
   "id": "48",
   "metadata": {},
   "outputs": [],
   "source": []
  },
  {
   "cell_type": "code",
   "execution_count": null,
   "id": "49",
   "metadata": {},
   "outputs": [],
   "source": [
    "fig, ax = plt.subplots(2, 2, figsize = [10, 9])\n",
    "ax_flatten = ax.flatten()\n",
    "df_for_comparison['work_distribution_data'].values\n",
    "ax_flatten[0].hist(df_for_comparison['work_distribution_data'].values[0], bins = 20)\n",
    "ax_flatten[1].hist(df_for_comparison['work_distribution_data'].values[1], bins = 20)"
   ]
  },
  {
   "cell_type": "code",
   "execution_count": null,
   "id": "50",
   "metadata": {},
   "outputs": [],
   "source": []
  },
  {
   "cell_type": "markdown",
   "id": "51",
   "metadata": {
    "tags": []
   },
   "source": [
    "# time duration analysis"
   ]
  },
  {
   "cell_type": "code",
   "execution_count": null,
   "id": "52",
   "metadata": {},
   "outputs": [],
   "source": [
    "df = pd.read_json(\"coupled_flux_qubit_protocol/coupled_flux_qubit_data_gallery/gallery.json\")"
   ]
  },
  {
   "cell_type": "code",
   "execution_count": null,
   "id": "53",
   "metadata": {},
   "outputs": [],
   "source": [
    "step_analysis = [\"Experiment 8 (2024/2/15): time scan for step 6\"]"
   ]
  },
  {
   "cell_type": "code",
   "execution_count": null,
   "id": "54",
   "metadata": {},
   "outputs": [],
   "source": [
    "\n"
   ]
  },
  {
   "cell_type": "code",
   "execution_count": null,
   "id": "55",
   "metadata": {},
   "outputs": [],
   "source": [
    "def showTimeDurationAnalysis(identifier):\n",
    "    df = loadDataFrame()\n",
    "    # identifier = \"Experiment 2 (2024/1/30)\"\n",
    "    target = df[df[\"comment\"].str.find(identifier) == 0]\n",
    "    sim_id_array = [item[\"simulation_id\"] for item in target[\"simulation_data\"]] \n",
    "    time_array = [item[-1][\"duration\"] for item in target[\"protocol_list_item\"]]\n",
    "    mean_work = list(target[\"mean_work\"])\n",
    "    work_distribution_error_array = [3/np.sqrt(10000) * np.std(np.load(f\"/Users/tkwtang/source/coupled_flux_qubit_protocol/coupled_flux_qubit_data_gallery/{sim_id}_work_distribution.npy\")) for sim_id in sim_id_array]\n",
    "    plt.errorbar(time_array, mean_work,\n",
    "             yerr = work_distribution_error_array,\n",
    "             fmt ='o')"
   ]
  },
  {
   "cell_type": "code",
   "execution_count": null,
   "id": "56",
   "metadata": {},
   "outputs": [],
   "source": [
    "showTimeDurationAnalysis(\"Experiment 8 (2024/2/15): time scan for step 6\")"
   ]
  },
  {
   "cell_type": "code",
   "execution_count": null,
   "id": "57",
   "metadata": {},
   "outputs": [],
   "source": [
    "showTimeDurationAnalysis(\"Experiment 4 (2024/2/15): time scan for step 2\")"
   ]
  },
  {
   "cell_type": "code",
   "execution_count": null,
   "id": "58",
   "metadata": {},
   "outputs": [],
   "source": [
    "showTimeDurationAnalysis(\"Experiment 5 (2024/2/15): time scan for step 3\")\n"
   ]
  },
  {
   "cell_type": "code",
   "execution_count": null,
   "id": "59",
   "metadata": {},
   "outputs": [],
   "source": [
    "showTimeDurationAnalysis(\"Experiment 7 (2024/2/15): time scan for step 5\")"
   ]
  },
  {
   "cell_type": "code",
   "execution_count": null,
   "id": "60",
   "metadata": {},
   "outputs": [],
   "source": [
    "showTimeDurationAnalysis(\"Experiment 8 (2024/2/15): time scan for step 6\")\n"
   ]
  },
  {
   "cell_type": "code",
   "execution_count": null,
   "id": "61",
   "metadata": {},
   "outputs": [],
   "source": []
  },
  {
   "cell_type": "code",
   "execution_count": null,
   "id": "62",
   "metadata": {},
   "outputs": [],
   "source": [
    "for sim_id in sim_id_array:\n",
    "    _target = getDataByID(df, sim_id)\n",
    "    final_percentage_matrix = np.array([d[\"final_percentage\"] for d in list(_target[\"fidelity\"])[0]]).T\n",
    "    text_box_array = [\"\\n\".join(row) for row in final_percentage_matrix]\n",
    "    params_list = list(_target[\"params\"])[0]\n",
    "    fig, ax = plt.subplots(1, 2, figsize = [10, 4])\n",
    "    # plt.figure(figsize=[4, 4])\n",
    "    # plt.title(f\"N = {params_list['N']}, dt = {params_list['dt']}\")\n",
    "    _ax = ax[1]\n",
    "    _ax.set_xlim(-5, 5);plt.ylim(-5, 5);\n",
    "    _ax.text(-3.25, -3.5, text_box_array[0]); _ax.text(-3.25, 1.5, text_box_array[1])\n",
    "    _ax.text(1.75, -3.5, text_box_array[2]); _ax.text(1.75, 1.5, text_box_array[3])\n",
    "    _ax.vlines(0, ymin = -5, ymax = 5); _ax.hlines(0, xmin = -5, xmax = 5)\n",
    "\n",
    "# ideal_fidelity = np.array([['0.500', '0.000', '0.500', '0.000'], ['0.500', '0.000', '0.500', '0.000'],\n",
    "#                           ['0.000', '0.500', '0.000', '0.500'], ['0.000', '0.500', '0.000', '0.500']]).T\n",
    "# text_box_array = [\"\\n\".join(row) for row in ideal_fidelity]\n",
    "# plt.figure(figsize=[4, 4])\n",
    "# plt.title(f\"N = {item['N']}, dt = {item['dt']}, t1 = {item['protocol_list'][-1]['duration']} \")\n",
    "# _ax = ax[0]\n",
    "# _ax.set_xlim(-5, 5);plt.ylim(-5, 5);\n",
    "# _ax.text(-3.25, -3.5, text_box_array[0]); _ax.text(-3.25, 1.5, text_box_array[1])\n",
    "# _ax.text(1.75, -3.5, text_box_array[2]); _ax.text(1.75, 1.5, text_box_array[3])\n",
    "# _ax.vlines(0, ymin = -5, ymax = 5); _ax.hlines(0, xmin = -5, xmax = 5)"
   ]
  },
  {
   "cell_type": "code",
   "execution_count": null,
   "id": "63",
   "metadata": {},
   "outputs": [],
   "source": [
    "for x in range(0, 6):\n",
    "    target = df[df[\"comment\"] == step_analysis[x]]\n",
    "    sim_id_array = [item[\"simulation_id\"] for item in target[\"simulation_data\"]] \n",
    "    time_array = [item[0][\"duration\"] for item in target[\"protocol_list_item\"]]\n",
    "    mean_work = list(target[\"mean_work\"])\n",
    "    work_distribution_error_array = [3/np.sqrt(10000) * np.std(np.load(f\"/Users/tkwtang/source/coupled_flux_qubit_protocol/coupled_flux_qubit_data_gallery/{sim_id}_work_distribution.npy\")) for sim_id in sim_id_array]\n",
    "    plt.errorbar(time_array, mean_work,\n",
    "             yerr = work_distribution_error_array,\n",
    "             fmt ='o')\n",
    "    plt.show()"
   ]
  },
  {
   "cell_type": "code",
   "execution_count": null,
   "id": "64",
   "metadata": {},
   "outputs": [],
   "source": []
  },
  {
   "cell_type": "markdown",
   "id": "65",
   "metadata": {
    "tags": []
   },
   "source": [
    "# offset and no offset analysis"
   ]
  },
  {
   "cell_type": "code",
   "execution_count": null,
   "id": "66",
   "metadata": {},
   "outputs": [],
   "source": [
    "df = loadDataFrame()\n",
    "# target = getDataByID(df, \"5aec0e959e8dcfe0fa75be2316b8c18c49debf818321aa76c32966fe9460c40e\")\n",
    "target = getDataByComment(df, \"Experiment 2 (2024/1/30)\")\n",
    "sim_id_array = getSimulationID(target)\n"
   ]
  },
  {
   "cell_type": "code",
   "execution_count": null,
   "id": "67",
   "metadata": {},
   "outputs": [],
   "source": [
    "sim_id_array"
   ]
  },
  {
   "cell_type": "code",
   "execution_count": null,
   "id": "68",
   "metadata": {},
   "outputs": [],
   "source": [
    "target"
   ]
  },
  {
   "cell_type": "code",
   "execution_count": null,
   "id": "69",
   "metadata": {},
   "outputs": [],
   "source": [
    "target_data = getSimulationWorkStatistics(df, \"5aec0e959e8dcfe0fa75be2316b8c18c49debf818321aa76c32966fe9460c40e\")"
   ]
  },
  {
   "cell_type": "code",
   "execution_count": null,
   "id": "70",
   "metadata": {},
   "outputs": [],
   "source": [
    "list(target.protocol_list_item)"
   ]
  },
  {
   "cell_type": "code",
   "execution_count": null,
   "id": "71",
   "metadata": {},
   "outputs": [],
   "source": [
    "substage_index = np.cumsum(np.array([item[\"duration\"] for item in list(target.protocol_list_item)[0]]))/target_data['dt']"
   ]
  },
  {
   "cell_type": "code",
   "execution_count": null,
   "id": "72",
   "metadata": {},
   "outputs": [],
   "source": [
    "target.columns"
   ]
  },
  {
   "cell_type": "code",
   "execution_count": null,
   "id": "73",
   "metadata": {},
   "outputs": [],
   "source": [
    "target_data[\"work_statistic_data\"][39999]"
   ]
  },
  {
   "cell_type": "code",
   "execution_count": null,
   "id": "74",
   "metadata": {},
   "outputs": [],
   "source": [
    "target_data[\"work_statistic_data\"][80000-1]"
   ]
  },
  {
   "cell_type": "code",
   "execution_count": null,
   "id": "75",
   "metadata": {},
   "outputs": [],
   "source": []
  },
  {
   "cell_type": "code",
   "execution_count": null,
   "id": "76",
   "metadata": {},
   "outputs": [],
   "source": [
    "[target_data[\"work_statistic_data\"][int(i)-1] for i in substage_index]\n",
    "\n"
   ]
  },
  {
   "cell_type": "code",
   "execution_count": null,
   "id": "77",
   "metadata": {},
   "outputs": [],
   "source": []
  },
  {
   "cell_type": "code",
   "execution_count": null,
   "id": "78",
   "metadata": {},
   "outputs": [],
   "source": [
    "work_distribution_data, work_statistic_data = showGraph(getSimulationID(target)[0])\n",
    "\n"
   ]
  },
  {
   "cell_type": "code",
   "execution_count": null,
   "id": "79",
   "metadata": {},
   "outputs": [],
   "source": [
    "# plt.yscale(\"log\")\n",
    "plt.plot(range(0, len(work_statistic_data)), -work_statistic_data[:, 0])"
   ]
  },
  {
   "cell_type": "code",
   "execution_count": null,
   "id": "80",
   "metadata": {},
   "outputs": [],
   "source": []
  },
  {
   "cell_type": "code",
   "execution_count": null,
   "id": "81",
   "metadata": {},
   "outputs": [],
   "source": [
    "\n",
    "target = df[df[\"comment\"] == step_analysis[x]]\n",
    "    sim_id_array = [item[\"simulation_id\"] for item in target[\"simulation_data\"]] \n",
    "    time_array = [item[0][\"duration\"] for item in target[\"protocol_list_item\"]]\n",
    "    mean_work = list(target[\"mean_work\"])\n",
    "    work_distribution_error_array = [3/np.sqrt(10000) * np.std(np.load(f\"/Users/tkwtang/source/coupled_flux_qubit_protocol/coupled_flux_qubit_data_gallery/{sim_id}_work_distribution.npy\")) for sim_id in sim_id_array]\n",
    "    plt.errorbar(time_array, mean_work,\n",
    "             yerr = work_distribution_error_array,\n",
    "             fmt ='o')\n",
    "    plt.show()"
   ]
  },
  {
   "cell_type": "code",
   "execution_count": null,
   "id": "82",
   "metadata": {},
   "outputs": [],
   "source": []
  },
  {
   "cell_type": "code",
   "execution_count": null,
   "id": "83",
   "metadata": {},
   "outputs": [],
   "source": []
  },
  {
   "cell_type": "code",
   "execution_count": null,
   "id": "84",
   "metadata": {},
   "outputs": [],
   "source": [
    "df.tail(1)['params']"
   ]
  },
  {
   "cell_type": "code",
   "execution_count": null,
   "id": "85",
   "metadata": {},
   "outputs": [],
   "source": [
    "df.tail(1)[\"jarzynski_term\"]"
   ]
  },
  {
   "cell_type": "code",
   "execution_count": null,
   "id": "86",
   "metadata": {},
   "outputs": [],
   "source": [
    "sim_id = [x['simulation_id'] for x in df[-2:][\"simulation_data\"]]\n",
    "mean_work_array = []\n",
    "for _id in sim_id:\n",
    "    npy_file_path = f\"coupled_flux_qubit_protocol/coupled_flux_qubit_data_gallery/{_id}_work_distribution.npy\"\n",
    "    mean_work_array.append(np.mean(np.load(npy_file_path)))"
   ]
  },
  {
   "cell_type": "code",
   "execution_count": null,
   "id": "87",
   "metadata": {},
   "outputs": [],
   "source": [
    "mean_work_array"
   ]
  },
  {
   "cell_type": "code",
   "execution_count": null,
   "id": "88",
   "metadata": {},
   "outputs": [],
   "source": [
    "np.mean(mean_work_array)"
   ]
  },
  {
   "cell_type": "code",
   "execution_count": null,
   "id": "89",
   "metadata": {},
   "outputs": [],
   "source": [
    "np.std(mean_work_array)"
   ]
  },
  {
   "cell_type": "code",
   "execution_count": null,
   "id": "90",
   "metadata": {},
   "outputs": [],
   "source": []
  },
  {
   "cell_type": "code",
   "execution_count": null,
   "id": "91",
   "metadata": {},
   "outputs": [],
   "source": []
  },
  {
   "cell_type": "code",
   "execution_count": null,
   "id": "92",
   "metadata": {},
   "outputs": [],
   "source": [
    "work_distribution_np_array = np.load(\"coupled_flux_qubit_protocol/coupled_flux_qubit_data_gallery/6aadc3862c80d54c93d667d2fcdf33e7df4df3733c5f1e07e55062ec067d24e7_work_distribution.npy\")"
   ]
  },
  {
   "cell_type": "code",
   "execution_count": null,
   "id": "93",
   "metadata": {},
   "outputs": [],
   "source": [
    "mean_work = np.mean(work_distribution_np_array)"
   ]
  },
  {
   "cell_type": "code",
   "execution_count": null,
   "id": "94",
   "metadata": {},
   "outputs": [],
   "source": [
    "plt.hist(work_distribution_np_array, bins = 50)\n",
    "plt.xlabel(r\"work ($k_BT$)\", fontsize=15)\n",
    "plt.xticks(fontsize=14)\n",
    "plt.yticks(fontsize=14)\n",
    "plt.ylim(0, 12000)\n",
    "\n",
    "plt.ylabel(\"counts\", fontsize=15)\n",
    "plt.vlines(x=mean_work, ymin=0, ymax= 10500, colors=\"red\", linestyles=\"--\", linewidth = 3)\n",
    "plt.text(-0.5, 11000, r\"$\\langle W \\rangle $ = \" + f\"{mean_work:.3g}\", fontsize = 13, color = \"red\")\n",
    "# plt.text(x = 1.5, y = 9000, s=\")"
   ]
  },
  {
   "cell_type": "code",
   "execution_count": null,
   "id": "95",
   "metadata": {},
   "outputs": [],
   "source": []
  },
  {
   "cell_type": "markdown",
   "id": "96",
   "metadata": {
    "tags": []
   },
   "source": [
    "# stitch analysis"
   ]
  },
  {
   "cell_type": "code",
   "execution_count": null,
   "id": "97",
   "metadata": {},
   "outputs": [],
   "source": [
    "df = loadDataFrame()"
   ]
  },
  {
   "cell_type": "code",
   "execution_count": null,
   "id": "98",
   "metadata": {},
   "outputs": [],
   "source": [
    "identifier = \"Experiment 5\"\n",
    "target = df[df[\"comment\"].str.find(identifier) == 0]\n",
    "\n",
    "# target = getDataByID(df, \"958a28896d8b11b0b1283b05c5f5816d8816b4b743a8013c2d1e721c2de61d9b\")"
   ]
  },
  {
   "cell_type": "code",
   "execution_count": null,
   "id": "99",
   "metadata": {},
   "outputs": [],
   "source": [
    "list(target[\"simulation_id\"])[0]"
   ]
  },
  {
   "cell_type": "code",
   "execution_count": null,
   "id": "100",
   "metadata": {},
   "outputs": [],
   "source": [
    "getSimulationWorkStatistics(df, list(target[\"simulation_id\"])[0])"
   ]
  },
  {
   "cell_type": "code",
   "execution_count": null,
   "id": "101",
   "metadata": {},
   "outputs": [],
   "source": [
    "showGraph(getSimulationID(target)[0])"
   ]
  },
  {
   "cell_type": "code",
   "execution_count": null,
   "id": "102",
   "metadata": {},
   "outputs": [],
   "source": [
    "np.linspace(15, 40, 6)"
   ]
  },
  {
   "cell_type": "code",
   "execution_count": null,
   "id": "103",
   "metadata": {},
   "outputs": [],
   "source": []
  },
  {
   "cell_type": "code",
   "execution_count": null,
   "id": "104",
   "metadata": {},
   "outputs": [],
   "source": []
  },
  {
   "cell_type": "markdown",
   "id": "105",
   "metadata": {
    "tags": []
   },
   "source": [
    "# gamma analysis"
   ]
  },
  {
   "cell_type": "code",
   "execution_count": null,
   "id": "106",
   "metadata": {},
   "outputs": [],
   "source": [
    "df = loadDataFrame()\n",
    "target = getDataByComment(df, \"Experiment 1a (2024/2/24)\")\n",
    "sim_id_array = getSimulationID(target)\n",
    "workStatisticArray = [getSimulationWorkStatistics(target, sim_id) for sim_id in sim_id_array]\n",
    "mean_W_array = np.array([(item['mean_W'], item['mean_W_error']) for item in workStatisticArray])\n",
    "jarzy_array = np.array([(item['jarzyn_term'], item['jarzyn_term_error']) for item in workStatisticArray])\n",
    "\n",
    "gamma_array = [d['gamma_1'] for d in target['initial_parameter_dict']]\n",
    "mean_work = list(target[\"mean_work\"])\n",
    "work_distribution_error_array = [3/np.sqrt(10000) * np.std(np.load(f\"/Users/tkwtang/source/coupled_flux_qubit_protocol/coupled_flux_qubit_data_gallery/{sim_id}_work_distribution.npy\")) for sim_id in sim_id_array]"
   ]
  },
  {
   "cell_type": "code",
   "execution_count": null,
   "id": "107",
   "metadata": {},
   "outputs": [],
   "source": [
    "plt.errorbar(gamma_array, mean_work,\n",
    "         yerr = work_distribution_error_array,\n",
    "         fmt ='o')\n",
    "# plt.xscale(\"log\")\n",
    "plt.ylabel(r\"$\\langle W \\rangle (k_BT)$\", fontsize = 15)\n",
    "plt.xlabel(\"gamma\", fontsize = 15)"
   ]
  },
  {
   "cell_type": "code",
   "execution_count": null,
   "id": "108",
   "metadata": {},
   "outputs": [],
   "source": []
  },
  {
   "cell_type": "code",
   "execution_count": null,
   "id": "109",
   "metadata": {},
   "outputs": [],
   "source": [
    "plt.errorbar(gamma_array, mean_work,\n",
    "         yerr = work_distribution_error_array,\n",
    "         fmt ='o')\n",
    "plt.ylabel(r\"$\\langle W \\rangle (k_BT)$\", fontsize = 15)\n",
    "plt.xlabel(r\"$\\gamma$\", fontsize = 15)"
   ]
  },
  {
   "cell_type": "markdown",
   "id": "110",
   "metadata": {},
   "source": [
    "# L analysis"
   ]
  },
  {
   "cell_type": "code",
   "execution_count": null,
   "id": "111",
   "metadata": {},
   "outputs": [],
   "source": [
    "df = loadDataFrame()\n",
    "target = getDataByComment(df, \"Experiment 5 (2024/2/24): check for erasure only protocol, what is the effect of changing L from 0.3 to 5.0 affect the work done\")\n",
    "sim_id_array = getSimulationID(target)\n"
   ]
  },
  {
   "cell_type": "code",
   "execution_count": null,
   "id": "112",
   "metadata": {},
   "outputs": [],
   "source": [
    "target.head(1).columns"
   ]
  },
  {
   "cell_type": "code",
   "execution_count": null,
   "id": "113",
   "metadata": {},
   "outputs": [],
   "source": [
    "workStatisticArray = [getSimulationWorkStatistics(target, sim_id) for sim_id in sim_id_array]\n",
    "mean_W_array = np.array([(item['mean_W'], item['mean_W_error']) for item in workStatisticArray])\n",
    "jarzy_array = np.array([(item['jarzyn_term'], item['jarzyn_term_error']) for item in workStatisticArray])"
   ]
  },
  {
   "cell_type": "code",
   "execution_count": null,
   "id": "114",
   "metadata": {},
   "outputs": [],
   "source": [
    "# L_array = np.array([item['circuit_params'][\"L_1\"] for item in target[\"params\"]]) * 1e9\n",
    "# L_array = np.array([0.01, 0.05, 0.1, 0.5, 1, 5, 10, 50, 100]) * 1\n",
    "L_array = [d['circuit_parameter'][\"L_factor\"] for d in target['params']]\n",
    "mean_work = list(target[\"mean_work\"])\n",
    "work_distribution_error_array = [3/np.sqrt(10000) * np.std(np.load(f\"/Users/tkwtang/source/coupled_flux_qubit_protocol/coupled_flux_qubit_data_gallery/{sim_id}_work_distribution.npy\")) for sim_id in sim_id_array]\n",
    "\n",
    "\n"
   ]
  },
  {
   "cell_type": "code",
   "execution_count": null,
   "id": "115",
   "metadata": {},
   "outputs": [],
   "source": [
    "for x in zip(L_array, mean_work):\n",
    "    print(f\"({x[0]:.3g}, {x[1]:.3g})\")"
   ]
  },
  {
   "cell_type": "code",
   "execution_count": null,
   "id": "116",
   "metadata": {},
   "outputs": [],
   "source": [
    "plt.errorbar(L_array, mean_work,\n",
    "         yerr = work_distribution_error_array,\n",
    "         fmt ='o')\n",
    "plt.xscale(\"log\")\n",
    "plt.ylabel(r\"$\\langle W \\rangle (k_BT)$\", fontsize = 15)\n",
    "plt.xlabel(\"L (nH)\", fontsize = 15)"
   ]
  },
  {
   "cell_type": "code",
   "execution_count": null,
   "id": "117",
   "metadata": {},
   "outputs": [],
   "source": []
  },
  {
   "cell_type": "markdown",
   "id": "118",
   "metadata": {},
   "source": [
    "# C analysis"
   ]
  },
  {
   "cell_type": "code",
   "execution_count": null,
   "id": "119",
   "metadata": {},
   "outputs": [],
   "source": [
    "df = loadDataFrame()\n",
    "target = getDataByComment(df, \"Experiment 3 (2024/2/24)\")\n",
    "sim_id_array = getSimulationID(target)\n",
    "# C_array = np.array([0.01, 0.05, 0.1, 0.5, 1, 5, 10, 50, 100]) * 4\n",
    "C_array = [d['circuit_parameter'][\"C_factor\"] for d in target['params']]"
   ]
  },
  {
   "cell_type": "code",
   "execution_count": null,
   "id": "120",
   "metadata": {},
   "outputs": [],
   "source": [
    "C_array"
   ]
  },
  {
   "cell_type": "code",
   "execution_count": null,
   "id": "121",
   "metadata": {},
   "outputs": [],
   "source": [
    "workStatisticArray = [getSimulationWorkStatistics(target, sim_id) for sim_id in sim_id_array]\n",
    "mean_W_array = np.array([(item['mean_W'], item['mean_W_error']) for item in workStatisticArray])\n",
    "jarzy_array = np.array([(item['jarzyn_term'], item['jarzyn_term_error']) for item in workStatisticArray])"
   ]
  },
  {
   "cell_type": "code",
   "execution_count": null,
   "id": "122",
   "metadata": {},
   "outputs": [],
   "source": [
    "mean_W_array"
   ]
  },
  {
   "cell_type": "code",
   "execution_count": null,
   "id": "123",
   "metadata": {},
   "outputs": [],
   "source": [
    "plt.xscale(\"log\")\n",
    "plt.scatter(C_array, mean_W_array[:,0])"
   ]
  },
  {
   "cell_type": "code",
   "execution_count": null,
   "id": "124",
   "metadata": {},
   "outputs": [],
   "source": [
    "mean_work = list(target[\"mean_work\"])\n",
    "work_distribution_error_array = [3/np.sqrt(10000) * np.std(np.load(f\"/Users/tkwtang/source/coupled_flux_qubit_protocol/coupled_flux_qubit_data_gallery/{sim_id}_work_distribution.npy\")) for sim_id in sim_id_array]\n"
   ]
  },
  {
   "cell_type": "code",
   "execution_count": null,
   "id": "125",
   "metadata": {},
   "outputs": [],
   "source": [
    "showGraph(target.simulation_id.values[0])"
   ]
  },
  {
   "cell_type": "code",
   "execution_count": null,
   "id": "126",
   "metadata": {},
   "outputs": [],
   "source": [
    "getSimulationWorkStatistics(target, target.simulation_id.values[0])"
   ]
  },
  {
   "cell_type": "code",
   "execution_count": null,
   "id": "127",
   "metadata": {},
   "outputs": [],
   "source": [
    "plt.errorbar(C_array, mean_work,\n",
    "         yerr = work_distribution_error_array,\n",
    "         fmt ='o')\n",
    "plt.xscale(\"log\")\n",
    "plt.ylabel(r\"$\\langle W \\rangle (k_BT)$\", fontsize = 15)\n",
    "plt.xlabel(\"C (nF)\", fontsize = 15)"
   ]
  },
  {
   "cell_type": "code",
   "execution_count": null,
   "id": "128",
   "metadata": {},
   "outputs": [],
   "source": [
    "target"
   ]
  },
  {
   "cell_type": "code",
   "execution_count": null,
   "id": "129",
   "metadata": {},
   "outputs": [],
   "source": []
  },
  {
   "cell_type": "code",
   "execution_count": null,
   "id": "130",
   "metadata": {},
   "outputs": [],
   "source": []
  },
  {
   "cell_type": "markdown",
   "id": "131",
   "metadata": {
    "tags": []
   },
   "source": [
    "# dt analysis"
   ]
  },
  {
   "cell_type": "code",
   "execution_count": null,
   "id": "132",
   "metadata": {},
   "outputs": [],
   "source": [
    "df = loadDataFrame()\n",
    "target = getDataByComment(df, \"Experiment 1 (2024/1/29)\")\n",
    "sim_id_array = getSimulationID(target)"
   ]
  },
  {
   "cell_type": "code",
   "execution_count": null,
   "id": "133",
   "metadata": {},
   "outputs": [],
   "source": [
    "dt_array = [1/item[\"dt\"] for item in list(target[\"params\"])]\n",
    "workStatisticArray = [getSimulationWorkStatistics(target, sim_id) for sim_id in sim_id_array]"
   ]
  },
  {
   "cell_type": "code",
   "execution_count": null,
   "id": "134",
   "metadata": {},
   "outputs": [],
   "source": [
    "mean_W_array = np.array([(item['mean_W'], item['mean_W_error']) for item in workStatisticArray])\n",
    "jarzy_array = np.array([(item['jarzyn_term'], item['jarzyn_term_error']) for item in workStatisticArray])"
   ]
  },
  {
   "cell_type": "code",
   "execution_count": null,
   "id": "135",
   "metadata": {},
   "outputs": [],
   "source": [
    "jarzy_array"
   ]
  },
  {
   "cell_type": "code",
   "execution_count": null,
   "id": "136",
   "metadata": {},
   "outputs": [],
   "source": [
    "plt.xscale('log')\n",
    "plt.ylabel('work_done')\n",
    "plt.xlabel('1/dt')\n",
    "plt.scatter(dt_array, mean_W_array[:, 0])"
   ]
  },
  {
   "cell_type": "code",
   "execution_count": null,
   "id": "137",
   "metadata": {},
   "outputs": [],
   "source": []
  },
  {
   "cell_type": "markdown",
   "id": "138",
   "metadata": {},
   "source": [
    "# I_m test"
   ]
  },
  {
   "cell_type": "code",
   "execution_count": null,
   "id": "139",
   "metadata": {},
   "outputs": [],
   "source": [
    "\n",
    "df = loadDataFrame()\n",
    "target = getDataByComment(df, \"Experiment 2 (2024/3/12)\")\n",
    "sim_id_array = getSimulationID(target)"
   ]
  },
  {
   "cell_type": "code",
   "execution_count": null,
   "id": "140",
   "metadata": {},
   "outputs": [],
   "source": [
    "fidelity_list = []\n",
    "for data in list(target['fidelity']):\n",
    "    fidelity_list.append(np.array([row['final_percentage'] for row in data]))"
   ]
  },
  {
   "cell_type": "code",
   "execution_count": null,
   "id": "141",
   "metadata": {},
   "outputs": [],
   "source": [
    "fidelity_list = np.array(fidelity_list, dtype = float)"
   ]
  },
  {
   "cell_type": "code",
   "execution_count": null,
   "id": "142",
   "metadata": {},
   "outputs": [],
   "source": [
    "fidelity_list[:, 0:2, (1, 3)] = fidelity_list[:, 2:4, (1, 3)]"
   ]
  },
  {
   "cell_type": "code",
   "execution_count": null,
   "id": "143",
   "metadata": {},
   "outputs": [],
   "source": [
    "phi_x_on_value_array = np.linspace(-0.0080, -0.0040, 10)\n",
    "np.array(np.meshgrid(phi_x_on_value_array, phi_x_on_value_array)).T.reshape(-1,2)[24]"
   ]
  },
  {
   "cell_type": "code",
   "execution_count": null,
   "id": "144",
   "metadata": {},
   "outputs": [],
   "source": [
    "square_difference = np.square((fidelity_list[:, (0,1), :] - 0.5).reshape(fidelity_list.shape[0], -1))"
   ]
  },
  {
   "cell_type": "code",
   "execution_count": null,
   "id": "145",
   "metadata": {},
   "outputs": [],
   "source": [
    "minimum_index = np.argmin(np.sum(square_difference, axis = 1))"
   ]
  },
  {
   "cell_type": "code",
   "execution_count": null,
   "id": "146",
   "metadata": {},
   "outputs": [],
   "source": [
    "target.iloc[minimum_index]['fidelity']"
   ]
  },
  {
   "cell_type": "code",
   "execution_count": null,
   "id": "147",
   "metadata": {},
   "outputs": [],
   "source": [
    "target.iloc[minimum_index]['initial_parameter_dict']"
   ]
  },
  {
   "cell_type": "code",
   "execution_count": null,
   "id": "148",
   "metadata": {},
   "outputs": [],
   "source": [
    "target.iloc[minimum_index]['protocol_list_item']"
   ]
  },
  {
   "cell_type": "code",
   "execution_count": null,
   "id": "149",
   "metadata": {},
   "outputs": [],
   "source": [
    "target.iloc[minimum_index]"
   ]
  },
  {
   "cell_type": "code",
   "execution_count": null,
   "id": "150",
   "metadata": {},
   "outputs": [],
   "source": []
  },
  {
   "cell_type": "code",
   "execution_count": null,
   "id": "151",
   "metadata": {},
   "outputs": [],
   "source": [
    "work_distribution_data_array = [ \n",
    "    np.load(f\"coupled_flux_qubit_protocol/coupled_flux_qubit_data_gallery/{sim_id}_work_distribution.npy\")\n",
    "    for sim_id in list(target['simulation_id'])]"
   ]
  },
  {
   "cell_type": "code",
   "execution_count": null,
   "id": "152",
   "metadata": {},
   "outputs": [],
   "source": [
    "for dist in work_distribution_data_array:\n",
    "    plt.hist(dist, bins = 50)\n",
    "    plt.show()"
   ]
  },
  {
   "cell_type": "code",
   "execution_count": null,
   "id": "153",
   "metadata": {},
   "outputs": [],
   "source": [
    "for item in list(target['fidelity']):\n",
    "    final_percentage_matrix = np.array([d[\"final_percentage\"] for d in item]).T\n",
    "    text_box_array = [\"\\n\".join(row) for row in final_percentage_matrix]\n",
    "\n",
    "    \n",
    "    # fig, ax = plt.subplots(1, 1, figsize = [10, 4])\n",
    "    plt.figure(figsize=[4, 4])\n",
    "    # plt.title(f\"N = {item['N']}, dt = {item['dt']}, t1 = {item['protocol_list'][-1]['duration']} \")\n",
    "    plt.xlim(-5, 5); plt.ylim(-5, 5);\n",
    "    plt.text(-3.25, -3.5, text_box_array[0]); plt.text(-3.25, 1.5, text_box_array[1])\n",
    "    plt.text(1.75, -3.5, text_box_array[2]); plt.text(1.75, 1.5, text_box_array[3])\n",
    "    plt.vlines(0, ymin = -5, ymax = 5); plt.hlines(0, xmin = -5, xmax = 5)\n",
    "    plt.show()\n"
   ]
  },
  {
   "cell_type": "code",
   "execution_count": null,
   "id": "154",
   "metadata": {},
   "outputs": [],
   "source": []
  },
  {
   "cell_type": "code",
   "execution_count": null,
   "id": "155",
   "metadata": {},
   "outputs": [],
   "source": []
  },
  {
   "cell_type": "code",
   "execution_count": null,
   "id": "156",
   "metadata": {},
   "outputs": [],
   "source": [
    "I_m_array = np.array([item['circuit_params']['I_m_1'] for item in list(target['params'])]) * 1e9"
   ]
  },
  {
   "cell_type": "code",
   "execution_count": null,
   "id": "157",
   "metadata": {},
   "outputs": [],
   "source": [
    "mean_W_array = [getSimulationWorkStatistics(df,sim_id )['mean_W'] for sim_id in sim_id_array]"
   ]
  },
  {
   "cell_type": "code",
   "execution_count": null,
   "id": "158",
   "metadata": {},
   "outputs": [],
   "source": [
    "plt.ylabel(r\"$\\langle W \\rangle$\")\n",
    "plt.xlabel(r\"$I_m (nA)$\")\n",
    "# plt.xscale(\"log\")\n",
    "plt.scatter(I_m_array, mean_W_array)"
   ]
  },
  {
   "cell_type": "code",
   "execution_count": null,
   "id": "159",
   "metadata": {},
   "outputs": [],
   "source": []
  },
  {
   "cell_type": "code",
   "execution_count": null,
   "id": "160",
   "metadata": {},
   "outputs": [],
   "source": [
    "\n",
    "df = loadDataFrame()\n",
    "target = getDataByComment(df, \"Experiment 5 (2024/2/24): see the effect of M_12\")\n",
    "sim_id_array = getSimulationID(target)"
   ]
  },
  {
   "cell_type": "code",
   "execution_count": null,
   "id": "161",
   "metadata": {},
   "outputs": [],
   "source": [
    "M_12_array = [d['circuit_parameter'][\"M_12_on\"] for d in target['params']]\n",
    "# I_m_array = np.array([item['circuit_param']['M_12_on'] for item in list(target['params'])])"
   ]
  },
  {
   "cell_type": "code",
   "execution_count": null,
   "id": "162",
   "metadata": {},
   "outputs": [],
   "source": [
    "workStatisticArray = [getSimulationWorkStatistics(target, sim_id) for sim_id in sim_id_array]\n",
    "mean_W_array = np.array([(item['mean_W'], item['mean_W_error']) for item in workStatisticArray])\n",
    "jarzy_array = np.array([(item['jarzyn_term'], item['jarzyn_term_error']) for item in workStatisticArray])\n",
    "mean_work = list(target[\"mean_work\"])\n",
    "work_distribution_error_array = [3/np.sqrt(10000) * np.std(np.load(f\"/Users/tkwtang/source/coupled_flux_qubit_protocol/coupled_flux_qubit_data_gallery/{sim_id}_work_distribution.npy\")) for sim_id in sim_id_array]\n",
    "\n",
    "plt.errorbar(M_12_array, mean_work,\n",
    "         yerr = work_distribution_error_array,\n",
    "         fmt ='o')\n",
    "# plt.xscale(\"log\")\n",
    "plt.ylabel(r\"$\\langle W \\rangle (k_BT)$\", fontsize = 15)\n",
    "plt.xlabel(\"L (nH)\", fontsize = 15)"
   ]
  },
  {
   "cell_type": "code",
   "execution_count": null,
   "id": "163",
   "metadata": {},
   "outputs": [],
   "source": []
  },
  {
   "cell_type": "markdown",
   "id": "164",
   "metadata": {},
   "source": [
    "# phi_x_test"
   ]
  },
  {
   "cell_type": "code",
   "execution_count": null,
   "id": "165",
   "metadata": {},
   "outputs": [],
   "source": [
    "df = loadDataFrame()\n",
    "target = getDataByComment(df, \"Experiment 1 (2024/3/11)\")\n",
    "sim_id_array = getSimulationID(target)\n",
    "mean_W_array = [getSimulationWorkStatistics(df,sim_id )['mean_W'] for sim_id in sim_id_array]"
   ]
  },
  {
   "cell_type": "code",
   "execution_count": null,
   "id": "166",
   "metadata": {},
   "outputs": [],
   "source": []
  },
  {
   "cell_type": "code",
   "execution_count": null,
   "id": "167",
   "metadata": {},
   "outputs": [],
   "source": [
    "target['fidelity']"
   ]
  },
  {
   "cell_type": "markdown",
   "id": "168",
   "metadata": {},
   "source": [
    "# fidelity analysis"
   ]
  },
  {
   "cell_type": "code",
   "execution_count": null,
   "id": "169",
   "metadata": {},
   "outputs": [],
   "source": [
    "df = loadDataFrame()\n",
    "\n",
    "# target = getDataByID(df, \"5aec0e959e8dcfe0fa75be2316b8c18c49debf818321aa76c32966fe9460c40e\")\n",
    "target = getDataByComment(df, \"Experiment 2 (2024/1/30)\")"
   ]
  },
  {
   "cell_type": "code",
   "execution_count": null,
   "id": "170",
   "metadata": {},
   "outputs": [],
   "source": [
    "showFidelity(target)"
   ]
  },
  {
   "cell_type": "code",
   "execution_count": null,
   "id": "171",
   "metadata": {},
   "outputs": [],
   "source": []
  },
  {
   "cell_type": "code",
   "execution_count": null,
   "id": "172",
   "metadata": {},
   "outputs": [],
   "source": [
    "final_percentage_matrix"
   ]
  },
  {
   "cell_type": "code",
   "execution_count": null,
   "id": "173",
   "metadata": {
    "tags": []
   },
   "outputs": [],
   "source": [
    "import numpy as np\n",
    "from scipy.optimize import fsolve\n",
    "import matplotlib.pyplot as plt\n",
    "# 4 well potential\n",
    "def Fcn_4_well(x):\n",
    "    return [x[0] - beta_2 * np.sin(x[0]), \n",
    "                x[1] - beta_2 * np.sin(x[1])\n",
    "    ]\n",
    "sol_1 = fsolve(Fcn_4_well, [2, 2])\n",
    "sol_2 = fsolve(Fcn_4_well, [2, -2])\n",
    "sol_3 = fsolve(Fcn_4_well, [-2, 2])\n",
    "sol_4 = fsolve(Fcn_4_well, [-2, -2])\n",
    "\n",
    "print(sol_1, sol_2, sol_3, sol_4)"
   ]
  },
  {
   "attachments": {
    "60d895a3-cf2a-472e-95d5-98f71e77b109.png": {
     "image/png": "[encoded data removed]"
    }
   },
   "cell_type": "markdown",
   "id": "174",
   "metadata": {},
   "source": [
    "![image.png](attachment:60d895a3-cf2a-472e-95d5-98f71e77b109.png)"
   ]
  },
  {
   "cell_type": "code",
   "execution_count": null,
   "id": "175",
   "metadata": {},
   "outputs": [],
   "source": [
    "# mix in y\n",
    "def Fcn_Mix_in_y(x):\n",
    "    return [\n",
    "          x[0] - beta_2 * np.sin(x[0]), \n",
    "          x[1] - beta_2 * np.sin(x[1]) * np.cos(3/2) + d_beta_2 * np.cos(x[1]) * np.sin(3/2)\n",
    "    ]\n",
    "sol_1 = fsolve(Fcn_Mix_in_y, [2, 0])\n",
    "sol_2 = fsolve(Fcn_Mix_in_y, [-2, 0])\n",
    "print(sol_1, sol_2)"
   ]
  },
  {
   "attachments": {
    "4621a5c4-58e7-47d5-b8d5-641c41d2da76.png": {
     "image/png": "[encoded data removed]"
    }
   },
   "cell_type": "markdown",
   "id": "176",
   "metadata": {},
   "source": [
    "![image.png](attachment:4621a5c4-58e7-47d5-b8d5-641c41d2da76.png)"
   ]
  },
  {
   "cell_type": "code",
   "execution_count": null,
   "id": "177",
   "metadata": {},
   "outputs": [],
   "source": [
    "# Conditional_tilt\n",
    "def Fcn_conditional_tilt(x):\n",
    "    return [x[0] - beta_1 * np.sin(x[0]) + -0.6 * x[1],\n",
    "            x[1] - beta_2 * np.sin(x[1]) * np.cos(3/2) + d_beta_2 * np.cos(x[1]) * np.sin(3/2) + -0.6 * x[0]]\n",
    "\n",
    "sol_1 = fsolve(Fcn_conditional_tilt, [2.6, 2])\n",
    "sol_2 = fsolve(Fcn_conditional_tilt, [-2.6, -2])\n",
    "print(sol_1, sol_2)"
   ]
  },
  {
   "attachments": {
    "c04f4ac7-3a30-4009-b518-52fd4fb863e6.png": {
     "image/png": "[encoded data removed]"
    }
   },
   "cell_type": "markdown",
   "id": "178",
   "metadata": {},
   "source": [
    "![image.png](attachment:c04f4ac7-3a30-4009-b518-52fd4fb863e6.png)"
   ]
  },
  {
   "cell_type": "code",
   "execution_count": null,
   "id": "179",
   "metadata": {},
   "outputs": [],
   "source": [
    "def Fcn_raise_barrier(x):\n",
    "    return [x[0] - beta_1 * np.sin(x[0]) - 0.6 * x[1],\n",
    "            x[1] - beta_2 * np.sin(x[1]) - 0.6 * x[0]\n",
    "           ]\n",
    "\n",
    "sol_1 = fsolve(Fcn_raise_barrier, [2.6, 2])\n",
    "sol_2 = fsolve(Fcn_raise_barrier, [-2.6, -2])\n",
    "print(sol_1, sol_2)"
   ]
  },
  {
   "cell_type": "code",
   "execution_count": null,
   "id": "180",
   "metadata": {},
   "outputs": [],
   "source": [
    "def Fcn_conditional_tilt_in_x(x):\n",
    "    return [\n",
    "          x[0] - beta_2 * np.sin(x[0]) * np.cos(3/2) + d_beta_2 * np.cos(x[0]) * np.sin(3/2) + -0.6 * x[1],\n",
    "          x[1] - beta_1 * np.sin(x[1]) + -0.6 * x[0],\n",
    "    ]\n",
    "sol_1 = fsolve(Fcn_conditional_tilt_in_x, [2, 2])\n",
    "sol_2 = fsolve(Fcn_conditional_tilt_in_x, [-2, -2])\n",
    "print(sol_1, sol_2)"
   ]
  },
  {
   "cell_type": "code",
   "execution_count": null,
   "id": "181",
   "metadata": {},
   "outputs": [],
   "source": [
    "# mix in y\n",
    "\n",
    "def Fcn_Mix_in_x(x):\n",
    "    return [\n",
    "        x[0] - beta_2 * np.sin(x[0]) * np.cos(3/2) + d_beta_2 * np.cos(x[0]) * np.sin(3/2),\n",
    "        x[1] - beta_2 * np.sin(x[1])\n",
    "    ]\n",
    "sol_1 = fsolve(Fcn_Mix_in_x, [0, 2])\n",
    "sol_2 = fsolve(Fcn_Mix_in_x, [0, -2])\n",
    "print(sol_1, sol_2)"
   ]
  },
  {
   "cell_type": "code",
   "execution_count": null,
   "id": "182",
   "metadata": {},
   "outputs": [],
   "source": [
    "sol"
   ]
  },
  {
   "cell_type": "code",
   "execution_count": null,
   "id": "183",
   "metadata": {},
   "outputs": [],
   "source": [
    "score_string = \"\"\"12.5\n",
    "12.75\n",
    "15.25\n",
    "16\n",
    "16.75\n",
    "17.25\n",
    "17.5\n",
    "18.25\n",
    "20\n",
    "20\n",
    "20\n",
    "20\n",
    "20\n",
    "20\n",
    "9.25\n",
    "11.75\n",
    "12.25\n",
    "13.25\n",
    "13.25\n",
    "14\n",
    "15.25\n",
    "15.75\n",
    "15.75\n",
    "20\n",
    "20\n",
    "20\n",
    "20\n",
    "8.5\n",
    "12.25\n",
    "13\n",
    "13.25\n",
    "14.25\n",
    "14.5\n",
    "15\n",
    "16\n",
    "17.5\n",
    "19\n",
    "19.5\n",
    "20\n",
    "20\n",
    "20\n",
    "20\n",
    "20\n",
    "20\n",
    "9.25\n",
    "11\n",
    "11\n",
    "12.5\n",
    "13.25\n",
    "13.5\n",
    "15.75\n",
    "16.75\n",
    "17.25\n",
    "17.5\n",
    "19\n",
    "20\n",
    "20\n",
    "20\n",
    "20\n",
    "20\"\"\""
   ]
  },
  {
   "cell_type": "code",
   "execution_count": null,
   "id": "184",
   "metadata": {},
   "outputs": [],
   "source": [
    "quiz_1_data = [float(s) for s in score_string.split(\"\\n\")]"
   ]
  },
  {
   "cell_type": "code",
   "execution_count": null,
   "id": "185",
   "metadata": {},
   "outputs": [],
   "source": [
    "plt.hist(quiz_1_data)"
   ]
  },
  {
   "cell_type": "code",
   "execution_count": null,
   "id": "186",
   "metadata": {},
   "outputs": [],
   "source": [
    "sim_id = \"36e21ba0a419f66257fdedf5f312f85e4e404beb8a37796c5e9992c32095e690\""
   ]
  },
  {
   "cell_type": "code",
   "execution_count": null,
   "id": "187",
   "metadata": {},
   "outputs": [],
   "source": [
    "np.load(f\"coupled_flux_qubit_protocol/coupled_flux_qubit_data_gallery/{sim_id}_all_state.npy\")"
   ]
  },
  {
   "cell_type": "code",
   "execution_count": null,
   "id": "188",
   "metadata": {},
   "outputs": [],
   "source": [
    "# comparing two work distributions"
   ]
  },
  {
   "cell_type": "code",
   "execution_count": null,
   "id": "189",
   "metadata": {
    "tags": []
   },
   "outputs": [],
   "source": [
    "sim_id_1 = \"982112af728dc4b2496bee543c0cadeb9a73d86b59c5cc868ed4a941e9874955\"\n",
    "sim_id_2 = \"23818bed74c7e71a603fa84bd2fc8b9ffb768f5252fc76562cc57d5de868d76d\"\n",
    "\n",
    "work_distribution_time_array_1 = np.load(f\"coupled_flux_qubit_protocol/coupled_flux_qubit_data_gallery/{sim_id_1}_work_distribution_time_array.npy\")\n",
    "work_distribution_time_array_2 = np.load(f\"coupled_flux_qubit_protocol/coupled_flux_qubit_data_gallery/{sim_id_2}_work_distribution_time_array.npy\")\n",
    "\n"
   ]
  },
  {
   "cell_type": "code",
   "execution_count": null,
   "id": "190",
   "metadata": {},
   "outputs": [],
   "source": [
    "\n",
    "def plot_work_dist_with_time(work_distribution_time_array_1, work_distribution_time_array_2):\n",
    "    fig, ax = plt.subplots(1, 2)\n",
    "    \n",
    "    fig.set_size_inches(10,5)\n",
    "    \n",
    "    def animate(i):\n",
    "        ax[0].clear()\n",
    "        ax[1].clear()\n",
    "        # Get the point from the points list at index i\n",
    "        _dist_1 = work_distribution_time_array_1[i]\n",
    "        _dist_2 = work_distribution_time_array_2[i]\n",
    "        work_min = np.min(_dist_1) - 3\n",
    "        work_max = np.max(_dist_1) + 3\n",
    "        bins = np.linspace(work_min, work_max, 50)\n",
    "\n",
    "        # Plot that point using the x and y coordinates\n",
    "        ax[0].hist(_dist_1, bins = bins)\n",
    "        ax[1].hist(_dist_2, bins = bins)\n",
    "        # ax[0].set_title(f\"t = {_skipped_step_time_array[i]}\")\n",
    "        # Set the x and y axis to display a fixed range\n",
    "    ani = animation.FuncAnimation(fig, animate, frames=len(work_distribution_time_array_1),\n",
    "                        interval=100, repeat=False)\n",
    "    plt.close()\n",
    "    return ani\n",
    "\n",
    "\n"
   ]
  },
  {
   "cell_type": "code",
   "execution_count": null,
   "id": "191",
   "metadata": {},
   "outputs": [],
   "source": [
    "skip_frame = 25\n",
    "ani = plot_work_dist_with_time(work_distribution_time_array_1[::skip_frame], work_distribution_time_array_2[::skip_frame])\n",
    "html = HTML(ani.to_html5_video())\n",
    "\n"
   ]
  },
  {
   "cell_type": "code",
   "execution_count": null,
   "id": "192",
   "metadata": {},
   "outputs": [],
   "source": [
    "display(html)"
   ]
  },
  {
   "cell_type": "code",
   "execution_count": null,
   "id": "193",
   "metadata": {},
   "outputs": [],
   "source": []
  }
 ],
 "metadata": {
  "interpreter": {
   "hash": "c48eea1d6fe0303de93a25029b75a26fa311fe2cfce1f013702fed1a8d75264d"
  },
  "kernelspec": {
   "display_name": "Python 3 (ipykernel)",
   "language": "python",
   "name": "python3"
  },
  "language_info": {
   "codemirror_mode": {
    "name": "ipython",
    "version": 3
   },
   "file_extension": ".py",
   "mimetype": "text/x-python",
   "name": "python",
   "nbconvert_exporter": "python",
   "pygments_lexer": "ipython3",
   "version": "3.10.9"
  },
  "toc-autonumbering": false,
  "toc-showcode": false,
  "toc-showmarkdowntxt": false
 },
 "nbformat": 4,
 "nbformat_minor": 5
}
