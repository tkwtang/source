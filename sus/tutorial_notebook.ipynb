{
 "cells": [
  {
   "cell_type": "code",
   "execution_count": null,
   "metadata": {
    "lines_to_next_cell": 2
   },
   "outputs": [],
   "source": [
    "import sys\n",
    "import os\n",
    "\n",
    "sys.path.append('../source/')\n",
    "\n",
    "from sus.library.potentials import blw, odv, duffing_2D\n",
    "from sus.protocol_designer import System, Protocol, Potential, Compound_Protocol\n",
    "\n",
    "import numpy as np \n",
    "\n",
    "import matplotlib.pyplot as plt\n",
    "from mpl_toolkits.mplot3d import Axes3D\n",
    "plt.rcParams[\"animation.html\"] = \"jshtml\"\n",
    "from IPython.display import HTML\n"
   ]
  },
  {
   "cell_type": "code",
   "execution_count": null,
   "metadata": {},
   "outputs": [],
   "source": [
    "# If we want to actually calculate values of the potential and force, we need to put in some coordinates.\n",
    "\n",
    "# N sets of coordinates are expected to be in an array with shape (N,D,2)\n",
    "# where D is the dimensionality of our system, the length 2 dimension determines position/velocity coordinates\n",
    "N=20\n",
    "coords_2D=np.random.random_sample((N,2,2))\n",
    "coords_1D=np.random.random_sample((N,1,2))\n",
    "coords_5D=np.random.random_sample((10,5,2))\n",
    "#these will be used later"
   ]
  },
  {
   "cell_type": "markdown",
   "metadata": {},
   "source": [
    "# Protocols"
   ]
  },
  {
   "cell_type": "code",
   "execution_count": null,
   "metadata": {},
   "outputs": [],
   "source": [
    "#Let's jump in by importing some example protocols, we can talk about making them (and potentials) later.\n",
    "\n",
    "# example_substages defines 4 simple substages (intances of the protocol class):\n",
    "#    ESS.tilt, ESS.untilt, ESS.lower, ESS.unlower\n",
    "\n",
    "# also defined is the protocol you get by combining the four substages into a single protocol:\n",
    "#    ESS.CP (this is an instance of the compound protocol class, which is what most interesting protocols will be)\n",
    "\n",
    "\n",
    "import sus.library.example_substages as ESS\n",
    "\n",
    "erase_prot=ESS.CP\n",
    "\n",
    "tilt=ESS.tilt\n",
    "untilt=ESS.untilt\n",
    "lower=ESS.lower\n",
    "unlower=ESS.unlower\n",
    "\n",
    "# all that protocols do is store some number of parameters as a function of time. they are very simple objects.\n",
    "# each of the protocols above are 12 parameter protocols,"
   ]
  },
  {
   "cell_type": "code",
   "execution_count": null,
   "metadata": {},
   "outputs": [],
   "source": [
    "# we can look at the signal a compound protocol generates over time:\n",
    "erase_prot.show_params()"
   ]
  },
  {
   "cell_type": "code",
   "execution_count": null,
   "metadata": {
    "comment_questions": false
   },
   "outputs": [],
   "source": [
    "erase_prot.show_params?"
   ]
  },
  {
   "cell_type": "code",
   "execution_count": null,
   "metadata": {},
   "outputs": [],
   "source": [
    "# by default it only shows the nontrivial parameters (the ones that are not constant)\n",
    "# we can show all by using\n",
    "erase_prot.show_params(which='all')"
   ]
  },
  {
   "cell_type": "code",
   "execution_count": null,
   "metadata": {},
   "outputs": [],
   "source": [
    "# this protocol has 12 parameters, but most of them are trivial\n",
    "# you could also show any subset of parameters by specifying an explicit \"which\":\n",
    "erase_prot.show_params(which=[1,2,7,9])"
   ]
  },
  {
   "cell_type": "code",
   "execution_count": null,
   "metadata": {},
   "outputs": [],
   "source": [
    "#A compound protocol can give you the substage times\n",
    "\n",
    "#if you want an array of the times:\n",
    "print(erase_prot.times)"
   ]
  },
  {
   "cell_type": "code",
   "execution_count": null,
   "metadata": {},
   "outputs": [],
   "source": [
    "# if you want just the initial and final time of the whole protocol:\n",
    "print('initial time:',erase_prot.t_i)\n",
    "print('final time:',erase_prot.t_f)"
   ]
  },
  {
   "cell_type": "code",
   "execution_count": null,
   "metadata": {},
   "outputs": [],
   "source": [
    "#if you just want a printout that tells you what each time corresponds to:\n",
    "erase_prot.show_substage_times()"
   ]
  },
  {
   "cell_type": "code",
   "execution_count": null,
   "metadata": {},
   "outputs": [],
   "source": [
    "#For a simple protocol, there are no substages:\n",
    "\n",
    "#if we look at the protocol that is just one of the substages (called 'tilt') we can still use\n",
    "#Protocol.t_i and Protocol.t_f to give initial and final times of the protocol:\n",
    "print('initial time is:',tilt.t_i)\n",
    "print('final time is:',tilt.t_f)"
   ]
  },
  {
   "cell_type": "code",
   "execution_count": null,
   "metadata": {},
   "outputs": [],
   "source": [
    "# we have different interpolation methods as well, here is a plot of the nontrivial parameters in this erase protocol\n",
    "# note that the interpolation from one substage to another is linear:\n",
    "erase_prot.show_params()"
   ]
  },
  {
   "cell_type": "code",
   "execution_count": null,
   "metadata": {},
   "outputs": [],
   "source": []
  },
  {
   "cell_type": "code",
   "execution_count": null,
   "metadata": {},
   "outputs": [],
   "source": [
    "# Compound_Protocol.protocols gives a list of all the substage protocols that make up the compound one.\n",
    "# here we see the first substage uses a linear interpolation:\n",
    "erase_prot.protocols[0].interpolation"
   ]
  },
  {
   "cell_type": "code",
   "execution_count": null,
   "metadata": {},
   "outputs": [],
   "source": [
    "# but, we can change the interpolation as follows. currently there are two other modes 'step' and 'sigmoid'\n",
    "erase_prot.protocols[0].interpolation = 'step'\n",
    "erase_prot.protocols[3].interpolation = 'sigmoid'\n",
    "erase_prot.show_params()"
   ]
  },
  {
   "cell_type": "markdown",
   "metadata": {},
   "source": [
    "# Applying Protocols to Potentials using a System"
   ]
  },
  {
   "cell_type": "code",
   "execution_count": null,
   "metadata": {},
   "outputs": [],
   "source": [
    "# Next we have the System class. It interpolates between whatever protocol/potential you create\n",
    "# and gregs simulation architecture. also contains visualization methods and other tools\n",
    "\n",
    "# Now we create the system that the protocol will apply to\n",
    "# Systems take an instance of the protocol class as an input, as well as an instance of the  potential class.\n",
    "# we can talk about building potentials later, for now well use a predefined one:\n",
    "#ODV is a predefined potential, so lets just plop it in:\n",
    "\n",
    "erase_sys=System(erase_prot,odv)\n"
   ]
  },
  {
   "cell_type": "markdown",
   "metadata": {},
   "source": [
    "### Oh no! An error. \n",
    "###### This is actually to be expected because the potential we put in needs 2 parameters to be defined but the protocol actually defined 12 different things. Thus, the assert error we get"
   ]
  },
  {
   "cell_type": "code",
   "execution_count": null,
   "metadata": {},
   "outputs": [],
   "source": [
    "#When you define a system it will check if the protocol is compatilbe with the potential.\n",
    "\n",
    "#you can check information on a potential object:\n",
    "odv.info()\n"
   ]
  },
  {
   "cell_type": "code",
   "execution_count": null,
   "metadata": {},
   "outputs": [],
   "source": [
    "# setting verbose =True will give you the docstring for the functional form of the potential\n",
    "odv.info(verbose=True)"
   ]
  },
  {
   "cell_type": "code",
   "execution_count": null,
   "metadata": {},
   "outputs": [],
   "source": [
    "#BLW is a predefined 2D potential (happens to be a 4 well system).\n",
    "# it takes 12 parameters, and our erase protocol is a 12 parameter protocol,\n",
    "# so this will work with the erasing protocol. technically any 12 parameter potential would be compatible though.\n",
    "blw.info()"
   ]
  },
  {
   "cell_type": "code",
   "execution_count": null,
   "metadata": {
    "lines_to_next_cell": 0
   },
   "outputs": [],
   "source": [
    "#initialize our full system:\n",
    "\n",
    "erase_sys=System(erase_prot,blw)"
   ]
  },
  {
   "cell_type": "code",
   "execution_count": null,
   "metadata": {},
   "outputs": [],
   "source": [
    "%%capture\n",
    "# Visualization tools\n",
    "    \n",
    "\n",
    "\n",
    "\n",
    "# You can animate the protocol by seeig how it affects the potential over time\n",
    "ani=erase_sys.animate_protocol(mesh=30);\n",
    "\n",
    "#There is a workaround below make the animatio show in jupyter notebook,\n",
    "#Normally you could just do plt.show() to show the animation. \n",
    "HTML(ani.to_jshtml(fps=5))\n",
    "\n",
    "#you can save the animation by passing save=True into the argument of the .animate_protocol\n",
    "#or just use ani.save etc... like a normal matplotlib animation object\n",
    "\n",
    "#animating the protocol is a bit slow, but I haven't worked on optimizing it at all because \n",
    "#it shouldnt affect simulation time. It's a diagnostic tool."
   ]
  },
  {
   "cell_type": "code",
   "execution_count": null,
   "metadata": {},
   "outputs": [],
   "source": [
    "ani"
   ]
  },
  {
   "cell_type": "code",
   "execution_count": null,
   "metadata": {},
   "outputs": [],
   "source": [
    "#to see just a certain point in time, t,  use show_potential(t)\n",
    "# the surface argument determines if we see a wireframe or a contour plot.\n",
    "erase_sys.show_potential(.4)\n",
    "erase_sys.show_potential(.4, surface=True)"
   ]
  },
  {
   "cell_type": "code",
   "execution_count": null,
   "metadata": {
    "lines_to_end_of_cell_marker": 2
   },
   "outputs": [],
   "source": [
    "# you can pull out forces, the potential, or the energy given a set of coordiantes and a time \n",
    "# note the total energy assumes a kinetic energy given by 1/2 mv^2, it takes in a mass argument but the default is unit mass\n",
    "potentials=erase_sys.get_potential(coords_2D, .7)\n",
    "print('potentials for trials 11-15:', potentials[10:15])\n",
    "\n",
    "energy = erase_sys.get_energy(coords_2D, 0)\n",
    "print('KE+U for the same coordinates',energy[10:15])\n",
    "\n",
    "# the output for forces is in the form (N,D): N sets of D forces\n",
    "forces=erase_sys.get_external_force(coords_2D, .5)\n",
    "print('forces for trial 4:{}'.format(forces[3]))\n",
    "print('forces in the \"y\" direction for all trials 1-4:', forces[0:4,1])"
   ]
  },
  {
   "cell_type": "markdown",
   "metadata": {},
   "source": [
    "# Creating new potentials"
   ]
  },
  {
   "cell_type": "markdown",
   "metadata": {},
   "source": [
    "##### Lets say we want to make a new kind of potential, say a 2 dimensional potential that is an exponential well at (x,y)=0\n",
    "\n",
    "$$ V= - e^{-\\frac{ax^2+by^2}{T}} $$\n",
    "\n",
    "##### We have 3 parameters to deal with. All we need to do is make a function to give us the potential and the force\n",
    "##### It is good practice to stick to the following docstring format when making the potential function.\n",
    "##### It makes it easier to collaborate with others/yourself."
   ]
  },
  {
   "cell_type": "code",
   "execution_count": null,
   "metadata": {},
   "outputs": [],
   "source": [
    "from numpy import exp as exp\n",
    "\n",
    "def exp_well_pot(x, y, params):\n",
    "    '''\n",
    "    2D potential, an exponential well centered at (0,0)\n",
    "    with a variable aspect ratio\n",
    "    \n",
    "    Parameters\n",
    "    ----------\n",
    "    x,y : ndarray of dimension [N_coord,]\n",
    "        these are lists of the x and y values where we want to find the potential\n",
    "    params: list [a,b,T]\n",
    "        a,b : the scale at which the x and y directions change the value of the potential\n",
    "        T : the overall 'temperature' scale: affects both x and y directions equally\n",
    "        \n",
    "    Returns\n",
    "    -------\n",
    "    the value of the potential at locations x,y with the given params\n",
    "    '''\n",
    "    a, b, T = params\n",
    "    return(-exp(-(a*x**2+b*y**2)/T))\n",
    "def exp_well_force(x, y, params):\n",
    "    '''\n",
    "    See the exp_well_pot function, it has the same input format\n",
    "    '''\n",
    "    a, b, T = params\n",
    "    dx= 2*a*x*exp(-(a*x**2+b*y**2)/T)/T\n",
    "    dy= 2*a*y*exp(-(a*x**2+b*y**2)/T)/T\n",
    "    return(-dx,-dy)\n",
    "   "
   ]
  },
  {
   "cell_type": "code",
   "execution_count": null,
   "metadata": {},
   "outputs": [],
   "source": [
    "# definine a new potential class takes a potential function and a force function as inputs.\n",
    "# also you need to put in the number of parameters (3 here) and the number of dimensions (2 here)\n",
    "exp_well=Potential(exp_well_pot,exp_well_force,3,2)  \n",
    "\n",
    "# we can go ahead and look at it now by sending it through a System using Potential.trivial_protocol\n",
    "# this just sets all parameters to 1(or default values if they exist) and the time window from 0 to 1\n",
    "\n",
    "# the default parameters can be redefined when you instance a Potential class \n",
    "# by passing a list of the default parameters\n",
    "# such as exp_well=Potential(exp_well_pot, exp_well_force, 3, 2, default_params=(3,8,.1))\n",
    "\n",
    "# additionally, you can set a relevant domain: range of coordiantes you expect to care about:\n",
    "# domain = [[-3,-2], [3,2]] would set the x and y domains to be [-3,3] and [-2,2], respectively \n",
    "# exp_well=Potential(exp_well_pot, exp_well_force, 3, 2, relevant_domain=domain)\n",
    "\n",
    "trivial_system = System(exp_well.trivial_protocol(),exp_well)"
   ]
  },
  {
   "cell_type": "code",
   "execution_count": null,
   "metadata": {},
   "outputs": [],
   "source": [
    "trivial_system.show_potential(0)"
   ]
  },
  {
   "cell_type": "markdown",
   "metadata": {},
   "source": [
    "# Creating new protocols"
   ]
  },
  {
   "cell_type": "code",
   "execution_count": null,
   "metadata": {},
   "outputs": [],
   "source": [
    "# Generally,  we want make a protocol that will operate on the potential. \n",
    "# This protocol will go from t=0 to t=.6\n",
    "t=[0,.6]\n",
    "#we'll interpolate from a totally symmetric well (a=1,b=1,T=1) to a deformed well at the same T (a=.5,b=2,T=1) \n",
    "params=[[1,.2],[1,3],[1,1]]\n",
    "\n",
    "#now, we make a protocol. WSP is short for well_stetch_protocol\n",
    "WSP=Protocol(t,params)"
   ]
  },
  {
   "cell_type": "code",
   "execution_count": null,
   "metadata": {
    "lines_to_next_cell": 2
   },
   "outputs": [],
   "source": [
    "#Finally, we apply the well stretch protocol to the exp_well potential\n",
    "well_stretch=System(WSP,exp_well)"
   ]
  },
  {
   "cell_type": "code",
   "execution_count": null,
   "metadata": {
    "lines_to_next_cell": 0
   },
   "outputs": [],
   "source": [
    "#and just to make sure it worked as expected, lets plot it:\n",
    "well_stretch.show_potential(0)\n",
    "\n",
    "#you can specify a manual domain, if you want.\n",
    "well_stretch.show_potential(.5)\n"
   ]
  },
  {
   "cell_type": "code",
   "execution_count": null,
   "metadata": {
    "lines_to_next_cell": 2
   },
   "outputs": [],
   "source": []
  },
  {
   "cell_type": "markdown",
   "metadata": {},
   "source": [
    "# Editing Protocols"
   ]
  },
  {
   "cell_type": "code",
   "execution_count": null,
   "metadata": {
    "lines_to_end_of_cell_marker": 2
   },
   "outputs": [],
   "source": [
    "#lets say we want to make a compound protocol that stretches the well and then unstretches it\n",
    "#here we can call the reverse method of protocols, which reverses all parameters but NOT the times.\n",
    "\n",
    "# it is functionally equivalent to  redefining the input params from ((a,b),(c,d),(e,f)) to ((b,a),(d,c),(f,e))\n",
    "\n",
    "#first make a copy of the original protocol\n",
    "WSP_rev=WSP.copy()\n",
    "#then call the reverse method to reverse the parameters for the copy\n",
    "WSP_rev.reverse()"
   ]
  },
  {
   "cell_type": "code",
   "execution_count": null,
   "metadata": {},
   "outputs": [],
   "source": [
    "#note that the times will conflict if we try to concatenate onto the\n",
    "#original protocol because they both operate between t=0 and t=.6\n",
    "#we should get an error message if we try\n",
    "SAR_prot=Compound_Protocol((WSP,WSP_rev))"
   ]
  },
  {
   "cell_type": "code",
   "execution_count": null,
   "metadata": {},
   "outputs": [],
   "source": [
    "#so we need to time shift the second one to start at some point after t=.6\n",
    "#use Protocol.time_shift for this:\n",
    "\n",
    "print(\"WSP_rev initial time is:\",WSP_rev.t_i,\"WSP_rev final time is:\",WSP_rev.t_f)\n",
    "\n",
    "WSP_rev.time_shift(WSP.t_f)\n",
    "\n",
    "print(\"WSP_rev initial time is:\",WSP_rev.t_i,\"WSP_rev final time is:\",WSP_rev.t_f)"
   ]
  },
  {
   "cell_type": "code",
   "execution_count": null,
   "metadata": {},
   "outputs": [],
   "source": [
    "#If we do this several times in a row, it will keep shifting the protocol times. \n",
    "print(\"WSP_rev initial time is:\",WSP_rev.t_i,\"WSP_rev final time is:\",WSP_rev.t_f)\n",
    "WSP_rev.time_shift(WSP.t_f)\n",
    "print(\"initial time is:\",WSP_rev.t_i,\"final time is:\",WSP_rev.t_f)"
   ]
  },
  {
   "cell_type": "code",
   "execution_count": null,
   "metadata": {},
   "outputs": [],
   "source": [
    "#Lets make a compound protocol, to see what happens in this case. Note that we don't need to time order the substages,\n",
    "#the class initialization will do that for us\n",
    "\n",
    "SAR_prot=Compound_Protocol((WSP_rev,WSP))\n",
    "SAR_prot.show_substage_times()\n",
    "\n",
    "#it's okay that there is some dead space between the protocol steps, the protocol assumes that to mean that we keep\n",
    "#the parameters constant in the meantime."
   ]
  },
  {
   "cell_type": "code",
   "execution_count": null,
   "metadata": {},
   "outputs": [],
   "source": [
    "#now we can apply the compound protocol made of stretch and unstretch:\n",
    "stretch_and_rev=System(SAR_prot,exp_well)"
   ]
  },
  {
   "cell_type": "code",
   "execution_count": null,
   "metadata": {},
   "outputs": [],
   "source": [
    "%%capture\n",
    "# now we can see the whole protocol:\n",
    "# well put a manual domain in the animate_protocol method, because if we dont the well \n",
    "# will stretch far out of our default domain of -2,2\n",
    "ani=stretch_and_rev.animate_protocol(surface=False, manual_domain = [[-3, -3], [3,3]] )\n",
    "HTML(ani.to_jshtml(fps=10))\n",
    "#note that parameters are held fixed between the explicit substages to fill in the gaps"
   ]
  },
  {
   "cell_type": "code",
   "execution_count": null,
   "metadata": {},
   "outputs": [],
   "source": [
    "ani"
   ]
  },
  {
   "cell_type": "code",
   "execution_count": null,
   "metadata": {},
   "outputs": [],
   "source": [
    "# we can also edit protocols that we have already made with the Protocol.change_param method\n",
    "# lets say we want the first parameter in our reverse process to actually go from .2 to 3 instead of down to 1\n",
    "\n",
    "print(WSP_rev.params)\n",
    "#we now call the change_param method, which takes in which parameters you want to change \n",
    "#and new initial and final values\n",
    "WSP_rev.change_params(1,(.2,3))\n",
    "\n",
    "print(WSP_rev.params)\n"
   ]
  },
  {
   "cell_type": "code",
   "execution_count": null,
   "metadata": {
    "lines_to_next_cell": 2
   },
   "outputs": [],
   "source": [
    "# if we want to make the WSP_rev stage of the protocol take longer\n",
    "# we can use Protocol.time_stretch for that\n",
    "print(WSP_rev.t_i,WSP_rev.t_f)\n",
    "WSP_rev.time_stretch(3)\n",
    "print(WSP_rev.t_i,WSP_rev.t_f)"
   ]
  },
  {
   "cell_type": "code",
   "execution_count": null,
   "metadata": {},
   "outputs": [],
   "source": [
    "%%capture\n",
    "SAR_slow = Compound_Protocol((WSP,WSP_rev))\n",
    "SAR_slow_sys=System(SAR_slow, exp_well)\n",
    "\n",
    "ani=SAR_slow_sys.animate_protocol(surface=False)\n",
    "HTML(ani.to_jshtml(fps=10))"
   ]
  },
  {
   "cell_type": "code",
   "execution_count": null,
   "metadata": {},
   "outputs": [],
   "source": [
    "ani"
   ]
  },
  {
   "cell_type": "code",
   "execution_count": null,
   "metadata": {},
   "outputs": [],
   "source": [
    "#the normalize method will always set the overall time interval to be 1 time unit while keeping the relative lengths equal\n",
    "print('before normlize')\n",
    "SAR_slow.show_substage_times()\n",
    "\n",
    "SAR_slow.normalize()\n",
    "\n",
    "print('after normalize:')\n",
    "SAR_slow.show_substage_times()"
   ]
  },
  {
   "cell_type": "markdown",
   "metadata": {},
   "source": [
    "# Higher Dimensional Potentials\n",
    "\n",
    "\n",
    "##### 5 dimensional spherical containment with a hard edge :\n",
    "\n",
    "$$ V= 0 \\quad\\text{for} \\quad \\sqrt{x_i x^i} > r $$\n",
    "$$ V=V_0  \\quad\\text{for}\\quad \\sqrt{x_i x^i} < r$$\n",
    "\n",
    "\n",
    "\n"
   ]
  },
  {
   "cell_type": "code",
   "execution_count": null,
   "metadata": {},
   "outputs": [],
   "source": [
    "def five_d_sphere(x1, x2, x3, x4, x5, params):\n",
    "    '''\n",
    "    5D hard sphere 'well'\n",
    "    \n",
    "    Parameters\n",
    "    ----------\n",
    "    x1, x2, x3, x4, x5: ndarray of dimension [N_coords,]\n",
    "        these are your coordinates\n",
    "    params: list/tuple (1,2):\n",
    "        1: r, the radius of the sphere\n",
    "        2: V0, the magnitude of the potential when you are inside the sphere\n",
    "    \n",
    "    Returns\n",
    "    -------\n",
    "    the value of the potential at the coordinates, for the params\n",
    "    '''\n",
    "    r, V0=params\n",
    "    pos=x1, x2, x3, x4, x5\n",
    "    distance=np.sqrt(np.sum(np.square(pos), axis=0))\n",
    "    \n",
    "    return  V0 * (1 - np.sign(distance - r)) / 2\n",
    "\n",
    "def five_d_sphere_f(x1, x2, x3, x4, x5, params):\n",
    "    '''\n",
    "    See the five_d_sphere function, it has the same input format\n",
    "    '''\n",
    "    r,V0 = params\n",
    "    pos = x1, x2, x3, x4, x5\n",
    "    \n",
    "    return(0, 0)\n",
    "\n",
    "#note that the way it is set up makes really high dimensional potentials kind of annoying to write. \n",
    "#this can be changed if there is reason to.\n",
    "\n",
    "#first we instance a Potential\n",
    "fds=Potential(five_d_sphere, five_d_sphere_f, 2, 5)\n",
    "#then we make a Protocol\n",
    "fds_times=(0,1)\n",
    "fds_params=((.5,1.8),(-1,0))\n",
    "fds_prot = Protocol(fds_times,fds_params)\n",
    "#then use a System to apply fdp_prot to the fds potential\n",
    "fds_sys=System(fds_prot,fds)"
   ]
  },
  {
   "cell_type": "code",
   "execution_count": null,
   "metadata": {},
   "outputs": [],
   "source": [
    "# when you call show_potential, we now take a 2-d slice of the potential, \n",
    "# sets all other coordinates to zero by default, and automatically chooses the first 2 coordinates\n",
    "\n",
    "# below is a slice that shows what happens at 0=x2=x4=x5, and varying x1 and x3"
   ]
  },
  {
   "cell_type": "code",
   "execution_count": null,
   "metadata": {},
   "outputs": [],
   "source": [
    "fds_sys.show_potential(.5,surface=True, axis1=1,axis2=3)"
   ]
  },
  {
   "cell_type": "code",
   "execution_count": null,
   "metadata": {},
   "outputs": [],
   "source": [
    "# we can also set the slice values\n",
    "slice_vals=(0,.6,0,.6,.2)\n",
    "# here it will set x3=0, x4=.6, and x5=.2 while varying x1 and x2 (defaul axes)\n",
    "fds_sys.show_potential(.5,surface=True, slice_values=slice_vals)"
   ]
  },
  {
   "cell_type": "code",
   "execution_count": null,
   "metadata": {},
   "outputs": [],
   "source": [
    "%%capture\n",
    "# again, we can animate. default axis and slice is the same as show_potential\n",
    "# mesh control the numbe of points we calcualte the potential at\n",
    "ani = fds_sys.animate_protocol(surface=True, mesh=30, axis1=2, axis2=3)\n",
    "HTML(ani.to_jshtml(fps=10))"
   ]
  },
  {
   "cell_type": "code",
   "execution_count": null,
   "metadata": {},
   "outputs": [],
   "source": [
    "ani"
   ]
  },
  {
   "cell_type": "markdown",
   "metadata": {},
   "source": [
    "# Bonus practice\n",
    "\n",
    "#### ODV is a built in potential for testing purposes, go ahead and try to apply a protocol to it to see if your familiar enough with the package"
   ]
  },
  {
   "cell_type": "code",
   "execution_count": null,
   "metadata": {},
   "outputs": [],
   "source": [
    "odv.info()"
   ]
  },
  {
   "cell_type": "code",
   "execution_count": null,
   "metadata": {},
   "outputs": [],
   "source": [
    "odv.info(verbose=True)"
   ]
  },
  {
   "cell_type": "code",
   "execution_count": null,
   "metadata": {
    "lines_to_next_cell": 0
   },
   "outputs": [],
   "source": [
    "#make a protocol\n",
    "\n",
    "#EXAMPLE:\n",
    "    #p1=[3,.1]\n",
    "    #p2=[-.5,.5]\n",
    "    #t=[0,1]\n",
    "    #odv_prot = Protocol[t, [p1,p2]] \n"
   ]
  },
  {
   "cell_type": "code",
   "execution_count": null,
   "metadata": {},
   "outputs": [],
   "source": []
  },
  {
   "cell_type": "code",
   "execution_count": null,
   "metadata": {},
   "outputs": [],
   "source": []
  },
  {
   "cell_type": "code",
   "execution_count": null,
   "metadata": {
    "lines_to_next_cell": 0
   },
   "outputs": [],
   "source": [
    "# make a system\n",
    "# EXAMPLE:\n",
    "#    odv_sys=System(odv_prot, odv)"
   ]
  },
  {
   "cell_type": "code",
   "execution_count": null,
   "metadata": {
    "lines_to_next_cell": 2
   },
   "outputs": [],
   "source": []
  },
  {
   "cell_type": "markdown",
   "metadata": {},
   "source": [
    "# Working With built-in potentials"
   ]
  },
  {
   "cell_type": "code",
   "execution_count": null,
   "metadata": {},
   "outputs": [],
   "source": [
    "#lets say we want to implement a lengthy protocol without making a bunch of proper substages. The function for that is sequentiual_protocol\n",
    "#often you want most parameters to stay the same, and only one or two change at a time. this is useful for that case, since you only define\n",
    "#the changing pieces of the protocol\n",
    "from protocol_designer.protocol import sequential_protocol"
   ]
  },
  {
   "cell_type": "code",
   "execution_count": null,
   "metadata": {
    "comment_questions": false
   },
   "outputs": [],
   "source": [
    "sequential_protocol?"
   ]
  },
  {
   "cell_type": "code",
   "execution_count": null,
   "metadata": {},
   "outputs": [],
   "source": [
    "# as an example, let's make Alec's version of the Szilard Engine. This operates on the coupled Duffing_2D potential\n",
    "from sus.library.potentials import duffing_2D\n",
    "\n",
    "#out of the 7 possible parameters in this potential, 3 of them are held fixed at the default value for\n",
    "#the potential (can be accessed with Potential.default_params, if its not defined the default will set all\n",
    "# parameters to 0)\n",
    "duffing_2D.default_params"
   ]
  },
  {
   "cell_type": "code",
   "execution_count": null,
   "metadata": {},
   "outputs": [],
   "source": [
    "# in this version of szilards engine, we keep everything fixed except for the 3rd, 4th, 6th, and 7th parameters.\n",
    "# it is a 12 step protocol, so there are 13 places we need to define the changing parameters including\n",
    "# the start point and the end point\n",
    "\n",
    "p3 = (-1, -1, -1, -1, -1, 0, 0, -1, -1, -1, -1, -1, -1)\n",
    "p4 = (-1, 0, 0, -1, -1, -1, -1, -1, -1, 0, 0, -1, -1)\n",
    "p6 = (0, 0, 0, 0, 0, 0, 0, 0, 0, 0, 1, 1, 0)\n",
    "p7 = (0, 0, -1, -1, 0, -1, -1, 0, 0, 0, 0, 0, 0)\n",
    "\n",
    "# we prepare a list of the which parameters will change, and also their values at each substage time\n",
    "which=(3,4,6,7)\n",
    "non_triv_param=(p3,p4,p6,p7)\n",
    "# there are 12 steps\n",
    "NS=12\n",
    "#and 7 parameters\n",
    "NP=7"
   ]
  },
  {
   "cell_type": "code",
   "execution_count": null,
   "metadata": {},
   "outputs": [],
   "source": [
    "#then we create the Compound Protocol (note that default_params is optional, and defaults will be 0 without it)\n",
    "szilard_prot_1 = sequential_protocol(NS, NP, which, non_triv_param, initial_params=duffing_2D.default_params )\n",
    "\n",
    "#and apply it to the duffing potential\n",
    "szil_sys=System(szilard_prot_1, duffing_2D)"
   ]
  },
  {
   "cell_type": "code",
   "execution_count": null,
   "metadata": {},
   "outputs": [],
   "source": [
    "%%capture\n",
    "ani=szil_sys.animate_protocol(frames=100, n_contours=30, surface=False, manual_domain=[[-1,-1],[1,1]])\n",
    "HTML(ani.to_jshtml(fps=9))"
   ]
  },
  {
   "cell_type": "code",
   "execution_count": null,
   "metadata": {},
   "outputs": [],
   "source": [
    "ani"
   ]
  },
  {
   "cell_type": "code",
   "execution_count": null,
   "metadata": {},
   "outputs": [],
   "source": [
    "# note that the function automatically makes NS substages of equal length between t=0 and t=1\n",
    "# if you want to customize the times, then you can pass a list of length NS+1 to define\n",
    "# the substage times:\n",
    "t_list=(0, .5, .75, 1, 1.5, 2, 2.2, 2.8, 3, 4, 5, 6, 6.3)\n",
    "szilard_prot_2 = sequential_protocol(NS, NP, which, non_triv_param, times=t_list, initial_params=duffing_2D.default_params)"
   ]
  },
  {
   "cell_type": "code",
   "execution_count": null,
   "metadata": {},
   "outputs": [],
   "source": [
    "szilard_prot_2.show_substage_times()"
   ]
  },
  {
   "cell_type": "markdown",
   "metadata": {},
   "source": [
    "# Working With Built In Systems"
   ]
  },
  {
   "cell_type": "code",
   "execution_count": null,
   "metadata": {},
   "outputs": [],
   "source": [
    "from sus.library.szilard_protocols import ew2_szilard as exp_szilard\n",
    "system=exp_szilard"
   ]
  },
  {
   "cell_type": "code",
   "execution_count": null,
   "metadata": {},
   "outputs": [],
   "source": [
    "# the above is a different implementation of szilards engine, using exponentially localized wells"
   ]
  },
  {
   "cell_type": "code",
   "execution_count": null,
   "metadata": {},
   "outputs": [],
   "source": [
    "system.potential.info(verbose=True)"
   ]
  },
  {
   "cell_type": "code",
   "execution_count": null,
   "metadata": {},
   "outputs": [],
   "source": [
    "#the default locations of the wells are at locations (-1,-1), (1,1), etc... (parameters 9-16)\n",
    "system.potential.default_params"
   ]
  },
  {
   "cell_type": "code",
   "execution_count": null,
   "metadata": {},
   "outputs": [],
   "source": [
    "# lets say we want to make them all be closer to the origin, we can edit the protocol.parameters arttribute\n",
    "# but it is a little tricky because this is a many-substage protocol,\n",
    "# so well need to edit the parameters for each substage\n",
    "\n",
    "# substages are stored in the Compound_Protocol.protocols\n",
    "\n",
    "# one way to do this is to loop through each protocol in protocols and use the change_param method"
   ]
  },
  {
   "cell_type": "code",
   "execution_count": null,
   "metadata": {},
   "outputs": [],
   "source": [
    "r=.6\n",
    "new_params= r* system.protocol.params[8:16]\n",
    "for item in system.protocol.protocols:\n",
    "    item.change_params((9,10,11,12,13,14,15,16),new_params)\n",
    "\n",
    "#if we wanted to do this in a non destructive way, we could first make a new copy\n",
    "#    new_sys = system.copy()\n",
    "#    and then operate on new_sys\n"
   ]
  },
  {
   "cell_type": "code",
   "execution_count": null,
   "metadata": {},
   "outputs": [],
   "source": [
    "%%capture\n",
    "ani=system.animate_protocol(n_contours=20, surface=True, manual_domain=[[-1,-1],[1,1]])\n",
    "HTML(ani.to_jshtml(fps=8))"
   ]
  },
  {
   "cell_type": "code",
   "execution_count": null,
   "metadata": {},
   "outputs": [],
   "source": [
    "ani"
   ]
  },
  {
   "cell_type": "code",
   "execution_count": null,
   "metadata": {
    "lines_to_next_cell": 0
   },
   "outputs": [],
   "source": [
    "#this tutorial has gotten prety long, so maybe we'll stop here."
   ]
  },
  {
   "cell_type": "code",
   "execution_count": null,
   "metadata": {},
   "outputs": [],
   "source": []
  }
 ],
 "metadata": {
  "jupytext": {
   "cell_metadata_json": true,
   "formats": "ipynb,py:light"
  },
  "kernelspec": {
   "display_name": "Python 3",
   "language": "python",
   "name": "python3"
  },
  "language_info": {
   "codemirror_mode": {
    "name": "ipython",
    "version": 3
   },
   "file_extension": ".py",
   "mimetype": "text/x-python",
   "name": "python",
   "nbconvert_exporter": "python",
   "pygments_lexer": "ipython3",
   "version": "3.8.5"
  },
  "vscode": {
   "interpreter": {
    "hash": "c48eea1d6fe0303de93a25029b75a26fa311fe2cfce1f013702fed1a8d75264d"
   }
  }
 },
 "nbformat": 4,
 "nbformat_minor": 4
}
