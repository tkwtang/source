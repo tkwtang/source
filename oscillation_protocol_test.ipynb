{
 "cells": [
  {
   "cell_type": "code",
   "execution_count": null,
   "id": "0",
   "metadata": {
    "tags": []
   },
   "outputs": [],
   "source": [
    "import numpy as np\n",
    "import importlib, os, datetime, pickle\n",
    "from sus.protocol_designer import System, Protocol, Potential, Compound_Protocol\n",
    "from sus.protocol_designer.protocol import sequential_protocol\n",
    "from IPython import display\n",
    "from IPython.display import HTML, Image\n",
    "import matplotlib.animation as animation\n",
    "from matplotlib.animation import FuncAnimation, PillowWriter\n",
    "from quick_sim import setup_sim\n",
    "\n",
    "# import edward_tools.fq_runner as fq_runner\n",
    "from edward_tools.simple_1D_potential import simple_1D_potential, simple_1D_force\n",
    "from edward_tools.visualization import animate_sim_flux_qubit, plotFidelityBarChart, separate_by_state_2\n",
    "from NAND_PARAMETERS import *\n",
    "import importlib\n",
    "import kyle_tools as kt\n",
    "import matplotlib.pyplot as plt\n",
    "\n",
    "from edward_tools import coupled_fq_protocol_library\n",
    "\n",
    "import edward_tools.cfq_batch_sweep as cfq_batch_sweep\n",
    "import edward_tools.Analysis_tool.general_analysis_tools as general_analysis_tool\n",
    "import edward_tools.Analysis_tool.minimum_value_of_potential as minimum_value_of_potential\n",
    "from edward_tools.couple_flux_qubit_metrics import fidelityEvaluation\n",
    "from edward_tools import visualization\n",
    "from edward_tools.potential_runner_1D import simRunner\n",
    "\n",
    "create_system = coupled_fq_protocol_library.create_system\n",
    "get_potential_shot_at_different_t = coupled_fq_protocol_library.get_potential_shot_at_different_t\n",
    "get_potential_shot_at_different_t_1D = coupled_fq_protocol_library.get_potential_shot_at_different_t_1D\n",
    "create_simple_protocol_parameter_dict = coupled_fq_protocol_library.create_simple_protocol_parameter_dict\n",
    "create_system = coupled_fq_protocol_library.create_system\n",
    "get_potential_along_a_1D_cutline = coupled_fq_protocol_library.get_potential_along_a_1D_cutline\n",
    "plotCutlines = coupled_fq_protocol_library.plotCutlines"
   ]
  },
  {
   "cell_type": "code",
   "execution_count": null,
   "id": "1",
   "metadata": {},
   "outputs": [],
   "source": [
    "# parameter settings"
   ]
  },
  {
   "cell_type": "code",
   "execution_count": null,
   "id": "2",
   "metadata": {},
   "outputs": [],
   "source": [
    "has_velocity = True\n",
    "\n",
    "PHI_0 = 2.067833848 * 1e-15\n",
    "k_B = 1.38e-23\n",
    "T = 0.5\n",
    "k_BT = k_B * T\n",
    "\n",
    "C_factor = 1\n",
    "L_factor = 1\n",
    "R_factor = 1\n",
    "I_m_factor = 0\n",
    "time_scale = 1.0\n",
    "\n",
    "I_p_1, I_p_2 = 5e-6 , 5e-6  # Amp\n",
    "I_m_1, I_m_2 = 7e-9 * I_m_factor, 7e-9 * I_m_factor                           # Amp\n",
    "R_1, R_2 = 1 * R_factor, 1 * R_factor                                         # ohm\n",
    "C_1, C_2 = 500e-15 * C_factor, 500e-15 * C_factor                             # F\n",
    "L_1, L_2 = 140e-12 * L_factor, 140e-12 * L_factor                             # H \n",
    "freq = 1/np.sqrt(C_1 * L_1)\n",
    "characteristic_time = np.sqrt(C_1 * C_factor * L_1 * L_factor)"
   ]
  },
  {
   "cell_type": "code",
   "execution_count": null,
   "id": "3",
   "metadata": {},
   "outputs": [],
   "source": [
    "m_c, m_1, m_2 = C_1, C_1, C_2\n",
    "x_c = PHI_0 / (2 * np.pi)\n",
    "time_scale_factor = 1\n",
    "t_c = np.sqrt(L_1 * C_1)\n",
    "v_c = x_c / t_c\n",
    "\n",
    "\n",
    "U0_1 = m_c * x_c**2 / t_c**2 / k_BT\n",
    "kappa_1 = 1/U0_1\n",
    "\n",
    "lambda_1 = 2 * np.sqrt(L_1 * C_1) / (C_1 * R_1)\n",
    "theta_1  = 1\n",
    "eta_1    = np.sqrt(np.sqrt(L_1 * C_1)/ (R_1 * C_1)) * np.sqrt(2 * kappa_1 / 1**2)\n",
    "\n",
    "_lambda = lambda_1\n",
    "_theta  = theta_1\n",
    "_eta    = eta_1\n",
    "v_1 = np.random.normal(0, np.sqrt(k_BT/m_1)) / v_c"
   ]
  },
  {
   "cell_type": "code",
   "execution_count": null,
   "id": "4",
   "metadata": {},
   "outputs": [],
   "source": [
    "init_state_used = None\n",
    "phi_1_dcx, phi_2_dcx = 0, 0\n",
    "has_velocity = True\n",
    "saveAllStates = False\n",
    "\n",
    "params = {}\n",
    "params['N'] = 10\n",
    "params['dt'] = 1/100\n",
    "params['lambda'] = 1\n",
    "params['beta'] = 1\n",
    "params['sim_params'] = [_lambda, _theta, _eta]\n",
    "params['target_work'] = None\n",
    "params['applyOffset'] = False\n",
    "params['measureWorkWithOffset'] = False\n",
    "params['monitor_work_dist_in_whole_process'] = True # To monitor the work process\n",
    "params['comment'] = \"test\"\n",
    "params['capacitance'] = C_1\n",
    "params['mass'] = 1\n",
    "params['v_c'] = x_c/t_c\n",
    "params['k_BT'] = k_BT\n",
    "params['U0'] = U0_1\n",
    "params['as_step'] = np.s_[::10] # the time step to skep for the all_state\n",
    "params['percentage'] = 1 # For what percentage of the total sample do you want to keep in the output all_state"
   ]
  },
  {
   "cell_type": "code",
   "execution_count": null,
   "id": "5",
   "metadata": {},
   "outputs": [],
   "source": []
  },
  {
   "cell_type": "code",
   "execution_count": null,
   "id": "6",
   "metadata": {},
   "outputs": [],
   "source": []
  },
  {
   "cell_type": "code",
   "execution_count": null,
   "id": "7",
   "metadata": {},
   "outputs": [],
   "source": [
    "import numpy as np\n",
    "init_state = np.array([0.5, 1])"
   ]
  },
  {
   "cell_type": "code",
   "execution_count": null,
   "id": "8",
   "metadata": {},
   "outputs": [],
   "source": [
    "def linear_interpolation(y_i, y_f, t_i, t_f):\n",
    "    def func(t):\n",
    "        return (y_f - y_i) / (t_f - t_i) * t + y_i\n",
    "    return func"
   ]
  },
  {
   "cell_type": "code",
   "execution_count": null,
   "id": "9",
   "metadata": {},
   "outputs": [],
   "source": [
    "def get_params(protocol_list, interpolation_method, t):\n",
    "    protocol_list_np_array = np.array(list(protocol_list.values()))\n",
    "    protocol_key = np.array(list(protocol_list.keys()))\n",
    "    time_array = protocol_list_np_array[0]\n",
    "    parameter_array = protocol_list_np_array[1:]\n",
    "    index_i = np.sum(time_array < t) - 1\n",
    "    index_f = index_i + 1\n",
    "    t_i, t_f = time_array[index_i], time_array[index_f]\n",
    "    # print(index_i, index_f, t_i, t_f)\n",
    "    interpolate_value = interpolation_method(parameter_array[:, index_i], parameter_array[:, index_f], 0, t_f - t_i)(t - t_i)\n",
    "    return interpolate_value"
   ]
  },
  {
   "cell_type": "code",
   "execution_count": null,
   "id": "10",
   "metadata": {},
   "outputs": [],
   "source": [
    "get_params(protocol_list, linear_interpolation, 0)"
   ]
  },
  {
   "cell_type": "code",
   "execution_count": null,
   "id": "11",
   "metadata": {},
   "outputs": [],
   "source": [
    "def simple_1D_potential(x, params):\n",
    "    m, c = params\n",
    "    return 1/2 * m * x**2\n",
    "\n",
    "def simple_1D_force(x, params):\n",
    "    m, c = params\n",
    "    return - m * x\n",
    "\n",
    "def simple_line_potential(x, params):\n",
    "    m, c = params\n",
    "    return m * x + c\n",
    "\n",
    "def simple_line_force(x, params):\n",
    "    m, c = params\n",
    "    return -m\n",
    "\n",
    "def cubic_potential(x, params):\n",
    "    m, c = params\n",
    "    return m * (x - c)**5\n",
    "\n",
    "def cubic_force(x, params):\n",
    "    m, c = params\n",
    "    return - 5 * m * (x - c)**4\n",
    "\n",
    "\n",
    "def qfp_potential(phi_1, params):\n",
    "    beta, gamma, phi_1x, phi_2x, phi_1xdc, phi_2xdc, mu_12 = params \n",
    "    u_1 = 1/2 * (phi_1 - phi_1x)**2 + beta * np.cos(phi_1) * np.cos(phi_1xdc/2)\n",
    "    u_12 = mu_12 * (phi_1 - phi_1x) * (2 - phi_2x)\n",
    "    return u_1 + u_12\n",
    "\n",
    "def qfp_force(phi_1, params):\n",
    "    beta, gamma, phi_1x, phi_2x, phi_1xdc, phi_2xdc, mu_12 = params \n",
    "    du_1 = (phi_1 - phi_1x)**2 - beta * np.sin(phi_1) * np.cos(phi_1xdc/2)\n",
    "    du_12 = mu_12 * (2 - phi_2x)\n",
    "    return -(du_1 + du_12)\n",
    "    \n",
    "def get_KE(state):\n",
    "    x = state[..., 0]\n",
    "    v = state[..., 1]\n",
    "    return 1/2 * v**2"
   ]
  },
  {
   "cell_type": "code",
   "execution_count": null,
   "id": "12",
   "metadata": {},
   "outputs": [],
   "source": [
    "def updateMethod(langevinUnderdamped_object):\n",
    "    def get_determ_dsdt(state, time):\n",
    "        theta = langevinUnderdamped_object['theta']\n",
    "        gamma = langevinUnderdamped_object['gamma']\n",
    "        get_external_force = langevinUnderdamped_object['get_external_force']\n",
    "        params_at_t = get_params(langevinUnderdamped_object['protocol_list'], langevinUnderdamped_object['interpolation_method'], time)\n",
    "\n",
    "        position = state[..., 0]\n",
    "        velocity = state[..., 1]\n",
    "        \n",
    "        determ_dxdt = velocity\n",
    "        determ_dvdt = theta * get_external_force(position, params_at_t) - gamma * velocity\n",
    "        determ_dsdt = np.empty(state.shape)\n",
    "        determ_dsdt[..., 0] = determ_dxdt\n",
    "        determ_dsdt[..., 1] = determ_dvdt\n",
    "\n",
    "        return determ_dsdt\n",
    "\n",
    "\n",
    "    def get_stoch_dsdt(self, state, time, rng):\n",
    "\n",
    "        eta = self.eta\n",
    "\n",
    "        # want random numbers for only the velocity values\n",
    "        vel_rng_shape = state.shape[:-1]\n",
    "\n",
    "        stoch_dxdt = 0\n",
    "        stoch_dvdt = eta * sqrt(2) * rng.normal(size=vel_rng_shape)\n",
    "\n",
    "        stoch_dsdt = empty(state.shape)\n",
    "        stoch_dsdt[..., 0] = stoch_dxdt\n",
    "        stoch_dsdt[..., 1] = stoch_dvdt\n",
    "\n",
    "        return stoch_dsdt\n",
    "\n",
    "\n",
    "    def update_state(self, state, time, dt):\n",
    "        # get_determ_dsdt = self.get_determ_dsdt\n",
    "        # get_stoch_dsdt = self.get_stoch_dsdt\n",
    "        # rng = self.rng\n",
    "        k1 = get_determ_dsdt(state,               time)\n",
    "        k2 = get_determ_dsdt(state + k1 * dt / 2, time + dt / 2)\n",
    "        k3 = get_determ_dsdt(state + k2 * dt / 2, time + dt / 2)\n",
    "        k4 = get_determ_dsdt(state + k3 * dt,     time + dt)\n",
    "\n",
    "        ds_determ = dt / 6 * (k1 + 2 * k2 + 2 * k3 + k4)\n",
    "\n",
    "        ds_stoch = 0\n",
    "        # ds_stoch = get_stoch_dsdt(state, time, rng) * sqrt(dt)\n",
    "\n",
    "        next_state = state + ds_determ + ds_stoch\n",
    "\n",
    "        return next_state\n",
    "    \n",
    "    return get_determ_dsdt, get_stoch_dsdt, update_state"
   ]
  },
  {
   "cell_type": "code",
   "execution_count": null,
   "id": "13",
   "metadata": {},
   "outputs": [],
   "source": []
  },
  {
   "cell_type": "code",
   "execution_count": null,
   "id": "14",
   "metadata": {},
   "outputs": [],
   "source": []
  },
  {
   "cell_type": "code",
   "execution_count": null,
   "id": "15",
   "metadata": {},
   "outputs": [],
   "source": []
  },
  {
   "cell_type": "code",
   "execution_count": null,
   "id": "16",
   "metadata": {},
   "outputs": [],
   "source": [
    "t =  np.linspace(0, 10, 101),\n",
    "m = np.array([1, -1] * 25 + [1, -0.8] * 26 )[0:101],\n",
    "c = [0] * 50 + [-1] * 51"
   ]
  },
  {
   "cell_type": "markdown",
   "id": "17",
   "metadata": {},
   "source": [
    "# protocol"
   ]
  },
  {
   "cell_type": "code",
   "execution_count": null,
   "id": "18",
   "metadata": {},
   "outputs": [],
   "source": [
    "weird_m = np.empty(101)"
   ]
  },
  {
   "cell_type": "code",
   "execution_count": null,
   "id": "19",
   "metadata": {},
   "outputs": [],
   "source": [
    "scale_array = np.linspace(1, 1.5, 25)"
   ]
  },
  {
   "cell_type": "code",
   "execution_count": null,
   "id": "20",
   "metadata": {},
   "outputs": [],
   "source": [
    "scale_array"
   ]
  },
  {
   "cell_type": "code",
   "execution_count": null,
   "id": "21",
   "metadata": {},
   "outputs": [],
   "source": []
  },
  {
   "cell_type": "code",
   "execution_count": null,
   "id": "22",
   "metadata": {},
   "outputs": [],
   "source": [
    "weird_m = np.array([1, -1] * 25 + [-2] + [1, -1] * 25)[0:101]"
   ]
  },
  {
   "cell_type": "code",
   "execution_count": null,
   "id": "23",
   "metadata": {},
   "outputs": [],
   "source": [
    "protocol_list"
   ]
  },
  {
   "cell_type": "code",
   "execution_count": null,
   "id": "24",
   "metadata": {},
   "outputs": [],
   "source": [
    "protocol_list = {\n",
    "    \"t\": np.array([0, 2, 5]),\n",
    "    \"m\": np.array([1, 2, 3]),\n",
    "    \"c\": np.array([0, 0, 0])\n",
    "}\n",
    "\n",
    "protocol_list = {\n",
    "    \"t\": np.linspace(0, 5, 101),\n",
    "    \"m\":  weird_m,\n",
    "    \"c\": np.array([-0.5] * 50 + [-0.5] * 51)\n",
    "}\n",
    "\n",
    "protocol_list = {\n",
    "    \"t\": np.linspace(0, 10, 11),\n",
    "    \"beta\": np.full(11, 2.3),\n",
    "    \"gamma\": np.full(11, 10),\n",
    "    \"phi_1x\": np.linspace(0, 0.61, 11),\n",
    "    \"phi_2x\": np.linspace(0, 0.1, 11),\n",
    "    \"phi_1xdc\": np.linspace(0, 1.79, 11),\n",
    "    \"phi_2xdc\": np.full(11, 0),\n",
    "    \"mu_12\": np.linspace(0, 0.06, 11)\n",
    "}"
   ]
  },
  {
   "cell_type": "code",
   "execution_count": null,
   "id": "25",
   "metadata": {},
   "outputs": [],
   "source": []
  },
  {
   "cell_type": "code",
   "execution_count": null,
   "id": "26",
   "metadata": {},
   "outputs": [],
   "source": [
    "potential_used = qfp_potential\n",
    "force_used = qfp_force\n",
    "langevinUnderdamped_object = { \n",
    "    \"theta\": 1, \"gamma\": 0, \"lambda\": 0,\n",
    "    \"get_potential\":        potential_used,\n",
    "    \"get_external_force\":   force_used,\n",
    "    \"protocol_list\":        protocol_list,\n",
    "    \"interpolation_method\": linear_interpolation\n",
    "}"
   ]
  },
  {
   "cell_type": "code",
   "execution_count": null,
   "id": "27",
   "metadata": {
    "tags": []
   },
   "outputs": [],
   "source": [
    "get_determ_dsdt, get_stoch_dsdt, update_state = updateMethod(langevinUnderdamped_object)"
   ]
  },
  {
   "cell_type": "code",
   "execution_count": null,
   "id": "28",
   "metadata": {},
   "outputs": [],
   "source": []
  },
  {
   "cell_type": "code",
   "execution_count": null,
   "id": "29",
   "metadata": {},
   "outputs": [],
   "source": [
    "# init_state = np.array([[1, -0.2], [-1, 0.2]])\n",
    "t_total = protocol_list['t'][-1]\n",
    "N_particle = 100\n",
    "N_step = int(t_total / dt)\n",
    "dt = 0.01\n",
    "current_step  = 0\n",
    "current_time = 0\n",
    "\n",
    "\n",
    "\"\"\"generate initial state\"\"\"\n",
    "init_state = np.empty([N_particle, 2])\n",
    "# particle_00 \n",
    "init_state[0:int(N_particle/2), 0] = np.random.normal(2, 0.1, int(N_particle/2))\n",
    "init_state[0:int(N_particle/2), 1] = np.random.normal(0, 0.1, int(N_particle/2))\n",
    "\n",
    "# particle_01 \n",
    "init_state[int(N_particle/2):, 0] = np.random.normal(-2, 0.1, int(N_particle/2))\n",
    "init_state[int(N_particle/2):, 1] = np.random.normal(0, 0.1, int(N_particle/2))\n",
    "\n",
    "particle_index_00 = init_state[..., 0] < 0\n",
    "particle_index_01 = init_state[..., 0] > 0\n",
    "\n",
    "\"\"\"set_up variables to store datas at all the states\"\"\"\n",
    "current_state = np.empty(init_state.shape)\n",
    "\n",
    "all_states = np.zeros([N_step + 1, init_state.shape[0], init_state.shape[1]])\n",
    "all_time = np.zeros(N_step + 1)\n",
    "all_potential = np.zeros([N_step + 1, init_state.shape[0]])\n",
    "work_done = np.zeros([N_step, init_state.shape[0]])\n",
    "\n",
    "params_t_0 = get_params(protocol_list, linear_interpolation, 0)\n",
    "\n",
    "all_time[0] = current_time\n",
    "all_states[0, ...] = init_state\n",
    "all_potential[0, ...] = potential_used(init_state[..., 0], params_t_0)"
   ]
  },
  {
   "cell_type": "code",
   "execution_count": null,
   "id": "30",
   "metadata": {},
   "outputs": [],
   "source": []
  },
  {
   "cell_type": "code",
   "execution_count": null,
   "id": "31",
   "metadata": {
    "tags": []
   },
   "outputs": [],
   "source": [
    "for _ in range(0, N_step-1):\n",
    "    current_time += dt\n",
    "    current_step += 1\n",
    "\n",
    "    current_params = get_params(protocol_list, linear_interpolation, current_time)\n",
    "\n",
    "    # calculate potential of the previous state at the current time to get the work done\n",
    "    all_potential[current_step] = potential_used(all_states[current_step-1][..., 0], current_params)\n",
    "    \n",
    "    # update time and states\n",
    "    all_time[current_step] = current_time\n",
    "    all_states[current_step, ...] = update_state(langevinUnderdamped_object, all_states[current_step-1], current_time, dt)"
   ]
  },
  {
   "cell_type": "code",
   "execution_count": null,
   "id": "32",
   "metadata": {},
   "outputs": [],
   "source": [
    "# print(all_time[:current_step+1])\n",
    "# print(all_states[:current_step+1, ...])"
   ]
  },
  {
   "cell_type": "code",
   "execution_count": null,
   "id": "33",
   "metadata": {},
   "outputs": [],
   "source": [
    "import matplotlib.pyplot as plt\n",
    "plt.scatter(all_states[:current_step+1, :, 0], all_potential[:current_step+1])"
   ]
  },
  {
   "cell_type": "code",
   "execution_count": null,
   "id": "34",
   "metadata": {},
   "outputs": [],
   "source": [
    "from matplotlib.animation import FuncAnimation, PillowWriter"
   ]
  },
  {
   "cell_type": "code",
   "execution_count": null,
   "id": "35",
   "metadata": {},
   "outputs": [],
   "source": [
    "potential_used"
   ]
  },
  {
   "cell_type": "code",
   "execution_count": null,
   "id": "36",
   "metadata": {},
   "outputs": [],
   "source": [
    "plt.plot(get_KE(all_states))\n",
    "plt.show()"
   ]
  },
  {
   "cell_type": "code",
   "execution_count": null,
   "id": "37",
   "metadata": {},
   "outputs": [],
   "source": [
    "frame_skip = 10\n",
    "selected_all_states = all_states[::frame_skip, ...]\n",
    "selected_time = all_time[::frame_skip]\n",
    "\n",
    "x_array = np.linspace(-2, 2, 100)\n",
    "potential_at_0 = potential_used(x, params_t_0)\n",
    "fig, ax = plt.subplots(1, 1, figsize = [10, 5])\n",
    "potential_plot = ax.plot(x, potential_at_0)[0]\n",
    "# scatter_plot = plt.scatter(init_state[..., 0], all_potential[0, ...])\n",
    "scatter_plot_00 = plt.scatter(init_state[particle_index_00, 0], all_potential[0, particle_index_00], color = \"red\")\n",
    "scatter_plot_01 = plt.scatter(init_state[particle_index_01, 0], all_potential[0, particle_index_01], color = \"blue\")\n",
    "\n",
    "\n",
    "def animate(i):\n",
    "    current_t = selected_time[i]\n",
    "    current_state = selected_all_states[i]\n",
    "    current_params = get_params(protocol_list, linear_interpolation, current_t)\n",
    "    \n",
    "    ax.set_title(f\"t = {current_t:.3g}\")\n",
    "    \n",
    "    potential_at_t = potential_used(x, current_params)\n",
    "    particle_potential_at_t = potential_used(current_state[..., 0], current_params)\n",
    "    \n",
    "    # scatter_plot.set_offsets(np.c_[current_state[..., 0], particle_potential_at_t])\n",
    "    scatter_plot_00.set_offsets(np.c_[current_state[particle_index_00, 0], particle_potential_at_t[particle_index_00]])\n",
    "    scatter_plot_01.set_offsets(np.c_[current_state[particle_index_01, 0], particle_potential_at_t[particle_index_01]])\n",
    "    \n",
    "    potential_plot.set_ydata(potential_at_t)\n",
    "    \n",
    "    \n",
    "ani = FuncAnimation(fig, animate, interval=100, frames=len(selected_time))\n",
    "writer = PillowWriter(fps=10, metadata=dict(artist='Me'), bitrate=1800)\n",
    "ani.save('scatter.gif', writer=writer)\n",
    "plt.close()"
   ]
  },
  {
   "cell_type": "code",
   "execution_count": null,
   "id": "38",
   "metadata": {},
   "outputs": [],
   "source": [
    "from IPython.display import HTML, Image\n",
    "Image(filename=\"scatter.gif\")"
   ]
  },
  {
   "cell_type": "code",
   "execution_count": null,
   "id": "39",
   "metadata": {},
   "outputs": [],
   "source": [
    "# work_analysis"
   ]
  },
  {
   "cell_type": "code",
   "execution_count": null,
   "id": "40",
   "metadata": {},
   "outputs": [],
   "source": []
  }
 ],
 "metadata": {
  "kernelspec": {
   "display_name": "Python 3 (ipykernel)",
   "language": "python",
   "name": "python3"
  },
  "language_info": {
   "codemirror_mode": {
    "name": "ipython",
    "version": 3
   },
   "file_extension": ".py",
   "mimetype": "text/x-python",
   "name": "python",
   "nbconvert_exporter": "python",
   "pygments_lexer": "ipython3",
   "version": "3.12.9"
  }
 },
 "nbformat": 4,
 "nbformat_minor": 5
}
