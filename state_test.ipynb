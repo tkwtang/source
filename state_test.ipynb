{
 "cells": [
  {
   "cell_type": "code",
   "execution_count": null,
   "id": "0",
   "metadata": {
    "tags": []
   },
   "outputs": [],
   "source": [
    "import numpy as np\n",
    "import importlib, os, datetime\n",
    "from sus.protocol_designer import System, Protocol, Potential, Compound_Protocol\n",
    "from sus.protocol_designer.protocol import sequential_protocol\n",
    "from IPython import display\n",
    "from IPython.display import HTML, Image\n",
    "import matplotlib.animation as animation\n",
    "\n",
    "\n",
    "from quick_sim import setup_sim\n",
    "\n",
    "\n",
    "\n",
    "\n",
    "# import edward_tools.fq_runner as fq_runner\n",
    "from edward_tools.coupled_fq_potential import coupled_flux_qubit_non_linear_approx_pot, coupled_flux_qubit_non_linear_approx_force, coupled_flux_qubit_non_linear_approx_pot_break_down\n",
    "from edward_tools.visualization import animate_sim_flux_qubit, plotFidelityBarChart, separate_by_state_2\n",
    "from edward_tools.initial_state_sampling import extra_constraint_00_and_11_only\n",
    "from NAND_PARAMETERS import *\n",
    "import importlib\n",
    "\n",
    "import kyle_tools as kt\n",
    "import matplotlib.pyplot as plt\n",
    "\n",
    "\n",
    "from edward_tools import coupled_fq_protocol_library, cfq_runner\n",
    "from edward_tools import coupled_fq_protocol_library\n",
    "\n",
    "import edward_tools.cfq_batch_sweep as cfq_batch_sweep\n",
    "import edward_tools.Analysis_tool.general_analysis_tools as general_analysis_tool\n",
    "# from edward_tools.Analysis_tool.general_analysis_tools import show_phi_dc_with_time\n",
    "import edward_tools.Analysis_tool.minimum_value_of_potential as minimum_value_of_potential\n",
    "from edward_tools.couple_flux_qubit_metrics import fidelityEvaluation\n",
    "\n",
    "\n",
    "coupled_fq_protocol_library = importlib.reload(coupled_fq_protocol_library)\n",
    "create_system = coupled_fq_protocol_library.create_system\n",
    "get_potential_shot_at_different_t = coupled_fq_protocol_library.get_potential_shot_at_different_t\n",
    "get_potential_shot_at_different_t_1D = coupled_fq_protocol_library.get_potential_shot_at_different_t_1D\n",
    "create_simple_protocol_parameter_dict = coupled_fq_protocol_library.create_simple_protocol_parameter_dict\n",
    "coupled_fq_runner = importlib.reload(cfq_runner)\n",
    "coupled_fq_protocol_library = importlib.reload(coupled_fq_protocol_library)\n",
    "create_system = coupled_fq_protocol_library.create_system\n",
    "get_potential_along_a_1D_cutline = coupled_fq_protocol_library.get_potential_along_a_1D_cutline\n",
    "plotCutlines = coupled_fq_protocol_library.plotCutlines"
   ]
  },
  {
   "cell_type": "markdown",
   "id": "1",
   "metadata": {
    "tags": []
   },
   "source": [
    "# parameters"
   ]
  },
  {
   "cell_type": "code",
   "execution_count": null,
   "id": "2",
   "metadata": {
    "tags": []
   },
   "outputs": [],
   "source": [
    "has_velocity = True\n",
    "\n",
    "PHI_0 = 2.067833848 * 1e-15\n",
    "k_B = 1.38e-23\n",
    "T = 0.1\n",
    "k_BT = k_B * T\n",
    "\n",
    "C_factor = 1\n",
    "L_factor = 1\n",
    "R_factor = 1\n",
    "# I_m_factor = 50\n",
    "# I_m_factor = 15\n",
    "I_m_factor = 0\n",
    "time_scale = 1.0\n",
    "\n",
    "\n",
    "I_p_1, I_p_2 = 5e-6 , 5e-6  # Amp\n",
    "I_m_1, I_m_2 = 7e-9 * I_m_factor, 7e-9 * I_m_factor                           # Amp\n",
    "R_1, R_2 = 1 * R_factor, 1 * R_factor                                         # ohm\n",
    "C_1, C_2 = 500e-15 * C_factor, 500e-15 * C_factor                             # F\n",
    "L_1, L_2 = 140e-12 * L_factor, 140e-12 * L_factor                             # H \n",
    "\n",
    "\n",
    "m_c = C_1\n",
    "m_1 = C_1\n",
    "m_2 = C_2\n",
    "x_c = PHI_0 / (2 * np.pi)\n",
    "time_scale_factor = 1\n",
    "t_c = np.sqrt(L_1 * C_1)\n",
    "v_c = x_c / t_c\n",
    "\n",
    "\n",
    "U0_1 = m_c * x_c**2 / t_c**2 / k_BT\n",
    "U0_2 = m_2 * x_c**2 / t_c**2 / k_BT\n",
    "kappa_1, kappa_2, kappa_3, kappa_4 = 1/U0_1, 1/U0_1, 1/U0_1, 1/U0_1\n",
    "\n",
    "lambda_1 = 2 * np.sqrt(L_1 * C_1) / (C_1 * R_1)\n",
    "theta_1  = 1\n",
    "eta_1    = np.sqrt(np.sqrt(L_1 * C_1)/ (R_1 * C_1)) * np.sqrt(2 * kappa_1 / 1**2)\n",
    "\n",
    "lambda_2 = 2 * np.sqrt(L_1 * C_1) / (C_2 * R_2)\n",
    "theta_2  = 1 / (C_2/C_1)\n",
    "eta_2    = np.sqrt(np.sqrt(L_1 * C_1)/ (R_1 * C_1)) * np.sqrt(2 * kappa_2 * (R_1 * C_1**2) / (R_2 * C_2**2))\n",
    "\n",
    "lambda_3 = 2 * np.sqrt(L_1 * C_1) / (C_1 * R_1)\n",
    "theta_3  = 4\n",
    "eta_3    = np.sqrt(np.sqrt(L_1 * C_1)/ (R_1 * C_1)) * np.sqrt(8 * kappa_3)\n",
    "\n",
    "lambda_4 = 2 * np.sqrt(L_1 * C_1) / (C_2 * R_2)\n",
    "theta_4  = 4 / (C_2/C_1)\n",
    "eta_4    = np.sqrt(np.sqrt(L_1 * C_1)/ (R_1 * C_1)) * np.sqrt(8 * kappa_4 * (R_1 * C_1**2) / (R_2 * C_2**2))\n",
    "\n",
    "gamma = 10\n",
    "\n",
    "\n",
    "beta_1 = 2 * np.pi * L_1 * I_p_1 / PHI_0; \n",
    "beta_2 = 2 * np.pi * L_2 * I_p_2 / PHI_0;\n",
    "\n",
    "d_beta_1 = 2 * np.pi * L_1 * I_m_1 / PHI_0; \n",
    "d_beta_2 = 2 * np.pi * L_2 * I_m_2 / PHI_0;\n",
    "\n",
    "\n",
    "_lambda = np.array([lambda_1, lambda_2, lambda_3, lambda_4])\n",
    "_theta  = np.array([theta_1, theta_2, theta_3, theta_4])\n",
    "_eta  =   np.array([eta_1, eta_2, eta_3, eta_4])"
   ]
  },
  {
   "cell_type": "code",
   "execution_count": null,
   "id": "3",
   "metadata": {
    "tags": []
   },
   "outputs": [],
   "source": [
    "v_1 = np.random.normal(0, np.sqrt(k_BT/m_1)) / v_c\n",
    "v_2 = np.random.normal(0, np.sqrt(k_BT/m_2)) / v_c\n",
    "v_3 = np.random.normal(0, np.sqrt(k_BT/(m_1/4))) / v_c\n",
    "v_4 = np.random.normal(0, np.sqrt(k_BT/(m_2/4))) / v_c"
   ]
  },
  {
   "cell_type": "code",
   "execution_count": null,
   "id": "4",
   "metadata": {},
   "outputs": [],
   "source": [
    "_lambda, _theta, _eta"
   ]
  },
  {
   "cell_type": "markdown",
   "id": "5",
   "metadata": {},
   "source": [
    "### parameter setting"
   ]
  },
  {
   "cell_type": "code",
   "execution_count": null,
   "id": "6",
   "metadata": {
    "tags": []
   },
   "outputs": [],
   "source": [
    "\"\"\"\n",
    "# step 0: modify parameters\n",
    "- All the parameters are stored in a separate file PARAMETER_INPUT\n",
    "- You can override some of the parameters here.\n",
    "\"\"\"\n",
    "params = {}\n",
    "params['N'] = 1000\n",
    "params['dt'] = 1/100\n",
    "params['lambda'] = 1\n",
    "params['beta'] = 1\n",
    "params['sim_params'] = [_lambda, _theta, _eta]\n",
    "params['target_work'] = None\n",
    "params['comment'] = \"Experiment 8 (2024/3/17): 4 well, with no compensation for asym, 1/5000\"\n",
    "params['capacitance'] = [C_1, C_2, C_1/4, C_2/4]\n",
    "params['mass_special'] = [1, 1, 1/4, 1/4]\n",
    "params['v_c'] = x_c/t_c\n",
    "params['k_BT'] = k_BT\n",
    "params['U0'] = U0_1\n"
   ]
  },
  {
   "cell_type": "code",
   "execution_count": null,
   "id": "7",
   "metadata": {},
   "outputs": [],
   "source": [
    "C_1"
   ]
  },
  {
   "cell_type": "code",
   "execution_count": null,
   "id": "8",
   "metadata": {},
   "outputs": [],
   "source": [
    "\"\"\"\n",
    "# step 2: Define initial condition and protocol\n",
    "\"\"\"\n",
    "manual_domain=[np.array([-5, -5]), np.array([5, 5])]\n",
    "\n",
    "\n",
    "\n",
    "# µ = 0.06, φ2xdc = 1.79, φ1x = 0.59, and φ2x = 0.10.\n",
    "    \n",
    "initial_parameter_dict = {\n",
    "        \"U0_1\": U0_1,     \"U0_2\": U0_2,     \"gamma_1\": gamma,  \"gamma_2\": gamma,\n",
    "        \"beta_1\": beta_1,   \"beta_2\": beta_2,   \"d_beta_1\": d_beta_1 ,   \"d_beta_2\": d_beta_2,\n",
    "        \"phi_1_x\": phi_1_x_off,  \"phi_2_x\": phi_2_x_off,  \"phi_1_dcx\": phi_1_dcx_off,  \"phi_2_dcx\": phi_1_dcx_off,\n",
    "        \"M_12\": M_12_off, 'x_c': x_c\n",
    "}\n"
   ]
  },
  {
   "cell_type": "code",
   "execution_count": null,
   "id": "9",
   "metadata": {
    "tags": []
   },
   "outputs": [],
   "source": [
    "\"\"\"\n",
    "# step 1: Define potential\n",
    "\"\"\"\n",
    "coupled_fq_default_param = [1, 1, 0, 0, 0, 0, 0, 0, 0, 0, 0, 0, 0, x_c]\n",
    "[phi_1_bound, phi_2_bound, phi_1dc_bound, phi_2dc_bound] = np.array([4, 4, 4, 4])/time_scale_factor\n",
    "contour_range = [300, 2000]\n",
    "    \n",
    "coupled_fq_domain = [[-phi_1_bound, -phi_2_bound, -phi_1dc_bound, -phi_2dc_bound], \\\n",
    "                     [phi_1_bound, phi_2_bound, phi_1dc_bound, phi_2dc_bound]]\n",
    "\n",
    "# coupled_fq_pot = Potential(coupled_flux_qubit_pot_with_offset_at_00_xy, coupled_flux_qubit_force, 14, 4,\\\n",
    "#                            default_params = coupled_fq_default_param,  relevant_domain = coupled_fq_domain)\n",
    "\n",
    "coupled_fq_pot = Potential(coupled_flux_qubit_non_linear_approx_pot, coupled_flux_qubit_non_linear_approx_force, 14, 4,\\\n",
    "                           default_params = initial_parameter_dict,  relevant_domain = coupled_fq_domain)"
   ]
  },
  {
   "cell_type": "markdown",
   "id": "10",
   "metadata": {},
   "source": [
    "### protocol setting"
   ]
  },
  {
   "cell_type": "code",
   "execution_count": null,
   "id": "11",
   "metadata": {
    "tags": []
   },
   "outputs": [],
   "source": [
    "zeroDissipation = False\n",
    "zeroDissipation = True\n",
    "saveAllStates = True\n",
    "params['sim_params'] = [_lambda, _theta, _eta]\n",
    "if zeroDissipation:\n",
    "    params['sim_params'] = [_lambda * 0, _theta, _eta * 0]\n",
    "\n",
    "params['circuit_parameters'] = {\n",
    "    \"C_factor\":C_factor, \"L_factor\": L_factor, \"I_m_factor\": I_m_factor, \"T\": T, \n",
    "    \"I_p_1\": I_p_1, \"I_p_2\": I_p_2, \"I_m_1\": I_m_1, \"I_m_2\": I_m_2,\n",
    "    \"R_1\": R_1, \"R_2\": R_2, \"C_1\": C_1, \"C_2\": C_2, \"L_1\": L_1, \"L_2\": L_2, \n",
    "    \"phi_1_x_on\": phi_1_x_on_12, \"phi_2_x_on\": phi_1_x_on_12,\n",
    "    \"phi_1_dcx_on\": phi_1_dcx_on_12, \"phi_2_dcx_on\": phi_2_dcx_on_12, \"M_12_on\": M_12_on,\n",
    "    \"gamma\": gamma\n",
    "}\n",
    "\n",
    "\n",
    "# bookmark\n",
    "initial_parameter_dict[\"phi_1_dcx\"], initial_parameter_dict[\"phi_2_dcx\"], initial_parameter_dict[\"M_12\"] = \\\n",
    "phi_1_dcx_off, phi_2_dcx_off, M_12_off\n",
    "\n",
    "m_12_factor = 1\n",
    "CE_1_a = {\n",
    "    \"phi_1_x\": phi_1_x_on_12 * 0.8, \"phi_2_x\": phi_2_x_on_12, \"M_12\": M_12_on, \\\n",
    "    \"phi_1_dcx\": phi_1_dcx_off, \"phi_2_dcx\": phi_2_dcx_on_12, \"name\":\"CE_1\"\n",
    "}\n",
    "CE_1_b = {\n",
    "    \"phi_1_x\": phi_1_x_on_12  , \"phi_2_x\": phi_2_x_on_12, \"M_12\": M_12_on * m_12_factor, \\\n",
    "    \"phi_1_dcx\": phi_1_dcx_off, \"phi_2_dcx\": phi_2_dcx_on_12, \"name\":\"CE_1\"\n",
    "}\n",
    "\n",
    "\n",
    "# longer CE\n",
    "t_duration = 100\n",
    "protocol_list_LCE = [\n",
    "    create_CE_Protocol(t_duration, CE_8),\n",
    "    create_CE_Protocol(t_duration, CE_1),\n",
    "    create_CE_Protocol(t_duration, CE_6),\n",
    "    create_CE_Protocol(t_duration, CE_3),\n",
    "    create_CE_Protocol(t_duration, CE_8),\n",
    "    create_CE_Protocol(t_duration, four_well)\n",
    "]\n",
    "# shorter CE\n",
    "protocol_list = [\n",
    "    # forward\n",
    "    create_CE_Protocol(50, CE_1_a),\n",
    "    create_CE_Protocol(150, CE_1_b),\n",
    "    create_CE_Protocol(150, CE_1_a),\n",
    "    create_CE_Protocol(50, four_well)\n",
    "    # create_CE_Protocol(100, CE_8),\n",
    "    # create_CE_Protocol(100, flip_V),\n",
    "    # create_CE_Protocol(100, flip_H),\n",
    "\n",
    "    # create_CE_Protocol(100, CE_3),\n",
    "    # create_CE_Protocol(100, CE_8)\n",
    "]\n",
    "\n",
    "\n",
    "protocol_list_variable_duration = [\n",
    "    # forward\n",
    "    create_CE_Protocol(30, CE_1_a),\n",
    "    create_CE_Protocol(60, CE_1_b),\n",
    "    create_CE_Protocol(30, CE_1_a),\n",
    "    create_CE_Protocol(100, four_well)\n",
    "\n",
    "]\n",
    "\n",
    "\n",
    "protocol_list_fixed_duration = [\n",
    "    # forward\n",
    "    create_CE_Protocol(100, CE_1_b),\n",
    "    # create_CE_Protocol(100, CE_1_b),\n",
    "    # create_CE_Protocol(100, CE_1_a),\n",
    "    create_CE_Protocol(100, four_well)\n",
    "\n",
    "]\n",
    "\n",
    "\n",
    "protocol_list = protocol_list_fixed_duration"
   ]
  },
  {
   "cell_type": "code",
   "execution_count": null,
   "id": "12",
   "metadata": {
    "tags": []
   },
   "outputs": [],
   "source": [
    "\n",
    "\"\"\"\n",
    "# step 3: create the relevant storage protocol and computation protocol\n",
    "\"\"\"\n",
    "def modifiedFunction(t, result):\n",
    "    return result\n",
    "\n",
    "\n",
    "computation_protocol_parameter_dict = coupled_fq_protocol_library.customizedProtocol(initial_parameter_dict, \\\n",
    "                                                                    protocol_list)\n",
    "storage_protocol, comp_protocol = create_system(computation_protocol_parameter_dict, modifiedFunction = None)"
   ]
  },
  {
   "cell_type": "code",
   "execution_count": null,
   "id": "13",
   "metadata": {},
   "outputs": [],
   "source": [
    "print(f\"L: {L_factor}, C: {C_factor}, M_12: {M_12_on}\")"
   ]
  },
  {
   "cell_type": "markdown",
   "id": "14",
   "metadata": {},
   "source": [
    "### first initialization"
   ]
  },
  {
   "cell_type": "code",
   "execution_count": null,
   "id": "15",
   "metadata": {
    "tags": []
   },
   "outputs": [],
   "source": [
    "\"\"\"\n",
    "# step 4: create the coupled_fq_runner\n",
    "\"\"\"\n",
    "\n",
    "params['capacitance'] = [C_1, C_2, C_1/4, C_2/4]\n",
    "params['mass_special'] = [1, 1, 1/4, 1/4]\n",
    "params['v_c'] = x_c/t_c\n",
    "params['k_BT'] = k_BT\n",
    "\n",
    "cfqr = cfq_runner.coupledFluxQubitRunner(potential = coupled_fq_pot, params = params, \\\n",
    "                                                storage_protocol= storage_protocol, \\\n",
    "                                                computation_protocol= comp_protocol, \\\n",
    "                                         protocol_list = protocol_list, \\\n",
    "                                        has_velocity=has_velocity)\n",
    "\n",
    "protocol_time_array, protocol_time_index_array, protocol_all_time_array, protocol_time_all_index_array = cfqr.createProtocolTimeArray(protocol_list, params)\n",
    "cfqr.initialize_sim()\n",
    "cfqr.set_sim_attributes()\n",
    "init_state_saved = cfqr.init_state"
   ]
  },
  {
   "cell_type": "code",
   "execution_count": null,
   "id": "16",
   "metadata": {},
   "outputs": [],
   "source": [
    "cfqr.system.k_BT / k_B"
   ]
  },
  {
   "cell_type": "code",
   "execution_count": null,
   "id": "17",
   "metadata": {},
   "outputs": [],
   "source": [
    "import numpy as np\n",
    "from scipy import integrate\n",
    "beta_1 = 2.3\n",
    "gamma_1 = 10\n",
    "\n",
    "\n",
    "[integrate.dblquad(f, -k * np.pi, k * np.pi, -k * np.pi, k* np.pi)[0] for k in range(1, 20)]"
   ]
  },
  {
   "cell_type": "code",
   "execution_count": null,
   "id": "18",
   "metadata": {},
   "outputs": [],
   "source": [
    "def calculatePartitionFunction(params):\n",
    "    gamma_1, gamma_2 = 10, 10\n",
    "    f_1 = lambda y, x: np.exp(-(1/2 * x**2 + 1/2 * gamma_1 * y**2 + beta_1 * np.cos(x) + np.cos(y/2)))\n",
    "    f_2 = lambda y, x: np.exp(-(1/2 * x**2 + 1/2 * gamma_2 * y**2 + beta_2 * np.cos(x) + np.cos(y/2)))    \n",
    "    f_v1 = lambda x: np.exp(-1/2 * x**2)\n",
    "    f_v2 = lambda x: np.exp(-1/2 * x**2)\n",
    "    f_v3 = lambda x: np.exp(-1/2 * 1/4 * x**2)\n",
    "    f_v4 = lambda x: np.exp(-1/2 * 1/4 * x**2)\n",
    "    \n",
    "    Z_1 = integrate.dblquad(f_1, -k * np.pi, k * np.pi, -k * np.pi, k* np.pi)\n",
    "    Z_2 = integrate.dblquad(f_2, -k * np.pi, k * np.pi, -k * np.pi, k* np.pi)\n",
    "    Z_v1 = integrate.quad(f_v1, -np.inf, np.inf)\n",
    "    Z_v2 = integrate.quad(f_v2, -np.inf, np.inf)\n",
    "    Z_v3 = integrate.quad(f_v3, -np.inf, np.inf)\n",
    "    Z_v4 = integrate.quad(f_v4, -np.inf, np.inf)\n",
    "    \n",
    "    return Z_1[0] * Z_2[0] * Z_v1[0] * Z_v2[0] * Z_v3[0] * Z_v4[0]\n",
    "    "
   ]
  },
  {
   "cell_type": "code",
   "execution_count": null,
   "id": "19",
   "metadata": {},
   "outputs": [],
   "source": [
    "Z_tot = calculatePartitionFunction(10)"
   ]
  },
  {
   "cell_type": "code",
   "execution_count": null,
   "id": "20",
   "metadata": {},
   "outputs": [],
   "source": [
    "U0_1"
   ]
  },
  {
   "cell_type": "code",
   "execution_count": null,
   "id": "21",
   "metadata": {},
   "outputs": [],
   "source": [
    "NT = 10000\n",
    "mins, maxes = -0.1, 0.1\n",
    "v_c = x_c/t_c\n",
    "\n",
    "test_coords = np.zeros((NT, cfqr.potential.N_dim, 2))\n",
    "test_coords[:, 0, 0] = np.random.uniform(mins, maxes, NT)\n",
    "test_coords[:, 1, 0] = np.random.uniform(mins, maxes, NT)\n",
    "test_coords[:, 2, 0] = np.random.uniform(mins, maxes, NT)\n",
    "test_coords[:, 3, 0] = np.random.uniform(mins, maxes, NT)\n",
    "\n",
    "\n",
    "m_1, m_2, m_3, m_4 = C_1, C_2, C_1/4, C_2/4\n",
    "k_BT = k_BT\n",
    "test_coords[:, 0, 1] = np.random.normal(0, np.sqrt(k_BT/m_1), NT) / v_c\n",
    "test_coords[:, 1, 1] = np.random.normal(0, np.sqrt(k_BT/m_2), NT) / v_c\n",
    "test_coords[:, 2, 1] = np.random.normal(0, np.sqrt(k_BT/m_3), NT) / v_c\n",
    "test_coords[:, 3, 1] = np.random.normal(0, np.sqrt(k_BT/m_4), NT) / v_c\n"
   ]
  },
  {
   "cell_type": "code",
   "execution_count": null,
   "id": "22",
   "metadata": {},
   "outputs": [],
   "source": [
    "np.exp(-cfqr.system.get_energy(test_coords, 0)/U0_1)"
   ]
  },
  {
   "cell_type": "code",
   "execution_count": null,
   "id": "23",
   "metadata": {},
   "outputs": [],
   "source": [
    "Z_tot"
   ]
  },
  {
   "cell_type": "code",
   "execution_count": null,
   "id": "24",
   "metadata": {},
   "outputs": [],
   "source": [
    "U0_1"
   ]
  },
  {
   "cell_type": "code",
   "execution_count": null,
   "id": "25",
   "metadata": {},
   "outputs": [],
   "source": [
    "_prob = np.exp(-cfqr.system.get_energy(test_coords, 0)/U0_1)/Z_tot\n",
    "plt.hist(_prob)\n",
    "plt.yscale(\"log\")"
   ]
  },
  {
   "cell_type": "code",
   "execution_count": null,
   "id": "26",
   "metadata": {},
   "outputs": [],
   "source": [
    " decide = np.random.uniform(0, 1, NT)"
   ]
  },
  {
   "cell_type": "code",
   "execution_count": null,
   "id": "27",
   "metadata": {},
   "outputs": [],
   "source": [
    "decide"
   ]
  },
  {
   "cell_type": "code",
   "execution_count": null,
   "id": "28",
   "metadata": {},
   "outputs": [],
   "source": []
  },
  {
   "cell_type": "code",
   "execution_count": null,
   "id": "29",
   "metadata": {},
   "outputs": [],
   "source": [
    "def eq_state(self, Nsample, t=None, resolution=500, beta=1, manual_domain=None, axes=None, slice_vals=None, verbose=True):\n",
    "    '''\n",
    "    function still in development, docstring will come later.\n",
    "    generates Nsample coordinates from an equilibrium distribution at\n",
    "    time t.\n",
    "\n",
    "    '''\n",
    "    if self.potential.N_dim >= 4 and (axes is None or len(axes) > 4):\n",
    "        if resolution > 100:\n",
    "            print('using a lower resolution for searching a space in >3 dimensions')\n",
    "\n",
    "            if self.potential.N_dim >= 4:\n",
    "                resolution = 50\n",
    "            print('new resolution is {}'.format(resolution))\n",
    "\n",
    "    NT = Nsample\n",
    "    state = np.zeros((max(100, int(2*NT)), self.potential.N_dim, 2))\n",
    "\n",
    "    def get_prob(self, state):\n",
    "        Z_tot = 24.936095149247745\n",
    "        \n",
    "\n",
    "        \n",
    "        \n",
    "        return np.exp(-U) / Z_tot \n",
    "\n",
    "    if t is None:\n",
    "        t = self.protocol.t_i\n",
    "\n",
    "    U, X = self.lattice(t, resolution, axes=axes, slice_values=slice_vals, manual_domain=manual_domain)\n",
    "    mins = []\n",
    "    maxes = []\n",
    "    for item in X:\n",
    "        mins.append(np.min(item))\n",
    "        maxes.append(np.max(item))\n",
    "\n",
    "    U0 = np.min(U)\n",
    "    i = 0\n",
    "\n",
    "    count = 0\n",
    "    while i < Nsample:\n",
    "        count += 1\n",
    "        test_coords = np.zeros((NT, self.potential.N_dim, 2))\n",
    "\n",
    "        test_coords[:, 0, 0] = np.random.uniform(mins, maxes, NT)\n",
    "        test_coords[:, 1, 0] = np.random.uniform(mins, maxes, NT)\n",
    "        test_coords[:, 2, 0] = np.random.uniform(mins, maxes, NT)\n",
    "        test_coords[:, 3, 0] = np.random.uniform(mins, maxes, NT)\n",
    "        \n",
    "\n",
    "        if self.has_velocity:\n",
    "            m_1, m_2, m_3, m_4 = self.capacitance\n",
    "            k_BT = self.k_BT\n",
    "            test_coords[:, 0, 1] = np.random.normal(0, np.sqrt(k_BT/m_1), Nsample) / self.v_c\n",
    "            test_coords[:, 1, 1] = np.random.normal(0, np.sqrt(k_BT/m_2), Nsample) / self.v_c\n",
    "            test_coords[:, 2, 1] = np.random.normal(0, np.sqrt(k_BT/m_3), Nsample) / self.v_c\n",
    "            test_coords[:, 3, 1] = np.random.normal(0, np.sqrt(k_BT/m_4), Nsample) / self.v_c\n",
    "        \n",
    "        p = get_prob(self, test_coords)\n",
    "\n",
    "        decide = np.random.uniform(0, 1, NT)\n",
    "        n_sucesses = np.sum(p > decide)\n",
    "        if i == 0:\n",
    "            ratio = max(n_sucesses/NT, .05)\n",
    "\n",
    "        state[i:i+n_sucesses, :, :] = test_coords[p > decide, :, :]\n",
    "        i = i + n_sucesses\n",
    "        if verbose:\n",
    "            print(\"\\r found {} samples out of {}\".format(i, Nsample), end=\"\")\n",
    "\n",
    "        NT = max(int((Nsample-i)/ratio), 100)\n",
    "\n",
    "    print(\"\\nfrom system: finish the while loop in sampling.\")\n",
    "    state = state[0:Nsample, :, :]\n",
    "    # print(\"the state is\", state)\n",
    "\n",
    "    \n",
    "    else:\n",
    "        return state[:, :, 0]\n",
    "\n",
    "    return state\n"
   ]
  },
  {
   "cell_type": "code",
   "execution_count": null,
   "id": "30",
   "metadata": {},
   "outputs": [],
   "source": []
  },
  {
   "cell_type": "code",
   "execution_count": null,
   "id": "31",
   "metadata": {},
   "outputs": [],
   "source": []
  },
  {
   "cell_type": "markdown",
   "id": "32",
   "metadata": {},
   "source": [
    "# check before simulation"
   ]
  },
  {
   "cell_type": "markdown",
   "id": "33",
   "metadata": {},
   "source": [
    "### parameter graph"
   ]
  },
  {
   "cell_type": "code",
   "execution_count": null,
   "id": "34",
   "metadata": {
    "tags": []
   },
   "outputs": [],
   "source": [
    "cfqr.showPamameterTimeGraph(protocol_time_array, protocol_all_time_array)"
   ]
  },
  {
   "cell_type": "markdown",
   "id": "35",
   "metadata": {
    "tags": []
   },
   "source": [
    "### potential shape check"
   ]
  },
  {
   "cell_type": "code",
   "execution_count": null,
   "id": "36",
   "metadata": {},
   "outputs": [],
   "source": []
  },
  {
   "cell_type": "code",
   "execution_count": null,
   "id": "37",
   "metadata": {},
   "outputs": [],
   "source": [
    "coupled_flux_qubit_non_linear_approx_pot(-1.96, 0, 0, 0, initial_parameter_dict.values())"
   ]
  },
  {
   "cell_type": "code",
   "execution_count": null,
   "id": "38",
   "metadata": {},
   "outputs": [],
   "source": []
  },
  {
   "cell_type": "code",
   "execution_count": null,
   "id": "39",
   "metadata": {
    "tags": []
   },
   "outputs": [],
   "source": [
    "_t = 100\n",
    "\n",
    "critical_points = np.array(cfqr.get_critical_points_at_t_for_a_set_of_parameter(_t, showPotential=False, verbose = False, guess=[(0, 0), (-2, 0), (2, 0), (0,2), (0, -2), (-2, -2), (-2, 2), (2, -2), (2, 2)]))\n",
    "\n",
    "\n",
    "\n",
    "\n",
    "l = cfqr.plotGraph(t = _t, cutlineValue=critical_points[1][0], x_range=[-3, 3],y_range = [800, 4000], contour_range = [800, 5000], showGraph = True)\n",
    "contour_plt = l[\"ax0\"]\n",
    "cutline_plt = l[\"ax1\"]\n",
    "cutline_plt.set_xlim(-5, 5)\n",
    "cutline_plt.set_ylim(500, 1700)\n",
    "\n",
    "contour_plt.scatter(critical_points[:, 0], critical_points[:, 1])\n",
    "print([0])\n",
    "\n",
    "# cfqr.plotGraph(t = 50, cutlineValue=-1.96, showGraph=True)\n",
    "plt.show()"
   ]
  },
  {
   "cell_type": "code",
   "execution_count": null,
   "id": "40",
   "metadata": {},
   "outputs": [],
   "source": []
  },
  {
   "cell_type": "code",
   "execution_count": null,
   "id": "41",
   "metadata": {},
   "outputs": [],
   "source": []
  },
  {
   "cell_type": "markdown",
   "id": "42",
   "metadata": {},
   "source": [
    "### bifurcation check"
   ]
  },
  {
   "cell_type": "code",
   "execution_count": null,
   "id": "43",
   "metadata": {},
   "outputs": [],
   "source": []
  },
  {
   "cell_type": "code",
   "execution_count": null,
   "id": "44",
   "metadata": {},
   "outputs": [],
   "source": []
  },
  {
   "cell_type": "code",
   "execution_count": null,
   "id": "45",
   "metadata": {},
   "outputs": [],
   "source": [
    "_stepped_time = protocol_all_time_array[::100]\n",
    "minimum_points_of_00 = [cfqr.get_minimum_at_t_for_a_set_of_parameter(_t, initial_parameter_dict, guess = [(-2, -2)])[0] for _t in _stepped_time]\n",
    "fig, ax = plt.subplots(1, 2, figsize = [8, 4])\n",
    "\n",
    "ax[0].scatter(_stepped_time, np.array(minimum_points_of_00)[:, 0])\n",
    "ax[0].set_xlabel(r't $(\\tau_c)$', fontsize = 12)\n",
    "ax[0].set_ylabel(r'$\\varphi_1$', fontsize = 12)\n",
    "\n",
    "ax[1].scatter(_stepped_time, np.array(minimum_points_of_00)[:, 1])\n",
    "ax[1].set_xlabel(r't $(\\tau_c)$', fontsize = 12)\n",
    "ax[1].set_ylabel(r'$\\varphi_2$', fontsize = 12)\n",
    "fig.tight_layout()"
   ]
  },
  {
   "cell_type": "code",
   "execution_count": null,
   "id": "46",
   "metadata": {},
   "outputs": [],
   "source": []
  },
  {
   "cell_type": "code",
   "execution_count": null,
   "id": "47",
   "metadata": {},
   "outputs": [],
   "source": []
  },
  {
   "cell_type": "code",
   "execution_count": null,
   "id": "48",
   "metadata": {},
   "outputs": [],
   "source": []
  },
  {
   "cell_type": "code",
   "execution_count": null,
   "id": "49",
   "metadata": {},
   "outputs": [],
   "source": []
  },
  {
   "cell_type": "markdown",
   "id": "50",
   "metadata": {},
   "source": [
    "# actual simulations"
   ]
  },
  {
   "cell_type": "code",
   "execution_count": null,
   "id": "51",
   "metadata": {},
   "outputs": [],
   "source": []
  },
  {
   "cell_type": "code",
   "execution_count": null,
   "id": "52",
   "metadata": {
    "tags": []
   },
   "outputs": [],
   "source": [
    "importlib.reload(cfq_batch_sweep)\n",
    "as_step = np.s_[::100]\n",
    "\n",
    "# step 5: perform simulations\n",
    "manual_domain=[np.array([-5, -5]), np.array([5, 5])]\n",
    "\n",
    "simResult = cfq_batch_sweep.simulateSingleCoupledFluxQubit(params, initial_parameter_dict, protocol_list, \\\n",
    "                        potential = coupled_fq_pot, potential_default_param = coupled_fq_default_param,            \n",
    "                        initial_state = init_state_saved, manual_domain = manual_domain, \\\n",
    "                        phi_1_dcx = phi_1_dcx,  phi_2_dcx = phi_2_dcx, \\\n",
    "                        percentage = 1, as_step = as_step, measure_all_states=saveAllStates, \\\n",
    "                        has_velocity = has_velocity)"
   ]
  },
  {
   "cell_type": "code",
   "execution_count": null,
   "id": "53",
   "metadata": {},
   "outputs": [],
   "source": []
  },
  {
   "cell_type": "markdown",
   "id": "54",
   "metadata": {},
   "source": [
    "# sim Results"
   ]
  },
  {
   "cell_type": "markdown",
   "id": "55",
   "metadata": {},
   "source": [
    "### fidelity"
   ]
  },
  {
   "cell_type": "code",
   "execution_count": null,
   "id": "56",
   "metadata": {},
   "outputs": [],
   "source": [
    "plotFidelityBarChart(simResult['cfqr'].sim.fidelity_time_array)"
   ]
  },
  {
   "cell_type": "code",
   "execution_count": null,
   "id": "57",
   "metadata": {},
   "outputs": [],
   "source": [
    "def cutlineDataGeneratingFunction(initial_parameter_dict, direction = 'v', color = 'red', guess = [(-2, -2)]):\n",
    "    coord_index = 0 if direction == \"v\" else 1\n",
    "    def tracking_minimum_point(_t):\n",
    "        return  [cfqr.get_minimum_at_t_for_a_set_of_parameter(_t, initial_parameter_dict, guess = guess)[0][coord_index], direction, color]\n",
    "    return tracking_minimum_point"
   ]
  },
  {
   "cell_type": "code",
   "execution_count": null,
   "id": "58",
   "metadata": {},
   "outputs": [],
   "source": []
  },
  {
   "cell_type": "markdown",
   "id": "59",
   "metadata": {},
   "source": [
    "### animation"
   ]
  },
  {
   "cell_type": "code",
   "execution_count": null,
   "id": "60",
   "metadata": {},
   "outputs": [],
   "source": [
    "importlib.reload(coupled_fq_protocol_library)"
   ]
  },
  {
   "cell_type": "code",
   "execution_count": null,
   "id": "61",
   "metadata": {
    "tags": []
   },
   "outputs": [],
   "source": [
    "pColor = {\"00\": \"#061DF7\", \"01\": \"red\", \"10\": \"#3FC7F2\", \"11\": \"#F187F4\"}\n",
    "\n",
    "graph_setting = {\n",
    "    0.1: {\"vmin\": 1000, \"vmax\": 2000, \"ymin\": 1000, \"ymax\": 3000},\n",
    "    1: {\"vmin\": 100, \"vmax\": 400, \"ymin\": 100, \"ymax\": 400},\n",
    "    2: {\"vmin\": 50, \"vmax\": 250, \"ymin\": 50, \"ymax\": 250},    \n",
    "    5: {\"vmin\": 0, \"vmax\": 100, \"ymin\": 0, \"ymax\": 150},\n",
    "    20: {\"vmin\": 0, \"vmax\": 20, \"ymin\": 0, \"ymax\": 20}\n",
    "}\n",
    "\n",
    "targetTimeArray = protocol_all_time_array[simResult['cfqr'].sim.target_step_index]\n",
    "ani, fig, ax = coupled_fq_protocol_library.animate_sim_flux_qubit_with_cutline(simResult['cfqr'], time_array=targetTimeArray, frame_skip = 5, \n",
    "                                                                               vmin=graph_setting[T]['vmin'], vmax=graph_setting[T]['vmax'], ax0_title = f\"T = {T}K\",\n",
    "                                                                               params=params, cutlineGeneratingFunction = cutlineDataGeneratingFunction(initial_parameter_dict),\n",
    "                                                                               pColor=pColor, cutlineXLimit=[-4, 4], cutlineYLimit=[graph_setting[T]['ymin'],graph_setting[T]['ymax']])\n",
    "\n",
    "writer = animation.PillowWriter(fps=15,\n",
    "                    metadata=dict(artist='Me'),\n",
    "                    bitrate=1800)\n",
    "ani.save('scatter.gif', writer=writer)\n",
    "Image(filename=\"scatter.gif\")"
   ]
  },
  {
   "cell_type": "code",
   "execution_count": null,
   "id": "62",
   "metadata": {},
   "outputs": [],
   "source": [
    "\n",
    "video = ani.to_html5_video()\n",
    "html = display.HTML(video)\n",
    "display.display(html)"
   ]
  },
  {
   "cell_type": "code",
   "execution_count": null,
   "id": "63",
   "metadata": {},
   "outputs": [],
   "source": []
  },
  {
   "cell_type": "code",
   "execution_count": null,
   "id": "64",
   "metadata": {},
   "outputs": [],
   "source": []
  },
  {
   "cell_type": "markdown",
   "id": "65",
   "metadata": {
    "tags": []
   },
   "source": [
    "### barrier height analysis"
   ]
  },
  {
   "cell_type": "code",
   "execution_count": null,
   "id": "66",
   "metadata": {},
   "outputs": [],
   "source": [
    "target_time_array = protocol_all_time_array[simResult['cfqr'].as_step]"
   ]
  },
  {
   "cell_type": "code",
   "execution_count": null,
   "id": "67",
   "metadata": {},
   "outputs": [],
   "source": [
    "param_list_t_array = [simResult['cfqr'].protocol.get_params(_t) for _t in target_time_array]"
   ]
  },
  {
   "cell_type": "code",
   "execution_count": null,
   "id": "68",
   "metadata": {},
   "outputs": [],
   "source": [
    "param_list_t_array[0]"
   ]
  },
  {
   "cell_type": "code",
   "execution_count": null,
   "id": "69",
   "metadata": {},
   "outputs": [],
   "source": []
  },
  {
   "cell_type": "code",
   "execution_count": null,
   "id": "70",
   "metadata": {},
   "outputs": [],
   "source": [
    "plt.plot(target_time_array, np.array(min_x_00)[:, 0])"
   ]
  },
  {
   "cell_type": "code",
   "execution_count": null,
   "id": "71",
   "metadata": {},
   "outputs": [],
   "source": [
    "min_x_00_PE = [coupled_flux_qubit_non_linear_approx_pot(p[0], p[1], _list[10], _list[11], _list) for p, _list in zip(min_x_00, param_list_t_array)]\n",
    "min_x_01_PE = [coupled_flux_qubit_non_linear_approx_pot(p[0], p[1], _list[10], _list[11], _list) for p, _list in zip(min_x_01, param_list_t_array)]\n",
    "mid_PE =      [coupled_flux_qubit_non_linear_approx_pot(p[0], p[1], _list[10], _list[11], _list) for p, _list in zip(mid_point, param_list_t_array)]"
   ]
  },
  {
   "cell_type": "code",
   "execution_count": null,
   "id": "72",
   "metadata": {},
   "outputs": [],
   "source": [
    "plt.plot(target_time_array, min_x_00_PE, label = \"00\")\n",
    "plt.plot(target_time_array, min_x_01_PE, label = \"01\")\n",
    "plt.plot(target_time_array, mid_PE, label = \"01\")\n",
    "plt.legend()"
   ]
  },
  {
   "cell_type": "code",
   "execution_count": null,
   "id": "73",
   "metadata": {},
   "outputs": [],
   "source": [
    "Image(filename=\"scatter.gif\")"
   ]
  },
  {
   "cell_type": "code",
   "execution_count": null,
   "id": "74",
   "metadata": {},
   "outputs": [],
   "source": []
  },
  {
   "cell_type": "code",
   "execution_count": null,
   "id": "75",
   "metadata": {},
   "outputs": [],
   "source": [
    "min_x_00 = [simResult['cfqr'].get_minimum_at_for_a_set_of_parameter(_t, initial_parameter_dict, guess=[(-2, -2)])[0] for _t in protocol_all_time_array[simResult['cfqr'].as_step]]"
   ]
  },
  {
   "cell_type": "code",
   "execution_count": null,
   "id": "76",
   "metadata": {},
   "outputs": [],
   "source": [
    "mid_point = np.array([(x[0], 0) for x in min_x_00])"
   ]
  },
  {
   "cell_type": "code",
   "execution_count": null,
   "id": "77",
   "metadata": {},
   "outputs": [],
   "source": [
    "min_x_01 = np.array([(x[0], -x[1]) for x in min_x_00])"
   ]
  },
  {
   "cell_type": "code",
   "execution_count": null,
   "id": "78",
   "metadata": {},
   "outputs": [],
   "source": []
  },
  {
   "cell_type": "code",
   "execution_count": null,
   "id": "79",
   "metadata": {},
   "outputs": [],
   "source": []
  },
  {
   "cell_type": "code",
   "execution_count": null,
   "id": "80",
   "metadata": {},
   "outputs": [],
   "source": []
  },
  {
   "cell_type": "markdown",
   "id": "81",
   "metadata": {},
   "source": [
    "### KE analysis"
   ]
  },
  {
   "cell_type": "code",
   "execution_count": null,
   "id": "82",
   "metadata": {},
   "outputs": [],
   "source": [
    "index_of_00 = simResult['cfqr'].getIndexOfParticles()[\"00\"]\n",
    "coord = simResult['cfqr'].sim.output.all_state['states'][:, 100, ...]\n",
    "print(np.mean(simResult['cfqr'].system.get_kinetic_energy(coord)))\n"
   ]
  },
  {
   "cell_type": "code",
   "execution_count": null,
   "id": "83",
   "metadata": {},
   "outputs": [],
   "source": [
    "plt.hist(simResult['cfqr'].system.get_kinetic_energy(coord))"
   ]
  },
  {
   "cell_type": "code",
   "execution_count": null,
   "id": "84",
   "metadata": {},
   "outputs": [],
   "source": []
  },
  {
   "cell_type": "code",
   "execution_count": null,
   "id": "85",
   "metadata": {},
   "outputs": [],
   "source": []
  },
  {
   "cell_type": "code",
   "execution_count": null,
   "id": "86",
   "metadata": {},
   "outputs": [],
   "source": []
  },
  {
   "cell_type": "code",
   "execution_count": null,
   "id": "87",
   "metadata": {},
   "outputs": [],
   "source": [
    "showAnimation = False\n",
    "showAnimation = True\n",
    "if showAnimation:\n",
    "    pColor = {\"00\": \"#061DF7\", \"01\": \"red\", \"10\": \"#3FC7F2\", \"11\": \"#F187F4\"}\n",
    "    simResult['cfqr'].showAnimation(protocol_list, computation_protocol_parameter_dict, pColor = pColor, frame_skip= 10, \n",
    "color_key = True, color_bar_range = [240, 600])\n"
   ]
  },
  {
   "cell_type": "code",
   "execution_count": null,
   "id": "88",
   "metadata": {},
   "outputs": [],
   "source": []
  },
  {
   "cell_type": "code",
   "execution_count": null,
   "id": "89",
   "metadata": {},
   "outputs": [],
   "source": [
    "\n",
    "\n",
    "showGif = False\n",
    "showGif = True\n",
    "if showGif:\n",
    "    simResult['cfqr'].showAnimation(protocol_list, computation_protocol_parameter_dict, pColor = pColor, frame_skip= 5, showFormat= \"gif\")\n",
    "Image(filename=\"scatter.gif\")"
   ]
  },
  {
   "cell_type": "code",
   "execution_count": null,
   "id": "90",
   "metadata": {},
   "outputs": [],
   "source": []
  },
  {
   "cell_type": "code",
   "execution_count": null,
   "id": "91",
   "metadata": {},
   "outputs": [],
   "source": [
    "keyStep_work_distribution = simResult['cfqr'].sim.keyStep_work_distribution"
   ]
  },
  {
   "cell_type": "code",
   "execution_count": null,
   "id": "92",
   "metadata": {},
   "outputs": [],
   "source": [
    "particle_index = cfqr.getIndexOfParticles()\n"
   ]
  },
  {
   "cell_type": "code",
   "execution_count": null,
   "id": "93",
   "metadata": {},
   "outputs": [],
   "source": [
    "keyStep_work_distribution_00 = [_dist[particle_index['00']] for _dist in keyStep_work_distribution]\n",
    "keyStep_work_distribution_01 = [_dist[particle_index['01']] for _dist in keyStep_work_distribution]\n",
    "keyStep_work_distribution_10 = [_dist[particle_index['10']] for _dist in keyStep_work_distribution]\n",
    "keyStep_work_distribution_11 = [_dist[particle_index['11']] for _dist in keyStep_work_distribution]"
   ]
  },
  {
   "cell_type": "code",
   "execution_count": null,
   "id": "94",
   "metadata": {},
   "outputs": [],
   "source": []
  },
  {
   "cell_type": "code",
   "execution_count": null,
   "id": "95",
   "metadata": {},
   "outputs": [],
   "source": [
    "fig, ax = plt.subplots(2, 2, figsize = [8, 8])\n",
    "ax_flatten = ax.flatten()\n",
    "for i, x in enumerate(['00', '01', '10', '11']):\n",
    "    ax_flatten[i].hist(keyStep_work_distribution[-1][particle_index[x]])"
   ]
  },
  {
   "cell_type": "code",
   "execution_count": null,
   "id": "96",
   "metadata": {},
   "outputs": [],
   "source": []
  },
  {
   "cell_type": "code",
   "execution_count": null,
   "id": "97",
   "metadata": {},
   "outputs": [],
   "source": []
  },
  {
   "cell_type": "code",
   "execution_count": null,
   "id": "98",
   "metadata": {},
   "outputs": [],
   "source": []
  },
  {
   "cell_type": "code",
   "execution_count": null,
   "id": "99",
   "metadata": {},
   "outputs": [],
   "source": []
  },
  {
   "cell_type": "code",
   "execution_count": null,
   "id": "100",
   "metadata": {},
   "outputs": [],
   "source": []
  },
  {
   "cell_type": "code",
   "execution_count": null,
   "id": "101",
   "metadata": {},
   "outputs": [],
   "source": [
    "for x in keyStep_work_distribution_00[1:]:\n",
    "    plt.hist(x, bins = 40)\n",
    "    plt.show()"
   ]
  },
  {
   "cell_type": "code",
   "execution_count": null,
   "id": "102",
   "metadata": {},
   "outputs": [],
   "source": [
    "for x in keyStep_work_distribution_01[1:]:\n",
    "    plt.hist(x, bins = 40)\n",
    "    plt.show()"
   ]
  },
  {
   "cell_type": "code",
   "execution_count": null,
   "id": "103",
   "metadata": {},
   "outputs": [],
   "source": [
    "for x in keyStep_work_distribution_11[1:]:\n",
    "    plt.hist(x, bins = 40)\n",
    "    plt.show()"
   ]
  },
  {
   "cell_type": "code",
   "execution_count": null,
   "id": "104",
   "metadata": {},
   "outputs": [],
   "source": [
    "for x in keyStep_work_distribution_11[1:]:\n",
    "    plt.hist(x, bins = 40)\n",
    "    plt.show()"
   ]
  },
  {
   "cell_type": "code",
   "execution_count": null,
   "id": "105",
   "metadata": {},
   "outputs": [],
   "source": []
  },
  {
   "cell_type": "code",
   "execution_count": null,
   "id": "106",
   "metadata": {},
   "outputs": [],
   "source": [
    "def plotState(state):\n",
    "    plt.scatter(state[:,0,0], state[:,1,0])"
   ]
  },
  {
   "cell_type": "code",
   "execution_count": null,
   "id": "107",
   "metadata": {},
   "outputs": [],
   "source": [
    "\n",
    "keyStepIndex = 2\n",
    "keyStepState =  simResult['cfqr'].sim.keyStep_all_states[keyStepIndex]\n",
    "keyStepWokrDistribution = simResult['cfqr'].sim.keyStep_work_distribution[keyStepIndex]\n",
    "fig, ax = plt.subplots(1, 2, figsize = [9.5, 4])\n",
    "# ax[0].hist(keyStepWokrDistribution, bins = 50)\n",
    "ax[1].scatter(keyStepState[:,0,0], keyStepState[:,1,0])\n",
    "\n",
    "class_1_filter = keyStepWokrDistribution < -10 \n",
    "class_2_filter = np.logical_and(keyStepWokrDistribution > -10, keyStepWokrDistribution < 10 )\n",
    "class_3_filter = keyStepWokrDistribution > 10 \n",
    "class_1_mean = np.mean(keyStepWokrDistribution[class_1_filter])\n",
    "class_2_mean = np.mean(keyStepWokrDistribution[class_2_filter])\n",
    "class_3_mean = np.mean(keyStepWokrDistribution[class_3_filter])\n",
    "\n",
    "\n",
    "\n",
    "# ax[0].hist(keyStepWokrDistribution, bins = 50, color=\"red\")\n",
    "class_color = [\"red\", \"orange\", \"blue\"]\n",
    "bins=np.histogram(keyStepWokrDistribution, bins=50)[1] #get the bin edges\n",
    "\n",
    "ax[0].hist(keyStepWokrDistribution[class_1_filter], bins = bins, color=\"red\")\n",
    "ax[0].hist(keyStepWokrDistribution[class_2_filter], bins = bins, color=\"orange\")\n",
    "ax[0].hist(keyStepWokrDistribution[class_3_filter], bins = bins, color=\"blue\")\n",
    "\n",
    "ax[1].scatter(keyStepState[class_1_filter][:,0,0], keyStepState[class_1_filter][:,1,0], color = 'red')\n",
    "ax[1].scatter(keyStepState[class_2_filter][:,0,0], keyStepState[class_2_filter][:,1,0], color = 'orange')\n",
    "ax[1].scatter(keyStepState[class_3_filter][:,0,0], keyStepState[class_3_filter][:,1,0], color = 'blue')\n",
    "\n",
    "plt.show()\n",
    "\n",
    "\n",
    "fig, ax = plt.subplots(1, 3, figsize = [12, 4])\n",
    "ax[0].hist(keyStepWokrDistribution[class_1_filter], bins = 50, color=\"red\")\n",
    "ax[0].hist(keyStepWokrDistribution[class_2_filter], bins = 50, color=\"orange\")\n",
    "ax[0].hist(keyStepWokrDistribution[class_3_filter], bins = 50, color=\"blue\")\n",
    "ax[0].set_xlim(class_1_mean-2, class_1_mean+2)\n",
    "ax[0].text(x=0.70, y=0.90, s=f\"N = {np.sum(class_1_filter)}\", fontsize=12, transform=ax[0].transAxes)\n",
    "\n",
    "\n",
    "ax[1].hist(keyStepWokrDistribution[class_1_filter], color=\"red\")\n",
    "ax[1].hist(keyStepWokrDistribution[class_2_filter], color=\"orange\")\n",
    "ax[1].hist(keyStepWokrDistribution[class_3_filter], color=\"blue\")\n",
    "ax[1].set_xlim(class_2_mean - 2, class_2_mean + 2); ax[1].set_ylim(0, 80)\n",
    "ax[1].text(x=0.70, y=0.90, s=f\"N = {np.sum(class_2_filter)}\", fontsize=12, transform=ax[1].transAxes)\n",
    "\n",
    "ax[2].hist(keyStepWokrDistribution[class_1_filter], color=\"red\")\n",
    "ax[2].hist(keyStepWokrDistribution[class_2_filter], color=\"orange\")\n",
    "ax[2].hist(keyStepWokrDistribution[class_3_filter], color=\"blue\")\n",
    "ax[2].set_xlim(class_3_mean - 2, class_3_mean + 2); ax[2].set_ylim(0, 100)\n",
    "ax[2].text(x=0.70, y=0.90, s=f\"N = {np.sum(class_3_filter)}\", fontsize=12, transform=ax[2].transAxes)\n",
    "plt.show()"
   ]
  },
  {
   "cell_type": "code",
   "execution_count": null,
   "id": "108",
   "metadata": {
    "tags": []
   },
   "outputs": [],
   "source": [
    "# simResult['cfqr'].getFidelityTimeGraph()"
   ]
  },
  {
   "cell_type": "code",
   "execution_count": null,
   "id": "109",
   "metadata": {
    "tags": []
   },
   "outputs": [],
   "source": []
  },
  {
   "cell_type": "code",
   "execution_count": null,
   "id": "110",
   "metadata": {},
   "outputs": [],
   "source": []
  },
  {
   "cell_type": "code",
   "execution_count": null,
   "id": "111",
   "metadata": {},
   "outputs": [],
   "source": []
  },
  {
   "cell_type": "code",
   "execution_count": null,
   "id": "112",
   "metadata": {},
   "outputs": [],
   "source": []
  },
  {
   "cell_type": "markdown",
   "id": "113",
   "metadata": {},
   "source": [
    "### work analysis"
   ]
  },
  {
   "cell_type": "code",
   "execution_count": null,
   "id": "114",
   "metadata": {},
   "outputs": [],
   "source": [
    "# %%notify\n",
    "step_time_array = np.cumsum(np.array([x[\"duration\"] for x in protocol_list]))/params['dt']\n",
    "name_array = [x[\"name\"] for x in protocol_list]\n",
    "\n",
    "\n",
    "plt.hist(simResult[\"work_distribution\"], bins = 45)\n",
    "plt.show()\n",
    "mean_work = np.mean(simResult[\"work_distribution\"])\n",
    "mean_work_stand_error = np.std(simResult[\"work_distribution\"]) / np.sqrt(params['N'])\n",
    "jarzyn_term = np.mean(np.exp(-simResult[\"work_distribution\"]))\n",
    "print(\"sim_id = \", simResult['simulation_data'])\n",
    "print(f\"N = {params['N']}, dt = {params['dt']}\")\n",
    "# print(f\"phi_1dcx_on: {phi_1_dcx_on}, phi_2dcx_on: {phi_2_dcx_on}, M_12_on: {M_12_on}\")\n",
    "print(f\"L_factor = {L_factor}, C_factor = {C_factor}, I_m_factor = {I_m_factor}, gamma = {gamma}\")\n",
    "print([x[\"duration\"] for x in protocol_list])\n",
    "print(f'jarzyn = {jarzyn_term}, mean work = {mean_work:.3g} ± {3 * mean_work_stand_error:.3g}')\n"
   ]
  },
  {
   "cell_type": "code",
   "execution_count": null,
   "id": "115",
   "metadata": {},
   "outputs": [],
   "source": [
    "group_1_filter = simResult[\"work_distribution\"] < 60\n",
    "group_2_filter = simResult[\"work_distribution\"] > 60"
   ]
  },
  {
   "cell_type": "code",
   "execution_count": null,
   "id": "116",
   "metadata": {},
   "outputs": [],
   "source": [
    "plt.hist(simResult[\"work_distribution\"][group_2_filter], bins = 40)"
   ]
  },
  {
   "cell_type": "code",
   "execution_count": null,
   "id": "117",
   "metadata": {},
   "outputs": [],
   "source": [
    "plt.hist(simResult[\"work_distribution\"][group_1_filter], bins = 40)"
   ]
  },
  {
   "cell_type": "code",
   "execution_count": null,
   "id": "118",
   "metadata": {},
   "outputs": [],
   "source": []
  },
  {
   "cell_type": "code",
   "execution_count": null,
   "id": "119",
   "metadata": {},
   "outputs": [],
   "source": [
    "# step_array = np.arange(simResult[\"work_statistic\"][:,0].shape[0])\n",
    "step_array = simResult['cfqr'].sim.target_step_index\n",
    "skip_step = int(len(step_array) * 0.05)\n",
    "work_mean = simResult[\"work_statistic\"][:,0]\n",
    "work_std = simResult[\"work_statistic\"][:,1]\n",
    "\n",
    "plt.errorbar(step_array[::skip_step], work_mean[::skip_step], yerr = work_std[::skip_step])\n",
    "# plt.yscale('log')\n",
    "\n",
    "for i, t in enumerate(step_time_array):\n",
    "    plt.axvline(x = t, color = 'b', linestyle ='--', label = 'axvline - full height')\n",
    "    # plt.annotate(f\"{i+1}\", xy=(t, 4.5),  color='red', ha='center', size=16)\n",
    "\n",
    "print(f'jarzyn = {jarzyn_term}')\n",
    "print([x[\"duration\"] for x in protocol_list])"
   ]
  },
  {
   "cell_type": "code",
   "execution_count": null,
   "id": "120",
   "metadata": {},
   "outputs": [],
   "source": []
  },
  {
   "cell_type": "code",
   "execution_count": null,
   "id": "121",
   "metadata": {},
   "outputs": [],
   "source": [
    "\n",
    "target_time_index = np.array(protocol_time_array)/params['dt']\n",
    "target_time_index = target_time_index.astype(\"int\") - 1\n",
    "\n",
    "# work_done_array = [work_mean[i] for i in target_time_index[1:]]\n",
    "work_done_array = simResult[\"cfqr\"].sim.keyStep_work_statistic[:,0]\n",
    "work_done_of_each_step = np.array(work_done_array)[1:] - np.array(work_done_array)[:-1]\n",
    "\n",
    "Measure_Erasue_steps = [0, 1, 2, 3]\n",
    "Control_Steps = [4, 5, 6, 7]\n",
    "\n",
    "print(\"Third way to split the steps: (E, 0-1), (M. 2), (C: 3-6)\")\n",
    "print(f\"work_done = {work_done_of_each_step}\" )\n",
    "print(\"measurement + reset = \", np.sum([work_done_of_each_step[i] for i in Measure_Erasue_steps]))\n",
    "print(\"control = \", np.sum([work_done_of_each_step[i] for i in Control_Steps]))\n",
    "print(sum(work_done_of_each_step))"
   ]
  },
  {
   "cell_type": "code",
   "execution_count": null,
   "id": "122",
   "metadata": {},
   "outputs": [],
   "source": []
  },
  {
   "cell_type": "markdown",
   "id": "123",
   "metadata": {
    "tags": []
   },
   "source": [
    "# check states"
   ]
  },
  {
   "cell_type": "code",
   "execution_count": null,
   "id": "124",
   "metadata": {},
   "outputs": [],
   "source": []
  },
  {
   "cell_type": "markdown",
   "id": "125",
   "metadata": {},
   "source": [
    "# animations"
   ]
  },
  {
   "cell_type": "code",
   "execution_count": null,
   "id": "126",
   "metadata": {},
   "outputs": [],
   "source": [
    "simResult['cfqr'].showAnimation(protocol_list, computation_protocol_parameter_dict)"
   ]
  },
  {
   "cell_type": "code",
   "execution_count": null,
   "id": "127",
   "metadata": {},
   "outputs": [],
   "source": [
    "from edward_tools.visualization import separate_by_state"
   ]
  },
  {
   "cell_type": "code",
   "execution_count": null,
   "id": "128",
   "metadata": {},
   "outputs": [],
   "source": [
    "self = simResult['cfqr']\n",
    "t = 100\n",
    "resolution = 100\n",
    "\n",
    "fig, ax = plt.subplots(figsize=(6,6))\n",
    "protocol_key = ['U0_1', 'U0_2', 'gamma_1', 'gamma_2', 'beta_1', 'beta_2', 'd_beta_1', 'd_beta_2', 'phi_1_x', 'phi_2_x', 'phi_1_dcx', 'phi_2_dcx', 'M_12', 'x_c']\n",
    "contour_plt = plt\n",
    "\n",
    "\n",
    "phi_1_dcx_index = protocol_key.index('phi_1_dcx')\n",
    "phi_2_dcx_index = protocol_key.index('phi_2_dcx')\n",
    "phi_1_dc_i = self.protocol.get_params(t)[phi_1_dcx_index]\n",
    "phi_2_dc_i = self.protocol.get_params(t)[phi_2_dcx_index]\n",
    "slice_values = [0, 0, phi_1_dc_i, phi_2_dc_i]\n",
    "\n",
    "modified_manual_domain = [(manual_domain[0][1], manual_domain[0][0]), \\\n",
    "                              (manual_domain[1][1], manual_domain[1][0])]\n",
    "U, X_mesh = self.system.lattice(t, resolution, axes=(0, 1),\\\n",
    "                                    manual_domain=modified_manual_domain, slice_values = slice_values)\n",
    "\n",
    "# 5. find vmin, vmax, x_min, x_max, y_min and y_max\n",
    "vmin, vmax = np.min(U), np.max(U)\n",
    "x_min, x_max = np.min(X), np.max(X)\n",
    "y_min, y_max = np.min(Y), np.max(Y)\n",
    "\n",
    "all_state = self.sim.output.all_state['states']\n",
    "phi_1_dc = all_state[..., 2, 0]\n",
    "phi_2_dc = all_state[..., 3, 0]\n",
    "all_state = all_state[:, :, (0, 1), :]\n",
    "\n",
    "N, nsteps, N_dim = np.shape(all_state)[0], np.shape(all_state)[1], np.shape(all_state)[2]\n",
    "X, Y = X_mesh[0], X_mesh[1]\n",
    "which_axes = [np.s_[..., i, 0] for i in range(N_dim)]\n",
    "x_array = [all_state[item] for item in which_axes]\n",
    "x = x_array[0]\n",
    "y = x_array[1]\n",
    "state_lookup = separate_by_state(all_state, has_velocity = True)\n",
    "pColor = {\"00\": \"#3FC7F2\", \"01\": \"#FCEF51\", \"10\": \"#BEDC8C\", \"11\": \"#F7B6D2\"}\n",
    "pColor = {\"00\": \"#061DF7\", \"01\": \"#FCEF51\", \"10\": \"#3FC7F2\", \"11\": \"#F7B6D2\"}\n",
    "\n",
    "cont = ax.contourf(X, Y, U, 40, vmin = 0, vmax = 400, cmap = \"afmhot\")\n",
    "scat = [ax.scatter(x[state_lookup[key], 120], y[state_lookup[key], 120], c = pColor[key]) for key in state_lookup]"
   ]
  },
  {
   "cell_type": "code",
   "execution_count": null,
   "id": "129",
   "metadata": {},
   "outputs": [],
   "source": []
  },
  {
   "cell_type": "code",
   "execution_count": null,
   "id": "130",
   "metadata": {},
   "outputs": [],
   "source": []
  },
  {
   "cell_type": "code",
   "execution_count": null,
   "id": "131",
   "metadata": {},
   "outputs": [],
   "source": []
  },
  {
   "cell_type": "markdown",
   "id": "132",
   "metadata": {},
   "source": [
    "# phi_1dc, phi_2dc and gamma"
   ]
  },
  {
   "cell_type": "code",
   "execution_count": null,
   "id": "133",
   "metadata": {},
   "outputs": [],
   "source": [
    "general_analysis_tool = importlib.reload(general_analysis_tool)\n",
    "general_analysis_tool.show_phi_dc_with_time(simResult['cfqr'], params)"
   ]
  },
  {
   "cell_type": "code",
   "execution_count": null,
   "id": "134",
   "metadata": {},
   "outputs": [],
   "source": []
  },
  {
   "cell_type": "markdown",
   "id": "135",
   "metadata": {},
   "source": [
    "# save result"
   ]
  },
  {
   "cell_type": "code",
   "execution_count": null,
   "id": "136",
   "metadata": {},
   "outputs": [],
   "source": [
    "print(f\"current comment: {params['comment']}\")\n",
    "response = input(\"Are you happy with the current comment? If not, give me a new comment.\")\n",
    "if response == \"y\":\n",
    "    pass\n",
    "else:\n",
    "    params['comment'] = response"
   ]
  },
  {
   "cell_type": "code",
   "execution_count": null,
   "id": "137",
   "metadata": {},
   "outputs": [],
   "source": [
    "params['comment'] = \"test for save all_states\""
   ]
  },
  {
   "cell_type": "code",
   "execution_count": null,
   "id": "138",
   "metadata": {},
   "outputs": [],
   "source": [
    "cfq_batch_sweep.saveSimulationResult(simResult, U0_1, timeOrStep = 'step', save = True, save_final_state = False, saveFolderPath = \"coupled_flux_qubit_protocol/coupled_flux_qubit_data_gallery\", save_all_state = False)"
   ]
  },
  {
   "cell_type": "code",
   "execution_count": null,
   "id": "139",
   "metadata": {},
   "outputs": [],
   "source": []
  },
  {
   "cell_type": "markdown",
   "id": "140",
   "metadata": {},
   "source": [
    "# work_analysis"
   ]
  },
  {
   "cell_type": "code",
   "execution_count": null,
   "id": "141",
   "metadata": {},
   "outputs": [],
   "source": [
    "selected_work_distribution = simResult[\"work_distribution\"] < -0.2\n",
    "# selected_work_distribution = simResult[\"work_distribution\"] > 1.5\n",
    "# selected_work_distribution = np.logical_and(simResult[\"work_distribution\"] > -0.2, simResult[\"work_distribution\"] < 1.5)"
   ]
  },
  {
   "cell_type": "code",
   "execution_count": null,
   "id": "142",
   "metadata": {},
   "outputs": [],
   "source": []
  },
  {
   "cell_type": "code",
   "execution_count": null,
   "id": "143",
   "metadata": {},
   "outputs": [],
   "source": [
    "# animations\n",
    "vmin, vmax = 0, 100\n",
    "frame_skip = 1000\n",
    "# phi_1_dc, phi_2_dc = phi_1_dcx, phi_2_dcx\n",
    "particle_number = 0\n",
    "selected_particles = simResult[\"cfqr\"].sim.output.all_state[\"states\"][selected_work_distribution, ...]\n",
    "simResult[\"cfqr\"].system.protocol_list = protocol_list\n",
    "time_range = (computation_protocol_parameter_dict[\"t\"][0], computation_protocol_parameter_dict[\"t\"][-1])\n",
    "\n",
    "ani,_,_ = animate_sim_flux_qubit(selected_particles, system = simResult[\"cfqr\"].system ,\n",
    "                                   times = time_range, frame_skip=frame_skip, color_by_state=True,\n",
    "                                   vmin = vmin, vmax = vmax,\n",
    "                                   manual_domain = manual_domain)"
   ]
  },
  {
   "cell_type": "code",
   "execution_count": null,
   "id": "144",
   "metadata": {},
   "outputs": [],
   "source": [
    "# from IPython.display import HTML\n",
    "from IPython import display\n",
    "video = ani.to_html5_video()\n",
    "html = display.HTML(video)\n",
    "display.display(html)"
   ]
  },
  {
   "cell_type": "code",
   "execution_count": null,
   "id": "145",
   "metadata": {},
   "outputs": [],
   "source": []
  },
  {
   "cell_type": "code",
   "execution_count": null,
   "id": "146",
   "metadata": {},
   "outputs": [],
   "source": [
    "step_time_array = np.array(simResult[\"cfqr\"].sim.output.all_state[\"step_indices\"]) * params['dt']\n",
    "potential_array = []\n",
    "for _index, _t in enumerate(step_time_array):\n",
    "    _params_at_t = simResult['cfqr'].system.protocol.get_params(_t)\n",
    "    def cfq_potential(state):\n",
    "        # print(state)\n",
    "        phi_1, phi_2, phi_1dc, phi_2dc = state\n",
    "        return coupled_flux_qubit_non_linear_approx_pot(phi_1, phi_2, phi_1dc, phi_2dc, _params_at_t)\n",
    "    vectorized_cfq_potential = np.vectorize(cfq_potential, signature='(4)->()')\n",
    "    potential_array.append(vectorized_cfq_potential(selected_particles[:, _index, :, 0]))\n",
    "    \n",
    "    "
   ]
  },
  {
   "cell_type": "code",
   "execution_count": null,
   "id": "147",
   "metadata": {},
   "outputs": [],
   "source": [
    "plt.plot(potential_array)\n",
    "plt.show()"
   ]
  },
  {
   "cell_type": "code",
   "execution_count": null,
   "id": "148",
   "metadata": {},
   "outputs": [],
   "source": []
  },
  {
   "cell_type": "code",
   "execution_count": null,
   "id": "149",
   "metadata": {},
   "outputs": [],
   "source": []
  },
  {
   "cell_type": "code",
   "execution_count": null,
   "id": "150",
   "metadata": {},
   "outputs": [],
   "source": []
  },
  {
   "cell_type": "code",
   "execution_count": null,
   "id": "151",
   "metadata": {},
   "outputs": [],
   "source": []
  },
  {
   "cell_type": "code",
   "execution_count": null,
   "id": "152",
   "metadata": {},
   "outputs": [],
   "source": [
    "protocol_time_array, protocol_time_index_array = cfqr.createProtocolTimeArray(protocol_list, params)\n",
    "protocol_all_time_index_array = np.array(range(0, int(np.array(protocol_time_array[-1]) / params['dt']) + 1))\n",
    "protocol_all_time_array  = protocol_all_time_index_array * params['dt']"
   ]
  },
  {
   "cell_type": "code",
   "execution_count": null,
   "id": "153",
   "metadata": {},
   "outputs": [],
   "source": [
    "minimum_value_data_points = []\n",
    "importlib.reload(minimum_value_of_potential)\n",
    "for t in protocol_all_time_array[::1000]:\n",
    "    minimum_value_data = minimum_value_of_potential.find_minimum_for_all_potential_2(cfqr, t,  beta_1, beta_2, d_beta_1, d_beta_2, verbose = False)\n",
    "    minimum_value_data_points.append(minimum_value_data[1])"
   ]
  },
  {
   "cell_type": "code",
   "execution_count": null,
   "id": "154",
   "metadata": {},
   "outputs": [],
   "source": [
    "minimum_value_of_potential = importlib.reload(minimum_value_of_potential)"
   ]
  },
  {
   "cell_type": "code",
   "execution_count": null,
   "id": "155",
   "metadata": {
    "tags": []
   },
   "outputs": [],
   "source": [
    "minimum_value_data_points = np.array(minimum_value_data_points)"
   ]
  },
  {
   "cell_type": "code",
   "execution_count": null,
   "id": "156",
   "metadata": {},
   "outputs": [],
   "source": [
    "offset_value = minimum_value_data_points[1:] - minimum_value_data_points[:-1]"
   ]
  },
  {
   "cell_type": "code",
   "execution_count": null,
   "id": "157",
   "metadata": {},
   "outputs": [],
   "source": []
  },
  {
   "cell_type": "code",
   "execution_count": null,
   "id": "158",
   "metadata": {},
   "outputs": [],
   "source": [
    "all_minimum_value_at_t = []\n",
    "\n",
    "for t in protocol_time_array:\n",
    "    minimum_value_data = minimum_value_of_potential.find_all_minimum_points_for_all_potential(cfqr, t,  beta_1, beta_2, d_beta_1, d_beta_2, verbose = False, guess=[[-2, -2], [-2, 2], [2, -2], [2, 2]])\n",
    "    all_minimum_value_at_t.append([minimum_value_data, t])"
   ]
  },
  {
   "cell_type": "code",
   "execution_count": null,
   "id": "159",
   "metadata": {},
   "outputs": [],
   "source": [
    "all_minimum_value_at_t"
   ]
  },
  {
   "cell_type": "code",
   "execution_count": null,
   "id": "160",
   "metadata": {},
   "outputs": [],
   "source": []
  },
  {
   "cell_type": "code",
   "execution_count": null,
   "id": "161",
   "metadata": {},
   "outputs": [],
   "source": []
  },
  {
   "cell_type": "code",
   "execution_count": null,
   "id": "162",
   "metadata": {},
   "outputs": [],
   "source": [
    "plt.plot(minimum_value_data_points)"
   ]
  },
  {
   "cell_type": "code",
   "execution_count": null,
   "id": "163",
   "metadata": {},
   "outputs": [],
   "source": [
    "plt.plot(protocol_all_time_array[::10], minimum_value_data_points)"
   ]
  },
  {
   "cell_type": "code",
   "execution_count": null,
   "id": "164",
   "metadata": {},
   "outputs": [],
   "source": []
  },
  {
   "cell_type": "code",
   "execution_count": null,
   "id": "165",
   "metadata": {},
   "outputs": [],
   "source": []
  },
  {
   "cell_type": "code",
   "execution_count": null,
   "id": "166",
   "metadata": {},
   "outputs": [],
   "source": []
  },
  {
   "cell_type": "code",
   "execution_count": null,
   "id": "167",
   "metadata": {},
   "outputs": [],
   "source": [
    "import numpy as np\n",
    "from scipy import integrate\n",
    "beta_1 = 2.3\n",
    "gamma_1 = 10\n",
    "f = lambda y, x: np.exp(-(1/2 * x**2 + 1/2 * gamma_1 * y**2 + beta_1 * np.cos(x) + np.cos(y/2)))\n",
    "\n",
    "[integrate.dblquad(f, -k * np.pi, k * np.pi, -k * np.pi, k* np.pi)[0] for k in range(1, 20)]"
   ]
  },
  {
   "cell_type": "code",
   "execution_count": null,
   "id": "168",
   "metadata": {},
   "outputs": [],
   "source": [
    "f = lambda y: np.exp(-(1/2 * x**2 ))"
   ]
  },
  {
   "cell_type": "code",
   "execution_count": null,
   "id": "169",
   "metadata": {},
   "outputs": [],
   "source": []
  },
  {
   "cell_type": "code",
   "execution_count": null,
   "id": "170",
   "metadata": {},
   "outputs": [],
   "source": []
  }
 ],
 "metadata": {
  "kernelspec": {
   "display_name": "Python 3 (ipykernel)",
   "language": "python",
   "name": "python3"
  },
  "language_info": {
   "codemirror_mode": {
    "name": "ipython",
    "version": 3
   },
   "file_extension": ".py",
   "mimetype": "text/x-python",
   "name": "python",
   "nbconvert_exporter": "python",
   "pygments_lexer": "ipython3",
   "version": "3.10.9"
  }
 },
 "nbformat": 4,
 "nbformat_minor": 5
}
