{
 "cells": [
  {
   "cell_type": "code",
   "execution_count": null,
   "id": "0",
   "metadata": {},
   "outputs": [],
   "source": [
    "import numpy as np\n",
    "import importlib, os, datetime\n",
    "from sus.protocol_designer import System, Protocol, Potential, Compound_Protocol\n",
    "from sus.protocol_designer.protocol import sequential_protocol\n",
    "from IPython import display\n",
    "from IPython.display import HTML\n",
    "from quick_sim import setup_sim\n",
    "from edward_tools.coupled_fq_potential import coupled_flux_qubit_non_linear_approx_pot, coupled_flux_qubit_non_linear_approx_force, coupled_flux_qubit_non_linear_approx_pot_break_down, coupled_flux_qubit_non_linear_approx_force_break_down, coupled_flux_qubit_non_linear_approx_pot_only_d_beta\n",
    "import edward_tools.coupled_fq_potential as coupled_fq_potential_package\n",
    "\n",
    "import edward_tools.fq_runner as fq_runner\n",
    "from edward_tools.visualization import animate_sim_flux_qubit, separate_by_state\n",
    "from edward_tools.initial_state_sampling import extra_constraint_00_and_11_only\n",
    "from PARAMETER_INPUT import mapping_state_1_to_state_2_dict\n",
    "# from PARAMETER_INPUT import *\n",
    "# from PARAMETER_INPUT import _lambda, _theta, _eta\n",
    "from edward_tools.Analysis_tool.general_analysis_tools import show_phi_dc_with_time, getFidelityTimeGraph\n",
    "# from edward_tools.Analysis_tool.minimum_value_of_potential import animate_sim_flux_qubit_with_cutline\n",
    "import edward_tools.Analysis_tool.minimum_value_of_potential as minimum_value_of_potential\n",
    "import kyle_tools as kt\n",
    "import matplotlib.pyplot as plt\n",
    "\n",
    "import importlib, os, datetime\n",
    "from edward_tools import coupled_fq_protocol_library, cfq_runner\n",
    "from edward_tools import coupled_fq_protocol_library\n",
    "import edward_tools.cfq_batch_sweep as cfq_batch_sweep\n",
    "\n",
    "\n",
    "\n",
    "coupled_fq_protocol_library = importlib.reload(coupled_fq_protocol_library)\n",
    "create_system = coupled_fq_protocol_library.create_system\n",
    "get_potential_shot_at_different_t = coupled_fq_protocol_library.get_potential_shot_at_different_t\n",
    "get_potential_shot_at_different_t_1D = coupled_fq_protocol_library.get_potential_shot_at_different_t_1D\n",
    "create_simple_protocol_parameter_dict = coupled_fq_protocol_library.create_simple_protocol_parameter_dict\n",
    "coupled_fq_runner = importlib.reload(cfq_runner)\n",
    "coupled_fq_protocol_library = importlib.reload(coupled_fq_protocol_library)\n",
    "get_potential_along_a_1D_cutline = coupled_fq_protocol_library.get_potential_along_a_1D_cutline\n",
    "plotCutlines = coupled_fq_protocol_library.plotCutlines"
   ]
  },
  {
   "cell_type": "code",
   "execution_count": null,
   "id": "1",
   "metadata": {},
   "outputs": [],
   "source": [
    "PHI_0 = 2.067833848 * 1e-15\n",
    "k_B = 1.38e-23\n",
    "T = 0.5\n",
    "k_BT = k_B * T"
   ]
  },
  {
   "cell_type": "code",
   "execution_count": null,
   "id": "2",
   "metadata": {},
   "outputs": [],
   "source": []
  },
  {
   "cell_type": "code",
   "execution_count": null,
   "id": "3",
   "metadata": {},
   "outputs": [],
   "source": [
    "C_factor = 100\n",
    "L_factor = 0.35\n",
    "thermal_factor = 1\n",
    "\n",
    "# R_factor = 0.1\n",
    "R_factor = 1\n",
    "I_m_factor = 0\n",
    "# I_m_factor = 15\n",
    "I_p_1, I_p_2 = 2e-6 , 2e-6  # Amp\n",
    "I_m_1, I_m_2 = 7e-9 * I_m_factor, 7e-9 * I_m_factor                                # Amp\n",
    "C_1, C_2 = 4e-9 * C_factor, 4e-9 * C_factor                              # F\n",
    "L_1, L_2 = 1e-9 * L_factor, 1e-9 * L_factor                             # H \n",
    "\n",
    "R_1, R_2 = 371 * R_factor, 371 * R_factor                                # ohm \n",
    "\n",
    "m_c = C_1\n",
    "m_1 = C_1\n",
    "m_2 = C_2\n",
    "x_c = PHI_0 / (2 * np.pi)\n",
    "# time_scale_factor = 1\n",
    "t_c = np.sqrt(L_1 * C_1)\n",
    "v_c = x_c / t_c\n",
    "\n",
    "\n",
    "U0_1 = m_c * x_c**2 / t_c**2\n",
    "U0_2 = m_2 * x_c**2 / t_c**2\n",
    "U0_1_k_BT_ratio = U0_1 / k_BT\n",
    "kappa_1, kappa_2, kappa_3, kappa_4 = k_BT/U0_1, k_BT/U0_1, k_BT/U0_1, k_BT/U0_1 # these are kappa' in the equation\n",
    "\n",
    "lambda_1 = 2 * np.sqrt(L_1 * C_1) / (C_1 * R_1)\n",
    "theta_1  = 1\n",
    "eta_1    = np.sqrt(np.sqrt(L_1 * C_1)/ (R_1 * C_1)) * np.sqrt(2 * kappa_1)\n",
    "\n",
    "lambda_2 = 2 * np.sqrt(L_1 * C_1) / (C_2 * R_2)\n",
    "theta_2  = 1 / (C_2/C_1)\n",
    "eta_2    = np.sqrt(np.sqrt(L_1 * C_1)/ (R_1 * C_1)) * np.sqrt(2 * kappa_2 * (R_1 * C_1**2) / (R_2 * C_2**2))\n",
    "\n",
    "lambda_3 = 2 * np.sqrt(L_1 * C_1) / (C_1 * R_1)\n",
    "theta_3  = 4\n",
    "eta_3    = np.sqrt(np.sqrt(L_1 * C_1)/ (R_1 * C_1)) * np.sqrt(8 * kappa_3)\n",
    "\n",
    "lambda_4 = 2 * np.sqrt(L_1 * C_1) / (C_2 * R_2)\n",
    "theta_4  = 4 / (C_2/C_1)\n",
    "eta_4    = np.sqrt(np.sqrt(L_1 * C_1)/ (R_1 * C_1)) * np.sqrt(8 * kappa_4 * (R_1 * C_1**2) / (R_2 * C_2**2))\n",
    "\n",
    "gamma = 10\n",
    "\n",
    "\n",
    "beta_1 = 2 * np.pi * L_1 * I_p_1 / PHI_0; \n",
    "beta_2 = 2 * np.pi * L_2 * I_p_2 / PHI_0;\n",
    "\n",
    "d_beta_1 = 2 * np.pi * L_1 * I_m_1 / PHI_0; \n",
    "d_beta_2 = 2 * np.pi * L_2 * I_m_2 / PHI_0;\n",
    "\n",
    "\n",
    "\n",
    "_lambda = np.array([lambda_1, lambda_2, lambda_3, lambda_4]) *thermal_factor\n",
    "_theta  = np.array([theta_1, theta_2, theta_3, theta_4])\n",
    "_eta  =   np.array([eta_1, eta_2, eta_3, eta_4]) *thermal_factor"
   ]
  },
  {
   "cell_type": "code",
   "execution_count": null,
   "id": "4",
   "metadata": {},
   "outputs": [],
   "source": [
    "\"\"\"\n",
    "# step 0: modify parameters\n",
    "- All the parameters are stored in a separate file PARAMETER_INPUT\n",
    "- You can override some of the parameters here.\n",
    "\"\"\"\n",
    "params = {}\n",
    "params['N'] = 1000\n",
    "params['dt'] = 1/100\n",
    "params['lambda'] = 1\n",
    "params['beta'] = 1\n",
    "params['sim_params'] = [_lambda, _theta, _eta]\n",
    "\n",
    "params['target_work'] = None\n",
    "params['comment'] = \"test new save method\"\n",
    "params['capacitance'] = [C_1, C_2, C_1/4, C_2/4]\n",
    "params['mass_special'] = [1, 1, 1/4, 1/4]\n",
    "params['v_c'] = x_c/t_c\n",
    "params['k_BT'] = k_BT\n",
    "params['U0'] = U0_1\n"
   ]
  },
  {
   "cell_type": "code",
   "execution_count": null,
   "id": "5",
   "metadata": {},
   "outputs": [],
   "source": [
    "\"\"\"\n",
    "# step 1: Define potential\n",
    "\"\"\"\n",
    "coupled_fq_default_param = [1, 1, 0, 0, 0, 0, 0, 0, 0, 0, 0, 0, 0, x_c]\n",
    "[phi_1_bound, phi_2_bound, phi_1dc_bound, phi_2dc_bound] = np.array([4, 4, 4, 4])\n",
    "\n",
    "coupled_fq_domain = [[-phi_1_bound, -phi_2_bound, -phi_1dc_bound, -phi_2dc_bound], \\\n",
    "                     [phi_1_bound, phi_2_bound, phi_1dc_bound, phi_2dc_bound]]\n",
    "\n",
    "# coupled_fq_pot = Potential(coupled_flux_qubit_pot_with_offset_at_00_xy, coupled_flux_qubit_force, 14, 4,\\\n",
    "#                            default_params = coupled_fq_default_param,  relevant_domain = coupled_fq_domain)\n",
    "\n",
    "coupled_fq_pot = Potential(coupled_flux_qubit_non_linear_approx_pot, coupled_flux_qubit_non_linear_approx_force, 14, 4,\\\n",
    "                           default_params = coupled_fq_default_param,  relevant_domain = coupled_fq_domain)\n",
    "\n"
   ]
  },
  {
   "cell_type": "code",
   "execution_count": null,
   "id": "6",
   "metadata": {},
   "outputs": [],
   "source": [
    "\"\"\"\n",
    "# step 2: Define initial condition and protocol\n",
    "\"\"\"\n",
    "manual_domain=[np.array([-5, -5]), np.array([5, 5])]\n",
    "# phi_1_dcx, phi_2_dcx = 3, 3\n",
    "phi_1_dcx, phi_2_dcx = 0, 0\n",
    "phi_1_dc, phi_2_dc = phi_1_dcx, phi_2_dcx\n",
    "\n",
    "phi_1_x_off = 0\n",
    "phi_2_x_off = 0\n",
    "phi_1_dcx_off = 0\n",
    "phi_2_dcx_off = 0\n",
    "M_12_off = 0\n",
    "\n",
    "# bookmark\n",
    "phi_1_x_on = -0.193605263157894\n",
    "phi_2_x_on = -0.193605263157894\n",
    "\n",
    "phi_1_x_on = 0\n",
    "phi_2_x_on = 0\n",
    "# phi_1_x_on = -d_beta_1 * np.sin(1.556) / 1.55\n",
    "# phi_2_x_on = -d_beta_2 * np.sin(1.556) / 1.55\n",
    "\n",
    "# print(d_beta_2 * np.sin(1.556) / 1.556)\n",
    "\n",
    "phi_1_dcx_on = 3.0\n",
    "phi_2_dcx_on = 3.0\n",
    "M_12_on = -0.6\n",
    "\n",
    "initial_parameter_dict = {\n",
    "        \"U0_1\": U0_1,     \"U0_2\": U0_2,     \"gamma_1\": gamma,  \"gamma_2\": gamma,\n",
    "        \"beta_1\": beta_1,   \"beta_2\": beta_2,   \"d_beta_1\": d_beta_1 ,   \"d_beta_2\": d_beta_2,\n",
    "        \"phi_1_x\": 0,  \"phi_2_x\": 0,  \"phi_1_dcx\": phi_1_dcx_off,  \"phi_2_dcx\": phi_1_dcx_off,\n",
    "        \"M_12\": M_12_off, 'x_c': x_c\n",
    "}\n",
    "\n",
    "\n",
    "# initial_parameter_dict = {\n",
    "#         \"U0_1\": U0_1,     \"U0_2\": U0_2,     \"gamma_1\": gamma,  \"gamma_2\": gamma,\n",
    "#         \"beta_1\": beta_1,   \"beta_2\": beta_2,   \"d_beta_1\": d_beta_1 ,   \"d_beta_2\": d_beta_2,\n",
    "#         \"phi_1_x\": -0.10,  \"phi_2_x\": -0.10,  \"phi_1_dcx\": phi_1_dcx_off,  \"phi_2_dcx\": phi_1_dcx_off,\n",
    "#         \"M_12\": M_12_off, 'x_c': x_c\n",
    "# }\n",
    "\n",
    "\n"
   ]
  },
  {
   "cell_type": "code",
   "execution_count": null,
   "id": "7",
   "metadata": {},
   "outputs": [],
   "source": [
    "zeroDissipation = False\n",
    "saveAllStates = True\n",
    "_lambda_multiplier = 1000\n",
    "params['circuit_parameters'] = {\n",
    "    \"C_factor\":C_factor, \"L_factor\": L_factor, \"I_m_factor\": I_m_factor, \"T\": T, \n",
    "    \"I_p_1\": I_p_1, \"I_p_2\": I_p_2, \"I_m_1\": I_m_1, \"I_m_2\": I_m_2,\n",
    "    \"R_1\": R_1, \"R_2\": R_2, \"C_1\": C_1, \"C_2\": C_2, \"L_1\": L_1, \"L_2\": L_2, \n",
    "    \"phi_1_x_on\": phi_1_x_on, \"phi_2_x_on\": phi_1_x_on,\n",
    "    \"phi_1_dcx_on\": phi_1_dcx_on, \"phi_2_dcx_on\": phi_2_dcx_on, \"M_12_on\": M_12_on,\n",
    "    \"gamma\": gamma\n",
    "}\n",
    "\n",
    "params['sim_params'] = [_lambda, _theta, _eta]\n",
    "params['sim_params'] = [_lambda * _lambda_multiplier, _theta, _eta]\n",
    "if zeroDissipation:\n",
    "    params['sim_params'] = [_lambda * 0, _theta, _eta * 0]\n",
    "\n",
    "TR_initial_condition = [\n",
    "    (phi_1_dcx_off, phi_2_dcx_off, M_12_off), \n",
    "    (phi_1_dcx_off, phi_2_dcx_on,  M_12_off), \n",
    "    (phi_1_dcx_off, phi_2_dcx_on,  M_12_on), \n",
    "    (phi_1_dcx_off, phi_2_dcx_off, M_12_on), \n",
    "    (phi_1_dcx_off, phi_2_dcx_off, M_12_off), \n",
    "    (phi_1_dcx_on,  phi_2_dcx_off, M_12_off)]\n",
    "\n",
    "protocol_index = 0\n",
    "\n",
    "# bookmark\n",
    "# initial_parameter_dict[\"phi_1_dcx\"], initial_parameter_dict[\"phi_2_dcx\"], initial_parameter_dict[\"M_12\"] = TR_initial_condition[protocol_index-1]\n",
    "initial_parameter_dict[\"phi_1_dcx\"], initial_parameter_dict[\"phi_2_dcx\"], initial_parameter_dict[\"M_12\"] = \\\n",
    "TR_initial_condition[0]\n",
    "\n",
    "\n",
    "\n",
    "\n",
    "\n",
    "\n",
    "protocol_list = [\n",
    "    # forward\n",
    "    # {\"duration\":50, \"phi_2_x\": phi_2_x_on * 0.5,  \"phi_1_dcx\": phi_1_dcx_off, \"phi_2_dcx\": phi_2_dcx_on * 0.5,  \"M_12\": M_12_off,  \"name\":\"(1) mix in y direction\"},\n",
    "    {\"duration\":200,\"phi_1_x\": -1.5, \"phi_1_dcx\": phi_1_dcx_off, \"phi_2_dcx\": phi_2_dcx_off,  \"M_12\": M_12_off,  \"name\":\"(1) mix in y direction\"},\n",
    "    # {\"duration\":100, \"phi_2_x\": phi_2_x_off, \"phi_1_dcx\": phi_1_dcx_off,  \"M_12\": M_12_off,   \"name\":\"(2) conditional tilt in y\"},\n",
    "\n",
    "#     {\"duration\":200, \"phi_2_x\": phi_2_x_off, \"phi_1_dcx\": phi_1_dcx_off, \"phi_2_dcx\": phi_2_dcx_off, \"M_12\": M_12_off,  \"name\":\"return to 4 well\"},\n",
    "    \n",
    "#     {\"duration\":60, \"phi_1_x\": phi_1_x_on, \"phi_2_x\": phi_2_x_off, \"phi_1_dcx\": phi_1_dcx_on,  \"phi_2_dcx\": phi_2_dcx_off, \"M_12\": M_12_on,  \"name\": \"(4) conditional tilt in x\"}, \n",
    "#     {\"duration\":60, \"phi_1_dcx\": phi_1_dcx_on,  \"phi_2_dcx\": phi_2_dcx_off, \"M_12\": M_12_off,  \"name\":\"(5) mix in x direction\"}, \n",
    "#     {\"duration\":200, \"phi_1_x\": phi_1_x_on * 0.5, \"phi_1_dcx\": phi_1_dcx_on * 0.5, \"phi_2_dcx\": phi_2_dcx_off, \"M_12\": M_12_off,  \"name\":\"(6) 4 well potential\"}, \n",
    "#     {\"duration\":50,  \"phi_1_x\": phi_1_x_off, \"phi_1_dcx\": phi_1_dcx_off, \"phi_2_dcx\": phi_2_dcx_off, \"M_12\": M_12_off,  \"name\":\"(6) 4 well potential\"}, \n",
    "#     {\"duration\":200,  \"phi_1_x\": phi_1_x_off, \"phi_1_dcx\": phi_1_dcx_off, \"phi_2_dcx\": phi_2_dcx_off, \"M_12\": M_12_off,  \"name\":\"(6) 4 well potential\"}, \n",
    "]\n",
    "\n",
    "time_scale = 1\n",
    "# protocol_list = [\n",
    "#     # forward\n",
    "#     {\"duration\":50 * time_scale, \"phi_2_x\": phi_2_x_on * 0.2,  \"phi_1_dcx\": phi_1_dcx_off, \"phi_2_dcx\": phi_2_dcx_on * 0.5,  \"M_12\": M_12_off,  \"name\": r\"Substage 1: Mix along $\\varphi_2$ direction (1)\"},\n",
    "#     {\"duration\":200 * time_scale,\"phi_2_x\": phi_2_x_on, \"phi_1_dcx\": phi_1_dcx_off, \"phi_2_dcx\": phi_2_dcx_on,  \"M_12\": M_12_off,  \"name\": r\"Substage 2: Mix along $\\varphi_2$ direction (2)\"},\n",
    "#     {\"duration\":60 * time_scale, \"phi_1_dcx\": phi_1_dcx_off, \"phi_2_dcx\": phi_2_dcx_on,  \"M_12\": M_12_on,   \"name\": r\"Substage 3: Conditional Tilt along $\\varphi_2$ direction\"},\n",
    "#     {\"duration\":200 * time_scale, \"phi_2_x\": phi_2_x_off, \"phi_1_dcx\": phi_1_dcx_off, \"phi_2_dcx\": phi_2_dcx_off, \"M_12\": M_12_off,  \"name\":\"Substage 4: return to 4 well\"},\n",
    "#     {\"duration\":60 * time_scale, \"phi_1_x\": phi_1_x_on, \"phi_2_x\": phi_1_x_off, \"phi_1_dcx\": phi_1_dcx_on,  \"phi_2_dcx\": phi_2_dcx_off, \"M_12\": M_12_on,  \"name\": r\"Substage 5: Conditional Tilt along $\\varphi_1$ direction\"},\n",
    "#     {\"duration\":60 * time_scale, \"phi_1_dcx\": phi_1_dcx_on,  \"phi_2_dcx\": phi_2_dcx_off, \"M_12\": M_12_off,  \"name\": r\"Substage 6: Mix along $\\varphi_2$ direction (2)\"},\n",
    "#     {\"duration\":200 * time_scale, \"phi_1_x\": phi_1_x_on * 0.2, \"phi_1_dcx\": phi_1_dcx_on * 0.5, \"phi_2_dcx\": phi_2_dcx_off, \"M_12\": M_12_off,  \"name\":\"Substage 7: return to 4 well (1)\"},\n",
    "#     {\"duration\":50 * time_scale,  \"phi_1_x\": phi_1_x_off, \"phi_1_dcx\": phi_1_dcx_off, \"phi_2_dcx\": phi_2_dcx_off, \"M_12\": M_12_off,  \"name\": \"Substage 8: return to 4 well (2)\"},\n",
    "# ]\n",
    "\n",
    "\n",
    "# protocol_list = [\n",
    "#     # forward\n",
    "#     {\"duration\":50 * time_scale,  \"phi_1_dcx\": phi_1_dcx_off,      \"phi_2_dcx\": phi_2_dcx_on * 0.5,  \"M_12\": M_12_off,  \"name\": r\"Substage 1: Mix along $\\varphi_2$ direction (1)\"},\n",
    "#     {\"duration\":200 * time_scale, \"phi_1_dcx\": phi_1_dcx_off,      \"phi_2_dcx\": phi_2_dcx_on,        \"M_12\": M_12_off,  \"name\": r\"Substage 2: Mix along $\\varphi_2$ direction (2)\"},\n",
    "#     {\"duration\":60 * time_scale,  \"phi_1_dcx\": phi_1_dcx_off,      \"phi_2_dcx\": phi_2_dcx_on,        \"M_12\": M_12_on,   \"name\": r\"Substage 3: Conditional Tilt along $\\varphi_2$ direction\"},\n",
    "#     {\"duration\":200 * time_scale, \"phi_1_dcx\": phi_1_dcx_off,      \"phi_2_dcx\": phi_2_dcx_off,       \"M_12\": M_12_off,  \"name\":\"Substage 4: return to 4 well\"},\n",
    "#     {\"duration\":60 * time_scale,  \"phi_1_dcx\": phi_1_dcx_on,       \"phi_2_dcx\": phi_2_dcx_off,       \"M_12\": M_12_on,  \"name\": r\"Substage 5: Conditional Tilt along $\\varphi_1$ direction\"},\n",
    "#     {\"duration\":60 * time_scale,  \"phi_1_dcx\": phi_1_dcx_on,       \"phi_2_dcx\": phi_2_dcx_off,       \"M_12\": M_12_off,  \"name\": r\"Substage 6: Mix along $\\varphi_2$ direction (2)\"},\n",
    "#     {\"duration\":200 * time_scale, \"phi_1_dcx\": phi_1_dcx_on * 0.5, \"phi_2_dcx\": phi_2_dcx_off,       \"M_12\": M_12_off,  \"name\":\"Substage 7: return to 4 well (1)\"},\n",
    "#     {\"duration\":50 * time_scale,  \"phi_1_dcx\": phi_1_dcx_off,      \"phi_2_dcx\": phi_2_dcx_off,       \"M_12\": M_12_off,  \"name\": \"Substage 8: return to 4 well (2)\"},\n",
    "# ]\n",
    "\n",
    "protocol_list = [\n",
    "    # forward\n",
    "    {\"duration\":40, \"phi_1_dcx\": phi_1_dcx_off, \"phi_2_dcx\": phi_2_dcx_on,  \"M_12\": M_12_off,  \"name\":\"(1) mix in y direction\"},\n",
    "    # {\"duration\":40, \"phi_1_dcx\": phi_1_dcx_off, \"phi_2_dcx\": phi_2_dcx_on,  \"M_12\": -0.25,   \"name\":\"(2) conditional tilt\"},\n",
    "    # {\"duration\":100, \"phi_1_dcx\": phi_1_dcx_off, \"phi_2_dcx\": phi_2_dcx_off, \"M_12\": -0.25,   \"name\":\"(3) raise the barrier\"},\n",
    "    {\"duration\":40, \"phi_1_dcx\": phi_1_dcx_off,  \"phi_2_dcx\": phi_2_dcx_off, \"M_12\": M_12_off,  \"name\":\"(4) 4 well potential 1st time\"}, \n",
    "    {\"duration\":50, \"phi_1_dcx\": phi_1_dcx_off,  \"phi_2_dcx\": phi_2_dcx_off, \"M_12\": M_12_off,  \"name\":\"(4) 4 well potential 1st time\"}, \n",
    "\n",
    "]\n"
   ]
  },
  {
   "cell_type": "code",
   "execution_count": null,
   "id": "8",
   "metadata": {},
   "outputs": [],
   "source": []
  },
  {
   "cell_type": "markdown",
   "id": "9",
   "metadata": {},
   "source": [
    "# tilting potential"
   ]
  },
  {
   "cell_type": "code",
   "execution_count": null,
   "id": "10",
   "metadata": {},
   "outputs": [],
   "source": [
    "from scipy import optimize"
   ]
  },
  {
   "cell_type": "code",
   "execution_count": null,
   "id": "11",
   "metadata": {},
   "outputs": [],
   "source": [
    "def tilt_phi_1(t, result):\n",
    "    beta_1, beta_2       = result[4], result[5]\n",
    "    d_beta_1, d_beta_2   = result[6], result[7]\n",
    "    _phi_1x, _phi_2x     = result[8], result[9]\n",
    "    _phi_1x, _phi_2x     = 0, 0\n",
    "    _phi_1dcx, _phi_2dcx = result[10], result[11]\n",
    "    _M_12                = result[12]\n",
    "    _phi_1dc, _phi_2dc   = _phi_1dcx, _phi_2dcx\n",
    "    _xi = 1 / (1 - _M_12**2)\n",
    "    # print(\"M_12: \", _M_12)\n",
    "    def Fcn(_phi_1):\n",
    "        u1_1 = 1/2 * _xi * (_phi_1 - _phi_1x)**2\n",
    "        u3_1 = beta_1 * np.cos(_phi_1) * np.cos(_phi_1dc/2)\n",
    "        u4_1 = -d_beta_1 * np.sin(_phi_1) * np.sin(_phi_1dc/2)\n",
    "        \n",
    "        return u1_1 + u3_1 + u4_1\n",
    "\n",
    "    \n",
    "        \n",
    "    solution_set = [optimize.fmin(Fcn, _g, disp=False) for _g in [-2, 2]]\n",
    "    solution_set = [sol[0] for sol in solution_set]\n",
    "    # print(\"solution_set_before: \", solution_set)    \n",
    "    phi_1_a, phi_1_b = abs(max(solution_set)), -abs(max(solution_set))\n",
    "    solution_set = [phi_1_a, phi_1_b]\n",
    "    # phi_1_a, phi_1_b = solution_set\n",
    "    # print(\"solution_set_after: \", solution_set)\n",
    "    \n",
    "    # correct_phi_1x = 1/2 * (phi_1_a + phi_1_b) - 1/(phi_1_a - phi_1_b) * \\\n",
    "    #                  (d_beta_1 * (np.sin(phi_1_a) - np.sin(phi_1_b)) * np.sin(_phi_1dc/2) -\\\n",
    "    #                  beta_1 * np.cos(_phi_1dc/2) * (np.cos(phi_1_a) - np.cos(phi_1_b)))\n",
    "    phi_1_sol_set.append(solution_set)\n",
    "    correct_phi_1x = 1/2 * (phi_1_a + phi_1_b) - 1/(phi_1_a - phi_1_b) * \\\n",
    "                 (d_beta_1 * (np.sin(phi_1_a) - np.sin(phi_1_b)) * np.sin(_phi_1dc/2) -\\\n",
    "                 beta_1 * np.cos(_phi_1dc/2) * (np.cos(phi_1_a) - np.cos(phi_1_b)))\n",
    "    result[8] = correct_phi_1x\n",
    "    \n",
    "    return result\n"
   ]
  },
  {
   "cell_type": "code",
   "execution_count": null,
   "id": "12",
   "metadata": {},
   "outputs": [],
   "source": [
    "def tilt_phi_2(t, result):\n",
    "    beta_1, beta_2       = result[4], result[5]\n",
    "    d_beta_1, d_beta_2   = result[6], result[7]\n",
    "    _phi_1x, _phi_2x     = result[8], result[9]\n",
    "    _phi_1x, _phi_2x     = 0, 0\n",
    "    _phi_1dcx, _phi_2dcx = result[10], result[11]\n",
    "    _M_12                = result[12]\n",
    "    _phi_1dc, _phi_2dc   = _phi_1dcx, _phi_2dcx\n",
    "    _xi = 1 / (1 - _M_12**2)\n",
    "\n",
    "    \n",
    "    def Fcn(_phi_2):\n",
    "        u1_2 = 1/2 * _xi * (_phi_2 - _phi_2x)**2        \n",
    "        u3_2 = beta_2 * np.cos(_phi_2) * np.cos(_phi_2dc/2)\n",
    "        u4_2 = -d_beta_2 * np.sin(_phi_2) * np.sin(_phi_2dc/2)\n",
    "        \n",
    "        # u5 = _M_12 * _xi * (_phi_1 - _phi_1x) * (_phi_2 - _phi_2x)\n",
    "        return u1_2 + u3_2 + u4_2\n",
    "\n",
    "\n",
    "    solution_set = [optimize.fmin(Fcn, _g, disp=False) for _g in [-2, 2]]\n",
    "    solution_set = [sol[0] for sol in solution_set]\n",
    "    phi_2_a, phi_2_b = abs(min(solution_set)), -abs(min(solution_set))\n",
    "    \n",
    "    correct_phi_2x = 1/2 * (phi_2_a + phi_2_b) - 1/(phi_2_a - phi_2_b) * \\\n",
    "                 (d_beta_1 * (np.sin(phi_2_a) - np.sin(phi_2_b)) * np.sin(_phi_2dc/2) -\\\n",
    "                 beta_1 * np.cos(_phi_2dc/2) * (np.cos(phi_2_a) - np.cos(phi_2_b)))\n",
    "    result[9] = correct_phi_2x\n",
    "\n",
    "    return result"
   ]
  },
  {
   "cell_type": "code",
   "execution_count": null,
   "id": "13",
   "metadata": {},
   "outputs": [],
   "source": []
  },
  {
   "cell_type": "code",
   "execution_count": null,
   "id": "14",
   "metadata": {},
   "outputs": [],
   "source": []
  },
  {
   "cell_type": "code",
   "execution_count": null,
   "id": "15",
   "metadata": {},
   "outputs": [],
   "source": []
  },
  {
   "cell_type": "code",
   "execution_count": null,
   "id": "16",
   "metadata": {},
   "outputs": [],
   "source": [
    "solution_set_x_array = []\n",
    "solution_set_y_array = []\n",
    "\n",
    "\n",
    "def tilt_phi_1_2D(t, result):\n",
    "    beta_1, beta_2       = result[4], result[5]\n",
    "    d_beta_1, d_beta_2   = result[6], result[7]\n",
    "    _phi_1x, _phi_2x     = result[8], result[9]\n",
    "    _phi_1x, _phi_2x     = 0, 0\n",
    "    _phi_1dcx, _phi_2dcx = result[10], result[11]\n",
    "    _M_12                = result[12]\n",
    "    _phi_1dc, _phi_2dc   = _phi_1dcx, _phi_2dcx\n",
    "    _xi = 1 / (1 - _M_12**2)\n",
    "    \n",
    "    def Fcn(coord):\n",
    "        _phi_1, _phi_2 = coord\n",
    "        u1_1 = 1/2 * _xi * (_phi_1 - _phi_1x)**2\n",
    "        u3_1 = beta_1 * np.cos(_phi_1) * np.cos(_phi_1dc/2)\n",
    "        u4_1 = d_beta_1 * np.sin(_phi_1) * np.sin(_phi_1dc/2)\n",
    "\n",
    "        u1_2 = 1/2 * _xi * (_phi_2 - _phi_2x)**2        \n",
    "        u3_2 = beta_2 * np.cos(_phi_2) * np.cos(_phi_2dc/2)\n",
    "        u4_2 = -d_beta_2 * np.sin(_phi_2) * np.sin(_phi_2dc/2)\n",
    "\n",
    "        u5 = _M_12 * _xi * (_phi_1 - _phi_1x) * (_phi_2 - _phi_2x)\n",
    "\n",
    "        return u1_1 + u1_2 + u3_1 + u3_2 + u4_1 + u4_2 + u5\n",
    "\n",
    "    solution_set = [optimize.fmin(Fcn, _g, disp=False) for _g in [[-2, -2], [2, 2]]]\n",
    "    solution_set_x = [sol[0] for sol in solution_set]\n",
    "    solution_set_y = [sol[1] for sol in solution_set]\n",
    "    solution_set_x_array.append(solution_set_x)\n",
    "    \n",
    "    phi_1_a, phi_1_b = abs(min(solution_set_x)), -abs(min(solution_set_x))\n",
    "    \n",
    "    correct_phi_1x = 1/2 * (phi_1_a + phi_1_b) - 1/(phi_1_a - phi_1_b) * \\\n",
    "                 (d_beta_1 * (np.sin(phi_1_a) - np.sin(phi_1_b)) * np.sin(_phi_1dc/2) -\\\n",
    "                 beta_1 * np.cos(_phi_1dc/2) * (np.cos(phi_1_a) - np.cos(phi_1_b)))\n",
    "    result[8] = correct_phi_1x\n",
    "    \n",
    "    return result\n",
    "\n",
    "def tilt_phi_2_2D(t, result):\n",
    "    beta_1, beta_2       = result[4], result[5]\n",
    "    d_beta_1, d_beta_2   = result[6], result[7]\n",
    "    _phi_1x, _phi_2x     = result[8], result[9]\n",
    "    _phi_1x, _phi_2x     = 0, 0\n",
    "    _phi_1dcx, _phi_2dcx = result[10], result[11]\n",
    "    _M_12                = result[12]\n",
    "    _phi_1dc, _phi_2dc   = _phi_1dcx, _phi_2dcx\n",
    "    _xi = 1 / (1 - _M_12**2)\n",
    "    \n",
    "    def Fcn(coord):\n",
    "        _phi_1, _phi_2 = coord\n",
    "        u1_1 = 1/2 * _xi * (_phi_1 - _phi_1x)**2\n",
    "        u3_1 = beta_1 * np.cos(_phi_1) * np.cos(_phi_1dc/2)\n",
    "        u4_1 = d_beta_1 * np.sin(_phi_1) * np.sin(_phi_1dc/2)\n",
    "\n",
    "        u1_2 = 1/2 * _xi * (_phi_2 - _phi_2x)**2        \n",
    "        u3_2 = beta_2 * np.cos(_phi_2) * np.cos(_phi_2dc/2)\n",
    "        u4_2 = -d_beta_2 * np.sin(_phi_2) * np.sin(_phi_2dc/2)\n",
    "\n",
    "        u5 = _M_12 * _xi * (_phi_1 - _phi_1x) * (_phi_2 - _phi_2x)\n",
    "\n",
    "        return u1_1 + u1_2 + u3_1 + u3_2 + u4_1 + u4_2 + u5\n",
    "\n",
    "    solution_set = [optimize.fmin(Fcn, _g, disp=False) for _g in [[-2, -2], [2, 2]]]\n",
    "    solution_set_x = [sol[0] for sol in solution_set]\n",
    "    solution_set_y = [sol[1] for sol in solution_set]\n",
    "    phi_2_a, phi_2_b = abs(min(solution_set_y)), -abs(min(solution_set_y))\n",
    "    solution_set_y_array.append(solution_set_y)\n",
    "    \n",
    "    correct_phi_2x = 1/2 * (phi_2_a + phi_2_b) - 1/(phi_2_a - phi_2_b) * \\\n",
    "                     (d_beta_2 * (np.sin(phi_2_a) - np.sin(phi_2_b)) * np.sin(_phi_2dc/2) -\\\n",
    "                     beta_2 * np.cos(_phi_2dc/2) * (np.cos(phi_2_a) - np.cos(phi_2_b)))\n",
    "    result[9] = correct_phi_2x\n",
    "    \n",
    "    return result"
   ]
  },
  {
   "cell_type": "code",
   "execution_count": null,
   "id": "17",
   "metadata": {},
   "outputs": [],
   "source": []
  },
  {
   "cell_type": "code",
   "execution_count": null,
   "id": "18",
   "metadata": {},
   "outputs": [],
   "source": []
  },
  {
   "cell_type": "code",
   "execution_count": null,
   "id": "19",
   "metadata": {},
   "outputs": [],
   "source": []
  },
  {
   "cell_type": "code",
   "execution_count": null,
   "id": "20",
   "metadata": {},
   "outputs": [],
   "source": []
  },
  {
   "cell_type": "code",
   "execution_count": null,
   "id": "21",
   "metadata": {},
   "outputs": [],
   "source": []
  },
  {
   "cell_type": "code",
   "execution_count": null,
   "id": "22",
   "metadata": {},
   "outputs": [],
   "source": [
    "\n",
    "\"\"\"\n",
    "# step 3: create the relevant storage protocol and computation protocol\n",
    "\"\"\"\n",
    "\n",
    "# from edward_tools.Analysis_tool.minimum_value_of_potential import tilt_phi_1, tilt_phi_2\n",
    "\n",
    "modifiedFunctionArray = [tilt_phi_2, tilt_phi_2, None, None, None, None, tilt_phi_1, tilt_phi_1]\n",
    "modifiedFunctionArray = [tilt_phi_2_2D, tilt_phi_2_2D, None, None, None, None, tilt_phi_1_2D, tilt_phi_1_2D]\n",
    "modifiedFunctionArray = [None, None, None, None, None, None, None, None]\n",
    "computation_protocol_parameter_dict = coupled_fq_protocol_library.customizedProtocol(initial_parameter_dict, \\\n",
    "                                                                    protocol_list)\n",
    "storage_protocol, comp_protocol = create_system(computation_protocol_parameter_dict, modifiedFunction=modifiedFunctionArray)"
   ]
  },
  {
   "cell_type": "code",
   "execution_count": null,
   "id": "23",
   "metadata": {},
   "outputs": [],
   "source": [
    "\"\"\"\n",
    "# step 4: create the coupled_fq_runner\n",
    "\"\"\"\n",
    "cfqr = cfq_runner.coupledFluxQubitRunner(potential = coupled_fq_pot, params = params, \\\n",
    "                                                storage_protocol= storage_protocol, \\\n",
    "                                                computation_protocol= comp_protocol, protocol_list = protocol_list)\n",
    "protocol_time_array, protocol_time_index_array, protocol_all_time_array, protocol_time_all_index_array = cfqr.createProtocolTimeArray(protocol_list, params)\n",
    "cfqr.initialize_sim()\n",
    "# cfqr.set_sim_attributes(extra_constraint=extra_constraint_00_and_11_only)\n",
    "cfqr.set_sim_attributes()\n",
    "init_state_saved = cfqr.init_state\n",
    "\n",
    "\n"
   ]
  },
  {
   "cell_type": "code",
   "execution_count": null,
   "id": "24",
   "metadata": {},
   "outputs": [],
   "source": []
  },
  {
   "cell_type": "code",
   "execution_count": null,
   "id": "25",
   "metadata": {},
   "outputs": [],
   "source": [
    "\n",
    "_phi_1 = np.linspace(-4, 4, 1000)\n",
    "line_colors = [\"blue\", \"orange\", \"green\", \"red\", \"grey\"]\n",
    "phi_1_sol_set = [] \n",
    "test_t_array = np.linspace(630, 880, 5)\n",
    "for _i, _t in enumerate(test_t_array):\n",
    "    result = cfqr.protocol.get_params(_t)\n",
    "    beta_1, beta_2       = result[4], result[5]\n",
    "    d_beta_1, d_beta_2   = result[6], result[7]\n",
    "    _phi_1x, _phi_2x     = result[8], result[9]\n",
    "    _phi_1dcx, _phi_2dcx = result[10], result[11]\n",
    "    _M_12                = result[12]\n",
    "    _phi_1dc, _phi_2dc   = _phi_1dcx, _phi_2dcx\n",
    "    _xi = 1 / (1 - _M_12**2)\n",
    "\n",
    "    print(\"phi_1x:\", _phi_1x)\n",
    "    \n",
    "    def U1_Fcn(_phi_1):\n",
    "        u1_1 = 1/2 * _xi * (_phi_1 - _phi_1x)**2\n",
    "        u3_1 = beta_1 * np.cos(_phi_1) * np.cos(_phi_1dc/2)\n",
    "        u4_1 = -d_beta_1 * np.sin(_phi_1) * np.sin(_phi_1dc/2)\n",
    "        \n",
    "        return u1_1 + u3_1 + u4_1\n",
    "    \n",
    "    def cfq_potential_test(coord):\n",
    "        _phi_1, _phi_2 = coord\n",
    "        u1_1 = 1/2 * _xi * (_phi_1 - _phi_1x)**2\n",
    "        u3_1 = beta_1 * np.cos(_phi_1) * np.cos(_phi_1dc/2)\n",
    "        u4_1 = d_beta_1 * np.sin(_phi_1) * np.sin(_phi_1dc/2)\n",
    "\n",
    "        u1_2 = 1/2 * _xi * (_phi_2 - _phi_2x)**2        \n",
    "        u3_2 = beta_2 * np.cos(_phi_2) * np.cos(_phi_2dc/2)\n",
    "        u4_2 = -d_beta_2 * np.sin(_phi_2) * np.sin(_phi_2dc/2)\n",
    "\n",
    "        u5 = _M_12 * _xi * (_phi_1 - _phi_1x) * (_phi_2 - _phi_2x)\n",
    "\n",
    "        return u1_1 + u1_2 + u3_1 + u3_2 + u4_1 + u4_2 + u5\n",
    "\n",
    "    \n",
    "    plt.plot(_phi_1, cfq_potential_test([_phi_1, -1.96]))\n",
    "    # plt.vlines(phi_1_sol_set[_i][0], ymax = 4, ymin = 0, colors = line_colors[_i])\n",
    "    # plt.vlines(phi_1_sol_set[_i][1], ymax = 4, ymin = 0, colors = line_colors[_i])\n",
    "    plt.ylim(0, 5)"
   ]
  },
  {
   "cell_type": "code",
   "execution_count": null,
   "id": "26",
   "metadata": {},
   "outputs": [],
   "source": [
    "d_beta_1"
   ]
  },
  {
   "cell_type": "code",
   "execution_count": null,
   "id": "27",
   "metadata": {},
   "outputs": [],
   "source": [
    "beta_1"
   ]
  },
  {
   "cell_type": "code",
   "execution_count": null,
   "id": "28",
   "metadata": {},
   "outputs": [],
   "source": [
    "fig, ax = plt.subplots(3, 4, figsize=[15, 11])\n",
    "ax_flatten = ax.flatten()\n",
    "X, Y, U, cutlineDirection, _targetAxis, _plotAxis = get_potential_along_a_1D_cutline(cfqr, t = 0, cutlineDirection = \"v\")\n",
    "plt_line_data_at_t = plotCutlines(X, Y, U, cutlineDirection, cutlineValue = -1.96,\\\n",
    "                            contour_plt=ax_flatten[0], cutline_plt=ax_flatten[1], contours = 20,\n",
    "                            showGraph=True)\n",
    "X, Y, U, cutlineDirection, _targetAxis, _plotAxis = get_potential_along_a_1D_cutline(cfqr, t = 200, cutlineDirection = \"v\")\n",
    "plt_line_data_at_t = plotCutlines(X, Y, U, cutlineDirection, cutlineValue = -1.96,\\\n",
    "                            contour_plt=ax_flatten[2], cutline_plt=ax_flatten[3], contours = 20,\n",
    "                            showGraph=True)"
   ]
  },
  {
   "cell_type": "code",
   "execution_count": null,
   "id": "29",
   "metadata": {},
   "outputs": [],
   "source": []
  },
  {
   "cell_type": "markdown",
   "id": "30",
   "metadata": {
    "tags": []
   },
   "source": [
    "# actual simulations"
   ]
  },
  {
   "cell_type": "code",
   "execution_count": null,
   "id": "31",
   "metadata": {},
   "outputs": [],
   "source": [
    "# step 5: perform simulations\n",
    "manual_domain=[np.array([-5, -5]), np.array([5, 5])]\n",
    "\n",
    "simResult = cfq_batch_sweep.simulateSingleCoupledFluxQubit(params, initial_parameter_dict, protocol_list, \\\n",
    "                        potential = coupled_fq_pot, potential_default_param = coupled_fq_default_param,            \n",
    "                        initial_state = init_state_saved, manual_domain = manual_domain, \\\n",
    "                        phi_1_dcx = phi_1_dcx,  phi_2_dcx = phi_2_dcx, \\\n",
    "                        percentage = 1, as_step = np.s_[::100], measure_all_states=saveAllStates, \n",
    "                        modifiedFunction=modifiedFunctionArray)"
   ]
  },
  {
   "cell_type": "code",
   "execution_count": null,
   "id": "32",
   "metadata": {},
   "outputs": [],
   "source": [
    "simResult['cfqr'].getFidelityBarChart()"
   ]
  },
  {
   "cell_type": "code",
   "execution_count": null,
   "id": "33",
   "metadata": {},
   "outputs": [],
   "source": []
  },
  {
   "cell_type": "code",
   "execution_count": null,
   "id": "34",
   "metadata": {},
   "outputs": [],
   "source": [
    "simResult['cfqr'].getFidelityTimeGraph()"
   ]
  },
  {
   "cell_type": "code",
   "execution_count": null,
   "id": "35",
   "metadata": {},
   "outputs": [],
   "source": [
    "# cutline graph\n",
    "\n",
    "# , (1.96, \"v\",\"orange\")\n",
    "pColor = {\"00\": \"#061DF7\", \"01\": \"#FCEF51\", \"10\": \"#3FC7F2\", \"11\": \"#F187F4\"}\n",
    "importlib.reload(coupled_fq_protocol_library)\n",
    "ani,_,_ =  coupled_fq_protocol_library.animate_sim_flux_qubit_with_cutline(simResult['cfqr'], frame_skip = 10, time_array=simResult['cfqr'].sim.target_step_index, \n",
    "                                                                           params = params, cutlineInformation = [(-1.96, \"v\",\"red\")], cutlineYLimit = [0, 250],\n",
    "                                                                          pColor=pColor, opacity = 0, offset_potential = True)\n",
    "video = ani.to_html5_video()\n",
    "html = display.HTML(video)\n",
    "display.display(html)"
   ]
  },
  {
   "cell_type": "code",
   "execution_count": null,
   "id": "36",
   "metadata": {},
   "outputs": [],
   "source": []
  },
  {
   "cell_type": "code",
   "execution_count": null,
   "id": "37",
   "metadata": {},
   "outputs": [],
   "source": [
    "simResult['cfqr'].separate_by_state()"
   ]
  },
  {
   "cell_type": "code",
   "execution_count": null,
   "id": "38",
   "metadata": {},
   "outputs": [],
   "source": [
    "state_00 = simResult['cfqr'].get_all_state()[simResult['cfqr'].particle_index['00']]\n",
    "state_01 = simResult['cfqr'].get_all_state()[simResult['cfqr'].particle_index['01']]"
   ]
  },
  {
   "cell_type": "code",
   "execution_count": null,
   "id": "39",
   "metadata": {},
   "outputs": [],
   "source": [
    "state_00_mean = np.mean(state_00, axis = 0)[:, 1, 0]\n",
    "state_00_std = np.std(state_00, axis = 0)[:, 1, 0]\n",
    "state_01_mean = np.mean(state_01, axis = 0)[:, 1, 0]\n",
    "state_01_std = np.std(state_01, axis = 0)[:, 1, 0]"
   ]
  },
  {
   "cell_type": "code",
   "execution_count": null,
   "id": "40",
   "metadata": {},
   "outputs": [],
   "source": [
    "sample_00 = np.random.normal(0, 0.15, 50000)"
   ]
  },
  {
   "cell_type": "code",
   "execution_count": null,
   "id": "41",
   "metadata": {},
   "outputs": [],
   "source": [
    "# simResult['cfqr'].sim.target_step_index\n",
    "\n"
   ]
  },
  {
   "cell_type": "code",
   "execution_count": null,
   "id": "42",
   "metadata": {},
   "outputs": [],
   "source": [
    "plt_line_data_at_t['cutline_plot']['targetU'] * 10 + 5000"
   ]
  },
  {
   "cell_type": "code",
   "execution_count": null,
   "id": "43",
   "metadata": {
    "tags": []
   },
   "outputs": [],
   "source": [
    "fig, ax = plt.subplots(1, 1, figsize = [3, 4])\n",
    "\n",
    "from matplotlib.animation import FuncAnimation, PillowWriter\n",
    "def animate(i):\n",
    "    ax.clear()\n",
    "    ax.set_ylim(0, 10000)\n",
    "    ax.set_xlim(-3, 3)\n",
    "    ax.get_yaxis().set_visible(False)\n",
    "    ax.spines['right'].set_visible(False)\n",
    "    ax.spines['top'].set_visible(False)\n",
    "    ax.spines['left'].set_visible(False)\n",
    "\n",
    "    ax.hist(sample_00 + state_00_mean[i], bins = 40, color = \"red\", alpha = 0.8)\n",
    "    ax.hist(sample_00 + state_01_mean[i], bins = 40, color = \"blue\", alpha = 0.5)\n",
    "    X, Y, U, cutlineDirection, _targetAxis, _plotAxis = get_potential_along_a_1D_cutline(simResult['cfqr'], t = simResult['cfqr'].sim.target_step_index[i] * params['dt'], cutlineDirection = \"v\")\n",
    "\n",
    "    plt_line_data_at_t = plotCutlines(X, Y, U, cutlineDirection, cutlineValue = -1.96,\\\n",
    "                        contour_plt=plt, cutline_plt=plt, contours = 20,\n",
    "                        showGraph=False, cutlineColor = \"red\", cutlineRange = [-3, 3], cutlineYLimit = [0, 500], offset_potential = True)\n",
    "    ax.plot(plt_line_data_at_t['cutline_plot']['plotAxis'], plt_line_data_at_t['cutline_plot']['targetU'] * 100 + 5000, color = \"black\")\n",
    "\n",
    "    \n",
    "    \n",
    "ani = FuncAnimation(fig, animate, interval=50, frames=len(state_00_mean), blit=False)\n"
   ]
  },
  {
   "cell_type": "code",
   "execution_count": null,
   "id": "44",
   "metadata": {},
   "outputs": [],
   "source": [
    "video = ani.to_html5_video()\n",
    "html = display.HTML(video)\n",
    "display.display(html)"
   ]
  },
  {
   "cell_type": "code",
   "execution_count": null,
   "id": "45",
   "metadata": {},
   "outputs": [],
   "source": []
  },
  {
   "cell_type": "code",
   "execution_count": null,
   "id": "46",
   "metadata": {},
   "outputs": [],
   "source": []
  },
  {
   "cell_type": "code",
   "execution_count": null,
   "id": "47",
   "metadata": {},
   "outputs": [],
   "source": []
  },
  {
   "cell_type": "code",
   "execution_count": null,
   "id": "48",
   "metadata": {},
   "outputs": [],
   "source": []
  },
  {
   "cell_type": "code",
   "execution_count": null,
   "id": "49",
   "metadata": {},
   "outputs": [],
   "source": []
  },
  {
   "cell_type": "code",
   "execution_count": null,
   "id": "50",
   "metadata": {},
   "outputs": [],
   "source": []
  },
  {
   "cell_type": "code",
   "execution_count": null,
   "id": "51",
   "metadata": {},
   "outputs": [],
   "source": [
    "# # no cutline graph\n",
    "\n",
    "pColor = {\"00\": \"#061DF7\", \"01\": \"#FCEF51\", \"10\": \"#3FC7F2\", \"11\": \"#F187F4\"}\n",
    "simResult['cfqr'].showAnimation(protocol_list, computation_protocol_parameter_dict, pColor = pColor, frame_skip= 20)"
   ]
  },
  {
   "cell_type": "code",
   "execution_count": null,
   "id": "52",
   "metadata": {},
   "outputs": [],
   "source": []
  },
  {
   "cell_type": "code",
   "execution_count": null,
   "id": "53",
   "metadata": {},
   "outputs": [],
   "source": []
  },
  {
   "cell_type": "code",
   "execution_count": null,
   "id": "54",
   "metadata": {},
   "outputs": [],
   "source": []
  },
  {
   "cell_type": "code",
   "execution_count": null,
   "id": "55",
   "metadata": {},
   "outputs": [],
   "source": []
  },
  {
   "cell_type": "code",
   "execution_count": null,
   "id": "56",
   "metadata": {},
   "outputs": [],
   "source": []
  },
  {
   "cell_type": "markdown",
   "id": "57",
   "metadata": {
    "jp-MarkdownHeadingCollapsed": true,
    "tags": []
   },
   "source": [
    "# fidelity analysis"
   ]
  },
  {
   "cell_type": "code",
   "execution_count": null,
   "id": "58",
   "metadata": {},
   "outputs": [],
   "source": []
  },
  {
   "cell_type": "code",
   "execution_count": null,
   "id": "59",
   "metadata": {},
   "outputs": [],
   "source": []
  },
  {
   "cell_type": "code",
   "execution_count": null,
   "id": "60",
   "metadata": {},
   "outputs": [],
   "source": [
    " fidelity_time_array[-1,:,1]"
   ]
  },
  {
   "cell_type": "code",
   "execution_count": null,
   "id": "61",
   "metadata": {},
   "outputs": [],
   "source": [
    "fig, ax = plt.subplots(2, 2, figsize=[7, 7])\n",
    "\n",
    "pColor = {\"00\": \"#061DF7\", \"01\": \"#FCEF51\", \"10\": \"#3FC7F2\", \"11\": \"#F7B6D2\"}\n",
    "fidelity_time_array = np.array(simResult['cfqr'].sim.fidelity_time_array)\n",
    "# 00\n",
    "ax[1][0].bar([\"00\", \"01\", \"10\", \"11\"], fidelity_time_array[-1,:,0].astype(float), color = pColor.values())\n",
    "ax[1][0].set_ylim(0, 1)\n",
    "ax[1][0].axhline(0.5, linestyle='--')\n",
    "\n",
    "# 01\n",
    "ax[0][0].bar([\"00\", \"01\", \"10\", \"11\"], fidelity_time_array[-1,:,1].astype(float), color = pColor.values())\n",
    "\n",
    "ax[0][0].axhline(0.5, linestyle='--')\n",
    "ax[0][0].set_ylim(0, 1)\n",
    "\n",
    "# 10\n",
    "ax[1][1].bar([\"00\", \"01\", \"10\", \"11\"], fidelity_time_array[-1,:,2].astype(float), color = pColor.values())\n",
    "ax[1][1].set_ylim(0, 1)\n",
    "ax[1][1].axhline(0.5, linestyle='--')\n",
    "\n",
    "# 11\n",
    "ax[0][1].bar([\"00\", \"01\", \"10\", \"11\"], fidelity_time_array[-1,:,3].astype(float), color = pColor.values())\n",
    "ax[0][1].set_ylim(0, 1)\n",
    "ax[0][1].axhline(0.5, linestyle='--')"
   ]
  },
  {
   "cell_type": "markdown",
   "id": "62",
   "metadata": {
    "tags": []
   },
   "source": [
    "# Work don analysis"
   ]
  },
  {
   "cell_type": "code",
   "execution_count": null,
   "id": "63",
   "metadata": {},
   "outputs": [],
   "source": [
    "# %%notify\n",
    "step_time_array = np.cumsum(np.array([x[\"duration\"] for x in protocol_list]))/params['dt']\n",
    "name_array = [x[\"name\"] for x in protocol_list]\n",
    "\n",
    "plt.hist(simResult[\"work_distribution\"], bins = 45)\n",
    "plt.show()\n",
    "mean_work = np.mean(simResult[\"work_distribution\"])\n",
    "jarzyn_term = np.mean(np.exp(-simResult[\"work_distribution\"]))\n",
    "print(f\"N = {params['N']}, dt = {params['dt']}\")\n",
    "print(f\"phi_1dcx_on: {phi_1_dcx_on}, phi_2dcx_on: {phi_2_dcx_on}, M_12_on: {M_12_on}\")\n",
    "print(f\"L_factor = {L_factor}, C_factor = {C_factor}, I_m_factor = {I_m_factor}\")\n",
    "print([x[\"duration\"] for x in protocol_list])\n",
    "print(f'jarzyn = {jarzyn_term}, mean work = {mean_work}')"
   ]
  },
  {
   "cell_type": "code",
   "execution_count": null,
   "id": "64",
   "metadata": {},
   "outputs": [],
   "source": [
    "# step_array = np.arange(simResult[\"work_statistic\"][:,0].shape[0])\n",
    "step_array = simResult['cfqr'].sim.target_step_index\n",
    "skip_step = int(len(step_array) * 0.05)\n",
    "work_mean = simResult[\"work_statistic\"][:,0]\n",
    "work_std = simResult[\"work_statistic\"][:,1]\n",
    "\n",
    "plt.errorbar(step_array[::skip_step], work_mean[::skip_step], yerr = work_std[::skip_step])\n",
    "# plt.yscale('log')\n",
    "\n",
    "for i, t in enumerate(step_time_array):\n",
    "    plt.axvline(x = t, color = 'b', linestyle ='--', label = 'axvline - full height')\n",
    "    # plt.annotate(f\"{i+1}\", xy=(t, 4.5),  color='red', ha='center', size=16)\n",
    "\n",
    "print(f'jarzyn = {jarzyn_term}')\n",
    "print([x[\"duration\"] for x in protocol_list])"
   ]
  },
  {
   "cell_type": "code",
   "execution_count": null,
   "id": "65",
   "metadata": {},
   "outputs": [],
   "source": []
  },
  {
   "cell_type": "code",
   "execution_count": null,
   "id": "66",
   "metadata": {},
   "outputs": [],
   "source": [
    "\n",
    "target_time_index = np.array(protocol_time_array)/params['dt']\n",
    "target_time_index = target_time_index.astype(\"int\") - 1\n",
    "\n",
    "# work_done_array = [work_mean[i] for i in target_time_index[1:]]\n",
    "work_done_array = simResult[\"cfqr\"].sim.keyStep_work_statistic[:,0]\n",
    "work_done_of_each_step = np.array(work_done_array)[1:] - np.array(work_done_array)[:-1]\n",
    "\n",
    "Measure_Erasue_steps = [0, 1, 2, 3]\n",
    "Control_Steps = [4, 5, 6, 7]\n",
    "\n",
    "print(\"Third way to split the steps: (E, 0-1), (M. 2), (C: 3-6)\")\n",
    "print(f\"work_done = {work_done_of_each_step}\" )\n",
    "print(\"measurement + reset = \", np.sum([work_done_of_each_step[i] for i in Measure_Erasue_steps]))\n",
    "print(\"control = \", np.sum([work_done_of_each_step[i] for i in Control_Steps]))\n",
    "print(sum(work_done_of_each_step))"
   ]
  },
  {
   "cell_type": "code",
   "execution_count": null,
   "id": "67",
   "metadata": {},
   "outputs": [],
   "source": [
    "C_factor"
   ]
  },
  {
   "cell_type": "markdown",
   "id": "68",
   "metadata": {},
   "source": [
    "# animations"
   ]
  },
  {
   "cell_type": "code",
   "execution_count": null,
   "id": "69",
   "metadata": {},
   "outputs": [],
   "source": [
    "# animations\n",
    "vmin, vmax = 0, 100\n",
    "frame_skip = 5\n",
    "# phi_1_dc, phi_2_dc = phi_1_dcx, phi_2_dcx\n",
    "particle_number = 0\n",
    "# all_state = simResult[\"cfqr\"].sim.output.all_state['states'][particle_number:particle_number+1, :, :, :]\n",
    "all_state = simResult[\"cfqr\"].sim.output.all_state['states']\n",
    "simResult[\"cfqr\"].system.protocol_list = protocol_list\n",
    "time_range = (computation_protocol_parameter_dict[\"t\"][0], computation_protocol_parameter_dict[\"t\"][-1])\n",
    "\n",
    "ani,_,_ = animate_sim_flux_qubit(all_state, system = simResult[\"cfqr\"].system ,\n",
    "                                   times = time_range, frame_skip=frame_skip, color_by_state=True,\n",
    "                                   vmin = vmin, vmax = vmax,\n",
    "                                   manual_domain = manual_domain, legend=False)\n",
    "\n",
    "# from IPython.display import HTML\n",
    "from IPython import display\n",
    "video = ani.to_html5_video()\n",
    "html = display.HTML(video)\n",
    "display.display(html)"
   ]
  },
  {
   "cell_type": "code",
   "execution_count": null,
   "id": "70",
   "metadata": {},
   "outputs": [],
   "source": [
    "ani,_,_ =  coupled_fq_protocol_library.animate_sim_flux_qubit_with_cutline(simResult['cfqr'], frame_skip = 5, time_array=simResult['cfqr'].sim.target_step_index, \n",
    "                                                                           params = params, cutlineInformation = [(-1.96, \"v\",\"red\")])\n",
    "# from IPython.display import HTML\n",
    "# from IPython import display\n",
    "video = ani.to_html5_video()\n",
    "html = display.HTML(video)\n",
    "display.display(html)"
   ]
  },
  {
   "cell_type": "code",
   "execution_count": null,
   "id": "71",
   "metadata": {},
   "outputs": [],
   "source": []
  },
  {
   "cell_type": "code",
   "execution_count": null,
   "id": "72",
   "metadata": {},
   "outputs": [],
   "source": []
  },
  {
   "cell_type": "code",
   "execution_count": null,
   "id": "73",
   "metadata": {},
   "outputs": [],
   "source": []
  },
  {
   "cell_type": "code",
   "execution_count": null,
   "id": "74",
   "metadata": {},
   "outputs": [],
   "source": [
    "importlib.reload(cfq_batch_sweep)"
   ]
  },
  {
   "cell_type": "code",
   "execution_count": null,
   "id": "75",
   "metadata": {},
   "outputs": [],
   "source": [
    "cfq_batch_sweep.saveSimulationResult(simResult, U0_1, timeOrStep = 'step', save = True, save_final_state = False, saveFolderPath = \"coupled_flux_qubit_protocol/coupled_flux_qubit_data_gallery\")"
   ]
  },
  {
   "cell_type": "markdown",
   "id": "76",
   "metadata": {
    "tags": []
   },
   "source": [
    "# plot shots"
   ]
  },
  {
   "cell_type": "code",
   "execution_count": null,
   "id": "77",
   "metadata": {},
   "outputs": [],
   "source": [
    "minimum_point_data = [cfqr.system.get_minimum_point(_t, coupled_flux_qubit_non_linear_approx_pot, guess=[(-2, -2)]) for _t in protocol_time_array]"
   ]
  },
  {
   "cell_type": "code",
   "execution_count": null,
   "id": "78",
   "metadata": {},
   "outputs": [],
   "source": [
    "from edward_tools.visualization import separate_by_state"
   ]
  },
  {
   "cell_type": "code",
   "execution_count": null,
   "id": "79",
   "metadata": {},
   "outputs": [],
   "source": [
    "protocol_time_index_array"
   ]
  },
  {
   "cell_type": "code",
   "execution_count": null,
   "id": "80",
   "metadata": {},
   "outputs": [],
   "source": [
    "all_state = simResult['cfqr'].sim.output.all_state['states']\n",
    "all_state = all_state[:, :, (0, 1), :]\n",
    "N, nsteps, N_dim = np.shape(all_state)[0], np.shape(all_state)[1], np.shape(all_state)[2]\n",
    "which_axes = [np.s_[..., i, 0] for i in range(N_dim)]\n",
    "x_array = [all_state[item] for item in which_axes]\n",
    "state_lookup = separate_by_state(all_state)\n",
    "opacity = min(1, 300/N)\n",
    "x, y = x_array[0], x_array[1]\n",
    "x_lim = (np.min(x), np.max(x))\n",
    "y_lim = (np.min(y), np.max(y))\n",
    "scat_kwargs = {'alpha':opacity, 'zorder':10}"
   ]
  },
  {
   "cell_type": "code",
   "execution_count": null,
   "id": "81",
   "metadata": {},
   "outputs": [],
   "source": [
    " protocol_time_array[_i]"
   ]
  },
  {
   "cell_type": "code",
   "execution_count": null,
   "id": "82",
   "metadata": {},
   "outputs": [],
   "source": [
    "for _i in range(1, 5):\n",
    "    print(list(simResult['cfqr'].sim.target_step_index).index(protocol_time_index_array[_i]+1))\n",
    "    # simResult['cfqr'].sim.target_step_index[np.argwhere(protocol_time_index_array==5000)[0][0]]"
   ]
  },
  {
   "cell_type": "code",
   "execution_count": null,
   "id": "83",
   "metadata": {},
   "outputs": [],
   "source": [
    "protocol_time_index_array"
   ]
  },
  {
   "cell_type": "code",
   "execution_count": null,
   "id": "84",
   "metadata": {},
   "outputs": [],
   "source": [
    "simResult['cfqr'].sim.target_step_index[0:30]"
   ]
  },
  {
   "cell_type": "code",
   "execution_count": null,
   "id": "85",
   "metadata": {},
   "outputs": [],
   "source": [
    "simResult['cfqr'].sim.target_step_index[np.argwhere(protocol_time_index_array==4999)[0][0]]"
   ]
  },
  {
   "cell_type": "code",
   "execution_count": null,
   "id": "86",
   "metadata": {},
   "outputs": [],
   "source": [
    "min_U_along_cutline = []\n",
    "fig, ax = plt.subplots(5, 4, figsize=[15, 18])\n",
    "ax_flatten = ax.flatten()\n",
    "cutlineRange = [-3.5, 3.5]\n",
    "\n",
    "X, Y, U, cutlineDirection, _targetAxis, _plotAxis = get_potential_along_a_1D_cutline(cfqr, t = protocol_time_array[0], cutlineDirection = \"v\")\n",
    "plt_line_data_at_t = plotCutlines(X, Y, U, cutlineDirection, cutlineValue = minimum_point_data[0][0][0],\\\n",
    "                        contour_plt=ax_flatten[0], cutline_plt=ax_flatten[1], contours = 20,\n",
    "                        showGraph=True, time=protocol_time_array[0], cutlineRange = cutlineRange)\n",
    "min_U = np.min(U)\n",
    "scat = [ax_flatten[2 * 0].scatter(x[state_lookup[key], protocol_time_index_array[0]], y[state_lookup[key], protocol_time_index_array[0]], c = pColor[key],**scat_kwargs) for key in state_lookup]\n",
    "\n",
    "\n",
    "for _i in range(1, 5):\n",
    "    X, Y, U, cutlineDirection, _targetAxis, _plotAxis = get_potential_along_a_1D_cutline(cfqr, t = protocol_time_array[_i], cutlineDirection = \"v\")\n",
    "    plt_line_data_at_t = plotCutlines(X, Y, U, cutlineDirection, cutlineValue = minimum_point_data[_i][0][0],\\\n",
    "                            contour_plt=ax_flatten[2*_i], cutline_plt=ax_flatten[2*_i + 1], contours = 20,\n",
    "                            showGraph=True, time=protocol_time_array[_i], cutlineRange = cutlineRange)\n",
    "    min_U = np.min(U)\n",
    "    _index = list(simResult['cfqr'].sim.target_step_index).index(protocol_time_index_array[_i]+1)\n",
    "    scat = [ax_flatten[2 * _i].scatter(x[state_lookup[key], _index], y[state_lookup[key], _index], c = pColor[key], **scat_kwargs) for key in state_lookup]\n",
    "    \n",
    "for _i in range(5, 9):\n",
    "    X, Y, U, cutlineDirection, _targetAxis, _plotAxis = get_potential_along_a_1D_cutline(cfqr, t = protocol_time_array[_i], cutlineDirection = \"h\")\n",
    "    plt_line_data_at_t = plotCutlines(X, Y, U, cutlineDirection, cutlineValue = minimum_point_data[_i][0][1],\\\n",
    "                            contour_plt=ax_flatten[2*_i], cutline_plt=ax_flatten[2*_i + 1], contours = 20,\n",
    "                            showGraph=True, time=protocol_time_array[_i], cutlineRange = cutlineRange)\n",
    "    min_U = np.min(U)\n",
    "    _index = list(simResult['cfqr'].sim.target_step_index).index(protocol_time_index_array[_i]+1)\n",
    "    scat = [ax_flatten[2 * _i].scatter(x[state_lookup[key], _index], y[state_lookup[key], _index], c = pColor[key], **scat_kwargs) for key in state_lookup]\n",
    "   "
   ]
  },
  {
   "cell_type": "code",
   "execution_count": null,
   "id": "87",
   "metadata": {},
   "outputs": [],
   "source": [
    "\n",
    "fig, ax = plt.subplots(1, 2, figsize=[6.5, 3])\n",
    "ax_flatten = ax.flatten()\n",
    "_i = 7\n",
    "\n",
    "X, Y, U, cutlineDirection, _targetAxis, _plotAxis = get_potential_along_a_1D_cutline(cfqr, t = protocol_time_array[_i], cutlineDirection = \"h\")\n",
    "plt_line_data_at_t = plotCutlines(X, Y, U, cutlineDirection, cutlineValue = minimum_point_data[_i][0][0],\\\n",
    "                        contour_plt=ax_flatten[0], cutline_plt=ax_flatten[1], contours = 20,\n",
    "                        showGraph=True,  time=protocol_time_array[_i])\n",
    "min_U = np.min(U)\n",
    "scat = [ax_flatten[0].scatter(x[state_lookup[key], protocol_time_index_array[_i]], y[state_lookup[key], protocol_time_index_array[_i]], **scat_kwargs) for key in state_lookup]"
   ]
  },
  {
   "cell_type": "code",
   "execution_count": null,
   "id": "88",
   "metadata": {},
   "outputs": [],
   "source": []
  },
  {
   "cell_type": "markdown",
   "id": "89",
   "metadata": {
    "tags": []
   },
   "source": [
    "# minimum value of potential energy"
   ]
  },
  {
   "cell_type": "code",
   "execution_count": null,
   "id": "90",
   "metadata": {},
   "outputs": [],
   "source": [
    "import edward_tools.Analysis_tool.minimum_value_of_potential as minimum_value_of_potential\n",
    "import importlib\n",
    "importlib.reload(minimum_value_of_potential)"
   ]
  },
  {
   "cell_type": "code",
   "execution_count": null,
   "id": "91",
   "metadata": {
    "tags": []
   },
   "outputs": [],
   "source": [
    "minimum_value_of_potential.find_minimum_for_all_potential_2(simResult['cfqr'], 250)"
   ]
  },
  {
   "cell_type": "code",
   "execution_count": null,
   "id": "92",
   "metadata": {},
   "outputs": [],
   "source": [
    "np.sin(1.9643321788037167)/1.9643321788037167 * d_beta_1"
   ]
  },
  {
   "cell_type": "code",
   "execution_count": null,
   "id": "93",
   "metadata": {},
   "outputs": [],
   "source": []
  },
  {
   "cell_type": "markdown",
   "id": "94",
   "metadata": {},
   "source": [
    "# KE analysis"
   ]
  },
  {
   "cell_type": "code",
   "execution_count": null,
   "id": "95",
   "metadata": {},
   "outputs": [],
   "source": [
    "def get_all_state(self):\n",
    "    return self.sim.output.all_state['states']\n",
    "\n",
    "def get_time_step_indices(self):\n",
    "    time_indices_array = np.array(self.sim.output.all_state['step_indices'])\n",
    "    time_array = time_indices_array * cfqr.sim.dt\n",
    "    return time_indices_array, time_array"
   ]
  },
  {
   "cell_type": "code",
   "execution_count": null,
   "id": "96",
   "metadata": {},
   "outputs": [],
   "source": [
    "all_state = get_all_state(simResult['cfqr'])\n",
    "time_indice_array, time_array = get_time_step_indices(simResult['cfqr'])\n"
   ]
  },
  {
   "cell_type": "code",
   "execution_count": null,
   "id": "97",
   "metadata": {},
   "outputs": [],
   "source": [
    "KE_time_array = np.empty([cfqr.sim.ntrials, cfqr.sim.nsteps + 1])\n",
    "\n",
    "for _i, _t in zip(time_step_indices, time_array):\n",
    "    KE_time_array[:, _i] = simResult['cfqr'].system.get_kinetic_energy(all_state[:,_i, ...])\n",
    "    "
   ]
  },
  {
   "cell_type": "code",
   "execution_count": null,
   "id": "98",
   "metadata": {},
   "outputs": [],
   "source": []
  },
  {
   "cell_type": "code",
   "execution_count": null,
   "id": "99",
   "metadata": {},
   "outputs": [],
   "source": [
    "all_state[:, :, 0, 1]**2 / 2 + all_state[:, :, 1, 1]**2 / 2  + all_state[:, :, 2, 1]**2 / 2 + all_state[:, :, 3, 1]**2 / 2 "
   ]
  },
  {
   "cell_type": "code",
   "execution_count": null,
   "id": "100",
   "metadata": {},
   "outputs": [],
   "source": []
  },
  {
   "cell_type": "code",
   "execution_count": null,
   "id": "101",
   "metadata": {},
   "outputs": [],
   "source": [
    "simResult['cfqr'].sim.output.all_state"
   ]
  },
  {
   "cell_type": "markdown",
   "id": "102",
   "metadata": {
    "tags": []
   },
   "source": [
    "# Trident_analysis"
   ]
  },
  {
   "cell_type": "code",
   "execution_count": null,
   "id": "103",
   "metadata": {},
   "outputs": [],
   "source": []
  },
  {
   "cell_type": "code",
   "execution_count": null,
   "id": "104",
   "metadata": {},
   "outputs": [],
   "source": [
    "def work_categories(work_dist, all_states, bins = [0.2, 1.5]):\n",
    "    \"\"\"\n",
    "    This function will separate the particles by categories and from that find out the thing that distinguish them from each other.\n",
    "    \n",
    "    work_dist_left = the distribution on the left of the trident distribution\n",
    "    \"\"\"\n",
    "    \n",
    "    work_dist_left = all_states[work_dist < bins[0]]\n",
    "    work_dist_middle = all_states[np.logical_and(work_dist >= bins[0], work_dist <= bins[1])]\n",
    "    work_dist_right = all_states[work_dist > bins[1]]\n",
    "    \n",
    "    return work_dist_left, work_dist_middle, work_dist_right\n",
    "                                  \n",
    "    "
   ]
  },
  {
   "cell_type": "code",
   "execution_count": null,
   "id": "105",
   "metadata": {},
   "outputs": [],
   "source": []
  },
  {
   "cell_type": "code",
   "execution_count": null,
   "id": "106",
   "metadata": {},
   "outputs": [],
   "source": [
    "work_dist_left, work_dist_middle, work_dist_right = work_categories(simResult[\"work_distribution\"], simResult['cfqr'].sim.output.all_state['states'])"
   ]
  },
  {
   "cell_type": "code",
   "execution_count": null,
   "id": "107",
   "metadata": {},
   "outputs": [],
   "source": []
  },
  {
   "cell_type": "code",
   "execution_count": null,
   "id": "108",
   "metadata": {},
   "outputs": [],
   "source": []
  },
  {
   "cell_type": "code",
   "execution_count": null,
   "id": "109",
   "metadata": {},
   "outputs": [],
   "source": [
    "# animations\n",
    "vmin, vmax = 0, 100\n",
    "frame_skip = 5000\n",
    "# phi_1_dc, phi_2_dc = phi_1_dcx, phi_2_dcx\n",
    "particle_number = 0\n",
    "# all_state = simResult[\"cfqr\"].sim.output.all_state['states'][particle_number:particle_number+1, :, :, :]\n",
    "all_state = work_dist_middle\n",
    "simResult[\"cfqr\"].system.protocol_list = protocol_list\n",
    "time_range = (computation_protocol_parameter_dict[\"t\"][0], computation_protocol_parameter_dict[\"t\"][-1])\n",
    "\n",
    "ani,_,_ = animate_sim_flux_qubit(all_state, system = simResult[\"cfqr\"].system ,\n",
    "                                   times = time_range, frame_skip=frame_skip, color_by_state=True,\n",
    "                                   vmin = vmin, vmax = vmax,\n",
    "                                   manual_domain = manual_domain)\n",
    "\n",
    "# from IPython.display import HTML\n",
    "from IPython import display\n",
    "video = ani.to_html5_video()\n",
    "html = display.HTML(video)\n",
    "display.display(html)"
   ]
  },
  {
   "cell_type": "code",
   "execution_count": null,
   "id": "110",
   "metadata": {},
   "outputs": [],
   "source": [
    "all_state = work_dist_left\n",
    "simResult[\"cfqr\"].system.protocol_list = protocol_list\n",
    "time_range = (computation_protocol_parameter_dict[\"t\"][0], computation_protocol_parameter_dict[\"t\"][-1])\n",
    "\n",
    "ani,_,_ = animate_sim_flux_qubit(all_state, system = simResult[\"cfqr\"].system ,\n",
    "                                   times = time_range, frame_skip=frame_skip, color_by_state=True,\n",
    "                                   vmin = vmin, vmax = vmax,\n",
    "                                   manual_domain = manual_domain)\n",
    "\n",
    "# from IPython.display import HTML\n",
    "from IPython import display\n",
    "video = ani.to_html5_video()\n",
    "html = display.HTML(video)\n",
    "display.display(html)"
   ]
  },
  {
   "cell_type": "code",
   "execution_count": null,
   "id": "111",
   "metadata": {},
   "outputs": [],
   "source": []
  },
  {
   "cell_type": "code",
   "execution_count": null,
   "id": "112",
   "metadata": {},
   "outputs": [],
   "source": [
    "all_state = work_dist_right\n",
    "simResult[\"cfqr\"].system.protocol_list = protocol_list\n",
    "time_range = (computation_protocol_parameter_dict[\"t\"][0], computation_protocol_parameter_dict[\"t\"][-1])\n",
    "\n",
    "ani,_,_ = animate_sim_flux_qubit(all_state, system = simResult[\"cfqr\"].system ,\n",
    "                                   times = time_range, frame_skip=frame_skip, color_by_state=True,\n",
    "                                   vmin = vmin, vmax = vmax,\n",
    "                                   manual_domain = manual_domain)\n",
    "\n",
    "# from IPython.display import HTML\n",
    "from IPython import display\n",
    "video = ani.to_html5_video()\n",
    "html = display.HTML(video)\n",
    "display.display(html)"
   ]
  },
  {
   "cell_type": "code",
   "execution_count": null,
   "id": "113",
   "metadata": {},
   "outputs": [],
   "source": [
    "all_state = simResult['cfqr'].sim.output.all_state['states']\n",
    "plt.plot(all_state[::100, :, 1, 0])\n",
    "plt.show()"
   ]
  },
  {
   "cell_type": "code",
   "execution_count": null,
   "id": "114",
   "metadata": {},
   "outputs": [],
   "source": [
    "\n",
    "\n",
    "fig, ax = plt.subplots(1, 2, figsize = [12, 4])\n",
    "\n",
    "for d in work_dist_left[::100]:\n",
    "    ax[0].plot(d[:, 2, 0], \"b\")\n",
    "    \n",
    "for d in work_dist_right[::100]:\n",
    "    ax[1].plot(d[:, 2, 0], \"g\")\n",
    "    \n",
    "for d in work_dist_middle[::100]:\n",
    "    ax[0].plot(d[:, 2, 0], \"r\", alpha=0.1)\n",
    "    ax[1].plot(d[:, 2, 0], \"r\", alpha=0.1)\n",
    "    \n",
    "    "
   ]
  },
  {
   "cell_type": "code",
   "execution_count": null,
   "id": "115",
   "metadata": {},
   "outputs": [],
   "source": [
    "fig, ax = plt.subplots(1, 2, figsize = [12, 4])\n",
    "\n",
    "for d in work_dist_left[::100]:\n",
    "    ax[0].plot(d[50000:, 3, 0], \"b\")\n",
    "    \n",
    "for d in work_dist_right[::100]:\n",
    "    ax[1].plot(d[50000:, 3, 0], \"g\")\n",
    "    \n",
    "for d in work_dist_middle[::100]:\n",
    "    ax[0].plot(d[50000:, 3, 0], \"r\", alpha=0.2)\n",
    "    ax[1].plot(d[50000:, 3, 0], \"r\", alpha=0.2)\n",
    "    \n",
    "    "
   ]
  },
  {
   "cell_type": "code",
   "execution_count": null,
   "id": "116",
   "metadata": {},
   "outputs": [],
   "source": [
    "plt.plot(np.mean(work_dist_left[:, :, 2, 0], axis = 0))\n",
    "plt.plot(np.mean(work_dist_middle[:, :, 2, 0], axis = 0))\n",
    "plt.plot(np.mean(work_dist_right[:, :, 2, 0], axis = 0))\n"
   ]
  },
  {
   "cell_type": "code",
   "execution_count": null,
   "id": "117",
   "metadata": {},
   "outputs": [],
   "source": [
    "protocol_time_array, protocol_time_index_array, protocol_all_time_array, protocol_all_time_index_array = cfqr.createProtocolTimeArray(protocol_list, params)\n",
    "\n",
    "target_filter = np.logical_and(protocol_all_time_array >= 1000, protocol_all_time_array <= 1200)\n",
    "target_time_array = protocol_all_time_array[target_filter]\n",
    "target_time_index_array = protocol_all_time_index_array[target_filter]\n",
    "work_dist_left_in_t_range = work_dist_left[:, target_filter, ...]\n",
    "work_dist_middle_in_t_range = work_dist_middle[:, target_filter, ...]\n",
    "work_dist_right_in_t_range = work_dist_right[:, target_filter, ...]"
   ]
  },
  {
   "cell_type": "code",
   "execution_count": null,
   "id": "118",
   "metadata": {},
   "outputs": [],
   "source": [
    "from matplotlib.animation import FuncAnimation\n",
    "\n",
    "\n",
    "def plot_work_dist_with_time(cfqr, work_dist, pot_function, target_time_array, target_time_index_array, skipNumber = 250):\n",
    "    manual_domain=[np.array([-3, -3]), np.array([3, 3])]\n",
    "    modified_manual_domain = [(manual_domain[0][1], manual_domain[0][0]), (manual_domain[1][1], manual_domain[1][0])]\n",
    "\n",
    "    fig, ax = plt.subplots(1, 1)\n",
    "    fig.set_size_inches(5,5)\n",
    "    points = [(0.1, 0.5), (0.5, 0.5), (0.9, 0.5)]\n",
    "    resolution = 50\n",
    "    contours = 20\n",
    "    \n",
    "    fig, ax = plt.subplots(1, 1)\n",
    "    fig.set_size_inches(5,5)\n",
    "    points = [(0.1, 0.5), (0.5, 0.5), (0.9, 0.5)]\n",
    "    _skipped_target_time_array = target_time_array[::skipNumber]\n",
    "    _skipped_target_time_index_array = target_time_index_array[::skipNumber]\n",
    "    \n",
    "    x_coordinate_of_dist_array = work_dist[:, :, 0, 0]\n",
    "    U_of_dist_array = getEnergyTimeArrayOfDist(cfqr, work_dist, target_time_array, target_time_index_array, skipNumber)\n",
    "    \n",
    "    ax.scatter(x_coordinate_of_dist_array[0], U_of_dist_array[0])\n",
    "    \n",
    "    \n",
    "    def animate(i):\n",
    "        ax.clear()\n",
    "        # Get the point from the points list at index i\n",
    "        _t = _skipped_target_time_array[i]\n",
    "        _params_at_t = cfqr.protocol.get_params(_t)\n",
    "        beta_1 = _params_at_t[4]\n",
    "        beta_2 = _params_at_t[5]\n",
    "        d_beta_1 = _params_at_t[6]\n",
    "        d_beta_2 = _params_at_t[7]\n",
    "        _phi_1x = _params_at_t[8]\n",
    "        _phi_2x = _params_at_t[9]\n",
    "        _phi_1dcx = _params_at_t[10]\n",
    "        _phi_2dcx = _params_at_t[11]\n",
    "        _M_12 = _params_at_t[12]\n",
    "        _xi = 1 / (1 - _M_12**2)\n",
    "        slice_values = [0, 0, _phi_1dcx, _phi_2dcx]\n",
    "        \n",
    "        U, X_mesh = cfqr.system.lattice_with_self_defined_potential(_t, pot_function, resolution, axes=(0, 1),\\\n",
    "                                    manual_domain=modified_manual_domain, slice_values = slice_values)\n",
    "        x_array, y_array = X_mesh\n",
    "        \n",
    "        selected_U = U[np.all(np.logical_and(y_array > 0.5, y_array < 3), axis = 1)]\n",
    "        selected_x = x_array[np.all(np.logical_and(y_array > 0.5, y_array < 3), axis = 1)]\n",
    "\n",
    "        ax.set_title(f\"t = {_t}\")\n",
    "        for _x, _U in zip(selected_x, selected_U):\n",
    "            ax.plot(_x, _U)\n",
    "        ax.scatter(x_coordinate_of_dist_array[i], U_of_dist_array[i])\n",
    "    \n",
    "    ani = FuncAnimation(fig, animate, frames=len(_skipped_target_time_index_array),\n",
    "                        interval=100, repeat=False)\n",
    "    plt.close()\n",
    "    return ani\n",
    "\n"
   ]
  },
  {
   "cell_type": "code",
   "execution_count": null,
   "id": "119",
   "metadata": {},
   "outputs": [],
   "source": [
    "target_time_index_array"
   ]
  },
  {
   "cell_type": "code",
   "execution_count": null,
   "id": "120",
   "metadata": {},
   "outputs": [],
   "source": []
  },
  {
   "cell_type": "code",
   "execution_count": null,
   "id": "121",
   "metadata": {},
   "outputs": [],
   "source": [
    "ani = plot_work_dist_with_time(cfqr, work_dist_left, coupled_flux_qubit_non_linear_approx_pot,\n",
    "                        target_time_array, target_time_index_array)\n",
    "\n",
    "from IPython import display\n",
    "video = ani.to_html5_video()\n",
    "html = display.HTML(video)\n",
    "display.display(html)\n",
    "\n"
   ]
  },
  {
   "cell_type": "code",
   "execution_count": null,
   "id": "122",
   "metadata": {},
   "outputs": [],
   "source": [
    "def getEnergyTimeArrayOfDist(cfqr, work_dist, target_time_array, target_time_index_array, skipNumber = 1):\n",
    "    U_of_dist_time_array = np.empty([work_dist.shape[0], len(target_time_index_array[::skipNumber])])\n",
    "    \n",
    "    for _j, _t_index in enumerate(target_time_index_array[::skipNumber]):\n",
    "        _t = target_time_array[_t_index]\n",
    "        U_of_dist_time_array[:, _j] =  cfqr.system.get_potential(work_dist[:, _t_index, ...], _t)\n",
    "    return U_of_dist_time_array"
   ]
  },
  {
   "cell_type": "code",
   "execution_count": null,
   "id": "123",
   "metadata": {},
   "outputs": [],
   "source": [
    "getEnergyTimeArrayOfDist(simResult['cfqr'], work_dist_left, protocol_all_time_array, protocol_all_time_index_array, skipNumber=10)"
   ]
  },
  {
   "cell_type": "code",
   "execution_count": null,
   "id": "124",
   "metadata": {},
   "outputs": [],
   "source": []
  },
  {
   "cell_type": "code",
   "execution_count": null,
   "id": "125",
   "metadata": {},
   "outputs": [],
   "source": []
  },
  {
   "cell_type": "code",
   "execution_count": null,
   "id": "126",
   "metadata": {},
   "outputs": [],
   "source": []
  },
  {
   "cell_type": "code",
   "execution_count": null,
   "id": "127",
   "metadata": {},
   "outputs": [],
   "source": [
    "KE_p1 = 1/2 * work_dist_right[0,:, 0, 1]**2"
   ]
  },
  {
   "cell_type": "code",
   "execution_count": null,
   "id": "128",
   "metadata": {},
   "outputs": [],
   "source": [
    "all_state = work_dist_right[0:1,...]\n",
    "simResult[\"cfqr\"].system.protocol_list = protocol_list\n",
    "time_range = (computation_protocol_parameter_dict[\"t\"][0], computation_protocol_parameter_dict[\"t\"][-1])\n",
    "\n",
    "ani,_,_ = animate_sim_flux_qubit(all_state, system = simResult[\"cfqr\"].system ,\n",
    "                                   times = time_range, frame_skip=1000, color_by_state=True,\n",
    "                                   vmin = vmin, vmax = vmax,\n",
    "                                   manual_domain = manual_domain)\n",
    "\n",
    "# from IPython.display import HTML\n",
    "from IPython import display\n",
    "video = ani.to_html5_video()\n",
    "html = display.HTML(video)\n",
    "display.display(html)"
   ]
  }
 ],
 "metadata": {
  "kernelspec": {
   "display_name": "Python 3 (ipykernel)",
   "language": "python",
   "name": "python3"
  },
  "language_info": {
   "codemirror_mode": {
    "name": "ipython",
    "version": 3
   },
   "file_extension": ".py",
   "mimetype": "text/x-python",
   "name": "python",
   "nbconvert_exporter": "python",
   "pygments_lexer": "ipython3",
   "version": "3.10.9"
  }
 },
 "nbformat": 4,
 "nbformat_minor": 5
}
