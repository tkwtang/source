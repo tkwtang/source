{
 "cells": [
  {
   "cell_type": "code",
   "execution_count": null,
   "id": "0",
   "metadata": {},
   "outputs": [],
   "source": [
    "import numpy as np\n",
    "from sus.protocol_designer import System, Protocol, Potential, Compound_Protocol\n",
    "from sus.protocol_designer.protocol import sequential_protocol\n",
    "from IPython import display\n",
    "from IPython.display import HTML\n",
    "from quick_sim import setup_sim\n",
    "from edward_tools.coupled_fq_potential import coupled_flux_qubit_non_linear_approx_pot, coupled_flux_qubit_non_linear_approx_force\n",
    "import edward_tools.fq_runner as fq_runner\n",
    "from edward_tools.visualization import animate_sim_flux_qubit\n",
    "from edward_tools.initial_state_sampling import extra_constraint_00_and_11_only\n",
    "# from PARAMETER_INPUT import *\n",
    "# from PARAMETER_INPUT import _lambda, _theta, _eta\n",
    "\n",
    "\n",
    "import kyle_tools as kt\n",
    "import matplotlib.pyplot as plt\n",
    "\n",
    "import importlib, os, datetime\n",
    "from edward_tools import coupled_fq_protocol_library, cfq_runner\n",
    "from edward_tools import coupled_fq_protocol_library\n",
    "import edward_tools.cfq_batch_sweep as cfq_batch_sweep\n",
    "\n",
    "\n",
    "\n",
    "coupled_fq_protocol_library = importlib.reload(coupled_fq_protocol_library)\n",
    "create_system = coupled_fq_protocol_library.create_system\n",
    "get_potential_shot_at_different_t = coupled_fq_protocol_library.get_potential_shot_at_different_t\n",
    "get_potential_shot_at_different_t_1D = coupled_fq_protocol_library.get_potential_shot_at_different_t_1D\n",
    "create_simple_protocol_parameter_dict = coupled_fq_protocol_library.create_simple_protocol_parameter_dict\n",
    "coupled_fq_runner = importlib.reload(cfq_runner)\n",
    "coupled_fq_protocol_library = importlib.reload(coupled_fq_protocol_library)\n",
    "create_system = coupled_fq_protocol_library.create_system\n",
    "get_potential_along_a_1D_cutline = coupled_fq_protocol_library.get_potential_along_a_1D_cutline\n",
    "plotCutlines = coupled_fq_protocol_library.plotCutlines"
   ]
  },
  {
   "cell_type": "code",
   "execution_count": null,
   "id": "1",
   "metadata": {},
   "outputs": [],
   "source": [
    "np.linspace(10, 200, 20)"
   ]
  },
  {
   "cell_type": "code",
   "execution_count": null,
   "id": "2",
   "metadata": {},
   "outputs": [],
   "source": [
    "# 4. Szilard engine test"
   ]
  },
  {
   "cell_type": "code",
   "execution_count": null,
   "id": "3",
   "metadata": {},
   "outputs": [],
   "source": [
    "\n",
    "PHI_0 = 2.067833848 * 1e-15\n",
    "k_B = 1.38e-23\n",
    "T = 0.5\n",
    "k_BT = k_B * T\n",
    "\n",
    "C_factor = 50\n",
    "I_p_1, I_p_2 = 2e-6 , 2e-6  # Amp\n",
    "I_m_1, I_m_2 = 7e-9, 7e-9                                # Amp\n",
    "R_1, R_2 = 371, 371                                # ohm\n",
    "C_1, C_2 = 4e-9 * C_factor, 4e-9 * C_factor                              # F\n",
    "L_1, L_2 = 1e-9, 1e-9                              # H\n",
    "\n",
    "quick_doubler = lambda x1, x2: np.hstack([np.array([x1] * 2), np.array([x2]*2)])\n",
    "I_p, I_m = quick_doubler(I_p_1, I_p_2), quick_doubler(I_m_1, I_m_2)\n",
    "\n",
    "m_c = C_1\n",
    "m_1 = C_1\n",
    "m_2 = C_2\n",
    "x_c = PHI_0 / (2 * np.pi)\n",
    "time_scale_factor = 1\n",
    "t_c = np.sqrt(L_1 * C_1)\n",
    "\n",
    "\n",
    "U0_1 = m_c * x_c**2 / t_c**2\n",
    "U0_2 = m_2 * x_c**2 / t_c**2\n",
    "kappa_1, kappa_2, kappa_3, kappa_4 = k_BT/U0_1, k_BT/U0_1, k_BT/U0_1, k_BT/U0_1\n",
    "\n",
    "lambda_1 = 2 * np.sqrt(L_1 * C_1) / (C_1 * R_1)\n",
    "theta_1  = 1\n",
    "eta_1    = np.sqrt(np.sqrt(L_1 * C_1)/ (R_1 * C_1)) * np.sqrt(2 * kappa_1 / 1**2)\n",
    "\n",
    "lambda_2 = 2 * np.sqrt(L_1 * C_1) / (C_2 * R_2)\n",
    "theta_2  = 1 / (C_2/C_1)\n",
    "eta_2    = np.sqrt(np.sqrt(L_1 * C_1)/ (R_1 * C_1)) * np.sqrt(2 * kappa_2 * (R_1 * C_1**2) / (R_2 * C_2**2))\n",
    "\n",
    "lambda_3 = 2 * np.sqrt(L_1 * C_1) / (C_1 * R_1)\n",
    "theta_3  = 4\n",
    "eta_3    = np.sqrt(np.sqrt(L_1 * C_1)/ (R_1 * C_1)) * np.sqrt(8 * kappa_3)\n",
    "\n",
    "lambda_4 = 2 * np.sqrt(L_1 * C_1) / (C_2 * R_2)\n",
    "theta_4  = 4 / (C_2/C_1)\n",
    "eta_4    = np.sqrt(np.sqrt(L_1 * C_1)/ (R_1 * C_1)) * np.sqrt(8 * kappa_4 * (R_1 * C_1**2) / (R_2 * C_2**2))\n",
    "\n",
    "gamma = 5\n",
    "\n",
    "\n",
    "beta_1 = 2 * np.pi * L_1 * I_p_1 / PHI_0; \n",
    "beta_2 = 2 * np.pi * L_2 * I_p_2 / PHI_0;\n",
    "\n",
    "d_beta_1 = 2 * np.pi * L_1 * I_m_1 / PHI_0; \n",
    "d_beta_2 = 2 * np.pi * L_2 * I_m_2 / PHI_0;\n",
    "\n",
    "\n",
    "_lambda = np.array([lambda_1, lambda_2, lambda_3, lambda_4])\n",
    "_theta  = np.array([theta_1, theta_2, theta_3, theta_4])\n",
    "_eta  =   np.array([eta_1, eta_2, eta_3, eta_4])"
   ]
  },
  {
   "cell_type": "code",
   "execution_count": null,
   "id": "4",
   "metadata": {},
   "outputs": [],
   "source": [
    "eta_4"
   ]
  },
  {
   "cell_type": "code",
   "execution_count": null,
   "id": "5",
   "metadata": {},
   "outputs": [],
   "source": [
    "np.sqrt(lambda_4 * kappa_4 * 4)"
   ]
  },
  {
   "cell_type": "code",
   "execution_count": null,
   "id": "6",
   "metadata": {},
   "outputs": [],
   "source": [
    "np.sqrt(np.sqrt(L_1 * C_1)/ (R_1 * C_1)) * np.sqrt(2 * kappa_1 / 1**2)"
   ]
  },
  {
   "cell_type": "code",
   "execution_count": null,
   "id": "7",
   "metadata": {},
   "outputs": [],
   "source": [
    "\"\"\"\n",
    "# step 0: modify parameters\n",
    "- All the parameters are stored in a separate file PARAMETER_INPUT\n",
    "- You can override some of the parameters here.\n",
    "\"\"\"\n",
    "params = {}\n",
    "params['N'] = 3_000\n",
    "params['dt'] = 1/1_00\n",
    "params['lambda'] = 1\n",
    "params['beta'] = 1\n",
    "params['sim_params'] = [_lambda, _theta, _eta]\n",
    "params['target_work'] = None\n",
    "params['comment'] = \"test the effect of I_m asymmetry\"\n",
    "\n"
   ]
  },
  {
   "cell_type": "code",
   "execution_count": null,
   "id": "8",
   "metadata": {},
   "outputs": [],
   "source": [
    "\"\"\"\n",
    "# step 1: Define potential\n",
    "\"\"\"\n",
    "coupled_fq_default_param = [1, 1, 0, 0, 0, 0, 0, 0, 0, 0, 0, 0, 0, x_c]\n",
    "[phi_1_bound, phi_2_bound, phi_1dc_bound, phi_2dc_bound] = np.array([4, 4, 4, 4])/time_scale_factor\n",
    "\n",
    "coupled_fq_domain = [[-phi_1_bound, -phi_2_bound, -phi_1dc_bound, -phi_2dc_bound], \\\n",
    "                     [phi_1_bound, phi_2_bound, phi_1dc_bound, phi_2dc_bound]]\n",
    "\n",
    "# coupled_fq_pot = Potential(coupled_flux_qubit_pot_with_offset_at_0000, coupled_flux_qubit_force, 14, 4,\\\n",
    "#                            default_params = coupled_fq_default_param,  relevant_domain = coupled_fq_domain)\n",
    "\n",
    "coupled_fq_pot = Potential(coupled_flux_qubit_non_linear_approx_pot, coupled_flux_qubit_non_linear_approx_force, 14, 4,\\\n",
    "                           default_params = coupled_fq_default_param,  relevant_domain = coupled_fq_domain)"
   ]
  },
  {
   "cell_type": "code",
   "execution_count": null,
   "id": "9",
   "metadata": {},
   "outputs": [],
   "source": []
  },
  {
   "cell_type": "code",
   "execution_count": null,
   "id": "10",
   "metadata": {},
   "outputs": [],
   "source": [
    "\"\"\"\n",
    "# step 2: Define initial condition and protocol\n",
    "\"\"\"\n",
    "manual_domain=[np.array([-5, -5]), np.array([5, 5])]\n",
    "# phi_1_dcx, phi_2_dcx = 3, 3\n",
    "phi_1_dcx, phi_2_dcx = 0, 0\n",
    "phi_1_dc, phi_2_dc = phi_1_dcx, phi_2_dcx\n",
    "\n",
    "phi_1_dcx_off = 0\n",
    "phi_2_dcx_off = 0\n",
    "M_12_off = 0\n",
    "\n",
    "# bookmark\n",
    "phi_1_dcx_on = 3.0\n",
    "phi_2_dcx_on = 3.0\n",
    "M_12_on = -0.6\n",
    "\n",
    "initial_parameter_dict = {\n",
    "        \"U0_1\": U0_1,     \"U0_2\": U0_2,     \"gamma_1\": gamma,  \"gamma_2\": gamma,\n",
    "        \"beta_1\": beta_1,   \"beta_2\": beta_2,   \"d_beta_1\": d_beta_1 ,   \"d_beta_2\": d_beta_2,\n",
    "        \"phi_1_x\": 0,  \"phi_2_x\": 0,  \"phi_1_dcx\": phi_1_dcx_off,  \"phi_2_dcx\": phi_1_dcx_off,\n",
    "        \"M_12\": M_12_off, 'x_c': x_c\n",
    "}\n",
    "\n"
   ]
  },
  {
   "cell_type": "code",
   "execution_count": null,
   "id": "11",
   "metadata": {},
   "outputs": [],
   "source": [
    "initial_parameter_dict"
   ]
  },
  {
   "cell_type": "code",
   "execution_count": null,
   "id": "12",
   "metadata": {},
   "outputs": [],
   "source": [
    "zeroDissipation = False\n",
    "params['sim_params'] = [_lambda, _theta, _eta]\n",
    "if zeroDissipation:\n",
    "    params['sim_params'] = [_lambda * 0, _theta, _eta * 0]\n",
    "\n",
    "\n",
    "\n",
    "\"\"\"\n",
    "1 <-> -1     (0, 0, 0), (0, 3, 0), (0, 0, 0)\n",
    "2 <-> -2     (0, 3, 0), (0, 3, -0.05), (0, 3, 0)\n",
    "3 <-> -3     (0, 3, -0.05), (0, 0, -0.05), (0, 3, -0.05)\n",
    "4 <-> -4     (0, 0, -0.05), (0, 0, 0), (0, 0, -0.05)\n",
    "5 <-> -5     (0, 0, 0), (3, 0, 0), (0, 0, 0)\n",
    "6 <-> -6     (3, 0, 0), (0, 0, 0), (3, 0, 0)\n",
    "\"\"\"\n",
    "TR_initial_condition = [\n",
    "    (phi_1_dcx_off, phi_2_dcx_off, M_12_off), \n",
    "    (phi_1_dcx_off, phi_2_dcx_on,  M_12_off), \n",
    "    (phi_1_dcx_off, phi_2_dcx_on,  M_12_on), \n",
    "    (phi_1_dcx_off, phi_2_dcx_off, M_12_on), \n",
    "    (phi_1_dcx_off, phi_2_dcx_off, M_12_off), \n",
    "    (phi_1_dcx_on,  phi_2_dcx_off, M_12_off)]\n",
    "\n",
    "protocol_index = 0\n",
    "\n",
    "# bookmark\n",
    "# initial_parameter_dict[\"phi_1_dcx\"], initial_parameter_dict[\"phi_2_dcx\"], initial_parameter_dict[\"M_12\"] = TR_initial_condition[protocol_index-1]\n",
    "initial_parameter_dict[\"phi_1_dcx\"], initial_parameter_dict[\"phi_2_dcx\"], initial_parameter_dict[\"M_12\"] = \\\n",
    "TR_initial_condition[0]\n",
    "\n",
    "rest = lambda t: {\"duration\": t, \"name\":\"rest\"}\n",
    "duration_t = 40\n",
    "protocol_list = [\n",
    "    # forward\n",
    "    {\"duration\":duration_t, \"phi_1_dcx\": phi_1_dcx_off, \"phi_2_dcx\": phi_2_dcx_on,  \"M_12\": M_12_off,  \"name\":\"(1) mix in y direction\"},\n",
    "    {\"duration\":duration_t, \"phi_1_dcx\": phi_1_dcx_off, \"phi_2_dcx\": phi_2_dcx_on,  \"M_12\": M_12_on,   \"name\":\"(2) conditional tilt\"},\n",
    "    {\"duration\":duration_t, \"phi_1_dcx\": phi_1_dcx_off, \"phi_2_dcx\": phi_2_dcx_off, \"M_12\": M_12_on,   \"name\":\"(3) raise the barrier\"},\n",
    "    {\"duration\":duration_t, \"phi_1_dcx\": phi_1_dcx_on,  \"phi_2_dcx\": phi_2_dcx_off, \"M_12\": M_12_on,  \"name\": \"(4) conditional tilt in x\"}, \n",
    "    {\"duration\":duration_t, \"phi_1_dcx\": phi_1_dcx_on,  \"phi_2_dcx\": phi_2_dcx_off, \"M_12\": M_12_off,  \"name\":\"(5) mix in x direction\"}, \n",
    "    {\"duration\":duration_t, \"phi_1_dcx\": phi_1_dcx_off, \"phi_2_dcx\": phi_2_dcx_off, \"M_12\": M_12_off,  \"name\":\"(6) 4 well potential\"}, \n",
    "    \n",
    "]\n",
    "\n",
    "protocol_time_array = [item[\"duration\"] for item in protocol_list]\n",
    "protocol_time_array.insert(0, 0)\n",
    "protocol_time_array = np.cumsum(protocol_time_array)\n",
    "\n",
    "print(params['sim_params'])\n",
    "print(initial_parameter_dict[\"phi_1_dcx\"], initial_parameter_dict[\"phi_2_dcx\"], initial_parameter_dict[\"M_12\"])\n",
    "for x in protocol_list:\n",
    "    print(x)\n",
    "\n",
    "# print(protocol_list[0][\"phi_1_dcx\"], protocol_list[0][\"phi_2_dcx\"], protocol_list[0][\"M_12\"], )\n",
    "# print(protocol_list[1][\"phi_1_dcx\"], protocol_list[1][\"phi_2_dcx\"], protocol_list[1][\"M_12\"], )\n",
    "# print(protocol_list)"
   ]
  },
  {
   "cell_type": "code",
   "execution_count": null,
   "id": "13",
   "metadata": {},
   "outputs": [],
   "source": [
    "np.array"
   ]
  },
  {
   "cell_type": "code",
   "execution_count": null,
   "id": "14",
   "metadata": {},
   "outputs": [],
   "source": [
    "\n",
    "\"\"\"\n",
    "# step 3: create the relevant storage protocol and computation protocol\n",
    "\"\"\"\n",
    "computation_protocol_parameter_dict = coupled_fq_protocol_library.customizedProtocol(initial_parameter_dict, \\\n",
    "                                                                    protocol_list)\n",
    "storage_protocol, comp_protocol = create_system(computation_protocol_parameter_dict)"
   ]
  },
  {
   "cell_type": "code",
   "execution_count": null,
   "id": "15",
   "metadata": {},
   "outputs": [],
   "source": [
    "\"\"\"\n",
    "# step 4: create the coupled_fq_runner\n",
    "\"\"\"\n",
    "cfqr = cfq_runner.coupledFluxQubitRunner(potential = coupled_fq_pot, params = params, \\\n",
    "                                                storage_protocol= storage_protocol, \\\n",
    "                                                computation_protocol= comp_protocol)\n",
    "cfqr.initialize_sim()\n",
    "# cfqr.set_sim_attributes(extra_constraint=extra_constraint_00_and_11_only)\n",
    "cfqr.set_sim_attributes()\n",
    "init_state_saved = cfqr.init_state"
   ]
  },
  {
   "cell_type": "code",
   "execution_count": null,
   "id": "16",
   "metadata": {},
   "outputs": [],
   "source": [
    "cfqr.show_initial_state()"
   ]
  },
  {
   "cell_type": "markdown",
   "id": "17",
   "metadata": {
    "tags": []
   },
   "source": [
    "# potential shape check"
   ]
  },
  {
   "cell_type": "code",
   "execution_count": null,
   "id": "18",
   "metadata": {},
   "outputs": [],
   "source": [
    "min_U_along_cutline = []\n",
    "\n",
    "fig, ax = plt.subplots(3, 4, figsize=[15, 12])\n",
    "ax_flatten = ax.flatten()\n",
    "X, Y, U, cutlineDirection, _targetAxis, _plotAxis = get_potential_along_a_1D_cutline(cfqr, t = 0, cutlineDirection = \"v\")\n",
    "plt_line_data_at_t = plotCutlines(X, Y, U, cutlineDirection, cutlineValue = -3,\\\n",
    "                            contour_plt=ax_flatten[0], cutline_plt=ax_flatten[1], contours = 20,\n",
    "                            showGraph=True)\n",
    "min_U = np.min(U)\n",
    "ax_flatten[1].set_title(f\"t = 0 and 240, min_U = {min_U:.3g}\")\n",
    "min_U_along_cutline.append(min(plt_line_data_at_t['cutline_plot']['targetU']))\n",
    "\n",
    "\n",
    "X, Y, U, cutlineDirection, _targetAxis, _plotAxis = get_potential_along_a_1D_cutline(cfqr, t = 40, cutlineDirection = \"v\")\n",
    "plt_line_data_at_t = plotCutlines(X, Y, U, cutlineDirection, cutlineValue = -3,\\\n",
    "                            contour_plt=ax_flatten[2], cutline_plt=ax_flatten[3], contours = 20, \n",
    "                            showGraph=True)\n",
    "min_U = np.min(U)\n",
    "ax_flatten[3].set_title(f\"t = 40, min_U = {min_U:.3g}\")\n",
    "min_U_along_cutline.append(min(plt_line_data_at_t['cutline_plot']['targetU']))\n",
    "\n",
    "X, Y, U, cutlineDirection, _targetAxis, _plotAxis = get_potential_along_a_1D_cutline(cfqr, t = 80, cutlineDirection = \"v\")\n",
    "plt_line_data_at_t = plotCutlines(X, Y, U, cutlineDirection, cutlineValue = -3,\\\n",
    "                            contour_plt=ax_flatten[4], cutline_plt=ax_flatten[5], contours = 20,  \n",
    "                            showGraph=True)\n",
    "min_U = np.min(U)\n",
    "ax_flatten[5].set_title(f\"t = 80, min_U = {min_U:.3g}\")\n",
    "min_U_along_cutline.append(min(plt_line_data_at_t['cutline_plot']['targetU']))\n",
    "\n",
    "X, Y, U, cutlineDirection, _targetAxis, _plotAxis = get_potential_along_a_1D_cutline(cfqr, t = 120, cutlineDirection = \"v\")\n",
    "plt_line_data_at_t = plotCutlines(X, Y, U, cutlineDirection, cutlineValue = -3,\\\n",
    "                            contour_plt=ax_flatten[6], cutline_plt=ax_flatten[7], contours = 20,  \n",
    "                            showGraph=True)\n",
    "min_U = np.min(U)\n",
    "ax_flatten[7].set_title(f\"t = 120, min_U = {min_U:.3g}\")\n",
    "min_U_along_cutline.append(min(plt_line_data_at_t['cutline_plot']['targetU']))\n",
    "\n",
    "\n",
    "X, Y, U, cutlineDirection, _targetAxis, _plotAxis = get_potential_along_a_1D_cutline(cfqr, t = 160, cutlineDirection = \"h\")\n",
    "plt_line_data_at_t = plotCutlines(X, Y, U, cutlineDirection, cutlineValue = 3,\\\n",
    "                             contour_plt=ax_flatten[8], cutline_plt=ax_flatten[9], contours = 20,  \n",
    "                            showGraph=True)\n",
    "min_U = np.min(U)\n",
    "ax_flatten[9].set_title(f\"t = 160, min_U = {min_U:.3g}\")\n",
    "min_U_along_cutline.append(min(plt_line_data_at_t['cutline_plot']['targetU']))\n",
    "\n",
    "X, Y, U, cutlineDirection, _targetAxis, _plotAxis = get_potential_along_a_1D_cutline(cfqr, t = 200, cutlineDirection = \"h\")\n",
    "plt_line_data_at_t = plotCutlines(X, Y, U, cutlineDirection, cutlineValue = 3,\\\n",
    "                             contour_plt=ax_flatten[10], cutline_plt=ax_flatten[11], contours = 20,  \n",
    "                            showGraph=True)\n",
    "min_U = np.min(U)\n",
    "ax_flatten[11].set_title(f\"t = 200, min_U = {min_U:.3g}\")\n",
    "min_U_along_cutline.append(min(plt_line_data_at_t['cutline_plot']['targetU']))\n",
    "\n",
    "\n",
    "# plt.savefig(\"test_figure.png\")\n",
    "# X, Y, U, cutlineDirection, _targetAxis, _plotAxis = get_potential_along_a_1D_cutline(cfqr, t = 240, cutlineDirection = \"h\")\n",
    "# plt_line_data_at_t = plotCutlines(X, Y, U, cutlineDirection, cutlineValue = 3, cutlineColor = 'orange',\\\n",
    "#                              contour_plt=ax_flatten[0], cutline_plt=ax_flatten[1], contours = 20,\n",
    "#                             showGraph=True)"
   ]
  },
  {
   "cell_type": "code",
   "execution_count": null,
   "id": "19",
   "metadata": {},
   "outputs": [],
   "source": [
    "min_U_along_cutline = []\n",
    "\n",
    "fig, ax = plt.subplots(4, 4, figsize=[15, 15])\n",
    "ax_flatten = ax.flatten()\n",
    "X, Y, U, cutlineDirection, _targetAxis, _plotAxis = get_potential_along_a_1D_cutline(cfqr, t = 0, cutlineDirection = \"v\")\n",
    "plt_line_data_at_t = plotCutlines(X, Y, U, cutlineDirection, cutlineValue = 0,\\\n",
    "                            contour_plt=ax_flatten[0], cutline_plt=ax_flatten[1], contours = 20,\n",
    "                            showGraph=True)\n",
    "min_U = np.min(U)\n",
    "ax_flatten[1].set_title(f\"t = 0 and 240, min_U = {min_U:.3g}\")\n",
    "min_U_along_cutline.append(min(plt_line_data_at_t['cutline_plot']['targetU']))\n",
    "\n",
    "\n",
    "X, Y, U, cutlineDirection, _targetAxis, _plotAxis = get_potential_along_a_1D_cutline(cfqr, t = 40, cutlineDirection = \"v\")\n",
    "plt_line_data_at_t = plotCutlines(X, Y, U, cutlineDirection, cutlineValue = 0,\\\n",
    "                            contour_plt=ax_flatten[2], cutline_plt=ax_flatten[3], contours = 20, \n",
    "                            showGraph=True)\n",
    "min_U = np.min(U)\n",
    "ax_flatten[3].set_title(f\"t = 40, min_U = {min_U:.3g}\")\n",
    "min_U_along_cutline.append(min(plt_line_data_at_t['cutline_plot']['targetU']))\n",
    "\n",
    "X, Y, U, cutlineDirection, _targetAxis, _plotAxis = get_potential_along_a_1D_cutline(cfqr, t = 80, cutlineDirection = \"v\")\n",
    "plt_line_data_at_t = plotCutlines(X, Y, U, cutlineDirection, cutlineValue = 0,\\\n",
    "                            contour_plt=ax_flatten[4], cutline_plt=ax_flatten[5], contours = 20,  \n",
    "                            showGraph=True)\n",
    "min_U = np.min(U)\n",
    "ax_flatten[5].set_title(f\"t = 80, min_U = {min_U:.3g}\")\n",
    "min_U_along_cutline.append(min(plt_line_data_at_t['cutline_plot']['targetU']))\n",
    "\n",
    "X, Y, U, cutlineDirection, _targetAxis, _plotAxis = get_potential_along_a_1D_cutline(cfqr, t = 120, cutlineDirection = \"v\")\n",
    "plt_line_data_at_t = plotCutlines(X, Y, U, cutlineDirection, cutlineValue = 0,\\\n",
    "                            contour_plt=ax_flatten[6], cutline_plt=ax_flatten[7], contours = 20,  \n",
    "                            showGraph=True)\n",
    "min_U = np.min(U)\n",
    "ax_flatten[7].set_title(f\"t = 120, min_U = {min_U:.3g}\")\n",
    "min_U_along_cutline.append(min(plt_line_data_at_t['cutline_plot']['targetU']))\n",
    "\n",
    "\n",
    "X, Y, U, cutlineDirection, _targetAxis, _plotAxis = get_potential_along_a_1D_cutline(cfqr, t = 160, cutlineDirection = \"h\")\n",
    "plt_line_data_at_t = plotCutlines(X, Y, U, cutlineDirection, cutlineValue = 0,\\\n",
    "                             contour_plt=ax_flatten[8], cutline_plt=ax_flatten[9], contours = 20,  \n",
    "                            showGraph=True)\n",
    "min_U = np.min(U)\n",
    "ax_flatten[9].set_title(f\"t = 160, min_U = {min_U:.3g}\")\n",
    "min_U_along_cutline.append(min(plt_line_data_at_t['cutline_plot']['targetU']))\n",
    "\n",
    "X, Y, U, cutlineDirection, _targetAxis, _plotAxis = get_potential_along_a_1D_cutline(cfqr, t = 200, cutlineDirection = \"h\")\n",
    "plt_line_data_at_t = plotCutlines(X, Y, U, cutlineDirection, cutlineValue = 0,\\\n",
    "                             contour_plt=ax_flatten[10], cutline_plt=ax_flatten[11], contours = 20,  \n",
    "                            showGraph=True)\n",
    "min_U = np.min(U)\n",
    "ax_flatten[11].set_title(f\"t = 200, min_U = {min_U:.3g}\")\n",
    "min_U_along_cutline.append(min(plt_line_data_at_t['cutline_plot']['targetU']))\n",
    "\n",
    "# X, Y, U, cutlineDirection, _targetAxis, _plotAxis = get_potential_along_a_1D_cutline(cfqr, t = 240, cutlineDirection = \"h\")\n",
    "# plt_line_data_at_t = plotCutlines(X, Y, U, cutlineDirection, cutlineValue = 0, cutlineColor = 'orange',\\\n",
    "#                              contour_plt=ax_flatten[0], cutline_plt=ax_flatten[1], contours = 20,\n",
    "#                             showGraph=True)"
   ]
  },
  {
   "cell_type": "markdown",
   "id": "20",
   "metadata": {},
   "source": [
    "# actual simulations"
   ]
  },
  {
   "cell_type": "code",
   "execution_count": null,
   "id": "21",
   "metadata": {},
   "outputs": [],
   "source": [
    "manual_domain=[np.array([-5, -5])/time_scale_factor, np.array([5, 5])/time_scale_factor]\n",
    "mapping_state_1_to_state_2_dict = {\"00\": [\"00\", \"10\"], \"01\": [\"00\", \"10\"], \"10\": [\"01\", \"11\"], \"11\": [\"01\", \"11\"]}"
   ]
  },
  {
   "cell_type": "code",
   "execution_count": null,
   "id": "22",
   "metadata": {},
   "outputs": [],
   "source": [
    "# step 5: perform simulations\n",
    "\n",
    "simResult = cfq_batch_sweep.simulateSingleCoupledFluxQubit(params, initial_parameter_dict, protocol_list, \\\n",
    "                        potential = coupled_fq_pot, potential_default_param = coupled_fq_default_param,            \n",
    "                        initial_state = init_state_saved, manual_domain = manual_domain, \\\n",
    "                        phi_1_dcx = phi_1_dcx,  phi_2_dcx = phi_2_dcx, \\\n",
    "                        percentage = 1, as_step = np.s_[::], measure_all_states=True)"
   ]
  },
  {
   "cell_type": "code",
   "execution_count": null,
   "id": "23",
   "metadata": {},
   "outputs": [],
   "source": [
    "simResult[\"fidelity\"]"
   ]
  },
  {
   "cell_type": "code",
   "execution_count": null,
   "id": "24",
   "metadata": {},
   "outputs": [],
   "source": [
    "U0_1/k_BT"
   ]
  },
  {
   "cell_type": "code",
   "execution_count": null,
   "id": "25",
   "metadata": {},
   "outputs": [],
   "source": []
  },
  {
   "cell_type": "markdown",
   "id": "26",
   "metadata": {},
   "source": [
    "# animations"
   ]
  },
  {
   "cell_type": "code",
   "execution_count": null,
   "id": "27",
   "metadata": {},
   "outputs": [],
   "source": [
    "# animations\n",
    "vmin, vmax = 0, 100\n",
    "frame_skip = 1000\n",
    "# phi_1_dc, phi_2_dc = phi_1_dcx, phi_2_dcx\n",
    "particle_number = 0\n",
    "# all_state = simResult[\"cfqr\"].sim.output.all_state['states'][particle_number:particle_number+1, :, :, :]\n",
    "all_state = simResult[\"cfqr\"].sim.output.all_state['states']\n",
    "simResult[\"cfqr\"].system.protocol_list = protocol_list\n",
    "time_range = (computation_protocol_parameter_dict[\"t\"][0], computation_protocol_parameter_dict[\"t\"][-1])\n",
    "\n",
    "ani,_,_ = animate_sim_flux_qubit(all_state, system = simResult[\"cfqr\"].system ,\n",
    "                                   times = time_range, frame_skip=frame_skip, color_by_state=True,\n",
    "                                   vmin = vmin, vmax = vmax,\n",
    "                                   manual_domain = manual_domain)"
   ]
  },
  {
   "cell_type": "code",
   "execution_count": null,
   "id": "28",
   "metadata": {},
   "outputs": [],
   "source": [
    "# from IPython.display import HTML\n",
    "from IPython import display\n",
    "video = ani.to_html5_video()\n",
    "html = display.HTML(video)\n",
    "display.display(html)"
   ]
  },
  {
   "cell_type": "markdown",
   "id": "29",
   "metadata": {},
   "source": [
    "# work analysis"
   ]
  },
  {
   "cell_type": "code",
   "execution_count": null,
   "id": "30",
   "metadata": {},
   "outputs": [],
   "source": [
    "# %%notify\n",
    "step_time_array = np.cumsum(np.array([x[\"duration\"] for x in protocol_list]))/params['dt']\n",
    "name_array = [x[\"name\"] for x in protocol_list]\n",
    "\n",
    "\n",
    "plt.hist(simResult[\"work_distribution\"], bins = 45)\n",
    "plt.show()\n",
    "mean_work = np.mean(simResult[\"work_distribution\"])\n",
    "jarzyn_term = np.mean(np.exp(-\n",
    "                             simResult[\"work_distribution\"]))\n",
    "print(f'jarzyn = {jarzyn_term}, mean work = {mean_work}')\n",
    "print([x[\"duration\"] for x in protocol_list])"
   ]
  },
  {
   "cell_type": "code",
   "execution_count": null,
   "id": "31",
   "metadata": {},
   "outputs": [],
   "source": [
    "cfqr.system.protocol.get_params"
   ]
  },
  {
   "cell_type": "code",
   "execution_count": null,
   "id": "32",
   "metadata": {},
   "outputs": [],
   "source": [
    "\n",
    "\n",
    "step_array = np.arange(simResult[\"work_statistic\"][:,0].shape[0])\n",
    "skip_step = int(len(step_array) * 0.01)\n",
    "work_mean = simResult[\"work_statistic\"][:,0]\n",
    "work_std = simResult[\"work_statistic\"][:,1]\n",
    "\n",
    "coarse_step_array = step_array[::skip_step]\n",
    "coarse_step_array = np.append(coarse_step_array, step_array[-1])\n",
    "coarse_work_mean_array = work_mean[::skip_step]\n",
    "coarse_work_mean_array = np.append(coarse_work_mean_array, work_mean[-1])\n",
    "coarse_work_std_array = np.append(work_std[::skip_step], work_std[-1])\n",
    "\n",
    "plt.errorbar(coarse_step_array, coarse_work_mean_array, yerr = coarse_work_std_array)\n",
    "# plt.yscale('log')\n",
    "\n",
    "for i, t in enumerate(step_time_array):\n",
    "    plt.axvline(x = t, color = 'b', label = 'axvline - full height')\n",
    "    # plt.text('2017-07-02 16:30:00',0.005,'BigNews1',rotation=90,va='top')\n",
    "    plt.annotate(f\"{i+1}\", \n",
    "            xy=(t, 4.5),  \n",
    "            # xytext=(quantile_75, 2.05*1e9),\n",
    "            color='red', \n",
    "            ha='center', \n",
    "            size=16)\n",
    "\n",
    "\n",
    "\n",
    "first_half = work_mean[0: len(work_mean)//2]\n",
    "second_half = work_mean[len(work_mean)//2:][::-1]\n",
    "abs_error = np.abs(first_half - second_half)\n",
    "# plt.plot(step_array[0:len(step_array)//2], abs_error)\n",
    "print(max(abs_error), min(abs_error))\n",
    "print(f'jarzyn = {jarzyn_term}')\n",
    "print([x[\"duration\"] for x in protocol_list])"
   ]
  },
  {
   "cell_type": "code",
   "execution_count": null,
   "id": "33",
   "metadata": {},
   "outputs": [],
   "source": [
    "cum_sum_index= np.cumsum(protocol_time_array)/params['dt']"
   ]
  },
  {
   "cell_type": "code",
   "execution_count": null,
   "id": "34",
   "metadata": {},
   "outputs": [],
   "source": [
    "cum_sum_index[1]"
   ]
  },
  {
   "cell_type": "code",
   "execution_count": null,
   "id": "35",
   "metadata": {},
   "outputs": [],
   "source": [
    "for i in range(len(protocol_time_array))[1:-1]:\n",
    "    print(work_mean[int(cum_sum_index[i+1])-1] - work_mean[int(cum_sum_index[i]-1)])\n"
   ]
  },
  {
   "cell_type": "code",
   "execution_count": null,
   "id": "36",
   "metadata": {},
   "outputs": [],
   "source": [
    "work_mean[7999] - work_mean[3999]"
   ]
  },
  {
   "cell_type": "code",
   "execution_count": null,
   "id": "37",
   "metadata": {},
   "outputs": [],
   "source": []
  },
  {
   "cell_type": "code",
   "execution_count": null,
   "id": "38",
   "metadata": {},
   "outputs": [],
   "source": []
  },
  {
   "cell_type": "code",
   "execution_count": null,
   "id": "39",
   "metadata": {},
   "outputs": [],
   "source": []
  },
  {
   "cell_type": "code",
   "execution_count": null,
   "id": "40",
   "metadata": {},
   "outputs": [],
   "source": []
  },
  {
   "cell_type": "code",
   "execution_count": null,
   "id": "41",
   "metadata": {},
   "outputs": [],
   "source": [
    "# 100, w_mena = 1.37, jarzyn = 0.342\n",
    "# 80, w_mena = 1.37, jarzyn = 0.342\n",
    "# 40, w_mena = 1.36, jarzyn = 0.34\n",
    "cfq_batch_sweep.saveSimulationResult(simResult, U0_1, timeOrStep = 'step', save = True, save_final_state = False)"
   ]
  },
  {
   "cell_type": "code",
   "execution_count": null,
   "id": "42",
   "metadata": {},
   "outputs": [],
   "source": [
    "simResult['simulation_data']"
   ]
  },
  {
   "cell_type": "code",
   "execution_count": null,
   "id": "43",
   "metadata": {},
   "outputs": [],
   "source": [
    "# crook analysis\n",
    "# np.linspace(0.005, 0.2, 100)\n",
    "test_w = np.linspace(-0.025, 0.0025, 21)\n",
    "dw = 0.001\n",
    "crook_analysis_result = []\n",
    "\n",
    "for _w in test_w:\n",
    "    array = simResult[\"work_distribution\"]\n",
    "\n",
    "    # The 0 index is to remove the single element array\n",
    "    number_of_plus_W = len(np.where(np.logical_and(array <= _w + dw, array >= _w - dw))[0])\n",
    "    number_of_minus_W = len(np.where(np.logical_and(array <= -_w + dw, array >= -_w - dw))[0])\n",
    "    crook_analysis_result.append(np.array([_w, number_of_plus_W, number_of_minus_W * np.exp(_w)]))\n",
    "\n",
    "crook_analysis_result = np.array(crook_analysis_result)    \n",
    "print(f\"dw = {dw}, dt = {params['dt']}, N = {params['N']}\")\n",
    "print(\"LHS: number of +W, RHS = number of -W * np.exp(+W)]\")\n",
    "all_w = crook_analysis_result[:, 0]\n",
    "all_lhs = crook_analysis_result[:, 1]\n",
    "all_rhs = crook_analysis_result[:, 2]\n",
    "plt.xlabel(\"W\")\n",
    "plt.ylim([0, 2])\n",
    "plt.plot(all_w, all_lhs/all_rhs, \"*\", label = \"LHS\")\n",
    "# plt.plot(all_w, all_rhs, \"-\", label = \"RHS\")\n",
    "plt.legend()\n",
    "plt.show()\n",
    "# print(\"p(W) = p(-W) exp(W)\")\n",
    "# print(f\"LHS = {number_of_plus_W}, RHS = {number_of_minus_W * np.exp(test_w)}\")\n",
    "# print(f\"mean work = {avg_W:.3f} and the std error of W = {error_W:.5f}\")\n",
    "# print(f'jarzyn = {jarzyn_term:.3f}, std error= {jarzyn_term_error:.5f}')\n",
    "# print([x[\"duration\"] for x in protocol_list])\n",
    "# print(time_length_1, time_length_2, time_length_3, time_length_4, time_length_5, time_length_6)"
   ]
  },
  {
   "cell_type": "code",
   "execution_count": null,
   "id": "44",
   "metadata": {},
   "outputs": [],
   "source": []
  },
  {
   "cell_type": "code",
   "execution_count": null,
   "id": "45",
   "metadata": {},
   "outputs": [],
   "source": [
    "counts, bin_edges = np.histogram(simResult[\"work_distribution\"], bins = np.linspace(-2, 2, 50),density=True)\n",
    "counts, bin_edges = np.histogram(simResult[\"work_distribution\"], bins = np.linspace(-0.01, 0.01, 20),density=True)"
   ]
  },
  {
   "cell_type": "code",
   "execution_count": null,
   "id": "46",
   "metadata": {},
   "outputs": [],
   "source": [
    "log_P_ratio = np.log(counts / counts[::-1])"
   ]
  },
  {
   "cell_type": "code",
   "execution_count": null,
   "id": "47",
   "metadata": {},
   "outputs": [],
   "source": [
    "plt.figure(figsize=(5, 5))\n",
    "plt.plot(bin_edges[1:], bin_edges[1:], \"--\")\n",
    "plt.scatter(bin_edges[:-1], log_P_ratio)\n",
    "plt.xlabel(\"W\")\n",
    "plt.ylabel(\"log ratio\")"
   ]
  },
  {
   "cell_type": "code",
   "execution_count": null,
   "id": "48",
   "metadata": {},
   "outputs": [],
   "source": []
  },
  {
   "cell_type": "code",
   "execution_count": null,
   "id": "49",
   "metadata": {},
   "outputs": [],
   "source": [
    "# crook analysis\n",
    "# np.linspace(0.005, 0.2, 100)\n",
    "test_w = np.linspace(-0.02, 0.02, 20)\n",
    "dw = 0.001\n",
    "crook_analysis_result = []\n",
    "\n",
    "for _w in test_w:\n",
    "    array = simResult[\"work_distribution\"]\n",
    "\n",
    "    # The 0 index is to remove the single element array\n",
    "    number_of_plus_W = len(np.where(np.logical_and(array <= _w + dw, array >= _w - dw))[0])\n",
    "    number_of_minus_W = len(np.where(np.logical_and(array <= -_w + dw, array >= -_w - dw))[0])\n",
    "    crook_analysis_result.append(np.array([_w, number_of_plus_W, number_of_minus_W * np.exp(_w)]))\n",
    "\n",
    "crook_analysis_result = np.array(crook_analysis_result)    \n",
    "print(f\"dw = {dw}, dt = {params['dt']}, N = {params['N']}\")\n",
    "print(\"LHS: number of +W, RHS = number of -W * np.exp(+W)]\")\n",
    "all_w = crook_analysis_result[:, 0]\n",
    "all_lhs = crook_analysis_result[:, 1]\n",
    "all_rhs = crook_analysis_result[:, 2]\n",
    "plt.xlabel(\"W\")\n",
    "plt.plot(all_w, all_lhs, \"x\", label = \"LHS\")\n",
    "plt.plot(all_w, all_rhs, \"x\", label = \"RHS\")\n",
    "plt.legend()\n",
    "plt.show()\n",
    "# print(\"p(W) = p(-W) exp(W)\")\n",
    "# print(f\"LHS = {number_of_plus_W}, RHS = {number_of_minus_W * np.exp(test_w)}\")\n",
    "print(f\"mean work = {avg_W:.3f} and the std error of W = {error_W:.5f}\")\n",
    "print(f'jarzyn = {jarzyn_term:.3f}, std error= {jarzyn_term_error:.5f}')\n",
    "print([x[\"duration\"] for x in protocol_list])\n",
    "print(time_length_1, time_length_2, time_length_3, time_length_4, time_length_5, time_length_6)"
   ]
  },
  {
   "cell_type": "code",
   "execution_count": null,
   "id": "50",
   "metadata": {},
   "outputs": [],
   "source": []
  },
  {
   "cell_type": "markdown",
   "id": "51",
   "metadata": {},
   "source": [
    "# fidelity analysis"
   ]
  },
  {
   "cell_type": "code",
   "execution_count": null,
   "id": "52",
   "metadata": {},
   "outputs": [],
   "source": []
  },
  {
   "cell_type": "code",
   "execution_count": null,
   "id": "53",
   "metadata": {},
   "outputs": [],
   "source": [
    "final_percentage_matrix"
   ]
  },
  {
   "cell_type": "code",
   "execution_count": null,
   "id": "54",
   "metadata": {},
   "outputs": [],
   "source": []
  },
  {
   "cell_type": "code",
   "execution_count": null,
   "id": "55",
   "metadata": {},
   "outputs": [],
   "source": [
    "final_percentage_matrix = np.array([d[\"final_percentage\"] for d in simResult[\"fidelity\"]]).T\n",
    "text_box_array = [\"\\n\".join(row) for row in final_percentage_matrix]\n",
    "\n",
    "fig, ax = plt.subplots(1, 2, figsize = [10, 4])\n",
    "# plt.figure(figsize=[4, 4])\n",
    "# plt.title(f\"N = {item['N']}, dt = {item['dt']}, t1 = {item['protocol_list'][-1]['duration']} \")\n",
    "# _ax = ax[1]\n",
    "# _ax.set_xlim(-5, 5);plt.ylim(-5, 5);\n",
    "# _ax.text(-3.25, -3.5, text_box_array[0]); _ax.text(-3.25, 1.5, text_box_array[1])\n",
    "# _ax.text(1.75, -3.5, text_box_array[2]); _ax.text(1.75, 1.5, text_box_array[3])\n",
    "# _ax.vlines(0, ymin = -5, ymax = 5); _ax.hlines(0, xmin = -5, xmax = 5)\n",
    "\n",
    "ideal_fidelity = np.array([['0.500', '0.000', '0.500', '0.000'], ['0.500', '0.000', '0.500', '0.000'],\n",
    "                          ['0.000', '0.500', '0.000', '0.500'], ['0.000', '0.500', '0.000', '0.500']]).T\n",
    "text_box_array = [\"\\n\".join(row) for row in ideal_fidelity]\n",
    "# plt.figure(figsize=[4, 4])\n",
    "# plt.title(f\"N = {item['N']}, dt = {item['dt']}, t1 = {item['protocol_list'][-1]['duration']} \")\n",
    "_ax = ax[0]\n",
    "_ax.set_xlim(-5, 5);plt.ylim(-5, 5);\n",
    "_ax.text(-3.25, -3.5, text_box_array[0]); _ax.text(-3.25, 1.5, text_box_array[1])\n",
    "_ax.text(1.75, -3.5, text_box_array[2]); _ax.text(1.75, 1.5, text_box_array[3])\n",
    "_ax.vlines(0, ymin = -5, ymax = 5); _ax.hlines(0, xmin = -5, xmax = 5)"
   ]
  },
  {
   "cell_type": "code",
   "execution_count": null,
   "id": "56",
   "metadata": {},
   "outputs": [],
   "source": [
    "import copy"
   ]
  },
  {
   "cell_type": "code",
   "execution_count": null,
   "id": "57",
   "metadata": {},
   "outputs": [],
   "source": [
    "ideal_fidelity = copy.deepcopy(final_percentage_matrix)"
   ]
  },
  {
   "cell_type": "code",
   "execution_count": null,
   "id": "58",
   "metadata": {},
   "outputs": [],
   "source": []
  },
  {
   "cell_type": "code",
   "execution_count": null,
   "id": "59",
   "metadata": {},
   "outputs": [],
   "source": [
    "ideal_fidelity[0][\"final_percentage\"] = ['0.500', '0.000', '0.500', '0.000']\n",
    "ideal_fidelity[1][\"final_percentage\"] = ['0.500', '0.000', '0.500', '0.000']\n",
    "ideal_fidelity[2][\"final_percentage\"] = ['0.000', '0.500', '0.000', '0.500']\n",
    "ideal_fidelity[3][\"final_percentage\"] = ['0.000', '0.500', '0.000', '0.500']"
   ]
  },
  {
   "cell_type": "code",
   "execution_count": null,
   "id": "60",
   "metadata": {},
   "outputs": [],
   "source": [
    "ideal_fidelity"
   ]
  },
  {
   "cell_type": "code",
   "execution_count": null,
   "id": "61",
   "metadata": {},
   "outputs": [],
   "source": [
    "_time_step_array = np.array(simResult[\"cfqr\"].sim.output.all_state['step_indices']) * params['dt']\n",
    "_phi_1dcx_time_array = []\n",
    "_phi_2dcx_time_array = []\n",
    "for _t in _time_step_array:\n",
    "    params_at_t = cfqr.system.protocol.get_params(_t)\n",
    "    _phi_1dcx_time_array.append(params_at_t[10])\n",
    "    _phi_2dcx_time_array.append(params_at_t[11])"
   ]
  },
  {
   "cell_type": "code",
   "execution_count": null,
   "id": "62",
   "metadata": {},
   "outputs": [],
   "source": [
    "all_state = simResult[\"cfqr\"].sim.output.all_state['states']\n",
    "_phi_1dc_array = all_state[:, :, 2, 0]\n",
    "_phi_2dc_array = all_state[:, :, 3, 0]\n",
    "_time_array = range(len(_phi_1dc_array))\n"
   ]
  },
  {
   "cell_type": "code",
   "execution_count": null,
   "id": "63",
   "metadata": {},
   "outputs": [],
   "source": []
  },
  {
   "cell_type": "code",
   "execution_count": null,
   "id": "64",
   "metadata": {},
   "outputs": [],
   "source": [
    "for line in _phi_2dc_array[0:10]:\n",
    "    plt.plot(line)\n",
    "plt.plot(_phi_2dcx_time_array, \"--\")\n",
    "plt.title(r\"$\\varphi_{2dc}$ vs step ($\\gamma$ \" + f\"= {gamma})\"  )"
   ]
  },
  {
   "cell_type": "code",
   "execution_count": null,
   "id": "65",
   "metadata": {},
   "outputs": [],
   "source": [
    "for line in _phi_1dc_array[::100]:\n",
    "    plt.plot(line)\n",
    "plt.plot(_phi_1dcx_time_array, \"--\")    \n",
    "plt.title(r\"$\\varphi_{1dc}$ vs step ($\\gamma$ \" + f\"= {gamma})\"  )"
   ]
  },
  {
   "cell_type": "code",
   "execution_count": null,
   "id": "66",
   "metadata": {},
   "outputs": [],
   "source": [
    "for line in _phi_1dc_array[0:10]:\n"
   ]
  },
  {
   "cell_type": "code",
   "execution_count": null,
   "id": "67",
   "metadata": {},
   "outputs": [],
   "source": []
  },
  {
   "cell_type": "code",
   "execution_count": null,
   "id": "68",
   "metadata": {},
   "outputs": [],
   "source": [
    "plt.plot(_phi_1dc_array[0:20])\n",
    "plt.show()"
   ]
  },
  {
   "cell_type": "code",
   "execution_count": null,
   "id": "69",
   "metadata": {},
   "outputs": [],
   "source": [
    "_phi_1dc_array"
   ]
  },
  {
   "cell_type": "code",
   "execution_count": null,
   "id": "70",
   "metadata": {},
   "outputs": [],
   "source": []
  }
 ],
 "metadata": {
  "kernelspec": {
   "display_name": "Python 3 (ipykernel)",
   "language": "python",
   "name": "python3"
  },
  "language_info": {
   "codemirror_mode": {
    "name": "ipython",
    "version": 3
   },
   "file_extension": ".py",
   "mimetype": "text/x-python",
   "name": "python",
   "nbconvert_exporter": "python",
   "pygments_lexer": "ipython3",
   "version": "3.10.9"
  }
 },
 "nbformat": 4,
 "nbformat_minor": 5
}
