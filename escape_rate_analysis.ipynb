{
 "cells": [
  {
   "cell_type": "code",
   "execution_count": null,
   "id": "0",
   "metadata": {
    "tags": []
   },
   "outputs": [],
   "source": [
    "import numpy as np\n",
    "import importlib, os, datetime, itertools\n",
    "from sus.protocol_designer import System, Protocol, Potential, Compound_Protocol\n",
    "from sus.protocol_designer.protocol import sequential_protocol\n",
    "from IPython import display\n",
    "from IPython.display import HTML, Image\n",
    "import matplotlib.animation as animation\n",
    "from matplotlib.animation import FuncAnimation, PillowWriter\n",
    "from scipy.optimize import fsolve\n",
    "import matplotlib.pyplot as plt\n",
    "\n",
    "from quick_sim import setup_sim\n",
    "\n",
    "\n",
    "# import edward_tools.fq_runner as fq_runner\n",
    "from edward_tools.coupled_fq_potential import coupled_flux_qubit_non_linear_approx_pot, coupled_flux_qubit_non_linear_approx_force\n",
    "from edward_tools.visualization import animate_sim_flux_qubit, plotFidelityBarChart, separate_by_state_2\n",
    "from edward_tools.initial_state_sampling import extra_constraint_00_and_11_only\n",
    "from NAND_PARAMETERS import *\n",
    "import importlib\n",
    "\n",
    "import kyle_tools as kt\n",
    "import matplotlib.pyplot as plt\n",
    "\n",
    "\n",
    "from edward_tools import coupled_fq_protocol_library, cfq_runner\n",
    "from edward_tools import coupled_fq_protocol_library\n",
    "\n",
    "import edward_tools.cfq_batch_sweep as cfq_batch_sweep\n",
    "import edward_tools.Analysis_tool.general_analysis_tools as general_analysis_tool\n",
    "# from edward_tools.Analysis_tool.general_analysis_tools import show_phi_dc_with_time\n",
    "import edward_tools.Analysis_tool.minimum_value_of_potential as minimum_value_of_potential\n",
    "from edward_tools.couple_flux_qubit_metrics import fidelityEvaluation\n",
    "from edward_tools import visualization\n",
    "\n",
    "from edward_tools.pot_analysis_helper_functions import get_XYU, pot_function, find_all_critical_points_for_all_potential\n",
    "\n",
    "coupled_fq_protocol_library = importlib.reload(coupled_fq_protocol_library)\n",
    "create_system = coupled_fq_protocol_library.create_system\n",
    "get_potential_shot_at_different_t = coupled_fq_protocol_library.get_potential_shot_at_different_t\n",
    "get_potential_shot_at_different_t_1D = coupled_fq_protocol_library.get_potential_shot_at_different_t_1D\n",
    "create_simple_protocol_parameter_dict = coupled_fq_protocol_library.create_simple_protocol_parameter_dict\n",
    "coupled_fq_runner = importlib.reload(cfq_runner)\n",
    "coupled_fq_protocol_library = importlib.reload(coupled_fq_protocol_library)\n",
    "create_system = coupled_fq_protocol_library.create_system\n",
    "get_potential_along_a_1D_cutline = coupled_fq_protocol_library.get_potential_along_a_1D_cutline\n",
    "plotCutlines = coupled_fq_protocol_library.plotCutlines"
   ]
  },
  {
   "cell_type": "code",
   "execution_count": null,
   "id": "1",
   "metadata": {},
   "outputs": [],
   "source": [
    "\n",
    "def plot_3_well_potential(protocol_list, left_y_range, right_y_range, bottom_left_x_range = [-4, 4], bottom_right_x_range = [-4, 4], bottom_left_y_range = [-50, 500], bottom_right_y_range = [-50, 500], contour_x_range = [-4, 4], contour_y_range = [-4, 4], beta = 2.3, d_beta = 0, phi_2_bottom_fixed = -2.1, phi_2_top_fixed = 2.0, set_same_min = False, direction = \"h\"):\n",
    "    phi_1_array = np.linspace(-4, 4, 1000)\n",
    "    params_list_used = cfqr.protocol.get_params(0)\n",
    "    fig = plt.figure(figsize= [15, 7.5])\n",
    "    ax_0, ax_1, ax_2, ax_3 = fig.add_subplot(2, 4, 1), fig.add_subplot(2, 4, 2), fig.add_subplot(2, 4, 3), fig.add_subplot(2, 4, 4)\n",
    "    ax_4, ax_5, ax_6, ax_7 = fig.add_subplot(2, 4, 5), fig.add_subplot(2, 4, 6), fig.add_subplot(2, 4, 7), fig.add_subplot(2, 4, 8) \n",
    "\n",
    "    critical_point_list = []\n",
    "    color_code = []\n",
    "\n",
    "    X, Y = np.meshgrid(phi_1_array, phi_1_array)\n",
    "    \n",
    "    for _protocol in protocol_list:\n",
    "        name     = _protocol['name']\n",
    "        _protocol['beta'], _protocol['d_beta'] = beta, d_beta\n",
    "\n",
    "        critical_points = find_all_critical_points_for_all_potential(_protocol, guess = [(-2, -2), (-2, 2), (3, -3), (2, 2)])\n",
    "        critical_point_list.append(critical_points)\n",
    "        params_list_used[4], params_list_used[5] = beta, beta # phi_1x\n",
    "        params_list_used[8] = _protocol['phi_1x'] # phi_1x\n",
    "        params_list_used[9] = _protocol['phi_2x'] # phi_2x\"\n",
    "        params_list_used[10] = _protocol['phi_1xdc'] # phi_1xdc\n",
    "        params_list_used[11] = _protocol['phi_2xdc'] # phi_2xdc\n",
    "        params_list_used[12] = _protocol['mu_12'] # mu\n",
    "\n",
    "        fig.suptitle(f\"phi_1xdc = {params_list_used[10]:.3g}, phi_2xdc = {params_list_used[11]:.3g}, phi_1x = {params_list_used[8]:.3g}, phi_2x = {params_list_used[9]:.3g}, mu = {params_list_used[12]:.3g}\") \n",
    "\n",
    "        U = coupled_flux_qubit_non_linear_approx_pot(X, Y, _protocol['phi_1xdc'], _protocol['phi_2xdc'], params_list_used)\n",
    "\n",
    "        if direction == \"h\":\n",
    "            potential = coupled_flux_qubit_non_linear_approx_pot(phi_1_array, phi_2_bottom_fixed,  _protocol['phi_1xdc'], _protocol['phi_2xdc'], params_list_used)\n",
    "        if direction == \"v\":\n",
    "            potential = coupled_flux_qubit_non_linear_approx_pot(phi_2_bottom_fixed, phi_1_array,  _protocol['phi_1xdc'], _protocol['phi_2xdc'], params_list_used)\n",
    "        # print(potential)\n",
    "        color_code.append(_protocol['color'])\n",
    "        ax_0.plot(phi_1_array, potential, label = f\"{name}\", c = _protocol['color'], linestyle = _protocol['linestyle'])\n",
    "        ax_4.plot(phi_1_array, potential - min(potential), label = f\"{name}\", c = _protocol['color'], linestyle = _protocol['linestyle'])\n",
    "\n",
    "\n",
    "        if direction == \"h\":\n",
    "            potential = coupled_flux_qubit_non_linear_approx_pot(phi_1_array, phi_2_top_fixed,  _protocol['phi_1xdc'], _protocol['phi_2xdc'], params_list_used)\n",
    "        if direction == \"v\":\n",
    "            potential = coupled_flux_qubit_non_linear_approx_pot(phi_2_top_fixed, phi_1_array,  _protocol['phi_1xdc'], _protocol['phi_2xdc'], params_list_used)\n",
    "\n",
    "        ax_2.plot(phi_1_array, potential, label = f\"{name}\", c = _protocol['color'], linestyle = _protocol['linestyle'])\n",
    "        ax_6.plot(phi_1_array, potential - min(potential), label = f\"{name}\", c = _protocol['color'], linestyle = _protocol['linestyle'])\n",
    "\n",
    "        ax_0.set_xlim(-4, 4)\n",
    "        ax_0.set_ylim(left_y_range[0], left_y_range[1])\n",
    "        ax_4.set_xlim(bottom_left_x_range[0], bottom_left_x_range[1])\n",
    "        ax_4.set_ylim(bottom_left_y_range[0], bottom_left_y_range[1])\n",
    "\n",
    "\n",
    "        ax_2.set_xlim(-4, 4)\n",
    "        ax_2.set_ylim(right_y_range[0], right_y_range[1])\n",
    "        ax_6.set_xlim(bottom_right_x_range[0], bottom_right_x_range[1])\n",
    "        ax_6.set_ylim(bottom_right_y_range[0], bottom_right_y_range[1])\n",
    "        ax_0.legend()\n",
    "        \n",
    "\n",
    "    ax_1.contourf(X, Y, U, 30)\n",
    "    ax_3.contourf(X, Y, U, 30)\n",
    "\n",
    "    if direction == \"h\":\n",
    "        ax_1.hlines(y=phi_2_bottom_fixed, xmin = -4, xmax = 4, color = \"red\")\n",
    "        ax_3.hlines(y=phi_2_top_fixed, xmin = -4, xmax = 4, color = \"red\")\n",
    "        ax_5.hlines(y=phi_2_bottom_fixed, xmin = -4, xmax = 4, color = \"red\")\n",
    "        ax_7.hlines(y=phi_2_top_fixed, xmin = -4, xmax = 4, color = \"red\")\n",
    "    if direction == \"v\":\n",
    "        ax_1.vlines(x=phi_2_bottom_fixed, ymin = -4, ymax = 4, color = \"red\")\n",
    "        ax_3.vlines(x=phi_2_top_fixed, ymin = -4, ymax = 4, color = \"red\")\n",
    "        ax_5.vlines(x=phi_2_bottom_fixed, ymin = -4, ymax = 4, color = \"red\")\n",
    "        ax_7.vlines(x=phi_2_top_fixed, ymin = -4, ymax = 4, color = \"red\")\n",
    "\n",
    "    ax_5.contourf(X, Y, U, 30)\n",
    "    ax_7.contourf(X, Y, U, 30)\n",
    "\n",
    "    \n",
    "    for critical_point_info, _c in zip(critical_point_list, color_code):\n",
    "        for (_x, _y) in critical_point_info['coord']:\n",
    "            ax_1.scatter(_x, _y, color = _c)\n",
    "            ax_3.scatter(_x, _y, color = _c)\n",
    "            ax_5.scatter(_x, _y, color = _c)\n",
    "            ax_7.scatter(_x, _y, color = _c)\n",
    "\n",
    "    plt.show() \n",
    "    return critical_point_list\n",
    "\n",
    "# control swap protocol\n",
    "def createProtocol(duration, protocol, name):\n",
    "    protocol_new = {\n",
    "        \"phi_1xdc\": protocol[\"phi_1xdc\"], \"phi_2xdc\": protocol[\"phi_2xdc\"], \n",
    "        \"phi_1x\": protocol[\"phi_1x\"], \"phi_2x\": protocol[\"phi_2x\"], \n",
    "        \"mu_12\": protocol[\"mu_12\"], \"duration\": duration, \"name\": name\n",
    "    }\n",
    "    return protocol_new\n",
    "\n",
    "def setup_transcendtal_equation(phi_1xdc, beta, gamma):\n",
    "    def Fcn(phi_1dc):\n",
    "        return phi_1dc - beta / (2 * gamma) * np.sin(phi_1dc/2) - phi_1xdc\n",
    "    return Fcn\n",
    "\n",
    "def findBarrierHeight(_phi_1xdc, mu_factor_1, beta_1):\n",
    "    protocol_2 = {\"phi_1x\": 0.095 * mu_factor_1, \"phi_2x\": 0, \"mu_12\": 0.0475 * mu_factor_1, \"phi_1xdc\": _phi_1xdc, \"phi_2xdc\": 0, \"name\": \"acceleration\", \"color\": \"g\", \"linestyle\": \"-\"}\n",
    "    protocol_2[\"beta\"] = beta_1\n",
    "    protocol_2[\"d_beta\"] = 0\n",
    "    critical_dict = find_all_critical_points_for_all_potential(protocol_2, guess = [(-2, -2), (-2, 2), (2, -2), (2, 2), (-2,0), (0, -2), (2, 0), (0, 2)])\n",
    "    critical_points = list(critical_dict.values())[0]\n",
    "    critical_potential = [pot_function(protocol_2)([x, y]) for x, y in critical_points]\n",
    "    delta_U17 = critical_potential[7] - critical_potential[1]\n",
    "    delta_U37 = critical_potential[7] - critical_potential[3]\n",
    "    return {\n",
    "        \"coord\": critical_points, \"delta_U17\": delta_U17 * U0_1, \"delta_U37\": delta_U37 * U0_1, \"phi_1xdc\": _phi_1xdc\n",
    "    }\n",
    "\n"
   ]
  },
  {
   "cell_type": "code",
   "execution_count": null,
   "id": "2",
   "metadata": {},
   "outputs": [],
   "source": [
    "mapping_index = {\"00\": 0, \"01\": 1, \"10\": 2, \"11\": 3}\n",
    "\n",
    "mapping_state_1_to_state_2_dict_NAND = {\"00\": [\"11\"], \"01\": [\"11\"], \"10\": [\"11\"], \"11\": [\"00\"]}\n",
    "\n",
    "mapping_state_1_to_state_2_dict_in_index_form_NAND = {0: [3], 1: [3], 2: [3], 3: [0]}\n"
   ]
  },
  {
   "cell_type": "code",
   "execution_count": null,
   "id": "3",
   "metadata": {},
   "outputs": [],
   "source": [
    "L = 5e-12\n",
    "C = 500e-15"
   ]
  },
  {
   "cell_type": "code",
   "execution_count": null,
   "id": "4",
   "metadata": {},
   "outputs": [],
   "source": [
    "PHI_0 = 2.067833848 * 1e-15\n",
    "k_B = 1.38e-23\n",
    "T = 4.2\n",
    "k_BT = k_B * T\n",
    "x_c = PHI_0 / (2 * np.pi)\n",
    "beta_1 = 2.3\n",
    "\n",
    "U0_1 = x_c**2 / L / k_BT"
   ]
  },
  {
   "cell_type": "code",
   "execution_count": null,
   "id": "5",
   "metadata": {},
   "outputs": [],
   "source": [
    "protocol_parameter_for_different_beta = {\n",
    "    \"2.30\": {\n",
    "        \"mu_12_factor\": 0.0475, \"phi_1x_factor\": 0.095,\n",
    "        \"critical_point_guess\": [(-2, -2), (-2, 2), (2, -2), (2, 2), (-2,0), (0, -2), (2, 0), (0, 2)]\n",
    "    },\n",
    "    \"1.35\": {\n",
    "        \"mu_12_factor\": 0.0723, \"phi_1x_factor\": 0.095,\n",
    "        \"critical_point_guess\": [(-1.5, -1.5), (-1.5, 1.5), (1.5, -1.5), (1.5, 1.5), (-1.5,0), (0, -1.5), (1.5, 0), (0, 1.5)]\n",
    "    }\n",
    "}\n"
   ]
  },
  {
   "cell_type": "markdown",
   "id": "6",
   "metadata": {},
   "source": [
    "# intended barrier height vs effective barrier height"
   ]
  },
  {
   "cell_type": "markdown",
   "id": "7",
   "metadata": {},
   "source": [
    "## difference between phi_xdc and phi_dc"
   ]
  },
  {
   "cell_type": "code",
   "execution_count": null,
   "id": "8",
   "metadata": {},
   "outputs": [],
   "source": [
    "\n",
    "phi_1xdc_array = np.linspace(0, 2.1, 50)\n",
    "gamma_1 = [9, 16]\n",
    "beta_1 = [1.35, 2.3]\n",
    "color_array = [\"blue\", \"orange\", \"grey\", \"red\"]\n",
    "gamma_beta_array = [(2.3, 9), (2.3, 16), (1.35, 9), (1.35, 16)]\n",
    "\n",
    "color_array = [\"blue\", \"grey\"]\n",
    "gamma_beta_array = [(2.3, 9), (1.35, 9)]\n",
    "\n",
    "phi_xdc_phi_dc_combination = []\n",
    "for _beta, _gamma in gamma_beta_array:\n",
    "    item = {\n",
    "        \"beta\": _beta, \"gamma\": _gamma, \"phi_xdc_vs_phi_dc\": []\n",
    "    }\n",
    "    for _phi_1xdc in phi_1xdc_array:\n",
    "        Fcn = setup_transcendtal_equation(_phi_1xdc, _beta, _gamma)\n",
    "        sol = fsolve(Fcn, _phi_1xdc)[0]\n",
    "        item[\"phi_xdc_vs_phi_dc\"].append([_phi_1xdc, sol])\n",
    "    phi_xdc_phi_dc_combination.append(item)"
   ]
  },
  {
   "cell_type": "code",
   "execution_count": null,
   "id": "9",
   "metadata": {},
   "outputs": [],
   "source": [
    "\n",
    "\n",
    "\n",
    "fig, ax = plt.subplots(1, 1, figsize = [5, 5])\n",
    "for item, color in list(zip(phi_xdc_phi_dc_combination, color_array))[0:1]:\n",
    "    phi_xdc_vs_phi_dc_array = np.array(item[\"phi_xdc_vs_phi_dc\"])\n",
    "    ax.plot(phi_xdc_vs_phi_dc_array[:, 0], phi_xdc_vs_phi_dc_array[:, 1] - phi_xdc_vs_phi_dc_array[:, 0], label = r\"$\\beta$ = \" + f\"{item['beta']}\" + r\", $\\gamma$ = \" + f\"{item['gamma']}\", color = color)\n",
    "    # ax2.plot([0, 2.1], [0, 0], linestyle= \"--\", color =\"grey\", alpha = 0.5)\n",
    "    # ax2.plot(phi_xdc_vs_phi_dc_array[:, 0], phi_xdc_vs_phi_dc_array[:, 1], label = r\"$\\gamma$ = \" + f\"{item['gamma']}\" + r\", $\\beta$ = \" + f\"{item['beta']}\", color = color)\n",
    "\n",
    "\n",
    "# ax1.set_aspect(1)\n",
    "ax.legend()\n",
    "ax.set_xlabel(r\"$\\varphi_{xdc}$\", fontsize = 14)\n",
    "ax.set_ylabel(r\"$\\varphi_{dc} - \\varphi_{xdc}$\", fontsize = 14)\n"
   ]
  },
  {
   "cell_type": "code",
   "execution_count": null,
   "id": "10",
   "metadata": {},
   "outputs": [],
   "source": [
    "\n",
    "\n",
    "# These are in unitless percentages of the figure size. (0,0 is bottom left)\n",
    "left, bottom, width, height = [0.55, 0.2, 0.2, 0.2]\n",
    "\n"
   ]
  },
  {
   "cell_type": "code",
   "execution_count": null,
   "id": "11",
   "metadata": {},
   "outputs": [],
   "source": [
    "\n",
    "\n",
    "\n",
    "# mu_factor_1 = -1.1\n",
    "# protocol_0_q = {\"phi_1x\": 0. * mu_factor_1, \"phi_2x\": 0, \"mu_12\": 0. * mu_factor_1, \"phi_1xdc\": 0.0, \"phi_2xdc\": 0, \"name\": \"acceleration_protocol_0\", \"color\": \"g\", \"linestyle\": \"-\"}\n",
    "\n",
    "# # beta = 2.3\n",
    "\n",
    "\n",
    "# params_array = [(1.90, -1), (1.945, -0.8), (1.99, -0.7), (2.01, -0.6), (2.02, -0.6), (2.04, -0.5), (2.10, -0.3)]\n",
    "# selected_param = params_array[2]\n",
    "\n",
    "# _phi_1xdc = selected_param[0]\n",
    "# mu_factor_1 = selected_param[1]\n",
    "# _t = 50\n",
    "\n",
    "# mu_factor_1 = -0.5\n",
    "\n",
    "# protocol_2 = {\"phi_1x\": 0.095 * mu_factor_1, \"phi_2x\": 0, \"mu_12\": 0.068 * mu_factor_1, \"phi_1xdc\": 0.9, \"phi_2xdc\": 0, \"name\": \"acceleration\", \"color\": \"g\", \"linestyle\": \"-\"}\n",
    "# cutline_value = 2.0\n",
    "\n",
    "\n",
    "# protocol_list_adiabatic = [\n",
    "#     createProtocol(_t, protocol_2, name = \"acceleration_potential\"),\n",
    "#     createProtocol(_t, protocol_2, name = \"acceleration_potential_hold\"),\n",
    "#     # createProtocol(0.01, protocol_1s, name = \"decceleration_potential_jump\"),\n",
    "#     # createProtocol(10, protocol_1s, name = \"decceleration_potential_hold\"),\n",
    "#     {'duration': _t, \"phi_1x\": 0.0, \"phi_2x\": 0.0, \"mu_12\": 0.00, \"phi_1xdc\": 0, \"phi_2xdc\": 0, \"name\": \"four_well\"}\n",
    "# ]  \n",
    "# protocol_array = [protocol_2 ]\n",
    "\n",
    "# # print(U0_1)\n",
    "\n",
    "# critical_point_list = plot_3_well_potential(protocol_array, [500, 2200], [800,1200], bottom_left_y_range= [0, 100], bottom_right_y_range= [-10, 60], contour_x_range = [1.0, 2], contour_y_range = [-2.5, -1.5], \n",
    "#                                              beta = beta_1, phi_2_bottom_fixed=-cutline_value, phi_2_top_fixed= cutline_value, set_same_min=True)"
   ]
  },
  {
   "cell_type": "code",
   "execution_count": null,
   "id": "12",
   "metadata": {},
   "outputs": [],
   "source": []
  },
  {
   "cell_type": "code",
   "execution_count": null,
   "id": "13",
   "metadata": {},
   "outputs": [],
   "source": []
  },
  {
   "cell_type": "code",
   "execution_count": null,
   "id": "14",
   "metadata": {},
   "outputs": [],
   "source": []
  },
  {
   "cell_type": "markdown",
   "id": "15",
   "metadata": {},
   "source": [
    "## search critical point"
   ]
  },
  {
   "cell_type": "code",
   "execution_count": null,
   "id": "16",
   "metadata": {},
   "outputs": [],
   "source": []
  },
  {
   "cell_type": "code",
   "execution_count": null,
   "id": "17",
   "metadata": {},
   "outputs": [],
   "source": [
    "# beta_1 = 2.3\n",
    "# _phi_1xdc_and_mu_factor_array = [(2.1, -0.32), (2.04, -0.41), (1.985, -0.5), (1.94, -0.6), (1.90, -0.75)]\n",
    "\n",
    "\n",
    "beta_1 = 1.35\n",
    "_phi_1xdc_and_mu_factor_array = [(0.5, -0.8), (0.76, -0.65), (0.89, -0.5), (1.03, -0.4), (1.1, -0.3), (1.18, -0.25)]\n",
    "\n",
    "\n",
    "gamma_1 = 9\n",
    "# gamma_1 = 16\n",
    "\n",
    "result_array = []\n",
    "\n",
    "\n",
    "for _phi_1xdc, mu_factor_1 in _phi_1xdc_and_mu_factor_array:\n",
    "    protocol_2 = {\"phi_1x\": 0.095 * mu_factor_1, \"phi_2x\": 0, \"mu_12\": 0.0723 * mu_factor_1, \"phi_1xdc\": _phi_1xdc, \"phi_2xdc\": 0, \"name\": \"acceleration\", \"color\": \"g\", \"linestyle\": \"-\"}\n",
    "    protocol_2[\"beta\"] = beta_1\n",
    "    protocol_2[\"d_beta\"] = 0\n",
    "    critical_dict = find_all_critical_points_for_all_potential(protocol_2, guess = [(-2, -2), (-2, 2), (2, -2), (2, 2), (-2,0), (0, -2), (2, 0), (0, 2)])\n",
    "    critical_points = list(critical_dict.values())[0]\n",
    "\n",
    "    critical_potential = [pot_function(protocol_2)([x, y]) for x, y in critical_points]\n",
    "    \n",
    "    delta_U17 = critical_potential[7] - critical_potential[1]\n",
    "    delta_U37 = critical_potential[7] - critical_potential[3]\n",
    "\n",
    "    result_array.append({\n",
    "        \"coord\": critical_points, \"delta_U17\": delta_U17 * U0_1, \"delta_U37\": delta_U37 * U0_1, \"phi_1xdc\": _phi_1xdc\n",
    "    })\n",
    "    print(critical_points[0], critical_points[2], critical_points[5])\n",
    "\n",
    "    Fcn = setup_transcendtal_equation(_phi_1xdc, beta_1, gamma_1)\n",
    "    sol = fsolve(Fcn, _phi_1xdc)\n",
    "    intended_barrier_height_info = findBarrierHeight(_phi_1xdc, mu_factor_1, beta_1)\n",
    "    effective_barrier_height_info = findBarrierHeight(sol[0], mu_factor_1, beta_1)\n",
    "    print(f\"applied _phi_1xdc = {_phi_1xdc}, mu_factor_1 = {mu_factor_1}\")\n",
    "    print(f\"{_phi_1xdc:.3g} -> {sol[0]:.3g}\")\n",
    "    print(f\"asymmetry = {abs(delta_U17 - delta_U37):.3g}\")\n",
    "    print(f\"intended ∆U = {intended_barrier_height_info['delta_U17']:.3g}\")\n",
    "    print(f\"effective ∆U = {effective_barrier_height_info['delta_U17']:.3g}\")\n",
    "    print(\"--\" * 10)\n",
    "\n"
   ]
  },
  {
   "cell_type": "code",
   "execution_count": null,
   "id": "18",
   "metadata": {},
   "outputs": [],
   "source": [
    "result_array"
   ]
  },
  {
   "cell_type": "code",
   "execution_count": null,
   "id": "19",
   "metadata": {},
   "outputs": [],
   "source": []
  },
  {
   "cell_type": "code",
   "execution_count": null,
   "id": "20",
   "metadata": {},
   "outputs": [],
   "source": [
    "import itertools\n",
    "\n",
    "time_array = [100, 80, 60, 40, 30, 20]\n",
    "params_array = [(1.90, -1), (1.945, -0.8), (1.99, -0.7), (2.04, -0.5), (2.10, -0.3)]\n",
    "simParams = list(itertools.product(time_array, params_array))\n",
    "result_array = []\n",
    "\n",
    "for [_t, (_phi_1xdc, mu_factor_1)] in simParams[3:4]:\n",
    "    protocol_2 = {\"phi_1x\": 0.095 * mu_factor_1, \"phi_2x\": 0, \"mu_12\": 0.0475 * mu_factor_1, \"phi_1xdc\": _phi_1xdc, \"phi_2xdc\": 0, \"name\": \"acceleration\", \"color\": \"g\", \"linestyle\": \"-\"}\n",
    "    protocol_2[\"beta\"] = beta_1\n",
    "    protocol_2[\"d_beta\"] = 0\n",
    "    critical_dict = find_all_critical_points_for_all_potential(protocol_2, guess = [(-2, -2), (-2, 2), (2, -2), (2, 2), (-2,0), (0, -2), (2, 0), (0, 2)])\n",
    "    critical_points = list(critical_dict.values())[0]\n",
    "\n",
    "    critical_potential = [pot_function(protocol_2)([x, y]) for x, y in critical_points]\n",
    "    \n",
    "    delta_U17 = critical_potential[7] - critical_potential[1]\n",
    "    delta_U37 = critical_potential[7] - critical_potential[3]\n",
    "\n",
    "    result_array.append({\n",
    "        \"coord\": critical_points, \"delta_U17\": delta_U17 * U0_1, \"delta_U37\": delta_U37 * U0_1, \"phi_1xdc\": _phi_1xdc\n",
    "    })\n"
   ]
  },
  {
   "cell_type": "code",
   "execution_count": null,
   "id": "21",
   "metadata": {},
   "outputs": [],
   "source": []
  },
  {
   "cell_type": "code",
   "execution_count": null,
   "id": "22",
   "metadata": {},
   "outputs": [],
   "source": []
  },
  {
   "cell_type": "code",
   "execution_count": null,
   "id": "23",
   "metadata": {},
   "outputs": [],
   "source": [
    "result_array"
   ]
  },
  {
   "cell_type": "code",
   "execution_count": null,
   "id": "24",
   "metadata": {},
   "outputs": [],
   "source": [
    "t_CE = 0.5e-9\n",
    "L, C = 5e-12, 500e-15\n",
    "beta_1 =2.3\n",
    "\n",
    "def cal_second_derivative(_phi_1, _phi_1xdc, beta_1 = 2.3):\n",
    "    return 1 - beta_1 * np.cos(_phi_1) * np.cos(_phi_1xdc/2)"
   ]
  },
  {
   "cell_type": "code",
   "execution_count": null,
   "id": "25",
   "metadata": {},
   "outputs": [],
   "source": [
    "target_index = 1\n",
    "target_critial_point_info = result_array[target_index]['coord'][1][0], result_array[target_index]['phi_1xdc'], result_array[target_index]['delta_U17']\n",
    "# result_array[0]['coord'][3]\n",
    "print(target_critial_point_info)"
   ]
  },
  {
   "cell_type": "code",
   "execution_count": null,
   "id": "26",
   "metadata": {},
   "outputs": [],
   "source": [
    "# second_derivative_array = np.array([cal_second_derivative(_phi_1, _phi_1xdc) for _phi_1, _phi_1xdc in zip(phi_1, phi_1xdc)])\n",
    "second_derivative_array = np.array(cal_second_derivative(target_critial_point_info[0], target_critial_point_info[1]))\n",
    "plasma_freq = np.sqrt(second_derivative_array / (L * C))\n",
    "escape_rate = plasma_freq / (2 * np.pi) * np.exp(-target_critial_point_info[2])\n",
    "dwell_time = 1 / escape_rate\n",
    "robustness = dwell_time / t_CE\n"
   ]
  },
  {
   "cell_type": "code",
   "execution_count": null,
   "id": "27",
   "metadata": {},
   "outputs": [],
   "source": [
    "print(f\"plasma_freq = {plasma_freq:.3e}\")"
   ]
  },
  {
   "cell_type": "code",
   "execution_count": null,
   "id": "28",
   "metadata": {},
   "outputs": [],
   "source": [
    "np.exp(-target_critial_point_info[2]) * plasma_freq"
   ]
  },
  {
   "cell_type": "code",
   "execution_count": null,
   "id": "29",
   "metadata": {},
   "outputs": [],
   "source": [
    "escape_rate"
   ]
  },
  {
   "cell_type": "code",
   "execution_count": null,
   "id": "30",
   "metadata": {},
   "outputs": [],
   "source": []
  },
  {
   "cell_type": "code",
   "execution_count": null,
   "id": "31",
   "metadata": {},
   "outputs": [],
   "source": []
  },
  {
   "cell_type": "code",
   "execution_count": null,
   "id": "32",
   "metadata": {},
   "outputs": [],
   "source": [
    "fig, ax1 = plt.subplots()\n",
    "ax2 = ax1.twinx()\n",
    "\n",
    "\n",
    "\n",
    "fig.suptitle(f\"L = {L} H, C = {C} F, beta = {beta}\")\n",
    "ax1.scatter(phi_2xdc, robustness, label= \"robustness\")\n",
    "ax1.set_ylabel(\"robustness\")\n",
    "ax1.set_xlabel(r\"$\\varphi_{2xdc}$\")\n",
    "ax1.set_yscale(\"log\")\n",
    "\n",
    "ax2.scatter(phi_2xdc, delta_U10, color = \"red\", marker = \"^\", label = \"∆U10\", alpha = 0.4)\n",
    "ax2.set_ylabel(\"∆U (k_BT)\")\n",
    "# ax2.legend(bbox_to_anchor=(1.4, 1.05))\n",
    "\n",
    "# ask matplotlib for the plotted objects and their labels\n",
    "lines1, labels1 = ax1.get_legend_handles_labels()\n",
    "lines2, labels2 = ax2.get_legend_handles_labels()\n",
    "ax1.legend(lines1 + lines2, labels1 + labels2, bbox_to_anchor=(1,1 ))\n",
    "\n",
    "# plt.plot(phi_2xdc, robustness)\n",
    "# plt.yscale(\"log\")\n",
    "# plt.ylabel(\"robustness\")\n",
    "# plt.xlabel(r\"$\\varphi_2$\")"
   ]
  },
  {
   "cell_type": "code",
   "execution_count": null,
   "id": "33",
   "metadata": {},
   "outputs": [],
   "source": [
    "robustness"
   ]
  },
  {
   "cell_type": "code",
   "execution_count": null,
   "id": "34",
   "metadata": {},
   "outputs": [],
   "source": [
    "fig, ax1 = plt.subplots()\n",
    "ax2 = ax1.twinx()\n",
    "\n",
    "\n",
    "\n",
    "fig.suptitle(f\"L = {L} H, C = {C} F, beta = {beta}\")\n",
    "ax1.scatter(phi_2xdc, escape_rate, label= \"escape rate\")\n",
    "ax1.set_ylabel(\"escape rate (Hz)\")\n",
    "ax1.set_xlabel(r\"$\\varphi_{2xdc}$\")\n",
    "ax1.set_yscale(\"log\")\n",
    "\n",
    "ax2.scatter(phi_2xdc, delta_U10, color = \"red\", marker = \"^\", label = \"∆U10\")\n",
    "ax2.set_ylabel(\"∆U (k_BT)\")\n",
    "# ax2.legend(bbox_to_anchor=(1.4, 1.05))\n",
    "\n",
    "# ask matplotlib for the plotted objects and their labels\n",
    "lines1, labels1 = ax1.get_legend_handles_labels()\n",
    "lines2, labels2 = ax2.get_legend_handles_labels()\n",
    "ax1.legend(lines1 + lines2, labels1 + labels2, bbox_to_anchor=(0.55,0.99 ))"
   ]
  },
  {
   "cell_type": "code",
   "execution_count": null,
   "id": "35",
   "metadata": {},
   "outputs": [],
   "source": [
    "simulated_work = [30.3, 29.5, 27.9, 26.8, 26, 25.5, 26.6, 29, 30.4, 31]\n",
    "\n",
    "simulated_work_error = [0.557, 0.5965, 0.5649, 0.51, 0.469,  0.398, 0.472, 0.42, 0.346, 0.284]\n",
    "simulated_error_rate = [0.132, 0, 0, 0, 0.002, 0.052, 1.54, 12.2, 26.4, 25.9]\n",
    "\n",
    "# error rate in % (phi_2xdc)\n",
    "# 0.132 (1.80 ), 0 (1.84), 0 (1.88), 0, (1.92), 0.002(1.96), 1.54 (2.05), 12.2 (2.10), 26.4 (2.15), 25.9 (2.20)\n"
   ]
  },
  {
   "cell_type": "code",
   "execution_count": null,
   "id": "36",
   "metadata": {},
   "outputs": [],
   "source": [
    "plt.scatter(phi_2xdc, delta_U10, label = \"∆U00\", color = \"red\")\n",
    "\n",
    "# plt.scatter(phi_2xdc, simulated_work, label = \"simulated work\") \n",
    "\n",
    "# plt.errorbar(x = phi_2xdc[:-1], y = simulated_work[:-1], yerr=simulated_work_error[:-1], fmt = \"o\")\n",
    "plt.xlabel(r\"$\\varphi_2$\")\n",
    "plt.ylabel(r\"energy (k_BT)\")\n",
    "plt.legend()"
   ]
  },
  {
   "cell_type": "code",
   "execution_count": null,
   "id": "37",
   "metadata": {},
   "outputs": [],
   "source": []
  },
  {
   "cell_type": "code",
   "execution_count": null,
   "id": "38",
   "metadata": {},
   "outputs": [],
   "source": [
    "corrected_phi_1dc_array"
   ]
  },
  {
   "cell_type": "code",
   "execution_count": null,
   "id": "39",
   "metadata": {},
   "outputs": [],
   "source": [
    "mu_factor_1 = -0.5\n",
    "_phi_1xdc_array = np.linspace(1.90, 2.2, 40)\n",
    "corrected_phi_1dc_array = []\n",
    "\n",
    "gamma_beta_array = [(2.3, 9)]\n",
    "for _beta, _gamma in gamma_beta_array:\n",
    "    for _phi_1xdc in phi_1xdc_array:\n",
    "        Fcn = setup_transcendtal_equation(_phi_1xdc, _beta, _gamma)\n",
    "        sol = fsolve(Fcn, _phi_1xdc)[0]\n",
    "        corrected_phi_1dc_array.append(sol)\n",
    "\n",
    "\n",
    "protocol_duration = np.sqrt(L * C) * 80\n",
    "\n",
    "result_array = []\n",
    "\n",
    "\n",
    "for _phi_1xdc in _phi_1xdc_array:\n",
    "    protocol_2 = {\"phi_1x\": 0.095 * mu_factor_1, \"phi_2x\": 0, \"mu_12\": 0.0475 * mu_factor_1, \"phi_1xdc\": _phi_1xdc, \"phi_2xdc\": 0, \"name\": \"acceleration\", \"color\": \"g\", \"linestyle\": \"-\"}\n",
    "    protocol_2[\"beta\"] = beta_1\n",
    "    protocol_2[\"d_beta\"] = 0\n",
    "    critical_dict = find_all_critical_points_for_all_potential(protocol_2, guess = [(-2, -2), (-2, 2), (2, -2), (2, 2), (-2,0), (0, -2), (2, 0), (0, 2)])\n",
    "    critical_points = list(critical_dict.values())[0]\n",
    "\n",
    "    critical_potential = [pot_function(protocol_2)([x, y]) for x, y in critical_points]\n",
    "    \n",
    "    delta_U17 = critical_potential[7] - critical_potential[1]\n",
    "    delta_U37 = critical_potential[7] - critical_potential[3]\n",
    "\n",
    "    result_array.append({\n",
    "        \"coord\": critical_points, \"delta_U17\": delta_U17 * U0_1, \"delta_U37\": delta_U37 * U0_1, \"phi_1xdc\": _phi_1xdc\n",
    "    })\n",
    "\n",
    "escape_rate_info_array = []\n",
    "for item in result_array:\n",
    "    # second_derivative_array = np.array([cal_second_derivative(_phi_1, _phi_1xdc) for _phi_1, _phi_1xdc in zip(phi_1, phi_1xdc)])\n",
    "    target_critial_point_info = item['coord'][1][0], item['phi_1xdc'], item['delta_U17']\n",
    "    second_derivative_array = np.array(cal_second_derivative(target_critial_point_info[0], target_critial_point_info[1]))\n",
    "    plasma_freq = np.sqrt(second_derivative_array / (L * C))\n",
    "    escape_rate = plasma_freq / (2 * np.pi) * np.exp(-target_critial_point_info[2])\n",
    "    dwell_time = 1 / escape_rate\n",
    "    escape_rate_info_array.append([item['delta_U17'], escape_rate, escape_rate * protocol_duration])\n"
   ]
  },
  {
   "cell_type": "code",
   "execution_count": null,
   "id": "40",
   "metadata": {},
   "outputs": [],
   "source": [
    "corrected_result_array = []\n",
    "for _phi_1xdc in corrected_phi_1dc_array:\n",
    "    protocol_2 = {\"phi_1x\": 0.095 * mu_factor_1, \"phi_2x\": 0, \"mu_12\": 0.0475 * mu_factor_1, \"phi_1xdc\": _phi_1xdc, \"phi_2xdc\": 0, \"name\": \"acceleration\", \"color\": \"g\", \"linestyle\": \"-\"}\n",
    "    protocol_2[\"beta\"] = beta_1\n",
    "    protocol_2[\"d_beta\"] = 0\n",
    "    critical_dict = find_all_critical_points_for_all_potential(protocol_2, guess = [(-2, -2), (-2, 2), (2, -2), (2, 2), (-2,0), (0, -2), (2, 0), (0, 2)])\n",
    "    critical_points = list(critical_dict.values())[0]\n",
    "\n",
    "    critical_potential = [pot_function(protocol_2)([x, y]) for x, y in critical_points]\n",
    "    \n",
    "    delta_U17 = critical_potential[7] - critical_potential[1]\n",
    "    delta_U37 = critical_potential[7] - critical_potential[3]\n",
    "\n",
    "    corrected_result_array.append({\n",
    "        \"coord\": critical_points, \"delta_U17\": delta_U17 * U0_1, \"delta_U37\": delta_U37 * U0_1, \"phi_1xdc\": _phi_1xdc\n",
    "    })\n",
    "\n",
    "corrected_escape_rate_info_array = []\n",
    "for item in corrected_result_array:\n",
    "    # second_derivative_array = np.array([cal_second_derivative(_phi_1, _phi_1xdc) for _phi_1, _phi_1xdc in zip(phi_1, phi_1xdc)])\n",
    "    target_critial_point_info = item['coord'][1][0], item['phi_1xdc'], item['delta_U17']\n",
    "    second_derivative_array = np.array(cal_second_derivative(target_critial_point_info[0], target_critial_point_info[1]))\n",
    "    plasma_freq = np.sqrt(second_derivative_array / (L * C))\n",
    "    escape_rate = plasma_freq / (2 * np.pi) * np.exp(-target_critial_point_info[2])\n",
    "    dwell_time = 1 / escape_rate\n",
    "    corrected_escape_rate_info_array.append([item['delta_U17'], escape_rate, escape_rate * protocol_duration])\n"
   ]
  },
  {
   "cell_type": "code",
   "execution_count": null,
   "id": "41",
   "metadata": {},
   "outputs": [],
   "source": [
    "corrected_escape_rate_info_array"
   ]
  },
  {
   "cell_type": "code",
   "execution_count": null,
   "id": "42",
   "metadata": {},
   "outputs": [],
   "source": [
    "escape_rate_info_array = np.array(escape_rate_info_array)\n",
    "corrected_escape_rate_info_array = np.array(corrected_escape_rate_info_array)\n",
    "N = 124_000\n",
    "barrier_height = escape_rate_info_array[:, 0]\n",
    "corrected_barrier_height = corrected_escape_rate_info_array[:, 0]\n",
    "expected_escape_number = escape_rate_info_array[:, 1] * protocol_duration * N/2\n",
    "corrected_expected_escape_number = corrected_escape_rate_info_array[:, 1] * protocol_duration * N/2"
   ]
  },
  {
   "cell_type": "code",
   "execution_count": null,
   "id": "43",
   "metadata": {},
   "outputs": [],
   "source": [
    "# Experiment 2 (2025-07-15) (3rd data, i.e. E_B = 25.0), Experiment 2 (2025-07-12)\n",
    "simulation_data_barrier = [11.3, 21.0, 25.0, 30, 40.2, 50]\n",
    "simulation_data_escape_event = [31193, 1112, 60, 0, 0, 0]\n",
    "simulated_work = [24.4, 22.7, 25.4, 29.4, 34.6, 55]\n",
    "simulated_work_error = np.array([0.225, 0.228, 0.324, 0.366, 0.463, 0.742]) * 3\n",
    "\n"
   ]
  },
  {
   "cell_type": "code",
   "execution_count": null,
   "id": "44",
   "metadata": {},
   "outputs": [],
   "source": [
    "plt.scatter(simulation_data_barrier, simulation_data_escape_event, label = \"simulation\", color = \"blue\")\n",
    "plt.scatter(barrier_height, expected_escape_number, label = \"theory\", color = \"orange\")\n",
    "\n",
    "plt.xlabel(\"$\\Delta E_B (k_BT)$\")\n",
    "plt.ylabel(r\"escape events per operation\")\n",
    "plt.yscale(\"log\")\n",
    "plt.title(r\"t = 50 $t_c$\")\n",
    "xmin, xmax = plt.xlim()\n",
    "# plt.hlines(y = 1e-6, xmin = xmin, xmax = xmax, linestyles = \"--\")\n",
    "plt.legend()"
   ]
  },
  {
   "cell_type": "code",
   "execution_count": null,
   "id": "45",
   "metadata": {},
   "outputs": [],
   "source": [
    "plt.scatter(simulation_data_barrier, simulation_data_escape_event, label = \"simulation\", color = \"blue\")\n",
    "plt.scatter(barrier_height, expected_escape_number, label = \"theory\", color = \"orange\")\n",
    "plt.scatter(corrected_barrier_height, corrected_expected_escape_number, label = \"corrected\", color = \"red\")\n",
    "plt.xlabel(\"$\\Delta E_B (k_BT)$\")\n",
    "plt.ylabel(r\"escape events per operation\")\n",
    "plt.yscale(\"log\")\n",
    "plt.title(r\"t = 50 $t_c$\")\n",
    "plt.xlim(10, 50)\n",
    "plt.ylim(1e-15, 1e5)\n",
    "xmin, xmax = plt.xlim()\n",
    "plt.hlines(y = 1, xmin = xmin, xmax = xmax, linestyles = \"--\")\n",
    "plt.legend()"
   ]
  },
  {
   "cell_type": "code",
   "execution_count": null,
   "id": "46",
   "metadata": {},
   "outputs": [],
   "source": [
    "plt.errorbar(x = simulation_data_barrier, y = simulated_work, yerr = simulated_work_error, label = \"simulation\", fmt = \"o\")\n",
    "plt.xlabel(\"∆E_B (k_BT)\")\n",
    "plt.ylabel(\"work\")\n",
    "plt.title(\"work done vs ∆E_B\")\n",
    "plt.legend()"
   ]
  },
  {
   "cell_type": "code",
   "execution_count": null,
   "id": "47",
   "metadata": {},
   "outputs": [],
   "source": []
  },
  {
   "cell_type": "code",
   "execution_count": null,
   "id": "48",
   "metadata": {},
   "outputs": [],
   "source": [
    "protocol_duration"
   ]
  },
  {
   "cell_type": "code",
   "execution_count": null,
   "id": "49",
   "metadata": {},
   "outputs": [],
   "source": [
    "plt.scatter(barrier_height, 1/escape_rate_info_array[:,1] / protocol_duration)\n",
    "plt.xlabel(\"∆E_B (k_BT)\")\n",
    "plt.ylabel(\"robustness\")\n",
    "plt.title(\"t = 80 t_c, L = 5pH, C = 500fF\")\n",
    "plt.yscale(\"log\")"
   ]
  },
  {
   "cell_type": "code",
   "execution_count": null,
   "id": "50",
   "metadata": {},
   "outputs": [],
   "source": [
    "k_BT"
   ]
  },
  {
   "cell_type": "code",
   "execution_count": null,
   "id": "51",
   "metadata": {},
   "outputs": [],
   "source": [
    "expected_escape_number"
   ]
  },
  {
   "cell_type": "code",
   "execution_count": null,
   "id": "52",
   "metadata": {},
   "outputs": [],
   "source": [
    "np.sqrt(L * C) "
   ]
  },
  {
   "cell_type": "code",
   "execution_count": null,
   "id": "53",
   "metadata": {},
   "outputs": [],
   "source": []
  },
  {
   "cell_type": "markdown",
   "id": "54",
   "metadata": {},
   "source": []
  },
  {
   "cell_type": "markdown",
   "id": "55",
   "metadata": {},
   "source": [
    "# adiabatic escape rate"
   ]
  },
  {
   "cell_type": "code",
   "execution_count": null,
   "id": "56",
   "metadata": {},
   "outputs": [],
   "source": [
    "\n",
    "# gamma = 16\n",
    "parameter_info_1_35 = {\n",
    "    \"N\": 120_000, \"t\": 150, \"beta\": 1.35, \"gamma\": 16\n",
    "}\n",
    "phi_1xdc_and_phi_1dc_array_beta_1_35_gamma_16 = np.array([(0.76, 0.776), (0.89, 0.909), (1.03, 1.05), (1.1, 1.12), (1.18, 1.20)])\n",
    "intended_dU_and_effective_dU_beta_1_35_gamma_16 = np.array([(40.1, 39.2), (30, 28.9), (20.2, 19), (15, 13.8), (10.3, 9.19)])\n",
    "parameter_info_2_3 = {\n",
    "    \"N\": 128_000, \"t\": 120, \"beta\": 2.3, \"gamma\": 16\n",
    "}\n",
    "phi_1xdc_and_phi_1dc_array_beta_2_3_gamma_16 = np.array([(1.90, 1.96), (1.94, 2), (1.985, 2.05), (2.04, 2.1), (2.1, 2.16)])\n",
    "intended_dU_and_effective_dU_beta_2_3_gamma_16 = np.array([(49.9, 35.7), (40.3, 27.1), (30.4, 18.5), (19.7, 9.89), (10.3, 3.25)])\n",
    "work_array_beta_2_3_gamma_16 = np.array([(38.5, 0.247), (33.1, 0.372), (30.1, 0.303), (29.7, 0.225), (31.5, 0.16)])\n",
    "error_rate_beta_2_3_gamma_16 = np.array([0, 0, 0, 1e-3, 1.1e-1])\n",
    "\n",
    "\n",
    "simulation_result_beta_1_35_gamma_9 = {\n",
    "    \"t=150\": {\n",
    "        \"experiment_label\": [\"\", \"Experiment 1 (2025-07-30)\"],\n",
    "        \"work_array\": np.array([(25.2, 0.111), (20.2, 0.0936), (13.7, 0.0623), (11.6, 0.0519), (np.nan, np.nan)]),\n",
    "        \"error_array\": np.array([0, 0, 5, 100, np.nan, ]),\n",
    "        \"error_rate_array\": np.array([0, 0, 5.513e-06, 9.091e-05,  np.nan]),\n",
    "        \"N\": np.array([1_350_000, 1_188_000, 1_161_000, 1_100_000, np.nan])\n",
    "    },\n",
    "    \"t=75\": {\n",
    "        \"experiment_label\": [\"\", \"Experiment 1 (2025-07-29)\"],\n",
    "        \"work_array\": np.array([(26, 0.123), (21.2, 0.153), (15.6, 0.0659), (14, 0.055)]),\n",
    "        \"error_array\": np.array([0, 0, 0, 69]),\n",
    "        \"error_rate_array\": np.array([0, 0, 0, 6.063e-5]),\n",
    "        \"N\": np.array([1_142_000, 33_000, 1_137_000, 1_137_931])\n",
    "    },\n",
    "    \"t=42\": {\n",
    "        \"experiment_label\": [\"Experiment 4 (2025-07-29)\"],\n",
    "        \"work_array\": np.array([(None, None), (None, None), (None, None), (20.2, 0.173)]),\n",
    "        \"error_array\": np.array([None, None, None, 2.000e-03]),\n",
    "        \"N\": np.array([0, 0, 0, 789_000])\n",
    "    }\n",
    "}\n",
    "\n",
    "\n",
    "simulation_result_beta_1_35_gamma_16 = {\n",
    "    \"t=150\": {\n",
    "        \"experiment_label\": [\"Experiment 4 (2025-07-20)\"],\n",
    "        \"work_array\": np.array([(25.2, 0.129), (18.6, 0.0942), (14.1, 0.0681), (10.3, 0.0482), (np.nan, np.nan)]),\n",
    "        \"error_array\": np.array([0, 0, 0, 47, np.nan]),\n",
    "        \"error_rate_array\": np.array([0, 0, 0, 2.114e-05, np.nan]),\n",
    "        \"N\": np.array([140_000, 140_000, 140_000, 2_271_000])\n",
    "    },\n",
    "    \"t=75\": {\n",
    "        \"experiment_label\": [\"Experiment 5 (2025-07-20)\", \"Experiment 1 (2025-08-31) [only the case of smallest barrier height]\"],\n",
    "        \"work_array\": np.array([(26.2, 0.13), (19.7, 0.0954), (15.8, 0.0704), (17.3, 0.0743)]),\n",
    "        \"error_rate_array\": np.array([0, 0, 1.969e-06,  3.696e-05]),\n",
    "        \"error_array\": np.array([0, 0, 2, 38]),\n",
    "        \"N\": np.array([1_016_000, 1_016_000, 1_016_000, 1_028_000])\n",
    "    },\n",
    "    \"t=42\": {\n",
    "        \"experiment_label\": [\"Experiment 4 (2025-07-29) [not shown here because it was bad]\", \"Experiment 3 (2025-08-29)\"],\n",
    "        \"work_array\": np.array([(None, None), (None, None), (None, None), (22.5, 0.0766)]),\n",
    "        \"error_rate_array\": np.array([0, 0, np.nan,  8.566e-05]),\n",
    "        \"error_array\": np.array([None, None, None, 98]),\n",
    "        \"N\": np.array([np.nan, np.nan, np.nan, 1_144_000])\n",
    "    },\n",
    "}\n",
    "\n",
    "simulation_result_beta_2_3_gamma_16 = {\n",
    "    \"t=150\": {\n",
    "        \"experiment_label\": [\"Experiment 2 (2025-07-21)\"],\n",
    "        \"work_array\": np.array([(38.5, 0.175), (30.9, 0.132), (26.6, 0.101), (24.9, 0.0771), (25.3, 0.0528)]),\n",
    "        \"error_rate_array\": np.array([0, 0, 0, 9.216e-05, 8.155e-02]),\n",
    "        \"error_array\": np.array([0, 0, 0, 94, 83_000])\n",
    "    },\n",
    "    \"t=75\": {\n",
    "        \"experiment_label\": [\"Experiment 1 (2025-07-23)\"],\n",
    "        \"work_array\": np.array([(47.5, 0.26), (41.9, 0.192), (38.1, 0.0809), (40.3, 0.102), (65.9, 0.11)]),\n",
    "        \"error_array\": np.array([0, 0, 0, 4_355,  263_127]),\n",
    "        \"error_rate_array\": np.array([0, 0, 0, 2.903e-03, 2.631e-01]),\n",
    "        \"N\": np.array([500_000, 500_000, 0, 1_500_000, 1,500,000, 1_000_000]),\n",
    "        \n",
    "    }\n",
    "}\n",
    "\n",
    "\n",
    "simulation_result_beta_2_3_gamma_9 = {\n",
    "    \"experiment_label\": [\"Experiment 1 (2025-07-28)\"],\n",
    "    \"t=150\": {\n",
    "        \"work_array\": np.array([(38, 0.172), (30.9, 0.128), (27.5, 0.0983), (27, 0.0686), (40.2, 0.0765)]),\n",
    "        \"error_rate_array\": np.array([0, 0, 0, 1.885e-02, 2.659e-01]),\n",
    "        \"error_array\": np.array([0, 0, 0, 18_850, 265_890])\n",
    "    },\n",
    "    \"t=75\": {\n",
    "        \"work_array\": np.array([]),\n",
    "        \"error_array\": np.array([])\n",
    "    }\n",
    "}\n",
    "\n",
    "\n",
    "\n",
    "\n",
    "# gamma = 9\n",
    "phi_1xdc_and_phi_1dc_array_beta_1_35_gamma_9 = np.array([(0.76, 0.789), (0.89, 0.934), (1.03, 1.07), (1.1, 1.14), (1.18, 1.22)])\n",
    "intended_dU_and_effective_dU_beta_1_35_gamma_9 = np.array([(40.1, 38.4), (30, 28), (20.2, 18.1), (15, 12.9), (10.3, 8.33)])\n",
    "\n",
    "phi_1xdc_and_phi_1dc_array_beta_2_3_gamma_9 = np.array([(1.9, 2.01), (1.94, 2.05), (1.985, 2.1), (2.04, 2.15), (2.1, 2.21)])\n",
    "intended_dU_and_effective_dU_beta_2_3_gamma_9 = np.array([(49.9, 25.6), (40.3, 18), (30.4, 10.8), (19.7, 4.17), (10.3, 0.35)])"
   ]
  },
  {
   "cell_type": "code",
   "execution_count": null,
   "id": "57",
   "metadata": {},
   "outputs": [],
   "source": [
    "opacity = 0.3\n",
    "opacity = 1\n",
    "show_all_data = True\n",
    "\n",
    "fig, ax = plt.subplots(3, 1, figsize = [5, 15])\n",
    "ax[0].scatter(intended_dU_and_effective_dU_beta_2_3_gamma_9[:, 0], intended_dU_and_effective_dU_beta_2_3_gamma_9[:, 1], label=r\"$\\beta= 2.3$, $\\gamma = 9$\", color = \"blue\", alpha = opacity)\n",
    "ax[0].scatter(intended_dU_and_effective_dU_beta_2_3_gamma_16[:, 0], intended_dU_and_effective_dU_beta_2_3_gamma_16[:, 1], label=r\"$\\beta= 2.3$, $\\gamma = 16$\", color = \"orange\", alpha = opacity)\n",
    "if opacity < 1 or show_all_data:\n",
    "    ax[0].scatter(intended_dU_and_effective_dU_beta_1_35_gamma_9[:, 0], intended_dU_and_effective_dU_beta_1_35_gamma_9[:, 1], label=r\"$\\beta= 1.35$, $\\gamma = 9$\", marker=\"s\", color = \"grey\")\n",
    "    ax[0].scatter(intended_dU_and_effective_dU_beta_1_35_gamma_16[:, 0], intended_dU_and_effective_dU_beta_1_35_gamma_16[:, 1], label=r\"$\\beta= 1.35$, $\\gamma = 16$\", marker=\"s\", color = \"red\")\n",
    "\n",
    "# ax[0].set_xlabel(r\"intended $\\Delta E_B$ ($k_BT$)\")\n",
    "ax[0].set_ylabel(r\"effective $\\Delta E_B$ ($k_BT$)\")\n",
    "ax[0].set_aspect(1)\n",
    "ax[0].set_xlim(0, 55)\n",
    "ax[0].set_ylim(0, 55)\n",
    "ax[0].plot([0, 55], [0, 55], linestyle = \"--\", alpha = 0.5)\n",
    "ax[0].legend(fontsize = 15, loc='best')\n",
    "\n",
    "\n",
    "# ax[1].errorbar(intended_dU_and_effective_dU_beta_1_35_gamma_16[:-1, 0], work_array_beta_1_35_gamma_16[:, 0], yerr = work_array_beta_1_35_gamma_16[:, 1], label=r\"$\\beta= 1.35$, $\\gamma = 16$\", fmt=\"o\")\n",
    "\n",
    "\n",
    "# label=r\"$\\beta= 2.3$, $\\gamma = 16$\"\n",
    "# ax[1].errorbar(intended_dU_and_effective_dU_beta_1_35_gamma_9[:, 0], simulation_result_beta_1_35_gamma_9[\"t=150\"][\"work_array\"][:, 0] * 1.3, yerr = simulation_result_beta_1_35_gamma_9[\"t=150\"][\"work_array\"][:, 1], label=r\"$\\beta= 1.35$, $\\gamma = 9$\", fmt=\"s\", color = \"grey\", alpha = 0.3)\n",
    "\n",
    "\n",
    "ax[1].errorbar(intended_dU_and_effective_dU_beta_2_3_gamma_9[:, 0], simulation_result_beta_2_3_gamma_9[\"t=150\"][\"work_array\"][:, 0] * 1.3, yerr = simulation_result_beta_2_3_gamma_9[\"t=150\"][\"work_array\"][:, 1], label=r\"$\\beta= 2.3$, $\\gamma = 9$\", fmt=\"o\", color = \"blue\", alpha = opacity)\n",
    "ax[1].errorbar(intended_dU_and_effective_dU_beta_2_3_gamma_16[:, 0], simulation_result_beta_2_3_gamma_16[\"t=150\"][\"work_array\"][:, 0] * 1.3, yerr = simulation_result_beta_2_3_gamma_16[\"t=150\"][\"work_array\"][:, 1], label=r\"$\\beta= 2.3$, $\\gamma = 16$\", fmt=\"o\", color = \"orange\", alpha = opacity)\n",
    "\n",
    "if opacity < 1 or show_all_data:\n",
    "    ax[1].errorbar(intended_dU_and_effective_dU_beta_1_35_gamma_9[:, 0], simulation_result_beta_1_35_gamma_9[\"t=150\"][\"work_array\"][:, 0], yerr = simulation_result_beta_1_35_gamma_9[\"t=150\"][\"work_array\"][:, 1], label=r\"$\\beta= 1.35$, $\\gamma = 9$\", fmt=\"s\", color = \"grey\")\n",
    "    ax[1].errorbar(intended_dU_and_effective_dU_beta_1_35_gamma_16[:, 0], simulation_result_beta_1_35_gamma_16[\"t=150\"][\"work_array\"][:, 0], yerr = simulation_result_beta_1_35_gamma_16[\"t=150\"][\"work_array\"][:, 1], label=r\"$\\beta= 1.35$, $\\gamma = 16$\", fmt=\"s\", color = \"red\")\n",
    "\n",
    "\n",
    "# ax[1].errorbar(intended_dU_and_effective_dU_beta_2_3_gamma_16[:, 0], simulation_result_beta_2_3_gamma_16[\"t=75\"][\"work_array\"][:, 0], yerr = simulation_result_beta_2_3_gamma_16[\"t=75\"][\"work_array\"][:, 1], label=r\"t=75\", fmt=\"o\")\n",
    "ax[1].set_title(r\"t = 150$t_c$\")\n",
    "\n",
    "# ax[1].legend()\n",
    "# ax[1].set_xlabel(r\"intended $\\Delta E_B$ ($k_BT$)\")\n",
    "ax[1].set_ylabel(r\"work ($k_BT$)\")\n",
    "\n",
    "\n",
    "ax[2].set_title(\"N = 1,000,000\")\n",
    "# ax[2].scatter(intended_dU_and_effective_dU_beta_1_35_gamma_16[:-1, 0], error_rate_beta_1_35_gamma_16, label=r\"$\\beta= 1.35$, $\\gamma = 16$\")\n",
    "ax[2].scatter(intended_dU_and_effective_dU_beta_2_3_gamma_9[:, 0], simulation_result_beta_2_3_gamma_9[\"t=150\"][\"error_rate_array\"], label=r\"$\\beta= 2.3$, $\\gamma = 9$\", marker=\"o\", color = \"blue\", alpha = opacity)\n",
    "ax[2].scatter(intended_dU_and_effective_dU_beta_2_3_gamma_16[:, 0], simulation_result_beta_2_3_gamma_16[\"t=150\"][\"error_rate_array\"], label=r\"$\\beta= 2.3$, $\\gamma = 16$\", marker=\"o\", color = \"orange\", alpha = opacity)\n",
    "ax[2].scatter(intended_dU_and_effective_dU_beta_1_35_gamma_9[:, 0], simulation_result_beta_1_35_gamma_9[\"t=150\"][\"error_rate_array\"], label=r\"$\\beta= 1.35$, $\\gamma = 9$\", marker=\"s\", color = \"grey\")\n",
    "ax[2].scatter(intended_dU_and_effective_dU_beta_1_35_gamma_16[:, 0], simulation_result_beta_1_35_gamma_16[\"t=150\"][\"error_rate_array\"], label=r\"$\\beta= 1.35$, $\\gamma = 16$\", marker=\"s\", color = \"red\")\n",
    "\n",
    "# ax[2].legend()\n",
    "ax[2].set_yscale(\"log\")\n",
    "ax[2].set_xlabel(r\"intended $\\Delta E_B$ ($k_BT$)\")\n",
    "ax[2].set_ylabel(r\"error rate\")\n",
    "\n"
   ]
  },
  {
   "cell_type": "code",
   "execution_count": null,
   "id": "58",
   "metadata": {},
   "outputs": [],
   "source": [
    "\n",
    "phi_1xdc_array = np.linspace(0, 2.1, 50)\n",
    "gamma_1 = [9, 16]\n",
    "beta_1 = [1.35, 2.3]\n",
    "gamma_beta_array = [(2.3, 5), (2.3, 9), (2.3, 16), (1.35, 5), (1.35, 9), (1.35, 16)]\n",
    "color_array = [\"pink\", \"blue\", \"orange\", \"grey\", \"red\", \"black\"]\n",
    "opacity = 1\n",
    "\n",
    "phi_xdc_phi_dc_combination = []\n",
    "for _beta, _gamma in gamma_beta_array:\n",
    "    item = {\n",
    "        \"beta\": _beta, \"gamma\": _gamma, \"phi_xdc_vs_phi_dc\": []\n",
    "    }\n",
    "    for _phi_1xdc in phi_1xdc_array:\n",
    "        Fcn = setup_transcendtal_equation(_phi_1xdc, _beta, _gamma)\n",
    "        sol = fsolve(Fcn, _phi_1xdc)[0]\n",
    "        item[\"phi_xdc_vs_phi_dc\"].append([_phi_1xdc, sol])\n",
    "    phi_xdc_phi_dc_combination.append(item)\n",
    "\n",
    "print(phi_xdc_phi_dc_combination)\n"
   ]
  },
  {
   "cell_type": "code",
   "execution_count": null,
   "id": "59",
   "metadata": {},
   "outputs": [],
   "source": [
    "fig, ax = plt.subplots(2, 1, figsize = [5, 10])\n",
    "\n",
    "\n",
    "\n",
    "# These are in unitless percentages of the figure size. (0,0 is bottom left)\n",
    "left, bottom, width, height = [0.6, 0.1, 0.3, 0.3]\n",
    "# ax2 = ax[0].inset_axes([left, bottom, width, height])\n",
    "\n",
    "for item, color in list(zip(phi_xdc_phi_dc_combination, color_array)):\n",
    "    phi_xdc_vs_phi_dc_array = np.array(item[\"phi_xdc_vs_phi_dc\"])\n",
    "    # ax[0].plot([0, 2.1], [0, 2.1], linestyle= \"--\", color =\"grey\", alpha = 0.5)\n",
    "    ax[0].plot(phi_xdc_vs_phi_dc_array[:, 0], phi_xdc_vs_phi_dc_array[:, 1] - phi_xdc_vs_phi_dc_array[:, 0], label = r\"$\\gamma$ = \" + f\"{item['gamma']}\" + r\", $\\beta$ = \" + f\"{item['beta']}\", color = color)\n",
    "    # ax2.plot([0, 2.1], [0, 2.1], linestyle= \"--\", color =\"grey\", alpha = 0.5)\n",
    "    # ax2.plot(phi_xdc_vs_phi_dc_array[:, 0], phi_xdc_vs_phi_dc_array[:, 1], label = r\"$\\gamma$ = \" + f\"{item['gamma']}\" + r\", $\\beta$ = \" + f\"{item['beta']}\", color = color)\n",
    "    # ax2.set_xlim(1.90, 2.0)\n",
    "    # ax2.set_ylim(1.90, 2.1)\n",
    "\n",
    "\n",
    "# ax[0].set_aspect(1)\n",
    "ax[0].legend()\n",
    "ax[0].set_xlabel(r\"$\\varphi_{xdc}$\", fontsize = 14)\n",
    "ax[0].set_ylabel(r\"$\\varphi_{dc} - \\varphi_{xdc}$\", fontsize = 14)\n",
    "\n",
    "\n",
    "ax[1].scatter(intended_dU_and_effective_dU_beta_2_3_gamma_9[:, 0], intended_dU_and_effective_dU_beta_2_3_gamma_9[:, 1], label=r\"$\\beta= 2.3$, $\\gamma = 9$\", color = \"blue\", alpha = opacity)\n",
    "ax[1].scatter(intended_dU_and_effective_dU_beta_2_3_gamma_16[:, 0], intended_dU_and_effective_dU_beta_2_3_gamma_16[:, 1], label=r\"$\\beta= 2.3$, $\\gamma = 16$\", color = \"orange\", alpha = opacity)\n",
    "ax[1].scatter(intended_dU_and_effective_dU_beta_1_35_gamma_9[:, 0], intended_dU_and_effective_dU_beta_1_35_gamma_9[:, 1], label=r\"$\\beta= 1.35$, $\\gamma = 9$\", marker=\"s\", color = \"grey\")\n",
    "ax[1].scatter(intended_dU_and_effective_dU_beta_1_35_gamma_16[:, 0], intended_dU_and_effective_dU_beta_1_35_gamma_16[:, 1], label=r\"$\\beta= 1.35$, $\\gamma = 16$\", marker=\"s\", color = \"red\")\n",
    "\n",
    "ax[1].set_xlabel(r\"intended $\\Delta E_B$ ($k_BT$)\")\n",
    "ax[1].set_ylabel(r\"effective $\\Delta E_B$ ($k_BT$)\")\n",
    "ax[1].set_aspect(1)\n",
    "ax[1].set_xlim(0, 55)\n",
    "ax[1].set_ylim(0, 55)\n",
    "ax[1].plot([0, 55], [0, 55], linestyle = \"--\", alpha = 0.5)\n",
    "ax[1].legend()\n",
    "\n"
   ]
  },
  {
   "cell_type": "code",
   "execution_count": null,
   "id": "60",
   "metadata": {},
   "outputs": [],
   "source": [
    "intended_dU_and_effective_dU_beta_1_35_gamma_16"
   ]
  },
  {
   "cell_type": "code",
   "execution_count": null,
   "id": "61",
   "metadata": {},
   "outputs": [],
   "source": [
    "simulation_result_beta_1_35_gamma_16[\"t=150\"][\"work_array\"]"
   ]
  },
  {
   "cell_type": "code",
   "execution_count": null,
   "id": "62",
   "metadata": {},
   "outputs": [],
   "source": [
    "# beta = 1.35 and gamma = 16, t = [42, 75, 150]\n",
    "time_array = [42, 75, 150]\n",
    "\n",
    "work_done_array = [\n",
    "    simulation_result_beta_1_35_gamma_16[\"t=42\"][\"work_array\"][3][0],\n",
    "    simulation_result_beta_1_35_gamma_16[\"t=75\"][\"work_array\"][3][0],\n",
    "    simulation_result_beta_1_35_gamma_16[\"t=150\"][\"work_array\"][3][0]\n",
    "]\n",
    "\n",
    "error_rate = [\n",
    "    simulation_result_beta_1_35_gamma_16[\"t=42\"][\"error_rate_array\"][3],\n",
    "    simulation_result_beta_1_35_gamma_16[\"t=75\"][\"error_rate_array\"][3],\n",
    "    simulation_result_beta_1_35_gamma_16[\"t=150\"][\"error_rate_array\"][3]\n",
    "]"
   ]
  },
  {
   "cell_type": "code",
   "execution_count": null,
   "id": "63",
   "metadata": {},
   "outputs": [],
   "source": [
    "fig, ax = plt.subplots(1, 1, figsize = [5, 5])\n",
    "ax.scatter(time_array, work_done_array)\n",
    "ax2 = ax.twinx()\n",
    "ax2.set_yscale(\"log\")\n",
    "\n",
    "\n",
    "ax2.scatter(time_array, error_rate, color = \"red\", marker=\"^\")\n"
   ]
  },
  {
   "cell_type": "code",
   "execution_count": null,
   "id": "64",
   "metadata": {},
   "outputs": [],
   "source": []
  },
  {
   "cell_type": "markdown",
   "id": "65",
   "metadata": {},
   "source": [
    "# erasure-flip escape rate"
   ]
  },
  {
   "cell_type": "code",
   "execution_count": null,
   "id": "66",
   "metadata": {},
   "outputs": [],
   "source": [
    "harmonic_beta_1_35_gamma_5 = {\n",
    "    \"experiment_label\": [\"Experiment 1 (2025-08-26)\"],\n",
    "    \"protocol_time\": [(9, 4, 4, 9, 25)],\n",
    "    \"work_array\": np.array([26.1, 0.0353]),\n",
    "    \"error_array\": np.array([0]),\n",
    "     \"error_rate_array\": np.array([0]),\n",
    "     \"N\": np.array([964_000])\n",
    "}\n",
    "\n"
   ]
  },
  {
   "cell_type": "code",
   "execution_count": null,
   "id": "67",
   "metadata": {},
   "outputs": [],
   "source": [
    "gamma_array = [5, 9, 16]\n",
    "work_cost_array = [26.1, 31.6, 42]\n",
    "\n",
    "plt.scatter(gamma_array, work_cost_array)\n",
    "plt.xlabel(r\"$\\gamma$\")\n",
    "plt.ylabel(r\"W ($k_BT$)\")\n"
   ]
  },
  {
   "cell_type": "code",
   "execution_count": null,
   "id": "68",
   "metadata": {},
   "outputs": [],
   "source": []
  },
  {
   "cell_type": "code",
   "execution_count": null,
   "id": "69",
   "metadata": {},
   "outputs": [],
   "source": []
  },
  {
   "cell_type": "markdown",
   "id": "70",
   "metadata": {},
   "source": [
    "# oscillation graph"
   ]
  },
  {
   "cell_type": "code",
   "execution_count": null,
   "id": "71",
   "metadata": {},
   "outputs": [],
   "source": [
    "def setup_transcendtal_equation(phi_1xdc, beta, gamma):\n",
    "    def Fcn(phi_1dc):\n",
    "        return phi_1dc - beta / (2 * gamma) * np.sin(phi_1dc/2) - phi_1xdc\n",
    "    return Fcn\n",
    "\n",
    "\n",
    "phi_1xdc_array = [2.04]\n",
    "gamma_1 = [9, 16]\n",
    "beta_1 = [1.35, 2.3]\n",
    "gamma_beta_array = [(2.3, 9)]\n",
    "phi_xdc_phi_dc_combination = []\n",
    "for _beta, _gamma in gamma_beta_array:\n",
    "    item = {\n",
    "        \"beta\": _beta, \"gamma\": _gamma, \"phi_xdc_vs_phi_dc\": []\n",
    "    }\n",
    "    for _phi_1xdc in phi_1xdc_array:\n",
    "        Fcn = setup_transcendtal_equation(_phi_1xdc, _beta, _gamma)\n",
    "        sol = fsolve(Fcn, _phi_1xdc)[0]\n",
    "        item[\"phi_xdc_vs_phi_dc\"].append([_phi_1xdc, sol])\n",
    "    phi_xdc_phi_dc_combination.append(item)\n",
    "\n"
   ]
  },
  {
   "cell_type": "code",
   "execution_count": null,
   "id": "72",
   "metadata": {},
   "outputs": [],
   "source": [
    "phi_xdc_phi_dc_combination\n",
    "max_phi_dc = 2.1564740119468704\n",
    "amplitude = max_phi_dc - phi_xdc_phi_dc_combination[0]['phi_xdc_vs_phi_dc'][0][1]\n",
    "min_phi_dc = phi_xdc_phi_dc_combination[0]['phi_xdc_vs_phi_dc'][0][1] - amplitude"
   ]
  },
  {
   "cell_type": "code",
   "execution_count": null,
   "id": "73",
   "metadata": {},
   "outputs": [],
   "source": []
  },
  {
   "cell_type": "code",
   "execution_count": null,
   "id": "74",
   "metadata": {},
   "outputs": [],
   "source": []
  },
  {
   "cell_type": "code",
   "execution_count": null,
   "id": "75",
   "metadata": {},
   "outputs": [],
   "source": []
  },
  {
   "cell_type": "markdown",
   "id": "76",
   "metadata": {},
   "source": [
    "# Time analysis"
   ]
  },
  {
   "cell_type": "code",
   "execution_count": null,
   "id": "77",
   "metadata": {},
   "outputs": [],
   "source": [
    "beta_1_35_gamma_9_speed_data = {\n",
    "   \"experiment_array\": [\"Experiment 3 (2025-07-29)\", \"Experiment 1 (2025-07-29)\", \"Experiment 1 (2025-07-30\"],\n",
    "  \"duration\": [42, 75, 150],\n",
    "  \"work\": np.array([(20.2, 0.173), (13.9, 0.1235), (11.6, 0.152)]),\n",
    "  \"error\": [2.723e-04, 4.274e-05, 2e-05]\n",
    "}\n",
    "\n",
    "beta_1_35_gamma_16_speed_data = {\n",
    "   \"experiment_array\": [\"Experiment 4 (2025-07-29)\", None, \"Experiment 2 (2025-07-30)\"],\n",
    "  \"duration\": [42, 75, 150],\n",
    "  \"work\": np.array([(19.9, 0.0875), (np.nan, np.nan), (11.8, 0.198)]),\n",
    "  \"error\": [1.642e-4, np.nan, 1.158e-05]\n",
    "}\n"
   ]
  },
  {
   "cell_type": "code",
   "execution_count": null,
   "id": "78",
   "metadata": {},
   "outputs": [],
   "source": []
  },
  {
   "cell_type": "code",
   "execution_count": null,
   "id": "79",
   "metadata": {},
   "outputs": [],
   "source": [
    "\n",
    "fig, ax = plt.subplots(1, 2, figsize = [10, 5])\n",
    "ax[0].errorbar(beta_1_35_gamma_9_speed_data['duration'], y = beta_1_35_gamma_9_speed_data['work'][:, 0], yerr = beta_1_35_gamma_9_speed_data['work'][:, 1], label = r\"$\\beta = 1.35, \\gamma = 9$\", fmt=\"s\", color = \"grey\")\n",
    "# ax[0].errorbar(beta_1_35_gamma_16_speed_data['duration'], y = beta_1_35_gamma_16_speed_data['work'][:, 0], yerr = beta_1_35_gamma_16_speed_data['work'][:, 1], label = r\"$\\beta = 1.35, \\gamma = 16$\", fmt=\"s\", color = \"red\")\n",
    "ax[0].set_xlabel(r\"duration ($t_c$)\")\n",
    "ax[0].set_ylabel(r\"work $(k_BT)$\")\n",
    "ax[0].legend()\n",
    "\n",
    "\n",
    "ax[1].scatter(beta_1_35_gamma_9_speed_data['duration'], beta_1_35_gamma_9_speed_data['error'], label = r\"$\\beta = 1.35, \\gamma = 9$\", marker=\"s\", color = \"grey\")\n",
    "# ax[1].scatter(beta_1_35_gamma_16_speed_data['duration'], beta_1_35_gamma_16_speed_data['error'], label = r\"$\\beta = 1.35, \\gamma = 16$\", marker=\"s\", color = \"red\")\n",
    "ax[1].set_xlim(35, 160)\n",
    "ax[1].set_xlabel(r\"duration ($t_c$)\")\n",
    "ax[1].set_ylabel(r\"error probability\")\n",
    "ax[1].set_yscale(r\"log\")\n",
    "ax[1].set_ylim(1e-5, 1e-3)\n",
    "\n",
    "\n",
    "\n",
    "\n",
    "# ax[0].set_ylim(10, 25)"
   ]
  },
  {
   "cell_type": "markdown",
   "id": "80",
   "metadata": {
    "tags": []
   },
   "source": [
    "# parameters"
   ]
  },
  {
   "cell_type": "markdown",
   "id": "81",
   "metadata": {},
   "source": [
    "### circuit parameters"
   ]
  },
  {
   "cell_type": "code",
   "execution_count": null,
   "id": "82",
   "metadata": {
    "tags": []
   },
   "outputs": [],
   "source": [
    "has_velocity = True\n",
    "\n",
    "PHI_0 = 2.067833848 * 1e-15\n",
    "k_B = 1.38e-23\n",
    "T = 4.2\n",
    "# T = 7\n",
    "k_BT = k_B * T\n",
    "\n",
    "C_factor = 1\n",
    "L_factor = 5\n",
    "R_factor = 500\n",
    "# I_m_factor = 50\n",
    "# I_m_factor = 15\n",
    "I_m_factor = 0\n",
    "time_scale = 1.0\n",
    "\n",
    "\n",
    "I_p_1, I_p_2 = 5e-6 , 5e-6  # Amp\n",
    "I_m_1, I_m_2 = 7e-9 * I_m_factor, 7e-9 * I_m_factor                           # Amp\n",
    "R_1, R_2 = 1 * R_factor, 1 * R_factor                                         # ohm\n",
    "C_1, C_2 = 500e-15 * C_factor, 500e-15 * C_factor                             # F\n",
    "\n",
    "L_1, L_2 = 140e-12 * L_factor, 140e-12 * L_factor                             # H \n",
    "L_1, L_2 = 5e-12 * L_factor, 5e-12 * L_factor                             # H \n",
    "freq = 1/np.sqrt(C_1 * L_1)\n",
    "characteristic_time = np.sqrt(C_1 * C_factor * L_1 * L_factor)\n",
    "\n",
    "\n",
    "m_c = C_1\n",
    "m_1 = C_1\n",
    "m_2 = C_2\n",
    "x_c = PHI_0 / (2 * np.pi)\n",
    "time_scale_factor = 1\n",
    "t_c = np.sqrt(L_1 * C_1)\n",
    "v_c = x_c / t_c\n",
    "\n",
    "\n",
    "U0_1 = m_c * x_c**2 / t_c**2 / k_BT\n",
    "U0_2 = m_2 * x_c**2 / t_c**2 / k_BT\n",
    "kappa_1, kappa_2, kappa_3, kappa_4 = 1/U0_1, 1/U0_1, 1/U0_1, 1/U0_1\n",
    "\n",
    "lambda_1 = 2 * np.sqrt(L_1 * C_1) / (C_1 * R_1)\n",
    "theta_1  = 1\n",
    "eta_1    = np.sqrt(np.sqrt(L_1 * C_1)/ (R_1 * C_1)) * np.sqrt(2 * kappa_1 / 1**2)\n",
    "\n",
    "lambda_2 = 2 * np.sqrt(L_1 * C_1) / (C_2 * R_2)\n",
    "theta_2  = 1 / (C_2/C_1)\n",
    "eta_2    = np.sqrt(np.sqrt(L_1 * C_1)/ (R_1 * C_1)) * np.sqrt(2 * kappa_2 * (R_1 * C_1**2) / (R_2 * C_2**2))\n",
    "\n",
    "lambda_3 = 2 * np.sqrt(L_1 * C_1) / (C_1 * R_1)\n",
    "theta_3  = 4\n",
    "eta_3    = np.sqrt(np.sqrt(L_1 * C_1)/ (R_1 * C_1)) * np.sqrt(8 * kappa_3)\n",
    "\n",
    "lambda_4 = 2 * np.sqrt(L_1 * C_1) / (C_2 * R_2)\n",
    "theta_4  = 4 / (C_2/C_1)\n",
    "eta_4    = np.sqrt(np.sqrt(L_1 * C_1)/ (R_1 * C_1)) * np.sqrt(8 * kappa_4 * (R_1 * C_1**2) / (R_2 * C_2**2))\n",
    "\n",
    "gamma = 10\n",
    "\n",
    "\n",
    "beta_1 = 2 * np.pi * L_1 * I_p_1 / PHI_0; \n",
    "beta_2 = 2 * np.pi * L_2 * I_p_2 / PHI_0;\n",
    "\n",
    "beta_1 = 2.3\n",
    "beta_2 = 2.3\n",
    "\n",
    "d_beta_1 = 2 * np.pi * L_1 * I_m_1 / PHI_0; \n",
    "d_beta_2 = 2 * np.pi * L_2 * I_m_2 / PHI_0;\n",
    "\n",
    "\n",
    "_damping_factor = 1\n",
    "_lambda = np.array([lambda_1, lambda_2, lambda_3, lambda_4])\n",
    "_theta  = np.array([theta_1, theta_2, theta_3, theta_4])\n",
    "_eta  =   np.array([eta_1, eta_2, eta_3, eta_4])\n",
    "\n",
    "v_1 = np.random.normal(0, np.sqrt(k_BT/m_1)) / v_c\n",
    "v_2 = np.random.normal(0, np.sqrt(k_BT/m_2)) / v_c\n",
    "v_3 = np.random.normal(0, np.sqrt(k_BT/(m_1/4))) / v_c\n",
    "v_4 = np.random.normal(0, np.sqrt(k_BT/(m_2/4))) / v_c"
   ]
  },
  {
   "cell_type": "code",
   "execution_count": null,
   "id": "83",
   "metadata": {
    "tags": []
   },
   "outputs": [],
   "source": []
  },
  {
   "cell_type": "code",
   "execution_count": null,
   "id": "84",
   "metadata": {},
   "outputs": [],
   "source": [
    "print(f\"L_1 = {L_1 * 1e12:.3g}pH, T = {T}K\")\n",
    "print(f\"freq = {freq / 1e9:.3g}GHz\")"
   ]
  },
  {
   "cell_type": "code",
   "execution_count": null,
   "id": "85",
   "metadata": {},
   "outputs": [],
   "source": []
  },
  {
   "cell_type": "markdown",
   "id": "86",
   "metadata": {},
   "source": [
    "### parameter setting"
   ]
  },
  {
   "cell_type": "code",
   "execution_count": null,
   "id": "87",
   "metadata": {
    "tags": []
   },
   "outputs": [],
   "source": [
    "\"\"\"\n",
    "# step 0: modify parameters\n",
    "- All the parameters are stored in a separate file PARAMETER_INPUT\n",
    "- You can override some of the parameters here.\n",
    "\"\"\"\n",
    "params = {}\n",
    "params['N'] = 1000\n",
    "params['dt'] = 1/100\n",
    "params['lambda'] = 1\n",
    "params['beta'] = 1\n",
    "params['sim_params'] = [_lambda, _theta, _eta]\n",
    "params['target_work'] = None\n",
    "params['applyOffset'] = False\n",
    "params['monitor_work_dist_in_whole_process'] = True # To monitor the work process\n",
    "params['comment'] = \"Experiment 8 (2024/3/17): 4 well, with no compensation for asym, 1/5000\"\n",
    "params['capacitance'] = [C_1, C_2, C_1/4, C_2/4]\n",
    "params['mass_special'] = [1, 1, 1/4, 1/4]\n",
    "params['v_c'] = x_c/t_c\n",
    "params['k_BT'] = k_BT\n",
    "params['U0'] = U0_1\n"
   ]
  },
  {
   "cell_type": "code",
   "execution_count": null,
   "id": "88",
   "metadata": {
    "tags": []
   },
   "outputs": [],
   "source": []
  },
  {
   "cell_type": "code",
   "execution_count": null,
   "id": "89",
   "metadata": {
    "tags": []
   },
   "outputs": [],
   "source": []
  },
  {
   "cell_type": "markdown",
   "id": "90",
   "metadata": {},
   "source": [
    "### protocol setting"
   ]
  },
  {
   "cell_type": "code",
   "execution_count": null,
   "id": "91",
   "metadata": {
    "tags": []
   },
   "outputs": [],
   "source": [
    "zeroDissipation = False\n",
    "# zeroDissipation = True\n",
    "\n",
    "saveAllStates = True\n",
    "\n",
    "params['sim_params'] = [_lambda, _theta, _eta]\n",
    "params['capacitance'] = [C_1, C_2, C_1/4, C_2/4]\n",
    "params['mass'] = [1, 1, 1/4, 1/4]\n",
    "params['v_c'] = x_c/t_c\n",
    "params['k_BT'] = k_BT\n",
    "params['as_step'] = np.s_[::100] # the time step to skep for the all_state\n",
    "params['as_step'] = np.s_[::] # the time step to skep for the all_state\n",
    "params['percentage'] = 1 # For what percentage of the total sample do you want to keep in the output all_state\n",
    "\n",
    "if zeroDissipation:\n",
    "    params['sim_params'] = [_lambda * 0, _theta, _eta * 0]\n",
    "\n",
    "params['circuit_parameters'] = {\n",
    "    \"C_factor\":C_factor, \"L_factor\": L_factor, \"I_m_factor\": I_m_factor, \"T\": T, \n",
    "    \"I_p_1\": I_p_1, \"I_p_2\": I_p_2, \"I_m_1\": I_m_1, \"I_m_2\": I_m_2,\n",
    "    \"R_1\": R_1, \"R_2\": R_2, \"C_1\": C_1, \"C_2\": C_2, \"L_1\": L_1, \"L_2\": L_2, \n",
    "    \"characteristic_time\": np.sqrt(C_1 * C_factor * L_1 * L_factor),\n",
    "    \"phi_1_x_on\": phi_1_x_on_12, \"phi_2_x_on\": phi_2_x_on_12,\n",
    "    \"phi_1_dcx_on\": phi_1_dcx_on_12, \"phi_2_dcx_on\": phi_2_dcx_on_12, \"M_12_on\": M_12_on,\n",
    "    \"gamma\": gamma\n",
    "}\n",
    "\n",
    "\n",
    "\"\"\"\n",
    "# step 2: Define initial condition and protocol\n",
    "\"\"\"\n",
    "manual_domain=[np.array([-5, -5]), np.array([5, 5])]\n",
    "\n",
    "\n",
    "\n",
    "# µ = 0.06, φ2xdc = 1.79, φ1x = 0.59, and φ2x = 0.10.\n",
    "    \n",
    "initial_parameter_dict = {\n",
    "        \"U0_1\": U0_1,     \"U0_2\": U0_2,     \"gamma_1\": gamma,  \"gamma_2\": gamma,\n",
    "        \"beta_1\": beta_1,   \"beta_2\": beta_2,   \"d_beta_1\": d_beta_1 ,   \"d_beta_2\": d_beta_2,\n",
    "        \"phi_1_x\": phi_1_x_off,  \"phi_2_x\": phi_2_x_off,  \"phi_1_dcx\": phi_1_dcx_off,  \"phi_2_dcx\": phi_1_dcx_off,\n",
    "        \"M_12\": M_12_off, 'x_c': x_c\n",
    "}\n",
    "\n",
    "\n",
    "\n",
    "# bookmark\n",
    "initial_parameter_dict[\"phi_1_dcx\"], initial_parameter_dict[\"phi_2_dcx\"], initial_parameter_dict[\"M_12\"] = \\\n",
    "phi_1_dcx_off, phi_2_dcx_off, M_12_off\n",
    "\n",
    "\n",
    "initial_parameter_dict[\"phi_1_dcx\"] = phi_1_dcx_off\n",
    "initial_parameter_dict[\"phi_2_dcx\"] = phi_2_dcx_off\n",
    "initial_parameter_dict[\"phi_1_x\"]   = phi_1_x_off\n",
    "initial_parameter_dict[\"phi_2_x\"]   = phi_2_x_off\n",
    "initial_parameter_dict[\"M_12\"]      = M_12_off\n",
    "\n",
    "m_12_factor = 1\n",
    "percentage_factor = 0.99\n",
    "# CE_1_a = {\n",
    "#     \"phi_1_x\": phi_1_x_on_12, \"phi_2_x\": phi_2_x_on_12, \"M_12\": M_12_on, \\\n",
    "#     \"phi_1_dcx\": phi_1_dcx_off, \"phi_2_dcx\": phi_2_dcx_on_12, \"name\":\"CE_1\"\n",
    "# }\n",
    "\n",
    "\n",
    "# phi_2_x_on_12 = 0.1 \n",
    "M_12_on = 0.06\n",
    "phi_2_x_on_12 = 0.1\n",
    "\n",
    "CE_1 = {\n",
    "    \"phi_1_x\": phi_1_x_on_12, \"phi_2_x\": phi_2_x_on_12, \"M_12\": M_12_on, \\\n",
    "    \"phi_1_dcx\": phi_1_dcx_off, \"phi_2_dcx\": phi_2_dcx_on_12, \"name\":\"CE_1\"\n",
    "}\n",
    "\n"
   ]
  },
  {
   "cell_type": "code",
   "execution_count": null,
   "id": "92",
   "metadata": {},
   "outputs": [],
   "source": [
    "initial_parameter_dict[\"phi_1_x\"]   = CE_1[\"phi_1_x\"]\n",
    "initial_parameter_dict[\"phi_2_x\"]   = CE_1[\"phi_2_x\"]\n",
    "initial_parameter_dict[\"M_12\"]      = CE_1[\"M_12\"] \n",
    "initial_parameter_dict[\"phi_1_dcx\"] = CE_1[\"phi_1_dcx\"]\n",
    "initial_parameter_dict[\"phi_2_dcx\"] = CE_1[\"phi_2_dcx\"] "
   ]
  },
  {
   "cell_type": "code",
   "execution_count": null,
   "id": "93",
   "metadata": {},
   "outputs": [],
   "source": [
    "\"\"\"\n",
    "# step 1: Define potential\n",
    "\"\"\"\n",
    "coupled_fq_default_param = [1, 1, 0, 0, 0, 0, 0, 0, 0, 0, 0, 0, 0, x_c]\n",
    "[phi_1_bound, phi_2_bound, phi_1dc_bound, phi_2dc_bound] = np.array([4, 4, 4, 4])/time_scale_factor\n",
    "contour_range = [300, 2000]\n",
    "    \n",
    "coupled_fq_domain = [[-phi_1_bound, -phi_2_bound, -phi_1dc_bound, -phi_2dc_bound], \\\n",
    "                     [phi_1_bound, phi_2_bound, phi_1dc_bound, phi_2dc_bound]]\n",
    "\n",
    "# coupled_fq_pot = Potential(coupled_flux_qubit_pot_with_offset_at_00_xy, coupled_flux_qubit_force, 14, 4,\\\n",
    "#                            default_params = coupled_fq_default_param,  relevant_domain = coupled_fq_domain)\n",
    "\n",
    "coupled_fq_pot = Potential(coupled_flux_qubit_non_linear_approx_pot, coupled_flux_qubit_non_linear_approx_force, 14, 4,\\\n",
    "                           default_params = initial_parameter_dict,  relevant_domain = coupled_fq_domain)\n",
    "\n",
    "# coupled_fq_pot = Potential(coupled_flux_qubit_non_linear_approx_pot_special, coupled_flux_qubit_non_linear_approx_force_special, 14, 4,\\\n",
    "                           # default_params = initial_parameter_dict,  relevant_domain = coupled_fq_domain)"
   ]
  },
  {
   "cell_type": "markdown",
   "id": "94",
   "metadata": {},
   "source": [
    "### modify the protocol"
   ]
  },
  {
   "cell_type": "code",
   "execution_count": null,
   "id": "95",
   "metadata": {},
   "outputs": [],
   "source": [
    "\n",
    "# longer CE\n",
    "t_duration = 100\n",
    "\n",
    "\n",
    "\n",
    "ratio_array = [0.998] * 5 # [phi_1x, phi_2x, M_12, phi_1xdc, phi_2xdc]\n",
    "\n",
    "protocol_list_variable_duration = [\n",
    "    # forward\n",
    "    \n",
    "    # create_CE_Protocol(50, CE_break_1),\n",
    "    # create_CE_Protocol(50, CE_1, ratio_array),\n",
    "    # create_CE_Protocol(20, CE_1),\n",
    "    # create_CE_Protocol(200, CE_1, [1, 1, 1, 1, 1]),\n",
    "    create_CE_Protocol(200, CE_1, [1, 10, 0, 1, 1]),\n",
    "    # create_CE_Protocol(150, four_well)\n",
    "\n",
    "]\n",
    "\n",
    "\n",
    "new_protocol_list = [\n",
    "    create_CE_Protocol(150, four_well)\n",
    "]\n",
    "\n",
    "protocol_list = protocol_list_variable_duration\n"
   ]
  },
  {
   "cell_type": "markdown",
   "id": "96",
   "metadata": {
    "tags": []
   },
   "source": [
    "# first initialization"
   ]
  },
  {
   "cell_type": "markdown",
   "id": "97",
   "metadata": {},
   "source": [
    "### create cfqr object"
   ]
  },
  {
   "cell_type": "code",
   "execution_count": null,
   "id": "98",
   "metadata": {
    "jupyter": {
     "source_hidden": true
    },
    "tags": []
   },
   "outputs": [],
   "source": [
    "\"\"\"\n",
    "# step 3: create the relevant storage protocol and computation protocol\n",
    "\"\"\"\n",
    "computation_protocol_parameter_dict = coupled_fq_protocol_library.customizedProtocol(initial_parameter_dict, \\\n",
    "                                                                    protocol_list)\n",
    "storage_protocol, comp_protocol = create_system(computation_protocol_parameter_dict, modifiedFunction = None)\n",
    "\n",
    "cfqr = cfq_runner.coupledFluxQubitRunner(potential = coupled_fq_pot, params = params, \\\n",
    "                                                storage_protocol= storage_protocol, \\\n",
    "                                                computation_protocol= comp_protocol, \\\n",
    "                                         protocol_list = protocol_list, \\\n",
    "                                        has_velocity=has_velocity)\n",
    "\n",
    "init_state_used = np.load(\"default_init_state.npy\")\n",
    "\n",
    "protocol_time_array, protocol_time_index_array, protocol_all_time_array, protocol_time_all_index_array = cfqr.createProtocolTimeArray(protocol_list, params)\n",
    "cfqr.initialize_sim()\n",
    "# cfqr.set_sim_attributes(init_state=init_state_saved)\n",
    "# cfqr.set_sim_attributes(init_state=init_state_used)\n"
   ]
  },
  {
   "cell_type": "markdown",
   "id": "99",
   "metadata": {},
   "source": [
    "show parameter time graph and critical points vs t"
   ]
  },
  {
   "cell_type": "code",
   "execution_count": null,
   "id": "100",
   "metadata": {},
   "outputs": [],
   "source": []
  },
  {
   "cell_type": "code",
   "execution_count": null,
   "id": "101",
   "metadata": {},
   "outputs": [],
   "source": [
    "t_i, t_f = protocol_time_array\n",
    "t_array = np.linspace(t_i, t_f, 4)\n",
    "protocol_params_array = [cfqr.convert_params_list_into_dict(cfqr.protocol.get_params(_t)) for _t in t_array]\n",
    "\n",
    "\n",
    "# target_parameter_array = [\"phi_1_x\", \"phi_2_x\", \"M_12\", \"phi_1_dcx\", \"phi_2_dcx\"]\n",
    "# target_parameter = target_parameter_array[2]\n",
    "time_and_target_protocol_params_array = [(_t, _p) for _t, _p in zip(t_array, protocol_params_array)]\n"
   ]
  },
  {
   "cell_type": "code",
   "execution_count": null,
   "id": "102",
   "metadata": {},
   "outputs": [],
   "source": [
    "importlib.reload(coupled_fq_protocol_library)\n",
    "fig, ax = plt.subplots(1, 2, figsize = [10, 5])\n",
    "\n",
    "for _t, _p in time_and_target_protocol_params_array:\n",
    "    print(_t, _p)\n",
    "    target_parameter = [\"M_12\", \"phi_2_x\"]\n",
    "    label_text = \", \".join([f\"{_label} = {_p[_label]:.3g}\" for _label in target_parameter])\n",
    "    \n",
    "    potential_plotline_figure_setting = {\n",
    "        \"horizontal_lim\": [-4, 4], \"vertical_lim\": [200, 400], \"ax\": ax[0], \"color\": None, \"label\": label_text\n",
    "    }\n",
    "    slope_plotline_figure_setting = {\n",
    "        \"horizontal_lim\": [-4, 4], \"vertical_lim\": [-2, 2], \"ax\": ax[1], \"color\": None, \"label\": label_text\n",
    "    }\n",
    "    coupled_fq_protocol_library.plot_potential_along_a_cutline(cfqr,\\\n",
    "    t = _t, cutlineValue = -2, plt_figure_setting = potential_plotline_figure_setting)\n",
    "    \n",
    "    coupled_fq_protocol_library.plot_slope_along_a_cutline(cfqr,\\\n",
    "    t = _t, cutlineValue = -2, plt_figure_setting = slope_plotline_figure_setting)\n",
    "\n"
   ]
  },
  {
   "cell_type": "code",
   "execution_count": null,
   "id": "103",
   "metadata": {},
   "outputs": [],
   "source": []
  },
  {
   "cell_type": "code",
   "execution_count": null,
   "id": "104",
   "metadata": {
    "tags": []
   },
   "outputs": [],
   "source": [
    "# _stepped_time = protocol_all_time_array[::100]\n",
    "# minimum_points_of_00 = [cfqr.get_minimum_at_t_for_a_set_of_parameter(_t, initial_parameter_dict, guess = [(-2, -2)])[0] for _t in _stepped_time]\n",
    "# fig, ax = plt.subplots(1, 2, figsize = [8, 4])\n",
    "\n",
    "# ax[0].scatter(_stepped_time, np.array(minimum_points_of_00)[:, 0])\n",
    "# ax[0].set_xlabel(r't $(\\tau_c)$', fontsize = 12)\n",
    "# ax[0].set_ylabel(r'$\\varphi_1$', fontsize = 12)\n",
    "\n",
    "# ax[1].scatter(_stepped_time, np.array(minimum_points_of_00)[:, 1])\n",
    "# ax[1].set_xlabel(r't $(\\tau_c)$', fontsize = 12)\n",
    "# ax[1].set_ylabel(r'$\\varphi_2$', fontsize = 12)\n",
    "\n",
    "# y_min, y_max = ax[1].set_ylim()\n",
    "# for _t in protocol_time_array:\n",
    "#     ax[1].vlines(x = _t, ymin = y_min, ymax = y_max, linestyle = \"--\")\n",
    "\n",
    "\n",
    "\n",
    "# fig.tight_layout()\n",
    "\n"
   ]
  },
  {
   "cell_type": "code",
   "execution_count": null,
   "id": "105",
   "metadata": {},
   "outputs": [],
   "source": [
    "importlib.reload(coupled_fq_protocol_library)"
   ]
  },
  {
   "cell_type": "code",
   "execution_count": null,
   "id": "106",
   "metadata": {
    "jupyter": {
     "source_hidden": true
    },
    "tags": []
   },
   "outputs": [],
   "source": [
    "def plot_contour_plot_and_cutline_plot(s_data, contour_ax = None, cutline_ax = None):\n",
    "    \"\"\"\n",
    "    contour_ax = {\"ax\": None, \"vmin\": 0, \"vmax\": 1000}\n",
    "    cutline_ax = {\"ax\": None, \"min\": 0, \"max\": 1000, \"color\": \"red\"}\n",
    "    \"\"\"\n",
    "    if contour_ax:\n",
    "        contour_ax['ax'].contourf(s_data['contourPlot']['X'], s_data['contourPlot']['Y'], s_data['contourPlot']['U'], 50, vmin = contour_ax[\"vmin\"], vmax =contour_ax[\"vmax\"], cmap = \"afmhot\")\n",
    "        contour_axis_min, contour_axis_max = contour_ax['ax'].set_xlim()\n",
    "        contour_ax['ax'].vlines(s_data['cutlinePlot']['cutlineValue'], ymin = contour_axis_min, ymax = contour_axis_max, color = cutline_ax['color'])\n",
    "\n",
    "    if cutline_ax:\n",
    "        cutline_ax['ax'].plot(s_data['cutlinePlot']['x_axis'], s_data['cutlinePlot']['y_axis'], color = cutline_ax['color'])\n",
    "        cutline_ax['ax'].set_ylim(cutline_ax['min'], cutline_ax['max'])"
   ]
  },
  {
   "cell_type": "code",
   "execution_count": null,
   "id": "107",
   "metadata": {},
   "outputs": [],
   "source": []
  },
  {
   "cell_type": "code",
   "execution_count": null,
   "id": "108",
   "metadata": {},
   "outputs": [],
   "source": [
    "basic_external_params = {\"phi_1_x\": 0.59, \"phi_2_x\": 0,  \"M_12\": 0.06, \"phi_1_dcx\": 0.1, \"phi_2_dcx\": 1.79}\n",
    "\n",
    "s = cfqr.create_params_dict_with_external_parameters(basic_external_params)\n",
    "\n",
    "\n",
    "ratio = np.array([1.3, 0.3, 0.3, 0.3, 0.9])\n",
    "updated_external_params = dict(zip(basic_external_params.keys(), np.array(list(basic_external_params.values())) * ratio))\n",
    "s＿2 = cfqr.create_params_dict_with_external_parameters(updated_external_params)\n",
    "\n"
   ]
  },
  {
   "cell_type": "code",
   "execution_count": null,
   "id": "109",
   "metadata": {
    "tags": []
   },
   "outputs": [],
   "source": [
    "cutlineData={'cutlineValue': -2, 'cutlineDirection': 'v', 'color': 'red'}\n",
    "s_data = coupled_fq_protocol_library.get_contour_and_cutline_data_with_given_params(cfqr, s, cutlineData)\n",
    "s_2_data = coupled_fq_protocol_library.get_contour_and_cutline_data_with_given_params(cfqr, s_2, cutlineData)\n",
    "difference = s_2_data['cutlinePlot']['y_axis'] - s_data['cutlinePlot']['y_axis']\n",
    "fig, ax = plt.subplots(1, 2, figsize=[10, 4])\n",
    "cutline_min, cutline_max = 0, 400\n",
    "\n",
    "plot_contour_plot_and_cutline_plot(s_data, \n",
    "                                   contour_ax = {\"ax\": ax[0], \"vmin\": 0, \"vmax\": 600},  \n",
    "                                   cutline_ax = {\"ax\": ax[1], \"min\": 200, \"max\": 600, \"color\": \"red\", \"label\": \"s1\"})\n",
    "plot_contour_plot_and_cutline_plot(s_2_data, \n",
    "                                   cutline_ax = {\"ax\": ax[1], \"min\": 200, \"max\": 600, \"color\": \"orange\", \"label\": \"s2\"})\n",
    "\n",
    "plt.show()"
   ]
  },
  {
   "cell_type": "code",
   "execution_count": null,
   "id": "110",
   "metadata": {
    "tags": []
   },
   "outputs": [],
   "source": [
    "cutlineData={'cutlineValue': 2, 'cutlineDirection': 'v', 'color': 'red'}\n",
    "s_data = coupled_fq_protocol_library.get_contour_and_cutline_data_with_given_params(cfqr, s, cutlineData)\n",
    "\n",
    "cutlineData['color']= \"orange\"\n",
    "s_2_data = coupled_fq_protocol_library.get_contour_and_cutline_data_with_given_params(cfqr, s_2, cutlineData)\n",
    "difference = s_2_data['cutlinePlot']['y_axis'] - s_data['cutlinePlot']['y_axis']\n",
    "fig, ax = plt.subplots(1, 2, figsize=[10, 4])\n",
    "cutline_min = 0\n",
    "cutline_max = 600\n",
    "\n",
    "plot_contour_plot_and_cutline_plot(s_data, \n",
    "                                   contour_ax = {\"ax\": ax[0], \"vmin\": 0, \"vmax\": 600},  \n",
    "                                   cutline_ax = {\"ax\": ax[1], \"min\": cutline_min, \"max\": cutline_max, \"color\": \"red\"})\n",
    "plot_contour_plot_and_cutline_plot(s_2_data, \n",
    "                                   cutline_ax = {\"ax\": ax[1], \"min\": cutline_min, \"max\": cutline_max, \"color\": \"orange\"})\n",
    "\n",
    "plt.show()"
   ]
  },
  {
   "cell_type": "markdown",
   "id": "111",
   "metadata": {},
   "source": [
    "### animation"
   ]
  },
  {
   "cell_type": "code",
   "execution_count": null,
   "id": "112",
   "metadata": {},
   "outputs": [],
   "source": [
    "importlib.reload(coupled_fq_protocol_library)"
   ]
  },
  {
   "cell_type": "code",
   "execution_count": null,
   "id": "113",
   "metadata": {
    "jupyter": {
     "source_hidden": true
    },
    "tags": []
   },
   "outputs": [],
   "source": [
    "import sys, importlib\n",
    "importlib.reload(sys.modules['edward_tools.coupled_fq_protocol_library'])\n",
    "from edward_tools.jupyter_helper_function import work_analysis, KE_analysis, single_particle_analysis\n",
    "\n",
    "def cutlineDataGeneratingFunction(initial_parameter_dict, direction = 'v', color = 'red', guess = [(-2, -2)]):\n",
    "    coord_index = 0 if direction == \"v\" else 1\n",
    "    def tracking_minimum_point(_t):\n",
    "        return  [cfqr.get_minimum_at_t_for_a_set_of_parameter(_t, initial_parameter_dict, guess = guess)[0][coord_index], direction, color]\n",
    "    return tracking_minimum_point"
   ]
  },
  {
   "cell_type": "markdown",
   "id": "114",
   "metadata": {},
   "source": [
    "### without cutlineGeneratingFunction"
   ]
  },
  {
   "cell_type": "code",
   "execution_count": null,
   "id": "115",
   "metadata": {
    "tags": []
   },
   "outputs": [],
   "source": [
    "import matplotlib.animation as animation\n",
    "\n",
    "# animation_play = True\n",
    "# if animation_play:\n",
    "frame_skip = int(1/50 * 1/params['dt'])\n",
    "# print(\"geenerated at \", datetime.datetime.now())\n",
    "\n",
    "contourData = {\n",
    "    \"vmax\": 0, \"vmin\": 500,\n",
    "    \"manual_domain\": [np.array([-5, -5]), np.array([5, 5])],\n",
    "    \"contour_range\": [0, 400],\n",
    "    \"title\": f\"T = {T}K, L = {L_1 * 1e12}pH\"\n",
    "}\n",
    "\n",
    "cutlineInformation = {\n",
    "    \"cutlineList\": [(-2, \"v\",\"red\")],\n",
    "    \"cutlineGeneratingFunction\": None,\n",
    "    \"cutlineXLimit\": [-4,4],\n",
    "    \"cutlineYLimit\": [50, 400]\n",
    "}\n",
    "\n",
    "particleInformation = {\n",
    "    \"showParticles\": False,\n",
    "    \"project_item\": [\"00\", \"01\"],\n",
    "    \"particle_opacity\": 0.5,\n",
    "    \"pColor\": {\"00\": \"#061DF7\", \"01\": \"red\", \"10\": \"#3FC7F2\", \"11\": \"#F187F4\"}\n",
    "}\n",
    "\n",
    "animation_setting = {\n",
    "    \"frame_skip\": 10,\n",
    "    \"save_path\": None, \n",
    "    \"save_dict\": None,\n",
    "    \"interval\": 100,\n",
    "    \"blit\": False\n",
    "}\n",
    "\n",
    "protocol_graph_setting = {\n",
    "    \"key\": [\"phi_1_x\", \"phi_2_x\", \"phi_1_dcx\", \"phi_2_dcx\", \"M_12\"]\n",
    "\n",
    "}\n",
    "\n",
    "\n",
    "fig, ax = plt.subplots(1, 3, figsize=[15, 5])\n",
    "\n",
    "targetTimeArray = list(range(protocol_time_array[0], protocol_time_array[1]+1))\n",
    "\n",
    "ani, fig, ax = coupled_fq_protocol_library.animate_sim_flux_qubit_with_cutline_and_projection(cfqr,\n",
    "    time_array=targetTimeArray, params = params, legend=True, \n",
    "    plot_axis = [0, 1], slice_values = None, fig_ax=(fig, ax), animation_setting= animation_setting,\n",
    "    contourData = contourData, cutlineInformation = cutlineInformation, particleInformation = particleInformation,\n",
    "    protocol_graph_setting = protocol_graph_setting, ax0_title = None, offset_potential = False)\n",
    "\n",
    "\n",
    "\n",
    "fig.tight_layout()\n",
    "writer = animation.PillowWriter(fps=5, metadata=dict(artist='Me'), bitrate=1800)\n",
    "ani.save('scatter.gif', writer=writer)\n",
    "plt.close()\n",
    "# HTML(ani.to_jshtml(fps=10))"
   ]
  },
  {
   "cell_type": "code",
   "execution_count": null,
   "id": "116",
   "metadata": {},
   "outputs": [],
   "source": [
    "Image(filename=\"scatter.gif\")"
   ]
  },
  {
   "cell_type": "code",
   "execution_count": null,
   "id": "117",
   "metadata": {},
   "outputs": [],
   "source": []
  },
  {
   "cell_type": "code",
   "execution_count": null,
   "id": "118",
   "metadata": {
    "jupyter": {
     "source_hidden": true
    },
    "tags": []
   },
   "outputs": [],
   "source": [
    "import matplotlib.animation as animation\n",
    "\n",
    "# animation_play = True\n",
    "# if animation_play:\n",
    "frame_skip = int(1/50 * 1/params['dt'])\n",
    "# print(\"geenerated at \", datetime.datetime.now())\n",
    "\n",
    "contourData = {\n",
    "    \"vmax\": 0, \"vmin\": 500,\n",
    "    \"manual_domain\": [np.array([-5, -5]), np.array([5, 5])],\n",
    "    \"contour_range\": [0, 400],\n",
    "    \"title\": f\"T = {T}K, L = {L_1 * 1e12}pH\"\n",
    "}\n",
    "\n",
    "cutlineInformation = {\n",
    "    \"cutlineList\": [(2, \"v\",\"red\")],\n",
    "    \"cutlineGeneratingFunction\": None,\n",
    "    \"cutlineXLimit\": [-4,4],\n",
    "    \"cutlineYLimit\": [50, 400]\n",
    "}\n",
    "\n",
    "particleInformation = {\n",
    "    \"showParticles\": False,\n",
    "    \"project_item\": [\"10\", \"11\"],\n",
    "    \"particle_opacity\": 0.5,\n",
    "    \"pColor\": {\"00\": \"#061DF7\", \"01\": \"red\", \"10\": \"#3FC7F2\", \"11\": \"#F187F4\"}\n",
    "}\n",
    "\n",
    "animation_setting = {\n",
    "    \"frame_skip\": 10,\n",
    "    \"save_path\": None, \n",
    "    \"save_dict\": None,\n",
    "    \"interval\": 100\n",
    "}\n",
    "\n",
    "\n",
    "targetTimeArray = list(range(protocol_time_array[0], protocol_time_array[1]+1))\n",
    "\n",
    "ani, fig, ax = coupled_fq_protocol_library.animate_sim_flux_qubit_with_cutline_and_projection(cfqr, frame_skip=30, time_array=targetTimeArray, params = params, legend=True, \n",
    "    plot_axis = [0, 1], slice_values = None, fig_ax=None, \n",
    "    contourData = contourData, cutlineInformation = cutlineInformation, particleInformation = particleInformation,\n",
    "    save_path = None, save_dict = None, ax0_title = None, offset_potential = False)\n",
    "\n",
    "\n",
    "\n",
    "fig.tight_layout()\n",
    "writer = animation.PillowWriter(fps=10, metadata=dict(artist='Me'), bitrate=1800)\n",
    "ani.save('scatter.gif', writer=writer)\n",
    "plt.close()\n",
    "# HTML(ani.to_jshtml(fps=10))"
   ]
  },
  {
   "cell_type": "code",
   "execution_count": null,
   "id": "119",
   "metadata": {},
   "outputs": [],
   "source": [
    "Image(filename=\"scatter.gif\")"
   ]
  },
  {
   "cell_type": "code",
   "execution_count": null,
   "id": "120",
   "metadata": {},
   "outputs": [],
   "source": []
  },
  {
   "cell_type": "markdown",
   "id": "121",
   "metadata": {},
   "source": [
    "### with cutlineGeneratingFunction"
   ]
  },
  {
   "cell_type": "code",
   "execution_count": null,
   "id": "122",
   "metadata": {},
   "outputs": [],
   "source": [
    "animation_play = True\n",
    "# animation_play = False\n",
    "if animation_play:\n",
    "\n",
    "    frame_skip = int(1/50 * 1/params['dt'])\n",
    "    print(\"geenerated at \", datetime.datetime.now())\n",
    "    targetTimeArray = protocol_all_time_array[simResult['cfqr'].sim.target_step_index]\n",
    "    ani, fig, ax = coupled_fq_protocol_library.animate_sim_flux_qubit_with_cutline_and_projection(simResult['cfqr'], time_array=targetTimeArray, frame_skip = frame_skip, plot_axis= [0,1],\n",
    "                                                                                   vmin=graph_setting[T]['vmin'], vmax=graph_setting[T]['vmax'], ax0_title = f\"T = {T}K, L = {L_1 * 1e12}pH\",\n",
    "                                                                                   params=params, cutlineGeneratingFunction = cutlineDataGeneratingFunction(initial_parameter_dict),\n",
    "                                                                                   pColor=pColor, contour_range = [0, 500], cutlineXLimit=[-4, 4], cutlineYLimit=[0, 500])\n",
    "    fig.tight_layout()\n",
    "    writer = animation.PillowWriter(fps=15, metadata=dict(artist='Me'), bitrate=1800)\n",
    "    ani.save('scatter.gif', writer=writer)\n",
    "    Image(filename=\"scatter.gif\")"
   ]
  },
  {
   "cell_type": "code",
   "execution_count": null,
   "id": "123",
   "metadata": {},
   "outputs": [],
   "source": []
  },
  {
   "cell_type": "markdown",
   "id": "124",
   "metadata": {},
   "source": [
    "### save data analysis"
   ]
  },
  {
   "cell_type": "code",
   "execution_count": null,
   "id": "125",
   "metadata": {},
   "outputs": [],
   "source": []
  },
  {
   "cell_type": "code",
   "execution_count": null,
   "id": "126",
   "metadata": {},
   "outputs": [],
   "source": [
    "print(f\"current comment: {params['comment']}\")\n",
    "response = input(\"Are you happy with the current comment? If not, give me a new comment.\")\n",
    "if response == \"y\":\n",
    "    pass\n",
    "else:\n",
    "    params['comment'] = response"
   ]
  },
  {
   "cell_type": "code",
   "execution_count": null,
   "id": "127",
   "metadata": {},
   "outputs": [],
   "source": [
    "cfq_batch_sweep.saveSimulationResult(simResult, U0_1, timeOrStep = 'step', save = True, save_final_state = False, saveFolderPath = \"coupled_flux_qubit_protocol/coupled_flux_qubit_data_gallery\", save_all_state = False)"
   ]
  },
  {
   "cell_type": "code",
   "execution_count": null,
   "id": "128",
   "metadata": {},
   "outputs": [],
   "source": []
  },
  {
   "cell_type": "code",
   "execution_count": null,
   "id": "129",
   "metadata": {},
   "outputs": [],
   "source": []
  },
  {
   "cell_type": "code",
   "execution_count": null,
   "id": "130",
   "metadata": {},
   "outputs": [],
   "source": [
    "beta_array = np.linspace(2, 3, 5)"
   ]
  },
  {
   "cell_type": "code",
   "execution_count": null,
   "id": "131",
   "metadata": {},
   "outputs": [],
   "source": [
    "target_value = 2.3 * np.cos(1.79/2)"
   ]
  },
  {
   "cell_type": "code",
   "execution_count": null,
   "id": "132",
   "metadata": {},
   "outputs": [],
   "source": [
    "target_value_array = [2 * np.arccos(target_value/_beta) for _beta in beta_array]"
   ]
  },
  {
   "cell_type": "code",
   "execution_count": null,
   "id": "133",
   "metadata": {},
   "outputs": [],
   "source": [
    "target_value_array"
   ]
  },
  {
   "cell_type": "code",
   "execution_count": null,
   "id": "134",
   "metadata": {},
   "outputs": [],
   "source": []
  },
  {
   "cell_type": "code",
   "execution_count": null,
   "id": "135",
   "metadata": {},
   "outputs": [],
   "source": []
  },
  {
   "cell_type": "code",
   "execution_count": null,
   "id": "136",
   "metadata": {},
   "outputs": [],
   "source": []
  },
  {
   "cell_type": "code",
   "execution_count": null,
   "id": "137",
   "metadata": {},
   "outputs": [],
   "source": []
  },
  {
   "cell_type": "code",
   "execution_count": null,
   "id": "138",
   "metadata": {},
   "outputs": [],
   "source": []
  },
  {
   "cell_type": "code",
   "execution_count": null,
   "id": "139",
   "metadata": {},
   "outputs": [],
   "source": []
  },
  {
   "cell_type": "code",
   "execution_count": null,
   "id": "140",
   "metadata": {},
   "outputs": [],
   "source": []
  },
  {
   "cell_type": "code",
   "execution_count": null,
   "id": "141",
   "metadata": {},
   "outputs": [],
   "source": [
    "phi_1 = 2.3\n",
    "phi_1x = \n",
    "phi_2x = \n",
    "phi_2xdc = \n",
    "M_12 = 0.05\n",
    "a = 1.25\n",
    "beta = 2.3\n",
    "circuit_params = {\n",
    "    \"L\": 25-12, \"T\": 4.2,\n",
    "    \"beta\": 2.3, \"d_beta\": 0,\n",
    "    \"phi_1x\": 0.59,   \"phi_2x\": 0.087, \"phi_1xdc\": 0, \"phi_2xdc\": 1.925, \"M_12\": 0.05\n",
    "}\n",
    "\n",
    "def pot_function(circuit_params=circuit_params, detail_info = False):\n",
    "    U_ratio = 1\n",
    "\n",
    "    beta_1 = circuit_params[\"beta\"]\n",
    "    beta_2 = circuit_params[\"beta\"]\n",
    "    d_beta_1 = circuit_params[\"d_beta\"]\n",
    "    d_beta_2 = circuit_params[\"d_beta\"]\n",
    "    _phi_1x = circuit_params[\"phi_1x\"]\n",
    "    _phi_2x = circuit_params[\"phi_2x\"]\n",
    "    _phi_1xdc = circuit_params[\"phi_1xdc\"]\n",
    "    _phi_2xdc = circuit_params[\"phi_2xdc\"]\n",
    "    _M_12 = circuit_params[\"M_12\"]\n",
    "    _xi = 1\n",
    "    _phi_1dc = _phi_1xdc\n",
    "    _phi_2dc = _phi_2xdc\n",
    "\n",
    "    def Fcn(coord):\n",
    "        _phi_1, _phi_2 = coord\n",
    "        u1_1 = 1/2 * _xi * (_phi_1 - _phi_1x)**2\n",
    "        u1_3 = beta_1 * np.cos(_phi_1) * np.cos(_phi_1dc/2)\n",
    "        u1_4 = -d_beta_1 * np.sin(_phi_1) * np.sin(_phi_1dc/2)\n",
    "\n",
    "        u2_1 = 1/2 * _xi * (_phi_2 - _phi_2x)**2\n",
    "        u2_3 = beta_2 * np.cos(_phi_2) * np.cos(_phi_2dc/2)\n",
    "        u2_4 = -d_beta_2 * np.sin(_phi_2) * np.sin(_phi_2dc/2)\n",
    "        u3 = _M_12 * _xi * (_phi_1 - _phi_1x) * (_phi_2 - _phi_2x)\n",
    "\n",
    "        if detail_info:\n",
    "            return {\n",
    "                \"u1_1\": u1_1, \"u1_3\": u1_3, \"u1_4\": u1_4,\n",
    "                \"u2_1\": u2_1, \"u2_3\": u2_3, \"u1_4\": u2_4,\n",
    "                \"u3\": u3\n",
    "            }\n",
    "        else:\n",
    "            return U_ratio * (u1_1 + u1_3 + u1_4 + u2_1 + u2_3 + u2_4 + u3)\n",
    "\n",
    "    return Fcn"
   ]
  },
  {
   "cell_type": "code",
   "execution_count": null,
   "id": "142",
   "metadata": {},
   "outputs": [],
   "source": [
    "delta_U_11"
   ]
  },
  {
   "cell_type": "code",
   "execution_count": null,
   "id": "143",
   "metadata": {},
   "outputs": [],
   "source": [
    "circuit_params = {\n",
    "\n",
    "def pot_function(circuit_params=circuit_params, detail_info = False):\n",
    "    # L = circuit_params[\"L\"]\n",
    "    # T = circuit_params[\"T\"]\n",
    "    # k_BT = k_B * T\n",
    "    # x_c = PHI_0/(2 * np.pi)\n",
    "    # U_ratio = x_c**2 / (k_BT * L)\n",
    "    U_ratio = 1\n",
    "\n",
    "    beta_1 = circuit_params[\"beta\"]\n",
    "    beta_2 = circuit_params[\"beta\"]\n",
    "    d_beta_1 = circuit_params[\"d_beta\"]\n",
    "    d_beta_2 = circuit_params[\"d_beta\"]\n",
    "    _phi_1x = circuit_params[\"phi_1x\"]\n",
    "    _phi_2x = circuit_params[\"phi_2x\"]\n",
    "    _phi_1xdc = circuit_params[\"phi_1xdc\"]\n",
    "    _phi_2xdc = circuit_params[\"phi_2xdc\"]\n",
    "    _M_12 = circuit_params[\"M_12\"]\n",
    "    _xi = 1\n",
    "    _phi_1dc = _phi_1xdc\n",
    "    _phi_2dc = _phi_2xdc\n",
    "\n",
    "    def Fcn(coord):\n",
    "        _phi_1, _phi_2 = coord\n",
    "        u1_1 = 1/2 * _xi * (_phi_1 - _phi_1x)**2\n",
    "        u1_3 = beta_1 * np.cos(_phi_1) * np.cos(_phi_1dc/2)\n",
    "        u1_4 = -d_beta_1 * np.sin(_phi_1) * np.sin(_phi_1dc/2)\n",
    "\n",
    "        u2_1 = 1/2 * _xi * (_phi_2 - _phi_2x)**2\n",
    "        u2_3 = beta_2 * np.cos(_phi_2) * np.cos(_phi_2dc/2)\n",
    "        u2_4 = -d_beta_2 * np.sin(_phi_2) * np.sin(_phi_2dc/2)\n",
    "        u3 = _M_12 * _xi * (_phi_1 - _phi_1x) * (_phi_2 - _phi_2x)\n",
    "\n",
    "        if detail_info:\n",
    "            return {\n",
    "                \"u1_1\": u1_1, \"u1_3\": u1_3, \"u1_4\": u1_4,\n",
    "                \"u2_1\": u2_1, \"u2_3\": u2_3, \"u1_4\": u2_4,\n",
    "                \"u3\": u3\n",
    "            }\n",
    "        else:\n",
    "            return U_ratio * (u1_1 + u1_3 + u1_4 + u2_1 + u2_3 + u2_4 + u3)\n",
    "\n",
    "    return Fcn"
   ]
  },
  {
   "cell_type": "code",
   "execution_count": null,
   "id": "144",
   "metadata": {},
   "outputs": [],
   "source": [
    "_phi_1xdc_array"
   ]
  },
  {
   "cell_type": "code",
   "execution_count": null,
   "id": "145",
   "metadata": {},
   "outputs": [],
   "source": [
    "\n",
    "\n",
    "def get_barrier_height(_phi_1xdc_array, protocol_2, protocol_duration, N):\n",
    "    result_array = []\n",
    "\n",
    "    for _phi_1xdc in _phi_1xdc_array:\n",
    "        protocol_2[\"phi_1xdc\"] = _phi_1xdc\n",
    "        protocol_2[\"beta\"] = beta_1\n",
    "        protocol_2[\"d_beta\"] = 0\n",
    "        critical_dict = find_all_critical_points_for_all_potential(protocol_2, guess = [(-2, -2), (-2, 2), (2, -2), (2, 2), (-2,0), (0, -2), (2, 0), (0, 2)])\n",
    "        critical_points = list(critical_dict.values())[0]\n",
    "\n",
    "        critical_potential = [pot_function(protocol_2)([x, y]) for x, y in critical_points]\n",
    "        \n",
    "        delta_U17 = critical_potential[7] - critical_potential[1]\n",
    "        delta_U37 = critical_potential[7] - critical_potential[3]\n",
    "\n",
    "        result_array.append({\n",
    "            \"coord\": critical_points, \"delta_U17\": delta_U17 * U0_1, \"delta_U37\": delta_U37 * U0_1, \"phi_1xdc\": _phi_1xdc\n",
    "        })\n",
    "\n",
    "    escape_rate_info_array = []\n",
    "    for item in result_array:\n",
    "        # second_derivative_array = np.array([cal_second_derivative(_phi_1, _phi_1xdc) for _phi_1, _phi_1xdc in zip(phi_1, phi_1xdc)])\n",
    "        target_critial_point_info = item['coord'][1][0], item['phi_1xdc'], item['delta_U17']\n",
    "        second_derivative_array = np.array(cal_second_derivative(target_critial_point_info[0], target_critial_point_info[1]))\n",
    "        plasma_freq = np.sqrt(second_derivative_array / (L * C))\n",
    "        escape_rate = plasma_freq / (2 * np.pi) * np.exp(-target_critial_point_info[2])\n",
    "        escape_event_per_operation = escape_rate * protocol_duration * N\n",
    "        dwell_time = 1 / escape_rate\n",
    "        escape_rate_info_array.append([item['delta_U17'], escape_rate, escape_event_per_operation])\n",
    "\n",
    "    return {\"critical_info\": result_array, \"escape_rate_info_array\": escape_rate_info_array}\n"
   ]
  },
  {
   "cell_type": "code",
   "execution_count": null,
   "id": "146",
   "metadata": {},
   "outputs": [],
   "source": []
  },
  {
   "cell_type": "code",
   "execution_count": null,
   "id": "147",
   "metadata": {},
   "outputs": [],
   "source": []
  },
  {
   "cell_type": "code",
   "execution_count": null,
   "id": "148",
   "metadata": {},
   "outputs": [],
   "source": [
    "mu_factor_1 = -0.5\n",
    "_phi_1xdc_array = np.linspace(1.90, 2.2, 40)\n",
    "corrected_phi_1dc_array = []\n",
    "_beta, _gamma = 2.3, 9\n",
    "\n",
    "for _phi_1xdc in _phi_1xdc_array:\n",
    "    Fcn = setup_transcendtal_equation(_phi_1xdc, _beta, _gamma)\n",
    "    sol = fsolve(Fcn, _phi_1xdc)[0]\n",
    "    corrected_phi_1dc_array.append(sol)\n",
    "\n",
    "\n",
    "protocol_duration = np.sqrt(L * C) * 50\n",
    "N = 124_000\n",
    "protocol_2 = {\"phi_1x\": 0.095 * mu_factor_1, \"phi_2x\": 0, \"mu_12\": 0.0475 * mu_factor_1, \"phi_1xdc\": _phi_1xdc, \"phi_2xdc\": 0, \"name\": \"acceleration\", \"color\": \"g\", \"linestyle\": \"-\"}\n",
    "\n",
    "\n",
    "barrier_height_info = get_barrier_height(_phi_1xdc_array, protocol_2, protocol_duration, N/2)\n",
    "corrected_barrier_height_info = get_barrier_height(corrected_phi_1dc_array, protocol_2, protocol_duration, N/2)\n"
   ]
  },
  {
   "cell_type": "code",
   "execution_count": null,
   "id": "149",
   "metadata": {},
   "outputs": [],
   "source": []
  },
  {
   "cell_type": "markdown",
   "id": "150",
   "metadata": {},
   "source": [
    "## convert"
   ]
  },
  {
   "cell_type": "code",
   "execution_count": null,
   "id": "151",
   "metadata": {},
   "outputs": [],
   "source": [
    "def setup_transcendtal_equation(phi_1xdc, beta, gamma):\n",
    "    def Fcn(phi_1dc):\n",
    "        return phi_1dc - beta / (2 * gamma) * np.sin(phi_1dc/2) - phi_1xdc\n",
    "    return Fcn\n",
    "\n",
    "\n",
    "def convert_phi_xdc_from_beta(beta_1, phi_1xdc_1, beta_2, gamma = 9):\n",
    "    def setup_Fcn_dc_to_xdc(beta, gamma, phi_1dc):\n",
    "        def Fcn_dc_to_xdc(phi_1xdc):\n",
    "            return phi_1dc - beta / (2 * gamma) * np.sin(phi_1dc/2) - phi_1xdc\n",
    "        return Fcn_dc_to_xdc\n",
    "    \n",
    "    def setup_Fcn_xdc_to_dc(beta, gamma, phi_1xdc):\n",
    "        def Fcn_xdc_to_dc(phi_1dc):\n",
    "            return phi_1dc - beta / (2 * gamma) * np.sin(phi_1dc/2) - phi_1xdc\n",
    "        return Fcn_xdc_to_dc\n",
    "\n",
    "    phi_1dc = fsolve(setup_Fcn_xdc_to_dc(beta_1, gamma, phi_1xdc_1), phi_1xdc_1)[0]\n",
    "    print(f\"in beta_1 system: {phi_1dc}, {phi_1xdc_1}\")\n",
    "\n",
    "    phi_1dc_p = np.arccos(beta_1 *  np.cos(phi_1dc/2) / beta_2) * 2\n",
    "    phi_1xdc_p = fsolve(setup_Fcn_dc_to_xdc(beta_2, gamma, phi_1dc_p), phi_1dc_p)[0]\n",
    "    print(f\"in beta_2 system: {phi_1dc_p}, {phi_1xdc_p}\")\n"
   ]
  },
  {
   "cell_type": "code",
   "execution_count": null,
   "id": "152",
   "metadata": {},
   "outputs": [],
   "source": [
    "convert_phi_xdc_from_beta(1.35, 1.7, 2.3)"
   ]
  },
  {
   "cell_type": "code",
   "execution_count": null,
   "id": "153",
   "metadata": {},
   "outputs": [],
   "source": []
  },
  {
   "cell_type": "code",
   "execution_count": null,
   "id": "154",
   "metadata": {},
   "outputs": [],
   "source": []
  },
  {
   "cell_type": "code",
   "execution_count": null,
   "id": "155",
   "metadata": {},
   "outputs": [],
   "source": [
    "delta_U17_array = [x[0] for x in barrier_height_info['escape_rate_info_array']]\n",
    "escape_event_per_op_array = [x[2] for x in barrier_height_info['escape_rate_info_array']]\n",
    "corrected_delta_U17_array = [x[0] for x in corrected_barrier_height_info['escape_rate_info_array']]\n",
    "corrected_escape_event_per_op_array = [x[2] for x in corrected_barrier_height_info['escape_rate_info_array']]\n"
   ]
  },
  {
   "cell_type": "code",
   "execution_count": null,
   "id": "156",
   "metadata": {},
   "outputs": [],
   "source": [
    "plt.plot(corrected_phi_1dc_array, corrected_delta_U17_array)"
   ]
  },
  {
   "cell_type": "code",
   "execution_count": null,
   "id": "157",
   "metadata": {},
   "outputs": [],
   "source": [
    "\n",
    "\n",
    "# Experiment 2 (2025-07-15) (3rd data, i.e. E_B = 25.0), Experiment 2 (2025-07-12)\n",
    "simulation_data_barrier = [11.3, 21.0, 25.0, 30, 40.2, 50]\n",
    "simulation_data_escape_event = [31193, 1112, 60, 0, 0, 0]\n",
    "simulated_work = [24.4, 22.7, 25.4, 29.4, 34.6, 55]\n",
    "simulated_work_error = np.array([0.225, 0.228, 0.324, 0.366, 0.463, 0.742]) * 3\n",
    "\n"
   ]
  },
  {
   "cell_type": "code",
   "execution_count": null,
   "id": "158",
   "metadata": {},
   "outputs": [],
   "source": [
    "import matplotlib as mpl\n",
    "rc_dict = {'font.size':16, 'axes.labelsize':'large', 'ytick.right':False,'legend.loc':'upper right', 'legend.fontsize':'xx-small', 'figure.autolayout':True, 'figure.figsize': (10,10), 'mathtext.fontset':'stix', 'font.family':'STIXGeneral'}\n",
    "mpl.rcParams.update(rc_dict)\n",
    "\n",
    "escape_event_per_op_array = [x[2] for x in barrier_height_info['escape_rate_info_array']]\n",
    "\n",
    "fig, ax = plt.subplots(1, 1, figsize = [5, 5])\n",
    "ax.scatter(delta_U17_array, escape_event_per_op_array, label = \"naive\")\n",
    "ax.scatter(delta_U17_array, corrected_escape_event_per_op_array, label = \"corrected\")\n",
    "ax.scatter(simulation_data_barrier, simulation_data_escape_event, label = \"simulation\")\n",
    "ax.hlines(y = 1, xmin = 0, xmax = 50, linestyles=\"--\")\n",
    "ax.set_yscale('log')\n",
    "ax.set_xlabel(r\"intended barrier height ($k_BT$)\")\n",
    "ax.set_ylabel(\"escape events per operation\")\n",
    "ax.set_xlim(9.5,51 )\n",
    "plt.legend(fontsize=13)"
   ]
  },
  {
   "cell_type": "code",
   "execution_count": null,
   "id": "159",
   "metadata": {},
   "outputs": [],
   "source": [
    "# escape_rate_info_array = np.array(escape_rate_info_array)\n",
    "# corrected_escape_rate_info_array = np.array(corrected_escape_rate_info_array)\n",
    "\n",
    "# barrier_height = escape_rate_info_array[:, 0]\n",
    "# corrected_barrier_height = corrected_escape_rate_info_array[:, 0]\n",
    "# expected_escape_number = escape_rate_info_array[:, 1] * protocol_duration * N/2\n",
    "# corrected_expected_escape_number = corrected_escape_rate_info_array[:, 1] * protocol_duration * N/2"
   ]
  },
  {
   "cell_type": "code",
   "execution_count": null,
   "id": "160",
   "metadata": {},
   "outputs": [],
   "source": []
  },
  {
   "cell_type": "code",
   "execution_count": null,
   "id": "161",
   "metadata": {},
   "outputs": [],
   "source": [
    "expected_escape_number"
   ]
  },
  {
   "cell_type": "code",
   "execution_count": null,
   "id": "162",
   "metadata": {},
   "outputs": [],
   "source": [
    "# plt.scatter(simulation_data_barrier, simulation_data_escape_event, label = \"simulation\", color = \"blue\")\n",
    "plt.scatter(barrier_height, expected_escape_number, label = \"theory\", color = \"orange\")\n",
    "plt.xlabel(\"$\\Delta E_B (k_BT)$\")\n",
    "plt.ylabel(r\"escape events per operation\")\n",
    "plt.yscale(\"log\")\n",
    "plt.title(r\"t = 50 $t_c$\")\n",
    "xmin, xmax = plt.xlim()\n",
    "# plt.hlines(y = 1e-6, xmin = xmin, xmax = xmax, linestyles = \"--\")\n",
    "plt.legend()"
   ]
  },
  {
   "cell_type": "code",
   "execution_count": null,
   "id": "163",
   "metadata": {},
   "outputs": [],
   "source": [
    "plt.scatter(simulation_data_barrier, simulation_data_escape_event, label = \"simulation\", color = \"blue\")\n",
    "plt.scatter(barrier_height, expected_escape_number, label = \"theory\", color = \"orange\")\n",
    "plt.scatter(corrected_barrier_height, corrected_expected_escape_number, label = \"corrected\", color = \"red\")\n",
    "plt.xlabel(\"$\\Delta E_B (k_BT)$\")\n",
    "plt.ylabel(r\"escape events per operation\")\n",
    "plt.yscale(\"log\")\n",
    "plt.title(r\"t = 50 $t_c$\")\n",
    "xmin, xmax = plt.xlim()\n",
    "plt.hlines(y = 1, xmin = xmin, xmax = xmax, linestyles = \"--\")\n",
    "plt.legend()"
   ]
  },
  {
   "cell_type": "code",
   "execution_count": null,
   "id": "164",
   "metadata": {},
   "outputs": [],
   "source": [
    "plt.errorbar(x = simulation_data_barrier, y = simulated_work, yerr = simulated_work_error, label = \"simulation\", fmt = \"o\")\n",
    "plt.xlabel(\"∆E_B (k_BT)\")\n",
    "plt.ylabel(\"work\")\n",
    "plt.title(\"work done vs ∆E_B\")\n",
    "plt.legend()"
   ]
  },
  {
   "cell_type": "code",
   "execution_count": null,
   "id": "165",
   "metadata": {},
   "outputs": [],
   "source": []
  },
  {
   "cell_type": "code",
   "execution_count": null,
   "id": "166",
   "metadata": {},
   "outputs": [],
   "source": [
    "protocol_duration"
   ]
  },
  {
   "cell_type": "code",
   "execution_count": null,
   "id": "167",
   "metadata": {},
   "outputs": [],
   "source": [
    "plt.scatter(barrier_height, 1/escape_rate_info_array[:,1] / protocol_duration)\n",
    "plt.xlabel(\"∆E_B (k_BT)\")\n",
    "plt.ylabel(\"robustness\")\n",
    "plt.title(\"t = 80 t_c, L = 5pH, C = 500fF\")\n",
    "plt.yscale(\"log\")"
   ]
  },
  {
   "cell_type": "code",
   "execution_count": null,
   "id": "168",
   "metadata": {},
   "outputs": [],
   "source": [
    "k_BT"
   ]
  },
  {
   "cell_type": "code",
   "execution_count": null,
   "id": "169",
   "metadata": {},
   "outputs": [],
   "source": [
    "expected_escape_number"
   ]
  },
  {
   "cell_type": "code",
   "execution_count": null,
   "id": "170",
   "metadata": {},
   "outputs": [],
   "source": [
    "np.sqrt(L * C) "
   ]
  },
  {
   "cell_type": "code",
   "execution_count": null,
   "id": "171",
   "metadata": {},
   "outputs": [],
   "source": []
  },
  {
   "cell_type": "code",
   "execution_count": null,
   "id": "172",
   "metadata": {},
   "outputs": [],
   "source": []
  },
  {
   "cell_type": "markdown",
   "id": "173",
   "metadata": {},
   "source": [
    "# calculate escape rate"
   ]
  },
  {
   "cell_type": "code",
   "execution_count": null,
   "id": "174",
   "metadata": {},
   "outputs": [],
   "source": [
    "\n",
    "\n",
    "\n",
    "\n",
    "\n",
    "def second_derivative_of_pot_function(protocol_2, beta, d_beta, gamma):\n",
    "    beta_1 = beta\n",
    "    beta_2 = beta\n",
    "    d_beta_1 = d_beta\n",
    "    d_beta_2 = d_beta\n",
    "\n",
    "    _phi_1xdc = protocol_2[\"phi_1xdc\"]\n",
    "    _phi_2xdc = protocol_2[\"phi_2xdc\"]\n",
    "\n",
    "    def Fcn(x):\n",
    "        return [\n",
    "            1 - beta_1 * np.cos(x[0]) * np.cos(_phi_1xdc/2) - d_beta_1 * np.sin(x[0]) * np.sin(_phi_1xdc/2),\n",
    "            1 - beta_2 * np.cos(x[1]) * np.cos(_phi_2xdc/2) - d_beta_2 * np.sin(x[1]) * np.sin(_phi_2xdc/2)\n",
    "        ]\n",
    "    return Fcn\n",
    "\n",
    "\n",
    "\n",
    "def find_all_minimum_points_for_all_potential(circuit_params, guess = [(0, 0)]):\n",
    "    \"\"\"\"\n",
    "    To find all the maximum points, of the potential function\n",
    "    \"\"\"\n",
    "    solution_set = [optimize.fmin(detailed_pot_function(circuit_params), _g, disp=False) for _g in guess]\n",
    "    # energy_set = [coupled_flux_qubit_non_linear_approx_pot(sol[0], sol[1], _phi_1dcx, _phi_2dcx, _params_at_t) for sol in solution_set]\n",
    "    return {\"coord\": solution_set}\n",
    "\n",
    "\n",
    "\n"
   ]
  },
  {
   "cell_type": "code",
   "execution_count": null,
   "id": "175",
   "metadata": {},
   "outputs": [],
   "source": []
  },
  {
   "cell_type": "code",
   "execution_count": null,
   "id": "176",
   "metadata": {},
   "outputs": [],
   "source": [
    "mu_factor_h2 = 0.40\n",
    "beta_1 = 1.35\n",
    "\n",
    "if beta_1 == 2.3:\n",
    "    mu_12_factor_beta = 0.05\n",
    "if beta_1 == 1.35:\n",
    "    mu_12_factor_beta = 0.0765\n",
    "protocol_harmonic_h2 = {\"phi_1x\": 0.1 * mu_factor_h2, \"phi_2x\": 0.0, \"mu_12\": mu_12_factor_beta * mu_factor_h2, \"phi_1xdc\": 1.1,  \"phi_2xdc\": 0, \"name\": \"h2\", \"color\": \"g\", \"linestyle\": \"-\"} \n",
    "get_barrier_height(protocol_harmonic_h2, beta_1,  gamma = 16, protocol_duration= 16, N = 1e12/2)"
   ]
  },
  {
   "cell_type": "code",
   "execution_count": null,
   "id": "177",
   "metadata": {},
   "outputs": [],
   "source": []
  },
  {
   "cell_type": "markdown",
   "id": "178",
   "metadata": {},
   "source": [
    "# speed comparison"
   ]
  },
  {
   "cell_type": "code",
   "execution_count": null,
   "id": "179",
   "metadata": {},
   "outputs": [],
   "source": [
    "import matplotlib.pyplot as plt\n",
    "import numpy as np\n",
    "\n",
    "\n",
    "def plot_graph(KE_data_file_name, ax_flatten, label, linestyle = \"-\", showProtocolTime = False, showError = False, color = \"blue\"):\n",
    "    KE_info = np.load(KE_data_file_name, allow_pickle=True).item()\n",
    "    KE_data = KE_info[\"KE_data\"]\n",
    "    KE_mean = KE_data[0, ...]\n",
    "    KE_std = KE_data[1, ...]\n",
    "\n",
    "    protocol_time_array = KE_info[\"protocol_time_array\"]\n",
    "    normalized_protocol_time_array = protocol_time_array / max(protocol_time_array)\n",
    "\n",
    "    normalized_time = np.array(range(len(KE_mean[0, :])))\n",
    "    normalized_time = normalized_time / np.max(normalized_time)\n",
    "\n",
    "    ax_flatten[2].plot(normalized_time, KE_mean[0, :], label = label, linestyle = linestyle, color = color)\n",
    "    ax_flatten[0].plot(normalized_time, KE_mean[1, :], label = label, linestyle = linestyle, color = color)\n",
    "    ax_flatten[3].plot(normalized_time, KE_mean[2, :], label = label, linestyle = linestyle, color = color)\n",
    "    ax_flatten[1].plot(normalized_time, KE_mean[3, :], label = label, linestyle = linestyle, color = color)\n",
    "\n",
    "    if showError:\n",
    "        ax_flatten[2].errorbar(normalized_time[::20], KE_mean[0, ::20], yerr = KE_std[0, ::20], linestyle='', color = color)\n",
    "        ax_flatten[0].errorbar(normalized_time[::20], KE_mean[1, ::20], yerr = KE_std[1, ::20], linestyle='', color = color)\n",
    "        ax_flatten[3].errorbar(normalized_time[::20], KE_mean[2, ::20], yerr = KE_std[2, ::20], linestyle='', color = color)\n",
    "        ax_flatten[1].errorbar(normalized_time[::20], KE_mean[3, ::20], yerr = KE_std[3, ::20], linestyle='', color = color)\n",
    "\n",
    "\n",
    "    ymin, ymax = 0, 0\n",
    "    if showProtocolTime:\n",
    "        for ax in ax_flatten:\n",
    "            for i, x in enumerate(normalized_protocol_time_array):\n",
    "                if i == 0:\n",
    "                    ymin, ymax = ax.get_ylim()\n",
    "                \n",
    "                ax.vlines(x, ymin = ymin, ymax = ymax, color = \"grey\", alpha = 0.15, linestyle = \"--\")\n",
    "\n",
    "    ax_flatten[0].legend()"
   ]
  },
  {
   "cell_type": "code",
   "execution_count": null,
   "id": "180",
   "metadata": {},
   "outputs": [],
   "source": [
    "fig, ax = plt.subplots(2, 2, figsize = [10, 10])\n",
    "ax_flatten = ax.flatten()\n",
    "\n",
    "plot_graph(os.path.join(\"KE_data\", KE_data_file_name), ax_flatten, label = \"t = 42\", linestyle= \"--\", showProtocolTime = True, showError=True)"
   ]
  },
  {
   "cell_type": "code",
   "execution_count": null,
   "id": "181",
   "metadata": {},
   "outputs": [],
   "source": [
    "def phi_analysis_of_individual_particles(self, target_axis = \"phi_1\"):\n",
    "    mapping = {\"phi_1\": 0, \"phi_2\": 1, \"phi_1dc\": 2, \"phi_2dc\": 3}\n",
    "    target_axis_index = mapping[target_axis]\n",
    "\n",
    "    pIndex = self.getIndexOfParticles()\n",
    "    \"\"\"To investigate the average KE of each type of particles\"\"\"\n",
    "    all_state = self.get_all_state()\n",
    "\n",
    "    index_of_00 = pIndex[\"00\"]\n",
    "    index_of_01 = pIndex[\"01\"]\n",
    "    index_of_10 = pIndex[\"10\"]\n",
    "    index_of_11 = pIndex[\"11\"]\n",
    "\n",
    "    phi_00 = all_state[index_of_00, ..., target_axis_index, 0]\n",
    "    phi_01 = all_state[index_of_01, ..., target_axis_index, 0]\n",
    "    phi_10 = all_state[index_of_10, ..., target_axis_index, 0]\n",
    "    phi_11 = all_state[index_of_11, ..., target_axis_index, 0]\n",
    "\n",
    "    phi_mean_array_00, phi_std_array_00 = np.mean(phi_00, axis = 0), np.std(phi_00, axis = 0) * 3\n",
    "    phi_mean_array_01, phi_std_array_01 = np.mean(phi_01, axis = 0), np.std(phi_01, axis = 0) * 3\n",
    "    phi_mean_array_10, phi_std_array_10 = np.mean(phi_10, axis = 0), np.std(phi_10, axis = 0) * 3\n",
    "    phi_mean_array_11, phi_std_array_11 = np.mean(phi_11, axis = 0), np.std(phi_11, axis = 0) * 3\n",
    "    \n",
    "    print(len(phi_mean_array_00), len(phi_std_array_00))\n",
    "\n",
    "    item = np.array([\n",
    "        [phi_mean_array_00, phi_mean_array_01, phi_mean_array_10, phi_mean_array_11],\n",
    "        [phi_std_array_00, phi_std_array_01, phi_std_array_10, phi_std_array_11]\n",
    "    ])\n",
    "\n",
    "\n",
    "    return item\n",
    "\n",
    "def plot_graph(phi_data, KE_info, ax_flatten, label, linestyle = \"-\", showProtocolTime = False, showError = False, color = \"blue\"):\n",
    "    KE_data = KE_info[\"KE_data\"]\n",
    "    KE_mean = KE_data[0, ...]\n",
    "    KE_std = KE_data[1, ...]\n",
    "\n",
    "    phi_mean = phi_data[0, ...]\n",
    "    phi_std = phi_data[1, ...]\n",
    "\n",
    "    protocol_time_array = KE_info[\"protocol_time_array\"]\n",
    "    normalized_protocol_time_array = protocol_time_array / max(protocol_time_array)\n",
    "\n",
    "    normalized_time = np.array(range(len(KE_mean[0, :])))\n",
    "    normalized_time = normalized_time / np.max(normalized_time)\n",
    "\n",
    "    ax_flatten[2].plot(normalized_time, KE_mean[0, :], label = label, linestyle = linestyle, color = color)\n",
    "    ax_flatten[0].plot(normalized_time, KE_mean[1, :], label = label, linestyle = linestyle, color = color)\n",
    "    ax_flatten[3].plot(normalized_time, KE_mean[2, :], label = label, linestyle = linestyle, color = color)\n",
    "    ax_flatten[1].plot(normalized_time, KE_mean[3, :], label = label, linestyle = linestyle, color = color)\n",
    "\n",
    "\n",
    "    ax2, ax0, ax3, ax1 = ax_flatten[2].twinx(), ax_flatten[0].twinx(), ax_flatten[3].twinx(), ax_flatten[1].twinx()\n",
    "    ax2.plot(normalized_time, phi_mean[0, :], label = label, linestyle = linestyle, color = \"red\")\n",
    "    ax0.plot(normalized_time, phi_mean[1, :], label = label, linestyle = linestyle, color = \"red\")\n",
    "    ax3.plot(normalized_time, phi_mean[2, :], label = label, linestyle = linestyle, color = \"red\")\n",
    "    ax1.plot(normalized_time, phi_mean[3, :], label = label, linestyle = linestyle, color = \"red\")\n",
    "\n",
    "\n",
    "    if showError:\n",
    "        ax_flatten[2].errorbar(normalized_time[::20], KE_mean[0, ::20], yerr = KE_std[0, ::20], linestyle='', color = color)\n",
    "        ax_flatten[0].errorbar(normalized_time[::20], KE_mean[1, ::20], yerr = KE_std[1, ::20], linestyle='', color = color)\n",
    "        ax_flatten[3].errorbar(normalized_time[::20], KE_mean[2, ::20], yerr = KE_std[2, ::20], linestyle='', color = color)\n",
    "        ax_flatten[1].errorbar(normalized_time[::20], KE_mean[3, ::20], yerr = KE_std[3, ::20], linestyle='', color = color)\n",
    "\n",
    "        ax2.errorbar(normalized_time[::20], phi_mean[0, ::20], yerr = phi_std[0, ::20], linestyle='', color = \"red\")\n",
    "        ax0.errorbar(normalized_time[::20], phi_mean[1, ::20], yerr = phi_std[1, ::20], linestyle='', color = \"red\")\n",
    "        ax3.errorbar(normalized_time[::20], phi_mean[2, ::20], yerr = phi_std[2, ::20], linestyle='', color = \"red\")\n",
    "        ax1.errorbar(normalized_time[::20], phi_mean[3, ::20], yerr = phi_std[3, ::20], linestyle='', color = \"red\")\n",
    "\n",
    "    ymin, ymax = 0, 0\n",
    "    if showProtocolTime:\n",
    "        for ax in ax_flatten:\n",
    "            for i, x in enumerate(normalized_protocol_time_array):\n",
    "                if i == 0:\n",
    "                    ymin, ymax = ax.get_ylim()\n",
    "                \n",
    "                ax.vlines(x, ymin = ymin, ymax = ymax, color = \"grey\", alpha = 0.15, linestyle = \"--\")\n",
    "\n",
    "    ax_flatten[0].legend()\n"
   ]
  },
  {
   "cell_type": "code",
   "execution_count": null,
   "id": "182",
   "metadata": {},
   "outputs": [],
   "source": [
    "KE_position_data = {\n",
    "    \"KE_data\": simResult['cfqr'].KE_analysis_of_individual_particles(),\n",
    "    \"protocol_time_array\": np.array(simResult['cfqr'].protocol_time_array),\n",
    "    \"protocol_list\": protocol_list\n",
    "}\n",
    "\n",
    "\n",
    "KE_data_file_name = \"Experiment_1_2025_08_31_KE_data.npy\"\n",
    "\n",
    "fig, ax = plt.subplots(2, 2, figsize = [10, 10])\n",
    "ax_flatten = ax.flatten()\n",
    "phi_data = phi_analysis_of_individual_particles(simResult['cfqr'])\n",
    "plot_graph(phi_data, KE_data, ax_flatten, label = \"t = 42\", linestyle= \"--\", showProtocolTime = True, showError=True)\n",
    "\n",
    "save_KE_data = True\n",
    "save_KE_data = False\n",
    "if save_KE_data:\n",
    "    np.save(os.path.join(\"KE_data\", KE_data_file_name), KE_data, allow_pickle=True)\n",
    "\n",
    "\n"
   ]
  },
  {
   "cell_type": "code",
   "execution_count": null,
   "id": "183",
   "metadata": {},
   "outputs": [],
   "source": [
    "\n",
    "phi_mean = phi_data[0, ...]\n",
    "phi_std = phi_data[1, ...]\n",
    "label = \"t = 42\"\n",
    "linestyle = \"--\"\n",
    "color = \"blue\"\n",
    "showError = True\n",
    "fig, ax = plt.subplots(2, 2, figsize = [10, 10])\n",
    "ax_flatten = ax.flatten()\n",
    "\n",
    "# print(phi_mean[0, ...])\n",
    "\n",
    "normalized_time = np.array(range(len(phi_mean[0, ...])))\n",
    "normalized_time = normalized_time / np.max(normalized_time)\n",
    "\n",
    "ax_flatten[2].plot(normalized_time, phi_mean[0, :], label = label, linestyle = linestyle, color = color)\n",
    "ax_flatten[0].plot(normalized_time, phi_mean[1, :], label = label, linestyle = linestyle, color = color)\n",
    "ax_flatten[3].plot(normalized_time, phi_mean[2, :], label = label, linestyle = linestyle, color = color)\n",
    "ax_flatten[1].plot(normalized_time, phi_mean[3, :], label = label, linestyle = linestyle, color = color)\n",
    "\n",
    "# if showError:\n",
    "#     ax_flatten[2].errorbar(normalized_time[::20], phi_mean[0, ::20], yerr = phi_mean[0, ::20], linestyle='', color = color)\n",
    "#     ax_flatten[0].errorbar(normalized_time[::20], phi_mean[1, ::20], yerr = phi_mean[1, ::20], linestyle='', color = color)\n",
    "#     ax_flatten[3].errorbar(normalized_time[::20], phi_mean[2, ::20], yerr = phi_mean[2, ::20], linestyle='', color = color)\n",
    "#     ax_flatten[1].errorbar(normalized_time[::20], phi_mean[3, ::20], yerr = phi_mean[3, ::20], linestyle='', color = color)\n",
    "\n",
    "\n",
    "# ax_flatten[0].legend()\n",
    "\n",
    "\n",
    "\n",
    "# # plot_graph(KE_data, ax_flatten, label = \"t = 42\", linestyle= \"--\", showProtocolTime = True, showError=True)"
   ]
  },
  {
   "cell_type": "code",
   "execution_count": null,
   "id": "184",
   "metadata": {},
   "outputs": [],
   "source": []
  }
 ],
 "metadata": {
  "kernelspec": {
   "display_name": "base",
   "language": "python",
   "name": "python3"
  },
  "language_info": {
   "codemirror_mode": {
    "name": "ipython",
    "version": 3
   },
   "file_extension": ".py",
   "mimetype": "text/x-python",
   "name": "python",
   "nbconvert_exporter": "python",
   "pygments_lexer": "ipython3",
   "version": "3.12.2"
  }
 },
 "nbformat": 4,
 "nbformat_minor": 5
}
