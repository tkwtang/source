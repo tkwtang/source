{
 "cells": [
  {
   "cell_type": "code",
   "execution_count": null,
   "id": "0",
   "metadata": {},
   "outputs": [],
   "source": [
    "import pandas as pd\n",
    "import json, importlib, os\n",
    "import matplotlib as mpl\n",
    "import numpy as np\n",
    "import matplotlib.animation as animation\n",
    "from IPython.display import HTML\n",
    "from IPython import display\n",
    "import matplotlib.pyplot as plt\n",
    "from PIL import Image\n",
    "\n",
    "rc_dict = {'font.size':16, 'axes.labelsize':'large', 'ytick.right':False,'legend.loc':'upper right', 'legend.fontsize':'xx-small', 'figure.autolayout':True, 'figure.figsize': (10,10), 'mathtext.fontset':'stix', 'font.family':'STIXGeneral'}\n",
    "mpl.rcParams.update(rc_dict)\n"
   ]
  },
  {
   "cell_type": "code",
   "execution_count": null,
   "id": "1",
   "metadata": {},
   "outputs": [],
   "source": []
  },
  {
   "cell_type": "markdown",
   "id": "2",
   "metadata": {},
   "source": [
    "# base case graph"
   ]
  },
  {
   "cell_type": "code",
   "execution_count": null,
   "id": "3",
   "metadata": {},
   "outputs": [],
   "source": [
    "# data from Experiment 2 (2025-5-23) Effect of increasing the length of each protocol substage\n",
    "\n",
    "total_duration = [30, 60, 120, 600, 6000]\n",
    "work_cost = [154, 89.6, 64.3, 51.8, 51.5]\n",
    "error_3std = [1.59, 1.01, 0.899, 0.792, 0.780]\n",
    "\n",
    "\n",
    "fig, ax = plt.subplots(1, 1, figsize = [5, 5])\n",
    "ax.errorbar(x = total_duration, y = work_cost, yerr=error_3std, fmt=\"o\")\n",
    "ax.set_xlabel(r\"duration ($t_c$)\")\n",
    "ax.set_ylabel(r\"work cost ($k_BT$)\")\n",
    "ax.set_xscale('log')\n",
    "ax.set_yticks([40, 60, 80, 100, 120, 140, 160])\n",
    "ax.set_xticks([1e1, 1e2, 1e3, 1e4])\n",
    "# plt.show(figsize = (5, 5))\n"
   ]
  },
  {
   "cell_type": "markdown",
   "id": "4",
   "metadata": {},
   "source": [
    "# dt analysis of Erasure-Flip Protocol"
   ]
  },
  {
   "cell_type": "code",
   "execution_count": null,
   "id": "5",
   "metadata": {},
   "outputs": [],
   "source": [
    "dt_array = [100, 500, 1000, 2000, 5000]\n",
    "work_done_array = [17.8, 15.5, 15.3, 14.9, 14.9]\n",
    "error_array = [0.963, 0.957, 1.01, 0.95, 0.994]\n",
    "fig, ax = plt.subplots(1, 1, figsize = [5, 5])\n",
    "ax.errorbar(dt_array, y = work_done_array, yerr = error_array, fmt = \"o\")\n",
    "ax.set_xlabel(\"1/dt\")\n",
    "ax.set_xscale(\"log\")\n",
    "ax.set_ylabel(r\"work ($k_BT$)\")"
   ]
  },
  {
   "cell_type": "markdown",
   "id": "6",
   "metadata": {},
   "source": []
  },
  {
   "cell_type": "markdown",
   "id": "7",
   "metadata": {},
   "source": []
  }
 ],
 "metadata": {
  "kernelspec": {
   "display_name": "myenv",
   "language": "python",
   "name": "python3"
  },
  "language_info": {
   "codemirror_mode": {
    "name": "ipython",
    "version": 3
   },
   "file_extension": ".py",
   "mimetype": "text/x-python",
   "name": "python",
   "nbconvert_exporter": "python",
   "pygments_lexer": "ipython3",
   "version": "3.13.2"
  }
 },
 "nbformat": 4,
 "nbformat_minor": 5
}
