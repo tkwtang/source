{
 "cells": [
  {
   "cell_type": "code",
   "execution_count": null,
   "id": "0",
   "metadata": {},
   "outputs": [],
   "source": [
    "from scipy import optimize\n",
    "import numpy as np\n",
    "import matplotlib.pyplot as plt\n",
    "from matplotlib.cm import ScalarMappable\n",
    "from matplotlib.animation import FuncAnimation, PillowWriter\n",
    "from pot_analysis_helper_functions import *"
   ]
  },
  {
   "cell_type": "markdown",
   "id": "1",
   "metadata": {},
   "source": [
    "# Example functions"
   ]
  },
  {
   "cell_type": "code",
   "execution_count": null,
   "id": "2",
   "metadata": {},
   "outputs": [],
   "source": [
    "four_well_circuit_params = {\n",
    "    \"beta\": 2.3, \"d_beta\": 0,\n",
    "    \"phi_1x\": 0,   \"phi_2x\": 0, \"phi_1xdc\": 0, \"phi_2xdc\": 0, \"M_12\": 0\n",
    "}\n",
    "\n",
    "critical_point_circuit_params = {\n",
    "    \"beta\": 2.3, \"d_beta\": 0,\n",
    "    \"phi_1x\": 0.61,   \"phi_2x\": 0.1, \"phi_1xdc\": 0, \"phi_2xdc\": 1.79, \"M_12\": 0.06\n",
    "}\n",
    "\n",
    "circuit_params = critical_point_circuit_params"
   ]
  },
  {
   "cell_type": "code",
   "execution_count": null,
   "id": "3",
   "metadata": {},
   "outputs": [],
   "source": [
    "critical_dict = find_all_critical_points_for_all_potential(circuit_params, guess = [(-2, -2), (-2, 2), (2, -2), (2, 2), (-2,0), (0, -2), (2, 0), (0, 2)])\n",
    "critical_points = list(critical_dict.values())[0]\n",
    "critical_potential = [pot_function(circuit_params)([x, y]) for x, y in critical_points]\n",
    "critical_points_color = [\"green\", \"red\", \"yellow\", \"orange\", \"white\", \"white\", \"white\", \"white\"]\n",
    "# critical_points_color[2] = \"pink\"\n",
    "\n",
    "solution_dict = find_all_minimum_points_for_all_potential(circuit_params, guess = [(-2, -2), (-2, 2), (2, -2), (2, 2)])\n",
    "solution_points = list(solution_dict.values())[0]\n",
    "solution_points_color = [\"green\", \"red\", \"yellow\", \"orange\"]"
   ]
  },
  {
   "cell_type": "code",
   "execution_count": null,
   "id": "4",
   "metadata": {},
   "outputs": [],
   "source": []
  },
  {
   "cell_type": "markdown",
   "id": "5",
   "metadata": {},
   "source": [
    "# cutline_funciton"
   ]
  },
  {
   "cell_type": "code",
   "execution_count": null,
   "id": "6",
   "metadata": {},
   "outputs": [],
   "source": []
  },
  {
   "cell_type": "code",
   "execution_count": null,
   "id": "7",
   "metadata": {},
   "outputs": [],
   "source": []
  },
  {
   "cell_type": "code",
   "execution_count": null,
   "id": "8",
   "metadata": {},
   "outputs": [],
   "source": [
    "\n",
    "def easy_plot_function(circuit_params, cutline_data_array):\n",
    "    \"\"\"\n",
    "    This function is exactly the same as the following example: \n",
    "        2024/10/1 Example: plot cutlines on contour plot and show the potential of the cutline\n",
    "    \"\"\"\n",
    "    fig, ax = plt.subplots(1,2, figsize = [8, 4])\n",
    "    ax[0].set_xlim(-3, 3)\n",
    "    ax[0].set_ylim(-3, 3)\n",
    "    ax[0].set_aspect(1)\n",
    "\n",
    "    # get the XYU\n",
    "    resolution = 50\n",
    "    X, Y, U = get_XYU(circuit_params, domain=[-4, 4], resolution=50)\n",
    "\n",
    "\n",
    "    # plot contour_plot\n",
    "    contour_plot = ax[0].contourf(X, Y, U, 40, vmin = 1, vmax = 6.5)\n",
    "\n",
    "\n",
    "    # plot the critical points\n",
    "    critical_dict = find_all_critical_points_for_all_potential(circuit_params, guess = [(-2, -2), (-2, 2), (2, -2), (2, 2), (-2,0), (0, -2), (2, 0), (0, 2)])\n",
    "    critical_points = list(critical_dict.values())[0]\n",
    "    critical_potential = [pot_function(circuit_params)([x, y]) for x, y in critical_points]\n",
    "    critical_points_color = [\"green\", \"red\", \"yellow\", \"orange\", \"white\", \"white\", \"white\", \"white\"]\n",
    "\n",
    "    for (x, y), color in zip(critical_points, critical_points_color):\n",
    "        ax[0].plot(x, y, marker = \"d\", markersize = 8, color = color)\n",
    "        print(f\"{color} = ({x:.3g}, {y:.3g})\")\n",
    "    # fig.colorbar(ScalarMappable(norm = contour_plot_2.norm, cmap=contour_plot_2.cmap))\n",
    "\n",
    "\n",
    "    # plot cutlines\n",
    "    ax_setting = {\"ax\": ax[1], \"h_axis_label\": r\"$\\varphi_2$\", \"v_axis_label\": r\"U\", \"X\": X, \"Y\": Y, \"U\": U}\n",
    "\n",
    "    for cutline_setting in cutline_data_array:\n",
    "        # plot cutline on the right graph\n",
    "        plotCutline(cutline_setting, ax_setting)\n",
    "\n",
    "        # plot cutline on the contour graph\n",
    "        if cutline_setting['direction'] == \"v\":\n",
    "            ymin, ymax = ax[0].set_ylim()\n",
    "            ax[0].vlines(cutline_setting['value'], ymin, ymax, color = cutline_setting['color'])\n",
    "        else:\n",
    "            xmin, xmax = ax[0].set_ylim()\n",
    "            ax[0].hlines(cutline_setting['value'], xmin, xmax, color = cutline_setting['color'])\n",
    "\n",
    "    # plot the cutline on the contour graph\n"
   ]
  },
  {
   "cell_type": "code",
   "execution_count": null,
   "id": "9",
   "metadata": {},
   "outputs": [],
   "source": [
    "\n",
    "cutline_data_array = [\n",
    "        {\"value\": 2.3, \"direction\": \"v\", \"color\": \"red\"},\n",
    "        {\"value\": -1.75, \"direction\": \"v\", \"color\": \"green\"}\n",
    "    ]\n",
    "\n",
    "circuit_params = {\n",
    "    \"beta\": 2.1, \"d_beta\": 0,\n",
    "    \"phi_1x\": 0.61,   \"phi_2x\": 0.1, \"phi_1xdc\": 0, \"phi_2xdc\": 1.79, \"M_12\": 0.06\n",
    "}\n",
    "easy_plot_function(circuit_params = circuit_params, cutline_data_array = cutline_data_array)"
   ]
  },
  {
   "cell_type": "code",
   "execution_count": null,
   "id": "10",
   "metadata": {},
   "outputs": [],
   "source": []
  },
  {
   "cell_type": "code",
   "execution_count": null,
   "id": "11",
   "metadata": {},
   "outputs": [],
   "source": [
    "delta_U00 = critical_potential[1] - critical_potential[0]\n",
    "delta_U11 = critical_potential[6] - critical_potential[3]\n",
    "delta_U10 = critical_potential[6] - critical_potential[2]\n",
    "delta_U01 = critical_potential[5] - critical_potential[4]"
   ]
  },
  {
   "cell_type": "code",
   "execution_count": null,
   "id": "12",
   "metadata": {},
   "outputs": [],
   "source": [
    "print(delta_U11, delta_U10, delta_U01)"
   ]
  },
  {
   "cell_type": "code",
   "execution_count": null,
   "id": "13",
   "metadata": {},
   "outputs": [],
   "source": []
  },
  {
   "cell_type": "markdown",
   "id": "14",
   "metadata": {},
   "source": [
    "# sweeping parameter and show critical point"
   ]
  },
  {
   "cell_type": "code",
   "execution_count": null,
   "id": "15",
   "metadata": {
    "tags": []
   },
   "outputs": [],
   "source": [
    "def animate_sim_flux_qubit_with_cutline_and_projection(sweep_setting, param_sweeping_result=None, interval = 200, showPoint=None, **pot_kwargs):\n",
    "    \"\"\"\n",
    "    This is very similar to the function animate_sim_flux_qubit_with_cutline, but it can project particles onto the cutlines\n",
    "    \"\"\"\n",
    "    sweep_parameter, sweep_range = sweep_setting[\"parameter\"], sweep_setting[\"range\"]\n",
    "    \n",
    "    opacity = [0] * 8\n",
    "    \n",
    "    if showPoint != \"all\":\n",
    "        for _i in showPoint:\n",
    "            opacity[_i] = 1\n",
    "    else:\n",
    "        opacity = [1] * 8\n",
    "    \n",
    "    \n",
    "    fig, ax = plt.subplots(1, 2, figsize=[10, 5])\n",
    "    ax_flatten = ax.flatten()\n",
    "    X, Y, U = param_sweeping_result[0]['contour_data'].values()\n",
    "    ax[0].contourf(X, Y, U, 20)\n",
    "    ax[0].set_title(f\"{sweep_parameter} = {sweep_range[0]}\")\n",
    "    param_sweep_coord = param_sweeping_result[0]['coord']\n",
    "    \n",
    "    critical_points_color = [\"green\", \"red\", \"yellow\", \"orange\", \"white\", \"white\", \"white\", \"white\"]\n",
    "\n",
    "    markers_array = []\n",
    "    for _i, [(x, y), color] in enumerate(zip(param_sweep_coord, critical_points_color)):\n",
    "        marker = ax[0].plot(x, y, marker = \"d\", markersize = 8, color = color, alpha = opacity[_i])\n",
    "        markers_array.append(marker[0])\n",
    "  \n",
    "    def animate(i):\n",
    "        X, Y, U = param_sweeping_result[i]['contour_data'].values()\n",
    "        ax[0].contourf(X, Y, U, 20)\n",
    "        ax[0].set_title(f\"{sweep_parameter} = {sweep_range[i]:.3g}\")\n",
    "        param_sweep_coord = param_sweeping_result[i]['coord']\n",
    "        for marker, (x,y) in zip(markers_array, param_sweep_coord):\n",
    "            marker.set_xdata([x])\n",
    "            marker.set_ydata([y])\n",
    "            \n",
    "        \n",
    "    ani = FuncAnimation(fig, animate, interval=interval, frames=len(sweep_range), blit=False)\n",
    "    return ani, fig, ax"
   ]
  },
  {
   "cell_type": "code",
   "execution_count": null,
   "id": "16",
   "metadata": {},
   "outputs": [],
   "source": [
    "circuit_params"
   ]
  },
  {
   "cell_type": "code",
   "execution_count": null,
   "id": "17",
   "metadata": {},
   "outputs": [],
   "source": [
    "sweep_setting = {\"parameter\": \"beta\", \"range\": np.linspace(2, 3, 10)}\n",
    "param_sweeping_result = barrier_height_searching(critical_point_circuit_params, sweep_setting=sweep_setting)\n",
    "param_sweep_coord = np.array([item['coord'] for item in param_sweeping_result])"
   ]
  },
  {
   "cell_type": "code",
   "execution_count": null,
   "id": "18",
   "metadata": {},
   "outputs": [],
   "source": [
    "plt.scatter(sweep_setting['range'], param_sweep_coord[:, 0, 0])"
   ]
  },
  {
   "cell_type": "code",
   "execution_count": null,
   "id": "19",
   "metadata": {},
   "outputs": [],
   "source": [
    "sweep_setting"
   ]
  },
  {
   "cell_type": "code",
   "execution_count": null,
   "id": "20",
   "metadata": {},
   "outputs": [],
   "source": [
    "from IPython.display import HTML\n",
    "from IPython import display\n",
    "\n",
    "ani, _, _ = animate_sim_flux_qubit_with_cutline_and_projection(sweep_setting, param_sweeping_result, interval=500, showPoint=\"all\")\n",
    "\n",
    "\n",
    "\n",
    "video = ani.to_html5_video()\n",
    "html = display.HTML(video)\n",
    "display.display(html)\n",
    "plt.close()\n"
   ]
  },
  {
   "cell_type": "code",
   "execution_count": null,
   "id": "21",
   "metadata": {},
   "outputs": [],
   "source": []
  },
  {
   "cell_type": "code",
   "execution_count": null,
   "id": "22",
   "metadata": {},
   "outputs": [],
   "source": []
  }
 ],
 "metadata": {
  "kernelspec": {
   "display_name": "Python 3 (ipykernel)",
   "language": "python",
   "name": "python3"
  },
  "language_info": {
   "codemirror_mode": {
    "name": "ipython",
    "version": 3
   },
   "file_extension": ".py",
   "mimetype": "text/x-python",
   "name": "python",
   "nbconvert_exporter": "python",
   "pygments_lexer": "ipython3",
   "version": "3.10.9"
  }
 },
 "nbformat": 4,
 "nbformat_minor": 5
}
