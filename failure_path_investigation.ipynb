{
 "cells": [
  {
   "cell_type": "code",
   "execution_count": null,
   "id": "0",
   "metadata": {},
   "outputs": [],
   "source": [
    "import numpy as np\n",
    "import importlib, os, datetime\n",
    "from sus.protocol_designer import System, Protocol, Potential, Compound_Protocol\n",
    "from sus.protocol_designer.protocol import sequential_protocol\n",
    "from IPython import display\n",
    "from IPython.display import HTML\n",
    "from quick_sim import setup_sim\n",
    "\n",
    "import pandas as pd\n",
    "from edward_tools.coupled_fq_potential import coupled_flux_qubit_non_linear_approx_pot, coupled_flux_qubit_non_linear_approx_force\n",
    "\n",
    "import edward_tools.fq_runner as fq_runner\n",
    "from edward_tools.visualization import animate_sim_flux_qubit\n",
    "from edward_tools.initial_state_sampling import extra_constraint_00_and_11_only\n",
    "from PARAMETER_INPUT import *\n",
    "from PARAMETER_INPUT import _lambda, _theta, _eta\n",
    "import importlib\n",
    "\n",
    "import kyle_tools as kt\n",
    "import matplotlib.pyplot as plt\n",
    "\n",
    "\n",
    "from edward_tools import coupled_fq_protocol_library, cfq_runner\n",
    "from edward_tools import coupled_fq_protocol_library\n",
    "\n",
    "import edward_tools.cfq_batch_sweep as cfq_batch_sweep\n",
    "import edward_tools.Analysis_tool.general_analysis_tools as general_analysis_tool\n",
    "# from edward_tools.Analysis_tool.general_analysis_tools import show_phi_dc_with_time\n",
    "import edward_tools.Analysis_tool.minimum_value_of_potential as minimum_value_of_potential\n",
    "from edward_tools.couple_flux_qubit_metrics import fidelityEvaluation\n",
    "\n",
    "import matplotlib.animation as animation\n",
    "from matplotlib.animation import FuncAnimation, PillowWriter\n",
    "from edward_tools import visualization\n",
    "from IPython.display import HTML, Image\n",
    "from test_NAND_platform_helper_function import *\n",
    "\n",
    "coupled_fq_protocol_library = importlib.reload(coupled_fq_protocol_library)\n",
    "create_system = coupled_fq_protocol_library.create_system\n",
    "get_potential_shot_at_different_t = coupled_fq_protocol_library.get_potential_shot_at_different_t\n",
    "get_potential_shot_at_different_t_1D = coupled_fq_protocol_library.get_potential_shot_at_different_t_1D\n",
    "create_simple_protocol_parameter_dict = coupled_fq_protocol_library.create_simple_protocol_parameter_dict\n",
    "coupled_fq_runner = importlib.reload(cfq_runner)\n",
    "coupled_fq_protocol_library = importlib.reload(coupled_fq_protocol_library)\n",
    "create_system = coupled_fq_protocol_library.create_system\n",
    "get_potential_along_a_1D_cutline = coupled_fq_protocol_library.get_potential_along_a_1D_cutline\n",
    "plotCutlines = coupled_fq_protocol_library.plotCutlines"
   ]
  },
  {
   "cell_type": "code",
   "execution_count": null,
   "id": "1",
   "metadata": {},
   "outputs": [],
   "source": []
  },
  {
   "cell_type": "code",
   "execution_count": null,
   "id": "2",
   "metadata": {},
   "outputs": [],
   "source": []
  },
  {
   "cell_type": "code",
   "execution_count": null,
   "id": "3",
   "metadata": {},
   "outputs": [],
   "source": []
  },
  {
   "cell_type": "markdown",
   "id": "4",
   "metadata": {},
   "source": [
    "# import data"
   ]
  },
  {
   "cell_type": "code",
   "execution_count": null,
   "id": "5",
   "metadata": {},
   "outputs": [],
   "source": [
    "experiment_idenitfication = f\"Experiment 2 (2025-07-01)\"\n",
    "experiment_idenitfication = f\"Experiment 1 (2025-07-15)\"\n",
    "\n",
    "experiment_idenitfication = f\"Experiment 2 (2025-09-02)\"\n",
    "experiment_idenitfication = f\"Experiment 2 (1990-09-09)\"\n",
    "experiment_idenitfication = f\"Experiment 1 (2025-09-11)\"\n",
    "df = loadDataFrame()\n",
    "# target = getDataByID(df, \"4a95ff94e9632672bb8f2829d4d4d8a3c71804c7a2c076753e3a7d9d0535df67\")\n",
    "target = getDataByComment(df, experiment_idenitfication)\n",
    "# target = getDataByID(df, \"4a95ff94e9632672bb8f2829d4d4d8a3c71804c7a2c076753e3a7d9d0535df67\")\n"
   ]
  },
  {
   "cell_type": "code",
   "execution_count": null,
   "id": "6",
   "metadata": {},
   "outputs": [],
   "source": [
    "len(target)"
   ]
  },
  {
   "cell_type": "code",
   "execution_count": null,
   "id": "7",
   "metadata": {},
   "outputs": [],
   "source": [
    "failure_simulation_id = target[target['number_of_failure_particles'] > 0]['simulation_id'].values\n"
   ]
  },
  {
   "cell_type": "code",
   "execution_count": null,
   "id": "8",
   "metadata": {},
   "outputs": [],
   "source": [
    "sim_id_array = target['simulation_id'].values\n",
    "failure_particle_array = []\n",
    "for sim_id in failure_simulation_id:\n",
    "    print(sim_id)\n",
    "    if os.path.exists(f\"coupled_flux_qubit_protocol/coupled_flux_qubit_data_gallery/{sim_id}_failure_path.npy\"):\n",
    "        failure_particle_array.append(np.load(f\"coupled_flux_qubit_protocol/coupled_flux_qubit_data_gallery/{sim_id}_failure_path.npy\"))"
   ]
  },
  {
   "cell_type": "code",
   "execution_count": null,
   "id": "9",
   "metadata": {},
   "outputs": [],
   "source": []
  },
  {
   "cell_type": "code",
   "execution_count": null,
   "id": "10",
   "metadata": {},
   "outputs": [],
   "source": [
    "failure_particle_array"
   ]
  },
  {
   "cell_type": "code",
   "execution_count": null,
   "id": "11",
   "metadata": {},
   "outputs": [],
   "source": [
    "protocol_list = target.tail(1)['protocol_list_item'].values[0]\n",
    "initial_parameter_dict = target.tail(1)['initial_parameter_dict'].values[0]\n",
    "params = target.tail(1)['params'].values[0]\n",
    "params['sim_params'] = np.array(params['sim_params'])\n",
    "params['mass'] = np.array(params['mass'])\n",
    "\n",
    "\n",
    "failure_particle_array = np.vstack(failure_particle_array)\n",
    "init_state = failure_particle_array[:, 0, ...]\n",
    "\n"
   ]
  },
  {
   "cell_type": "code",
   "execution_count": null,
   "id": "12",
   "metadata": {},
   "outputs": [],
   "source": [
    "\n",
    "# failure_path_file_path = f\"../coupled_flux_qubit_protocol/coupled_flux_qubit_data_gallery/{experiment_comment.replace(\"/\", \"-\")}_failure_path.npy\"\n",
    "# failure_particles = simResult['cfqr'].get_failure_particles(mapping_dict)\n",
    "\n",
    "# if not os.path.isfile(failure_path_file_path):\n",
    "#     np.save(failure_path_file_path, np.array([]))\n",
    "\n",
    "\n",
    "# failure_particles_array = np.load(failure_path_file_path)\n",
    "\n",
    "\n",
    "# if len(failure_particles) > 0 and len(failure_particles_array) == 0:\n",
    "#     np.save(failure_path_file_path, failure_particles)\n",
    "\n",
    "# if len(failure_particles) > 0 and len(failure_particles_array) > 0:\n",
    "#     failure_particles_new_array = np.vstack([failure_particles_array, failure_particles])\n",
    "#     np.save(failure_path_file_path, failure_particles_new_array)\n"
   ]
  },
  {
   "cell_type": "code",
   "execution_count": null,
   "id": "13",
   "metadata": {},
   "outputs": [],
   "source": [
    "\"\"\"\n",
    "# step 1: Define potential\n",
    "\"\"\"\n",
    "coupled_fq_default_param = [1, 1, 0, 0, 0, 0, 0, 0, 0, 0, 0, 0, 0, 1]\n",
    "[phi_1_bound, phi_2_bound, phi_1dc_bound, phi_2dc_bound] = np.array([4, 4, 4, 4])/time_scale_factor\n",
    "contour_range = [300, 2000]\n",
    "    \n",
    "coupled_fq_domain = [[-phi_1_bound, -phi_2_bound, -phi_1dc_bound, -phi_2dc_bound], \\\n",
    "                     [phi_1_bound, phi_2_bound, phi_1dc_bound, phi_2dc_bound]]\n",
    "\n",
    "coupled_fq_pot = Potential(coupled_flux_qubit_non_linear_approx_pot, coupled_flux_qubit_non_linear_approx_force, 14, 4,\\\n",
    "                           default_params = initial_parameter_dict,  relevant_domain = coupled_fq_domain)"
   ]
  },
  {
   "cell_type": "code",
   "execution_count": null,
   "id": "14",
   "metadata": {},
   "outputs": [],
   "source": []
  },
  {
   "cell_type": "code",
   "execution_count": null,
   "id": "15",
   "metadata": {},
   "outputs": [],
   "source": [
    "\"\"\"\n",
    "# step 3: create the relevant storage protocol and computation protocol\n",
    "\"\"\"\n",
    "def modifiedFunction(t, result):\n",
    "    return result\n",
    "\n",
    "\n",
    "computation_protocol_parameter_dict = coupled_fq_protocol_library.customizedProtocol(initial_parameter_dict, protocol_list)\n",
    "storage_protocol, comp_protocol = create_system(computation_protocol_parameter_dict, modifiedFunction = None)\n",
    "\n",
    "cfqr = cfq_runner.coupledFluxQubitRunner(potential = coupled_fq_pot, params = params, storage_protocol= storage_protocol,  computation_protocol= comp_protocol,  protocol_list = protocol_list, has_velocity=True)\n",
    "\n",
    "protocol_time_array, protocol_time_index_array, protocol_all_time_array, protocol_time_all_index_array = cfqr.createProtocolTimeArray(protocol_list, params)\n",
    "cfqr.initialize_sim()\n",
    "# cfqr.set_sim_attributes(init_state=init_state_saved)\n",
    "cfqr.set_sim_attributes(init_state=init_state)\n",
    "print(f\"mean KE = {np.mean(cfqr.system.get_kinetic_energy(init_state))}\")"
   ]
  },
  {
   "cell_type": "code",
   "execution_count": null,
   "id": "16",
   "metadata": {},
   "outputs": [],
   "source": []
  },
  {
   "cell_type": "markdown",
   "id": "17",
   "metadata": {},
   "source": [
    "# Show animations"
   ]
  },
  {
   "cell_type": "code",
   "execution_count": null,
   "id": "18",
   "metadata": {},
   "outputs": [],
   "source": [
    "contourData = {\n",
    "    \"manual_domain\": [np.array([-4, -4]), np.array([4, 4])],\n",
    "    \"contour_range\": [600, 2000], \"domain_limit\": [-3, 3],\n",
    "    \"title\": None\n",
    "}\n",
    "\n",
    "cutlineInformation = {\n",
    "    \"cutlineList\": [(-1.3, \"h\",\"red\"), (1.3, \"h\",\"blue\")],\n",
    "    \"cutlineGeneratingFunction\": None,\n",
    "    \"cutlineXLimit\": [-4,4],\n",
    "    \"cutlineYLimit\": [[600, 1200], [750, 980]]\n",
    "}\n",
    "\n",
    "particleInformation = {\n",
    "    \"showParticles\": True,\n",
    "    \"project_axis\": \"phi_1\",\n",
    "    \"particle_opacity\": 0.5,\n",
    "    \"pColor\": {\"00\": \"#061DF7\", \"01\": \"red\", \"10\": \"#3FC7F2\", \"11\": \"#F187F4\"}\n",
    "}\n",
    "\n",
    "graph_setting = {\n",
    "        0.1: {\"vmin\": 1000, \"vmax\": 2000, \"ymin\": 1000, \"ymax\": 3000},\n",
    "        0.5: {\"vmin\": 100, \"vmax\": 400, \"ymin\": 100, \"ymax\": 400},\n",
    "        1: {\"vmin\": 100, \"vmax\": 400, \"ymin\": 100, \"ymax\": 400},\n",
    "        2: {\"vmin\": 50, \"vmax\": 250, \"ymin\": 50, \"ymax\": 250},    \n",
    "        4.2: {\"vmin\": 600, \"vmax\": 2000, \"ymin\": 600, \"ymax\": 3000},\n",
    "        5: {\"vmin\": 0, \"vmax\": 100, \"ymin\": 0, \"ymax\": 150},\n",
    "        7: {\"vmin\": 0, \"vmax\": 100, \"ymin\": 0, \"ymax\": 150},\n",
    "        20: {\"vmin\": 0, \"vmax\": 20, \"ymin\": 0, \"ymax\": 20},\n",
    "        100: {\"vmin\": 0, \"vmax\": 20, \"ymin\": 0, \"ymax\": 20},\n",
    "        1000: {\"vmin\": 0, \"vmax\": 1, \"ymin\": 0, \"ymax\": 1},\n",
    "    }\n",
    "\n",
    "pColor = {\"00\": \"#061DF7\", \"01\": \"#FCEF51\", \"10\": \"#3FC7F2\", \"11\": \"#F187F4\"}"
   ]
  },
  {
   "cell_type": "code",
   "execution_count": null,
   "id": "19",
   "metadata": {},
   "outputs": [],
   "source": [
    "time_index_start = 0\n",
    "time_index_end = -1\n",
    "frame_skip = 500\n",
    "frame_skip = 50\n",
    "all_state = failure_particle_array[:, time_index_start:time_index_end, ...]\n",
    "reducedTimeArray = cfqr.protocol_all_time_array[slice(*params[\"as_step\"])]\n",
    "targetTimeArray = reducedTimeArray[time_index_start:time_index_end]\n",
    "\n",
    "animation_play = True\n",
    "# animation_play = False\n",
    "if animation_play:    \n",
    "    animation_time_array = targetTimeArray[::frame_skip]\n",
    "    animation_states = all_state[:, ::frame_skip, ...]\n",
    "    print(\"geenerated at \", datetime.datetime.now())\n",
    "\n",
    "    ani, fig, ax = coupled_fq_protocol_library.animate_sim_flux_qubit_with_cutline_and_projection(cfqr, time_array=animation_time_array, state_array = animation_states, plot_axis= [0,1], vmin=graph_setting[T]['vmin'], vmax=graph_setting[T]['vmax'], ax0_title = f\"T = {T}K, L = {L_1 * 1e12}pH\", params=params, \n",
    "cutlineGeneratingFunction = False, cutlineInformation = cutlineInformation, particleInformation = particleInformation, contourData = contourData, pColor=pColor, contour_range = [0, 500], cutlineXLimit=[-4, 4], cutlineYLimit=[0, 500])\n",
    "    fig.tight_layout()\n",
    "    writer = animation.PillowWriter(fps=10, metadata=dict(artist='Me'), bitrate=1800)\n",
    "    ani.save('scatter.gif', writer=writer)\n",
    "    plt.close()\n",
    "    \n"
   ]
  },
  {
   "cell_type": "code",
   "execution_count": null,
   "id": "20",
   "metadata": {},
   "outputs": [],
   "source": [
    "Image(filename=\"scatter.gif\")"
   ]
  },
  {
   "cell_type": "code",
   "execution_count": null,
   "id": "21",
   "metadata": {},
   "outputs": [],
   "source": [
    "plt.plot(all_state[0, ..., 2, 0])\n",
    "plt.hlines(2.04, xmin = 0, xmax = 25000)\n"
   ]
  },
  {
   "cell_type": "code",
   "execution_count": null,
   "id": "22",
   "metadata": {},
   "outputs": [],
   "source": []
  },
  {
   "cell_type": "code",
   "execution_count": null,
   "id": "23",
   "metadata": {},
   "outputs": [],
   "source": []
  },
  {
   "cell_type": "markdown",
   "id": "24",
   "metadata": {},
   "source": [
    "# Show animations in different spaces"
   ]
  },
  {
   "cell_type": "code",
   "execution_count": null,
   "id": "25",
   "metadata": {},
   "outputs": [],
   "source": [
    "\n",
    "# %%capture\n",
    "\n",
    "# import random\n",
    "\n",
    "# # initial_state_array = [f\"saved_init_state/init_state_database/T=4.2K, N = 1000, beta = 1.35\"]\n",
    "\n",
    "# initial_state_array = [f\"saved_init_state/init_state_database_2/T_4.2K_N_1000_beta_1.35\"]\n",
    "# initial_state_folder = initial_state_array[0]\n",
    "# initial_state_folder_path = os.listdir(initial_state_folder)\n",
    "# initial_state_KE = []\n",
    "# # initial_state_chosen = os.path.join(initial_state_folder, random.choice(initial_state_folder_path))\n",
    "# for init_state_path in initial_state_folder_path:\n",
    "#     initial_state_chosen = os.path.join(initial_state_folder, init_state_path)\n",
    "#     _init_state = np.load(initial_state_chosen)\n",
    "\n",
    "#     cfqr = cfq_runner.coupledFluxQubitRunner(potential = coupled_fq_pot, params = params, storage_protocol= storage_protocol,  computation_protocol= comp_protocol,  protocol_list = protocol_list, has_velocity=True)\n",
    "\n",
    "#     protocol_time_array, protocol_time_index_array, protocol_all_time_array, protocol_time_all_index_array = cfqr.createProtocolTimeArray(protocol_list, params)\n",
    "#     cfqr.initialize_sim()\n",
    "\n",
    "#     cfqr.set_sim_attributes(init_state=_init_state)\n",
    "#     initial_state_KE.append(np.mean(cfqr.system.get_kinetic_energy(_init_state)))\n"
   ]
  },
  {
   "cell_type": "code",
   "execution_count": null,
   "id": "26",
   "metadata": {},
   "outputs": [],
   "source": [
    "# print(len(initial_state_folder_path))\n",
    "# plt.hist(initial_state_KE, bins = 10)"
   ]
  },
  {
   "cell_type": "code",
   "execution_count": null,
   "id": "27",
   "metadata": {},
   "outputs": [],
   "source": []
  },
  {
   "cell_type": "code",
   "execution_count": null,
   "id": "28",
   "metadata": {},
   "outputs": [],
   "source": [
    "all_states = failure_particle_array\n",
    "frame_skip = 10\n",
    "dt = 1/1000\n",
    "targetTimeArray = np.arange(failure_particle_array.shape[1]) * dt * 10\n",
    "animation_time_array = targetTimeArray[::frame_skip]\n",
    "animation_states = all_states[:, ::frame_skip, ...]\n",
    "\n",
    "fig, ax = plt.subplots(2, 5, figsize=[20, 7])\n",
    "plot_label_1 = [(\"phi_1\", \"phi_2\"), (\"phi_1dc\", \"phi_2dc\"), (\"phi_1\", \"phi_1dc\"), (\"phi_1\", \"phi_2dc\"), (\"phi_2\", \"phi_1dc\"), (\"phi_2\", \"phi_2dc\")]\n",
    "plot_label_2 = [\"phi_1\", \"phi_2\", \"phi_1dc\", \"phi_2dc\"]\n",
    "pColor = {\"00\": \"#061DF7\", \"01\": \"#FCEF51\", \"10\": \"#3FC7F2\", \"11\": \"#F187F4\"}\n",
    "\n",
    "particle_index = visualization.separate_by_state_2(initial_state[:, (0, 1), :])\n",
    "    \n",
    "ax_flatten = ax.flatten()\n",
    "ax_flatten_1 = [ax_flatten[i] for i in [0, 1, 2, 5, 6, 7]]\n",
    "ax_flatten_2 = [ax_flatten[i] for i in [3, 4, 8, 9]]\n",
    "phi_1_array = np.linspace(-4, 4, 1000)\n",
    "phi_2_array = np.linspace(-4, 4, 1000)\n",
    "phi_1dc_array = np.linspace(-4, 4, 1000)\n",
    "phi_2dc_array = np.linspace(-4, 4, 1000)\n",
    "\n",
    "for _ax, (xlabel, ylabel) in zip(ax_flatten_1, plot_label_1):\n",
    "    _ax.set_xlim(-4, 4)\n",
    "    _ax.set_ylim(-4, 4)\n",
    "    _ax.set_xlabel(xlabel)\n",
    "    _ax.set_ylabel(ylabel)    \n",
    "    _ax.set_aspect(1)\n",
    "\n",
    "for _ax, xlabel in zip(ax_flatten_2, plot_label_2):\n",
    "    _ax.set_xlim(-4, 4)\n",
    "    _ax.set_ylim(500, 1200)\n",
    "    _ax.set_xlabel(xlabel)\n",
    "    _ax.set_ylabel(\"PE\")    \n",
    "    # _ax.set_aspect(1)\n",
    "\n",
    "\n",
    "plot_axis_1 = [[0, 1], [2, 3], [0, 2], [0, 3], [1, 2], [1, 3]]\n",
    "plot_axis_2 = [0, 1, 2, 3]\n",
    "\n",
    "scatter_array_1 = []\n",
    "scatter_array_2 = []\n",
    "potential_min_plot_array = {}\n",
    "potential_max_plot_array = {}\n",
    "\n",
    "potential_min_2_plot_array = {}\n",
    "potential_max_2_plot_array = {}\n",
    "\n",
    "potential_min_1dc_plot_array = {}\n",
    "potential_max_1dc_plot_array = {}\n",
    "\n",
    "for key, index in particle_index.items():\n",
    "# for key, index in [(\"01\", particle_index[\"11\"])]:\n",
    "    for _i, (_x, _y) in enumerate(plot_axis_1):\n",
    "        _scatter = ax_flatten_1[_i].scatter(all_states[index, 0, _x, 0], all_states[index, 0, _y, 0], c = pColor[key])\n",
    "        scatter_array_1.append(_scatter)\n",
    "        \n",
    "def animate(i):\n",
    "    counter_1, counter_2 = 0, 0\n",
    "    _t = animation_time_array[i]\n",
    "\n",
    "    for key, index in particle_index.items():\n",
    "        for _i, (_x, _y) in enumerate(plot_axis_1):\n",
    "            scatter_array_1[counter_1].set_offsets(np.c_[animation_states[index, i, _x, 0], animation_states[index, i, _y, 0]])\n",
    "            counter_1 += 1\n",
    "\n",
    "ani = FuncAnimation(fig, animate, interval=100, frames=len(animation_time_array))\n",
    "writer = animation.PillowWriter(fps=30, metadata=dict(artist='Me'), bitrate=1800)\n",
    "ani.save('failure_scatter.gif', writer=writer)\n",
    "plt.close()"
   ]
  },
  {
   "cell_type": "code",
   "execution_count": null,
   "id": "29",
   "metadata": {},
   "outputs": [],
   "source": [
    "particle_index"
   ]
  },
  {
   "cell_type": "code",
   "execution_count": null,
   "id": "30",
   "metadata": {},
   "outputs": [],
   "source": [
    "Image(filename=\"failure_scatter.gif\")"
   ]
  },
  {
   "cell_type": "code",
   "execution_count": null,
   "id": "31",
   "metadata": {},
   "outputs": [],
   "source": []
  },
  {
   "cell_type": "code",
   "execution_count": null,
   "id": "32",
   "metadata": {},
   "outputs": [],
   "source": []
  },
  {
   "cell_type": "code",
   "execution_count": null,
   "id": "33",
   "metadata": {},
   "outputs": [],
   "source": []
  },
  {
   "cell_type": "code",
   "execution_count": null,
   "id": "34",
   "metadata": {},
   "outputs": [],
   "source": []
  },
  {
   "cell_type": "code",
   "execution_count": null,
   "id": "35",
   "metadata": {},
   "outputs": [],
   "source": []
  },
  {
   "cell_type": "markdown",
   "id": "36",
   "metadata": {
    "tags": []
   },
   "source": [
    "# parameters"
   ]
  },
  {
   "cell_type": "code",
   "execution_count": null,
   "id": "37",
   "metadata": {},
   "outputs": [],
   "source": [
    "PHI_0 = 2.067833848 * 1e-15\n",
    "k_B = 1.38e-23\n",
    "T = 0.5\n",
    "k_BT = k_B * T\n",
    "\n",
    "C_factor = 100\n",
    "L_factor = 0.35\n",
    "# L_factor = 1\n",
    "# I_m_factor = 50\n",
    "I_m_factor = 1\n",
    "I_p_1, I_p_2 = 2e-6 , 2e-6  # Amp\n",
    "I_m_1, I_m_2 = 7e-9 * I_m_factor, 7e-9 * I_m_factor                                # Amp\n",
    "R_1, R_2 = 371, 371                                # ohm\n",
    "C_1, C_2 = 4e-9 * C_factor, 4e-9 * C_factor                              # F\n",
    "L_1, L_2 = 1e-9 * L_factor, 1e-9 * L_factor                             # H \n",
    "\n",
    "m_c = C_1\n",
    "m_1 = C_1\n",
    "m_2 = C_2\n",
    "x_c = PHI_0 / (2 * np.pi)\n",
    "time_scale_factor = 1\n",
    "t_c = np.sqrt(L_1 * C_1)\n",
    "\n",
    "\n",
    "U0_1 = m_c * x_c**2 / t_c**2\n",
    "U0_2 = m_2 * x_c**2 / t_c**2\n",
    "kappa_1, kappa_2, kappa_3, kappa_4 = k_BT/U0_1, k_BT/U0_1, k_BT/U0_1, k_BT/U0_1\n",
    "\n",
    "lambda_1 = 2 * np.sqrt(L_1 * C_1) / (C_1 * R_1)\n",
    "theta_1  = 1\n",
    "eta_1    = np.sqrt(np.sqrt(L_1 * C_1)/ (R_1 * C_1)) * np.sqrt(2 * kappa_1 / 1**2)\n",
    "\n",
    "lambda_2 = 2 * np.sqrt(L_1 * C_1) / (C_2 * R_2)\n",
    "theta_2  = 1 / (C_2/C_1)\n",
    "eta_2    = np.sqrt(np.sqrt(L_1 * C_1)/ (R_1 * C_1)) * np.sqrt(2 * kappa_2 * (R_1 * C_1**2) / (R_2 * C_2**2))\n",
    "\n",
    "lambda_3 = 2 * np.sqrt(L_1 * C_1) / (C_1 * R_1)\n",
    "theta_3  = 4\n",
    "eta_3    = np.sqrt(np.sqrt(L_1 * C_1)/ (R_1 * C_1)) * np.sqrt(8 * kappa_3)\n",
    "\n",
    "lambda_4 = 2 * np.sqrt(L_1 * C_1) / (C_2 * R_2)\n",
    "theta_4  = 4 / (C_2/C_1)\n",
    "eta_4    = np.sqrt(np.sqrt(L_1 * C_1)/ (R_1 * C_1)) * np.sqrt(8 * kappa_4 * (R_1 * C_1**2) / (R_2 * C_2**2))\n",
    "\n",
    "gamma = 10\n",
    "\n",
    "\n",
    "beta_1 = 2 * np.pi * L_1 * I_p_1 / PHI_0; \n",
    "beta_2 = 2 * np.pi * L_2 * I_p_2 / PHI_0;\n",
    "\n",
    "d_beta_1 = 2 * np.pi * L_1 * I_m_1 / PHI_0; \n",
    "d_beta_2 = 2 * np.pi * L_2 * I_m_2 / PHI_0;\n",
    "\n",
    "\n",
    "_lambda = np.array([lambda_1, lambda_2, lambda_3, lambda_4])\n",
    "_theta  = np.array([theta_1, theta_2, theta_3, theta_4])\n",
    "_eta  =   np.array([eta_1, eta_2, eta_3, eta_4])"
   ]
  },
  {
   "cell_type": "code",
   "execution_count": null,
   "id": "38",
   "metadata": {},
   "outputs": [],
   "source": [
    "\"\"\"\n",
    "# step 0: modify parameters\n",
    "- All the parameters are stored in a separate file PARAMETER_INPUT\n",
    "- You can override some of the parameters here.\n",
    "\"\"\"\n",
    "params = {}\n",
    "params['N'] = 10\n",
    "params['dt'] = 1/100\n",
    "params['lambda'] = 1\n",
    "params['beta'] = 1\n",
    "params['sim_params'] = [_lambda, _theta, _eta]\n",
    "params['target_work'] = None\n",
    "params['comment'] = \"Experiment 3 (2024/2/29): test for offset energy\"\n",
    "\n",
    "protocol_key = ['U0_1', 'U0_2', 'gamma_1', 'gamma_2', 'beta_1', 'beta_2', 'd_beta_1', 'd_beta_2', \n",
    "                'phi_1_x', 'phi_2_x', 'phi_1_dcx', 'phi_2_dcx', 'M_12', 'x_c']\n"
   ]
  },
  {
   "cell_type": "code",
   "execution_count": null,
   "id": "39",
   "metadata": {},
   "outputs": [],
   "source": []
  },
  {
   "cell_type": "markdown",
   "id": "40",
   "metadata": {
    "tags": []
   },
   "source": [
    "# define potential"
   ]
  },
  {
   "cell_type": "code",
   "execution_count": null,
   "id": "41",
   "metadata": {},
   "outputs": [],
   "source": [
    "\"\"\"\n",
    "# step 1: Define potential\n",
    "\"\"\"\n",
    "coupled_fq_default_param = [1, 1, 0, 0, 0, 0, 0, 0, 0, 0, 0, 0, 0, x_c]\n",
    "[phi_1_bound, phi_2_bound, phi_1dc_bound, phi_2dc_bound] = np.array([4, 4, 4, 4])/time_scale_factor\n",
    "\n",
    "coupled_fq_domain = [[-phi_1_bound, -phi_2_bound, -phi_1dc_bound, -phi_2dc_bound], \\\n",
    "                     [phi_1_bound, phi_2_bound, phi_1dc_bound, phi_2dc_bound]]\n",
    "\n",
    "# coupled_fq_pot = Potential(coupled_flux_qubit_pot_with_offset_at_00_xy, coupled_flux_qubit_force, 14, 4,\\\n",
    "#                            default_params = coupled_fq_default_param,  relevant_domain = coupled_fq_domain)\n",
    "\n",
    "coupled_fq_pot = Potential(coupled_flux_qubit_non_linear_approx_pot, coupled_flux_qubit_non_linear_approx_force, 14, 4,\\\n",
    "                           default_params = coupled_fq_default_param,  relevant_domain = coupled_fq_domain)"
   ]
  },
  {
   "cell_type": "code",
   "execution_count": null,
   "id": "42",
   "metadata": {},
   "outputs": [],
   "source": [
    "\"\"\"\n",
    "# step 2: Define initial condition and protocol\n",
    "\"\"\"\n",
    "manual_domain=[np.array([-5, -5]), np.array([5, 5])]\n",
    "phi_1_dcx , phi_2_dcx = 0, 0\n",
    "phi_1_dc, phi_2_dc = phi_1_dcx, phi_2_dcx\n",
    "\n",
    "phi_1_x_off, phi_2_x_off = 0, 0\n",
    "phi_1_dcx_off, phi_2_dcx_off, M_12_off = 0, 0, 0\n",
    "\n",
    "if I_m_factor == 0:\n",
    "    phi_1_x_on = 0\n",
    "    phi_2_x_on = 0\n",
    "else:\n",
    "    phi_1_x_on = -0.008\n",
    "    phi_2_x_on = -0.008\n",
    "    # phi_1_x_on = -3\n",
    "    # phi_2_x_on = -3\n",
    "\n",
    "phi_1_x_on = 0\n",
    "phi_2_x_on = 0\n",
    "    \n",
    "phi_1_dcx_on = 3.0\n",
    "phi_2_dcx_on = 3.0\n",
    "M_12_on = -0.6\n",
    "    \n",
    "initial_parameter_dict = {\n",
    "        \"U0_1\": U0_1,     \"U0_2\": U0_2,     \"gamma_1\": gamma,  \"gamma_2\": gamma,\n",
    "        \"beta_1\": beta_1,   \"beta_2\": beta_2,   \"d_beta_1\": d_beta_1 ,   \"d_beta_2\": d_beta_2,\n",
    "        \"phi_1_x\": phi_1_x_on,  \"phi_2_x\": phi_2_x_on,  \"phi_1_dcx\": phi_1_dcx_off,  \"phi_2_dcx\": phi_1_dcx_off,\n",
    "        \"M_12\": M_12_off, 'x_c': x_c\n",
    "}\n",
    "\n"
   ]
  },
  {
   "cell_type": "code",
   "execution_count": null,
   "id": "43",
   "metadata": {},
   "outputs": [],
   "source": [
    "U0_1/k_BT"
   ]
  },
  {
   "cell_type": "code",
   "execution_count": null,
   "id": "44",
   "metadata": {},
   "outputs": [],
   "source": []
  },
  {
   "cell_type": "code",
   "execution_count": null,
   "id": "45",
   "metadata": {},
   "outputs": [],
   "source": []
  },
  {
   "cell_type": "code",
   "execution_count": null,
   "id": "46",
   "metadata": {},
   "outputs": [],
   "source": [
    "failure_particle_array"
   ]
  },
  {
   "cell_type": "code",
   "execution_count": null,
   "id": "47",
   "metadata": {},
   "outputs": [],
   "source": []
  },
  {
   "cell_type": "code",
   "execution_count": null,
   "id": "48",
   "metadata": {},
   "outputs": [],
   "source": []
  },
  {
   "cell_type": "code",
   "execution_count": null,
   "id": "49",
   "metadata": {},
   "outputs": [],
   "source": []
  }
 ],
 "metadata": {
  "kernelspec": {
   "display_name": "base",
   "language": "python",
   "name": "python3"
  },
  "language_info": {
   "codemirror_mode": {
    "name": "ipython",
    "version": 3
   },
   "file_extension": ".py",
   "mimetype": "text/x-python",
   "name": "python",
   "nbconvert_exporter": "python",
   "pygments_lexer": "ipython3",
   "version": "3.12.2"
  }
 },
 "nbformat": 4,
 "nbformat_minor": 5
}
